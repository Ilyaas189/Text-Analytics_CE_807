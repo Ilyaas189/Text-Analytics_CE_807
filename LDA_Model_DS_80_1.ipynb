{
  "nbformat": 4,
  "nbformat_minor": 0,
  "metadata": {
    "colab": {
      "name": "LDA Model_DS_80_1.ipynb",
      "provenance": [],
      "collapsed_sections": [],
      "include_colab_link": true
    },
    "kernelspec": {
      "name": "python3",
      "display_name": "Python 3"
    },
    "language_info": {
      "name": "python"
    },
    "accelerator": "GPU"
  },
  "cells": [
    {
      "cell_type": "markdown",
      "metadata": {
        "id": "view-in-github",
        "colab_type": "text"
      },
      "source": [
        "<a href=\"https://colab.research.google.com/github/Ilyaas189/Text-Analytics_CE_807/blob/main/LDA_Model_DS_80_1.ipynb\" target=\"_parent\"><img src=\"https://colab.research.google.com/assets/colab-badge.svg\" alt=\"Open In Colab\"/></a>"
      ]
    },
    {
      "cell_type": "code",
      "metadata": {
        "colab": {
          "resources": {
            "http://localhost:8080/nbextensions/google.colab/files.js": {
              "data": "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",
              "ok": true,
              "headers": [
                [
                  "content-type",
                  "application/javascript"
                ]
              ],
              "status": 200,
              "status_text": ""
            }
          },
          "base_uri": "https://localhost:8080/",
          "height": 37
        },
        "id": "h48neXM-ANwE",
        "outputId": "82526e73-1d16-49b8-d03d-1a53323abc63"
      },
      "source": [
        "import pandas as pd\n",
        "import numpy as np\n",
        "import matplotlib.pyplot as plt\n",
        "import warnings\n",
        "from google.colab import files\n",
        "from sklearn.naive_bayes import MultinomialNB\n",
        "from sklearn.naive_bayes import BernoulliNB\n",
        "from sklearn.pipeline import Pipeline\n",
        "from sklearn.feature_extraction.text import TfidfVectorizer\n",
        "from sklearn.feature_extraction.text import TfidfTransformer\n",
        "from sklearn.linear_model import SGDClassifier\n",
        "from sklearn.linear_model import LogisticRegression\n",
        "from nltk.stem.snowball import SnowballStemmer\n",
        "from sklearn.neighbors import KNeighborsClassifier\n",
        "from sklearn.ensemble import RandomForestClassifier\n",
        "import numpy as np\n",
        "import re\n",
        "\n",
        "\n",
        "import matplotlib.pyplot as plt\n",
        "%matplotlib inline\n",
        "\n",
        "import nltk\n",
        "import random\n",
        "uploaded = files.upload()\n",
        "files = list(uploaded.keys())\n"
      ],
      "execution_count": 1,
      "outputs": [
        {
          "output_type": "display_data",
          "data": {
            "text/html": [
              "\n",
              "     <input type=\"file\" id=\"files-d2f7c065-d999-462c-bb6a-6ecf65e55071\" name=\"files[]\" multiple disabled\n",
              "        style=\"border:none\" />\n",
              "     <output id=\"result-d2f7c065-d999-462c-bb6a-6ecf65e55071\">\n",
              "      Upload widget is only available when the cell has been executed in the\n",
              "      current browser session. Please rerun this cell to enable.\n",
              "      </output>\n",
              "      <script src=\"/nbextensions/google.colab/files.js\"></script> "
            ],
            "text/plain": [
              "<IPython.core.display.HTML object>"
            ]
          },
          "metadata": {
            "tags": []
          }
        }
      ]
    },
    {
      "cell_type": "code",
      "metadata": {
        "colab": {
          "base_uri": "https://localhost:8080/"
        },
        "id": "qcrJU_pzAhOm",
        "outputId": "47610d33-b5aa-4b7e-e59a-db69fad1bdb6"
      },
      "source": [
        "# Import Dataset\n",
        "data = pd.read_json('https://raw.githubusercontent.com/selva86/datasets/master/newsgroups.json')\n",
        "print(data.target_names.unique())"
      ],
      "execution_count": 2,
      "outputs": [
        {
          "output_type": "stream",
          "text": [
            "['rec.autos' 'comp.sys.mac.hardware' 'comp.graphics' 'sci.space'\n",
            " 'talk.politics.guns' 'sci.med' 'comp.sys.ibm.pc.hardware'\n",
            " 'comp.os.ms-windows.misc' 'rec.motorcycles' 'talk.religion.misc'\n",
            " 'misc.forsale' 'alt.atheism' 'sci.electronics' 'comp.windows.x'\n",
            " 'rec.sport.hockey' 'rec.sport.baseball' 'soc.religion.christian'\n",
            " 'talk.politics.mideast' 'talk.politics.misc' 'sci.crypt']\n"
          ],
          "name": "stdout"
        }
      ]
    },
    {
      "cell_type": "code",
      "metadata": {
        "colab": {
          "base_uri": "https://localhost:8080/",
          "height": 648
        },
        "id": "SnGiNUYGAtLQ",
        "outputId": "bfcb3ad8-f74d-4e07-bfa1-574a31edfcc5"
      },
      "source": [
        "data.head(20)"
      ],
      "execution_count": 3,
      "outputs": [
        {
          "output_type": "execute_result",
          "data": {
            "text/html": [
              "<div>\n",
              "<style scoped>\n",
              "    .dataframe tbody tr th:only-of-type {\n",
              "        vertical-align: middle;\n",
              "    }\n",
              "\n",
              "    .dataframe tbody tr th {\n",
              "        vertical-align: top;\n",
              "    }\n",
              "\n",
              "    .dataframe thead th {\n",
              "        text-align: right;\n",
              "    }\n",
              "</style>\n",
              "<table border=\"1\" class=\"dataframe\">\n",
              "  <thead>\n",
              "    <tr style=\"text-align: right;\">\n",
              "      <th></th>\n",
              "      <th>content</th>\n",
              "      <th>target</th>\n",
              "      <th>target_names</th>\n",
              "    </tr>\n",
              "  </thead>\n",
              "  <tbody>\n",
              "    <tr>\n",
              "      <th>0</th>\n",
              "      <td>From: lerxst@wam.umd.edu (where's my thing)\\nS...</td>\n",
              "      <td>7</td>\n",
              "      <td>rec.autos</td>\n",
              "    </tr>\n",
              "    <tr>\n",
              "      <th>1</th>\n",
              "      <td>From: guykuo@carson.u.washington.edu (Guy Kuo)...</td>\n",
              "      <td>4</td>\n",
              "      <td>comp.sys.mac.hardware</td>\n",
              "    </tr>\n",
              "    <tr>\n",
              "      <th>2</th>\n",
              "      <td>From: twillis@ec.ecn.purdue.edu (Thomas E Will...</td>\n",
              "      <td>4</td>\n",
              "      <td>comp.sys.mac.hardware</td>\n",
              "    </tr>\n",
              "    <tr>\n",
              "      <th>3</th>\n",
              "      <td>From: jgreen@amber (Joe Green)\\nSubject: Re: W...</td>\n",
              "      <td>1</td>\n",
              "      <td>comp.graphics</td>\n",
              "    </tr>\n",
              "    <tr>\n",
              "      <th>4</th>\n",
              "      <td>From: jcm@head-cfa.harvard.edu (Jonathan McDow...</td>\n",
              "      <td>14</td>\n",
              "      <td>sci.space</td>\n",
              "    </tr>\n",
              "    <tr>\n",
              "      <th>5</th>\n",
              "      <td>From: dfo@vttoulu.tko.vtt.fi (Foxvog Douglas)\\...</td>\n",
              "      <td>16</td>\n",
              "      <td>talk.politics.guns</td>\n",
              "    </tr>\n",
              "    <tr>\n",
              "      <th>6</th>\n",
              "      <td>From: bmdelane@quads.uchicago.edu (brian manni...</td>\n",
              "      <td>13</td>\n",
              "      <td>sci.med</td>\n",
              "    </tr>\n",
              "    <tr>\n",
              "      <th>7</th>\n",
              "      <td>From: bgrubb@dante.nmsu.edu (GRUBB)\\nSubject: ...</td>\n",
              "      <td>3</td>\n",
              "      <td>comp.sys.ibm.pc.hardware</td>\n",
              "    </tr>\n",
              "    <tr>\n",
              "      <th>8</th>\n",
              "      <td>From: holmes7000@iscsvax.uni.edu\\nSubject: WIn...</td>\n",
              "      <td>2</td>\n",
              "      <td>comp.os.ms-windows.misc</td>\n",
              "    </tr>\n",
              "    <tr>\n",
              "      <th>9</th>\n",
              "      <td>From: kerr@ux1.cso.uiuc.edu (Stan Kerr)\\nSubje...</td>\n",
              "      <td>4</td>\n",
              "      <td>comp.sys.mac.hardware</td>\n",
              "    </tr>\n",
              "    <tr>\n",
              "      <th>10</th>\n",
              "      <td>From: irwin@cmptrc.lonestar.org (Irwin Arnstei...</td>\n",
              "      <td>8</td>\n",
              "      <td>rec.motorcycles</td>\n",
              "    </tr>\n",
              "    <tr>\n",
              "      <th>11</th>\n",
              "      <td>From: david@terminus.ericsson.se (David Bold)\\...</td>\n",
              "      <td>19</td>\n",
              "      <td>talk.religion.misc</td>\n",
              "    </tr>\n",
              "    <tr>\n",
              "      <th>12</th>\n",
              "      <td>From: rodc@fc.hp.com (Rod Cerkoney)\\nSubject: ...</td>\n",
              "      <td>4</td>\n",
              "      <td>comp.sys.mac.hardware</td>\n",
              "    </tr>\n",
              "    <tr>\n",
              "      <th>13</th>\n",
              "      <td>From: dbm0000@tm0006.lerc.nasa.gov (David B. M...</td>\n",
              "      <td>14</td>\n",
              "      <td>sci.space</td>\n",
              "    </tr>\n",
              "    <tr>\n",
              "      <th>14</th>\n",
              "      <td>From: jllee@acsu.buffalo.edu (Johnny L Lee)\\nS...</td>\n",
              "      <td>6</td>\n",
              "      <td>misc.forsale</td>\n",
              "    </tr>\n",
              "    <tr>\n",
              "      <th>15</th>\n",
              "      <td>From: mathew &lt;mathew@mantis.co.uk&gt;\\nSubject: R...</td>\n",
              "      <td>0</td>\n",
              "      <td>alt.atheism</td>\n",
              "    </tr>\n",
              "    <tr>\n",
              "      <th>16</th>\n",
              "      <td>From: ab@nova.cc.purdue.edu (Allen B)\\nSubject...</td>\n",
              "      <td>1</td>\n",
              "      <td>comp.graphics</td>\n",
              "    </tr>\n",
              "    <tr>\n",
              "      <th>17</th>\n",
              "      <td>From: CPKJP@vm.cc.latech.edu (Kevin Parker)\\nS...</td>\n",
              "      <td>7</td>\n",
              "      <td>rec.autos</td>\n",
              "    </tr>\n",
              "    <tr>\n",
              "      <th>18</th>\n",
              "      <td>From: ritley@uimrl7.mrl.uiuc.edu ()\\nSubject: ...</td>\n",
              "      <td>12</td>\n",
              "      <td>sci.electronics</td>\n",
              "    </tr>\n",
              "    <tr>\n",
              "      <th>19</th>\n",
              "      <td>From: abarden@tybse1.uucp (Ann Marie Barden)\\n...</td>\n",
              "      <td>5</td>\n",
              "      <td>comp.windows.x</td>\n",
              "    </tr>\n",
              "  </tbody>\n",
              "</table>\n",
              "</div>"
            ],
            "text/plain": [
              "                                              content  ...              target_names\n",
              "0   From: lerxst@wam.umd.edu (where's my thing)\\nS...  ...                 rec.autos\n",
              "1   From: guykuo@carson.u.washington.edu (Guy Kuo)...  ...     comp.sys.mac.hardware\n",
              "2   From: twillis@ec.ecn.purdue.edu (Thomas E Will...  ...     comp.sys.mac.hardware\n",
              "3   From: jgreen@amber (Joe Green)\\nSubject: Re: W...  ...             comp.graphics\n",
              "4   From: jcm@head-cfa.harvard.edu (Jonathan McDow...  ...                 sci.space\n",
              "5   From: dfo@vttoulu.tko.vtt.fi (Foxvog Douglas)\\...  ...        talk.politics.guns\n",
              "6   From: bmdelane@quads.uchicago.edu (brian manni...  ...                   sci.med\n",
              "7   From: bgrubb@dante.nmsu.edu (GRUBB)\\nSubject: ...  ...  comp.sys.ibm.pc.hardware\n",
              "8   From: holmes7000@iscsvax.uni.edu\\nSubject: WIn...  ...   comp.os.ms-windows.misc\n",
              "9   From: kerr@ux1.cso.uiuc.edu (Stan Kerr)\\nSubje...  ...     comp.sys.mac.hardware\n",
              "10  From: irwin@cmptrc.lonestar.org (Irwin Arnstei...  ...           rec.motorcycles\n",
              "11  From: david@terminus.ericsson.se (David Bold)\\...  ...        talk.religion.misc\n",
              "12  From: rodc@fc.hp.com (Rod Cerkoney)\\nSubject: ...  ...     comp.sys.mac.hardware\n",
              "13  From: dbm0000@tm0006.lerc.nasa.gov (David B. M...  ...                 sci.space\n",
              "14  From: jllee@acsu.buffalo.edu (Johnny L Lee)\\nS...  ...              misc.forsale\n",
              "15  From: mathew <mathew@mantis.co.uk>\\nSubject: R...  ...               alt.atheism\n",
              "16  From: ab@nova.cc.purdue.edu (Allen B)\\nSubject...  ...             comp.graphics\n",
              "17  From: CPKJP@vm.cc.latech.edu (Kevin Parker)\\nS...  ...                 rec.autos\n",
              "18  From: ritley@uimrl7.mrl.uiuc.edu ()\\nSubject: ...  ...           sci.electronics\n",
              "19  From: abarden@tybse1.uucp (Ann Marie Barden)\\n...  ...            comp.windows.x\n",
              "\n",
              "[20 rows x 3 columns]"
            ]
          },
          "metadata": {
            "tags": []
          },
          "execution_count": 3
        }
      ]
    },
    {
      "cell_type": "code",
      "metadata": {
        "colab": {
          "base_uri": "https://localhost:8080/"
        },
        "id": "i1t4Hd65BKo4",
        "outputId": "54f4d237-c35b-4bf1-b606-608d9f08eccb"
      },
      "source": [
        "data_clusterization = data[['content', 'target_names']]\n",
        "data_clusterization.dropna(inplace=True)"
      ],
      "execution_count": 4,
      "outputs": [
        {
          "output_type": "stream",
          "text": [
            "/usr/local/lib/python3.7/dist-packages/ipykernel_launcher.py:2: SettingWithCopyWarning: \n",
            "A value is trying to be set on a copy of a slice from a DataFrame\n",
            "\n",
            "See the caveats in the documentation: https://pandas.pydata.org/pandas-docs/stable/user_guide/indexing.html#returning-a-view-versus-a-copy\n",
            "  \n"
          ],
          "name": "stderr"
        }
      ]
    },
    {
      "cell_type": "code",
      "metadata": {
        "colab": {
          "base_uri": "https://localhost:8080/",
          "height": 108
        },
        "id": "0xRJ8_03Bd1W",
        "outputId": "a8ee72e8-ee48-436c-8372-387b95ea6c1f"
      },
      "source": [
        "data_clusterization.head(2)\n"
      ],
      "execution_count": 5,
      "outputs": [
        {
          "output_type": "execute_result",
          "data": {
            "text/html": [
              "<div>\n",
              "<style scoped>\n",
              "    .dataframe tbody tr th:only-of-type {\n",
              "        vertical-align: middle;\n",
              "    }\n",
              "\n",
              "    .dataframe tbody tr th {\n",
              "        vertical-align: top;\n",
              "    }\n",
              "\n",
              "    .dataframe thead th {\n",
              "        text-align: right;\n",
              "    }\n",
              "</style>\n",
              "<table border=\"1\" class=\"dataframe\">\n",
              "  <thead>\n",
              "    <tr style=\"text-align: right;\">\n",
              "      <th></th>\n",
              "      <th>content</th>\n",
              "      <th>target_names</th>\n",
              "    </tr>\n",
              "  </thead>\n",
              "  <tbody>\n",
              "    <tr>\n",
              "      <th>0</th>\n",
              "      <td>From: lerxst@wam.umd.edu (where's my thing)\\nS...</td>\n",
              "      <td>rec.autos</td>\n",
              "    </tr>\n",
              "    <tr>\n",
              "      <th>1</th>\n",
              "      <td>From: guykuo@carson.u.washington.edu (Guy Kuo)...</td>\n",
              "      <td>comp.sys.mac.hardware</td>\n",
              "    </tr>\n",
              "  </tbody>\n",
              "</table>\n",
              "</div>"
            ],
            "text/plain": [
              "                                             content           target_names\n",
              "0  From: lerxst@wam.umd.edu (where's my thing)\\nS...              rec.autos\n",
              "1  From: guykuo@carson.u.washington.edu (Guy Kuo)...  comp.sys.mac.hardware"
            ]
          },
          "metadata": {
            "tags": []
          },
          "execution_count": 5
        }
      ]
    },
    {
      "cell_type": "code",
      "metadata": {
        "colab": {
          "base_uri": "https://localhost:8080/"
        },
        "id": "0iUh1DoLBmXP",
        "outputId": "d67cf264-2526-4085-f51e-150c0c295c52"
      },
      "source": [
        "import gensim\n",
        "from gensim.utils import simple_preprocess\n",
        "from gensim.parsing.preprocessing import STOPWORDS\n",
        "from nltk.stem import WordNetLemmatizer, SnowballStemmer\n",
        "from nltk.stem.porter import *\n",
        "import numpy as np\n",
        "np.random.seed(2018)\n",
        "import nltk\n",
        "nltk.download('wordnet')"
      ],
      "execution_count": 6,
      "outputs": [
        {
          "output_type": "stream",
          "text": [
            "[nltk_data] Downloading package wordnet to /root/nltk_data...\n",
            "[nltk_data]   Unzipping corpora/wordnet.zip.\n"
          ],
          "name": "stdout"
        },
        {
          "output_type": "execute_result",
          "data": {
            "text/plain": [
              "True"
            ]
          },
          "metadata": {
            "tags": []
          },
          "execution_count": 6
        }
      ]
    },
    {
      "cell_type": "code",
      "metadata": {
        "id": "s7hwfWd1Bw8S"
      },
      "source": [
        "def lemmatize_stemming(text):\n",
        " stemmer = SnowballStemmer(language='english')\n",
        " return stemmer.stem(WordNetLemmatizer().lemmatize(text, pos='v'))\n",
        "def preprocess(text):\n",
        " result = []\n",
        " for token in gensim.utils.simple_preprocess(text):\n",
        "   if token not in gensim.parsing.preprocessing.STOPWORDS and len(token) > 3:\n",
        "     result.append(lemmatize_stemming(token))\n",
        " return result"
      ],
      "execution_count": 7,
      "outputs": []
    },
    {
      "cell_type": "code",
      "metadata": {
        "id": "iJfVX8biB_Sa"
      },
      "source": [
        "processed_docs = data_clusterization['content'].map(preprocess)\n",
        "data_processed = processed_docs.to_frame()\n",
        "data_processed['content'] = data_processed.content.apply(lambda x: ' '.join(x))\n"
      ],
      "execution_count": 8,
      "outputs": []
    },
    {
      "cell_type": "code",
      "metadata": {
        "colab": {
          "base_uri": "https://localhost:8080/"
        },
        "id": "gCHPTBYJClMy",
        "outputId": "3339fad6-6ea4-4b77-cbd4-28a3da1d7504"
      },
      "source": [
        "!pip install tokenize_uk\n",
        "from collections import Counter\n",
        "from tokenize_uk.tokenize_uk import tokenize_words"
      ],
      "execution_count": 9,
      "outputs": [
        {
          "output_type": "stream",
          "text": [
            "Collecting tokenize_uk\n",
            "  Downloading https://files.pythonhosted.org/packages/ac/21/72abb0304b532e1b2d2473b50d8063ddd0943e3b3fe7e86b366bc4d02aa2/tokenize_uk-0.2.0.tar.gz\n",
            "Requirement already satisfied: six in /usr/local/lib/python3.7/dist-packages (from tokenize_uk) (1.15.0)\n",
            "Building wheels for collected packages: tokenize-uk\n",
            "  Building wheel for tokenize-uk (setup.py) ... \u001b[?25l\u001b[?25hdone\n",
            "  Created wheel for tokenize-uk: filename=tokenize_uk-0.2.0-py2.py3-none-any.whl size=4565 sha256=cf099857ffd556b7f8aceb88511890741514070d427549c702c4ef1cf0e2ebf7\n",
            "  Stored in directory: /root/.cache/pip/wheels/2c/e1/95/fd8af5b40aeebdc4e178974e7f638f5553aa8772117054db9e\n",
            "Successfully built tokenize-uk\n",
            "Installing collected packages: tokenize-uk\n",
            "Successfully installed tokenize-uk-0.2.0\n"
          ],
          "name": "stdout"
        }
      ]
    },
    {
      "cell_type": "code",
      "metadata": {
        "colab": {
          "base_uri": "https://localhost:8080/",
          "height": 363
        },
        "id": "94mq8WUoCqHq",
        "outputId": "9419c187-b063-4dfd-e436-b14751a35f59"
      },
      "source": [
        "def display_words(data, title, ax):\n",
        " count = Counter(sum(map(lambda text: tokenize_words(text), data), []))\n",
        " popular = np.array(sorted(count.items(), key=lambda x: x[1], reverse=True)[:20])\n",
        " plt.sca(ax)\n",
        " plt.title(title)\n",
        " plt.bar(popular[:,0], np.int32(popular[:,1]))\n",
        " plt.xticks(rotation=\"vertical\")\n",
        "fig, ax = plt.subplots(figsize=(16, 5))\n",
        "display_words(data_processed.sample(1000).content, \"The most popular words]\", ax)"
      ],
      "execution_count": 10,
      "outputs": [
        {
          "output_type": "display_data",
          "data": {
            "image/png": "[encoded data removed]",
            "text/plain": [
              "<Figure size 1152x360 with 1 Axes>"
            ]
          },
          "metadata": {
            "tags": [],
            "needs_background": "light"
          }
        }
      ]
    },
    {
      "cell_type": "code",
      "metadata": {
        "id": "UCM4qevNC5Ty"
      },
      "source": [
        "from sklearn.feature_extraction.text import CountVectorizer"
      ],
      "execution_count": 11,
      "outputs": []
    },
    {
      "cell_type": "code",
      "metadata": {
        "colab": {
          "base_uri": "https://localhost:8080/"
        },
        "id": "NMnRgz3aC8f5",
        "outputId": "d13935df-900a-4b8b-9a23-ea50669a51df"
      },
      "source": [
        "count_vectorizer = CountVectorizer()\n",
        "count_data = count_vectorizer.fit_transform(data_processed['content'])\n",
        "count_data"
      ],
      "execution_count": 12,
      "outputs": [
        {
          "output_type": "execute_result",
          "data": {
            "text/plain": [
              "<11314x61410 sparse matrix of type '<class 'numpy.int64'>'\n",
              "\twith 934270 stored elements in Compressed Sparse Row format>"
            ]
          },
          "metadata": {
            "tags": []
          },
          "execution_count": 12
        }
      ]
    },
    {
      "cell_type": "code",
      "metadata": {
        "id": "6TmSX73jDEJS"
      },
      "source": [
        "likelihood = []\n",
        "n_clusters = []"
      ],
      "execution_count": 13,
      "outputs": []
    },
    {
      "cell_type": "code",
      "metadata": {
        "id": "z9uTcUJlDHT0"
      },
      "source": [
        "import seaborn as sns\n",
        "from sklearn.decomposition import LatentDirichletAllocation as LDA"
      ],
      "execution_count": 14,
      "outputs": []
    },
    {
      "cell_type": "code",
      "metadata": {
        "id": "Hki6oWR0DLwb"
      },
      "source": [
        "def estimate_number_clusters(data, nclusters):\n",
        " for n in nclusters:\n",
        "   likelihood.append(LDA(n_components=n, n_jobs=-1).fit(data).score(data))\n",
        " n_clusters.append(n)\n",
        " print(\"Sccesfully estimated \", n)\n",
        " fig, ax = plt.subplots(figsize=(15, 5))\n",
        " sns.lineplot(x=n_clusters, y=likelihood, ax=ax)\n",
        " ax.set_title('Elbow method for choosing n, likelihood')\n",
        " ax.set_ylabel('Likelihood')\n",
        " ax.set_xlabel('n')\n",
        "\n",
        "\n"
      ],
      "execution_count": 15,
      "outputs": []
    },
    {
      "cell_type": "code",
      "metadata": {
        "id": "_CBG_y1fJszZ"
      },
      "source": [
        "# estimate_number_clusters(count_data, [10, 15, 20, 50])\n",
        " \n",
        " "
      ],
      "execution_count": 16,
      "outputs": []
    },
    {
      "cell_type": "code",
      "metadata": {
        "id": "_XNMixjQJuYE"
      },
      "source": [
        "def print_topics(model, count_vectorizer, n_top_words):\n",
        "  words = count_vectorizer.get_feature_names()\n",
        "  for topic_idx, topic in enumerate(model.components_):\n",
        "    print(\"\\nTopic #%d:\" % topic_idx)\n",
        "    print(\" \".join([words[i]\n",
        "  for i in topic.argsort()[:-n_top_words - 1:-1]]))"
      ],
      "execution_count": 17,
      "outputs": []
    },
    {
      "cell_type": "code",
      "metadata": {
        "id": "Ugizp_hhFpzm"
      },
      "source": [
        "from sklearn.decomposition import LatentDirichletAllocation as LDA\n"
      ],
      "execution_count": 18,
      "outputs": []
    },
    {
      "cell_type": "code",
      "metadata": {
        "colab": {
          "base_uri": "https://localhost:8080/"
        },
        "id": "oWtTkYX1Ftia",
        "outputId": "73b5d888-42b5-4113-e374-dc2281402465"
      },
      "source": [
        "number_topics = 80\n",
        "number_words = 10\n",
        "# Create and fit the LDA model\n",
        "lda = LDA(n_components=number_topics, n_jobs=-1)\n",
        "lda.fit(count_data)\n",
        "# Print the topics found by the LDA model\n",
        "print(\"Topics found via LDA:\")\n",
        "print_topics(lda, count_vectorizer, number_words)"
      ],
      "execution_count": 19,
      "outputs": [
        {
          "output_type": "stream",
          "text": [
            "Topics found via LDA:\n",
            "\n",
            "Topic #0:\n",
            "line subject organ thank univers post mail host nntp know\n",
            "\n",
            "Topic #1:\n",
            "moral keith object write caltech subject line organ think host\n",
            "\n",
            "Topic #2:\n",
            "wire grind circuit subject outlet connect line need neutral write\n",
            "\n",
            "Topic #3:\n",
            "access digex subject line organ post write convex nntp host\n",
            "\n",
            "Topic #4:\n",
            "encrypt chip clipper secur govern escrow privaci technolog phone key\n",
            "\n",
            "Topic #5:\n",
            "line organ subject write nasa cost softwar articl post nntp\n",
            "\n",
            "Topic #6:\n",
            "line subject organ mous univers post nntp host john articl\n",
            "\n",
            "Topic #7:\n",
            "columbia game line subject organ gari upenn post univers nntp\n",
            "\n",
            "Topic #8:\n",
            "risc write subject line instruct organ articl louisvill hang mean\n",
            "\n",
            "Topic #9:\n",
            "bike like line good subject organ articl write look think\n",
            "\n",
            "Topic #10:\n",
            "line subject organ articl post write david nntp uoknor host\n",
            "\n",
            "Topic #11:\n",
            "write organ subject articl know line david plan gainey henrik\n",
            "\n",
            "Topic #12:\n",
            "subject organ line want like write articl think help time\n",
            "\n",
            "Topic #13:\n",
            "imag jpeg keyboard color file format convert type berkeley version\n",
            "\n",
            "Topic #14:\n",
            "entri number program file chip build serial line need section\n",
            "\n",
            "Topic #15:\n",
            "navi sequenc oasi organ line subject nswc echo host present\n",
            "\n",
            "Topic #16:\n",
            "israel isra arab jew palestinian state write attack articl subject\n",
            "\n",
            "Topic #17:\n",
            "dseg organ line subject pyron skndiv univers articl nntp host\n",
            "\n",
            "Topic #18:\n",
            "speed netcom line subject organ write articl time mitr brian\n",
            "\n",
            "Topic #19:\n",
            "homosexu cramer univers optilink inform nation space clayton center organ\n",
            "\n",
            "Topic #20:\n",
            "hell line organ subject oakland pain vela post write univers\n",
            "\n",
            "Topic #21:\n",
            "write subject articl line organ like dyer think post acceler\n",
            "\n",
            "Topic #22:\n",
            "flyer line hallam soderstrom pictur subject right organ puck sleev\n",
            "\n",
            "Topic #23:\n",
            "pitt bank gordon articl write pittsburgh subject line organ ingr\n",
            "\n",
            "Topic #24:\n",
            "write subject line organ psuvm articl post fido nntp pocket\n",
            "\n",
            "Topic #25:\n",
            "imag file data mail program inform softwar user avail includ\n",
            "\n",
            "Topic #26:\n",
            "right state govern clinton peopl presid constitut think militia organ\n",
            "\n",
            "Topic #27:\n",
            "peopl think right like govern countri person problem time want\n",
            "\n",
            "Topic #28:\n",
            "team play period hockey player goal king power draft edmonton\n",
            "\n",
            "Topic #29:\n",
            "write organ articl line subject rise good holland hulman distribut\n",
            "\n",
            "Topic #30:\n",
            "monitor line subject window organ oracl post nntp host write\n",
            "\n",
            "Topic #31:\n",
            "hockey line organ subject game playoff team leaf univers wing\n",
            "\n",
            "Topic #32:\n",
            "stratus appear write organ articl post subject line nntp copi\n",
            "\n",
            "Topic #33:\n",
            "request list contact version send univers mail program machin avail\n",
            "\n",
            "Topic #34:\n",
            "copi rchz cx_s sehari chzd cx_scx x_scx rlhz chzv zrlk\n",
            "\n",
            "Topic #35:\n",
            "gatech prism harri write subject organ georgia institut line technolog\n",
            "\n",
            "Topic #36:\n",
            "arizona cancer water write line organ smoke subject arbor ranck\n",
            "\n",
            "Topic #37:\n",
            "encrypt public secur ripem cryptographi algorithm cipher messag crypt know\n",
            "\n",
            "Topic #38:\n",
            "write like post organ articl subject line morri smith think\n",
            "\n",
            "Topic #39:\n",
            "buffalo subject organ line write post captain nntp host articl\n",
            "\n",
            "Topic #40:\n",
            "diseas doctor medic patient effect studi treatment caus organ test\n",
            "\n",
            "Topic #41:\n",
            "jesus sandvik austin write utexa kent christ appl christian lord\n",
            "\n",
            "Topic #42:\n",
            "gun file weapon firearm crime control like crimin state handgun\n",
            "\n",
            "Topic #43:\n",
            "line subject write organ articl know point post right udel\n",
            "\n",
            "Topic #44:\n",
            "scsi cool devic chip line power write subject tower time\n",
            "\n",
            "Topic #45:\n",
            "subject line post atheism write organ pope articl univers east\n",
            "\n",
            "Topic #46:\n",
            "line subject organ write post host articl year nntp state\n",
            "\n",
            "Topic #47:\n",
            "sale washington price subject line organ offer ship host distribut\n",
            "\n",
            "Topic #48:\n",
            "andrew line byte subject organ mellon carnegi bit problem pittsburgh\n",
            "\n",
            "Topic #49:\n",
            "scienc radar detector write organ subject scientif articl line think\n",
            "\n",
            "Topic #50:\n",
            "subject line organ freenet carleton packard hewlett write steven brandei\n",
            "\n",
            "Topic #51:\n",
            "line subject post organ host nntp appl printer univers distribut\n",
            "\n",
            "Topic #52:\n",
            "drug philip line informatik subject organ tammi write articl ucar\n",
            "\n",
            "Topic #53:\n",
            "nrhj wwiz gizw bhjn bxom pnei nriz tbxn pmfq wmbxn\n",
            "\n",
            "Topic #54:\n",
            "uchicago organ subject line midway articl chicago univers write like\n",
            "\n",
            "Topic #55:\n",
            "server motif window widget subject applic display client version avail\n",
            "\n",
            "Topic #56:\n",
            "netcom cleveland line organ freenet subject write articl iastat batf\n",
            "\n",
            "Topic #57:\n",
            "presid stephanopoulo work launch know go job say think satellit\n",
            "\n",
            "Topic #58:\n",
            "window file program output line write subject organ char creat\n",
            "\n",
            "Topic #59:\n",
            "insur alaska health write articl aurora sound privat cost nsmca\n",
            "\n",
            "Topic #60:\n",
            "space nasa orbit earth mission launch moon henri shuttl lunar\n",
            "\n",
            "Topic #61:\n",
            "game team year play player season think score good basebal\n",
            "\n",
            "Topic #62:\n",
            "paul jesus christian church sabbath cathol worship ceremoni subject sunday\n",
            "\n",
            "Topic #63:\n",
            "font line subject duke organ post write univers nntp host\n",
            "\n",
            "Topic #64:\n",
            "subject organ line jewish jake boni write articl post opinion\n",
            "\n",
            "Topic #65:\n",
            "line write organ subject post templ articl mark univers nada\n",
            "\n",
            "Topic #66:\n",
            "state ohio magnus articl write organ line subject year good\n",
            "\n",
            "Topic #67:\n",
            "drive disk control problem hard work line port subject organ\n",
            "\n",
            "Topic #68:\n",
            "islam muslim monash good write organ religion line subject rice\n",
            "\n",
            "Topic #69:\n",
            "colorado line subject post organ write host nntp articl boulder\n",
            "\n",
            "Topic #70:\n",
            "say go come know peopl time tell think leav happen\n",
            "\n",
            "Topic #71:\n",
            "cwru organ cleveland western line subject reserv post articl write\n",
            "\n",
            "Topic #72:\n",
            "govern write articl thor organ libertarian peopl steveh regul line\n",
            "\n",
            "Topic #73:\n",
            "line food post subject organ write batteri like articl know\n",
            "\n",
            "Topic #74:\n",
            "armenian turkish turk greek turkey armenia peopl argic serdar genocid\n",
            "\n",
            "Topic #75:\n",
            "weapon weaver firearm hunt miller committe line subject write organ\n",
            "\n",
            "Topic #76:\n",
            "virginia health report articl write organ white medic drug line\n",
            "\n",
            "Topic #77:\n",
            "christian believ think peopl know exist say bibl write mean\n",
            "\n",
            "Topic #78:\n",
            "card driver video mode color window line graphic subject organ\n",
            "\n",
            "Topic #79:\n",
            "indiana ucsc biggest section applic militari silver almanac licens firearm\n"
          ],
          "name": "stdout"
        }
      ]
    },
    {
      "cell_type": "code",
      "metadata": {
        "colab": {
          "base_uri": "https://localhost:8080/",
          "height": 198
        },
        "id": "LrPaQEiuGRt3",
        "outputId": "39936c1d-2336-45f1-ff72-a2803fa7f896"
      },
      "source": [
        "cluster_probabilities = lda.transform(count_data)\n",
        "data_processed['target'] = np.argmax(cluster_probabilities, axis=1)\n",
        "data_processed.head()"
      ],
      "execution_count": 20,
      "outputs": [
        {
          "output_type": "execute_result",
          "data": {
            "text/html": [
              "<div>\n",
              "<style scoped>\n",
              "    .dataframe tbody tr th:only-of-type {\n",
              "        vertical-align: middle;\n",
              "    }\n",
              "\n",
              "    .dataframe tbody tr th {\n",
              "        vertical-align: top;\n",
              "    }\n",
              "\n",
              "    .dataframe thead th {\n",
              "        text-align: right;\n",
              "    }\n",
              "</style>\n",
              "<table border=\"1\" class=\"dataframe\">\n",
              "  <thead>\n",
              "    <tr style=\"text-align: right;\">\n",
              "      <th></th>\n",
              "      <th>content</th>\n",
              "      <th>target</th>\n",
              "    </tr>\n",
              "  </thead>\n",
              "  <tbody>\n",
              "    <tr>\n",
              "      <th>0</th>\n",
              "      <td>lerxst thing subject nntp post host organ univ...</td>\n",
              "      <td>0</td>\n",
              "    </tr>\n",
              "    <tr>\n",
              "      <th>1</th>\n",
              "      <td>guykuo carson washington subject clock poll fi...</td>\n",
              "      <td>30</td>\n",
              "    </tr>\n",
              "    <tr>\n",
              "      <th>2</th>\n",
              "      <td>twilli purdu thoma willi subject question orga...</td>\n",
              "      <td>51</td>\n",
              "    </tr>\n",
              "    <tr>\n",
              "      <th>3</th>\n",
              "      <td>jgreen amber green subject weitek organ harri ...</td>\n",
              "      <td>18</td>\n",
              "    </tr>\n",
              "    <tr>\n",
              "      <th>4</th>\n",
              "      <td>head harvard jonathan mcdowel subject shuttl l...</td>\n",
              "      <td>5</td>\n",
              "    </tr>\n",
              "  </tbody>\n",
              "</table>\n",
              "</div>"
            ],
            "text/plain": [
              "                                             content  target\n",
              "0  lerxst thing subject nntp post host organ univ...       0\n",
              "1  guykuo carson washington subject clock poll fi...      30\n",
              "2  twilli purdu thoma willi subject question orga...      51\n",
              "3  jgreen amber green subject weitek organ harri ...      18\n",
              "4  head harvard jonathan mcdowel subject shuttl l...       5"
            ]
          },
          "metadata": {
            "tags": []
          },
          "execution_count": 20
        }
      ]
    },
    {
      "cell_type": "code",
      "metadata": {
        "id": "oJNJOHB9GkKP"
      },
      "source": [
        "import seaborn as sns\n"
      ],
      "execution_count": 21,
      "outputs": []
    },
    {
      "cell_type": "code",
      "metadata": {
        "colab": {
          "base_uri": "https://localhost:8080/",
          "height": 595
        },
        "id": "At3W9AMVGnga",
        "outputId": "de9c2d9e-c4b4-4a62-d94e-78faa868852b"
      },
      "source": [
        "fig, ax = plt.subplots(figsize=(20, 10))\n",
        "sns.countplot(x=data_processed.target);\n",
        "ax.set_title(\"Number of articles that correspond to the topic\");\n"
      ],
      "execution_count": 22,
      "outputs": [
        {
          "output_type": "display_data",
          "data": {
            "image/png": "[encoded data removed]",
            "text/plain": [
              "<Figure size 1440x720 with 1 Axes>"
            ]
          },
          "metadata": {
            "tags": [],
            "needs_background": "light"
          }
        }
      ]
    },
    {
      "cell_type": "code",
      "metadata": {
        "id": "kJ07JMrCRAYx",
        "colab": {
          "base_uri": "https://localhost:8080/"
        },
        "outputId": "4b09cc3f-06bc-42e7-a6af-90ae787f2600"
      },
      "source": [
        "#Loading the data set - training data.\n",
        "from sklearn.datasets import fetch_20newsgroups\n",
        "mydata_train = fetch_20newsgroups(subset='train', shuffle=True, remove = ('headers', 'footers', 'quotes'))"
      ],
      "execution_count": 23,
      "outputs": [
        {
          "output_type": "stream",
          "text": [
            "Downloading 20news dataset. This may take a few minutes.\n",
            "Downloading dataset from https://ndownloader.figshare.com/files/5975967 (14 MB)\n"
          ],
          "name": "stderr"
        }
      ]
    },
    {
      "cell_type": "code",
      "metadata": {
        "colab": {
          "base_uri": "https://localhost:8080/"
        },
        "id": "Bpyae_wBRHIU",
        "outputId": "ad2d28d8-10b7-4753-bb0f-2f6080a4e034"
      },
      "source": [
        "list(mydata_train)\n"
      ],
      "execution_count": 24,
      "outputs": [
        {
          "output_type": "execute_result",
          "data": {
            "text/plain": [
              "['data', 'filenames', 'target_names', 'target', 'DESCR']"
            ]
          },
          "metadata": {
            "tags": []
          },
          "execution_count": 24
        }
      ]
    },
    {
      "cell_type": "code",
      "metadata": {
        "colab": {
          "base_uri": "https://localhost:8080/"
        },
        "id": "WsmrhUPeRJ9l",
        "outputId": "7384ee19-c2b2-4bb3-bcf4-51020e4a9ae6"
      },
      "source": [
        "print('Training data size:', len(mydata_train['data']))\n"
      ],
      "execution_count": 25,
      "outputs": [
        {
          "output_type": "stream",
          "text": [
            "Training data size: 11314\n"
          ],
          "name": "stdout"
        }
      ]
    },
    {
      "cell_type": "code",
      "metadata": {
        "colab": {
          "base_uri": "https://localhost:8080/"
        },
        "id": "Nv1WrOdSRONT",
        "outputId": "d419111b-2722-4d47-8534-1c72467913a3"
      },
      "source": [
        "# Printing all the categories\n",
        "mydata_train.target_names"
      ],
      "execution_count": 26,
      "outputs": [
        {
          "output_type": "execute_result",
          "data": {
            "text/plain": [
              "['alt.atheism',\n",
              " 'comp.graphics',\n",
              " 'comp.os.ms-windows.misc',\n",
              " 'comp.sys.ibm.pc.hardware',\n",
              " 'comp.sys.mac.hardware',\n",
              " 'comp.windows.x',\n",
              " 'misc.forsale',\n",
              " 'rec.autos',\n",
              " 'rec.motorcycles',\n",
              " 'rec.sport.baseball',\n",
              " 'rec.sport.hockey',\n",
              " 'sci.crypt',\n",
              " 'sci.electronics',\n",
              " 'sci.med',\n",
              " 'sci.space',\n",
              " 'soc.religion.christian',\n",
              " 'talk.politics.guns',\n",
              " 'talk.politics.mideast',\n",
              " 'talk.politics.misc',\n",
              " 'talk.religion.misc']"
            ]
          },
          "metadata": {
            "tags": []
          },
          "execution_count": 26
        }
      ]
    },
    {
      "cell_type": "code",
      "metadata": {
        "colab": {
          "base_uri": "https://localhost:8080/"
        },
        "id": "krZedPVlRRxL",
        "outputId": "76299e50-a23f-42b1-97d2-12a240983857"
      },
      "source": [
        "\n",
        "# Finding frequency of each category\n",
        "targets, frequency = np.unique(mydata_train.target, return_counts=True)\n",
        "targets, frequency"
      ],
      "execution_count": 27,
      "outputs": [
        {
          "output_type": "execute_result",
          "data": {
            "text/plain": [
              "(array([ 0,  1,  2,  3,  4,  5,  6,  7,  8,  9, 10, 11, 12, 13, 14, 15, 16,\n",
              "        17, 18, 19]),\n",
              " array([480, 584, 591, 590, 578, 593, 585, 594, 598, 597, 600, 595, 591,\n",
              "        594, 593, 599, 546, 564, 465, 377]))"
            ]
          },
          "metadata": {
            "tags": []
          },
          "execution_count": 27
        }
      ]
    },
    {
      "cell_type": "code",
      "metadata": {
        "colab": {
          "base_uri": "https://localhost:8080/"
        },
        "id": "lSr8qhRVRWTb",
        "outputId": "5caf507d-ea63-443d-d9e9-81a19932c32b"
      },
      "source": [
        "targets_str = np.array(mydata_train.target_names)\n",
        "print(list(zip(targets_str, frequency)))"
      ],
      "execution_count": 28,
      "outputs": [
        {
          "output_type": "stream",
          "text": [
            "[('alt.atheism', 480), ('comp.graphics', 584), ('comp.os.ms-windows.misc', 591), ('comp.sys.ibm.pc.hardware', 590), ('comp.sys.mac.hardware', 578), ('comp.windows.x', 593), ('misc.forsale', 585), ('rec.autos', 594), ('rec.motorcycles', 598), ('rec.sport.baseball', 597), ('rec.sport.hockey', 600), ('sci.crypt', 595), ('sci.electronics', 591), ('sci.med', 594), ('sci.space', 593), ('soc.religion.christian', 599), ('talk.politics.guns', 546), ('talk.politics.mideast', 564), ('talk.politics.misc', 465), ('talk.religion.misc', 377)]\n"
          ],
          "name": "stdout"
        }
      ]
    },
    {
      "cell_type": "code",
      "metadata": {
        "id": "1pZ_KnVPRZSm"
      },
      "source": [
        "mydata_test = fetch_20newsgroups(subset='test', shuffle=True, remove = ('headers', 'footers', 'quotes'))\n"
      ],
      "execution_count": 29,
      "outputs": []
    },
    {
      "cell_type": "code",
      "metadata": {
        "colab": {
          "base_uri": "https://localhost:8080/"
        },
        "id": "IEcSYoJmRcUc",
        "outputId": "1509ac46-4623-4f69-ac1e-4da6066a6450"
      },
      "source": [
        "print('Testing data size:', len(mydata_test['data']))\n"
      ],
      "execution_count": 30,
      "outputs": [
        {
          "output_type": "stream",
          "text": [
            "Testing data size: 7532\n"
          ],
          "name": "stdout"
        }
      ]
    },
    {
      "cell_type": "code",
      "metadata": {
        "colab": {
          "base_uri": "https://localhost:8080/",
          "height": 198
        },
        "id": "_aSKch0QRf_o",
        "outputId": "31d847de-0773-4f29-837e-3948db5621bb"
      },
      "source": [
        "mydata_train_df = pd.DataFrame({'data': mydata_train.data, 'target': mydata_train.target})\n",
        "mydata_train_df.head()"
      ],
      "execution_count": 31,
      "outputs": [
        {
          "output_type": "execute_result",
          "data": {
            "text/html": [
              "<div>\n",
              "<style scoped>\n",
              "    .dataframe tbody tr th:only-of-type {\n",
              "        vertical-align: middle;\n",
              "    }\n",
              "\n",
              "    .dataframe tbody tr th {\n",
              "        vertical-align: top;\n",
              "    }\n",
              "\n",
              "    .dataframe thead th {\n",
              "        text-align: right;\n",
              "    }\n",
              "</style>\n",
              "<table border=\"1\" class=\"dataframe\">\n",
              "  <thead>\n",
              "    <tr style=\"text-align: right;\">\n",
              "      <th></th>\n",
              "      <th>data</th>\n",
              "      <th>target</th>\n",
              "    </tr>\n",
              "  </thead>\n",
              "  <tbody>\n",
              "    <tr>\n",
              "      <th>0</th>\n",
              "      <td>I was wondering if anyone out there could enli...</td>\n",
              "      <td>7</td>\n",
              "    </tr>\n",
              "    <tr>\n",
              "      <th>1</th>\n",
              "      <td>A fair number of brave souls who upgraded thei...</td>\n",
              "      <td>4</td>\n",
              "    </tr>\n",
              "    <tr>\n",
              "      <th>2</th>\n",
              "      <td>well folks, my mac plus finally gave up the gh...</td>\n",
              "      <td>4</td>\n",
              "    </tr>\n",
              "    <tr>\n",
              "      <th>3</th>\n",
              "      <td>\\nDo you have Weitek's address/phone number?  ...</td>\n",
              "      <td>1</td>\n",
              "    </tr>\n",
              "    <tr>\n",
              "      <th>4</th>\n",
              "      <td>From article &lt;C5owCB.n3p@world.std.com&gt;, by to...</td>\n",
              "      <td>14</td>\n",
              "    </tr>\n",
              "  </tbody>\n",
              "</table>\n",
              "</div>"
            ],
            "text/plain": [
              "                                                data  target\n",
              "0  I was wondering if anyone out there could enli...       7\n",
              "1  A fair number of brave souls who upgraded thei...       4\n",
              "2  well folks, my mac plus finally gave up the gh...       4\n",
              "3  \\nDo you have Weitek's address/phone number?  ...       1\n",
              "4  From article <C5owCB.n3p@world.std.com>, by to...      14"
            ]
          },
          "metadata": {
            "tags": []
          },
          "execution_count": 31
        }
      ]
    },
    {
      "cell_type": "code",
      "metadata": {
        "colab": {
          "base_uri": "https://localhost:8080/",
          "height": 198
        },
        "id": "ttru-cT7Rj9K",
        "outputId": "db1200a2-3b66-4867-99d3-9523855dfa82"
      },
      "source": [
        "# Text preprocessing steps - remove numbers, captial letters and punctuation\n",
        "import re\n",
        "import string\n",
        "\n",
        "alphanumeric = lambda x: re.sub(r\"\"\"\\w*\\d\\w*\"\"\", ' ', x)\n",
        "punc_lower = lambda x: re.sub('[%s]' % re.escape(string.punctuation), ' ', x.lower())\n",
        "\n",
        "mydata_train_df['data'] = mydata_train_df.data.map(alphanumeric).map(punc_lower)\n",
        "mydata_train_df.head()"
      ],
      "execution_count": 32,
      "outputs": [
        {
          "output_type": "execute_result",
          "data": {
            "text/html": [
              "<div>\n",
              "<style scoped>\n",
              "    .dataframe tbody tr th:only-of-type {\n",
              "        vertical-align: middle;\n",
              "    }\n",
              "\n",
              "    .dataframe tbody tr th {\n",
              "        vertical-align: top;\n",
              "    }\n",
              "\n",
              "    .dataframe thead th {\n",
              "        text-align: right;\n",
              "    }\n",
              "</style>\n",
              "<table border=\"1\" class=\"dataframe\">\n",
              "  <thead>\n",
              "    <tr style=\"text-align: right;\">\n",
              "      <th></th>\n",
              "      <th>data</th>\n",
              "      <th>target</th>\n",
              "    </tr>\n",
              "  </thead>\n",
              "  <tbody>\n",
              "    <tr>\n",
              "      <th>0</th>\n",
              "      <td>i was wondering if anyone out there could enli...</td>\n",
              "      <td>7</td>\n",
              "    </tr>\n",
              "    <tr>\n",
              "      <th>1</th>\n",
              "      <td>a fair number of brave souls who upgraded thei...</td>\n",
              "      <td>4</td>\n",
              "    </tr>\n",
              "    <tr>\n",
              "      <th>2</th>\n",
              "      <td>well folks  my mac plus finally gave up the gh...</td>\n",
              "      <td>4</td>\n",
              "    </tr>\n",
              "    <tr>\n",
              "      <th>3</th>\n",
              "      <td>\\ndo you have weitek s address phone number   ...</td>\n",
              "      <td>1</td>\n",
              "    </tr>\n",
              "    <tr>\n",
              "      <th>4</th>\n",
              "      <td>from article      world std com   by tombaker ...</td>\n",
              "      <td>14</td>\n",
              "    </tr>\n",
              "  </tbody>\n",
              "</table>\n",
              "</div>"
            ],
            "text/plain": [
              "                                                data  target\n",
              "0  i was wondering if anyone out there could enli...       7\n",
              "1  a fair number of brave souls who upgraded thei...       4\n",
              "2  well folks  my mac plus finally gave up the gh...       4\n",
              "3  \\ndo you have weitek s address phone number   ...       1\n",
              "4  from article      world std com   by tombaker ...      14"
            ]
          },
          "metadata": {
            "tags": []
          },
          "execution_count": 32
        }
      ]
    },
    {
      "cell_type": "code",
      "metadata": {
        "colab": {
          "base_uri": "https://localhost:8080/",
          "height": 198
        },
        "id": "8f6jlH07RoBH",
        "outputId": "616ac2ac-6fc0-4b90-cef5-f11e467346e6"
      },
      "source": [
        "mydata_test_df = pd.DataFrame({'data': mydata_test.data, 'target': mydata_test.target})\n",
        "mydata_test_df.head()"
      ],
      "execution_count": 33,
      "outputs": [
        {
          "output_type": "execute_result",
          "data": {
            "text/html": [
              "<div>\n",
              "<style scoped>\n",
              "    .dataframe tbody tr th:only-of-type {\n",
              "        vertical-align: middle;\n",
              "    }\n",
              "\n",
              "    .dataframe tbody tr th {\n",
              "        vertical-align: top;\n",
              "    }\n",
              "\n",
              "    .dataframe thead th {\n",
              "        text-align: right;\n",
              "    }\n",
              "</style>\n",
              "<table border=\"1\" class=\"dataframe\">\n",
              "  <thead>\n",
              "    <tr style=\"text-align: right;\">\n",
              "      <th></th>\n",
              "      <th>data</th>\n",
              "      <th>target</th>\n",
              "    </tr>\n",
              "  </thead>\n",
              "  <tbody>\n",
              "    <tr>\n",
              "      <th>0</th>\n",
              "      <td>I am a little confused on all of the models of...</td>\n",
              "      <td>7</td>\n",
              "    </tr>\n",
              "    <tr>\n",
              "      <th>1</th>\n",
              "      <td>I'm not familiar at all with the format of the...</td>\n",
              "      <td>5</td>\n",
              "    </tr>\n",
              "    <tr>\n",
              "      <th>2</th>\n",
              "      <td>\\nIn a word, yes.\\n</td>\n",
              "      <td>0</td>\n",
              "    </tr>\n",
              "    <tr>\n",
              "      <th>3</th>\n",
              "      <td>\\nThey were attacking the Iraqis to drive them...</td>\n",
              "      <td>17</td>\n",
              "    </tr>\n",
              "    <tr>\n",
              "      <th>4</th>\n",
              "      <td>\\nI've just spent two solid months arguing tha...</td>\n",
              "      <td>19</td>\n",
              "    </tr>\n",
              "  </tbody>\n",
              "</table>\n",
              "</div>"
            ],
            "text/plain": [
              "                                                data  target\n",
              "0  I am a little confused on all of the models of...       7\n",
              "1  I'm not familiar at all with the format of the...       5\n",
              "2                                \\nIn a word, yes.\\n       0\n",
              "3  \\nThey were attacking the Iraqis to drive them...      17\n",
              "4  \\nI've just spent two solid months arguing tha...      19"
            ]
          },
          "metadata": {
            "tags": []
          },
          "execution_count": 33
        }
      ]
    },
    {
      "cell_type": "code",
      "metadata": {
        "colab": {
          "base_uri": "https://localhost:8080/",
          "height": 198
        },
        "id": "tUjU5KP5RrlP",
        "outputId": "58582e8a-a3c4-4021-fefe-279a8d8d3e8d"
      },
      "source": [
        "# Text preprocessing steps - remove numbers, captial letters and punctuation\n",
        "alphanumeric = lambda x: re.sub(r\"\"\"\\w*\\d\\w*\"\"\", ' ', x)\n",
        "punc_lower = lambda x: re.sub('[%s]' % re.escape(string.punctuation), ' ', x.lower())\n",
        "\n",
        "mydata_test_df['data'] = mydata_test_df.data.map(alphanumeric).map(punc_lower)\n",
        "mydata_test_df.head()"
      ],
      "execution_count": 34,
      "outputs": [
        {
          "output_type": "execute_result",
          "data": {
            "text/html": [
              "<div>\n",
              "<style scoped>\n",
              "    .dataframe tbody tr th:only-of-type {\n",
              "        vertical-align: middle;\n",
              "    }\n",
              "\n",
              "    .dataframe tbody tr th {\n",
              "        vertical-align: top;\n",
              "    }\n",
              "\n",
              "    .dataframe thead th {\n",
              "        text-align: right;\n",
              "    }\n",
              "</style>\n",
              "<table border=\"1\" class=\"dataframe\">\n",
              "  <thead>\n",
              "    <tr style=\"text-align: right;\">\n",
              "      <th></th>\n",
              "      <th>data</th>\n",
              "      <th>target</th>\n",
              "    </tr>\n",
              "  </thead>\n",
              "  <tbody>\n",
              "    <tr>\n",
              "      <th>0</th>\n",
              "      <td>i am a little confused on all of the models of...</td>\n",
              "      <td>7</td>\n",
              "    </tr>\n",
              "    <tr>\n",
              "      <th>1</th>\n",
              "      <td>i m not familiar at all with the format of the...</td>\n",
              "      <td>5</td>\n",
              "    </tr>\n",
              "    <tr>\n",
              "      <th>2</th>\n",
              "      <td>\\nin a word  yes \\n</td>\n",
              "      <td>0</td>\n",
              "    </tr>\n",
              "    <tr>\n",
              "      <th>3</th>\n",
              "      <td>\\nthey were attacking the iraqis to drive them...</td>\n",
              "      <td>17</td>\n",
              "    </tr>\n",
              "    <tr>\n",
              "      <th>4</th>\n",
              "      <td>\\ni ve just spent two solid months arguing tha...</td>\n",
              "      <td>19</td>\n",
              "    </tr>\n",
              "  </tbody>\n",
              "</table>\n",
              "</div>"
            ],
            "text/plain": [
              "                                                data  target\n",
              "0  i am a little confused on all of the models of...       7\n",
              "1  i m not familiar at all with the format of the...       5\n",
              "2                                \\nin a word  yes \\n       0\n",
              "3  \\nthey were attacking the iraqis to drive them...      17\n",
              "4  \\ni ve just spent two solid months arguing tha...      19"
            ]
          },
          "metadata": {
            "tags": []
          },
          "execution_count": 34
        }
      ]
    },
    {
      "cell_type": "code",
      "metadata": {
        "colab": {
          "base_uri": "https://localhost:8080/"
        },
        "id": "yUELDX2-bNNg",
        "outputId": "d9248a62-c68e-4173-8a4a-87a8bee32363"
      },
      "source": [
        "# Extracting features from text files\n",
        "from sklearn.feature_extraction.text import CountVectorizer\n",
        "count_vect = CountVectorizer(stop_words='english')\n",
        "X_train_cv = count_vect.fit_transform(mydata_train_df.data) # fit_transform learns the\n",
        "X_test_cv = count_vect.transform(mydata_test_df.data) # transform uses the same vocab an\n",
        "print(X_train_cv.shape)\n",
        "print(type(X_train_cv))"
      ],
      "execution_count": 35,
      "outputs": [
        {
          "output_type": "stream",
          "text": [
            "(11314, 67822)\n",
            "<class 'scipy.sparse.csr.csr_matrix'>\n"
          ],
          "name": "stdout"
        }
      ]
    },
    {
      "cell_type": "code",
      "metadata": {
        "id": "cRUtZ9-VAkiY"
      },
      "source": [
        "import numpy as np\n",
        "\n",
        "from tqdm import tqdm\n",
        "\n",
        "from sklearn.datasets import fetch_20newsgroups\n",
        "\n",
        "from keras.preprocessing.text import Tokenizer\n",
        "from keras.preprocessing.sequence import pad_sequences\n",
        "from keras.utils.np_utils import to_categorical\n",
        "from keras.layers import Dense, Input, Flatten\n",
        "from keras.layers import Conv1D, MaxPooling1D, Embedding, Dropout\n",
        "from keras.models import Model"
      ],
      "execution_count": 36,
      "outputs": []
    },
    {
      "cell_type": "code",
      "metadata": {
        "colab": {
          "base_uri": "https://localhost:8080/"
        },
        "id": "4Oz3FjnHAqOw",
        "outputId": "5b785869-d42a-4b97-fabb-6dee503dc5c9"
      },
      "source": [
        "categories = ['alt.atheism', 'soc.religion.christian'] \n",
        "\n",
        "newsgroups_train = fetch_20newsgroups(subset='train', shuffle=True, \n",
        "                                      categories=categories,)\n",
        "\n",
        "print (newsgroups_train.target_names)\n",
        "print (len(newsgroups_train.data))\n",
        "\n",
        "#print (newsgroups_train.data[1])\n",
        "print(\"\\n\".join(newsgroups_train.data[0].split(\"\\n\")[10:15]))"
      ],
      "execution_count": 37,
      "outputs": [
        {
          "output_type": "stream",
          "text": [
            "['alt.atheism', 'soc.religion.christian']\n",
            "1079\n",
            "   WASHINGTON, April 19  -- A symposium on the Dead Sea \n",
            "Scrolls will be held at the Library of Congress on Wednesday,\n",
            "April 21, and Thursday, April 22.  The two-day program, cosponsored\n",
            "by the library and Baltimore Hebrew University, with additional\n",
            "support from the Project Judaica Foundation, will be held in the\n"
          ],
          "name": "stdout"
        }
      ]
    },
    {
      "cell_type": "code",
      "metadata": {
        "colab": {
          "base_uri": "https://localhost:8080/"
        },
        "id": "I9VVEyQWAu6m",
        "outputId": "92834333-d153-4c80-97b4-cc8c46e5dda9"
      },
      "source": [
        "%%time\n",
        "\n",
        "texts = []\n",
        "\n",
        "labels=newsgroups_train.target\n",
        "texts = newsgroups_train.data\n",
        "\n",
        "MAX_SEQUENCE_LENGTH = 1000\n",
        "MAX_NB_WORDS = 20000\n",
        "\n",
        "tokenizer = Tokenizer(num_words=MAX_NB_WORDS)\n",
        "tokenizer.fit_on_texts(texts)\n",
        "\n",
        "sequences = tokenizer.texts_to_sequences(texts)\n",
        "\n",
        "print (sequences[0][:10])"
      ],
      "execution_count": 38,
      "outputs": [
        {
          "output_type": "stream",
          "text": [
            "[19, 8762, 3621, 11894, 58, 8762, 3621, 43, 1472, 2]\n",
            "CPU times: user 613 ms, sys: 9.02 ms, total: 622 ms\n",
            "Wall time: 625 ms\n"
          ],
          "name": "stdout"
        }
      ]
    },
    {
      "cell_type": "code",
      "metadata": {
        "colab": {
          "base_uri": "https://localhost:8080/"
        },
        "id": "8C-jZJV1Ay0E",
        "outputId": "e1c53f3f-812f-416e-9c60-66caac605621"
      },
      "source": [
        "word_index = tokenizer.word_index\n",
        "\n",
        "print('Found %s unique tokens.' % len(word_index))"
      ],
      "execution_count": 39,
      "outputs": [
        {
          "output_type": "stream",
          "text": [
            "Found 20030 unique tokens.\n"
          ],
          "name": "stdout"
        }
      ]
    },
    {
      "cell_type": "code",
      "metadata": {
        "colab": {
          "base_uri": "https://localhost:8080/"
        },
        "id": "I3leeqbJA1-q",
        "outputId": "6736055d-46ca-4823-ace4-eb1f310faffe"
      },
      "source": [
        "data = pad_sequences(sequences, maxlen=MAX_SEQUENCE_LENGTH)\n",
        "\n",
        "print (data.shape)\n",
        "print (data[0][200:250])"
      ],
      "execution_count": 40,
      "outputs": [
        {
          "output_type": "stream",
          "text": [
            "(1079, 1000)\n",
            "[    0     0     0     0     0     0     0     0     0     0     0     0\n",
            "     0     0     0     0     0     0     0     0     0     0     0     0\n",
            "     0     0     0     0     0    19  8762  3621 11894    58  8762  3621\n",
            "    43  1472     2  2130     3   189   450  1001  3622  2980  1682   476\n",
            "   627    50]\n"
          ],
          "name": "stdout"
        }
      ]
    },
    {
      "cell_type": "code",
      "metadata": {
        "colab": {
          "base_uri": "https://localhost:8080/"
        },
        "id": "TATKrjgmA6lK",
        "outputId": "b97b2e8f-bd6b-4e1e-dd9a-b9d0cd05e3e7"
      },
      "source": [
        "labels = to_categorical(np.array(labels))\n",
        "\n",
        "print('Shape of data tensor:', data.shape)\n",
        "print('Shape of label tensor:', labels.shape)"
      ],
      "execution_count": 41,
      "outputs": [
        {
          "output_type": "stream",
          "text": [
            "Shape of data tensor: (1079, 1000)\n",
            "Shape of label tensor: (1079, 2)\n"
          ],
          "name": "stdout"
        }
      ]
    },
    {
      "cell_type": "code",
      "metadata": {
        "colab": {
          "base_uri": "https://localhost:8080/"
        },
        "id": "tKD1nppNA_cG",
        "outputId": "54932cae-f89b-4cf7-86e3-7986f9ce57b3"
      },
      "source": [
        "VALIDATION_SPLIT = 0.1\n",
        "\n",
        "indices = np.arange(data.shape[0])\n",
        "np.random.shuffle(indices) \n",
        "data = data[indices] \n",
        "labels = labels[indices] \n",
        "nb_validation_samples = int(VALIDATION_SPLIT * data.shape[0])\n",
        "\n",
        "x_train = data[:-nb_validation_samples] \n",
        "y_train = labels[:-nb_validation_samples] \n",
        "x_val = data[-nb_validation_samples:] \n",
        "y_val = labels[-nb_validation_samples:] \n",
        "\n",
        "print (x_train.shape)\n",
        "print (y_train.shape)\n",
        "\n",
        "print('Number of positive and negative reviews in traing and validation set ') \n",
        "print (y_train.sum(axis=0))\n",
        "print (y_val.sum(axis=0))\n"
      ],
      "execution_count": 42,
      "outputs": [
        {
          "output_type": "stream",
          "text": [
            "(972, 1000)\n",
            "(972, 2)\n",
            "Number of positive and negative reviews in traing and validation set \n",
            "[438. 534.]\n",
            "[42. 65.]\n"
          ],
          "name": "stdout"
        }
      ]
    },
    {
      "cell_type": "code",
      "metadata": {
        "colab": {
          "base_uri": "https://localhost:8080/",
          "height": 244
        },
        "id": "1jN7GicoBSkh",
        "outputId": "b2902851-99b5-4cd9-bb00-e9285726fde9"
      },
      "source": [
        "EMBEDDING_DIM = 100\n",
        "\n",
        "embedding_matrix = np.random.random((len(word_index) + 1, EMBEDDING_DIM))\n",
        "\n",
        "for word, i in word_index.items():\n",
        "  embedding_vector = embeddings_index.get(word)\n",
        "  if embedding_vector is not None:\n",
        "    # words not found in embedding index will be all-zeros.\n",
        "    embedding_matrix[i] = embedding_vector\n",
        "\n",
        "print (embedding_matrix.shape)\n",
        "\n",
        "print (embedding_matrix[0][:10])"
      ],
      "execution_count": 43,
      "outputs": [
        {
          "output_type": "error",
          "ename": "NameError",
          "evalue": "ignored",
          "traceback": [
            "\u001b[0;31m---------------------------------------------------------------------------\u001b[0m",
            "\u001b[0;31mNameError\u001b[0m                                 Traceback (most recent call last)",
            "\u001b[0;32m<ipython-input-43-6fb53264530f>\u001b[0m in \u001b[0;36m<module>\u001b[0;34m()\u001b[0m\n\u001b[1;32m      4\u001b[0m \u001b[0;34m\u001b[0m\u001b[0m\n\u001b[1;32m      5\u001b[0m \u001b[0;32mfor\u001b[0m \u001b[0mword\u001b[0m\u001b[0;34m,\u001b[0m \u001b[0mi\u001b[0m \u001b[0;32min\u001b[0m \u001b[0mword_index\u001b[0m\u001b[0;34m.\u001b[0m\u001b[0mitems\u001b[0m\u001b[0;34m(\u001b[0m\u001b[0;34m)\u001b[0m\u001b[0;34m:\u001b[0m\u001b[0;34m\u001b[0m\u001b[0;34m\u001b[0m\u001b[0m\n\u001b[0;32m----> 6\u001b[0;31m   \u001b[0membedding_vector\u001b[0m \u001b[0;34m=\u001b[0m \u001b[0membeddings_index\u001b[0m\u001b[0;34m.\u001b[0m\u001b[0mget\u001b[0m\u001b[0;34m(\u001b[0m\u001b[0mword\u001b[0m\u001b[0;34m)\u001b[0m\u001b[0;34m\u001b[0m\u001b[0;34m\u001b[0m\u001b[0m\n\u001b[0m\u001b[1;32m      7\u001b[0m   \u001b[0;32mif\u001b[0m \u001b[0membedding_vector\u001b[0m \u001b[0;32mis\u001b[0m \u001b[0;32mnot\u001b[0m \u001b[0;32mNone\u001b[0m\u001b[0;34m:\u001b[0m\u001b[0;34m\u001b[0m\u001b[0;34m\u001b[0m\u001b[0m\n\u001b[1;32m      8\u001b[0m     \u001b[0;31m# words not found in embedding index will be all-zeros.\u001b[0m\u001b[0;34m\u001b[0m\u001b[0;34m\u001b[0m\u001b[0;34m\u001b[0m\u001b[0m\n",
            "\u001b[0;31mNameError\u001b[0m: name 'embeddings_index' is not defined"
          ]
        }
      ]
    },
    {
      "cell_type": "code",
      "metadata": {
        "id": "StT4yPYaBUgr",
        "colab": {
          "base_uri": "https://localhost:8080/"
        },
        "outputId": "5d86aeee-ed25-4255-c548-8670139ea539"
      },
      "source": [
        "embedding_layer = Embedding(len(word_index) + 1, EMBEDDING_DIM,\n",
        "                            weights=[embedding_matrix], \n",
        "                            input_length=MAX_SEQUENCE_LENGTH, \n",
        "                            trainable=False)\n",
        "\n",
        "sequence_input = Input(shape=(MAX_SEQUENCE_LENGTH,), dtype='int32') \n",
        "embedded_sequences = embedding_layer(sequence_input) \n",
        "l_cov1= Conv1D(128, 5, activation='relu')(embedded_sequences) \n",
        "l_pool1 = MaxPooling1D(5)(l_cov1) \n",
        "l_cov2 = Conv1D(128, 5, activation='relu')(l_pool1) \n",
        "l_pool2 = MaxPooling1D(5)(l_cov2) \n",
        "l_cov3 = Conv1D(128, 5, activation='relu')(l_pool2) \n",
        "l_pool3 = MaxPooling1D(35)(l_cov3)  # global max pooling\n",
        "\n",
        "l_flat = Flatten()(l_pool3) \n",
        "l_dense = Dense(128, activation='relu')(l_flat) \n",
        "preds = Dense(2, activation='softmax')(l_dense)\n",
        "\n",
        "model = Model(sequence_input, preds)\n",
        "\n",
        "model.summary()"
      ],
      "execution_count": 45,
      "outputs": [
        {
          "output_type": "stream",
          "text": [
            "Model: \"model_1\"\n",
            "_________________________________________________________________\n",
            "Layer (type)                 Output Shape              Param #   \n",
            "=================================================================\n",
            "input_2 (InputLayer)         [(None, 1000)]            0         \n",
            "_________________________________________________________________\n",
            "embedding_1 (Embedding)      (None, 1000, 100)         2003100   \n",
            "_________________________________________________________________\n",
            "conv1d_3 (Conv1D)            (None, 996, 128)          64128     \n",
            "_________________________________________________________________\n",
            "max_pooling1d_3 (MaxPooling1 (None, 199, 128)          0         \n",
            "_________________________________________________________________\n",
            "conv1d_4 (Conv1D)            (None, 195, 128)          82048     \n",
            "_________________________________________________________________\n",
            "max_pooling1d_4 (MaxPooling1 (None, 39, 128)           0         \n",
            "_________________________________________________________________\n",
            "conv1d_5 (Conv1D)            (None, 35, 128)           82048     \n",
            "_________________________________________________________________\n",
            "max_pooling1d_5 (MaxPooling1 (None, 1, 128)            0         \n",
            "_________________________________________________________________\n",
            "flatten_1 (Flatten)          (None, 128)               0         \n",
            "_________________________________________________________________\n",
            "dense_2 (Dense)              (None, 128)               16512     \n",
            "_________________________________________________________________\n",
            "dense_3 (Dense)              (None, 2)                 258       \n",
            "=================================================================\n",
            "Total params: 2,248,094\n",
            "Trainable params: 244,994\n",
            "Non-trainable params: 2,003,100\n",
            "_________________________________________________________________\n"
          ],
          "name": "stdout"
        }
      ]
    },
    {
      "cell_type": "code",
      "metadata": {
        "id": "ohWKe6xrBfGj",
        "colab": {
          "base_uri": "https://localhost:8080/"
        },
        "outputId": "eb6eeb7a-2a88-4072-b07c-f8363a4c19b4"
      },
      "source": [
        "model.compile(loss='categorical_crossentropy', optimizer='adam',metrics=['acc'])\n",
        "\n",
        "history = model.fit(x_train, y_train, validation_data=(x_val, y_val),\n",
        "                    epochs=500, batch_size=512)   "
      ],
      "execution_count": 46,
      "outputs": [
        {
          "output_type": "stream",
          "text": [
            "Epoch 1/500\n",
            "2/2 [==============================] - 10s 5s/step - loss: 0.8529 - acc: 0.4857 - val_loss: 0.6691 - val_acc: 0.6075\n",
            "Epoch 2/500\n",
            "2/2 [==============================] - 9s 4s/step - loss: 0.7107 - acc: 0.5035 - val_loss: 0.7096 - val_acc: 0.3925\n",
            "Epoch 3/500\n",
            "2/2 [==============================] - 9s 4s/step - loss: 0.6946 - acc: 0.4985 - val_loss: 0.6721 - val_acc: 0.6075\n",
            "Epoch 4/500\n",
            "2/2 [==============================] - 9s 4s/step - loss: 0.7037 - acc: 0.5420 - val_loss: 0.6780 - val_acc: 0.6075\n",
            "Epoch 5/500\n",
            "2/2 [==============================] - 9s 4s/step - loss: 0.6880 - acc: 0.5484 - val_loss: 0.6857 - val_acc: 0.6075\n",
            "Epoch 6/500\n",
            "2/2 [==============================] - 9s 4s/step - loss: 0.6889 - acc: 0.5466 - val_loss: 0.6720 - val_acc: 0.6075\n",
            "Epoch 7/500\n",
            "2/2 [==============================] - 9s 4s/step - loss: 0.6882 - acc: 0.5525 - val_loss: 0.6719 - val_acc: 0.6075\n",
            "Epoch 8/500\n",
            "2/2 [==============================] - 9s 4s/step - loss: 0.6853 - acc: 0.5544 - val_loss: 0.6871 - val_acc: 0.6075\n",
            "Epoch 9/500\n",
            "2/2 [==============================] - 9s 4s/step - loss: 0.6891 - acc: 0.5679 - val_loss: 0.6747 - val_acc: 0.6075\n",
            "Epoch 10/500\n",
            "2/2 [==============================] - 9s 5s/step - loss: 0.6861 - acc: 0.5512 - val_loss: 0.6693 - val_acc: 0.6075\n",
            "Epoch 11/500\n",
            "2/2 [==============================] - 9s 4s/step - loss: 0.6845 - acc: 0.5551 - val_loss: 0.6800 - val_acc: 0.6075\n",
            "Epoch 12/500\n",
            "2/2 [==============================] - 9s 4s/step - loss: 0.6848 - acc: 0.5564 - val_loss: 0.6797 - val_acc: 0.6075\n",
            "Epoch 13/500\n",
            "2/2 [==============================] - 9s 4s/step - loss: 0.6847 - acc: 0.5531 - val_loss: 0.6702 - val_acc: 0.6075\n",
            "Epoch 14/500\n",
            "2/2 [==============================] - 9s 4s/step - loss: 0.6830 - acc: 0.5518 - val_loss: 0.6734 - val_acc: 0.6075\n",
            "Epoch 15/500\n",
            "2/2 [==============================] - 9s 4s/step - loss: 0.6828 - acc: 0.5485 - val_loss: 0.6765 - val_acc: 0.6075\n",
            "Epoch 16/500\n",
            "2/2 [==============================] - 9s 4s/step - loss: 0.6818 - acc: 0.5498 - val_loss: 0.6685 - val_acc: 0.6075\n",
            "Epoch 17/500\n",
            "2/2 [==============================] - 9s 4s/step - loss: 0.6826 - acc: 0.5446 - val_loss: 0.6721 - val_acc: 0.6075\n",
            "Epoch 18/500\n",
            "2/2 [==============================] - 9s 4s/step - loss: 0.6791 - acc: 0.5485 - val_loss: 0.6698 - val_acc: 0.6075\n",
            "Epoch 19/500\n",
            "2/2 [==============================] - 8s 4s/step - loss: 0.6779 - acc: 0.5479 - val_loss: 0.6701 - val_acc: 0.6075\n",
            "Epoch 20/500\n",
            "2/2 [==============================] - 9s 4s/step - loss: 0.6763 - acc: 0.5557 - val_loss: 0.6717 - val_acc: 0.6075\n",
            "Epoch 21/500\n",
            "2/2 [==============================] - 8s 4s/step - loss: 0.6747 - acc: 0.5614 - val_loss: 0.6709 - val_acc: 0.6075\n",
            "Epoch 22/500\n",
            "2/2 [==============================] - 9s 4s/step - loss: 0.6756 - acc: 0.5637 - val_loss: 0.6674 - val_acc: 0.6075\n",
            "Epoch 23/500\n",
            "2/2 [==============================] - 9s 4s/step - loss: 0.6742 - acc: 0.6021 - val_loss: 0.6681 - val_acc: 0.6262\n",
            "Epoch 24/500\n",
            "2/2 [==============================] - 9s 4s/step - loss: 0.6691 - acc: 0.5741 - val_loss: 0.6589 - val_acc: 0.6075\n",
            "Epoch 25/500\n",
            "2/2 [==============================] - 11s 6s/step - loss: 0.6718 - acc: 0.5713 - val_loss: 0.6726 - val_acc: 0.6822\n",
            "Epoch 26/500\n",
            "2/2 [==============================] - 10s 4s/step - loss: 0.6682 - acc: 0.6559 - val_loss: 0.6582 - val_acc: 0.6075\n",
            "Epoch 27/500\n",
            "2/2 [==============================] - 9s 4s/step - loss: 0.6589 - acc: 0.5684 - val_loss: 0.6733 - val_acc: 0.7477\n",
            "Epoch 28/500\n",
            "2/2 [==============================] - 9s 4s/step - loss: 0.6613 - acc: 0.7697 - val_loss: 0.6507 - val_acc: 0.6075\n",
            "Epoch 29/500\n",
            "2/2 [==============================] - 9s 4s/step - loss: 0.6561 - acc: 0.5685 - val_loss: 0.6542 - val_acc: 0.6449\n",
            "Epoch 30/500\n",
            "2/2 [==============================] - 9s 4s/step - loss: 0.6503 - acc: 0.7286 - val_loss: 0.6426 - val_acc: 0.6075\n",
            "Epoch 31/500\n",
            "2/2 [==============================] - 9s 4s/step - loss: 0.6474 - acc: 0.5730 - val_loss: 0.6586 - val_acc: 0.7850\n",
            "Epoch 32/500\n",
            "2/2 [==============================] - 9s 4s/step - loss: 0.6403 - acc: 0.7971 - val_loss: 0.6355 - val_acc: 0.6075\n",
            "Epoch 33/500\n",
            "2/2 [==============================] - 9s 4s/step - loss: 0.6437 - acc: 0.6452 - val_loss: 0.6413 - val_acc: 0.7850\n",
            "Epoch 34/500\n",
            "2/2 [==============================] - 9s 4s/step - loss: 0.6434 - acc: 0.7394 - val_loss: 0.6488 - val_acc: 0.7103\n",
            "Epoch 35/500\n",
            "2/2 [==============================] - 9s 4s/step - loss: 0.6314 - acc: 0.6742 - val_loss: 0.6139 - val_acc: 0.6542\n",
            "Epoch 36/500\n",
            "2/2 [==============================] - 9s 4s/step - loss: 0.6265 - acc: 0.5926 - val_loss: 0.6187 - val_acc: 0.8131\n",
            "Epoch 37/500\n",
            "2/2 [==============================] - 9s 4s/step - loss: 0.6230 - acc: 0.7269 - val_loss: 0.6050 - val_acc: 0.7383\n",
            "Epoch 38/500\n",
            "2/2 [==============================] - 9s 4s/step - loss: 0.6140 - acc: 0.7195 - val_loss: 0.5997 - val_acc: 0.6542\n",
            "Epoch 39/500\n",
            "2/2 [==============================] - 9s 4s/step - loss: 0.6048 - acc: 0.6314 - val_loss: 0.6393 - val_acc: 0.5327\n",
            "Epoch 40/500\n",
            "2/2 [==============================] - 9s 4s/step - loss: 0.5987 - acc: 0.6577 - val_loss: 0.5940 - val_acc: 0.6542\n",
            "Epoch 41/500\n",
            "2/2 [==============================] - 9s 4s/step - loss: 0.5869 - acc: 0.6545 - val_loss: 0.5887 - val_acc: 0.8692\n",
            "Epoch 42/500\n",
            "2/2 [==============================] - 9s 4s/step - loss: 0.5654 - acc: 0.8807 - val_loss: 0.5712 - val_acc: 0.8692\n",
            "Epoch 43/500\n",
            "2/2 [==============================] - 9s 4s/step - loss: 0.5488 - acc: 0.8351 - val_loss: 0.5492 - val_acc: 0.7290\n",
            "Epoch 44/500\n",
            "2/2 [==============================] - 9s 4s/step - loss: 0.5316 - acc: 0.8040 - val_loss: 0.5540 - val_acc: 0.8785\n",
            "Epoch 45/500\n",
            "2/2 [==============================] - 9s 4s/step - loss: 0.5149 - acc: 0.8886 - val_loss: 0.5146 - val_acc: 0.7196\n",
            "Epoch 46/500\n",
            "2/2 [==============================] - 9s 4s/step - loss: 0.5139 - acc: 0.7717 - val_loss: 0.4847 - val_acc: 0.8037\n",
            "Epoch 47/500\n",
            "2/2 [==============================] - 8s 4s/step - loss: 0.4665 - acc: 0.8324 - val_loss: 0.4781 - val_acc: 0.8972\n",
            "Epoch 48/500\n",
            "2/2 [==============================] - 9s 4s/step - loss: 0.4532 - acc: 0.8733 - val_loss: 0.4700 - val_acc: 0.8785\n",
            "Epoch 49/500\n",
            "2/2 [==============================] - 9s 4s/step - loss: 0.4336 - acc: 0.8775 - val_loss: 0.4044 - val_acc: 0.9252\n",
            "Epoch 50/500\n",
            "2/2 [==============================] - 9s 4s/step - loss: 0.3817 - acc: 0.9048 - val_loss: 0.4049 - val_acc: 0.9252\n",
            "Epoch 51/500\n",
            "2/2 [==============================] - 9s 4s/step - loss: 0.3917 - acc: 0.8774 - val_loss: 0.4835 - val_acc: 0.7477\n",
            "Epoch 52/500\n",
            "2/2 [==============================] - 9s 4s/step - loss: 0.4370 - acc: 0.8003 - val_loss: 0.3264 - val_acc: 0.9252\n",
            "Epoch 53/500\n",
            "2/2 [==============================] - 9s 4s/step - loss: 0.3460 - acc: 0.8731 - val_loss: 0.3876 - val_acc: 0.8318\n",
            "Epoch 54/500\n",
            "2/2 [==============================] - 9s 4s/step - loss: 0.3903 - acc: 0.8113 - val_loss: 0.3790 - val_acc: 0.8785\n",
            "Epoch 55/500\n",
            "2/2 [==============================] - 9s 4s/step - loss: 0.3497 - acc: 0.9045 - val_loss: 0.3203 - val_acc: 0.8879\n",
            "Epoch 56/500\n",
            "2/2 [==============================] - 9s 4s/step - loss: 0.3324 - acc: 0.8597 - val_loss: 0.2942 - val_acc: 0.9346\n",
            "Epoch 57/500\n",
            "2/2 [==============================] - 9s 4s/step - loss: 0.3102 - acc: 0.9197 - val_loss: 0.2839 - val_acc: 0.9159\n",
            "Epoch 58/500\n",
            "2/2 [==============================] - 9s 4s/step - loss: 0.3097 - acc: 0.8709 - val_loss: 0.2614 - val_acc: 0.9439\n",
            "Epoch 59/500\n",
            "2/2 [==============================] - 9s 4s/step - loss: 0.2652 - acc: 0.9284 - val_loss: 0.2651 - val_acc: 0.9346\n",
            "Epoch 60/500\n",
            "2/2 [==============================] - 9s 4s/step - loss: 0.2692 - acc: 0.9154 - val_loss: 0.2608 - val_acc: 0.9159\n",
            "Epoch 61/500\n",
            "2/2 [==============================] - 9s 4s/step - loss: 0.2499 - acc: 0.9113 - val_loss: 0.3269 - val_acc: 0.8879\n",
            "Epoch 62/500\n",
            "2/2 [==============================] - 9s 4s/step - loss: 0.2651 - acc: 0.9287 - val_loss: 0.2508 - val_acc: 0.9159\n",
            "Epoch 63/500\n",
            "2/2 [==============================] - 9s 4s/step - loss: 0.2487 - acc: 0.9004 - val_loss: 0.2516 - val_acc: 0.9252\n",
            "Epoch 64/500\n",
            "2/2 [==============================] - 9s 4s/step - loss: 0.2171 - acc: 0.9467 - val_loss: 0.2101 - val_acc: 0.9346\n",
            "Epoch 65/500\n",
            "2/2 [==============================] - 9s 4s/step - loss: 0.2071 - acc: 0.9225 - val_loss: 0.2019 - val_acc: 0.9346\n",
            "Epoch 66/500\n",
            "2/2 [==============================] - 9s 4s/step - loss: 0.1915 - acc: 0.9448 - val_loss: 0.1995 - val_acc: 0.9346\n",
            "Epoch 67/500\n",
            "2/2 [==============================] - 9s 4s/step - loss: 0.1751 - acc: 0.9433 - val_loss: 0.1867 - val_acc: 0.9346\n",
            "Epoch 68/500\n",
            "2/2 [==============================] - 9s 4s/step - loss: 0.1701 - acc: 0.9461 - val_loss: 0.1908 - val_acc: 0.9439\n",
            "Epoch 69/500\n",
            "2/2 [==============================] - 9s 4s/step - loss: 0.1558 - acc: 0.9508 - val_loss: 0.1736 - val_acc: 0.9346\n",
            "Epoch 70/500\n",
            "2/2 [==============================] - 9s 4s/step - loss: 0.1428 - acc: 0.9535 - val_loss: 0.2036 - val_acc: 0.9252\n",
            "Epoch 71/500\n",
            "2/2 [==============================] - 9s 4s/step - loss: 0.1545 - acc: 0.9634 - val_loss: 0.1635 - val_acc: 0.9346\n",
            "Epoch 72/500\n",
            "2/2 [==============================] - 9s 4s/step - loss: 0.1449 - acc: 0.9530 - val_loss: 0.1648 - val_acc: 0.9346\n",
            "Epoch 73/500\n",
            "2/2 [==============================] - 9s 4s/step - loss: 0.1423 - acc: 0.9414 - val_loss: 0.2206 - val_acc: 0.9346\n",
            "Epoch 74/500\n",
            "2/2 [==============================] - 9s 4s/step - loss: 0.1372 - acc: 0.9731 - val_loss: 0.1767 - val_acc: 0.9346\n",
            "Epoch 75/500\n",
            "2/2 [==============================] - 9s 4s/step - loss: 0.1478 - acc: 0.9402 - val_loss: 0.2374 - val_acc: 0.9346\n",
            "Epoch 76/500\n",
            "2/2 [==============================] - 9s 4s/step - loss: 0.1431 - acc: 0.9607 - val_loss: 0.1600 - val_acc: 0.9439\n",
            "Epoch 77/500\n",
            "2/2 [==============================] - 9s 4s/step - loss: 0.1181 - acc: 0.9557 - val_loss: 0.2054 - val_acc: 0.9346\n",
            "Epoch 78/500\n",
            "2/2 [==============================] - 9s 4s/step - loss: 0.1299 - acc: 0.9655 - val_loss: 0.1595 - val_acc: 0.9439\n",
            "Epoch 79/500\n",
            "2/2 [==============================] - 9s 4s/step - loss: 0.1176 - acc: 0.9565 - val_loss: 0.1779 - val_acc: 0.9439\n",
            "Epoch 80/500\n",
            "2/2 [==============================] - 9s 4s/step - loss: 0.1067 - acc: 0.9708 - val_loss: 0.1450 - val_acc: 0.9346\n",
            "Epoch 81/500\n",
            "2/2 [==============================] - 9s 4s/step - loss: 0.0899 - acc: 0.9658 - val_loss: 0.1890 - val_acc: 0.9252\n",
            "Epoch 82/500\n",
            "2/2 [==============================] - 9s 4s/step - loss: 0.1021 - acc: 0.9722 - val_loss: 0.1394 - val_acc: 0.9346\n",
            "Epoch 83/500\n",
            "2/2 [==============================] - 9s 4s/step - loss: 0.0788 - acc: 0.9711 - val_loss: 0.1645 - val_acc: 0.9439\n",
            "Epoch 84/500\n",
            "2/2 [==============================] - 9s 4s/step - loss: 0.0831 - acc: 0.9851 - val_loss: 0.1363 - val_acc: 0.9346\n",
            "Epoch 85/500\n",
            "2/2 [==============================] - 8s 4s/step - loss: 0.0706 - acc: 0.9691 - val_loss: 0.1608 - val_acc: 0.9346\n",
            "Epoch 86/500\n",
            "2/2 [==============================] - 9s 4s/step - loss: 0.0721 - acc: 0.9885 - val_loss: 0.1283 - val_acc: 0.9533\n",
            "Epoch 87/500\n",
            "2/2 [==============================] - 9s 4s/step - loss: 0.0625 - acc: 0.9779 - val_loss: 0.1379 - val_acc: 0.9533\n",
            "Epoch 88/500\n",
            "2/2 [==============================] - 9s 4s/step - loss: 0.0545 - acc: 0.9913 - val_loss: 0.1252 - val_acc: 0.9533\n",
            "Epoch 89/500\n",
            "2/2 [==============================] - 9s 4s/step - loss: 0.0507 - acc: 0.9865 - val_loss: 0.1470 - val_acc: 0.9346\n",
            "Epoch 90/500\n",
            "2/2 [==============================] - 9s 4s/step - loss: 0.0557 - acc: 0.9932 - val_loss: 0.1386 - val_acc: 0.9533\n",
            "Epoch 91/500\n",
            "2/2 [==============================] - 9s 4s/step - loss: 0.0613 - acc: 0.9703 - val_loss: 0.1608 - val_acc: 0.9439\n",
            "Epoch 92/500\n",
            "2/2 [==============================] - 9s 4s/step - loss: 0.0542 - acc: 0.9953 - val_loss: 0.1261 - val_acc: 0.9533\n",
            "Epoch 93/500\n",
            "2/2 [==============================] - 9s 4s/step - loss: 0.0463 - acc: 0.9892 - val_loss: 0.1246 - val_acc: 0.9533\n",
            "Epoch 94/500\n",
            "2/2 [==============================] - 8s 4s/step - loss: 0.0385 - acc: 0.9973 - val_loss: 0.1177 - val_acc: 0.9533\n",
            "Epoch 95/500\n",
            "2/2 [==============================] - 9s 5s/step - loss: 0.0356 - acc: 0.9953 - val_loss: 0.1164 - val_acc: 0.9533\n",
            "Epoch 96/500\n",
            "2/2 [==============================] - 11s 5s/step - loss: 0.0298 - acc: 0.9953 - val_loss: 0.1243 - val_acc: 0.9533\n",
            "Epoch 97/500\n",
            "2/2 [==============================] - 9s 4s/step - loss: 0.0314 - acc: 0.9980 - val_loss: 0.1165 - val_acc: 0.9533\n",
            "Epoch 98/500\n",
            "2/2 [==============================] - 9s 4s/step - loss: 0.0283 - acc: 0.9953 - val_loss: 0.1197 - val_acc: 0.9533\n",
            "Epoch 99/500\n",
            "2/2 [==============================] - 9s 4s/step - loss: 0.0276 - acc: 0.9980 - val_loss: 0.1146 - val_acc: 0.9533\n",
            "Epoch 100/500\n",
            "2/2 [==============================] - 9s 4s/step - loss: 0.0252 - acc: 0.9960 - val_loss: 0.1135 - val_acc: 0.9533\n",
            "Epoch 101/500\n",
            "2/2 [==============================] - 9s 4s/step - loss: 0.0225 - acc: 0.9973 - val_loss: 0.1134 - val_acc: 0.9533\n",
            "Epoch 102/500\n",
            "2/2 [==============================] - 9s 4s/step - loss: 0.0201 - acc: 0.9973 - val_loss: 0.1130 - val_acc: 0.9533\n",
            "Epoch 103/500\n",
            "2/2 [==============================] - 9s 4s/step - loss: 0.0183 - acc: 0.9986 - val_loss: 0.1145 - val_acc: 0.9626\n",
            "Epoch 104/500\n",
            "2/2 [==============================] - 9s 4s/step - loss: 0.0181 - acc: 0.9980 - val_loss: 0.1126 - val_acc: 0.9533\n",
            "Epoch 105/500\n",
            "2/2 [==============================] - 9s 4s/step - loss: 0.0172 - acc: 0.9986 - val_loss: 0.1202 - val_acc: 0.9533\n",
            "Epoch 106/500\n",
            "2/2 [==============================] - 9s 4s/step - loss: 0.0200 - acc: 0.9973 - val_loss: 0.1571 - val_acc: 0.9533\n",
            "Epoch 107/500\n",
            "2/2 [==============================] - 9s 4s/step - loss: 0.0311 - acc: 0.9919 - val_loss: 0.1852 - val_acc: 0.9252\n",
            "Epoch 108/500\n",
            "2/2 [==============================] - 9s 4s/step - loss: 0.0323 - acc: 0.9973 - val_loss: 0.1487 - val_acc: 0.9533\n",
            "Epoch 109/500\n",
            "2/2 [==============================] - 9s 4s/step - loss: 0.0257 - acc: 0.9920 - val_loss: 0.1422 - val_acc: 0.9533\n",
            "Epoch 110/500\n",
            "2/2 [==============================] - 9s 4s/step - loss: 0.0219 - acc: 0.9987 - val_loss: 0.1275 - val_acc: 0.9626\n",
            "Epoch 111/500\n",
            "2/2 [==============================] - 9s 4s/step - loss: 0.0198 - acc: 0.9953 - val_loss: 0.1110 - val_acc: 0.9626\n",
            "Epoch 112/500\n",
            "2/2 [==============================] - 9s 4s/step - loss: 0.0134 - acc: 1.0000 - val_loss: 0.1207 - val_acc: 0.9533\n",
            "Epoch 113/500\n",
            "2/2 [==============================] - 9s 4s/step - loss: 0.0126 - acc: 1.0000 - val_loss: 0.1233 - val_acc: 0.9626\n",
            "Epoch 114/500\n",
            "2/2 [==============================] - 9s 4s/step - loss: 0.0134 - acc: 0.9987 - val_loss: 0.1078 - val_acc: 0.9626\n",
            "Epoch 115/500\n",
            "2/2 [==============================] - 9s 4s/step - loss: 0.0108 - acc: 1.0000 - val_loss: 0.1052 - val_acc: 0.9626\n",
            "Epoch 116/500\n",
            "2/2 [==============================] - 9s 4s/step - loss: 0.0093 - acc: 1.0000 - val_loss: 0.1197 - val_acc: 0.9626\n",
            "Epoch 117/500\n",
            "2/2 [==============================] - 9s 4s/step - loss: 0.0093 - acc: 1.0000 - val_loss: 0.1091 - val_acc: 0.9626\n",
            "Epoch 118/500\n",
            "2/2 [==============================] - 9s 4s/step - loss: 0.0087 - acc: 1.0000 - val_loss: 0.1086 - val_acc: 0.9626\n",
            "Epoch 119/500\n",
            "2/2 [==============================] - 9s 4s/step - loss: 0.0075 - acc: 1.0000 - val_loss: 0.1146 - val_acc: 0.9626\n",
            "Epoch 120/500\n",
            "2/2 [==============================] - 9s 4s/step - loss: 0.0078 - acc: 1.0000 - val_loss: 0.1098 - val_acc: 0.9626\n",
            "Epoch 121/500\n",
            "2/2 [==============================] - 9s 4s/step - loss: 0.0069 - acc: 1.0000 - val_loss: 0.1081 - val_acc: 0.9626\n",
            "Epoch 122/500\n",
            "2/2 [==============================] - 9s 4s/step - loss: 0.0062 - acc: 1.0000 - val_loss: 0.1128 - val_acc: 0.9626\n",
            "Epoch 123/500\n",
            "2/2 [==============================] - 9s 4s/step - loss: 0.0060 - acc: 1.0000 - val_loss: 0.1077 - val_acc: 0.9626\n",
            "Epoch 124/500\n",
            "2/2 [==============================] - 9s 4s/step - loss: 0.0054 - acc: 1.0000 - val_loss: 0.1083 - val_acc: 0.9626\n",
            "Epoch 125/500\n",
            "2/2 [==============================] - 9s 4s/step - loss: 0.0049 - acc: 1.0000 - val_loss: 0.1108 - val_acc: 0.9533\n",
            "Epoch 126/500\n",
            "2/2 [==============================] - 9s 4s/step - loss: 0.0051 - acc: 1.0000 - val_loss: 0.1091 - val_acc: 0.9626\n",
            "Epoch 127/500\n",
            "2/2 [==============================] - 9s 4s/step - loss: 0.0045 - acc: 1.0000 - val_loss: 0.1089 - val_acc: 0.9626\n",
            "Epoch 128/500\n",
            "2/2 [==============================] - 9s 4s/step - loss: 0.0042 - acc: 1.0000 - val_loss: 0.1094 - val_acc: 0.9626\n",
            "Epoch 129/500\n",
            "2/2 [==============================] - 9s 4s/step - loss: 0.0042 - acc: 1.0000 - val_loss: 0.1088 - val_acc: 0.9626\n",
            "Epoch 130/500\n",
            "2/2 [==============================] - 9s 4s/step - loss: 0.0037 - acc: 1.0000 - val_loss: 0.1089 - val_acc: 0.9626\n",
            "Epoch 131/500\n",
            "2/2 [==============================] - 9s 4s/step - loss: 0.0036 - acc: 1.0000 - val_loss: 0.1091 - val_acc: 0.9626\n",
            "Epoch 132/500\n",
            "2/2 [==============================] - 9s 4s/step - loss: 0.0035 - acc: 1.0000 - val_loss: 0.1086 - val_acc: 0.9626\n",
            "Epoch 133/500\n",
            "2/2 [==============================] - 9s 4s/step - loss: 0.0031 - acc: 1.0000 - val_loss: 0.1101 - val_acc: 0.9626\n",
            "Epoch 134/500\n",
            "2/2 [==============================] - 9s 4s/step - loss: 0.0031 - acc: 1.0000 - val_loss: 0.1094 - val_acc: 0.9626\n",
            "Epoch 135/500\n",
            "2/2 [==============================] - 9s 4s/step - loss: 0.0030 - acc: 1.0000 - val_loss: 0.1088 - val_acc: 0.9626\n",
            "Epoch 136/500\n",
            "2/2 [==============================] - 9s 4s/step - loss: 0.0030 - acc: 1.0000 - val_loss: 0.1107 - val_acc: 0.9626\n",
            "Epoch 137/500\n",
            "2/2 [==============================] - 9s 4s/step - loss: 0.0027 - acc: 1.0000 - val_loss: 0.1109 - val_acc: 0.9626\n",
            "Epoch 138/500\n",
            "2/2 [==============================] - 9s 4s/step - loss: 0.0025 - acc: 1.0000 - val_loss: 0.1089 - val_acc: 0.9626\n",
            "Epoch 139/500\n",
            "2/2 [==============================] - 9s 4s/step - loss: 0.0025 - acc: 1.0000 - val_loss: 0.1099 - val_acc: 0.9626\n",
            "Epoch 140/500\n",
            "2/2 [==============================] - 9s 4s/step - loss: 0.0023 - acc: 1.0000 - val_loss: 0.1117 - val_acc: 0.9626\n",
            "Epoch 141/500\n",
            "2/2 [==============================] - 9s 4s/step - loss: 0.0024 - acc: 1.0000 - val_loss: 0.1095 - val_acc: 0.9626\n",
            "Epoch 142/500\n",
            "2/2 [==============================] - 9s 4s/step - loss: 0.0021 - acc: 1.0000 - val_loss: 0.1105 - val_acc: 0.9626\n",
            "Epoch 143/500\n",
            "2/2 [==============================] - 9s 4s/step - loss: 0.0019 - acc: 1.0000 - val_loss: 0.1112 - val_acc: 0.9626\n",
            "Epoch 144/500\n",
            "2/2 [==============================] - 9s 4s/step - loss: 0.0018 - acc: 1.0000 - val_loss: 0.1105 - val_acc: 0.9626\n",
            "Epoch 145/500\n",
            "2/2 [==============================] - 9s 4s/step - loss: 0.0018 - acc: 1.0000 - val_loss: 0.1110 - val_acc: 0.9626\n",
            "Epoch 146/500\n",
            "2/2 [==============================] - 9s 4s/step - loss: 0.0018 - acc: 1.0000 - val_loss: 0.1118 - val_acc: 0.9626\n",
            "Epoch 147/500\n",
            "2/2 [==============================] - 9s 4s/step - loss: 0.0017 - acc: 1.0000 - val_loss: 0.1121 - val_acc: 0.9626\n",
            "Epoch 148/500\n",
            "2/2 [==============================] - 9s 4s/step - loss: 0.0016 - acc: 1.0000 - val_loss: 0.1117 - val_acc: 0.9626\n",
            "Epoch 149/500\n",
            "2/2 [==============================] - 9s 4s/step - loss: 0.0015 - acc: 1.0000 - val_loss: 0.1124 - val_acc: 0.9626\n",
            "Epoch 150/500\n",
            "2/2 [==============================] - 9s 4s/step - loss: 0.0015 - acc: 1.0000 - val_loss: 0.1130 - val_acc: 0.9626\n",
            "Epoch 151/500\n",
            "2/2 [==============================] - 8s 4s/step - loss: 0.0015 - acc: 1.0000 - val_loss: 0.1127 - val_acc: 0.9626\n",
            "Epoch 152/500\n",
            "2/2 [==============================] - 9s 4s/step - loss: 0.0014 - acc: 1.0000 - val_loss: 0.1133 - val_acc: 0.9626\n",
            "Epoch 153/500\n",
            "2/2 [==============================] - 9s 4s/step - loss: 0.0013 - acc: 1.0000 - val_loss: 0.1142 - val_acc: 0.9626\n",
            "Epoch 154/500\n",
            "2/2 [==============================] - 9s 4s/step - loss: 0.0012 - acc: 1.0000 - val_loss: 0.1144 - val_acc: 0.9626\n",
            "Epoch 155/500\n",
            "2/2 [==============================] - 9s 4s/step - loss: 0.0012 - acc: 1.0000 - val_loss: 0.1141 - val_acc: 0.9626\n",
            "Epoch 156/500\n",
            "2/2 [==============================] - 9s 4s/step - loss: 0.0012 - acc: 1.0000 - val_loss: 0.1140 - val_acc: 0.9626\n",
            "Epoch 157/500\n",
            "2/2 [==============================] - 9s 4s/step - loss: 0.0010 - acc: 1.0000 - val_loss: 0.1152 - val_acc: 0.9626\n",
            "Epoch 158/500\n",
            "2/2 [==============================] - 9s 4s/step - loss: 0.0011 - acc: 1.0000 - val_loss: 0.1148 - val_acc: 0.9626\n",
            "Epoch 159/500\n",
            "2/2 [==============================] - 9s 4s/step - loss: 0.0010 - acc: 1.0000 - val_loss: 0.1157 - val_acc: 0.9626\n",
            "Epoch 160/500\n",
            "2/2 [==============================] - 9s 4s/step - loss: 9.7305e-04 - acc: 1.0000 - val_loss: 0.1165 - val_acc: 0.9626\n",
            "Epoch 161/500\n",
            "2/2 [==============================] - 9s 4s/step - loss: 9.4280e-04 - acc: 1.0000 - val_loss: 0.1160 - val_acc: 0.9626\n",
            "Epoch 162/500\n",
            "2/2 [==============================] - 9s 4s/step - loss: 8.8688e-04 - acc: 1.0000 - val_loss: 0.1164 - val_acc: 0.9626\n",
            "Epoch 163/500\n",
            "2/2 [==============================] - 9s 4s/step - loss: 8.1043e-04 - acc: 1.0000 - val_loss: 0.1169 - val_acc: 0.9626\n",
            "Epoch 164/500\n",
            "2/2 [==============================] - 9s 4s/step - loss: 8.3770e-04 - acc: 1.0000 - val_loss: 0.1173 - val_acc: 0.9626\n",
            "Epoch 165/500\n",
            "2/2 [==============================] - 9s 4s/step - loss: 8.4593e-04 - acc: 1.0000 - val_loss: 0.1175 - val_acc: 0.9626\n",
            "Epoch 166/500\n",
            "2/2 [==============================] - 9s 4s/step - loss: 7.3310e-04 - acc: 1.0000 - val_loss: 0.1179 - val_acc: 0.9626\n",
            "Epoch 167/500\n",
            "2/2 [==============================] - 9s 4s/step - loss: 7.3422e-04 - acc: 1.0000 - val_loss: 0.1185 - val_acc: 0.9626\n",
            "Epoch 168/500\n",
            "2/2 [==============================] - 9s 4s/step - loss: 7.5547e-04 - acc: 1.0000 - val_loss: 0.1185 - val_acc: 0.9626\n",
            "Epoch 169/500\n",
            "2/2 [==============================] - 9s 4s/step - loss: 6.9455e-04 - acc: 1.0000 - val_loss: 0.1192 - val_acc: 0.9626\n",
            "Epoch 170/500\n",
            "2/2 [==============================] - 9s 4s/step - loss: 7.0542e-04 - acc: 1.0000 - val_loss: 0.1199 - val_acc: 0.9626\n",
            "Epoch 171/500\n",
            "2/2 [==============================] - 9s 4s/step - loss: 6.6414e-04 - acc: 1.0000 - val_loss: 0.1193 - val_acc: 0.9626\n",
            "Epoch 172/500\n",
            "2/2 [==============================] - 9s 4s/step - loss: 6.4827e-04 - acc: 1.0000 - val_loss: 0.1196 - val_acc: 0.9626\n",
            "Epoch 173/500\n",
            "2/2 [==============================] - 9s 4s/step - loss: 6.2064e-04 - acc: 1.0000 - val_loss: 0.1198 - val_acc: 0.9626\n",
            "Epoch 174/500\n",
            "2/2 [==============================] - 9s 4s/step - loss: 5.9921e-04 - acc: 1.0000 - val_loss: 0.1216 - val_acc: 0.9626\n",
            "Epoch 175/500\n",
            "2/2 [==============================] - 9s 4s/step - loss: 5.3906e-04 - acc: 1.0000 - val_loss: 0.1215 - val_acc: 0.9626\n",
            "Epoch 176/500\n",
            "2/2 [==============================] - 9s 4s/step - loss: 5.9297e-04 - acc: 1.0000 - val_loss: 0.1203 - val_acc: 0.9626\n",
            "Epoch 177/500\n",
            "2/2 [==============================] - 9s 4s/step - loss: 5.1838e-04 - acc: 1.0000 - val_loss: 0.1213 - val_acc: 0.9626\n",
            "Epoch 178/500\n",
            "2/2 [==============================] - 9s 4s/step - loss: 5.1775e-04 - acc: 1.0000 - val_loss: 0.1228 - val_acc: 0.9626\n",
            "Epoch 179/500\n",
            "2/2 [==============================] - 9s 4s/step - loss: 5.2527e-04 - acc: 1.0000 - val_loss: 0.1226 - val_acc: 0.9626\n",
            "Epoch 180/500\n",
            "2/2 [==============================] - 9s 4s/step - loss: 4.8067e-04 - acc: 1.0000 - val_loss: 0.1225 - val_acc: 0.9626\n",
            "Epoch 181/500\n",
            "2/2 [==============================] - 9s 4s/step - loss: 4.8435e-04 - acc: 1.0000 - val_loss: 0.1225 - val_acc: 0.9626\n",
            "Epoch 182/500\n",
            "2/2 [==============================] - 9s 4s/step - loss: 4.4083e-04 - acc: 1.0000 - val_loss: 0.1238 - val_acc: 0.9626\n",
            "Epoch 183/500\n",
            "2/2 [==============================] - 9s 4s/step - loss: 4.4902e-04 - acc: 1.0000 - val_loss: 0.1239 - val_acc: 0.9626\n",
            "Epoch 184/500\n",
            "2/2 [==============================] - 9s 4s/step - loss: 4.4236e-04 - acc: 1.0000 - val_loss: 0.1238 - val_acc: 0.9626\n",
            "Epoch 185/500\n",
            "2/2 [==============================] - 9s 4s/step - loss: 4.2696e-04 - acc: 1.0000 - val_loss: 0.1235 - val_acc: 0.9626\n",
            "Epoch 186/500\n",
            "2/2 [==============================] - 9s 4s/step - loss: 4.3435e-04 - acc: 1.0000 - val_loss: 0.1240 - val_acc: 0.9626\n",
            "Epoch 187/500\n",
            "2/2 [==============================] - 9s 4s/step - loss: 3.8703e-04 - acc: 1.0000 - val_loss: 0.1254 - val_acc: 0.9626\n",
            "Epoch 188/500\n",
            "2/2 [==============================] - 9s 4s/step - loss: 3.9159e-04 - acc: 1.0000 - val_loss: 0.1265 - val_acc: 0.9626\n",
            "Epoch 189/500\n",
            "2/2 [==============================] - 9s 4s/step - loss: 3.6303e-04 - acc: 1.0000 - val_loss: 0.1255 - val_acc: 0.9626\n",
            "Epoch 190/500\n",
            "2/2 [==============================] - 9s 4s/step - loss: 3.8092e-04 - acc: 1.0000 - val_loss: 0.1248 - val_acc: 0.9626\n",
            "Epoch 191/500\n",
            "2/2 [==============================] - 9s 4s/step - loss: 3.6980e-04 - acc: 1.0000 - val_loss: 0.1256 - val_acc: 0.9626\n",
            "Epoch 192/500\n",
            "2/2 [==============================] - 9s 4s/step - loss: 3.6640e-04 - acc: 1.0000 - val_loss: 0.1265 - val_acc: 0.9626\n",
            "Epoch 193/500\n",
            "2/2 [==============================] - 9s 4s/step - loss: 3.3354e-04 - acc: 1.0000 - val_loss: 0.1272 - val_acc: 0.9626\n",
            "Epoch 194/500\n",
            "2/2 [==============================] - 9s 4s/step - loss: 3.2865e-04 - acc: 1.0000 - val_loss: 0.1269 - val_acc: 0.9626\n",
            "Epoch 195/500\n",
            "2/2 [==============================] - 9s 4s/step - loss: 3.3648e-04 - acc: 1.0000 - val_loss: 0.1267 - val_acc: 0.9626\n",
            "Epoch 196/500\n",
            "2/2 [==============================] - 9s 4s/step - loss: 3.1828e-04 - acc: 1.0000 - val_loss: 0.1275 - val_acc: 0.9626\n",
            "Epoch 197/500\n",
            "2/2 [==============================] - 9s 4s/step - loss: 3.0898e-04 - acc: 1.0000 - val_loss: 0.1283 - val_acc: 0.9626\n",
            "Epoch 198/500\n",
            "2/2 [==============================] - 9s 4s/step - loss: 3.1456e-04 - acc: 1.0000 - val_loss: 0.1281 - val_acc: 0.9626\n",
            "Epoch 199/500\n",
            "2/2 [==============================] - 9s 4s/step - loss: 3.1439e-04 - acc: 1.0000 - val_loss: 0.1279 - val_acc: 0.9626\n",
            "Epoch 200/500\n",
            "2/2 [==============================] - 9s 4s/step - loss: 2.7911e-04 - acc: 1.0000 - val_loss: 0.1284 - val_acc: 0.9626\n",
            "Epoch 201/500\n",
            "2/2 [==============================] - 9s 4s/step - loss: 2.9524e-04 - acc: 1.0000 - val_loss: 0.1291 - val_acc: 0.9626\n",
            "Epoch 202/500\n",
            "2/2 [==============================] - 9s 4s/step - loss: 2.7045e-04 - acc: 1.0000 - val_loss: 0.1298 - val_acc: 0.9626\n",
            "Epoch 203/500\n",
            "2/2 [==============================] - 9s 4s/step - loss: 2.7658e-04 - acc: 1.0000 - val_loss: 0.1294 - val_acc: 0.9626\n",
            "Epoch 204/500\n",
            "2/2 [==============================] - 9s 4s/step - loss: 2.5614e-04 - acc: 1.0000 - val_loss: 0.1291 - val_acc: 0.9626\n",
            "Epoch 205/500\n",
            "2/2 [==============================] - 9s 4s/step - loss: 2.5207e-04 - acc: 1.0000 - val_loss: 0.1295 - val_acc: 0.9626\n",
            "Epoch 206/500\n",
            "2/2 [==============================] - 9s 4s/step - loss: 2.4683e-04 - acc: 1.0000 - val_loss: 0.1304 - val_acc: 0.9626\n",
            "Epoch 207/500\n",
            "2/2 [==============================] - 9s 4s/step - loss: 2.3604e-04 - acc: 1.0000 - val_loss: 0.1309 - val_acc: 0.9626\n",
            "Epoch 208/500\n",
            "2/2 [==============================] - 9s 4s/step - loss: 2.2818e-04 - acc: 1.0000 - val_loss: 0.1307 - val_acc: 0.9626\n",
            "Epoch 209/500\n",
            "2/2 [==============================] - 9s 4s/step - loss: 2.3074e-04 - acc: 1.0000 - val_loss: 0.1309 - val_acc: 0.9626\n",
            "Epoch 210/500\n",
            "2/2 [==============================] - 9s 4s/step - loss: 2.3044e-04 - acc: 1.0000 - val_loss: 0.1306 - val_acc: 0.9626\n",
            "Epoch 211/500\n",
            "2/2 [==============================] - 9s 4s/step - loss: 2.3698e-04 - acc: 1.0000 - val_loss: 0.1312 - val_acc: 0.9626\n",
            "Epoch 212/500\n",
            "2/2 [==============================] - 9s 4s/step - loss: 2.2678e-04 - acc: 1.0000 - val_loss: 0.1321 - val_acc: 0.9626\n",
            "Epoch 213/500\n",
            "2/2 [==============================] - 9s 4s/step - loss: 2.2216e-04 - acc: 1.0000 - val_loss: 0.1328 - val_acc: 0.9626\n",
            "Epoch 214/500\n",
            "2/2 [==============================] - 9s 4s/step - loss: 2.0295e-04 - acc: 1.0000 - val_loss: 0.1324 - val_acc: 0.9626\n",
            "Epoch 215/500\n",
            "2/2 [==============================] - 9s 4s/step - loss: 2.1381e-04 - acc: 1.0000 - val_loss: 0.1318 - val_acc: 0.9626\n",
            "Epoch 216/500\n",
            "2/2 [==============================] - 9s 4s/step - loss: 2.0490e-04 - acc: 1.0000 - val_loss: 0.1322 - val_acc: 0.9626\n",
            "Epoch 217/500\n",
            "2/2 [==============================] - 9s 4s/step - loss: 2.0582e-04 - acc: 1.0000 - val_loss: 0.1334 - val_acc: 0.9626\n",
            "Epoch 218/500\n",
            "2/2 [==============================] - 9s 4s/step - loss: 2.0060e-04 - acc: 1.0000 - val_loss: 0.1338 - val_acc: 0.9626\n",
            "Epoch 219/500\n",
            "2/2 [==============================] - 9s 4s/step - loss: 1.7546e-04 - acc: 1.0000 - val_loss: 0.1338 - val_acc: 0.9626\n",
            "Epoch 220/500\n",
            "2/2 [==============================] - 9s 4s/step - loss: 1.9435e-04 - acc: 1.0000 - val_loss: 0.1335 - val_acc: 0.9626\n",
            "Epoch 221/500\n",
            "2/2 [==============================] - 9s 4s/step - loss: 1.8800e-04 - acc: 1.0000 - val_loss: 0.1337 - val_acc: 0.9626\n",
            "Epoch 222/500\n",
            "2/2 [==============================] - 9s 4s/step - loss: 1.9202e-04 - acc: 1.0000 - val_loss: 0.1342 - val_acc: 0.9626\n",
            "Epoch 223/500\n",
            "2/2 [==============================] - 9s 4s/step - loss: 1.6731e-04 - acc: 1.0000 - val_loss: 0.1350 - val_acc: 0.9626\n",
            "Epoch 224/500\n",
            "2/2 [==============================] - 9s 4s/step - loss: 1.8133e-04 - acc: 1.0000 - val_loss: 0.1349 - val_acc: 0.9626\n",
            "Epoch 225/500\n",
            "2/2 [==============================] - 9s 4s/step - loss: 1.6908e-04 - acc: 1.0000 - val_loss: 0.1348 - val_acc: 0.9626\n",
            "Epoch 226/500\n",
            "2/2 [==============================] - 9s 4s/step - loss: 1.7874e-04 - acc: 1.0000 - val_loss: 0.1348 - val_acc: 0.9626\n",
            "Epoch 227/500\n",
            "2/2 [==============================] - 9s 4s/step - loss: 1.5536e-04 - acc: 1.0000 - val_loss: 0.1351 - val_acc: 0.9626\n",
            "Epoch 228/500\n",
            "2/2 [==============================] - 9s 4s/step - loss: 1.5561e-04 - acc: 1.0000 - val_loss: 0.1354 - val_acc: 0.9626\n",
            "Epoch 229/500\n",
            "2/2 [==============================] - 9s 4s/step - loss: 1.6130e-04 - acc: 1.0000 - val_loss: 0.1359 - val_acc: 0.9626\n",
            "Epoch 230/500\n",
            "2/2 [==============================] - 9s 4s/step - loss: 1.5831e-04 - acc: 1.0000 - val_loss: 0.1363 - val_acc: 0.9626\n",
            "Epoch 231/500\n",
            "2/2 [==============================] - 9s 4s/step - loss: 1.5457e-04 - acc: 1.0000 - val_loss: 0.1365 - val_acc: 0.9626\n",
            "Epoch 232/500\n",
            "2/2 [==============================] - 9s 4s/step - loss: 1.4583e-04 - acc: 1.0000 - val_loss: 0.1366 - val_acc: 0.9626\n",
            "Epoch 233/500\n",
            "2/2 [==============================] - 9s 4s/step - loss: 1.4098e-04 - acc: 1.0000 - val_loss: 0.1365 - val_acc: 0.9626\n",
            "Epoch 234/500\n",
            "2/2 [==============================] - 9s 4s/step - loss: 1.3909e-04 - acc: 1.0000 - val_loss: 0.1366 - val_acc: 0.9626\n",
            "Epoch 235/500\n",
            "2/2 [==============================] - 9s 4s/step - loss: 1.3649e-04 - acc: 1.0000 - val_loss: 0.1369 - val_acc: 0.9626\n",
            "Epoch 236/500\n",
            "2/2 [==============================] - 9s 4s/step - loss: 1.3315e-04 - acc: 1.0000 - val_loss: 0.1375 - val_acc: 0.9626\n",
            "Epoch 237/500\n",
            "2/2 [==============================] - 9s 4s/step - loss: 1.3957e-04 - acc: 1.0000 - val_loss: 0.1379 - val_acc: 0.9626\n",
            "Epoch 238/500\n",
            "2/2 [==============================] - 9s 4s/step - loss: 1.3607e-04 - acc: 1.0000 - val_loss: 0.1382 - val_acc: 0.9626\n",
            "Epoch 239/500\n",
            "2/2 [==============================] - 9s 4s/step - loss: 1.2656e-04 - acc: 1.0000 - val_loss: 0.1382 - val_acc: 0.9626\n",
            "Epoch 240/500\n",
            "2/2 [==============================] - 9s 4s/step - loss: 1.2598e-04 - acc: 1.0000 - val_loss: 0.1380 - val_acc: 0.9626\n",
            "Epoch 241/500\n",
            "2/2 [==============================] - 9s 4s/step - loss: 1.3391e-04 - acc: 1.0000 - val_loss: 0.1378 - val_acc: 0.9626\n",
            "Epoch 242/500\n",
            "2/2 [==============================] - 9s 4s/step - loss: 1.2210e-04 - acc: 1.0000 - val_loss: 0.1382 - val_acc: 0.9626\n",
            "Epoch 243/500\n",
            "2/2 [==============================] - 8s 4s/step - loss: 1.2786e-04 - acc: 1.0000 - val_loss: 0.1386 - val_acc: 0.9626\n",
            "Epoch 244/500\n",
            "2/2 [==============================] - 9s 4s/step - loss: 1.2283e-04 - acc: 1.0000 - val_loss: 0.1392 - val_acc: 0.9626\n",
            "Epoch 245/500\n",
            "2/2 [==============================] - 9s 4s/step - loss: 1.1949e-04 - acc: 1.0000 - val_loss: 0.1391 - val_acc: 0.9626\n",
            "Epoch 246/500\n",
            "2/2 [==============================] - 9s 4s/step - loss: 1.1788e-04 - acc: 1.0000 - val_loss: 0.1394 - val_acc: 0.9626\n",
            "Epoch 247/500\n",
            "2/2 [==============================] - 9s 4s/step - loss: 1.1516e-04 - acc: 1.0000 - val_loss: 0.1396 - val_acc: 0.9626\n",
            "Epoch 248/500\n",
            "2/2 [==============================] - 9s 4s/step - loss: 1.1308e-04 - acc: 1.0000 - val_loss: 0.1397 - val_acc: 0.9626\n",
            "Epoch 249/500\n",
            "2/2 [==============================] - 9s 4s/step - loss: 1.0655e-04 - acc: 1.0000 - val_loss: 0.1398 - val_acc: 0.9626\n",
            "Epoch 250/500\n",
            "2/2 [==============================] - 9s 4s/step - loss: 1.0533e-04 - acc: 1.0000 - val_loss: 0.1401 - val_acc: 0.9626\n",
            "Epoch 251/500\n",
            "2/2 [==============================] - 9s 4s/step - loss: 1.1037e-04 - acc: 1.0000 - val_loss: 0.1404 - val_acc: 0.9626\n",
            "Epoch 252/500\n",
            "2/2 [==============================] - 9s 4s/step - loss: 1.0952e-04 - acc: 1.0000 - val_loss: 0.1403 - val_acc: 0.9626\n",
            "Epoch 253/500\n",
            "2/2 [==============================] - 9s 4s/step - loss: 1.1192e-04 - acc: 1.0000 - val_loss: 0.1406 - val_acc: 0.9626\n",
            "Epoch 254/500\n",
            "2/2 [==============================] - 9s 4s/step - loss: 1.0331e-04 - acc: 1.0000 - val_loss: 0.1408 - val_acc: 0.9626\n",
            "Epoch 255/500\n",
            "2/2 [==============================] - 9s 4s/step - loss: 1.0500e-04 - acc: 1.0000 - val_loss: 0.1410 - val_acc: 0.9626\n",
            "Epoch 256/500\n",
            "2/2 [==============================] - 9s 4s/step - loss: 9.6059e-05 - acc: 1.0000 - val_loss: 0.1411 - val_acc: 0.9626\n",
            "Epoch 257/500\n",
            "2/2 [==============================] - 9s 4s/step - loss: 9.5068e-05 - acc: 1.0000 - val_loss: 0.1415 - val_acc: 0.9626\n",
            "Epoch 258/500\n",
            "2/2 [==============================] - 9s 4s/step - loss: 1.0071e-04 - acc: 1.0000 - val_loss: 0.1416 - val_acc: 0.9626\n",
            "Epoch 259/500\n",
            "2/2 [==============================] - 9s 4s/step - loss: 9.7077e-05 - acc: 1.0000 - val_loss: 0.1417 - val_acc: 0.9626\n",
            "Epoch 260/500\n",
            "2/2 [==============================] - 9s 4s/step - loss: 9.7856e-05 - acc: 1.0000 - val_loss: 0.1418 - val_acc: 0.9626\n",
            "Epoch 261/500\n",
            "2/2 [==============================] - 9s 4s/step - loss: 9.2886e-05 - acc: 1.0000 - val_loss: 0.1420 - val_acc: 0.9626\n",
            "Epoch 262/500\n",
            "2/2 [==============================] - 9s 4s/step - loss: 8.9972e-05 - acc: 1.0000 - val_loss: 0.1420 - val_acc: 0.9626\n",
            "Epoch 263/500\n",
            "2/2 [==============================] - 9s 4s/step - loss: 9.5047e-05 - acc: 1.0000 - val_loss: 0.1425 - val_acc: 0.9626\n",
            "Epoch 264/500\n",
            "2/2 [==============================] - 9s 4s/step - loss: 9.3090e-05 - acc: 1.0000 - val_loss: 0.1426 - val_acc: 0.9626\n",
            "Epoch 265/500\n",
            "2/2 [==============================] - 9s 4s/step - loss: 8.7238e-05 - acc: 1.0000 - val_loss: 0.1428 - val_acc: 0.9626\n",
            "Epoch 266/500\n",
            "2/2 [==============================] - 9s 4s/step - loss: 8.7251e-05 - acc: 1.0000 - val_loss: 0.1429 - val_acc: 0.9626\n",
            "Epoch 267/500\n",
            "2/2 [==============================] - 9s 4s/step - loss: 9.0143e-05 - acc: 1.0000 - val_loss: 0.1427 - val_acc: 0.9626\n",
            "Epoch 268/500\n",
            "2/2 [==============================] - 9s 4s/step - loss: 8.2541e-05 - acc: 1.0000 - val_loss: 0.1432 - val_acc: 0.9626\n",
            "Epoch 269/500\n",
            "2/2 [==============================] - 9s 4s/step - loss: 8.6882e-05 - acc: 1.0000 - val_loss: 0.1435 - val_acc: 0.9626\n",
            "Epoch 270/500\n",
            "2/2 [==============================] - 9s 4s/step - loss: 8.8736e-05 - acc: 1.0000 - val_loss: 0.1438 - val_acc: 0.9626\n",
            "Epoch 271/500\n",
            "2/2 [==============================] - 9s 4s/step - loss: 7.6949e-05 - acc: 1.0000 - val_loss: 0.1440 - val_acc: 0.9626\n",
            "Epoch 272/500\n",
            "2/2 [==============================] - 9s 4s/step - loss: 8.2425e-05 - acc: 1.0000 - val_loss: 0.1439 - val_acc: 0.9626\n",
            "Epoch 273/500\n",
            "2/2 [==============================] - 9s 4s/step - loss: 7.6438e-05 - acc: 1.0000 - val_loss: 0.1439 - val_acc: 0.9626\n",
            "Epoch 274/500\n",
            "2/2 [==============================] - 9s 4s/step - loss: 7.9913e-05 - acc: 1.0000 - val_loss: 0.1440 - val_acc: 0.9626\n",
            "Epoch 275/500\n",
            "2/2 [==============================] - 9s 4s/step - loss: 7.6896e-05 - acc: 1.0000 - val_loss: 0.1444 - val_acc: 0.9626\n",
            "Epoch 276/500\n",
            "2/2 [==============================] - 9s 4s/step - loss: 7.7365e-05 - acc: 1.0000 - val_loss: 0.1447 - val_acc: 0.9626\n",
            "Epoch 277/500\n",
            "2/2 [==============================] - 9s 4s/step - loss: 8.1133e-05 - acc: 1.0000 - val_loss: 0.1445 - val_acc: 0.9626\n",
            "Epoch 278/500\n",
            "2/2 [==============================] - 9s 4s/step - loss: 7.1660e-05 - acc: 1.0000 - val_loss: 0.1449 - val_acc: 0.9626\n",
            "Epoch 279/500\n",
            "2/2 [==============================] - 9s 4s/step - loss: 7.6294e-05 - acc: 1.0000 - val_loss: 0.1449 - val_acc: 0.9626\n",
            "Epoch 280/500\n",
            "2/2 [==============================] - 9s 4s/step - loss: 7.5149e-05 - acc: 1.0000 - val_loss: 0.1453 - val_acc: 0.9626\n",
            "Epoch 281/500\n",
            "2/2 [==============================] - 9s 4s/step - loss: 7.1571e-05 - acc: 1.0000 - val_loss: 0.1455 - val_acc: 0.9626\n",
            "Epoch 282/500\n",
            "2/2 [==============================] - 9s 4s/step - loss: 7.5984e-05 - acc: 1.0000 - val_loss: 0.1454 - val_acc: 0.9626\n",
            "Epoch 283/500\n",
            "2/2 [==============================] - 9s 4s/step - loss: 7.0755e-05 - acc: 1.0000 - val_loss: 0.1456 - val_acc: 0.9626\n",
            "Epoch 284/500\n",
            "2/2 [==============================] - 9s 4s/step - loss: 6.9813e-05 - acc: 1.0000 - val_loss: 0.1458 - val_acc: 0.9626\n",
            "Epoch 285/500\n",
            "2/2 [==============================] - 9s 4s/step - loss: 6.7501e-05 - acc: 1.0000 - val_loss: 0.1462 - val_acc: 0.9626\n",
            "Epoch 286/500\n",
            "2/2 [==============================] - 9s 4s/step - loss: 6.6901e-05 - acc: 1.0000 - val_loss: 0.1461 - val_acc: 0.9626\n",
            "Epoch 287/500\n",
            "2/2 [==============================] - 9s 4s/step - loss: 7.0480e-05 - acc: 1.0000 - val_loss: 0.1460 - val_acc: 0.9626\n",
            "Epoch 288/500\n",
            "2/2 [==============================] - 9s 4s/step - loss: 7.3667e-05 - acc: 1.0000 - val_loss: 0.1462 - val_acc: 0.9626\n",
            "Epoch 289/500\n",
            "2/2 [==============================] - 9s 4s/step - loss: 6.2242e-05 - acc: 1.0000 - val_loss: 0.1467 - val_acc: 0.9626\n",
            "Epoch 290/500\n",
            "2/2 [==============================] - 9s 4s/step - loss: 6.6140e-05 - acc: 1.0000 - val_loss: 0.1469 - val_acc: 0.9626\n",
            "Epoch 291/500\n",
            "2/2 [==============================] - 9s 4s/step - loss: 6.9854e-05 - acc: 1.0000 - val_loss: 0.1470 - val_acc: 0.9626\n",
            "Epoch 292/500\n",
            "2/2 [==============================] - 9s 5s/step - loss: 6.0778e-05 - acc: 1.0000 - val_loss: 0.1469 - val_acc: 0.9626\n",
            "Epoch 293/500\n",
            "2/2 [==============================] - 9s 4s/step - loss: 6.0921e-05 - acc: 1.0000 - val_loss: 0.1470 - val_acc: 0.9626\n",
            "Epoch 294/500\n",
            "2/2 [==============================] - 9s 4s/step - loss: 6.3860e-05 - acc: 1.0000 - val_loss: 0.1471 - val_acc: 0.9626\n",
            "Epoch 295/500\n",
            "2/2 [==============================] - 9s 4s/step - loss: 6.6607e-05 - acc: 1.0000 - val_loss: 0.1473 - val_acc: 0.9626\n",
            "Epoch 296/500\n",
            "2/2 [==============================] - 9s 4s/step - loss: 6.4717e-05 - acc: 1.0000 - val_loss: 0.1477 - val_acc: 0.9626\n",
            "Epoch 297/500\n",
            "2/2 [==============================] - 9s 4s/step - loss: 5.9389e-05 - acc: 1.0000 - val_loss: 0.1480 - val_acc: 0.9626\n",
            "Epoch 298/500\n",
            "2/2 [==============================] - 9s 4s/step - loss: 5.8170e-05 - acc: 1.0000 - val_loss: 0.1481 - val_acc: 0.9626\n",
            "Epoch 299/500\n",
            "2/2 [==============================] - 9s 4s/step - loss: 6.0740e-05 - acc: 1.0000 - val_loss: 0.1479 - val_acc: 0.9626\n",
            "Epoch 300/500\n",
            "2/2 [==============================] - 9s 4s/step - loss: 5.9444e-05 - acc: 1.0000 - val_loss: 0.1479 - val_acc: 0.9626\n",
            "Epoch 301/500\n",
            "2/2 [==============================] - 9s 4s/step - loss: 6.1602e-05 - acc: 1.0000 - val_loss: 0.1482 - val_acc: 0.9626\n",
            "Epoch 302/500\n",
            "2/2 [==============================] - 9s 4s/step - loss: 5.6878e-05 - acc: 1.0000 - val_loss: 0.1485 - val_acc: 0.9626\n",
            "Epoch 303/500\n",
            "2/2 [==============================] - 9s 4s/step - loss: 5.7292e-05 - acc: 1.0000 - val_loss: 0.1486 - val_acc: 0.9626\n",
            "Epoch 304/500\n",
            "2/2 [==============================] - 9s 4s/step - loss: 5.6346e-05 - acc: 1.0000 - val_loss: 0.1488 - val_acc: 0.9626\n",
            "Epoch 305/500\n",
            "2/2 [==============================] - 9s 4s/step - loss: 5.2775e-05 - acc: 1.0000 - val_loss: 0.1489 - val_acc: 0.9626\n",
            "Epoch 306/500\n",
            "2/2 [==============================] - 9s 4s/step - loss: 5.5097e-05 - acc: 1.0000 - val_loss: 0.1490 - val_acc: 0.9626\n",
            "Epoch 307/500\n",
            "2/2 [==============================] - 9s 4s/step - loss: 5.9013e-05 - acc: 1.0000 - val_loss: 0.1490 - val_acc: 0.9626\n",
            "Epoch 308/500\n",
            "2/2 [==============================] - 9s 4s/step - loss: 5.1416e-05 - acc: 1.0000 - val_loss: 0.1491 - val_acc: 0.9626\n",
            "Epoch 309/500\n",
            "2/2 [==============================] - 9s 4s/step - loss: 5.4938e-05 - acc: 1.0000 - val_loss: 0.1493 - val_acc: 0.9626\n",
            "Epoch 310/500\n",
            "2/2 [==============================] - 9s 4s/step - loss: 5.2681e-05 - acc: 1.0000 - val_loss: 0.1495 - val_acc: 0.9626\n",
            "Epoch 311/500\n",
            "2/2 [==============================] - 9s 4s/step - loss: 5.0334e-05 - acc: 1.0000 - val_loss: 0.1497 - val_acc: 0.9626\n",
            "Epoch 312/500\n",
            "2/2 [==============================] - 9s 4s/step - loss: 5.3123e-05 - acc: 1.0000 - val_loss: 0.1497 - val_acc: 0.9626\n",
            "Epoch 313/500\n",
            "2/2 [==============================] - 9s 4s/step - loss: 4.9321e-05 - acc: 1.0000 - val_loss: 0.1499 - val_acc: 0.9626\n",
            "Epoch 314/500\n",
            "2/2 [==============================] - 9s 4s/step - loss: 5.3495e-05 - acc: 1.0000 - val_loss: 0.1500 - val_acc: 0.9626\n",
            "Epoch 315/500\n",
            "2/2 [==============================] - 9s 4s/step - loss: 4.8355e-05 - acc: 1.0000 - val_loss: 0.1501 - val_acc: 0.9626\n",
            "Epoch 316/500\n",
            "2/2 [==============================] - 9s 4s/step - loss: 4.7030e-05 - acc: 1.0000 - val_loss: 0.1504 - val_acc: 0.9626\n",
            "Epoch 317/500\n",
            "2/2 [==============================] - 9s 4s/step - loss: 4.9644e-05 - acc: 1.0000 - val_loss: 0.1505 - val_acc: 0.9626\n",
            "Epoch 318/500\n",
            "2/2 [==============================] - 9s 4s/step - loss: 4.4995e-05 - acc: 1.0000 - val_loss: 0.1507 - val_acc: 0.9626\n",
            "Epoch 319/500\n",
            "2/2 [==============================] - 9s 4s/step - loss: 4.5903e-05 - acc: 1.0000 - val_loss: 0.1507 - val_acc: 0.9626\n",
            "Epoch 320/500\n",
            "2/2 [==============================] - 9s 4s/step - loss: 4.9126e-05 - acc: 1.0000 - val_loss: 0.1507 - val_acc: 0.9626\n",
            "Epoch 321/500\n",
            "2/2 [==============================] - 9s 4s/step - loss: 4.7151e-05 - acc: 1.0000 - val_loss: 0.1508 - val_acc: 0.9626\n",
            "Epoch 322/500\n",
            "2/2 [==============================] - 9s 4s/step - loss: 4.7993e-05 - acc: 1.0000 - val_loss: 0.1509 - val_acc: 0.9626\n",
            "Epoch 323/500\n",
            "2/2 [==============================] - 9s 4s/step - loss: 4.3989e-05 - acc: 1.0000 - val_loss: 0.1513 - val_acc: 0.9626\n",
            "Epoch 324/500\n",
            "2/2 [==============================] - 9s 4s/step - loss: 4.6702e-05 - acc: 1.0000 - val_loss: 0.1514 - val_acc: 0.9626\n",
            "Epoch 325/500\n",
            "2/2 [==============================] - 9s 4s/step - loss: 4.8155e-05 - acc: 1.0000 - val_loss: 0.1515 - val_acc: 0.9626\n",
            "Epoch 326/500\n",
            "2/2 [==============================] - 9s 4s/step - loss: 4.6457e-05 - acc: 1.0000 - val_loss: 0.1516 - val_acc: 0.9626\n",
            "Epoch 327/500\n",
            "2/2 [==============================] - 9s 4s/step - loss: 4.6196e-05 - acc: 1.0000 - val_loss: 0.1517 - val_acc: 0.9626\n",
            "Epoch 328/500\n",
            "2/2 [==============================] - 9s 4s/step - loss: 4.2876e-05 - acc: 1.0000 - val_loss: 0.1517 - val_acc: 0.9626\n",
            "Epoch 329/500\n",
            "2/2 [==============================] - 9s 4s/step - loss: 4.3785e-05 - acc: 1.0000 - val_loss: 0.1520 - val_acc: 0.9626\n",
            "Epoch 330/500\n",
            "2/2 [==============================] - 9s 4s/step - loss: 4.0742e-05 - acc: 1.0000 - val_loss: 0.1520 - val_acc: 0.9626\n",
            "Epoch 331/500\n",
            "2/2 [==============================] - 9s 4s/step - loss: 4.2369e-05 - acc: 1.0000 - val_loss: 0.1520 - val_acc: 0.9626\n",
            "Epoch 332/500\n",
            "2/2 [==============================] - 9s 4s/step - loss: 4.4040e-05 - acc: 1.0000 - val_loss: 0.1521 - val_acc: 0.9626\n",
            "Epoch 333/500\n",
            "2/2 [==============================] - 9s 4s/step - loss: 4.2911e-05 - acc: 1.0000 - val_loss: 0.1525 - val_acc: 0.9626\n",
            "Epoch 334/500\n",
            "2/2 [==============================] - 9s 4s/step - loss: 3.9560e-05 - acc: 1.0000 - val_loss: 0.1528 - val_acc: 0.9626\n",
            "Epoch 335/500\n",
            "2/2 [==============================] - 9s 4s/step - loss: 4.0534e-05 - acc: 1.0000 - val_loss: 0.1528 - val_acc: 0.9626\n",
            "Epoch 336/500\n",
            "2/2 [==============================] - 8s 4s/step - loss: 3.8604e-05 - acc: 1.0000 - val_loss: 0.1527 - val_acc: 0.9626\n",
            "Epoch 337/500\n",
            "2/2 [==============================] - 9s 4s/step - loss: 3.9376e-05 - acc: 1.0000 - val_loss: 0.1529 - val_acc: 0.9626\n",
            "Epoch 338/500\n",
            "2/2 [==============================] - 8s 4s/step - loss: 3.8986e-05 - acc: 1.0000 - val_loss: 0.1530 - val_acc: 0.9626\n",
            "Epoch 339/500\n",
            "2/2 [==============================] - 9s 4s/step - loss: 4.0067e-05 - acc: 1.0000 - val_loss: 0.1531 - val_acc: 0.9626\n",
            "Epoch 340/500\n",
            "2/2 [==============================] - 9s 4s/step - loss: 3.9703e-05 - acc: 1.0000 - val_loss: 0.1533 - val_acc: 0.9626\n",
            "Epoch 341/500\n",
            "2/2 [==============================] - 9s 4s/step - loss: 3.8396e-05 - acc: 1.0000 - val_loss: 0.1535 - val_acc: 0.9626\n",
            "Epoch 342/500\n",
            "2/2 [==============================] - 9s 4s/step - loss: 3.9777e-05 - acc: 1.0000 - val_loss: 0.1536 - val_acc: 0.9626\n",
            "Epoch 343/500\n",
            "2/2 [==============================] - 9s 4s/step - loss: 4.0178e-05 - acc: 1.0000 - val_loss: 0.1535 - val_acc: 0.9626\n",
            "Epoch 344/500\n",
            "2/2 [==============================] - 9s 4s/step - loss: 4.0578e-05 - acc: 1.0000 - val_loss: 0.1536 - val_acc: 0.9626\n",
            "Epoch 345/500\n",
            "2/2 [==============================] - 9s 4s/step - loss: 3.7926e-05 - acc: 1.0000 - val_loss: 0.1539 - val_acc: 0.9626\n",
            "Epoch 346/500\n",
            "2/2 [==============================] - 9s 4s/step - loss: 3.8451e-05 - acc: 1.0000 - val_loss: 0.1539 - val_acc: 0.9626\n",
            "Epoch 347/500\n",
            "2/2 [==============================] - 9s 4s/step - loss: 3.5458e-05 - acc: 1.0000 - val_loss: 0.1541 - val_acc: 0.9626\n",
            "Epoch 348/500\n",
            "2/2 [==============================] - 9s 4s/step - loss: 3.7341e-05 - acc: 1.0000 - val_loss: 0.1542 - val_acc: 0.9626\n",
            "Epoch 349/500\n",
            "2/2 [==============================] - 9s 4s/step - loss: 3.5372e-05 - acc: 1.0000 - val_loss: 0.1543 - val_acc: 0.9626\n",
            "Epoch 350/500\n",
            "2/2 [==============================] - 9s 4s/step - loss: 3.6144e-05 - acc: 1.0000 - val_loss: 0.1543 - val_acc: 0.9626\n",
            "Epoch 351/500\n",
            "2/2 [==============================] - 8s 4s/step - loss: 3.5637e-05 - acc: 1.0000 - val_loss: 0.1544 - val_acc: 0.9626\n",
            "Epoch 352/500\n",
            "2/2 [==============================] - 8s 4s/step - loss: 3.5273e-05 - acc: 1.0000 - val_loss: 0.1546 - val_acc: 0.9626\n",
            "Epoch 353/500\n",
            "2/2 [==============================] - 8s 4s/step - loss: 3.5425e-05 - acc: 1.0000 - val_loss: 0.1549 - val_acc: 0.9626\n",
            "Epoch 354/500\n",
            "2/2 [==============================] - 8s 4s/step - loss: 3.4561e-05 - acc: 1.0000 - val_loss: 0.1551 - val_acc: 0.9626\n",
            "Epoch 355/500\n",
            "2/2 [==============================] - 8s 4s/step - loss: 3.5052e-05 - acc: 1.0000 - val_loss: 0.1550 - val_acc: 0.9626\n",
            "Epoch 356/500\n",
            "2/2 [==============================] - 8s 4s/step - loss: 3.3416e-05 - acc: 1.0000 - val_loss: 0.1550 - val_acc: 0.9626\n",
            "Epoch 357/500\n",
            "2/2 [==============================] - 9s 4s/step - loss: 3.4148e-05 - acc: 1.0000 - val_loss: 0.1550 - val_acc: 0.9626\n",
            "Epoch 358/500\n",
            "2/2 [==============================] - 8s 4s/step - loss: 3.3017e-05 - acc: 1.0000 - val_loss: 0.1553 - val_acc: 0.9626\n",
            "Epoch 359/500\n",
            "2/2 [==============================] - 8s 4s/step - loss: 3.5235e-05 - acc: 1.0000 - val_loss: 0.1555 - val_acc: 0.9626\n",
            "Epoch 360/500\n",
            "2/2 [==============================] - 8s 4s/step - loss: 3.3130e-05 - acc: 1.0000 - val_loss: 0.1556 - val_acc: 0.9626\n",
            "Epoch 361/500\n",
            "2/2 [==============================] - 9s 4s/step - loss: 3.2151e-05 - acc: 1.0000 - val_loss: 0.1556 - val_acc: 0.9626\n",
            "Epoch 362/500\n",
            "2/2 [==============================] - 9s 4s/step - loss: 3.1638e-05 - acc: 1.0000 - val_loss: 0.1553 - val_acc: 0.9626\n",
            "Epoch 363/500\n",
            "2/2 [==============================] - 9s 4s/step - loss: 3.3354e-05 - acc: 1.0000 - val_loss: 0.1554 - val_acc: 0.9626\n",
            "Epoch 364/500\n",
            "2/2 [==============================] - 8s 4s/step - loss: 3.1258e-05 - acc: 1.0000 - val_loss: 0.1557 - val_acc: 0.9626\n",
            "Epoch 365/500\n",
            "2/2 [==============================] - 8s 4s/step - loss: 3.2472e-05 - acc: 1.0000 - val_loss: 0.1560 - val_acc: 0.9626\n",
            "Epoch 366/500\n",
            "2/2 [==============================] - 8s 4s/step - loss: 3.1702e-05 - acc: 1.0000 - val_loss: 0.1564 - val_acc: 0.9626\n",
            "Epoch 367/500\n",
            "2/2 [==============================] - 8s 4s/step - loss: 3.2591e-05 - acc: 1.0000 - val_loss: 0.1565 - val_acc: 0.9626\n",
            "Epoch 368/500\n",
            "2/2 [==============================] - 8s 4s/step - loss: 3.3227e-05 - acc: 1.0000 - val_loss: 0.1564 - val_acc: 0.9626\n",
            "Epoch 369/500\n",
            "2/2 [==============================] - 8s 4s/step - loss: 3.0360e-05 - acc: 1.0000 - val_loss: 0.1565 - val_acc: 0.9626\n",
            "Epoch 370/500\n",
            "2/2 [==============================] - 8s 4s/step - loss: 2.9554e-05 - acc: 1.0000 - val_loss: 0.1564 - val_acc: 0.9626\n",
            "Epoch 371/500\n",
            "2/2 [==============================] - 8s 4s/step - loss: 3.0858e-05 - acc: 1.0000 - val_loss: 0.1565 - val_acc: 0.9626\n",
            "Epoch 372/500\n",
            "2/2 [==============================] - 8s 4s/step - loss: 2.9257e-05 - acc: 1.0000 - val_loss: 0.1566 - val_acc: 0.9626\n",
            "Epoch 373/500\n",
            "2/2 [==============================] - 8s 4s/step - loss: 2.9531e-05 - acc: 1.0000 - val_loss: 0.1568 - val_acc: 0.9626\n",
            "Epoch 374/500\n",
            "2/2 [==============================] - 8s 4s/step - loss: 3.0951e-05 - acc: 1.0000 - val_loss: 0.1570 - val_acc: 0.9626\n",
            "Epoch 375/500\n",
            "2/2 [==============================] - 8s 4s/step - loss: 2.9053e-05 - acc: 1.0000 - val_loss: 0.1571 - val_acc: 0.9626\n",
            "Epoch 376/500\n",
            "2/2 [==============================] - 8s 4s/step - loss: 3.0227e-05 - acc: 1.0000 - val_loss: 0.1572 - val_acc: 0.9626\n",
            "Epoch 377/500\n",
            "2/2 [==============================] - 8s 4s/step - loss: 3.0679e-05 - acc: 1.0000 - val_loss: 0.1571 - val_acc: 0.9626\n",
            "Epoch 378/500\n",
            "2/2 [==============================] - 8s 4s/step - loss: 2.8355e-05 - acc: 1.0000 - val_loss: 0.1573 - val_acc: 0.9626\n",
            "Epoch 379/500\n",
            "2/2 [==============================] - 8s 4s/step - loss: 2.8978e-05 - acc: 1.0000 - val_loss: 0.1574 - val_acc: 0.9626\n",
            "Epoch 380/500\n",
            "2/2 [==============================] - 8s 4s/step - loss: 2.7808e-05 - acc: 1.0000 - val_loss: 0.1575 - val_acc: 0.9626\n",
            "Epoch 381/500\n",
            "2/2 [==============================] - 8s 4s/step - loss: 2.8245e-05 - acc: 1.0000 - val_loss: 0.1577 - val_acc: 0.9626\n",
            "Epoch 382/500\n",
            "2/2 [==============================] - 8s 4s/step - loss: 3.0311e-05 - acc: 1.0000 - val_loss: 0.1578 - val_acc: 0.9626\n",
            "Epoch 383/500\n",
            "2/2 [==============================] - 8s 4s/step - loss: 2.7155e-05 - acc: 1.0000 - val_loss: 0.1578 - val_acc: 0.9626\n",
            "Epoch 384/500\n",
            "2/2 [==============================] - 8s 4s/step - loss: 2.6853e-05 - acc: 1.0000 - val_loss: 0.1579 - val_acc: 0.9626\n",
            "Epoch 385/500\n",
            "2/2 [==============================] - 8s 4s/step - loss: 2.8139e-05 - acc: 1.0000 - val_loss: 0.1581 - val_acc: 0.9626\n",
            "Epoch 386/500\n",
            "2/2 [==============================] - 8s 4s/step - loss: 2.7999e-05 - acc: 1.0000 - val_loss: 0.1580 - val_acc: 0.9626\n",
            "Epoch 387/500\n",
            "2/2 [==============================] - 8s 4s/step - loss: 2.9020e-05 - acc: 1.0000 - val_loss: 0.1581 - val_acc: 0.9626\n",
            "Epoch 388/500\n",
            "2/2 [==============================] - 8s 4s/step - loss: 2.6554e-05 - acc: 1.0000 - val_loss: 0.1582 - val_acc: 0.9626\n",
            "Epoch 389/500\n",
            "2/2 [==============================] - 8s 4s/step - loss: 2.7858e-05 - acc: 1.0000 - val_loss: 0.1583 - val_acc: 0.9626\n",
            "Epoch 390/500\n",
            "2/2 [==============================] - 8s 4s/step - loss: 2.7536e-05 - acc: 1.0000 - val_loss: 0.1585 - val_acc: 0.9626\n",
            "Epoch 391/500\n",
            "2/2 [==============================] - 8s 4s/step - loss: 2.5760e-05 - acc: 1.0000 - val_loss: 0.1586 - val_acc: 0.9626\n",
            "Epoch 392/500\n",
            "2/2 [==============================] - 8s 4s/step - loss: 2.4479e-05 - acc: 1.0000 - val_loss: 0.1588 - val_acc: 0.9626\n",
            "Epoch 393/500\n",
            "2/2 [==============================] - 8s 4s/step - loss: 2.5256e-05 - acc: 1.0000 - val_loss: 0.1588 - val_acc: 0.9626\n",
            "Epoch 394/500\n",
            "2/2 [==============================] - 8s 4s/step - loss: 2.7357e-05 - acc: 1.0000 - val_loss: 0.1587 - val_acc: 0.9626\n",
            "Epoch 395/500\n",
            "2/2 [==============================] - 8s 4s/step - loss: 2.5819e-05 - acc: 1.0000 - val_loss: 0.1588 - val_acc: 0.9626\n",
            "Epoch 396/500\n",
            "2/2 [==============================] - 8s 4s/step - loss: 2.5005e-05 - acc: 1.0000 - val_loss: 0.1589 - val_acc: 0.9626\n",
            "Epoch 397/500\n",
            "2/2 [==============================] - 8s 4s/step - loss: 2.3942e-05 - acc: 1.0000 - val_loss: 0.1591 - val_acc: 0.9626\n",
            "Epoch 398/500\n",
            "2/2 [==============================] - 8s 4s/step - loss: 2.4821e-05 - acc: 1.0000 - val_loss: 0.1593 - val_acc: 0.9626\n",
            "Epoch 399/500\n",
            "2/2 [==============================] - 8s 4s/step - loss: 2.4499e-05 - acc: 1.0000 - val_loss: 0.1594 - val_acc: 0.9626\n",
            "Epoch 400/500\n",
            "2/2 [==============================] - 8s 4s/step - loss: 2.4885e-05 - acc: 1.0000 - val_loss: 0.1595 - val_acc: 0.9626\n",
            "Epoch 401/500\n",
            "2/2 [==============================] - 8s 4s/step - loss: 2.5329e-05 - acc: 1.0000 - val_loss: 0.1594 - val_acc: 0.9626\n",
            "Epoch 402/500\n",
            "2/2 [==============================] - 8s 4s/step - loss: 2.4007e-05 - acc: 1.0000 - val_loss: 0.1594 - val_acc: 0.9626\n",
            "Epoch 403/500\n",
            "2/2 [==============================] - 8s 4s/step - loss: 2.5115e-05 - acc: 1.0000 - val_loss: 0.1594 - val_acc: 0.9626\n",
            "Epoch 404/500\n",
            "2/2 [==============================] - 9s 4s/step - loss: 2.3108e-05 - acc: 1.0000 - val_loss: 0.1596 - val_acc: 0.9626\n",
            "Epoch 405/500\n",
            "2/2 [==============================] - 8s 4s/step - loss: 2.3970e-05 - acc: 1.0000 - val_loss: 0.1598 - val_acc: 0.9626\n",
            "Epoch 406/500\n",
            "2/2 [==============================] - 8s 4s/step - loss: 2.2353e-05 - acc: 1.0000 - val_loss: 0.1601 - val_acc: 0.9626\n",
            "Epoch 407/500\n",
            "2/2 [==============================] - 8s 4s/step - loss: 2.2299e-05 - acc: 1.0000 - val_loss: 0.1602 - val_acc: 0.9626\n",
            "Epoch 408/500\n",
            "2/2 [==============================] - 8s 4s/step - loss: 2.2001e-05 - acc: 1.0000 - val_loss: 0.1603 - val_acc: 0.9626\n",
            "Epoch 409/500\n",
            "2/2 [==============================] - 8s 4s/step - loss: 2.2107e-05 - acc: 1.0000 - val_loss: 0.1603 - val_acc: 0.9626\n",
            "Epoch 410/500\n",
            "2/2 [==============================] - 8s 4s/step - loss: 2.2998e-05 - acc: 1.0000 - val_loss: 0.1603 - val_acc: 0.9626\n",
            "Epoch 411/500\n",
            "2/2 [==============================] - 8s 4s/step - loss: 2.3110e-05 - acc: 1.0000 - val_loss: 0.1602 - val_acc: 0.9626\n",
            "Epoch 412/500\n",
            "2/2 [==============================] - 8s 4s/step - loss: 2.5106e-05 - acc: 1.0000 - val_loss: 0.1603 - val_acc: 0.9626\n",
            "Epoch 413/500\n",
            "2/2 [==============================] - 8s 4s/step - loss: 2.3047e-05 - acc: 1.0000 - val_loss: 0.1605 - val_acc: 0.9626\n",
            "Epoch 414/500\n",
            "2/2 [==============================] - 8s 4s/step - loss: 2.2192e-05 - acc: 1.0000 - val_loss: 0.1608 - val_acc: 0.9626\n",
            "Epoch 415/500\n",
            "2/2 [==============================] - 8s 4s/step - loss: 2.2402e-05 - acc: 1.0000 - val_loss: 0.1609 - val_acc: 0.9626\n",
            "Epoch 416/500\n",
            "2/2 [==============================] - 8s 4s/step - loss: 2.3667e-05 - acc: 1.0000 - val_loss: 0.1608 - val_acc: 0.9626\n",
            "Epoch 417/500\n",
            "2/2 [==============================] - 8s 4s/step - loss: 2.3160e-05 - acc: 1.0000 - val_loss: 0.1609 - val_acc: 0.9626\n",
            "Epoch 418/500\n",
            "2/2 [==============================] - 8s 4s/step - loss: 2.2049e-05 - acc: 1.0000 - val_loss: 0.1610 - val_acc: 0.9626\n",
            "Epoch 419/500\n",
            "2/2 [==============================] - 9s 4s/step - loss: 2.1551e-05 - acc: 1.0000 - val_loss: 0.1611 - val_acc: 0.9626\n",
            "Epoch 420/500\n",
            "2/2 [==============================] - 9s 4s/step - loss: 2.0433e-05 - acc: 1.0000 - val_loss: 0.1614 - val_acc: 0.9626\n",
            "Epoch 421/500\n",
            "2/2 [==============================] - 9s 4s/step - loss: 2.2891e-05 - acc: 1.0000 - val_loss: 0.1614 - val_acc: 0.9626\n",
            "Epoch 422/500\n",
            "2/2 [==============================] - 9s 4s/step - loss: 2.1634e-05 - acc: 1.0000 - val_loss: 0.1614 - val_acc: 0.9626\n",
            "Epoch 423/500\n",
            "2/2 [==============================] - 9s 4s/step - loss: 1.9140e-05 - acc: 1.0000 - val_loss: 0.1614 - val_acc: 0.9626\n",
            "Epoch 424/500\n",
            "2/2 [==============================] - 9s 4s/step - loss: 2.1263e-05 - acc: 1.0000 - val_loss: 0.1614 - val_acc: 0.9626\n",
            "Epoch 425/500\n",
            "2/2 [==============================] - 8s 4s/step - loss: 2.1429e-05 - acc: 1.0000 - val_loss: 0.1615 - val_acc: 0.9626\n",
            "Epoch 426/500\n",
            "2/2 [==============================] - 8s 4s/step - loss: 2.2062e-05 - acc: 1.0000 - val_loss: 0.1617 - val_acc: 0.9626\n",
            "Epoch 427/500\n",
            "2/2 [==============================] - 9s 4s/step - loss: 1.9473e-05 - acc: 1.0000 - val_loss: 0.1619 - val_acc: 0.9626\n",
            "Epoch 428/500\n",
            "2/2 [==============================] - 9s 4s/step - loss: 2.0498e-05 - acc: 1.0000 - val_loss: 0.1620 - val_acc: 0.9626\n",
            "Epoch 429/500\n",
            "2/2 [==============================] - 8s 4s/step - loss: 1.9831e-05 - acc: 1.0000 - val_loss: 0.1620 - val_acc: 0.9626\n",
            "Epoch 430/500\n",
            "2/2 [==============================] - 9s 4s/step - loss: 2.0305e-05 - acc: 1.0000 - val_loss: 0.1620 - val_acc: 0.9626\n",
            "Epoch 431/500\n",
            "2/2 [==============================] - 8s 4s/step - loss: 1.9201e-05 - acc: 1.0000 - val_loss: 0.1619 - val_acc: 0.9626\n",
            "Epoch 432/500\n",
            "2/2 [==============================] - 9s 4s/step - loss: 1.9055e-05 - acc: 1.0000 - val_loss: 0.1620 - val_acc: 0.9626\n",
            "Epoch 433/500\n",
            "2/2 [==============================] - 8s 4s/step - loss: 2.0983e-05 - acc: 1.0000 - val_loss: 0.1621 - val_acc: 0.9626\n",
            "Epoch 434/500\n",
            "2/2 [==============================] - 9s 4s/step - loss: 1.9869e-05 - acc: 1.0000 - val_loss: 0.1623 - val_acc: 0.9626\n",
            "Epoch 435/500\n",
            "2/2 [==============================] - 8s 4s/step - loss: 1.9824e-05 - acc: 1.0000 - val_loss: 0.1625 - val_acc: 0.9626\n",
            "Epoch 436/500\n",
            "2/2 [==============================] - 8s 4s/step - loss: 1.9423e-05 - acc: 1.0000 - val_loss: 0.1626 - val_acc: 0.9626\n",
            "Epoch 437/500\n",
            "2/2 [==============================] - 8s 4s/step - loss: 2.0007e-05 - acc: 1.0000 - val_loss: 0.1628 - val_acc: 0.9626\n",
            "Epoch 438/500\n",
            "2/2 [==============================] - 8s 4s/step - loss: 1.9035e-05 - acc: 1.0000 - val_loss: 0.1627 - val_acc: 0.9626\n",
            "Epoch 439/500\n",
            "2/2 [==============================] - 8s 4s/step - loss: 1.9121e-05 - acc: 1.0000 - val_loss: 0.1627 - val_acc: 0.9626\n",
            "Epoch 440/500\n",
            "2/2 [==============================] - 8s 4s/step - loss: 1.9058e-05 - acc: 1.0000 - val_loss: 0.1626 - val_acc: 0.9626\n",
            "Epoch 441/500\n",
            "2/2 [==============================] - 8s 4s/step - loss: 1.8006e-05 - acc: 1.0000 - val_loss: 0.1627 - val_acc: 0.9626\n",
            "Epoch 442/500\n",
            "2/2 [==============================] - 8s 4s/step - loss: 1.9891e-05 - acc: 1.0000 - val_loss: 0.1628 - val_acc: 0.9626\n",
            "Epoch 443/500\n",
            "2/2 [==============================] - 8s 4s/step - loss: 1.7453e-05 - acc: 1.0000 - val_loss: 0.1630 - val_acc: 0.9626\n",
            "Epoch 444/500\n",
            "2/2 [==============================] - 8s 4s/step - loss: 1.8985e-05 - acc: 1.0000 - val_loss: 0.1631 - val_acc: 0.9626\n",
            "Epoch 445/500\n",
            "2/2 [==============================] - 8s 4s/step - loss: 1.9175e-05 - acc: 1.0000 - val_loss: 0.1632 - val_acc: 0.9626\n",
            "Epoch 446/500\n",
            "2/2 [==============================] - 8s 4s/step - loss: 1.8204e-05 - acc: 1.0000 - val_loss: 0.1632 - val_acc: 0.9626\n",
            "Epoch 447/500\n",
            "2/2 [==============================] - 8s 4s/step - loss: 1.8020e-05 - acc: 1.0000 - val_loss: 0.1633 - val_acc: 0.9626\n",
            "Epoch 448/500\n",
            "2/2 [==============================] - 8s 4s/step - loss: 1.7575e-05 - acc: 1.0000 - val_loss: 0.1634 - val_acc: 0.9626\n",
            "Epoch 449/500\n",
            "2/2 [==============================] - 9s 4s/step - loss: 1.7999e-05 - acc: 1.0000 - val_loss: 0.1635 - val_acc: 0.9626\n",
            "Epoch 450/500\n",
            "2/2 [==============================] - 8s 4s/step - loss: 1.8183e-05 - acc: 1.0000 - val_loss: 0.1635 - val_acc: 0.9626\n",
            "Epoch 451/500\n",
            "2/2 [==============================] - 8s 4s/step - loss: 1.7476e-05 - acc: 1.0000 - val_loss: 0.1636 - val_acc: 0.9626\n",
            "Epoch 452/500\n",
            "2/2 [==============================] - 8s 4s/step - loss: 1.6358e-05 - acc: 1.0000 - val_loss: 0.1636 - val_acc: 0.9626\n",
            "Epoch 453/500\n",
            "2/2 [==============================] - 8s 4s/step - loss: 1.7307e-05 - acc: 1.0000 - val_loss: 0.1637 - val_acc: 0.9626\n",
            "Epoch 454/500\n",
            "2/2 [==============================] - 8s 4s/step - loss: 1.7962e-05 - acc: 1.0000 - val_loss: 0.1638 - val_acc: 0.9626\n",
            "Epoch 455/500\n",
            "2/2 [==============================] - 8s 4s/step - loss: 1.6819e-05 - acc: 1.0000 - val_loss: 0.1640 - val_acc: 0.9626\n",
            "Epoch 456/500\n",
            "2/2 [==============================] - 8s 4s/step - loss: 1.7056e-05 - acc: 1.0000 - val_loss: 0.1639 - val_acc: 0.9626\n",
            "Epoch 457/500\n",
            "2/2 [==============================] - 9s 4s/step - loss: 1.7783e-05 - acc: 1.0000 - val_loss: 0.1639 - val_acc: 0.9626\n",
            "Epoch 458/500\n",
            "2/2 [==============================] - 9s 4s/step - loss: 1.7356e-05 - acc: 1.0000 - val_loss: 0.1640 - val_acc: 0.9626\n",
            "Epoch 459/500\n",
            "2/2 [==============================] - 9s 4s/step - loss: 1.7691e-05 - acc: 1.0000 - val_loss: 0.1643 - val_acc: 0.9626\n",
            "Epoch 460/500\n",
            "2/2 [==============================] - 9s 4s/step - loss: 1.7862e-05 - acc: 1.0000 - val_loss: 0.1643 - val_acc: 0.9626\n",
            "Epoch 461/500\n",
            "2/2 [==============================] - 8s 4s/step - loss: 1.6389e-05 - acc: 1.0000 - val_loss: 0.1644 - val_acc: 0.9626\n",
            "Epoch 462/500\n",
            "2/2 [==============================] - 8s 4s/step - loss: 1.6601e-05 - acc: 1.0000 - val_loss: 0.1644 - val_acc: 0.9626\n",
            "Epoch 463/500\n",
            "2/2 [==============================] - 8s 4s/step - loss: 1.6892e-05 - acc: 1.0000 - val_loss: 0.1644 - val_acc: 0.9626\n",
            "Epoch 464/500\n",
            "2/2 [==============================] - 8s 4s/step - loss: 1.6682e-05 - acc: 1.0000 - val_loss: 0.1645 - val_acc: 0.9626\n",
            "Epoch 465/500\n",
            "2/2 [==============================] - 8s 4s/step - loss: 1.6814e-05 - acc: 1.0000 - val_loss: 0.1647 - val_acc: 0.9626\n",
            "Epoch 466/500\n",
            "2/2 [==============================] - 8s 4s/step - loss: 1.7030e-05 - acc: 1.0000 - val_loss: 0.1648 - val_acc: 0.9626\n",
            "Epoch 467/500\n",
            "2/2 [==============================] - 8s 4s/step - loss: 1.6414e-05 - acc: 1.0000 - val_loss: 0.1649 - val_acc: 0.9626\n",
            "Epoch 468/500\n",
            "2/2 [==============================] - 8s 4s/step - loss: 1.6239e-05 - acc: 1.0000 - val_loss: 0.1649 - val_acc: 0.9626\n",
            "Epoch 469/500\n",
            "2/2 [==============================] - 8s 4s/step - loss: 1.5636e-05 - acc: 1.0000 - val_loss: 0.1650 - val_acc: 0.9626\n",
            "Epoch 470/500\n",
            "2/2 [==============================] - 8s 4s/step - loss: 1.6289e-05 - acc: 1.0000 - val_loss: 0.1650 - val_acc: 0.9626\n",
            "Epoch 471/500\n",
            "2/2 [==============================] - 9s 4s/step - loss: 1.5143e-05 - acc: 1.0000 - val_loss: 0.1651 - val_acc: 0.9626\n",
            "Epoch 472/500\n",
            "2/2 [==============================] - 9s 4s/step - loss: 1.6539e-05 - acc: 1.0000 - val_loss: 0.1652 - val_acc: 0.9626\n",
            "Epoch 473/500\n",
            "2/2 [==============================] - 8s 4s/step - loss: 1.6095e-05 - acc: 1.0000 - val_loss: 0.1652 - val_acc: 0.9626\n",
            "Epoch 474/500\n",
            "2/2 [==============================] - 8s 4s/step - loss: 1.5218e-05 - acc: 1.0000 - val_loss: 0.1654 - val_acc: 0.9626\n",
            "Epoch 475/500\n",
            "2/2 [==============================] - 8s 4s/step - loss: 1.5070e-05 - acc: 1.0000 - val_loss: 0.1655 - val_acc: 0.9626\n",
            "Epoch 476/500\n",
            "2/2 [==============================] - 8s 4s/step - loss: 1.6417e-05 - acc: 1.0000 - val_loss: 0.1655 - val_acc: 0.9626\n",
            "Epoch 477/500\n",
            "2/2 [==============================] - 9s 4s/step - loss: 1.7017e-05 - acc: 1.0000 - val_loss: 0.1655 - val_acc: 0.9626\n",
            "Epoch 478/500\n",
            "2/2 [==============================] - 9s 4s/step - loss: 1.5483e-05 - acc: 1.0000 - val_loss: 0.1656 - val_acc: 0.9626\n",
            "Epoch 479/500\n",
            "2/2 [==============================] - 8s 4s/step - loss: 1.4342e-05 - acc: 1.0000 - val_loss: 0.1657 - val_acc: 0.9626\n",
            "Epoch 480/500\n",
            "2/2 [==============================] - 8s 4s/step - loss: 1.5559e-05 - acc: 1.0000 - val_loss: 0.1658 - val_acc: 0.9626\n",
            "Epoch 481/500\n",
            "2/2 [==============================] - 8s 4s/step - loss: 1.3885e-05 - acc: 1.0000 - val_loss: 0.1658 - val_acc: 0.9626\n",
            "Epoch 482/500\n",
            "2/2 [==============================] - 8s 4s/step - loss: 1.5234e-05 - acc: 1.0000 - val_loss: 0.1658 - val_acc: 0.9626\n",
            "Epoch 483/500\n",
            "2/2 [==============================] - 8s 4s/step - loss: 1.4607e-05 - acc: 1.0000 - val_loss: 0.1660 - val_acc: 0.9626\n",
            "Epoch 484/500\n",
            "2/2 [==============================] - 8s 4s/step - loss: 1.5790e-05 - acc: 1.0000 - val_loss: 0.1661 - val_acc: 0.9626\n",
            "Epoch 485/500\n",
            "2/2 [==============================] - 8s 4s/step - loss: 1.5065e-05 - acc: 1.0000 - val_loss: 0.1662 - val_acc: 0.9626\n",
            "Epoch 486/500\n",
            "2/2 [==============================] - 8s 4s/step - loss: 1.5209e-05 - acc: 1.0000 - val_loss: 0.1662 - val_acc: 0.9626\n",
            "Epoch 487/500\n",
            "2/2 [==============================] - 8s 4s/step - loss: 1.4420e-05 - acc: 1.0000 - val_loss: 0.1662 - val_acc: 0.9626\n",
            "Epoch 488/500\n",
            "2/2 [==============================] - 8s 4s/step - loss: 1.4417e-05 - acc: 1.0000 - val_loss: 0.1662 - val_acc: 0.9626\n",
            "Epoch 489/500\n",
            "2/2 [==============================] - 8s 4s/step - loss: 1.5178e-05 - acc: 1.0000 - val_loss: 0.1663 - val_acc: 0.9626\n",
            "Epoch 490/500\n",
            "2/2 [==============================] - 8s 4s/step - loss: 1.3587e-05 - acc: 1.0000 - val_loss: 0.1665 - val_acc: 0.9626\n",
            "Epoch 491/500\n",
            "2/2 [==============================] - 8s 4s/step - loss: 1.3839e-05 - acc: 1.0000 - val_loss: 0.1666 - val_acc: 0.9626\n",
            "Epoch 492/500\n",
            "2/2 [==============================] - 8s 4s/step - loss: 1.4630e-05 - acc: 1.0000 - val_loss: 0.1666 - val_acc: 0.9626\n",
            "Epoch 493/500\n",
            "2/2 [==============================] - 8s 4s/step - loss: 1.4196e-05 - acc: 1.0000 - val_loss: 0.1666 - val_acc: 0.9626\n",
            "Epoch 494/500\n",
            "2/2 [==============================] - 9s 4s/step - loss: 1.3599e-05 - acc: 1.0000 - val_loss: 0.1667 - val_acc: 0.9626\n",
            "Epoch 495/500\n",
            "2/2 [==============================] - 8s 4s/step - loss: 1.3978e-05 - acc: 1.0000 - val_loss: 0.1668 - val_acc: 0.9626\n",
            "Epoch 496/500\n",
            "2/2 [==============================] - 8s 4s/step - loss: 1.4519e-05 - acc: 1.0000 - val_loss: 0.1668 - val_acc: 0.9626\n",
            "Epoch 497/500\n",
            "2/2 [==============================] - 8s 4s/step - loss: 1.4022e-05 - acc: 1.0000 - val_loss: 0.1669 - val_acc: 0.9626\n",
            "Epoch 498/500\n",
            "2/2 [==============================] - 9s 4s/step - loss: 1.4212e-05 - acc: 1.0000 - val_loss: 0.1670 - val_acc: 0.9626\n",
            "Epoch 499/500\n",
            "2/2 [==============================] - 8s 4s/step - loss: 1.2986e-05 - acc: 1.0000 - val_loss: 0.1670 - val_acc: 0.9626\n",
            "Epoch 500/500\n",
            "2/2 [==============================] - 8s 4s/step - loss: 1.3214e-05 - acc: 1.0000 - val_loss: 0.1672 - val_acc: 0.9626\n"
          ],
          "name": "stdout"
        }
      ]
    },
    {
      "cell_type": "code",
      "metadata": {
        "id": "x2qzK4SJB5y9",
        "colab": {
          "base_uri": "https://localhost:8080/",
          "height": 241
        },
        "outputId": "09ea22df-a36d-47af-a1a4-d4df25d15282"
      },
      "source": [
        "plt.figure(figsize =(5,3))\n",
        "plt.plot(history.history['acc'], marker='.', label='tune')\n",
        "plt.plot(history.history['val_acc'], marker='.', label='test')\n",
        "plt.title('Accuracy')\n",
        "plt.grid(True)\n",
        "plt.xlabel('epoch')\n",
        "plt.ylabel('accuracy')\n",
        "plt.legend(loc='best')\n",
        "plt.show()"
      ],
      "execution_count": 48,
      "outputs": [
        {
          "output_type": "display_data",
          "data": {
            "image/png": "[encoded data removed]",
            "text/plain": [
              "<Figure size 360x216 with 1 Axes>"
            ]
          },
          "metadata": {
            "tags": [],
            "needs_background": "light"
          }
        }
      ]
    },
    {
      "cell_type": "code",
      "metadata": {
        "id": "9oGBi22ZGy38"
      },
      "source": [
        ""
      ],
      "execution_count": null,
      "outputs": []
    }
  ]
}