{
  "nbformat": 4,
  "nbformat_minor": 0,
  "metadata": {
    "colab": {
      "name": "LDA Model_DS_60_3.ipynb",
      "provenance": [],
      "collapsed_sections": [],
      "include_colab_link": true
    },
    "kernelspec": {
      "name": "python3",
      "display_name": "Python 3"
    },
    "language_info": {
      "name": "python"
    },
    "accelerator": "GPU"
  },
  "cells": [
    {
      "cell_type": "markdown",
      "metadata": {
        "id": "view-in-github",
        "colab_type": "text"
      },
      "source": [
        "<a href=\"https://colab.research.google.com/github/Ilyaas189/Text-Analytics_CE_807/blob/main/LDA_Model_DS_60_3.ipynb\" target=\"_parent\"><img src=\"https://colab.research.google.com/assets/colab-badge.svg\" alt=\"Open In Colab\"/></a>"
      ]
    },
    {
      "cell_type": "code",
      "metadata": {
        "colab": {
          "resources": {
            "http://localhost:8080/nbextensions/google.colab/files.js": {
              "data": "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",
              "ok": true,
              "headers": [
                [
                  "content-type",
                  "application/javascript"
                ]
              ],
              "status": 200,
              "status_text": ""
            }
          },
          "base_uri": "https://localhost:8080/",
          "height": 37
        },
        "id": "h48neXM-ANwE",
        "outputId": "ef72d4a8-4730-4e37-c4f1-d12b5d8919e0"
      },
      "source": [
        "import pandas as pd\n",
        "import numpy as np\n",
        "import matplotlib.pyplot as plt\n",
        "import warnings\n",
        "from google.colab import files\n",
        "from sklearn.naive_bayes import MultinomialNB\n",
        "from sklearn.naive_bayes import BernoulliNB\n",
        "from sklearn.pipeline import Pipeline\n",
        "from sklearn.feature_extraction.text import TfidfVectorizer\n",
        "from sklearn.feature_extraction.text import TfidfTransformer\n",
        "from sklearn.linear_model import SGDClassifier\n",
        "from sklearn.linear_model import LogisticRegression\n",
        "from nltk.stem.snowball import SnowballStemmer\n",
        "from sklearn.neighbors import KNeighborsClassifier\n",
        "from sklearn.ensemble import RandomForestClassifier\n",
        "import numpy as np\n",
        "import re\n",
        "\n",
        "\n",
        "import matplotlib.pyplot as plt\n",
        "%matplotlib inline\n",
        "\n",
        "import nltk\n",
        "import random\n",
        "uploaded = files.upload()\n",
        "files = list(uploaded.keys())\n"
      ],
      "execution_count": 1,
      "outputs": [
        {
          "output_type": "display_data",
          "data": {
            "text/html": [
              "\n",
              "     <input type=\"file\" id=\"files-3ca16122-aa66-4272-828d-ae9631d6354d\" name=\"files[]\" multiple disabled\n",
              "        style=\"border:none\" />\n",
              "     <output id=\"result-3ca16122-aa66-4272-828d-ae9631d6354d\">\n",
              "      Upload widget is only available when the cell has been executed in the\n",
              "      current browser session. Please rerun this cell to enable.\n",
              "      </output>\n",
              "      <script src=\"/nbextensions/google.colab/files.js\"></script> "
            ],
            "text/plain": [
              "<IPython.core.display.HTML object>"
            ]
          },
          "metadata": {
            "tags": []
          }
        }
      ]
    },
    {
      "cell_type": "code",
      "metadata": {
        "colab": {
          "base_uri": "https://localhost:8080/"
        },
        "id": "qcrJU_pzAhOm",
        "outputId": "9e3dec45-a462-4874-8f17-793148a99f95"
      },
      "source": [
        "# Import Dataset\n",
        "data = pd.read_json('https://raw.githubusercontent.com/selva86/datasets/master/newsgroups.json')\n",
        "print(data.target_names.unique())"
      ],
      "execution_count": 2,
      "outputs": [
        {
          "output_type": "stream",
          "text": [
            "['rec.autos' 'comp.sys.mac.hardware' 'comp.graphics' 'sci.space'\n",
            " 'talk.politics.guns' 'sci.med' 'comp.sys.ibm.pc.hardware'\n",
            " 'comp.os.ms-windows.misc' 'rec.motorcycles' 'talk.religion.misc'\n",
            " 'misc.forsale' 'alt.atheism' 'sci.electronics' 'comp.windows.x'\n",
            " 'rec.sport.hockey' 'rec.sport.baseball' 'soc.religion.christian'\n",
            " 'talk.politics.mideast' 'talk.politics.misc' 'sci.crypt']\n"
          ],
          "name": "stdout"
        }
      ]
    },
    {
      "cell_type": "code",
      "metadata": {
        "colab": {
          "base_uri": "https://localhost:8080/",
          "height": 648
        },
        "id": "SnGiNUYGAtLQ",
        "outputId": "83979904-875b-4949-e37c-2e7f1783f3c7"
      },
      "source": [
        "data.head(20)"
      ],
      "execution_count": 3,
      "outputs": [
        {
          "output_type": "execute_result",
          "data": {
            "text/html": [
              "<div>\n",
              "<style scoped>\n",
              "    .dataframe tbody tr th:only-of-type {\n",
              "        vertical-align: middle;\n",
              "    }\n",
              "\n",
              "    .dataframe tbody tr th {\n",
              "        vertical-align: top;\n",
              "    }\n",
              "\n",
              "    .dataframe thead th {\n",
              "        text-align: right;\n",
              "    }\n",
              "</style>\n",
              "<table border=\"1\" class=\"dataframe\">\n",
              "  <thead>\n",
              "    <tr style=\"text-align: right;\">\n",
              "      <th></th>\n",
              "      <th>content</th>\n",
              "      <th>target</th>\n",
              "      <th>target_names</th>\n",
              "    </tr>\n",
              "  </thead>\n",
              "  <tbody>\n",
              "    <tr>\n",
              "      <th>0</th>\n",
              "      <td>From: lerxst@wam.umd.edu (where's my thing)\\nS...</td>\n",
              "      <td>7</td>\n",
              "      <td>rec.autos</td>\n",
              "    </tr>\n",
              "    <tr>\n",
              "      <th>1</th>\n",
              "      <td>From: guykuo@carson.u.washington.edu (Guy Kuo)...</td>\n",
              "      <td>4</td>\n",
              "      <td>comp.sys.mac.hardware</td>\n",
              "    </tr>\n",
              "    <tr>\n",
              "      <th>2</th>\n",
              "      <td>From: twillis@ec.ecn.purdue.edu (Thomas E Will...</td>\n",
              "      <td>4</td>\n",
              "      <td>comp.sys.mac.hardware</td>\n",
              "    </tr>\n",
              "    <tr>\n",
              "      <th>3</th>\n",
              "      <td>From: jgreen@amber (Joe Green)\\nSubject: Re: W...</td>\n",
              "      <td>1</td>\n",
              "      <td>comp.graphics</td>\n",
              "    </tr>\n",
              "    <tr>\n",
              "      <th>4</th>\n",
              "      <td>From: jcm@head-cfa.harvard.edu (Jonathan McDow...</td>\n",
              "      <td>14</td>\n",
              "      <td>sci.space</td>\n",
              "    </tr>\n",
              "    <tr>\n",
              "      <th>5</th>\n",
              "      <td>From: dfo@vttoulu.tko.vtt.fi (Foxvog Douglas)\\...</td>\n",
              "      <td>16</td>\n",
              "      <td>talk.politics.guns</td>\n",
              "    </tr>\n",
              "    <tr>\n",
              "      <th>6</th>\n",
              "      <td>From: bmdelane@quads.uchicago.edu (brian manni...</td>\n",
              "      <td>13</td>\n",
              "      <td>sci.med</td>\n",
              "    </tr>\n",
              "    <tr>\n",
              "      <th>7</th>\n",
              "      <td>From: bgrubb@dante.nmsu.edu (GRUBB)\\nSubject: ...</td>\n",
              "      <td>3</td>\n",
              "      <td>comp.sys.ibm.pc.hardware</td>\n",
              "    </tr>\n",
              "    <tr>\n",
              "      <th>8</th>\n",
              "      <td>From: holmes7000@iscsvax.uni.edu\\nSubject: WIn...</td>\n",
              "      <td>2</td>\n",
              "      <td>comp.os.ms-windows.misc</td>\n",
              "    </tr>\n",
              "    <tr>\n",
              "      <th>9</th>\n",
              "      <td>From: kerr@ux1.cso.uiuc.edu (Stan Kerr)\\nSubje...</td>\n",
              "      <td>4</td>\n",
              "      <td>comp.sys.mac.hardware</td>\n",
              "    </tr>\n",
              "    <tr>\n",
              "      <th>10</th>\n",
              "      <td>From: irwin@cmptrc.lonestar.org (Irwin Arnstei...</td>\n",
              "      <td>8</td>\n",
              "      <td>rec.motorcycles</td>\n",
              "    </tr>\n",
              "    <tr>\n",
              "      <th>11</th>\n",
              "      <td>From: david@terminus.ericsson.se (David Bold)\\...</td>\n",
              "      <td>19</td>\n",
              "      <td>talk.religion.misc</td>\n",
              "    </tr>\n",
              "    <tr>\n",
              "      <th>12</th>\n",
              "      <td>From: rodc@fc.hp.com (Rod Cerkoney)\\nSubject: ...</td>\n",
              "      <td>4</td>\n",
              "      <td>comp.sys.mac.hardware</td>\n",
              "    </tr>\n",
              "    <tr>\n",
              "      <th>13</th>\n",
              "      <td>From: dbm0000@tm0006.lerc.nasa.gov (David B. M...</td>\n",
              "      <td>14</td>\n",
              "      <td>sci.space</td>\n",
              "    </tr>\n",
              "    <tr>\n",
              "      <th>14</th>\n",
              "      <td>From: jllee@acsu.buffalo.edu (Johnny L Lee)\\nS...</td>\n",
              "      <td>6</td>\n",
              "      <td>misc.forsale</td>\n",
              "    </tr>\n",
              "    <tr>\n",
              "      <th>15</th>\n",
              "      <td>From: mathew &lt;mathew@mantis.co.uk&gt;\\nSubject: R...</td>\n",
              "      <td>0</td>\n",
              "      <td>alt.atheism</td>\n",
              "    </tr>\n",
              "    <tr>\n",
              "      <th>16</th>\n",
              "      <td>From: ab@nova.cc.purdue.edu (Allen B)\\nSubject...</td>\n",
              "      <td>1</td>\n",
              "      <td>comp.graphics</td>\n",
              "    </tr>\n",
              "    <tr>\n",
              "      <th>17</th>\n",
              "      <td>From: CPKJP@vm.cc.latech.edu (Kevin Parker)\\nS...</td>\n",
              "      <td>7</td>\n",
              "      <td>rec.autos</td>\n",
              "    </tr>\n",
              "    <tr>\n",
              "      <th>18</th>\n",
              "      <td>From: ritley@uimrl7.mrl.uiuc.edu ()\\nSubject: ...</td>\n",
              "      <td>12</td>\n",
              "      <td>sci.electronics</td>\n",
              "    </tr>\n",
              "    <tr>\n",
              "      <th>19</th>\n",
              "      <td>From: abarden@tybse1.uucp (Ann Marie Barden)\\n...</td>\n",
              "      <td>5</td>\n",
              "      <td>comp.windows.x</td>\n",
              "    </tr>\n",
              "  </tbody>\n",
              "</table>\n",
              "</div>"
            ],
            "text/plain": [
              "                                              content  ...              target_names\n",
              "0   From: lerxst@wam.umd.edu (where's my thing)\\nS...  ...                 rec.autos\n",
              "1   From: guykuo@carson.u.washington.edu (Guy Kuo)...  ...     comp.sys.mac.hardware\n",
              "2   From: twillis@ec.ecn.purdue.edu (Thomas E Will...  ...     comp.sys.mac.hardware\n",
              "3   From: jgreen@amber (Joe Green)\\nSubject: Re: W...  ...             comp.graphics\n",
              "4   From: jcm@head-cfa.harvard.edu (Jonathan McDow...  ...                 sci.space\n",
              "5   From: dfo@vttoulu.tko.vtt.fi (Foxvog Douglas)\\...  ...        talk.politics.guns\n",
              "6   From: bmdelane@quads.uchicago.edu (brian manni...  ...                   sci.med\n",
              "7   From: bgrubb@dante.nmsu.edu (GRUBB)\\nSubject: ...  ...  comp.sys.ibm.pc.hardware\n",
              "8   From: holmes7000@iscsvax.uni.edu\\nSubject: WIn...  ...   comp.os.ms-windows.misc\n",
              "9   From: kerr@ux1.cso.uiuc.edu (Stan Kerr)\\nSubje...  ...     comp.sys.mac.hardware\n",
              "10  From: irwin@cmptrc.lonestar.org (Irwin Arnstei...  ...           rec.motorcycles\n",
              "11  From: david@terminus.ericsson.se (David Bold)\\...  ...        talk.religion.misc\n",
              "12  From: rodc@fc.hp.com (Rod Cerkoney)\\nSubject: ...  ...     comp.sys.mac.hardware\n",
              "13  From: dbm0000@tm0006.lerc.nasa.gov (David B. M...  ...                 sci.space\n",
              "14  From: jllee@acsu.buffalo.edu (Johnny L Lee)\\nS...  ...              misc.forsale\n",
              "15  From: mathew <mathew@mantis.co.uk>\\nSubject: R...  ...               alt.atheism\n",
              "16  From: ab@nova.cc.purdue.edu (Allen B)\\nSubject...  ...             comp.graphics\n",
              "17  From: CPKJP@vm.cc.latech.edu (Kevin Parker)\\nS...  ...                 rec.autos\n",
              "18  From: ritley@uimrl7.mrl.uiuc.edu ()\\nSubject: ...  ...           sci.electronics\n",
              "19  From: abarden@tybse1.uucp (Ann Marie Barden)\\n...  ...            comp.windows.x\n",
              "\n",
              "[20 rows x 3 columns]"
            ]
          },
          "metadata": {
            "tags": []
          },
          "execution_count": 3
        }
      ]
    },
    {
      "cell_type": "code",
      "metadata": {
        "colab": {
          "base_uri": "https://localhost:8080/"
        },
        "id": "i1t4Hd65BKo4",
        "outputId": "2ded4cc0-78e6-4e12-c05e-63a370815acf"
      },
      "source": [
        "data_clusterization = data[['content', 'target_names']]\n",
        "data_clusterization.dropna(inplace=True)"
      ],
      "execution_count": 4,
      "outputs": [
        {
          "output_type": "stream",
          "text": [
            "/usr/local/lib/python3.7/dist-packages/ipykernel_launcher.py:2: SettingWithCopyWarning: \n",
            "A value is trying to be set on a copy of a slice from a DataFrame\n",
            "\n",
            "See the caveats in the documentation: https://pandas.pydata.org/pandas-docs/stable/user_guide/indexing.html#returning-a-view-versus-a-copy\n",
            "  \n"
          ],
          "name": "stderr"
        }
      ]
    },
    {
      "cell_type": "code",
      "metadata": {
        "colab": {
          "base_uri": "https://localhost:8080/",
          "height": 108
        },
        "id": "0xRJ8_03Bd1W",
        "outputId": "fb078494-62c6-43fb-b5fa-51fd7ebc6d14"
      },
      "source": [
        "data_clusterization.head(2)\n"
      ],
      "execution_count": 5,
      "outputs": [
        {
          "output_type": "execute_result",
          "data": {
            "text/html": [
              "<div>\n",
              "<style scoped>\n",
              "    .dataframe tbody tr th:only-of-type {\n",
              "        vertical-align: middle;\n",
              "    }\n",
              "\n",
              "    .dataframe tbody tr th {\n",
              "        vertical-align: top;\n",
              "    }\n",
              "\n",
              "    .dataframe thead th {\n",
              "        text-align: right;\n",
              "    }\n",
              "</style>\n",
              "<table border=\"1\" class=\"dataframe\">\n",
              "  <thead>\n",
              "    <tr style=\"text-align: right;\">\n",
              "      <th></th>\n",
              "      <th>content</th>\n",
              "      <th>target_names</th>\n",
              "    </tr>\n",
              "  </thead>\n",
              "  <tbody>\n",
              "    <tr>\n",
              "      <th>0</th>\n",
              "      <td>From: lerxst@wam.umd.edu (where's my thing)\\nS...</td>\n",
              "      <td>rec.autos</td>\n",
              "    </tr>\n",
              "    <tr>\n",
              "      <th>1</th>\n",
              "      <td>From: guykuo@carson.u.washington.edu (Guy Kuo)...</td>\n",
              "      <td>comp.sys.mac.hardware</td>\n",
              "    </tr>\n",
              "  </tbody>\n",
              "</table>\n",
              "</div>"
            ],
            "text/plain": [
              "                                             content           target_names\n",
              "0  From: lerxst@wam.umd.edu (where's my thing)\\nS...              rec.autos\n",
              "1  From: guykuo@carson.u.washington.edu (Guy Kuo)...  comp.sys.mac.hardware"
            ]
          },
          "metadata": {
            "tags": []
          },
          "execution_count": 5
        }
      ]
    },
    {
      "cell_type": "code",
      "metadata": {
        "colab": {
          "base_uri": "https://localhost:8080/"
        },
        "id": "0iUh1DoLBmXP",
        "outputId": "f880f115-58dd-41e5-86da-d44ae3e8991f"
      },
      "source": [
        "import gensim\n",
        "from gensim.utils import simple_preprocess\n",
        "from gensim.parsing.preprocessing import STOPWORDS\n",
        "from nltk.stem import WordNetLemmatizer, SnowballStemmer\n",
        "from nltk.stem.porter import *\n",
        "import numpy as np\n",
        "np.random.seed(2018)\n",
        "import nltk\n",
        "nltk.download('wordnet')"
      ],
      "execution_count": 6,
      "outputs": [
        {
          "output_type": "stream",
          "text": [
            "[nltk_data] Downloading package wordnet to /root/nltk_data...\n",
            "[nltk_data]   Unzipping corpora/wordnet.zip.\n"
          ],
          "name": "stdout"
        },
        {
          "output_type": "execute_result",
          "data": {
            "text/plain": [
              "True"
            ]
          },
          "metadata": {
            "tags": []
          },
          "execution_count": 6
        }
      ]
    },
    {
      "cell_type": "code",
      "metadata": {
        "id": "s7hwfWd1Bw8S"
      },
      "source": [
        "def lemmatize_stemming(text):\n",
        " stemmer = SnowballStemmer(language='english')\n",
        " return stemmer.stem(WordNetLemmatizer().lemmatize(text, pos='v'))\n",
        "def preprocess(text):\n",
        " result = []\n",
        " for token in gensim.utils.simple_preprocess(text):\n",
        "   if token not in gensim.parsing.preprocessing.STOPWORDS and len(token) > 3:\n",
        "     result.append(lemmatize_stemming(token))\n",
        " return result"
      ],
      "execution_count": 7,
      "outputs": []
    },
    {
      "cell_type": "code",
      "metadata": {
        "id": "iJfVX8biB_Sa"
      },
      "source": [
        "processed_docs = data_clusterization['content'].map(preprocess)\n",
        "data_processed = processed_docs.to_frame()\n",
        "data_processed['content'] = data_processed.content.apply(lambda x: ' '.join(x))\n"
      ],
      "execution_count": 8,
      "outputs": []
    },
    {
      "cell_type": "code",
      "metadata": {
        "colab": {
          "base_uri": "https://localhost:8080/"
        },
        "id": "gCHPTBYJClMy",
        "outputId": "db62f64a-60a3-4279-c998-5611cb1cfabf"
      },
      "source": [
        "!pip install tokenize_uk\n",
        "from collections import Counter\n",
        "from tokenize_uk.tokenize_uk import tokenize_words"
      ],
      "execution_count": 9,
      "outputs": [
        {
          "output_type": "stream",
          "text": [
            "Collecting tokenize_uk\n",
            "  Downloading https://files.pythonhosted.org/packages/ac/21/72abb0304b532e1b2d2473b50d8063ddd0943e3b3fe7e86b366bc4d02aa2/tokenize_uk-0.2.0.tar.gz\n",
            "Requirement already satisfied: six in /usr/local/lib/python3.7/dist-packages (from tokenize_uk) (1.15.0)\n",
            "Building wheels for collected packages: tokenize-uk\n",
            "  Building wheel for tokenize-uk (setup.py) ... \u001b[?25l\u001b[?25hdone\n",
            "  Created wheel for tokenize-uk: filename=tokenize_uk-0.2.0-py2.py3-none-any.whl size=4565 sha256=b971110ceaea6ef363ee6e0a8b36e48bec56d88bf82f6e667bea615107bff7ff\n",
            "  Stored in directory: /root/.cache/pip/wheels/2c/e1/95/fd8af5b40aeebdc4e178974e7f638f5553aa8772117054db9e\n",
            "Successfully built tokenize-uk\n",
            "Installing collected packages: tokenize-uk\n",
            "Successfully installed tokenize-uk-0.2.0\n"
          ],
          "name": "stdout"
        }
      ]
    },
    {
      "cell_type": "code",
      "metadata": {
        "colab": {
          "base_uri": "https://localhost:8080/",
          "height": 363
        },
        "id": "94mq8WUoCqHq",
        "outputId": "3cfb946b-b232-4a77-c605-4cc03368106b"
      },
      "source": [
        "def display_words(data, title, ax):\n",
        " count = Counter(sum(map(lambda text: tokenize_words(text), data), []))\n",
        " popular = np.array(sorted(count.items(), key=lambda x: x[1], reverse=True)[:20])\n",
        " plt.sca(ax)\n",
        " plt.title(title)\n",
        " plt.bar(popular[:,0], np.int32(popular[:,1]))\n",
        " plt.xticks(rotation=\"vertical\")\n",
        "fig, ax = plt.subplots(figsize=(16, 5))\n",
        "display_words(data_processed.sample(1000).content, \"The most popular words]\", ax)"
      ],
      "execution_count": 10,
      "outputs": [
        {
          "output_type": "display_data",
          "data": {
            "image/png": "[encoded data removed]",
            "text/plain": [
              "<Figure size 1152x360 with 1 Axes>"
            ]
          },
          "metadata": {
            "tags": [],
            "needs_background": "light"
          }
        }
      ]
    },
    {
      "cell_type": "code",
      "metadata": {
        "id": "UCM4qevNC5Ty"
      },
      "source": [
        "from sklearn.feature_extraction.text import CountVectorizer"
      ],
      "execution_count": 11,
      "outputs": []
    },
    {
      "cell_type": "code",
      "metadata": {
        "colab": {
          "base_uri": "https://localhost:8080/"
        },
        "id": "NMnRgz3aC8f5",
        "outputId": "54efad0f-91cf-40d6-9d16-48e34aa1f510"
      },
      "source": [
        "count_vectorizer = CountVectorizer()\n",
        "count_data = count_vectorizer.fit_transform(data_processed['content'])\n",
        "count_data"
      ],
      "execution_count": 12,
      "outputs": [
        {
          "output_type": "execute_result",
          "data": {
            "text/plain": [
              "<11314x61410 sparse matrix of type '<class 'numpy.int64'>'\n",
              "\twith 934270 stored elements in Compressed Sparse Row format>"
            ]
          },
          "metadata": {
            "tags": []
          },
          "execution_count": 12
        }
      ]
    },
    {
      "cell_type": "code",
      "metadata": {
        "id": "6TmSX73jDEJS"
      },
      "source": [
        "likelihood = []\n",
        "n_clusters = []"
      ],
      "execution_count": 13,
      "outputs": []
    },
    {
      "cell_type": "code",
      "metadata": {
        "id": "z9uTcUJlDHT0"
      },
      "source": [
        "import seaborn as sns\n",
        "from sklearn.decomposition import LatentDirichletAllocation as LDA"
      ],
      "execution_count": 14,
      "outputs": []
    },
    {
      "cell_type": "code",
      "metadata": {
        "id": "Hki6oWR0DLwb"
      },
      "source": [
        "def estimate_number_clusters(data, nclusters):\n",
        " for n in nclusters:\n",
        "   likelihood.append(LDA(n_components=n, n_jobs=-1).fit(data).score(data))\n",
        " n_clusters.append(n)\n",
        " print(\"Sccesfully estimated \", n)\n",
        " fig, ax = plt.subplots(figsize=(15, 5))\n",
        " sns.lineplot(x=n_clusters, y=likelihood, ax=ax)\n",
        " ax.set_title('Elbow method for choosing n, likelihood')\n",
        " ax.set_ylabel('Likelihood')\n",
        " ax.set_xlabel('n')\n",
        "\n",
        "\n"
      ],
      "execution_count": 15,
      "outputs": []
    },
    {
      "cell_type": "code",
      "metadata": {
        "id": "_CBG_y1fJszZ"
      },
      "source": [
        "# estimate_number_clusters(count_data, [10, 15, 20, 50])\n",
        " \n",
        " "
      ],
      "execution_count": 16,
      "outputs": []
    },
    {
      "cell_type": "code",
      "metadata": {
        "id": "_XNMixjQJuYE"
      },
      "source": [
        "def print_topics(model, count_vectorizer, n_top_words):\n",
        "  words = count_vectorizer.get_feature_names()\n",
        "  for topic_idx, topic in enumerate(model.components_):\n",
        "    print(\"\\nTopic #%d:\" % topic_idx)\n",
        "    print(\" \".join([words[i]\n",
        "  for i in topic.argsort()[:-n_top_words - 1:-1]]))"
      ],
      "execution_count": 17,
      "outputs": []
    },
    {
      "cell_type": "code",
      "metadata": {
        "id": "Ugizp_hhFpzm"
      },
      "source": [
        "from sklearn.decomposition import LatentDirichletAllocation as LDA\n"
      ],
      "execution_count": 18,
      "outputs": []
    },
    {
      "cell_type": "code",
      "metadata": {
        "colab": {
          "base_uri": "https://localhost:8080/"
        },
        "id": "oWtTkYX1Ftia",
        "outputId": "7afb1ea2-974b-494a-fc91-d972a30ff09b"
      },
      "source": [
        "number_topics = 60\n",
        "number_words = 10\n",
        "# Create and fit the LDA model\n",
        "lda = LDA(n_components=number_topics, n_jobs=-1)\n",
        "lda.fit(count_data)\n",
        "# Print the topics found by the LDA model\n",
        "print(\"Topics found via LDA:\")\n",
        "print_topics(lda, count_vectorizer, number_words)"
      ],
      "execution_count": 19,
      "outputs": [
        {
          "output_type": "stream",
          "text": [
            "Topics found via LDA:\n",
            "\n",
            "Topic #0:\n",
            "uiuc austin write line utexa subject organ texa articl illinoi\n",
            "\n",
            "Topic #1:\n",
            "moral cwru write subject post object cleveland line organ keith\n",
            "\n",
            "Topic #2:\n",
            "andrew pitt bank subject organ line gordon pittsburgh write articl\n",
            "\n",
            "Topic #3:\n",
            "access digex line post subject organ write host nntp audio\n",
            "\n",
            "Topic #4:\n",
            "netcom line organ subject communic write phone clipper brad servic\n",
            "\n",
            "Topic #5:\n",
            "line subject organ engin write softwar nasa like post nntp\n",
            "\n",
            "Topic #6:\n",
            "line organ subject univers pitch articl ball write year john\n",
            "\n",
            "Topic #7:\n",
            "sale line subject organ columbia univers post sell host nntp\n",
            "\n",
            "Topic #8:\n",
            "state ohio write articl magnus line subject organ univers princeton\n",
            "\n",
            "Topic #9:\n",
            "bike wire like line subject good time organ drive look\n",
            "\n",
            "Topic #10:\n",
            "line subject organ nasa post articl larc write david nntp\n",
            "\n",
            "Topic #11:\n",
            "write armenia armenian line henrik articl organ subject mormon say\n",
            "\n",
            "Topic #12:\n",
            "european south time american world nuclear rockefel island franci british\n",
            "\n",
            "Topic #13:\n",
            "imag file format graphic jpeg color convert program keyboard display\n",
            "\n",
            "Topic #14:\n",
            "encrypt chip secur clipper key govern escrow privaci public technolog\n",
            "\n",
            "Topic #15:\n",
            "navi subject organ line center articl research write cancer oasi\n",
            "\n",
            "Topic #16:\n",
            "israel isra say arab peopl jew go know come think\n",
            "\n",
            "Topic #17:\n",
            "card port line subject modem organ driver board univers serial\n",
            "\n",
            "Topic #18:\n",
            "militia right organ peopl write articl second subject arm amend\n",
            "\n",
            "Topic #19:\n",
            "univers nation institut center research inform confer studi april organ\n",
            "\n",
            "Topic #20:\n",
            "line subject organ articl write freenet carleton post washington nntp\n",
            "\n",
            "Topic #21:\n",
            "write articl subject organ line know food post like year\n",
            "\n",
            "Topic #22:\n",
            "flyer mike clarkson rochest john line lindro michael zone play\n",
            "\n",
            "Topic #23:\n",
            "jake boni master marriag marri slave write subject opinion jumper\n",
            "\n",
            "Topic #24:\n",
            "appl sandvik kent write organ line articl subject monash newton\n",
            "\n",
            "Topic #25:\n",
            "avail mail includ user server data list inform program file\n",
            "\n",
            "Topic #26:\n",
            "line write organ subject think post harri right articl host\n",
            "\n",
            "Topic #27:\n",
            "peopl right govern state think countri like want person polit\n",
            "\n",
            "Topic #28:\n",
            "period play power king sweden second goal scorer shot line\n",
            "\n",
            "Topic #29:\n",
            "articl write organ subject toronto henri line cramer optilink clayton\n",
            "\n",
            "Topic #30:\n",
            "window subject line organ post buffalo nntp host write captain\n",
            "\n",
            "Topic #31:\n",
            "game team play player hockey season year line score leagu\n",
            "\n",
            "Topic #32:\n",
            "stratus write koresh articl start line subject organ compound batf\n",
            "\n",
            "Topic #33:\n",
            "vote contact mail send version hiram post type avail univers\n",
            "\n",
            "Topic #34:\n",
            "oracl dresden amherst andr line wagon organ beck eliot subject\n",
            "\n",
            "Topic #35:\n",
            "colorado gatech prism subject line organ write boulder georgia articl\n",
            "\n",
            "Topic #36:\n",
            "virginia line organ subject univers arizona water food smoke write\n",
            "\n",
            "Topic #37:\n",
            "armenian turkish turk greek turkey argic serdar genocid armenia peopl\n",
            "\n",
            "Topic #38:\n",
            "write articl organ helmet line subject like ingr behanna post\n",
            "\n",
            "Topic #39:\n",
            "line organ subject mcgill write hawk articl adob post nntp\n",
            "\n",
            "Topic #40:\n",
            "diseas doctor medic patient treatment pain organ problem time caus\n",
            "\n",
            "Topic #41:\n",
            "jesus christian christ come say know write church peopl bibl\n",
            "\n",
            "Topic #42:\n",
            "gun firearm weapon crime crimin control handgun polic like file\n",
            "\n",
            "Topic #43:\n",
            "write subject line organ articl post know think nntp host\n",
            "\n",
            "Topic #44:\n",
            "drive scsi disk control hard problem line floppi subject organ\n",
            "\n",
            "Topic #45:\n",
            "atheism atheist post subject exist write line organ pope articl\n",
            "\n",
            "Topic #46:\n",
            "subject line articl organ write year child children stein post\n",
            "\n",
            "Topic #47:\n",
            "nrhj wwiz link alloc subject harvard unit gizw bhjn organ\n",
            "\n",
            "Topic #48:\n",
            "islam muslim jaeger rushdi gregg byte line bit buphi organ\n",
            "\n",
            "Topic #49:\n",
            "christian believ peopl think question exist know reason write claim\n",
            "\n",
            "Topic #50:\n",
            "line subject organ point govern libertarian steve write thor univers\n",
            "\n",
            "Topic #51:\n",
            "window line subject organ post problem thank host nntp univers\n",
            "\n",
            "Topic #52:\n",
            "drug tobacco health legal report articl state cigarett like smokeless\n",
            "\n",
            "Topic #53:\n",
            "organ line subject anti write bellcor say francisco muenchen semit\n",
            "\n",
            "Topic #54:\n",
            "year line organ subject like articl think write univers know\n",
            "\n",
            "Topic #55:\n",
            "subject problem line organ water motif lose post host nntp\n",
            "\n",
            "Topic #56:\n",
            "line write subject organ insur need articl nore post batf\n",
            "\n",
            "Topic #57:\n",
            "presid stephanopoulo go say know work think time clinton job\n",
            "\n",
            "Topic #58:\n",
            "file window program entri output line widget return write applic\n",
            "\n",
            "Topic #59:\n",
            "space nasa orbit launch earth satellit moon mission lunar year\n"
          ],
          "name": "stdout"
        }
      ]
    },
    {
      "cell_type": "code",
      "metadata": {
        "colab": {
          "base_uri": "https://localhost:8080/",
          "height": 198
        },
        "id": "LrPaQEiuGRt3",
        "outputId": "6da92a5a-0183-4701-e15b-b2e39214abe2"
      },
      "source": [
        "cluster_probabilities = lda.transform(count_data)\n",
        "data_processed['target'] = np.argmax(cluster_probabilities, axis=1)\n",
        "data_processed.head()"
      ],
      "execution_count": 20,
      "outputs": [
        {
          "output_type": "execute_result",
          "data": {
            "text/html": [
              "<div>\n",
              "<style scoped>\n",
              "    .dataframe tbody tr th:only-of-type {\n",
              "        vertical-align: middle;\n",
              "    }\n",
              "\n",
              "    .dataframe tbody tr th {\n",
              "        vertical-align: top;\n",
              "    }\n",
              "\n",
              "    .dataframe thead th {\n",
              "        text-align: right;\n",
              "    }\n",
              "</style>\n",
              "<table border=\"1\" class=\"dataframe\">\n",
              "  <thead>\n",
              "    <tr style=\"text-align: right;\">\n",
              "      <th></th>\n",
              "      <th>content</th>\n",
              "      <th>target</th>\n",
              "    </tr>\n",
              "  </thead>\n",
              "  <tbody>\n",
              "    <tr>\n",
              "      <th>0</th>\n",
              "      <td>lerxst thing subject nntp post host organ univ...</td>\n",
              "      <td>21</td>\n",
              "    </tr>\n",
              "    <tr>\n",
              "      <th>1</th>\n",
              "      <td>guykuo carson washington subject clock poll fi...</td>\n",
              "      <td>18</td>\n",
              "    </tr>\n",
              "    <tr>\n",
              "      <th>2</th>\n",
              "      <td>twilli purdu thoma willi subject question orga...</td>\n",
              "      <td>51</td>\n",
              "    </tr>\n",
              "    <tr>\n",
              "      <th>3</th>\n",
              "      <td>jgreen amber green subject weitek organ harri ...</td>\n",
              "      <td>5</td>\n",
              "    </tr>\n",
              "    <tr>\n",
              "      <th>4</th>\n",
              "      <td>head harvard jonathan mcdowel subject shuttl l...</td>\n",
              "      <td>5</td>\n",
              "    </tr>\n",
              "  </tbody>\n",
              "</table>\n",
              "</div>"
            ],
            "text/plain": [
              "                                             content  target\n",
              "0  lerxst thing subject nntp post host organ univ...      21\n",
              "1  guykuo carson washington subject clock poll fi...      18\n",
              "2  twilli purdu thoma willi subject question orga...      51\n",
              "3  jgreen amber green subject weitek organ harri ...       5\n",
              "4  head harvard jonathan mcdowel subject shuttl l...       5"
            ]
          },
          "metadata": {
            "tags": []
          },
          "execution_count": 20
        }
      ]
    },
    {
      "cell_type": "code",
      "metadata": {
        "id": "oJNJOHB9GkKP"
      },
      "source": [
        "import seaborn as sns\n"
      ],
      "execution_count": 21,
      "outputs": []
    },
    {
      "cell_type": "code",
      "metadata": {
        "colab": {
          "base_uri": "https://localhost:8080/",
          "height": 593
        },
        "id": "At3W9AMVGnga",
        "outputId": "978288ec-6252-4c1a-a8c2-eff8de0a6652"
      },
      "source": [
        "fig, ax = plt.subplots(figsize=(20, 10))\n",
        "sns.countplot(x=data_processed.target);\n",
        "ax.set_title(\"Number of articles that correspond to the topic\");\n"
      ],
      "execution_count": 22,
      "outputs": [
        {
          "output_type": "display_data",
          "data": {
            "image/png": "[encoded data removed]",
            "text/plain": [
              "<Figure size 1440x720 with 1 Axes>"
            ]
          },
          "metadata": {
            "tags": [],
            "needs_background": "light"
          }
        }
      ]
    },
    {
      "cell_type": "code",
      "metadata": {
        "id": "kJ07JMrCRAYx",
        "colab": {
          "base_uri": "https://localhost:8080/"
        },
        "outputId": "57b1c6e8-cca3-4875-9ed8-f4ddc93b5e47"
      },
      "source": [
        "#Loading the data set - training data.\n",
        "from sklearn.datasets import fetch_20newsgroups\n",
        "mydata_train = fetch_20newsgroups(subset='train', shuffle=True, remove = ('headers', 'footers', 'quotes'))"
      ],
      "execution_count": 23,
      "outputs": [
        {
          "output_type": "stream",
          "text": [
            "Downloading 20news dataset. This may take a few minutes.\n",
            "Downloading dataset from https://ndownloader.figshare.com/files/5975967 (14 MB)\n"
          ],
          "name": "stderr"
        }
      ]
    },
    {
      "cell_type": "code",
      "metadata": {
        "colab": {
          "base_uri": "https://localhost:8080/"
        },
        "id": "Bpyae_wBRHIU",
        "outputId": "472cd16a-1fb4-4ad4-d344-29fafeadd7fa"
      },
      "source": [
        "list(mydata_train)\n"
      ],
      "execution_count": 24,
      "outputs": [
        {
          "output_type": "execute_result",
          "data": {
            "text/plain": [
              "['data', 'filenames', 'target_names', 'target', 'DESCR']"
            ]
          },
          "metadata": {
            "tags": []
          },
          "execution_count": 24
        }
      ]
    },
    {
      "cell_type": "code",
      "metadata": {
        "colab": {
          "base_uri": "https://localhost:8080/"
        },
        "id": "WsmrhUPeRJ9l",
        "outputId": "b84af28c-683e-4afe-c81b-477e254347f4"
      },
      "source": [
        "print('Training data size:', len(mydata_train['data']))\n"
      ],
      "execution_count": 25,
      "outputs": [
        {
          "output_type": "stream",
          "text": [
            "Training data size: 11314\n"
          ],
          "name": "stdout"
        }
      ]
    },
    {
      "cell_type": "code",
      "metadata": {
        "colab": {
          "base_uri": "https://localhost:8080/"
        },
        "id": "Nv1WrOdSRONT",
        "outputId": "bcef56b8-ddc0-403f-cf31-323ff774417e"
      },
      "source": [
        "# Printing all the categories\n",
        "mydata_train.target_names"
      ],
      "execution_count": 26,
      "outputs": [
        {
          "output_type": "execute_result",
          "data": {
            "text/plain": [
              "['alt.atheism',\n",
              " 'comp.graphics',\n",
              " 'comp.os.ms-windows.misc',\n",
              " 'comp.sys.ibm.pc.hardware',\n",
              " 'comp.sys.mac.hardware',\n",
              " 'comp.windows.x',\n",
              " 'misc.forsale',\n",
              " 'rec.autos',\n",
              " 'rec.motorcycles',\n",
              " 'rec.sport.baseball',\n",
              " 'rec.sport.hockey',\n",
              " 'sci.crypt',\n",
              " 'sci.electronics',\n",
              " 'sci.med',\n",
              " 'sci.space',\n",
              " 'soc.religion.christian',\n",
              " 'talk.politics.guns',\n",
              " 'talk.politics.mideast',\n",
              " 'talk.politics.misc',\n",
              " 'talk.religion.misc']"
            ]
          },
          "metadata": {
            "tags": []
          },
          "execution_count": 26
        }
      ]
    },
    {
      "cell_type": "code",
      "metadata": {
        "colab": {
          "base_uri": "https://localhost:8080/"
        },
        "id": "krZedPVlRRxL",
        "outputId": "5f9fc7be-5846-4f6e-982f-4aa748f9b212"
      },
      "source": [
        "\n",
        "# Finding frequency of each category\n",
        "targets, frequency = np.unique(mydata_train.target, return_counts=True)\n",
        "targets, frequency"
      ],
      "execution_count": 27,
      "outputs": [
        {
          "output_type": "execute_result",
          "data": {
            "text/plain": [
              "(array([ 0,  1,  2,  3,  4,  5,  6,  7,  8,  9, 10, 11, 12, 13, 14, 15, 16,\n",
              "        17, 18, 19]),\n",
              " array([480, 584, 591, 590, 578, 593, 585, 594, 598, 597, 600, 595, 591,\n",
              "        594, 593, 599, 546, 564, 465, 377]))"
            ]
          },
          "metadata": {
            "tags": []
          },
          "execution_count": 27
        }
      ]
    },
    {
      "cell_type": "code",
      "metadata": {
        "colab": {
          "base_uri": "https://localhost:8080/"
        },
        "id": "lSr8qhRVRWTb",
        "outputId": "a2426bbc-a7db-42ed-cec1-470c73228b35"
      },
      "source": [
        "targets_str = np.array(mydata_train.target_names)\n",
        "print(list(zip(targets_str, frequency)))"
      ],
      "execution_count": 28,
      "outputs": [
        {
          "output_type": "stream",
          "text": [
            "[('alt.atheism', 480), ('comp.graphics', 584), ('comp.os.ms-windows.misc', 591), ('comp.sys.ibm.pc.hardware', 590), ('comp.sys.mac.hardware', 578), ('comp.windows.x', 593), ('misc.forsale', 585), ('rec.autos', 594), ('rec.motorcycles', 598), ('rec.sport.baseball', 597), ('rec.sport.hockey', 600), ('sci.crypt', 595), ('sci.electronics', 591), ('sci.med', 594), ('sci.space', 593), ('soc.religion.christian', 599), ('talk.politics.guns', 546), ('talk.politics.mideast', 564), ('talk.politics.misc', 465), ('talk.religion.misc', 377)]\n"
          ],
          "name": "stdout"
        }
      ]
    },
    {
      "cell_type": "code",
      "metadata": {
        "id": "1pZ_KnVPRZSm"
      },
      "source": [
        "mydata_test = fetch_20newsgroups(subset='test', shuffle=True, remove = ('headers', 'footers', 'quotes'))\n"
      ],
      "execution_count": 29,
      "outputs": []
    },
    {
      "cell_type": "code",
      "metadata": {
        "colab": {
          "base_uri": "https://localhost:8080/"
        },
        "id": "IEcSYoJmRcUc",
        "outputId": "953d766f-349f-42e4-cbdb-811f593eddd2"
      },
      "source": [
        "print('Testing data size:', len(mydata_test['data']))\n"
      ],
      "execution_count": 30,
      "outputs": [
        {
          "output_type": "stream",
          "text": [
            "Testing data size: 7532\n"
          ],
          "name": "stdout"
        }
      ]
    },
    {
      "cell_type": "code",
      "metadata": {
        "colab": {
          "base_uri": "https://localhost:8080/",
          "height": 198
        },
        "id": "_aSKch0QRf_o",
        "outputId": "c79af432-5e79-4844-bbe8-fe8e4019622a"
      },
      "source": [
        "mydata_train_df = pd.DataFrame({'data': mydata_train.data, 'target': mydata_train.target})\n",
        "mydata_train_df.head()"
      ],
      "execution_count": 31,
      "outputs": [
        {
          "output_type": "execute_result",
          "data": {
            "text/html": [
              "<div>\n",
              "<style scoped>\n",
              "    .dataframe tbody tr th:only-of-type {\n",
              "        vertical-align: middle;\n",
              "    }\n",
              "\n",
              "    .dataframe tbody tr th {\n",
              "        vertical-align: top;\n",
              "    }\n",
              "\n",
              "    .dataframe thead th {\n",
              "        text-align: right;\n",
              "    }\n",
              "</style>\n",
              "<table border=\"1\" class=\"dataframe\">\n",
              "  <thead>\n",
              "    <tr style=\"text-align: right;\">\n",
              "      <th></th>\n",
              "      <th>data</th>\n",
              "      <th>target</th>\n",
              "    </tr>\n",
              "  </thead>\n",
              "  <tbody>\n",
              "    <tr>\n",
              "      <th>0</th>\n",
              "      <td>I was wondering if anyone out there could enli...</td>\n",
              "      <td>7</td>\n",
              "    </tr>\n",
              "    <tr>\n",
              "      <th>1</th>\n",
              "      <td>A fair number of brave souls who upgraded thei...</td>\n",
              "      <td>4</td>\n",
              "    </tr>\n",
              "    <tr>\n",
              "      <th>2</th>\n",
              "      <td>well folks, my mac plus finally gave up the gh...</td>\n",
              "      <td>4</td>\n",
              "    </tr>\n",
              "    <tr>\n",
              "      <th>3</th>\n",
              "      <td>\\nDo you have Weitek's address/phone number?  ...</td>\n",
              "      <td>1</td>\n",
              "    </tr>\n",
              "    <tr>\n",
              "      <th>4</th>\n",
              "      <td>From article &lt;C5owCB.n3p@world.std.com&gt;, by to...</td>\n",
              "      <td>14</td>\n",
              "    </tr>\n",
              "  </tbody>\n",
              "</table>\n",
              "</div>"
            ],
            "text/plain": [
              "                                                data  target\n",
              "0  I was wondering if anyone out there could enli...       7\n",
              "1  A fair number of brave souls who upgraded thei...       4\n",
              "2  well folks, my mac plus finally gave up the gh...       4\n",
              "3  \\nDo you have Weitek's address/phone number?  ...       1\n",
              "4  From article <C5owCB.n3p@world.std.com>, by to...      14"
            ]
          },
          "metadata": {
            "tags": []
          },
          "execution_count": 31
        }
      ]
    },
    {
      "cell_type": "code",
      "metadata": {
        "colab": {
          "base_uri": "https://localhost:8080/",
          "height": 198
        },
        "id": "ttru-cT7Rj9K",
        "outputId": "66336114-c7b0-4479-bfe1-8710eadd7aa0"
      },
      "source": [
        "# Text preprocessing steps - remove numbers, captial letters and punctuation\n",
        "import re\n",
        "import string\n",
        "\n",
        "alphanumeric = lambda x: re.sub(r\"\"\"\\w*\\d\\w*\"\"\", ' ', x)\n",
        "punc_lower = lambda x: re.sub('[%s]' % re.escape(string.punctuation), ' ', x.lower())\n",
        "\n",
        "mydata_train_df['data'] = mydata_train_df.data.map(alphanumeric).map(punc_lower)\n",
        "mydata_train_df.head()"
      ],
      "execution_count": 32,
      "outputs": [
        {
          "output_type": "execute_result",
          "data": {
            "text/html": [
              "<div>\n",
              "<style scoped>\n",
              "    .dataframe tbody tr th:only-of-type {\n",
              "        vertical-align: middle;\n",
              "    }\n",
              "\n",
              "    .dataframe tbody tr th {\n",
              "        vertical-align: top;\n",
              "    }\n",
              "\n",
              "    .dataframe thead th {\n",
              "        text-align: right;\n",
              "    }\n",
              "</style>\n",
              "<table border=\"1\" class=\"dataframe\">\n",
              "  <thead>\n",
              "    <tr style=\"text-align: right;\">\n",
              "      <th></th>\n",
              "      <th>data</th>\n",
              "      <th>target</th>\n",
              "    </tr>\n",
              "  </thead>\n",
              "  <tbody>\n",
              "    <tr>\n",
              "      <th>0</th>\n",
              "      <td>i was wondering if anyone out there could enli...</td>\n",
              "      <td>7</td>\n",
              "    </tr>\n",
              "    <tr>\n",
              "      <th>1</th>\n",
              "      <td>a fair number of brave souls who upgraded thei...</td>\n",
              "      <td>4</td>\n",
              "    </tr>\n",
              "    <tr>\n",
              "      <th>2</th>\n",
              "      <td>well folks  my mac plus finally gave up the gh...</td>\n",
              "      <td>4</td>\n",
              "    </tr>\n",
              "    <tr>\n",
              "      <th>3</th>\n",
              "      <td>\\ndo you have weitek s address phone number   ...</td>\n",
              "      <td>1</td>\n",
              "    </tr>\n",
              "    <tr>\n",
              "      <th>4</th>\n",
              "      <td>from article      world std com   by tombaker ...</td>\n",
              "      <td>14</td>\n",
              "    </tr>\n",
              "  </tbody>\n",
              "</table>\n",
              "</div>"
            ],
            "text/plain": [
              "                                                data  target\n",
              "0  i was wondering if anyone out there could enli...       7\n",
              "1  a fair number of brave souls who upgraded thei...       4\n",
              "2  well folks  my mac plus finally gave up the gh...       4\n",
              "3  \\ndo you have weitek s address phone number   ...       1\n",
              "4  from article      world std com   by tombaker ...      14"
            ]
          },
          "metadata": {
            "tags": []
          },
          "execution_count": 32
        }
      ]
    },
    {
      "cell_type": "code",
      "metadata": {
        "colab": {
          "base_uri": "https://localhost:8080/",
          "height": 198
        },
        "id": "8f6jlH07RoBH",
        "outputId": "5acd3d4f-71d7-4662-e1d9-7b5607b19b78"
      },
      "source": [
        "mydata_test_df = pd.DataFrame({'data': mydata_test.data, 'target': mydata_test.target})\n",
        "mydata_test_df.head()"
      ],
      "execution_count": 33,
      "outputs": [
        {
          "output_type": "execute_result",
          "data": {
            "text/html": [
              "<div>\n",
              "<style scoped>\n",
              "    .dataframe tbody tr th:only-of-type {\n",
              "        vertical-align: middle;\n",
              "    }\n",
              "\n",
              "    .dataframe tbody tr th {\n",
              "        vertical-align: top;\n",
              "    }\n",
              "\n",
              "    .dataframe thead th {\n",
              "        text-align: right;\n",
              "    }\n",
              "</style>\n",
              "<table border=\"1\" class=\"dataframe\">\n",
              "  <thead>\n",
              "    <tr style=\"text-align: right;\">\n",
              "      <th></th>\n",
              "      <th>data</th>\n",
              "      <th>target</th>\n",
              "    </tr>\n",
              "  </thead>\n",
              "  <tbody>\n",
              "    <tr>\n",
              "      <th>0</th>\n",
              "      <td>I am a little confused on all of the models of...</td>\n",
              "      <td>7</td>\n",
              "    </tr>\n",
              "    <tr>\n",
              "      <th>1</th>\n",
              "      <td>I'm not familiar at all with the format of the...</td>\n",
              "      <td>5</td>\n",
              "    </tr>\n",
              "    <tr>\n",
              "      <th>2</th>\n",
              "      <td>\\nIn a word, yes.\\n</td>\n",
              "      <td>0</td>\n",
              "    </tr>\n",
              "    <tr>\n",
              "      <th>3</th>\n",
              "      <td>\\nThey were attacking the Iraqis to drive them...</td>\n",
              "      <td>17</td>\n",
              "    </tr>\n",
              "    <tr>\n",
              "      <th>4</th>\n",
              "      <td>\\nI've just spent two solid months arguing tha...</td>\n",
              "      <td>19</td>\n",
              "    </tr>\n",
              "  </tbody>\n",
              "</table>\n",
              "</div>"
            ],
            "text/plain": [
              "                                                data  target\n",
              "0  I am a little confused on all of the models of...       7\n",
              "1  I'm not familiar at all with the format of the...       5\n",
              "2                                \\nIn a word, yes.\\n       0\n",
              "3  \\nThey were attacking the Iraqis to drive them...      17\n",
              "4  \\nI've just spent two solid months arguing tha...      19"
            ]
          },
          "metadata": {
            "tags": []
          },
          "execution_count": 33
        }
      ]
    },
    {
      "cell_type": "code",
      "metadata": {
        "colab": {
          "base_uri": "https://localhost:8080/",
          "height": 198
        },
        "id": "tUjU5KP5RrlP",
        "outputId": "a72dc545-42d4-4de2-f6ff-516af1acc7b8"
      },
      "source": [
        "# Text preprocessing steps - remove numbers, captial letters and punctuation\n",
        "alphanumeric = lambda x: re.sub(r\"\"\"\\w*\\d\\w*\"\"\", ' ', x)\n",
        "punc_lower = lambda x: re.sub('[%s]' % re.escape(string.punctuation), ' ', x.lower())\n",
        "\n",
        "mydata_test_df['data'] = mydata_test_df.data.map(alphanumeric).map(punc_lower)\n",
        "mydata_test_df.head()"
      ],
      "execution_count": 34,
      "outputs": [
        {
          "output_type": "execute_result",
          "data": {
            "text/html": [
              "<div>\n",
              "<style scoped>\n",
              "    .dataframe tbody tr th:only-of-type {\n",
              "        vertical-align: middle;\n",
              "    }\n",
              "\n",
              "    .dataframe tbody tr th {\n",
              "        vertical-align: top;\n",
              "    }\n",
              "\n",
              "    .dataframe thead th {\n",
              "        text-align: right;\n",
              "    }\n",
              "</style>\n",
              "<table border=\"1\" class=\"dataframe\">\n",
              "  <thead>\n",
              "    <tr style=\"text-align: right;\">\n",
              "      <th></th>\n",
              "      <th>data</th>\n",
              "      <th>target</th>\n",
              "    </tr>\n",
              "  </thead>\n",
              "  <tbody>\n",
              "    <tr>\n",
              "      <th>0</th>\n",
              "      <td>i am a little confused on all of the models of...</td>\n",
              "      <td>7</td>\n",
              "    </tr>\n",
              "    <tr>\n",
              "      <th>1</th>\n",
              "      <td>i m not familiar at all with the format of the...</td>\n",
              "      <td>5</td>\n",
              "    </tr>\n",
              "    <tr>\n",
              "      <th>2</th>\n",
              "      <td>\\nin a word  yes \\n</td>\n",
              "      <td>0</td>\n",
              "    </tr>\n",
              "    <tr>\n",
              "      <th>3</th>\n",
              "      <td>\\nthey were attacking the iraqis to drive them...</td>\n",
              "      <td>17</td>\n",
              "    </tr>\n",
              "    <tr>\n",
              "      <th>4</th>\n",
              "      <td>\\ni ve just spent two solid months arguing tha...</td>\n",
              "      <td>19</td>\n",
              "    </tr>\n",
              "  </tbody>\n",
              "</table>\n",
              "</div>"
            ],
            "text/plain": [
              "                                                data  target\n",
              "0  i am a little confused on all of the models of...       7\n",
              "1  i m not familiar at all with the format of the...       5\n",
              "2                                \\nin a word  yes \\n       0\n",
              "3  \\nthey were attacking the iraqis to drive them...      17\n",
              "4  \\ni ve just spent two solid months arguing tha...      19"
            ]
          },
          "metadata": {
            "tags": []
          },
          "execution_count": 34
        }
      ]
    },
    {
      "cell_type": "code",
      "metadata": {
        "colab": {
          "base_uri": "https://localhost:8080/"
        },
        "id": "yUELDX2-bNNg",
        "outputId": "769c2860-7688-4666-feda-527e5373f153"
      },
      "source": [
        "# Extracting features from text files\n",
        "from sklearn.feature_extraction.text import CountVectorizer\n",
        "count_vect = CountVectorizer(stop_words='english')\n",
        "X_train_cv = count_vect.fit_transform(mydata_train_df.data) # fit_transform learns the\n",
        "X_test_cv = count_vect.transform(mydata_test_df.data) # transform uses the same vocab an\n",
        "print(X_train_cv.shape)\n",
        "print(type(X_train_cv))"
      ],
      "execution_count": 35,
      "outputs": [
        {
          "output_type": "stream",
          "text": [
            "(11314, 67822)\n",
            "<class 'scipy.sparse.csr.csr_matrix'>\n"
          ],
          "name": "stdout"
        }
      ]
    },
    {
      "cell_type": "code",
      "metadata": {
        "id": "cRUtZ9-VAkiY"
      },
      "source": [
        "import numpy as np\n",
        "\n",
        "from tqdm import tqdm\n",
        "\n",
        "from sklearn.datasets import fetch_20newsgroups\n",
        "\n",
        "from keras.preprocessing.text import Tokenizer\n",
        "from keras.preprocessing.sequence import pad_sequences\n",
        "from keras.utils.np_utils import to_categorical\n",
        "from keras.layers import Dense, Input, Flatten\n",
        "from keras.layers import Conv1D, MaxPooling1D, Embedding, Dropout\n",
        "from keras.models import Model"
      ],
      "execution_count": 36,
      "outputs": []
    },
    {
      "cell_type": "code",
      "metadata": {
        "colab": {
          "base_uri": "https://localhost:8080/"
        },
        "id": "4Oz3FjnHAqOw",
        "outputId": "08c5031d-ba02-48ae-9bbe-51c7d05d425a"
      },
      "source": [
        "categories = ['alt.atheism', 'soc.religion.christian'] \n",
        "\n",
        "newsgroups_train = fetch_20newsgroups(subset='train', shuffle=True, \n",
        "                                      categories=categories,)\n",
        "\n",
        "print (newsgroups_train.target_names)\n",
        "print (len(newsgroups_train.data))\n",
        "\n",
        "#print (newsgroups_train.data[1])\n",
        "print(\"\\n\".join(newsgroups_train.data[0].split(\"\\n\")[10:15]))"
      ],
      "execution_count": 37,
      "outputs": [
        {
          "output_type": "stream",
          "text": [
            "['alt.atheism', 'soc.religion.christian']\n",
            "1079\n",
            "   WASHINGTON, April 19  -- A symposium on the Dead Sea \n",
            "Scrolls will be held at the Library of Congress on Wednesday,\n",
            "April 21, and Thursday, April 22.  The two-day program, cosponsored\n",
            "by the library and Baltimore Hebrew University, with additional\n",
            "support from the Project Judaica Foundation, will be held in the\n"
          ],
          "name": "stdout"
        }
      ]
    },
    {
      "cell_type": "code",
      "metadata": {
        "colab": {
          "base_uri": "https://localhost:8080/"
        },
        "id": "I9VVEyQWAu6m",
        "outputId": "941185f5-9cad-43c4-8f1e-684b1d9e0b09"
      },
      "source": [
        "%%time\n",
        "\n",
        "texts = []\n",
        "\n",
        "labels=newsgroups_train.target\n",
        "texts = newsgroups_train.data\n",
        "\n",
        "MAX_SEQUENCE_LENGTH = 1000\n",
        "MAX_NB_WORDS = 20000\n",
        "\n",
        "tokenizer = Tokenizer(num_words=MAX_NB_WORDS)\n",
        "tokenizer.fit_on_texts(texts)\n",
        "\n",
        "sequences = tokenizer.texts_to_sequences(texts)\n",
        "\n",
        "print (sequences[0][:10])"
      ],
      "execution_count": 38,
      "outputs": [
        {
          "output_type": "stream",
          "text": [
            "[19, 8762, 3621, 11894, 58, 8762, 3621, 43, 1472, 2]\n",
            "CPU times: user 422 ms, sys: 6.09 ms, total: 428 ms\n",
            "Wall time: 430 ms\n"
          ],
          "name": "stdout"
        }
      ]
    },
    {
      "cell_type": "code",
      "metadata": {
        "colab": {
          "base_uri": "https://localhost:8080/"
        },
        "id": "8C-jZJV1Ay0E",
        "outputId": "9abdfc3a-b7fc-4275-e5a0-dfa33ec33d14"
      },
      "source": [
        "word_index = tokenizer.word_index\n",
        "\n",
        "print('Found %s unique tokens.' % len(word_index))"
      ],
      "execution_count": 39,
      "outputs": [
        {
          "output_type": "stream",
          "text": [
            "Found 20030 unique tokens.\n"
          ],
          "name": "stdout"
        }
      ]
    },
    {
      "cell_type": "code",
      "metadata": {
        "colab": {
          "base_uri": "https://localhost:8080/"
        },
        "id": "I3leeqbJA1-q",
        "outputId": "81d5c111-2ed7-454b-d321-4fb090f9b02e"
      },
      "source": [
        "data = pad_sequences(sequences, maxlen=MAX_SEQUENCE_LENGTH)\n",
        "\n",
        "print (data.shape)\n",
        "print (data[0][200:250])"
      ],
      "execution_count": 40,
      "outputs": [
        {
          "output_type": "stream",
          "text": [
            "(1079, 1000)\n",
            "[    0     0     0     0     0     0     0     0     0     0     0     0\n",
            "     0     0     0     0     0     0     0     0     0     0     0     0\n",
            "     0     0     0     0     0    19  8762  3621 11894    58  8762  3621\n",
            "    43  1472     2  2130     3   189   450  1001  3622  2980  1682   476\n",
            "   627    50]\n"
          ],
          "name": "stdout"
        }
      ]
    },
    {
      "cell_type": "code",
      "metadata": {
        "colab": {
          "base_uri": "https://localhost:8080/"
        },
        "id": "TATKrjgmA6lK",
        "outputId": "6e9726d0-fbfd-4f47-b9db-d86d6192855e"
      },
      "source": [
        "labels = to_categorical(np.array(labels))\n",
        "\n",
        "print('Shape of data tensor:', data.shape)\n",
        "print('Shape of label tensor:', labels.shape)"
      ],
      "execution_count": 41,
      "outputs": [
        {
          "output_type": "stream",
          "text": [
            "Shape of data tensor: (1079, 1000)\n",
            "Shape of label tensor: (1079, 2)\n"
          ],
          "name": "stdout"
        }
      ]
    },
    {
      "cell_type": "code",
      "metadata": {
        "colab": {
          "base_uri": "https://localhost:8080/"
        },
        "id": "tKD1nppNA_cG",
        "outputId": "6f13b361-4e0d-4d58-d2d6-99226bd068b2"
      },
      "source": [
        "VALIDATION_SPLIT = 0.1\n",
        "\n",
        "indices = np.arange(data.shape[0])\n",
        "np.random.shuffle(indices) \n",
        "data = data[indices] \n",
        "labels = labels[indices] \n",
        "nb_validation_samples = int(VALIDATION_SPLIT * data.shape[0])\n",
        "\n",
        "x_train = data[:-nb_validation_samples] \n",
        "y_train = labels[:-nb_validation_samples] \n",
        "x_val = data[-nb_validation_samples:] \n",
        "y_val = labels[-nb_validation_samples:] \n",
        "\n",
        "print (x_train.shape)\n",
        "print (y_train.shape)\n",
        "\n",
        "print('Number of positive and negative reviews in traing and validation set ') \n",
        "print (y_train.sum(axis=0))\n",
        "print (y_val.sum(axis=0))\n"
      ],
      "execution_count": 42,
      "outputs": [
        {
          "output_type": "stream",
          "text": [
            "(972, 1000)\n",
            "(972, 2)\n",
            "Number of positive and negative reviews in traing and validation set \n",
            "[434. 538.]\n",
            "[46. 61.]\n"
          ],
          "name": "stdout"
        }
      ]
    },
    {
      "cell_type": "code",
      "metadata": {
        "colab": {
          "base_uri": "https://localhost:8080/",
          "height": 244
        },
        "id": "1jN7GicoBSkh",
        "outputId": "18b2631c-4161-4446-fe95-fdeefa89f809"
      },
      "source": [
        "EMBEDDING_DIM = 100\n",
        "\n",
        "embedding_matrix = np.random.random((len(word_index) + 1, EMBEDDING_DIM))\n",
        "\n",
        "for word, i in word_index.items():\n",
        "  embedding_vector = embeddings_index.get(word)\n",
        "  if embedding_vector is not None:\n",
        "    # words not found in embedding index will be all-zeros.\n",
        "    embedding_matrix[i] = embedding_vector\n",
        "\n",
        "print (embedding_matrix.shape)\n",
        "\n",
        "print (embedding_matrix[0][:10])"
      ],
      "execution_count": 43,
      "outputs": [
        {
          "output_type": "error",
          "ename": "NameError",
          "evalue": "ignored",
          "traceback": [
            "\u001b[0;31m---------------------------------------------------------------------------\u001b[0m",
            "\u001b[0;31mNameError\u001b[0m                                 Traceback (most recent call last)",
            "\u001b[0;32m<ipython-input-43-6fb53264530f>\u001b[0m in \u001b[0;36m<module>\u001b[0;34m()\u001b[0m\n\u001b[1;32m      4\u001b[0m \u001b[0;34m\u001b[0m\u001b[0m\n\u001b[1;32m      5\u001b[0m \u001b[0;32mfor\u001b[0m \u001b[0mword\u001b[0m\u001b[0;34m,\u001b[0m \u001b[0mi\u001b[0m \u001b[0;32min\u001b[0m \u001b[0mword_index\u001b[0m\u001b[0;34m.\u001b[0m\u001b[0mitems\u001b[0m\u001b[0;34m(\u001b[0m\u001b[0;34m)\u001b[0m\u001b[0;34m:\u001b[0m\u001b[0;34m\u001b[0m\u001b[0;34m\u001b[0m\u001b[0m\n\u001b[0;32m----> 6\u001b[0;31m   \u001b[0membedding_vector\u001b[0m \u001b[0;34m=\u001b[0m \u001b[0membeddings_index\u001b[0m\u001b[0;34m.\u001b[0m\u001b[0mget\u001b[0m\u001b[0;34m(\u001b[0m\u001b[0mword\u001b[0m\u001b[0;34m)\u001b[0m\u001b[0;34m\u001b[0m\u001b[0;34m\u001b[0m\u001b[0m\n\u001b[0m\u001b[1;32m      7\u001b[0m   \u001b[0;32mif\u001b[0m \u001b[0membedding_vector\u001b[0m \u001b[0;32mis\u001b[0m \u001b[0;32mnot\u001b[0m \u001b[0;32mNone\u001b[0m\u001b[0;34m:\u001b[0m\u001b[0;34m\u001b[0m\u001b[0;34m\u001b[0m\u001b[0m\n\u001b[1;32m      8\u001b[0m     \u001b[0;31m# words not found in embedding index will be all-zeros.\u001b[0m\u001b[0;34m\u001b[0m\u001b[0;34m\u001b[0m\u001b[0;34m\u001b[0m\u001b[0m\n",
            "\u001b[0;31mNameError\u001b[0m: name 'embeddings_index' is not defined"
          ]
        }
      ]
    },
    {
      "cell_type": "code",
      "metadata": {
        "colab": {
          "base_uri": "https://localhost:8080/"
        },
        "id": "StT4yPYaBUgr",
        "outputId": "38792af1-da34-43ff-a6f3-8364a1f36cae"
      },
      "source": [
        "embedding_layer = Embedding(len(word_index) + 1, EMBEDDING_DIM,\n",
        "                            weights=[embedding_matrix], \n",
        "                            input_length=MAX_SEQUENCE_LENGTH, \n",
        "                            trainable=False)\n",
        "\n",
        "sequence_input = Input(shape=(MAX_SEQUENCE_LENGTH,), dtype='int32') \n",
        "embedded_sequences = embedding_layer(sequence_input) \n",
        "l_cov1= Conv1D(128, 5, activation='relu')(embedded_sequences) \n",
        "l_pool1 = MaxPooling1D(5)(l_cov1) \n",
        "l_cov2 = Conv1D(128, 5, activation='relu')(l_pool1) \n",
        "l_pool2 = MaxPooling1D(5)(l_cov2) \n",
        "l_cov3 = Conv1D(128, 5, activation='relu')(l_pool2) \n",
        "l_pool3 = MaxPooling1D(35)(l_cov3)  # global max pooling\n",
        "\n",
        "l_flat = Flatten()(l_pool3) \n",
        "l_dense = Dense(128, activation='relu')(l_flat) \n",
        "preds = Dense(2, activation='softmax')(l_dense)\n",
        "\n",
        "model = Model(sequence_input, preds)\n",
        "\n",
        "model.summary()"
      ],
      "execution_count": 44,
      "outputs": [
        {
          "output_type": "stream",
          "text": [
            "Model: \"model\"\n",
            "_________________________________________________________________\n",
            "Layer (type)                 Output Shape              Param #   \n",
            "=================================================================\n",
            "input_1 (InputLayer)         [(None, 1000)]            0         \n",
            "_________________________________________________________________\n",
            "embedding (Embedding)        (None, 1000, 100)         2003100   \n",
            "_________________________________________________________________\n",
            "conv1d (Conv1D)              (None, 996, 128)          64128     \n",
            "_________________________________________________________________\n",
            "max_pooling1d (MaxPooling1D) (None, 199, 128)          0         \n",
            "_________________________________________________________________\n",
            "conv1d_1 (Conv1D)            (None, 195, 128)          82048     \n",
            "_________________________________________________________________\n",
            "max_pooling1d_1 (MaxPooling1 (None, 39, 128)           0         \n",
            "_________________________________________________________________\n",
            "conv1d_2 (Conv1D)            (None, 35, 128)           82048     \n",
            "_________________________________________________________________\n",
            "max_pooling1d_2 (MaxPooling1 (None, 1, 128)            0         \n",
            "_________________________________________________________________\n",
            "flatten (Flatten)            (None, 128)               0         \n",
            "_________________________________________________________________\n",
            "dense (Dense)                (None, 128)               16512     \n",
            "_________________________________________________________________\n",
            "dense_1 (Dense)              (None, 2)                 258       \n",
            "=================================================================\n",
            "Total params: 2,248,094\n",
            "Trainable params: 244,994\n",
            "Non-trainable params: 2,003,100\n",
            "_________________________________________________________________\n"
          ],
          "name": "stdout"
        }
      ]
    },
    {
      "cell_type": "code",
      "metadata": {
        "colab": {
          "base_uri": "https://localhost:8080/"
        },
        "id": "ohWKe6xrBfGj",
        "outputId": "57463348-6f76-4b80-fb2d-dd8eecf8a5aa"
      },
      "source": [
        "model.compile(loss='categorical_crossentropy', optimizer='adam',metrics=['acc'])\n",
        "\n",
        "history = model.fit(x_train, y_train, validation_data=(x_val, y_val),\n",
        "                    epochs=500, batch_size=512)   "
      ],
      "execution_count": 45,
      "outputs": [
        {
          "output_type": "stream",
          "text": [
            "Epoch 1/500\n",
            "2/2 [==============================] - 35s 1s/step - loss: 0.9093 - acc: 0.4824 - val_loss: 0.7391 - val_acc: 0.5701\n",
            "Epoch 2/500\n",
            "2/2 [==============================] - 0s 161ms/step - loss: 0.7511 - acc: 0.5007 - val_loss: 0.7079 - val_acc: 0.4299\n",
            "Epoch 3/500\n",
            "2/2 [==============================] - 0s 160ms/step - loss: 0.6994 - acc: 0.4797 - val_loss: 0.6898 - val_acc: 0.5701\n",
            "Epoch 4/500\n",
            "2/2 [==============================] - 0s 160ms/step - loss: 0.6895 - acc: 0.5637 - val_loss: 0.6887 - val_acc: 0.5888\n",
            "Epoch 5/500\n",
            "2/2 [==============================] - 0s 161ms/step - loss: 0.6904 - acc: 0.5523 - val_loss: 0.6843 - val_acc: 0.5701\n",
            "Epoch 6/500\n",
            "2/2 [==============================] - 0s 163ms/step - loss: 0.6867 - acc: 0.5545 - val_loss: 0.6827 - val_acc: 0.5701\n",
            "Epoch 7/500\n",
            "2/2 [==============================] - 0s 158ms/step - loss: 0.6868 - acc: 0.5526 - val_loss: 0.6870 - val_acc: 0.5701\n",
            "Epoch 8/500\n",
            "2/2 [==============================] - 0s 162ms/step - loss: 0.6862 - acc: 0.5526 - val_loss: 0.6827 - val_acc: 0.5701\n",
            "Epoch 9/500\n",
            "2/2 [==============================] - 0s 161ms/step - loss: 0.6860 - acc: 0.5617 - val_loss: 0.6831 - val_acc: 0.5701\n",
            "Epoch 10/500\n",
            "2/2 [==============================] - 0s 163ms/step - loss: 0.6848 - acc: 0.5558 - val_loss: 0.6887 - val_acc: 0.5794\n",
            "Epoch 11/500\n",
            "2/2 [==============================] - 0s 162ms/step - loss: 0.6860 - acc: 0.6094 - val_loss: 0.6833 - val_acc: 0.5701\n",
            "Epoch 12/500\n",
            "2/2 [==============================] - 0s 161ms/step - loss: 0.6848 - acc: 0.5571 - val_loss: 0.6814 - val_acc: 0.5701\n",
            "Epoch 13/500\n",
            "2/2 [==============================] - 0s 161ms/step - loss: 0.6801 - acc: 0.5701 - val_loss: 0.6854 - val_acc: 0.5794\n",
            "Epoch 14/500\n",
            "2/2 [==============================] - 0s 158ms/step - loss: 0.6818 - acc: 0.5888 - val_loss: 0.6801 - val_acc: 0.5701\n",
            "Epoch 15/500\n",
            "2/2 [==============================] - 0s 160ms/step - loss: 0.6828 - acc: 0.5506 - val_loss: 0.6775 - val_acc: 0.5701\n",
            "Epoch 16/500\n",
            "2/2 [==============================] - 0s 163ms/step - loss: 0.6852 - acc: 0.5621 - val_loss: 0.6777 - val_acc: 0.5701\n",
            "Epoch 17/500\n",
            "2/2 [==============================] - 0s 159ms/step - loss: 0.6768 - acc: 0.5435 - val_loss: 0.6790 - val_acc: 0.5701\n",
            "Epoch 18/500\n",
            "2/2 [==============================] - 0s 171ms/step - loss: 0.6791 - acc: 0.5526 - val_loss: 0.6748 - val_acc: 0.5701\n",
            "Epoch 19/500\n",
            "2/2 [==============================] - 0s 164ms/step - loss: 0.6731 - acc: 0.6092 - val_loss: 0.6767 - val_acc: 0.6168\n",
            "Epoch 20/500\n",
            "2/2 [==============================] - 0s 159ms/step - loss: 0.6743 - acc: 0.6319 - val_loss: 0.6719 - val_acc: 0.5701\n",
            "Epoch 21/500\n",
            "2/2 [==============================] - 0s 165ms/step - loss: 0.6752 - acc: 0.5880 - val_loss: 0.6732 - val_acc: 0.6262\n",
            "Epoch 22/500\n",
            "2/2 [==============================] - 0s 162ms/step - loss: 0.6674 - acc: 0.6267 - val_loss: 0.6692 - val_acc: 0.5701\n",
            "Epoch 23/500\n",
            "2/2 [==============================] - 0s 167ms/step - loss: 0.6657 - acc: 0.5533 - val_loss: 0.6685 - val_acc: 0.6262\n",
            "Epoch 24/500\n",
            "2/2 [==============================] - 0s 160ms/step - loss: 0.6616 - acc: 0.6433 - val_loss: 0.6642 - val_acc: 0.5981\n",
            "Epoch 25/500\n",
            "2/2 [==============================] - 0s 160ms/step - loss: 0.6582 - acc: 0.5931 - val_loss: 0.6615 - val_acc: 0.6262\n",
            "Epoch 26/500\n",
            "2/2 [==============================] - 0s 164ms/step - loss: 0.6547 - acc: 0.6741 - val_loss: 0.6603 - val_acc: 0.6168\n",
            "Epoch 27/500\n",
            "2/2 [==============================] - 0s 161ms/step - loss: 0.6495 - acc: 0.6792 - val_loss: 0.6525 - val_acc: 0.5981\n",
            "Epoch 28/500\n",
            "2/2 [==============================] - 0s 166ms/step - loss: 0.6443 - acc: 0.6137 - val_loss: 0.6525 - val_acc: 0.7757\n",
            "Epoch 29/500\n",
            "2/2 [==============================] - 0s 162ms/step - loss: 0.6434 - acc: 0.8107 - val_loss: 0.6642 - val_acc: 0.5701\n",
            "Epoch 30/500\n",
            "2/2 [==============================] - 0s 165ms/step - loss: 0.6555 - acc: 0.5567 - val_loss: 0.6478 - val_acc: 0.6636\n",
            "Epoch 31/500\n",
            "2/2 [==============================] - 0s 160ms/step - loss: 0.6350 - acc: 0.7571 - val_loss: 0.6286 - val_acc: 0.6449\n",
            "Epoch 32/500\n",
            "2/2 [==============================] - 0s 162ms/step - loss: 0.6209 - acc: 0.6252 - val_loss: 0.6205 - val_acc: 0.7383\n",
            "Epoch 33/500\n",
            "2/2 [==============================] - 0s 162ms/step - loss: 0.6129 - acc: 0.7901 - val_loss: 0.6104 - val_acc: 0.7103\n",
            "Epoch 34/500\n",
            "2/2 [==============================] - 0s 161ms/step - loss: 0.6001 - acc: 0.7034 - val_loss: 0.5985 - val_acc: 0.7570\n",
            "Epoch 35/500\n",
            "2/2 [==============================] - 0s 161ms/step - loss: 0.5850 - acc: 0.8092 - val_loss: 0.5838 - val_acc: 0.7850\n",
            "Epoch 36/500\n",
            "2/2 [==============================] - 0s 163ms/step - loss: 0.5734 - acc: 0.8106 - val_loss: 0.5683 - val_acc: 0.7477\n",
            "Epoch 37/500\n",
            "2/2 [==============================] - 0s 164ms/step - loss: 0.5634 - acc: 0.7590 - val_loss: 0.5824 - val_acc: 0.6355\n",
            "Epoch 38/500\n",
            "2/2 [==============================] - 0s 163ms/step - loss: 0.5603 - acc: 0.7211 - val_loss: 0.5591 - val_acc: 0.7383\n",
            "Epoch 39/500\n",
            "2/2 [==============================] - 0s 160ms/step - loss: 0.5294 - acc: 0.7898 - val_loss: 0.5120 - val_acc: 0.7944\n",
            "Epoch 40/500\n",
            "2/2 [==============================] - 0s 162ms/step - loss: 0.5056 - acc: 0.8096 - val_loss: 0.5266 - val_acc: 0.7383\n",
            "Epoch 41/500\n",
            "2/2 [==============================] - 0s 162ms/step - loss: 0.4970 - acc: 0.7590 - val_loss: 0.5537 - val_acc: 0.5981\n",
            "Epoch 42/500\n",
            "2/2 [==============================] - 0s 167ms/step - loss: 0.5378 - acc: 0.6692 - val_loss: 0.4634 - val_acc: 0.7944\n",
            "Epoch 43/500\n",
            "2/2 [==============================] - 0s 162ms/step - loss: 0.5016 - acc: 0.7270 - val_loss: 0.4716 - val_acc: 0.7944\n",
            "Epoch 44/500\n",
            "2/2 [==============================] - 0s 162ms/step - loss: 0.4881 - acc: 0.7513 - val_loss: 0.4479 - val_acc: 0.8505\n",
            "Epoch 45/500\n",
            "2/2 [==============================] - 0s 163ms/step - loss: 0.4680 - acc: 0.7888 - val_loss: 0.4399 - val_acc: 0.8972\n",
            "Epoch 46/500\n",
            "2/2 [==============================] - 0s 160ms/step - loss: 0.4361 - acc: 0.8662 - val_loss: 0.4461 - val_acc: 0.7944\n",
            "Epoch 47/500\n",
            "2/2 [==============================] - 0s 160ms/step - loss: 0.4321 - acc: 0.8322 - val_loss: 0.4706 - val_acc: 0.8131\n",
            "Epoch 48/500\n",
            "2/2 [==============================] - 0s 166ms/step - loss: 0.4138 - acc: 0.8653 - val_loss: 0.4341 - val_acc: 0.7944\n",
            "Epoch 49/500\n",
            "2/2 [==============================] - 0s 162ms/step - loss: 0.4035 - acc: 0.8211 - val_loss: 0.4474 - val_acc: 0.8224\n",
            "Epoch 50/500\n",
            "2/2 [==============================] - 0s 164ms/step - loss: 0.3927 - acc: 0.8791 - val_loss: 0.3869 - val_acc: 0.8505\n",
            "Epoch 51/500\n",
            "2/2 [==============================] - 0s 160ms/step - loss: 0.3633 - acc: 0.8551 - val_loss: 0.3765 - val_acc: 0.9159\n",
            "Epoch 52/500\n",
            "2/2 [==============================] - 0s 166ms/step - loss: 0.3459 - acc: 0.9353 - val_loss: 0.3545 - val_acc: 0.8505\n",
            "Epoch 53/500\n",
            "2/2 [==============================] - 0s 163ms/step - loss: 0.3383 - acc: 0.8668 - val_loss: 0.3337 - val_acc: 0.9065\n",
            "Epoch 54/500\n",
            "2/2 [==============================] - 0s 165ms/step - loss: 0.3050 - acc: 0.9326 - val_loss: 0.3174 - val_acc: 0.8692\n",
            "Epoch 55/500\n",
            "2/2 [==============================] - 0s 163ms/step - loss: 0.2968 - acc: 0.8881 - val_loss: 0.3295 - val_acc: 0.9439\n",
            "Epoch 56/500\n",
            "2/2 [==============================] - 0s 161ms/step - loss: 0.2845 - acc: 0.9400 - val_loss: 0.3261 - val_acc: 0.8598\n",
            "Epoch 57/500\n",
            "2/2 [==============================] - 0s 165ms/step - loss: 0.2867 - acc: 0.8815 - val_loss: 0.4048 - val_acc: 0.7944\n",
            "Epoch 58/500\n",
            "2/2 [==============================] - 0s 161ms/step - loss: 0.3146 - acc: 0.8814 - val_loss: 0.3142 - val_acc: 0.8598\n",
            "Epoch 59/500\n",
            "2/2 [==============================] - 0s 162ms/step - loss: 0.2486 - acc: 0.9119 - val_loss: 0.3826 - val_acc: 0.8224\n",
            "Epoch 60/500\n",
            "2/2 [==============================] - 0s 165ms/step - loss: 0.2876 - acc: 0.8996 - val_loss: 0.3231 - val_acc: 0.8598\n",
            "Epoch 61/500\n",
            "2/2 [==============================] - 0s 165ms/step - loss: 0.2699 - acc: 0.8954 - val_loss: 0.3531 - val_acc: 0.8692\n",
            "Epoch 62/500\n",
            "2/2 [==============================] - 0s 164ms/step - loss: 0.2579 - acc: 0.9178 - val_loss: 0.2964 - val_acc: 0.8598\n",
            "Epoch 63/500\n",
            "2/2 [==============================] - 0s 162ms/step - loss: 0.2463 - acc: 0.9027 - val_loss: 0.3018 - val_acc: 0.9252\n",
            "Epoch 64/500\n",
            "2/2 [==============================] - 0s 165ms/step - loss: 0.2148 - acc: 0.9528 - val_loss: 0.2617 - val_acc: 0.8879\n",
            "Epoch 65/500\n",
            "2/2 [==============================] - 0s 161ms/step - loss: 0.2056 - acc: 0.9133 - val_loss: 0.2697 - val_acc: 0.9533\n",
            "Epoch 66/500\n",
            "2/2 [==============================] - 0s 163ms/step - loss: 0.1919 - acc: 0.9590 - val_loss: 0.2532 - val_acc: 0.8879\n",
            "Epoch 67/500\n",
            "2/2 [==============================] - 0s 166ms/step - loss: 0.1962 - acc: 0.9185 - val_loss: 0.2676 - val_acc: 0.9439\n",
            "Epoch 68/500\n",
            "2/2 [==============================] - 0s 161ms/step - loss: 0.1826 - acc: 0.9602 - val_loss: 0.2169 - val_acc: 0.8785\n",
            "Epoch 69/500\n",
            "2/2 [==============================] - 0s 165ms/step - loss: 0.1564 - acc: 0.9507 - val_loss: 0.2285 - val_acc: 0.9439\n",
            "Epoch 70/500\n",
            "2/2 [==============================] - 0s 159ms/step - loss: 0.1542 - acc: 0.9636 - val_loss: 0.2032 - val_acc: 0.9065\n",
            "Epoch 71/500\n",
            "2/2 [==============================] - 0s 162ms/step - loss: 0.1419 - acc: 0.9509 - val_loss: 0.2298 - val_acc: 0.9533\n",
            "Epoch 72/500\n",
            "2/2 [==============================] - 0s 160ms/step - loss: 0.1431 - acc: 0.9683 - val_loss: 0.1973 - val_acc: 0.9065\n",
            "Epoch 73/500\n",
            "2/2 [==============================] - 0s 164ms/step - loss: 0.1310 - acc: 0.9596 - val_loss: 0.2004 - val_acc: 0.9533\n",
            "Epoch 74/500\n",
            "2/2 [==============================] - 0s 169ms/step - loss: 0.1208 - acc: 0.9683 - val_loss: 0.1794 - val_acc: 0.9252\n",
            "Epoch 75/500\n",
            "2/2 [==============================] - 0s 162ms/step - loss: 0.1099 - acc: 0.9677 - val_loss: 0.1917 - val_acc: 0.9533\n",
            "Epoch 76/500\n",
            "2/2 [==============================] - 0s 164ms/step - loss: 0.1087 - acc: 0.9723 - val_loss: 0.1702 - val_acc: 0.9439\n",
            "Epoch 77/500\n",
            "2/2 [==============================] - 0s 162ms/step - loss: 0.0994 - acc: 0.9724 - val_loss: 0.1638 - val_acc: 0.9533\n",
            "Epoch 78/500\n",
            "2/2 [==============================] - 0s 163ms/step - loss: 0.0918 - acc: 0.9703 - val_loss: 0.1667 - val_acc: 0.9533\n",
            "Epoch 79/500\n",
            "2/2 [==============================] - 0s 163ms/step - loss: 0.0843 - acc: 0.9790 - val_loss: 0.1571 - val_acc: 0.9626\n",
            "Epoch 80/500\n",
            "2/2 [==============================] - 0s 161ms/step - loss: 0.0780 - acc: 0.9798 - val_loss: 0.1624 - val_acc: 0.9252\n",
            "Epoch 81/500\n",
            "2/2 [==============================] - 0s 164ms/step - loss: 0.0758 - acc: 0.9758 - val_loss: 0.1614 - val_acc: 0.9533\n",
            "Epoch 82/500\n",
            "2/2 [==============================] - 0s 162ms/step - loss: 0.0701 - acc: 0.9844 - val_loss: 0.1465 - val_acc: 0.9626\n",
            "Epoch 83/500\n",
            "2/2 [==============================] - 0s 167ms/step - loss: 0.0673 - acc: 0.9859 - val_loss: 0.2750 - val_acc: 0.8879\n",
            "Epoch 84/500\n",
            "2/2 [==============================] - 0s 163ms/step - loss: 0.1265 - acc: 0.9405 - val_loss: 0.2250 - val_acc: 0.9346\n",
            "Epoch 85/500\n",
            "2/2 [==============================] - 0s 164ms/step - loss: 0.1044 - acc: 0.9755 - val_loss: 0.2084 - val_acc: 0.8972\n",
            "Epoch 86/500\n",
            "2/2 [==============================] - 0s 161ms/step - loss: 0.1235 - acc: 0.9610 - val_loss: 0.3067 - val_acc: 0.8692\n",
            "Epoch 87/500\n",
            "2/2 [==============================] - 0s 164ms/step - loss: 0.1630 - acc: 0.9192 - val_loss: 0.2027 - val_acc: 0.9439\n",
            "Epoch 88/500\n",
            "2/2 [==============================] - 0s 167ms/step - loss: 0.1080 - acc: 0.9817 - val_loss: 0.2631 - val_acc: 0.8879\n",
            "Epoch 89/500\n",
            "2/2 [==============================] - 0s 164ms/step - loss: 0.1713 - acc: 0.9148 - val_loss: 0.1601 - val_acc: 0.9439\n",
            "Epoch 90/500\n",
            "2/2 [==============================] - 0s 162ms/step - loss: 0.1544 - acc: 0.9270 - val_loss: 0.2561 - val_acc: 0.8972\n",
            "Epoch 91/500\n",
            "2/2 [==============================] - 0s 166ms/step - loss: 0.1933 - acc: 0.9094 - val_loss: 0.3555 - val_acc: 0.8598\n",
            "Epoch 92/500\n",
            "2/2 [==============================] - 0s 170ms/step - loss: 0.1684 - acc: 0.9329 - val_loss: 0.4226 - val_acc: 0.7850\n",
            "Epoch 93/500\n",
            "2/2 [==============================] - 0s 164ms/step - loss: 0.1722 - acc: 0.9509 - val_loss: 0.1879 - val_acc: 0.9439\n",
            "Epoch 94/500\n",
            "2/2 [==============================] - 0s 162ms/step - loss: 0.0909 - acc: 0.9695 - val_loss: 0.2234 - val_acc: 0.9065\n",
            "Epoch 95/500\n",
            "2/2 [==============================] - 0s 164ms/step - loss: 0.1069 - acc: 0.9604 - val_loss: 0.2167 - val_acc: 0.9439\n",
            "Epoch 96/500\n",
            "2/2 [==============================] - 0s 162ms/step - loss: 0.0932 - acc: 0.9946 - val_loss: 0.1593 - val_acc: 0.9533\n",
            "Epoch 97/500\n",
            "2/2 [==============================] - 0s 163ms/step - loss: 0.0634 - acc: 0.9825 - val_loss: 0.1545 - val_acc: 0.9533\n",
            "Epoch 98/500\n",
            "2/2 [==============================] - 0s 164ms/step - loss: 0.0599 - acc: 0.9803 - val_loss: 0.1651 - val_acc: 0.9626\n",
            "Epoch 99/500\n",
            "2/2 [==============================] - 0s 165ms/step - loss: 0.0629 - acc: 0.9818 - val_loss: 0.1440 - val_acc: 0.9626\n",
            "Epoch 100/500\n",
            "2/2 [==============================] - 0s 168ms/step - loss: 0.0553 - acc: 0.9778 - val_loss: 0.1322 - val_acc: 0.9626\n",
            "Epoch 101/500\n",
            "2/2 [==============================] - 0s 165ms/step - loss: 0.0448 - acc: 0.9919 - val_loss: 0.1291 - val_acc: 0.9626\n",
            "Epoch 102/500\n",
            "2/2 [==============================] - 0s 167ms/step - loss: 0.0448 - acc: 0.9926 - val_loss: 0.1304 - val_acc: 0.9439\n",
            "Epoch 103/500\n",
            "2/2 [==============================] - 0s 164ms/step - loss: 0.0435 - acc: 0.9879 - val_loss: 0.1264 - val_acc: 0.9533\n",
            "Epoch 104/500\n",
            "2/2 [==============================] - 0s 165ms/step - loss: 0.0380 - acc: 0.9933 - val_loss: 0.1246 - val_acc: 0.9626\n",
            "Epoch 105/500\n",
            "2/2 [==============================] - 0s 170ms/step - loss: 0.0331 - acc: 0.9946 - val_loss: 0.1272 - val_acc: 0.9626\n",
            "Epoch 106/500\n",
            "2/2 [==============================] - 0s 162ms/step - loss: 0.0302 - acc: 0.9933 - val_loss: 0.1317 - val_acc: 0.9626\n",
            "Epoch 107/500\n",
            "2/2 [==============================] - 0s 163ms/step - loss: 0.0268 - acc: 0.9946 - val_loss: 0.1302 - val_acc: 0.9626\n",
            "Epoch 108/500\n",
            "2/2 [==============================] - 0s 161ms/step - loss: 0.0254 - acc: 0.9953 - val_loss: 0.1273 - val_acc: 0.9533\n",
            "Epoch 109/500\n",
            "2/2 [==============================] - 0s 164ms/step - loss: 0.0230 - acc: 0.9960 - val_loss: 0.1247 - val_acc: 0.9626\n",
            "Epoch 110/500\n",
            "2/2 [==============================] - 0s 163ms/step - loss: 0.0204 - acc: 0.9993 - val_loss: 0.1255 - val_acc: 0.9533\n",
            "Epoch 111/500\n",
            "2/2 [==============================] - 0s 164ms/step - loss: 0.0201 - acc: 0.9966 - val_loss: 0.1282 - val_acc: 0.9533\n",
            "Epoch 112/500\n",
            "2/2 [==============================] - 0s 166ms/step - loss: 0.0199 - acc: 0.9960 - val_loss: 0.1294 - val_acc: 0.9626\n",
            "Epoch 113/500\n",
            "2/2 [==============================] - 0s 166ms/step - loss: 0.0176 - acc: 0.9980 - val_loss: 0.1334 - val_acc: 0.9533\n",
            "Epoch 114/500\n",
            "2/2 [==============================] - 0s 165ms/step - loss: 0.0170 - acc: 0.9966 - val_loss: 0.1298 - val_acc: 0.9626\n",
            "Epoch 115/500\n",
            "2/2 [==============================] - 0s 162ms/step - loss: 0.0144 - acc: 0.9987 - val_loss: 0.1295 - val_acc: 0.9626\n",
            "Epoch 116/500\n",
            "2/2 [==============================] - 0s 172ms/step - loss: 0.0146 - acc: 0.9987 - val_loss: 0.1291 - val_acc: 0.9533\n",
            "Epoch 117/500\n",
            "2/2 [==============================] - 0s 167ms/step - loss: 0.0138 - acc: 0.9987 - val_loss: 0.1287 - val_acc: 0.9533\n",
            "Epoch 118/500\n",
            "2/2 [==============================] - 0s 161ms/step - loss: 0.0131 - acc: 0.9987 - val_loss: 0.1283 - val_acc: 0.9533\n",
            "Epoch 119/500\n",
            "2/2 [==============================] - 0s 167ms/step - loss: 0.0122 - acc: 0.9987 - val_loss: 0.1311 - val_acc: 0.9533\n",
            "Epoch 120/500\n",
            "2/2 [==============================] - 0s 165ms/step - loss: 0.0109 - acc: 0.9993 - val_loss: 0.1277 - val_acc: 0.9533\n",
            "Epoch 121/500\n",
            "2/2 [==============================] - 0s 164ms/step - loss: 0.0099 - acc: 0.9993 - val_loss: 0.1302 - val_acc: 0.9533\n",
            "Epoch 122/500\n",
            "2/2 [==============================] - 0s 163ms/step - loss: 0.0104 - acc: 0.9987 - val_loss: 0.1304 - val_acc: 0.9533\n",
            "Epoch 123/500\n",
            "2/2 [==============================] - 0s 165ms/step - loss: 0.0088 - acc: 0.9993 - val_loss: 0.1335 - val_acc: 0.9533\n",
            "Epoch 124/500\n",
            "2/2 [==============================] - 0s 161ms/step - loss: 0.0090 - acc: 0.9987 - val_loss: 0.1323 - val_acc: 0.9533\n",
            "Epoch 125/500\n",
            "2/2 [==============================] - 0s 171ms/step - loss: 0.0081 - acc: 1.0000 - val_loss: 0.1374 - val_acc: 0.9533\n",
            "Epoch 126/500\n",
            "2/2 [==============================] - 0s 166ms/step - loss: 0.0079 - acc: 1.0000 - val_loss: 0.1374 - val_acc: 0.9533\n",
            "Epoch 127/500\n",
            "2/2 [==============================] - 0s 162ms/step - loss: 0.0074 - acc: 1.0000 - val_loss: 0.1362 - val_acc: 0.9533\n",
            "Epoch 128/500\n",
            "2/2 [==============================] - 0s 168ms/step - loss: 0.0068 - acc: 1.0000 - val_loss: 0.1422 - val_acc: 0.9533\n",
            "Epoch 129/500\n",
            "2/2 [==============================] - 0s 164ms/step - loss: 0.0061 - acc: 1.0000 - val_loss: 0.1399 - val_acc: 0.9533\n",
            "Epoch 130/500\n",
            "2/2 [==============================] - 0s 173ms/step - loss: 0.0058 - acc: 1.0000 - val_loss: 0.1388 - val_acc: 0.9533\n",
            "Epoch 131/500\n",
            "2/2 [==============================] - 0s 170ms/step - loss: 0.0057 - acc: 1.0000 - val_loss: 0.1433 - val_acc: 0.9533\n",
            "Epoch 132/500\n",
            "2/2 [==============================] - 0s 161ms/step - loss: 0.0055 - acc: 1.0000 - val_loss: 0.1472 - val_acc: 0.9533\n",
            "Epoch 133/500\n",
            "2/2 [==============================] - 0s 162ms/step - loss: 0.0046 - acc: 1.0000 - val_loss: 0.1422 - val_acc: 0.9533\n",
            "Epoch 134/500\n",
            "2/2 [==============================] - 0s 172ms/step - loss: 0.0048 - acc: 1.0000 - val_loss: 0.1442 - val_acc: 0.9533\n",
            "Epoch 135/500\n",
            "2/2 [==============================] - 0s 166ms/step - loss: 0.0044 - acc: 1.0000 - val_loss: 0.1490 - val_acc: 0.9533\n",
            "Epoch 136/500\n",
            "2/2 [==============================] - 0s 163ms/step - loss: 0.0047 - acc: 1.0000 - val_loss: 0.1468 - val_acc: 0.9533\n",
            "Epoch 137/500\n",
            "2/2 [==============================] - 0s 165ms/step - loss: 0.0041 - acc: 1.0000 - val_loss: 0.1493 - val_acc: 0.9533\n",
            "Epoch 138/500\n",
            "2/2 [==============================] - 0s 167ms/step - loss: 0.0038 - acc: 1.0000 - val_loss: 0.1504 - val_acc: 0.9533\n",
            "Epoch 139/500\n",
            "2/2 [==============================] - 0s 165ms/step - loss: 0.0036 - acc: 1.0000 - val_loss: 0.1465 - val_acc: 0.9533\n",
            "Epoch 140/500\n",
            "2/2 [==============================] - 0s 163ms/step - loss: 0.0035 - acc: 1.0000 - val_loss: 0.1502 - val_acc: 0.9533\n",
            "Epoch 141/500\n",
            "2/2 [==============================] - 0s 165ms/step - loss: 0.0032 - acc: 1.0000 - val_loss: 0.1515 - val_acc: 0.9533\n",
            "Epoch 142/500\n",
            "2/2 [==============================] - 0s 166ms/step - loss: 0.0030 - acc: 1.0000 - val_loss: 0.1492 - val_acc: 0.9533\n",
            "Epoch 143/500\n",
            "2/2 [==============================] - 0s 164ms/step - loss: 0.0031 - acc: 1.0000 - val_loss: 0.1463 - val_acc: 0.9533\n",
            "Epoch 144/500\n",
            "2/2 [==============================] - 0s 164ms/step - loss: 0.0029 - acc: 1.0000 - val_loss: 0.1570 - val_acc: 0.9533\n",
            "Epoch 145/500\n",
            "2/2 [==============================] - 0s 163ms/step - loss: 0.0029 - acc: 1.0000 - val_loss: 0.1555 - val_acc: 0.9533\n",
            "Epoch 146/500\n",
            "2/2 [==============================] - 0s 163ms/step - loss: 0.0026 - acc: 1.0000 - val_loss: 0.1509 - val_acc: 0.9533\n",
            "Epoch 147/500\n",
            "2/2 [==============================] - 0s 163ms/step - loss: 0.0024 - acc: 1.0000 - val_loss: 0.1517 - val_acc: 0.9533\n",
            "Epoch 148/500\n",
            "2/2 [==============================] - 0s 166ms/step - loss: 0.0024 - acc: 1.0000 - val_loss: 0.1547 - val_acc: 0.9533\n",
            "Epoch 149/500\n",
            "2/2 [==============================] - 0s 166ms/step - loss: 0.0022 - acc: 1.0000 - val_loss: 0.1559 - val_acc: 0.9533\n",
            "Epoch 150/500\n",
            "2/2 [==============================] - 0s 171ms/step - loss: 0.0022 - acc: 1.0000 - val_loss: 0.1511 - val_acc: 0.9533\n",
            "Epoch 151/500\n",
            "2/2 [==============================] - 0s 167ms/step - loss: 0.0021 - acc: 1.0000 - val_loss: 0.1538 - val_acc: 0.9533\n",
            "Epoch 152/500\n",
            "2/2 [==============================] - 0s 167ms/step - loss: 0.0020 - acc: 1.0000 - val_loss: 0.1614 - val_acc: 0.9533\n",
            "Epoch 153/500\n",
            "2/2 [==============================] - 0s 164ms/step - loss: 0.0019 - acc: 1.0000 - val_loss: 0.1583 - val_acc: 0.9533\n",
            "Epoch 154/500\n",
            "2/2 [==============================] - 0s 170ms/step - loss: 0.0018 - acc: 1.0000 - val_loss: 0.1528 - val_acc: 0.9533\n",
            "Epoch 155/500\n",
            "2/2 [==============================] - 0s 167ms/step - loss: 0.0018 - acc: 1.0000 - val_loss: 0.1551 - val_acc: 0.9533\n",
            "Epoch 156/500\n",
            "2/2 [==============================] - 0s 166ms/step - loss: 0.0016 - acc: 1.0000 - val_loss: 0.1647 - val_acc: 0.9533\n",
            "Epoch 157/500\n",
            "2/2 [==============================] - 0s 168ms/step - loss: 0.0016 - acc: 1.0000 - val_loss: 0.1642 - val_acc: 0.9533\n",
            "Epoch 158/500\n",
            "2/2 [==============================] - 0s 173ms/step - loss: 0.0015 - acc: 1.0000 - val_loss: 0.1552 - val_acc: 0.9533\n",
            "Epoch 159/500\n",
            "2/2 [==============================] - 0s 170ms/step - loss: 0.0016 - acc: 1.0000 - val_loss: 0.1566 - val_acc: 0.9533\n",
            "Epoch 160/500\n",
            "2/2 [==============================] - 0s 166ms/step - loss: 0.0015 - acc: 1.0000 - val_loss: 0.1672 - val_acc: 0.9533\n",
            "Epoch 161/500\n",
            "2/2 [==============================] - 0s 164ms/step - loss: 0.0015 - acc: 1.0000 - val_loss: 0.1696 - val_acc: 0.9533\n",
            "Epoch 162/500\n",
            "2/2 [==============================] - 0s 163ms/step - loss: 0.0014 - acc: 1.0000 - val_loss: 0.1623 - val_acc: 0.9533\n",
            "Epoch 163/500\n",
            "2/2 [==============================] - 0s 163ms/step - loss: 0.0013 - acc: 1.0000 - val_loss: 0.1591 - val_acc: 0.9533\n",
            "Epoch 164/500\n",
            "2/2 [==============================] - 0s 168ms/step - loss: 0.0013 - acc: 1.0000 - val_loss: 0.1647 - val_acc: 0.9533\n",
            "Epoch 165/500\n",
            "2/2 [==============================] - 0s 164ms/step - loss: 0.0012 - acc: 1.0000 - val_loss: 0.1709 - val_acc: 0.9533\n",
            "Epoch 166/500\n",
            "2/2 [==============================] - 0s 171ms/step - loss: 0.0012 - acc: 1.0000 - val_loss: 0.1687 - val_acc: 0.9533\n",
            "Epoch 167/500\n",
            "2/2 [==============================] - 0s 167ms/step - loss: 0.0012 - acc: 1.0000 - val_loss: 0.1616 - val_acc: 0.9533\n",
            "Epoch 168/500\n",
            "2/2 [==============================] - 0s 166ms/step - loss: 0.0011 - acc: 1.0000 - val_loss: 0.1630 - val_acc: 0.9533\n",
            "Epoch 169/500\n",
            "2/2 [==============================] - 0s 171ms/step - loss: 0.0010 - acc: 1.0000 - val_loss: 0.1698 - val_acc: 0.9533\n",
            "Epoch 170/500\n",
            "2/2 [==============================] - 0s 165ms/step - loss: 0.0010 - acc: 1.0000 - val_loss: 0.1725 - val_acc: 0.9533\n",
            "Epoch 171/500\n",
            "2/2 [==============================] - 0s 164ms/step - loss: 9.4730e-04 - acc: 1.0000 - val_loss: 0.1673 - val_acc: 0.9533\n",
            "Epoch 172/500\n",
            "2/2 [==============================] - 0s 172ms/step - loss: 9.5459e-04 - acc: 1.0000 - val_loss: 0.1647 - val_acc: 0.9533\n",
            "Epoch 173/500\n",
            "2/2 [==============================] - 0s 165ms/step - loss: 9.4685e-04 - acc: 1.0000 - val_loss: 0.1683 - val_acc: 0.9533\n",
            "Epoch 174/500\n",
            "2/2 [==============================] - 0s 167ms/step - loss: 8.6938e-04 - acc: 1.0000 - val_loss: 0.1736 - val_acc: 0.9533\n",
            "Epoch 175/500\n",
            "2/2 [==============================] - 0s 165ms/step - loss: 8.2366e-04 - acc: 1.0000 - val_loss: 0.1736 - val_acc: 0.9533\n",
            "Epoch 176/500\n",
            "2/2 [==============================] - 0s 167ms/step - loss: 7.9800e-04 - acc: 1.0000 - val_loss: 0.1696 - val_acc: 0.9533\n",
            "Epoch 177/500\n",
            "2/2 [==============================] - 0s 168ms/step - loss: 8.3369e-04 - acc: 1.0000 - val_loss: 0.1686 - val_acc: 0.9533\n",
            "Epoch 178/500\n",
            "2/2 [==============================] - 0s 164ms/step - loss: 8.3613e-04 - acc: 1.0000 - val_loss: 0.1728 - val_acc: 0.9533\n",
            "Epoch 179/500\n",
            "2/2 [==============================] - 0s 169ms/step - loss: 7.2609e-04 - acc: 1.0000 - val_loss: 0.1758 - val_acc: 0.9533\n",
            "Epoch 180/500\n",
            "2/2 [==============================] - 0s 167ms/step - loss: 7.4413e-04 - acc: 1.0000 - val_loss: 0.1760 - val_acc: 0.9533\n",
            "Epoch 181/500\n",
            "2/2 [==============================] - 0s 164ms/step - loss: 7.1193e-04 - acc: 1.0000 - val_loss: 0.1748 - val_acc: 0.9533\n",
            "Epoch 182/500\n",
            "2/2 [==============================] - 0s 165ms/step - loss: 6.4016e-04 - acc: 1.0000 - val_loss: 0.1750 - val_acc: 0.9533\n",
            "Epoch 183/500\n",
            "2/2 [==============================] - 0s 161ms/step - loss: 6.8382e-04 - acc: 1.0000 - val_loss: 0.1750 - val_acc: 0.9533\n",
            "Epoch 184/500\n",
            "2/2 [==============================] - 0s 162ms/step - loss: 6.0791e-04 - acc: 1.0000 - val_loss: 0.1762 - val_acc: 0.9533\n",
            "Epoch 185/500\n",
            "2/2 [==============================] - 0s 165ms/step - loss: 6.2880e-04 - acc: 1.0000 - val_loss: 0.1786 - val_acc: 0.9533\n",
            "Epoch 186/500\n",
            "2/2 [==============================] - 0s 163ms/step - loss: 6.2176e-04 - acc: 1.0000 - val_loss: 0.1784 - val_acc: 0.9533\n",
            "Epoch 187/500\n",
            "2/2 [==============================] - 0s 165ms/step - loss: 5.8133e-04 - acc: 1.0000 - val_loss: 0.1776 - val_acc: 0.9533\n",
            "Epoch 188/500\n",
            "2/2 [==============================] - 0s 165ms/step - loss: 5.6632e-04 - acc: 1.0000 - val_loss: 0.1779 - val_acc: 0.9533\n",
            "Epoch 189/500\n",
            "2/2 [==============================] - 0s 168ms/step - loss: 5.4869e-04 - acc: 1.0000 - val_loss: 0.1803 - val_acc: 0.9533\n",
            "Epoch 190/500\n",
            "2/2 [==============================] - 0s 165ms/step - loss: 5.3825e-04 - acc: 1.0000 - val_loss: 0.1814 - val_acc: 0.9533\n",
            "Epoch 191/500\n",
            "2/2 [==============================] - 0s 165ms/step - loss: 5.0373e-04 - acc: 1.0000 - val_loss: 0.1817 - val_acc: 0.9533\n",
            "Epoch 192/500\n",
            "2/2 [==============================] - 0s 168ms/step - loss: 5.1943e-04 - acc: 1.0000 - val_loss: 0.1801 - val_acc: 0.9533\n",
            "Epoch 193/500\n",
            "2/2 [==============================] - 0s 163ms/step - loss: 4.7491e-04 - acc: 1.0000 - val_loss: 0.1811 - val_acc: 0.9533\n",
            "Epoch 194/500\n",
            "2/2 [==============================] - 0s 169ms/step - loss: 4.7490e-04 - acc: 1.0000 - val_loss: 0.1833 - val_acc: 0.9533\n",
            "Epoch 195/500\n",
            "2/2 [==============================] - 0s 169ms/step - loss: 4.8162e-04 - acc: 1.0000 - val_loss: 0.1848 - val_acc: 0.9533\n",
            "Epoch 196/500\n",
            "2/2 [==============================] - 0s 167ms/step - loss: 4.6215e-04 - acc: 1.0000 - val_loss: 0.1843 - val_acc: 0.9533\n",
            "Epoch 197/500\n",
            "2/2 [==============================] - 0s 164ms/step - loss: 4.3607e-04 - acc: 1.0000 - val_loss: 0.1845 - val_acc: 0.9533\n",
            "Epoch 198/500\n",
            "2/2 [==============================] - 0s 167ms/step - loss: 4.2660e-04 - acc: 1.0000 - val_loss: 0.1850 - val_acc: 0.9533\n",
            "Epoch 199/500\n",
            "2/2 [==============================] - 0s 166ms/step - loss: 4.4046e-04 - acc: 1.0000 - val_loss: 0.1851 - val_acc: 0.9533\n",
            "Epoch 200/500\n",
            "2/2 [==============================] - 0s 170ms/step - loss: 4.2162e-04 - acc: 1.0000 - val_loss: 0.1873 - val_acc: 0.9533\n",
            "Epoch 201/500\n",
            "2/2 [==============================] - 0s 167ms/step - loss: 4.0826e-04 - acc: 1.0000 - val_loss: 0.1880 - val_acc: 0.9533\n",
            "Epoch 202/500\n",
            "2/2 [==============================] - 0s 162ms/step - loss: 3.7717e-04 - acc: 1.0000 - val_loss: 0.1872 - val_acc: 0.9533\n",
            "Epoch 203/500\n",
            "2/2 [==============================] - 0s 165ms/step - loss: 3.6035e-04 - acc: 1.0000 - val_loss: 0.1865 - val_acc: 0.9533\n",
            "Epoch 204/500\n",
            "2/2 [==============================] - 0s 168ms/step - loss: 3.8002e-04 - acc: 1.0000 - val_loss: 0.1876 - val_acc: 0.9533\n",
            "Epoch 205/500\n",
            "2/2 [==============================] - 0s 170ms/step - loss: 3.4974e-04 - acc: 1.0000 - val_loss: 0.1888 - val_acc: 0.9533\n",
            "Epoch 206/500\n",
            "2/2 [==============================] - 0s 170ms/step - loss: 3.4960e-04 - acc: 1.0000 - val_loss: 0.1908 - val_acc: 0.9533\n",
            "Epoch 207/500\n",
            "2/2 [==============================] - 0s 171ms/step - loss: 3.6543e-04 - acc: 1.0000 - val_loss: 0.1921 - val_acc: 0.9533\n",
            "Epoch 208/500\n",
            "2/2 [==============================] - 0s 168ms/step - loss: 3.4501e-04 - acc: 1.0000 - val_loss: 0.1918 - val_acc: 0.9533\n",
            "Epoch 209/500\n",
            "2/2 [==============================] - 0s 166ms/step - loss: 3.3658e-04 - acc: 1.0000 - val_loss: 0.1898 - val_acc: 0.9533\n",
            "Epoch 210/500\n",
            "2/2 [==============================] - 0s 162ms/step - loss: 3.2450e-04 - acc: 1.0000 - val_loss: 0.1906 - val_acc: 0.9533\n",
            "Epoch 211/500\n",
            "2/2 [==============================] - 0s 168ms/step - loss: 3.1259e-04 - acc: 1.0000 - val_loss: 0.1921 - val_acc: 0.9533\n",
            "Epoch 212/500\n",
            "2/2 [==============================] - 0s 174ms/step - loss: 3.0676e-04 - acc: 1.0000 - val_loss: 0.1937 - val_acc: 0.9533\n",
            "Epoch 213/500\n",
            "2/2 [==============================] - 0s 170ms/step - loss: 3.1805e-04 - acc: 1.0000 - val_loss: 0.1939 - val_acc: 0.9533\n",
            "Epoch 214/500\n",
            "2/2 [==============================] - 0s 169ms/step - loss: 3.0316e-04 - acc: 1.0000 - val_loss: 0.1941 - val_acc: 0.9533\n",
            "Epoch 215/500\n",
            "2/2 [==============================] - 0s 168ms/step - loss: 2.8914e-04 - acc: 1.0000 - val_loss: 0.1938 - val_acc: 0.9533\n",
            "Epoch 216/500\n",
            "2/2 [==============================] - 0s 172ms/step - loss: 2.9163e-04 - acc: 1.0000 - val_loss: 0.1940 - val_acc: 0.9533\n",
            "Epoch 217/500\n",
            "2/2 [==============================] - 0s 169ms/step - loss: 2.7110e-04 - acc: 1.0000 - val_loss: 0.1950 - val_acc: 0.9533\n",
            "Epoch 218/500\n",
            "2/2 [==============================] - 0s 167ms/step - loss: 2.7504e-04 - acc: 1.0000 - val_loss: 0.1963 - val_acc: 0.9533\n",
            "Epoch 219/500\n",
            "2/2 [==============================] - 0s 165ms/step - loss: 2.6732e-04 - acc: 1.0000 - val_loss: 0.1962 - val_acc: 0.9533\n",
            "Epoch 220/500\n",
            "2/2 [==============================] - 0s 169ms/step - loss: 2.5300e-04 - acc: 1.0000 - val_loss: 0.1970 - val_acc: 0.9533\n",
            "Epoch 221/500\n",
            "2/2 [==============================] - 0s 175ms/step - loss: 2.5960e-04 - acc: 1.0000 - val_loss: 0.1973 - val_acc: 0.9533\n",
            "Epoch 222/500\n",
            "2/2 [==============================] - 0s 176ms/step - loss: 2.5914e-04 - acc: 1.0000 - val_loss: 0.1977 - val_acc: 0.9533\n",
            "Epoch 223/500\n",
            "2/2 [==============================] - 0s 170ms/step - loss: 2.5845e-04 - acc: 1.0000 - val_loss: 0.1978 - val_acc: 0.9533\n",
            "Epoch 224/500\n",
            "2/2 [==============================] - 0s 174ms/step - loss: 2.2596e-04 - acc: 1.0000 - val_loss: 0.1988 - val_acc: 0.9533\n",
            "Epoch 225/500\n",
            "2/2 [==============================] - 0s 174ms/step - loss: 2.4503e-04 - acc: 1.0000 - val_loss: 0.2000 - val_acc: 0.9533\n",
            "Epoch 226/500\n",
            "2/2 [==============================] - 0s 169ms/step - loss: 2.2917e-04 - acc: 1.0000 - val_loss: 0.2009 - val_acc: 0.9533\n",
            "Epoch 227/500\n",
            "2/2 [==============================] - 0s 173ms/step - loss: 2.3014e-04 - acc: 1.0000 - val_loss: 0.2002 - val_acc: 0.9533\n",
            "Epoch 228/500\n",
            "2/2 [==============================] - 0s 168ms/step - loss: 2.2432e-04 - acc: 1.0000 - val_loss: 0.1989 - val_acc: 0.9533\n",
            "Epoch 229/500\n",
            "2/2 [==============================] - 0s 170ms/step - loss: 2.1877e-04 - acc: 1.0000 - val_loss: 0.2003 - val_acc: 0.9533\n",
            "Epoch 230/500\n",
            "2/2 [==============================] - 0s 169ms/step - loss: 2.1655e-04 - acc: 1.0000 - val_loss: 0.2012 - val_acc: 0.9533\n",
            "Epoch 231/500\n",
            "2/2 [==============================] - 0s 170ms/step - loss: 2.1221e-04 - acc: 1.0000 - val_loss: 0.2027 - val_acc: 0.9533\n",
            "Epoch 232/500\n",
            "2/2 [==============================] - 0s 166ms/step - loss: 2.0258e-04 - acc: 1.0000 - val_loss: 0.2039 - val_acc: 0.9533\n",
            "Epoch 233/500\n",
            "2/2 [==============================] - 0s 170ms/step - loss: 2.0577e-04 - acc: 1.0000 - val_loss: 0.2036 - val_acc: 0.9533\n",
            "Epoch 234/500\n",
            "2/2 [==============================] - 0s 165ms/step - loss: 2.0387e-04 - acc: 1.0000 - val_loss: 0.2029 - val_acc: 0.9533\n",
            "Epoch 235/500\n",
            "2/2 [==============================] - 0s 164ms/step - loss: 1.8805e-04 - acc: 1.0000 - val_loss: 0.2025 - val_acc: 0.9533\n",
            "Epoch 236/500\n",
            "2/2 [==============================] - 0s 168ms/step - loss: 1.8565e-04 - acc: 1.0000 - val_loss: 0.2035 - val_acc: 0.9533\n",
            "Epoch 237/500\n",
            "2/2 [==============================] - 0s 168ms/step - loss: 1.9632e-04 - acc: 1.0000 - val_loss: 0.2048 - val_acc: 0.9533\n",
            "Epoch 238/500\n",
            "2/2 [==============================] - 0s 170ms/step - loss: 1.8682e-04 - acc: 1.0000 - val_loss: 0.2058 - val_acc: 0.9533\n",
            "Epoch 239/500\n",
            "2/2 [==============================] - 0s 168ms/step - loss: 1.8104e-04 - acc: 1.0000 - val_loss: 0.2062 - val_acc: 0.9533\n",
            "Epoch 240/500\n",
            "2/2 [==============================] - 0s 172ms/step - loss: 1.7640e-04 - acc: 1.0000 - val_loss: 0.2054 - val_acc: 0.9533\n",
            "Epoch 241/500\n",
            "2/2 [==============================] - 0s 171ms/step - loss: 1.7818e-04 - acc: 1.0000 - val_loss: 0.2053 - val_acc: 0.9533\n",
            "Epoch 242/500\n",
            "2/2 [==============================] - 0s 167ms/step - loss: 1.7401e-04 - acc: 1.0000 - val_loss: 0.2060 - val_acc: 0.9533\n",
            "Epoch 243/500\n",
            "2/2 [==============================] - 0s 172ms/step - loss: 1.7250e-04 - acc: 1.0000 - val_loss: 0.2064 - val_acc: 0.9533\n",
            "Epoch 244/500\n",
            "2/2 [==============================] - 0s 170ms/step - loss: 1.7389e-04 - acc: 1.0000 - val_loss: 0.2078 - val_acc: 0.9533\n",
            "Epoch 245/500\n",
            "2/2 [==============================] - 0s 168ms/step - loss: 1.5974e-04 - acc: 1.0000 - val_loss: 0.2091 - val_acc: 0.9533\n",
            "Epoch 246/500\n",
            "2/2 [==============================] - 0s 167ms/step - loss: 1.6047e-04 - acc: 1.0000 - val_loss: 0.2091 - val_acc: 0.9533\n",
            "Epoch 247/500\n",
            "2/2 [==============================] - 0s 167ms/step - loss: 1.5384e-04 - acc: 1.0000 - val_loss: 0.2095 - val_acc: 0.9533\n",
            "Epoch 248/500\n",
            "2/2 [==============================] - 0s 168ms/step - loss: 1.6738e-04 - acc: 1.0000 - val_loss: 0.2086 - val_acc: 0.9533\n",
            "Epoch 249/500\n",
            "2/2 [==============================] - 0s 168ms/step - loss: 1.5325e-04 - acc: 1.0000 - val_loss: 0.2087 - val_acc: 0.9533\n",
            "Epoch 250/500\n",
            "2/2 [==============================] - 0s 172ms/step - loss: 1.5413e-04 - acc: 1.0000 - val_loss: 0.2097 - val_acc: 0.9533\n",
            "Epoch 251/500\n",
            "2/2 [==============================] - 0s 172ms/step - loss: 1.4640e-04 - acc: 1.0000 - val_loss: 0.2108 - val_acc: 0.9533\n",
            "Epoch 252/500\n",
            "2/2 [==============================] - 0s 172ms/step - loss: 1.4509e-04 - acc: 1.0000 - val_loss: 0.2122 - val_acc: 0.9533\n",
            "Epoch 253/500\n",
            "2/2 [==============================] - 0s 168ms/step - loss: 1.4552e-04 - acc: 1.0000 - val_loss: 0.2122 - val_acc: 0.9533\n",
            "Epoch 254/500\n",
            "2/2 [==============================] - 0s 175ms/step - loss: 1.4266e-04 - acc: 1.0000 - val_loss: 0.2108 - val_acc: 0.9533\n",
            "Epoch 255/500\n",
            "2/2 [==============================] - 0s 166ms/step - loss: 1.3845e-04 - acc: 1.0000 - val_loss: 0.2107 - val_acc: 0.9533\n",
            "Epoch 256/500\n",
            "2/2 [==============================] - 0s 173ms/step - loss: 1.3996e-04 - acc: 1.0000 - val_loss: 0.2114 - val_acc: 0.9533\n",
            "Epoch 257/500\n",
            "2/2 [==============================] - 0s 171ms/step - loss: 1.2957e-04 - acc: 1.0000 - val_loss: 0.2131 - val_acc: 0.9533\n",
            "Epoch 258/500\n",
            "2/2 [==============================] - 0s 171ms/step - loss: 1.2615e-04 - acc: 1.0000 - val_loss: 0.2145 - val_acc: 0.9533\n",
            "Epoch 259/500\n",
            "2/2 [==============================] - 0s 170ms/step - loss: 1.3715e-04 - acc: 1.0000 - val_loss: 0.2149 - val_acc: 0.9533\n",
            "Epoch 260/500\n",
            "2/2 [==============================] - 0s 169ms/step - loss: 1.3286e-04 - acc: 1.0000 - val_loss: 0.2147 - val_acc: 0.9533\n",
            "Epoch 261/500\n",
            "2/2 [==============================] - 0s 172ms/step - loss: 1.2266e-04 - acc: 1.0000 - val_loss: 0.2141 - val_acc: 0.9533\n",
            "Epoch 262/500\n",
            "2/2 [==============================] - 0s 169ms/step - loss: 1.3061e-04 - acc: 1.0000 - val_loss: 0.2137 - val_acc: 0.9533\n",
            "Epoch 263/500\n",
            "2/2 [==============================] - 0s 170ms/step - loss: 1.2176e-04 - acc: 1.0000 - val_loss: 0.2149 - val_acc: 0.9533\n",
            "Epoch 264/500\n",
            "2/2 [==============================] - 0s 175ms/step - loss: 1.2413e-04 - acc: 1.0000 - val_loss: 0.2163 - val_acc: 0.9533\n",
            "Epoch 265/500\n",
            "2/2 [==============================] - 0s 169ms/step - loss: 1.2174e-04 - acc: 1.0000 - val_loss: 0.2161 - val_acc: 0.9533\n",
            "Epoch 266/500\n",
            "2/2 [==============================] - 0s 171ms/step - loss: 1.1703e-04 - acc: 1.0000 - val_loss: 0.2159 - val_acc: 0.9533\n",
            "Epoch 267/500\n",
            "2/2 [==============================] - 0s 167ms/step - loss: 1.2039e-04 - acc: 1.0000 - val_loss: 0.2166 - val_acc: 0.9533\n",
            "Epoch 268/500\n",
            "2/2 [==============================] - 0s 176ms/step - loss: 1.1636e-04 - acc: 1.0000 - val_loss: 0.2170 - val_acc: 0.9533\n",
            "Epoch 269/500\n",
            "2/2 [==============================] - 0s 172ms/step - loss: 1.1547e-04 - acc: 1.0000 - val_loss: 0.2171 - val_acc: 0.9533\n",
            "Epoch 270/500\n",
            "2/2 [==============================] - 0s 169ms/step - loss: 1.1137e-04 - acc: 1.0000 - val_loss: 0.2176 - val_acc: 0.9533\n",
            "Epoch 271/500\n",
            "2/2 [==============================] - 0s 170ms/step - loss: 1.0851e-04 - acc: 1.0000 - val_loss: 0.2187 - val_acc: 0.9533\n",
            "Epoch 272/500\n",
            "2/2 [==============================] - 0s 177ms/step - loss: 1.1690e-04 - acc: 1.0000 - val_loss: 0.2189 - val_acc: 0.9533\n",
            "Epoch 273/500\n",
            "2/2 [==============================] - 0s 172ms/step - loss: 1.0775e-04 - acc: 1.0000 - val_loss: 0.2191 - val_acc: 0.9533\n",
            "Epoch 274/500\n",
            "2/2 [==============================] - 0s 169ms/step - loss: 1.0294e-04 - acc: 1.0000 - val_loss: 0.2198 - val_acc: 0.9533\n",
            "Epoch 275/500\n",
            "2/2 [==============================] - 0s 172ms/step - loss: 1.0568e-04 - acc: 1.0000 - val_loss: 0.2197 - val_acc: 0.9533\n",
            "Epoch 276/500\n",
            "2/2 [==============================] - 0s 167ms/step - loss: 1.0476e-04 - acc: 1.0000 - val_loss: 0.2201 - val_acc: 0.9533\n",
            "Epoch 277/500\n",
            "2/2 [==============================] - 0s 168ms/step - loss: 1.0448e-04 - acc: 1.0000 - val_loss: 0.2202 - val_acc: 0.9533\n",
            "Epoch 278/500\n",
            "2/2 [==============================] - 0s 168ms/step - loss: 1.0528e-04 - acc: 1.0000 - val_loss: 0.2204 - val_acc: 0.9533\n",
            "Epoch 279/500\n",
            "2/2 [==============================] - 0s 167ms/step - loss: 9.9650e-05 - acc: 1.0000 - val_loss: 0.2211 - val_acc: 0.9533\n",
            "Epoch 280/500\n",
            "2/2 [==============================] - 0s 173ms/step - loss: 9.9170e-05 - acc: 1.0000 - val_loss: 0.2217 - val_acc: 0.9533\n",
            "Epoch 281/500\n",
            "2/2 [==============================] - 0s 171ms/step - loss: 9.2856e-05 - acc: 1.0000 - val_loss: 0.2224 - val_acc: 0.9533\n",
            "Epoch 282/500\n",
            "2/2 [==============================] - 0s 172ms/step - loss: 9.7244e-05 - acc: 1.0000 - val_loss: 0.2225 - val_acc: 0.9533\n",
            "Epoch 283/500\n",
            "2/2 [==============================] - 0s 172ms/step - loss: 9.4036e-05 - acc: 1.0000 - val_loss: 0.2224 - val_acc: 0.9533\n",
            "Epoch 284/500\n",
            "2/2 [==============================] - 0s 173ms/step - loss: 9.9149e-05 - acc: 1.0000 - val_loss: 0.2222 - val_acc: 0.9533\n",
            "Epoch 285/500\n",
            "2/2 [==============================] - 0s 174ms/step - loss: 9.2278e-05 - acc: 1.0000 - val_loss: 0.2226 - val_acc: 0.9533\n",
            "Epoch 286/500\n",
            "2/2 [==============================] - 0s 169ms/step - loss: 9.0866e-05 - acc: 1.0000 - val_loss: 0.2228 - val_acc: 0.9533\n",
            "Epoch 287/500\n",
            "2/2 [==============================] - 0s 173ms/step - loss: 9.1174e-05 - acc: 1.0000 - val_loss: 0.2236 - val_acc: 0.9533\n",
            "Epoch 288/500\n",
            "2/2 [==============================] - 0s 166ms/step - loss: 8.7231e-05 - acc: 1.0000 - val_loss: 0.2247 - val_acc: 0.9533\n",
            "Epoch 289/500\n",
            "2/2 [==============================] - 0s 173ms/step - loss: 8.8165e-05 - acc: 1.0000 - val_loss: 0.2245 - val_acc: 0.9533\n",
            "Epoch 290/500\n",
            "2/2 [==============================] - 0s 172ms/step - loss: 8.6891e-05 - acc: 1.0000 - val_loss: 0.2250 - val_acc: 0.9533\n",
            "Epoch 291/500\n",
            "2/2 [==============================] - 0s 172ms/step - loss: 8.6387e-05 - acc: 1.0000 - val_loss: 0.2256 - val_acc: 0.9533\n",
            "Epoch 292/500\n",
            "2/2 [==============================] - 0s 169ms/step - loss: 8.4064e-05 - acc: 1.0000 - val_loss: 0.2256 - val_acc: 0.9533\n",
            "Epoch 293/500\n",
            "2/2 [==============================] - 0s 170ms/step - loss: 8.9354e-05 - acc: 1.0000 - val_loss: 0.2254 - val_acc: 0.9533\n",
            "Epoch 294/500\n",
            "2/2 [==============================] - 0s 169ms/step - loss: 8.5197e-05 - acc: 1.0000 - val_loss: 0.2256 - val_acc: 0.9533\n",
            "Epoch 295/500\n",
            "2/2 [==============================] - 0s 169ms/step - loss: 7.7563e-05 - acc: 1.0000 - val_loss: 0.2257 - val_acc: 0.9533\n",
            "Epoch 296/500\n",
            "2/2 [==============================] - 0s 174ms/step - loss: 7.9054e-05 - acc: 1.0000 - val_loss: 0.2269 - val_acc: 0.9533\n",
            "Epoch 297/500\n",
            "2/2 [==============================] - 0s 166ms/step - loss: 8.1323e-05 - acc: 1.0000 - val_loss: 0.2273 - val_acc: 0.9533\n",
            "Epoch 298/500\n",
            "2/2 [==============================] - 0s 175ms/step - loss: 8.2565e-05 - acc: 1.0000 - val_loss: 0.2280 - val_acc: 0.9533\n",
            "Epoch 299/500\n",
            "2/2 [==============================] - 0s 174ms/step - loss: 7.8355e-05 - acc: 1.0000 - val_loss: 0.2282 - val_acc: 0.9533\n",
            "Epoch 300/500\n",
            "2/2 [==============================] - 0s 171ms/step - loss: 7.8136e-05 - acc: 1.0000 - val_loss: 0.2280 - val_acc: 0.9533\n",
            "Epoch 301/500\n",
            "2/2 [==============================] - 0s 169ms/step - loss: 7.7610e-05 - acc: 1.0000 - val_loss: 0.2280 - val_acc: 0.9533\n",
            "Epoch 302/500\n",
            "2/2 [==============================] - 0s 170ms/step - loss: 7.5877e-05 - acc: 1.0000 - val_loss: 0.2280 - val_acc: 0.9533\n",
            "Epoch 303/500\n",
            "2/2 [==============================] - 0s 169ms/step - loss: 7.5330e-05 - acc: 1.0000 - val_loss: 0.2288 - val_acc: 0.9533\n",
            "Epoch 304/500\n",
            "2/2 [==============================] - 0s 168ms/step - loss: 7.3929e-05 - acc: 1.0000 - val_loss: 0.2292 - val_acc: 0.9533\n",
            "Epoch 305/500\n",
            "2/2 [==============================] - 0s 175ms/step - loss: 7.1945e-05 - acc: 1.0000 - val_loss: 0.2295 - val_acc: 0.9533\n",
            "Epoch 306/500\n",
            "2/2 [==============================] - 0s 171ms/step - loss: 7.6977e-05 - acc: 1.0000 - val_loss: 0.2299 - val_acc: 0.9533\n",
            "Epoch 307/500\n",
            "2/2 [==============================] - 0s 169ms/step - loss: 6.9352e-05 - acc: 1.0000 - val_loss: 0.2309 - val_acc: 0.9533\n",
            "Epoch 308/500\n",
            "2/2 [==============================] - 0s 175ms/step - loss: 6.8763e-05 - acc: 1.0000 - val_loss: 0.2312 - val_acc: 0.9533\n",
            "Epoch 309/500\n",
            "2/2 [==============================] - 0s 171ms/step - loss: 7.2521e-05 - acc: 1.0000 - val_loss: 0.2308 - val_acc: 0.9533\n",
            "Epoch 310/500\n",
            "2/2 [==============================] - 0s 176ms/step - loss: 7.0821e-05 - acc: 1.0000 - val_loss: 0.2307 - val_acc: 0.9533\n",
            "Epoch 311/500\n",
            "2/2 [==============================] - 0s 178ms/step - loss: 6.3854e-05 - acc: 1.0000 - val_loss: 0.2312 - val_acc: 0.9533\n",
            "Epoch 312/500\n",
            "2/2 [==============================] - 0s 170ms/step - loss: 6.5637e-05 - acc: 1.0000 - val_loss: 0.2314 - val_acc: 0.9533\n",
            "Epoch 313/500\n",
            "2/2 [==============================] - 0s 185ms/step - loss: 6.3364e-05 - acc: 1.0000 - val_loss: 0.2319 - val_acc: 0.9533\n",
            "Epoch 314/500\n",
            "2/2 [==============================] - 0s 168ms/step - loss: 6.5791e-05 - acc: 1.0000 - val_loss: 0.2322 - val_acc: 0.9533\n",
            "Epoch 315/500\n",
            "2/2 [==============================] - 0s 173ms/step - loss: 6.1515e-05 - acc: 1.0000 - val_loss: 0.2332 - val_acc: 0.9533\n",
            "Epoch 316/500\n",
            "2/2 [==============================] - 0s 171ms/step - loss: 6.6883e-05 - acc: 1.0000 - val_loss: 0.2332 - val_acc: 0.9533\n",
            "Epoch 317/500\n",
            "2/2 [==============================] - 0s 170ms/step - loss: 6.7044e-05 - acc: 1.0000 - val_loss: 0.2330 - val_acc: 0.9533\n",
            "Epoch 318/500\n",
            "2/2 [==============================] - 0s 172ms/step - loss: 6.3706e-05 - acc: 1.0000 - val_loss: 0.2333 - val_acc: 0.9533\n",
            "Epoch 319/500\n",
            "2/2 [==============================] - 0s 172ms/step - loss: 6.1532e-05 - acc: 1.0000 - val_loss: 0.2335 - val_acc: 0.9533\n",
            "Epoch 320/500\n",
            "2/2 [==============================] - 0s 174ms/step - loss: 6.0438e-05 - acc: 1.0000 - val_loss: 0.2341 - val_acc: 0.9533\n",
            "Epoch 321/500\n",
            "2/2 [==============================] - 0s 169ms/step - loss: 6.4386e-05 - acc: 1.0000 - val_loss: 0.2346 - val_acc: 0.9533\n",
            "Epoch 322/500\n",
            "2/2 [==============================] - 0s 167ms/step - loss: 5.6976e-05 - acc: 1.0000 - val_loss: 0.2353 - val_acc: 0.9533\n",
            "Epoch 323/500\n",
            "2/2 [==============================] - 0s 171ms/step - loss: 6.1694e-05 - acc: 1.0000 - val_loss: 0.2358 - val_acc: 0.9533\n",
            "Epoch 324/500\n",
            "2/2 [==============================] - 0s 179ms/step - loss: 5.8800e-05 - acc: 1.0000 - val_loss: 0.2359 - val_acc: 0.9533\n",
            "Epoch 325/500\n",
            "2/2 [==============================] - 0s 170ms/step - loss: 6.2182e-05 - acc: 1.0000 - val_loss: 0.2355 - val_acc: 0.9533\n",
            "Epoch 326/500\n",
            "2/2 [==============================] - 0s 169ms/step - loss: 5.7887e-05 - acc: 1.0000 - val_loss: 0.2351 - val_acc: 0.9533\n",
            "Epoch 327/500\n",
            "2/2 [==============================] - 0s 169ms/step - loss: 6.1265e-05 - acc: 1.0000 - val_loss: 0.2351 - val_acc: 0.9533\n",
            "Epoch 328/500\n",
            "2/2 [==============================] - 0s 171ms/step - loss: 5.4095e-05 - acc: 1.0000 - val_loss: 0.2362 - val_acc: 0.9533\n",
            "Epoch 329/500\n",
            "2/2 [==============================] - 0s 169ms/step - loss: 5.6827e-05 - acc: 1.0000 - val_loss: 0.2365 - val_acc: 0.9533\n",
            "Epoch 330/500\n",
            "2/2 [==============================] - 0s 173ms/step - loss: 5.1311e-05 - acc: 1.0000 - val_loss: 0.2373 - val_acc: 0.9533\n",
            "Epoch 331/500\n",
            "2/2 [==============================] - 0s 169ms/step - loss: 5.9033e-05 - acc: 1.0000 - val_loss: 0.2378 - val_acc: 0.9533\n",
            "Epoch 332/500\n",
            "2/2 [==============================] - 0s 166ms/step - loss: 5.3844e-05 - acc: 1.0000 - val_loss: 0.2381 - val_acc: 0.9533\n",
            "Epoch 333/500\n",
            "2/2 [==============================] - 0s 178ms/step - loss: 5.4039e-05 - acc: 1.0000 - val_loss: 0.2380 - val_acc: 0.9533\n",
            "Epoch 334/500\n",
            "2/2 [==============================] - 0s 174ms/step - loss: 5.4892e-05 - acc: 1.0000 - val_loss: 0.2380 - val_acc: 0.9533\n",
            "Epoch 335/500\n",
            "2/2 [==============================] - 0s 166ms/step - loss: 5.2689e-05 - acc: 1.0000 - val_loss: 0.2384 - val_acc: 0.9533\n",
            "Epoch 336/500\n",
            "2/2 [==============================] - 0s 171ms/step - loss: 5.3890e-05 - acc: 1.0000 - val_loss: 0.2383 - val_acc: 0.9533\n",
            "Epoch 337/500\n",
            "2/2 [==============================] - 0s 169ms/step - loss: 5.1223e-05 - acc: 1.0000 - val_loss: 0.2382 - val_acc: 0.9533\n",
            "Epoch 338/500\n",
            "2/2 [==============================] - 0s 174ms/step - loss: 5.1122e-05 - acc: 1.0000 - val_loss: 0.2387 - val_acc: 0.9533\n",
            "Epoch 339/500\n",
            "2/2 [==============================] - 0s 171ms/step - loss: 5.1059e-05 - acc: 1.0000 - val_loss: 0.2392 - val_acc: 0.9533\n",
            "Epoch 340/500\n",
            "2/2 [==============================] - 0s 174ms/step - loss: 5.0434e-05 - acc: 1.0000 - val_loss: 0.2397 - val_acc: 0.9533\n",
            "Epoch 341/500\n",
            "2/2 [==============================] - 0s 170ms/step - loss: 5.2387e-05 - acc: 1.0000 - val_loss: 0.2403 - val_acc: 0.9533\n",
            "Epoch 342/500\n",
            "2/2 [==============================] - 0s 173ms/step - loss: 4.7540e-05 - acc: 1.0000 - val_loss: 0.2399 - val_acc: 0.9533\n",
            "Epoch 343/500\n",
            "2/2 [==============================] - 0s 172ms/step - loss: 4.9691e-05 - acc: 1.0000 - val_loss: 0.2404 - val_acc: 0.9533\n",
            "Epoch 344/500\n",
            "2/2 [==============================] - 0s 174ms/step - loss: 4.8555e-05 - acc: 1.0000 - val_loss: 0.2406 - val_acc: 0.9533\n",
            "Epoch 345/500\n",
            "2/2 [==============================] - 0s 167ms/step - loss: 4.6984e-05 - acc: 1.0000 - val_loss: 0.2408 - val_acc: 0.9533\n",
            "Epoch 346/500\n",
            "2/2 [==============================] - 0s 168ms/step - loss: 5.0050e-05 - acc: 1.0000 - val_loss: 0.2413 - val_acc: 0.9533\n",
            "Epoch 347/500\n",
            "2/2 [==============================] - 0s 171ms/step - loss: 4.8572e-05 - acc: 1.0000 - val_loss: 0.2410 - val_acc: 0.9533\n",
            "Epoch 348/500\n",
            "2/2 [==============================] - 0s 174ms/step - loss: 4.5089e-05 - acc: 1.0000 - val_loss: 0.2420 - val_acc: 0.9533\n",
            "Epoch 349/500\n",
            "2/2 [==============================] - 0s 175ms/step - loss: 4.7784e-05 - acc: 1.0000 - val_loss: 0.2423 - val_acc: 0.9533\n",
            "Epoch 350/500\n",
            "2/2 [==============================] - 0s 175ms/step - loss: 4.5981e-05 - acc: 1.0000 - val_loss: 0.2424 - val_acc: 0.9533\n",
            "Epoch 351/500\n",
            "2/2 [==============================] - 0s 167ms/step - loss: 4.4930e-05 - acc: 1.0000 - val_loss: 0.2423 - val_acc: 0.9533\n",
            "Epoch 352/500\n",
            "2/2 [==============================] - 0s 176ms/step - loss: 4.4737e-05 - acc: 1.0000 - val_loss: 0.2420 - val_acc: 0.9533\n",
            "Epoch 353/500\n",
            "2/2 [==============================] - 0s 171ms/step - loss: 4.4053e-05 - acc: 1.0000 - val_loss: 0.2426 - val_acc: 0.9533\n",
            "Epoch 354/500\n",
            "2/2 [==============================] - 0s 175ms/step - loss: 4.0900e-05 - acc: 1.0000 - val_loss: 0.2429 - val_acc: 0.9533\n",
            "Epoch 355/500\n",
            "2/2 [==============================] - 0s 176ms/step - loss: 4.4542e-05 - acc: 1.0000 - val_loss: 0.2432 - val_acc: 0.9533\n",
            "Epoch 356/500\n",
            "2/2 [==============================] - 0s 171ms/step - loss: 4.3001e-05 - acc: 1.0000 - val_loss: 0.2435 - val_acc: 0.9533\n",
            "Epoch 357/500\n",
            "2/2 [==============================] - 0s 171ms/step - loss: 4.3814e-05 - acc: 1.0000 - val_loss: 0.2441 - val_acc: 0.9533\n",
            "Epoch 358/500\n",
            "2/2 [==============================] - 0s 172ms/step - loss: 4.2677e-05 - acc: 1.0000 - val_loss: 0.2446 - val_acc: 0.9533\n",
            "Epoch 359/500\n",
            "2/2 [==============================] - 0s 172ms/step - loss: 4.1103e-05 - acc: 1.0000 - val_loss: 0.2448 - val_acc: 0.9533\n",
            "Epoch 360/500\n",
            "2/2 [==============================] - 0s 173ms/step - loss: 4.3582e-05 - acc: 1.0000 - val_loss: 0.2443 - val_acc: 0.9533\n",
            "Epoch 361/500\n",
            "2/2 [==============================] - 0s 171ms/step - loss: 4.0082e-05 - acc: 1.0000 - val_loss: 0.2443 - val_acc: 0.9533\n",
            "Epoch 362/500\n",
            "2/2 [==============================] - 0s 174ms/step - loss: 4.0033e-05 - acc: 1.0000 - val_loss: 0.2445 - val_acc: 0.9533\n",
            "Epoch 363/500\n",
            "2/2 [==============================] - 0s 169ms/step - loss: 4.1500e-05 - acc: 1.0000 - val_loss: 0.2453 - val_acc: 0.9533\n",
            "Epoch 364/500\n",
            "2/2 [==============================] - 0s 173ms/step - loss: 4.1276e-05 - acc: 1.0000 - val_loss: 0.2458 - val_acc: 0.9533\n",
            "Epoch 365/500\n",
            "2/2 [==============================] - 0s 173ms/step - loss: 4.0063e-05 - acc: 1.0000 - val_loss: 0.2458 - val_acc: 0.9533\n",
            "Epoch 366/500\n",
            "2/2 [==============================] - 0s 168ms/step - loss: 3.8866e-05 - acc: 1.0000 - val_loss: 0.2459 - val_acc: 0.9533\n",
            "Epoch 367/500\n",
            "2/2 [==============================] - 0s 169ms/step - loss: 4.1440e-05 - acc: 1.0000 - val_loss: 0.2461 - val_acc: 0.9533\n",
            "Epoch 368/500\n",
            "2/2 [==============================] - 0s 176ms/step - loss: 3.8323e-05 - acc: 1.0000 - val_loss: 0.2467 - val_acc: 0.9533\n",
            "Epoch 369/500\n",
            "2/2 [==============================] - 0s 166ms/step - loss: 4.0471e-05 - acc: 1.0000 - val_loss: 0.2469 - val_acc: 0.9533\n",
            "Epoch 370/500\n",
            "2/2 [==============================] - 0s 171ms/step - loss: 3.9681e-05 - acc: 1.0000 - val_loss: 0.2469 - val_acc: 0.9533\n",
            "Epoch 371/500\n",
            "2/2 [==============================] - 0s 167ms/step - loss: 3.8669e-05 - acc: 1.0000 - val_loss: 0.2470 - val_acc: 0.9533\n",
            "Epoch 372/500\n",
            "2/2 [==============================] - 0s 171ms/step - loss: 3.9794e-05 - acc: 1.0000 - val_loss: 0.2467 - val_acc: 0.9533\n",
            "Epoch 373/500\n",
            "2/2 [==============================] - 0s 171ms/step - loss: 3.3966e-05 - acc: 1.0000 - val_loss: 0.2471 - val_acc: 0.9533\n",
            "Epoch 374/500\n",
            "2/2 [==============================] - 0s 173ms/step - loss: 3.6525e-05 - acc: 1.0000 - val_loss: 0.2473 - val_acc: 0.9533\n",
            "Epoch 375/500\n",
            "2/2 [==============================] - 0s 173ms/step - loss: 3.6103e-05 - acc: 1.0000 - val_loss: 0.2482 - val_acc: 0.9533\n",
            "Epoch 376/500\n",
            "2/2 [==============================] - 0s 173ms/step - loss: 3.5925e-05 - acc: 1.0000 - val_loss: 0.2485 - val_acc: 0.9533\n",
            "Epoch 377/500\n",
            "2/2 [==============================] - 0s 172ms/step - loss: 3.6690e-05 - acc: 1.0000 - val_loss: 0.2488 - val_acc: 0.9533\n",
            "Epoch 378/500\n",
            "2/2 [==============================] - 0s 173ms/step - loss: 3.5601e-05 - acc: 1.0000 - val_loss: 0.2489 - val_acc: 0.9533\n",
            "Epoch 379/500\n",
            "2/2 [==============================] - 0s 171ms/step - loss: 3.7021e-05 - acc: 1.0000 - val_loss: 0.2492 - val_acc: 0.9533\n",
            "Epoch 380/500\n",
            "2/2 [==============================] - 0s 170ms/step - loss: 3.5606e-05 - acc: 1.0000 - val_loss: 0.2494 - val_acc: 0.9533\n",
            "Epoch 381/500\n",
            "2/2 [==============================] - 0s 172ms/step - loss: 3.6186e-05 - acc: 1.0000 - val_loss: 0.2495 - val_acc: 0.9533\n",
            "Epoch 382/500\n",
            "2/2 [==============================] - 0s 170ms/step - loss: 3.4762e-05 - acc: 1.0000 - val_loss: 0.2496 - val_acc: 0.9533\n",
            "Epoch 383/500\n",
            "2/2 [==============================] - 0s 169ms/step - loss: 3.3887e-05 - acc: 1.0000 - val_loss: 0.2498 - val_acc: 0.9533\n",
            "Epoch 384/500\n",
            "2/2 [==============================] - 0s 177ms/step - loss: 3.4754e-05 - acc: 1.0000 - val_loss: 0.2495 - val_acc: 0.9533\n",
            "Epoch 385/500\n",
            "2/2 [==============================] - 0s 170ms/step - loss: 3.5994e-05 - acc: 1.0000 - val_loss: 0.2496 - val_acc: 0.9533\n",
            "Epoch 386/500\n",
            "2/2 [==============================] - 0s 174ms/step - loss: 3.4955e-05 - acc: 1.0000 - val_loss: 0.2498 - val_acc: 0.9533\n",
            "Epoch 387/500\n",
            "2/2 [==============================] - 0s 172ms/step - loss: 3.4948e-05 - acc: 1.0000 - val_loss: 0.2504 - val_acc: 0.9533\n",
            "Epoch 388/500\n",
            "2/2 [==============================] - 0s 175ms/step - loss: 3.3890e-05 - acc: 1.0000 - val_loss: 0.2508 - val_acc: 0.9533\n",
            "Epoch 389/500\n",
            "2/2 [==============================] - 0s 180ms/step - loss: 3.3619e-05 - acc: 1.0000 - val_loss: 0.2512 - val_acc: 0.9533\n",
            "Epoch 390/500\n",
            "2/2 [==============================] - 0s 176ms/step - loss: 3.3821e-05 - acc: 1.0000 - val_loss: 0.2515 - val_acc: 0.9533\n",
            "Epoch 391/500\n",
            "2/2 [==============================] - 0s 177ms/step - loss: 3.3138e-05 - acc: 1.0000 - val_loss: 0.2518 - val_acc: 0.9533\n",
            "Epoch 392/500\n",
            "2/2 [==============================] - 0s 166ms/step - loss: 3.1086e-05 - acc: 1.0000 - val_loss: 0.2521 - val_acc: 0.9533\n",
            "Epoch 393/500\n",
            "2/2 [==============================] - 0s 170ms/step - loss: 3.1151e-05 - acc: 1.0000 - val_loss: 0.2523 - val_acc: 0.9533\n",
            "Epoch 394/500\n",
            "2/2 [==============================] - 0s 177ms/step - loss: 3.2851e-05 - acc: 1.0000 - val_loss: 0.2522 - val_acc: 0.9533\n",
            "Epoch 395/500\n",
            "2/2 [==============================] - 0s 167ms/step - loss: 2.9577e-05 - acc: 1.0000 - val_loss: 0.2523 - val_acc: 0.9533\n",
            "Epoch 396/500\n",
            "2/2 [==============================] - 0s 166ms/step - loss: 3.1347e-05 - acc: 1.0000 - val_loss: 0.2523 - val_acc: 0.9533\n",
            "Epoch 397/500\n",
            "2/2 [==============================] - 0s 173ms/step - loss: 3.0593e-05 - acc: 1.0000 - val_loss: 0.2519 - val_acc: 0.9533\n",
            "Epoch 398/500\n",
            "2/2 [==============================] - 0s 170ms/step - loss: 3.1452e-05 - acc: 1.0000 - val_loss: 0.2519 - val_acc: 0.9533\n",
            "Epoch 399/500\n",
            "2/2 [==============================] - 0s 170ms/step - loss: 2.9180e-05 - acc: 1.0000 - val_loss: 0.2526 - val_acc: 0.9533\n",
            "Epoch 400/500\n",
            "2/2 [==============================] - 0s 172ms/step - loss: 3.1105e-05 - acc: 1.0000 - val_loss: 0.2533 - val_acc: 0.9533\n",
            "Epoch 401/500\n",
            "2/2 [==============================] - 0s 175ms/step - loss: 3.0393e-05 - acc: 1.0000 - val_loss: 0.2537 - val_acc: 0.9533\n",
            "Epoch 402/500\n",
            "2/2 [==============================] - 0s 169ms/step - loss: 3.1347e-05 - acc: 1.0000 - val_loss: 0.2540 - val_acc: 0.9533\n",
            "Epoch 403/500\n",
            "2/2 [==============================] - 0s 169ms/step - loss: 3.0273e-05 - acc: 1.0000 - val_loss: 0.2541 - val_acc: 0.9533\n",
            "Epoch 404/500\n",
            "2/2 [==============================] - 0s 174ms/step - loss: 3.0617e-05 - acc: 1.0000 - val_loss: 0.2539 - val_acc: 0.9533\n",
            "Epoch 405/500\n",
            "2/2 [==============================] - 0s 166ms/step - loss: 2.8841e-05 - acc: 1.0000 - val_loss: 0.2540 - val_acc: 0.9533\n",
            "Epoch 406/500\n",
            "2/2 [==============================] - 0s 171ms/step - loss: 2.9650e-05 - acc: 1.0000 - val_loss: 0.2545 - val_acc: 0.9533\n",
            "Epoch 407/500\n",
            "2/2 [==============================] - 0s 171ms/step - loss: 2.7848e-05 - acc: 1.0000 - val_loss: 0.2544 - val_acc: 0.9533\n",
            "Epoch 408/500\n",
            "2/2 [==============================] - 0s 176ms/step - loss: 2.8457e-05 - acc: 1.0000 - val_loss: 0.2548 - val_acc: 0.9533\n",
            "Epoch 409/500\n",
            "2/2 [==============================] - 0s 171ms/step - loss: 3.0433e-05 - acc: 1.0000 - val_loss: 0.2548 - val_acc: 0.9533\n",
            "Epoch 410/500\n",
            "2/2 [==============================] - 0s 171ms/step - loss: 2.8220e-05 - acc: 1.0000 - val_loss: 0.2549 - val_acc: 0.9533\n",
            "Epoch 411/500\n",
            "2/2 [==============================] - 0s 172ms/step - loss: 2.9117e-05 - acc: 1.0000 - val_loss: 0.2552 - val_acc: 0.9533\n",
            "Epoch 412/500\n",
            "2/2 [==============================] - 0s 168ms/step - loss: 2.6778e-05 - acc: 1.0000 - val_loss: 0.2559 - val_acc: 0.9533\n",
            "Epoch 413/500\n",
            "2/2 [==============================] - 0s 172ms/step - loss: 2.7221e-05 - acc: 1.0000 - val_loss: 0.2561 - val_acc: 0.9533\n",
            "Epoch 414/500\n",
            "2/2 [==============================] - 0s 176ms/step - loss: 2.7430e-05 - acc: 1.0000 - val_loss: 0.2560 - val_acc: 0.9533\n",
            "Epoch 415/500\n",
            "2/2 [==============================] - 0s 168ms/step - loss: 2.6434e-05 - acc: 1.0000 - val_loss: 0.2559 - val_acc: 0.9533\n",
            "Epoch 416/500\n",
            "2/2 [==============================] - 0s 174ms/step - loss: 2.5934e-05 - acc: 1.0000 - val_loss: 0.2558 - val_acc: 0.9533\n",
            "Epoch 417/500\n",
            "2/2 [==============================] - 0s 171ms/step - loss: 2.6513e-05 - acc: 1.0000 - val_loss: 0.2557 - val_acc: 0.9533\n",
            "Epoch 418/500\n",
            "2/2 [==============================] - 0s 167ms/step - loss: 2.5500e-05 - acc: 1.0000 - val_loss: 0.2561 - val_acc: 0.9533\n",
            "Epoch 419/500\n",
            "2/2 [==============================] - 0s 168ms/step - loss: 2.7847e-05 - acc: 1.0000 - val_loss: 0.2565 - val_acc: 0.9533\n",
            "Epoch 420/500\n",
            "2/2 [==============================] - 0s 173ms/step - loss: 2.7023e-05 - acc: 1.0000 - val_loss: 0.2571 - val_acc: 0.9533\n",
            "Epoch 421/500\n",
            "2/2 [==============================] - 0s 167ms/step - loss: 2.6665e-05 - acc: 1.0000 - val_loss: 0.2571 - val_acc: 0.9533\n",
            "Epoch 422/500\n",
            "2/2 [==============================] - 0s 171ms/step - loss: 2.5884e-05 - acc: 1.0000 - val_loss: 0.2578 - val_acc: 0.9533\n",
            "Epoch 423/500\n",
            "2/2 [==============================] - 0s 173ms/step - loss: 2.5239e-05 - acc: 1.0000 - val_loss: 0.2582 - val_acc: 0.9533\n",
            "Epoch 424/500\n",
            "2/2 [==============================] - 0s 174ms/step - loss: 2.5761e-05 - acc: 1.0000 - val_loss: 0.2580 - val_acc: 0.9533\n",
            "Epoch 425/500\n",
            "2/2 [==============================] - 0s 169ms/step - loss: 2.5583e-05 - acc: 1.0000 - val_loss: 0.2578 - val_acc: 0.9533\n",
            "Epoch 426/500\n",
            "2/2 [==============================] - 0s 171ms/step - loss: 2.5541e-05 - acc: 1.0000 - val_loss: 0.2580 - val_acc: 0.9533\n",
            "Epoch 427/500\n",
            "2/2 [==============================] - 0s 174ms/step - loss: 2.4686e-05 - acc: 1.0000 - val_loss: 0.2580 - val_acc: 0.9533\n",
            "Epoch 428/500\n",
            "2/2 [==============================] - 0s 176ms/step - loss: 2.5622e-05 - acc: 1.0000 - val_loss: 0.2581 - val_acc: 0.9533\n",
            "Epoch 429/500\n",
            "2/2 [==============================] - 0s 168ms/step - loss: 2.5492e-05 - acc: 1.0000 - val_loss: 0.2583 - val_acc: 0.9533\n",
            "Epoch 430/500\n",
            "2/2 [==============================] - 0s 170ms/step - loss: 2.3980e-05 - acc: 1.0000 - val_loss: 0.2585 - val_acc: 0.9533\n",
            "Epoch 431/500\n",
            "2/2 [==============================] - 0s 172ms/step - loss: 2.5358e-05 - acc: 1.0000 - val_loss: 0.2586 - val_acc: 0.9533\n",
            "Epoch 432/500\n",
            "2/2 [==============================] - 0s 173ms/step - loss: 2.3400e-05 - acc: 1.0000 - val_loss: 0.2591 - val_acc: 0.9533\n",
            "Epoch 433/500\n",
            "2/2 [==============================] - 0s 172ms/step - loss: 2.3077e-05 - acc: 1.0000 - val_loss: 0.2598 - val_acc: 0.9533\n",
            "Epoch 434/500\n",
            "2/2 [==============================] - 0s 178ms/step - loss: 2.4305e-05 - acc: 1.0000 - val_loss: 0.2598 - val_acc: 0.9533\n",
            "Epoch 435/500\n",
            "2/2 [==============================] - 0s 174ms/step - loss: 2.4803e-05 - acc: 1.0000 - val_loss: 0.2600 - val_acc: 0.9533\n",
            "Epoch 436/500\n",
            "2/2 [==============================] - 0s 169ms/step - loss: 2.2451e-05 - acc: 1.0000 - val_loss: 0.2601 - val_acc: 0.9533\n",
            "Epoch 437/500\n",
            "2/2 [==============================] - 0s 169ms/step - loss: 2.1983e-05 - acc: 1.0000 - val_loss: 0.2602 - val_acc: 0.9533\n",
            "Epoch 438/500\n",
            "2/2 [==============================] - 0s 170ms/step - loss: 2.2776e-05 - acc: 1.0000 - val_loss: 0.2603 - val_acc: 0.9533\n",
            "Epoch 439/500\n",
            "2/2 [==============================] - 0s 175ms/step - loss: 2.4480e-05 - acc: 1.0000 - val_loss: 0.2601 - val_acc: 0.9533\n",
            "Epoch 440/500\n",
            "2/2 [==============================] - 0s 174ms/step - loss: 2.2026e-05 - acc: 1.0000 - val_loss: 0.2602 - val_acc: 0.9533\n",
            "Epoch 441/500\n",
            "2/2 [==============================] - 0s 173ms/step - loss: 2.4603e-05 - acc: 1.0000 - val_loss: 0.2601 - val_acc: 0.9533\n",
            "Epoch 442/500\n",
            "2/2 [==============================] - 0s 172ms/step - loss: 2.2097e-05 - acc: 1.0000 - val_loss: 0.2606 - val_acc: 0.9533\n",
            "Epoch 443/500\n",
            "2/2 [==============================] - 0s 168ms/step - loss: 2.2820e-05 - acc: 1.0000 - val_loss: 0.2613 - val_acc: 0.9533\n",
            "Epoch 444/500\n",
            "2/2 [==============================] - 0s 173ms/step - loss: 2.1936e-05 - acc: 1.0000 - val_loss: 0.2618 - val_acc: 0.9533\n",
            "Epoch 445/500\n",
            "2/2 [==============================] - 0s 178ms/step - loss: 2.3692e-05 - acc: 1.0000 - val_loss: 0.2617 - val_acc: 0.9533\n",
            "Epoch 446/500\n",
            "2/2 [==============================] - 0s 175ms/step - loss: 2.3333e-05 - acc: 1.0000 - val_loss: 0.2620 - val_acc: 0.9533\n",
            "Epoch 447/500\n",
            "2/2 [==============================] - 0s 186ms/step - loss: 2.1963e-05 - acc: 1.0000 - val_loss: 0.2622 - val_acc: 0.9533\n",
            "Epoch 448/500\n",
            "2/2 [==============================] - 0s 171ms/step - loss: 2.1408e-05 - acc: 1.0000 - val_loss: 0.2623 - val_acc: 0.9533\n",
            "Epoch 449/500\n",
            "2/2 [==============================] - 0s 168ms/step - loss: 2.0918e-05 - acc: 1.0000 - val_loss: 0.2626 - val_acc: 0.9533\n",
            "Epoch 450/500\n",
            "2/2 [==============================] - 0s 173ms/step - loss: 2.1585e-05 - acc: 1.0000 - val_loss: 0.2623 - val_acc: 0.9533\n",
            "Epoch 451/500\n",
            "2/2 [==============================] - 0s 176ms/step - loss: 2.1337e-05 - acc: 1.0000 - val_loss: 0.2621 - val_acc: 0.9533\n",
            "Epoch 452/500\n",
            "2/2 [==============================] - 0s 171ms/step - loss: 2.1092e-05 - acc: 1.0000 - val_loss: 0.2623 - val_acc: 0.9533\n",
            "Epoch 453/500\n",
            "2/2 [==============================] - 0s 170ms/step - loss: 2.0721e-05 - acc: 1.0000 - val_loss: 0.2626 - val_acc: 0.9533\n",
            "Epoch 454/500\n",
            "2/2 [==============================] - 0s 173ms/step - loss: 2.1209e-05 - acc: 1.0000 - val_loss: 0.2627 - val_acc: 0.9533\n",
            "Epoch 455/500\n",
            "2/2 [==============================] - 0s 171ms/step - loss: 2.0675e-05 - acc: 1.0000 - val_loss: 0.2629 - val_acc: 0.9533\n",
            "Epoch 456/500\n",
            "2/2 [==============================] - 0s 170ms/step - loss: 2.1211e-05 - acc: 1.0000 - val_loss: 0.2632 - val_acc: 0.9533\n",
            "Epoch 457/500\n",
            "2/2 [==============================] - 0s 170ms/step - loss: 2.1152e-05 - acc: 1.0000 - val_loss: 0.2635 - val_acc: 0.9533\n",
            "Epoch 458/500\n",
            "2/2 [==============================] - 0s 173ms/step - loss: 2.0764e-05 - acc: 1.0000 - val_loss: 0.2638 - val_acc: 0.9533\n",
            "Epoch 459/500\n",
            "2/2 [==============================] - 0s 175ms/step - loss: 2.0797e-05 - acc: 1.0000 - val_loss: 0.2638 - val_acc: 0.9533\n",
            "Epoch 460/500\n",
            "2/2 [==============================] - 0s 175ms/step - loss: 2.0490e-05 - acc: 1.0000 - val_loss: 0.2641 - val_acc: 0.9533\n",
            "Epoch 461/500\n",
            "2/2 [==============================] - 0s 173ms/step - loss: 2.0136e-05 - acc: 1.0000 - val_loss: 0.2645 - val_acc: 0.9533\n",
            "Epoch 462/500\n",
            "2/2 [==============================] - 0s 173ms/step - loss: 2.0123e-05 - acc: 1.0000 - val_loss: 0.2644 - val_acc: 0.9533\n",
            "Epoch 463/500\n",
            "2/2 [==============================] - 0s 168ms/step - loss: 1.9404e-05 - acc: 1.0000 - val_loss: 0.2645 - val_acc: 0.9533\n",
            "Epoch 464/500\n",
            "2/2 [==============================] - 0s 171ms/step - loss: 1.9682e-05 - acc: 1.0000 - val_loss: 0.2643 - val_acc: 0.9533\n",
            "Epoch 465/500\n",
            "2/2 [==============================] - 0s 170ms/step - loss: 2.0213e-05 - acc: 1.0000 - val_loss: 0.2647 - val_acc: 0.9533\n",
            "Epoch 466/500\n",
            "2/2 [==============================] - 0s 171ms/step - loss: 1.9330e-05 - acc: 1.0000 - val_loss: 0.2649 - val_acc: 0.9533\n",
            "Epoch 467/500\n",
            "2/2 [==============================] - 0s 174ms/step - loss: 1.9578e-05 - acc: 1.0000 - val_loss: 0.2651 - val_acc: 0.9533\n",
            "Epoch 468/500\n",
            "2/2 [==============================] - 0s 178ms/step - loss: 1.9177e-05 - acc: 1.0000 - val_loss: 0.2654 - val_acc: 0.9533\n",
            "Epoch 469/500\n",
            "2/2 [==============================] - 0s 180ms/step - loss: 1.8425e-05 - acc: 1.0000 - val_loss: 0.2653 - val_acc: 0.9533\n",
            "Epoch 470/500\n",
            "2/2 [==============================] - 0s 173ms/step - loss: 1.8483e-05 - acc: 1.0000 - val_loss: 0.2656 - val_acc: 0.9533\n",
            "Epoch 471/500\n",
            "2/2 [==============================] - 0s 173ms/step - loss: 1.9309e-05 - acc: 1.0000 - val_loss: 0.2657 - val_acc: 0.9533\n",
            "Epoch 472/500\n",
            "2/2 [==============================] - 0s 166ms/step - loss: 1.7749e-05 - acc: 1.0000 - val_loss: 0.2659 - val_acc: 0.9533\n",
            "Epoch 473/500\n",
            "2/2 [==============================] - 0s 166ms/step - loss: 1.8512e-05 - acc: 1.0000 - val_loss: 0.2660 - val_acc: 0.9533\n",
            "Epoch 474/500\n",
            "2/2 [==============================] - 0s 169ms/step - loss: 1.8301e-05 - acc: 1.0000 - val_loss: 0.2660 - val_acc: 0.9533\n",
            "Epoch 475/500\n",
            "2/2 [==============================] - 0s 170ms/step - loss: 1.9062e-05 - acc: 1.0000 - val_loss: 0.2662 - val_acc: 0.9533\n",
            "Epoch 476/500\n",
            "2/2 [==============================] - 0s 171ms/step - loss: 1.7357e-05 - acc: 1.0000 - val_loss: 0.2667 - val_acc: 0.9533\n",
            "Epoch 477/500\n",
            "2/2 [==============================] - 0s 171ms/step - loss: 1.7878e-05 - acc: 1.0000 - val_loss: 0.2668 - val_acc: 0.9533\n",
            "Epoch 478/500\n",
            "2/2 [==============================] - 0s 172ms/step - loss: 1.7709e-05 - acc: 1.0000 - val_loss: 0.2669 - val_acc: 0.9533\n",
            "Epoch 479/500\n",
            "2/2 [==============================] - 0s 167ms/step - loss: 1.8819e-05 - acc: 1.0000 - val_loss: 0.2671 - val_acc: 0.9533\n",
            "Epoch 480/500\n",
            "2/2 [==============================] - 0s 171ms/step - loss: 1.7580e-05 - acc: 1.0000 - val_loss: 0.2672 - val_acc: 0.9533\n",
            "Epoch 481/500\n",
            "2/2 [==============================] - 0s 174ms/step - loss: 1.7627e-05 - acc: 1.0000 - val_loss: 0.2672 - val_acc: 0.9533\n",
            "Epoch 482/500\n",
            "2/2 [==============================] - 0s 170ms/step - loss: 1.7419e-05 - acc: 1.0000 - val_loss: 0.2673 - val_acc: 0.9533\n",
            "Epoch 483/500\n",
            "2/2 [==============================] - 0s 169ms/step - loss: 1.7278e-05 - acc: 1.0000 - val_loss: 0.2677 - val_acc: 0.9533\n",
            "Epoch 484/500\n",
            "2/2 [==============================] - 0s 178ms/step - loss: 1.7394e-05 - acc: 1.0000 - val_loss: 0.2679 - val_acc: 0.9533\n",
            "Epoch 485/500\n",
            "2/2 [==============================] - 0s 171ms/step - loss: 1.7404e-05 - acc: 1.0000 - val_loss: 0.2676 - val_acc: 0.9533\n",
            "Epoch 486/500\n",
            "2/2 [==============================] - 0s 178ms/step - loss: 1.7344e-05 - acc: 1.0000 - val_loss: 0.2677 - val_acc: 0.9533\n",
            "Epoch 487/500\n",
            "2/2 [==============================] - 0s 180ms/step - loss: 1.8132e-05 - acc: 1.0000 - val_loss: 0.2677 - val_acc: 0.9533\n",
            "Epoch 488/500\n",
            "2/2 [==============================] - 0s 169ms/step - loss: 1.6743e-05 - acc: 1.0000 - val_loss: 0.2683 - val_acc: 0.9533\n",
            "Epoch 489/500\n",
            "2/2 [==============================] - 0s 170ms/step - loss: 1.7443e-05 - acc: 1.0000 - val_loss: 0.2685 - val_acc: 0.9533\n",
            "Epoch 490/500\n",
            "2/2 [==============================] - 0s 174ms/step - loss: 1.6161e-05 - acc: 1.0000 - val_loss: 0.2687 - val_acc: 0.9533\n",
            "Epoch 491/500\n",
            "2/2 [==============================] - 0s 171ms/step - loss: 1.6738e-05 - acc: 1.0000 - val_loss: 0.2688 - val_acc: 0.9533\n",
            "Epoch 492/500\n",
            "2/2 [==============================] - 0s 171ms/step - loss: 1.7722e-05 - acc: 1.0000 - val_loss: 0.2688 - val_acc: 0.9533\n",
            "Epoch 493/500\n",
            "2/2 [==============================] - 0s 175ms/step - loss: 1.5880e-05 - acc: 1.0000 - val_loss: 0.2692 - val_acc: 0.9533\n",
            "Epoch 494/500\n",
            "2/2 [==============================] - 0s 170ms/step - loss: 1.6631e-05 - acc: 1.0000 - val_loss: 0.2694 - val_acc: 0.9533\n",
            "Epoch 495/500\n",
            "2/2 [==============================] - 0s 183ms/step - loss: 1.5773e-05 - acc: 1.0000 - val_loss: 0.2696 - val_acc: 0.9533\n",
            "Epoch 496/500\n",
            "2/2 [==============================] - 0s 177ms/step - loss: 1.6464e-05 - acc: 1.0000 - val_loss: 0.2699 - val_acc: 0.9533\n",
            "Epoch 497/500\n",
            "2/2 [==============================] - 0s 176ms/step - loss: 1.5551e-05 - acc: 1.0000 - val_loss: 0.2700 - val_acc: 0.9533\n",
            "Epoch 498/500\n",
            "2/2 [==============================] - 0s 171ms/step - loss: 1.5913e-05 - acc: 1.0000 - val_loss: 0.2702 - val_acc: 0.9533\n",
            "Epoch 499/500\n",
            "2/2 [==============================] - 0s 176ms/step - loss: 1.5620e-05 - acc: 1.0000 - val_loss: 0.2702 - val_acc: 0.9533\n",
            "Epoch 500/500\n",
            "2/2 [==============================] - 0s 176ms/step - loss: 1.6746e-05 - acc: 1.0000 - val_loss: 0.2701 - val_acc: 0.9533\n"
          ],
          "name": "stdout"
        }
      ]
    },
    {
      "cell_type": "code",
      "metadata": {
        "id": "x2qzK4SJB5y9",
        "colab": {
          "base_uri": "https://localhost:8080/",
          "height": 241
        },
        "outputId": "e6919da0-4b54-4921-ebba-8b3a416fa914"
      },
      "source": [
        "plt.figure(figsize =(5,3))\n",
        "plt.plot(history.history['acc'], marker='.', label='tune')\n",
        "plt.plot(history.history['val_acc'], marker='.', label='test')\n",
        "plt.title('Accuracy')\n",
        "plt.grid(True)\n",
        "plt.xlabel('epoch')\n",
        "plt.ylabel('accuracy')\n",
        "plt.legend(loc='best')\n",
        "plt.show()"
      ],
      "execution_count": 46,
      "outputs": [
        {
          "output_type": "display_data",
          "data": {
            "image/png": "[encoded data removed]",
            "text/plain": [
              "<Figure size 360x216 with 1 Axes>"
            ]
          },
          "metadata": {
            "tags": [],
            "needs_background": "light"
          }
        }
      ]
    },
    {
      "cell_type": "code",
      "metadata": {
        "id": "9oGBi22ZGy38"
      },
      "source": [
        ""
      ],
      "execution_count": null,
      "outputs": []
    }
  ]
}