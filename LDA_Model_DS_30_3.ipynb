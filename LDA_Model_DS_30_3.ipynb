{
  "nbformat": 4,
  "nbformat_minor": 0,
  "metadata": {
    "colab": {
      "name": "LDA Model_DS_30_3.ipynb",
      "provenance": [],
      "collapsed_sections": [],
      "include_colab_link": true
    },
    "kernelspec": {
      "name": "python3",
      "display_name": "Python 3"
    },
    "language_info": {
      "name": "python"
    },
    "accelerator": "GPU"
  },
  "cells": [
    {
      "cell_type": "markdown",
      "metadata": {
        "id": "view-in-github",
        "colab_type": "text"
      },
      "source": [
        "<a href=\"https://colab.research.google.com/github/Ilyaas189/Text-Analytics_CE_807/blob/main/LDA_Model_DS_30_3.ipynb\" target=\"_parent\"><img src=\"https://colab.research.google.com/assets/colab-badge.svg\" alt=\"Open In Colab\"/></a>"
      ]
    },
    {
      "cell_type": "code",
      "metadata": {
        "colab": {
          "resources": {
            "http://localhost:8080/nbextensions/google.colab/files.js": {
              "data": "Ly8gQ29weXJpZ2h0IDIwMTcgR29vZ2xlIExMQwovLwovLyBMaWNlbnNlZCB1bmRlciB0aGUgQXBhY2hlIExpY2Vuc2UsIFZlcnNpb24gMi4wICh0aGUgIkxpY2Vuc2UiKTsKLy8geW91IG1heSBub3QgdXNlIHRoaXMgZmlsZSBleGNlcHQgaW4gY29tcGxpYW5jZSB3aXRoIHRoZSBMaWNlbnNlLgovLyBZb3UgbWF5IG9idGFpbiBhIGNvcHkgb2YgdGhlIExpY2Vuc2UgYXQKLy8KLy8gICAgICBodHRwOi8vd3d3LmFwYWNoZS5vcmcvbGljZW5zZXMvTElDRU5TRS0yLjAKLy8KLy8gVW5sZXNzIHJlcXVpcmVkIGJ5IGFwcGxpY2FibGUgbGF3IG9yIGFncmVlZCB0byBpbiB3cml0aW5nLCBzb2Z0d2FyZQovLyBkaXN0cmlidXRlZCB1bmRlciB0aGUgTGljZW5zZSBpcyBkaXN0cmlidXRlZCBvbiBhbiAiQVMgSVMiIEJBU0lTLAovLyBXSVRIT1VUIFdBUlJBTlRJRVMgT1IgQ09ORElUSU9OUyBPRiBBTlkgS0lORCwgZWl0aGVyIGV4cHJlc3Mgb3IgaW1wbGllZC4KLy8gU2VlIHRoZSBMaWNlbnNlIGZvciB0aGUgc3BlY2lmaWMgbGFuZ3VhZ2UgZ292ZXJuaW5nIHBlcm1pc3Npb25zIGFuZAovLyBsaW1pdGF0aW9ucyB1bmRlciB0aGUgTGljZW5zZS4KCi8qKgogKiBAZmlsZW92ZXJ2aWV3IEhlbHBlcnMgZm9yIGdvb2dsZS5jb2xhYiBQeXRob24gbW9kdWxlLgogKi8KKGZ1bmN0aW9uKHNjb3BlKSB7CmZ1bmN0aW9uIHNwYW4odGV4dCwgc3R5bGVBdHRyaWJ1dGVzID0ge30pIHsKICBjb25zdCBlbGVtZW50ID0gZG9jdW1lbnQuY3JlYXRlRWxlbWVudCgnc3BhbicpOwogIGVsZW1lbnQudGV4dENvbnRlbnQgPSB0ZXh0OwogIGZvciAoY29uc3Qga2V5IG9mIE9iamVjdC5rZXlzKHN0eWxlQXR0cmlidXRlcykpIHsKICAgIGVsZW1lbnQuc3R5bGVba2V5XSA9IHN0eWxlQXR0cmlidXRlc1trZXldOwogIH0KICByZXR1cm4gZWxlbWVudDsKfQoKLy8gTWF4IG51bWJlciBvZiBieXRlcyB3aGljaCB3aWxsIGJlIHVwbG9hZGVkIGF0IGEgdGltZS4KY29uc3QgTUFYX1BBWUxPQURfU0laRSA9IDEwMCAqIDEwMjQ7CgpmdW5jdGlvbiBfdXBsb2FkRmlsZXMoaW5wdXRJZCwgb3V0cHV0SWQpIHsKICBjb25zdCBzdGVwcyA9IHVwbG9hZEZpbGVzU3RlcChpbnB1dElkLCBvdXRwdXRJZCk7CiAgY29uc3Qgb3V0cHV0RWxlbWVudCA9IGRvY3VtZW50LmdldEVsZW1lbnRCeUlkKG91dHB1dElkKTsKICAvLyBDYWNoZSBzdGVwcyBvbiB0aGUgb3V0cHV0RWxlbWVudCB0byBtYWtlIGl0IGF2YWlsYWJsZSBmb3IgdGhlIG5leHQgY2FsbAogIC8vIHRvIHVwbG9hZEZpbGVzQ29udGludWUgZnJvbSBQeXRob24uCiAgb3V0cHV0RWxlbWVudC5zdGVwcyA9IHN0ZXBzOwoKICByZXR1cm4gX3VwbG9hZEZpbGVzQ29udGludWUob3V0cHV0SWQpOwp9CgovLyBUaGlzIGlzIHJvdWdobHkgYW4gYXN5bmMgZ2VuZXJhdG9yIChub3Qgc3VwcG9ydGVkIGluIHRoZSBicm93c2VyIHlldCksCi8vIHdoZXJlIHRoZXJlIGFyZSBtdWx0aXBsZSBhc3luY2hyb25vdXMgc3RlcHMgYW5kIHRoZSBQeXRob24gc2lkZSBpcyBnb2luZwovLyB0byBwb2xsIGZvciBjb21wbGV0aW9uIG9mIGVhY2ggc3RlcC4KLy8gVGhpcyB1c2VzIGEgUHJvbWlzZSB0byBibG9jayB0aGUgcHl0aG9uIHNpZGUgb24gY29tcGxldGlvbiBvZiBlYWNoIHN0ZXAsCi8vIHRoZW4gcGFzc2VzIHRoZSByZXN1bHQgb2YgdGhlIHByZXZpb3VzIHN0ZXAgYXMgdGhlIGlucHV0IHRvIHRoZSBuZXh0IHN0ZXAuCmZ1bmN0aW9uIF91cGxvYWRGaWxlc0NvbnRpbnVlKG91dHB1dElkKSB7CiAgY29uc3Qgb3V0cHV0RWxlbWVudCA9IGRvY3VtZW50LmdldEVsZW1lbnRCeUlkKG91dHB1dElkKTsKICBjb25zdCBzdGVwcyA9IG91dHB1dEVsZW1lbnQuc3RlcHM7CgogIGNvbnN0IG5leHQgPSBzdGVwcy5uZXh0KG91dHB1dEVsZW1lbnQubGFzdFByb21pc2VWYWx1ZSk7CiAgcmV0dXJuIFByb21pc2UucmVzb2x2ZShuZXh0LnZhbHVlLnByb21pc2UpLnRoZW4oKHZhbHVlKSA9PiB7CiAgICAvLyBDYWNoZSB0aGUgbGFzdCBwcm9taXNlIHZhbHVlIHRvIG1ha2UgaXQgYXZhaWxhYmxlIHRvIHRoZSBuZXh0CiAgICAvLyBzdGVwIG9mIHRoZSBnZW5lcmF0b3IuCiAgICBvdXRwdXRFbGVtZW50Lmxhc3RQcm9taXNlVmFsdWUgPSB2YWx1ZTsKICAgIHJldHVybiBuZXh0LnZhbHVlLnJlc3BvbnNlOwogIH0pOwp9CgovKioKICogR2VuZXJhdG9yIGZ1bmN0aW9uIHdoaWNoIGlzIGNhbGxlZCBiZXR3ZWVuIGVhY2ggYXN5bmMgc3RlcCBvZiB0aGUgdXBsb2FkCiAqIHByb2Nlc3MuCiAqIEBwYXJhbSB7c3RyaW5nfSBpbnB1dElkIEVsZW1lbnQgSUQgb2YgdGhlIGlucHV0IGZpbGUgcGlja2VyIGVsZW1lbnQuCiAqIEBwYXJhbSB7c3RyaW5nfSBvdXRwdXRJZCBFbGVtZW50IElEIG9mIHRoZSBvdXRwdXQgZGlzcGxheS4KICogQHJldHVybiB7IUl0ZXJhYmxlPCFPYmplY3Q+fSBJdGVyYWJsZSBvZiBuZXh0IHN0ZXBzLgogKi8KZnVuY3Rpb24qIHVwbG9hZEZpbGVzU3RlcChpbnB1dElkLCBvdXRwdXRJZCkgewogIGNvbnN0IGlucHV0RWxlbWVudCA9IGRvY3VtZW50LmdldEVsZW1lbnRCeUlkKGlucHV0SWQpOwogIGlucHV0RWxlbWVudC5kaXNhYmxlZCA9IGZhbHNlOwoKICBjb25zdCBvdXRwdXRFbGVtZW50ID0gZG9jdW1lbnQuZ2V0RWxlbWVudEJ5SWQob3V0cHV0SWQpOwogIG91dHB1dEVsZW1lbnQuaW5uZXJIVE1MID0gJyc7CgogIGNvbnN0IHBpY2tlZFByb21pc2UgPSBuZXcgUHJvbWlzZSgocmVzb2x2ZSkgPT4gewogICAgaW5wdXRFbGVtZW50LmFkZEV2ZW50TGlzdGVuZXIoJ2NoYW5nZScsIChlKSA9PiB7CiAgICAgIHJlc29sdmUoZS50YXJnZXQuZmlsZXMpOwogICAgfSk7CiAgfSk7CgogIGNvbnN0IGNhbmNlbCA9IGRvY3VtZW50LmNyZWF0ZUVsZW1lbnQoJ2J1dHRvbicpOwogIGlucHV0RWxlbWVudC5wYXJlbnRFbGVtZW50LmFwcGVuZENoaWxkKGNhbmNlbCk7CiAgY2FuY2VsLnRleHRDb250ZW50ID0gJ0NhbmNlbCB1cGxvYWQnOwogIGNvbnN0IGNhbmNlbFByb21pc2UgPSBuZXcgUHJvbWlzZSgocmVzb2x2ZSkgPT4gewogICAgY2FuY2VsLm9uY2xpY2sgPSAoKSA9PiB7CiAgICAgIHJlc29sdmUobnVsbCk7CiAgICB9OwogIH0pOwoKICAvLyBXYWl0IGZvciB0aGUgdXNlciB0byBwaWNrIHRoZSBmaWxlcy4KICBjb25zdCBmaWxlcyA9IHlpZWxkIHsKICAgIHByb21pc2U6IFByb21pc2UucmFjZShbcGlja2VkUHJvbWlzZSwgY2FuY2VsUHJvbWlzZV0pLAogICAgcmVzcG9uc2U6IHsKICAgICAgYWN0aW9uOiAnc3RhcnRpbmcnLAogICAgfQogIH07CgogIGNhbmNlbC5yZW1vdmUoKTsKCiAgLy8gRGlzYWJsZSB0aGUgaW5wdXQgZWxlbWVudCBzaW5jZSBmdXJ0aGVyIHBpY2tzIGFyZSBub3QgYWxsb3dlZC4KICBpbnB1dEVsZW1lbnQuZGlzYWJsZWQgPSB0cnVlOwoKICBpZiAoIWZpbGVzKSB7CiAgICByZXR1cm4gewogICAgICByZXNwb25zZTogewogICAgICAgIGFjdGlvbjogJ2NvbXBsZXRlJywKICAgICAgfQogICAgfTsKICB9CgogIGZvciAoY29uc3QgZmlsZSBvZiBmaWxlcykgewogICAgY29uc3QgbGkgPSBkb2N1bWVudC5jcmVhdGVFbGVtZW50KCdsaScpOwogICAgbGkuYXBwZW5kKHNwYW4oZmlsZS5uYW1lLCB7Zm9udFdlaWdodDogJ2JvbGQnfSkpOwogICAgbGkuYXBwZW5kKHNwYW4oCiAgICAgICAgYCgke2ZpbGUudHlwZSB8fCAnbi9hJ30pIC0gJHtmaWxlLnNpemV9IGJ5dGVzLCBgICsKICAgICAgICBgbGFzdCBtb2RpZmllZDogJHsKICAgICAgICAgICAgZmlsZS5sYXN0TW9kaWZpZWREYXRlID8gZmlsZS5sYXN0TW9kaWZpZWREYXRlLnRvTG9jYWxlRGF0ZVN0cmluZygpIDoKICAgICAgICAgICAgICAgICAgICAgICAgICAgICAgICAgICAgJ24vYSd9IC0gYCkpOwogICAgY29uc3QgcGVyY2VudCA9IHNwYW4oJzAlIGRvbmUnKTsKICAgIGxpLmFwcGVuZENoaWxkKHBlcmNlbnQpOwoKICAgIG91dHB1dEVsZW1lbnQuYXBwZW5kQ2hpbGQobGkpOwoKICAgIGNvbnN0IGZpbGVEYXRhUHJvbWlzZSA9IG5ldyBQcm9taXNlKChyZXNvbHZlKSA9PiB7CiAgICAgIGNvbnN0IHJlYWRlciA9IG5ldyBGaWxlUmVhZGVyKCk7CiAgICAgIHJlYWRlci5vbmxvYWQgPSAoZSkgPT4gewogICAgICAgIHJlc29sdmUoZS50YXJnZXQucmVzdWx0KTsKICAgICAgfTsKICAgICAgcmVhZGVyLnJlYWRBc0FycmF5QnVmZmVyKGZpbGUpOwogICAgfSk7CiAgICAvLyBXYWl0IGZvciB0aGUgZGF0YSB0byBiZSByZWFkeS4KICAgIGxldCBmaWxlRGF0YSA9IHlpZWxkIHsKICAgICAgcHJvbWlzZTogZmlsZURhdGFQcm9taXNlLAogICAgICByZXNwb25zZTogewogICAgICAgIGFjdGlvbjogJ2NvbnRpbnVlJywKICAgICAgfQogICAgfTsKCiAgICAvLyBVc2UgYSBjaHVua2VkIHNlbmRpbmcgdG8gYXZvaWQgbWVzc2FnZSBzaXplIGxpbWl0cy4gU2VlIGIvNjIxMTU2NjAuCiAgICBsZXQgcG9zaXRpb24gPSAwOwogICAgd2hpbGUgKHBvc2l0aW9uIDwgZmlsZURhdGEuYnl0ZUxlbmd0aCkgewogICAgICBjb25zdCBsZW5ndGggPSBNYXRoLm1pbihmaWxlRGF0YS5ieXRlTGVuZ3RoIC0gcG9zaXRpb24sIE1BWF9QQVlMT0FEX1NJWkUpOwogICAgICBjb25zdCBjaHVuayA9IG5ldyBVaW50OEFycmF5KGZpbGVEYXRhLCBwb3NpdGlvbiwgbGVuZ3RoKTsKICAgICAgcG9zaXRpb24gKz0gbGVuZ3RoOwoKICAgICAgY29uc3QgYmFzZTY0ID0gYnRvYShTdHJpbmcuZnJvbUNoYXJDb2RlLmFwcGx5KG51bGwsIGNodW5rKSk7CiAgICAgIHlpZWxkIHsKICAgICAgICByZXNwb25zZTogewogICAgICAgICAgYWN0aW9uOiAnYXBwZW5kJywKICAgICAgICAgIGZpbGU6IGZpbGUubmFtZSwKICAgICAgICAgIGRhdGE6IGJhc2U2NCwKICAgICAgICB9LAogICAgICB9OwogICAgICBwZXJjZW50LnRleHRDb250ZW50ID0KICAgICAgICAgIGAke01hdGgucm91bmQoKHBvc2l0aW9uIC8gZmlsZURhdGEuYnl0ZUxlbmd0aCkgKiAxMDApfSUgZG9uZWA7CiAgICB9CiAgfQoKICAvLyBBbGwgZG9uZS4KICB5aWVsZCB7CiAgICByZXNwb25zZTogewogICAgICBhY3Rpb246ICdjb21wbGV0ZScsCiAgICB9CiAgfTsKfQoKc2NvcGUuZ29vZ2xlID0gc2NvcGUuZ29vZ2xlIHx8IHt9OwpzY29wZS5nb29nbGUuY29sYWIgPSBzY29wZS5nb29nbGUuY29sYWIgfHwge307CnNjb3BlLmdvb2dsZS5jb2xhYi5fZmlsZXMgPSB7CiAgX3VwbG9hZEZpbGVzLAogIF91cGxvYWRGaWxlc0NvbnRpbnVlLAp9Owp9KShzZWxmKTsK",
              "ok": true,
              "headers": [
                [
                  "content-type",
                  "application/javascript"
                ]
              ],
              "status": 200,
              "status_text": ""
            }
          },
          "base_uri": "https://localhost:8080/",
          "height": 37
        },
        "id": "h48neXM-ANwE",
        "outputId": "92a3089b-5901-4386-8b96-25b59e4e6e2a"
      },
      "source": [
        "import pandas as pd\n",
        "import numpy as np\n",
        "import matplotlib.pyplot as plt\n",
        "import warnings\n",
        "from google.colab import files\n",
        "from sklearn.naive_bayes import MultinomialNB\n",
        "from sklearn.naive_bayes import BernoulliNB\n",
        "from sklearn.pipeline import Pipeline\n",
        "from sklearn.feature_extraction.text import TfidfVectorizer\n",
        "from sklearn.feature_extraction.text import TfidfTransformer\n",
        "from sklearn.linear_model import SGDClassifier\n",
        "from sklearn.linear_model import LogisticRegression\n",
        "from nltk.stem.snowball import SnowballStemmer\n",
        "from sklearn.neighbors import KNeighborsClassifier\n",
        "from sklearn.ensemble import RandomForestClassifier\n",
        "import numpy as np\n",
        "import re\n",
        "\n",
        "\n",
        "import matplotlib.pyplot as plt\n",
        "%matplotlib inline\n",
        "\n",
        "import nltk\n",
        "import random\n",
        "uploaded = files.upload()\n",
        "files = list(uploaded.keys())\n"
      ],
      "execution_count": 1,
      "outputs": [
        {
          "output_type": "display_data",
          "data": {
            "text/html": [
              "\n",
              "     <input type=\"file\" id=\"files-469e8729-7bd3-45b5-b5f1-8d629b4b3576\" name=\"files[]\" multiple disabled\n",
              "        style=\"border:none\" />\n",
              "     <output id=\"result-469e8729-7bd3-45b5-b5f1-8d629b4b3576\">\n",
              "      Upload widget is only available when the cell has been executed in the\n",
              "      current browser session. Please rerun this cell to enable.\n",
              "      </output>\n",
              "      <script src=\"/nbextensions/google.colab/files.js\"></script> "
            ],
            "text/plain": [
              "<IPython.core.display.HTML object>"
            ]
          },
          "metadata": {
            "tags": []
          }
        }
      ]
    },
    {
      "cell_type": "code",
      "metadata": {
        "colab": {
          "base_uri": "https://localhost:8080/"
        },
        "id": "qcrJU_pzAhOm",
        "outputId": "ec4e5544-6aa3-4c0f-9c7a-677ea17da3b2"
      },
      "source": [
        "# Import Dataset\n",
        "data = pd.read_json('https://raw.githubusercontent.com/selva86/datasets/master/newsgroups.json')\n",
        "print(data.target_names.unique())"
      ],
      "execution_count": 2,
      "outputs": [
        {
          "output_type": "stream",
          "text": [
            "['rec.autos' 'comp.sys.mac.hardware' 'comp.graphics' 'sci.space'\n",
            " 'talk.politics.guns' 'sci.med' 'comp.sys.ibm.pc.hardware'\n",
            " 'comp.os.ms-windows.misc' 'rec.motorcycles' 'talk.religion.misc'\n",
            " 'misc.forsale' 'alt.atheism' 'sci.electronics' 'comp.windows.x'\n",
            " 'rec.sport.hockey' 'rec.sport.baseball' 'soc.religion.christian'\n",
            " 'talk.politics.mideast' 'talk.politics.misc' 'sci.crypt']\n"
          ],
          "name": "stdout"
        }
      ]
    },
    {
      "cell_type": "code",
      "metadata": {
        "colab": {
          "base_uri": "https://localhost:8080/",
          "height": 648
        },
        "id": "SnGiNUYGAtLQ",
        "outputId": "fdb179fb-c516-45c7-aebd-278307e2d2b5"
      },
      "source": [
        "data.head(20)"
      ],
      "execution_count": 3,
      "outputs": [
        {
          "output_type": "execute_result",
          "data": {
            "text/html": [
              "<div>\n",
              "<style scoped>\n",
              "    .dataframe tbody tr th:only-of-type {\n",
              "        vertical-align: middle;\n",
              "    }\n",
              "\n",
              "    .dataframe tbody tr th {\n",
              "        vertical-align: top;\n",
              "    }\n",
              "\n",
              "    .dataframe thead th {\n",
              "        text-align: right;\n",
              "    }\n",
              "</style>\n",
              "<table border=\"1\" class=\"dataframe\">\n",
              "  <thead>\n",
              "    <tr style=\"text-align: right;\">\n",
              "      <th></th>\n",
              "      <th>content</th>\n",
              "      <th>target</th>\n",
              "      <th>target_names</th>\n",
              "    </tr>\n",
              "  </thead>\n",
              "  <tbody>\n",
              "    <tr>\n",
              "      <th>0</th>\n",
              "      <td>From: lerxst@wam.umd.edu (where's my thing)\\nS...</td>\n",
              "      <td>7</td>\n",
              "      <td>rec.autos</td>\n",
              "    </tr>\n",
              "    <tr>\n",
              "      <th>1</th>\n",
              "      <td>From: guykuo@carson.u.washington.edu (Guy Kuo)...</td>\n",
              "      <td>4</td>\n",
              "      <td>comp.sys.mac.hardware</td>\n",
              "    </tr>\n",
              "    <tr>\n",
              "      <th>2</th>\n",
              "      <td>From: twillis@ec.ecn.purdue.edu (Thomas E Will...</td>\n",
              "      <td>4</td>\n",
              "      <td>comp.sys.mac.hardware</td>\n",
              "    </tr>\n",
              "    <tr>\n",
              "      <th>3</th>\n",
              "      <td>From: jgreen@amber (Joe Green)\\nSubject: Re: W...</td>\n",
              "      <td>1</td>\n",
              "      <td>comp.graphics</td>\n",
              "    </tr>\n",
              "    <tr>\n",
              "      <th>4</th>\n",
              "      <td>From: jcm@head-cfa.harvard.edu (Jonathan McDow...</td>\n",
              "      <td>14</td>\n",
              "      <td>sci.space</td>\n",
              "    </tr>\n",
              "    <tr>\n",
              "      <th>5</th>\n",
              "      <td>From: dfo@vttoulu.tko.vtt.fi (Foxvog Douglas)\\...</td>\n",
              "      <td>16</td>\n",
              "      <td>talk.politics.guns</td>\n",
              "    </tr>\n",
              "    <tr>\n",
              "      <th>6</th>\n",
              "      <td>From: bmdelane@quads.uchicago.edu (brian manni...</td>\n",
              "      <td>13</td>\n",
              "      <td>sci.med</td>\n",
              "    </tr>\n",
              "    <tr>\n",
              "      <th>7</th>\n",
              "      <td>From: bgrubb@dante.nmsu.edu (GRUBB)\\nSubject: ...</td>\n",
              "      <td>3</td>\n",
              "      <td>comp.sys.ibm.pc.hardware</td>\n",
              "    </tr>\n",
              "    <tr>\n",
              "      <th>8</th>\n",
              "      <td>From: holmes7000@iscsvax.uni.edu\\nSubject: WIn...</td>\n",
              "      <td>2</td>\n",
              "      <td>comp.os.ms-windows.misc</td>\n",
              "    </tr>\n",
              "    <tr>\n",
              "      <th>9</th>\n",
              "      <td>From: kerr@ux1.cso.uiuc.edu (Stan Kerr)\\nSubje...</td>\n",
              "      <td>4</td>\n",
              "      <td>comp.sys.mac.hardware</td>\n",
              "    </tr>\n",
              "    <tr>\n",
              "      <th>10</th>\n",
              "      <td>From: irwin@cmptrc.lonestar.org (Irwin Arnstei...</td>\n",
              "      <td>8</td>\n",
              "      <td>rec.motorcycles</td>\n",
              "    </tr>\n",
              "    <tr>\n",
              "      <th>11</th>\n",
              "      <td>From: david@terminus.ericsson.se (David Bold)\\...</td>\n",
              "      <td>19</td>\n",
              "      <td>talk.religion.misc</td>\n",
              "    </tr>\n",
              "    <tr>\n",
              "      <th>12</th>\n",
              "      <td>From: rodc@fc.hp.com (Rod Cerkoney)\\nSubject: ...</td>\n",
              "      <td>4</td>\n",
              "      <td>comp.sys.mac.hardware</td>\n",
              "    </tr>\n",
              "    <tr>\n",
              "      <th>13</th>\n",
              "      <td>From: dbm0000@tm0006.lerc.nasa.gov (David B. M...</td>\n",
              "      <td>14</td>\n",
              "      <td>sci.space</td>\n",
              "    </tr>\n",
              "    <tr>\n",
              "      <th>14</th>\n",
              "      <td>From: jllee@acsu.buffalo.edu (Johnny L Lee)\\nS...</td>\n",
              "      <td>6</td>\n",
              "      <td>misc.forsale</td>\n",
              "    </tr>\n",
              "    <tr>\n",
              "      <th>15</th>\n",
              "      <td>From: mathew &lt;mathew@mantis.co.uk&gt;\\nSubject: R...</td>\n",
              "      <td>0</td>\n",
              "      <td>alt.atheism</td>\n",
              "    </tr>\n",
              "    <tr>\n",
              "      <th>16</th>\n",
              "      <td>From: ab@nova.cc.purdue.edu (Allen B)\\nSubject...</td>\n",
              "      <td>1</td>\n",
              "      <td>comp.graphics</td>\n",
              "    </tr>\n",
              "    <tr>\n",
              "      <th>17</th>\n",
              "      <td>From: CPKJP@vm.cc.latech.edu (Kevin Parker)\\nS...</td>\n",
              "      <td>7</td>\n",
              "      <td>rec.autos</td>\n",
              "    </tr>\n",
              "    <tr>\n",
              "      <th>18</th>\n",
              "      <td>From: ritley@uimrl7.mrl.uiuc.edu ()\\nSubject: ...</td>\n",
              "      <td>12</td>\n",
              "      <td>sci.electronics</td>\n",
              "    </tr>\n",
              "    <tr>\n",
              "      <th>19</th>\n",
              "      <td>From: abarden@tybse1.uucp (Ann Marie Barden)\\n...</td>\n",
              "      <td>5</td>\n",
              "      <td>comp.windows.x</td>\n",
              "    </tr>\n",
              "  </tbody>\n",
              "</table>\n",
              "</div>"
            ],
            "text/plain": [
              "                                              content  ...              target_names\n",
              "0   From: lerxst@wam.umd.edu (where's my thing)\\nS...  ...                 rec.autos\n",
              "1   From: guykuo@carson.u.washington.edu (Guy Kuo)...  ...     comp.sys.mac.hardware\n",
              "2   From: twillis@ec.ecn.purdue.edu (Thomas E Will...  ...     comp.sys.mac.hardware\n",
              "3   From: jgreen@amber (Joe Green)\\nSubject: Re: W...  ...             comp.graphics\n",
              "4   From: jcm@head-cfa.harvard.edu (Jonathan McDow...  ...                 sci.space\n",
              "5   From: dfo@vttoulu.tko.vtt.fi (Foxvog Douglas)\\...  ...        talk.politics.guns\n",
              "6   From: bmdelane@quads.uchicago.edu (brian manni...  ...                   sci.med\n",
              "7   From: bgrubb@dante.nmsu.edu (GRUBB)\\nSubject: ...  ...  comp.sys.ibm.pc.hardware\n",
              "8   From: holmes7000@iscsvax.uni.edu\\nSubject: WIn...  ...   comp.os.ms-windows.misc\n",
              "9   From: kerr@ux1.cso.uiuc.edu (Stan Kerr)\\nSubje...  ...     comp.sys.mac.hardware\n",
              "10  From: irwin@cmptrc.lonestar.org (Irwin Arnstei...  ...           rec.motorcycles\n",
              "11  From: david@terminus.ericsson.se (David Bold)\\...  ...        talk.religion.misc\n",
              "12  From: rodc@fc.hp.com (Rod Cerkoney)\\nSubject: ...  ...     comp.sys.mac.hardware\n",
              "13  From: dbm0000@tm0006.lerc.nasa.gov (David B. M...  ...                 sci.space\n",
              "14  From: jllee@acsu.buffalo.edu (Johnny L Lee)\\nS...  ...              misc.forsale\n",
              "15  From: mathew <mathew@mantis.co.uk>\\nSubject: R...  ...               alt.atheism\n",
              "16  From: ab@nova.cc.purdue.edu (Allen B)\\nSubject...  ...             comp.graphics\n",
              "17  From: CPKJP@vm.cc.latech.edu (Kevin Parker)\\nS...  ...                 rec.autos\n",
              "18  From: ritley@uimrl7.mrl.uiuc.edu ()\\nSubject: ...  ...           sci.electronics\n",
              "19  From: abarden@tybse1.uucp (Ann Marie Barden)\\n...  ...            comp.windows.x\n",
              "\n",
              "[20 rows x 3 columns]"
            ]
          },
          "metadata": {
            "tags": []
          },
          "execution_count": 3
        }
      ]
    },
    {
      "cell_type": "code",
      "metadata": {
        "colab": {
          "base_uri": "https://localhost:8080/"
        },
        "id": "i1t4Hd65BKo4",
        "outputId": "94c5cb6c-d8c7-459c-983a-f5d056d3c2ca"
      },
      "source": [
        "data_clusterization = data[['content', 'target_names']]\n",
        "data_clusterization.dropna(inplace=True)"
      ],
      "execution_count": 4,
      "outputs": [
        {
          "output_type": "stream",
          "text": [
            "/usr/local/lib/python3.7/dist-packages/ipykernel_launcher.py:2: SettingWithCopyWarning: \n",
            "A value is trying to be set on a copy of a slice from a DataFrame\n",
            "\n",
            "See the caveats in the documentation: https://pandas.pydata.org/pandas-docs/stable/user_guide/indexing.html#returning-a-view-versus-a-copy\n",
            "  \n"
          ],
          "name": "stderr"
        }
      ]
    },
    {
      "cell_type": "code",
      "metadata": {
        "colab": {
          "base_uri": "https://localhost:8080/",
          "height": 108
        },
        "id": "0xRJ8_03Bd1W",
        "outputId": "ebeaa8a4-e8ce-4141-92b4-d83dac3e72ff"
      },
      "source": [
        "data_clusterization.head(2)\n"
      ],
      "execution_count": 5,
      "outputs": [
        {
          "output_type": "execute_result",
          "data": {
            "text/html": [
              "<div>\n",
              "<style scoped>\n",
              "    .dataframe tbody tr th:only-of-type {\n",
              "        vertical-align: middle;\n",
              "    }\n",
              "\n",
              "    .dataframe tbody tr th {\n",
              "        vertical-align: top;\n",
              "    }\n",
              "\n",
              "    .dataframe thead th {\n",
              "        text-align: right;\n",
              "    }\n",
              "</style>\n",
              "<table border=\"1\" class=\"dataframe\">\n",
              "  <thead>\n",
              "    <tr style=\"text-align: right;\">\n",
              "      <th></th>\n",
              "      <th>content</th>\n",
              "      <th>target_names</th>\n",
              "    </tr>\n",
              "  </thead>\n",
              "  <tbody>\n",
              "    <tr>\n",
              "      <th>0</th>\n",
              "      <td>From: lerxst@wam.umd.edu (where's my thing)\\nS...</td>\n",
              "      <td>rec.autos</td>\n",
              "    </tr>\n",
              "    <tr>\n",
              "      <th>1</th>\n",
              "      <td>From: guykuo@carson.u.washington.edu (Guy Kuo)...</td>\n",
              "      <td>comp.sys.mac.hardware</td>\n",
              "    </tr>\n",
              "  </tbody>\n",
              "</table>\n",
              "</div>"
            ],
            "text/plain": [
              "                                             content           target_names\n",
              "0  From: lerxst@wam.umd.edu (where's my thing)\\nS...              rec.autos\n",
              "1  From: guykuo@carson.u.washington.edu (Guy Kuo)...  comp.sys.mac.hardware"
            ]
          },
          "metadata": {
            "tags": []
          },
          "execution_count": 5
        }
      ]
    },
    {
      "cell_type": "code",
      "metadata": {
        "colab": {
          "base_uri": "https://localhost:8080/"
        },
        "id": "0iUh1DoLBmXP",
        "outputId": "ba875e0a-ac12-47c8-e052-563b999fdb5c"
      },
      "source": [
        "import gensim\n",
        "from gensim.utils import simple_preprocess\n",
        "from gensim.parsing.preprocessing import STOPWORDS\n",
        "from nltk.stem import WordNetLemmatizer, SnowballStemmer\n",
        "from nltk.stem.porter import *\n",
        "import numpy as np\n",
        "np.random.seed(2018)\n",
        "import nltk\n",
        "nltk.download('wordnet')"
      ],
      "execution_count": 6,
      "outputs": [
        {
          "output_type": "stream",
          "text": [
            "[nltk_data] Downloading package wordnet to /root/nltk_data...\n",
            "[nltk_data]   Unzipping corpora/wordnet.zip.\n"
          ],
          "name": "stdout"
        },
        {
          "output_type": "execute_result",
          "data": {
            "text/plain": [
              "True"
            ]
          },
          "metadata": {
            "tags": []
          },
          "execution_count": 6
        }
      ]
    },
    {
      "cell_type": "code",
      "metadata": {
        "id": "s7hwfWd1Bw8S"
      },
      "source": [
        "def lemmatize_stemming(text):\n",
        " stemmer = SnowballStemmer(language='english')\n",
        " return stemmer.stem(WordNetLemmatizer().lemmatize(text, pos='v'))\n",
        "def preprocess(text):\n",
        " result = []\n",
        " for token in gensim.utils.simple_preprocess(text):\n",
        "   if token not in gensim.parsing.preprocessing.STOPWORDS and len(token) > 3:\n",
        "     result.append(lemmatize_stemming(token))\n",
        " return result"
      ],
      "execution_count": 7,
      "outputs": []
    },
    {
      "cell_type": "code",
      "metadata": {
        "id": "iJfVX8biB_Sa"
      },
      "source": [
        "processed_docs = data_clusterization['content'].map(preprocess)\n",
        "data_processed = processed_docs.to_frame()\n",
        "data_processed['content'] = data_processed.content.apply(lambda x: ' '.join(x))\n"
      ],
      "execution_count": 8,
      "outputs": []
    },
    {
      "cell_type": "code",
      "metadata": {
        "colab": {
          "base_uri": "https://localhost:8080/"
        },
        "id": "gCHPTBYJClMy",
        "outputId": "c20df622-b43c-450c-c9d8-6ef18286ccea"
      },
      "source": [
        "!pip install tokenize_uk\n",
        "from collections import Counter\n",
        "from tokenize_uk.tokenize_uk import tokenize_words"
      ],
      "execution_count": 9,
      "outputs": [
        {
          "output_type": "stream",
          "text": [
            "Collecting tokenize_uk\n",
            "  Downloading https://files.pythonhosted.org/packages/ac/21/72abb0304b532e1b2d2473b50d8063ddd0943e3b3fe7e86b366bc4d02aa2/tokenize_uk-0.2.0.tar.gz\n",
            "Requirement already satisfied: six in /usr/local/lib/python3.7/dist-packages (from tokenize_uk) (1.15.0)\n",
            "Building wheels for collected packages: tokenize-uk\n",
            "  Building wheel for tokenize-uk (setup.py) ... \u001b[?25l\u001b[?25hdone\n",
            "  Created wheel for tokenize-uk: filename=tokenize_uk-0.2.0-py2.py3-none-any.whl size=4565 sha256=22cec5de46845e657420717eada68b50e6c42ee5af88967d20ab444c6e8040c2\n",
            "  Stored in directory: /root/.cache/pip/wheels/2c/e1/95/fd8af5b40aeebdc4e178974e7f638f5553aa8772117054db9e\n",
            "Successfully built tokenize-uk\n",
            "Installing collected packages: tokenize-uk\n",
            "Successfully installed tokenize-uk-0.2.0\n"
          ],
          "name": "stdout"
        }
      ]
    },
    {
      "cell_type": "code",
      "metadata": {
        "colab": {
          "base_uri": "https://localhost:8080/",
          "height": 363
        },
        "id": "94mq8WUoCqHq",
        "outputId": "0a11e952-2844-4bb2-bef6-36d144e2fec6"
      },
      "source": [
        "def display_words(data, title, ax):\n",
        " count = Counter(sum(map(lambda text: tokenize_words(text), data), []))\n",
        " popular = np.array(sorted(count.items(), key=lambda x: x[1], reverse=True)[:20])\n",
        " plt.sca(ax)\n",
        " plt.title(title)\n",
        " plt.bar(popular[:,0], np.int32(popular[:,1]))\n",
        " plt.xticks(rotation=\"vertical\")\n",
        "fig, ax = plt.subplots(figsize=(16, 5))\n",
        "display_words(data_processed.sample(1000).content, \"The most popular words]\", ax)"
      ],
      "execution_count": 10,
      "outputs": [
        {
          "output_type": "display_data",
          "data": {
            "image/png": "[encoded data removed]",
            "text/plain": [
              "<Figure size 1152x360 with 1 Axes>"
            ]
          },
          "metadata": {
            "tags": [],
            "needs_background": "light"
          }
        }
      ]
    },
    {
      "cell_type": "code",
      "metadata": {
        "id": "UCM4qevNC5Ty"
      },
      "source": [
        "from sklearn.feature_extraction.text import CountVectorizer"
      ],
      "execution_count": 11,
      "outputs": []
    },
    {
      "cell_type": "code",
      "metadata": {
        "colab": {
          "base_uri": "https://localhost:8080/"
        },
        "id": "NMnRgz3aC8f5",
        "outputId": "8ac99be8-6a76-474f-c5ea-2e39954ae341"
      },
      "source": [
        "count_vectorizer = CountVectorizer()\n",
        "count_data = count_vectorizer.fit_transform(data_processed['content'])\n",
        "count_data"
      ],
      "execution_count": 12,
      "outputs": [
        {
          "output_type": "execute_result",
          "data": {
            "text/plain": [
              "<11314x61410 sparse matrix of type '<class 'numpy.int64'>'\n",
              "\twith 934270 stored elements in Compressed Sparse Row format>"
            ]
          },
          "metadata": {
            "tags": []
          },
          "execution_count": 12
        }
      ]
    },
    {
      "cell_type": "code",
      "metadata": {
        "id": "6TmSX73jDEJS"
      },
      "source": [
        "likelihood = []\n",
        "n_clusters = []"
      ],
      "execution_count": 13,
      "outputs": []
    },
    {
      "cell_type": "code",
      "metadata": {
        "id": "z9uTcUJlDHT0"
      },
      "source": [
        "import seaborn as sns\n",
        "from sklearn.decomposition import LatentDirichletAllocation as LDA"
      ],
      "execution_count": 14,
      "outputs": []
    },
    {
      "cell_type": "code",
      "metadata": {
        "id": "Hki6oWR0DLwb"
      },
      "source": [
        "def estimate_number_clusters(data, nclusters):\n",
        " for n in nclusters:\n",
        "   likelihood.append(LDA(n_components=n, n_jobs=-1).fit(data).score(data))\n",
        " n_clusters.append(n)\n",
        " print(\"Sccesfully estimated \", n)\n",
        " fig, ax = plt.subplots(figsize=(15, 5))\n",
        " sns.lineplot(x=n_clusters, y=likelihood, ax=ax)\n",
        " ax.set_title('Elbow method for choosing n, likelihood')\n",
        " ax.set_ylabel('Likelihood')\n",
        " ax.set_xlabel('n')\n",
        "\n",
        "\n"
      ],
      "execution_count": 15,
      "outputs": []
    },
    {
      "cell_type": "code",
      "metadata": {
        "id": "_CBG_y1fJszZ"
      },
      "source": [
        "# estimate_number_clusters(count_data, [10, 15, 20, 50])\n",
        " \n",
        " "
      ],
      "execution_count": 16,
      "outputs": []
    },
    {
      "cell_type": "code",
      "metadata": {
        "id": "_XNMixjQJuYE"
      },
      "source": [
        "def print_topics(model, count_vectorizer, n_top_words):\n",
        "  words = count_vectorizer.get_feature_names()\n",
        "  for topic_idx, topic in enumerate(model.components_):\n",
        "    print(\"\\nTopic #%d:\" % topic_idx)\n",
        "    print(\" \".join([words[i]\n",
        "  for i in topic.argsort()[:-n_top_words - 1:-1]]))"
      ],
      "execution_count": 17,
      "outputs": []
    },
    {
      "cell_type": "code",
      "metadata": {
        "id": "Ugizp_hhFpzm"
      },
      "source": [
        "from sklearn.decomposition import LatentDirichletAllocation as LDA\n"
      ],
      "execution_count": 18,
      "outputs": []
    },
    {
      "cell_type": "code",
      "metadata": {
        "colab": {
          "base_uri": "https://localhost:8080/"
        },
        "id": "oWtTkYX1Ftia",
        "outputId": "bbcf0801-8778-4c0e-88cc-f4db69211ef5"
      },
      "source": [
        "number_topics = 30\n",
        "number_words = 10\n",
        "# Create and fit the LDA model\n",
        "lda = LDA(n_components=number_topics, n_jobs=-1)\n",
        "lda.fit(count_data)\n",
        "# Print the topics found by the LDA model\n",
        "print(\"Topics found via LDA:\")\n",
        "print_topics(lda, count_vectorizer, number_words)"
      ],
      "execution_count": 19,
      "outputs": [
        {
          "output_type": "stream",
          "text": [
            "Topics found via LDA:\n",
            "\n",
            "Topic #0:\n",
            "card driver line subject organ video write mode post work\n",
            "\n",
            "Topic #1:\n",
            "write moral subject line organ think articl object post caltech\n",
            "\n",
            "Topic #2:\n",
            "organ line write subject pitt articl bank gordon post nntp\n",
            "\n",
            "Topic #3:\n",
            "access digex subject line organ post write nntp host insur\n",
            "\n",
            "Topic #4:\n",
            "line organ subject henri toronto post radar write detector netcom\n",
            "\n",
            "Topic #5:\n",
            "line subject organ know work problem drive write scsi appl\n",
            "\n",
            "Topic #6:\n",
            "game team year player line play think organ subject season\n",
            "\n",
            "Topic #7:\n",
            "line subject organ sale univers post host nntp columbia mail\n",
            "\n",
            "Topic #8:\n",
            "ohio cleveland cwru state subject organ line articl freenet write\n",
            "\n",
            "Topic #9:\n",
            "line subject organ like write bike articl drive good look\n",
            "\n",
            "Topic #10:\n",
            "organ subject line post articl write nntp david host know\n",
            "\n",
            "Topic #11:\n",
            "write know believ subject line bibl say think organ truth\n",
            "\n",
            "Topic #12:\n",
            "church cathol time pope american european organ south like think\n",
            "\n",
            "Topic #13:\n",
            "jpeg line subject imag organ post mark write articl berkeley\n",
            "\n",
            "Topic #14:\n",
            "encrypt chip secur clipper file key entri govern line escrow\n",
            "\n",
            "Topic #15:\n",
            "window line subject organ host mous problem univers font post\n",
            "\n",
            "Topic #16:\n",
            "israel isra say peopl arab jew know go think come\n",
            "\n",
            "Topic #17:\n",
            "widget line colormap valu visual color subject point applic organ\n",
            "\n",
            "Topic #18:\n",
            "exist question peopl reason think subject organ mean argument evid\n",
            "\n",
            "Topic #19:\n",
            "space nasa orbit launch satellit year center program earth moon\n",
            "\n",
            "Topic #20:\n",
            "line subject organ andrew post scsi host nntp univers write\n",
            "\n",
            "Topic #21:\n",
            "write organ subject post line articl like know peopl food\n",
            "\n",
            "Topic #22:\n",
            "line subject univers organ gatech georgia uchicago michael prism write\n",
            "\n",
            "Topic #23:\n",
            "write articl cramer optilink organ subject line clayton informatik opinion\n",
            "\n",
            "Topic #24:\n",
            "christian jesus peopl write religion think believ say know christ\n",
            "\n",
            "Topic #25:\n",
            "file program window mail imag avail disk version softwar data\n",
            "\n",
            "Topic #26:\n",
            "write line organ subject articl post clinton think nntp host\n",
            "\n",
            "Topic #27:\n",
            "peopl armenian state govern right turkish say think time weapon\n",
            "\n",
            "Topic #28:\n",
            "play team goal period hockey game score power player pittsburgh\n",
            "\n",
            "Topic #29:\n",
            "articl write organ subject line post drug nntp host good\n"
          ],
          "name": "stdout"
        }
      ]
    },
    {
      "cell_type": "code",
      "metadata": {
        "colab": {
          "base_uri": "https://localhost:8080/",
          "height": 198
        },
        "id": "LrPaQEiuGRt3",
        "outputId": "c861c3b1-0e1e-48ad-e8d7-706f31616ff2"
      },
      "source": [
        "cluster_probabilities = lda.transform(count_data)\n",
        "data_processed['target'] = np.argmax(cluster_probabilities, axis=1)\n",
        "data_processed.head()"
      ],
      "execution_count": 20,
      "outputs": [
        {
          "output_type": "execute_result",
          "data": {
            "text/html": [
              "<div>\n",
              "<style scoped>\n",
              "    .dataframe tbody tr th:only-of-type {\n",
              "        vertical-align: middle;\n",
              "    }\n",
              "\n",
              "    .dataframe tbody tr th {\n",
              "        vertical-align: top;\n",
              "    }\n",
              "\n",
              "    .dataframe thead th {\n",
              "        text-align: right;\n",
              "    }\n",
              "</style>\n",
              "<table border=\"1\" class=\"dataframe\">\n",
              "  <thead>\n",
              "    <tr style=\"text-align: right;\">\n",
              "      <th></th>\n",
              "      <th>content</th>\n",
              "      <th>target</th>\n",
              "    </tr>\n",
              "  </thead>\n",
              "  <tbody>\n",
              "    <tr>\n",
              "      <th>0</th>\n",
              "      <td>lerxst thing subject nntp post host organ univ...</td>\n",
              "      <td>15</td>\n",
              "    </tr>\n",
              "    <tr>\n",
              "      <th>1</th>\n",
              "      <td>guykuo carson washington subject clock poll fi...</td>\n",
              "      <td>5</td>\n",
              "    </tr>\n",
              "    <tr>\n",
              "      <th>2</th>\n",
              "      <td>twilli purdu thoma willi subject question orga...</td>\n",
              "      <td>5</td>\n",
              "    </tr>\n",
              "    <tr>\n",
              "      <th>3</th>\n",
              "      <td>jgreen amber green subject weitek organ harri ...</td>\n",
              "      <td>26</td>\n",
              "    </tr>\n",
              "    <tr>\n",
              "      <th>4</th>\n",
              "      <td>head harvard jonathan mcdowel subject shuttl l...</td>\n",
              "      <td>10</td>\n",
              "    </tr>\n",
              "  </tbody>\n",
              "</table>\n",
              "</div>"
            ],
            "text/plain": [
              "                                             content  target\n",
              "0  lerxst thing subject nntp post host organ univ...      15\n",
              "1  guykuo carson washington subject clock poll fi...       5\n",
              "2  twilli purdu thoma willi subject question orga...       5\n",
              "3  jgreen amber green subject weitek organ harri ...      26\n",
              "4  head harvard jonathan mcdowel subject shuttl l...      10"
            ]
          },
          "metadata": {
            "tags": []
          },
          "execution_count": 20
        }
      ]
    },
    {
      "cell_type": "code",
      "metadata": {
        "id": "oJNJOHB9GkKP"
      },
      "source": [
        "import seaborn as sns\n"
      ],
      "execution_count": 21,
      "outputs": []
    },
    {
      "cell_type": "code",
      "metadata": {
        "colab": {
          "base_uri": "https://localhost:8080/",
          "height": 593
        },
        "id": "At3W9AMVGnga",
        "outputId": "dcb5329b-5bc3-4851-e9a5-f94c9bb3fe43"
      },
      "source": [
        "fig, ax = plt.subplots(figsize=(20, 10))\n",
        "sns.countplot(x=data_processed.target);\n",
        "ax.set_title(\"Number of articles that correspond to the topic\");\n"
      ],
      "execution_count": 22,
      "outputs": [
        {
          "output_type": "display_data",
          "data": {
            "image/png": "[encoded data removed]",
            "text/plain": [
              "<Figure size 1440x720 with 1 Axes>"
            ]
          },
          "metadata": {
            "tags": [],
            "needs_background": "light"
          }
        }
      ]
    },
    {
      "cell_type": "code",
      "metadata": {
        "id": "kJ07JMrCRAYx",
        "colab": {
          "base_uri": "https://localhost:8080/"
        },
        "outputId": "887fa07e-df97-4c6b-a2f3-416675944d51"
      },
      "source": [
        "#Loading the data set - training data.\n",
        "from sklearn.datasets import fetch_20newsgroups\n",
        "mydata_train = fetch_20newsgroups(subset='train', shuffle=True, remove = ('headers', 'footers', 'quotes'))"
      ],
      "execution_count": 23,
      "outputs": [
        {
          "output_type": "stream",
          "text": [
            "Downloading 20news dataset. This may take a few minutes.\n",
            "Downloading dataset from https://ndownloader.figshare.com/files/5975967 (14 MB)\n"
          ],
          "name": "stderr"
        }
      ]
    },
    {
      "cell_type": "code",
      "metadata": {
        "colab": {
          "base_uri": "https://localhost:8080/"
        },
        "id": "Bpyae_wBRHIU",
        "outputId": "c69ee78d-7342-4270-d246-bee1bbb27d52"
      },
      "source": [
        "list(mydata_train)\n"
      ],
      "execution_count": 24,
      "outputs": [
        {
          "output_type": "execute_result",
          "data": {
            "text/plain": [
              "['data', 'filenames', 'target_names', 'target', 'DESCR']"
            ]
          },
          "metadata": {
            "tags": []
          },
          "execution_count": 24
        }
      ]
    },
    {
      "cell_type": "code",
      "metadata": {
        "colab": {
          "base_uri": "https://localhost:8080/"
        },
        "id": "WsmrhUPeRJ9l",
        "outputId": "f4c76b6c-4243-47c1-ceb6-c9f432304f87"
      },
      "source": [
        "print('Training data size:', len(mydata_train['data']))\n"
      ],
      "execution_count": 25,
      "outputs": [
        {
          "output_type": "stream",
          "text": [
            "Training data size: 11314\n"
          ],
          "name": "stdout"
        }
      ]
    },
    {
      "cell_type": "code",
      "metadata": {
        "colab": {
          "base_uri": "https://localhost:8080/"
        },
        "id": "Nv1WrOdSRONT",
        "outputId": "1e476c6e-d8a5-4546-8d0f-793b143c4855"
      },
      "source": [
        "# Printing all the categories\n",
        "mydata_train.target_names"
      ],
      "execution_count": 26,
      "outputs": [
        {
          "output_type": "execute_result",
          "data": {
            "text/plain": [
              "['alt.atheism',\n",
              " 'comp.graphics',\n",
              " 'comp.os.ms-windows.misc',\n",
              " 'comp.sys.ibm.pc.hardware',\n",
              " 'comp.sys.mac.hardware',\n",
              " 'comp.windows.x',\n",
              " 'misc.forsale',\n",
              " 'rec.autos',\n",
              " 'rec.motorcycles',\n",
              " 'rec.sport.baseball',\n",
              " 'rec.sport.hockey',\n",
              " 'sci.crypt',\n",
              " 'sci.electronics',\n",
              " 'sci.med',\n",
              " 'sci.space',\n",
              " 'soc.religion.christian',\n",
              " 'talk.politics.guns',\n",
              " 'talk.politics.mideast',\n",
              " 'talk.politics.misc',\n",
              " 'talk.religion.misc']"
            ]
          },
          "metadata": {
            "tags": []
          },
          "execution_count": 26
        }
      ]
    },
    {
      "cell_type": "code",
      "metadata": {
        "colab": {
          "base_uri": "https://localhost:8080/"
        },
        "id": "krZedPVlRRxL",
        "outputId": "c1486125-c7c5-422a-8b1c-f035d21d1ec8"
      },
      "source": [
        "\n",
        "# Finding frequency of each category\n",
        "targets, frequency = np.unique(mydata_train.target, return_counts=True)\n",
        "targets, frequency"
      ],
      "execution_count": 27,
      "outputs": [
        {
          "output_type": "execute_result",
          "data": {
            "text/plain": [
              "(array([ 0,  1,  2,  3,  4,  5,  6,  7,  8,  9, 10, 11, 12, 13, 14, 15, 16,\n",
              "        17, 18, 19]),\n",
              " array([480, 584, 591, 590, 578, 593, 585, 594, 598, 597, 600, 595, 591,\n",
              "        594, 593, 599, 546, 564, 465, 377]))"
            ]
          },
          "metadata": {
            "tags": []
          },
          "execution_count": 27
        }
      ]
    },
    {
      "cell_type": "code",
      "metadata": {
        "colab": {
          "base_uri": "https://localhost:8080/"
        },
        "id": "lSr8qhRVRWTb",
        "outputId": "2cb36f30-bc1f-4549-8610-8e5781d5c68d"
      },
      "source": [
        "targets_str = np.array(mydata_train.target_names)\n",
        "print(list(zip(targets_str, frequency)))"
      ],
      "execution_count": 28,
      "outputs": [
        {
          "output_type": "stream",
          "text": [
            "[('alt.atheism', 480), ('comp.graphics', 584), ('comp.os.ms-windows.misc', 591), ('comp.sys.ibm.pc.hardware', 590), ('comp.sys.mac.hardware', 578), ('comp.windows.x', 593), ('misc.forsale', 585), ('rec.autos', 594), ('rec.motorcycles', 598), ('rec.sport.baseball', 597), ('rec.sport.hockey', 600), ('sci.crypt', 595), ('sci.electronics', 591), ('sci.med', 594), ('sci.space', 593), ('soc.religion.christian', 599), ('talk.politics.guns', 546), ('talk.politics.mideast', 564), ('talk.politics.misc', 465), ('talk.religion.misc', 377)]\n"
          ],
          "name": "stdout"
        }
      ]
    },
    {
      "cell_type": "code",
      "metadata": {
        "id": "1pZ_KnVPRZSm"
      },
      "source": [
        "mydata_test = fetch_20newsgroups(subset='test', shuffle=True, remove = ('headers', 'footers', 'quotes'))\n"
      ],
      "execution_count": 29,
      "outputs": []
    },
    {
      "cell_type": "code",
      "metadata": {
        "colab": {
          "base_uri": "https://localhost:8080/"
        },
        "id": "IEcSYoJmRcUc",
        "outputId": "be06cbb6-3c92-41da-dee2-5a0c28ad6951"
      },
      "source": [
        "print('Testing data size:', len(mydata_test['data']))\n"
      ],
      "execution_count": 30,
      "outputs": [
        {
          "output_type": "stream",
          "text": [
            "Testing data size: 7532\n"
          ],
          "name": "stdout"
        }
      ]
    },
    {
      "cell_type": "code",
      "metadata": {
        "colab": {
          "base_uri": "https://localhost:8080/",
          "height": 198
        },
        "id": "_aSKch0QRf_o",
        "outputId": "70abb6c5-f128-463f-fdfc-43abd0a86a73"
      },
      "source": [
        "mydata_train_df = pd.DataFrame({'data': mydata_train.data, 'target': mydata_train.target})\n",
        "mydata_train_df.head()"
      ],
      "execution_count": 31,
      "outputs": [
        {
          "output_type": "execute_result",
          "data": {
            "text/html": [
              "<div>\n",
              "<style scoped>\n",
              "    .dataframe tbody tr th:only-of-type {\n",
              "        vertical-align: middle;\n",
              "    }\n",
              "\n",
              "    .dataframe tbody tr th {\n",
              "        vertical-align: top;\n",
              "    }\n",
              "\n",
              "    .dataframe thead th {\n",
              "        text-align: right;\n",
              "    }\n",
              "</style>\n",
              "<table border=\"1\" class=\"dataframe\">\n",
              "  <thead>\n",
              "    <tr style=\"text-align: right;\">\n",
              "      <th></th>\n",
              "      <th>data</th>\n",
              "      <th>target</th>\n",
              "    </tr>\n",
              "  </thead>\n",
              "  <tbody>\n",
              "    <tr>\n",
              "      <th>0</th>\n",
              "      <td>I was wondering if anyone out there could enli...</td>\n",
              "      <td>7</td>\n",
              "    </tr>\n",
              "    <tr>\n",
              "      <th>1</th>\n",
              "      <td>A fair number of brave souls who upgraded thei...</td>\n",
              "      <td>4</td>\n",
              "    </tr>\n",
              "    <tr>\n",
              "      <th>2</th>\n",
              "      <td>well folks, my mac plus finally gave up the gh...</td>\n",
              "      <td>4</td>\n",
              "    </tr>\n",
              "    <tr>\n",
              "      <th>3</th>\n",
              "      <td>\\nDo you have Weitek's address/phone number?  ...</td>\n",
              "      <td>1</td>\n",
              "    </tr>\n",
              "    <tr>\n",
              "      <th>4</th>\n",
              "      <td>From article &lt;C5owCB.n3p@world.std.com&gt;, by to...</td>\n",
              "      <td>14</td>\n",
              "    </tr>\n",
              "  </tbody>\n",
              "</table>\n",
              "</div>"
            ],
            "text/plain": [
              "                                                data  target\n",
              "0  I was wondering if anyone out there could enli...       7\n",
              "1  A fair number of brave souls who upgraded thei...       4\n",
              "2  well folks, my mac plus finally gave up the gh...       4\n",
              "3  \\nDo you have Weitek's address/phone number?  ...       1\n",
              "4  From article <C5owCB.n3p@world.std.com>, by to...      14"
            ]
          },
          "metadata": {
            "tags": []
          },
          "execution_count": 31
        }
      ]
    },
    {
      "cell_type": "code",
      "metadata": {
        "colab": {
          "base_uri": "https://localhost:8080/",
          "height": 198
        },
        "id": "ttru-cT7Rj9K",
        "outputId": "e66007a6-0585-44c5-b5e8-a1545d717f95"
      },
      "source": [
        "# Text preprocessing steps - remove numbers, captial letters and punctuation\n",
        "import re\n",
        "import string\n",
        "\n",
        "alphanumeric = lambda x: re.sub(r\"\"\"\\w*\\d\\w*\"\"\", ' ', x)\n",
        "punc_lower = lambda x: re.sub('[%s]' % re.escape(string.punctuation), ' ', x.lower())\n",
        "\n",
        "mydata_train_df['data'] = mydata_train_df.data.map(alphanumeric).map(punc_lower)\n",
        "mydata_train_df.head()"
      ],
      "execution_count": 32,
      "outputs": [
        {
          "output_type": "execute_result",
          "data": {
            "text/html": [
              "<div>\n",
              "<style scoped>\n",
              "    .dataframe tbody tr th:only-of-type {\n",
              "        vertical-align: middle;\n",
              "    }\n",
              "\n",
              "    .dataframe tbody tr th {\n",
              "        vertical-align: top;\n",
              "    }\n",
              "\n",
              "    .dataframe thead th {\n",
              "        text-align: right;\n",
              "    }\n",
              "</style>\n",
              "<table border=\"1\" class=\"dataframe\">\n",
              "  <thead>\n",
              "    <tr style=\"text-align: right;\">\n",
              "      <th></th>\n",
              "      <th>data</th>\n",
              "      <th>target</th>\n",
              "    </tr>\n",
              "  </thead>\n",
              "  <tbody>\n",
              "    <tr>\n",
              "      <th>0</th>\n",
              "      <td>i was wondering if anyone out there could enli...</td>\n",
              "      <td>7</td>\n",
              "    </tr>\n",
              "    <tr>\n",
              "      <th>1</th>\n",
              "      <td>a fair number of brave souls who upgraded thei...</td>\n",
              "      <td>4</td>\n",
              "    </tr>\n",
              "    <tr>\n",
              "      <th>2</th>\n",
              "      <td>well folks  my mac plus finally gave up the gh...</td>\n",
              "      <td>4</td>\n",
              "    </tr>\n",
              "    <tr>\n",
              "      <th>3</th>\n",
              "      <td>\\ndo you have weitek s address phone number   ...</td>\n",
              "      <td>1</td>\n",
              "    </tr>\n",
              "    <tr>\n",
              "      <th>4</th>\n",
              "      <td>from article      world std com   by tombaker ...</td>\n",
              "      <td>14</td>\n",
              "    </tr>\n",
              "  </tbody>\n",
              "</table>\n",
              "</div>"
            ],
            "text/plain": [
              "                                                data  target\n",
              "0  i was wondering if anyone out there could enli...       7\n",
              "1  a fair number of brave souls who upgraded thei...       4\n",
              "2  well folks  my mac plus finally gave up the gh...       4\n",
              "3  \\ndo you have weitek s address phone number   ...       1\n",
              "4  from article      world std com   by tombaker ...      14"
            ]
          },
          "metadata": {
            "tags": []
          },
          "execution_count": 32
        }
      ]
    },
    {
      "cell_type": "code",
      "metadata": {
        "colab": {
          "base_uri": "https://localhost:8080/",
          "height": 198
        },
        "id": "8f6jlH07RoBH",
        "outputId": "32971fad-8cd9-4a4e-d071-6cf430424c18"
      },
      "source": [
        "mydata_test_df = pd.DataFrame({'data': mydata_test.data, 'target': mydata_test.target})\n",
        "mydata_test_df.head()"
      ],
      "execution_count": 33,
      "outputs": [
        {
          "output_type": "execute_result",
          "data": {
            "text/html": [
              "<div>\n",
              "<style scoped>\n",
              "    .dataframe tbody tr th:only-of-type {\n",
              "        vertical-align: middle;\n",
              "    }\n",
              "\n",
              "    .dataframe tbody tr th {\n",
              "        vertical-align: top;\n",
              "    }\n",
              "\n",
              "    .dataframe thead th {\n",
              "        text-align: right;\n",
              "    }\n",
              "</style>\n",
              "<table border=\"1\" class=\"dataframe\">\n",
              "  <thead>\n",
              "    <tr style=\"text-align: right;\">\n",
              "      <th></th>\n",
              "      <th>data</th>\n",
              "      <th>target</th>\n",
              "    </tr>\n",
              "  </thead>\n",
              "  <tbody>\n",
              "    <tr>\n",
              "      <th>0</th>\n",
              "      <td>I am a little confused on all of the models of...</td>\n",
              "      <td>7</td>\n",
              "    </tr>\n",
              "    <tr>\n",
              "      <th>1</th>\n",
              "      <td>I'm not familiar at all with the format of the...</td>\n",
              "      <td>5</td>\n",
              "    </tr>\n",
              "    <tr>\n",
              "      <th>2</th>\n",
              "      <td>\\nIn a word, yes.\\n</td>\n",
              "      <td>0</td>\n",
              "    </tr>\n",
              "    <tr>\n",
              "      <th>3</th>\n",
              "      <td>\\nThey were attacking the Iraqis to drive them...</td>\n",
              "      <td>17</td>\n",
              "    </tr>\n",
              "    <tr>\n",
              "      <th>4</th>\n",
              "      <td>\\nI've just spent two solid months arguing tha...</td>\n",
              "      <td>19</td>\n",
              "    </tr>\n",
              "  </tbody>\n",
              "</table>\n",
              "</div>"
            ],
            "text/plain": [
              "                                                data  target\n",
              "0  I am a little confused on all of the models of...       7\n",
              "1  I'm not familiar at all with the format of the...       5\n",
              "2                                \\nIn a word, yes.\\n       0\n",
              "3  \\nThey were attacking the Iraqis to drive them...      17\n",
              "4  \\nI've just spent two solid months arguing tha...      19"
            ]
          },
          "metadata": {
            "tags": []
          },
          "execution_count": 33
        }
      ]
    },
    {
      "cell_type": "code",
      "metadata": {
        "colab": {
          "base_uri": "https://localhost:8080/",
          "height": 198
        },
        "id": "tUjU5KP5RrlP",
        "outputId": "392b1ea7-14bf-4164-bf42-60835dc99923"
      },
      "source": [
        "# Text preprocessing steps - remove numbers, captial letters and punctuation\n",
        "alphanumeric = lambda x: re.sub(r\"\"\"\\w*\\d\\w*\"\"\", ' ', x)\n",
        "punc_lower = lambda x: re.sub('[%s]' % re.escape(string.punctuation), ' ', x.lower())\n",
        "\n",
        "mydata_test_df['data'] = mydata_test_df.data.map(alphanumeric).map(punc_lower)\n",
        "mydata_test_df.head()"
      ],
      "execution_count": 34,
      "outputs": [
        {
          "output_type": "execute_result",
          "data": {
            "text/html": [
              "<div>\n",
              "<style scoped>\n",
              "    .dataframe tbody tr th:only-of-type {\n",
              "        vertical-align: middle;\n",
              "    }\n",
              "\n",
              "    .dataframe tbody tr th {\n",
              "        vertical-align: top;\n",
              "    }\n",
              "\n",
              "    .dataframe thead th {\n",
              "        text-align: right;\n",
              "    }\n",
              "</style>\n",
              "<table border=\"1\" class=\"dataframe\">\n",
              "  <thead>\n",
              "    <tr style=\"text-align: right;\">\n",
              "      <th></th>\n",
              "      <th>data</th>\n",
              "      <th>target</th>\n",
              "    </tr>\n",
              "  </thead>\n",
              "  <tbody>\n",
              "    <tr>\n",
              "      <th>0</th>\n",
              "      <td>i am a little confused on all of the models of...</td>\n",
              "      <td>7</td>\n",
              "    </tr>\n",
              "    <tr>\n",
              "      <th>1</th>\n",
              "      <td>i m not familiar at all with the format of the...</td>\n",
              "      <td>5</td>\n",
              "    </tr>\n",
              "    <tr>\n",
              "      <th>2</th>\n",
              "      <td>\\nin a word  yes \\n</td>\n",
              "      <td>0</td>\n",
              "    </tr>\n",
              "    <tr>\n",
              "      <th>3</th>\n",
              "      <td>\\nthey were attacking the iraqis to drive them...</td>\n",
              "      <td>17</td>\n",
              "    </tr>\n",
              "    <tr>\n",
              "      <th>4</th>\n",
              "      <td>\\ni ve just spent two solid months arguing tha...</td>\n",
              "      <td>19</td>\n",
              "    </tr>\n",
              "  </tbody>\n",
              "</table>\n",
              "</div>"
            ],
            "text/plain": [
              "                                                data  target\n",
              "0  i am a little confused on all of the models of...       7\n",
              "1  i m not familiar at all with the format of the...       5\n",
              "2                                \\nin a word  yes \\n       0\n",
              "3  \\nthey were attacking the iraqis to drive them...      17\n",
              "4  \\ni ve just spent two solid months arguing tha...      19"
            ]
          },
          "metadata": {
            "tags": []
          },
          "execution_count": 34
        }
      ]
    },
    {
      "cell_type": "code",
      "metadata": {
        "colab": {
          "base_uri": "https://localhost:8080/"
        },
        "id": "yUELDX2-bNNg",
        "outputId": "0a8a6d77-3e8e-42ce-fb1c-27fdf0c32095"
      },
      "source": [
        "# Extracting features from text files\n",
        "from sklearn.feature_extraction.text import CountVectorizer\n",
        "count_vect = CountVectorizer(stop_words='english')\n",
        "X_train_cv = count_vect.fit_transform(mydata_train_df.data) # fit_transform learns the\n",
        "X_test_cv = count_vect.transform(mydata_test_df.data) # transform uses the same vocab an\n",
        "print(X_train_cv.shape)\n",
        "print(type(X_train_cv))"
      ],
      "execution_count": 35,
      "outputs": [
        {
          "output_type": "stream",
          "text": [
            "(11314, 67822)\n",
            "<class 'scipy.sparse.csr.csr_matrix'>\n"
          ],
          "name": "stdout"
        }
      ]
    },
    {
      "cell_type": "code",
      "metadata": {
        "id": "cRUtZ9-VAkiY"
      },
      "source": [
        "import numpy as np\n",
        "\n",
        "from tqdm import tqdm\n",
        "\n",
        "from sklearn.datasets import fetch_20newsgroups\n",
        "\n",
        "from keras.preprocessing.text import Tokenizer\n",
        "from keras.preprocessing.sequence import pad_sequences\n",
        "from keras.utils.np_utils import to_categorical\n",
        "from keras.layers import Dense, Input, Flatten\n",
        "from keras.layers import Conv1D, MaxPooling1D, Embedding, Dropout\n",
        "from keras.models import Model"
      ],
      "execution_count": 36,
      "outputs": []
    },
    {
      "cell_type": "code",
      "metadata": {
        "colab": {
          "base_uri": "https://localhost:8080/"
        },
        "id": "4Oz3FjnHAqOw",
        "outputId": "5125ad12-d5e3-4d0e-d483-a2c3ca7922d6"
      },
      "source": [
        "categories = ['alt.atheism', 'soc.religion.christian'] \n",
        "\n",
        "newsgroups_train = fetch_20newsgroups(subset='train', shuffle=True, \n",
        "                                      categories=categories,)\n",
        "\n",
        "print (newsgroups_train.target_names)\n",
        "print (len(newsgroups_train.data))\n",
        "\n",
        "#print (newsgroups_train.data[1])\n",
        "print(\"\\n\".join(newsgroups_train.data[0].split(\"\\n\")[10:15]))"
      ],
      "execution_count": 37,
      "outputs": [
        {
          "output_type": "stream",
          "text": [
            "['alt.atheism', 'soc.religion.christian']\n",
            "1079\n",
            "   WASHINGTON, April 19  -- A symposium on the Dead Sea \n",
            "Scrolls will be held at the Library of Congress on Wednesday,\n",
            "April 21, and Thursday, April 22.  The two-day program, cosponsored\n",
            "by the library and Baltimore Hebrew University, with additional\n",
            "support from the Project Judaica Foundation, will be held in the\n"
          ],
          "name": "stdout"
        }
      ]
    },
    {
      "cell_type": "code",
      "metadata": {
        "colab": {
          "base_uri": "https://localhost:8080/"
        },
        "id": "I9VVEyQWAu6m",
        "outputId": "a0da991a-c3c1-4615-fd92-f65b95941203"
      },
      "source": [
        "%%time\n",
        "\n",
        "texts = []\n",
        "\n",
        "labels=newsgroups_train.target\n",
        "texts = newsgroups_train.data\n",
        "\n",
        "MAX_SEQUENCE_LENGTH = 1000\n",
        "MAX_NB_WORDS = 20000\n",
        "\n",
        "tokenizer = Tokenizer(num_words=MAX_NB_WORDS)\n",
        "tokenizer.fit_on_texts(texts)\n",
        "\n",
        "sequences = tokenizer.texts_to_sequences(texts)\n",
        "\n",
        "print (sequences[0][:10])"
      ],
      "execution_count": 38,
      "outputs": [
        {
          "output_type": "stream",
          "text": [
            "[19, 8762, 3621, 11894, 58, 8762, 3621, 43, 1472, 2]\n",
            "CPU times: user 425 ms, sys: 5.11 ms, total: 430 ms\n",
            "Wall time: 435 ms\n"
          ],
          "name": "stdout"
        }
      ]
    },
    {
      "cell_type": "code",
      "metadata": {
        "colab": {
          "base_uri": "https://localhost:8080/"
        },
        "id": "8C-jZJV1Ay0E",
        "outputId": "285275b2-96e0-4fcf-c51c-2b3ffe126375"
      },
      "source": [
        "word_index = tokenizer.word_index\n",
        "\n",
        "print('Found %s unique tokens.' % len(word_index))"
      ],
      "execution_count": 39,
      "outputs": [
        {
          "output_type": "stream",
          "text": [
            "Found 20030 unique tokens.\n"
          ],
          "name": "stdout"
        }
      ]
    },
    {
      "cell_type": "code",
      "metadata": {
        "colab": {
          "base_uri": "https://localhost:8080/"
        },
        "id": "I3leeqbJA1-q",
        "outputId": "fe9d8844-b105-491d-8f30-78a3ae437f9e"
      },
      "source": [
        "data = pad_sequences(sequences, maxlen=MAX_SEQUENCE_LENGTH)\n",
        "\n",
        "print (data.shape)\n",
        "print (data[0][200:250])"
      ],
      "execution_count": 40,
      "outputs": [
        {
          "output_type": "stream",
          "text": [
            "(1079, 1000)\n",
            "[    0     0     0     0     0     0     0     0     0     0     0     0\n",
            "     0     0     0     0     0     0     0     0     0     0     0     0\n",
            "     0     0     0     0     0    19  8762  3621 11894    58  8762  3621\n",
            "    43  1472     2  2130     3   189   450  1001  3622  2980  1682   476\n",
            "   627    50]\n"
          ],
          "name": "stdout"
        }
      ]
    },
    {
      "cell_type": "code",
      "metadata": {
        "colab": {
          "base_uri": "https://localhost:8080/"
        },
        "id": "TATKrjgmA6lK",
        "outputId": "de8f9a73-5c19-4eb6-da43-83319cc9ed5e"
      },
      "source": [
        "labels = to_categorical(np.array(labels))\n",
        "\n",
        "print('Shape of data tensor:', data.shape)\n",
        "print('Shape of label tensor:', labels.shape)"
      ],
      "execution_count": 41,
      "outputs": [
        {
          "output_type": "stream",
          "text": [
            "Shape of data tensor: (1079, 1000)\n",
            "Shape of label tensor: (1079, 2)\n"
          ],
          "name": "stdout"
        }
      ]
    },
    {
      "cell_type": "code",
      "metadata": {
        "colab": {
          "base_uri": "https://localhost:8080/"
        },
        "id": "tKD1nppNA_cG",
        "outputId": "16869c0f-a3fa-4ffd-f347-387d2f6201f7"
      },
      "source": [
        "VALIDATION_SPLIT = 0.1\n",
        "\n",
        "indices = np.arange(data.shape[0])\n",
        "np.random.shuffle(indices) \n",
        "data = data[indices] \n",
        "labels = labels[indices] \n",
        "nb_validation_samples = int(VALIDATION_SPLIT * data.shape[0])\n",
        "\n",
        "x_train = data[:-nb_validation_samples] \n",
        "y_train = labels[:-nb_validation_samples] \n",
        "x_val = data[-nb_validation_samples:] \n",
        "y_val = labels[-nb_validation_samples:] \n",
        "\n",
        "print (x_train.shape)\n",
        "print (y_train.shape)\n",
        "\n",
        "print('Number of positive and negative reviews in traing and validation set ') \n",
        "print (y_train.sum(axis=0))\n",
        "print (y_val.sum(axis=0))\n"
      ],
      "execution_count": 42,
      "outputs": [
        {
          "output_type": "stream",
          "text": [
            "(972, 1000)\n",
            "(972, 2)\n",
            "Number of positive and negative reviews in traing and validation set \n",
            "[434. 538.]\n",
            "[46. 61.]\n"
          ],
          "name": "stdout"
        }
      ]
    },
    {
      "cell_type": "code",
      "metadata": {
        "colab": {
          "base_uri": "https://localhost:8080/",
          "height": 244
        },
        "id": "1jN7GicoBSkh",
        "outputId": "43a3ff98-917c-4021-9f7d-a8a91f5e3ab3"
      },
      "source": [
        "EMBEDDING_DIM = 100\n",
        "\n",
        "embedding_matrix = np.random.random((len(word_index) + 1, EMBEDDING_DIM))\n",
        "\n",
        "for word, i in word_index.items():\n",
        "  embedding_vector = embeddings_index.get(word)\n",
        "  if embedding_vector is not None:\n",
        "    # words not found in embedding index will be all-zeros.\n",
        "    embedding_matrix[i] = embedding_vector\n",
        "\n",
        "print (embedding_matrix.shape)\n",
        "\n",
        "print (embedding_matrix[0][:10])"
      ],
      "execution_count": 43,
      "outputs": [
        {
          "output_type": "error",
          "ename": "NameError",
          "evalue": "ignored",
          "traceback": [
            "\u001b[0;31m---------------------------------------------------------------------------\u001b[0m",
            "\u001b[0;31mNameError\u001b[0m                                 Traceback (most recent call last)",
            "\u001b[0;32m<ipython-input-43-6fb53264530f>\u001b[0m in \u001b[0;36m<module>\u001b[0;34m()\u001b[0m\n\u001b[1;32m      4\u001b[0m \u001b[0;34m\u001b[0m\u001b[0m\n\u001b[1;32m      5\u001b[0m \u001b[0;32mfor\u001b[0m \u001b[0mword\u001b[0m\u001b[0;34m,\u001b[0m \u001b[0mi\u001b[0m \u001b[0;32min\u001b[0m \u001b[0mword_index\u001b[0m\u001b[0;34m.\u001b[0m\u001b[0mitems\u001b[0m\u001b[0;34m(\u001b[0m\u001b[0;34m)\u001b[0m\u001b[0;34m:\u001b[0m\u001b[0;34m\u001b[0m\u001b[0;34m\u001b[0m\u001b[0m\n\u001b[0;32m----> 6\u001b[0;31m   \u001b[0membedding_vector\u001b[0m \u001b[0;34m=\u001b[0m \u001b[0membeddings_index\u001b[0m\u001b[0;34m.\u001b[0m\u001b[0mget\u001b[0m\u001b[0;34m(\u001b[0m\u001b[0mword\u001b[0m\u001b[0;34m)\u001b[0m\u001b[0;34m\u001b[0m\u001b[0;34m\u001b[0m\u001b[0m\n\u001b[0m\u001b[1;32m      7\u001b[0m   \u001b[0;32mif\u001b[0m \u001b[0membedding_vector\u001b[0m \u001b[0;32mis\u001b[0m \u001b[0;32mnot\u001b[0m \u001b[0;32mNone\u001b[0m\u001b[0;34m:\u001b[0m\u001b[0;34m\u001b[0m\u001b[0;34m\u001b[0m\u001b[0m\n\u001b[1;32m      8\u001b[0m     \u001b[0;31m# words not found in embedding index will be all-zeros.\u001b[0m\u001b[0;34m\u001b[0m\u001b[0;34m\u001b[0m\u001b[0;34m\u001b[0m\u001b[0m\n",
            "\u001b[0;31mNameError\u001b[0m: name 'embeddings_index' is not defined"
          ]
        }
      ]
    },
    {
      "cell_type": "code",
      "metadata": {
        "colab": {
          "base_uri": "https://localhost:8080/"
        },
        "id": "StT4yPYaBUgr",
        "outputId": "193c929f-66c9-4c37-ea0f-ccb918c482bf"
      },
      "source": [
        "embedding_layer = Embedding(len(word_index) + 1, EMBEDDING_DIM,\n",
        "                            weights=[embedding_matrix], \n",
        "                            input_length=MAX_SEQUENCE_LENGTH, \n",
        "                            trainable=False)\n",
        "\n",
        "sequence_input = Input(shape=(MAX_SEQUENCE_LENGTH,), dtype='int32') \n",
        "embedded_sequences = embedding_layer(sequence_input) \n",
        "l_cov1= Conv1D(128, 5, activation='relu')(embedded_sequences) \n",
        "l_pool1 = MaxPooling1D(5)(l_cov1) \n",
        "l_cov2 = Conv1D(128, 5, activation='relu')(l_pool1) \n",
        "l_pool2 = MaxPooling1D(5)(l_cov2) \n",
        "l_cov3 = Conv1D(128, 5, activation='relu')(l_pool2) \n",
        "l_pool3 = MaxPooling1D(35)(l_cov3)  # global max pooling\n",
        "\n",
        "l_flat = Flatten()(l_pool3) \n",
        "l_dense = Dense(128, activation='relu')(l_flat) \n",
        "preds = Dense(2, activation='softmax')(l_dense)\n",
        "\n",
        "model = Model(sequence_input, preds)\n",
        "\n",
        "model.summary()"
      ],
      "execution_count": 44,
      "outputs": [
        {
          "output_type": "stream",
          "text": [
            "Model: \"model\"\n",
            "_________________________________________________________________\n",
            "Layer (type)                 Output Shape              Param #   \n",
            "=================================================================\n",
            "input_1 (InputLayer)         [(None, 1000)]            0         \n",
            "_________________________________________________________________\n",
            "embedding (Embedding)        (None, 1000, 100)         2003100   \n",
            "_________________________________________________________________\n",
            "conv1d (Conv1D)              (None, 996, 128)          64128     \n",
            "_________________________________________________________________\n",
            "max_pooling1d (MaxPooling1D) (None, 199, 128)          0         \n",
            "_________________________________________________________________\n",
            "conv1d_1 (Conv1D)            (None, 195, 128)          82048     \n",
            "_________________________________________________________________\n",
            "max_pooling1d_1 (MaxPooling1 (None, 39, 128)           0         \n",
            "_________________________________________________________________\n",
            "conv1d_2 (Conv1D)            (None, 35, 128)           82048     \n",
            "_________________________________________________________________\n",
            "max_pooling1d_2 (MaxPooling1 (None, 1, 128)            0         \n",
            "_________________________________________________________________\n",
            "flatten (Flatten)            (None, 128)               0         \n",
            "_________________________________________________________________\n",
            "dense (Dense)                (None, 128)               16512     \n",
            "_________________________________________________________________\n",
            "dense_1 (Dense)              (None, 2)                 258       \n",
            "=================================================================\n",
            "Total params: 2,248,094\n",
            "Trainable params: 244,994\n",
            "Non-trainable params: 2,003,100\n",
            "_________________________________________________________________\n"
          ],
          "name": "stdout"
        }
      ]
    },
    {
      "cell_type": "code",
      "metadata": {
        "colab": {
          "base_uri": "https://localhost:8080/"
        },
        "id": "ohWKe6xrBfGj",
        "outputId": "f065fb81-bd2b-43e5-d682-bc5c020a38c7"
      },
      "source": [
        "model.compile(loss='categorical_crossentropy', optimizer='adam',metrics=['acc'])\n",
        "\n",
        "history = model.fit(x_train, y_train, validation_data=(x_val, y_val),\n",
        "                    epochs=500, batch_size=512)   "
      ],
      "execution_count": 45,
      "outputs": [
        {
          "output_type": "stream",
          "text": [
            "Epoch 1/500\n",
            "2/2 [==============================] - 35s 1s/step - loss: 0.7746 - acc: 0.4851 - val_loss: 0.6963 - val_acc: 0.4766\n",
            "Epoch 2/500\n",
            "2/2 [==============================] - 0s 161ms/step - loss: 0.6936 - acc: 0.4684 - val_loss: 0.6884 - val_acc: 0.5701\n",
            "Epoch 3/500\n",
            "2/2 [==============================] - 0s 166ms/step - loss: 0.6960 - acc: 0.5513 - val_loss: 0.6913 - val_acc: 0.5888\n",
            "Epoch 4/500\n",
            "2/2 [==============================] - 0s 163ms/step - loss: 0.6886 - acc: 0.5566 - val_loss: 0.6821 - val_acc: 0.5701\n",
            "Epoch 5/500\n",
            "2/2 [==============================] - 0s 161ms/step - loss: 0.6872 - acc: 0.5624 - val_loss: 0.6825 - val_acc: 0.5701\n",
            "Epoch 6/500\n",
            "2/2 [==============================] - 0s 164ms/step - loss: 0.6894 - acc: 0.5096 - val_loss: 0.6870 - val_acc: 0.6075\n",
            "Epoch 7/500\n",
            "2/2 [==============================] - 0s 158ms/step - loss: 0.6865 - acc: 0.5819 - val_loss: 0.6816 - val_acc: 0.5701\n",
            "Epoch 8/500\n",
            "2/2 [==============================] - 0s 159ms/step - loss: 0.6893 - acc: 0.5487 - val_loss: 0.6814 - val_acc: 0.5701\n",
            "Epoch 9/500\n",
            "2/2 [==============================] - 0s 163ms/step - loss: 0.6845 - acc: 0.5533 - val_loss: 0.6827 - val_acc: 0.5701\n",
            "Epoch 10/500\n",
            "2/2 [==============================] - 0s 165ms/step - loss: 0.6828 - acc: 0.5545 - val_loss: 0.6799 - val_acc: 0.5701\n",
            "Epoch 11/500\n",
            "2/2 [==============================] - 0s 165ms/step - loss: 0.6821 - acc: 0.5558 - val_loss: 0.6860 - val_acc: 0.6168\n",
            "Epoch 12/500\n",
            "2/2 [==============================] - 0s 161ms/step - loss: 0.6835 - acc: 0.6181 - val_loss: 0.6782 - val_acc: 0.5701\n",
            "Epoch 13/500\n",
            "2/2 [==============================] - 0s 162ms/step - loss: 0.6788 - acc: 0.5487 - val_loss: 0.6771 - val_acc: 0.5701\n",
            "Epoch 14/500\n",
            "2/2 [==============================] - 0s 163ms/step - loss: 0.6761 - acc: 0.5578 - val_loss: 0.6825 - val_acc: 0.6075\n",
            "Epoch 15/500\n",
            "2/2 [==============================] - 0s 167ms/step - loss: 0.6802 - acc: 0.6337 - val_loss: 0.6750 - val_acc: 0.5701\n",
            "Epoch 16/500\n",
            "2/2 [==============================] - 0s 161ms/step - loss: 0.6740 - acc: 0.5493 - val_loss: 0.6750 - val_acc: 0.5701\n",
            "Epoch 17/500\n",
            "2/2 [==============================] - 0s 161ms/step - loss: 0.6747 - acc: 0.5664 - val_loss: 0.6799 - val_acc: 0.6636\n",
            "Epoch 18/500\n",
            "2/2 [==============================] - 0s 164ms/step - loss: 0.6698 - acc: 0.6482 - val_loss: 0.6722 - val_acc: 0.5701\n",
            "Epoch 19/500\n",
            "2/2 [==============================] - 0s 163ms/step - loss: 0.6667 - acc: 0.5513 - val_loss: 0.6717 - val_acc: 0.5701\n",
            "Epoch 20/500\n",
            "2/2 [==============================] - 0s 166ms/step - loss: 0.6606 - acc: 0.5606 - val_loss: 0.6688 - val_acc: 0.5701\n",
            "Epoch 21/500\n",
            "2/2 [==============================] - 0s 161ms/step - loss: 0.6552 - acc: 0.5658 - val_loss: 0.6713 - val_acc: 0.6729\n",
            "Epoch 22/500\n",
            "2/2 [==============================] - 0s 164ms/step - loss: 0.6525 - acc: 0.7306 - val_loss: 0.6623 - val_acc: 0.5701\n",
            "Epoch 23/500\n",
            "2/2 [==============================] - 0s 163ms/step - loss: 0.6462 - acc: 0.5640 - val_loss: 0.6771 - val_acc: 0.4860\n",
            "Epoch 24/500\n",
            "2/2 [==============================] - 0s 168ms/step - loss: 0.6493 - acc: 0.6177 - val_loss: 0.6538 - val_acc: 0.5701\n",
            "Epoch 25/500\n",
            "2/2 [==============================] - 0s 166ms/step - loss: 0.6459 - acc: 0.5671 - val_loss: 0.6460 - val_acc: 0.6168\n",
            "Epoch 26/500\n",
            "2/2 [==============================] - 0s 164ms/step - loss: 0.6260 - acc: 0.5984 - val_loss: 0.6421 - val_acc: 0.7477\n",
            "Epoch 27/500\n",
            "2/2 [==============================] - 0s 164ms/step - loss: 0.6111 - acc: 0.7964 - val_loss: 0.6349 - val_acc: 0.7570\n",
            "Epoch 28/500\n",
            "2/2 [==============================] - 0s 161ms/step - loss: 0.6066 - acc: 0.7487 - val_loss: 0.6483 - val_acc: 0.5514\n",
            "Epoch 29/500\n",
            "2/2 [==============================] - 0s 161ms/step - loss: 0.6063 - acc: 0.7122 - val_loss: 0.6113 - val_acc: 0.7850\n",
            "Epoch 30/500\n",
            "2/2 [==============================] - 0s 168ms/step - loss: 0.5823 - acc: 0.8162 - val_loss: 0.6441 - val_acc: 0.5701\n",
            "Epoch 31/500\n",
            "2/2 [==============================] - 0s 164ms/step - loss: 0.5977 - acc: 0.6621 - val_loss: 0.6711 - val_acc: 0.4393\n",
            "Epoch 32/500\n",
            "2/2 [==============================] - 0s 164ms/step - loss: 0.6007 - acc: 0.5156 - val_loss: 0.5791 - val_acc: 0.6822\n",
            "Epoch 33/500\n",
            "2/2 [==============================] - 0s 161ms/step - loss: 0.5562 - acc: 0.6750 - val_loss: 0.5647 - val_acc: 0.8879\n",
            "Epoch 34/500\n",
            "2/2 [==============================] - 0s 161ms/step - loss: 0.5173 - acc: 0.8477 - val_loss: 0.5359 - val_acc: 0.8131\n",
            "Epoch 35/500\n",
            "2/2 [==============================] - 0s 159ms/step - loss: 0.4991 - acc: 0.8346 - val_loss: 0.5194 - val_acc: 0.8131\n",
            "Epoch 36/500\n",
            "2/2 [==============================] - 0s 163ms/step - loss: 0.4768 - acc: 0.8200 - val_loss: 0.5320 - val_acc: 0.8692\n",
            "Epoch 37/500\n",
            "2/2 [==============================] - 0s 165ms/step - loss: 0.4591 - acc: 0.9279 - val_loss: 0.5049 - val_acc: 0.7570\n",
            "Epoch 38/500\n",
            "2/2 [==============================] - 0s 158ms/step - loss: 0.4414 - acc: 0.8208 - val_loss: 0.5001 - val_acc: 0.8505\n",
            "Epoch 39/500\n",
            "2/2 [==============================] - 0s 160ms/step - loss: 0.4105 - acc: 0.9151 - val_loss: 0.4363 - val_acc: 0.8598\n",
            "Epoch 40/500\n",
            "2/2 [==============================] - 0s 163ms/step - loss: 0.3838 - acc: 0.8798 - val_loss: 0.4755 - val_acc: 0.7570\n",
            "Epoch 41/500\n",
            "2/2 [==============================] - 0s 167ms/step - loss: 0.3946 - acc: 0.8190 - val_loss: 0.4501 - val_acc: 0.8411\n",
            "Epoch 42/500\n",
            "2/2 [==============================] - 0s 161ms/step - loss: 0.3851 - acc: 0.8713 - val_loss: 0.3840 - val_acc: 0.9065\n",
            "Epoch 43/500\n",
            "2/2 [==============================] - 0s 165ms/step - loss: 0.3185 - acc: 0.9317 - val_loss: 0.4254 - val_acc: 0.8037\n",
            "Epoch 44/500\n",
            "2/2 [==============================] - 0s 168ms/step - loss: 0.3312 - acc: 0.8465 - val_loss: 0.5901 - val_acc: 0.5701\n",
            "Epoch 45/500\n",
            "2/2 [==============================] - 0s 162ms/step - loss: 0.3945 - acc: 0.7759 - val_loss: 0.4515 - val_acc: 0.7850\n",
            "Epoch 46/500\n",
            "2/2 [==============================] - 0s 164ms/step - loss: 0.3490 - acc: 0.8471 - val_loss: 0.4634 - val_acc: 0.7103\n",
            "Epoch 47/500\n",
            "2/2 [==============================] - 0s 164ms/step - loss: 0.3089 - acc: 0.8892 - val_loss: 0.3699 - val_acc: 0.8505\n",
            "Epoch 48/500\n",
            "2/2 [==============================] - 0s 167ms/step - loss: 0.2851 - acc: 0.8755 - val_loss: 0.3440 - val_acc: 0.9065\n",
            "Epoch 49/500\n",
            "2/2 [==============================] - 0s 161ms/step - loss: 0.2476 - acc: 0.9608 - val_loss: 0.2955 - val_acc: 0.9159\n",
            "Epoch 50/500\n",
            "2/2 [==============================] - 0s 163ms/step - loss: 0.2199 - acc: 0.9290 - val_loss: 0.2894 - val_acc: 0.9065\n",
            "Epoch 51/500\n",
            "2/2 [==============================] - 0s 161ms/step - loss: 0.2016 - acc: 0.9444 - val_loss: 0.3065 - val_acc: 0.9065\n",
            "Epoch 52/500\n",
            "2/2 [==============================] - 0s 162ms/step - loss: 0.2003 - acc: 0.9568 - val_loss: 0.2870 - val_acc: 0.8972\n",
            "Epoch 53/500\n",
            "2/2 [==============================] - 0s 161ms/step - loss: 0.1886 - acc: 0.9192 - val_loss: 0.2947 - val_acc: 0.8879\n",
            "Epoch 54/500\n",
            "2/2 [==============================] - 0s 161ms/step - loss: 0.1847 - acc: 0.9624 - val_loss: 0.2594 - val_acc: 0.9065\n",
            "Epoch 55/500\n",
            "2/2 [==============================] - 0s 162ms/step - loss: 0.1642 - acc: 0.9299 - val_loss: 0.2517 - val_acc: 0.9159\n",
            "Epoch 56/500\n",
            "2/2 [==============================] - 0s 162ms/step - loss: 0.1474 - acc: 0.9804 - val_loss: 0.2355 - val_acc: 0.9252\n",
            "Epoch 57/500\n",
            "2/2 [==============================] - 0s 164ms/step - loss: 0.1460 - acc: 0.9388 - val_loss: 0.2227 - val_acc: 0.9252\n",
            "Epoch 58/500\n",
            "2/2 [==============================] - 0s 163ms/step - loss: 0.1228 - acc: 0.9758 - val_loss: 0.2145 - val_acc: 0.9252\n",
            "Epoch 59/500\n",
            "2/2 [==============================] - 0s 166ms/step - loss: 0.1196 - acc: 0.9647 - val_loss: 0.2249 - val_acc: 0.9252\n",
            "Epoch 60/500\n",
            "2/2 [==============================] - 0s 162ms/step - loss: 0.1151 - acc: 0.9824 - val_loss: 0.2105 - val_acc: 0.9346\n",
            "Epoch 61/500\n",
            "2/2 [==============================] - 0s 164ms/step - loss: 0.1097 - acc: 0.9517 - val_loss: 0.2072 - val_acc: 0.9346\n",
            "Epoch 62/500\n",
            "2/2 [==============================] - 0s 162ms/step - loss: 0.0952 - acc: 0.9871 - val_loss: 0.1991 - val_acc: 0.9346\n",
            "Epoch 63/500\n",
            "2/2 [==============================] - 0s 161ms/step - loss: 0.0973 - acc: 0.9759 - val_loss: 0.1873 - val_acc: 0.9252\n",
            "Epoch 64/500\n",
            "2/2 [==============================] - 0s 161ms/step - loss: 0.0862 - acc: 0.9696 - val_loss: 0.1927 - val_acc: 0.9346\n",
            "Epoch 65/500\n",
            "2/2 [==============================] - 0s 162ms/step - loss: 0.0877 - acc: 0.9906 - val_loss: 0.2279 - val_acc: 0.9159\n",
            "Epoch 66/500\n",
            "2/2 [==============================] - 0s 163ms/step - loss: 0.0943 - acc: 0.9549 - val_loss: 0.2658 - val_acc: 0.8879\n",
            "Epoch 67/500\n",
            "2/2 [==============================] - 0s 160ms/step - loss: 0.1041 - acc: 0.9649 - val_loss: 0.2374 - val_acc: 0.9159\n",
            "Epoch 68/500\n",
            "2/2 [==============================] - 0s 162ms/step - loss: 0.0996 - acc: 0.9510 - val_loss: 0.2158 - val_acc: 0.9252\n",
            "Epoch 69/500\n",
            "2/2 [==============================] - 0s 163ms/step - loss: 0.0861 - acc: 0.9684 - val_loss: 0.2406 - val_acc: 0.9159\n",
            "Epoch 70/500\n",
            "2/2 [==============================] - 0s 164ms/step - loss: 0.0984 - acc: 0.9558 - val_loss: 0.2293 - val_acc: 0.9159\n",
            "Epoch 71/500\n",
            "2/2 [==============================] - 0s 162ms/step - loss: 0.0824 - acc: 0.9716 - val_loss: 0.2233 - val_acc: 0.9159\n",
            "Epoch 72/500\n",
            "2/2 [==============================] - 0s 159ms/step - loss: 0.0791 - acc: 0.9685 - val_loss: 0.2203 - val_acc: 0.9346\n",
            "Epoch 73/500\n",
            "2/2 [==============================] - 0s 164ms/step - loss: 0.0731 - acc: 0.9926 - val_loss: 0.1872 - val_acc: 0.9346\n",
            "Epoch 74/500\n",
            "2/2 [==============================] - 0s 168ms/step - loss: 0.0646 - acc: 0.9710 - val_loss: 0.1592 - val_acc: 0.9533\n",
            "Epoch 75/500\n",
            "2/2 [==============================] - 0s 164ms/step - loss: 0.0532 - acc: 0.9947 - val_loss: 0.1764 - val_acc: 0.9439\n",
            "Epoch 76/500\n",
            "2/2 [==============================] - 0s 161ms/step - loss: 0.0504 - acc: 0.9966 - val_loss: 0.1836 - val_acc: 0.9346\n",
            "Epoch 77/500\n",
            "2/2 [==============================] - 0s 163ms/step - loss: 0.0502 - acc: 0.9784 - val_loss: 0.1542 - val_acc: 0.9626\n",
            "Epoch 78/500\n",
            "2/2 [==============================] - 0s 163ms/step - loss: 0.0445 - acc: 0.9980 - val_loss: 0.1578 - val_acc: 0.9439\n",
            "Epoch 79/500\n",
            "2/2 [==============================] - 0s 159ms/step - loss: 0.0416 - acc: 0.9986 - val_loss: 0.1820 - val_acc: 0.9439\n",
            "Epoch 80/500\n",
            "2/2 [==============================] - 0s 162ms/step - loss: 0.0439 - acc: 0.9879 - val_loss: 0.1490 - val_acc: 0.9626\n",
            "Epoch 81/500\n",
            "2/2 [==============================] - 0s 166ms/step - loss: 0.0383 - acc: 0.9993 - val_loss: 0.1509 - val_acc: 0.9533\n",
            "Epoch 82/500\n",
            "2/2 [==============================] - 0s 161ms/step - loss: 0.0365 - acc: 0.9987 - val_loss: 0.1726 - val_acc: 0.9439\n",
            "Epoch 83/500\n",
            "2/2 [==============================] - 0s 159ms/step - loss: 0.0373 - acc: 0.9940 - val_loss: 0.1486 - val_acc: 0.9626\n",
            "Epoch 84/500\n",
            "2/2 [==============================] - 0s 167ms/step - loss: 0.0294 - acc: 0.9993 - val_loss: 0.1494 - val_acc: 0.9533\n",
            "Epoch 85/500\n",
            "2/2 [==============================] - 0s 160ms/step - loss: 0.0316 - acc: 0.9987 - val_loss: 0.1541 - val_acc: 0.9533\n",
            "Epoch 86/500\n",
            "2/2 [==============================] - 0s 161ms/step - loss: 0.0287 - acc: 0.9979 - val_loss: 0.1523 - val_acc: 0.9533\n",
            "Epoch 87/500\n",
            "2/2 [==============================] - 0s 161ms/step - loss: 0.0279 - acc: 0.9987 - val_loss: 0.1468 - val_acc: 0.9533\n",
            "Epoch 88/500\n",
            "2/2 [==============================] - 0s 162ms/step - loss: 0.0286 - acc: 0.9987 - val_loss: 0.1496 - val_acc: 0.9533\n",
            "Epoch 89/500\n",
            "2/2 [==============================] - 0s 162ms/step - loss: 0.0256 - acc: 0.9987 - val_loss: 0.1533 - val_acc: 0.9533\n",
            "Epoch 90/500\n",
            "2/2 [==============================] - 0s 164ms/step - loss: 0.0232 - acc: 0.9993 - val_loss: 0.1417 - val_acc: 0.9533\n",
            "Epoch 91/500\n",
            "2/2 [==============================] - 0s 165ms/step - loss: 0.0221 - acc: 0.9993 - val_loss: 0.1412 - val_acc: 0.9720\n",
            "Epoch 92/500\n",
            "2/2 [==============================] - 0s 170ms/step - loss: 0.0191 - acc: 0.9993 - val_loss: 0.1515 - val_acc: 0.9533\n",
            "Epoch 93/500\n",
            "2/2 [==============================] - 0s 168ms/step - loss: 0.0212 - acc: 0.9987 - val_loss: 0.1405 - val_acc: 0.9720\n",
            "Epoch 94/500\n",
            "2/2 [==============================] - 0s 168ms/step - loss: 0.0202 - acc: 0.9987 - val_loss: 0.1411 - val_acc: 0.9720\n",
            "Epoch 95/500\n",
            "2/2 [==============================] - 0s 172ms/step - loss: 0.0187 - acc: 0.9987 - val_loss: 0.1498 - val_acc: 0.9533\n",
            "Epoch 96/500\n",
            "2/2 [==============================] - 0s 166ms/step - loss: 0.0188 - acc: 0.9987 - val_loss: 0.1389 - val_acc: 0.9720\n",
            "Epoch 97/500\n",
            "2/2 [==============================] - 0s 168ms/step - loss: 0.0174 - acc: 0.9987 - val_loss: 0.1395 - val_acc: 0.9720\n",
            "Epoch 98/500\n",
            "2/2 [==============================] - 0s 162ms/step - loss: 0.0158 - acc: 0.9993 - val_loss: 0.1483 - val_acc: 0.9533\n",
            "Epoch 99/500\n",
            "2/2 [==============================] - 0s 163ms/step - loss: 0.0155 - acc: 0.9993 - val_loss: 0.1414 - val_acc: 0.9720\n",
            "Epoch 100/500\n",
            "2/2 [==============================] - 0s 162ms/step - loss: 0.0141 - acc: 0.9993 - val_loss: 0.1405 - val_acc: 0.9720\n",
            "Epoch 101/500\n",
            "2/2 [==============================] - 0s 162ms/step - loss: 0.0144 - acc: 0.9987 - val_loss: 0.1424 - val_acc: 0.9626\n",
            "Epoch 102/500\n",
            "2/2 [==============================] - 0s 163ms/step - loss: 0.0131 - acc: 0.9993 - val_loss: 0.1425 - val_acc: 0.9626\n",
            "Epoch 103/500\n",
            "2/2 [==============================] - 0s 163ms/step - loss: 0.0128 - acc: 0.9993 - val_loss: 0.1387 - val_acc: 0.9720\n",
            "Epoch 104/500\n",
            "2/2 [==============================] - 0s 161ms/step - loss: 0.0126 - acc: 0.9993 - val_loss: 0.1408 - val_acc: 0.9720\n",
            "Epoch 105/500\n",
            "2/2 [==============================] - 0s 172ms/step - loss: 0.0113 - acc: 0.9993 - val_loss: 0.1418 - val_acc: 0.9720\n",
            "Epoch 106/500\n",
            "2/2 [==============================] - 0s 167ms/step - loss: 0.0109 - acc: 0.9993 - val_loss: 0.1407 - val_acc: 0.9720\n",
            "Epoch 107/500\n",
            "2/2 [==============================] - 0s 169ms/step - loss: 0.0117 - acc: 0.9987 - val_loss: 0.1408 - val_acc: 0.9720\n",
            "Epoch 108/500\n",
            "2/2 [==============================] - 0s 166ms/step - loss: 0.0114 - acc: 0.9987 - val_loss: 0.1425 - val_acc: 0.9626\n",
            "Epoch 109/500\n",
            "2/2 [==============================] - 0s 171ms/step - loss: 0.0103 - acc: 0.9993 - val_loss: 0.1390 - val_acc: 0.9720\n",
            "Epoch 110/500\n",
            "2/2 [==============================] - 0s 165ms/step - loss: 0.0099 - acc: 0.9993 - val_loss: 0.1422 - val_acc: 0.9720\n",
            "Epoch 111/500\n",
            "2/2 [==============================] - 0s 168ms/step - loss: 0.0101 - acc: 0.9987 - val_loss: 0.1442 - val_acc: 0.9626\n",
            "Epoch 112/500\n",
            "2/2 [==============================] - 0s 167ms/step - loss: 0.0095 - acc: 0.9987 - val_loss: 0.1395 - val_acc: 0.9720\n",
            "Epoch 113/500\n",
            "2/2 [==============================] - 0s 163ms/step - loss: 0.0086 - acc: 0.9987 - val_loss: 0.1406 - val_acc: 0.9720\n",
            "Epoch 114/500\n",
            "2/2 [==============================] - 0s 175ms/step - loss: 0.0081 - acc: 0.9993 - val_loss: 0.1455 - val_acc: 0.9720\n",
            "Epoch 115/500\n",
            "2/2 [==============================] - 0s 165ms/step - loss: 0.0083 - acc: 0.9987 - val_loss: 0.1413 - val_acc: 0.9720\n",
            "Epoch 116/500\n",
            "2/2 [==============================] - 0s 174ms/step - loss: 0.0076 - acc: 0.9993 - val_loss: 0.1450 - val_acc: 0.9720\n",
            "Epoch 117/500\n",
            "2/2 [==============================] - 0s 167ms/step - loss: 0.0077 - acc: 0.9987 - val_loss: 0.1432 - val_acc: 0.9720\n",
            "Epoch 118/500\n",
            "2/2 [==============================] - 0s 169ms/step - loss: 0.0065 - acc: 1.0000 - val_loss: 0.1409 - val_acc: 0.9720\n",
            "Epoch 119/500\n",
            "2/2 [==============================] - 0s 168ms/step - loss: 0.0068 - acc: 1.0000 - val_loss: 0.1456 - val_acc: 0.9720\n",
            "Epoch 120/500\n",
            "2/2 [==============================] - 0s 162ms/step - loss: 0.0060 - acc: 1.0000 - val_loss: 0.1455 - val_acc: 0.9720\n",
            "Epoch 121/500\n",
            "2/2 [==============================] - 0s 165ms/step - loss: 0.0062 - acc: 1.0000 - val_loss: 0.1408 - val_acc: 0.9720\n",
            "Epoch 122/500\n",
            "2/2 [==============================] - 0s 164ms/step - loss: 0.0060 - acc: 1.0000 - val_loss: 0.1434 - val_acc: 0.9720\n",
            "Epoch 123/500\n",
            "2/2 [==============================] - 0s 167ms/step - loss: 0.0060 - acc: 1.0000 - val_loss: 0.1495 - val_acc: 0.9720\n",
            "Epoch 124/500\n",
            "2/2 [==============================] - 0s 164ms/step - loss: 0.0057 - acc: 1.0000 - val_loss: 0.1498 - val_acc: 0.9720\n",
            "Epoch 125/500\n",
            "2/2 [==============================] - 0s 165ms/step - loss: 0.0052 - acc: 1.0000 - val_loss: 0.1505 - val_acc: 0.9720\n",
            "Epoch 126/500\n",
            "2/2 [==============================] - 0s 166ms/step - loss: 0.0047 - acc: 1.0000 - val_loss: 0.1476 - val_acc: 0.9720\n",
            "Epoch 127/500\n",
            "2/2 [==============================] - 0s 164ms/step - loss: 0.0048 - acc: 1.0000 - val_loss: 0.1490 - val_acc: 0.9720\n",
            "Epoch 128/500\n",
            "2/2 [==============================] - 0s 169ms/step - loss: 0.0048 - acc: 1.0000 - val_loss: 0.1541 - val_acc: 0.9720\n",
            "Epoch 129/500\n",
            "2/2 [==============================] - 0s 171ms/step - loss: 0.0043 - acc: 1.0000 - val_loss: 0.1453 - val_acc: 0.9720\n",
            "Epoch 130/500\n",
            "2/2 [==============================] - 0s 168ms/step - loss: 0.0048 - acc: 1.0000 - val_loss: 0.1449 - val_acc: 0.9720\n",
            "Epoch 131/500\n",
            "2/2 [==============================] - 0s 165ms/step - loss: 0.0045 - acc: 1.0000 - val_loss: 0.1666 - val_acc: 0.9626\n",
            "Epoch 132/500\n",
            "2/2 [==============================] - 0s 166ms/step - loss: 0.0045 - acc: 1.0000 - val_loss: 0.1507 - val_acc: 0.9720\n",
            "Epoch 133/500\n",
            "2/2 [==============================] - 0s 165ms/step - loss: 0.0039 - acc: 1.0000 - val_loss: 0.1469 - val_acc: 0.9720\n",
            "Epoch 134/500\n",
            "2/2 [==============================] - 0s 164ms/step - loss: 0.0039 - acc: 1.0000 - val_loss: 0.1599 - val_acc: 0.9720\n",
            "Epoch 135/500\n",
            "2/2 [==============================] - 0s 172ms/step - loss: 0.0035 - acc: 1.0000 - val_loss: 0.1563 - val_acc: 0.9720\n",
            "Epoch 136/500\n",
            "2/2 [==============================] - 0s 166ms/step - loss: 0.0035 - acc: 1.0000 - val_loss: 0.1476 - val_acc: 0.9720\n",
            "Epoch 137/500\n",
            "2/2 [==============================] - 0s 164ms/step - loss: 0.0034 - acc: 1.0000 - val_loss: 0.1521 - val_acc: 0.9720\n",
            "Epoch 138/500\n",
            "2/2 [==============================] - 0s 171ms/step - loss: 0.0029 - acc: 1.0000 - val_loss: 0.1637 - val_acc: 0.9720\n",
            "Epoch 139/500\n",
            "2/2 [==============================] - 0s 166ms/step - loss: 0.0031 - acc: 1.0000 - val_loss: 0.1539 - val_acc: 0.9720\n",
            "Epoch 140/500\n",
            "2/2 [==============================] - 0s 165ms/step - loss: 0.0028 - acc: 1.0000 - val_loss: 0.1555 - val_acc: 0.9720\n",
            "Epoch 141/500\n",
            "2/2 [==============================] - 0s 169ms/step - loss: 0.0025 - acc: 1.0000 - val_loss: 0.1603 - val_acc: 0.9720\n",
            "Epoch 142/500\n",
            "2/2 [==============================] - 0s 167ms/step - loss: 0.0023 - acc: 1.0000 - val_loss: 0.1594 - val_acc: 0.9720\n",
            "Epoch 143/500\n",
            "2/2 [==============================] - 0s 167ms/step - loss: 0.0025 - acc: 1.0000 - val_loss: 0.1596 - val_acc: 0.9720\n",
            "Epoch 144/500\n",
            "2/2 [==============================] - 0s 168ms/step - loss: 0.0022 - acc: 1.0000 - val_loss: 0.1622 - val_acc: 0.9720\n",
            "Epoch 145/500\n",
            "2/2 [==============================] - 0s 165ms/step - loss: 0.0024 - acc: 1.0000 - val_loss: 0.1602 - val_acc: 0.9720\n",
            "Epoch 146/500\n",
            "2/2 [==============================] - 0s 167ms/step - loss: 0.0023 - acc: 1.0000 - val_loss: 0.1634 - val_acc: 0.9720\n",
            "Epoch 147/500\n",
            "2/2 [==============================] - 0s 168ms/step - loss: 0.0021 - acc: 1.0000 - val_loss: 0.1648 - val_acc: 0.9720\n",
            "Epoch 148/500\n",
            "2/2 [==============================] - 0s 167ms/step - loss: 0.0020 - acc: 1.0000 - val_loss: 0.1621 - val_acc: 0.9720\n",
            "Epoch 149/500\n",
            "2/2 [==============================] - 0s 169ms/step - loss: 0.0020 - acc: 1.0000 - val_loss: 0.1599 - val_acc: 0.9720\n",
            "Epoch 150/500\n",
            "2/2 [==============================] - 0s 173ms/step - loss: 0.0019 - acc: 1.0000 - val_loss: 0.1655 - val_acc: 0.9720\n",
            "Epoch 151/500\n",
            "2/2 [==============================] - 0s 167ms/step - loss: 0.0018 - acc: 1.0000 - val_loss: 0.1666 - val_acc: 0.9720\n",
            "Epoch 152/500\n",
            "2/2 [==============================] - 0s 171ms/step - loss: 0.0019 - acc: 1.0000 - val_loss: 0.1632 - val_acc: 0.9720\n",
            "Epoch 153/500\n",
            "2/2 [==============================] - 0s 167ms/step - loss: 0.0018 - acc: 1.0000 - val_loss: 0.1648 - val_acc: 0.9720\n",
            "Epoch 154/500\n",
            "2/2 [==============================] - 0s 168ms/step - loss: 0.0018 - acc: 1.0000 - val_loss: 0.1707 - val_acc: 0.9720\n",
            "Epoch 155/500\n",
            "2/2 [==============================] - 0s 167ms/step - loss: 0.0017 - acc: 1.0000 - val_loss: 0.1692 - val_acc: 0.9720\n",
            "Epoch 156/500\n",
            "2/2 [==============================] - 0s 167ms/step - loss: 0.0016 - acc: 1.0000 - val_loss: 0.1653 - val_acc: 0.9720\n",
            "Epoch 157/500\n",
            "2/2 [==============================] - 0s 166ms/step - loss: 0.0016 - acc: 1.0000 - val_loss: 0.1662 - val_acc: 0.9720\n",
            "Epoch 158/500\n",
            "2/2 [==============================] - 0s 168ms/step - loss: 0.0015 - acc: 1.0000 - val_loss: 0.1723 - val_acc: 0.9720\n",
            "Epoch 159/500\n",
            "2/2 [==============================] - 0s 165ms/step - loss: 0.0015 - acc: 1.0000 - val_loss: 0.1716 - val_acc: 0.9720\n",
            "Epoch 160/500\n",
            "2/2 [==============================] - 0s 169ms/step - loss: 0.0015 - acc: 1.0000 - val_loss: 0.1685 - val_acc: 0.9720\n",
            "Epoch 161/500\n",
            "2/2 [==============================] - 0s 169ms/step - loss: 0.0014 - acc: 1.0000 - val_loss: 0.1697 - val_acc: 0.9720\n",
            "Epoch 162/500\n",
            "2/2 [==============================] - 0s 168ms/step - loss: 0.0014 - acc: 1.0000 - val_loss: 0.1759 - val_acc: 0.9720\n",
            "Epoch 163/500\n",
            "2/2 [==============================] - 0s 168ms/step - loss: 0.0013 - acc: 1.0000 - val_loss: 0.1737 - val_acc: 0.9720\n",
            "Epoch 164/500\n",
            "2/2 [==============================] - 0s 165ms/step - loss: 0.0014 - acc: 1.0000 - val_loss: 0.1691 - val_acc: 0.9720\n",
            "Epoch 165/500\n",
            "2/2 [==============================] - 0s 163ms/step - loss: 0.0013 - acc: 1.0000 - val_loss: 0.1748 - val_acc: 0.9720\n",
            "Epoch 166/500\n",
            "2/2 [==============================] - 0s 167ms/step - loss: 0.0012 - acc: 1.0000 - val_loss: 0.1786 - val_acc: 0.9720\n",
            "Epoch 167/500\n",
            "2/2 [==============================] - 0s 171ms/step - loss: 0.0012 - acc: 1.0000 - val_loss: 0.1740 - val_acc: 0.9720\n",
            "Epoch 168/500\n",
            "2/2 [==============================] - 0s 172ms/step - loss: 0.0012 - acc: 1.0000 - val_loss: 0.1734 - val_acc: 0.9720\n",
            "Epoch 169/500\n",
            "2/2 [==============================] - 0s 173ms/step - loss: 0.0011 - acc: 1.0000 - val_loss: 0.1796 - val_acc: 0.9720\n",
            "Epoch 170/500\n",
            "2/2 [==============================] - 0s 171ms/step - loss: 0.0011 - acc: 1.0000 - val_loss: 0.1807 - val_acc: 0.9720\n",
            "Epoch 171/500\n",
            "2/2 [==============================] - 0s 170ms/step - loss: 0.0011 - acc: 1.0000 - val_loss: 0.1754 - val_acc: 0.9720\n",
            "Epoch 172/500\n",
            "2/2 [==============================] - 0s 174ms/step - loss: 0.0011 - acc: 1.0000 - val_loss: 0.1759 - val_acc: 0.9720\n",
            "Epoch 173/500\n",
            "2/2 [==============================] - 0s 169ms/step - loss: 0.0010 - acc: 1.0000 - val_loss: 0.1807 - val_acc: 0.9720\n",
            "Epoch 174/500\n",
            "2/2 [==============================] - 0s 169ms/step - loss: 9.6955e-04 - acc: 1.0000 - val_loss: 0.1793 - val_acc: 0.9720\n",
            "Epoch 175/500\n",
            "2/2 [==============================] - 0s 169ms/step - loss: 9.4383e-04 - acc: 1.0000 - val_loss: 0.1774 - val_acc: 0.9720\n",
            "Epoch 176/500\n",
            "2/2 [==============================] - 0s 182ms/step - loss: 9.5539e-04 - acc: 1.0000 - val_loss: 0.1797 - val_acc: 0.9720\n",
            "Epoch 177/500\n",
            "2/2 [==============================] - 0s 171ms/step - loss: 8.6605e-04 - acc: 1.0000 - val_loss: 0.1791 - val_acc: 0.9720\n",
            "Epoch 178/500\n",
            "2/2 [==============================] - 0s 175ms/step - loss: 9.0111e-04 - acc: 1.0000 - val_loss: 0.1798 - val_acc: 0.9720\n",
            "Epoch 179/500\n",
            "2/2 [==============================] - 0s 175ms/step - loss: 8.4020e-04 - acc: 1.0000 - val_loss: 0.1823 - val_acc: 0.9720\n",
            "Epoch 180/500\n",
            "2/2 [==============================] - 0s 170ms/step - loss: 8.3891e-04 - acc: 1.0000 - val_loss: 0.1812 - val_acc: 0.9720\n",
            "Epoch 181/500\n",
            "2/2 [==============================] - 0s 175ms/step - loss: 8.1802e-04 - acc: 1.0000 - val_loss: 0.1799 - val_acc: 0.9720\n",
            "Epoch 182/500\n",
            "2/2 [==============================] - 0s 170ms/step - loss: 7.9219e-04 - acc: 1.0000 - val_loss: 0.1837 - val_acc: 0.9720\n",
            "Epoch 183/500\n",
            "2/2 [==============================] - 0s 176ms/step - loss: 7.0466e-04 - acc: 1.0000 - val_loss: 0.1844 - val_acc: 0.9720\n",
            "Epoch 184/500\n",
            "2/2 [==============================] - 0s 170ms/step - loss: 7.5998e-04 - acc: 1.0000 - val_loss: 0.1844 - val_acc: 0.9720\n",
            "Epoch 185/500\n",
            "2/2 [==============================] - 0s 171ms/step - loss: 7.2233e-04 - acc: 1.0000 - val_loss: 0.1831 - val_acc: 0.9720\n",
            "Epoch 186/500\n",
            "2/2 [==============================] - 0s 174ms/step - loss: 7.7586e-04 - acc: 1.0000 - val_loss: 0.1832 - val_acc: 0.9720\n",
            "Epoch 187/500\n",
            "2/2 [==============================] - 0s 165ms/step - loss: 7.0559e-04 - acc: 1.0000 - val_loss: 0.1862 - val_acc: 0.9720\n",
            "Epoch 188/500\n",
            "2/2 [==============================] - 0s 168ms/step - loss: 6.6448e-04 - acc: 1.0000 - val_loss: 0.1874 - val_acc: 0.9720\n",
            "Epoch 189/500\n",
            "2/2 [==============================] - 0s 169ms/step - loss: 6.5898e-04 - acc: 1.0000 - val_loss: 0.1839 - val_acc: 0.9720\n",
            "Epoch 190/500\n",
            "2/2 [==============================] - 0s 167ms/step - loss: 6.9640e-04 - acc: 1.0000 - val_loss: 0.1855 - val_acc: 0.9720\n",
            "Epoch 191/500\n",
            "2/2 [==============================] - 0s 167ms/step - loss: 6.6579e-04 - acc: 1.0000 - val_loss: 0.1892 - val_acc: 0.9720\n",
            "Epoch 192/500\n",
            "2/2 [==============================] - 0s 166ms/step - loss: 6.6537e-04 - acc: 1.0000 - val_loss: 0.1888 - val_acc: 0.9720\n",
            "Epoch 193/500\n",
            "2/2 [==============================] - 0s 165ms/step - loss: 6.2772e-04 - acc: 1.0000 - val_loss: 0.1889 - val_acc: 0.9720\n",
            "Epoch 194/500\n",
            "2/2 [==============================] - 0s 165ms/step - loss: 6.0388e-04 - acc: 1.0000 - val_loss: 0.1882 - val_acc: 0.9720\n",
            "Epoch 195/500\n",
            "2/2 [==============================] - 0s 168ms/step - loss: 5.5953e-04 - acc: 1.0000 - val_loss: 0.1875 - val_acc: 0.9720\n",
            "Epoch 196/500\n",
            "2/2 [==============================] - 0s 162ms/step - loss: 5.3966e-04 - acc: 1.0000 - val_loss: 0.1903 - val_acc: 0.9720\n",
            "Epoch 197/500\n",
            "2/2 [==============================] - 0s 167ms/step - loss: 5.4297e-04 - acc: 1.0000 - val_loss: 0.1915 - val_acc: 0.9720\n",
            "Epoch 198/500\n",
            "2/2 [==============================] - 0s 168ms/step - loss: 5.3252e-04 - acc: 1.0000 - val_loss: 0.1890 - val_acc: 0.9720\n",
            "Epoch 199/500\n",
            "2/2 [==============================] - 0s 167ms/step - loss: 5.2470e-04 - acc: 1.0000 - val_loss: 0.1893 - val_acc: 0.9720\n",
            "Epoch 200/500\n",
            "2/2 [==============================] - 0s 168ms/step - loss: 5.2016e-04 - acc: 1.0000 - val_loss: 0.1930 - val_acc: 0.9720\n",
            "Epoch 201/500\n",
            "2/2 [==============================] - 0s 170ms/step - loss: 5.3530e-04 - acc: 1.0000 - val_loss: 0.1919 - val_acc: 0.9720\n",
            "Epoch 202/500\n",
            "2/2 [==============================] - 0s 170ms/step - loss: 5.1290e-04 - acc: 1.0000 - val_loss: 0.1936 - val_acc: 0.9720\n",
            "Epoch 203/500\n",
            "2/2 [==============================] - 0s 169ms/step - loss: 4.7920e-04 - acc: 1.0000 - val_loss: 0.1940 - val_acc: 0.9720\n",
            "Epoch 204/500\n",
            "2/2 [==============================] - 0s 168ms/step - loss: 4.7715e-04 - acc: 1.0000 - val_loss: 0.1918 - val_acc: 0.9720\n",
            "Epoch 205/500\n",
            "2/2 [==============================] - 0s 165ms/step - loss: 4.7413e-04 - acc: 1.0000 - val_loss: 0.1950 - val_acc: 0.9720\n",
            "Epoch 206/500\n",
            "2/2 [==============================] - 0s 168ms/step - loss: 4.7166e-04 - acc: 1.0000 - val_loss: 0.1953 - val_acc: 0.9720\n",
            "Epoch 207/500\n",
            "2/2 [==============================] - 0s 171ms/step - loss: 4.5728e-04 - acc: 1.0000 - val_loss: 0.1907 - val_acc: 0.9720\n",
            "Epoch 208/500\n",
            "2/2 [==============================] - 0s 168ms/step - loss: 4.3187e-04 - acc: 1.0000 - val_loss: 0.1920 - val_acc: 0.9720\n",
            "Epoch 209/500\n",
            "2/2 [==============================] - 0s 170ms/step - loss: 4.3316e-04 - acc: 1.0000 - val_loss: 0.1950 - val_acc: 0.9720\n",
            "Epoch 210/500\n",
            "2/2 [==============================] - 0s 171ms/step - loss: 4.2145e-04 - acc: 1.0000 - val_loss: 0.1963 - val_acc: 0.9720\n",
            "Epoch 211/500\n",
            "2/2 [==============================] - 0s 164ms/step - loss: 3.9856e-04 - acc: 1.0000 - val_loss: 0.1950 - val_acc: 0.9720\n",
            "Epoch 212/500\n",
            "2/2 [==============================] - 0s 164ms/step - loss: 4.0106e-04 - acc: 1.0000 - val_loss: 0.1958 - val_acc: 0.9720\n",
            "Epoch 213/500\n",
            "2/2 [==============================] - 0s 172ms/step - loss: 3.9960e-04 - acc: 1.0000 - val_loss: 0.1976 - val_acc: 0.9720\n",
            "Epoch 214/500\n",
            "2/2 [==============================] - 0s 169ms/step - loss: 4.0069e-04 - acc: 1.0000 - val_loss: 0.1974 - val_acc: 0.9720\n",
            "Epoch 215/500\n",
            "2/2 [==============================] - 0s 167ms/step - loss: 3.8940e-04 - acc: 1.0000 - val_loss: 0.1948 - val_acc: 0.9720\n",
            "Epoch 216/500\n",
            "2/2 [==============================] - 0s 167ms/step - loss: 3.4633e-04 - acc: 1.0000 - val_loss: 0.1969 - val_acc: 0.9720\n",
            "Epoch 217/500\n",
            "2/2 [==============================] - 0s 167ms/step - loss: 3.6614e-04 - acc: 1.0000 - val_loss: 0.2002 - val_acc: 0.9720\n",
            "Epoch 218/500\n",
            "2/2 [==============================] - 0s 171ms/step - loss: 3.6849e-04 - acc: 1.0000 - val_loss: 0.1970 - val_acc: 0.9720\n",
            "Epoch 219/500\n",
            "2/2 [==============================] - 0s 166ms/step - loss: 3.6959e-04 - acc: 1.0000 - val_loss: 0.1971 - val_acc: 0.9720\n",
            "Epoch 220/500\n",
            "2/2 [==============================] - 0s 166ms/step - loss: 3.5011e-04 - acc: 1.0000 - val_loss: 0.2011 - val_acc: 0.9720\n",
            "Epoch 221/500\n",
            "2/2 [==============================] - 0s 173ms/step - loss: 3.1268e-04 - acc: 1.0000 - val_loss: 0.2002 - val_acc: 0.9720\n",
            "Epoch 222/500\n",
            "2/2 [==============================] - 0s 164ms/step - loss: 3.6395e-04 - acc: 1.0000 - val_loss: 0.1973 - val_acc: 0.9720\n",
            "Epoch 223/500\n",
            "2/2 [==============================] - 0s 166ms/step - loss: 3.1829e-04 - acc: 1.0000 - val_loss: 0.2005 - val_acc: 0.9720\n",
            "Epoch 224/500\n",
            "2/2 [==============================] - 0s 169ms/step - loss: 3.3118e-04 - acc: 1.0000 - val_loss: 0.2042 - val_acc: 0.9720\n",
            "Epoch 225/500\n",
            "2/2 [==============================] - 0s 167ms/step - loss: 3.2028e-04 - acc: 1.0000 - val_loss: 0.2009 - val_acc: 0.9720\n",
            "Epoch 226/500\n",
            "2/2 [==============================] - 0s 170ms/step - loss: 3.0367e-04 - acc: 1.0000 - val_loss: 0.1987 - val_acc: 0.9720\n",
            "Epoch 227/500\n",
            "2/2 [==============================] - 0s 172ms/step - loss: 3.0156e-04 - acc: 1.0000 - val_loss: 0.2012 - val_acc: 0.9720\n",
            "Epoch 228/500\n",
            "2/2 [==============================] - 0s 168ms/step - loss: 3.0103e-04 - acc: 1.0000 - val_loss: 0.2063 - val_acc: 0.9720\n",
            "Epoch 229/500\n",
            "2/2 [==============================] - 0s 171ms/step - loss: 2.8362e-04 - acc: 1.0000 - val_loss: 0.2036 - val_acc: 0.9720\n",
            "Epoch 230/500\n",
            "2/2 [==============================] - 0s 170ms/step - loss: 2.7818e-04 - acc: 1.0000 - val_loss: 0.1985 - val_acc: 0.9720\n",
            "Epoch 231/500\n",
            "2/2 [==============================] - 0s 169ms/step - loss: 2.8235e-04 - acc: 1.0000 - val_loss: 0.1992 - val_acc: 0.9720\n",
            "Epoch 232/500\n",
            "2/2 [==============================] - 0s 165ms/step - loss: 2.7715e-04 - acc: 1.0000 - val_loss: 0.2042 - val_acc: 0.9720\n",
            "Epoch 233/500\n",
            "2/2 [==============================] - 0s 166ms/step - loss: 2.7796e-04 - acc: 1.0000 - val_loss: 0.2066 - val_acc: 0.9720\n",
            "Epoch 234/500\n",
            "2/2 [==============================] - 0s 170ms/step - loss: 2.5444e-04 - acc: 1.0000 - val_loss: 0.2051 - val_acc: 0.9720\n",
            "Epoch 235/500\n",
            "2/2 [==============================] - 0s 170ms/step - loss: 2.4556e-04 - acc: 1.0000 - val_loss: 0.2027 - val_acc: 0.9720\n",
            "Epoch 236/500\n",
            "2/2 [==============================] - 0s 167ms/step - loss: 2.5417e-04 - acc: 1.0000 - val_loss: 0.2032 - val_acc: 0.9720\n",
            "Epoch 237/500\n",
            "2/2 [==============================] - 0s 165ms/step - loss: 2.4975e-04 - acc: 1.0000 - val_loss: 0.2057 - val_acc: 0.9720\n",
            "Epoch 238/500\n",
            "2/2 [==============================] - 0s 171ms/step - loss: 2.5611e-04 - acc: 1.0000 - val_loss: 0.2061 - val_acc: 0.9720\n",
            "Epoch 239/500\n",
            "2/2 [==============================] - 0s 164ms/step - loss: 2.5536e-04 - acc: 1.0000 - val_loss: 0.2043 - val_acc: 0.9720\n",
            "Epoch 240/500\n",
            "2/2 [==============================] - 0s 165ms/step - loss: 2.2767e-04 - acc: 1.0000 - val_loss: 0.2043 - val_acc: 0.9720\n",
            "Epoch 241/500\n",
            "2/2 [==============================] - 0s 169ms/step - loss: 2.2934e-04 - acc: 1.0000 - val_loss: 0.2053 - val_acc: 0.9720\n",
            "Epoch 242/500\n",
            "2/2 [==============================] - 0s 173ms/step - loss: 2.4544e-04 - acc: 1.0000 - val_loss: 0.2074 - val_acc: 0.9720\n",
            "Epoch 243/500\n",
            "2/2 [==============================] - 0s 167ms/step - loss: 2.3410e-04 - acc: 1.0000 - val_loss: 0.2075 - val_acc: 0.9720\n",
            "Epoch 244/500\n",
            "2/2 [==============================] - 0s 170ms/step - loss: 2.4045e-04 - acc: 1.0000 - val_loss: 0.2067 - val_acc: 0.9720\n",
            "Epoch 245/500\n",
            "2/2 [==============================] - 0s 166ms/step - loss: 2.3874e-04 - acc: 1.0000 - val_loss: 0.2076 - val_acc: 0.9720\n",
            "Epoch 246/500\n",
            "2/2 [==============================] - 0s 177ms/step - loss: 2.2586e-04 - acc: 1.0000 - val_loss: 0.2079 - val_acc: 0.9720\n",
            "Epoch 247/500\n",
            "2/2 [==============================] - 0s 171ms/step - loss: 2.1948e-04 - acc: 1.0000 - val_loss: 0.2086 - val_acc: 0.9720\n",
            "Epoch 248/500\n",
            "2/2 [==============================] - 0s 172ms/step - loss: 2.1589e-04 - acc: 1.0000 - val_loss: 0.2086 - val_acc: 0.9720\n",
            "Epoch 249/500\n",
            "2/2 [==============================] - 0s 169ms/step - loss: 2.1941e-04 - acc: 1.0000 - val_loss: 0.2081 - val_acc: 0.9720\n",
            "Epoch 250/500\n",
            "2/2 [==============================] - 0s 172ms/step - loss: 2.1205e-04 - acc: 1.0000 - val_loss: 0.2085 - val_acc: 0.9720\n",
            "Epoch 251/500\n",
            "2/2 [==============================] - 0s 169ms/step - loss: 2.0856e-04 - acc: 1.0000 - val_loss: 0.2086 - val_acc: 0.9720\n",
            "Epoch 252/500\n",
            "2/2 [==============================] - 0s 168ms/step - loss: 1.9612e-04 - acc: 1.0000 - val_loss: 0.2090 - val_acc: 0.9720\n",
            "Epoch 253/500\n",
            "2/2 [==============================] - 0s 168ms/step - loss: 2.0458e-04 - acc: 1.0000 - val_loss: 0.2092 - val_acc: 0.9720\n",
            "Epoch 254/500\n",
            "2/2 [==============================] - 0s 172ms/step - loss: 2.0175e-04 - acc: 1.0000 - val_loss: 0.2113 - val_acc: 0.9720\n",
            "Epoch 255/500\n",
            "2/2 [==============================] - 0s 168ms/step - loss: 1.9827e-04 - acc: 1.0000 - val_loss: 0.2118 - val_acc: 0.9720\n",
            "Epoch 256/500\n",
            "2/2 [==============================] - 0s 172ms/step - loss: 2.0115e-04 - acc: 1.0000 - val_loss: 0.2095 - val_acc: 0.9720\n",
            "Epoch 257/500\n",
            "2/2 [==============================] - 0s 167ms/step - loss: 1.9151e-04 - acc: 1.0000 - val_loss: 0.2096 - val_acc: 0.9720\n",
            "Epoch 258/500\n",
            "2/2 [==============================] - 0s 169ms/step - loss: 1.8318e-04 - acc: 1.0000 - val_loss: 0.2099 - val_acc: 0.9720\n",
            "Epoch 259/500\n",
            "2/2 [==============================] - 0s 166ms/step - loss: 1.7268e-04 - acc: 1.0000 - val_loss: 0.2111 - val_acc: 0.9720\n",
            "Epoch 260/500\n",
            "2/2 [==============================] - 0s 170ms/step - loss: 1.6962e-04 - acc: 1.0000 - val_loss: 0.2126 - val_acc: 0.9720\n",
            "Epoch 261/500\n",
            "2/2 [==============================] - 0s 167ms/step - loss: 1.8099e-04 - acc: 1.0000 - val_loss: 0.2127 - val_acc: 0.9720\n",
            "Epoch 262/500\n",
            "2/2 [==============================] - 0s 176ms/step - loss: 1.7187e-04 - acc: 1.0000 - val_loss: 0.2119 - val_acc: 0.9720\n",
            "Epoch 263/500\n",
            "2/2 [==============================] - 0s 168ms/step - loss: 1.8227e-04 - acc: 1.0000 - val_loss: 0.2117 - val_acc: 0.9720\n",
            "Epoch 264/500\n",
            "2/2 [==============================] - 0s 172ms/step - loss: 1.7607e-04 - acc: 1.0000 - val_loss: 0.2139 - val_acc: 0.9720\n",
            "Epoch 265/500\n",
            "2/2 [==============================] - 0s 167ms/step - loss: 1.7480e-04 - acc: 1.0000 - val_loss: 0.2132 - val_acc: 0.9720\n",
            "Epoch 266/500\n",
            "2/2 [==============================] - 0s 169ms/step - loss: 1.8241e-04 - acc: 1.0000 - val_loss: 0.2114 - val_acc: 0.9720\n",
            "Epoch 267/500\n",
            "2/2 [==============================] - 0s 170ms/step - loss: 1.7267e-04 - acc: 1.0000 - val_loss: 0.2120 - val_acc: 0.9720\n",
            "Epoch 268/500\n",
            "2/2 [==============================] - 0s 170ms/step - loss: 1.7917e-04 - acc: 1.0000 - val_loss: 0.2145 - val_acc: 0.9720\n",
            "Epoch 269/500\n",
            "2/2 [==============================] - 0s 165ms/step - loss: 1.5955e-04 - acc: 1.0000 - val_loss: 0.2157 - val_acc: 0.9720\n",
            "Epoch 270/500\n",
            "2/2 [==============================] - 0s 169ms/step - loss: 1.6130e-04 - acc: 1.0000 - val_loss: 0.2133 - val_acc: 0.9720\n",
            "Epoch 271/500\n",
            "2/2 [==============================] - 0s 176ms/step - loss: 1.5688e-04 - acc: 1.0000 - val_loss: 0.2130 - val_acc: 0.9720\n",
            "Epoch 272/500\n",
            "2/2 [==============================] - 0s 170ms/step - loss: 1.7083e-04 - acc: 1.0000 - val_loss: 0.2148 - val_acc: 0.9720\n",
            "Epoch 273/500\n",
            "2/2 [==============================] - 0s 167ms/step - loss: 1.5251e-04 - acc: 1.0000 - val_loss: 0.2157 - val_acc: 0.9720\n",
            "Epoch 274/500\n",
            "2/2 [==============================] - 0s 170ms/step - loss: 1.5137e-04 - acc: 1.0000 - val_loss: 0.2156 - val_acc: 0.9720\n",
            "Epoch 275/500\n",
            "2/2 [==============================] - 0s 172ms/step - loss: 1.4984e-04 - acc: 1.0000 - val_loss: 0.2148 - val_acc: 0.9720\n",
            "Epoch 276/500\n",
            "2/2 [==============================] - 0s 169ms/step - loss: 1.5072e-04 - acc: 1.0000 - val_loss: 0.2138 - val_acc: 0.9720\n",
            "Epoch 277/500\n",
            "2/2 [==============================] - 0s 168ms/step - loss: 1.5663e-04 - acc: 1.0000 - val_loss: 0.2151 - val_acc: 0.9720\n",
            "Epoch 278/500\n",
            "2/2 [==============================] - 0s 198ms/step - loss: 1.4876e-04 - acc: 1.0000 - val_loss: 0.2168 - val_acc: 0.9720\n",
            "Epoch 279/500\n",
            "2/2 [==============================] - 0s 167ms/step - loss: 1.4857e-04 - acc: 1.0000 - val_loss: 0.2179 - val_acc: 0.9720\n",
            "Epoch 280/500\n",
            "2/2 [==============================] - 0s 166ms/step - loss: 1.4844e-04 - acc: 1.0000 - val_loss: 0.2164 - val_acc: 0.9720\n",
            "Epoch 281/500\n",
            "2/2 [==============================] - 0s 174ms/step - loss: 1.5533e-04 - acc: 1.0000 - val_loss: 0.2151 - val_acc: 0.9720\n",
            "Epoch 282/500\n",
            "2/2 [==============================] - 0s 179ms/step - loss: 1.5025e-04 - acc: 1.0000 - val_loss: 0.2157 - val_acc: 0.9720\n",
            "Epoch 283/500\n",
            "2/2 [==============================] - 0s 173ms/step - loss: 1.3779e-04 - acc: 1.0000 - val_loss: 0.2178 - val_acc: 0.9720\n",
            "Epoch 284/500\n",
            "2/2 [==============================] - 0s 169ms/step - loss: 1.3719e-04 - acc: 1.0000 - val_loss: 0.2181 - val_acc: 0.9720\n",
            "Epoch 285/500\n",
            "2/2 [==============================] - 0s 168ms/step - loss: 1.4076e-04 - acc: 1.0000 - val_loss: 0.2175 - val_acc: 0.9720\n",
            "Epoch 286/500\n",
            "2/2 [==============================] - 0s 167ms/step - loss: 1.3868e-04 - acc: 1.0000 - val_loss: 0.2174 - val_acc: 0.9720\n",
            "Epoch 287/500\n",
            "2/2 [==============================] - 0s 170ms/step - loss: 1.3952e-04 - acc: 1.0000 - val_loss: 0.2181 - val_acc: 0.9720\n",
            "Epoch 288/500\n",
            "2/2 [==============================] - 0s 169ms/step - loss: 1.3481e-04 - acc: 1.0000 - val_loss: 0.2185 - val_acc: 0.9720\n",
            "Epoch 289/500\n",
            "2/2 [==============================] - 0s 164ms/step - loss: 1.3266e-04 - acc: 1.0000 - val_loss: 0.2181 - val_acc: 0.9720\n",
            "Epoch 290/500\n",
            "2/2 [==============================] - 0s 171ms/step - loss: 1.3130e-04 - acc: 1.0000 - val_loss: 0.2187 - val_acc: 0.9720\n",
            "Epoch 291/500\n",
            "2/2 [==============================] - 0s 168ms/step - loss: 1.2247e-04 - acc: 1.0000 - val_loss: 0.2188 - val_acc: 0.9720\n",
            "Epoch 292/500\n",
            "2/2 [==============================] - 0s 170ms/step - loss: 1.3470e-04 - acc: 1.0000 - val_loss: 0.2184 - val_acc: 0.9720\n",
            "Epoch 293/500\n",
            "2/2 [==============================] - 0s 170ms/step - loss: 1.2285e-04 - acc: 1.0000 - val_loss: 0.2198 - val_acc: 0.9720\n",
            "Epoch 294/500\n",
            "2/2 [==============================] - 0s 168ms/step - loss: 1.3184e-04 - acc: 1.0000 - val_loss: 0.2197 - val_acc: 0.9720\n",
            "Epoch 295/500\n",
            "2/2 [==============================] - 0s 174ms/step - loss: 1.2553e-04 - acc: 1.0000 - val_loss: 0.2197 - val_acc: 0.9720\n",
            "Epoch 296/500\n",
            "2/2 [==============================] - 0s 163ms/step - loss: 1.2479e-04 - acc: 1.0000 - val_loss: 0.2199 - val_acc: 0.9720\n",
            "Epoch 297/500\n",
            "2/2 [==============================] - 0s 169ms/step - loss: 1.2098e-04 - acc: 1.0000 - val_loss: 0.2211 - val_acc: 0.9720\n",
            "Epoch 298/500\n",
            "2/2 [==============================] - 0s 169ms/step - loss: 1.2440e-04 - acc: 1.0000 - val_loss: 0.2213 - val_acc: 0.9720\n",
            "Epoch 299/500\n",
            "2/2 [==============================] - 0s 171ms/step - loss: 1.2583e-04 - acc: 1.0000 - val_loss: 0.2213 - val_acc: 0.9720\n",
            "Epoch 300/500\n",
            "2/2 [==============================] - 0s 169ms/step - loss: 1.2280e-04 - acc: 1.0000 - val_loss: 0.2209 - val_acc: 0.9720\n",
            "Epoch 301/500\n",
            "2/2 [==============================] - 0s 167ms/step - loss: 1.1980e-04 - acc: 1.0000 - val_loss: 0.2205 - val_acc: 0.9720\n",
            "Epoch 302/500\n",
            "2/2 [==============================] - 0s 171ms/step - loss: 1.1734e-04 - acc: 1.0000 - val_loss: 0.2202 - val_acc: 0.9720\n",
            "Epoch 303/500\n",
            "2/2 [==============================] - 0s 169ms/step - loss: 1.1685e-04 - acc: 1.0000 - val_loss: 0.2208 - val_acc: 0.9720\n",
            "Epoch 304/500\n",
            "2/2 [==============================] - 0s 169ms/step - loss: 1.1223e-04 - acc: 1.0000 - val_loss: 0.2223 - val_acc: 0.9720\n",
            "Epoch 305/500\n",
            "2/2 [==============================] - 0s 174ms/step - loss: 1.0744e-04 - acc: 1.0000 - val_loss: 0.2231 - val_acc: 0.9720\n",
            "Epoch 306/500\n",
            "2/2 [==============================] - 0s 167ms/step - loss: 1.1410e-04 - acc: 1.0000 - val_loss: 0.2225 - val_acc: 0.9720\n",
            "Epoch 307/500\n",
            "2/2 [==============================] - 0s 169ms/step - loss: 1.0808e-04 - acc: 1.0000 - val_loss: 0.2228 - val_acc: 0.9720\n",
            "Epoch 308/500\n",
            "2/2 [==============================] - 0s 178ms/step - loss: 1.0943e-04 - acc: 1.0000 - val_loss: 0.2227 - val_acc: 0.9720\n",
            "Epoch 309/500\n",
            "2/2 [==============================] - 0s 171ms/step - loss: 1.0938e-04 - acc: 1.0000 - val_loss: 0.2222 - val_acc: 0.9720\n",
            "Epoch 310/500\n",
            "2/2 [==============================] - 0s 171ms/step - loss: 1.1591e-04 - acc: 1.0000 - val_loss: 0.2228 - val_acc: 0.9720\n",
            "Epoch 311/500\n",
            "2/2 [==============================] - 0s 172ms/step - loss: 1.0411e-04 - acc: 1.0000 - val_loss: 0.2234 - val_acc: 0.9720\n",
            "Epoch 312/500\n",
            "2/2 [==============================] - 0s 170ms/step - loss: 1.0879e-04 - acc: 1.0000 - val_loss: 0.2244 - val_acc: 0.9720\n",
            "Epoch 313/500\n",
            "2/2 [==============================] - 0s 166ms/step - loss: 1.1430e-04 - acc: 1.0000 - val_loss: 0.2244 - val_acc: 0.9720\n",
            "Epoch 314/500\n",
            "2/2 [==============================] - 0s 169ms/step - loss: 1.0536e-04 - acc: 1.0000 - val_loss: 0.2240 - val_acc: 0.9720\n",
            "Epoch 315/500\n",
            "2/2 [==============================] - 0s 170ms/step - loss: 1.0343e-04 - acc: 1.0000 - val_loss: 0.2244 - val_acc: 0.9720\n",
            "Epoch 316/500\n",
            "2/2 [==============================] - 0s 170ms/step - loss: 1.0075e-04 - acc: 1.0000 - val_loss: 0.2248 - val_acc: 0.9720\n",
            "Epoch 317/500\n",
            "2/2 [==============================] - 0s 172ms/step - loss: 1.0633e-04 - acc: 1.0000 - val_loss: 0.2238 - val_acc: 0.9720\n",
            "Epoch 318/500\n",
            "2/2 [==============================] - 0s 171ms/step - loss: 1.0358e-04 - acc: 1.0000 - val_loss: 0.2245 - val_acc: 0.9720\n",
            "Epoch 319/500\n",
            "2/2 [==============================] - 0s 168ms/step - loss: 1.0064e-04 - acc: 1.0000 - val_loss: 0.2253 - val_acc: 0.9720\n",
            "Epoch 320/500\n",
            "2/2 [==============================] - 0s 171ms/step - loss: 9.9889e-05 - acc: 1.0000 - val_loss: 0.2257 - val_acc: 0.9720\n",
            "Epoch 321/500\n",
            "2/2 [==============================] - 0s 169ms/step - loss: 9.9063e-05 - acc: 1.0000 - val_loss: 0.2252 - val_acc: 0.9720\n",
            "Epoch 322/500\n",
            "2/2 [==============================] - 0s 172ms/step - loss: 9.4629e-05 - acc: 1.0000 - val_loss: 0.2255 - val_acc: 0.9720\n",
            "Epoch 323/500\n",
            "2/2 [==============================] - 0s 173ms/step - loss: 1.0053e-04 - acc: 1.0000 - val_loss: 0.2258 - val_acc: 0.9720\n",
            "Epoch 324/500\n",
            "2/2 [==============================] - 0s 170ms/step - loss: 9.0418e-05 - acc: 1.0000 - val_loss: 0.2265 - val_acc: 0.9720\n",
            "Epoch 325/500\n",
            "2/2 [==============================] - 0s 168ms/step - loss: 9.6730e-05 - acc: 1.0000 - val_loss: 0.2259 - val_acc: 0.9720\n",
            "Epoch 326/500\n",
            "2/2 [==============================] - 0s 176ms/step - loss: 1.0104e-04 - acc: 1.0000 - val_loss: 0.2266 - val_acc: 0.9720\n",
            "Epoch 327/500\n",
            "2/2 [==============================] - 0s 173ms/step - loss: 9.4978e-05 - acc: 1.0000 - val_loss: 0.2273 - val_acc: 0.9720\n",
            "Epoch 328/500\n",
            "2/2 [==============================] - 0s 172ms/step - loss: 9.7504e-05 - acc: 1.0000 - val_loss: 0.2271 - val_acc: 0.9720\n",
            "Epoch 329/500\n",
            "2/2 [==============================] - 0s 174ms/step - loss: 9.4669e-05 - acc: 1.0000 - val_loss: 0.2271 - val_acc: 0.9720\n",
            "Epoch 330/500\n",
            "2/2 [==============================] - 0s 172ms/step - loss: 9.3150e-05 - acc: 1.0000 - val_loss: 0.2272 - val_acc: 0.9720\n",
            "Epoch 331/500\n",
            "2/2 [==============================] - 0s 169ms/step - loss: 8.9284e-05 - acc: 1.0000 - val_loss: 0.2283 - val_acc: 0.9720\n",
            "Epoch 332/500\n",
            "2/2 [==============================] - 0s 172ms/step - loss: 9.1344e-05 - acc: 1.0000 - val_loss: 0.2292 - val_acc: 0.9720\n",
            "Epoch 333/500\n",
            "2/2 [==============================] - 0s 171ms/step - loss: 8.4026e-05 - acc: 1.0000 - val_loss: 0.2286 - val_acc: 0.9720\n",
            "Epoch 334/500\n",
            "2/2 [==============================] - 0s 167ms/step - loss: 8.6529e-05 - acc: 1.0000 - val_loss: 0.2278 - val_acc: 0.9720\n",
            "Epoch 335/500\n",
            "2/2 [==============================] - 0s 169ms/step - loss: 8.9537e-05 - acc: 1.0000 - val_loss: 0.2278 - val_acc: 0.9720\n",
            "Epoch 336/500\n",
            "2/2 [==============================] - 0s 170ms/step - loss: 8.9287e-05 - acc: 1.0000 - val_loss: 0.2284 - val_acc: 0.9720\n",
            "Epoch 337/500\n",
            "2/2 [==============================] - 0s 170ms/step - loss: 8.0942e-05 - acc: 1.0000 - val_loss: 0.2301 - val_acc: 0.9720\n",
            "Epoch 338/500\n",
            "2/2 [==============================] - 0s 174ms/step - loss: 8.6304e-05 - acc: 1.0000 - val_loss: 0.2302 - val_acc: 0.9720\n",
            "Epoch 339/500\n",
            "2/2 [==============================] - 0s 171ms/step - loss: 8.3557e-05 - acc: 1.0000 - val_loss: 0.2294 - val_acc: 0.9720\n",
            "Epoch 340/500\n",
            "2/2 [==============================] - 0s 175ms/step - loss: 8.2684e-05 - acc: 1.0000 - val_loss: 0.2289 - val_acc: 0.9720\n",
            "Epoch 341/500\n",
            "2/2 [==============================] - 0s 175ms/step - loss: 8.1891e-05 - acc: 1.0000 - val_loss: 0.2283 - val_acc: 0.9720\n",
            "Epoch 342/500\n",
            "2/2 [==============================] - 0s 171ms/step - loss: 8.3799e-05 - acc: 1.0000 - val_loss: 0.2294 - val_acc: 0.9720\n",
            "Epoch 343/500\n",
            "2/2 [==============================] - 0s 175ms/step - loss: 8.5580e-05 - acc: 1.0000 - val_loss: 0.2313 - val_acc: 0.9720\n",
            "Epoch 344/500\n",
            "2/2 [==============================] - 0s 181ms/step - loss: 8.0237e-05 - acc: 1.0000 - val_loss: 0.2315 - val_acc: 0.9720\n",
            "Epoch 345/500\n",
            "2/2 [==============================] - 0s 174ms/step - loss: 8.0164e-05 - acc: 1.0000 - val_loss: 0.2313 - val_acc: 0.9720\n",
            "Epoch 346/500\n",
            "2/2 [==============================] - 0s 167ms/step - loss: 7.9786e-05 - acc: 1.0000 - val_loss: 0.2320 - val_acc: 0.9720\n",
            "Epoch 347/500\n",
            "2/2 [==============================] - 0s 176ms/step - loss: 8.1764e-05 - acc: 1.0000 - val_loss: 0.2332 - val_acc: 0.9720\n",
            "Epoch 348/500\n",
            "2/2 [==============================] - 0s 171ms/step - loss: 7.8655e-05 - acc: 1.0000 - val_loss: 0.2320 - val_acc: 0.9720\n",
            "Epoch 349/500\n",
            "2/2 [==============================] - 0s 170ms/step - loss: 7.5004e-05 - acc: 1.0000 - val_loss: 0.2319 - val_acc: 0.9720\n",
            "Epoch 350/500\n",
            "2/2 [==============================] - 0s 183ms/step - loss: 7.8439e-05 - acc: 1.0000 - val_loss: 0.2320 - val_acc: 0.9720\n",
            "Epoch 351/500\n",
            "2/2 [==============================] - 0s 177ms/step - loss: 7.3419e-05 - acc: 1.0000 - val_loss: 0.2334 - val_acc: 0.9720\n",
            "Epoch 352/500\n",
            "2/2 [==============================] - 0s 173ms/step - loss: 7.7616e-05 - acc: 1.0000 - val_loss: 0.2353 - val_acc: 0.9720\n",
            "Epoch 353/500\n",
            "2/2 [==============================] - 0s 173ms/step - loss: 7.4558e-05 - acc: 1.0000 - val_loss: 0.2340 - val_acc: 0.9720\n",
            "Epoch 354/500\n",
            "2/2 [==============================] - 0s 171ms/step - loss: 7.2778e-05 - acc: 1.0000 - val_loss: 0.2341 - val_acc: 0.9720\n",
            "Epoch 355/500\n",
            "2/2 [==============================] - 0s 174ms/step - loss: 7.1824e-05 - acc: 1.0000 - val_loss: 0.2332 - val_acc: 0.9626\n",
            "Epoch 356/500\n",
            "2/2 [==============================] - 0s 174ms/step - loss: 7.2393e-05 - acc: 1.0000 - val_loss: 0.2339 - val_acc: 0.9720\n",
            "Epoch 357/500\n",
            "2/2 [==============================] - 0s 178ms/step - loss: 7.4917e-05 - acc: 1.0000 - val_loss: 0.2348 - val_acc: 0.9720\n",
            "Epoch 358/500\n",
            "2/2 [==============================] - 0s 177ms/step - loss: 7.4325e-05 - acc: 1.0000 - val_loss: 0.2340 - val_acc: 0.9720\n",
            "Epoch 359/500\n",
            "2/2 [==============================] - 0s 169ms/step - loss: 6.9891e-05 - acc: 1.0000 - val_loss: 0.2334 - val_acc: 0.9720\n",
            "Epoch 360/500\n",
            "2/2 [==============================] - 0s 181ms/step - loss: 6.7005e-05 - acc: 1.0000 - val_loss: 0.2334 - val_acc: 0.9720\n",
            "Epoch 361/500\n",
            "2/2 [==============================] - 0s 172ms/step - loss: 6.7903e-05 - acc: 1.0000 - val_loss: 0.2347 - val_acc: 0.9626\n",
            "Epoch 362/500\n",
            "2/2 [==============================] - 0s 175ms/step - loss: 6.5667e-05 - acc: 1.0000 - val_loss: 0.2368 - val_acc: 0.9720\n",
            "Epoch 363/500\n",
            "2/2 [==============================] - 0s 176ms/step - loss: 6.6108e-05 - acc: 1.0000 - val_loss: 0.2380 - val_acc: 0.9720\n",
            "Epoch 364/500\n",
            "2/2 [==============================] - 0s 182ms/step - loss: 6.5727e-05 - acc: 1.0000 - val_loss: 0.2390 - val_acc: 0.9720\n",
            "Epoch 365/500\n",
            "2/2 [==============================] - 0s 168ms/step - loss: 6.8224e-05 - acc: 1.0000 - val_loss: 0.2375 - val_acc: 0.9720\n",
            "Epoch 366/500\n",
            "2/2 [==============================] - 0s 174ms/step - loss: 6.1074e-05 - acc: 1.0000 - val_loss: 0.2389 - val_acc: 0.9720\n",
            "Epoch 367/500\n",
            "2/2 [==============================] - 0s 173ms/step - loss: 6.6437e-05 - acc: 1.0000 - val_loss: 0.2358 - val_acc: 0.9626\n",
            "Epoch 368/500\n",
            "2/2 [==============================] - 0s 181ms/step - loss: 6.6126e-05 - acc: 1.0000 - val_loss: 0.2395 - val_acc: 0.9720\n",
            "Epoch 369/500\n",
            "2/2 [==============================] - 0s 179ms/step - loss: 6.5519e-05 - acc: 1.0000 - val_loss: 0.2399 - val_acc: 0.9720\n",
            "Epoch 370/500\n",
            "2/2 [==============================] - 0s 173ms/step - loss: 6.0643e-05 - acc: 1.0000 - val_loss: 0.2365 - val_acc: 0.9626\n",
            "Epoch 371/500\n",
            "2/2 [==============================] - 0s 175ms/step - loss: 6.2058e-05 - acc: 1.0000 - val_loss: 0.2404 - val_acc: 0.9720\n",
            "Epoch 372/500\n",
            "2/2 [==============================] - 0s 175ms/step - loss: 6.1339e-05 - acc: 1.0000 - val_loss: 0.2417 - val_acc: 0.9720\n",
            "Epoch 373/500\n",
            "2/2 [==============================] - 0s 172ms/step - loss: 6.8985e-05 - acc: 1.0000 - val_loss: 0.2374 - val_acc: 0.9720\n",
            "Epoch 374/500\n",
            "2/2 [==============================] - 0s 176ms/step - loss: 6.2674e-05 - acc: 1.0000 - val_loss: 0.2333 - val_acc: 0.9720\n",
            "Epoch 375/500\n",
            "2/2 [==============================] - 0s 175ms/step - loss: 6.4088e-05 - acc: 1.0000 - val_loss: 0.2316 - val_acc: 0.9720\n",
            "Epoch 376/500\n",
            "2/2 [==============================] - 0s 175ms/step - loss: 7.0669e-05 - acc: 1.0000 - val_loss: 0.2335 - val_acc: 0.9720\n",
            "Epoch 377/500\n",
            "2/2 [==============================] - 0s 183ms/step - loss: 6.0968e-05 - acc: 1.0000 - val_loss: 0.2367 - val_acc: 0.9720\n",
            "Epoch 378/500\n",
            "2/2 [==============================] - 0s 170ms/step - loss: 5.8869e-05 - acc: 1.0000 - val_loss: 0.2334 - val_acc: 0.9626\n",
            "Epoch 379/500\n",
            "2/2 [==============================] - 0s 177ms/step - loss: 5.8981e-05 - acc: 1.0000 - val_loss: 0.2388 - val_acc: 0.9720\n",
            "Epoch 380/500\n",
            "2/2 [==============================] - 0s 171ms/step - loss: 5.5740e-05 - acc: 1.0000 - val_loss: 0.2452 - val_acc: 0.9720\n",
            "Epoch 381/500\n",
            "2/2 [==============================] - 0s 174ms/step - loss: 5.7365e-05 - acc: 1.0000 - val_loss: 0.2387 - val_acc: 0.9626\n",
            "Epoch 382/500\n",
            "2/2 [==============================] - 0s 174ms/step - loss: 4.9918e-05 - acc: 1.0000 - val_loss: 0.2387 - val_acc: 0.9626\n",
            "Epoch 383/500\n",
            "2/2 [==============================] - 0s 191ms/step - loss: 4.9243e-05 - acc: 1.0000 - val_loss: 0.2433 - val_acc: 0.9720\n",
            "Epoch 384/500\n",
            "2/2 [==============================] - 0s 170ms/step - loss: 5.0618e-05 - acc: 1.0000 - val_loss: 0.2422 - val_acc: 0.9720\n",
            "Epoch 385/500\n",
            "2/2 [==============================] - 0s 176ms/step - loss: 4.7554e-05 - acc: 1.0000 - val_loss: 0.2403 - val_acc: 0.9720\n",
            "Epoch 386/500\n",
            "2/2 [==============================] - 0s 174ms/step - loss: 4.6900e-05 - acc: 1.0000 - val_loss: 0.2409 - val_acc: 0.9720\n",
            "Epoch 387/500\n",
            "2/2 [==============================] - 0s 174ms/step - loss: 4.3958e-05 - acc: 1.0000 - val_loss: 0.2423 - val_acc: 0.9720\n",
            "Epoch 388/500\n",
            "2/2 [==============================] - 0s 175ms/step - loss: 4.5894e-05 - acc: 1.0000 - val_loss: 0.2387 - val_acc: 0.9626\n",
            "Epoch 389/500\n",
            "2/2 [==============================] - 0s 172ms/step - loss: 4.8822e-05 - acc: 1.0000 - val_loss: 0.2422 - val_acc: 0.9720\n",
            "Epoch 390/500\n",
            "2/2 [==============================] - 0s 171ms/step - loss: 4.4228e-05 - acc: 1.0000 - val_loss: 0.2417 - val_acc: 0.9720\n",
            "Epoch 391/500\n",
            "2/2 [==============================] - 0s 175ms/step - loss: 4.2633e-05 - acc: 1.0000 - val_loss: 0.2370 - val_acc: 0.9626\n",
            "Epoch 392/500\n",
            "2/2 [==============================] - 0s 171ms/step - loss: 4.4311e-05 - acc: 1.0000 - val_loss: 0.2429 - val_acc: 0.9720\n",
            "Epoch 393/500\n",
            "2/2 [==============================] - 0s 170ms/step - loss: 4.3762e-05 - acc: 1.0000 - val_loss: 0.2410 - val_acc: 0.9720\n",
            "Epoch 394/500\n",
            "2/2 [==============================] - 0s 172ms/step - loss: 3.9580e-05 - acc: 1.0000 - val_loss: 0.2371 - val_acc: 0.9626\n",
            "Epoch 395/500\n",
            "2/2 [==============================] - 0s 178ms/step - loss: 4.5713e-05 - acc: 1.0000 - val_loss: 0.2457 - val_acc: 0.9720\n",
            "Epoch 396/500\n",
            "2/2 [==============================] - 0s 178ms/step - loss: 4.4925e-05 - acc: 1.0000 - val_loss: 0.2397 - val_acc: 0.9720\n",
            "Epoch 397/500\n",
            "2/2 [==============================] - 0s 171ms/step - loss: 3.9393e-05 - acc: 1.0000 - val_loss: 0.2371 - val_acc: 0.9626\n",
            "Epoch 398/500\n",
            "2/2 [==============================] - 0s 174ms/step - loss: 4.2574e-05 - acc: 1.0000 - val_loss: 0.2450 - val_acc: 0.9720\n",
            "Epoch 399/500\n",
            "2/2 [==============================] - 0s 176ms/step - loss: 3.8552e-05 - acc: 1.0000 - val_loss: 0.2380 - val_acc: 0.9626\n",
            "Epoch 400/500\n",
            "2/2 [==============================] - 0s 171ms/step - loss: 3.8361e-05 - acc: 1.0000 - val_loss: 0.2412 - val_acc: 0.9720\n",
            "Epoch 401/500\n",
            "2/2 [==============================] - 0s 170ms/step - loss: 3.7287e-05 - acc: 1.0000 - val_loss: 0.2441 - val_acc: 0.9720\n",
            "Epoch 402/500\n",
            "2/2 [==============================] - 0s 172ms/step - loss: 3.8133e-05 - acc: 1.0000 - val_loss: 0.2369 - val_acc: 0.9626\n",
            "Epoch 403/500\n",
            "2/2 [==============================] - 0s 174ms/step - loss: 3.8114e-05 - acc: 1.0000 - val_loss: 0.2450 - val_acc: 0.9720\n",
            "Epoch 404/500\n",
            "2/2 [==============================] - 0s 180ms/step - loss: 3.8356e-05 - acc: 1.0000 - val_loss: 0.2390 - val_acc: 0.9626\n",
            "Epoch 405/500\n",
            "2/2 [==============================] - 0s 171ms/step - loss: 3.3134e-05 - acc: 1.0000 - val_loss: 0.2400 - val_acc: 0.9626\n",
            "Epoch 406/500\n",
            "2/2 [==============================] - 0s 173ms/step - loss: 3.4214e-05 - acc: 1.0000 - val_loss: 0.2424 - val_acc: 0.9720\n",
            "Epoch 407/500\n",
            "2/2 [==============================] - 0s 173ms/step - loss: 3.3208e-05 - acc: 1.0000 - val_loss: 0.2400 - val_acc: 0.9626\n",
            "Epoch 408/500\n",
            "2/2 [==============================] - 0s 172ms/step - loss: 3.2991e-05 - acc: 1.0000 - val_loss: 0.2412 - val_acc: 0.9720\n",
            "Epoch 409/500\n",
            "2/2 [==============================] - 0s 171ms/step - loss: 3.1877e-05 - acc: 1.0000 - val_loss: 0.2415 - val_acc: 0.9720\n",
            "Epoch 410/500\n",
            "2/2 [==============================] - 0s 176ms/step - loss: 3.1031e-05 - acc: 1.0000 - val_loss: 0.2397 - val_acc: 0.9626\n",
            "Epoch 411/500\n",
            "2/2 [==============================] - 0s 178ms/step - loss: 3.1737e-05 - acc: 1.0000 - val_loss: 0.2472 - val_acc: 0.9720\n",
            "Epoch 412/500\n",
            "2/2 [==============================] - 0s 169ms/step - loss: 3.4251e-05 - acc: 1.0000 - val_loss: 0.2445 - val_acc: 0.9720\n",
            "Epoch 413/500\n",
            "2/2 [==============================] - 0s 170ms/step - loss: 2.8182e-05 - acc: 1.0000 - val_loss: 0.2390 - val_acc: 0.9626\n",
            "Epoch 414/500\n",
            "2/2 [==============================] - 0s 174ms/step - loss: 3.1855e-05 - acc: 1.0000 - val_loss: 0.2476 - val_acc: 0.9720\n",
            "Epoch 415/500\n",
            "2/2 [==============================] - 0s 175ms/step - loss: 3.1828e-05 - acc: 1.0000 - val_loss: 0.2393 - val_acc: 0.9626\n",
            "Epoch 416/500\n",
            "2/2 [==============================] - 0s 174ms/step - loss: 3.0348e-05 - acc: 1.0000 - val_loss: 0.2425 - val_acc: 0.9720\n",
            "Epoch 417/500\n",
            "2/2 [==============================] - 0s 173ms/step - loss: 2.9315e-05 - acc: 1.0000 - val_loss: 0.2452 - val_acc: 0.9720\n",
            "Epoch 418/500\n",
            "2/2 [==============================] - 0s 172ms/step - loss: 2.8656e-05 - acc: 1.0000 - val_loss: 0.2393 - val_acc: 0.9626\n",
            "Epoch 419/500\n",
            "2/2 [==============================] - 0s 170ms/step - loss: 2.9629e-05 - acc: 1.0000 - val_loss: 0.2459 - val_acc: 0.9720\n",
            "Epoch 420/500\n",
            "2/2 [==============================] - 0s 172ms/step - loss: 2.8502e-05 - acc: 1.0000 - val_loss: 0.2405 - val_acc: 0.9626\n",
            "Epoch 421/500\n",
            "2/2 [==============================] - 0s 171ms/step - loss: 2.6798e-05 - acc: 1.0000 - val_loss: 0.2417 - val_acc: 0.9720\n",
            "Epoch 422/500\n",
            "2/2 [==============================] - 0s 172ms/step - loss: 2.5799e-05 - acc: 1.0000 - val_loss: 0.2419 - val_acc: 0.9720\n",
            "Epoch 423/500\n",
            "2/2 [==============================] - 0s 177ms/step - loss: 2.4512e-05 - acc: 1.0000 - val_loss: 0.2426 - val_acc: 0.9720\n",
            "Epoch 424/500\n",
            "2/2 [==============================] - 0s 172ms/step - loss: 2.4170e-05 - acc: 1.0000 - val_loss: 0.2419 - val_acc: 0.9720\n",
            "Epoch 425/500\n",
            "2/2 [==============================] - 0s 169ms/step - loss: 2.3569e-05 - acc: 1.0000 - val_loss: 0.2460 - val_acc: 0.9720\n",
            "Epoch 426/500\n",
            "2/2 [==============================] - 0s 173ms/step - loss: 2.6010e-05 - acc: 1.0000 - val_loss: 0.2448 - val_acc: 0.9720\n",
            "Epoch 427/500\n",
            "2/2 [==============================] - 0s 174ms/step - loss: 2.3304e-05 - acc: 1.0000 - val_loss: 0.2405 - val_acc: 0.9626\n",
            "Epoch 428/500\n",
            "2/2 [==============================] - 0s 170ms/step - loss: 2.3017e-05 - acc: 1.0000 - val_loss: 0.2475 - val_acc: 0.9720\n",
            "Epoch 429/500\n",
            "2/2 [==============================] - 0s 170ms/step - loss: 2.3031e-05 - acc: 1.0000 - val_loss: 0.2421 - val_acc: 0.9720\n",
            "Epoch 430/500\n",
            "2/2 [==============================] - 0s 179ms/step - loss: 2.2593e-05 - acc: 1.0000 - val_loss: 0.2439 - val_acc: 0.9720\n",
            "Epoch 431/500\n",
            "2/2 [==============================] - 0s 178ms/step - loss: 2.0791e-05 - acc: 1.0000 - val_loss: 0.2460 - val_acc: 0.9720\n",
            "Epoch 432/500\n",
            "2/2 [==============================] - 0s 176ms/step - loss: 2.2266e-05 - acc: 1.0000 - val_loss: 0.2431 - val_acc: 0.9720\n",
            "Epoch 433/500\n",
            "2/2 [==============================] - 0s 168ms/step - loss: 2.0778e-05 - acc: 1.0000 - val_loss: 0.2441 - val_acc: 0.9720\n",
            "Epoch 434/500\n",
            "2/2 [==============================] - 0s 177ms/step - loss: 2.0627e-05 - acc: 1.0000 - val_loss: 0.2434 - val_acc: 0.9720\n",
            "Epoch 435/500\n",
            "2/2 [==============================] - 0s 177ms/step - loss: 1.8612e-05 - acc: 1.0000 - val_loss: 0.2448 - val_acc: 0.9720\n",
            "Epoch 436/500\n",
            "2/2 [==============================] - 0s 171ms/step - loss: 1.9972e-05 - acc: 1.0000 - val_loss: 0.2418 - val_acc: 0.9720\n",
            "Epoch 437/500\n",
            "2/2 [==============================] - 0s 178ms/step - loss: 1.9379e-05 - acc: 1.0000 - val_loss: 0.2469 - val_acc: 0.9720\n",
            "Epoch 438/500\n",
            "2/2 [==============================] - 0s 174ms/step - loss: 1.8711e-05 - acc: 1.0000 - val_loss: 0.2420 - val_acc: 0.9720\n",
            "Epoch 439/500\n",
            "2/2 [==============================] - 0s 176ms/step - loss: 1.8252e-05 - acc: 1.0000 - val_loss: 0.2429 - val_acc: 0.9720\n",
            "Epoch 440/500\n",
            "2/2 [==============================] - 0s 171ms/step - loss: 1.7820e-05 - acc: 1.0000 - val_loss: 0.2457 - val_acc: 0.9720\n",
            "Epoch 441/500\n",
            "2/2 [==============================] - 0s 172ms/step - loss: 1.8018e-05 - acc: 1.0000 - val_loss: 0.2430 - val_acc: 0.9720\n",
            "Epoch 442/500\n",
            "2/2 [==============================] - 0s 176ms/step - loss: 1.7407e-05 - acc: 1.0000 - val_loss: 0.2433 - val_acc: 0.9720\n",
            "Epoch 443/500\n",
            "2/2 [==============================] - 0s 176ms/step - loss: 1.7202e-05 - acc: 1.0000 - val_loss: 0.2435 - val_acc: 0.9720\n",
            "Epoch 444/500\n",
            "2/2 [==============================] - 0s 180ms/step - loss: 1.5305e-05 - acc: 1.0000 - val_loss: 0.2432 - val_acc: 0.9720\n",
            "Epoch 445/500\n",
            "2/2 [==============================] - 0s 171ms/step - loss: 1.5137e-05 - acc: 1.0000 - val_loss: 0.2433 - val_acc: 0.9720\n",
            "Epoch 446/500\n",
            "2/2 [==============================] - 0s 172ms/step - loss: 1.6631e-05 - acc: 1.0000 - val_loss: 0.2448 - val_acc: 0.9720\n",
            "Epoch 447/500\n",
            "2/2 [==============================] - 0s 177ms/step - loss: 1.5696e-05 - acc: 1.0000 - val_loss: 0.2444 - val_acc: 0.9720\n",
            "Epoch 448/500\n",
            "2/2 [==============================] - 0s 172ms/step - loss: 1.5152e-05 - acc: 1.0000 - val_loss: 0.2425 - val_acc: 0.9720\n",
            "Epoch 449/500\n",
            "2/2 [==============================] - 0s 173ms/step - loss: 1.5337e-05 - acc: 1.0000 - val_loss: 0.2456 - val_acc: 0.9720\n",
            "Epoch 450/500\n",
            "2/2 [==============================] - 0s 181ms/step - loss: 1.5658e-05 - acc: 1.0000 - val_loss: 0.2428 - val_acc: 0.9720\n",
            "Epoch 451/500\n",
            "2/2 [==============================] - 0s 178ms/step - loss: 1.5261e-05 - acc: 1.0000 - val_loss: 0.2459 - val_acc: 0.9720\n",
            "Epoch 452/500\n",
            "2/2 [==============================] - 0s 170ms/step - loss: 1.4943e-05 - acc: 1.0000 - val_loss: 0.2448 - val_acc: 0.9720\n",
            "Epoch 453/500\n",
            "2/2 [==============================] - 0s 171ms/step - loss: 1.3951e-05 - acc: 1.0000 - val_loss: 0.2447 - val_acc: 0.9720\n",
            "Epoch 454/500\n",
            "2/2 [==============================] - 0s 176ms/step - loss: 1.2759e-05 - acc: 1.0000 - val_loss: 0.2414 - val_acc: 0.9626\n",
            "Epoch 455/500\n",
            "2/2 [==============================] - 0s 173ms/step - loss: 1.4284e-05 - acc: 1.0000 - val_loss: 0.2467 - val_acc: 0.9720\n",
            "Epoch 456/500\n",
            "2/2 [==============================] - 0s 172ms/step - loss: 1.3201e-05 - acc: 1.0000 - val_loss: 0.2435 - val_acc: 0.9720\n",
            "Epoch 457/500\n",
            "2/2 [==============================] - 0s 173ms/step - loss: 1.3792e-05 - acc: 1.0000 - val_loss: 0.2456 - val_acc: 0.9720\n",
            "Epoch 458/500\n",
            "2/2 [==============================] - 0s 177ms/step - loss: 1.3401e-05 - acc: 1.0000 - val_loss: 0.2466 - val_acc: 0.9720\n",
            "Epoch 459/500\n",
            "2/2 [==============================] - 0s 172ms/step - loss: 1.3935e-05 - acc: 1.0000 - val_loss: 0.2416 - val_acc: 0.9626\n",
            "Epoch 460/500\n",
            "2/2 [==============================] - 0s 177ms/step - loss: 1.2319e-05 - acc: 1.0000 - val_loss: 0.2475 - val_acc: 0.9720\n",
            "Epoch 461/500\n",
            "2/2 [==============================] - 0s 171ms/step - loss: 1.1850e-05 - acc: 1.0000 - val_loss: 0.2439 - val_acc: 0.9720\n",
            "Epoch 462/500\n",
            "2/2 [==============================] - 0s 175ms/step - loss: 1.1961e-05 - acc: 1.0000 - val_loss: 0.2468 - val_acc: 0.9720\n",
            "Epoch 463/500\n",
            "2/2 [==============================] - 0s 172ms/step - loss: 1.1498e-05 - acc: 1.0000 - val_loss: 0.2452 - val_acc: 0.9720\n",
            "Epoch 464/500\n",
            "2/2 [==============================] - 0s 175ms/step - loss: 1.1659e-05 - acc: 1.0000 - val_loss: 0.2451 - val_acc: 0.9720\n",
            "Epoch 465/500\n",
            "2/2 [==============================] - 0s 174ms/step - loss: 1.1780e-05 - acc: 1.0000 - val_loss: 0.2476 - val_acc: 0.9720\n",
            "Epoch 466/500\n",
            "2/2 [==============================] - 0s 180ms/step - loss: 1.1785e-05 - acc: 1.0000 - val_loss: 0.2438 - val_acc: 0.9720\n",
            "Epoch 467/500\n",
            "2/2 [==============================] - 0s 171ms/step - loss: 1.1876e-05 - acc: 1.0000 - val_loss: 0.2444 - val_acc: 0.9720\n",
            "Epoch 468/500\n",
            "2/2 [==============================] - 0s 169ms/step - loss: 1.2628e-05 - acc: 1.0000 - val_loss: 0.2506 - val_acc: 0.9720\n",
            "Epoch 469/500\n",
            "2/2 [==============================] - 0s 172ms/step - loss: 1.1275e-05 - acc: 1.0000 - val_loss: 0.2419 - val_acc: 0.9626\n",
            "Epoch 470/500\n",
            "2/2 [==============================] - 0s 174ms/step - loss: 1.1292e-05 - acc: 1.0000 - val_loss: 0.2517 - val_acc: 0.9720\n",
            "Epoch 471/500\n",
            "2/2 [==============================] - 0s 176ms/step - loss: 1.1619e-05 - acc: 1.0000 - val_loss: 0.2450 - val_acc: 0.9720\n",
            "Epoch 472/500\n",
            "2/2 [==============================] - 0s 176ms/step - loss: 1.0242e-05 - acc: 1.0000 - val_loss: 0.2454 - val_acc: 0.9720\n",
            "Epoch 473/500\n",
            "2/2 [==============================] - 0s 171ms/step - loss: 1.0222e-05 - acc: 1.0000 - val_loss: 0.2499 - val_acc: 0.9720\n",
            "Epoch 474/500\n",
            "2/2 [==============================] - 0s 173ms/step - loss: 1.1031e-05 - acc: 1.0000 - val_loss: 0.2423 - val_acc: 0.9720\n",
            "Epoch 475/500\n",
            "2/2 [==============================] - 0s 171ms/step - loss: 1.0836e-05 - acc: 1.0000 - val_loss: 0.2476 - val_acc: 0.9720\n",
            "Epoch 476/500\n",
            "2/2 [==============================] - 0s 175ms/step - loss: 9.8647e-06 - acc: 1.0000 - val_loss: 0.2473 - val_acc: 0.9720\n",
            "Epoch 477/500\n",
            "2/2 [==============================] - 0s 176ms/step - loss: 1.0807e-05 - acc: 1.0000 - val_loss: 0.2425 - val_acc: 0.9720\n",
            "Epoch 478/500\n",
            "2/2 [==============================] - 0s 171ms/step - loss: 9.9080e-06 - acc: 1.0000 - val_loss: 0.2523 - val_acc: 0.9720\n",
            "Epoch 479/500\n",
            "2/2 [==============================] - 0s 173ms/step - loss: 1.0840e-05 - acc: 1.0000 - val_loss: 0.2440 - val_acc: 0.9720\n",
            "Epoch 480/500\n",
            "2/2 [==============================] - 0s 169ms/step - loss: 9.7045e-06 - acc: 1.0000 - val_loss: 0.2449 - val_acc: 0.9720\n",
            "Epoch 481/500\n",
            "2/2 [==============================] - 0s 179ms/step - loss: 8.9564e-06 - acc: 1.0000 - val_loss: 0.2500 - val_acc: 0.9720\n",
            "Epoch 482/500\n",
            "2/2 [==============================] - 0s 174ms/step - loss: 9.6076e-06 - acc: 1.0000 - val_loss: 0.2448 - val_acc: 0.9720\n",
            "Epoch 483/500\n",
            "2/2 [==============================] - 0s 182ms/step - loss: 9.5309e-06 - acc: 1.0000 - val_loss: 0.2486 - val_acc: 0.9720\n",
            "Epoch 484/500\n",
            "2/2 [==============================] - 0s 168ms/step - loss: 9.5738e-06 - acc: 1.0000 - val_loss: 0.2519 - val_acc: 0.9720\n",
            "Epoch 485/500\n",
            "2/2 [==============================] - 0s 174ms/step - loss: 8.0748e-06 - acc: 1.0000 - val_loss: 0.2426 - val_acc: 0.9626\n",
            "Epoch 486/500\n",
            "2/2 [==============================] - 0s 171ms/step - loss: 9.2515e-06 - acc: 1.0000 - val_loss: 0.2484 - val_acc: 0.9720\n",
            "Epoch 487/500\n",
            "2/2 [==============================] - 0s 171ms/step - loss: 8.8948e-06 - acc: 1.0000 - val_loss: 0.2490 - val_acc: 0.9720\n",
            "Epoch 488/500\n",
            "2/2 [==============================] - 0s 170ms/step - loss: 8.1432e-06 - acc: 1.0000 - val_loss: 0.2437 - val_acc: 0.9720\n",
            "Epoch 489/500\n",
            "2/2 [==============================] - 0s 172ms/step - loss: 8.6888e-06 - acc: 1.0000 - val_loss: 0.2491 - val_acc: 0.9720\n",
            "Epoch 490/500\n",
            "2/2 [==============================] - 0s 174ms/step - loss: 8.5556e-06 - acc: 1.0000 - val_loss: 0.2491 - val_acc: 0.9720\n",
            "Epoch 491/500\n",
            "2/2 [==============================] - 0s 174ms/step - loss: 7.9384e-06 - acc: 1.0000 - val_loss: 0.2452 - val_acc: 0.9720\n",
            "Epoch 492/500\n",
            "2/2 [==============================] - 0s 173ms/step - loss: 8.3904e-06 - acc: 1.0000 - val_loss: 0.2491 - val_acc: 0.9720\n",
            "Epoch 493/500\n",
            "2/2 [==============================] - 0s 176ms/step - loss: 8.2006e-06 - acc: 1.0000 - val_loss: 0.2467 - val_acc: 0.9720\n",
            "Epoch 494/500\n",
            "2/2 [==============================] - 0s 172ms/step - loss: 7.6509e-06 - acc: 1.0000 - val_loss: 0.2467 - val_acc: 0.9720\n",
            "Epoch 495/500\n",
            "2/2 [==============================] - 0s 172ms/step - loss: 7.2886e-06 - acc: 1.0000 - val_loss: 0.2493 - val_acc: 0.9720\n",
            "Epoch 496/500\n",
            "2/2 [==============================] - 0s 180ms/step - loss: 7.4219e-06 - acc: 1.0000 - val_loss: 0.2484 - val_acc: 0.9720\n",
            "Epoch 497/500\n",
            "2/2 [==============================] - 0s 177ms/step - loss: 7.5412e-06 - acc: 1.0000 - val_loss: 0.2470 - val_acc: 0.9720\n",
            "Epoch 498/500\n",
            "2/2 [==============================] - 0s 172ms/step - loss: 7.6410e-06 - acc: 1.0000 - val_loss: 0.2501 - val_acc: 0.9720\n",
            "Epoch 499/500\n",
            "2/2 [==============================] - 0s 175ms/step - loss: 7.1886e-06 - acc: 1.0000 - val_loss: 0.2482 - val_acc: 0.9720\n",
            "Epoch 500/500\n",
            "2/2 [==============================] - 0s 176ms/step - loss: 7.2689e-06 - acc: 1.0000 - val_loss: 0.2463 - val_acc: 0.9720\n"
          ],
          "name": "stdout"
        }
      ]
    },
    {
      "cell_type": "code",
      "metadata": {
        "id": "x2qzK4SJB5y9",
        "colab": {
          "base_uri": "https://localhost:8080/",
          "height": 241
        },
        "outputId": "57c3a1bc-d221-4139-d4cb-9bd77fe81016"
      },
      "source": [
        "plt.figure(figsize =(5,3))\n",
        "plt.plot(history.history['acc'], marker='.', label='tune')\n",
        "plt.plot(history.history['val_acc'], marker='.', label='test')\n",
        "plt.title('Accuracy')\n",
        "plt.grid(True)\n",
        "plt.xlabel('epoch')\n",
        "plt.ylabel('accuracy')\n",
        "plt.legend(loc='best')\n",
        "plt.show()"
      ],
      "execution_count": 46,
      "outputs": [
        {
          "output_type": "display_data",
          "data": {
            "image/png": "[encoded data removed]",
            "text/plain": [
              "<Figure size 360x216 with 1 Axes>"
            ]
          },
          "metadata": {
            "tags": [],
            "needs_background": "light"
          }
        }
      ]
    }
  ]
}