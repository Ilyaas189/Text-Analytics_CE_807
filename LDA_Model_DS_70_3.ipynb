{
  "nbformat": 4,
  "nbformat_minor": 0,
  "metadata": {
    "colab": {
      "name": "LDA Model_DS_70_3.ipynb",
      "provenance": [],
      "collapsed_sections": [],
      "include_colab_link": true
    },
    "kernelspec": {
      "name": "python3",
      "display_name": "Python 3"
    },
    "language_info": {
      "name": "python"
    },
    "accelerator": "GPU"
  },
  "cells": [
    {
      "cell_type": "markdown",
      "metadata": {
        "id": "view-in-github",
        "colab_type": "text"
      },
      "source": [
        "<a href=\"https://colab.research.google.com/github/Ilyaas189/Text-Analytics_CE_807/blob/main/LDA_Model_DS_70_3.ipynb\" target=\"_parent\"><img src=\"https://colab.research.google.com/assets/colab-badge.svg\" alt=\"Open In Colab\"/></a>"
      ]
    },
    {
      "cell_type": "code",
      "metadata": {
        "colab": {
          "resources": {
            "http://localhost:8080/nbextensions/google.colab/files.js": {
              "data": "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",
              "ok": true,
              "headers": [
                [
                  "content-type",
                  "application/javascript"
                ]
              ],
              "status": 200,
              "status_text": ""
            }
          },
          "base_uri": "https://localhost:8080/",
          "height": 37
        },
        "id": "h48neXM-ANwE",
        "outputId": "d756983c-d6ce-4015-bd39-01ea54eded0d"
      },
      "source": [
        "import pandas as pd\n",
        "import numpy as np\n",
        "import matplotlib.pyplot as plt\n",
        "import warnings\n",
        "from google.colab import files\n",
        "from sklearn.naive_bayes import MultinomialNB\n",
        "from sklearn.naive_bayes import BernoulliNB\n",
        "from sklearn.pipeline import Pipeline\n",
        "from sklearn.feature_extraction.text import TfidfVectorizer\n",
        "from sklearn.feature_extraction.text import TfidfTransformer\n",
        "from sklearn.linear_model import SGDClassifier\n",
        "from sklearn.linear_model import LogisticRegression\n",
        "from nltk.stem.snowball import SnowballStemmer\n",
        "from sklearn.neighbors import KNeighborsClassifier\n",
        "from sklearn.ensemble import RandomForestClassifier\n",
        "import numpy as np\n",
        "import re\n",
        "\n",
        "\n",
        "import matplotlib.pyplot as plt\n",
        "%matplotlib inline\n",
        "\n",
        "import nltk\n",
        "import random\n",
        "uploaded = files.upload()\n",
        "files = list(uploaded.keys())\n"
      ],
      "execution_count": 1,
      "outputs": [
        {
          "output_type": "display_data",
          "data": {
            "text/html": [
              "\n",
              "     <input type=\"file\" id=\"files-9cecea43-abf4-4fb1-ad0b-8150466f467d\" name=\"files[]\" multiple disabled\n",
              "        style=\"border:none\" />\n",
              "     <output id=\"result-9cecea43-abf4-4fb1-ad0b-8150466f467d\">\n",
              "      Upload widget is only available when the cell has been executed in the\n",
              "      current browser session. Please rerun this cell to enable.\n",
              "      </output>\n",
              "      <script src=\"/nbextensions/google.colab/files.js\"></script> "
            ],
            "text/plain": [
              "<IPython.core.display.HTML object>"
            ]
          },
          "metadata": {
            "tags": []
          }
        }
      ]
    },
    {
      "cell_type": "code",
      "metadata": {
        "colab": {
          "base_uri": "https://localhost:8080/"
        },
        "id": "qcrJU_pzAhOm",
        "outputId": "c0acd96e-9120-4ecb-e835-8e4804eae3b5"
      },
      "source": [
        "# Import Dataset\n",
        "data = pd.read_json('https://raw.githubusercontent.com/selva86/datasets/master/newsgroups.json')\n",
        "print(data.target_names.unique())"
      ],
      "execution_count": 2,
      "outputs": [
        {
          "output_type": "stream",
          "text": [
            "['rec.autos' 'comp.sys.mac.hardware' 'comp.graphics' 'sci.space'\n",
            " 'talk.politics.guns' 'sci.med' 'comp.sys.ibm.pc.hardware'\n",
            " 'comp.os.ms-windows.misc' 'rec.motorcycles' 'talk.religion.misc'\n",
            " 'misc.forsale' 'alt.atheism' 'sci.electronics' 'comp.windows.x'\n",
            " 'rec.sport.hockey' 'rec.sport.baseball' 'soc.religion.christian'\n",
            " 'talk.politics.mideast' 'talk.politics.misc' 'sci.crypt']\n"
          ],
          "name": "stdout"
        }
      ]
    },
    {
      "cell_type": "code",
      "metadata": {
        "colab": {
          "base_uri": "https://localhost:8080/",
          "height": 648
        },
        "id": "SnGiNUYGAtLQ",
        "outputId": "d5517f34-4cbc-4cf0-bebd-d7772d773d45"
      },
      "source": [
        "data.head(20)"
      ],
      "execution_count": 3,
      "outputs": [
        {
          "output_type": "execute_result",
          "data": {
            "text/html": [
              "<div>\n",
              "<style scoped>\n",
              "    .dataframe tbody tr th:only-of-type {\n",
              "        vertical-align: middle;\n",
              "    }\n",
              "\n",
              "    .dataframe tbody tr th {\n",
              "        vertical-align: top;\n",
              "    }\n",
              "\n",
              "    .dataframe thead th {\n",
              "        text-align: right;\n",
              "    }\n",
              "</style>\n",
              "<table border=\"1\" class=\"dataframe\">\n",
              "  <thead>\n",
              "    <tr style=\"text-align: right;\">\n",
              "      <th></th>\n",
              "      <th>content</th>\n",
              "      <th>target</th>\n",
              "      <th>target_names</th>\n",
              "    </tr>\n",
              "  </thead>\n",
              "  <tbody>\n",
              "    <tr>\n",
              "      <th>0</th>\n",
              "      <td>From: lerxst@wam.umd.edu (where's my thing)\\nS...</td>\n",
              "      <td>7</td>\n",
              "      <td>rec.autos</td>\n",
              "    </tr>\n",
              "    <tr>\n",
              "      <th>1</th>\n",
              "      <td>From: guykuo@carson.u.washington.edu (Guy Kuo)...</td>\n",
              "      <td>4</td>\n",
              "      <td>comp.sys.mac.hardware</td>\n",
              "    </tr>\n",
              "    <tr>\n",
              "      <th>2</th>\n",
              "      <td>From: twillis@ec.ecn.purdue.edu (Thomas E Will...</td>\n",
              "      <td>4</td>\n",
              "      <td>comp.sys.mac.hardware</td>\n",
              "    </tr>\n",
              "    <tr>\n",
              "      <th>3</th>\n",
              "      <td>From: jgreen@amber (Joe Green)\\nSubject: Re: W...</td>\n",
              "      <td>1</td>\n",
              "      <td>comp.graphics</td>\n",
              "    </tr>\n",
              "    <tr>\n",
              "      <th>4</th>\n",
              "      <td>From: jcm@head-cfa.harvard.edu (Jonathan McDow...</td>\n",
              "      <td>14</td>\n",
              "      <td>sci.space</td>\n",
              "    </tr>\n",
              "    <tr>\n",
              "      <th>5</th>\n",
              "      <td>From: dfo@vttoulu.tko.vtt.fi (Foxvog Douglas)\\...</td>\n",
              "      <td>16</td>\n",
              "      <td>talk.politics.guns</td>\n",
              "    </tr>\n",
              "    <tr>\n",
              "      <th>6</th>\n",
              "      <td>From: bmdelane@quads.uchicago.edu (brian manni...</td>\n",
              "      <td>13</td>\n",
              "      <td>sci.med</td>\n",
              "    </tr>\n",
              "    <tr>\n",
              "      <th>7</th>\n",
              "      <td>From: bgrubb@dante.nmsu.edu (GRUBB)\\nSubject: ...</td>\n",
              "      <td>3</td>\n",
              "      <td>comp.sys.ibm.pc.hardware</td>\n",
              "    </tr>\n",
              "    <tr>\n",
              "      <th>8</th>\n",
              "      <td>From: holmes7000@iscsvax.uni.edu\\nSubject: WIn...</td>\n",
              "      <td>2</td>\n",
              "      <td>comp.os.ms-windows.misc</td>\n",
              "    </tr>\n",
              "    <tr>\n",
              "      <th>9</th>\n",
              "      <td>From: kerr@ux1.cso.uiuc.edu (Stan Kerr)\\nSubje...</td>\n",
              "      <td>4</td>\n",
              "      <td>comp.sys.mac.hardware</td>\n",
              "    </tr>\n",
              "    <tr>\n",
              "      <th>10</th>\n",
              "      <td>From: irwin@cmptrc.lonestar.org (Irwin Arnstei...</td>\n",
              "      <td>8</td>\n",
              "      <td>rec.motorcycles</td>\n",
              "    </tr>\n",
              "    <tr>\n",
              "      <th>11</th>\n",
              "      <td>From: david@terminus.ericsson.se (David Bold)\\...</td>\n",
              "      <td>19</td>\n",
              "      <td>talk.religion.misc</td>\n",
              "    </tr>\n",
              "    <tr>\n",
              "      <th>12</th>\n",
              "      <td>From: rodc@fc.hp.com (Rod Cerkoney)\\nSubject: ...</td>\n",
              "      <td>4</td>\n",
              "      <td>comp.sys.mac.hardware</td>\n",
              "    </tr>\n",
              "    <tr>\n",
              "      <th>13</th>\n",
              "      <td>From: dbm0000@tm0006.lerc.nasa.gov (David B. M...</td>\n",
              "      <td>14</td>\n",
              "      <td>sci.space</td>\n",
              "    </tr>\n",
              "    <tr>\n",
              "      <th>14</th>\n",
              "      <td>From: jllee@acsu.buffalo.edu (Johnny L Lee)\\nS...</td>\n",
              "      <td>6</td>\n",
              "      <td>misc.forsale</td>\n",
              "    </tr>\n",
              "    <tr>\n",
              "      <th>15</th>\n",
              "      <td>From: mathew &lt;mathew@mantis.co.uk&gt;\\nSubject: R...</td>\n",
              "      <td>0</td>\n",
              "      <td>alt.atheism</td>\n",
              "    </tr>\n",
              "    <tr>\n",
              "      <th>16</th>\n",
              "      <td>From: ab@nova.cc.purdue.edu (Allen B)\\nSubject...</td>\n",
              "      <td>1</td>\n",
              "      <td>comp.graphics</td>\n",
              "    </tr>\n",
              "    <tr>\n",
              "      <th>17</th>\n",
              "      <td>From: CPKJP@vm.cc.latech.edu (Kevin Parker)\\nS...</td>\n",
              "      <td>7</td>\n",
              "      <td>rec.autos</td>\n",
              "    </tr>\n",
              "    <tr>\n",
              "      <th>18</th>\n",
              "      <td>From: ritley@uimrl7.mrl.uiuc.edu ()\\nSubject: ...</td>\n",
              "      <td>12</td>\n",
              "      <td>sci.electronics</td>\n",
              "    </tr>\n",
              "    <tr>\n",
              "      <th>19</th>\n",
              "      <td>From: abarden@tybse1.uucp (Ann Marie Barden)\\n...</td>\n",
              "      <td>5</td>\n",
              "      <td>comp.windows.x</td>\n",
              "    </tr>\n",
              "  </tbody>\n",
              "</table>\n",
              "</div>"
            ],
            "text/plain": [
              "                                              content  ...              target_names\n",
              "0   From: lerxst@wam.umd.edu (where's my thing)\\nS...  ...                 rec.autos\n",
              "1   From: guykuo@carson.u.washington.edu (Guy Kuo)...  ...     comp.sys.mac.hardware\n",
              "2   From: twillis@ec.ecn.purdue.edu (Thomas E Will...  ...     comp.sys.mac.hardware\n",
              "3   From: jgreen@amber (Joe Green)\\nSubject: Re: W...  ...             comp.graphics\n",
              "4   From: jcm@head-cfa.harvard.edu (Jonathan McDow...  ...                 sci.space\n",
              "5   From: dfo@vttoulu.tko.vtt.fi (Foxvog Douglas)\\...  ...        talk.politics.guns\n",
              "6   From: bmdelane@quads.uchicago.edu (brian manni...  ...                   sci.med\n",
              "7   From: bgrubb@dante.nmsu.edu (GRUBB)\\nSubject: ...  ...  comp.sys.ibm.pc.hardware\n",
              "8   From: holmes7000@iscsvax.uni.edu\\nSubject: WIn...  ...   comp.os.ms-windows.misc\n",
              "9   From: kerr@ux1.cso.uiuc.edu (Stan Kerr)\\nSubje...  ...     comp.sys.mac.hardware\n",
              "10  From: irwin@cmptrc.lonestar.org (Irwin Arnstei...  ...           rec.motorcycles\n",
              "11  From: david@terminus.ericsson.se (David Bold)\\...  ...        talk.religion.misc\n",
              "12  From: rodc@fc.hp.com (Rod Cerkoney)\\nSubject: ...  ...     comp.sys.mac.hardware\n",
              "13  From: dbm0000@tm0006.lerc.nasa.gov (David B. M...  ...                 sci.space\n",
              "14  From: jllee@acsu.buffalo.edu (Johnny L Lee)\\nS...  ...              misc.forsale\n",
              "15  From: mathew <mathew@mantis.co.uk>\\nSubject: R...  ...               alt.atheism\n",
              "16  From: ab@nova.cc.purdue.edu (Allen B)\\nSubject...  ...             comp.graphics\n",
              "17  From: CPKJP@vm.cc.latech.edu (Kevin Parker)\\nS...  ...                 rec.autos\n",
              "18  From: ritley@uimrl7.mrl.uiuc.edu ()\\nSubject: ...  ...           sci.electronics\n",
              "19  From: abarden@tybse1.uucp (Ann Marie Barden)\\n...  ...            comp.windows.x\n",
              "\n",
              "[20 rows x 3 columns]"
            ]
          },
          "metadata": {
            "tags": []
          },
          "execution_count": 3
        }
      ]
    },
    {
      "cell_type": "code",
      "metadata": {
        "colab": {
          "base_uri": "https://localhost:8080/"
        },
        "id": "i1t4Hd65BKo4",
        "outputId": "425a97f9-8e44-4484-ede5-c56cad6e09da"
      },
      "source": [
        "data_clusterization = data[['content', 'target_names']]\n",
        "data_clusterization.dropna(inplace=True)"
      ],
      "execution_count": 4,
      "outputs": [
        {
          "output_type": "stream",
          "text": [
            "/usr/local/lib/python3.7/dist-packages/ipykernel_launcher.py:2: SettingWithCopyWarning: \n",
            "A value is trying to be set on a copy of a slice from a DataFrame\n",
            "\n",
            "See the caveats in the documentation: https://pandas.pydata.org/pandas-docs/stable/user_guide/indexing.html#returning-a-view-versus-a-copy\n",
            "  \n"
          ],
          "name": "stderr"
        }
      ]
    },
    {
      "cell_type": "code",
      "metadata": {
        "colab": {
          "base_uri": "https://localhost:8080/",
          "height": 108
        },
        "id": "0xRJ8_03Bd1W",
        "outputId": "3145fe22-afec-45bf-8017-54f0a8432640"
      },
      "source": [
        "data_clusterization.head(2)\n"
      ],
      "execution_count": 5,
      "outputs": [
        {
          "output_type": "execute_result",
          "data": {
            "text/html": [
              "<div>\n",
              "<style scoped>\n",
              "    .dataframe tbody tr th:only-of-type {\n",
              "        vertical-align: middle;\n",
              "    }\n",
              "\n",
              "    .dataframe tbody tr th {\n",
              "        vertical-align: top;\n",
              "    }\n",
              "\n",
              "    .dataframe thead th {\n",
              "        text-align: right;\n",
              "    }\n",
              "</style>\n",
              "<table border=\"1\" class=\"dataframe\">\n",
              "  <thead>\n",
              "    <tr style=\"text-align: right;\">\n",
              "      <th></th>\n",
              "      <th>content</th>\n",
              "      <th>target_names</th>\n",
              "    </tr>\n",
              "  </thead>\n",
              "  <tbody>\n",
              "    <tr>\n",
              "      <th>0</th>\n",
              "      <td>From: lerxst@wam.umd.edu (where's my thing)\\nS...</td>\n",
              "      <td>rec.autos</td>\n",
              "    </tr>\n",
              "    <tr>\n",
              "      <th>1</th>\n",
              "      <td>From: guykuo@carson.u.washington.edu (Guy Kuo)...</td>\n",
              "      <td>comp.sys.mac.hardware</td>\n",
              "    </tr>\n",
              "  </tbody>\n",
              "</table>\n",
              "</div>"
            ],
            "text/plain": [
              "                                             content           target_names\n",
              "0  From: lerxst@wam.umd.edu (where's my thing)\\nS...              rec.autos\n",
              "1  From: guykuo@carson.u.washington.edu (Guy Kuo)...  comp.sys.mac.hardware"
            ]
          },
          "metadata": {
            "tags": []
          },
          "execution_count": 5
        }
      ]
    },
    {
      "cell_type": "code",
      "metadata": {
        "colab": {
          "base_uri": "https://localhost:8080/"
        },
        "id": "0iUh1DoLBmXP",
        "outputId": "cc1940bb-33cb-49d4-df05-7b92fb6c7f22"
      },
      "source": [
        "import gensim\n",
        "from gensim.utils import simple_preprocess\n",
        "from gensim.parsing.preprocessing import STOPWORDS\n",
        "from nltk.stem import WordNetLemmatizer, SnowballStemmer\n",
        "from nltk.stem.porter import *\n",
        "import numpy as np\n",
        "np.random.seed(2018)\n",
        "import nltk\n",
        "nltk.download('wordnet')"
      ],
      "execution_count": 6,
      "outputs": [
        {
          "output_type": "stream",
          "text": [
            "[nltk_data] Downloading package wordnet to /root/nltk_data...\n",
            "[nltk_data]   Unzipping corpora/wordnet.zip.\n"
          ],
          "name": "stdout"
        },
        {
          "output_type": "execute_result",
          "data": {
            "text/plain": [
              "True"
            ]
          },
          "metadata": {
            "tags": []
          },
          "execution_count": 6
        }
      ]
    },
    {
      "cell_type": "code",
      "metadata": {
        "id": "s7hwfWd1Bw8S"
      },
      "source": [
        "def lemmatize_stemming(text):\n",
        " stemmer = SnowballStemmer(language='english')\n",
        " return stemmer.stem(WordNetLemmatizer().lemmatize(text, pos='v'))\n",
        "def preprocess(text):\n",
        " result = []\n",
        " for token in gensim.utils.simple_preprocess(text):\n",
        "   if token not in gensim.parsing.preprocessing.STOPWORDS and len(token) > 3:\n",
        "     result.append(lemmatize_stemming(token))\n",
        " return result"
      ],
      "execution_count": 7,
      "outputs": []
    },
    {
      "cell_type": "code",
      "metadata": {
        "id": "iJfVX8biB_Sa"
      },
      "source": [
        "processed_docs = data_clusterization['content'].map(preprocess)\n",
        "data_processed = processed_docs.to_frame()\n",
        "data_processed['content'] = data_processed.content.apply(lambda x: ' '.join(x))\n"
      ],
      "execution_count": 8,
      "outputs": []
    },
    {
      "cell_type": "code",
      "metadata": {
        "colab": {
          "base_uri": "https://localhost:8080/"
        },
        "id": "gCHPTBYJClMy",
        "outputId": "b072aae9-a2cf-43f7-98ec-e7f7bb46169d"
      },
      "source": [
        "!pip install tokenize_uk\n",
        "from collections import Counter\n",
        "from tokenize_uk.tokenize_uk import tokenize_words"
      ],
      "execution_count": 9,
      "outputs": [
        {
          "output_type": "stream",
          "text": [
            "Collecting tokenize_uk\n",
            "  Downloading https://files.pythonhosted.org/packages/ac/21/72abb0304b532e1b2d2473b50d8063ddd0943e3b3fe7e86b366bc4d02aa2/tokenize_uk-0.2.0.tar.gz\n",
            "Requirement already satisfied: six in /usr/local/lib/python3.7/dist-packages (from tokenize_uk) (1.15.0)\n",
            "Building wheels for collected packages: tokenize-uk\n",
            "  Building wheel for tokenize-uk (setup.py) ... \u001b[?25l\u001b[?25hdone\n",
            "  Created wheel for tokenize-uk: filename=tokenize_uk-0.2.0-py2.py3-none-any.whl size=4565 sha256=4cad7fdb9568de046db0bd45fdd75f96e047d52dcc9ea17284517878cf449c4b\n",
            "  Stored in directory: /root/.cache/pip/wheels/2c/e1/95/fd8af5b40aeebdc4e178974e7f638f5553aa8772117054db9e\n",
            "Successfully built tokenize-uk\n",
            "Installing collected packages: tokenize-uk\n",
            "Successfully installed tokenize-uk-0.2.0\n"
          ],
          "name": "stdout"
        }
      ]
    },
    {
      "cell_type": "code",
      "metadata": {
        "colab": {
          "base_uri": "https://localhost:8080/",
          "height": 363
        },
        "id": "94mq8WUoCqHq",
        "outputId": "f232f92e-1f5a-4d41-b656-d74548694184"
      },
      "source": [
        "def display_words(data, title, ax):\n",
        " count = Counter(sum(map(lambda text: tokenize_words(text), data), []))\n",
        " popular = np.array(sorted(count.items(), key=lambda x: x[1], reverse=True)[:20])\n",
        " plt.sca(ax)\n",
        " plt.title(title)\n",
        " plt.bar(popular[:,0], np.int32(popular[:,1]))\n",
        " plt.xticks(rotation=\"vertical\")\n",
        "fig, ax = plt.subplots(figsize=(16, 5))\n",
        "display_words(data_processed.sample(1000).content, \"The most popular words]\", ax)"
      ],
      "execution_count": 10,
      "outputs": [
        {
          "output_type": "display_data",
          "data": {
            "image/png": "[encoded data removed]",
            "text/plain": [
              "<Figure size 1152x360 with 1 Axes>"
            ]
          },
          "metadata": {
            "tags": [],
            "needs_background": "light"
          }
        }
      ]
    },
    {
      "cell_type": "code",
      "metadata": {
        "id": "UCM4qevNC5Ty"
      },
      "source": [
        "from sklearn.feature_extraction.text import CountVectorizer"
      ],
      "execution_count": 11,
      "outputs": []
    },
    {
      "cell_type": "code",
      "metadata": {
        "colab": {
          "base_uri": "https://localhost:8080/"
        },
        "id": "NMnRgz3aC8f5",
        "outputId": "d78fc726-a899-4853-832f-96dcd490f049"
      },
      "source": [
        "count_vectorizer = CountVectorizer()\n",
        "count_data = count_vectorizer.fit_transform(data_processed['content'])\n",
        "count_data"
      ],
      "execution_count": 12,
      "outputs": [
        {
          "output_type": "execute_result",
          "data": {
            "text/plain": [
              "<11314x61410 sparse matrix of type '<class 'numpy.int64'>'\n",
              "\twith 934270 stored elements in Compressed Sparse Row format>"
            ]
          },
          "metadata": {
            "tags": []
          },
          "execution_count": 12
        }
      ]
    },
    {
      "cell_type": "code",
      "metadata": {
        "id": "6TmSX73jDEJS"
      },
      "source": [
        "likelihood = []\n",
        "n_clusters = []"
      ],
      "execution_count": 13,
      "outputs": []
    },
    {
      "cell_type": "code",
      "metadata": {
        "id": "z9uTcUJlDHT0"
      },
      "source": [
        "import seaborn as sns\n",
        "from sklearn.decomposition import LatentDirichletAllocation as LDA"
      ],
      "execution_count": 14,
      "outputs": []
    },
    {
      "cell_type": "code",
      "metadata": {
        "id": "Hki6oWR0DLwb"
      },
      "source": [
        "def estimate_number_clusters(data, nclusters):\n",
        " for n in nclusters:\n",
        "   likelihood.append(LDA(n_components=n, n_jobs=-1).fit(data).score(data))\n",
        " n_clusters.append(n)\n",
        " print(\"Sccesfully estimated \", n)\n",
        " fig, ax = plt.subplots(figsize=(15, 5))\n",
        " sns.lineplot(x=n_clusters, y=likelihood, ax=ax)\n",
        " ax.set_title('Elbow method for choosing n, likelihood')\n",
        " ax.set_ylabel('Likelihood')\n",
        " ax.set_xlabel('n')\n",
        "\n",
        "\n"
      ],
      "execution_count": 15,
      "outputs": []
    },
    {
      "cell_type": "code",
      "metadata": {
        "id": "_CBG_y1fJszZ"
      },
      "source": [
        "# estimate_number_clusters(count_data, [10, 15, 20, 50])\n",
        " \n",
        " "
      ],
      "execution_count": 16,
      "outputs": []
    },
    {
      "cell_type": "code",
      "metadata": {
        "id": "_XNMixjQJuYE"
      },
      "source": [
        "def print_topics(model, count_vectorizer, n_top_words):\n",
        "  words = count_vectorizer.get_feature_names()\n",
        "  for topic_idx, topic in enumerate(model.components_):\n",
        "    print(\"\\nTopic #%d:\" % topic_idx)\n",
        "    print(\" \".join([words[i]\n",
        "  for i in topic.argsort()[:-n_top_words - 1:-1]]))"
      ],
      "execution_count": 17,
      "outputs": []
    },
    {
      "cell_type": "code",
      "metadata": {
        "id": "Ugizp_hhFpzm"
      },
      "source": [
        "from sklearn.decomposition import LatentDirichletAllocation as LDA\n"
      ],
      "execution_count": 18,
      "outputs": []
    },
    {
      "cell_type": "code",
      "metadata": {
        "colab": {
          "base_uri": "https://localhost:8080/"
        },
        "id": "oWtTkYX1Ftia",
        "outputId": "d4e510a9-fe4e-45be-b50e-c16eb5ac697b"
      },
      "source": [
        "number_topics = 70\n",
        "number_words = 10\n",
        "# Create and fit the LDA model\n",
        "lda = LDA(n_components=number_topics, n_jobs=-1)\n",
        "lda.fit(count_data)\n",
        "# Print the topics found by the LDA model\n",
        "print(\"Topics found via LDA:\")\n",
        "print_topics(lda, count_vectorizer, number_words)"
      ],
      "execution_count": 19,
      "outputs": [
        {
          "output_type": "stream",
          "text": [
            "Topics found via LDA:\n",
            "\n",
            "Topic #0:\n",
            "card line subject organ modem driver know port thank post\n",
            "\n",
            "Topic #1:\n",
            "moral uiuc write object subject line think organ articl univers\n",
            "\n",
            "Topic #2:\n",
            "pitt bank gordon articl write organ subject line pittsburgh repli\n",
            "\n",
            "Topic #3:\n",
            "access digex line subject organ alaska write host post nntp\n",
            "\n",
            "Topic #4:\n",
            "chip encrypt clipper secur govern escrow key phone technolog enforc\n",
            "\n",
            "Topic #5:\n",
            "netcom line organ subject write engin softwar know communic servic\n",
            "\n",
            "Topic #6:\n",
            "player year leagu organ line stanford subject univers season team\n",
            "\n",
            "Topic #7:\n",
            "columbia subject line organ univers post game host nntp sale\n",
            "\n",
            "Topic #8:\n",
            "write iastat mcgill line univers organ subject articl monash mcrcim\n",
            "\n",
            "Topic #9:\n",
            "line subject wire bike organ like power good need drive\n",
            "\n",
            "Topic #10:\n",
            "line organ subject post navi write articl nntp host robert\n",
            "\n",
            "Topic #11:\n",
            "write articl buffalo henrik line organ subject armenia say robert\n",
            "\n",
            "Topic #12:\n",
            "organ subject line louisvill articl write church main arromde creed\n",
            "\n",
            "Topic #13:\n",
            "imag file graphic format program jpeg color convert display keyboard\n",
            "\n",
            "Topic #14:\n",
            "entri program file rule section line info need build compil\n",
            "\n",
            "Topic #15:\n",
            "cwru cleveland freenet univers subject line western host organ reserv\n",
            "\n",
            "Topic #16:\n",
            "israel isra arab jew palestinian attack state kill jewish write\n",
            "\n",
            "Topic #17:\n",
            "david len busi world line graphit rchz organ subject plant\n",
            "\n",
            "Topic #18:\n",
            "right organ militia articl line write state subject peopl amend\n",
            "\n",
            "Topic #19:\n",
            "space univers cramer optilink homosexu nation research program inform april\n",
            "\n",
            "Topic #20:\n",
            "line organ subject freenet clarkson carleton hell gene wright rochest\n",
            "\n",
            "Topic #21:\n",
            "write subject articl line organ know post like dyer harvard\n",
            "\n",
            "Topic #22:\n",
            "gatech georgia michael prism flyer line subject univers organ technolog\n",
            "\n",
            "Topic #23:\n",
            "ingr absolut jake write boni opinion marri subject articl line\n",
            "\n",
            "Topic #24:\n",
            "appl sandvik caltech write kent organ line subject articl livesey\n",
            "\n",
            "Topic #25:\n",
            "mail data user list anonym includ inform internet softwar file\n",
            "\n",
            "Topic #26:\n",
            "state ohio write magnus line organ subject articl post univers\n",
            "\n",
            "Topic #27:\n",
            "peopl right govern think state countri like person want time\n",
            "\n",
            "Topic #28:\n",
            "play period power team ericsson sweden king goal edmonton philadelphia\n",
            "\n",
            "Topic #29:\n",
            "articl write line organ subject rise post uoknor hulman callison\n",
            "\n",
            "Topic #30:\n",
            "subject line organ monitor post washington nntp host univers window\n",
            "\n",
            "Topic #31:\n",
            "hockey team game play player line playoff subject organ leaf\n",
            "\n",
            "Topic #32:\n",
            "bellcor write iran line subject organ articl fist program fractal\n",
            "\n",
            "Topic #33:\n",
            "vote version contact type machin math compass andrew comment kadi\n",
            "\n",
            "Topic #34:\n",
            "motorcycl bike rider ride hydro levin jodi denizen rid cx_s\n",
            "\n",
            "Topic #35:\n",
            "subject line organ mathew file watson write world brandei keith\n",
            "\n",
            "Topic #36:\n",
            "food virginia cancer water center univers research cell organ tast\n",
            "\n",
            "Topic #37:\n",
            "write netcom articl ripem line organ subject david public code\n",
            "\n",
            "Topic #38:\n",
            "write articl cornel subject organ line libertarian post like thor\n",
            "\n",
            "Topic #39:\n",
            "line subject organ write post like nntp host articl know\n",
            "\n",
            "Topic #40:\n",
            "diseas doctor medic patient pain caus treatment organ subject problem\n",
            "\n",
            "Topic #41:\n",
            "jesus christian christ come church write say bibl paul lord\n",
            "\n",
            "Topic #42:\n",
            "gun weapon firearm crime polic like control crimin handgun state\n",
            "\n",
            "Topic #43:\n",
            "write line subject organ articl post udel like know nntp\n",
            "\n",
            "Topic #44:\n",
            "scsi cool line radar write tower subject organ water articl\n",
            "\n",
            "Topic #45:\n",
            "atheist atheism exist post subject east pope write articl cathol\n",
            "\n",
            "Topic #46:\n",
            "request line subject year report write increas organ state send\n",
            "\n",
            "Topic #47:\n",
            "encrypt cipher crypt cryptographi random attack secur public unit number\n",
            "\n",
            "Topic #48:\n",
            "andrew line arizona subject organ post baalk bit kelvin carnegi\n",
            "\n",
            "Topic #49:\n",
            "christian believ think peopl know question exist reason mean thing\n",
            "\n",
            "Topic #50:\n",
            "line subject organ duke univers point post host nntp write\n",
            "\n",
            "Topic #51:\n",
            "line subject organ post appl nntp host simm write printer\n",
            "\n",
            "Topic #52:\n",
            "drug legal tobacco health state report cigarett articl smokeless beckman\n",
            "\n",
            "Topic #53:\n",
            "nrhj wwiz gizw bhjn line bxom organ subject pnei nriz\n",
            "\n",
            "Topic #54:\n",
            "say go know come peopl like think tell time look\n",
            "\n",
            "Topic #55:\n",
            "window widget server motif applic subject display problem program file\n",
            "\n",
            "Topic #56:\n",
            "stratus write batf line subject waco organ rocket compound articl\n",
            "\n",
            "Topic #57:\n",
            "launch myer satellit koresh juda hang time greek claim persian\n",
            "\n",
            "Topic #58:\n",
            "file output program window line char write printf entri onam\n",
            "\n",
            "Topic #59:\n",
            "insur probe health radar privat launch satellit radio cost care\n",
            "\n",
            "Topic #60:\n",
            "space nasa orbit henri earth launch line organ shuttl subject\n",
            "\n",
            "Topic #61:\n",
            "game year team play season score pitch think run player\n",
            "\n",
            "Topic #62:\n",
            "presid clinton stephanopoulo go know think work say job senat\n",
            "\n",
            "Topic #63:\n",
            "font purdu organ line subject blah write articl hiram sale\n",
            "\n",
            "Topic #64:\n",
            "window organ subject line write articl jewish come post expos\n",
            "\n",
            "Topic #65:\n",
            "armenian turkish turk greek turkey argic serdar armenia genocid peopl\n",
            "\n",
            "Topic #66:\n",
            "write organ subject line articl harri good year post trade\n",
            "\n",
            "Topic #67:\n",
            "drive disk problem hard card control work driver memori floppi\n",
            "\n",
            "Topic #68:\n",
            "islam muslim book copi write line good organ subject cover\n",
            "\n",
            "Topic #69:\n",
            "colorado line subject organ post host nntp write articl univers\n"
          ],
          "name": "stdout"
        }
      ]
    },
    {
      "cell_type": "code",
      "metadata": {
        "colab": {
          "base_uri": "https://localhost:8080/",
          "height": 198
        },
        "id": "LrPaQEiuGRt3",
        "outputId": "7ec3f6d1-51a1-4b0c-da4a-edc9d01ca6be"
      },
      "source": [
        "cluster_probabilities = lda.transform(count_data)\n",
        "data_processed['target'] = np.argmax(cluster_probabilities, axis=1)\n",
        "data_processed.head()"
      ],
      "execution_count": 20,
      "outputs": [
        {
          "output_type": "execute_result",
          "data": {
            "text/html": [
              "<div>\n",
              "<style scoped>\n",
              "    .dataframe tbody tr th:only-of-type {\n",
              "        vertical-align: middle;\n",
              "    }\n",
              "\n",
              "    .dataframe tbody tr th {\n",
              "        vertical-align: top;\n",
              "    }\n",
              "\n",
              "    .dataframe thead th {\n",
              "        text-align: right;\n",
              "    }\n",
              "</style>\n",
              "<table border=\"1\" class=\"dataframe\">\n",
              "  <thead>\n",
              "    <tr style=\"text-align: right;\">\n",
              "      <th></th>\n",
              "      <th>content</th>\n",
              "      <th>target</th>\n",
              "    </tr>\n",
              "  </thead>\n",
              "  <tbody>\n",
              "    <tr>\n",
              "      <th>0</th>\n",
              "      <td>lerxst thing subject nntp post host organ univ...</td>\n",
              "      <td>21</td>\n",
              "    </tr>\n",
              "    <tr>\n",
              "      <th>1</th>\n",
              "      <td>guykuo carson washington subject clock poll fi...</td>\n",
              "      <td>30</td>\n",
              "    </tr>\n",
              "    <tr>\n",
              "      <th>2</th>\n",
              "      <td>twilli purdu thoma willi subject question orga...</td>\n",
              "      <td>51</td>\n",
              "    </tr>\n",
              "    <tr>\n",
              "      <th>3</th>\n",
              "      <td>jgreen amber green subject weitek organ harri ...</td>\n",
              "      <td>26</td>\n",
              "    </tr>\n",
              "    <tr>\n",
              "      <th>4</th>\n",
              "      <td>head harvard jonathan mcdowel subject shuttl l...</td>\n",
              "      <td>69</td>\n",
              "    </tr>\n",
              "  </tbody>\n",
              "</table>\n",
              "</div>"
            ],
            "text/plain": [
              "                                             content  target\n",
              "0  lerxst thing subject nntp post host organ univ...      21\n",
              "1  guykuo carson washington subject clock poll fi...      30\n",
              "2  twilli purdu thoma willi subject question orga...      51\n",
              "3  jgreen amber green subject weitek organ harri ...      26\n",
              "4  head harvard jonathan mcdowel subject shuttl l...      69"
            ]
          },
          "metadata": {
            "tags": []
          },
          "execution_count": 20
        }
      ]
    },
    {
      "cell_type": "code",
      "metadata": {
        "id": "oJNJOHB9GkKP"
      },
      "source": [
        "import seaborn as sns\n"
      ],
      "execution_count": 21,
      "outputs": []
    },
    {
      "cell_type": "code",
      "metadata": {
        "colab": {
          "base_uri": "https://localhost:8080/",
          "height": 595
        },
        "id": "At3W9AMVGnga",
        "outputId": "529c0a90-7b64-424f-cd81-3879f6920302"
      },
      "source": [
        "fig, ax = plt.subplots(figsize=(20, 10))\n",
        "sns.countplot(x=data_processed.target);\n",
        "ax.set_title(\"Number of articles that correspond to the topic\");\n"
      ],
      "execution_count": 22,
      "outputs": [
        {
          "output_type": "display_data",
          "data": {
            "image/png": "[encoded data removed]",
            "text/plain": [
              "<Figure size 1440x720 with 1 Axes>"
            ]
          },
          "metadata": {
            "tags": [],
            "needs_background": "light"
          }
        }
      ]
    },
    {
      "cell_type": "code",
      "metadata": {
        "id": "kJ07JMrCRAYx",
        "colab": {
          "base_uri": "https://localhost:8080/"
        },
        "outputId": "9451b86f-2d2d-47d9-88fe-80c30cbf6614"
      },
      "source": [
        "#Loading the data set - training data.\n",
        "from sklearn.datasets import fetch_20newsgroups\n",
        "mydata_train = fetch_20newsgroups(subset='train', shuffle=True, remove = ('headers', 'footers', 'quotes'))"
      ],
      "execution_count": 23,
      "outputs": [
        {
          "output_type": "stream",
          "text": [
            "Downloading 20news dataset. This may take a few minutes.\n",
            "Downloading dataset from https://ndownloader.figshare.com/files/5975967 (14 MB)\n"
          ],
          "name": "stderr"
        }
      ]
    },
    {
      "cell_type": "code",
      "metadata": {
        "colab": {
          "base_uri": "https://localhost:8080/"
        },
        "id": "Bpyae_wBRHIU",
        "outputId": "0f794b54-52c3-4434-d5d1-c87dfc1d3356"
      },
      "source": [
        "list(mydata_train)\n"
      ],
      "execution_count": 24,
      "outputs": [
        {
          "output_type": "execute_result",
          "data": {
            "text/plain": [
              "['data', 'filenames', 'target_names', 'target', 'DESCR']"
            ]
          },
          "metadata": {
            "tags": []
          },
          "execution_count": 24
        }
      ]
    },
    {
      "cell_type": "code",
      "metadata": {
        "colab": {
          "base_uri": "https://localhost:8080/"
        },
        "id": "WsmrhUPeRJ9l",
        "outputId": "29760776-5f92-4fb9-9e86-4926a55f6f7f"
      },
      "source": [
        "print('Training data size:', len(mydata_train['data']))\n"
      ],
      "execution_count": 25,
      "outputs": [
        {
          "output_type": "stream",
          "text": [
            "Training data size: 11314\n"
          ],
          "name": "stdout"
        }
      ]
    },
    {
      "cell_type": "code",
      "metadata": {
        "colab": {
          "base_uri": "https://localhost:8080/"
        },
        "id": "Nv1WrOdSRONT",
        "outputId": "88e98240-278d-4091-fda4-bef6485bc8a0"
      },
      "source": [
        "# Printing all the categories\n",
        "mydata_train.target_names"
      ],
      "execution_count": 26,
      "outputs": [
        {
          "output_type": "execute_result",
          "data": {
            "text/plain": [
              "['alt.atheism',\n",
              " 'comp.graphics',\n",
              " 'comp.os.ms-windows.misc',\n",
              " 'comp.sys.ibm.pc.hardware',\n",
              " 'comp.sys.mac.hardware',\n",
              " 'comp.windows.x',\n",
              " 'misc.forsale',\n",
              " 'rec.autos',\n",
              " 'rec.motorcycles',\n",
              " 'rec.sport.baseball',\n",
              " 'rec.sport.hockey',\n",
              " 'sci.crypt',\n",
              " 'sci.electronics',\n",
              " 'sci.med',\n",
              " 'sci.space',\n",
              " 'soc.religion.christian',\n",
              " 'talk.politics.guns',\n",
              " 'talk.politics.mideast',\n",
              " 'talk.politics.misc',\n",
              " 'talk.religion.misc']"
            ]
          },
          "metadata": {
            "tags": []
          },
          "execution_count": 26
        }
      ]
    },
    {
      "cell_type": "code",
      "metadata": {
        "colab": {
          "base_uri": "https://localhost:8080/"
        },
        "id": "krZedPVlRRxL",
        "outputId": "05d69170-768c-4509-bf3f-e6a1b9c010f0"
      },
      "source": [
        "\n",
        "# Finding frequency of each category\n",
        "targets, frequency = np.unique(mydata_train.target, return_counts=True)\n",
        "targets, frequency"
      ],
      "execution_count": 27,
      "outputs": [
        {
          "output_type": "execute_result",
          "data": {
            "text/plain": [
              "(array([ 0,  1,  2,  3,  4,  5,  6,  7,  8,  9, 10, 11, 12, 13, 14, 15, 16,\n",
              "        17, 18, 19]),\n",
              " array([480, 584, 591, 590, 578, 593, 585, 594, 598, 597, 600, 595, 591,\n",
              "        594, 593, 599, 546, 564, 465, 377]))"
            ]
          },
          "metadata": {
            "tags": []
          },
          "execution_count": 27
        }
      ]
    },
    {
      "cell_type": "code",
      "metadata": {
        "colab": {
          "base_uri": "https://localhost:8080/"
        },
        "id": "lSr8qhRVRWTb",
        "outputId": "524491ce-b31a-4422-d08d-93eb011343ad"
      },
      "source": [
        "targets_str = np.array(mydata_train.target_names)\n",
        "print(list(zip(targets_str, frequency)))"
      ],
      "execution_count": 28,
      "outputs": [
        {
          "output_type": "stream",
          "text": [
            "[('alt.atheism', 480), ('comp.graphics', 584), ('comp.os.ms-windows.misc', 591), ('comp.sys.ibm.pc.hardware', 590), ('comp.sys.mac.hardware', 578), ('comp.windows.x', 593), ('misc.forsale', 585), ('rec.autos', 594), ('rec.motorcycles', 598), ('rec.sport.baseball', 597), ('rec.sport.hockey', 600), ('sci.crypt', 595), ('sci.electronics', 591), ('sci.med', 594), ('sci.space', 593), ('soc.religion.christian', 599), ('talk.politics.guns', 546), ('talk.politics.mideast', 564), ('talk.politics.misc', 465), ('talk.religion.misc', 377)]\n"
          ],
          "name": "stdout"
        }
      ]
    },
    {
      "cell_type": "code",
      "metadata": {
        "id": "1pZ_KnVPRZSm"
      },
      "source": [
        "mydata_test = fetch_20newsgroups(subset='test', shuffle=True, remove = ('headers', 'footers', 'quotes'))\n"
      ],
      "execution_count": 29,
      "outputs": []
    },
    {
      "cell_type": "code",
      "metadata": {
        "colab": {
          "base_uri": "https://localhost:8080/"
        },
        "id": "IEcSYoJmRcUc",
        "outputId": "5fb2d482-2ba5-4dbf-f82c-a4fe7921d0ae"
      },
      "source": [
        "print('Testing data size:', len(mydata_test['data']))\n"
      ],
      "execution_count": 30,
      "outputs": [
        {
          "output_type": "stream",
          "text": [
            "Testing data size: 7532\n"
          ],
          "name": "stdout"
        }
      ]
    },
    {
      "cell_type": "code",
      "metadata": {
        "colab": {
          "base_uri": "https://localhost:8080/",
          "height": 198
        },
        "id": "_aSKch0QRf_o",
        "outputId": "188786ed-a1a0-4647-b9f1-a71da405e981"
      },
      "source": [
        "mydata_train_df = pd.DataFrame({'data': mydata_train.data, 'target': mydata_train.target})\n",
        "mydata_train_df.head()"
      ],
      "execution_count": 31,
      "outputs": [
        {
          "output_type": "execute_result",
          "data": {
            "text/html": [
              "<div>\n",
              "<style scoped>\n",
              "    .dataframe tbody tr th:only-of-type {\n",
              "        vertical-align: middle;\n",
              "    }\n",
              "\n",
              "    .dataframe tbody tr th {\n",
              "        vertical-align: top;\n",
              "    }\n",
              "\n",
              "    .dataframe thead th {\n",
              "        text-align: right;\n",
              "    }\n",
              "</style>\n",
              "<table border=\"1\" class=\"dataframe\">\n",
              "  <thead>\n",
              "    <tr style=\"text-align: right;\">\n",
              "      <th></th>\n",
              "      <th>data</th>\n",
              "      <th>target</th>\n",
              "    </tr>\n",
              "  </thead>\n",
              "  <tbody>\n",
              "    <tr>\n",
              "      <th>0</th>\n",
              "      <td>I was wondering if anyone out there could enli...</td>\n",
              "      <td>7</td>\n",
              "    </tr>\n",
              "    <tr>\n",
              "      <th>1</th>\n",
              "      <td>A fair number of brave souls who upgraded thei...</td>\n",
              "      <td>4</td>\n",
              "    </tr>\n",
              "    <tr>\n",
              "      <th>2</th>\n",
              "      <td>well folks, my mac plus finally gave up the gh...</td>\n",
              "      <td>4</td>\n",
              "    </tr>\n",
              "    <tr>\n",
              "      <th>3</th>\n",
              "      <td>\\nDo you have Weitek's address/phone number?  ...</td>\n",
              "      <td>1</td>\n",
              "    </tr>\n",
              "    <tr>\n",
              "      <th>4</th>\n",
              "      <td>From article &lt;C5owCB.n3p@world.std.com&gt;, by to...</td>\n",
              "      <td>14</td>\n",
              "    </tr>\n",
              "  </tbody>\n",
              "</table>\n",
              "</div>"
            ],
            "text/plain": [
              "                                                data  target\n",
              "0  I was wondering if anyone out there could enli...       7\n",
              "1  A fair number of brave souls who upgraded thei...       4\n",
              "2  well folks, my mac plus finally gave up the gh...       4\n",
              "3  \\nDo you have Weitek's address/phone number?  ...       1\n",
              "4  From article <C5owCB.n3p@world.std.com>, by to...      14"
            ]
          },
          "metadata": {
            "tags": []
          },
          "execution_count": 31
        }
      ]
    },
    {
      "cell_type": "code",
      "metadata": {
        "colab": {
          "base_uri": "https://localhost:8080/",
          "height": 198
        },
        "id": "ttru-cT7Rj9K",
        "outputId": "f6f935a4-dbb5-4899-b398-870857d9bc1b"
      },
      "source": [
        "# Text preprocessing steps - remove numbers, captial letters and punctuation\n",
        "import re\n",
        "import string\n",
        "\n",
        "alphanumeric = lambda x: re.sub(r\"\"\"\\w*\\d\\w*\"\"\", ' ', x)\n",
        "punc_lower = lambda x: re.sub('[%s]' % re.escape(string.punctuation), ' ', x.lower())\n",
        "\n",
        "mydata_train_df['data'] = mydata_train_df.data.map(alphanumeric).map(punc_lower)\n",
        "mydata_train_df.head()"
      ],
      "execution_count": 32,
      "outputs": [
        {
          "output_type": "execute_result",
          "data": {
            "text/html": [
              "<div>\n",
              "<style scoped>\n",
              "    .dataframe tbody tr th:only-of-type {\n",
              "        vertical-align: middle;\n",
              "    }\n",
              "\n",
              "    .dataframe tbody tr th {\n",
              "        vertical-align: top;\n",
              "    }\n",
              "\n",
              "    .dataframe thead th {\n",
              "        text-align: right;\n",
              "    }\n",
              "</style>\n",
              "<table border=\"1\" class=\"dataframe\">\n",
              "  <thead>\n",
              "    <tr style=\"text-align: right;\">\n",
              "      <th></th>\n",
              "      <th>data</th>\n",
              "      <th>target</th>\n",
              "    </tr>\n",
              "  </thead>\n",
              "  <tbody>\n",
              "    <tr>\n",
              "      <th>0</th>\n",
              "      <td>i was wondering if anyone out there could enli...</td>\n",
              "      <td>7</td>\n",
              "    </tr>\n",
              "    <tr>\n",
              "      <th>1</th>\n",
              "      <td>a fair number of brave souls who upgraded thei...</td>\n",
              "      <td>4</td>\n",
              "    </tr>\n",
              "    <tr>\n",
              "      <th>2</th>\n",
              "      <td>well folks  my mac plus finally gave up the gh...</td>\n",
              "      <td>4</td>\n",
              "    </tr>\n",
              "    <tr>\n",
              "      <th>3</th>\n",
              "      <td>\\ndo you have weitek s address phone number   ...</td>\n",
              "      <td>1</td>\n",
              "    </tr>\n",
              "    <tr>\n",
              "      <th>4</th>\n",
              "      <td>from article      world std com   by tombaker ...</td>\n",
              "      <td>14</td>\n",
              "    </tr>\n",
              "  </tbody>\n",
              "</table>\n",
              "</div>"
            ],
            "text/plain": [
              "                                                data  target\n",
              "0  i was wondering if anyone out there could enli...       7\n",
              "1  a fair number of brave souls who upgraded thei...       4\n",
              "2  well folks  my mac plus finally gave up the gh...       4\n",
              "3  \\ndo you have weitek s address phone number   ...       1\n",
              "4  from article      world std com   by tombaker ...      14"
            ]
          },
          "metadata": {
            "tags": []
          },
          "execution_count": 32
        }
      ]
    },
    {
      "cell_type": "code",
      "metadata": {
        "colab": {
          "base_uri": "https://localhost:8080/",
          "height": 198
        },
        "id": "8f6jlH07RoBH",
        "outputId": "53491f1e-efe9-4e74-edcc-2de2a638ec49"
      },
      "source": [
        "mydata_test_df = pd.DataFrame({'data': mydata_test.data, 'target': mydata_test.target})\n",
        "mydata_test_df.head()"
      ],
      "execution_count": 33,
      "outputs": [
        {
          "output_type": "execute_result",
          "data": {
            "text/html": [
              "<div>\n",
              "<style scoped>\n",
              "    .dataframe tbody tr th:only-of-type {\n",
              "        vertical-align: middle;\n",
              "    }\n",
              "\n",
              "    .dataframe tbody tr th {\n",
              "        vertical-align: top;\n",
              "    }\n",
              "\n",
              "    .dataframe thead th {\n",
              "        text-align: right;\n",
              "    }\n",
              "</style>\n",
              "<table border=\"1\" class=\"dataframe\">\n",
              "  <thead>\n",
              "    <tr style=\"text-align: right;\">\n",
              "      <th></th>\n",
              "      <th>data</th>\n",
              "      <th>target</th>\n",
              "    </tr>\n",
              "  </thead>\n",
              "  <tbody>\n",
              "    <tr>\n",
              "      <th>0</th>\n",
              "      <td>I am a little confused on all of the models of...</td>\n",
              "      <td>7</td>\n",
              "    </tr>\n",
              "    <tr>\n",
              "      <th>1</th>\n",
              "      <td>I'm not familiar at all with the format of the...</td>\n",
              "      <td>5</td>\n",
              "    </tr>\n",
              "    <tr>\n",
              "      <th>2</th>\n",
              "      <td>\\nIn a word, yes.\\n</td>\n",
              "      <td>0</td>\n",
              "    </tr>\n",
              "    <tr>\n",
              "      <th>3</th>\n",
              "      <td>\\nThey were attacking the Iraqis to drive them...</td>\n",
              "      <td>17</td>\n",
              "    </tr>\n",
              "    <tr>\n",
              "      <th>4</th>\n",
              "      <td>\\nI've just spent two solid months arguing tha...</td>\n",
              "      <td>19</td>\n",
              "    </tr>\n",
              "  </tbody>\n",
              "</table>\n",
              "</div>"
            ],
            "text/plain": [
              "                                                data  target\n",
              "0  I am a little confused on all of the models of...       7\n",
              "1  I'm not familiar at all with the format of the...       5\n",
              "2                                \\nIn a word, yes.\\n       0\n",
              "3  \\nThey were attacking the Iraqis to drive them...      17\n",
              "4  \\nI've just spent two solid months arguing tha...      19"
            ]
          },
          "metadata": {
            "tags": []
          },
          "execution_count": 33
        }
      ]
    },
    {
      "cell_type": "code",
      "metadata": {
        "colab": {
          "base_uri": "https://localhost:8080/",
          "height": 198
        },
        "id": "tUjU5KP5RrlP",
        "outputId": "40749d2e-498e-4139-9e94-099b7395f5d7"
      },
      "source": [
        "# Text preprocessing steps - remove numbers, captial letters and punctuation\n",
        "alphanumeric = lambda x: re.sub(r\"\"\"\\w*\\d\\w*\"\"\", ' ', x)\n",
        "punc_lower = lambda x: re.sub('[%s]' % re.escape(string.punctuation), ' ', x.lower())\n",
        "\n",
        "mydata_test_df['data'] = mydata_test_df.data.map(alphanumeric).map(punc_lower)\n",
        "mydata_test_df.head()"
      ],
      "execution_count": 34,
      "outputs": [
        {
          "output_type": "execute_result",
          "data": {
            "text/html": [
              "<div>\n",
              "<style scoped>\n",
              "    .dataframe tbody tr th:only-of-type {\n",
              "        vertical-align: middle;\n",
              "    }\n",
              "\n",
              "    .dataframe tbody tr th {\n",
              "        vertical-align: top;\n",
              "    }\n",
              "\n",
              "    .dataframe thead th {\n",
              "        text-align: right;\n",
              "    }\n",
              "</style>\n",
              "<table border=\"1\" class=\"dataframe\">\n",
              "  <thead>\n",
              "    <tr style=\"text-align: right;\">\n",
              "      <th></th>\n",
              "      <th>data</th>\n",
              "      <th>target</th>\n",
              "    </tr>\n",
              "  </thead>\n",
              "  <tbody>\n",
              "    <tr>\n",
              "      <th>0</th>\n",
              "      <td>i am a little confused on all of the models of...</td>\n",
              "      <td>7</td>\n",
              "    </tr>\n",
              "    <tr>\n",
              "      <th>1</th>\n",
              "      <td>i m not familiar at all with the format of the...</td>\n",
              "      <td>5</td>\n",
              "    </tr>\n",
              "    <tr>\n",
              "      <th>2</th>\n",
              "      <td>\\nin a word  yes \\n</td>\n",
              "      <td>0</td>\n",
              "    </tr>\n",
              "    <tr>\n",
              "      <th>3</th>\n",
              "      <td>\\nthey were attacking the iraqis to drive them...</td>\n",
              "      <td>17</td>\n",
              "    </tr>\n",
              "    <tr>\n",
              "      <th>4</th>\n",
              "      <td>\\ni ve just spent two solid months arguing tha...</td>\n",
              "      <td>19</td>\n",
              "    </tr>\n",
              "  </tbody>\n",
              "</table>\n",
              "</div>"
            ],
            "text/plain": [
              "                                                data  target\n",
              "0  i am a little confused on all of the models of...       7\n",
              "1  i m not familiar at all with the format of the...       5\n",
              "2                                \\nin a word  yes \\n       0\n",
              "3  \\nthey were attacking the iraqis to drive them...      17\n",
              "4  \\ni ve just spent two solid months arguing tha...      19"
            ]
          },
          "metadata": {
            "tags": []
          },
          "execution_count": 34
        }
      ]
    },
    {
      "cell_type": "code",
      "metadata": {
        "colab": {
          "base_uri": "https://localhost:8080/"
        },
        "id": "yUELDX2-bNNg",
        "outputId": "19b93fe6-724c-457e-80ce-a35c12da5415"
      },
      "source": [
        "# Extracting features from text files\n",
        "from sklearn.feature_extraction.text import CountVectorizer\n",
        "count_vect = CountVectorizer(stop_words='english')\n",
        "X_train_cv = count_vect.fit_transform(mydata_train_df.data) # fit_transform learns the\n",
        "X_test_cv = count_vect.transform(mydata_test_df.data) # transform uses the same vocab an\n",
        "print(X_train_cv.shape)\n",
        "print(type(X_train_cv))"
      ],
      "execution_count": 35,
      "outputs": [
        {
          "output_type": "stream",
          "text": [
            "(11314, 67822)\n",
            "<class 'scipy.sparse.csr.csr_matrix'>\n"
          ],
          "name": "stdout"
        }
      ]
    },
    {
      "cell_type": "code",
      "metadata": {
        "id": "cRUtZ9-VAkiY"
      },
      "source": [
        "import numpy as np\n",
        "\n",
        "from tqdm import tqdm\n",
        "\n",
        "from sklearn.datasets import fetch_20newsgroups\n",
        "\n",
        "from keras.preprocessing.text import Tokenizer\n",
        "from keras.preprocessing.sequence import pad_sequences\n",
        "from keras.utils.np_utils import to_categorical\n",
        "from keras.layers import Dense, Input, Flatten\n",
        "from keras.layers import Conv1D, MaxPooling1D, Embedding, Dropout\n",
        "from keras.models import Model"
      ],
      "execution_count": 36,
      "outputs": []
    },
    {
      "cell_type": "code",
      "metadata": {
        "colab": {
          "base_uri": "https://localhost:8080/"
        },
        "id": "4Oz3FjnHAqOw",
        "outputId": "8572e56b-2581-4a50-bc60-5578c138a3f5"
      },
      "source": [
        "categories = ['alt.atheism', 'soc.religion.christian'] \n",
        "\n",
        "newsgroups_train = fetch_20newsgroups(subset='train', shuffle=True, \n",
        "                                      categories=categories,)\n",
        "\n",
        "print (newsgroups_train.target_names)\n",
        "print (len(newsgroups_train.data))\n",
        "\n",
        "#print (newsgroups_train.data[1])\n",
        "print(\"\\n\".join(newsgroups_train.data[0].split(\"\\n\")[10:15]))"
      ],
      "execution_count": 37,
      "outputs": [
        {
          "output_type": "stream",
          "text": [
            "['alt.atheism', 'soc.religion.christian']\n",
            "1079\n",
            "   WASHINGTON, April 19  -- A symposium on the Dead Sea \n",
            "Scrolls will be held at the Library of Congress on Wednesday,\n",
            "April 21, and Thursday, April 22.  The two-day program, cosponsored\n",
            "by the library and Baltimore Hebrew University, with additional\n",
            "support from the Project Judaica Foundation, will be held in the\n"
          ],
          "name": "stdout"
        }
      ]
    },
    {
      "cell_type": "code",
      "metadata": {
        "colab": {
          "base_uri": "https://localhost:8080/"
        },
        "id": "I9VVEyQWAu6m",
        "outputId": "58243233-52cb-4462-8254-e6ffa5c40d68"
      },
      "source": [
        "%%time\n",
        "\n",
        "texts = []\n",
        "\n",
        "labels=newsgroups_train.target\n",
        "texts = newsgroups_train.data\n",
        "\n",
        "MAX_SEQUENCE_LENGTH = 1000\n",
        "MAX_NB_WORDS = 20000\n",
        "\n",
        "tokenizer = Tokenizer(num_words=MAX_NB_WORDS)\n",
        "tokenizer.fit_on_texts(texts)\n",
        "\n",
        "sequences = tokenizer.texts_to_sequences(texts)\n",
        "\n",
        "print (sequences[0][:10])"
      ],
      "execution_count": 38,
      "outputs": [
        {
          "output_type": "stream",
          "text": [
            "[19, 8762, 3621, 11894, 58, 8762, 3621, 43, 1472, 2]\n",
            "CPU times: user 442 ms, sys: 8.04 ms, total: 450 ms\n",
            "Wall time: 450 ms\n"
          ],
          "name": "stdout"
        }
      ]
    },
    {
      "cell_type": "code",
      "metadata": {
        "colab": {
          "base_uri": "https://localhost:8080/"
        },
        "id": "8C-jZJV1Ay0E",
        "outputId": "aee97acc-eeb2-4399-cf0b-b049ee408cf6"
      },
      "source": [
        "word_index = tokenizer.word_index\n",
        "\n",
        "print('Found %s unique tokens.' % len(word_index))"
      ],
      "execution_count": 39,
      "outputs": [
        {
          "output_type": "stream",
          "text": [
            "Found 20030 unique tokens.\n"
          ],
          "name": "stdout"
        }
      ]
    },
    {
      "cell_type": "code",
      "metadata": {
        "colab": {
          "base_uri": "https://localhost:8080/"
        },
        "id": "I3leeqbJA1-q",
        "outputId": "f5c0cd55-3b8d-485c-a068-217ad6ae68b4"
      },
      "source": [
        "data = pad_sequences(sequences, maxlen=MAX_SEQUENCE_LENGTH)\n",
        "\n",
        "print (data.shape)\n",
        "print (data[0][200:250])"
      ],
      "execution_count": 40,
      "outputs": [
        {
          "output_type": "stream",
          "text": [
            "(1079, 1000)\n",
            "[    0     0     0     0     0     0     0     0     0     0     0     0\n",
            "     0     0     0     0     0     0     0     0     0     0     0     0\n",
            "     0     0     0     0     0    19  8762  3621 11894    58  8762  3621\n",
            "    43  1472     2  2130     3   189   450  1001  3622  2980  1682   476\n",
            "   627    50]\n"
          ],
          "name": "stdout"
        }
      ]
    },
    {
      "cell_type": "code",
      "metadata": {
        "colab": {
          "base_uri": "https://localhost:8080/"
        },
        "id": "TATKrjgmA6lK",
        "outputId": "4c8836d3-47c9-4024-eddb-266078ef2401"
      },
      "source": [
        "labels = to_categorical(np.array(labels))\n",
        "\n",
        "print('Shape of data tensor:', data.shape)\n",
        "print('Shape of label tensor:', labels.shape)"
      ],
      "execution_count": 41,
      "outputs": [
        {
          "output_type": "stream",
          "text": [
            "Shape of data tensor: (1079, 1000)\n",
            "Shape of label tensor: (1079, 2)\n"
          ],
          "name": "stdout"
        }
      ]
    },
    {
      "cell_type": "code",
      "metadata": {
        "colab": {
          "base_uri": "https://localhost:8080/"
        },
        "id": "tKD1nppNA_cG",
        "outputId": "81671a38-0f1d-4395-8c5d-bbbd97ad5f74"
      },
      "source": [
        "VALIDATION_SPLIT = 0.1\n",
        "\n",
        "indices = np.arange(data.shape[0])\n",
        "np.random.shuffle(indices) \n",
        "data = data[indices] \n",
        "labels = labels[indices] \n",
        "nb_validation_samples = int(VALIDATION_SPLIT * data.shape[0])\n",
        "\n",
        "x_train = data[:-nb_validation_samples] \n",
        "y_train = labels[:-nb_validation_samples] \n",
        "x_val = data[-nb_validation_samples:] \n",
        "y_val = labels[-nb_validation_samples:] \n",
        "\n",
        "print (x_train.shape)\n",
        "print (y_train.shape)\n",
        "\n",
        "print('Number of positive and negative reviews in traing and validation set ') \n",
        "print (y_train.sum(axis=0))\n",
        "print (y_val.sum(axis=0))\n"
      ],
      "execution_count": 42,
      "outputs": [
        {
          "output_type": "stream",
          "text": [
            "(972, 1000)\n",
            "(972, 2)\n",
            "Number of positive and negative reviews in traing and validation set \n",
            "[442. 530.]\n",
            "[38. 69.]\n"
          ],
          "name": "stdout"
        }
      ]
    },
    {
      "cell_type": "code",
      "metadata": {
        "colab": {
          "base_uri": "https://localhost:8080/",
          "height": 244
        },
        "id": "1jN7GicoBSkh",
        "outputId": "17f44b2c-31aa-4ddc-a6fe-8f40915fa87f"
      },
      "source": [
        "EMBEDDING_DIM = 100\n",
        "\n",
        "embedding_matrix = np.random.random((len(word_index) + 1, EMBEDDING_DIM))\n",
        "\n",
        "for word, i in word_index.items():\n",
        "  embedding_vector = embeddings_index.get(word)\n",
        "  if embedding_vector is not None:\n",
        "    # words not found in embedding index will be all-zeros.\n",
        "    embedding_matrix[i] = embedding_vector\n",
        "\n",
        "print (embedding_matrix.shape)\n",
        "\n",
        "print (embedding_matrix[0][:10])"
      ],
      "execution_count": 43,
      "outputs": [
        {
          "output_type": "error",
          "ename": "NameError",
          "evalue": "ignored",
          "traceback": [
            "\u001b[0;31m---------------------------------------------------------------------------\u001b[0m",
            "\u001b[0;31mNameError\u001b[0m                                 Traceback (most recent call last)",
            "\u001b[0;32m<ipython-input-43-6fb53264530f>\u001b[0m in \u001b[0;36m<module>\u001b[0;34m()\u001b[0m\n\u001b[1;32m      4\u001b[0m \u001b[0;34m\u001b[0m\u001b[0m\n\u001b[1;32m      5\u001b[0m \u001b[0;32mfor\u001b[0m \u001b[0mword\u001b[0m\u001b[0;34m,\u001b[0m \u001b[0mi\u001b[0m \u001b[0;32min\u001b[0m \u001b[0mword_index\u001b[0m\u001b[0;34m.\u001b[0m\u001b[0mitems\u001b[0m\u001b[0;34m(\u001b[0m\u001b[0;34m)\u001b[0m\u001b[0;34m:\u001b[0m\u001b[0;34m\u001b[0m\u001b[0;34m\u001b[0m\u001b[0m\n\u001b[0;32m----> 6\u001b[0;31m   \u001b[0membedding_vector\u001b[0m \u001b[0;34m=\u001b[0m \u001b[0membeddings_index\u001b[0m\u001b[0;34m.\u001b[0m\u001b[0mget\u001b[0m\u001b[0;34m(\u001b[0m\u001b[0mword\u001b[0m\u001b[0;34m)\u001b[0m\u001b[0;34m\u001b[0m\u001b[0;34m\u001b[0m\u001b[0m\n\u001b[0m\u001b[1;32m      7\u001b[0m   \u001b[0;32mif\u001b[0m \u001b[0membedding_vector\u001b[0m \u001b[0;32mis\u001b[0m \u001b[0;32mnot\u001b[0m \u001b[0;32mNone\u001b[0m\u001b[0;34m:\u001b[0m\u001b[0;34m\u001b[0m\u001b[0;34m\u001b[0m\u001b[0m\n\u001b[1;32m      8\u001b[0m     \u001b[0;31m# words not found in embedding index will be all-zeros.\u001b[0m\u001b[0;34m\u001b[0m\u001b[0;34m\u001b[0m\u001b[0;34m\u001b[0m\u001b[0m\n",
            "\u001b[0;31mNameError\u001b[0m: name 'embeddings_index' is not defined"
          ]
        }
      ]
    },
    {
      "cell_type": "code",
      "metadata": {
        "colab": {
          "base_uri": "https://localhost:8080/"
        },
        "id": "StT4yPYaBUgr",
        "outputId": "8de829e2-4625-44e6-d423-d356afee1333"
      },
      "source": [
        "embedding_layer = Embedding(len(word_index) + 1, EMBEDDING_DIM,\n",
        "                            weights=[embedding_matrix], \n",
        "                            input_length=MAX_SEQUENCE_LENGTH, \n",
        "                            trainable=False)\n",
        "\n",
        "sequence_input = Input(shape=(MAX_SEQUENCE_LENGTH,), dtype='int32') \n",
        "embedded_sequences = embedding_layer(sequence_input) \n",
        "l_cov1= Conv1D(128, 5, activation='relu')(embedded_sequences) \n",
        "l_pool1 = MaxPooling1D(5)(l_cov1) \n",
        "l_cov2 = Conv1D(128, 5, activation='relu')(l_pool1) \n",
        "l_pool2 = MaxPooling1D(5)(l_cov2) \n",
        "l_cov3 = Conv1D(128, 5, activation='relu')(l_pool2) \n",
        "l_pool3 = MaxPooling1D(35)(l_cov3)  # global max pooling\n",
        "\n",
        "l_flat = Flatten()(l_pool3) \n",
        "l_dense = Dense(128, activation='relu')(l_flat) \n",
        "preds = Dense(2, activation='softmax')(l_dense)\n",
        "\n",
        "model = Model(sequence_input, preds)\n",
        "\n",
        "model.summary()"
      ],
      "execution_count": 44,
      "outputs": [
        {
          "output_type": "stream",
          "text": [
            "Model: \"model\"\n",
            "_________________________________________________________________\n",
            "Layer (type)                 Output Shape              Param #   \n",
            "=================================================================\n",
            "input_1 (InputLayer)         [(None, 1000)]            0         \n",
            "_________________________________________________________________\n",
            "embedding (Embedding)        (None, 1000, 100)         2003100   \n",
            "_________________________________________________________________\n",
            "conv1d (Conv1D)              (None, 996, 128)          64128     \n",
            "_________________________________________________________________\n",
            "max_pooling1d (MaxPooling1D) (None, 199, 128)          0         \n",
            "_________________________________________________________________\n",
            "conv1d_1 (Conv1D)            (None, 195, 128)          82048     \n",
            "_________________________________________________________________\n",
            "max_pooling1d_1 (MaxPooling1 (None, 39, 128)           0         \n",
            "_________________________________________________________________\n",
            "conv1d_2 (Conv1D)            (None, 35, 128)           82048     \n",
            "_________________________________________________________________\n",
            "max_pooling1d_2 (MaxPooling1 (None, 1, 128)            0         \n",
            "_________________________________________________________________\n",
            "flatten (Flatten)            (None, 128)               0         \n",
            "_________________________________________________________________\n",
            "dense (Dense)                (None, 128)               16512     \n",
            "_________________________________________________________________\n",
            "dense_1 (Dense)              (None, 2)                 258       \n",
            "=================================================================\n",
            "Total params: 2,248,094\n",
            "Trainable params: 244,994\n",
            "Non-trainable params: 2,003,100\n",
            "_________________________________________________________________\n"
          ],
          "name": "stdout"
        }
      ]
    },
    {
      "cell_type": "code",
      "metadata": {
        "colab": {
          "base_uri": "https://localhost:8080/"
        },
        "id": "ohWKe6xrBfGj",
        "outputId": "6b4bb541-7a8c-44f1-d082-b64864a3144f"
      },
      "source": [
        "model.compile(loss='categorical_crossentropy', optimizer='adam',metrics=['acc'])\n",
        "\n",
        "history = model.fit(x_train, y_train, validation_data=(x_val, y_val),\n",
        "                    epochs=500, batch_size=512)   "
      ],
      "execution_count": 45,
      "outputs": [
        {
          "output_type": "stream",
          "text": [
            "Epoch 1/500\n",
            "2/2 [==============================] - 35s 1s/step - loss: 0.7653 - acc: 0.4614 - val_loss: 0.6934 - val_acc: 0.4860\n",
            "Epoch 2/500\n",
            "2/2 [==============================] - 0s 160ms/step - loss: 0.6997 - acc: 0.4983 - val_loss: 0.6861 - val_acc: 0.6355\n",
            "Epoch 3/500\n",
            "2/2 [==============================] - 0s 165ms/step - loss: 0.6980 - acc: 0.5536 - val_loss: 0.6529 - val_acc: 0.6449\n",
            "Epoch 4/500\n",
            "2/2 [==============================] - 0s 164ms/step - loss: 0.6944 - acc: 0.5425 - val_loss: 0.6904 - val_acc: 0.6262\n",
            "Epoch 5/500\n",
            "2/2 [==============================] - 0s 163ms/step - loss: 0.6886 - acc: 0.6039 - val_loss: 0.6697 - val_acc: 0.6449\n",
            "Epoch 6/500\n",
            "2/2 [==============================] - 0s 158ms/step - loss: 0.6848 - acc: 0.5425 - val_loss: 0.6628 - val_acc: 0.6449\n",
            "Epoch 7/500\n",
            "2/2 [==============================] - 0s 159ms/step - loss: 0.6848 - acc: 0.5473 - val_loss: 0.6751 - val_acc: 0.6262\n",
            "Epoch 8/500\n",
            "2/2 [==============================] - 0s 161ms/step - loss: 0.6835 - acc: 0.5535 - val_loss: 0.6676 - val_acc: 0.6449\n",
            "Epoch 9/500\n",
            "2/2 [==============================] - 0s 160ms/step - loss: 0.6811 - acc: 0.5732 - val_loss: 0.6801 - val_acc: 0.6168\n",
            "Epoch 10/500\n",
            "2/2 [==============================] - 0s 164ms/step - loss: 0.6796 - acc: 0.5794 - val_loss: 0.6575 - val_acc: 0.6449\n",
            "Epoch 11/500\n",
            "2/2 [==============================] - 0s 161ms/step - loss: 0.6780 - acc: 0.5523 - val_loss: 0.6737 - val_acc: 0.6075\n",
            "Epoch 12/500\n",
            "2/2 [==============================] - 0s 158ms/step - loss: 0.6760 - acc: 0.6268 - val_loss: 0.6832 - val_acc: 0.5794\n",
            "Epoch 13/500\n",
            "2/2 [==============================] - 0s 161ms/step - loss: 0.6743 - acc: 0.6673 - val_loss: 0.6512 - val_acc: 0.6449\n",
            "Epoch 14/500\n",
            "2/2 [==============================] - 0s 172ms/step - loss: 0.6740 - acc: 0.5465 - val_loss: 0.6701 - val_acc: 0.5981\n",
            "Epoch 15/500\n",
            "2/2 [==============================] - 0s 162ms/step - loss: 0.6678 - acc: 0.6498 - val_loss: 0.6752 - val_acc: 0.6075\n",
            "Epoch 16/500\n",
            "2/2 [==============================] - 0s 160ms/step - loss: 0.6654 - acc: 0.6637 - val_loss: 0.6474 - val_acc: 0.6449\n",
            "Epoch 17/500\n",
            "2/2 [==============================] - 0s 164ms/step - loss: 0.6619 - acc: 0.5725 - val_loss: 0.6712 - val_acc: 0.6262\n",
            "Epoch 18/500\n",
            "2/2 [==============================] - 0s 163ms/step - loss: 0.6587 - acc: 0.7730 - val_loss: 0.6412 - val_acc: 0.6449\n",
            "Epoch 19/500\n",
            "2/2 [==============================] - 0s 162ms/step - loss: 0.6541 - acc: 0.5641 - val_loss: 0.6600 - val_acc: 0.6636\n",
            "Epoch 20/500\n",
            "2/2 [==============================] - 0s 159ms/step - loss: 0.6611 - acc: 0.6299 - val_loss: 0.6400 - val_acc: 0.6542\n",
            "Epoch 21/500\n",
            "2/2 [==============================] - 0s 163ms/step - loss: 0.6525 - acc: 0.6032 - val_loss: 0.6298 - val_acc: 0.6636\n",
            "Epoch 22/500\n",
            "2/2 [==============================] - 0s 162ms/step - loss: 0.6454 - acc: 0.5674 - val_loss: 0.7026 - val_acc: 0.4299\n",
            "Epoch 23/500\n",
            "2/2 [==============================] - 0s 161ms/step - loss: 0.6503 - acc: 0.5664 - val_loss: 0.6235 - val_acc: 0.6636\n",
            "Epoch 24/500\n",
            "2/2 [==============================] - 0s 161ms/step - loss: 0.6303 - acc: 0.5883 - val_loss: 0.6225 - val_acc: 0.7103\n",
            "Epoch 25/500\n",
            "2/2 [==============================] - 0s 160ms/step - loss: 0.6086 - acc: 0.7613 - val_loss: 0.6393 - val_acc: 0.7664\n",
            "Epoch 26/500\n",
            "2/2 [==============================] - 0s 158ms/step - loss: 0.6033 - acc: 0.8646 - val_loss: 0.5943 - val_acc: 0.7103\n",
            "Epoch 27/500\n",
            "2/2 [==============================] - 0s 167ms/step - loss: 0.5939 - acc: 0.6782 - val_loss: 0.6246 - val_acc: 0.7664\n",
            "Epoch 28/500\n",
            "2/2 [==============================] - 0s 159ms/step - loss: 0.5694 - acc: 0.8825 - val_loss: 0.5664 - val_acc: 0.7290\n",
            "Epoch 29/500\n",
            "2/2 [==============================] - 0s 161ms/step - loss: 0.5511 - acc: 0.7515 - val_loss: 0.6333 - val_acc: 0.5421\n",
            "Epoch 30/500\n",
            "2/2 [==============================] - 0s 162ms/step - loss: 0.5383 - acc: 0.7824 - val_loss: 0.5358 - val_acc: 0.7196\n",
            "Epoch 31/500\n",
            "2/2 [==============================] - 0s 159ms/step - loss: 0.5289 - acc: 0.7378 - val_loss: 0.5942 - val_acc: 0.6729\n",
            "Epoch 32/500\n",
            "2/2 [==============================] - 0s 165ms/step - loss: 0.5069 - acc: 0.7726 - val_loss: 0.4769 - val_acc: 0.7850\n",
            "Epoch 33/500\n",
            "2/2 [==============================] - 0s 165ms/step - loss: 0.4579 - acc: 0.8266 - val_loss: 0.4653 - val_acc: 0.8879\n",
            "Epoch 34/500\n",
            "2/2 [==============================] - 0s 168ms/step - loss: 0.4287 - acc: 0.8624 - val_loss: 0.4825 - val_acc: 0.8692\n",
            "Epoch 35/500\n",
            "2/2 [==============================] - 0s 162ms/step - loss: 0.4016 - acc: 0.9126 - val_loss: 0.4243 - val_acc: 0.7757\n",
            "Epoch 36/500\n",
            "2/2 [==============================] - 0s 165ms/step - loss: 0.4040 - acc: 0.8256 - val_loss: 0.4555 - val_acc: 0.8785\n",
            "Epoch 37/500\n",
            "2/2 [==============================] - 0s 164ms/step - loss: 0.3576 - acc: 0.9054 - val_loss: 0.3560 - val_acc: 0.9159\n",
            "Epoch 38/500\n",
            "2/2 [==============================] - 0s 160ms/step - loss: 0.3053 - acc: 0.9267 - val_loss: 0.3268 - val_acc: 0.9346\n",
            "Epoch 39/500\n",
            "2/2 [==============================] - 0s 167ms/step - loss: 0.2730 - acc: 0.9244 - val_loss: 0.3501 - val_acc: 0.9065\n",
            "Epoch 40/500\n",
            "2/2 [==============================] - 0s 159ms/step - loss: 0.2531 - acc: 0.9319 - val_loss: 0.2751 - val_acc: 0.9439\n",
            "Epoch 41/500\n",
            "2/2 [==============================] - 0s 160ms/step - loss: 0.2399 - acc: 0.9217 - val_loss: 0.4481 - val_acc: 0.7850\n",
            "Epoch 42/500\n",
            "2/2 [==============================] - 0s 167ms/step - loss: 0.4017 - acc: 0.8178 - val_loss: 0.4679 - val_acc: 0.7570\n",
            "Epoch 43/500\n",
            "2/2 [==============================] - 0s 163ms/step - loss: 0.2924 - acc: 0.8907 - val_loss: 0.3424 - val_acc: 0.8505\n",
            "Epoch 44/500\n",
            "2/2 [==============================] - 0s 161ms/step - loss: 0.2651 - acc: 0.8837 - val_loss: 0.4863 - val_acc: 0.7383\n",
            "Epoch 45/500\n",
            "2/2 [==============================] - 0s 159ms/step - loss: 0.2827 - acc: 0.8908 - val_loss: 0.2758 - val_acc: 0.8972\n",
            "Epoch 46/500\n",
            "2/2 [==============================] - 0s 172ms/step - loss: 0.2423 - acc: 0.8908 - val_loss: 0.2361 - val_acc: 0.9439\n",
            "Epoch 47/500\n",
            "2/2 [==============================] - 0s 166ms/step - loss: 0.1937 - acc: 0.9406 - val_loss: 0.2924 - val_acc: 0.9065\n",
            "Epoch 48/500\n",
            "2/2 [==============================] - 0s 161ms/step - loss: 0.1824 - acc: 0.9474 - val_loss: 0.2509 - val_acc: 0.9065\n",
            "Epoch 49/500\n",
            "2/2 [==============================] - 0s 162ms/step - loss: 0.1890 - acc: 0.9244 - val_loss: 0.2310 - val_acc: 0.9252\n",
            "Epoch 50/500\n",
            "2/2 [==============================] - 0s 167ms/step - loss: 0.1540 - acc: 0.9609 - val_loss: 0.2321 - val_acc: 0.9252\n",
            "Epoch 51/500\n",
            "2/2 [==============================] - 0s 164ms/step - loss: 0.1390 - acc: 0.9596 - val_loss: 0.2077 - val_acc: 0.9346\n",
            "Epoch 52/500\n",
            "2/2 [==============================] - 0s 168ms/step - loss: 0.1469 - acc: 0.9408 - val_loss: 0.2060 - val_acc: 0.9252\n",
            "Epoch 53/500\n",
            "2/2 [==============================] - 0s 170ms/step - loss: 0.1263 - acc: 0.9589 - val_loss: 0.1790 - val_acc: 0.9439\n",
            "Epoch 54/500\n",
            "2/2 [==============================] - 0s 161ms/step - loss: 0.1099 - acc: 0.9562 - val_loss: 0.1712 - val_acc: 0.9439\n",
            "Epoch 55/500\n",
            "2/2 [==============================] - 0s 163ms/step - loss: 0.1011 - acc: 0.9637 - val_loss: 0.2098 - val_acc: 0.9065\n",
            "Epoch 56/500\n",
            "2/2 [==============================] - 0s 166ms/step - loss: 0.0993 - acc: 0.9757 - val_loss: 0.1584 - val_acc: 0.9439\n",
            "Epoch 57/500\n",
            "2/2 [==============================] - 0s 167ms/step - loss: 0.0893 - acc: 0.9596 - val_loss: 0.1630 - val_acc: 0.9439\n",
            "Epoch 58/500\n",
            "2/2 [==============================] - 0s 164ms/step - loss: 0.0767 - acc: 0.9825 - val_loss: 0.1443 - val_acc: 0.9439\n",
            "Epoch 59/500\n",
            "2/2 [==============================] - 0s 160ms/step - loss: 0.0691 - acc: 0.9743 - val_loss: 0.1464 - val_acc: 0.9439\n",
            "Epoch 60/500\n",
            "2/2 [==============================] - 0s 167ms/step - loss: 0.0700 - acc: 0.9886 - val_loss: 0.1370 - val_acc: 0.9533\n",
            "Epoch 61/500\n",
            "2/2 [==============================] - 0s 160ms/step - loss: 0.0687 - acc: 0.9675 - val_loss: 0.1508 - val_acc: 0.9252\n",
            "Epoch 62/500\n",
            "2/2 [==============================] - 0s 163ms/step - loss: 0.0658 - acc: 0.9932 - val_loss: 0.1395 - val_acc: 0.9439\n",
            "Epoch 63/500\n",
            "2/2 [==============================] - 0s 161ms/step - loss: 0.0692 - acc: 0.9689 - val_loss: 0.1287 - val_acc: 0.9439\n",
            "Epoch 64/500\n",
            "2/2 [==============================] - 0s 164ms/step - loss: 0.0572 - acc: 0.9926 - val_loss: 0.1274 - val_acc: 0.9439\n",
            "Epoch 65/500\n",
            "2/2 [==============================] - 0s 168ms/step - loss: 0.0495 - acc: 0.9925 - val_loss: 0.1404 - val_acc: 0.9439\n",
            "Epoch 66/500\n",
            "2/2 [==============================] - 0s 166ms/step - loss: 0.0495 - acc: 0.9859 - val_loss: 0.1711 - val_acc: 0.9346\n",
            "Epoch 67/500\n",
            "2/2 [==============================] - 0s 161ms/step - loss: 0.0509 - acc: 0.9993 - val_loss: 0.1204 - val_acc: 0.9533\n",
            "Epoch 68/500\n",
            "2/2 [==============================] - 0s 160ms/step - loss: 0.0454 - acc: 0.9878 - val_loss: 0.1153 - val_acc: 0.9626\n",
            "Epoch 69/500\n",
            "2/2 [==============================] - 0s 161ms/step - loss: 0.0381 - acc: 0.9960 - val_loss: 0.1435 - val_acc: 0.9346\n",
            "Epoch 70/500\n",
            "2/2 [==============================] - 0s 170ms/step - loss: 0.0403 - acc: 0.9986 - val_loss: 0.1168 - val_acc: 0.9533\n",
            "Epoch 71/500\n",
            "2/2 [==============================] - 0s 160ms/step - loss: 0.0372 - acc: 0.9892 - val_loss: 0.1052 - val_acc: 0.9626\n",
            "Epoch 72/500\n",
            "2/2 [==============================] - 0s 160ms/step - loss: 0.0283 - acc: 0.9933 - val_loss: 0.1210 - val_acc: 0.9439\n",
            "Epoch 73/500\n",
            "2/2 [==============================] - 0s 165ms/step - loss: 0.0302 - acc: 1.0000 - val_loss: 0.1028 - val_acc: 0.9626\n",
            "Epoch 74/500\n",
            "2/2 [==============================] - 0s 168ms/step - loss: 0.0252 - acc: 0.9966 - val_loss: 0.1063 - val_acc: 0.9626\n",
            "Epoch 75/500\n",
            "2/2 [==============================] - 0s 164ms/step - loss: 0.0251 - acc: 0.9953 - val_loss: 0.1024 - val_acc: 0.9626\n",
            "Epoch 76/500\n",
            "2/2 [==============================] - 0s 164ms/step - loss: 0.0222 - acc: 1.0000 - val_loss: 0.1005 - val_acc: 0.9626\n",
            "Epoch 77/500\n",
            "2/2 [==============================] - 0s 162ms/step - loss: 0.0206 - acc: 1.0000 - val_loss: 0.0996 - val_acc: 0.9626\n",
            "Epoch 78/500\n",
            "2/2 [==============================] - 0s 161ms/step - loss: 0.0202 - acc: 0.9960 - val_loss: 0.0955 - val_acc: 0.9533\n",
            "Epoch 79/500\n",
            "2/2 [==============================] - 0s 165ms/step - loss: 0.0174 - acc: 1.0000 - val_loss: 0.0989 - val_acc: 0.9626\n",
            "Epoch 80/500\n",
            "2/2 [==============================] - 0s 168ms/step - loss: 0.0183 - acc: 1.0000 - val_loss: 0.0939 - val_acc: 0.9533\n",
            "Epoch 81/500\n",
            "2/2 [==============================] - 0s 162ms/step - loss: 0.0157 - acc: 1.0000 - val_loss: 0.0962 - val_acc: 0.9626\n",
            "Epoch 82/500\n",
            "2/2 [==============================] - 0s 173ms/step - loss: 0.0157 - acc: 1.0000 - val_loss: 0.0921 - val_acc: 0.9533\n",
            "Epoch 83/500\n",
            "2/2 [==============================] - 0s 163ms/step - loss: 0.0140 - acc: 1.0000 - val_loss: 0.0916 - val_acc: 0.9626\n",
            "Epoch 84/500\n",
            "2/2 [==============================] - 0s 161ms/step - loss: 0.0133 - acc: 1.0000 - val_loss: 0.0899 - val_acc: 0.9626\n",
            "Epoch 85/500\n",
            "2/2 [==============================] - 0s 167ms/step - loss: 0.0116 - acc: 1.0000 - val_loss: 0.0922 - val_acc: 0.9626\n",
            "Epoch 86/500\n",
            "2/2 [==============================] - 0s 161ms/step - loss: 0.0115 - acc: 1.0000 - val_loss: 0.0890 - val_acc: 0.9626\n",
            "Epoch 87/500\n",
            "2/2 [==============================] - 0s 166ms/step - loss: 0.0112 - acc: 1.0000 - val_loss: 0.0915 - val_acc: 0.9533\n",
            "Epoch 88/500\n",
            "2/2 [==============================] - 0s 168ms/step - loss: 0.0114 - acc: 1.0000 - val_loss: 0.0911 - val_acc: 0.9626\n",
            "Epoch 89/500\n",
            "2/2 [==============================] - 0s 162ms/step - loss: 0.0099 - acc: 1.0000 - val_loss: 0.0920 - val_acc: 0.9626\n",
            "Epoch 90/500\n",
            "2/2 [==============================] - 0s 163ms/step - loss: 0.0099 - acc: 1.0000 - val_loss: 0.0878 - val_acc: 0.9626\n",
            "Epoch 91/500\n",
            "2/2 [==============================] - 0s 169ms/step - loss: 0.0084 - acc: 1.0000 - val_loss: 0.0873 - val_acc: 0.9626\n",
            "Epoch 92/500\n",
            "2/2 [==============================] - 0s 169ms/step - loss: 0.0084 - acc: 1.0000 - val_loss: 0.0899 - val_acc: 0.9626\n",
            "Epoch 93/500\n",
            "2/2 [==============================] - 0s 165ms/step - loss: 0.0075 - acc: 1.0000 - val_loss: 0.0899 - val_acc: 0.9626\n",
            "Epoch 94/500\n",
            "2/2 [==============================] - 0s 162ms/step - loss: 0.0076 - acc: 1.0000 - val_loss: 0.0863 - val_acc: 0.9626\n",
            "Epoch 95/500\n",
            "2/2 [==============================] - 0s 169ms/step - loss: 0.0073 - acc: 1.0000 - val_loss: 0.0858 - val_acc: 0.9720\n",
            "Epoch 96/500\n",
            "2/2 [==============================] - 0s 161ms/step - loss: 0.0068 - acc: 1.0000 - val_loss: 0.0878 - val_acc: 0.9626\n",
            "Epoch 97/500\n",
            "2/2 [==============================] - 0s 161ms/step - loss: 0.0066 - acc: 1.0000 - val_loss: 0.0873 - val_acc: 0.9626\n",
            "Epoch 98/500\n",
            "2/2 [==============================] - 0s 163ms/step - loss: 0.0060 - acc: 1.0000 - val_loss: 0.0847 - val_acc: 0.9720\n",
            "Epoch 99/500\n",
            "2/2 [==============================] - 0s 175ms/step - loss: 0.0060 - acc: 1.0000 - val_loss: 0.0842 - val_acc: 0.9626\n",
            "Epoch 100/500\n",
            "2/2 [==============================] - 0s 167ms/step - loss: 0.0058 - acc: 1.0000 - val_loss: 0.0858 - val_acc: 0.9626\n",
            "Epoch 101/500\n",
            "2/2 [==============================] - 0s 168ms/step - loss: 0.0054 - acc: 1.0000 - val_loss: 0.0857 - val_acc: 0.9533\n",
            "Epoch 102/500\n",
            "2/2 [==============================] - 0s 163ms/step - loss: 0.0047 - acc: 1.0000 - val_loss: 0.0849 - val_acc: 0.9626\n",
            "Epoch 103/500\n",
            "2/2 [==============================] - 0s 163ms/step - loss: 0.0044 - acc: 1.0000 - val_loss: 0.0843 - val_acc: 0.9626\n",
            "Epoch 104/500\n",
            "2/2 [==============================] - 0s 160ms/step - loss: 0.0045 - acc: 1.0000 - val_loss: 0.0844 - val_acc: 0.9626\n",
            "Epoch 105/500\n",
            "2/2 [==============================] - 0s 173ms/step - loss: 0.0042 - acc: 1.0000 - val_loss: 0.0850 - val_acc: 0.9626\n",
            "Epoch 106/500\n",
            "2/2 [==============================] - 0s 166ms/step - loss: 0.0038 - acc: 1.0000 - val_loss: 0.0853 - val_acc: 0.9626\n",
            "Epoch 107/500\n",
            "2/2 [==============================] - 0s 163ms/step - loss: 0.0037 - acc: 1.0000 - val_loss: 0.0853 - val_acc: 0.9626\n",
            "Epoch 108/500\n",
            "2/2 [==============================] - 0s 164ms/step - loss: 0.0036 - acc: 1.0000 - val_loss: 0.0843 - val_acc: 0.9626\n",
            "Epoch 109/500\n",
            "2/2 [==============================] - 0s 162ms/step - loss: 0.0036 - acc: 1.0000 - val_loss: 0.0847 - val_acc: 0.9626\n",
            "Epoch 110/500\n",
            "2/2 [==============================] - 0s 162ms/step - loss: 0.0033 - acc: 1.0000 - val_loss: 0.0854 - val_acc: 0.9720\n",
            "Epoch 111/500\n",
            "2/2 [==============================] - 0s 165ms/step - loss: 0.0032 - acc: 1.0000 - val_loss: 0.0859 - val_acc: 0.9626\n",
            "Epoch 112/500\n",
            "2/2 [==============================] - 0s 165ms/step - loss: 0.0031 - acc: 1.0000 - val_loss: 0.0842 - val_acc: 0.9626\n",
            "Epoch 113/500\n",
            "2/2 [==============================] - 0s 166ms/step - loss: 0.0026 - acc: 1.0000 - val_loss: 0.0844 - val_acc: 0.9626\n",
            "Epoch 114/500\n",
            "2/2 [==============================] - 0s 163ms/step - loss: 0.0029 - acc: 1.0000 - val_loss: 0.0854 - val_acc: 0.9626\n",
            "Epoch 115/500\n",
            "2/2 [==============================] - 0s 162ms/step - loss: 0.0027 - acc: 1.0000 - val_loss: 0.0854 - val_acc: 0.9626\n",
            "Epoch 116/500\n",
            "2/2 [==============================] - 0s 165ms/step - loss: 0.0025 - acc: 1.0000 - val_loss: 0.0844 - val_acc: 0.9626\n",
            "Epoch 117/500\n",
            "2/2 [==============================] - 0s 163ms/step - loss: 0.0025 - acc: 1.0000 - val_loss: 0.0842 - val_acc: 0.9626\n",
            "Epoch 118/500\n",
            "2/2 [==============================] - 0s 170ms/step - loss: 0.0024 - acc: 1.0000 - val_loss: 0.0841 - val_acc: 0.9626\n",
            "Epoch 119/500\n",
            "2/2 [==============================] - 0s 167ms/step - loss: 0.0024 - acc: 1.0000 - val_loss: 0.0858 - val_acc: 0.9720\n",
            "Epoch 120/500\n",
            "2/2 [==============================] - 0s 164ms/step - loss: 0.0022 - acc: 1.0000 - val_loss: 0.0866 - val_acc: 0.9720\n",
            "Epoch 121/500\n",
            "2/2 [==============================] - 0s 171ms/step - loss: 0.0022 - acc: 1.0000 - val_loss: 0.0849 - val_acc: 0.9626\n",
            "Epoch 122/500\n",
            "2/2 [==============================] - 0s 166ms/step - loss: 0.0021 - acc: 1.0000 - val_loss: 0.0840 - val_acc: 0.9533\n",
            "Epoch 123/500\n",
            "2/2 [==============================] - 0s 166ms/step - loss: 0.0018 - acc: 1.0000 - val_loss: 0.0847 - val_acc: 0.9626\n",
            "Epoch 124/500\n",
            "2/2 [==============================] - 0s 164ms/step - loss: 0.0018 - acc: 1.0000 - val_loss: 0.0854 - val_acc: 0.9626\n",
            "Epoch 125/500\n",
            "2/2 [==============================] - 0s 163ms/step - loss: 0.0018 - acc: 1.0000 - val_loss: 0.0854 - val_acc: 0.9626\n",
            "Epoch 126/500\n",
            "2/2 [==============================] - 0s 169ms/step - loss: 0.0019 - acc: 1.0000 - val_loss: 0.0848 - val_acc: 0.9626\n",
            "Epoch 127/500\n",
            "2/2 [==============================] - 0s 171ms/step - loss: 0.0017 - acc: 1.0000 - val_loss: 0.0855 - val_acc: 0.9720\n",
            "Epoch 128/500\n",
            "2/2 [==============================] - 0s 163ms/step - loss: 0.0017 - acc: 1.0000 - val_loss: 0.0864 - val_acc: 0.9626\n",
            "Epoch 129/500\n",
            "2/2 [==============================] - 0s 167ms/step - loss: 0.0016 - acc: 1.0000 - val_loss: 0.0858 - val_acc: 0.9533\n",
            "Epoch 130/500\n",
            "2/2 [==============================] - 0s 170ms/step - loss: 0.0015 - acc: 1.0000 - val_loss: 0.0849 - val_acc: 0.9533\n",
            "Epoch 131/500\n",
            "2/2 [==============================] - 0s 164ms/step - loss: 0.0014 - acc: 1.0000 - val_loss: 0.0857 - val_acc: 0.9720\n",
            "Epoch 132/500\n",
            "2/2 [==============================] - 0s 164ms/step - loss: 0.0015 - acc: 1.0000 - val_loss: 0.0860 - val_acc: 0.9720\n",
            "Epoch 133/500\n",
            "2/2 [==============================] - 0s 164ms/step - loss: 0.0015 - acc: 1.0000 - val_loss: 0.0866 - val_acc: 0.9626\n",
            "Epoch 134/500\n",
            "2/2 [==============================] - 0s 171ms/step - loss: 0.0015 - acc: 1.0000 - val_loss: 0.0865 - val_acc: 0.9626\n",
            "Epoch 135/500\n",
            "2/2 [==============================] - 0s 167ms/step - loss: 0.0013 - acc: 1.0000 - val_loss: 0.0874 - val_acc: 0.9720\n",
            "Epoch 136/500\n",
            "2/2 [==============================] - 0s 170ms/step - loss: 0.0014 - acc: 1.0000 - val_loss: 0.0865 - val_acc: 0.9533\n",
            "Epoch 137/500\n",
            "2/2 [==============================] - 0s 171ms/step - loss: 0.0012 - acc: 1.0000 - val_loss: 0.0862 - val_acc: 0.9533\n",
            "Epoch 138/500\n",
            "2/2 [==============================] - 0s 166ms/step - loss: 0.0012 - acc: 1.0000 - val_loss: 0.0858 - val_acc: 0.9533\n",
            "Epoch 139/500\n",
            "2/2 [==============================] - 0s 169ms/step - loss: 0.0012 - acc: 1.0000 - val_loss: 0.0865 - val_acc: 0.9533\n",
            "Epoch 140/500\n",
            "2/2 [==============================] - 0s 164ms/step - loss: 0.0012 - acc: 1.0000 - val_loss: 0.0865 - val_acc: 0.9533\n",
            "Epoch 141/500\n",
            "2/2 [==============================] - 0s 162ms/step - loss: 0.0011 - acc: 1.0000 - val_loss: 0.0877 - val_acc: 0.9720\n",
            "Epoch 142/500\n",
            "2/2 [==============================] - 0s 171ms/step - loss: 0.0011 - acc: 1.0000 - val_loss: 0.0870 - val_acc: 0.9533\n",
            "Epoch 143/500\n",
            "2/2 [==============================] - 0s 168ms/step - loss: 0.0010 - acc: 1.0000 - val_loss: 0.0868 - val_acc: 0.9533\n",
            "Epoch 144/500\n",
            "2/2 [==============================] - 0s 162ms/step - loss: 0.0010 - acc: 1.0000 - val_loss: 0.0867 - val_acc: 0.9533\n",
            "Epoch 145/500\n",
            "2/2 [==============================] - 0s 165ms/step - loss: 0.0010 - acc: 1.0000 - val_loss: 0.0869 - val_acc: 0.9533\n",
            "Epoch 146/500\n",
            "2/2 [==============================] - 0s 165ms/step - loss: 9.4948e-04 - acc: 1.0000 - val_loss: 0.0869 - val_acc: 0.9533\n",
            "Epoch 147/500\n",
            "2/2 [==============================] - 0s 168ms/step - loss: 9.5667e-04 - acc: 1.0000 - val_loss: 0.0876 - val_acc: 0.9626\n",
            "Epoch 148/500\n",
            "2/2 [==============================] - 0s 169ms/step - loss: 8.8612e-04 - acc: 1.0000 - val_loss: 0.0882 - val_acc: 0.9626\n",
            "Epoch 149/500\n",
            "2/2 [==============================] - 0s 167ms/step - loss: 8.5463e-04 - acc: 1.0000 - val_loss: 0.0884 - val_acc: 0.9626\n",
            "Epoch 150/500\n",
            "2/2 [==============================] - 0s 165ms/step - loss: 8.3813e-04 - acc: 1.0000 - val_loss: 0.0881 - val_acc: 0.9533\n",
            "Epoch 151/500\n",
            "2/2 [==============================] - 0s 166ms/step - loss: 8.5421e-04 - acc: 1.0000 - val_loss: 0.0871 - val_acc: 0.9533\n",
            "Epoch 152/500\n",
            "2/2 [==============================] - 0s 164ms/step - loss: 8.4314e-04 - acc: 1.0000 - val_loss: 0.0870 - val_acc: 0.9533\n",
            "Epoch 153/500\n",
            "2/2 [==============================] - 0s 168ms/step - loss: 7.6152e-04 - acc: 1.0000 - val_loss: 0.0881 - val_acc: 0.9626\n",
            "Epoch 154/500\n",
            "2/2 [==============================] - 0s 169ms/step - loss: 7.6408e-04 - acc: 1.0000 - val_loss: 0.0892 - val_acc: 0.9626\n",
            "Epoch 155/500\n",
            "2/2 [==============================] - 0s 170ms/step - loss: 7.4957e-04 - acc: 1.0000 - val_loss: 0.0888 - val_acc: 0.9626\n",
            "Epoch 156/500\n",
            "2/2 [==============================] - 0s 165ms/step - loss: 7.4524e-04 - acc: 1.0000 - val_loss: 0.0882 - val_acc: 0.9533\n",
            "Epoch 157/500\n",
            "2/2 [==============================] - 0s 168ms/step - loss: 7.4660e-04 - acc: 1.0000 - val_loss: 0.0882 - val_acc: 0.9626\n",
            "Epoch 158/500\n",
            "2/2 [==============================] - 0s 162ms/step - loss: 7.0155e-04 - acc: 1.0000 - val_loss: 0.0882 - val_acc: 0.9533\n",
            "Epoch 159/500\n",
            "2/2 [==============================] - 0s 164ms/step - loss: 6.8641e-04 - acc: 1.0000 - val_loss: 0.0888 - val_acc: 0.9626\n",
            "Epoch 160/500\n",
            "2/2 [==============================] - 0s 167ms/step - loss: 6.9015e-04 - acc: 1.0000 - val_loss: 0.0897 - val_acc: 0.9626\n",
            "Epoch 161/500\n",
            "2/2 [==============================] - 0s 167ms/step - loss: 6.3950e-04 - acc: 1.0000 - val_loss: 0.0899 - val_acc: 0.9626\n",
            "Epoch 162/500\n",
            "2/2 [==============================] - 0s 170ms/step - loss: 6.3577e-04 - acc: 1.0000 - val_loss: 0.0897 - val_acc: 0.9626\n",
            "Epoch 163/500\n",
            "2/2 [==============================] - 0s 164ms/step - loss: 6.1178e-04 - acc: 1.0000 - val_loss: 0.0898 - val_acc: 0.9626\n",
            "Epoch 164/500\n",
            "2/2 [==============================] - 0s 164ms/step - loss: 5.5007e-04 - acc: 1.0000 - val_loss: 0.0893 - val_acc: 0.9533\n",
            "Epoch 165/500\n",
            "2/2 [==============================] - 0s 172ms/step - loss: 5.8182e-04 - acc: 1.0000 - val_loss: 0.0891 - val_acc: 0.9533\n",
            "Epoch 166/500\n",
            "2/2 [==============================] - 0s 163ms/step - loss: 6.0255e-04 - acc: 1.0000 - val_loss: 0.0892 - val_acc: 0.9533\n",
            "Epoch 167/500\n",
            "2/2 [==============================] - 0s 166ms/step - loss: 5.5681e-04 - acc: 1.0000 - val_loss: 0.0897 - val_acc: 0.9626\n",
            "Epoch 168/500\n",
            "2/2 [==============================] - 0s 168ms/step - loss: 5.8161e-04 - acc: 1.0000 - val_loss: 0.0900 - val_acc: 0.9626\n",
            "Epoch 169/500\n",
            "2/2 [==============================] - 0s 165ms/step - loss: 5.5251e-04 - acc: 1.0000 - val_loss: 0.0908 - val_acc: 0.9626\n",
            "Epoch 170/500\n",
            "2/2 [==============================] - 0s 165ms/step - loss: 5.2692e-04 - acc: 1.0000 - val_loss: 0.0904 - val_acc: 0.9626\n",
            "Epoch 171/500\n",
            "2/2 [==============================] - 0s 166ms/step - loss: 5.0348e-04 - acc: 1.0000 - val_loss: 0.0902 - val_acc: 0.9533\n",
            "Epoch 172/500\n",
            "2/2 [==============================] - 0s 167ms/step - loss: 4.6708e-04 - acc: 1.0000 - val_loss: 0.0904 - val_acc: 0.9626\n",
            "Epoch 173/500\n",
            "2/2 [==============================] - 0s 167ms/step - loss: 4.9162e-04 - acc: 1.0000 - val_loss: 0.0907 - val_acc: 0.9533\n",
            "Epoch 174/500\n",
            "2/2 [==============================] - 0s 162ms/step - loss: 4.8799e-04 - acc: 1.0000 - val_loss: 0.0908 - val_acc: 0.9533\n",
            "Epoch 175/500\n",
            "2/2 [==============================] - 0s 171ms/step - loss: 4.7072e-04 - acc: 1.0000 - val_loss: 0.0904 - val_acc: 0.9533\n",
            "Epoch 176/500\n",
            "2/2 [==============================] - 0s 168ms/step - loss: 4.5671e-04 - acc: 1.0000 - val_loss: 0.0908 - val_acc: 0.9626\n",
            "Epoch 177/500\n",
            "2/2 [==============================] - 0s 164ms/step - loss: 4.6012e-04 - acc: 1.0000 - val_loss: 0.0907 - val_acc: 0.9533\n",
            "Epoch 178/500\n",
            "2/2 [==============================] - 0s 167ms/step - loss: 4.3159e-04 - acc: 1.0000 - val_loss: 0.0910 - val_acc: 0.9626\n",
            "Epoch 179/500\n",
            "2/2 [==============================] - 0s 170ms/step - loss: 4.4186e-04 - acc: 1.0000 - val_loss: 0.0917 - val_acc: 0.9626\n",
            "Epoch 180/500\n",
            "2/2 [==============================] - 0s 169ms/step - loss: 4.2462e-04 - acc: 1.0000 - val_loss: 0.0921 - val_acc: 0.9626\n",
            "Epoch 181/500\n",
            "2/2 [==============================] - 0s 163ms/step - loss: 3.9114e-04 - acc: 1.0000 - val_loss: 0.0919 - val_acc: 0.9533\n",
            "Epoch 182/500\n",
            "2/2 [==============================] - 0s 170ms/step - loss: 3.9812e-04 - acc: 1.0000 - val_loss: 0.0915 - val_acc: 0.9533\n",
            "Epoch 183/500\n",
            "2/2 [==============================] - 0s 170ms/step - loss: 4.1483e-04 - acc: 1.0000 - val_loss: 0.0912 - val_acc: 0.9626\n",
            "Epoch 184/500\n",
            "2/2 [==============================] - 0s 166ms/step - loss: 3.8328e-04 - acc: 1.0000 - val_loss: 0.0913 - val_acc: 0.9533\n",
            "Epoch 185/500\n",
            "2/2 [==============================] - 0s 164ms/step - loss: 3.8034e-04 - acc: 1.0000 - val_loss: 0.0916 - val_acc: 0.9533\n",
            "Epoch 186/500\n",
            "2/2 [==============================] - 0s 165ms/step - loss: 3.8851e-04 - acc: 1.0000 - val_loss: 0.0927 - val_acc: 0.9626\n",
            "Epoch 187/500\n",
            "2/2 [==============================] - 0s 175ms/step - loss: 3.8135e-04 - acc: 1.0000 - val_loss: 0.0932 - val_acc: 0.9626\n",
            "Epoch 188/500\n",
            "2/2 [==============================] - 0s 170ms/step - loss: 3.6755e-04 - acc: 1.0000 - val_loss: 0.0927 - val_acc: 0.9533\n",
            "Epoch 189/500\n",
            "2/2 [==============================] - 0s 167ms/step - loss: 3.6650e-04 - acc: 1.0000 - val_loss: 0.0926 - val_acc: 0.9533\n",
            "Epoch 190/500\n",
            "2/2 [==============================] - 0s 168ms/step - loss: 3.4819e-04 - acc: 1.0000 - val_loss: 0.0923 - val_acc: 0.9533\n",
            "Epoch 191/500\n",
            "2/2 [==============================] - 0s 166ms/step - loss: 3.2879e-04 - acc: 1.0000 - val_loss: 0.0923 - val_acc: 0.9533\n",
            "Epoch 192/500\n",
            "2/2 [==============================] - 0s 168ms/step - loss: 3.3949e-04 - acc: 1.0000 - val_loss: 0.0928 - val_acc: 0.9533\n",
            "Epoch 193/500\n",
            "2/2 [==============================] - 0s 165ms/step - loss: 3.4085e-04 - acc: 1.0000 - val_loss: 0.0931 - val_acc: 0.9533\n",
            "Epoch 194/500\n",
            "2/2 [==============================] - 0s 167ms/step - loss: 3.2155e-04 - acc: 1.0000 - val_loss: 0.0934 - val_acc: 0.9626\n",
            "Epoch 195/500\n",
            "2/2 [==============================] - 0s 167ms/step - loss: 3.1771e-04 - acc: 1.0000 - val_loss: 0.0932 - val_acc: 0.9533\n",
            "Epoch 196/500\n",
            "2/2 [==============================] - 0s 169ms/step - loss: 3.0544e-04 - acc: 1.0000 - val_loss: 0.0933 - val_acc: 0.9533\n",
            "Epoch 197/500\n",
            "2/2 [==============================] - 0s 164ms/step - loss: 3.1938e-04 - acc: 1.0000 - val_loss: 0.0936 - val_acc: 0.9533\n",
            "Epoch 198/500\n",
            "2/2 [==============================] - 0s 169ms/step - loss: 3.0181e-04 - acc: 1.0000 - val_loss: 0.0938 - val_acc: 0.9533\n",
            "Epoch 199/500\n",
            "2/2 [==============================] - 0s 167ms/step - loss: 3.1773e-04 - acc: 1.0000 - val_loss: 0.0935 - val_acc: 0.9533\n",
            "Epoch 200/500\n",
            "2/2 [==============================] - 0s 165ms/step - loss: 2.8826e-04 - acc: 1.0000 - val_loss: 0.0935 - val_acc: 0.9533\n",
            "Epoch 201/500\n",
            "2/2 [==============================] - 0s 167ms/step - loss: 2.9161e-04 - acc: 1.0000 - val_loss: 0.0937 - val_acc: 0.9533\n",
            "Epoch 202/500\n",
            "2/2 [==============================] - 0s 166ms/step - loss: 3.0581e-04 - acc: 1.0000 - val_loss: 0.0941 - val_acc: 0.9533\n",
            "Epoch 203/500\n",
            "2/2 [==============================] - 0s 166ms/step - loss: 2.8348e-04 - acc: 1.0000 - val_loss: 0.0945 - val_acc: 0.9626\n",
            "Epoch 204/500\n",
            "2/2 [==============================] - 0s 170ms/step - loss: 2.5933e-04 - acc: 1.0000 - val_loss: 0.0943 - val_acc: 0.9533\n",
            "Epoch 205/500\n",
            "2/2 [==============================] - 0s 172ms/step - loss: 2.6205e-04 - acc: 1.0000 - val_loss: 0.0943 - val_acc: 0.9533\n",
            "Epoch 206/500\n",
            "2/2 [==============================] - 0s 168ms/step - loss: 2.6144e-04 - acc: 1.0000 - val_loss: 0.0947 - val_acc: 0.9533\n",
            "Epoch 207/500\n",
            "2/2 [==============================] - 0s 166ms/step - loss: 2.6567e-04 - acc: 1.0000 - val_loss: 0.0949 - val_acc: 0.9533\n",
            "Epoch 208/500\n",
            "2/2 [==============================] - 0s 174ms/step - loss: 2.4436e-04 - acc: 1.0000 - val_loss: 0.0949 - val_acc: 0.9533\n",
            "Epoch 209/500\n",
            "2/2 [==============================] - 0s 167ms/step - loss: 2.5259e-04 - acc: 1.0000 - val_loss: 0.0947 - val_acc: 0.9533\n",
            "Epoch 210/500\n",
            "2/2 [==============================] - 0s 166ms/step - loss: 2.4530e-04 - acc: 1.0000 - val_loss: 0.0950 - val_acc: 0.9533\n",
            "Epoch 211/500\n",
            "2/2 [==============================] - 0s 164ms/step - loss: 2.5103e-04 - acc: 1.0000 - val_loss: 0.0951 - val_acc: 0.9533\n",
            "Epoch 212/500\n",
            "2/2 [==============================] - 0s 164ms/step - loss: 2.3419e-04 - acc: 1.0000 - val_loss: 0.0949 - val_acc: 0.9533\n",
            "Epoch 213/500\n",
            "2/2 [==============================] - 0s 165ms/step - loss: 2.2591e-04 - acc: 1.0000 - val_loss: 0.0951 - val_acc: 0.9533\n",
            "Epoch 214/500\n",
            "2/2 [==============================] - 0s 168ms/step - loss: 2.2519e-04 - acc: 1.0000 - val_loss: 0.0950 - val_acc: 0.9533\n",
            "Epoch 215/500\n",
            "2/2 [==============================] - 0s 174ms/step - loss: 2.3580e-04 - acc: 1.0000 - val_loss: 0.0953 - val_acc: 0.9533\n",
            "Epoch 216/500\n",
            "2/2 [==============================] - 0s 162ms/step - loss: 2.3083e-04 - acc: 1.0000 - val_loss: 0.0959 - val_acc: 0.9533\n",
            "Epoch 217/500\n",
            "2/2 [==============================] - 0s 169ms/step - loss: 2.1754e-04 - acc: 1.0000 - val_loss: 0.0959 - val_acc: 0.9533\n",
            "Epoch 218/500\n",
            "2/2 [==============================] - 0s 166ms/step - loss: 2.1766e-04 - acc: 1.0000 - val_loss: 0.0960 - val_acc: 0.9533\n",
            "Epoch 219/500\n",
            "2/2 [==============================] - 0s 165ms/step - loss: 2.2198e-04 - acc: 1.0000 - val_loss: 0.0961 - val_acc: 0.9533\n",
            "Epoch 220/500\n",
            "2/2 [==============================] - 0s 165ms/step - loss: 2.0604e-04 - acc: 1.0000 - val_loss: 0.0962 - val_acc: 0.9533\n",
            "Epoch 221/500\n",
            "2/2 [==============================] - 0s 171ms/step - loss: 2.2184e-04 - acc: 1.0000 - val_loss: 0.0957 - val_acc: 0.9533\n",
            "Epoch 222/500\n",
            "2/2 [==============================] - 0s 163ms/step - loss: 2.1158e-04 - acc: 1.0000 - val_loss: 0.0961 - val_acc: 0.9533\n",
            "Epoch 223/500\n",
            "2/2 [==============================] - 0s 167ms/step - loss: 2.1050e-04 - acc: 1.0000 - val_loss: 0.0964 - val_acc: 0.9533\n",
            "Epoch 224/500\n",
            "2/2 [==============================] - 0s 174ms/step - loss: 2.0665e-04 - acc: 1.0000 - val_loss: 0.0967 - val_acc: 0.9533\n",
            "Epoch 225/500\n",
            "2/2 [==============================] - 0s 163ms/step - loss: 2.0161e-04 - acc: 1.0000 - val_loss: 0.0971 - val_acc: 0.9533\n",
            "Epoch 226/500\n",
            "2/2 [==============================] - 0s 165ms/step - loss: 1.9590e-04 - acc: 1.0000 - val_loss: 0.0971 - val_acc: 0.9533\n",
            "Epoch 227/500\n",
            "2/2 [==============================] - 0s 168ms/step - loss: 2.0528e-04 - acc: 1.0000 - val_loss: 0.0968 - val_acc: 0.9533\n",
            "Epoch 228/500\n",
            "2/2 [==============================] - 0s 172ms/step - loss: 1.9007e-04 - acc: 1.0000 - val_loss: 0.0971 - val_acc: 0.9533\n",
            "Epoch 229/500\n",
            "2/2 [==============================] - 0s 168ms/step - loss: 1.8861e-04 - acc: 1.0000 - val_loss: 0.0969 - val_acc: 0.9533\n",
            "Epoch 230/500\n",
            "2/2 [==============================] - 0s 169ms/step - loss: 1.8132e-04 - acc: 1.0000 - val_loss: 0.0971 - val_acc: 0.9533\n",
            "Epoch 231/500\n",
            "2/2 [==============================] - 0s 170ms/step - loss: 1.7759e-04 - acc: 1.0000 - val_loss: 0.0970 - val_acc: 0.9533\n",
            "Epoch 232/500\n",
            "2/2 [==============================] - 0s 169ms/step - loss: 1.7060e-04 - acc: 1.0000 - val_loss: 0.0972 - val_acc: 0.9533\n",
            "Epoch 233/500\n",
            "2/2 [==============================] - 0s 168ms/step - loss: 1.7999e-04 - acc: 1.0000 - val_loss: 0.0971 - val_acc: 0.9533\n",
            "Epoch 234/500\n",
            "2/2 [==============================] - 0s 168ms/step - loss: 1.7094e-04 - acc: 1.0000 - val_loss: 0.0976 - val_acc: 0.9533\n",
            "Epoch 235/500\n",
            "2/2 [==============================] - 0s 168ms/step - loss: 1.6978e-04 - acc: 1.0000 - val_loss: 0.0980 - val_acc: 0.9533\n",
            "Epoch 236/500\n",
            "2/2 [==============================] - 0s 165ms/step - loss: 1.7343e-04 - acc: 1.0000 - val_loss: 0.0975 - val_acc: 0.9533\n",
            "Epoch 237/500\n",
            "2/2 [==============================] - 0s 171ms/step - loss: 1.6193e-04 - acc: 1.0000 - val_loss: 0.0971 - val_acc: 0.9533\n",
            "Epoch 238/500\n",
            "2/2 [==============================] - 0s 169ms/step - loss: 1.6257e-04 - acc: 1.0000 - val_loss: 0.0983 - val_acc: 0.9533\n",
            "Epoch 239/500\n",
            "2/2 [==============================] - 0s 171ms/step - loss: 1.6921e-04 - acc: 1.0000 - val_loss: 0.0981 - val_acc: 0.9533\n",
            "Epoch 240/500\n",
            "2/2 [==============================] - 0s 167ms/step - loss: 1.7284e-04 - acc: 1.0000 - val_loss: 0.0978 - val_acc: 0.9533\n",
            "Epoch 241/500\n",
            "2/2 [==============================] - 0s 166ms/step - loss: 1.6469e-04 - acc: 1.0000 - val_loss: 0.0980 - val_acc: 0.9533\n",
            "Epoch 242/500\n",
            "2/2 [==============================] - 0s 165ms/step - loss: 1.6087e-04 - acc: 1.0000 - val_loss: 0.0985 - val_acc: 0.9533\n",
            "Epoch 243/500\n",
            "2/2 [==============================] - 0s 168ms/step - loss: 1.5888e-04 - acc: 1.0000 - val_loss: 0.0980 - val_acc: 0.9533\n",
            "Epoch 244/500\n",
            "2/2 [==============================] - 0s 168ms/step - loss: 1.5561e-04 - acc: 1.0000 - val_loss: 0.0982 - val_acc: 0.9533\n",
            "Epoch 245/500\n",
            "2/2 [==============================] - 0s 168ms/step - loss: 1.6446e-04 - acc: 1.0000 - val_loss: 0.0982 - val_acc: 0.9533\n",
            "Epoch 246/500\n",
            "2/2 [==============================] - 0s 168ms/step - loss: 1.5393e-04 - acc: 1.0000 - val_loss: 0.0987 - val_acc: 0.9533\n",
            "Epoch 247/500\n",
            "2/2 [==============================] - 0s 164ms/step - loss: 1.5196e-04 - acc: 1.0000 - val_loss: 0.0986 - val_acc: 0.9533\n",
            "Epoch 248/500\n",
            "2/2 [==============================] - 0s 166ms/step - loss: 1.4445e-04 - acc: 1.0000 - val_loss: 0.0990 - val_acc: 0.9533\n",
            "Epoch 249/500\n",
            "2/2 [==============================] - 0s 166ms/step - loss: 1.5753e-04 - acc: 1.0000 - val_loss: 0.0990 - val_acc: 0.9533\n",
            "Epoch 250/500\n",
            "2/2 [==============================] - 0s 169ms/step - loss: 1.5166e-04 - acc: 1.0000 - val_loss: 0.0992 - val_acc: 0.9533\n",
            "Epoch 251/500\n",
            "2/2 [==============================] - 0s 170ms/step - loss: 1.4827e-04 - acc: 1.0000 - val_loss: 0.0987 - val_acc: 0.9533\n",
            "Epoch 252/500\n",
            "2/2 [==============================] - 0s 168ms/step - loss: 1.4006e-04 - acc: 1.0000 - val_loss: 0.0991 - val_acc: 0.9533\n",
            "Epoch 253/500\n",
            "2/2 [==============================] - 0s 165ms/step - loss: 1.3801e-04 - acc: 1.0000 - val_loss: 0.0992 - val_acc: 0.9533\n",
            "Epoch 254/500\n",
            "2/2 [==============================] - 0s 180ms/step - loss: 1.3551e-04 - acc: 1.0000 - val_loss: 0.0991 - val_acc: 0.9533\n",
            "Epoch 255/500\n",
            "2/2 [==============================] - 0s 165ms/step - loss: 1.3035e-04 - acc: 1.0000 - val_loss: 0.0993 - val_acc: 0.9533\n",
            "Epoch 256/500\n",
            "2/2 [==============================] - 0s 169ms/step - loss: 1.2925e-04 - acc: 1.0000 - val_loss: 0.0993 - val_acc: 0.9533\n",
            "Epoch 257/500\n",
            "2/2 [==============================] - 0s 169ms/step - loss: 1.2711e-04 - acc: 1.0000 - val_loss: 0.0991 - val_acc: 0.9533\n",
            "Epoch 258/500\n",
            "2/2 [==============================] - 0s 170ms/step - loss: 1.3810e-04 - acc: 1.0000 - val_loss: 0.0994 - val_acc: 0.9533\n",
            "Epoch 259/500\n",
            "2/2 [==============================] - 0s 169ms/step - loss: 1.3265e-04 - acc: 1.0000 - val_loss: 0.0997 - val_acc: 0.9533\n",
            "Epoch 260/500\n",
            "2/2 [==============================] - 0s 174ms/step - loss: 1.3301e-04 - acc: 1.0000 - val_loss: 0.0993 - val_acc: 0.9533\n",
            "Epoch 261/500\n",
            "2/2 [==============================] - 0s 168ms/step - loss: 1.2248e-04 - acc: 1.0000 - val_loss: 0.0998 - val_acc: 0.9533\n",
            "Epoch 262/500\n",
            "2/2 [==============================] - 0s 170ms/step - loss: 1.1943e-04 - acc: 1.0000 - val_loss: 0.1002 - val_acc: 0.9533\n",
            "Epoch 263/500\n",
            "2/2 [==============================] - 0s 169ms/step - loss: 1.2775e-04 - acc: 1.0000 - val_loss: 0.0994 - val_acc: 0.9533\n",
            "Epoch 264/500\n",
            "2/2 [==============================] - 0s 169ms/step - loss: 1.2432e-04 - acc: 1.0000 - val_loss: 0.0997 - val_acc: 0.9533\n",
            "Epoch 265/500\n",
            "2/2 [==============================] - 0s 169ms/step - loss: 1.2452e-04 - acc: 1.0000 - val_loss: 0.1001 - val_acc: 0.9533\n",
            "Epoch 266/500\n",
            "2/2 [==============================] - 0s 169ms/step - loss: 1.2073e-04 - acc: 1.0000 - val_loss: 0.1003 - val_acc: 0.9533\n",
            "Epoch 267/500\n",
            "2/2 [==============================] - 0s 166ms/step - loss: 1.1891e-04 - acc: 1.0000 - val_loss: 0.0999 - val_acc: 0.9533\n",
            "Epoch 268/500\n",
            "2/2 [==============================] - 0s 172ms/step - loss: 1.2027e-04 - acc: 1.0000 - val_loss: 0.1001 - val_acc: 0.9533\n",
            "Epoch 269/500\n",
            "2/2 [==============================] - 0s 171ms/step - loss: 1.0652e-04 - acc: 1.0000 - val_loss: 0.1004 - val_acc: 0.9533\n",
            "Epoch 270/500\n",
            "2/2 [==============================] - 0s 169ms/step - loss: 1.1805e-04 - acc: 1.0000 - val_loss: 0.1000 - val_acc: 0.9533\n",
            "Epoch 271/500\n",
            "2/2 [==============================] - 0s 172ms/step - loss: 1.1271e-04 - acc: 1.0000 - val_loss: 0.1000 - val_acc: 0.9533\n",
            "Epoch 272/500\n",
            "2/2 [==============================] - 0s 171ms/step - loss: 1.1280e-04 - acc: 1.0000 - val_loss: 0.1003 - val_acc: 0.9533\n",
            "Epoch 273/500\n",
            "2/2 [==============================] - 0s 169ms/step - loss: 1.1608e-04 - acc: 1.0000 - val_loss: 0.1004 - val_acc: 0.9533\n",
            "Epoch 274/500\n",
            "2/2 [==============================] - 0s 167ms/step - loss: 1.0440e-04 - acc: 1.0000 - val_loss: 0.1006 - val_acc: 0.9533\n",
            "Epoch 275/500\n",
            "2/2 [==============================] - 0s 164ms/step - loss: 1.1179e-04 - acc: 1.0000 - val_loss: 0.1004 - val_acc: 0.9533\n",
            "Epoch 276/500\n",
            "2/2 [==============================] - 0s 172ms/step - loss: 1.0844e-04 - acc: 1.0000 - val_loss: 0.1004 - val_acc: 0.9533\n",
            "Epoch 277/500\n",
            "2/2 [==============================] - 0s 167ms/step - loss: 1.0614e-04 - acc: 1.0000 - val_loss: 0.1009 - val_acc: 0.9533\n",
            "Epoch 278/500\n",
            "2/2 [==============================] - 0s 164ms/step - loss: 1.0609e-04 - acc: 1.0000 - val_loss: 0.1006 - val_acc: 0.9533\n",
            "Epoch 279/500\n",
            "2/2 [==============================] - 0s 170ms/step - loss: 1.0284e-04 - acc: 1.0000 - val_loss: 0.1010 - val_acc: 0.9533\n",
            "Epoch 280/500\n",
            "2/2 [==============================] - 0s 168ms/step - loss: 1.0302e-04 - acc: 1.0000 - val_loss: 0.1015 - val_acc: 0.9533\n",
            "Epoch 281/500\n",
            "2/2 [==============================] - 0s 168ms/step - loss: 9.5131e-05 - acc: 1.0000 - val_loss: 0.1015 - val_acc: 0.9533\n",
            "Epoch 282/500\n",
            "2/2 [==============================] - 0s 170ms/step - loss: 1.0931e-04 - acc: 1.0000 - val_loss: 0.1007 - val_acc: 0.9533\n",
            "Epoch 283/500\n",
            "2/2 [==============================] - 0s 174ms/step - loss: 1.0557e-04 - acc: 1.0000 - val_loss: 0.1011 - val_acc: 0.9533\n",
            "Epoch 284/500\n",
            "2/2 [==============================] - 0s 164ms/step - loss: 1.0075e-04 - acc: 1.0000 - val_loss: 0.1015 - val_acc: 0.9533\n",
            "Epoch 285/500\n",
            "2/2 [==============================] - 0s 174ms/step - loss: 1.0192e-04 - acc: 1.0000 - val_loss: 0.1012 - val_acc: 0.9533\n",
            "Epoch 286/500\n",
            "2/2 [==============================] - 0s 167ms/step - loss: 9.6281e-05 - acc: 1.0000 - val_loss: 0.1014 - val_acc: 0.9533\n",
            "Epoch 287/500\n",
            "2/2 [==============================] - 0s 173ms/step - loss: 9.8622e-05 - acc: 1.0000 - val_loss: 0.1016 - val_acc: 0.9533\n",
            "Epoch 288/500\n",
            "2/2 [==============================] - 0s 174ms/step - loss: 9.8141e-05 - acc: 1.0000 - val_loss: 0.1017 - val_acc: 0.9533\n",
            "Epoch 289/500\n",
            "2/2 [==============================] - 0s 166ms/step - loss: 9.6309e-05 - acc: 1.0000 - val_loss: 0.1013 - val_acc: 0.9533\n",
            "Epoch 290/500\n",
            "2/2 [==============================] - 0s 165ms/step - loss: 9.8327e-05 - acc: 1.0000 - val_loss: 0.1015 - val_acc: 0.9533\n",
            "Epoch 291/500\n",
            "2/2 [==============================] - 0s 177ms/step - loss: 9.0782e-05 - acc: 1.0000 - val_loss: 0.1017 - val_acc: 0.9533\n",
            "Epoch 292/500\n",
            "2/2 [==============================] - 0s 172ms/step - loss: 9.9575e-05 - acc: 1.0000 - val_loss: 0.1015 - val_acc: 0.9533\n",
            "Epoch 293/500\n",
            "2/2 [==============================] - 0s 168ms/step - loss: 9.4484e-05 - acc: 1.0000 - val_loss: 0.1018 - val_acc: 0.9533\n",
            "Epoch 294/500\n",
            "2/2 [==============================] - 0s 168ms/step - loss: 8.9644e-05 - acc: 1.0000 - val_loss: 0.1018 - val_acc: 0.9533\n",
            "Epoch 295/500\n",
            "2/2 [==============================] - 0s 173ms/step - loss: 9.4974e-05 - acc: 1.0000 - val_loss: 0.1022 - val_acc: 0.9533\n",
            "Epoch 296/500\n",
            "2/2 [==============================] - 0s 176ms/step - loss: 9.4171e-05 - acc: 1.0000 - val_loss: 0.1020 - val_acc: 0.9533\n",
            "Epoch 297/500\n",
            "2/2 [==============================] - 0s 168ms/step - loss: 9.1145e-05 - acc: 1.0000 - val_loss: 0.1021 - val_acc: 0.9533\n",
            "Epoch 298/500\n",
            "2/2 [==============================] - 0s 171ms/step - loss: 8.7145e-05 - acc: 1.0000 - val_loss: 0.1021 - val_acc: 0.9533\n",
            "Epoch 299/500\n",
            "2/2 [==============================] - 0s 167ms/step - loss: 8.8617e-05 - acc: 1.0000 - val_loss: 0.1020 - val_acc: 0.9533\n",
            "Epoch 300/500\n",
            "2/2 [==============================] - 0s 169ms/step - loss: 8.5877e-05 - acc: 1.0000 - val_loss: 0.1021 - val_acc: 0.9533\n",
            "Epoch 301/500\n",
            "2/2 [==============================] - 0s 172ms/step - loss: 8.8409e-05 - acc: 1.0000 - val_loss: 0.1025 - val_acc: 0.9533\n",
            "Epoch 302/500\n",
            "2/2 [==============================] - 0s 173ms/step - loss: 8.5492e-05 - acc: 1.0000 - val_loss: 0.1025 - val_acc: 0.9533\n",
            "Epoch 303/500\n",
            "2/2 [==============================] - 0s 173ms/step - loss: 8.5715e-05 - acc: 1.0000 - val_loss: 0.1025 - val_acc: 0.9533\n",
            "Epoch 304/500\n",
            "2/2 [==============================] - 0s 177ms/step - loss: 8.4050e-05 - acc: 1.0000 - val_loss: 0.1026 - val_acc: 0.9533\n",
            "Epoch 305/500\n",
            "2/2 [==============================] - 0s 172ms/step - loss: 8.6171e-05 - acc: 1.0000 - val_loss: 0.1028 - val_acc: 0.9533\n",
            "Epoch 306/500\n",
            "2/2 [==============================] - 0s 171ms/step - loss: 8.3645e-05 - acc: 1.0000 - val_loss: 0.1024 - val_acc: 0.9533\n",
            "Epoch 307/500\n",
            "2/2 [==============================] - 0s 169ms/step - loss: 7.9326e-05 - acc: 1.0000 - val_loss: 0.1027 - val_acc: 0.9533\n",
            "Epoch 308/500\n",
            "2/2 [==============================] - 0s 173ms/step - loss: 8.1858e-05 - acc: 1.0000 - val_loss: 0.1030 - val_acc: 0.9533\n",
            "Epoch 309/500\n",
            "2/2 [==============================] - 0s 170ms/step - loss: 7.7634e-05 - acc: 1.0000 - val_loss: 0.1027 - val_acc: 0.9533\n",
            "Epoch 310/500\n",
            "2/2 [==============================] - 0s 171ms/step - loss: 8.1008e-05 - acc: 1.0000 - val_loss: 0.1026 - val_acc: 0.9533\n",
            "Epoch 311/500\n",
            "2/2 [==============================] - 0s 171ms/step - loss: 7.8343e-05 - acc: 1.0000 - val_loss: 0.1028 - val_acc: 0.9533\n",
            "Epoch 312/500\n",
            "2/2 [==============================] - 0s 176ms/step - loss: 7.8441e-05 - acc: 1.0000 - val_loss: 0.1030 - val_acc: 0.9533\n",
            "Epoch 313/500\n",
            "2/2 [==============================] - 0s 175ms/step - loss: 7.9439e-05 - acc: 1.0000 - val_loss: 0.1027 - val_acc: 0.9533\n",
            "Epoch 314/500\n",
            "2/2 [==============================] - 0s 169ms/step - loss: 7.2850e-05 - acc: 1.0000 - val_loss: 0.1032 - val_acc: 0.9533\n",
            "Epoch 315/500\n",
            "2/2 [==============================] - 0s 175ms/step - loss: 8.1060e-05 - acc: 1.0000 - val_loss: 0.1032 - val_acc: 0.9533\n",
            "Epoch 316/500\n",
            "2/2 [==============================] - 0s 172ms/step - loss: 8.1161e-05 - acc: 1.0000 - val_loss: 0.1030 - val_acc: 0.9533\n",
            "Epoch 317/500\n",
            "2/2 [==============================] - 0s 167ms/step - loss: 7.0195e-05 - acc: 1.0000 - val_loss: 0.1032 - val_acc: 0.9533\n",
            "Epoch 318/500\n",
            "2/2 [==============================] - 0s 167ms/step - loss: 7.9782e-05 - acc: 1.0000 - val_loss: 0.1037 - val_acc: 0.9533\n",
            "Epoch 319/500\n",
            "2/2 [==============================] - 0s 167ms/step - loss: 6.9578e-05 - acc: 1.0000 - val_loss: 0.1037 - val_acc: 0.9533\n",
            "Epoch 320/500\n",
            "2/2 [==============================] - 0s 168ms/step - loss: 7.5866e-05 - acc: 1.0000 - val_loss: 0.1030 - val_acc: 0.9533\n",
            "Epoch 321/500\n",
            "2/2 [==============================] - 0s 166ms/step - loss: 7.4019e-05 - acc: 1.0000 - val_loss: 0.1035 - val_acc: 0.9533\n",
            "Epoch 322/500\n",
            "2/2 [==============================] - 0s 181ms/step - loss: 7.5854e-05 - acc: 1.0000 - val_loss: 0.1038 - val_acc: 0.9533\n",
            "Epoch 323/500\n",
            "2/2 [==============================] - 0s 170ms/step - loss: 7.4050e-05 - acc: 1.0000 - val_loss: 0.1033 - val_acc: 0.9533\n",
            "Epoch 324/500\n",
            "2/2 [==============================] - 0s 168ms/step - loss: 7.1052e-05 - acc: 1.0000 - val_loss: 0.1036 - val_acc: 0.9533\n",
            "Epoch 325/500\n",
            "2/2 [==============================] - 0s 177ms/step - loss: 7.0118e-05 - acc: 1.0000 - val_loss: 0.1039 - val_acc: 0.9533\n",
            "Epoch 326/500\n",
            "2/2 [==============================] - 0s 165ms/step - loss: 6.9741e-05 - acc: 1.0000 - val_loss: 0.1037 - val_acc: 0.9533\n",
            "Epoch 327/500\n",
            "2/2 [==============================] - 0s 169ms/step - loss: 7.1836e-05 - acc: 1.0000 - val_loss: 0.1036 - val_acc: 0.9533\n",
            "Epoch 328/500\n",
            "2/2 [==============================] - 0s 177ms/step - loss: 6.7115e-05 - acc: 1.0000 - val_loss: 0.1040 - val_acc: 0.9533\n",
            "Epoch 329/500\n",
            "2/2 [==============================] - 0s 170ms/step - loss: 7.1195e-05 - acc: 1.0000 - val_loss: 0.1038 - val_acc: 0.9533\n",
            "Epoch 330/500\n",
            "2/2 [==============================] - 0s 168ms/step - loss: 6.4385e-05 - acc: 1.0000 - val_loss: 0.1040 - val_acc: 0.9533\n",
            "Epoch 331/500\n",
            "2/2 [==============================] - 0s 171ms/step - loss: 6.9086e-05 - acc: 1.0000 - val_loss: 0.1042 - val_acc: 0.9533\n",
            "Epoch 332/500\n",
            "2/2 [==============================] - 0s 170ms/step - loss: 6.2527e-05 - acc: 1.0000 - val_loss: 0.1041 - val_acc: 0.9533\n",
            "Epoch 333/500\n",
            "2/2 [==============================] - 0s 172ms/step - loss: 6.9358e-05 - acc: 1.0000 - val_loss: 0.1041 - val_acc: 0.9533\n",
            "Epoch 334/500\n",
            "2/2 [==============================] - 0s 167ms/step - loss: 6.8895e-05 - acc: 1.0000 - val_loss: 0.1040 - val_acc: 0.9533\n",
            "Epoch 335/500\n",
            "2/2 [==============================] - 0s 170ms/step - loss: 6.4852e-05 - acc: 1.0000 - val_loss: 0.1043 - val_acc: 0.9533\n",
            "Epoch 336/500\n",
            "2/2 [==============================] - 0s 178ms/step - loss: 6.2238e-05 - acc: 1.0000 - val_loss: 0.1045 - val_acc: 0.9533\n",
            "Epoch 337/500\n",
            "2/2 [==============================] - 0s 171ms/step - loss: 6.1171e-05 - acc: 1.0000 - val_loss: 0.1043 - val_acc: 0.9533\n",
            "Epoch 338/500\n",
            "2/2 [==============================] - 0s 167ms/step - loss: 6.3624e-05 - acc: 1.0000 - val_loss: 0.1043 - val_acc: 0.9533\n",
            "Epoch 339/500\n",
            "2/2 [==============================] - 0s 173ms/step - loss: 6.3609e-05 - acc: 1.0000 - val_loss: 0.1048 - val_acc: 0.9533\n",
            "Epoch 340/500\n",
            "2/2 [==============================] - 0s 169ms/step - loss: 6.8140e-05 - acc: 1.0000 - val_loss: 0.1043 - val_acc: 0.9533\n",
            "Epoch 341/500\n",
            "2/2 [==============================] - 0s 168ms/step - loss: 6.1562e-05 - acc: 1.0000 - val_loss: 0.1043 - val_acc: 0.9533\n",
            "Epoch 342/500\n",
            "2/2 [==============================] - 0s 181ms/step - loss: 6.0083e-05 - acc: 1.0000 - val_loss: 0.1049 - val_acc: 0.9533\n",
            "Epoch 343/500\n",
            "2/2 [==============================] - 0s 171ms/step - loss: 6.0183e-05 - acc: 1.0000 - val_loss: 0.1050 - val_acc: 0.9533\n",
            "Epoch 344/500\n",
            "2/2 [==============================] - 0s 170ms/step - loss: 5.7906e-05 - acc: 1.0000 - val_loss: 0.1048 - val_acc: 0.9533\n",
            "Epoch 345/500\n",
            "2/2 [==============================] - 0s 172ms/step - loss: 6.1039e-05 - acc: 1.0000 - val_loss: 0.1047 - val_acc: 0.9533\n",
            "Epoch 346/500\n",
            "2/2 [==============================] - 0s 171ms/step - loss: 6.0151e-05 - acc: 1.0000 - val_loss: 0.1050 - val_acc: 0.9533\n",
            "Epoch 347/500\n",
            "2/2 [==============================] - 0s 170ms/step - loss: 5.9921e-05 - acc: 1.0000 - val_loss: 0.1050 - val_acc: 0.9533\n",
            "Epoch 348/500\n",
            "2/2 [==============================] - 0s 175ms/step - loss: 6.1318e-05 - acc: 1.0000 - val_loss: 0.1048 - val_acc: 0.9533\n",
            "Epoch 349/500\n",
            "2/2 [==============================] - 0s 179ms/step - loss: 5.7702e-05 - acc: 1.0000 - val_loss: 0.1049 - val_acc: 0.9533\n",
            "Epoch 350/500\n",
            "2/2 [==============================] - 0s 173ms/step - loss: 5.9798e-05 - acc: 1.0000 - val_loss: 0.1051 - val_acc: 0.9533\n",
            "Epoch 351/500\n",
            "2/2 [==============================] - 0s 172ms/step - loss: 6.0751e-05 - acc: 1.0000 - val_loss: 0.1051 - val_acc: 0.9533\n",
            "Epoch 352/500\n",
            "2/2 [==============================] - 0s 175ms/step - loss: 5.4067e-05 - acc: 1.0000 - val_loss: 0.1051 - val_acc: 0.9533\n",
            "Epoch 353/500\n",
            "2/2 [==============================] - 0s 168ms/step - loss: 5.6870e-05 - acc: 1.0000 - val_loss: 0.1052 - val_acc: 0.9533\n",
            "Epoch 354/500\n",
            "2/2 [==============================] - 0s 177ms/step - loss: 5.7313e-05 - acc: 1.0000 - val_loss: 0.1054 - val_acc: 0.9533\n",
            "Epoch 355/500\n",
            "2/2 [==============================] - 0s 174ms/step - loss: 5.4279e-05 - acc: 1.0000 - val_loss: 0.1054 - val_acc: 0.9533\n",
            "Epoch 356/500\n",
            "2/2 [==============================] - 0s 167ms/step - loss: 5.7321e-05 - acc: 1.0000 - val_loss: 0.1053 - val_acc: 0.9533\n",
            "Epoch 357/500\n",
            "2/2 [==============================] - 0s 172ms/step - loss: 5.5335e-05 - acc: 1.0000 - val_loss: 0.1055 - val_acc: 0.9533\n",
            "Epoch 358/500\n",
            "2/2 [==============================] - 0s 174ms/step - loss: 5.1890e-05 - acc: 1.0000 - val_loss: 0.1054 - val_acc: 0.9533\n",
            "Epoch 359/500\n",
            "2/2 [==============================] - 0s 174ms/step - loss: 5.4752e-05 - acc: 1.0000 - val_loss: 0.1053 - val_acc: 0.9533\n",
            "Epoch 360/500\n",
            "2/2 [==============================] - 0s 171ms/step - loss: 5.4012e-05 - acc: 1.0000 - val_loss: 0.1056 - val_acc: 0.9533\n",
            "Epoch 361/500\n",
            "2/2 [==============================] - 0s 172ms/step - loss: 5.6164e-05 - acc: 1.0000 - val_loss: 0.1056 - val_acc: 0.9533\n",
            "Epoch 362/500\n",
            "2/2 [==============================] - 0s 178ms/step - loss: 5.2773e-05 - acc: 1.0000 - val_loss: 0.1056 - val_acc: 0.9533\n",
            "Epoch 363/500\n",
            "2/2 [==============================] - 0s 169ms/step - loss: 5.3446e-05 - acc: 1.0000 - val_loss: 0.1055 - val_acc: 0.9533\n",
            "Epoch 364/500\n",
            "2/2 [==============================] - 0s 170ms/step - loss: 5.2431e-05 - acc: 1.0000 - val_loss: 0.1059 - val_acc: 0.9533\n",
            "Epoch 365/500\n",
            "2/2 [==============================] - 0s 173ms/step - loss: 5.3485e-05 - acc: 1.0000 - val_loss: 0.1057 - val_acc: 0.9533\n",
            "Epoch 366/500\n",
            "2/2 [==============================] - 0s 170ms/step - loss: 5.0277e-05 - acc: 1.0000 - val_loss: 0.1058 - val_acc: 0.9533\n",
            "Epoch 367/500\n",
            "2/2 [==============================] - 0s 169ms/step - loss: 4.9046e-05 - acc: 1.0000 - val_loss: 0.1060 - val_acc: 0.9533\n",
            "Epoch 368/500\n",
            "2/2 [==============================] - 0s 172ms/step - loss: 5.1009e-05 - acc: 1.0000 - val_loss: 0.1060 - val_acc: 0.9533\n",
            "Epoch 369/500\n",
            "2/2 [==============================] - 0s 175ms/step - loss: 5.3083e-05 - acc: 1.0000 - val_loss: 0.1061 - val_acc: 0.9533\n",
            "Epoch 370/500\n",
            "2/2 [==============================] - 0s 170ms/step - loss: 5.1006e-05 - acc: 1.0000 - val_loss: 0.1062 - val_acc: 0.9533\n",
            "Epoch 371/500\n",
            "2/2 [==============================] - 0s 171ms/step - loss: 4.8279e-05 - acc: 1.0000 - val_loss: 0.1062 - val_acc: 0.9533\n",
            "Epoch 372/500\n",
            "2/2 [==============================] - 0s 169ms/step - loss: 4.6956e-05 - acc: 1.0000 - val_loss: 0.1062 - val_acc: 0.9533\n",
            "Epoch 373/500\n",
            "2/2 [==============================] - 0s 174ms/step - loss: 4.8132e-05 - acc: 1.0000 - val_loss: 0.1065 - val_acc: 0.9533\n",
            "Epoch 374/500\n",
            "2/2 [==============================] - 0s 171ms/step - loss: 4.9490e-05 - acc: 1.0000 - val_loss: 0.1063 - val_acc: 0.9533\n",
            "Epoch 375/500\n",
            "2/2 [==============================] - 0s 171ms/step - loss: 5.1093e-05 - acc: 1.0000 - val_loss: 0.1064 - val_acc: 0.9533\n",
            "Epoch 376/500\n",
            "2/2 [==============================] - 0s 176ms/step - loss: 4.8200e-05 - acc: 1.0000 - val_loss: 0.1066 - val_acc: 0.9533\n",
            "Epoch 377/500\n",
            "2/2 [==============================] - 0s 172ms/step - loss: 4.3477e-05 - acc: 1.0000 - val_loss: 0.1066 - val_acc: 0.9533\n",
            "Epoch 378/500\n",
            "2/2 [==============================] - 0s 180ms/step - loss: 4.6090e-05 - acc: 1.0000 - val_loss: 0.1062 - val_acc: 0.9533\n",
            "Epoch 379/500\n",
            "2/2 [==============================] - 0s 169ms/step - loss: 4.6374e-05 - acc: 1.0000 - val_loss: 0.1065 - val_acc: 0.9533\n",
            "Epoch 380/500\n",
            "2/2 [==============================] - 0s 176ms/step - loss: 4.9534e-05 - acc: 1.0000 - val_loss: 0.1069 - val_acc: 0.9533\n",
            "Epoch 381/500\n",
            "2/2 [==============================] - 0s 173ms/step - loss: 4.7147e-05 - acc: 1.0000 - val_loss: 0.1068 - val_acc: 0.9533\n",
            "Epoch 382/500\n",
            "2/2 [==============================] - 0s 173ms/step - loss: 4.5345e-05 - acc: 1.0000 - val_loss: 0.1066 - val_acc: 0.9533\n",
            "Epoch 383/500\n",
            "2/2 [==============================] - 0s 174ms/step - loss: 4.5592e-05 - acc: 1.0000 - val_loss: 0.1065 - val_acc: 0.9533\n",
            "Epoch 384/500\n",
            "2/2 [==============================] - 0s 171ms/step - loss: 4.6134e-05 - acc: 1.0000 - val_loss: 0.1071 - val_acc: 0.9533\n",
            "Epoch 385/500\n",
            "2/2 [==============================] - 0s 176ms/step - loss: 4.6617e-05 - acc: 1.0000 - val_loss: 0.1074 - val_acc: 0.9533\n",
            "Epoch 386/500\n",
            "2/2 [==============================] - 0s 172ms/step - loss: 4.4994e-05 - acc: 1.0000 - val_loss: 0.1069 - val_acc: 0.9533\n",
            "Epoch 387/500\n",
            "2/2 [==============================] - 0s 170ms/step - loss: 4.5493e-05 - acc: 1.0000 - val_loss: 0.1069 - val_acc: 0.9533\n",
            "Epoch 388/500\n",
            "2/2 [==============================] - 0s 175ms/step - loss: 4.4404e-05 - acc: 1.0000 - val_loss: 0.1071 - val_acc: 0.9533\n",
            "Epoch 389/500\n",
            "2/2 [==============================] - 0s 170ms/step - loss: 4.1996e-05 - acc: 1.0000 - val_loss: 0.1072 - val_acc: 0.9533\n",
            "Epoch 390/500\n",
            "2/2 [==============================] - 0s 170ms/step - loss: 4.4027e-05 - acc: 1.0000 - val_loss: 0.1071 - val_acc: 0.9533\n",
            "Epoch 391/500\n",
            "2/2 [==============================] - 0s 174ms/step - loss: 4.3215e-05 - acc: 1.0000 - val_loss: 0.1071 - val_acc: 0.9533\n",
            "Epoch 392/500\n",
            "2/2 [==============================] - 0s 170ms/step - loss: 4.2894e-05 - acc: 1.0000 - val_loss: 0.1073 - val_acc: 0.9533\n",
            "Epoch 393/500\n",
            "2/2 [==============================] - 0s 173ms/step - loss: 4.5567e-05 - acc: 1.0000 - val_loss: 0.1073 - val_acc: 0.9533\n",
            "Epoch 394/500\n",
            "2/2 [==============================] - 0s 179ms/step - loss: 4.3672e-05 - acc: 1.0000 - val_loss: 0.1072 - val_acc: 0.9533\n",
            "Epoch 395/500\n",
            "2/2 [==============================] - 0s 178ms/step - loss: 4.3882e-05 - acc: 1.0000 - val_loss: 0.1074 - val_acc: 0.9533\n",
            "Epoch 396/500\n",
            "2/2 [==============================] - 0s 169ms/step - loss: 4.4443e-05 - acc: 1.0000 - val_loss: 0.1074 - val_acc: 0.9533\n",
            "Epoch 397/500\n",
            "2/2 [==============================] - 0s 172ms/step - loss: 4.1461e-05 - acc: 1.0000 - val_loss: 0.1074 - val_acc: 0.9533\n",
            "Epoch 398/500\n",
            "2/2 [==============================] - 0s 168ms/step - loss: 4.2075e-05 - acc: 1.0000 - val_loss: 0.1076 - val_acc: 0.9533\n",
            "Epoch 399/500\n",
            "2/2 [==============================] - 0s 170ms/step - loss: 4.0278e-05 - acc: 1.0000 - val_loss: 0.1077 - val_acc: 0.9533\n",
            "Epoch 400/500\n",
            "2/2 [==============================] - 0s 171ms/step - loss: 4.0942e-05 - acc: 1.0000 - val_loss: 0.1078 - val_acc: 0.9533\n",
            "Epoch 401/500\n",
            "2/2 [==============================] - 0s 177ms/step - loss: 4.2163e-05 - acc: 1.0000 - val_loss: 0.1078 - val_acc: 0.9533\n",
            "Epoch 402/500\n",
            "2/2 [==============================] - 0s 172ms/step - loss: 4.1399e-05 - acc: 1.0000 - val_loss: 0.1077 - val_acc: 0.9533\n",
            "Epoch 403/500\n",
            "2/2 [==============================] - 0s 172ms/step - loss: 4.0322e-05 - acc: 1.0000 - val_loss: 0.1079 - val_acc: 0.9533\n",
            "Epoch 404/500\n",
            "2/2 [==============================] - 0s 170ms/step - loss: 3.8103e-05 - acc: 1.0000 - val_loss: 0.1080 - val_acc: 0.9533\n",
            "Epoch 405/500\n",
            "2/2 [==============================] - 0s 180ms/step - loss: 3.9610e-05 - acc: 1.0000 - val_loss: 0.1078 - val_acc: 0.9533\n",
            "Epoch 406/500\n",
            "2/2 [==============================] - 0s 181ms/step - loss: 3.9548e-05 - acc: 1.0000 - val_loss: 0.1078 - val_acc: 0.9533\n",
            "Epoch 407/500\n",
            "2/2 [==============================] - 0s 180ms/step - loss: 4.1933e-05 - acc: 1.0000 - val_loss: 0.1080 - val_acc: 0.9533\n",
            "Epoch 408/500\n",
            "2/2 [==============================] - 0s 172ms/step - loss: 4.0237e-05 - acc: 1.0000 - val_loss: 0.1079 - val_acc: 0.9533\n",
            "Epoch 409/500\n",
            "2/2 [==============================] - 0s 172ms/step - loss: 3.9502e-05 - acc: 1.0000 - val_loss: 0.1077 - val_acc: 0.9533\n",
            "Epoch 410/500\n",
            "2/2 [==============================] - 0s 174ms/step - loss: 4.0305e-05 - acc: 1.0000 - val_loss: 0.1080 - val_acc: 0.9533\n",
            "Epoch 411/500\n",
            "2/2 [==============================] - 0s 169ms/step - loss: 3.9937e-05 - acc: 1.0000 - val_loss: 0.1083 - val_acc: 0.9533\n",
            "Epoch 412/500\n",
            "2/2 [==============================] - 0s 179ms/step - loss: 3.9653e-05 - acc: 1.0000 - val_loss: 0.1081 - val_acc: 0.9533\n",
            "Epoch 413/500\n",
            "2/2 [==============================] - 0s 174ms/step - loss: 3.6554e-05 - acc: 1.0000 - val_loss: 0.1081 - val_acc: 0.9533\n",
            "Epoch 414/500\n",
            "2/2 [==============================] - 0s 170ms/step - loss: 3.7918e-05 - acc: 1.0000 - val_loss: 0.1085 - val_acc: 0.9533\n",
            "Epoch 415/500\n",
            "2/2 [==============================] - 0s 177ms/step - loss: 3.5648e-05 - acc: 1.0000 - val_loss: 0.1085 - val_acc: 0.9533\n",
            "Epoch 416/500\n",
            "2/2 [==============================] - 0s 172ms/step - loss: 3.7504e-05 - acc: 1.0000 - val_loss: 0.1081 - val_acc: 0.9533\n",
            "Epoch 417/500\n",
            "2/2 [==============================] - 0s 173ms/step - loss: 3.7937e-05 - acc: 1.0000 - val_loss: 0.1085 - val_acc: 0.9533\n",
            "Epoch 418/500\n",
            "2/2 [==============================] - 0s 169ms/step - loss: 4.0070e-05 - acc: 1.0000 - val_loss: 0.1087 - val_acc: 0.9533\n",
            "Epoch 419/500\n",
            "2/2 [==============================] - 0s 171ms/step - loss: 3.5030e-05 - acc: 1.0000 - val_loss: 0.1089 - val_acc: 0.9533\n",
            "Epoch 420/500\n",
            "2/2 [==============================] - 0s 173ms/step - loss: 3.5427e-05 - acc: 1.0000 - val_loss: 0.1086 - val_acc: 0.9533\n",
            "Epoch 421/500\n",
            "2/2 [==============================] - 0s 168ms/step - loss: 3.5323e-05 - acc: 1.0000 - val_loss: 0.1086 - val_acc: 0.9533\n",
            "Epoch 422/500\n",
            "2/2 [==============================] - 0s 178ms/step - loss: 3.6645e-05 - acc: 1.0000 - val_loss: 0.1088 - val_acc: 0.9533\n",
            "Epoch 423/500\n",
            "2/2 [==============================] - 0s 169ms/step - loss: 3.3539e-05 - acc: 1.0000 - val_loss: 0.1090 - val_acc: 0.9533\n",
            "Epoch 424/500\n",
            "2/2 [==============================] - 0s 173ms/step - loss: 3.5030e-05 - acc: 1.0000 - val_loss: 0.1086 - val_acc: 0.9533\n",
            "Epoch 425/500\n",
            "2/2 [==============================] - 0s 170ms/step - loss: 3.7240e-05 - acc: 1.0000 - val_loss: 0.1085 - val_acc: 0.9533\n",
            "Epoch 426/500\n",
            "2/2 [==============================] - 0s 179ms/step - loss: 3.4693e-05 - acc: 1.0000 - val_loss: 0.1089 - val_acc: 0.9533\n",
            "Epoch 427/500\n",
            "2/2 [==============================] - 0s 174ms/step - loss: 3.5575e-05 - acc: 1.0000 - val_loss: 0.1091 - val_acc: 0.9533\n",
            "Epoch 428/500\n",
            "2/2 [==============================] - 0s 169ms/step - loss: 3.5481e-05 - acc: 1.0000 - val_loss: 0.1090 - val_acc: 0.9533\n",
            "Epoch 429/500\n",
            "2/2 [==============================] - 0s 172ms/step - loss: 3.5740e-05 - acc: 1.0000 - val_loss: 0.1086 - val_acc: 0.9533\n",
            "Epoch 430/500\n",
            "2/2 [==============================] - 0s 177ms/step - loss: 3.3590e-05 - acc: 1.0000 - val_loss: 0.1091 - val_acc: 0.9533\n",
            "Epoch 431/500\n",
            "2/2 [==============================] - 0s 181ms/step - loss: 3.3937e-05 - acc: 1.0000 - val_loss: 0.1092 - val_acc: 0.9533\n",
            "Epoch 432/500\n",
            "2/2 [==============================] - 0s 171ms/step - loss: 3.2908e-05 - acc: 1.0000 - val_loss: 0.1093 - val_acc: 0.9533\n",
            "Epoch 433/500\n",
            "2/2 [==============================] - 0s 179ms/step - loss: 3.4884e-05 - acc: 1.0000 - val_loss: 0.1090 - val_acc: 0.9533\n",
            "Epoch 434/500\n",
            "2/2 [==============================] - 0s 180ms/step - loss: 3.5421e-05 - acc: 1.0000 - val_loss: 0.1093 - val_acc: 0.9533\n",
            "Epoch 435/500\n",
            "2/2 [==============================] - 0s 172ms/step - loss: 3.4636e-05 - acc: 1.0000 - val_loss: 0.1095 - val_acc: 0.9533\n",
            "Epoch 436/500\n",
            "2/2 [==============================] - 0s 176ms/step - loss: 3.3933e-05 - acc: 1.0000 - val_loss: 0.1092 - val_acc: 0.9533\n",
            "Epoch 437/500\n",
            "2/2 [==============================] - 0s 175ms/step - loss: 3.4704e-05 - acc: 1.0000 - val_loss: 0.1093 - val_acc: 0.9533\n",
            "Epoch 438/500\n",
            "2/2 [==============================] - 0s 183ms/step - loss: 3.4299e-05 - acc: 1.0000 - val_loss: 0.1095 - val_acc: 0.9533\n",
            "Epoch 439/500\n",
            "2/2 [==============================] - 0s 176ms/step - loss: 3.4669e-05 - acc: 1.0000 - val_loss: 0.1095 - val_acc: 0.9533\n",
            "Epoch 440/500\n",
            "2/2 [==============================] - 0s 174ms/step - loss: 3.1480e-05 - acc: 1.0000 - val_loss: 0.1096 - val_acc: 0.9533\n",
            "Epoch 441/500\n",
            "2/2 [==============================] - 0s 170ms/step - loss: 3.3172e-05 - acc: 1.0000 - val_loss: 0.1097 - val_acc: 0.9533\n",
            "Epoch 442/500\n",
            "2/2 [==============================] - 0s 171ms/step - loss: 3.3589e-05 - acc: 1.0000 - val_loss: 0.1097 - val_acc: 0.9533\n",
            "Epoch 443/500\n",
            "2/2 [==============================] - 0s 173ms/step - loss: 3.2277e-05 - acc: 1.0000 - val_loss: 0.1097 - val_acc: 0.9533\n",
            "Epoch 444/500\n",
            "2/2 [==============================] - 0s 174ms/step - loss: 3.1628e-05 - acc: 1.0000 - val_loss: 0.1099 - val_acc: 0.9533\n",
            "Epoch 445/500\n",
            "2/2 [==============================] - 0s 175ms/step - loss: 3.2382e-05 - acc: 1.0000 - val_loss: 0.1099 - val_acc: 0.9533\n",
            "Epoch 446/500\n",
            "2/2 [==============================] - 0s 178ms/step - loss: 3.2460e-05 - acc: 1.0000 - val_loss: 0.1097 - val_acc: 0.9533\n",
            "Epoch 447/500\n",
            "2/2 [==============================] - 0s 172ms/step - loss: 3.0518e-05 - acc: 1.0000 - val_loss: 0.1098 - val_acc: 0.9533\n",
            "Epoch 448/500\n",
            "2/2 [==============================] - 0s 175ms/step - loss: 3.2119e-05 - acc: 1.0000 - val_loss: 0.1100 - val_acc: 0.9533\n",
            "Epoch 449/500\n",
            "2/2 [==============================] - 0s 173ms/step - loss: 2.9158e-05 - acc: 1.0000 - val_loss: 0.1100 - val_acc: 0.9533\n",
            "Epoch 450/500\n",
            "2/2 [==============================] - 0s 171ms/step - loss: 3.1881e-05 - acc: 1.0000 - val_loss: 0.1098 - val_acc: 0.9533\n",
            "Epoch 451/500\n",
            "2/2 [==============================] - 0s 179ms/step - loss: 3.0481e-05 - acc: 1.0000 - val_loss: 0.1100 - val_acc: 0.9533\n",
            "Epoch 452/500\n",
            "2/2 [==============================] - 0s 176ms/step - loss: 3.1616e-05 - acc: 1.0000 - val_loss: 0.1100 - val_acc: 0.9533\n",
            "Epoch 453/500\n",
            "2/2 [==============================] - 0s 171ms/step - loss: 3.2000e-05 - acc: 1.0000 - val_loss: 0.1099 - val_acc: 0.9533\n",
            "Epoch 454/500\n",
            "2/2 [==============================] - 0s 177ms/step - loss: 2.9593e-05 - acc: 1.0000 - val_loss: 0.1101 - val_acc: 0.9533\n",
            "Epoch 455/500\n",
            "2/2 [==============================] - 0s 171ms/step - loss: 2.9037e-05 - acc: 1.0000 - val_loss: 0.1102 - val_acc: 0.9533\n",
            "Epoch 456/500\n",
            "2/2 [==============================] - 0s 167ms/step - loss: 2.7626e-05 - acc: 1.0000 - val_loss: 0.1102 - val_acc: 0.9533\n",
            "Epoch 457/500\n",
            "2/2 [==============================] - 0s 173ms/step - loss: 3.0318e-05 - acc: 1.0000 - val_loss: 0.1102 - val_acc: 0.9533\n",
            "Epoch 458/500\n",
            "2/2 [==============================] - 0s 175ms/step - loss: 3.1147e-05 - acc: 1.0000 - val_loss: 0.1104 - val_acc: 0.9533\n",
            "Epoch 459/500\n",
            "2/2 [==============================] - 0s 173ms/step - loss: 2.9849e-05 - acc: 1.0000 - val_loss: 0.1103 - val_acc: 0.9533\n",
            "Epoch 460/500\n",
            "2/2 [==============================] - 0s 174ms/step - loss: 3.0175e-05 - acc: 1.0000 - val_loss: 0.1105 - val_acc: 0.9533\n",
            "Epoch 461/500\n",
            "2/2 [==============================] - 0s 171ms/step - loss: 2.7525e-05 - acc: 1.0000 - val_loss: 0.1105 - val_acc: 0.9533\n",
            "Epoch 462/500\n",
            "2/2 [==============================] - 0s 173ms/step - loss: 2.8825e-05 - acc: 1.0000 - val_loss: 0.1104 - val_acc: 0.9533\n",
            "Epoch 463/500\n",
            "2/2 [==============================] - 0s 171ms/step - loss: 2.9073e-05 - acc: 1.0000 - val_loss: 0.1105 - val_acc: 0.9533\n",
            "Epoch 464/500\n",
            "2/2 [==============================] - 0s 176ms/step - loss: 2.8725e-05 - acc: 1.0000 - val_loss: 0.1106 - val_acc: 0.9533\n",
            "Epoch 465/500\n",
            "2/2 [==============================] - 0s 171ms/step - loss: 2.8498e-05 - acc: 1.0000 - val_loss: 0.1106 - val_acc: 0.9533\n",
            "Epoch 466/500\n",
            "2/2 [==============================] - 0s 169ms/step - loss: 2.9139e-05 - acc: 1.0000 - val_loss: 0.1106 - val_acc: 0.9533\n",
            "Epoch 467/500\n",
            "2/2 [==============================] - 0s 171ms/step - loss: 2.7764e-05 - acc: 1.0000 - val_loss: 0.1107 - val_acc: 0.9533\n",
            "Epoch 468/500\n",
            "2/2 [==============================] - 0s 175ms/step - loss: 2.8443e-05 - acc: 1.0000 - val_loss: 0.1107 - val_acc: 0.9533\n",
            "Epoch 469/500\n",
            "2/2 [==============================] - 0s 171ms/step - loss: 2.8698e-05 - acc: 1.0000 - val_loss: 0.1108 - val_acc: 0.9533\n",
            "Epoch 470/500\n",
            "2/2 [==============================] - 0s 172ms/step - loss: 2.9042e-05 - acc: 1.0000 - val_loss: 0.1109 - val_acc: 0.9533\n",
            "Epoch 471/500\n",
            "2/2 [==============================] - 0s 180ms/step - loss: 2.7902e-05 - acc: 1.0000 - val_loss: 0.1110 - val_acc: 0.9533\n",
            "Epoch 472/500\n",
            "2/2 [==============================] - 0s 172ms/step - loss: 2.8651e-05 - acc: 1.0000 - val_loss: 0.1108 - val_acc: 0.9533\n",
            "Epoch 473/500\n",
            "2/2 [==============================] - 0s 171ms/step - loss: 2.7761e-05 - acc: 1.0000 - val_loss: 0.1109 - val_acc: 0.9533\n",
            "Epoch 474/500\n",
            "2/2 [==============================] - 0s 170ms/step - loss: 2.7783e-05 - acc: 1.0000 - val_loss: 0.1111 - val_acc: 0.9533\n",
            "Epoch 475/500\n",
            "2/2 [==============================] - 0s 171ms/step - loss: 2.6356e-05 - acc: 1.0000 - val_loss: 0.1111 - val_acc: 0.9533\n",
            "Epoch 476/500\n",
            "2/2 [==============================] - 0s 175ms/step - loss: 2.7201e-05 - acc: 1.0000 - val_loss: 0.1111 - val_acc: 0.9533\n",
            "Epoch 477/500\n",
            "2/2 [==============================] - 0s 176ms/step - loss: 2.6634e-05 - acc: 1.0000 - val_loss: 0.1113 - val_acc: 0.9533\n",
            "Epoch 478/500\n",
            "2/2 [==============================] - 0s 174ms/step - loss: 2.7099e-05 - acc: 1.0000 - val_loss: 0.1111 - val_acc: 0.9533\n",
            "Epoch 479/500\n",
            "2/2 [==============================] - 0s 169ms/step - loss: 2.7481e-05 - acc: 1.0000 - val_loss: 0.1112 - val_acc: 0.9533\n",
            "Epoch 480/500\n",
            "2/2 [==============================] - 0s 170ms/step - loss: 2.5912e-05 - acc: 1.0000 - val_loss: 0.1112 - val_acc: 0.9533\n",
            "Epoch 481/500\n",
            "2/2 [==============================] - 0s 176ms/step - loss: 2.5015e-05 - acc: 1.0000 - val_loss: 0.1113 - val_acc: 0.9533\n",
            "Epoch 482/500\n",
            "2/2 [==============================] - 0s 172ms/step - loss: 2.5750e-05 - acc: 1.0000 - val_loss: 0.1114 - val_acc: 0.9533\n",
            "Epoch 483/500\n",
            "2/2 [==============================] - 0s 176ms/step - loss: 2.6394e-05 - acc: 1.0000 - val_loss: 0.1114 - val_acc: 0.9533\n",
            "Epoch 484/500\n",
            "2/2 [==============================] - 0s 175ms/step - loss: 2.6523e-05 - acc: 1.0000 - val_loss: 0.1115 - val_acc: 0.9533\n",
            "Epoch 485/500\n",
            "2/2 [==============================] - 0s 179ms/step - loss: 2.6586e-05 - acc: 1.0000 - val_loss: 0.1115 - val_acc: 0.9533\n",
            "Epoch 486/500\n",
            "2/2 [==============================] - 0s 173ms/step - loss: 2.5200e-05 - acc: 1.0000 - val_loss: 0.1116 - val_acc: 0.9533\n",
            "Epoch 487/500\n",
            "2/2 [==============================] - 0s 172ms/step - loss: 2.7168e-05 - acc: 1.0000 - val_loss: 0.1116 - val_acc: 0.9533\n",
            "Epoch 488/500\n",
            "2/2 [==============================] - 0s 176ms/step - loss: 2.2881e-05 - acc: 1.0000 - val_loss: 0.1117 - val_acc: 0.9533\n",
            "Epoch 489/500\n",
            "2/2 [==============================] - 0s 172ms/step - loss: 2.3592e-05 - acc: 1.0000 - val_loss: 0.1117 - val_acc: 0.9533\n",
            "Epoch 490/500\n",
            "2/2 [==============================] - 0s 172ms/step - loss: 2.6335e-05 - acc: 1.0000 - val_loss: 0.1117 - val_acc: 0.9533\n",
            "Epoch 491/500\n",
            "2/2 [==============================] - 0s 183ms/step - loss: 2.5058e-05 - acc: 1.0000 - val_loss: 0.1118 - val_acc: 0.9533\n",
            "Epoch 492/500\n",
            "2/2 [==============================] - 0s 186ms/step - loss: 2.4836e-05 - acc: 1.0000 - val_loss: 0.1118 - val_acc: 0.9533\n",
            "Epoch 493/500\n",
            "2/2 [==============================] - 0s 175ms/step - loss: 2.4923e-05 - acc: 1.0000 - val_loss: 0.1119 - val_acc: 0.9533\n",
            "Epoch 494/500\n",
            "2/2 [==============================] - 0s 172ms/step - loss: 2.6674e-05 - acc: 1.0000 - val_loss: 0.1119 - val_acc: 0.9533\n",
            "Epoch 495/500\n",
            "2/2 [==============================] - 0s 177ms/step - loss: 2.5024e-05 - acc: 1.0000 - val_loss: 0.1118 - val_acc: 0.9533\n",
            "Epoch 496/500\n",
            "2/2 [==============================] - 0s 173ms/step - loss: 2.4338e-05 - acc: 1.0000 - val_loss: 0.1119 - val_acc: 0.9533\n",
            "Epoch 497/500\n",
            "2/2 [==============================] - 0s 173ms/step - loss: 2.3548e-05 - acc: 1.0000 - val_loss: 0.1119 - val_acc: 0.9533\n",
            "Epoch 498/500\n",
            "2/2 [==============================] - 0s 172ms/step - loss: 2.6188e-05 - acc: 1.0000 - val_loss: 0.1119 - val_acc: 0.9533\n",
            "Epoch 499/500\n",
            "2/2 [==============================] - 0s 168ms/step - loss: 2.2713e-05 - acc: 1.0000 - val_loss: 0.1123 - val_acc: 0.9533\n",
            "Epoch 500/500\n",
            "2/2 [==============================] - 0s 180ms/step - loss: 2.3863e-05 - acc: 1.0000 - val_loss: 0.1118 - val_acc: 0.9533\n"
          ],
          "name": "stdout"
        }
      ]
    },
    {
      "cell_type": "code",
      "metadata": {
        "id": "x2qzK4SJB5y9",
        "colab": {
          "base_uri": "https://localhost:8080/",
          "height": 241
        },
        "outputId": "c5a17205-7bc2-495c-a687-010f7c24693b"
      },
      "source": [
        "plt.figure(figsize =(5,3))\n",
        "plt.plot(history.history['acc'], marker='.', label='tune')\n",
        "plt.plot(history.history['val_acc'], marker='.', label='test')\n",
        "plt.title('Accuracy')\n",
        "plt.grid(True)\n",
        "plt.xlabel('epoch')\n",
        "plt.ylabel('accuracy')\n",
        "plt.legend(loc='best')\n",
        "plt.show()"
      ],
      "execution_count": 46,
      "outputs": [
        {
          "output_type": "display_data",
          "data": {
            "image/png": "[encoded data removed]",
            "text/plain": [
              "<Figure size 360x216 with 1 Axes>"
            ]
          },
          "metadata": {
            "tags": [],
            "needs_background": "light"
          }
        }
      ]
    },
    {
      "cell_type": "code",
      "metadata": {
        "id": "9oGBi22ZGy38"
      },
      "source": [
        ""
      ],
      "execution_count": null,
      "outputs": []
    }
  ]
}