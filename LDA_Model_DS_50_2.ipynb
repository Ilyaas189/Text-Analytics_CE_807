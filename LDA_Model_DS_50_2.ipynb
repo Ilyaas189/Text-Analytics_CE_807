{
  "nbformat": 4,
  "nbformat_minor": 0,
  "metadata": {
    "colab": {
      "name": "LDA Model_DS_50_2.ipynb",
      "provenance": [],
      "collapsed_sections": [],
      "include_colab_link": true
    },
    "kernelspec": {
      "name": "python3",
      "display_name": "Python 3"
    },
    "language_info": {
      "name": "python"
    },
    "accelerator": "GPU"
  },
  "cells": [
    {
      "cell_type": "markdown",
      "metadata": {
        "id": "view-in-github",
        "colab_type": "text"
      },
      "source": [
        "<a href=\"https://colab.research.google.com/github/Ilyaas189/Text-Analytics_CE_807/blob/main/LDA_Model_DS_50_2.ipynb\" target=\"_parent\"><img src=\"https://colab.research.google.com/assets/colab-badge.svg\" alt=\"Open In Colab\"/></a>"
      ]
    },
    {
      "cell_type": "code",
      "metadata": {
        "colab": {
          "resources": {
            "http://localhost:8080/nbextensions/google.colab/files.js": {
              "data": "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",
              "ok": true,
              "headers": [
                [
                  "content-type",
                  "application/javascript"
                ]
              ],
              "status": 200,
              "status_text": ""
            }
          },
          "base_uri": "https://localhost:8080/",
          "height": 37
        },
        "id": "h48neXM-ANwE",
        "outputId": "692756e1-fdce-473c-c15f-8b0cf1a381f0"
      },
      "source": [
        "import pandas as pd\n",
        "import numpy as np\n",
        "import matplotlib.pyplot as plt\n",
        "import warnings\n",
        "from google.colab import files\n",
        "from sklearn.naive_bayes import MultinomialNB\n",
        "from sklearn.naive_bayes import BernoulliNB\n",
        "from sklearn.pipeline import Pipeline\n",
        "from sklearn.feature_extraction.text import TfidfVectorizer\n",
        "from sklearn.feature_extraction.text import TfidfTransformer\n",
        "from sklearn.linear_model import SGDClassifier\n",
        "from sklearn.linear_model import LogisticRegression\n",
        "from nltk.stem.snowball import SnowballStemmer\n",
        "from sklearn.neighbors import KNeighborsClassifier\n",
        "from sklearn.ensemble import RandomForestClassifier\n",
        "import numpy as np\n",
        "import re\n",
        "\n",
        "\n",
        "import matplotlib.pyplot as plt\n",
        "%matplotlib inline\n",
        "\n",
        "import nltk\n",
        "import random\n",
        "uploaded = files.upload()\n",
        "files = list(uploaded.keys())\n"
      ],
      "execution_count": 1,
      "outputs": [
        {
          "output_type": "display_data",
          "data": {
            "text/html": [
              "\n",
              "     <input type=\"file\" id=\"files-50afbf0e-d690-4b32-a789-456f0af74811\" name=\"files[]\" multiple disabled\n",
              "        style=\"border:none\" />\n",
              "     <output id=\"result-50afbf0e-d690-4b32-a789-456f0af74811\">\n",
              "      Upload widget is only available when the cell has been executed in the\n",
              "      current browser session. Please rerun this cell to enable.\n",
              "      </output>\n",
              "      <script src=\"/nbextensions/google.colab/files.js\"></script> "
            ],
            "text/plain": [
              "<IPython.core.display.HTML object>"
            ]
          },
          "metadata": {
            "tags": []
          }
        }
      ]
    },
    {
      "cell_type": "code",
      "metadata": {
        "colab": {
          "base_uri": "https://localhost:8080/"
        },
        "id": "qcrJU_pzAhOm",
        "outputId": "3a07a128-4add-4d3b-c991-b7b335a52d0f"
      },
      "source": [
        "# Import Dataset\n",
        "data = pd.read_json('https://raw.githubusercontent.com/selva86/datasets/master/newsgroups.json')\n",
        "print(data.target_names.unique())"
      ],
      "execution_count": 2,
      "outputs": [
        {
          "output_type": "stream",
          "text": [
            "['rec.autos' 'comp.sys.mac.hardware' 'comp.graphics' 'sci.space'\n",
            " 'talk.politics.guns' 'sci.med' 'comp.sys.ibm.pc.hardware'\n",
            " 'comp.os.ms-windows.misc' 'rec.motorcycles' 'talk.religion.misc'\n",
            " 'misc.forsale' 'alt.atheism' 'sci.electronics' 'comp.windows.x'\n",
            " 'rec.sport.hockey' 'rec.sport.baseball' 'soc.religion.christian'\n",
            " 'talk.politics.mideast' 'talk.politics.misc' 'sci.crypt']\n"
          ],
          "name": "stdout"
        }
      ]
    },
    {
      "cell_type": "code",
      "metadata": {
        "colab": {
          "base_uri": "https://localhost:8080/",
          "height": 648
        },
        "id": "SnGiNUYGAtLQ",
        "outputId": "b056827e-7a10-4407-a7bb-5ce57b164b30"
      },
      "source": [
        "data.head(20)"
      ],
      "execution_count": 3,
      "outputs": [
        {
          "output_type": "execute_result",
          "data": {
            "text/html": [
              "<div>\n",
              "<style scoped>\n",
              "    .dataframe tbody tr th:only-of-type {\n",
              "        vertical-align: middle;\n",
              "    }\n",
              "\n",
              "    .dataframe tbody tr th {\n",
              "        vertical-align: top;\n",
              "    }\n",
              "\n",
              "    .dataframe thead th {\n",
              "        text-align: right;\n",
              "    }\n",
              "</style>\n",
              "<table border=\"1\" class=\"dataframe\">\n",
              "  <thead>\n",
              "    <tr style=\"text-align: right;\">\n",
              "      <th></th>\n",
              "      <th>content</th>\n",
              "      <th>target</th>\n",
              "      <th>target_names</th>\n",
              "    </tr>\n",
              "  </thead>\n",
              "  <tbody>\n",
              "    <tr>\n",
              "      <th>0</th>\n",
              "      <td>From: lerxst@wam.umd.edu (where's my thing)\\nS...</td>\n",
              "      <td>7</td>\n",
              "      <td>rec.autos</td>\n",
              "    </tr>\n",
              "    <tr>\n",
              "      <th>1</th>\n",
              "      <td>From: guykuo@carson.u.washington.edu (Guy Kuo)...</td>\n",
              "      <td>4</td>\n",
              "      <td>comp.sys.mac.hardware</td>\n",
              "    </tr>\n",
              "    <tr>\n",
              "      <th>2</th>\n",
              "      <td>From: twillis@ec.ecn.purdue.edu (Thomas E Will...</td>\n",
              "      <td>4</td>\n",
              "      <td>comp.sys.mac.hardware</td>\n",
              "    </tr>\n",
              "    <tr>\n",
              "      <th>3</th>\n",
              "      <td>From: jgreen@amber (Joe Green)\\nSubject: Re: W...</td>\n",
              "      <td>1</td>\n",
              "      <td>comp.graphics</td>\n",
              "    </tr>\n",
              "    <tr>\n",
              "      <th>4</th>\n",
              "      <td>From: jcm@head-cfa.harvard.edu (Jonathan McDow...</td>\n",
              "      <td>14</td>\n",
              "      <td>sci.space</td>\n",
              "    </tr>\n",
              "    <tr>\n",
              "      <th>5</th>\n",
              "      <td>From: dfo@vttoulu.tko.vtt.fi (Foxvog Douglas)\\...</td>\n",
              "      <td>16</td>\n",
              "      <td>talk.politics.guns</td>\n",
              "    </tr>\n",
              "    <tr>\n",
              "      <th>6</th>\n",
              "      <td>From: bmdelane@quads.uchicago.edu (brian manni...</td>\n",
              "      <td>13</td>\n",
              "      <td>sci.med</td>\n",
              "    </tr>\n",
              "    <tr>\n",
              "      <th>7</th>\n",
              "      <td>From: bgrubb@dante.nmsu.edu (GRUBB)\\nSubject: ...</td>\n",
              "      <td>3</td>\n",
              "      <td>comp.sys.ibm.pc.hardware</td>\n",
              "    </tr>\n",
              "    <tr>\n",
              "      <th>8</th>\n",
              "      <td>From: holmes7000@iscsvax.uni.edu\\nSubject: WIn...</td>\n",
              "      <td>2</td>\n",
              "      <td>comp.os.ms-windows.misc</td>\n",
              "    </tr>\n",
              "    <tr>\n",
              "      <th>9</th>\n",
              "      <td>From: kerr@ux1.cso.uiuc.edu (Stan Kerr)\\nSubje...</td>\n",
              "      <td>4</td>\n",
              "      <td>comp.sys.mac.hardware</td>\n",
              "    </tr>\n",
              "    <tr>\n",
              "      <th>10</th>\n",
              "      <td>From: irwin@cmptrc.lonestar.org (Irwin Arnstei...</td>\n",
              "      <td>8</td>\n",
              "      <td>rec.motorcycles</td>\n",
              "    </tr>\n",
              "    <tr>\n",
              "      <th>11</th>\n",
              "      <td>From: david@terminus.ericsson.se (David Bold)\\...</td>\n",
              "      <td>19</td>\n",
              "      <td>talk.religion.misc</td>\n",
              "    </tr>\n",
              "    <tr>\n",
              "      <th>12</th>\n",
              "      <td>From: rodc@fc.hp.com (Rod Cerkoney)\\nSubject: ...</td>\n",
              "      <td>4</td>\n",
              "      <td>comp.sys.mac.hardware</td>\n",
              "    </tr>\n",
              "    <tr>\n",
              "      <th>13</th>\n",
              "      <td>From: dbm0000@tm0006.lerc.nasa.gov (David B. M...</td>\n",
              "      <td>14</td>\n",
              "      <td>sci.space</td>\n",
              "    </tr>\n",
              "    <tr>\n",
              "      <th>14</th>\n",
              "      <td>From: jllee@acsu.buffalo.edu (Johnny L Lee)\\nS...</td>\n",
              "      <td>6</td>\n",
              "      <td>misc.forsale</td>\n",
              "    </tr>\n",
              "    <tr>\n",
              "      <th>15</th>\n",
              "      <td>From: mathew &lt;mathew@mantis.co.uk&gt;\\nSubject: R...</td>\n",
              "      <td>0</td>\n",
              "      <td>alt.atheism</td>\n",
              "    </tr>\n",
              "    <tr>\n",
              "      <th>16</th>\n",
              "      <td>From: ab@nova.cc.purdue.edu (Allen B)\\nSubject...</td>\n",
              "      <td>1</td>\n",
              "      <td>comp.graphics</td>\n",
              "    </tr>\n",
              "    <tr>\n",
              "      <th>17</th>\n",
              "      <td>From: CPKJP@vm.cc.latech.edu (Kevin Parker)\\nS...</td>\n",
              "      <td>7</td>\n",
              "      <td>rec.autos</td>\n",
              "    </tr>\n",
              "    <tr>\n",
              "      <th>18</th>\n",
              "      <td>From: ritley@uimrl7.mrl.uiuc.edu ()\\nSubject: ...</td>\n",
              "      <td>12</td>\n",
              "      <td>sci.electronics</td>\n",
              "    </tr>\n",
              "    <tr>\n",
              "      <th>19</th>\n",
              "      <td>From: abarden@tybse1.uucp (Ann Marie Barden)\\n...</td>\n",
              "      <td>5</td>\n",
              "      <td>comp.windows.x</td>\n",
              "    </tr>\n",
              "  </tbody>\n",
              "</table>\n",
              "</div>"
            ],
            "text/plain": [
              "                                              content  ...              target_names\n",
              "0   From: lerxst@wam.umd.edu (where's my thing)\\nS...  ...                 rec.autos\n",
              "1   From: guykuo@carson.u.washington.edu (Guy Kuo)...  ...     comp.sys.mac.hardware\n",
              "2   From: twillis@ec.ecn.purdue.edu (Thomas E Will...  ...     comp.sys.mac.hardware\n",
              "3   From: jgreen@amber (Joe Green)\\nSubject: Re: W...  ...             comp.graphics\n",
              "4   From: jcm@head-cfa.harvard.edu (Jonathan McDow...  ...                 sci.space\n",
              "5   From: dfo@vttoulu.tko.vtt.fi (Foxvog Douglas)\\...  ...        talk.politics.guns\n",
              "6   From: bmdelane@quads.uchicago.edu (brian manni...  ...                   sci.med\n",
              "7   From: bgrubb@dante.nmsu.edu (GRUBB)\\nSubject: ...  ...  comp.sys.ibm.pc.hardware\n",
              "8   From: holmes7000@iscsvax.uni.edu\\nSubject: WIn...  ...   comp.os.ms-windows.misc\n",
              "9   From: kerr@ux1.cso.uiuc.edu (Stan Kerr)\\nSubje...  ...     comp.sys.mac.hardware\n",
              "10  From: irwin@cmptrc.lonestar.org (Irwin Arnstei...  ...           rec.motorcycles\n",
              "11  From: david@terminus.ericsson.se (David Bold)\\...  ...        talk.religion.misc\n",
              "12  From: rodc@fc.hp.com (Rod Cerkoney)\\nSubject: ...  ...     comp.sys.mac.hardware\n",
              "13  From: dbm0000@tm0006.lerc.nasa.gov (David B. M...  ...                 sci.space\n",
              "14  From: jllee@acsu.buffalo.edu (Johnny L Lee)\\nS...  ...              misc.forsale\n",
              "15  From: mathew <mathew@mantis.co.uk>\\nSubject: R...  ...               alt.atheism\n",
              "16  From: ab@nova.cc.purdue.edu (Allen B)\\nSubject...  ...             comp.graphics\n",
              "17  From: CPKJP@vm.cc.latech.edu (Kevin Parker)\\nS...  ...                 rec.autos\n",
              "18  From: ritley@uimrl7.mrl.uiuc.edu ()\\nSubject: ...  ...           sci.electronics\n",
              "19  From: abarden@tybse1.uucp (Ann Marie Barden)\\n...  ...            comp.windows.x\n",
              "\n",
              "[20 rows x 3 columns]"
            ]
          },
          "metadata": {
            "tags": []
          },
          "execution_count": 3
        }
      ]
    },
    {
      "cell_type": "code",
      "metadata": {
        "colab": {
          "base_uri": "https://localhost:8080/"
        },
        "id": "i1t4Hd65BKo4",
        "outputId": "15d6127d-a9a3-41db-eb50-c9fbebd9d90b"
      },
      "source": [
        "data_clusterization = data[['content', 'target_names']]\n",
        "data_clusterization.dropna(inplace=True)"
      ],
      "execution_count": 4,
      "outputs": [
        {
          "output_type": "stream",
          "text": [
            "/usr/local/lib/python3.7/dist-packages/ipykernel_launcher.py:2: SettingWithCopyWarning: \n",
            "A value is trying to be set on a copy of a slice from a DataFrame\n",
            "\n",
            "See the caveats in the documentation: https://pandas.pydata.org/pandas-docs/stable/user_guide/indexing.html#returning-a-view-versus-a-copy\n",
            "  \n"
          ],
          "name": "stderr"
        }
      ]
    },
    {
      "cell_type": "code",
      "metadata": {
        "colab": {
          "base_uri": "https://localhost:8080/",
          "height": 108
        },
        "id": "0xRJ8_03Bd1W",
        "outputId": "8f672214-1989-4072-8993-ba076c28d179"
      },
      "source": [
        "data_clusterization.head(2)\n"
      ],
      "execution_count": 5,
      "outputs": [
        {
          "output_type": "execute_result",
          "data": {
            "text/html": [
              "<div>\n",
              "<style scoped>\n",
              "    .dataframe tbody tr th:only-of-type {\n",
              "        vertical-align: middle;\n",
              "    }\n",
              "\n",
              "    .dataframe tbody tr th {\n",
              "        vertical-align: top;\n",
              "    }\n",
              "\n",
              "    .dataframe thead th {\n",
              "        text-align: right;\n",
              "    }\n",
              "</style>\n",
              "<table border=\"1\" class=\"dataframe\">\n",
              "  <thead>\n",
              "    <tr style=\"text-align: right;\">\n",
              "      <th></th>\n",
              "      <th>content</th>\n",
              "      <th>target_names</th>\n",
              "    </tr>\n",
              "  </thead>\n",
              "  <tbody>\n",
              "    <tr>\n",
              "      <th>0</th>\n",
              "      <td>From: lerxst@wam.umd.edu (where's my thing)\\nS...</td>\n",
              "      <td>rec.autos</td>\n",
              "    </tr>\n",
              "    <tr>\n",
              "      <th>1</th>\n",
              "      <td>From: guykuo@carson.u.washington.edu (Guy Kuo)...</td>\n",
              "      <td>comp.sys.mac.hardware</td>\n",
              "    </tr>\n",
              "  </tbody>\n",
              "</table>\n",
              "</div>"
            ],
            "text/plain": [
              "                                             content           target_names\n",
              "0  From: lerxst@wam.umd.edu (where's my thing)\\nS...              rec.autos\n",
              "1  From: guykuo@carson.u.washington.edu (Guy Kuo)...  comp.sys.mac.hardware"
            ]
          },
          "metadata": {
            "tags": []
          },
          "execution_count": 5
        }
      ]
    },
    {
      "cell_type": "code",
      "metadata": {
        "colab": {
          "base_uri": "https://localhost:8080/"
        },
        "id": "0iUh1DoLBmXP",
        "outputId": "e13b2272-94ea-4205-94b8-e2d7e9cf87a1"
      },
      "source": [
        "import gensim\n",
        "from gensim.utils import simple_preprocess\n",
        "from gensim.parsing.preprocessing import STOPWORDS\n",
        "from nltk.stem import WordNetLemmatizer, SnowballStemmer\n",
        "from nltk.stem.porter import *\n",
        "import numpy as np\n",
        "np.random.seed(2018)\n",
        "import nltk\n",
        "nltk.download('wordnet')"
      ],
      "execution_count": 6,
      "outputs": [
        {
          "output_type": "stream",
          "text": [
            "[nltk_data] Downloading package wordnet to /root/nltk_data...\n",
            "[nltk_data]   Unzipping corpora/wordnet.zip.\n"
          ],
          "name": "stdout"
        },
        {
          "output_type": "execute_result",
          "data": {
            "text/plain": [
              "True"
            ]
          },
          "metadata": {
            "tags": []
          },
          "execution_count": 6
        }
      ]
    },
    {
      "cell_type": "code",
      "metadata": {
        "id": "s7hwfWd1Bw8S"
      },
      "source": [
        "def lemmatize_stemming(text):\n",
        " stemmer = SnowballStemmer(language='english')\n",
        " return stemmer.stem(WordNetLemmatizer().lemmatize(text, pos='v'))\n",
        "def preprocess(text):\n",
        " result = []\n",
        " for token in gensim.utils.simple_preprocess(text):\n",
        "   if token not in gensim.parsing.preprocessing.STOPWORDS and len(token) > 3:\n",
        "     result.append(lemmatize_stemming(token))\n",
        " return result"
      ],
      "execution_count": 7,
      "outputs": []
    },
    {
      "cell_type": "code",
      "metadata": {
        "id": "iJfVX8biB_Sa"
      },
      "source": [
        "processed_docs = data_clusterization['content'].map(preprocess)\n",
        "data_processed = processed_docs.to_frame()\n",
        "data_processed['content'] = data_processed.content.apply(lambda x: ' '.join(x))\n"
      ],
      "execution_count": 8,
      "outputs": []
    },
    {
      "cell_type": "code",
      "metadata": {
        "colab": {
          "base_uri": "https://localhost:8080/"
        },
        "id": "gCHPTBYJClMy",
        "outputId": "30663aa5-36ed-482a-8833-7fea0e6a98f5"
      },
      "source": [
        "!pip install tokenize_uk\n",
        "from collections import Counter\n",
        "from tokenize_uk.tokenize_uk import tokenize_words"
      ],
      "execution_count": 9,
      "outputs": [
        {
          "output_type": "stream",
          "text": [
            "Collecting tokenize_uk\n",
            "  Downloading https://files.pythonhosted.org/packages/ac/21/72abb0304b532e1b2d2473b50d8063ddd0943e3b3fe7e86b366bc4d02aa2/tokenize_uk-0.2.0.tar.gz\n",
            "Requirement already satisfied: six in /usr/local/lib/python3.7/dist-packages (from tokenize_uk) (1.15.0)\n",
            "Building wheels for collected packages: tokenize-uk\n",
            "  Building wheel for tokenize-uk (setup.py) ... \u001b[?25l\u001b[?25hdone\n",
            "  Created wheel for tokenize-uk: filename=tokenize_uk-0.2.0-py2.py3-none-any.whl size=4565 sha256=c2bd86108e86509ae7566ac1e92b8b5d88eceda3ab9008a3a30081cfd20d9242\n",
            "  Stored in directory: /root/.cache/pip/wheels/2c/e1/95/fd8af5b40aeebdc4e178974e7f638f5553aa8772117054db9e\n",
            "Successfully built tokenize-uk\n",
            "Installing collected packages: tokenize-uk\n",
            "Successfully installed tokenize-uk-0.2.0\n"
          ],
          "name": "stdout"
        }
      ]
    },
    {
      "cell_type": "code",
      "metadata": {
        "colab": {
          "base_uri": "https://localhost:8080/",
          "height": 363
        },
        "id": "94mq8WUoCqHq",
        "outputId": "7a03fca5-9e31-4bc7-a5b7-df21ed7fa520"
      },
      "source": [
        "def display_words(data, title, ax):\n",
        " count = Counter(sum(map(lambda text: tokenize_words(text), data), []))\n",
        " popular = np.array(sorted(count.items(), key=lambda x: x[1], reverse=True)[:20])\n",
        " plt.sca(ax)\n",
        " plt.title(title)\n",
        " plt.bar(popular[:,0], np.int32(popular[:,1]))\n",
        " plt.xticks(rotation=\"vertical\")\n",
        "fig, ax = plt.subplots(figsize=(16, 5))\n",
        "display_words(data_processed.sample(1000).content, \"The most popular words]\", ax)"
      ],
      "execution_count": 10,
      "outputs": [
        {
          "output_type": "display_data",
          "data": {
            "image/png": "[encoded data removed]",
            "text/plain": [
              "<Figure size 1152x360 with 1 Axes>"
            ]
          },
          "metadata": {
            "tags": [],
            "needs_background": "light"
          }
        }
      ]
    },
    {
      "cell_type": "code",
      "metadata": {
        "id": "UCM4qevNC5Ty"
      },
      "source": [
        "from sklearn.feature_extraction.text import CountVectorizer"
      ],
      "execution_count": 11,
      "outputs": []
    },
    {
      "cell_type": "code",
      "metadata": {
        "colab": {
          "base_uri": "https://localhost:8080/"
        },
        "id": "NMnRgz3aC8f5",
        "outputId": "7c43f59b-c683-4ae0-c72f-17a2b35b5704"
      },
      "source": [
        "count_vectorizer = CountVectorizer()\n",
        "count_data = count_vectorizer.fit_transform(data_processed['content'])\n",
        "count_data"
      ],
      "execution_count": 12,
      "outputs": [
        {
          "output_type": "execute_result",
          "data": {
            "text/plain": [
              "<11314x61410 sparse matrix of type '<class 'numpy.int64'>'\n",
              "\twith 934270 stored elements in Compressed Sparse Row format>"
            ]
          },
          "metadata": {
            "tags": []
          },
          "execution_count": 12
        }
      ]
    },
    {
      "cell_type": "code",
      "metadata": {
        "id": "6TmSX73jDEJS"
      },
      "source": [
        "likelihood = []\n",
        "n_clusters = []"
      ],
      "execution_count": 13,
      "outputs": []
    },
    {
      "cell_type": "code",
      "metadata": {
        "id": "z9uTcUJlDHT0"
      },
      "source": [
        "import seaborn as sns\n",
        "from sklearn.decomposition import LatentDirichletAllocation as LDA"
      ],
      "execution_count": 14,
      "outputs": []
    },
    {
      "cell_type": "code",
      "metadata": {
        "id": "Hki6oWR0DLwb"
      },
      "source": [
        "def estimate_number_clusters(data, nclusters):\n",
        " for n in nclusters:\n",
        "   likelihood.append(LDA(n_components=n, n_jobs=-1).fit(data).score(data))\n",
        " n_clusters.append(n)\n",
        " print(\"Sccesfully estimated \", n)\n",
        " fig, ax = plt.subplots(figsize=(15, 5))\n",
        " sns.lineplot(x=n_clusters, y=likelihood, ax=ax)\n",
        " ax.set_title('Elbow method for choosing n, likelihood')\n",
        " ax.set_ylabel('Likelihood')\n",
        " ax.set_xlabel('n')\n",
        "\n",
        "\n"
      ],
      "execution_count": 15,
      "outputs": []
    },
    {
      "cell_type": "code",
      "metadata": {
        "id": "_CBG_y1fJszZ"
      },
      "source": [
        "# estimate_number_clusters(count_data, [10, 15, 20, 50])\n",
        " \n",
        " "
      ],
      "execution_count": 16,
      "outputs": []
    },
    {
      "cell_type": "code",
      "metadata": {
        "id": "_XNMixjQJuYE"
      },
      "source": [
        "def print_topics(model, count_vectorizer, n_top_words):\n",
        "  words = count_vectorizer.get_feature_names()\n",
        "  for topic_idx, topic in enumerate(model.components_):\n",
        "    print(\"\\nTopic #%d:\" % topic_idx)\n",
        "    print(\" \".join([words[i]\n",
        "  for i in topic.argsort()[:-n_top_words - 1:-1]]))"
      ],
      "execution_count": 17,
      "outputs": []
    },
    {
      "cell_type": "code",
      "metadata": {
        "id": "Ugizp_hhFpzm"
      },
      "source": [
        "from sklearn.decomposition import LatentDirichletAllocation as LDA\n"
      ],
      "execution_count": 18,
      "outputs": []
    },
    {
      "cell_type": "code",
      "metadata": {
        "colab": {
          "base_uri": "https://localhost:8080/"
        },
        "id": "oWtTkYX1Ftia",
        "outputId": "01ec4ec2-6de2-49c5-810e-169cc7e4b7fc"
      },
      "source": [
        "number_topics = 50\n",
        "number_words = 10\n",
        "# Create and fit the LDA model\n",
        "lda = LDA(n_components=number_topics, n_jobs=-1)\n",
        "lda.fit(count_data)\n",
        "# Print the topics found by the LDA model\n",
        "print(\"Topics found via LDA:\")\n",
        "print_topics(lda, count_vectorizer, number_words)"
      ],
      "execution_count": 19,
      "outputs": [
        {
          "output_type": "stream",
          "text": [
            "Topics found via LDA:\n",
            "\n",
            "Topic #0:\n",
            "card line subject organ thank driver univers window problem video\n",
            "\n",
            "Topic #1:\n",
            "moral write uiuc keith caltech object subject line organ think\n",
            "\n",
            "Topic #2:\n",
            "wire subject line organ post need write like printer articl\n",
            "\n",
            "Topic #3:\n",
            "access digex insur subject post line organ host nntp write\n",
            "\n",
            "Topic #4:\n",
            "encrypt chip clipper secur govern key escrow privaci phone line\n",
            "\n",
            "Topic #5:\n",
            "line organ subject engin write cost like window softwar program\n",
            "\n",
            "Topic #6:\n",
            "year game line organ subject team player basebal good pitch\n",
            "\n",
            "Topic #7:\n",
            "sale line subject organ univers post columbia host nntp sell\n",
            "\n",
            "Topic #8:\n",
            "subject line organ write univers articl indiana post hang jewish\n",
            "\n",
            "Topic #9:\n",
            "line bike organ subject like write articl good drive look\n",
            "\n",
            "Topic #10:\n",
            "line organ subject post write david nntp host articl know\n",
            "\n",
            "Topic #11:\n",
            "armenian armenia write know henrik azerbaijan subject say articl line\n",
            "\n",
            "Topic #12:\n",
            "european father spirit time line subject organ monash american franci\n",
            "\n",
            "Topic #13:\n",
            "jpeg imag berkeley keyboard mark appear post line color subject\n",
            "\n",
            "Topic #14:\n",
            "entri file output program line number section stream build char\n",
            "\n",
            "Topic #15:\n",
            "window subject henri line toronto xterm work organ font articl\n",
            "\n",
            "Topic #16:\n",
            "israel isra say arab peopl jew go know come tell\n",
            "\n",
            "Topic #17:\n",
            "widget applic display resourc window valu visual point colormap string\n",
            "\n",
            "Topic #18:\n",
            "right militia organ line peopl colorado write state subject articl\n",
            "\n",
            "Topic #19:\n",
            "space nasa center univers research inform april satellit nation technolog\n",
            "\n",
            "Topic #20:\n",
            "andrew line organ subject virginia post univers nntp host mellon\n",
            "\n",
            "Topic #21:\n",
            "pitt write articl bank organ subject line gordon scienc know\n",
            "\n",
            "Topic #22:\n",
            "uchicago univers midway line subject purdu organ flyer chicago church\n",
            "\n",
            "Topic #23:\n",
            "write articl cramer optilink subject organ homosexu line slave clayton\n",
            "\n",
            "Topic #24:\n",
            "write islam articl line sandvik organ subject kent appl muslim\n",
            "\n",
            "Topic #25:\n",
            "file window program imag mail avail softwar graphic user includ\n",
            "\n",
            "Topic #26:\n",
            "write line organ articl subject post batf udel koresh right\n",
            "\n",
            "Topic #27:\n",
            "peopl think govern right go time know say presid like\n",
            "\n",
            "Topic #28:\n",
            "period play power sweden ericsson second shot finland scorer goal\n",
            "\n",
            "Topic #29:\n",
            "articl write organ line subject post uoknor rise callison jam\n",
            "\n",
            "Topic #30:\n",
            "window subject line cwru organ cleveland post freenet host nntp\n",
            "\n",
            "Topic #31:\n",
            "team game hockey play player line year season subject organ\n",
            "\n",
            "Topic #32:\n",
            "stratus write organ articl subject line post host nntp irvin\n",
            "\n",
            "Topic #33:\n",
            "orbit space nasa earth moon launch mission lunar rocket probe\n",
            "\n",
            "Topic #34:\n",
            "dresden motorcycl revolv semi organ navi auto mask beck oasi\n",
            "\n",
            "Topic #35:\n",
            "gatech prism organ line subject georgia technolog write institut articl\n",
            "\n",
            "Topic #36:\n",
            "water health cancer arizona medic research center number dept report\n",
            "\n",
            "Topic #37:\n",
            "armenian turkish turk greek turkey argic serdar genocid armenia peopl\n",
            "\n",
            "Topic #38:\n",
            "write articl subject organ line post cornel like thor steve\n",
            "\n",
            "Topic #39:\n",
            "line grind subject organ wire write ingr post circuit articl\n",
            "\n",
            "Topic #40:\n",
            "diseas doctor patient organ subject line medic pain post caus\n",
            "\n",
            "Topic #41:\n",
            "jesus christian christ come peopl say write know bibl church\n",
            "\n",
            "Topic #42:\n",
            "weapon gun firearm crime state file polic control crimin like\n",
            "\n",
            "Topic #43:\n",
            "write line subject organ articl post know stanford appl like\n",
            "\n",
            "Topic #44:\n",
            "drive scsi disk control hard problem power line time work\n",
            "\n",
            "Topic #45:\n",
            "atheist exist religion atheism believ subject post religi belief write\n",
            "\n",
            "Topic #46:\n",
            "ohio state articl write line organ subject magnus post netcom\n",
            "\n",
            "Topic #47:\n",
            "cryptographi crypt cipher attack plaintext organ cryptosystem lopez ciphertext public\n",
            "\n",
            "Topic #48:\n",
            "nrhj bit wwiz byte gizw bhjn hiram bxom pnei nriz\n",
            "\n",
            "Topic #49:\n",
            "christian think question believ know write truth reason claim evid\n"
          ],
          "name": "stdout"
        }
      ]
    },
    {
      "cell_type": "code",
      "metadata": {
        "colab": {
          "base_uri": "https://localhost:8080/",
          "height": 198
        },
        "id": "LrPaQEiuGRt3",
        "outputId": "c452efd8-776d-4506-d2c0-8e6cd79cd5ee"
      },
      "source": [
        "cluster_probabilities = lda.transform(count_data)\n",
        "data_processed['target'] = np.argmax(cluster_probabilities, axis=1)\n",
        "data_processed.head()"
      ],
      "execution_count": 20,
      "outputs": [
        {
          "output_type": "execute_result",
          "data": {
            "text/html": [
              "<div>\n",
              "<style scoped>\n",
              "    .dataframe tbody tr th:only-of-type {\n",
              "        vertical-align: middle;\n",
              "    }\n",
              "\n",
              "    .dataframe tbody tr th {\n",
              "        vertical-align: top;\n",
              "    }\n",
              "\n",
              "    .dataframe thead th {\n",
              "        text-align: right;\n",
              "    }\n",
              "</style>\n",
              "<table border=\"1\" class=\"dataframe\">\n",
              "  <thead>\n",
              "    <tr style=\"text-align: right;\">\n",
              "      <th></th>\n",
              "      <th>content</th>\n",
              "      <th>target</th>\n",
              "    </tr>\n",
              "  </thead>\n",
              "  <tbody>\n",
              "    <tr>\n",
              "      <th>0</th>\n",
              "      <td>lerxst thing subject nntp post host organ univ...</td>\n",
              "      <td>9</td>\n",
              "    </tr>\n",
              "    <tr>\n",
              "      <th>1</th>\n",
              "      <td>guykuo carson washington subject clock poll fi...</td>\n",
              "      <td>44</td>\n",
              "    </tr>\n",
              "    <tr>\n",
              "      <th>2</th>\n",
              "      <td>twilli purdu thoma willi subject question orga...</td>\n",
              "      <td>9</td>\n",
              "    </tr>\n",
              "    <tr>\n",
              "      <th>3</th>\n",
              "      <td>jgreen amber green subject weitek organ harri ...</td>\n",
              "      <td>26</td>\n",
              "    </tr>\n",
              "    <tr>\n",
              "      <th>4</th>\n",
              "      <td>head harvard jonathan mcdowel subject shuttl l...</td>\n",
              "      <td>5</td>\n",
              "    </tr>\n",
              "  </tbody>\n",
              "</table>\n",
              "</div>"
            ],
            "text/plain": [
              "                                             content  target\n",
              "0  lerxst thing subject nntp post host organ univ...       9\n",
              "1  guykuo carson washington subject clock poll fi...      44\n",
              "2  twilli purdu thoma willi subject question orga...       9\n",
              "3  jgreen amber green subject weitek organ harri ...      26\n",
              "4  head harvard jonathan mcdowel subject shuttl l...       5"
            ]
          },
          "metadata": {
            "tags": []
          },
          "execution_count": 20
        }
      ]
    },
    {
      "cell_type": "code",
      "metadata": {
        "id": "oJNJOHB9GkKP"
      },
      "source": [
        "import seaborn as sns\n"
      ],
      "execution_count": 21,
      "outputs": []
    },
    {
      "cell_type": "code",
      "metadata": {
        "colab": {
          "base_uri": "https://localhost:8080/",
          "height": 595
        },
        "id": "At3W9AMVGnga",
        "outputId": "f1399863-95d8-436a-f865-23ae054ab959"
      },
      "source": [
        "fig, ax = plt.subplots(figsize=(20, 10))\n",
        "sns.countplot(x=data_processed.target);\n",
        "ax.set_title(\"Number of articles that correspond to the topic\");\n"
      ],
      "execution_count": 22,
      "outputs": [
        {
          "output_type": "display_data",
          "data": {
            "image/png": "[encoded data removed]",
            "text/plain": [
              "<Figure size 1440x720 with 1 Axes>"
            ]
          },
          "metadata": {
            "tags": [],
            "needs_background": "light"
          }
        }
      ]
    },
    {
      "cell_type": "code",
      "metadata": {
        "id": "kJ07JMrCRAYx",
        "colab": {
          "base_uri": "https://localhost:8080/"
        },
        "outputId": "8d5e33f0-1d84-4894-af66-8e3e74e921ce"
      },
      "source": [
        "#Loading the data set - training data.\n",
        "from sklearn.datasets import fetch_20newsgroups\n",
        "mydata_train = fetch_20newsgroups(subset='train', shuffle=True, remove = ('headers', 'footers', 'quotes'))"
      ],
      "execution_count": 23,
      "outputs": [
        {
          "output_type": "stream",
          "text": [
            "Downloading 20news dataset. This may take a few minutes.\n",
            "Downloading dataset from https://ndownloader.figshare.com/files/5975967 (14 MB)\n"
          ],
          "name": "stderr"
        }
      ]
    },
    {
      "cell_type": "code",
      "metadata": {
        "colab": {
          "base_uri": "https://localhost:8080/"
        },
        "id": "Bpyae_wBRHIU",
        "outputId": "35699376-d0c1-4311-dfa5-3bb80584d61c"
      },
      "source": [
        "list(mydata_train)\n"
      ],
      "execution_count": 24,
      "outputs": [
        {
          "output_type": "execute_result",
          "data": {
            "text/plain": [
              "['data', 'filenames', 'target_names', 'target', 'DESCR']"
            ]
          },
          "metadata": {
            "tags": []
          },
          "execution_count": 24
        }
      ]
    },
    {
      "cell_type": "code",
      "metadata": {
        "colab": {
          "base_uri": "https://localhost:8080/"
        },
        "id": "WsmrhUPeRJ9l",
        "outputId": "b2903fe9-8156-4a14-9a88-fe54b9e747c8"
      },
      "source": [
        "print('Training data size:', len(mydata_train['data']))\n"
      ],
      "execution_count": 25,
      "outputs": [
        {
          "output_type": "stream",
          "text": [
            "Training data size: 11314\n"
          ],
          "name": "stdout"
        }
      ]
    },
    {
      "cell_type": "code",
      "metadata": {
        "colab": {
          "base_uri": "https://localhost:8080/"
        },
        "id": "Nv1WrOdSRONT",
        "outputId": "9d3977f2-7f59-45b9-ce23-d71c3a5002c1"
      },
      "source": [
        "# Printing all the categories\n",
        "mydata_train.target_names"
      ],
      "execution_count": 26,
      "outputs": [
        {
          "output_type": "execute_result",
          "data": {
            "text/plain": [
              "['alt.atheism',\n",
              " 'comp.graphics',\n",
              " 'comp.os.ms-windows.misc',\n",
              " 'comp.sys.ibm.pc.hardware',\n",
              " 'comp.sys.mac.hardware',\n",
              " 'comp.windows.x',\n",
              " 'misc.forsale',\n",
              " 'rec.autos',\n",
              " 'rec.motorcycles',\n",
              " 'rec.sport.baseball',\n",
              " 'rec.sport.hockey',\n",
              " 'sci.crypt',\n",
              " 'sci.electronics',\n",
              " 'sci.med',\n",
              " 'sci.space',\n",
              " 'soc.religion.christian',\n",
              " 'talk.politics.guns',\n",
              " 'talk.politics.mideast',\n",
              " 'talk.politics.misc',\n",
              " 'talk.religion.misc']"
            ]
          },
          "metadata": {
            "tags": []
          },
          "execution_count": 26
        }
      ]
    },
    {
      "cell_type": "code",
      "metadata": {
        "colab": {
          "base_uri": "https://localhost:8080/"
        },
        "id": "krZedPVlRRxL",
        "outputId": "ccde38f9-ef40-4090-d4a8-b2e4663f2df3"
      },
      "source": [
        "\n",
        "# Finding frequency of each category\n",
        "targets, frequency = np.unique(mydata_train.target, return_counts=True)\n",
        "targets, frequency"
      ],
      "execution_count": 27,
      "outputs": [
        {
          "output_type": "execute_result",
          "data": {
            "text/plain": [
              "(array([ 0,  1,  2,  3,  4,  5,  6,  7,  8,  9, 10, 11, 12, 13, 14, 15, 16,\n",
              "        17, 18, 19]),\n",
              " array([480, 584, 591, 590, 578, 593, 585, 594, 598, 597, 600, 595, 591,\n",
              "        594, 593, 599, 546, 564, 465, 377]))"
            ]
          },
          "metadata": {
            "tags": []
          },
          "execution_count": 27
        }
      ]
    },
    {
      "cell_type": "code",
      "metadata": {
        "colab": {
          "base_uri": "https://localhost:8080/"
        },
        "id": "lSr8qhRVRWTb",
        "outputId": "c9b31efc-3396-4536-a8eb-a150c5e453fd"
      },
      "source": [
        "targets_str = np.array(mydata_train.target_names)\n",
        "print(list(zip(targets_str, frequency)))"
      ],
      "execution_count": 28,
      "outputs": [
        {
          "output_type": "stream",
          "text": [
            "[('alt.atheism', 480), ('comp.graphics', 584), ('comp.os.ms-windows.misc', 591), ('comp.sys.ibm.pc.hardware', 590), ('comp.sys.mac.hardware', 578), ('comp.windows.x', 593), ('misc.forsale', 585), ('rec.autos', 594), ('rec.motorcycles', 598), ('rec.sport.baseball', 597), ('rec.sport.hockey', 600), ('sci.crypt', 595), ('sci.electronics', 591), ('sci.med', 594), ('sci.space', 593), ('soc.religion.christian', 599), ('talk.politics.guns', 546), ('talk.politics.mideast', 564), ('talk.politics.misc', 465), ('talk.religion.misc', 377)]\n"
          ],
          "name": "stdout"
        }
      ]
    },
    {
      "cell_type": "code",
      "metadata": {
        "id": "1pZ_KnVPRZSm"
      },
      "source": [
        "mydata_test = fetch_20newsgroups(subset='test', shuffle=True, remove = ('headers', 'footers', 'quotes'))\n"
      ],
      "execution_count": 29,
      "outputs": []
    },
    {
      "cell_type": "code",
      "metadata": {
        "colab": {
          "base_uri": "https://localhost:8080/"
        },
        "id": "IEcSYoJmRcUc",
        "outputId": "33d3dcbc-8b4d-46aa-de76-d166933662c9"
      },
      "source": [
        "print('Testing data size:', len(mydata_test['data']))\n"
      ],
      "execution_count": 30,
      "outputs": [
        {
          "output_type": "stream",
          "text": [
            "Testing data size: 7532\n"
          ],
          "name": "stdout"
        }
      ]
    },
    {
      "cell_type": "code",
      "metadata": {
        "colab": {
          "base_uri": "https://localhost:8080/",
          "height": 198
        },
        "id": "_aSKch0QRf_o",
        "outputId": "10ae0385-c03d-4a4d-f0fd-8cfed89769f7"
      },
      "source": [
        "mydata_train_df = pd.DataFrame({'data': mydata_train.data, 'target': mydata_train.target})\n",
        "mydata_train_df.head()"
      ],
      "execution_count": 31,
      "outputs": [
        {
          "output_type": "execute_result",
          "data": {
            "text/html": [
              "<div>\n",
              "<style scoped>\n",
              "    .dataframe tbody tr th:only-of-type {\n",
              "        vertical-align: middle;\n",
              "    }\n",
              "\n",
              "    .dataframe tbody tr th {\n",
              "        vertical-align: top;\n",
              "    }\n",
              "\n",
              "    .dataframe thead th {\n",
              "        text-align: right;\n",
              "    }\n",
              "</style>\n",
              "<table border=\"1\" class=\"dataframe\">\n",
              "  <thead>\n",
              "    <tr style=\"text-align: right;\">\n",
              "      <th></th>\n",
              "      <th>data</th>\n",
              "      <th>target</th>\n",
              "    </tr>\n",
              "  </thead>\n",
              "  <tbody>\n",
              "    <tr>\n",
              "      <th>0</th>\n",
              "      <td>I was wondering if anyone out there could enli...</td>\n",
              "      <td>7</td>\n",
              "    </tr>\n",
              "    <tr>\n",
              "      <th>1</th>\n",
              "      <td>A fair number of brave souls who upgraded thei...</td>\n",
              "      <td>4</td>\n",
              "    </tr>\n",
              "    <tr>\n",
              "      <th>2</th>\n",
              "      <td>well folks, my mac plus finally gave up the gh...</td>\n",
              "      <td>4</td>\n",
              "    </tr>\n",
              "    <tr>\n",
              "      <th>3</th>\n",
              "      <td>\\nDo you have Weitek's address/phone number?  ...</td>\n",
              "      <td>1</td>\n",
              "    </tr>\n",
              "    <tr>\n",
              "      <th>4</th>\n",
              "      <td>From article &lt;C5owCB.n3p@world.std.com&gt;, by to...</td>\n",
              "      <td>14</td>\n",
              "    </tr>\n",
              "  </tbody>\n",
              "</table>\n",
              "</div>"
            ],
            "text/plain": [
              "                                                data  target\n",
              "0  I was wondering if anyone out there could enli...       7\n",
              "1  A fair number of brave souls who upgraded thei...       4\n",
              "2  well folks, my mac plus finally gave up the gh...       4\n",
              "3  \\nDo you have Weitek's address/phone number?  ...       1\n",
              "4  From article <C5owCB.n3p@world.std.com>, by to...      14"
            ]
          },
          "metadata": {
            "tags": []
          },
          "execution_count": 31
        }
      ]
    },
    {
      "cell_type": "code",
      "metadata": {
        "colab": {
          "base_uri": "https://localhost:8080/",
          "height": 198
        },
        "id": "ttru-cT7Rj9K",
        "outputId": "10cc3898-8de9-412c-ca4c-38a695d02999"
      },
      "source": [
        "# Text preprocessing steps - remove numbers, captial letters and punctuation\n",
        "import re\n",
        "import string\n",
        "\n",
        "alphanumeric = lambda x: re.sub(r\"\"\"\\w*\\d\\w*\"\"\", ' ', x)\n",
        "punc_lower = lambda x: re.sub('[%s]' % re.escape(string.punctuation), ' ', x.lower())\n",
        "\n",
        "mydata_train_df['data'] = mydata_train_df.data.map(alphanumeric).map(punc_lower)\n",
        "mydata_train_df.head()"
      ],
      "execution_count": 32,
      "outputs": [
        {
          "output_type": "execute_result",
          "data": {
            "text/html": [
              "<div>\n",
              "<style scoped>\n",
              "    .dataframe tbody tr th:only-of-type {\n",
              "        vertical-align: middle;\n",
              "    }\n",
              "\n",
              "    .dataframe tbody tr th {\n",
              "        vertical-align: top;\n",
              "    }\n",
              "\n",
              "    .dataframe thead th {\n",
              "        text-align: right;\n",
              "    }\n",
              "</style>\n",
              "<table border=\"1\" class=\"dataframe\">\n",
              "  <thead>\n",
              "    <tr style=\"text-align: right;\">\n",
              "      <th></th>\n",
              "      <th>data</th>\n",
              "      <th>target</th>\n",
              "    </tr>\n",
              "  </thead>\n",
              "  <tbody>\n",
              "    <tr>\n",
              "      <th>0</th>\n",
              "      <td>i was wondering if anyone out there could enli...</td>\n",
              "      <td>7</td>\n",
              "    </tr>\n",
              "    <tr>\n",
              "      <th>1</th>\n",
              "      <td>a fair number of brave souls who upgraded thei...</td>\n",
              "      <td>4</td>\n",
              "    </tr>\n",
              "    <tr>\n",
              "      <th>2</th>\n",
              "      <td>well folks  my mac plus finally gave up the gh...</td>\n",
              "      <td>4</td>\n",
              "    </tr>\n",
              "    <tr>\n",
              "      <th>3</th>\n",
              "      <td>\\ndo you have weitek s address phone number   ...</td>\n",
              "      <td>1</td>\n",
              "    </tr>\n",
              "    <tr>\n",
              "      <th>4</th>\n",
              "      <td>from article      world std com   by tombaker ...</td>\n",
              "      <td>14</td>\n",
              "    </tr>\n",
              "  </tbody>\n",
              "</table>\n",
              "</div>"
            ],
            "text/plain": [
              "                                                data  target\n",
              "0  i was wondering if anyone out there could enli...       7\n",
              "1  a fair number of brave souls who upgraded thei...       4\n",
              "2  well folks  my mac plus finally gave up the gh...       4\n",
              "3  \\ndo you have weitek s address phone number   ...       1\n",
              "4  from article      world std com   by tombaker ...      14"
            ]
          },
          "metadata": {
            "tags": []
          },
          "execution_count": 32
        }
      ]
    },
    {
      "cell_type": "code",
      "metadata": {
        "colab": {
          "base_uri": "https://localhost:8080/",
          "height": 198
        },
        "id": "8f6jlH07RoBH",
        "outputId": "cb24f3eb-45c7-433e-af54-9676ad96310c"
      },
      "source": [
        "mydata_test_df = pd.DataFrame({'data': mydata_test.data, 'target': mydata_test.target})\n",
        "mydata_test_df.head()"
      ],
      "execution_count": 33,
      "outputs": [
        {
          "output_type": "execute_result",
          "data": {
            "text/html": [
              "<div>\n",
              "<style scoped>\n",
              "    .dataframe tbody tr th:only-of-type {\n",
              "        vertical-align: middle;\n",
              "    }\n",
              "\n",
              "    .dataframe tbody tr th {\n",
              "        vertical-align: top;\n",
              "    }\n",
              "\n",
              "    .dataframe thead th {\n",
              "        text-align: right;\n",
              "    }\n",
              "</style>\n",
              "<table border=\"1\" class=\"dataframe\">\n",
              "  <thead>\n",
              "    <tr style=\"text-align: right;\">\n",
              "      <th></th>\n",
              "      <th>data</th>\n",
              "      <th>target</th>\n",
              "    </tr>\n",
              "  </thead>\n",
              "  <tbody>\n",
              "    <tr>\n",
              "      <th>0</th>\n",
              "      <td>I am a little confused on all of the models of...</td>\n",
              "      <td>7</td>\n",
              "    </tr>\n",
              "    <tr>\n",
              "      <th>1</th>\n",
              "      <td>I'm not familiar at all with the format of the...</td>\n",
              "      <td>5</td>\n",
              "    </tr>\n",
              "    <tr>\n",
              "      <th>2</th>\n",
              "      <td>\\nIn a word, yes.\\n</td>\n",
              "      <td>0</td>\n",
              "    </tr>\n",
              "    <tr>\n",
              "      <th>3</th>\n",
              "      <td>\\nThey were attacking the Iraqis to drive them...</td>\n",
              "      <td>17</td>\n",
              "    </tr>\n",
              "    <tr>\n",
              "      <th>4</th>\n",
              "      <td>\\nI've just spent two solid months arguing tha...</td>\n",
              "      <td>19</td>\n",
              "    </tr>\n",
              "  </tbody>\n",
              "</table>\n",
              "</div>"
            ],
            "text/plain": [
              "                                                data  target\n",
              "0  I am a little confused on all of the models of...       7\n",
              "1  I'm not familiar at all with the format of the...       5\n",
              "2                                \\nIn a word, yes.\\n       0\n",
              "3  \\nThey were attacking the Iraqis to drive them...      17\n",
              "4  \\nI've just spent two solid months arguing tha...      19"
            ]
          },
          "metadata": {
            "tags": []
          },
          "execution_count": 33
        }
      ]
    },
    {
      "cell_type": "code",
      "metadata": {
        "colab": {
          "base_uri": "https://localhost:8080/",
          "height": 198
        },
        "id": "tUjU5KP5RrlP",
        "outputId": "9e8f79a3-3d18-4424-f066-bc282c38f3f9"
      },
      "source": [
        "# Text preprocessing steps - remove numbers, captial letters and punctuation\n",
        "alphanumeric = lambda x: re.sub(r\"\"\"\\w*\\d\\w*\"\"\", ' ', x)\n",
        "punc_lower = lambda x: re.sub('[%s]' % re.escape(string.punctuation), ' ', x.lower())\n",
        "\n",
        "mydata_test_df['data'] = mydata_test_df.data.map(alphanumeric).map(punc_lower)\n",
        "mydata_test_df.head()"
      ],
      "execution_count": 34,
      "outputs": [
        {
          "output_type": "execute_result",
          "data": {
            "text/html": [
              "<div>\n",
              "<style scoped>\n",
              "    .dataframe tbody tr th:only-of-type {\n",
              "        vertical-align: middle;\n",
              "    }\n",
              "\n",
              "    .dataframe tbody tr th {\n",
              "        vertical-align: top;\n",
              "    }\n",
              "\n",
              "    .dataframe thead th {\n",
              "        text-align: right;\n",
              "    }\n",
              "</style>\n",
              "<table border=\"1\" class=\"dataframe\">\n",
              "  <thead>\n",
              "    <tr style=\"text-align: right;\">\n",
              "      <th></th>\n",
              "      <th>data</th>\n",
              "      <th>target</th>\n",
              "    </tr>\n",
              "  </thead>\n",
              "  <tbody>\n",
              "    <tr>\n",
              "      <th>0</th>\n",
              "      <td>i am a little confused on all of the models of...</td>\n",
              "      <td>7</td>\n",
              "    </tr>\n",
              "    <tr>\n",
              "      <th>1</th>\n",
              "      <td>i m not familiar at all with the format of the...</td>\n",
              "      <td>5</td>\n",
              "    </tr>\n",
              "    <tr>\n",
              "      <th>2</th>\n",
              "      <td>\\nin a word  yes \\n</td>\n",
              "      <td>0</td>\n",
              "    </tr>\n",
              "    <tr>\n",
              "      <th>3</th>\n",
              "      <td>\\nthey were attacking the iraqis to drive them...</td>\n",
              "      <td>17</td>\n",
              "    </tr>\n",
              "    <tr>\n",
              "      <th>4</th>\n",
              "      <td>\\ni ve just spent two solid months arguing tha...</td>\n",
              "      <td>19</td>\n",
              "    </tr>\n",
              "  </tbody>\n",
              "</table>\n",
              "</div>"
            ],
            "text/plain": [
              "                                                data  target\n",
              "0  i am a little confused on all of the models of...       7\n",
              "1  i m not familiar at all with the format of the...       5\n",
              "2                                \\nin a word  yes \\n       0\n",
              "3  \\nthey were attacking the iraqis to drive them...      17\n",
              "4  \\ni ve just spent two solid months arguing tha...      19"
            ]
          },
          "metadata": {
            "tags": []
          },
          "execution_count": 34
        }
      ]
    },
    {
      "cell_type": "code",
      "metadata": {
        "colab": {
          "base_uri": "https://localhost:8080/"
        },
        "id": "yUELDX2-bNNg",
        "outputId": "8e30b066-0d4a-4868-efe7-027822cba529"
      },
      "source": [
        "# Extracting features from text files\n",
        "from sklearn.feature_extraction.text import CountVectorizer\n",
        "count_vect = CountVectorizer(stop_words='english')\n",
        "X_train_cv = count_vect.fit_transform(mydata_train_df.data) # fit_transform learns the\n",
        "X_test_cv = count_vect.transform(mydata_test_df.data) # transform uses the same vocab an\n",
        "print(X_train_cv.shape)\n",
        "print(type(X_train_cv))"
      ],
      "execution_count": 35,
      "outputs": [
        {
          "output_type": "stream",
          "text": [
            "(11314, 67822)\n",
            "<class 'scipy.sparse.csr.csr_matrix'>\n"
          ],
          "name": "stdout"
        }
      ]
    },
    {
      "cell_type": "code",
      "metadata": {
        "id": "cRUtZ9-VAkiY"
      },
      "source": [
        "import numpy as np\n",
        "\n",
        "from tqdm import tqdm\n",
        "\n",
        "from sklearn.datasets import fetch_20newsgroups\n",
        "\n",
        "from keras.preprocessing.text import Tokenizer\n",
        "from keras.preprocessing.sequence import pad_sequences\n",
        "from keras.utils.np_utils import to_categorical\n",
        "from keras.layers import Dense, Input, Flatten\n",
        "from keras.layers import Conv1D, MaxPooling1D, Embedding, Dropout\n",
        "from keras.models import Model"
      ],
      "execution_count": 36,
      "outputs": []
    },
    {
      "cell_type": "code",
      "metadata": {
        "colab": {
          "base_uri": "https://localhost:8080/"
        },
        "id": "4Oz3FjnHAqOw",
        "outputId": "e0639c54-cb7c-40bf-9004-f942951b029c"
      },
      "source": [
        "categories = ['alt.atheism', 'soc.religion.christian'] \n",
        "\n",
        "newsgroups_train = fetch_20newsgroups(subset='train', shuffle=True, \n",
        "                                      categories=categories,)\n",
        "\n",
        "print (newsgroups_train.target_names)\n",
        "print (len(newsgroups_train.data))\n",
        "\n",
        "#print (newsgroups_train.data[1])\n",
        "print(\"\\n\".join(newsgroups_train.data[0].split(\"\\n\")[10:15]))"
      ],
      "execution_count": 37,
      "outputs": [
        {
          "output_type": "stream",
          "text": [
            "['alt.atheism', 'soc.religion.christian']\n",
            "1079\n",
            "   WASHINGTON, April 19  -- A symposium on the Dead Sea \n",
            "Scrolls will be held at the Library of Congress on Wednesday,\n",
            "April 21, and Thursday, April 22.  The two-day program, cosponsored\n",
            "by the library and Baltimore Hebrew University, with additional\n",
            "support from the Project Judaica Foundation, will be held in the\n"
          ],
          "name": "stdout"
        }
      ]
    },
    {
      "cell_type": "code",
      "metadata": {
        "colab": {
          "base_uri": "https://localhost:8080/"
        },
        "id": "I9VVEyQWAu6m",
        "outputId": "5f70085e-9521-495e-d65f-be00fd10b2e0"
      },
      "source": [
        "%%time\n",
        "\n",
        "texts = []\n",
        "\n",
        "labels=newsgroups_train.target\n",
        "texts = newsgroups_train.data\n",
        "\n",
        "MAX_SEQUENCE_LENGTH = 1000\n",
        "MAX_NB_WORDS = 20000\n",
        "\n",
        "tokenizer = Tokenizer(num_words=MAX_NB_WORDS)\n",
        "tokenizer.fit_on_texts(texts)\n",
        "\n",
        "sequences = tokenizer.texts_to_sequences(texts)\n",
        "\n",
        "print (sequences[0][:10])"
      ],
      "execution_count": 38,
      "outputs": [
        {
          "output_type": "stream",
          "text": [
            "[19, 8762, 3621, 11894, 58, 8762, 3621, 43, 1472, 2]\n",
            "CPU times: user 429 ms, sys: 3.81 ms, total: 433 ms\n",
            "Wall time: 436 ms\n"
          ],
          "name": "stdout"
        }
      ]
    },
    {
      "cell_type": "code",
      "metadata": {
        "colab": {
          "base_uri": "https://localhost:8080/"
        },
        "id": "8C-jZJV1Ay0E",
        "outputId": "78cd1511-93a6-44ae-ae71-173afd29a78b"
      },
      "source": [
        "word_index = tokenizer.word_index\n",
        "\n",
        "print('Found %s unique tokens.' % len(word_index))"
      ],
      "execution_count": 39,
      "outputs": [
        {
          "output_type": "stream",
          "text": [
            "Found 20030 unique tokens.\n"
          ],
          "name": "stdout"
        }
      ]
    },
    {
      "cell_type": "code",
      "metadata": {
        "colab": {
          "base_uri": "https://localhost:8080/"
        },
        "id": "I3leeqbJA1-q",
        "outputId": "c99d3b80-741f-4045-af1b-6bedf4a33a43"
      },
      "source": [
        "data = pad_sequences(sequences, maxlen=MAX_SEQUENCE_LENGTH)\n",
        "\n",
        "print (data.shape)\n",
        "print (data[0][200:250])"
      ],
      "execution_count": 40,
      "outputs": [
        {
          "output_type": "stream",
          "text": [
            "(1079, 1000)\n",
            "[    0     0     0     0     0     0     0     0     0     0     0     0\n",
            "     0     0     0     0     0     0     0     0     0     0     0     0\n",
            "     0     0     0     0     0    19  8762  3621 11894    58  8762  3621\n",
            "    43  1472     2  2130     3   189   450  1001  3622  2980  1682   476\n",
            "   627    50]\n"
          ],
          "name": "stdout"
        }
      ]
    },
    {
      "cell_type": "code",
      "metadata": {
        "colab": {
          "base_uri": "https://localhost:8080/"
        },
        "id": "TATKrjgmA6lK",
        "outputId": "f70620b4-1f2f-4055-e5a1-6571efd19553"
      },
      "source": [
        "labels = to_categorical(np.array(labels))\n",
        "\n",
        "print('Shape of data tensor:', data.shape)\n",
        "print('Shape of label tensor:', labels.shape)"
      ],
      "execution_count": 41,
      "outputs": [
        {
          "output_type": "stream",
          "text": [
            "Shape of data tensor: (1079, 1000)\n",
            "Shape of label tensor: (1079, 2)\n"
          ],
          "name": "stdout"
        }
      ]
    },
    {
      "cell_type": "code",
      "metadata": {
        "colab": {
          "base_uri": "https://localhost:8080/"
        },
        "id": "tKD1nppNA_cG",
        "outputId": "6c0ea414-2de4-49a7-e45d-bda351d153e1"
      },
      "source": [
        "VALIDATION_SPLIT = 0.1\n",
        "\n",
        "indices = np.arange(data.shape[0])\n",
        "np.random.shuffle(indices) \n",
        "data = data[indices] \n",
        "labels = labels[indices] \n",
        "nb_validation_samples = int(VALIDATION_SPLIT * data.shape[0])\n",
        "\n",
        "x_train = data[:-nb_validation_samples] \n",
        "y_train = labels[:-nb_validation_samples] \n",
        "x_val = data[-nb_validation_samples:] \n",
        "y_val = labels[-nb_validation_samples:] \n",
        "\n",
        "print (x_train.shape)\n",
        "print (y_train.shape)\n",
        "\n",
        "print('Number of positive and negative reviews in traing and validation set ') \n",
        "print (y_train.sum(axis=0))\n",
        "print (y_val.sum(axis=0))\n"
      ],
      "execution_count": 42,
      "outputs": [
        {
          "output_type": "stream",
          "text": [
            "(972, 1000)\n",
            "(972, 2)\n",
            "Number of positive and negative reviews in traing and validation set \n",
            "[439. 533.]\n",
            "[41. 66.]\n"
          ],
          "name": "stdout"
        }
      ]
    },
    {
      "cell_type": "code",
      "metadata": {
        "colab": {
          "base_uri": "https://localhost:8080/",
          "height": 244
        },
        "id": "1jN7GicoBSkh",
        "outputId": "c7e181ff-8a83-42bb-ef98-99777113d76b"
      },
      "source": [
        "EMBEDDING_DIM = 100\n",
        "\n",
        "embedding_matrix = np.random.random((len(word_index) + 1, EMBEDDING_DIM))\n",
        "\n",
        "for word, i in word_index.items():\n",
        "  embedding_vector = embeddings_index.get(word)\n",
        "  if embedding_vector is not None:\n",
        "    # words not found in embedding index will be all-zeros.\n",
        "    embedding_matrix[i] = embedding_vector\n",
        "\n",
        "print (embedding_matrix.shape)\n",
        "\n",
        "print (embedding_matrix[0][:10])"
      ],
      "execution_count": 43,
      "outputs": [
        {
          "output_type": "error",
          "ename": "NameError",
          "evalue": "ignored",
          "traceback": [
            "\u001b[0;31m---------------------------------------------------------------------------\u001b[0m",
            "\u001b[0;31mNameError\u001b[0m                                 Traceback (most recent call last)",
            "\u001b[0;32m<ipython-input-43-6fb53264530f>\u001b[0m in \u001b[0;36m<module>\u001b[0;34m()\u001b[0m\n\u001b[1;32m      4\u001b[0m \u001b[0;34m\u001b[0m\u001b[0m\n\u001b[1;32m      5\u001b[0m \u001b[0;32mfor\u001b[0m \u001b[0mword\u001b[0m\u001b[0;34m,\u001b[0m \u001b[0mi\u001b[0m \u001b[0;32min\u001b[0m \u001b[0mword_index\u001b[0m\u001b[0;34m.\u001b[0m\u001b[0mitems\u001b[0m\u001b[0;34m(\u001b[0m\u001b[0;34m)\u001b[0m\u001b[0;34m:\u001b[0m\u001b[0;34m\u001b[0m\u001b[0;34m\u001b[0m\u001b[0m\n\u001b[0;32m----> 6\u001b[0;31m   \u001b[0membedding_vector\u001b[0m \u001b[0;34m=\u001b[0m \u001b[0membeddings_index\u001b[0m\u001b[0;34m.\u001b[0m\u001b[0mget\u001b[0m\u001b[0;34m(\u001b[0m\u001b[0mword\u001b[0m\u001b[0;34m)\u001b[0m\u001b[0;34m\u001b[0m\u001b[0;34m\u001b[0m\u001b[0m\n\u001b[0m\u001b[1;32m      7\u001b[0m   \u001b[0;32mif\u001b[0m \u001b[0membedding_vector\u001b[0m \u001b[0;32mis\u001b[0m \u001b[0;32mnot\u001b[0m \u001b[0;32mNone\u001b[0m\u001b[0;34m:\u001b[0m\u001b[0;34m\u001b[0m\u001b[0;34m\u001b[0m\u001b[0m\n\u001b[1;32m      8\u001b[0m     \u001b[0;31m# words not found in embedding index will be all-zeros.\u001b[0m\u001b[0;34m\u001b[0m\u001b[0;34m\u001b[0m\u001b[0;34m\u001b[0m\u001b[0m\n",
            "\u001b[0;31mNameError\u001b[0m: name 'embeddings_index' is not defined"
          ]
        }
      ]
    },
    {
      "cell_type": "code",
      "metadata": {
        "colab": {
          "base_uri": "https://localhost:8080/"
        },
        "id": "StT4yPYaBUgr",
        "outputId": "6b01108e-c10a-4fdb-acb2-01ba9bccab42"
      },
      "source": [
        "embedding_layer = Embedding(len(word_index) + 1, EMBEDDING_DIM,\n",
        "                            weights=[embedding_matrix], \n",
        "                            input_length=MAX_SEQUENCE_LENGTH, \n",
        "                            trainable=False)\n",
        "\n",
        "sequence_input = Input(shape=(MAX_SEQUENCE_LENGTH,), dtype='int32') \n",
        "embedded_sequences = embedding_layer(sequence_input) \n",
        "l_cov1= Conv1D(128, 5, activation='relu')(embedded_sequences) \n",
        "l_pool1 = MaxPooling1D(5)(l_cov1) \n",
        "l_cov2 = Conv1D(128, 5, activation='relu')(l_pool1) \n",
        "l_pool2 = MaxPooling1D(5)(l_cov2) \n",
        "l_cov3 = Conv1D(128, 5, activation='relu')(l_pool2) \n",
        "l_pool3 = MaxPooling1D(35)(l_cov3)  # global max pooling\n",
        "\n",
        "l_flat = Flatten()(l_pool3) \n",
        "l_dense = Dense(128, activation='relu')(l_flat) \n",
        "preds = Dense(2, activation='softmax')(l_dense)\n",
        "\n",
        "model = Model(sequence_input, preds)\n",
        "\n",
        "model.summary()"
      ],
      "execution_count": 44,
      "outputs": [
        {
          "output_type": "stream",
          "text": [
            "Model: \"model\"\n",
            "_________________________________________________________________\n",
            "Layer (type)                 Output Shape              Param #   \n",
            "=================================================================\n",
            "input_1 (InputLayer)         [(None, 1000)]            0         \n",
            "_________________________________________________________________\n",
            "embedding (Embedding)        (None, 1000, 100)         2003100   \n",
            "_________________________________________________________________\n",
            "conv1d (Conv1D)              (None, 996, 128)          64128     \n",
            "_________________________________________________________________\n",
            "max_pooling1d (MaxPooling1D) (None, 199, 128)          0         \n",
            "_________________________________________________________________\n",
            "conv1d_1 (Conv1D)            (None, 195, 128)          82048     \n",
            "_________________________________________________________________\n",
            "max_pooling1d_1 (MaxPooling1 (None, 39, 128)           0         \n",
            "_________________________________________________________________\n",
            "conv1d_2 (Conv1D)            (None, 35, 128)           82048     \n",
            "_________________________________________________________________\n",
            "max_pooling1d_2 (MaxPooling1 (None, 1, 128)            0         \n",
            "_________________________________________________________________\n",
            "flatten (Flatten)            (None, 128)               0         \n",
            "_________________________________________________________________\n",
            "dense (Dense)                (None, 128)               16512     \n",
            "_________________________________________________________________\n",
            "dense_1 (Dense)              (None, 2)                 258       \n",
            "=================================================================\n",
            "Total params: 2,248,094\n",
            "Trainable params: 244,994\n",
            "Non-trainable params: 2,003,100\n",
            "_________________________________________________________________\n"
          ],
          "name": "stdout"
        }
      ]
    },
    {
      "cell_type": "code",
      "metadata": {
        "colab": {
          "base_uri": "https://localhost:8080/"
        },
        "id": "ohWKe6xrBfGj",
        "outputId": "81214e58-6b7b-4f76-b5a0-e2bcf342d3df"
      },
      "source": [
        "model.compile(loss='categorical_crossentropy', optimizer='adam',metrics=['acc'])\n",
        "\n",
        "history = model.fit(x_train, y_train, validation_data=(x_val, y_val),\n",
        "                    epochs=500, batch_size=512)   "
      ],
      "execution_count": 45,
      "outputs": [
        {
          "output_type": "stream",
          "text": [
            "Epoch 1/500\n",
            "2/2 [==============================] - 35s 1s/step - loss: 0.8377 - acc: 0.5306 - val_loss: 0.6742 - val_acc: 0.5888\n",
            "Epoch 2/500\n",
            "2/2 [==============================] - 0s 161ms/step - loss: 0.7276 - acc: 0.5245 - val_loss: 0.7512 - val_acc: 0.3832\n",
            "Epoch 3/500\n",
            "2/2 [==============================] - 0s 163ms/step - loss: 0.7021 - acc: 0.5140 - val_loss: 0.6678 - val_acc: 0.6168\n",
            "Epoch 4/500\n",
            "2/2 [==============================] - 0s 163ms/step - loss: 0.7085 - acc: 0.5453 - val_loss: 0.6700 - val_acc: 0.6168\n",
            "Epoch 5/500\n",
            "2/2 [==============================] - 0s 160ms/step - loss: 0.6869 - acc: 0.5566 - val_loss: 0.7034 - val_acc: 0.3832\n",
            "Epoch 6/500\n",
            "2/2 [==============================] - 0s 161ms/step - loss: 0.6933 - acc: 0.5005 - val_loss: 0.6734 - val_acc: 0.6168\n",
            "Epoch 7/500\n",
            "2/2 [==============================] - 0s 161ms/step - loss: 0.6885 - acc: 0.5433 - val_loss: 0.6652 - val_acc: 0.6168\n",
            "Epoch 8/500\n",
            "2/2 [==============================] - 0s 163ms/step - loss: 0.6881 - acc: 0.5563 - val_loss: 0.6703 - val_acc: 0.6168\n",
            "Epoch 9/500\n",
            "2/2 [==============================] - 0s 163ms/step - loss: 0.6866 - acc: 0.5492 - val_loss: 0.6877 - val_acc: 0.6542\n",
            "Epoch 10/500\n",
            "2/2 [==============================] - 0s 160ms/step - loss: 0.6885 - acc: 0.5772 - val_loss: 0.6787 - val_acc: 0.6168\n",
            "Epoch 11/500\n",
            "2/2 [==============================] - 0s 164ms/step - loss: 0.6859 - acc: 0.5479 - val_loss: 0.6682 - val_acc: 0.6168\n",
            "Epoch 12/500\n",
            "2/2 [==============================] - 0s 165ms/step - loss: 0.6878 - acc: 0.5433 - val_loss: 0.6695 - val_acc: 0.6168\n",
            "Epoch 13/500\n",
            "2/2 [==============================] - 0s 163ms/step - loss: 0.6833 - acc: 0.5537 - val_loss: 0.6745 - val_acc: 0.6168\n",
            "Epoch 14/500\n",
            "2/2 [==============================] - 0s 160ms/step - loss: 0.6826 - acc: 0.5531 - val_loss: 0.6784 - val_acc: 0.6168\n",
            "Epoch 15/500\n",
            "2/2 [==============================] - 0s 161ms/step - loss: 0.6829 - acc: 0.5512 - val_loss: 0.6715 - val_acc: 0.6168\n",
            "Epoch 16/500\n",
            "2/2 [==============================] - 0s 162ms/step - loss: 0.6830 - acc: 0.5414 - val_loss: 0.6690 - val_acc: 0.6168\n",
            "Epoch 17/500\n",
            "2/2 [==============================] - 0s 163ms/step - loss: 0.6806 - acc: 0.5557 - val_loss: 0.6688 - val_acc: 0.6168\n",
            "Epoch 18/500\n",
            "2/2 [==============================] - 0s 162ms/step - loss: 0.6798 - acc: 0.5595 - val_loss: 0.6803 - val_acc: 0.6449\n",
            "Epoch 19/500\n",
            "2/2 [==============================] - 0s 167ms/step - loss: 0.6786 - acc: 0.5893 - val_loss: 0.6646 - val_acc: 0.6168\n",
            "Epoch 20/500\n",
            "2/2 [==============================] - 0s 164ms/step - loss: 0.6790 - acc: 0.5441 - val_loss: 0.6668 - val_acc: 0.6168\n",
            "Epoch 21/500\n",
            "2/2 [==============================] - 0s 168ms/step - loss: 0.6764 - acc: 0.5639 - val_loss: 0.6651 - val_acc: 0.6168\n",
            "Epoch 22/500\n",
            "2/2 [==============================] - 0s 161ms/step - loss: 0.6715 - acc: 0.5573 - val_loss: 0.6621 - val_acc: 0.6168\n",
            "Epoch 23/500\n",
            "2/2 [==============================] - 0s 166ms/step - loss: 0.6684 - acc: 0.5750 - val_loss: 0.6678 - val_acc: 0.6449\n",
            "Epoch 24/500\n",
            "2/2 [==============================] - 0s 159ms/step - loss: 0.6680 - acc: 0.6111 - val_loss: 0.6647 - val_acc: 0.6542\n",
            "Epoch 25/500\n",
            "2/2 [==============================] - 0s 167ms/step - loss: 0.6626 - acc: 0.6707 - val_loss: 0.6527 - val_acc: 0.6542\n",
            "Epoch 26/500\n",
            "2/2 [==============================] - 0s 170ms/step - loss: 0.6576 - acc: 0.5874 - val_loss: 0.6524 - val_acc: 0.6355\n",
            "Epoch 27/500\n",
            "2/2 [==============================] - 0s 165ms/step - loss: 0.6506 - acc: 0.6907 - val_loss: 0.6442 - val_acc: 0.6355\n",
            "Epoch 28/500\n",
            "2/2 [==============================] - 0s 163ms/step - loss: 0.6434 - acc: 0.6356 - val_loss: 0.6341 - val_acc: 0.6542\n",
            "Epoch 29/500\n",
            "2/2 [==============================] - 0s 164ms/step - loss: 0.6325 - acc: 0.6374 - val_loss: 0.6976 - val_acc: 0.4019\n",
            "Epoch 30/500\n",
            "2/2 [==============================] - 0s 164ms/step - loss: 0.6342 - acc: 0.5505 - val_loss: 0.6193 - val_acc: 0.6168\n",
            "Epoch 31/500\n",
            "2/2 [==============================] - 0s 162ms/step - loss: 0.6940 - acc: 0.5015 - val_loss: 0.6171 - val_acc: 0.7664\n",
            "Epoch 32/500\n",
            "2/2 [==============================] - 0s 164ms/step - loss: 0.6356 - acc: 0.7162 - val_loss: 0.6020 - val_acc: 0.6449\n",
            "Epoch 33/500\n",
            "2/2 [==============================] - 0s 161ms/step - loss: 0.6143 - acc: 0.6009 - val_loss: 0.7035 - val_acc: 0.4019\n",
            "Epoch 34/500\n",
            "2/2 [==============================] - 0s 163ms/step - loss: 0.6299 - acc: 0.5860 - val_loss: 0.6040 - val_acc: 0.6355\n",
            "Epoch 35/500\n",
            "2/2 [==============================] - 0s 163ms/step - loss: 0.6288 - acc: 0.5786 - val_loss: 0.5964 - val_acc: 0.8131\n",
            "Epoch 36/500\n",
            "2/2 [==============================] - 0s 164ms/step - loss: 0.6034 - acc: 0.6920 - val_loss: 0.6393 - val_acc: 0.5888\n",
            "Epoch 37/500\n",
            "2/2 [==============================] - 0s 161ms/step - loss: 0.5879 - acc: 0.7514 - val_loss: 0.5765 - val_acc: 0.6729\n",
            "Epoch 38/500\n",
            "2/2 [==============================] - 0s 161ms/step - loss: 0.5964 - acc: 0.6268 - val_loss: 0.5854 - val_acc: 0.8224\n",
            "Epoch 39/500\n",
            "2/2 [==============================] - 0s 161ms/step - loss: 0.5728 - acc: 0.8016 - val_loss: 0.5711 - val_acc: 0.8224\n",
            "Epoch 40/500\n",
            "2/2 [==============================] - 0s 162ms/step - loss: 0.5466 - acc: 0.8388 - val_loss: 0.5329 - val_acc: 0.7477\n",
            "Epoch 41/500\n",
            "2/2 [==============================] - 0s 161ms/step - loss: 0.5407 - acc: 0.7538 - val_loss: 0.5803 - val_acc: 0.6916\n",
            "Epoch 42/500\n",
            "2/2 [==============================] - 0s 172ms/step - loss: 0.5243 - acc: 0.7912 - val_loss: 0.4839 - val_acc: 0.8411\n",
            "Epoch 43/500\n",
            "2/2 [==============================] - 0s 166ms/step - loss: 0.4941 - acc: 0.8128 - val_loss: 0.4629 - val_acc: 0.8598\n",
            "Epoch 44/500\n",
            "2/2 [==============================] - 0s 165ms/step - loss: 0.4582 - acc: 0.8405 - val_loss: 0.5689 - val_acc: 0.6355\n",
            "Epoch 45/500\n",
            "2/2 [==============================] - 0s 166ms/step - loss: 0.4732 - acc: 0.7540 - val_loss: 0.4100 - val_acc: 0.8785\n",
            "Epoch 46/500\n",
            "2/2 [==============================] - 0s 167ms/step - loss: 0.4461 - acc: 0.7763 - val_loss: 0.4146 - val_acc: 0.8224\n",
            "Epoch 47/500\n",
            "2/2 [==============================] - 0s 163ms/step - loss: 0.4333 - acc: 0.7898 - val_loss: 0.5298 - val_acc: 0.6822\n",
            "Epoch 48/500\n",
            "2/2 [==============================] - 0s 162ms/step - loss: 0.4234 - acc: 0.8196 - val_loss: 0.3590 - val_acc: 0.8692\n",
            "Epoch 49/500\n",
            "2/2 [==============================] - 0s 165ms/step - loss: 0.3778 - acc: 0.8628 - val_loss: 0.3518 - val_acc: 0.9065\n",
            "Epoch 50/500\n",
            "2/2 [==============================] - 0s 165ms/step - loss: 0.3277 - acc: 0.9002 - val_loss: 0.3246 - val_acc: 0.9252\n",
            "Epoch 51/500\n",
            "2/2 [==============================] - 0s 163ms/step - loss: 0.3141 - acc: 0.9174 - val_loss: 0.3014 - val_acc: 0.9065\n",
            "Epoch 52/500\n",
            "2/2 [==============================] - 0s 164ms/step - loss: 0.3018 - acc: 0.8845 - val_loss: 0.3418 - val_acc: 0.8879\n",
            "Epoch 53/500\n",
            "2/2 [==============================] - 0s 166ms/step - loss: 0.2881 - acc: 0.9133 - val_loss: 0.3280 - val_acc: 0.8879\n",
            "Epoch 54/500\n",
            "2/2 [==============================] - 0s 165ms/step - loss: 0.2559 - acc: 0.9374 - val_loss: 0.2891 - val_acc: 0.8785\n",
            "Epoch 55/500\n",
            "2/2 [==============================] - 0s 160ms/step - loss: 0.3161 - acc: 0.8671 - val_loss: 0.2413 - val_acc: 0.9346\n",
            "Epoch 56/500\n",
            "2/2 [==============================] - 0s 162ms/step - loss: 0.2202 - acc: 0.9150 - val_loss: 0.3645 - val_acc: 0.8318\n",
            "Epoch 57/500\n",
            "2/2 [==============================] - 0s 165ms/step - loss: 0.2509 - acc: 0.9258 - val_loss: 0.2258 - val_acc: 0.9346\n",
            "Epoch 58/500\n",
            "2/2 [==============================] - 0s 162ms/step - loss: 0.2183 - acc: 0.9354 - val_loss: 0.2198 - val_acc: 0.9346\n",
            "Epoch 59/500\n",
            "2/2 [==============================] - 0s 163ms/step - loss: 0.1917 - acc: 0.9257 - val_loss: 0.2615 - val_acc: 0.9159\n",
            "Epoch 60/500\n",
            "2/2 [==============================] - 0s 164ms/step - loss: 0.1810 - acc: 0.9595 - val_loss: 0.2002 - val_acc: 0.9252\n",
            "Epoch 61/500\n",
            "2/2 [==============================] - 0s 163ms/step - loss: 0.1732 - acc: 0.9356 - val_loss: 0.2023 - val_acc: 0.9439\n",
            "Epoch 62/500\n",
            "2/2 [==============================] - 0s 170ms/step - loss: 0.1514 - acc: 0.9569 - val_loss: 0.1921 - val_acc: 0.9439\n",
            "Epoch 63/500\n",
            "2/2 [==============================] - 0s 162ms/step - loss: 0.1381 - acc: 0.9610 - val_loss: 0.1832 - val_acc: 0.9439\n",
            "Epoch 64/500\n",
            "2/2 [==============================] - 0s 168ms/step - loss: 0.1329 - acc: 0.9630 - val_loss: 0.1807 - val_acc: 0.9346\n",
            "Epoch 65/500\n",
            "2/2 [==============================] - 0s 169ms/step - loss: 0.1241 - acc: 0.9610 - val_loss: 0.1904 - val_acc: 0.9346\n",
            "Epoch 66/500\n",
            "2/2 [==============================] - 0s 166ms/step - loss: 0.1406 - acc: 0.9456 - val_loss: 0.2064 - val_acc: 0.9346\n",
            "Epoch 67/500\n",
            "2/2 [==============================] - 0s 161ms/step - loss: 0.1309 - acc: 0.9626 - val_loss: 0.2536 - val_acc: 0.8879\n",
            "Epoch 68/500\n",
            "2/2 [==============================] - 0s 165ms/step - loss: 0.1208 - acc: 0.9710 - val_loss: 0.1654 - val_acc: 0.9439\n",
            "Epoch 69/500\n",
            "2/2 [==============================] - 0s 163ms/step - loss: 0.1169 - acc: 0.9569 - val_loss: 0.1687 - val_acc: 0.9346\n",
            "Epoch 70/500\n",
            "2/2 [==============================] - 0s 163ms/step - loss: 0.1120 - acc: 0.9537 - val_loss: 0.2166 - val_acc: 0.9252\n",
            "Epoch 71/500\n",
            "2/2 [==============================] - 0s 168ms/step - loss: 0.1073 - acc: 0.9735 - val_loss: 0.1639 - val_acc: 0.9439\n",
            "Epoch 72/500\n",
            "2/2 [==============================] - 0s 166ms/step - loss: 0.0945 - acc: 0.9770 - val_loss: 0.2177 - val_acc: 0.9346\n",
            "Epoch 73/500\n",
            "2/2 [==============================] - 0s 162ms/step - loss: 0.1472 - acc: 0.9350 - val_loss: 0.3953 - val_acc: 0.8037\n",
            "Epoch 74/500\n",
            "2/2 [==============================] - 0s 164ms/step - loss: 0.1904 - acc: 0.9158 - val_loss: 0.2215 - val_acc: 0.9346\n",
            "Epoch 75/500\n",
            "2/2 [==============================] - 0s 165ms/step - loss: 0.1502 - acc: 0.9390 - val_loss: 0.3710 - val_acc: 0.8224\n",
            "Epoch 76/500\n",
            "2/2 [==============================] - 0s 163ms/step - loss: 0.1606 - acc: 0.9326 - val_loss: 0.2586 - val_acc: 0.9159\n",
            "Epoch 77/500\n",
            "2/2 [==============================] - 0s 165ms/step - loss: 0.1910 - acc: 0.9116 - val_loss: 0.4515 - val_acc: 0.7757\n",
            "Epoch 78/500\n",
            "2/2 [==============================] - 0s 165ms/step - loss: 0.1875 - acc: 0.9215 - val_loss: 0.2018 - val_acc: 0.9252\n",
            "Epoch 79/500\n",
            "2/2 [==============================] - 0s 169ms/step - loss: 0.1525 - acc: 0.9275 - val_loss: 0.2091 - val_acc: 0.9159\n",
            "Epoch 80/500\n",
            "2/2 [==============================] - 0s 164ms/step - loss: 0.1102 - acc: 0.9837 - val_loss: 0.1466 - val_acc: 0.9533\n",
            "Epoch 81/500\n",
            "2/2 [==============================] - 0s 164ms/step - loss: 0.0868 - acc: 0.9736 - val_loss: 0.1493 - val_acc: 0.9439\n",
            "Epoch 82/500\n",
            "2/2 [==============================] - 0s 164ms/step - loss: 0.0767 - acc: 0.9772 - val_loss: 0.2078 - val_acc: 0.9159\n",
            "Epoch 83/500\n",
            "2/2 [==============================] - 0s 163ms/step - loss: 0.0801 - acc: 0.9899 - val_loss: 0.1408 - val_acc: 0.9439\n",
            "Epoch 84/500\n",
            "2/2 [==============================] - 0s 162ms/step - loss: 0.0684 - acc: 0.9683 - val_loss: 0.1406 - val_acc: 0.9533\n",
            "Epoch 85/500\n",
            "2/2 [==============================] - 0s 167ms/step - loss: 0.0582 - acc: 0.9826 - val_loss: 0.1703 - val_acc: 0.9439\n",
            "Epoch 86/500\n",
            "2/2 [==============================] - 0s 165ms/step - loss: 0.0544 - acc: 0.9918 - val_loss: 0.1403 - val_acc: 0.9626\n",
            "Epoch 87/500\n",
            "2/2 [==============================] - 0s 167ms/step - loss: 0.0563 - acc: 0.9785 - val_loss: 0.1576 - val_acc: 0.9533\n",
            "Epoch 88/500\n",
            "2/2 [==============================] - 0s 167ms/step - loss: 0.0481 - acc: 0.9966 - val_loss: 0.1364 - val_acc: 0.9626\n",
            "Epoch 89/500\n",
            "2/2 [==============================] - 0s 167ms/step - loss: 0.0426 - acc: 0.9919 - val_loss: 0.1382 - val_acc: 0.9533\n",
            "Epoch 90/500\n",
            "2/2 [==============================] - 0s 167ms/step - loss: 0.0420 - acc: 0.9953 - val_loss: 0.1372 - val_acc: 0.9533\n",
            "Epoch 91/500\n",
            "2/2 [==============================] - 0s 164ms/step - loss: 0.0357 - acc: 0.9939 - val_loss: 0.1324 - val_acc: 0.9533\n",
            "Epoch 92/500\n",
            "2/2 [==============================] - 0s 168ms/step - loss: 0.0343 - acc: 0.9946 - val_loss: 0.1482 - val_acc: 0.9533\n",
            "Epoch 93/500\n",
            "2/2 [==============================] - 0s 170ms/step - loss: 0.0324 - acc: 0.9979 - val_loss: 0.1317 - val_acc: 0.9533\n",
            "Epoch 94/500\n",
            "2/2 [==============================] - 0s 165ms/step - loss: 0.0298 - acc: 0.9946 - val_loss: 0.1366 - val_acc: 0.9533\n",
            "Epoch 95/500\n",
            "2/2 [==============================] - 0s 168ms/step - loss: 0.0279 - acc: 0.9980 - val_loss: 0.1331 - val_acc: 0.9533\n",
            "Epoch 96/500\n",
            "2/2 [==============================] - 0s 174ms/step - loss: 0.0259 - acc: 0.9986 - val_loss: 0.1326 - val_acc: 0.9533\n",
            "Epoch 97/500\n",
            "2/2 [==============================] - 0s 165ms/step - loss: 0.0256 - acc: 0.9980 - val_loss: 0.1353 - val_acc: 0.9533\n",
            "Epoch 98/500\n",
            "2/2 [==============================] - 0s 165ms/step - loss: 0.0236 - acc: 0.9980 - val_loss: 0.1329 - val_acc: 0.9533\n",
            "Epoch 99/500\n",
            "2/2 [==============================] - 0s 170ms/step - loss: 0.0201 - acc: 0.9986 - val_loss: 0.1363 - val_acc: 0.9533\n",
            "Epoch 100/500\n",
            "2/2 [==============================] - 0s 163ms/step - loss: 0.0208 - acc: 0.9980 - val_loss: 0.1330 - val_acc: 0.9533\n",
            "Epoch 101/500\n",
            "2/2 [==============================] - 0s 162ms/step - loss: 0.0189 - acc: 0.9980 - val_loss: 0.1323 - val_acc: 0.9533\n",
            "Epoch 102/500\n",
            "2/2 [==============================] - 0s 162ms/step - loss: 0.0177 - acc: 0.9980 - val_loss: 0.1351 - val_acc: 0.9533\n",
            "Epoch 103/500\n",
            "2/2 [==============================] - 0s 172ms/step - loss: 0.0176 - acc: 0.9993 - val_loss: 0.1324 - val_acc: 0.9533\n",
            "Epoch 104/500\n",
            "2/2 [==============================] - 0s 163ms/step - loss: 0.0151 - acc: 0.9986 - val_loss: 0.1334 - val_acc: 0.9533\n",
            "Epoch 105/500\n",
            "2/2 [==============================] - 0s 167ms/step - loss: 0.0156 - acc: 0.9987 - val_loss: 0.1329 - val_acc: 0.9533\n",
            "Epoch 106/500\n",
            "2/2 [==============================] - 0s 173ms/step - loss: 0.0142 - acc: 0.9980 - val_loss: 0.1333 - val_acc: 0.9533\n",
            "Epoch 107/500\n",
            "2/2 [==============================] - 0s 164ms/step - loss: 0.0137 - acc: 0.9987 - val_loss: 0.1346 - val_acc: 0.9533\n",
            "Epoch 108/500\n",
            "2/2 [==============================] - 0s 163ms/step - loss: 0.0126 - acc: 1.0000 - val_loss: 0.1357 - val_acc: 0.9533\n",
            "Epoch 109/500\n",
            "2/2 [==============================] - 0s 160ms/step - loss: 0.0127 - acc: 0.9987 - val_loss: 0.1358 - val_acc: 0.9533\n",
            "Epoch 110/500\n",
            "2/2 [==============================] - 0s 160ms/step - loss: 0.0110 - acc: 1.0000 - val_loss: 0.1356 - val_acc: 0.9533\n",
            "Epoch 111/500\n",
            "2/2 [==============================] - 0s 163ms/step - loss: 0.0104 - acc: 0.9993 - val_loss: 0.1361 - val_acc: 0.9533\n",
            "Epoch 112/500\n",
            "2/2 [==============================] - 0s 167ms/step - loss: 0.0099 - acc: 1.0000 - val_loss: 0.1360 - val_acc: 0.9533\n",
            "Epoch 113/500\n",
            "2/2 [==============================] - 0s 171ms/step - loss: 0.0090 - acc: 1.0000 - val_loss: 0.1369 - val_acc: 0.9533\n",
            "Epoch 114/500\n",
            "2/2 [==============================] - 0s 166ms/step - loss: 0.0082 - acc: 1.0000 - val_loss: 0.1375 - val_acc: 0.9533\n",
            "Epoch 115/500\n",
            "2/2 [==============================] - 0s 164ms/step - loss: 0.0083 - acc: 1.0000 - val_loss: 0.1381 - val_acc: 0.9533\n",
            "Epoch 116/500\n",
            "2/2 [==============================] - 0s 166ms/step - loss: 0.0077 - acc: 1.0000 - val_loss: 0.1381 - val_acc: 0.9533\n",
            "Epoch 117/500\n",
            "2/2 [==============================] - 0s 162ms/step - loss: 0.0073 - acc: 1.0000 - val_loss: 0.1390 - val_acc: 0.9533\n",
            "Epoch 118/500\n",
            "2/2 [==============================] - 0s 163ms/step - loss: 0.0069 - acc: 1.0000 - val_loss: 0.1405 - val_acc: 0.9533\n",
            "Epoch 119/500\n",
            "2/2 [==============================] - 0s 168ms/step - loss: 0.0067 - acc: 1.0000 - val_loss: 0.1414 - val_acc: 0.9533\n",
            "Epoch 120/500\n",
            "2/2 [==============================] - 0s 162ms/step - loss: 0.0063 - acc: 1.0000 - val_loss: 0.1432 - val_acc: 0.9533\n",
            "Epoch 121/500\n",
            "2/2 [==============================] - 0s 166ms/step - loss: 0.0062 - acc: 1.0000 - val_loss: 0.1414 - val_acc: 0.9533\n",
            "Epoch 122/500\n",
            "2/2 [==============================] - 0s 168ms/step - loss: 0.0054 - acc: 1.0000 - val_loss: 0.1429 - val_acc: 0.9533\n",
            "Epoch 123/500\n",
            "2/2 [==============================] - 0s 165ms/step - loss: 0.0051 - acc: 1.0000 - val_loss: 0.1444 - val_acc: 0.9533\n",
            "Epoch 124/500\n",
            "2/2 [==============================] - 0s 163ms/step - loss: 0.0049 - acc: 1.0000 - val_loss: 0.1435 - val_acc: 0.9533\n",
            "Epoch 125/500\n",
            "2/2 [==============================] - 0s 164ms/step - loss: 0.0047 - acc: 1.0000 - val_loss: 0.1445 - val_acc: 0.9533\n",
            "Epoch 126/500\n",
            "2/2 [==============================] - 0s 165ms/step - loss: 0.0042 - acc: 1.0000 - val_loss: 0.1460 - val_acc: 0.9533\n",
            "Epoch 127/500\n",
            "2/2 [==============================] - 0s 166ms/step - loss: 0.0044 - acc: 1.0000 - val_loss: 0.1458 - val_acc: 0.9533\n",
            "Epoch 128/500\n",
            "2/2 [==============================] - 0s 164ms/step - loss: 0.0040 - acc: 1.0000 - val_loss: 0.1481 - val_acc: 0.9533\n",
            "Epoch 129/500\n",
            "2/2 [==============================] - 0s 171ms/step - loss: 0.0039 - acc: 1.0000 - val_loss: 0.1482 - val_acc: 0.9533\n",
            "Epoch 130/500\n",
            "2/2 [==============================] - 0s 164ms/step - loss: 0.0037 - acc: 1.0000 - val_loss: 0.1480 - val_acc: 0.9533\n",
            "Epoch 131/500\n",
            "2/2 [==============================] - 0s 164ms/step - loss: 0.0036 - acc: 1.0000 - val_loss: 0.1519 - val_acc: 0.9533\n",
            "Epoch 132/500\n",
            "2/2 [==============================] - 0s 164ms/step - loss: 0.0036 - acc: 1.0000 - val_loss: 0.1493 - val_acc: 0.9533\n",
            "Epoch 133/500\n",
            "2/2 [==============================] - 0s 164ms/step - loss: 0.0033 - acc: 1.0000 - val_loss: 0.1522 - val_acc: 0.9533\n",
            "Epoch 134/500\n",
            "2/2 [==============================] - 0s 167ms/step - loss: 0.0031 - acc: 1.0000 - val_loss: 0.1522 - val_acc: 0.9533\n",
            "Epoch 135/500\n",
            "2/2 [==============================] - 0s 165ms/step - loss: 0.0030 - acc: 1.0000 - val_loss: 0.1514 - val_acc: 0.9533\n",
            "Epoch 136/500\n",
            "2/2 [==============================] - 0s 162ms/step - loss: 0.0029 - acc: 1.0000 - val_loss: 0.1540 - val_acc: 0.9533\n",
            "Epoch 137/500\n",
            "2/2 [==============================] - 0s 165ms/step - loss: 0.0027 - acc: 1.0000 - val_loss: 0.1532 - val_acc: 0.9533\n",
            "Epoch 138/500\n",
            "2/2 [==============================] - 0s 170ms/step - loss: 0.0027 - acc: 1.0000 - val_loss: 0.1536 - val_acc: 0.9533\n",
            "Epoch 139/500\n",
            "2/2 [==============================] - 0s 166ms/step - loss: 0.0025 - acc: 1.0000 - val_loss: 0.1572 - val_acc: 0.9533\n",
            "Epoch 140/500\n",
            "2/2 [==============================] - 0s 163ms/step - loss: 0.0026 - acc: 1.0000 - val_loss: 0.1545 - val_acc: 0.9533\n",
            "Epoch 141/500\n",
            "2/2 [==============================] - 0s 162ms/step - loss: 0.0024 - acc: 1.0000 - val_loss: 0.1574 - val_acc: 0.9533\n",
            "Epoch 142/500\n",
            "2/2 [==============================] - 0s 161ms/step - loss: 0.0023 - acc: 1.0000 - val_loss: 0.1567 - val_acc: 0.9533\n",
            "Epoch 143/500\n",
            "2/2 [==============================] - 0s 167ms/step - loss: 0.0021 - acc: 1.0000 - val_loss: 0.1569 - val_acc: 0.9533\n",
            "Epoch 144/500\n",
            "2/2 [==============================] - 0s 164ms/step - loss: 0.0021 - acc: 1.0000 - val_loss: 0.1597 - val_acc: 0.9533\n",
            "Epoch 145/500\n",
            "2/2 [==============================] - 0s 173ms/step - loss: 0.0021 - acc: 1.0000 - val_loss: 0.1589 - val_acc: 0.9533\n",
            "Epoch 146/500\n",
            "2/2 [==============================] - 0s 169ms/step - loss: 0.0019 - acc: 1.0000 - val_loss: 0.1601 - val_acc: 0.9533\n",
            "Epoch 147/500\n",
            "2/2 [==============================] - 0s 167ms/step - loss: 0.0018 - acc: 1.0000 - val_loss: 0.1588 - val_acc: 0.9533\n",
            "Epoch 148/500\n",
            "2/2 [==============================] - 0s 165ms/step - loss: 0.0018 - acc: 1.0000 - val_loss: 0.1614 - val_acc: 0.9533\n",
            "Epoch 149/500\n",
            "2/2 [==============================] - 0s 164ms/step - loss: 0.0017 - acc: 1.0000 - val_loss: 0.1612 - val_acc: 0.9533\n",
            "Epoch 150/500\n",
            "2/2 [==============================] - 0s 167ms/step - loss: 0.0017 - acc: 1.0000 - val_loss: 0.1618 - val_acc: 0.9533\n",
            "Epoch 151/500\n",
            "2/2 [==============================] - 0s 165ms/step - loss: 0.0016 - acc: 1.0000 - val_loss: 0.1629 - val_acc: 0.9533\n",
            "Epoch 152/500\n",
            "2/2 [==============================] - 0s 174ms/step - loss: 0.0015 - acc: 1.0000 - val_loss: 0.1634 - val_acc: 0.9533\n",
            "Epoch 153/500\n",
            "2/2 [==============================] - 0s 169ms/step - loss: 0.0014 - acc: 1.0000 - val_loss: 0.1628 - val_acc: 0.9533\n",
            "Epoch 154/500\n",
            "2/2 [==============================] - 0s 161ms/step - loss: 0.0014 - acc: 1.0000 - val_loss: 0.1648 - val_acc: 0.9533\n",
            "Epoch 155/500\n",
            "2/2 [==============================] - 0s 173ms/step - loss: 0.0014 - acc: 1.0000 - val_loss: 0.1647 - val_acc: 0.9533\n",
            "Epoch 156/500\n",
            "2/2 [==============================] - 0s 164ms/step - loss: 0.0013 - acc: 1.0000 - val_loss: 0.1656 - val_acc: 0.9533\n",
            "Epoch 157/500\n",
            "2/2 [==============================] - 0s 165ms/step - loss: 0.0013 - acc: 1.0000 - val_loss: 0.1667 - val_acc: 0.9533\n",
            "Epoch 158/500\n",
            "2/2 [==============================] - 0s 167ms/step - loss: 0.0012 - acc: 1.0000 - val_loss: 0.1670 - val_acc: 0.9533\n",
            "Epoch 159/500\n",
            "2/2 [==============================] - 0s 167ms/step - loss: 0.0012 - acc: 1.0000 - val_loss: 0.1668 - val_acc: 0.9533\n",
            "Epoch 160/500\n",
            "2/2 [==============================] - 0s 165ms/step - loss: 0.0012 - acc: 1.0000 - val_loss: 0.1676 - val_acc: 0.9533\n",
            "Epoch 161/500\n",
            "2/2 [==============================] - 0s 166ms/step - loss: 0.0011 - acc: 1.0000 - val_loss: 0.1706 - val_acc: 0.9533\n",
            "Epoch 162/500\n",
            "2/2 [==============================] - 0s 171ms/step - loss: 0.0011 - acc: 1.0000 - val_loss: 0.1686 - val_acc: 0.9533\n",
            "Epoch 163/500\n",
            "2/2 [==============================] - 0s 169ms/step - loss: 0.0010 - acc: 1.0000 - val_loss: 0.1695 - val_acc: 0.9533\n",
            "Epoch 164/500\n",
            "2/2 [==============================] - 0s 165ms/step - loss: 0.0010 - acc: 1.0000 - val_loss: 0.1730 - val_acc: 0.9626\n",
            "Epoch 165/500\n",
            "2/2 [==============================] - 0s 169ms/step - loss: 9.6640e-04 - acc: 1.0000 - val_loss: 0.1705 - val_acc: 0.9533\n",
            "Epoch 166/500\n",
            "2/2 [==============================] - 0s 166ms/step - loss: 9.5904e-04 - acc: 1.0000 - val_loss: 0.1708 - val_acc: 0.9533\n",
            "Epoch 167/500\n",
            "2/2 [==============================] - 0s 167ms/step - loss: 9.5243e-04 - acc: 1.0000 - val_loss: 0.1759 - val_acc: 0.9626\n",
            "Epoch 168/500\n",
            "2/2 [==============================] - 0s 166ms/step - loss: 8.7098e-04 - acc: 1.0000 - val_loss: 0.1713 - val_acc: 0.9533\n",
            "Epoch 169/500\n",
            "2/2 [==============================] - 0s 165ms/step - loss: 9.3073e-04 - acc: 1.0000 - val_loss: 0.1726 - val_acc: 0.9533\n",
            "Epoch 170/500\n",
            "2/2 [==============================] - 0s 172ms/step - loss: 8.3785e-04 - acc: 1.0000 - val_loss: 0.1790 - val_acc: 0.9626\n",
            "Epoch 171/500\n",
            "2/2 [==============================] - 0s 165ms/step - loss: 8.4902e-04 - acc: 1.0000 - val_loss: 0.1765 - val_acc: 0.9533\n",
            "Epoch 172/500\n",
            "2/2 [==============================] - 0s 165ms/step - loss: 7.5062e-04 - acc: 1.0000 - val_loss: 0.1744 - val_acc: 0.9533\n",
            "Epoch 173/500\n",
            "2/2 [==============================] - 0s 168ms/step - loss: 7.5633e-04 - acc: 1.0000 - val_loss: 0.1788 - val_acc: 0.9626\n",
            "Epoch 174/500\n",
            "2/2 [==============================] - 0s 171ms/step - loss: 7.2637e-04 - acc: 1.0000 - val_loss: 0.1788 - val_acc: 0.9626\n",
            "Epoch 175/500\n",
            "2/2 [==============================] - 0s 168ms/step - loss: 6.9503e-04 - acc: 1.0000 - val_loss: 0.1748 - val_acc: 0.9533\n",
            "Epoch 176/500\n",
            "2/2 [==============================] - 0s 170ms/step - loss: 7.2622e-04 - acc: 1.0000 - val_loss: 0.1799 - val_acc: 0.9626\n",
            "Epoch 177/500\n",
            "2/2 [==============================] - 0s 166ms/step - loss: 6.8107e-04 - acc: 1.0000 - val_loss: 0.1839 - val_acc: 0.9626\n",
            "Epoch 178/500\n",
            "2/2 [==============================] - 0s 166ms/step - loss: 6.7367e-04 - acc: 1.0000 - val_loss: 0.1773 - val_acc: 0.9533\n",
            "Epoch 179/500\n",
            "2/2 [==============================] - 0s 174ms/step - loss: 6.6758e-04 - acc: 1.0000 - val_loss: 0.1806 - val_acc: 0.9533\n",
            "Epoch 180/500\n",
            "2/2 [==============================] - 0s 169ms/step - loss: 5.7596e-04 - acc: 1.0000 - val_loss: 0.1839 - val_acc: 0.9626\n",
            "Epoch 181/500\n",
            "2/2 [==============================] - 0s 164ms/step - loss: 5.9965e-04 - acc: 1.0000 - val_loss: 0.1811 - val_acc: 0.9533\n",
            "Epoch 182/500\n",
            "2/2 [==============================] - 0s 166ms/step - loss: 5.6854e-04 - acc: 1.0000 - val_loss: 0.1812 - val_acc: 0.9533\n",
            "Epoch 183/500\n",
            "2/2 [==============================] - 0s 165ms/step - loss: 5.5440e-04 - acc: 1.0000 - val_loss: 0.1832 - val_acc: 0.9533\n",
            "Epoch 184/500\n",
            "2/2 [==============================] - 0s 168ms/step - loss: 5.4014e-04 - acc: 1.0000 - val_loss: 0.1846 - val_acc: 0.9626\n",
            "Epoch 185/500\n",
            "2/2 [==============================] - 0s 173ms/step - loss: 5.1379e-04 - acc: 1.0000 - val_loss: 0.1840 - val_acc: 0.9533\n",
            "Epoch 186/500\n",
            "2/2 [==============================] - 0s 166ms/step - loss: 5.1145e-04 - acc: 1.0000 - val_loss: 0.1841 - val_acc: 0.9533\n",
            "Epoch 187/500\n",
            "2/2 [==============================] - 0s 175ms/step - loss: 5.0003e-04 - acc: 1.0000 - val_loss: 0.1867 - val_acc: 0.9626\n",
            "Epoch 188/500\n",
            "2/2 [==============================] - 0s 166ms/step - loss: 4.8246e-04 - acc: 1.0000 - val_loss: 0.1883 - val_acc: 0.9626\n",
            "Epoch 189/500\n",
            "2/2 [==============================] - 0s 174ms/step - loss: 4.6016e-04 - acc: 1.0000 - val_loss: 0.1874 - val_acc: 0.9626\n",
            "Epoch 190/500\n",
            "2/2 [==============================] - 0s 171ms/step - loss: 4.3932e-04 - acc: 1.0000 - val_loss: 0.1865 - val_acc: 0.9533\n",
            "Epoch 191/500\n",
            "2/2 [==============================] - 0s 174ms/step - loss: 4.0103e-04 - acc: 1.0000 - val_loss: 0.1902 - val_acc: 0.9626\n",
            "Epoch 192/500\n",
            "2/2 [==============================] - 0s 165ms/step - loss: 4.5489e-04 - acc: 1.0000 - val_loss: 0.1922 - val_acc: 0.9626\n",
            "Epoch 193/500\n",
            "2/2 [==============================] - 0s 168ms/step - loss: 4.4362e-04 - acc: 1.0000 - val_loss: 0.1874 - val_acc: 0.9533\n",
            "Epoch 194/500\n",
            "2/2 [==============================] - 0s 172ms/step - loss: 4.1404e-04 - acc: 1.0000 - val_loss: 0.1899 - val_acc: 0.9626\n",
            "Epoch 195/500\n",
            "2/2 [==============================] - 0s 166ms/step - loss: 3.6448e-04 - acc: 1.0000 - val_loss: 0.1922 - val_acc: 0.9626\n",
            "Epoch 196/500\n",
            "2/2 [==============================] - 0s 180ms/step - loss: 3.7517e-04 - acc: 1.0000 - val_loss: 0.1924 - val_acc: 0.9626\n",
            "Epoch 197/500\n",
            "2/2 [==============================] - 0s 179ms/step - loss: 3.7842e-04 - acc: 1.0000 - val_loss: 0.1923 - val_acc: 0.9626\n",
            "Epoch 198/500\n",
            "2/2 [==============================] - 0s 170ms/step - loss: 3.3561e-04 - acc: 1.0000 - val_loss: 0.1930 - val_acc: 0.9626\n",
            "Epoch 199/500\n",
            "2/2 [==============================] - 0s 173ms/step - loss: 3.6122e-04 - acc: 1.0000 - val_loss: 0.1931 - val_acc: 0.9626\n",
            "Epoch 200/500\n",
            "2/2 [==============================] - 0s 171ms/step - loss: 3.7231e-04 - acc: 1.0000 - val_loss: 0.1959 - val_acc: 0.9626\n",
            "Epoch 201/500\n",
            "2/2 [==============================] - 0s 169ms/step - loss: 3.5986e-04 - acc: 1.0000 - val_loss: 0.1955 - val_acc: 0.9626\n",
            "Epoch 202/500\n",
            "2/2 [==============================] - 0s 169ms/step - loss: 3.1465e-04 - acc: 1.0000 - val_loss: 0.1942 - val_acc: 0.9626\n",
            "Epoch 203/500\n",
            "2/2 [==============================] - 0s 179ms/step - loss: 3.2413e-04 - acc: 1.0000 - val_loss: 0.1952 - val_acc: 0.9626\n",
            "Epoch 204/500\n",
            "2/2 [==============================] - 0s 170ms/step - loss: 3.1922e-04 - acc: 1.0000 - val_loss: 0.1974 - val_acc: 0.9626\n",
            "Epoch 205/500\n",
            "2/2 [==============================] - 0s 171ms/step - loss: 2.9615e-04 - acc: 1.0000 - val_loss: 0.1979 - val_acc: 0.9626\n",
            "Epoch 206/500\n",
            "2/2 [==============================] - 0s 174ms/step - loss: 2.9159e-04 - acc: 1.0000 - val_loss: 0.1969 - val_acc: 0.9626\n",
            "Epoch 207/500\n",
            "2/2 [==============================] - 0s 170ms/step - loss: 2.8996e-04 - acc: 1.0000 - val_loss: 0.1972 - val_acc: 0.9626\n",
            "Epoch 208/500\n",
            "2/2 [==============================] - 0s 169ms/step - loss: 2.8913e-04 - acc: 1.0000 - val_loss: 0.1993 - val_acc: 0.9626\n",
            "Epoch 209/500\n",
            "2/2 [==============================] - 0s 170ms/step - loss: 2.9386e-04 - acc: 1.0000 - val_loss: 0.2014 - val_acc: 0.9626\n",
            "Epoch 210/500\n",
            "2/2 [==============================] - 0s 174ms/step - loss: 2.6016e-04 - acc: 1.0000 - val_loss: 0.1998 - val_acc: 0.9626\n",
            "Epoch 211/500\n",
            "2/2 [==============================] - 0s 168ms/step - loss: 2.5642e-04 - acc: 1.0000 - val_loss: 0.1988 - val_acc: 0.9626\n",
            "Epoch 212/500\n",
            "2/2 [==============================] - 0s 170ms/step - loss: 2.6400e-04 - acc: 1.0000 - val_loss: 0.2016 - val_acc: 0.9626\n",
            "Epoch 213/500\n",
            "2/2 [==============================] - 0s 170ms/step - loss: 2.5082e-04 - acc: 1.0000 - val_loss: 0.2016 - val_acc: 0.9626\n",
            "Epoch 214/500\n",
            "2/2 [==============================] - 0s 170ms/step - loss: 2.3996e-04 - acc: 1.0000 - val_loss: 0.2028 - val_acc: 0.9626\n",
            "Epoch 215/500\n",
            "2/2 [==============================] - 0s 173ms/step - loss: 2.3701e-04 - acc: 1.0000 - val_loss: 0.2030 - val_acc: 0.9626\n",
            "Epoch 216/500\n",
            "2/2 [==============================] - 0s 171ms/step - loss: 2.4405e-04 - acc: 1.0000 - val_loss: 0.2026 - val_acc: 0.9626\n",
            "Epoch 217/500\n",
            "2/2 [==============================] - 0s 169ms/step - loss: 2.3780e-04 - acc: 1.0000 - val_loss: 0.2045 - val_acc: 0.9626\n",
            "Epoch 218/500\n",
            "2/2 [==============================] - 0s 169ms/step - loss: 2.2399e-04 - acc: 1.0000 - val_loss: 0.2056 - val_acc: 0.9626\n",
            "Epoch 219/500\n",
            "2/2 [==============================] - 0s 170ms/step - loss: 2.1743e-04 - acc: 1.0000 - val_loss: 0.2054 - val_acc: 0.9626\n",
            "Epoch 220/500\n",
            "2/2 [==============================] - 0s 171ms/step - loss: 2.2260e-04 - acc: 1.0000 - val_loss: 0.2059 - val_acc: 0.9626\n",
            "Epoch 221/500\n",
            "2/2 [==============================] - 0s 172ms/step - loss: 2.1018e-04 - acc: 1.0000 - val_loss: 0.2059 - val_acc: 0.9626\n",
            "Epoch 222/500\n",
            "2/2 [==============================] - 0s 167ms/step - loss: 2.0459e-04 - acc: 1.0000 - val_loss: 0.2066 - val_acc: 0.9626\n",
            "Epoch 223/500\n",
            "2/2 [==============================] - 0s 169ms/step - loss: 2.0830e-04 - acc: 1.0000 - val_loss: 0.2080 - val_acc: 0.9626\n",
            "Epoch 224/500\n",
            "2/2 [==============================] - 0s 171ms/step - loss: 1.9365e-04 - acc: 1.0000 - val_loss: 0.2084 - val_acc: 0.9626\n",
            "Epoch 225/500\n",
            "2/2 [==============================] - 0s 173ms/step - loss: 1.8591e-04 - acc: 1.0000 - val_loss: 0.2074 - val_acc: 0.9626\n",
            "Epoch 226/500\n",
            "2/2 [==============================] - 0s 171ms/step - loss: 1.9429e-04 - acc: 1.0000 - val_loss: 0.2081 - val_acc: 0.9626\n",
            "Epoch 227/500\n",
            "2/2 [==============================] - 0s 171ms/step - loss: 1.8193e-04 - acc: 1.0000 - val_loss: 0.2100 - val_acc: 0.9626\n",
            "Epoch 228/500\n",
            "2/2 [==============================] - 0s 170ms/step - loss: 1.7465e-04 - acc: 1.0000 - val_loss: 0.2103 - val_acc: 0.9626\n",
            "Epoch 229/500\n",
            "2/2 [==============================] - 0s 169ms/step - loss: 1.9134e-04 - acc: 1.0000 - val_loss: 0.2085 - val_acc: 0.9626\n",
            "Epoch 230/500\n",
            "2/2 [==============================] - 0s 172ms/step - loss: 1.7366e-04 - acc: 1.0000 - val_loss: 0.2118 - val_acc: 0.9626\n",
            "Epoch 231/500\n",
            "2/2 [==============================] - 0s 166ms/step - loss: 1.7000e-04 - acc: 1.0000 - val_loss: 0.2122 - val_acc: 0.9626\n",
            "Epoch 232/500\n",
            "2/2 [==============================] - 0s 166ms/step - loss: 1.6339e-04 - acc: 1.0000 - val_loss: 0.2112 - val_acc: 0.9626\n",
            "Epoch 233/500\n",
            "2/2 [==============================] - 0s 172ms/step - loss: 1.5216e-04 - acc: 1.0000 - val_loss: 0.2111 - val_acc: 0.9626\n",
            "Epoch 234/500\n",
            "2/2 [==============================] - 0s 171ms/step - loss: 1.5626e-04 - acc: 1.0000 - val_loss: 0.2132 - val_acc: 0.9626\n",
            "Epoch 235/500\n",
            "2/2 [==============================] - 0s 174ms/step - loss: 1.5054e-04 - acc: 1.0000 - val_loss: 0.2146 - val_acc: 0.9626\n",
            "Epoch 236/500\n",
            "2/2 [==============================] - 0s 173ms/step - loss: 1.4782e-04 - acc: 1.0000 - val_loss: 0.2146 - val_acc: 0.9626\n",
            "Epoch 237/500\n",
            "2/2 [==============================] - 0s 168ms/step - loss: 1.5216e-04 - acc: 1.0000 - val_loss: 0.2131 - val_acc: 0.9626\n",
            "Epoch 238/500\n",
            "2/2 [==============================] - 0s 172ms/step - loss: 1.4875e-04 - acc: 1.0000 - val_loss: 0.2144 - val_acc: 0.9626\n",
            "Epoch 239/500\n",
            "2/2 [==============================] - 0s 167ms/step - loss: 1.4206e-04 - acc: 1.0000 - val_loss: 0.2157 - val_acc: 0.9626\n",
            "Epoch 240/500\n",
            "2/2 [==============================] - 0s 175ms/step - loss: 1.3517e-04 - acc: 1.0000 - val_loss: 0.2165 - val_acc: 0.9626\n",
            "Epoch 241/500\n",
            "2/2 [==============================] - 0s 171ms/step - loss: 1.3474e-04 - acc: 1.0000 - val_loss: 0.2155 - val_acc: 0.9626\n",
            "Epoch 242/500\n",
            "2/2 [==============================] - 0s 167ms/step - loss: 1.4220e-04 - acc: 1.0000 - val_loss: 0.2164 - val_acc: 0.9626\n",
            "Epoch 243/500\n",
            "2/2 [==============================] - 0s 176ms/step - loss: 1.3566e-04 - acc: 1.0000 - val_loss: 0.2171 - val_acc: 0.9626\n",
            "Epoch 244/500\n",
            "2/2 [==============================] - 0s 169ms/step - loss: 1.2982e-04 - acc: 1.0000 - val_loss: 0.2181 - val_acc: 0.9626\n",
            "Epoch 245/500\n",
            "2/2 [==============================] - 0s 175ms/step - loss: 1.2806e-04 - acc: 1.0000 - val_loss: 0.2178 - val_acc: 0.9626\n",
            "Epoch 246/500\n",
            "2/2 [==============================] - 0s 177ms/step - loss: 1.2968e-04 - acc: 1.0000 - val_loss: 0.2187 - val_acc: 0.9626\n",
            "Epoch 247/500\n",
            "2/2 [==============================] - 0s 172ms/step - loss: 1.2076e-04 - acc: 1.0000 - val_loss: 0.2191 - val_acc: 0.9626\n",
            "Epoch 248/500\n",
            "2/2 [==============================] - 0s 174ms/step - loss: 1.2084e-04 - acc: 1.0000 - val_loss: 0.2194 - val_acc: 0.9626\n",
            "Epoch 249/500\n",
            "2/2 [==============================] - 0s 170ms/step - loss: 1.2299e-04 - acc: 1.0000 - val_loss: 0.2200 - val_acc: 0.9626\n",
            "Epoch 250/500\n",
            "2/2 [==============================] - 0s 170ms/step - loss: 1.1590e-04 - acc: 1.0000 - val_loss: 0.2205 - val_acc: 0.9626\n",
            "Epoch 251/500\n",
            "2/2 [==============================] - 0s 174ms/step - loss: 1.1944e-04 - acc: 1.0000 - val_loss: 0.2208 - val_acc: 0.9626\n",
            "Epoch 252/500\n",
            "2/2 [==============================] - 0s 169ms/step - loss: 1.1433e-04 - acc: 1.0000 - val_loss: 0.2209 - val_acc: 0.9626\n",
            "Epoch 253/500\n",
            "2/2 [==============================] - 0s 176ms/step - loss: 1.1583e-04 - acc: 1.0000 - val_loss: 0.2213 - val_acc: 0.9626\n",
            "Epoch 254/500\n",
            "2/2 [==============================] - 0s 173ms/step - loss: 1.1794e-04 - acc: 1.0000 - val_loss: 0.2219 - val_acc: 0.9626\n",
            "Epoch 255/500\n",
            "2/2 [==============================] - 0s 172ms/step - loss: 1.1278e-04 - acc: 1.0000 - val_loss: 0.2223 - val_acc: 0.9626\n",
            "Epoch 256/500\n",
            "2/2 [==============================] - 0s 175ms/step - loss: 1.0841e-04 - acc: 1.0000 - val_loss: 0.2231 - val_acc: 0.9626\n",
            "Epoch 257/500\n",
            "2/2 [==============================] - 0s 171ms/step - loss: 1.0619e-04 - acc: 1.0000 - val_loss: 0.2232 - val_acc: 0.9626\n",
            "Epoch 258/500\n",
            "2/2 [==============================] - 0s 170ms/step - loss: 1.0857e-04 - acc: 1.0000 - val_loss: 0.2235 - val_acc: 0.9626\n",
            "Epoch 259/500\n",
            "2/2 [==============================] - 0s 171ms/step - loss: 9.9878e-05 - acc: 1.0000 - val_loss: 0.2238 - val_acc: 0.9626\n",
            "Epoch 260/500\n",
            "2/2 [==============================] - 0s 178ms/step - loss: 1.0292e-04 - acc: 1.0000 - val_loss: 0.2244 - val_acc: 0.9626\n",
            "Epoch 261/500\n",
            "2/2 [==============================] - 0s 172ms/step - loss: 1.0048e-04 - acc: 1.0000 - val_loss: 0.2247 - val_acc: 0.9626\n",
            "Epoch 262/500\n",
            "2/2 [==============================] - 0s 172ms/step - loss: 9.8153e-05 - acc: 1.0000 - val_loss: 0.2252 - val_acc: 0.9626\n",
            "Epoch 263/500\n",
            "2/2 [==============================] - 0s 166ms/step - loss: 9.7402e-05 - acc: 1.0000 - val_loss: 0.2250 - val_acc: 0.9626\n",
            "Epoch 264/500\n",
            "2/2 [==============================] - 0s 176ms/step - loss: 9.2675e-05 - acc: 1.0000 - val_loss: 0.2260 - val_acc: 0.9626\n",
            "Epoch 265/500\n",
            "2/2 [==============================] - 0s 169ms/step - loss: 9.6594e-05 - acc: 1.0000 - val_loss: 0.2263 - val_acc: 0.9626\n",
            "Epoch 266/500\n",
            "2/2 [==============================] - 0s 172ms/step - loss: 8.9607e-05 - acc: 1.0000 - val_loss: 0.2272 - val_acc: 0.9626\n",
            "Epoch 267/500\n",
            "2/2 [==============================] - 0s 175ms/step - loss: 8.5646e-05 - acc: 1.0000 - val_loss: 0.2272 - val_acc: 0.9626\n",
            "Epoch 268/500\n",
            "2/2 [==============================] - 0s 170ms/step - loss: 8.6222e-05 - acc: 1.0000 - val_loss: 0.2269 - val_acc: 0.9626\n",
            "Epoch 269/500\n",
            "2/2 [==============================] - 0s 166ms/step - loss: 9.1773e-05 - acc: 1.0000 - val_loss: 0.2280 - val_acc: 0.9626\n",
            "Epoch 270/500\n",
            "2/2 [==============================] - 0s 177ms/step - loss: 8.8715e-05 - acc: 1.0000 - val_loss: 0.2285 - val_acc: 0.9626\n",
            "Epoch 271/500\n",
            "2/2 [==============================] - 0s 167ms/step - loss: 8.5783e-05 - acc: 1.0000 - val_loss: 0.2288 - val_acc: 0.9626\n",
            "Epoch 272/500\n",
            "2/2 [==============================] - 0s 170ms/step - loss: 8.2551e-05 - acc: 1.0000 - val_loss: 0.2288 - val_acc: 0.9626\n",
            "Epoch 273/500\n",
            "2/2 [==============================] - 0s 173ms/step - loss: 8.4265e-05 - acc: 1.0000 - val_loss: 0.2288 - val_acc: 0.9626\n",
            "Epoch 274/500\n",
            "2/2 [==============================] - 0s 171ms/step - loss: 8.2091e-05 - acc: 1.0000 - val_loss: 0.2295 - val_acc: 0.9626\n",
            "Epoch 275/500\n",
            "2/2 [==============================] - 0s 173ms/step - loss: 7.6941e-05 - acc: 1.0000 - val_loss: 0.2306 - val_acc: 0.9626\n",
            "Epoch 276/500\n",
            "2/2 [==============================] - 0s 170ms/step - loss: 8.2625e-05 - acc: 1.0000 - val_loss: 0.2303 - val_acc: 0.9626\n",
            "Epoch 277/500\n",
            "2/2 [==============================] - 0s 172ms/step - loss: 7.9634e-05 - acc: 1.0000 - val_loss: 0.2306 - val_acc: 0.9626\n",
            "Epoch 278/500\n",
            "2/2 [==============================] - 0s 173ms/step - loss: 7.5371e-05 - acc: 1.0000 - val_loss: 0.2316 - val_acc: 0.9626\n",
            "Epoch 279/500\n",
            "2/2 [==============================] - 0s 168ms/step - loss: 7.5558e-05 - acc: 1.0000 - val_loss: 0.2319 - val_acc: 0.9626\n",
            "Epoch 280/500\n",
            "2/2 [==============================] - 0s 181ms/step - loss: 7.7767e-05 - acc: 1.0000 - val_loss: 0.2315 - val_acc: 0.9626\n",
            "Epoch 281/500\n",
            "2/2 [==============================] - 0s 172ms/step - loss: 6.8967e-05 - acc: 1.0000 - val_loss: 0.2320 - val_acc: 0.9626\n",
            "Epoch 282/500\n",
            "2/2 [==============================] - 0s 178ms/step - loss: 7.5722e-05 - acc: 1.0000 - val_loss: 0.2329 - val_acc: 0.9626\n",
            "Epoch 283/500\n",
            "2/2 [==============================] - 0s 169ms/step - loss: 7.2875e-05 - acc: 1.0000 - val_loss: 0.2338 - val_acc: 0.9626\n",
            "Epoch 284/500\n",
            "2/2 [==============================] - 0s 176ms/step - loss: 7.4764e-05 - acc: 1.0000 - val_loss: 0.2337 - val_acc: 0.9626\n",
            "Epoch 285/500\n",
            "2/2 [==============================] - 0s 174ms/step - loss: 7.2704e-05 - acc: 1.0000 - val_loss: 0.2341 - val_acc: 0.9626\n",
            "Epoch 286/500\n",
            "2/2 [==============================] - 0s 168ms/step - loss: 7.0476e-05 - acc: 1.0000 - val_loss: 0.2337 - val_acc: 0.9626\n",
            "Epoch 287/500\n",
            "2/2 [==============================] - 0s 172ms/step - loss: 6.4419e-05 - acc: 1.0000 - val_loss: 0.2344 - val_acc: 0.9626\n",
            "Epoch 288/500\n",
            "2/2 [==============================] - 0s 177ms/step - loss: 6.5807e-05 - acc: 1.0000 - val_loss: 0.2355 - val_acc: 0.9626\n",
            "Epoch 289/500\n",
            "2/2 [==============================] - 0s 167ms/step - loss: 6.7892e-05 - acc: 1.0000 - val_loss: 0.2361 - val_acc: 0.9626\n",
            "Epoch 290/500\n",
            "2/2 [==============================] - 0s 172ms/step - loss: 6.5612e-05 - acc: 1.0000 - val_loss: 0.2353 - val_acc: 0.9626\n",
            "Epoch 291/500\n",
            "2/2 [==============================] - 0s 169ms/step - loss: 6.1804e-05 - acc: 1.0000 - val_loss: 0.2356 - val_acc: 0.9626\n",
            "Epoch 292/500\n",
            "2/2 [==============================] - 0s 172ms/step - loss: 6.3267e-05 - acc: 1.0000 - val_loss: 0.2367 - val_acc: 0.9626\n",
            "Epoch 293/500\n",
            "2/2 [==============================] - 0s 173ms/step - loss: 6.2153e-05 - acc: 1.0000 - val_loss: 0.2371 - val_acc: 0.9626\n",
            "Epoch 294/500\n",
            "2/2 [==============================] - 0s 171ms/step - loss: 6.1136e-05 - acc: 1.0000 - val_loss: 0.2368 - val_acc: 0.9626\n",
            "Epoch 295/500\n",
            "2/2 [==============================] - 0s 171ms/step - loss: 6.3434e-05 - acc: 1.0000 - val_loss: 0.2370 - val_acc: 0.9626\n",
            "Epoch 296/500\n",
            "2/2 [==============================] - 0s 177ms/step - loss: 5.8686e-05 - acc: 1.0000 - val_loss: 0.2374 - val_acc: 0.9626\n",
            "Epoch 297/500\n",
            "2/2 [==============================] - 0s 171ms/step - loss: 5.9226e-05 - acc: 1.0000 - val_loss: 0.2380 - val_acc: 0.9626\n",
            "Epoch 298/500\n",
            "2/2 [==============================] - 0s 172ms/step - loss: 5.8113e-05 - acc: 1.0000 - val_loss: 0.2384 - val_acc: 0.9626\n",
            "Epoch 299/500\n",
            "2/2 [==============================] - 0s 176ms/step - loss: 5.8625e-05 - acc: 1.0000 - val_loss: 0.2383 - val_acc: 0.9626\n",
            "Epoch 300/500\n",
            "2/2 [==============================] - 0s 174ms/step - loss: 5.3796e-05 - acc: 1.0000 - val_loss: 0.2388 - val_acc: 0.9626\n",
            "Epoch 301/500\n",
            "2/2 [==============================] - 0s 177ms/step - loss: 5.2287e-05 - acc: 1.0000 - val_loss: 0.2389 - val_acc: 0.9626\n",
            "Epoch 302/500\n",
            "2/2 [==============================] - 0s 178ms/step - loss: 5.7234e-05 - acc: 1.0000 - val_loss: 0.2391 - val_acc: 0.9626\n",
            "Epoch 303/500\n",
            "2/2 [==============================] - 0s 175ms/step - loss: 5.8806e-05 - acc: 1.0000 - val_loss: 0.2400 - val_acc: 0.9626\n",
            "Epoch 304/500\n",
            "2/2 [==============================] - 0s 173ms/step - loss: 5.4453e-05 - acc: 1.0000 - val_loss: 0.2407 - val_acc: 0.9626\n",
            "Epoch 305/500\n",
            "2/2 [==============================] - 0s 174ms/step - loss: 5.3051e-05 - acc: 1.0000 - val_loss: 0.2405 - val_acc: 0.9626\n",
            "Epoch 306/500\n",
            "2/2 [==============================] - 0s 179ms/step - loss: 5.5139e-05 - acc: 1.0000 - val_loss: 0.2400 - val_acc: 0.9626\n",
            "Epoch 307/500\n",
            "2/2 [==============================] - 0s 178ms/step - loss: 5.3665e-05 - acc: 1.0000 - val_loss: 0.2409 - val_acc: 0.9626\n",
            "Epoch 308/500\n",
            "2/2 [==============================] - 0s 174ms/step - loss: 5.1059e-05 - acc: 1.0000 - val_loss: 0.2417 - val_acc: 0.9626\n",
            "Epoch 309/500\n",
            "2/2 [==============================] - 0s 173ms/step - loss: 5.3817e-05 - acc: 1.0000 - val_loss: 0.2418 - val_acc: 0.9626\n",
            "Epoch 310/500\n",
            "2/2 [==============================] - 0s 177ms/step - loss: 5.1839e-05 - acc: 1.0000 - val_loss: 0.2421 - val_acc: 0.9626\n",
            "Epoch 311/500\n",
            "2/2 [==============================] - 0s 173ms/step - loss: 4.8362e-05 - acc: 1.0000 - val_loss: 0.2424 - val_acc: 0.9626\n",
            "Epoch 312/500\n",
            "2/2 [==============================] - 0s 176ms/step - loss: 4.8690e-05 - acc: 1.0000 - val_loss: 0.2427 - val_acc: 0.9626\n",
            "Epoch 313/500\n",
            "2/2 [==============================] - 0s 172ms/step - loss: 4.9704e-05 - acc: 1.0000 - val_loss: 0.2432 - val_acc: 0.9626\n",
            "Epoch 314/500\n",
            "2/2 [==============================] - 0s 175ms/step - loss: 4.8852e-05 - acc: 1.0000 - val_loss: 0.2432 - val_acc: 0.9626\n",
            "Epoch 315/500\n",
            "2/2 [==============================] - 0s 170ms/step - loss: 4.7716e-05 - acc: 1.0000 - val_loss: 0.2433 - val_acc: 0.9626\n",
            "Epoch 316/500\n",
            "2/2 [==============================] - 0s 169ms/step - loss: 4.7827e-05 - acc: 1.0000 - val_loss: 0.2440 - val_acc: 0.9626\n",
            "Epoch 317/500\n",
            "2/2 [==============================] - 0s 171ms/step - loss: 4.5864e-05 - acc: 1.0000 - val_loss: 0.2444 - val_acc: 0.9626\n",
            "Epoch 318/500\n",
            "2/2 [==============================] - 0s 174ms/step - loss: 4.4386e-05 - acc: 1.0000 - val_loss: 0.2446 - val_acc: 0.9626\n",
            "Epoch 319/500\n",
            "2/2 [==============================] - 0s 173ms/step - loss: 4.4371e-05 - acc: 1.0000 - val_loss: 0.2448 - val_acc: 0.9626\n",
            "Epoch 320/500\n",
            "2/2 [==============================] - 0s 173ms/step - loss: 4.5421e-05 - acc: 1.0000 - val_loss: 0.2449 - val_acc: 0.9626\n",
            "Epoch 321/500\n",
            "2/2 [==============================] - 0s 183ms/step - loss: 4.6512e-05 - acc: 1.0000 - val_loss: 0.2449 - val_acc: 0.9626\n",
            "Epoch 322/500\n",
            "2/2 [==============================] - 0s 179ms/step - loss: 4.3788e-05 - acc: 1.0000 - val_loss: 0.2453 - val_acc: 0.9626\n",
            "Epoch 323/500\n",
            "2/2 [==============================] - 0s 175ms/step - loss: 4.3105e-05 - acc: 1.0000 - val_loss: 0.2455 - val_acc: 0.9626\n",
            "Epoch 324/500\n",
            "2/2 [==============================] - 0s 173ms/step - loss: 4.4588e-05 - acc: 1.0000 - val_loss: 0.2463 - val_acc: 0.9626\n",
            "Epoch 325/500\n",
            "2/2 [==============================] - 0s 170ms/step - loss: 4.2407e-05 - acc: 1.0000 - val_loss: 0.2472 - val_acc: 0.9626\n",
            "Epoch 326/500\n",
            "2/2 [==============================] - 0s 180ms/step - loss: 4.1607e-05 - acc: 1.0000 - val_loss: 0.2473 - val_acc: 0.9626\n",
            "Epoch 327/500\n",
            "2/2 [==============================] - 0s 173ms/step - loss: 4.2458e-05 - acc: 1.0000 - val_loss: 0.2465 - val_acc: 0.9626\n",
            "Epoch 328/500\n",
            "2/2 [==============================] - 0s 179ms/step - loss: 4.2662e-05 - acc: 1.0000 - val_loss: 0.2465 - val_acc: 0.9626\n",
            "Epoch 329/500\n",
            "2/2 [==============================] - 0s 177ms/step - loss: 4.2772e-05 - acc: 1.0000 - val_loss: 0.2476 - val_acc: 0.9626\n",
            "Epoch 330/500\n",
            "2/2 [==============================] - 0s 171ms/step - loss: 3.8586e-05 - acc: 1.0000 - val_loss: 0.2479 - val_acc: 0.9626\n",
            "Epoch 331/500\n",
            "2/2 [==============================] - 0s 171ms/step - loss: 4.0707e-05 - acc: 1.0000 - val_loss: 0.2481 - val_acc: 0.9626\n",
            "Epoch 332/500\n",
            "2/2 [==============================] - 0s 174ms/step - loss: 4.0614e-05 - acc: 1.0000 - val_loss: 0.2481 - val_acc: 0.9626\n",
            "Epoch 333/500\n",
            "2/2 [==============================] - 0s 180ms/step - loss: 4.0334e-05 - acc: 1.0000 - val_loss: 0.2489 - val_acc: 0.9626\n",
            "Epoch 334/500\n",
            "2/2 [==============================] - 0s 174ms/step - loss: 3.8076e-05 - acc: 1.0000 - val_loss: 0.2493 - val_acc: 0.9626\n",
            "Epoch 335/500\n",
            "2/2 [==============================] - 0s 171ms/step - loss: 3.7298e-05 - acc: 1.0000 - val_loss: 0.2498 - val_acc: 0.9626\n",
            "Epoch 336/500\n",
            "2/2 [==============================] - 0s 176ms/step - loss: 4.0676e-05 - acc: 1.0000 - val_loss: 0.2497 - val_acc: 0.9626\n",
            "Epoch 337/500\n",
            "2/2 [==============================] - 0s 179ms/step - loss: 3.7817e-05 - acc: 1.0000 - val_loss: 0.2496 - val_acc: 0.9626\n",
            "Epoch 338/500\n",
            "2/2 [==============================] - 0s 177ms/step - loss: 3.7001e-05 - acc: 1.0000 - val_loss: 0.2497 - val_acc: 0.9626\n",
            "Epoch 339/500\n",
            "2/2 [==============================] - 0s 169ms/step - loss: 3.7341e-05 - acc: 1.0000 - val_loss: 0.2504 - val_acc: 0.9626\n",
            "Epoch 340/500\n",
            "2/2 [==============================] - 0s 175ms/step - loss: 3.3987e-05 - acc: 1.0000 - val_loss: 0.2508 - val_acc: 0.9626\n",
            "Epoch 341/500\n",
            "2/2 [==============================] - 0s 174ms/step - loss: 3.6142e-05 - acc: 1.0000 - val_loss: 0.2508 - val_acc: 0.9626\n",
            "Epoch 342/500\n",
            "2/2 [==============================] - 0s 174ms/step - loss: 3.6217e-05 - acc: 1.0000 - val_loss: 0.2507 - val_acc: 0.9626\n",
            "Epoch 343/500\n",
            "2/2 [==============================] - 0s 173ms/step - loss: 3.5432e-05 - acc: 1.0000 - val_loss: 0.2514 - val_acc: 0.9626\n",
            "Epoch 344/500\n",
            "2/2 [==============================] - 0s 171ms/step - loss: 3.3591e-05 - acc: 1.0000 - val_loss: 0.2518 - val_acc: 0.9626\n",
            "Epoch 345/500\n",
            "2/2 [==============================] - 0s 177ms/step - loss: 3.3977e-05 - acc: 1.0000 - val_loss: 0.2528 - val_acc: 0.9626\n",
            "Epoch 346/500\n",
            "2/2 [==============================] - 0s 176ms/step - loss: 3.5280e-05 - acc: 1.0000 - val_loss: 0.2526 - val_acc: 0.9626\n",
            "Epoch 347/500\n",
            "2/2 [==============================] - 0s 174ms/step - loss: 3.3860e-05 - acc: 1.0000 - val_loss: 0.2521 - val_acc: 0.9626\n",
            "Epoch 348/500\n",
            "2/2 [==============================] - 0s 177ms/step - loss: 3.4197e-05 - acc: 1.0000 - val_loss: 0.2524 - val_acc: 0.9626\n",
            "Epoch 349/500\n",
            "2/2 [==============================] - 0s 173ms/step - loss: 3.3519e-05 - acc: 1.0000 - val_loss: 0.2528 - val_acc: 0.9626\n",
            "Epoch 350/500\n",
            "2/2 [==============================] - 0s 176ms/step - loss: 3.4296e-05 - acc: 1.0000 - val_loss: 0.2533 - val_acc: 0.9626\n",
            "Epoch 351/500\n",
            "2/2 [==============================] - 0s 171ms/step - loss: 3.4835e-05 - acc: 1.0000 - val_loss: 0.2536 - val_acc: 0.9626\n",
            "Epoch 352/500\n",
            "2/2 [==============================] - 0s 174ms/step - loss: 3.3763e-05 - acc: 1.0000 - val_loss: 0.2540 - val_acc: 0.9626\n",
            "Epoch 353/500\n",
            "2/2 [==============================] - 0s 171ms/step - loss: 3.2725e-05 - acc: 1.0000 - val_loss: 0.2539 - val_acc: 0.9626\n",
            "Epoch 354/500\n",
            "2/2 [==============================] - 0s 172ms/step - loss: 3.0450e-05 - acc: 1.0000 - val_loss: 0.2538 - val_acc: 0.9626\n",
            "Epoch 355/500\n",
            "2/2 [==============================] - 0s 174ms/step - loss: 3.4456e-05 - acc: 1.0000 - val_loss: 0.2548 - val_acc: 0.9626\n",
            "Epoch 356/500\n",
            "2/2 [==============================] - 0s 180ms/step - loss: 3.1287e-05 - acc: 1.0000 - val_loss: 0.2548 - val_acc: 0.9626\n",
            "Epoch 357/500\n",
            "2/2 [==============================] - 0s 176ms/step - loss: 3.0185e-05 - acc: 1.0000 - val_loss: 0.2551 - val_acc: 0.9626\n",
            "Epoch 358/500\n",
            "2/2 [==============================] - 0s 172ms/step - loss: 2.9911e-05 - acc: 1.0000 - val_loss: 0.2552 - val_acc: 0.9626\n",
            "Epoch 359/500\n",
            "2/2 [==============================] - 0s 172ms/step - loss: 2.9716e-05 - acc: 1.0000 - val_loss: 0.2558 - val_acc: 0.9626\n",
            "Epoch 360/500\n",
            "2/2 [==============================] - 0s 181ms/step - loss: 3.0214e-05 - acc: 1.0000 - val_loss: 0.2561 - val_acc: 0.9626\n",
            "Epoch 361/500\n",
            "2/2 [==============================] - 0s 175ms/step - loss: 2.9202e-05 - acc: 1.0000 - val_loss: 0.2557 - val_acc: 0.9626\n",
            "Epoch 362/500\n",
            "2/2 [==============================] - 0s 180ms/step - loss: 2.8490e-05 - acc: 1.0000 - val_loss: 0.2559 - val_acc: 0.9626\n",
            "Epoch 363/500\n",
            "2/2 [==============================] - 0s 172ms/step - loss: 3.0082e-05 - acc: 1.0000 - val_loss: 0.2562 - val_acc: 0.9626\n",
            "Epoch 364/500\n",
            "2/2 [==============================] - 0s 174ms/step - loss: 2.8768e-05 - acc: 1.0000 - val_loss: 0.2569 - val_acc: 0.9626\n",
            "Epoch 365/500\n",
            "2/2 [==============================] - 0s 173ms/step - loss: 2.9134e-05 - acc: 1.0000 - val_loss: 0.2578 - val_acc: 0.9626\n",
            "Epoch 366/500\n",
            "2/2 [==============================] - 0s 174ms/step - loss: 2.8834e-05 - acc: 1.0000 - val_loss: 0.2573 - val_acc: 0.9626\n",
            "Epoch 367/500\n",
            "2/2 [==============================] - 0s 173ms/step - loss: 3.0052e-05 - acc: 1.0000 - val_loss: 0.2571 - val_acc: 0.9626\n",
            "Epoch 368/500\n",
            "2/2 [==============================] - 0s 172ms/step - loss: 2.6656e-05 - acc: 1.0000 - val_loss: 0.2574 - val_acc: 0.9626\n",
            "Epoch 369/500\n",
            "2/2 [==============================] - 0s 175ms/step - loss: 2.6946e-05 - acc: 1.0000 - val_loss: 0.2576 - val_acc: 0.9626\n",
            "Epoch 370/500\n",
            "2/2 [==============================] - 0s 174ms/step - loss: 2.5357e-05 - acc: 1.0000 - val_loss: 0.2582 - val_acc: 0.9626\n",
            "Epoch 371/500\n",
            "2/2 [==============================] - 0s 177ms/step - loss: 2.7664e-05 - acc: 1.0000 - val_loss: 0.2584 - val_acc: 0.9626\n",
            "Epoch 372/500\n",
            "2/2 [==============================] - 0s 174ms/step - loss: 2.7698e-05 - acc: 1.0000 - val_loss: 0.2585 - val_acc: 0.9626\n",
            "Epoch 373/500\n",
            "2/2 [==============================] - 0s 173ms/step - loss: 2.7488e-05 - acc: 1.0000 - val_loss: 0.2587 - val_acc: 0.9626\n",
            "Epoch 374/500\n",
            "2/2 [==============================] - 0s 172ms/step - loss: 2.7643e-05 - acc: 1.0000 - val_loss: 0.2586 - val_acc: 0.9626\n",
            "Epoch 375/500\n",
            "2/2 [==============================] - 0s 173ms/step - loss: 2.7531e-05 - acc: 1.0000 - val_loss: 0.2592 - val_acc: 0.9626\n",
            "Epoch 376/500\n",
            "2/2 [==============================] - 0s 182ms/step - loss: 2.6727e-05 - acc: 1.0000 - val_loss: 0.2600 - val_acc: 0.9626\n",
            "Epoch 377/500\n",
            "2/2 [==============================] - 0s 178ms/step - loss: 2.4630e-05 - acc: 1.0000 - val_loss: 0.2603 - val_acc: 0.9626\n",
            "Epoch 378/500\n",
            "2/2 [==============================] - 0s 174ms/step - loss: 2.5297e-05 - acc: 1.0000 - val_loss: 0.2597 - val_acc: 0.9626\n",
            "Epoch 379/500\n",
            "2/2 [==============================] - 0s 170ms/step - loss: 2.7253e-05 - acc: 1.0000 - val_loss: 0.2598 - val_acc: 0.9626\n",
            "Epoch 380/500\n",
            "2/2 [==============================] - 0s 177ms/step - loss: 2.6163e-05 - acc: 1.0000 - val_loss: 0.2603 - val_acc: 0.9626\n",
            "Epoch 381/500\n",
            "2/2 [==============================] - 0s 175ms/step - loss: 2.5624e-05 - acc: 1.0000 - val_loss: 0.2612 - val_acc: 0.9626\n",
            "Epoch 382/500\n",
            "2/2 [==============================] - 0s 181ms/step - loss: 2.3188e-05 - acc: 1.0000 - val_loss: 0.2611 - val_acc: 0.9626\n",
            "Epoch 383/500\n",
            "2/2 [==============================] - 0s 178ms/step - loss: 2.4379e-05 - acc: 1.0000 - val_loss: 0.2608 - val_acc: 0.9626\n",
            "Epoch 384/500\n",
            "2/2 [==============================] - 0s 178ms/step - loss: 2.5156e-05 - acc: 1.0000 - val_loss: 0.2608 - val_acc: 0.9626\n",
            "Epoch 385/500\n",
            "2/2 [==============================] - 0s 171ms/step - loss: 2.5683e-05 - acc: 1.0000 - val_loss: 0.2611 - val_acc: 0.9626\n",
            "Epoch 386/500\n",
            "2/2 [==============================] - 0s 170ms/step - loss: 2.3776e-05 - acc: 1.0000 - val_loss: 0.2621 - val_acc: 0.9626\n",
            "Epoch 387/500\n",
            "2/2 [==============================] - 0s 172ms/step - loss: 2.3446e-05 - acc: 1.0000 - val_loss: 0.2625 - val_acc: 0.9626\n",
            "Epoch 388/500\n",
            "2/2 [==============================] - 0s 173ms/step - loss: 2.4557e-05 - acc: 1.0000 - val_loss: 0.2625 - val_acc: 0.9626\n",
            "Epoch 389/500\n",
            "2/2 [==============================] - 0s 180ms/step - loss: 2.4552e-05 - acc: 1.0000 - val_loss: 0.2624 - val_acc: 0.9626\n",
            "Epoch 390/500\n",
            "2/2 [==============================] - 0s 174ms/step - loss: 2.3900e-05 - acc: 1.0000 - val_loss: 0.2624 - val_acc: 0.9626\n",
            "Epoch 391/500\n",
            "2/2 [==============================] - 0s 170ms/step - loss: 2.3370e-05 - acc: 1.0000 - val_loss: 0.2626 - val_acc: 0.9626\n",
            "Epoch 392/500\n",
            "2/2 [==============================] - 0s 176ms/step - loss: 2.2271e-05 - acc: 1.0000 - val_loss: 0.2630 - val_acc: 0.9626\n",
            "Epoch 393/500\n",
            "2/2 [==============================] - 0s 180ms/step - loss: 2.3097e-05 - acc: 1.0000 - val_loss: 0.2635 - val_acc: 0.9626\n",
            "Epoch 394/500\n",
            "2/2 [==============================] - 0s 178ms/step - loss: 2.3837e-05 - acc: 1.0000 - val_loss: 0.2636 - val_acc: 0.9626\n",
            "Epoch 395/500\n",
            "2/2 [==============================] - 0s 172ms/step - loss: 2.1684e-05 - acc: 1.0000 - val_loss: 0.2638 - val_acc: 0.9626\n",
            "Epoch 396/500\n",
            "2/2 [==============================] - 0s 175ms/step - loss: 2.2447e-05 - acc: 1.0000 - val_loss: 0.2637 - val_acc: 0.9626\n",
            "Epoch 397/500\n",
            "2/2 [==============================] - 0s 175ms/step - loss: 2.2777e-05 - acc: 1.0000 - val_loss: 0.2640 - val_acc: 0.9626\n",
            "Epoch 398/500\n",
            "2/2 [==============================] - 0s 172ms/step - loss: 2.3119e-05 - acc: 1.0000 - val_loss: 0.2650 - val_acc: 0.9626\n",
            "Epoch 399/500\n",
            "2/2 [==============================] - 0s 171ms/step - loss: 2.1322e-05 - acc: 1.0000 - val_loss: 0.2650 - val_acc: 0.9626\n",
            "Epoch 400/500\n",
            "2/2 [==============================] - 0s 175ms/step - loss: 2.1381e-05 - acc: 1.0000 - val_loss: 0.2648 - val_acc: 0.9626\n",
            "Epoch 401/500\n",
            "2/2 [==============================] - 0s 177ms/step - loss: 2.0596e-05 - acc: 1.0000 - val_loss: 0.2649 - val_acc: 0.9626\n",
            "Epoch 402/500\n",
            "2/2 [==============================] - 0s 179ms/step - loss: 2.0519e-05 - acc: 1.0000 - val_loss: 0.2652 - val_acc: 0.9626\n",
            "Epoch 403/500\n",
            "2/2 [==============================] - 0s 183ms/step - loss: 2.0770e-05 - acc: 1.0000 - val_loss: 0.2653 - val_acc: 0.9626\n",
            "Epoch 404/500\n",
            "2/2 [==============================] - 0s 175ms/step - loss: 1.9904e-05 - acc: 1.0000 - val_loss: 0.2656 - val_acc: 0.9626\n",
            "Epoch 405/500\n",
            "2/2 [==============================] - 0s 179ms/step - loss: 2.1297e-05 - acc: 1.0000 - val_loss: 0.2660 - val_acc: 0.9626\n",
            "Epoch 406/500\n",
            "2/2 [==============================] - 0s 176ms/step - loss: 2.0637e-05 - acc: 1.0000 - val_loss: 0.2662 - val_acc: 0.9626\n",
            "Epoch 407/500\n",
            "2/2 [==============================] - 0s 172ms/step - loss: 1.9393e-05 - acc: 1.0000 - val_loss: 0.2662 - val_acc: 0.9626\n",
            "Epoch 408/500\n",
            "2/2 [==============================] - 0s 172ms/step - loss: 2.0227e-05 - acc: 1.0000 - val_loss: 0.2664 - val_acc: 0.9626\n",
            "Epoch 409/500\n",
            "2/2 [==============================] - 0s 174ms/step - loss: 2.0916e-05 - acc: 1.0000 - val_loss: 0.2667 - val_acc: 0.9626\n",
            "Epoch 410/500\n",
            "2/2 [==============================] - 0s 174ms/step - loss: 2.1103e-05 - acc: 1.0000 - val_loss: 0.2670 - val_acc: 0.9626\n",
            "Epoch 411/500\n",
            "2/2 [==============================] - 0s 173ms/step - loss: 1.8623e-05 - acc: 1.0000 - val_loss: 0.2670 - val_acc: 0.9626\n",
            "Epoch 412/500\n",
            "2/2 [==============================] - 0s 178ms/step - loss: 1.9842e-05 - acc: 1.0000 - val_loss: 0.2672 - val_acc: 0.9626\n",
            "Epoch 413/500\n",
            "2/2 [==============================] - 0s 179ms/step - loss: 1.8807e-05 - acc: 1.0000 - val_loss: 0.2675 - val_acc: 0.9626\n",
            "Epoch 414/500\n",
            "2/2 [==============================] - 0s 175ms/step - loss: 1.9435e-05 - acc: 1.0000 - val_loss: 0.2679 - val_acc: 0.9626\n",
            "Epoch 415/500\n",
            "2/2 [==============================] - 0s 172ms/step - loss: 1.9063e-05 - acc: 1.0000 - val_loss: 0.2681 - val_acc: 0.9626\n",
            "Epoch 416/500\n",
            "2/2 [==============================] - 0s 173ms/step - loss: 1.8501e-05 - acc: 1.0000 - val_loss: 0.2683 - val_acc: 0.9626\n",
            "Epoch 417/500\n",
            "2/2 [==============================] - 0s 177ms/step - loss: 1.8753e-05 - acc: 1.0000 - val_loss: 0.2687 - val_acc: 0.9626\n",
            "Epoch 418/500\n",
            "2/2 [==============================] - 0s 178ms/step - loss: 1.8346e-05 - acc: 1.0000 - val_loss: 0.2686 - val_acc: 0.9626\n",
            "Epoch 419/500\n",
            "2/2 [==============================] - 0s 171ms/step - loss: 1.8243e-05 - acc: 1.0000 - val_loss: 0.2687 - val_acc: 0.9626\n",
            "Epoch 420/500\n",
            "2/2 [==============================] - 0s 172ms/step - loss: 1.7933e-05 - acc: 1.0000 - val_loss: 0.2688 - val_acc: 0.9626\n",
            "Epoch 421/500\n",
            "2/2 [==============================] - 0s 175ms/step - loss: 1.8678e-05 - acc: 1.0000 - val_loss: 0.2688 - val_acc: 0.9626\n",
            "Epoch 422/500\n",
            "2/2 [==============================] - 0s 172ms/step - loss: 1.7495e-05 - acc: 1.0000 - val_loss: 0.2689 - val_acc: 0.9626\n",
            "Epoch 423/500\n",
            "2/2 [==============================] - 0s 175ms/step - loss: 1.8273e-05 - acc: 1.0000 - val_loss: 0.2695 - val_acc: 0.9626\n",
            "Epoch 424/500\n",
            "2/2 [==============================] - 0s 174ms/step - loss: 1.8515e-05 - acc: 1.0000 - val_loss: 0.2699 - val_acc: 0.9626\n",
            "Epoch 425/500\n",
            "2/2 [==============================] - 0s 174ms/step - loss: 1.7650e-05 - acc: 1.0000 - val_loss: 0.2701 - val_acc: 0.9626\n",
            "Epoch 426/500\n",
            "2/2 [==============================] - 0s 171ms/step - loss: 1.7177e-05 - acc: 1.0000 - val_loss: 0.2700 - val_acc: 0.9626\n",
            "Epoch 427/500\n",
            "2/2 [==============================] - 0s 172ms/step - loss: 1.7878e-05 - acc: 1.0000 - val_loss: 0.2701 - val_acc: 0.9626\n",
            "Epoch 428/500\n",
            "2/2 [==============================] - 0s 179ms/step - loss: 1.7586e-05 - acc: 1.0000 - val_loss: 0.2704 - val_acc: 0.9626\n",
            "Epoch 429/500\n",
            "2/2 [==============================] - 0s 179ms/step - loss: 1.7917e-05 - acc: 1.0000 - val_loss: 0.2705 - val_acc: 0.9626\n",
            "Epoch 430/500\n",
            "2/2 [==============================] - 0s 174ms/step - loss: 1.6123e-05 - acc: 1.0000 - val_loss: 0.2707 - val_acc: 0.9626\n",
            "Epoch 431/500\n",
            "2/2 [==============================] - 0s 182ms/step - loss: 1.7609e-05 - acc: 1.0000 - val_loss: 0.2709 - val_acc: 0.9626\n",
            "Epoch 432/500\n",
            "2/2 [==============================] - 0s 171ms/step - loss: 1.8852e-05 - acc: 1.0000 - val_loss: 0.2713 - val_acc: 0.9626\n",
            "Epoch 433/500\n",
            "2/2 [==============================] - 0s 177ms/step - loss: 1.6167e-05 - acc: 1.0000 - val_loss: 0.2714 - val_acc: 0.9626\n",
            "Epoch 434/500\n",
            "2/2 [==============================] - 0s 174ms/step - loss: 1.7627e-05 - acc: 1.0000 - val_loss: 0.2715 - val_acc: 0.9626\n",
            "Epoch 435/500\n",
            "2/2 [==============================] - 0s 177ms/step - loss: 1.6741e-05 - acc: 1.0000 - val_loss: 0.2719 - val_acc: 0.9626\n",
            "Epoch 436/500\n",
            "2/2 [==============================] - 0s 175ms/step - loss: 1.6163e-05 - acc: 1.0000 - val_loss: 0.2721 - val_acc: 0.9626\n",
            "Epoch 437/500\n",
            "2/2 [==============================] - 0s 175ms/step - loss: 1.7453e-05 - acc: 1.0000 - val_loss: 0.2722 - val_acc: 0.9626\n",
            "Epoch 438/500\n",
            "2/2 [==============================] - 0s 176ms/step - loss: 1.6268e-05 - acc: 1.0000 - val_loss: 0.2721 - val_acc: 0.9626\n",
            "Epoch 439/500\n",
            "2/2 [==============================] - 0s 185ms/step - loss: 1.6457e-05 - acc: 1.0000 - val_loss: 0.2726 - val_acc: 0.9626\n",
            "Epoch 440/500\n",
            "2/2 [==============================] - 0s 175ms/step - loss: 1.6526e-05 - acc: 1.0000 - val_loss: 0.2727 - val_acc: 0.9626\n",
            "Epoch 441/500\n",
            "2/2 [==============================] - 0s 197ms/step - loss: 1.5008e-05 - acc: 1.0000 - val_loss: 0.2731 - val_acc: 0.9626\n",
            "Epoch 442/500\n",
            "2/2 [==============================] - 0s 178ms/step - loss: 1.5169e-05 - acc: 1.0000 - val_loss: 0.2729 - val_acc: 0.9626\n",
            "Epoch 443/500\n",
            "2/2 [==============================] - 0s 177ms/step - loss: 1.5816e-05 - acc: 1.0000 - val_loss: 0.2731 - val_acc: 0.9626\n",
            "Epoch 444/500\n",
            "2/2 [==============================] - 0s 178ms/step - loss: 1.5619e-05 - acc: 1.0000 - val_loss: 0.2735 - val_acc: 0.9626\n",
            "Epoch 445/500\n",
            "2/2 [==============================] - 0s 181ms/step - loss: 1.5305e-05 - acc: 1.0000 - val_loss: 0.2736 - val_acc: 0.9626\n",
            "Epoch 446/500\n",
            "2/2 [==============================] - 0s 187ms/step - loss: 1.5156e-05 - acc: 1.0000 - val_loss: 0.2736 - val_acc: 0.9626\n",
            "Epoch 447/500\n",
            "2/2 [==============================] - 0s 187ms/step - loss: 1.5126e-05 - acc: 1.0000 - val_loss: 0.2739 - val_acc: 0.9626\n",
            "Epoch 448/500\n",
            "2/2 [==============================] - 0s 174ms/step - loss: 1.5510e-05 - acc: 1.0000 - val_loss: 0.2743 - val_acc: 0.9626\n",
            "Epoch 449/500\n",
            "2/2 [==============================] - 0s 172ms/step - loss: 1.5199e-05 - acc: 1.0000 - val_loss: 0.2744 - val_acc: 0.9626\n",
            "Epoch 450/500\n",
            "2/2 [==============================] - 0s 173ms/step - loss: 1.5486e-05 - acc: 1.0000 - val_loss: 0.2746 - val_acc: 0.9626\n",
            "Epoch 451/500\n",
            "2/2 [==============================] - 0s 172ms/step - loss: 1.4293e-05 - acc: 1.0000 - val_loss: 0.2747 - val_acc: 0.9626\n",
            "Epoch 452/500\n",
            "2/2 [==============================] - 0s 182ms/step - loss: 1.4825e-05 - acc: 1.0000 - val_loss: 0.2747 - val_acc: 0.9626\n",
            "Epoch 453/500\n",
            "2/2 [==============================] - 0s 179ms/step - loss: 1.3431e-05 - acc: 1.0000 - val_loss: 0.2748 - val_acc: 0.9626\n",
            "Epoch 454/500\n",
            "2/2 [==============================] - 0s 173ms/step - loss: 1.4062e-05 - acc: 1.0000 - val_loss: 0.2753 - val_acc: 0.9626\n",
            "Epoch 455/500\n",
            "2/2 [==============================] - 0s 172ms/step - loss: 1.4964e-05 - acc: 1.0000 - val_loss: 0.2756 - val_acc: 0.9626\n",
            "Epoch 456/500\n",
            "2/2 [==============================] - 0s 176ms/step - loss: 1.4930e-05 - acc: 1.0000 - val_loss: 0.2755 - val_acc: 0.9626\n",
            "Epoch 457/500\n",
            "2/2 [==============================] - 0s 172ms/step - loss: 1.3157e-05 - acc: 1.0000 - val_loss: 0.2754 - val_acc: 0.9626\n",
            "Epoch 458/500\n",
            "2/2 [==============================] - 0s 170ms/step - loss: 1.4088e-05 - acc: 1.0000 - val_loss: 0.2757 - val_acc: 0.9626\n",
            "Epoch 459/500\n",
            "2/2 [==============================] - 0s 172ms/step - loss: 1.4218e-05 - acc: 1.0000 - val_loss: 0.2763 - val_acc: 0.9626\n",
            "Epoch 460/500\n",
            "2/2 [==============================] - 0s 180ms/step - loss: 1.3707e-05 - acc: 1.0000 - val_loss: 0.2764 - val_acc: 0.9626\n",
            "Epoch 461/500\n",
            "2/2 [==============================] - 0s 172ms/step - loss: 1.4208e-05 - acc: 1.0000 - val_loss: 0.2766 - val_acc: 0.9626\n",
            "Epoch 462/500\n",
            "2/2 [==============================] - 0s 172ms/step - loss: 1.2527e-05 - acc: 1.0000 - val_loss: 0.2766 - val_acc: 0.9626\n",
            "Epoch 463/500\n",
            "2/2 [==============================] - 0s 175ms/step - loss: 1.2798e-05 - acc: 1.0000 - val_loss: 0.2768 - val_acc: 0.9626\n",
            "Epoch 464/500\n",
            "2/2 [==============================] - 0s 176ms/step - loss: 1.3922e-05 - acc: 1.0000 - val_loss: 0.2771 - val_acc: 0.9626\n",
            "Epoch 465/500\n",
            "2/2 [==============================] - 0s 174ms/step - loss: 1.4016e-05 - acc: 1.0000 - val_loss: 0.2774 - val_acc: 0.9626\n",
            "Epoch 466/500\n",
            "2/2 [==============================] - 0s 173ms/step - loss: 1.3162e-05 - acc: 1.0000 - val_loss: 0.2777 - val_acc: 0.9626\n",
            "Epoch 467/500\n",
            "2/2 [==============================] - 0s 179ms/step - loss: 1.3407e-05 - acc: 1.0000 - val_loss: 0.2775 - val_acc: 0.9626\n",
            "Epoch 468/500\n",
            "2/2 [==============================] - 0s 168ms/step - loss: 1.3278e-05 - acc: 1.0000 - val_loss: 0.2776 - val_acc: 0.9626\n",
            "Epoch 469/500\n",
            "2/2 [==============================] - 0s 171ms/step - loss: 1.3254e-05 - acc: 1.0000 - val_loss: 0.2775 - val_acc: 0.9626\n",
            "Epoch 470/500\n",
            "2/2 [==============================] - 0s 174ms/step - loss: 1.2277e-05 - acc: 1.0000 - val_loss: 0.2779 - val_acc: 0.9626\n",
            "Epoch 471/500\n",
            "2/2 [==============================] - 0s 174ms/step - loss: 1.3507e-05 - acc: 1.0000 - val_loss: 0.2780 - val_acc: 0.9626\n",
            "Epoch 472/500\n",
            "2/2 [==============================] - 0s 172ms/step - loss: 1.2557e-05 - acc: 1.0000 - val_loss: 0.2782 - val_acc: 0.9626\n",
            "Epoch 473/500\n",
            "2/2 [==============================] - 0s 181ms/step - loss: 1.2289e-05 - acc: 1.0000 - val_loss: 0.2785 - val_acc: 0.9626\n",
            "Epoch 474/500\n",
            "2/2 [==============================] - 0s 172ms/step - loss: 1.3103e-05 - acc: 1.0000 - val_loss: 0.2789 - val_acc: 0.9626\n",
            "Epoch 475/500\n",
            "2/2 [==============================] - 0s 175ms/step - loss: 1.2401e-05 - acc: 1.0000 - val_loss: 0.2790 - val_acc: 0.9626\n",
            "Epoch 476/500\n",
            "2/2 [==============================] - 0s 173ms/step - loss: 1.2013e-05 - acc: 1.0000 - val_loss: 0.2794 - val_acc: 0.9626\n",
            "Epoch 477/500\n",
            "2/2 [==============================] - 0s 173ms/step - loss: 1.2589e-05 - acc: 1.0000 - val_loss: 0.2793 - val_acc: 0.9626\n",
            "Epoch 478/500\n",
            "2/2 [==============================] - 0s 169ms/step - loss: 1.1547e-05 - acc: 1.0000 - val_loss: 0.2795 - val_acc: 0.9626\n",
            "Epoch 479/500\n",
            "2/2 [==============================] - 0s 177ms/step - loss: 1.1988e-05 - acc: 1.0000 - val_loss: 0.2796 - val_acc: 0.9626\n",
            "Epoch 480/500\n",
            "2/2 [==============================] - 0s 184ms/step - loss: 1.2342e-05 - acc: 1.0000 - val_loss: 0.2797 - val_acc: 0.9626\n",
            "Epoch 481/500\n",
            "2/2 [==============================] - 0s 171ms/step - loss: 1.2292e-05 - acc: 1.0000 - val_loss: 0.2798 - val_acc: 0.9626\n",
            "Epoch 482/500\n",
            "2/2 [==============================] - 0s 177ms/step - loss: 1.2616e-05 - acc: 1.0000 - val_loss: 0.2797 - val_acc: 0.9626\n",
            "Epoch 483/500\n",
            "2/2 [==============================] - 0s 173ms/step - loss: 1.2243e-05 - acc: 1.0000 - val_loss: 0.2797 - val_acc: 0.9626\n",
            "Epoch 484/500\n",
            "2/2 [==============================] - 0s 169ms/step - loss: 1.1959e-05 - acc: 1.0000 - val_loss: 0.2800 - val_acc: 0.9626\n",
            "Epoch 485/500\n",
            "2/2 [==============================] - 0s 172ms/step - loss: 1.1587e-05 - acc: 1.0000 - val_loss: 0.2806 - val_acc: 0.9626\n",
            "Epoch 486/500\n",
            "2/2 [==============================] - 0s 182ms/step - loss: 1.2113e-05 - acc: 1.0000 - val_loss: 0.2811 - val_acc: 0.9626\n",
            "Epoch 487/500\n",
            "2/2 [==============================] - 0s 176ms/step - loss: 1.1513e-05 - acc: 1.0000 - val_loss: 0.2812 - val_acc: 0.9626\n",
            "Epoch 488/500\n",
            "2/2 [==============================] - 0s 177ms/step - loss: 1.1500e-05 - acc: 1.0000 - val_loss: 0.2812 - val_acc: 0.9626\n",
            "Epoch 489/500\n",
            "2/2 [==============================] - 0s 174ms/step - loss: 1.1511e-05 - acc: 1.0000 - val_loss: 0.2812 - val_acc: 0.9626\n",
            "Epoch 490/500\n",
            "2/2 [==============================] - 0s 174ms/step - loss: 1.1666e-05 - acc: 1.0000 - val_loss: 0.2813 - val_acc: 0.9626\n",
            "Epoch 491/500\n",
            "2/2 [==============================] - 0s 186ms/step - loss: 1.2334e-05 - acc: 1.0000 - val_loss: 0.2816 - val_acc: 0.9626\n",
            "Epoch 492/500\n",
            "2/2 [==============================] - 0s 172ms/step - loss: 1.1500e-05 - acc: 1.0000 - val_loss: 0.2817 - val_acc: 0.9626\n",
            "Epoch 493/500\n",
            "2/2 [==============================] - 0s 179ms/step - loss: 1.2169e-05 - acc: 1.0000 - val_loss: 0.2817 - val_acc: 0.9626\n",
            "Epoch 494/500\n",
            "2/2 [==============================] - 0s 173ms/step - loss: 1.1404e-05 - acc: 1.0000 - val_loss: 0.2819 - val_acc: 0.9626\n",
            "Epoch 495/500\n",
            "2/2 [==============================] - 0s 174ms/step - loss: 1.0801e-05 - acc: 1.0000 - val_loss: 0.2820 - val_acc: 0.9626\n",
            "Epoch 496/500\n",
            "2/2 [==============================] - 0s 176ms/step - loss: 1.1160e-05 - acc: 1.0000 - val_loss: 0.2823 - val_acc: 0.9626\n",
            "Epoch 497/500\n",
            "2/2 [==============================] - 0s 172ms/step - loss: 1.1440e-05 - acc: 1.0000 - val_loss: 0.2826 - val_acc: 0.9626\n",
            "Epoch 498/500\n",
            "2/2 [==============================] - 0s 174ms/step - loss: 1.1286e-05 - acc: 1.0000 - val_loss: 0.2826 - val_acc: 0.9626\n",
            "Epoch 499/500\n",
            "2/2 [==============================] - 0s 176ms/step - loss: 1.1566e-05 - acc: 1.0000 - val_loss: 0.2827 - val_acc: 0.9626\n",
            "Epoch 500/500\n",
            "2/2 [==============================] - 0s 182ms/step - loss: 1.1134e-05 - acc: 1.0000 - val_loss: 0.2829 - val_acc: 0.9626\n"
          ],
          "name": "stdout"
        }
      ]
    },
    {
      "cell_type": "code",
      "metadata": {
        "id": "x2qzK4SJB5y9",
        "colab": {
          "base_uri": "https://localhost:8080/",
          "height": 241
        },
        "outputId": "a4b1d1ec-93f4-45a6-acd0-7a6bbe745a73"
      },
      "source": [
        "plt.figure(figsize =(5,3))\n",
        "plt.plot(history.history['acc'], marker='.', label='tune')\n",
        "plt.plot(history.history['val_acc'], marker='.', label='test')\n",
        "plt.title('Accuracy')\n",
        "plt.grid(True)\n",
        "plt.xlabel('epoch')\n",
        "plt.ylabel('accuracy')\n",
        "plt.legend(loc='best')\n",
        "plt.show()"
      ],
      "execution_count": 46,
      "outputs": [
        {
          "output_type": "display_data",
          "data": {
            "image/png": "[encoded data removed]",
            "text/plain": [
              "<Figure size 360x216 with 1 Axes>"
            ]
          },
          "metadata": {
            "tags": [],
            "needs_background": "light"
          }
        }
      ]
    }
  ]
}