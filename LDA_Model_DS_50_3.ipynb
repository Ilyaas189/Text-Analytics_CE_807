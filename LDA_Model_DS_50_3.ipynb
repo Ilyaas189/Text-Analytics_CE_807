{
  "nbformat": 4,
  "nbformat_minor": 0,
  "metadata": {
    "colab": {
      "name": "LDA Model_DS_50_3.ipynb",
      "provenance": [],
      "collapsed_sections": [],
      "include_colab_link": true
    },
    "kernelspec": {
      "name": "python3",
      "display_name": "Python 3"
    },
    "language_info": {
      "name": "python"
    },
    "accelerator": "GPU"
  },
  "cells": [
    {
      "cell_type": "markdown",
      "metadata": {
        "id": "view-in-github",
        "colab_type": "text"
      },
      "source": [
        "<a href=\"https://colab.research.google.com/github/Ilyaas189/Text-Analytics_CE_807/blob/main/LDA_Model_DS_50_3.ipynb\" target=\"_parent\"><img src=\"https://colab.research.google.com/assets/colab-badge.svg\" alt=\"Open In Colab\"/></a>"
      ]
    },
    {
      "cell_type": "code",
      "metadata": {
        "colab": {
          "resources": {
            "http://localhost:8080/nbextensions/google.colab/files.js": {
              "data": "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",
              "ok": true,
              "headers": [
                [
                  "content-type",
                  "application/javascript"
                ]
              ],
              "status": 200,
              "status_text": ""
            }
          },
          "base_uri": "https://localhost:8080/",
          "height": 37
        },
        "id": "h48neXM-ANwE",
        "outputId": "506a006a-b2de-4c43-d8dc-8532796b31cd"
      },
      "source": [
        "import pandas as pd\n",
        "import numpy as np\n",
        "import matplotlib.pyplot as plt\n",
        "import warnings\n",
        "from google.colab import files\n",
        "from sklearn.naive_bayes import MultinomialNB\n",
        "from sklearn.naive_bayes import BernoulliNB\n",
        "from sklearn.pipeline import Pipeline\n",
        "from sklearn.feature_extraction.text import TfidfVectorizer\n",
        "from sklearn.feature_extraction.text import TfidfTransformer\n",
        "from sklearn.linear_model import SGDClassifier\n",
        "from sklearn.linear_model import LogisticRegression\n",
        "from nltk.stem.snowball import SnowballStemmer\n",
        "from sklearn.neighbors import KNeighborsClassifier\n",
        "from sklearn.ensemble import RandomForestClassifier\n",
        "import numpy as np\n",
        "import re\n",
        "\n",
        "\n",
        "import matplotlib.pyplot as plt\n",
        "%matplotlib inline\n",
        "\n",
        "import nltk\n",
        "import random\n",
        "uploaded = files.upload()\n",
        "files = list(uploaded.keys())\n"
      ],
      "execution_count": 1,
      "outputs": [
        {
          "output_type": "display_data",
          "data": {
            "text/html": [
              "\n",
              "     <input type=\"file\" id=\"files-5bfad0f4-03a0-47bb-b84c-1c0a4b49eea0\" name=\"files[]\" multiple disabled\n",
              "        style=\"border:none\" />\n",
              "     <output id=\"result-5bfad0f4-03a0-47bb-b84c-1c0a4b49eea0\">\n",
              "      Upload widget is only available when the cell has been executed in the\n",
              "      current browser session. Please rerun this cell to enable.\n",
              "      </output>\n",
              "      <script src=\"/nbextensions/google.colab/files.js\"></script> "
            ],
            "text/plain": [
              "<IPython.core.display.HTML object>"
            ]
          },
          "metadata": {
            "tags": []
          }
        }
      ]
    },
    {
      "cell_type": "code",
      "metadata": {
        "colab": {
          "base_uri": "https://localhost:8080/"
        },
        "id": "qcrJU_pzAhOm",
        "outputId": "e1047932-e78f-40d4-a036-b3484ad198ce"
      },
      "source": [
        "# Import Dataset\n",
        "data = pd.read_json('https://raw.githubusercontent.com/selva86/datasets/master/newsgroups.json')\n",
        "print(data.target_names.unique())"
      ],
      "execution_count": 2,
      "outputs": [
        {
          "output_type": "stream",
          "text": [
            "['rec.autos' 'comp.sys.mac.hardware' 'comp.graphics' 'sci.space'\n",
            " 'talk.politics.guns' 'sci.med' 'comp.sys.ibm.pc.hardware'\n",
            " 'comp.os.ms-windows.misc' 'rec.motorcycles' 'talk.religion.misc'\n",
            " 'misc.forsale' 'alt.atheism' 'sci.electronics' 'comp.windows.x'\n",
            " 'rec.sport.hockey' 'rec.sport.baseball' 'soc.religion.christian'\n",
            " 'talk.politics.mideast' 'talk.politics.misc' 'sci.crypt']\n"
          ],
          "name": "stdout"
        }
      ]
    },
    {
      "cell_type": "code",
      "metadata": {
        "colab": {
          "base_uri": "https://localhost:8080/",
          "height": 648
        },
        "id": "SnGiNUYGAtLQ",
        "outputId": "29d1d2f4-9558-4059-fc78-2a51e48ddd93"
      },
      "source": [
        "data.head(20)"
      ],
      "execution_count": 3,
      "outputs": [
        {
          "output_type": "execute_result",
          "data": {
            "text/html": [
              "<div>\n",
              "<style scoped>\n",
              "    .dataframe tbody tr th:only-of-type {\n",
              "        vertical-align: middle;\n",
              "    }\n",
              "\n",
              "    .dataframe tbody tr th {\n",
              "        vertical-align: top;\n",
              "    }\n",
              "\n",
              "    .dataframe thead th {\n",
              "        text-align: right;\n",
              "    }\n",
              "</style>\n",
              "<table border=\"1\" class=\"dataframe\">\n",
              "  <thead>\n",
              "    <tr style=\"text-align: right;\">\n",
              "      <th></th>\n",
              "      <th>content</th>\n",
              "      <th>target</th>\n",
              "      <th>target_names</th>\n",
              "    </tr>\n",
              "  </thead>\n",
              "  <tbody>\n",
              "    <tr>\n",
              "      <th>0</th>\n",
              "      <td>From: lerxst@wam.umd.edu (where's my thing)\\nS...</td>\n",
              "      <td>7</td>\n",
              "      <td>rec.autos</td>\n",
              "    </tr>\n",
              "    <tr>\n",
              "      <th>1</th>\n",
              "      <td>From: guykuo@carson.u.washington.edu (Guy Kuo)...</td>\n",
              "      <td>4</td>\n",
              "      <td>comp.sys.mac.hardware</td>\n",
              "    </tr>\n",
              "    <tr>\n",
              "      <th>2</th>\n",
              "      <td>From: twillis@ec.ecn.purdue.edu (Thomas E Will...</td>\n",
              "      <td>4</td>\n",
              "      <td>comp.sys.mac.hardware</td>\n",
              "    </tr>\n",
              "    <tr>\n",
              "      <th>3</th>\n",
              "      <td>From: jgreen@amber (Joe Green)\\nSubject: Re: W...</td>\n",
              "      <td>1</td>\n",
              "      <td>comp.graphics</td>\n",
              "    </tr>\n",
              "    <tr>\n",
              "      <th>4</th>\n",
              "      <td>From: jcm@head-cfa.harvard.edu (Jonathan McDow...</td>\n",
              "      <td>14</td>\n",
              "      <td>sci.space</td>\n",
              "    </tr>\n",
              "    <tr>\n",
              "      <th>5</th>\n",
              "      <td>From: dfo@vttoulu.tko.vtt.fi (Foxvog Douglas)\\...</td>\n",
              "      <td>16</td>\n",
              "      <td>talk.politics.guns</td>\n",
              "    </tr>\n",
              "    <tr>\n",
              "      <th>6</th>\n",
              "      <td>From: bmdelane@quads.uchicago.edu (brian manni...</td>\n",
              "      <td>13</td>\n",
              "      <td>sci.med</td>\n",
              "    </tr>\n",
              "    <tr>\n",
              "      <th>7</th>\n",
              "      <td>From: bgrubb@dante.nmsu.edu (GRUBB)\\nSubject: ...</td>\n",
              "      <td>3</td>\n",
              "      <td>comp.sys.ibm.pc.hardware</td>\n",
              "    </tr>\n",
              "    <tr>\n",
              "      <th>8</th>\n",
              "      <td>From: holmes7000@iscsvax.uni.edu\\nSubject: WIn...</td>\n",
              "      <td>2</td>\n",
              "      <td>comp.os.ms-windows.misc</td>\n",
              "    </tr>\n",
              "    <tr>\n",
              "      <th>9</th>\n",
              "      <td>From: kerr@ux1.cso.uiuc.edu (Stan Kerr)\\nSubje...</td>\n",
              "      <td>4</td>\n",
              "      <td>comp.sys.mac.hardware</td>\n",
              "    </tr>\n",
              "    <tr>\n",
              "      <th>10</th>\n",
              "      <td>From: irwin@cmptrc.lonestar.org (Irwin Arnstei...</td>\n",
              "      <td>8</td>\n",
              "      <td>rec.motorcycles</td>\n",
              "    </tr>\n",
              "    <tr>\n",
              "      <th>11</th>\n",
              "      <td>From: david@terminus.ericsson.se (David Bold)\\...</td>\n",
              "      <td>19</td>\n",
              "      <td>talk.religion.misc</td>\n",
              "    </tr>\n",
              "    <tr>\n",
              "      <th>12</th>\n",
              "      <td>From: rodc@fc.hp.com (Rod Cerkoney)\\nSubject: ...</td>\n",
              "      <td>4</td>\n",
              "      <td>comp.sys.mac.hardware</td>\n",
              "    </tr>\n",
              "    <tr>\n",
              "      <th>13</th>\n",
              "      <td>From: dbm0000@tm0006.lerc.nasa.gov (David B. M...</td>\n",
              "      <td>14</td>\n",
              "      <td>sci.space</td>\n",
              "    </tr>\n",
              "    <tr>\n",
              "      <th>14</th>\n",
              "      <td>From: jllee@acsu.buffalo.edu (Johnny L Lee)\\nS...</td>\n",
              "      <td>6</td>\n",
              "      <td>misc.forsale</td>\n",
              "    </tr>\n",
              "    <tr>\n",
              "      <th>15</th>\n",
              "      <td>From: mathew &lt;mathew@mantis.co.uk&gt;\\nSubject: R...</td>\n",
              "      <td>0</td>\n",
              "      <td>alt.atheism</td>\n",
              "    </tr>\n",
              "    <tr>\n",
              "      <th>16</th>\n",
              "      <td>From: ab@nova.cc.purdue.edu (Allen B)\\nSubject...</td>\n",
              "      <td>1</td>\n",
              "      <td>comp.graphics</td>\n",
              "    </tr>\n",
              "    <tr>\n",
              "      <th>17</th>\n",
              "      <td>From: CPKJP@vm.cc.latech.edu (Kevin Parker)\\nS...</td>\n",
              "      <td>7</td>\n",
              "      <td>rec.autos</td>\n",
              "    </tr>\n",
              "    <tr>\n",
              "      <th>18</th>\n",
              "      <td>From: ritley@uimrl7.mrl.uiuc.edu ()\\nSubject: ...</td>\n",
              "      <td>12</td>\n",
              "      <td>sci.electronics</td>\n",
              "    </tr>\n",
              "    <tr>\n",
              "      <th>19</th>\n",
              "      <td>From: abarden@tybse1.uucp (Ann Marie Barden)\\n...</td>\n",
              "      <td>5</td>\n",
              "      <td>comp.windows.x</td>\n",
              "    </tr>\n",
              "  </tbody>\n",
              "</table>\n",
              "</div>"
            ],
            "text/plain": [
              "                                              content  ...              target_names\n",
              "0   From: lerxst@wam.umd.edu (where's my thing)\\nS...  ...                 rec.autos\n",
              "1   From: guykuo@carson.u.washington.edu (Guy Kuo)...  ...     comp.sys.mac.hardware\n",
              "2   From: twillis@ec.ecn.purdue.edu (Thomas E Will...  ...     comp.sys.mac.hardware\n",
              "3   From: jgreen@amber (Joe Green)\\nSubject: Re: W...  ...             comp.graphics\n",
              "4   From: jcm@head-cfa.harvard.edu (Jonathan McDow...  ...                 sci.space\n",
              "5   From: dfo@vttoulu.tko.vtt.fi (Foxvog Douglas)\\...  ...        talk.politics.guns\n",
              "6   From: bmdelane@quads.uchicago.edu (brian manni...  ...                   sci.med\n",
              "7   From: bgrubb@dante.nmsu.edu (GRUBB)\\nSubject: ...  ...  comp.sys.ibm.pc.hardware\n",
              "8   From: holmes7000@iscsvax.uni.edu\\nSubject: WIn...  ...   comp.os.ms-windows.misc\n",
              "9   From: kerr@ux1.cso.uiuc.edu (Stan Kerr)\\nSubje...  ...     comp.sys.mac.hardware\n",
              "10  From: irwin@cmptrc.lonestar.org (Irwin Arnstei...  ...           rec.motorcycles\n",
              "11  From: david@terminus.ericsson.se (David Bold)\\...  ...        talk.religion.misc\n",
              "12  From: rodc@fc.hp.com (Rod Cerkoney)\\nSubject: ...  ...     comp.sys.mac.hardware\n",
              "13  From: dbm0000@tm0006.lerc.nasa.gov (David B. M...  ...                 sci.space\n",
              "14  From: jllee@acsu.buffalo.edu (Johnny L Lee)\\nS...  ...              misc.forsale\n",
              "15  From: mathew <mathew@mantis.co.uk>\\nSubject: R...  ...               alt.atheism\n",
              "16  From: ab@nova.cc.purdue.edu (Allen B)\\nSubject...  ...             comp.graphics\n",
              "17  From: CPKJP@vm.cc.latech.edu (Kevin Parker)\\nS...  ...                 rec.autos\n",
              "18  From: ritley@uimrl7.mrl.uiuc.edu ()\\nSubject: ...  ...           sci.electronics\n",
              "19  From: abarden@tybse1.uucp (Ann Marie Barden)\\n...  ...            comp.windows.x\n",
              "\n",
              "[20 rows x 3 columns]"
            ]
          },
          "metadata": {
            "tags": []
          },
          "execution_count": 3
        }
      ]
    },
    {
      "cell_type": "code",
      "metadata": {
        "colab": {
          "base_uri": "https://localhost:8080/"
        },
        "id": "i1t4Hd65BKo4",
        "outputId": "53dbdb6d-1a92-4fde-ccf8-002c77eb2eee"
      },
      "source": [
        "data_clusterization = data[['content', 'target_names']]\n",
        "data_clusterization.dropna(inplace=True)"
      ],
      "execution_count": 4,
      "outputs": [
        {
          "output_type": "stream",
          "text": [
            "/usr/local/lib/python3.7/dist-packages/ipykernel_launcher.py:2: SettingWithCopyWarning: \n",
            "A value is trying to be set on a copy of a slice from a DataFrame\n",
            "\n",
            "See the caveats in the documentation: https://pandas.pydata.org/pandas-docs/stable/user_guide/indexing.html#returning-a-view-versus-a-copy\n",
            "  \n"
          ],
          "name": "stderr"
        }
      ]
    },
    {
      "cell_type": "code",
      "metadata": {
        "colab": {
          "base_uri": "https://localhost:8080/",
          "height": 108
        },
        "id": "0xRJ8_03Bd1W",
        "outputId": "6d9a8feb-68d2-4b33-d1b9-881084c5f084"
      },
      "source": [
        "data_clusterization.head(2)\n"
      ],
      "execution_count": 5,
      "outputs": [
        {
          "output_type": "execute_result",
          "data": {
            "text/html": [
              "<div>\n",
              "<style scoped>\n",
              "    .dataframe tbody tr th:only-of-type {\n",
              "        vertical-align: middle;\n",
              "    }\n",
              "\n",
              "    .dataframe tbody tr th {\n",
              "        vertical-align: top;\n",
              "    }\n",
              "\n",
              "    .dataframe thead th {\n",
              "        text-align: right;\n",
              "    }\n",
              "</style>\n",
              "<table border=\"1\" class=\"dataframe\">\n",
              "  <thead>\n",
              "    <tr style=\"text-align: right;\">\n",
              "      <th></th>\n",
              "      <th>content</th>\n",
              "      <th>target_names</th>\n",
              "    </tr>\n",
              "  </thead>\n",
              "  <tbody>\n",
              "    <tr>\n",
              "      <th>0</th>\n",
              "      <td>From: lerxst@wam.umd.edu (where's my thing)\\nS...</td>\n",
              "      <td>rec.autos</td>\n",
              "    </tr>\n",
              "    <tr>\n",
              "      <th>1</th>\n",
              "      <td>From: guykuo@carson.u.washington.edu (Guy Kuo)...</td>\n",
              "      <td>comp.sys.mac.hardware</td>\n",
              "    </tr>\n",
              "  </tbody>\n",
              "</table>\n",
              "</div>"
            ],
            "text/plain": [
              "                                             content           target_names\n",
              "0  From: lerxst@wam.umd.edu (where's my thing)\\nS...              rec.autos\n",
              "1  From: guykuo@carson.u.washington.edu (Guy Kuo)...  comp.sys.mac.hardware"
            ]
          },
          "metadata": {
            "tags": []
          },
          "execution_count": 5
        }
      ]
    },
    {
      "cell_type": "code",
      "metadata": {
        "colab": {
          "base_uri": "https://localhost:8080/"
        },
        "id": "0iUh1DoLBmXP",
        "outputId": "f20444a5-f79e-461c-e8b4-89e7df9beb68"
      },
      "source": [
        "import gensim\n",
        "from gensim.utils import simple_preprocess\n",
        "from gensim.parsing.preprocessing import STOPWORDS\n",
        "from nltk.stem import WordNetLemmatizer, SnowballStemmer\n",
        "from nltk.stem.porter import *\n",
        "import numpy as np\n",
        "np.random.seed(2018)\n",
        "import nltk\n",
        "nltk.download('wordnet')"
      ],
      "execution_count": 6,
      "outputs": [
        {
          "output_type": "stream",
          "text": [
            "[nltk_data] Downloading package wordnet to /root/nltk_data...\n",
            "[nltk_data]   Unzipping corpora/wordnet.zip.\n"
          ],
          "name": "stdout"
        },
        {
          "output_type": "execute_result",
          "data": {
            "text/plain": [
              "True"
            ]
          },
          "metadata": {
            "tags": []
          },
          "execution_count": 6
        }
      ]
    },
    {
      "cell_type": "code",
      "metadata": {
        "id": "s7hwfWd1Bw8S"
      },
      "source": [
        "def lemmatize_stemming(text):\n",
        " stemmer = SnowballStemmer(language='english')\n",
        " return stemmer.stem(WordNetLemmatizer().lemmatize(text, pos='v'))\n",
        "def preprocess(text):\n",
        " result = []\n",
        " for token in gensim.utils.simple_preprocess(text):\n",
        "   if token not in gensim.parsing.preprocessing.STOPWORDS and len(token) > 3:\n",
        "     result.append(lemmatize_stemming(token))\n",
        " return result"
      ],
      "execution_count": 7,
      "outputs": []
    },
    {
      "cell_type": "code",
      "metadata": {
        "id": "iJfVX8biB_Sa"
      },
      "source": [
        "processed_docs = data_clusterization['content'].map(preprocess)\n",
        "data_processed = processed_docs.to_frame()\n",
        "data_processed['content'] = data_processed.content.apply(lambda x: ' '.join(x))\n"
      ],
      "execution_count": 8,
      "outputs": []
    },
    {
      "cell_type": "code",
      "metadata": {
        "colab": {
          "base_uri": "https://localhost:8080/"
        },
        "id": "gCHPTBYJClMy",
        "outputId": "961c5595-4e7c-4692-eacd-748af3bb4db6"
      },
      "source": [
        "!pip install tokenize_uk\n",
        "from collections import Counter\n",
        "from tokenize_uk.tokenize_uk import tokenize_words"
      ],
      "execution_count": 9,
      "outputs": [
        {
          "output_type": "stream",
          "text": [
            "Collecting tokenize_uk\n",
            "  Downloading https://files.pythonhosted.org/packages/ac/21/72abb0304b532e1b2d2473b50d8063ddd0943e3b3fe7e86b366bc4d02aa2/tokenize_uk-0.2.0.tar.gz\n",
            "Requirement already satisfied: six in /usr/local/lib/python3.7/dist-packages (from tokenize_uk) (1.15.0)\n",
            "Building wheels for collected packages: tokenize-uk\n",
            "  Building wheel for tokenize-uk (setup.py) ... \u001b[?25l\u001b[?25hdone\n",
            "  Created wheel for tokenize-uk: filename=tokenize_uk-0.2.0-py2.py3-none-any.whl size=4565 sha256=e5e053913789820ddddec43362d68859845b13fd638eb2298e450a213e0f74cc\n",
            "  Stored in directory: /root/.cache/pip/wheels/2c/e1/95/fd8af5b40aeebdc4e178974e7f638f5553aa8772117054db9e\n",
            "Successfully built tokenize-uk\n",
            "Installing collected packages: tokenize-uk\n",
            "Successfully installed tokenize-uk-0.2.0\n"
          ],
          "name": "stdout"
        }
      ]
    },
    {
      "cell_type": "code",
      "metadata": {
        "colab": {
          "base_uri": "https://localhost:8080/",
          "height": 363
        },
        "id": "94mq8WUoCqHq",
        "outputId": "001ed93e-8749-4183-c3e2-74e5fc4c4fb5"
      },
      "source": [
        "def display_words(data, title, ax):\n",
        " count = Counter(sum(map(lambda text: tokenize_words(text), data), []))\n",
        " popular = np.array(sorted(count.items(), key=lambda x: x[1], reverse=True)[:20])\n",
        " plt.sca(ax)\n",
        " plt.title(title)\n",
        " plt.bar(popular[:,0], np.int32(popular[:,1]))\n",
        " plt.xticks(rotation=\"vertical\")\n",
        "fig, ax = plt.subplots(figsize=(16, 5))\n",
        "display_words(data_processed.sample(1000).content, \"The most popular words]\", ax)"
      ],
      "execution_count": 10,
      "outputs": [
        {
          "output_type": "display_data",
          "data": {
            "image/png": "[encoded data removed]",
            "text/plain": [
              "<Figure size 1152x360 with 1 Axes>"
            ]
          },
          "metadata": {
            "tags": [],
            "needs_background": "light"
          }
        }
      ]
    },
    {
      "cell_type": "code",
      "metadata": {
        "id": "UCM4qevNC5Ty"
      },
      "source": [
        "from sklearn.feature_extraction.text import CountVectorizer"
      ],
      "execution_count": 11,
      "outputs": []
    },
    {
      "cell_type": "code",
      "metadata": {
        "colab": {
          "base_uri": "https://localhost:8080/"
        },
        "id": "NMnRgz3aC8f5",
        "outputId": "1e8c6c7a-1cbf-46d7-e6e9-a4e5e6c46ede"
      },
      "source": [
        "count_vectorizer = CountVectorizer()\n",
        "count_data = count_vectorizer.fit_transform(data_processed['content'])\n",
        "count_data"
      ],
      "execution_count": 12,
      "outputs": [
        {
          "output_type": "execute_result",
          "data": {
            "text/plain": [
              "<11314x61410 sparse matrix of type '<class 'numpy.int64'>'\n",
              "\twith 934270 stored elements in Compressed Sparse Row format>"
            ]
          },
          "metadata": {
            "tags": []
          },
          "execution_count": 12
        }
      ]
    },
    {
      "cell_type": "code",
      "metadata": {
        "id": "6TmSX73jDEJS"
      },
      "source": [
        "likelihood = []\n",
        "n_clusters = []"
      ],
      "execution_count": 13,
      "outputs": []
    },
    {
      "cell_type": "code",
      "metadata": {
        "id": "z9uTcUJlDHT0"
      },
      "source": [
        "import seaborn as sns\n",
        "from sklearn.decomposition import LatentDirichletAllocation as LDA"
      ],
      "execution_count": 14,
      "outputs": []
    },
    {
      "cell_type": "code",
      "metadata": {
        "id": "Hki6oWR0DLwb"
      },
      "source": [
        "def estimate_number_clusters(data, nclusters):\n",
        " for n in nclusters:\n",
        "   likelihood.append(LDA(n_components=n, n_jobs=-1).fit(data).score(data))\n",
        " n_clusters.append(n)\n",
        " print(\"Sccesfully estimated \", n)\n",
        " fig, ax = plt.subplots(figsize=(15, 5))\n",
        " sns.lineplot(x=n_clusters, y=likelihood, ax=ax)\n",
        " ax.set_title('Elbow method for choosing n, likelihood')\n",
        " ax.set_ylabel('Likelihood')\n",
        " ax.set_xlabel('n')\n",
        "\n",
        "\n"
      ],
      "execution_count": 15,
      "outputs": []
    },
    {
      "cell_type": "code",
      "metadata": {
        "id": "_CBG_y1fJszZ"
      },
      "source": [
        "# estimate_number_clusters(count_data, [10, 15, 20, 50])\n",
        " \n",
        " "
      ],
      "execution_count": 16,
      "outputs": []
    },
    {
      "cell_type": "code",
      "metadata": {
        "id": "_XNMixjQJuYE"
      },
      "source": [
        "def print_topics(model, count_vectorizer, n_top_words):\n",
        "  words = count_vectorizer.get_feature_names()\n",
        "  for topic_idx, topic in enumerate(model.components_):\n",
        "    print(\"\\nTopic #%d:\" % topic_idx)\n",
        "    print(\" \".join([words[i]\n",
        "  for i in topic.argsort()[:-n_top_words - 1:-1]]))"
      ],
      "execution_count": 17,
      "outputs": []
    },
    {
      "cell_type": "code",
      "metadata": {
        "id": "Ugizp_hhFpzm"
      },
      "source": [
        "from sklearn.decomposition import LatentDirichletAllocation as LDA\n"
      ],
      "execution_count": 18,
      "outputs": []
    },
    {
      "cell_type": "code",
      "metadata": {
        "colab": {
          "base_uri": "https://localhost:8080/"
        },
        "id": "oWtTkYX1Ftia",
        "outputId": "7f222285-0d31-4f3f-89b4-f1249009eaca"
      },
      "source": [
        "number_topics = 50\n",
        "number_words = 10\n",
        "# Create and fit the LDA model\n",
        "lda = LDA(n_components=number_topics, n_jobs=-1)\n",
        "lda.fit(count_data)\n",
        "# Print the topics found by the LDA model\n",
        "print(\"Topics found via LDA:\")\n",
        "print_topics(lda, count_vectorizer, number_words)"
      ],
      "execution_count": 19,
      "outputs": [
        {
          "output_type": "stream",
          "text": [
            "Topics found via LDA:\n",
            "\n",
            "Topic #0:\n",
            "card line subject organ thank driver univers window problem video\n",
            "\n",
            "Topic #1:\n",
            "moral write uiuc keith caltech object subject line organ think\n",
            "\n",
            "Topic #2:\n",
            "wire subject line organ post need write like printer articl\n",
            "\n",
            "Topic #3:\n",
            "access digex insur subject post line organ host nntp write\n",
            "\n",
            "Topic #4:\n",
            "encrypt chip clipper secur govern key escrow privaci phone line\n",
            "\n",
            "Topic #5:\n",
            "line organ subject engin write cost like window softwar program\n",
            "\n",
            "Topic #6:\n",
            "year game line organ subject team player basebal good pitch\n",
            "\n",
            "Topic #7:\n",
            "sale line subject organ univers post columbia host nntp sell\n",
            "\n",
            "Topic #8:\n",
            "subject line organ write univers articl indiana post hang jewish\n",
            "\n",
            "Topic #9:\n",
            "line bike organ subject like write articl good drive look\n",
            "\n",
            "Topic #10:\n",
            "line organ subject post write david nntp host articl know\n",
            "\n",
            "Topic #11:\n",
            "armenian armenia write know henrik azerbaijan subject say articl line\n",
            "\n",
            "Topic #12:\n",
            "european father spirit time line subject organ monash american franci\n",
            "\n",
            "Topic #13:\n",
            "jpeg imag berkeley keyboard mark appear post line color subject\n",
            "\n",
            "Topic #14:\n",
            "entri file output program line number section stream build char\n",
            "\n",
            "Topic #15:\n",
            "window subject henri line toronto xterm work organ font articl\n",
            "\n",
            "Topic #16:\n",
            "israel isra say arab peopl jew go know come tell\n",
            "\n",
            "Topic #17:\n",
            "widget applic display resourc window valu visual point colormap string\n",
            "\n",
            "Topic #18:\n",
            "right militia organ line peopl colorado write state subject articl\n",
            "\n",
            "Topic #19:\n",
            "space nasa center univers research inform april satellit nation technolog\n",
            "\n",
            "Topic #20:\n",
            "andrew line organ subject virginia post univers nntp host mellon\n",
            "\n",
            "Topic #21:\n",
            "pitt write articl bank organ subject line gordon scienc know\n",
            "\n",
            "Topic #22:\n",
            "uchicago univers midway line subject purdu organ flyer chicago church\n",
            "\n",
            "Topic #23:\n",
            "write articl cramer optilink subject organ homosexu line slave clayton\n",
            "\n",
            "Topic #24:\n",
            "write islam articl line sandvik organ subject kent appl muslim\n",
            "\n",
            "Topic #25:\n",
            "file window program imag mail avail softwar graphic user includ\n",
            "\n",
            "Topic #26:\n",
            "write line organ articl subject post batf udel koresh right\n",
            "\n",
            "Topic #27:\n",
            "peopl think govern right go time know say presid like\n",
            "\n",
            "Topic #28:\n",
            "period play power sweden ericsson second shot finland scorer goal\n",
            "\n",
            "Topic #29:\n",
            "articl write organ line subject post uoknor rise callison jam\n",
            "\n",
            "Topic #30:\n",
            "window subject line cwru organ cleveland post freenet host nntp\n",
            "\n",
            "Topic #31:\n",
            "team game hockey play player line year season subject organ\n",
            "\n",
            "Topic #32:\n",
            "stratus write organ articl subject line post host nntp irvin\n",
            "\n",
            "Topic #33:\n",
            "orbit space nasa earth moon launch mission lunar rocket probe\n",
            "\n",
            "Topic #34:\n",
            "dresden motorcycl revolv semi organ navi auto mask beck oasi\n",
            "\n",
            "Topic #35:\n",
            "gatech prism organ line subject georgia technolog write institut articl\n",
            "\n",
            "Topic #36:\n",
            "water health cancer arizona medic research center number dept report\n",
            "\n",
            "Topic #37:\n",
            "armenian turkish turk greek turkey argic serdar genocid armenia peopl\n",
            "\n",
            "Topic #38:\n",
            "write articl subject organ line post cornel like thor steve\n",
            "\n",
            "Topic #39:\n",
            "line grind subject organ wire write ingr post circuit articl\n",
            "\n",
            "Topic #40:\n",
            "diseas doctor patient organ subject line medic pain post caus\n",
            "\n",
            "Topic #41:\n",
            "jesus christian christ come peopl say write know bibl church\n",
            "\n",
            "Topic #42:\n",
            "weapon gun firearm crime state file polic control crimin like\n",
            "\n",
            "Topic #43:\n",
            "write line subject organ articl post know stanford appl like\n",
            "\n",
            "Topic #44:\n",
            "drive scsi disk control hard problem power line time work\n",
            "\n",
            "Topic #45:\n",
            "atheist exist religion atheism believ subject post religi belief write\n",
            "\n",
            "Topic #46:\n",
            "ohio state articl write line organ subject magnus post netcom\n",
            "\n",
            "Topic #47:\n",
            "cryptographi crypt cipher attack plaintext organ cryptosystem lopez ciphertext public\n",
            "\n",
            "Topic #48:\n",
            "nrhj bit wwiz byte gizw bhjn hiram bxom pnei nriz\n",
            "\n",
            "Topic #49:\n",
            "christian think question believ know write truth reason claim evid\n"
          ],
          "name": "stdout"
        }
      ]
    },
    {
      "cell_type": "code",
      "metadata": {
        "colab": {
          "base_uri": "https://localhost:8080/",
          "height": 198
        },
        "id": "LrPaQEiuGRt3",
        "outputId": "7ab91e33-1e72-414e-fe0a-0cc21a4f54a4"
      },
      "source": [
        "cluster_probabilities = lda.transform(count_data)\n",
        "data_processed['target'] = np.argmax(cluster_probabilities, axis=1)\n",
        "data_processed.head()"
      ],
      "execution_count": 20,
      "outputs": [
        {
          "output_type": "execute_result",
          "data": {
            "text/html": [
              "<div>\n",
              "<style scoped>\n",
              "    .dataframe tbody tr th:only-of-type {\n",
              "        vertical-align: middle;\n",
              "    }\n",
              "\n",
              "    .dataframe tbody tr th {\n",
              "        vertical-align: top;\n",
              "    }\n",
              "\n",
              "    .dataframe thead th {\n",
              "        text-align: right;\n",
              "    }\n",
              "</style>\n",
              "<table border=\"1\" class=\"dataframe\">\n",
              "  <thead>\n",
              "    <tr style=\"text-align: right;\">\n",
              "      <th></th>\n",
              "      <th>content</th>\n",
              "      <th>target</th>\n",
              "    </tr>\n",
              "  </thead>\n",
              "  <tbody>\n",
              "    <tr>\n",
              "      <th>0</th>\n",
              "      <td>lerxst thing subject nntp post host organ univ...</td>\n",
              "      <td>9</td>\n",
              "    </tr>\n",
              "    <tr>\n",
              "      <th>1</th>\n",
              "      <td>guykuo carson washington subject clock poll fi...</td>\n",
              "      <td>44</td>\n",
              "    </tr>\n",
              "    <tr>\n",
              "      <th>2</th>\n",
              "      <td>twilli purdu thoma willi subject question orga...</td>\n",
              "      <td>9</td>\n",
              "    </tr>\n",
              "    <tr>\n",
              "      <th>3</th>\n",
              "      <td>jgreen amber green subject weitek organ harri ...</td>\n",
              "      <td>26</td>\n",
              "    </tr>\n",
              "    <tr>\n",
              "      <th>4</th>\n",
              "      <td>head harvard jonathan mcdowel subject shuttl l...</td>\n",
              "      <td>5</td>\n",
              "    </tr>\n",
              "  </tbody>\n",
              "</table>\n",
              "</div>"
            ],
            "text/plain": [
              "                                             content  target\n",
              "0  lerxst thing subject nntp post host organ univ...       9\n",
              "1  guykuo carson washington subject clock poll fi...      44\n",
              "2  twilli purdu thoma willi subject question orga...       9\n",
              "3  jgreen amber green subject weitek organ harri ...      26\n",
              "4  head harvard jonathan mcdowel subject shuttl l...       5"
            ]
          },
          "metadata": {
            "tags": []
          },
          "execution_count": 20
        }
      ]
    },
    {
      "cell_type": "code",
      "metadata": {
        "id": "oJNJOHB9GkKP"
      },
      "source": [
        "import seaborn as sns\n"
      ],
      "execution_count": 21,
      "outputs": []
    },
    {
      "cell_type": "code",
      "metadata": {
        "colab": {
          "base_uri": "https://localhost:8080/",
          "height": 595
        },
        "id": "At3W9AMVGnga",
        "outputId": "753a6492-afa0-48cd-d2ec-fa66ab320175"
      },
      "source": [
        "fig, ax = plt.subplots(figsize=(20, 10))\n",
        "sns.countplot(x=data_processed.target);\n",
        "ax.set_title(\"Number of articles that correspond to the topic\");\n"
      ],
      "execution_count": 22,
      "outputs": [
        {
          "output_type": "display_data",
          "data": {
            "image/png": "[encoded data removed]",
            "text/plain": [
              "<Figure size 1440x720 with 1 Axes>"
            ]
          },
          "metadata": {
            "tags": [],
            "needs_background": "light"
          }
        }
      ]
    },
    {
      "cell_type": "code",
      "metadata": {
        "id": "kJ07JMrCRAYx",
        "colab": {
          "base_uri": "https://localhost:8080/"
        },
        "outputId": "c0f307ff-011e-46ef-da28-5e5a9121b5f0"
      },
      "source": [
        "#Loading the data set - training data.\n",
        "from sklearn.datasets import fetch_20newsgroups\n",
        "mydata_train = fetch_20newsgroups(subset='train', shuffle=True, remove = ('headers', 'footers', 'quotes'))"
      ],
      "execution_count": 23,
      "outputs": [
        {
          "output_type": "stream",
          "text": [
            "Downloading 20news dataset. This may take a few minutes.\n",
            "Downloading dataset from https://ndownloader.figshare.com/files/5975967 (14 MB)\n"
          ],
          "name": "stderr"
        }
      ]
    },
    {
      "cell_type": "code",
      "metadata": {
        "colab": {
          "base_uri": "https://localhost:8080/"
        },
        "id": "Bpyae_wBRHIU",
        "outputId": "deac5bce-1e9b-4045-9185-12df54aaa610"
      },
      "source": [
        "list(mydata_train)\n"
      ],
      "execution_count": 24,
      "outputs": [
        {
          "output_type": "execute_result",
          "data": {
            "text/plain": [
              "['data', 'filenames', 'target_names', 'target', 'DESCR']"
            ]
          },
          "metadata": {
            "tags": []
          },
          "execution_count": 24
        }
      ]
    },
    {
      "cell_type": "code",
      "metadata": {
        "colab": {
          "base_uri": "https://localhost:8080/"
        },
        "id": "WsmrhUPeRJ9l",
        "outputId": "acf8b36f-aaec-4c29-abf1-e4dbf4084ec8"
      },
      "source": [
        "print('Training data size:', len(mydata_train['data']))\n"
      ],
      "execution_count": 25,
      "outputs": [
        {
          "output_type": "stream",
          "text": [
            "Training data size: 11314\n"
          ],
          "name": "stdout"
        }
      ]
    },
    {
      "cell_type": "code",
      "metadata": {
        "colab": {
          "base_uri": "https://localhost:8080/"
        },
        "id": "Nv1WrOdSRONT",
        "outputId": "a2df7ec8-5212-4af2-81c2-23d78ecb9136"
      },
      "source": [
        "# Printing all the categories\n",
        "mydata_train.target_names"
      ],
      "execution_count": 26,
      "outputs": [
        {
          "output_type": "execute_result",
          "data": {
            "text/plain": [
              "['alt.atheism',\n",
              " 'comp.graphics',\n",
              " 'comp.os.ms-windows.misc',\n",
              " 'comp.sys.ibm.pc.hardware',\n",
              " 'comp.sys.mac.hardware',\n",
              " 'comp.windows.x',\n",
              " 'misc.forsale',\n",
              " 'rec.autos',\n",
              " 'rec.motorcycles',\n",
              " 'rec.sport.baseball',\n",
              " 'rec.sport.hockey',\n",
              " 'sci.crypt',\n",
              " 'sci.electronics',\n",
              " 'sci.med',\n",
              " 'sci.space',\n",
              " 'soc.religion.christian',\n",
              " 'talk.politics.guns',\n",
              " 'talk.politics.mideast',\n",
              " 'talk.politics.misc',\n",
              " 'talk.religion.misc']"
            ]
          },
          "metadata": {
            "tags": []
          },
          "execution_count": 26
        }
      ]
    },
    {
      "cell_type": "code",
      "metadata": {
        "colab": {
          "base_uri": "https://localhost:8080/"
        },
        "id": "krZedPVlRRxL",
        "outputId": "15337edd-6111-4405-c358-1c95c7bc7151"
      },
      "source": [
        "\n",
        "# Finding frequency of each category\n",
        "targets, frequency = np.unique(mydata_train.target, return_counts=True)\n",
        "targets, frequency"
      ],
      "execution_count": 27,
      "outputs": [
        {
          "output_type": "execute_result",
          "data": {
            "text/plain": [
              "(array([ 0,  1,  2,  3,  4,  5,  6,  7,  8,  9, 10, 11, 12, 13, 14, 15, 16,\n",
              "        17, 18, 19]),\n",
              " array([480, 584, 591, 590, 578, 593, 585, 594, 598, 597, 600, 595, 591,\n",
              "        594, 593, 599, 546, 564, 465, 377]))"
            ]
          },
          "metadata": {
            "tags": []
          },
          "execution_count": 27
        }
      ]
    },
    {
      "cell_type": "code",
      "metadata": {
        "colab": {
          "base_uri": "https://localhost:8080/"
        },
        "id": "lSr8qhRVRWTb",
        "outputId": "8f971569-3281-4bb0-db96-e43f1100808f"
      },
      "source": [
        "targets_str = np.array(mydata_train.target_names)\n",
        "print(list(zip(targets_str, frequency)))"
      ],
      "execution_count": 28,
      "outputs": [
        {
          "output_type": "stream",
          "text": [
            "[('alt.atheism', 480), ('comp.graphics', 584), ('comp.os.ms-windows.misc', 591), ('comp.sys.ibm.pc.hardware', 590), ('comp.sys.mac.hardware', 578), ('comp.windows.x', 593), ('misc.forsale', 585), ('rec.autos', 594), ('rec.motorcycles', 598), ('rec.sport.baseball', 597), ('rec.sport.hockey', 600), ('sci.crypt', 595), ('sci.electronics', 591), ('sci.med', 594), ('sci.space', 593), ('soc.religion.christian', 599), ('talk.politics.guns', 546), ('talk.politics.mideast', 564), ('talk.politics.misc', 465), ('talk.religion.misc', 377)]\n"
          ],
          "name": "stdout"
        }
      ]
    },
    {
      "cell_type": "code",
      "metadata": {
        "id": "1pZ_KnVPRZSm"
      },
      "source": [
        "mydata_test = fetch_20newsgroups(subset='test', shuffle=True, remove = ('headers', 'footers', 'quotes'))\n"
      ],
      "execution_count": 29,
      "outputs": []
    },
    {
      "cell_type": "code",
      "metadata": {
        "colab": {
          "base_uri": "https://localhost:8080/"
        },
        "id": "IEcSYoJmRcUc",
        "outputId": "14052537-b322-4ce9-f69b-87b6e1ac9b59"
      },
      "source": [
        "print('Testing data size:', len(mydata_test['data']))\n"
      ],
      "execution_count": 30,
      "outputs": [
        {
          "output_type": "stream",
          "text": [
            "Testing data size: 7532\n"
          ],
          "name": "stdout"
        }
      ]
    },
    {
      "cell_type": "code",
      "metadata": {
        "colab": {
          "base_uri": "https://localhost:8080/",
          "height": 198
        },
        "id": "_aSKch0QRf_o",
        "outputId": "53dd83e7-2490-4d66-8e9e-010db6014e6c"
      },
      "source": [
        "mydata_train_df = pd.DataFrame({'data': mydata_train.data, 'target': mydata_train.target})\n",
        "mydata_train_df.head()"
      ],
      "execution_count": 31,
      "outputs": [
        {
          "output_type": "execute_result",
          "data": {
            "text/html": [
              "<div>\n",
              "<style scoped>\n",
              "    .dataframe tbody tr th:only-of-type {\n",
              "        vertical-align: middle;\n",
              "    }\n",
              "\n",
              "    .dataframe tbody tr th {\n",
              "        vertical-align: top;\n",
              "    }\n",
              "\n",
              "    .dataframe thead th {\n",
              "        text-align: right;\n",
              "    }\n",
              "</style>\n",
              "<table border=\"1\" class=\"dataframe\">\n",
              "  <thead>\n",
              "    <tr style=\"text-align: right;\">\n",
              "      <th></th>\n",
              "      <th>data</th>\n",
              "      <th>target</th>\n",
              "    </tr>\n",
              "  </thead>\n",
              "  <tbody>\n",
              "    <tr>\n",
              "      <th>0</th>\n",
              "      <td>I was wondering if anyone out there could enli...</td>\n",
              "      <td>7</td>\n",
              "    </tr>\n",
              "    <tr>\n",
              "      <th>1</th>\n",
              "      <td>A fair number of brave souls who upgraded thei...</td>\n",
              "      <td>4</td>\n",
              "    </tr>\n",
              "    <tr>\n",
              "      <th>2</th>\n",
              "      <td>well folks, my mac plus finally gave up the gh...</td>\n",
              "      <td>4</td>\n",
              "    </tr>\n",
              "    <tr>\n",
              "      <th>3</th>\n",
              "      <td>\\nDo you have Weitek's address/phone number?  ...</td>\n",
              "      <td>1</td>\n",
              "    </tr>\n",
              "    <tr>\n",
              "      <th>4</th>\n",
              "      <td>From article &lt;C5owCB.n3p@world.std.com&gt;, by to...</td>\n",
              "      <td>14</td>\n",
              "    </tr>\n",
              "  </tbody>\n",
              "</table>\n",
              "</div>"
            ],
            "text/plain": [
              "                                                data  target\n",
              "0  I was wondering if anyone out there could enli...       7\n",
              "1  A fair number of brave souls who upgraded thei...       4\n",
              "2  well folks, my mac plus finally gave up the gh...       4\n",
              "3  \\nDo you have Weitek's address/phone number?  ...       1\n",
              "4  From article <C5owCB.n3p@world.std.com>, by to...      14"
            ]
          },
          "metadata": {
            "tags": []
          },
          "execution_count": 31
        }
      ]
    },
    {
      "cell_type": "code",
      "metadata": {
        "colab": {
          "base_uri": "https://localhost:8080/",
          "height": 198
        },
        "id": "ttru-cT7Rj9K",
        "outputId": "443b3f1c-7aef-42ff-9d82-71a3d3cbf641"
      },
      "source": [
        "# Text preprocessing steps - remove numbers, captial letters and punctuation\n",
        "import re\n",
        "import string\n",
        "\n",
        "alphanumeric = lambda x: re.sub(r\"\"\"\\w*\\d\\w*\"\"\", ' ', x)\n",
        "punc_lower = lambda x: re.sub('[%s]' % re.escape(string.punctuation), ' ', x.lower())\n",
        "\n",
        "mydata_train_df['data'] = mydata_train_df.data.map(alphanumeric).map(punc_lower)\n",
        "mydata_train_df.head()"
      ],
      "execution_count": 32,
      "outputs": [
        {
          "output_type": "execute_result",
          "data": {
            "text/html": [
              "<div>\n",
              "<style scoped>\n",
              "    .dataframe tbody tr th:only-of-type {\n",
              "        vertical-align: middle;\n",
              "    }\n",
              "\n",
              "    .dataframe tbody tr th {\n",
              "        vertical-align: top;\n",
              "    }\n",
              "\n",
              "    .dataframe thead th {\n",
              "        text-align: right;\n",
              "    }\n",
              "</style>\n",
              "<table border=\"1\" class=\"dataframe\">\n",
              "  <thead>\n",
              "    <tr style=\"text-align: right;\">\n",
              "      <th></th>\n",
              "      <th>data</th>\n",
              "      <th>target</th>\n",
              "    </tr>\n",
              "  </thead>\n",
              "  <tbody>\n",
              "    <tr>\n",
              "      <th>0</th>\n",
              "      <td>i was wondering if anyone out there could enli...</td>\n",
              "      <td>7</td>\n",
              "    </tr>\n",
              "    <tr>\n",
              "      <th>1</th>\n",
              "      <td>a fair number of brave souls who upgraded thei...</td>\n",
              "      <td>4</td>\n",
              "    </tr>\n",
              "    <tr>\n",
              "      <th>2</th>\n",
              "      <td>well folks  my mac plus finally gave up the gh...</td>\n",
              "      <td>4</td>\n",
              "    </tr>\n",
              "    <tr>\n",
              "      <th>3</th>\n",
              "      <td>\\ndo you have weitek s address phone number   ...</td>\n",
              "      <td>1</td>\n",
              "    </tr>\n",
              "    <tr>\n",
              "      <th>4</th>\n",
              "      <td>from article      world std com   by tombaker ...</td>\n",
              "      <td>14</td>\n",
              "    </tr>\n",
              "  </tbody>\n",
              "</table>\n",
              "</div>"
            ],
            "text/plain": [
              "                                                data  target\n",
              "0  i was wondering if anyone out there could enli...       7\n",
              "1  a fair number of brave souls who upgraded thei...       4\n",
              "2  well folks  my mac plus finally gave up the gh...       4\n",
              "3  \\ndo you have weitek s address phone number   ...       1\n",
              "4  from article      world std com   by tombaker ...      14"
            ]
          },
          "metadata": {
            "tags": []
          },
          "execution_count": 32
        }
      ]
    },
    {
      "cell_type": "code",
      "metadata": {
        "colab": {
          "base_uri": "https://localhost:8080/",
          "height": 198
        },
        "id": "8f6jlH07RoBH",
        "outputId": "08c5f783-6f0b-4af7-d1b7-a10d4637b5ec"
      },
      "source": [
        "mydata_test_df = pd.DataFrame({'data': mydata_test.data, 'target': mydata_test.target})\n",
        "mydata_test_df.head()"
      ],
      "execution_count": 33,
      "outputs": [
        {
          "output_type": "execute_result",
          "data": {
            "text/html": [
              "<div>\n",
              "<style scoped>\n",
              "    .dataframe tbody tr th:only-of-type {\n",
              "        vertical-align: middle;\n",
              "    }\n",
              "\n",
              "    .dataframe tbody tr th {\n",
              "        vertical-align: top;\n",
              "    }\n",
              "\n",
              "    .dataframe thead th {\n",
              "        text-align: right;\n",
              "    }\n",
              "</style>\n",
              "<table border=\"1\" class=\"dataframe\">\n",
              "  <thead>\n",
              "    <tr style=\"text-align: right;\">\n",
              "      <th></th>\n",
              "      <th>data</th>\n",
              "      <th>target</th>\n",
              "    </tr>\n",
              "  </thead>\n",
              "  <tbody>\n",
              "    <tr>\n",
              "      <th>0</th>\n",
              "      <td>I am a little confused on all of the models of...</td>\n",
              "      <td>7</td>\n",
              "    </tr>\n",
              "    <tr>\n",
              "      <th>1</th>\n",
              "      <td>I'm not familiar at all with the format of the...</td>\n",
              "      <td>5</td>\n",
              "    </tr>\n",
              "    <tr>\n",
              "      <th>2</th>\n",
              "      <td>\\nIn a word, yes.\\n</td>\n",
              "      <td>0</td>\n",
              "    </tr>\n",
              "    <tr>\n",
              "      <th>3</th>\n",
              "      <td>\\nThey were attacking the Iraqis to drive them...</td>\n",
              "      <td>17</td>\n",
              "    </tr>\n",
              "    <tr>\n",
              "      <th>4</th>\n",
              "      <td>\\nI've just spent two solid months arguing tha...</td>\n",
              "      <td>19</td>\n",
              "    </tr>\n",
              "  </tbody>\n",
              "</table>\n",
              "</div>"
            ],
            "text/plain": [
              "                                                data  target\n",
              "0  I am a little confused on all of the models of...       7\n",
              "1  I'm not familiar at all with the format of the...       5\n",
              "2                                \\nIn a word, yes.\\n       0\n",
              "3  \\nThey were attacking the Iraqis to drive them...      17\n",
              "4  \\nI've just spent two solid months arguing tha...      19"
            ]
          },
          "metadata": {
            "tags": []
          },
          "execution_count": 33
        }
      ]
    },
    {
      "cell_type": "code",
      "metadata": {
        "colab": {
          "base_uri": "https://localhost:8080/",
          "height": 198
        },
        "id": "tUjU5KP5RrlP",
        "outputId": "8c3bb5e5-509e-4dd6-da02-6385b3470088"
      },
      "source": [
        "# Text preprocessing steps - remove numbers, captial letters and punctuation\n",
        "alphanumeric = lambda x: re.sub(r\"\"\"\\w*\\d\\w*\"\"\", ' ', x)\n",
        "punc_lower = lambda x: re.sub('[%s]' % re.escape(string.punctuation), ' ', x.lower())\n",
        "\n",
        "mydata_test_df['data'] = mydata_test_df.data.map(alphanumeric).map(punc_lower)\n",
        "mydata_test_df.head()"
      ],
      "execution_count": 34,
      "outputs": [
        {
          "output_type": "execute_result",
          "data": {
            "text/html": [
              "<div>\n",
              "<style scoped>\n",
              "    .dataframe tbody tr th:only-of-type {\n",
              "        vertical-align: middle;\n",
              "    }\n",
              "\n",
              "    .dataframe tbody tr th {\n",
              "        vertical-align: top;\n",
              "    }\n",
              "\n",
              "    .dataframe thead th {\n",
              "        text-align: right;\n",
              "    }\n",
              "</style>\n",
              "<table border=\"1\" class=\"dataframe\">\n",
              "  <thead>\n",
              "    <tr style=\"text-align: right;\">\n",
              "      <th></th>\n",
              "      <th>data</th>\n",
              "      <th>target</th>\n",
              "    </tr>\n",
              "  </thead>\n",
              "  <tbody>\n",
              "    <tr>\n",
              "      <th>0</th>\n",
              "      <td>i am a little confused on all of the models of...</td>\n",
              "      <td>7</td>\n",
              "    </tr>\n",
              "    <tr>\n",
              "      <th>1</th>\n",
              "      <td>i m not familiar at all with the format of the...</td>\n",
              "      <td>5</td>\n",
              "    </tr>\n",
              "    <tr>\n",
              "      <th>2</th>\n",
              "      <td>\\nin a word  yes \\n</td>\n",
              "      <td>0</td>\n",
              "    </tr>\n",
              "    <tr>\n",
              "      <th>3</th>\n",
              "      <td>\\nthey were attacking the iraqis to drive them...</td>\n",
              "      <td>17</td>\n",
              "    </tr>\n",
              "    <tr>\n",
              "      <th>4</th>\n",
              "      <td>\\ni ve just spent two solid months arguing tha...</td>\n",
              "      <td>19</td>\n",
              "    </tr>\n",
              "  </tbody>\n",
              "</table>\n",
              "</div>"
            ],
            "text/plain": [
              "                                                data  target\n",
              "0  i am a little confused on all of the models of...       7\n",
              "1  i m not familiar at all with the format of the...       5\n",
              "2                                \\nin a word  yes \\n       0\n",
              "3  \\nthey were attacking the iraqis to drive them...      17\n",
              "4  \\ni ve just spent two solid months arguing tha...      19"
            ]
          },
          "metadata": {
            "tags": []
          },
          "execution_count": 34
        }
      ]
    },
    {
      "cell_type": "code",
      "metadata": {
        "colab": {
          "base_uri": "https://localhost:8080/"
        },
        "id": "yUELDX2-bNNg",
        "outputId": "46f4b006-3ac8-4b87-cdd6-ff06ad7d25b0"
      },
      "source": [
        "# Extracting features from text files\n",
        "from sklearn.feature_extraction.text import CountVectorizer\n",
        "count_vect = CountVectorizer(stop_words='english')\n",
        "X_train_cv = count_vect.fit_transform(mydata_train_df.data) # fit_transform learns the\n",
        "X_test_cv = count_vect.transform(mydata_test_df.data) # transform uses the same vocab an\n",
        "print(X_train_cv.shape)\n",
        "print(type(X_train_cv))"
      ],
      "execution_count": 35,
      "outputs": [
        {
          "output_type": "stream",
          "text": [
            "(11314, 67822)\n",
            "<class 'scipy.sparse.csr.csr_matrix'>\n"
          ],
          "name": "stdout"
        }
      ]
    },
    {
      "cell_type": "code",
      "metadata": {
        "id": "cRUtZ9-VAkiY"
      },
      "source": [
        "import numpy as np\n",
        "\n",
        "from tqdm import tqdm\n",
        "\n",
        "from sklearn.datasets import fetch_20newsgroups\n",
        "\n",
        "from keras.preprocessing.text import Tokenizer\n",
        "from keras.preprocessing.sequence import pad_sequences\n",
        "from keras.utils.np_utils import to_categorical\n",
        "from keras.layers import Dense, Input, Flatten\n",
        "from keras.layers import Conv1D, MaxPooling1D, Embedding, Dropout\n",
        "from keras.models import Model"
      ],
      "execution_count": 36,
      "outputs": []
    },
    {
      "cell_type": "code",
      "metadata": {
        "colab": {
          "base_uri": "https://localhost:8080/"
        },
        "id": "4Oz3FjnHAqOw",
        "outputId": "70b5c15c-4a84-4275-a2f1-081d72569950"
      },
      "source": [
        "categories = ['alt.atheism', 'soc.religion.christian'] \n",
        "\n",
        "newsgroups_train = fetch_20newsgroups(subset='train', shuffle=True, \n",
        "                                      categories=categories,)\n",
        "\n",
        "print (newsgroups_train.target_names)\n",
        "print (len(newsgroups_train.data))\n",
        "\n",
        "#print (newsgroups_train.data[1])\n",
        "print(\"\\n\".join(newsgroups_train.data[0].split(\"\\n\")[10:15]))"
      ],
      "execution_count": 37,
      "outputs": [
        {
          "output_type": "stream",
          "text": [
            "['alt.atheism', 'soc.religion.christian']\n",
            "1079\n",
            "   WASHINGTON, April 19  -- A symposium on the Dead Sea \n",
            "Scrolls will be held at the Library of Congress on Wednesday,\n",
            "April 21, and Thursday, April 22.  The two-day program, cosponsored\n",
            "by the library and Baltimore Hebrew University, with additional\n",
            "support from the Project Judaica Foundation, will be held in the\n"
          ],
          "name": "stdout"
        }
      ]
    },
    {
      "cell_type": "code",
      "metadata": {
        "colab": {
          "base_uri": "https://localhost:8080/"
        },
        "id": "I9VVEyQWAu6m",
        "outputId": "c9161f4a-a324-46ef-cb60-b39e27209f18"
      },
      "source": [
        "%%time\n",
        "\n",
        "texts = []\n",
        "\n",
        "labels=newsgroups_train.target\n",
        "texts = newsgroups_train.data\n",
        "\n",
        "MAX_SEQUENCE_LENGTH = 1000\n",
        "MAX_NB_WORDS = 20000\n",
        "\n",
        "tokenizer = Tokenizer(num_words=MAX_NB_WORDS)\n",
        "tokenizer.fit_on_texts(texts)\n",
        "\n",
        "sequences = tokenizer.texts_to_sequences(texts)\n",
        "\n",
        "print (sequences[0][:10])"
      ],
      "execution_count": 38,
      "outputs": [
        {
          "output_type": "stream",
          "text": [
            "[19, 8762, 3621, 11894, 58, 8762, 3621, 43, 1472, 2]\n",
            "CPU times: user 446 ms, sys: 7.95 ms, total: 454 ms\n",
            "Wall time: 455 ms\n"
          ],
          "name": "stdout"
        }
      ]
    },
    {
      "cell_type": "code",
      "metadata": {
        "colab": {
          "base_uri": "https://localhost:8080/"
        },
        "id": "8C-jZJV1Ay0E",
        "outputId": "4bff1938-1439-4c6e-f377-fc4de5abefac"
      },
      "source": [
        "word_index = tokenizer.word_index\n",
        "\n",
        "print('Found %s unique tokens.' % len(word_index))"
      ],
      "execution_count": 39,
      "outputs": [
        {
          "output_type": "stream",
          "text": [
            "Found 20030 unique tokens.\n"
          ],
          "name": "stdout"
        }
      ]
    },
    {
      "cell_type": "code",
      "metadata": {
        "colab": {
          "base_uri": "https://localhost:8080/"
        },
        "id": "I3leeqbJA1-q",
        "outputId": "226b15b6-b6b5-41ae-aaec-ded2430c6018"
      },
      "source": [
        "data = pad_sequences(sequences, maxlen=MAX_SEQUENCE_LENGTH)\n",
        "\n",
        "print (data.shape)\n",
        "print (data[0][200:250])"
      ],
      "execution_count": 40,
      "outputs": [
        {
          "output_type": "stream",
          "text": [
            "(1079, 1000)\n",
            "[    0     0     0     0     0     0     0     0     0     0     0     0\n",
            "     0     0     0     0     0     0     0     0     0     0     0     0\n",
            "     0     0     0     0     0    19  8762  3621 11894    58  8762  3621\n",
            "    43  1472     2  2130     3   189   450  1001  3622  2980  1682   476\n",
            "   627    50]\n"
          ],
          "name": "stdout"
        }
      ]
    },
    {
      "cell_type": "code",
      "metadata": {
        "colab": {
          "base_uri": "https://localhost:8080/"
        },
        "id": "TATKrjgmA6lK",
        "outputId": "c340d976-a732-4a3f-989f-3c98724928e7"
      },
      "source": [
        "labels = to_categorical(np.array(labels))\n",
        "\n",
        "print('Shape of data tensor:', data.shape)\n",
        "print('Shape of label tensor:', labels.shape)"
      ],
      "execution_count": 41,
      "outputs": [
        {
          "output_type": "stream",
          "text": [
            "Shape of data tensor: (1079, 1000)\n",
            "Shape of label tensor: (1079, 2)\n"
          ],
          "name": "stdout"
        }
      ]
    },
    {
      "cell_type": "code",
      "metadata": {
        "colab": {
          "base_uri": "https://localhost:8080/"
        },
        "id": "tKD1nppNA_cG",
        "outputId": "7bde4aa5-9c2a-4d9a-a30c-f51bd41c3ce0"
      },
      "source": [
        "VALIDATION_SPLIT = 0.1\n",
        "\n",
        "indices = np.arange(data.shape[0])\n",
        "np.random.shuffle(indices) \n",
        "data = data[indices] \n",
        "labels = labels[indices] \n",
        "nb_validation_samples = int(VALIDATION_SPLIT * data.shape[0])\n",
        "\n",
        "x_train = data[:-nb_validation_samples] \n",
        "y_train = labels[:-nb_validation_samples] \n",
        "x_val = data[-nb_validation_samples:] \n",
        "y_val = labels[-nb_validation_samples:] \n",
        "\n",
        "print (x_train.shape)\n",
        "print (y_train.shape)\n",
        "\n",
        "print('Number of positive and negative reviews in traing and validation set ') \n",
        "print (y_train.sum(axis=0))\n",
        "print (y_val.sum(axis=0))\n"
      ],
      "execution_count": 42,
      "outputs": [
        {
          "output_type": "stream",
          "text": [
            "(972, 1000)\n",
            "(972, 2)\n",
            "Number of positive and negative reviews in traing and validation set \n",
            "[439. 533.]\n",
            "[41. 66.]\n"
          ],
          "name": "stdout"
        }
      ]
    },
    {
      "cell_type": "code",
      "metadata": {
        "colab": {
          "base_uri": "https://localhost:8080/",
          "height": 244
        },
        "id": "1jN7GicoBSkh",
        "outputId": "ab213119-6407-44ed-8f18-c71c8080e7fb"
      },
      "source": [
        "EMBEDDING_DIM = 100\n",
        "\n",
        "embedding_matrix = np.random.random((len(word_index) + 1, EMBEDDING_DIM))\n",
        "\n",
        "for word, i in word_index.items():\n",
        "  embedding_vector = embeddings_index.get(word)\n",
        "  if embedding_vector is not None:\n",
        "    # words not found in embedding index will be all-zeros.\n",
        "    embedding_matrix[i] = embedding_vector\n",
        "\n",
        "print (embedding_matrix.shape)\n",
        "\n",
        "print (embedding_matrix[0][:10])"
      ],
      "execution_count": 43,
      "outputs": [
        {
          "output_type": "error",
          "ename": "NameError",
          "evalue": "ignored",
          "traceback": [
            "\u001b[0;31m---------------------------------------------------------------------------\u001b[0m",
            "\u001b[0;31mNameError\u001b[0m                                 Traceback (most recent call last)",
            "\u001b[0;32m<ipython-input-43-6fb53264530f>\u001b[0m in \u001b[0;36m<module>\u001b[0;34m()\u001b[0m\n\u001b[1;32m      4\u001b[0m \u001b[0;34m\u001b[0m\u001b[0m\n\u001b[1;32m      5\u001b[0m \u001b[0;32mfor\u001b[0m \u001b[0mword\u001b[0m\u001b[0;34m,\u001b[0m \u001b[0mi\u001b[0m \u001b[0;32min\u001b[0m \u001b[0mword_index\u001b[0m\u001b[0;34m.\u001b[0m\u001b[0mitems\u001b[0m\u001b[0;34m(\u001b[0m\u001b[0;34m)\u001b[0m\u001b[0;34m:\u001b[0m\u001b[0;34m\u001b[0m\u001b[0;34m\u001b[0m\u001b[0m\n\u001b[0;32m----> 6\u001b[0;31m   \u001b[0membedding_vector\u001b[0m \u001b[0;34m=\u001b[0m \u001b[0membeddings_index\u001b[0m\u001b[0;34m.\u001b[0m\u001b[0mget\u001b[0m\u001b[0;34m(\u001b[0m\u001b[0mword\u001b[0m\u001b[0;34m)\u001b[0m\u001b[0;34m\u001b[0m\u001b[0;34m\u001b[0m\u001b[0m\n\u001b[0m\u001b[1;32m      7\u001b[0m   \u001b[0;32mif\u001b[0m \u001b[0membedding_vector\u001b[0m \u001b[0;32mis\u001b[0m \u001b[0;32mnot\u001b[0m \u001b[0;32mNone\u001b[0m\u001b[0;34m:\u001b[0m\u001b[0;34m\u001b[0m\u001b[0;34m\u001b[0m\u001b[0m\n\u001b[1;32m      8\u001b[0m     \u001b[0;31m# words not found in embedding index will be all-zeros.\u001b[0m\u001b[0;34m\u001b[0m\u001b[0;34m\u001b[0m\u001b[0;34m\u001b[0m\u001b[0m\n",
            "\u001b[0;31mNameError\u001b[0m: name 'embeddings_index' is not defined"
          ]
        }
      ]
    },
    {
      "cell_type": "code",
      "metadata": {
        "colab": {
          "base_uri": "https://localhost:8080/"
        },
        "id": "StT4yPYaBUgr",
        "outputId": "f11a38bf-f28d-4320-de87-733f9e32556a"
      },
      "source": [
        "embedding_layer = Embedding(len(word_index) + 1, EMBEDDING_DIM,\n",
        "                            weights=[embedding_matrix], \n",
        "                            input_length=MAX_SEQUENCE_LENGTH, \n",
        "                            trainable=False)\n",
        "\n",
        "sequence_input = Input(shape=(MAX_SEQUENCE_LENGTH,), dtype='int32') \n",
        "embedded_sequences = embedding_layer(sequence_input) \n",
        "l_cov1= Conv1D(128, 5, activation='relu')(embedded_sequences) \n",
        "l_pool1 = MaxPooling1D(5)(l_cov1) \n",
        "l_cov2 = Conv1D(128, 5, activation='relu')(l_pool1) \n",
        "l_pool2 = MaxPooling1D(5)(l_cov2) \n",
        "l_cov3 = Conv1D(128, 5, activation='relu')(l_pool2) \n",
        "l_pool3 = MaxPooling1D(35)(l_cov3)  # global max pooling\n",
        "\n",
        "l_flat = Flatten()(l_pool3) \n",
        "l_dense = Dense(128, activation='relu')(l_flat) \n",
        "preds = Dense(2, activation='softmax')(l_dense)\n",
        "\n",
        "model = Model(sequence_input, preds)\n",
        "\n",
        "model.summary()"
      ],
      "execution_count": 44,
      "outputs": [
        {
          "output_type": "stream",
          "text": [
            "Model: \"model\"\n",
            "_________________________________________________________________\n",
            "Layer (type)                 Output Shape              Param #   \n",
            "=================================================================\n",
            "input_1 (InputLayer)         [(None, 1000)]            0         \n",
            "_________________________________________________________________\n",
            "embedding (Embedding)        (None, 1000, 100)         2003100   \n",
            "_________________________________________________________________\n",
            "conv1d (Conv1D)              (None, 996, 128)          64128     \n",
            "_________________________________________________________________\n",
            "max_pooling1d (MaxPooling1D) (None, 199, 128)          0         \n",
            "_________________________________________________________________\n",
            "conv1d_1 (Conv1D)            (None, 195, 128)          82048     \n",
            "_________________________________________________________________\n",
            "max_pooling1d_1 (MaxPooling1 (None, 39, 128)           0         \n",
            "_________________________________________________________________\n",
            "conv1d_2 (Conv1D)            (None, 35, 128)           82048     \n",
            "_________________________________________________________________\n",
            "max_pooling1d_2 (MaxPooling1 (None, 1, 128)            0         \n",
            "_________________________________________________________________\n",
            "flatten (Flatten)            (None, 128)               0         \n",
            "_________________________________________________________________\n",
            "dense (Dense)                (None, 128)               16512     \n",
            "_________________________________________________________________\n",
            "dense_1 (Dense)              (None, 2)                 258       \n",
            "=================================================================\n",
            "Total params: 2,248,094\n",
            "Trainable params: 244,994\n",
            "Non-trainable params: 2,003,100\n",
            "_________________________________________________________________\n"
          ],
          "name": "stdout"
        }
      ]
    },
    {
      "cell_type": "code",
      "metadata": {
        "colab": {
          "base_uri": "https://localhost:8080/"
        },
        "id": "ohWKe6xrBfGj",
        "outputId": "f537f7c3-b1f8-4150-a1c2-bf021f53cd47"
      },
      "source": [
        "model.compile(loss='categorical_crossentropy', optimizer='adam',metrics=['acc'])\n",
        "\n",
        "history = model.fit(x_train, y_train, validation_data=(x_val, y_val),\n",
        "                    epochs=500, batch_size=512)   "
      ],
      "execution_count": 45,
      "outputs": [
        {
          "output_type": "stream",
          "text": [
            "Epoch 1/500\n",
            "2/2 [==============================] - 32s 1s/step - loss: 0.9075 - acc: 0.4776 - val_loss: 0.6688 - val_acc: 0.6168\n",
            "Epoch 2/500\n",
            "2/2 [==============================] - 0s 206ms/step - loss: 0.7072 - acc: 0.5183 - val_loss: 0.7371 - val_acc: 0.3832\n",
            "Epoch 3/500\n",
            "2/2 [==============================] - 0s 206ms/step - loss: 0.7084 - acc: 0.4580 - val_loss: 0.6733 - val_acc: 0.6168\n",
            "Epoch 4/500\n",
            "2/2 [==============================] - 0s 208ms/step - loss: 0.6911 - acc: 0.5485 - val_loss: 0.6652 - val_acc: 0.6168\n",
            "Epoch 5/500\n",
            "2/2 [==============================] - 0s 206ms/step - loss: 0.6988 - acc: 0.5381 - val_loss: 0.6865 - val_acc: 0.5794\n",
            "Epoch 6/500\n",
            "2/2 [==============================] - 0s 204ms/step - loss: 0.6893 - acc: 0.5541 - val_loss: 0.6808 - val_acc: 0.6168\n",
            "Epoch 7/500\n",
            "2/2 [==============================] - 0s 207ms/step - loss: 0.6872 - acc: 0.5531 - val_loss: 0.6698 - val_acc: 0.6168\n",
            "Epoch 8/500\n",
            "2/2 [==============================] - 0s 208ms/step - loss: 0.6858 - acc: 0.5544 - val_loss: 0.6753 - val_acc: 0.6168\n",
            "Epoch 9/500\n",
            "2/2 [==============================] - 0s 203ms/step - loss: 0.6859 - acc: 0.5539 - val_loss: 0.6836 - val_acc: 0.6262\n",
            "Epoch 10/500\n",
            "2/2 [==============================] - 0s 212ms/step - loss: 0.6864 - acc: 0.5606 - val_loss: 0.6704 - val_acc: 0.6168\n",
            "Epoch 11/500\n",
            "2/2 [==============================] - 0s 214ms/step - loss: 0.6857 - acc: 0.5492 - val_loss: 0.6701 - val_acc: 0.6168\n",
            "Epoch 12/500\n",
            "2/2 [==============================] - 0s 207ms/step - loss: 0.6876 - acc: 0.5441 - val_loss: 0.6828 - val_acc: 0.6075\n",
            "Epoch 13/500\n",
            "2/2 [==============================] - 0s 204ms/step - loss: 0.6853 - acc: 0.5608 - val_loss: 0.6713 - val_acc: 0.6168\n",
            "Epoch 14/500\n",
            "2/2 [==============================] - 0s 208ms/step - loss: 0.6843 - acc: 0.5479 - val_loss: 0.6698 - val_acc: 0.6168\n",
            "Epoch 15/500\n",
            "2/2 [==============================] - 0s 205ms/step - loss: 0.6844 - acc: 0.5479 - val_loss: 0.6809 - val_acc: 0.6075\n",
            "Epoch 16/500\n",
            "2/2 [==============================] - 0s 205ms/step - loss: 0.6828 - acc: 0.5700 - val_loss: 0.6725 - val_acc: 0.6168\n",
            "Epoch 17/500\n",
            "2/2 [==============================] - 0s 203ms/step - loss: 0.6813 - acc: 0.5550 - val_loss: 0.6702 - val_acc: 0.6168\n",
            "Epoch 18/500\n",
            "2/2 [==============================] - 0s 208ms/step - loss: 0.6837 - acc: 0.5502 - val_loss: 0.6821 - val_acc: 0.5981\n",
            "Epoch 19/500\n",
            "2/2 [==============================] - 0s 206ms/step - loss: 0.6807 - acc: 0.5656 - val_loss: 0.6671 - val_acc: 0.6168\n",
            "Epoch 20/500\n",
            "2/2 [==============================] - 0s 210ms/step - loss: 0.6805 - acc: 0.5544 - val_loss: 0.6669 - val_acc: 0.6168\n",
            "Epoch 21/500\n",
            "2/2 [==============================] - 0s 203ms/step - loss: 0.6754 - acc: 0.5653 - val_loss: 0.6896 - val_acc: 0.5701\n",
            "Epoch 22/500\n",
            "2/2 [==============================] - 0s 207ms/step - loss: 0.6805 - acc: 0.6825 - val_loss: 0.6718 - val_acc: 0.5981\n",
            "Epoch 23/500\n",
            "2/2 [==============================] - 0s 210ms/step - loss: 0.6756 - acc: 0.5691 - val_loss: 0.6637 - val_acc: 0.6168\n",
            "Epoch 24/500\n",
            "2/2 [==============================] - 0s 205ms/step - loss: 0.6771 - acc: 0.5631 - val_loss: 0.6757 - val_acc: 0.6075\n",
            "Epoch 25/500\n",
            "2/2 [==============================] - 0s 208ms/step - loss: 0.6725 - acc: 0.5934 - val_loss: 0.6671 - val_acc: 0.6168\n",
            "Epoch 26/500\n",
            "2/2 [==============================] - 0s 205ms/step - loss: 0.6696 - acc: 0.5930 - val_loss: 0.6678 - val_acc: 0.6168\n",
            "Epoch 27/500\n",
            "2/2 [==============================] - 0s 205ms/step - loss: 0.6669 - acc: 0.5921 - val_loss: 0.6646 - val_acc: 0.6168\n",
            "Epoch 28/500\n",
            "2/2 [==============================] - 0s 206ms/step - loss: 0.6631 - acc: 0.5982 - val_loss: 0.6664 - val_acc: 0.6262\n",
            "Epoch 29/500\n",
            "2/2 [==============================] - 0s 203ms/step - loss: 0.6611 - acc: 0.6059 - val_loss: 0.6551 - val_acc: 0.6355\n",
            "Epoch 30/500\n",
            "2/2 [==============================] - 0s 207ms/step - loss: 0.6565 - acc: 0.6046 - val_loss: 0.6568 - val_acc: 0.6449\n",
            "Epoch 31/500\n",
            "2/2 [==============================] - 0s 205ms/step - loss: 0.6519 - acc: 0.6303 - val_loss: 0.6469 - val_acc: 0.6262\n",
            "Epoch 32/500\n",
            "2/2 [==============================] - 0s 206ms/step - loss: 0.6486 - acc: 0.6899 - val_loss: 0.6334 - val_acc: 0.6542\n",
            "Epoch 33/500\n",
            "2/2 [==============================] - 0s 210ms/step - loss: 0.6424 - acc: 0.6015 - val_loss: 0.6477 - val_acc: 0.7570\n",
            "Epoch 34/500\n",
            "2/2 [==============================] - 0s 208ms/step - loss: 0.6288 - acc: 0.7404 - val_loss: 0.6277 - val_acc: 0.7757\n",
            "Epoch 35/500\n",
            "2/2 [==============================] - 0s 212ms/step - loss: 0.6156 - acc: 0.7196 - val_loss: 0.6156 - val_acc: 0.7850\n",
            "Epoch 36/500\n",
            "2/2 [==============================] - 0s 227ms/step - loss: 0.6033 - acc: 0.7278 - val_loss: 0.6930 - val_acc: 0.3925\n",
            "Epoch 37/500\n",
            "2/2 [==============================] - 0s 209ms/step - loss: 0.6636 - acc: 0.4789 - val_loss: 0.5863 - val_acc: 0.7664\n",
            "Epoch 38/500\n",
            "2/2 [==============================] - 0s 208ms/step - loss: 0.5921 - acc: 0.6771 - val_loss: 0.5805 - val_acc: 0.8037\n",
            "Epoch 39/500\n",
            "2/2 [==============================] - 0s 206ms/step - loss: 0.5855 - acc: 0.7286 - val_loss: 0.5662 - val_acc: 0.7850\n",
            "Epoch 40/500\n",
            "2/2 [==============================] - 0s 205ms/step - loss: 0.5818 - acc: 0.6835 - val_loss: 0.5704 - val_acc: 0.8131\n",
            "Epoch 41/500\n",
            "2/2 [==============================] - 0s 206ms/step - loss: 0.5624 - acc: 0.7971 - val_loss: 0.5418 - val_acc: 0.7477\n",
            "Epoch 42/500\n",
            "2/2 [==============================] - 0s 210ms/step - loss: 0.5760 - acc: 0.6408 - val_loss: 0.5786 - val_acc: 0.8037\n",
            "Epoch 43/500\n",
            "2/2 [==============================] - 0s 209ms/step - loss: 0.5390 - acc: 0.8279 - val_loss: 0.5245 - val_acc: 0.7383\n",
            "Epoch 44/500\n",
            "2/2 [==============================] - 0s 205ms/step - loss: 0.5309 - acc: 0.7592 - val_loss: 0.5940 - val_acc: 0.6262\n",
            "Epoch 45/500\n",
            "2/2 [==============================] - 0s 204ms/step - loss: 0.5243 - acc: 0.8279 - val_loss: 0.4949 - val_acc: 0.7664\n",
            "Epoch 46/500\n",
            "2/2 [==============================] - 0s 209ms/step - loss: 0.5125 - acc: 0.7517 - val_loss: 0.5152 - val_acc: 0.8505\n",
            "Epoch 47/500\n",
            "2/2 [==============================] - 0s 204ms/step - loss: 0.4718 - acc: 0.9082 - val_loss: 0.4553 - val_acc: 0.8692\n",
            "Epoch 48/500\n",
            "2/2 [==============================] - 0s 214ms/step - loss: 0.4477 - acc: 0.8528 - val_loss: 0.4679 - val_acc: 0.8785\n",
            "Epoch 49/500\n",
            "2/2 [==============================] - 0s 207ms/step - loss: 0.4235 - acc: 0.9096 - val_loss: 0.4063 - val_acc: 0.8598\n",
            "Epoch 50/500\n",
            "2/2 [==============================] - 0s 204ms/step - loss: 0.4098 - acc: 0.8590 - val_loss: 0.3817 - val_acc: 0.8598\n",
            "Epoch 51/500\n",
            "2/2 [==============================] - 0s 227ms/step - loss: 0.3756 - acc: 0.8670 - val_loss: 0.4211 - val_acc: 0.8505\n",
            "Epoch 52/500\n",
            "2/2 [==============================] - 0s 207ms/step - loss: 0.3844 - acc: 0.8826 - val_loss: 0.5964 - val_acc: 0.5607\n",
            "Epoch 53/500\n",
            "2/2 [==============================] - 0s 206ms/step - loss: 0.4737 - acc: 0.6945 - val_loss: 0.3324 - val_acc: 0.9159\n",
            "Epoch 54/500\n",
            "2/2 [==============================] - 0s 208ms/step - loss: 0.3650 - acc: 0.8474 - val_loss: 0.3565 - val_acc: 0.8131\n",
            "Epoch 55/500\n",
            "2/2 [==============================] - 0s 206ms/step - loss: 0.3914 - acc: 0.8001 - val_loss: 0.4678 - val_acc: 0.7570\n",
            "Epoch 56/500\n",
            "2/2 [==============================] - 0s 207ms/step - loss: 0.3478 - acc: 0.9004 - val_loss: 0.3334 - val_acc: 0.8318\n",
            "Epoch 57/500\n",
            "2/2 [==============================] - 0s 208ms/step - loss: 0.3661 - acc: 0.8115 - val_loss: 0.3873 - val_acc: 0.8505\n",
            "Epoch 58/500\n",
            "2/2 [==============================] - 0s 205ms/step - loss: 0.3180 - acc: 0.9239 - val_loss: 0.2785 - val_acc: 0.9346\n",
            "Epoch 59/500\n",
            "2/2 [==============================] - 0s 208ms/step - loss: 0.2841 - acc: 0.8824 - val_loss: 0.2755 - val_acc: 0.9439\n",
            "Epoch 60/500\n",
            "2/2 [==============================] - 0s 204ms/step - loss: 0.2669 - acc: 0.9287 - val_loss: 0.3026 - val_acc: 0.8972\n",
            "Epoch 61/500\n",
            "2/2 [==============================] - 0s 204ms/step - loss: 0.2556 - acc: 0.9383 - val_loss: 0.2540 - val_acc: 0.9346\n",
            "Epoch 62/500\n",
            "2/2 [==============================] - 0s 202ms/step - loss: 0.2405 - acc: 0.9234 - val_loss: 0.3263 - val_acc: 0.8879\n",
            "Epoch 63/500\n",
            "2/2 [==============================] - 0s 207ms/step - loss: 0.2407 - acc: 0.9366 - val_loss: 0.2305 - val_acc: 0.9346\n",
            "Epoch 64/500\n",
            "2/2 [==============================] - 0s 210ms/step - loss: 0.2196 - acc: 0.9207 - val_loss: 0.2951 - val_acc: 0.8972\n",
            "Epoch 65/500\n",
            "2/2 [==============================] - 0s 206ms/step - loss: 0.2086 - acc: 0.9502 - val_loss: 0.2084 - val_acc: 0.9439\n",
            "Epoch 66/500\n",
            "2/2 [==============================] - 0s 204ms/step - loss: 0.2028 - acc: 0.9161 - val_loss: 0.2361 - val_acc: 0.9346\n",
            "Epoch 67/500\n",
            "2/2 [==============================] - 0s 210ms/step - loss: 0.1756 - acc: 0.9594 - val_loss: 0.1985 - val_acc: 0.9439\n",
            "Epoch 68/500\n",
            "2/2 [==============================] - 0s 206ms/step - loss: 0.1623 - acc: 0.9556 - val_loss: 0.1910 - val_acc: 0.9346\n",
            "Epoch 69/500\n",
            "2/2 [==============================] - 0s 206ms/step - loss: 0.1488 - acc: 0.9562 - val_loss: 0.1881 - val_acc: 0.9346\n",
            "Epoch 70/500\n",
            "2/2 [==============================] - 0s 205ms/step - loss: 0.1458 - acc: 0.9611 - val_loss: 0.1662 - val_acc: 0.9626\n",
            "Epoch 71/500\n",
            "2/2 [==============================] - 0s 209ms/step - loss: 0.1421 - acc: 0.9496 - val_loss: 0.1875 - val_acc: 0.9346\n",
            "Epoch 72/500\n",
            "2/2 [==============================] - 0s 207ms/step - loss: 0.1251 - acc: 0.9709 - val_loss: 0.1641 - val_acc: 0.9533\n",
            "Epoch 73/500\n",
            "2/2 [==============================] - 0s 205ms/step - loss: 0.1166 - acc: 0.9705 - val_loss: 0.1481 - val_acc: 0.9626\n",
            "Epoch 74/500\n",
            "2/2 [==============================] - 0s 206ms/step - loss: 0.1088 - acc: 0.9576 - val_loss: 0.2412 - val_acc: 0.8785\n",
            "Epoch 75/500\n",
            "2/2 [==============================] - 0s 205ms/step - loss: 0.1416 - acc: 0.9559 - val_loss: 0.2014 - val_acc: 0.9346\n",
            "Epoch 76/500\n",
            "2/2 [==============================] - 0s 205ms/step - loss: 0.1039 - acc: 0.9878 - val_loss: 0.1410 - val_acc: 0.9533\n",
            "Epoch 77/500\n",
            "2/2 [==============================] - 0s 209ms/step - loss: 0.1281 - acc: 0.9484 - val_loss: 0.1411 - val_acc: 0.9533\n",
            "Epoch 78/500\n",
            "2/2 [==============================] - 0s 208ms/step - loss: 0.0924 - acc: 0.9691 - val_loss: 0.1469 - val_acc: 0.9346\n",
            "Epoch 79/500\n",
            "2/2 [==============================] - 0s 205ms/step - loss: 0.0818 - acc: 0.9825 - val_loss: 0.1381 - val_acc: 0.9439\n",
            "Epoch 80/500\n",
            "2/2 [==============================] - 0s 204ms/step - loss: 0.0779 - acc: 0.9784 - val_loss: 0.1612 - val_acc: 0.9346\n",
            "Epoch 81/500\n",
            "2/2 [==============================] - 0s 206ms/step - loss: 0.0748 - acc: 0.9891 - val_loss: 0.1282 - val_acc: 0.9533\n",
            "Epoch 82/500\n",
            "2/2 [==============================] - 0s 210ms/step - loss: 0.0715 - acc: 0.9853 - val_loss: 0.1323 - val_acc: 0.9439\n",
            "Epoch 83/500\n",
            "2/2 [==============================] - 0s 206ms/step - loss: 0.0682 - acc: 0.9906 - val_loss: 0.1155 - val_acc: 0.9626\n",
            "Epoch 84/500\n",
            "2/2 [==============================] - 0s 203ms/step - loss: 0.0643 - acc: 0.9852 - val_loss: 0.2050 - val_acc: 0.8785\n",
            "Epoch 85/500\n",
            "2/2 [==============================] - 0s 206ms/step - loss: 0.1031 - acc: 0.9620 - val_loss: 0.3284 - val_acc: 0.8411\n",
            "Epoch 86/500\n",
            "2/2 [==============================] - 0s 210ms/step - loss: 0.1236 - acc: 0.9428 - val_loss: 0.1183 - val_acc: 0.9720\n",
            "Epoch 87/500\n",
            "2/2 [==============================] - 0s 208ms/step - loss: 0.1112 - acc: 0.9541 - val_loss: 0.1763 - val_acc: 0.9346\n",
            "Epoch 88/500\n",
            "2/2 [==============================] - 0s 206ms/step - loss: 0.1302 - acc: 0.9374 - val_loss: 0.3947 - val_acc: 0.8131\n",
            "Epoch 89/500\n",
            "2/2 [==============================] - 0s 208ms/step - loss: 0.1202 - acc: 0.9398 - val_loss: 0.1557 - val_acc: 0.9439\n",
            "Epoch 90/500\n",
            "2/2 [==============================] - 0s 207ms/step - loss: 0.0986 - acc: 0.9529 - val_loss: 0.2495 - val_acc: 0.8692\n",
            "Epoch 91/500\n",
            "2/2 [==============================] - 0s 206ms/step - loss: 0.0921 - acc: 0.9771 - val_loss: 0.1121 - val_acc: 0.9720\n",
            "Epoch 92/500\n",
            "2/2 [==============================] - 0s 204ms/step - loss: 0.0851 - acc: 0.9602 - val_loss: 0.1042 - val_acc: 0.9720\n",
            "Epoch 93/500\n",
            "2/2 [==============================] - 0s 204ms/step - loss: 0.0623 - acc: 0.9799 - val_loss: 0.2299 - val_acc: 0.8598\n",
            "Epoch 94/500\n",
            "2/2 [==============================] - 0s 212ms/step - loss: 0.0694 - acc: 0.9926 - val_loss: 0.1249 - val_acc: 0.9626\n",
            "Epoch 95/500\n",
            "2/2 [==============================] - 0s 210ms/step - loss: 0.0767 - acc: 0.9650 - val_loss: 0.1175 - val_acc: 0.9720\n",
            "Epoch 96/500\n",
            "2/2 [==============================] - 0s 205ms/step - loss: 0.0528 - acc: 0.9959 - val_loss: 0.1470 - val_acc: 0.9439\n",
            "Epoch 97/500\n",
            "2/2 [==============================] - 0s 205ms/step - loss: 0.0515 - acc: 0.9959 - val_loss: 0.1035 - val_acc: 0.9720\n",
            "Epoch 98/500\n",
            "2/2 [==============================] - 0s 210ms/step - loss: 0.0540 - acc: 0.9770 - val_loss: 0.1047 - val_acc: 0.9626\n",
            "Epoch 99/500\n",
            "2/2 [==============================] - 0s 208ms/step - loss: 0.0475 - acc: 0.9926 - val_loss: 0.1635 - val_acc: 0.9252\n",
            "Epoch 100/500\n",
            "2/2 [==============================] - 0s 209ms/step - loss: 0.0487 - acc: 0.9980 - val_loss: 0.0983 - val_acc: 0.9720\n",
            "Epoch 101/500\n",
            "2/2 [==============================] - 0s 208ms/step - loss: 0.0441 - acc: 0.9852 - val_loss: 0.0978 - val_acc: 0.9720\n",
            "Epoch 102/500\n",
            "2/2 [==============================] - 0s 208ms/step - loss: 0.0446 - acc: 0.9933 - val_loss: 0.1415 - val_acc: 0.9533\n",
            "Epoch 103/500\n",
            "2/2 [==============================] - 0s 203ms/step - loss: 0.0418 - acc: 0.9993 - val_loss: 0.0999 - val_acc: 0.9626\n",
            "Epoch 104/500\n",
            "2/2 [==============================] - 0s 208ms/step - loss: 0.0373 - acc: 0.9933 - val_loss: 0.0941 - val_acc: 0.9720\n",
            "Epoch 105/500\n",
            "2/2 [==============================] - 0s 211ms/step - loss: 0.0373 - acc: 0.9919 - val_loss: 0.1070 - val_acc: 0.9720\n",
            "Epoch 106/500\n",
            "2/2 [==============================] - 0s 205ms/step - loss: 0.0350 - acc: 0.9987 - val_loss: 0.1024 - val_acc: 0.9626\n",
            "Epoch 107/500\n",
            "2/2 [==============================] - 0s 209ms/step - loss: 0.0316 - acc: 0.9986 - val_loss: 0.0909 - val_acc: 0.9720\n",
            "Epoch 108/500\n",
            "2/2 [==============================] - 0s 204ms/step - loss: 0.0347 - acc: 0.9947 - val_loss: 0.1040 - val_acc: 0.9813\n",
            "Epoch 109/500\n",
            "2/2 [==============================] - 0s 209ms/step - loss: 0.0315 - acc: 0.9987 - val_loss: 0.0960 - val_acc: 0.9626\n",
            "Epoch 110/500\n",
            "2/2 [==============================] - 0s 218ms/step - loss: 0.0288 - acc: 0.9987 - val_loss: 0.0904 - val_acc: 0.9626\n",
            "Epoch 111/500\n",
            "2/2 [==============================] - 0s 206ms/step - loss: 0.0310 - acc: 0.9947 - val_loss: 0.1006 - val_acc: 0.9626\n",
            "Epoch 112/500\n",
            "2/2 [==============================] - 0s 209ms/step - loss: 0.0253 - acc: 0.9993 - val_loss: 0.0932 - val_acc: 0.9626\n",
            "Epoch 113/500\n",
            "2/2 [==============================] - 0s 204ms/step - loss: 0.0256 - acc: 0.9993 - val_loss: 0.0923 - val_acc: 0.9626\n",
            "Epoch 114/500\n",
            "2/2 [==============================] - 0s 204ms/step - loss: 0.0264 - acc: 0.9987 - val_loss: 0.0965 - val_acc: 0.9626\n",
            "Epoch 115/500\n",
            "2/2 [==============================] - 0s 207ms/step - loss: 0.0221 - acc: 0.9993 - val_loss: 0.0928 - val_acc: 0.9626\n",
            "Epoch 116/500\n",
            "2/2 [==============================] - 0s 204ms/step - loss: 0.0228 - acc: 0.9993 - val_loss: 0.0902 - val_acc: 0.9626\n",
            "Epoch 117/500\n",
            "2/2 [==============================] - 0s 214ms/step - loss: 0.0211 - acc: 0.9993 - val_loss: 0.0913 - val_acc: 0.9626\n",
            "Epoch 118/500\n",
            "2/2 [==============================] - 0s 210ms/step - loss: 0.0239 - acc: 0.9987 - val_loss: 0.0977 - val_acc: 0.9720\n",
            "Epoch 119/500\n",
            "2/2 [==============================] - 0s 212ms/step - loss: 0.0195 - acc: 0.9993 - val_loss: 0.0891 - val_acc: 0.9626\n",
            "Epoch 120/500\n",
            "2/2 [==============================] - 0s 205ms/step - loss: 0.0222 - acc: 0.9987 - val_loss: 0.0994 - val_acc: 0.9626\n",
            "Epoch 121/500\n",
            "2/2 [==============================] - 0s 204ms/step - loss: 0.0189 - acc: 0.9987 - val_loss: 0.0891 - val_acc: 0.9626\n",
            "Epoch 122/500\n",
            "2/2 [==============================] - 0s 207ms/step - loss: 0.0186 - acc: 0.9987 - val_loss: 0.0914 - val_acc: 0.9720\n",
            "Epoch 123/500\n",
            "2/2 [==============================] - 0s 211ms/step - loss: 0.0181 - acc: 0.9987 - val_loss: 0.0962 - val_acc: 0.9720\n",
            "Epoch 124/500\n",
            "2/2 [==============================] - 0s 205ms/step - loss: 0.0178 - acc: 0.9987 - val_loss: 0.0886 - val_acc: 0.9626\n",
            "Epoch 125/500\n",
            "2/2 [==============================] - 0s 208ms/step - loss: 0.0150 - acc: 0.9993 - val_loss: 0.0987 - val_acc: 0.9720\n",
            "Epoch 126/500\n",
            "2/2 [==============================] - 0s 208ms/step - loss: 0.0153 - acc: 0.9987 - val_loss: 0.0871 - val_acc: 0.9626\n",
            "Epoch 127/500\n",
            "2/2 [==============================] - 0s 208ms/step - loss: 0.0139 - acc: 0.9993 - val_loss: 0.0900 - val_acc: 0.9720\n",
            "Epoch 128/500\n",
            "2/2 [==============================] - 0s 206ms/step - loss: 0.0142 - acc: 0.9987 - val_loss: 0.0968 - val_acc: 0.9720\n",
            "Epoch 129/500\n",
            "2/2 [==============================] - 0s 210ms/step - loss: 0.0126 - acc: 0.9993 - val_loss: 0.0879 - val_acc: 0.9626\n",
            "Epoch 130/500\n",
            "2/2 [==============================] - 0s 206ms/step - loss: 0.0131 - acc: 0.9987 - val_loss: 0.0986 - val_acc: 0.9813\n",
            "Epoch 131/500\n",
            "2/2 [==============================] - 0s 206ms/step - loss: 0.0135 - acc: 0.9987 - val_loss: 0.0911 - val_acc: 0.9720\n",
            "Epoch 132/500\n",
            "2/2 [==============================] - 0s 206ms/step - loss: 0.0116 - acc: 0.9993 - val_loss: 0.0876 - val_acc: 0.9626\n",
            "Epoch 133/500\n",
            "2/2 [==============================] - 0s 205ms/step - loss: 0.0105 - acc: 0.9993 - val_loss: 0.1050 - val_acc: 0.9720\n",
            "Epoch 134/500\n",
            "2/2 [==============================] - 0s 207ms/step - loss: 0.0105 - acc: 0.9993 - val_loss: 0.0890 - val_acc: 0.9626\n",
            "Epoch 135/500\n",
            "2/2 [==============================] - 0s 210ms/step - loss: 0.0102 - acc: 0.9987 - val_loss: 0.0982 - val_acc: 0.9813\n",
            "Epoch 136/500\n",
            "2/2 [==============================] - 0s 211ms/step - loss: 0.0102 - acc: 0.9987 - val_loss: 0.0877 - val_acc: 0.9720\n",
            "Epoch 137/500\n",
            "2/2 [==============================] - 0s 204ms/step - loss: 0.0096 - acc: 0.9987 - val_loss: 0.0871 - val_acc: 0.9626\n",
            "Epoch 138/500\n",
            "2/2 [==============================] - 0s 205ms/step - loss: 0.0088 - acc: 0.9987 - val_loss: 0.0987 - val_acc: 0.9813\n",
            "Epoch 139/500\n",
            "2/2 [==============================] - 0s 215ms/step - loss: 0.0079 - acc: 0.9993 - val_loss: 0.0879 - val_acc: 0.9626\n",
            "Epoch 140/500\n",
            "2/2 [==============================] - 0s 205ms/step - loss: 0.0088 - acc: 0.9987 - val_loss: 0.0928 - val_acc: 0.9720\n",
            "Epoch 141/500\n",
            "2/2 [==============================] - 0s 210ms/step - loss: 0.0075 - acc: 1.0000 - val_loss: 0.0887 - val_acc: 0.9720\n",
            "Epoch 142/500\n",
            "2/2 [==============================] - 0s 206ms/step - loss: 0.0069 - acc: 1.0000 - val_loss: 0.0873 - val_acc: 0.9626\n",
            "Epoch 143/500\n",
            "2/2 [==============================] - 0s 206ms/step - loss: 0.0069 - acc: 0.9987 - val_loss: 0.0922 - val_acc: 0.9720\n",
            "Epoch 144/500\n",
            "2/2 [==============================] - 0s 208ms/step - loss: 0.0056 - acc: 1.0000 - val_loss: 0.0872 - val_acc: 0.9720\n",
            "Epoch 145/500\n",
            "2/2 [==============================] - 0s 211ms/step - loss: 0.0057 - acc: 1.0000 - val_loss: 0.0874 - val_acc: 0.9720\n",
            "Epoch 146/500\n",
            "2/2 [==============================] - 0s 212ms/step - loss: 0.0052 - acc: 1.0000 - val_loss: 0.0901 - val_acc: 0.9720\n",
            "Epoch 147/500\n",
            "2/2 [==============================] - 0s 206ms/step - loss: 0.0052 - acc: 1.0000 - val_loss: 0.0898 - val_acc: 0.9720\n",
            "Epoch 148/500\n",
            "2/2 [==============================] - 0s 208ms/step - loss: 0.0050 - acc: 1.0000 - val_loss: 0.0879 - val_acc: 0.9720\n",
            "Epoch 149/500\n",
            "2/2 [==============================] - 0s 206ms/step - loss: 0.0048 - acc: 1.0000 - val_loss: 0.0898 - val_acc: 0.9720\n",
            "Epoch 150/500\n",
            "2/2 [==============================] - 0s 218ms/step - loss: 0.0047 - acc: 1.0000 - val_loss: 0.0886 - val_acc: 0.9720\n",
            "Epoch 151/500\n",
            "2/2 [==============================] - 0s 208ms/step - loss: 0.0041 - acc: 1.0000 - val_loss: 0.0875 - val_acc: 0.9720\n",
            "Epoch 152/500\n",
            "2/2 [==============================] - 0s 213ms/step - loss: 0.0040 - acc: 1.0000 - val_loss: 0.0888 - val_acc: 0.9720\n",
            "Epoch 153/500\n",
            "2/2 [==============================] - 0s 218ms/step - loss: 0.0040 - acc: 1.0000 - val_loss: 0.0888 - val_acc: 0.9720\n",
            "Epoch 154/500\n",
            "2/2 [==============================] - 0s 207ms/step - loss: 0.0036 - acc: 1.0000 - val_loss: 0.0892 - val_acc: 0.9720\n",
            "Epoch 155/500\n",
            "2/2 [==============================] - 0s 205ms/step - loss: 0.0036 - acc: 1.0000 - val_loss: 0.0892 - val_acc: 0.9720\n",
            "Epoch 156/500\n",
            "2/2 [==============================] - 0s 209ms/step - loss: 0.0035 - acc: 1.0000 - val_loss: 0.0880 - val_acc: 0.9720\n",
            "Epoch 157/500\n",
            "2/2 [==============================] - 0s 206ms/step - loss: 0.0033 - acc: 1.0000 - val_loss: 0.0890 - val_acc: 0.9720\n",
            "Epoch 158/500\n",
            "2/2 [==============================] - 0s 206ms/step - loss: 0.0032 - acc: 1.0000 - val_loss: 0.0897 - val_acc: 0.9720\n",
            "Epoch 159/500\n",
            "2/2 [==============================] - 0s 207ms/step - loss: 0.0032 - acc: 1.0000 - val_loss: 0.0886 - val_acc: 0.9720\n",
            "Epoch 160/500\n",
            "2/2 [==============================] - 0s 211ms/step - loss: 0.0029 - acc: 1.0000 - val_loss: 0.0890 - val_acc: 0.9720\n",
            "Epoch 161/500\n",
            "2/2 [==============================] - 0s 210ms/step - loss: 0.0028 - acc: 1.0000 - val_loss: 0.0899 - val_acc: 0.9720\n",
            "Epoch 162/500\n",
            "2/2 [==============================] - 0s 207ms/step - loss: 0.0028 - acc: 1.0000 - val_loss: 0.0888 - val_acc: 0.9720\n",
            "Epoch 163/500\n",
            "2/2 [==============================] - 0s 209ms/step - loss: 0.0025 - acc: 1.0000 - val_loss: 0.0892 - val_acc: 0.9720\n",
            "Epoch 164/500\n",
            "2/2 [==============================] - 0s 207ms/step - loss: 0.0027 - acc: 1.0000 - val_loss: 0.0919 - val_acc: 0.9813\n",
            "Epoch 165/500\n",
            "2/2 [==============================] - 0s 209ms/step - loss: 0.0024 - acc: 1.0000 - val_loss: 0.0910 - val_acc: 0.9720\n",
            "Epoch 166/500\n",
            "2/2 [==============================] - 0s 207ms/step - loss: 0.0025 - acc: 1.0000 - val_loss: 0.0898 - val_acc: 0.9720\n",
            "Epoch 167/500\n",
            "2/2 [==============================] - 0s 207ms/step - loss: 0.0022 - acc: 1.0000 - val_loss: 0.0921 - val_acc: 0.9813\n",
            "Epoch 168/500\n",
            "2/2 [==============================] - 0s 205ms/step - loss: 0.0022 - acc: 1.0000 - val_loss: 0.0911 - val_acc: 0.9720\n",
            "Epoch 169/500\n",
            "2/2 [==============================] - 0s 210ms/step - loss: 0.0022 - acc: 1.0000 - val_loss: 0.0907 - val_acc: 0.9720\n",
            "Epoch 170/500\n",
            "2/2 [==============================] - 0s 210ms/step - loss: 0.0020 - acc: 1.0000 - val_loss: 0.0919 - val_acc: 0.9720\n",
            "Epoch 171/500\n",
            "2/2 [==============================] - 0s 210ms/step - loss: 0.0020 - acc: 1.0000 - val_loss: 0.0913 - val_acc: 0.9720\n",
            "Epoch 172/500\n",
            "2/2 [==============================] - 0s 208ms/step - loss: 0.0019 - acc: 1.0000 - val_loss: 0.0922 - val_acc: 0.9720\n",
            "Epoch 173/500\n",
            "2/2 [==============================] - 0s 208ms/step - loss: 0.0018 - acc: 1.0000 - val_loss: 0.0922 - val_acc: 0.9720\n",
            "Epoch 174/500\n",
            "2/2 [==============================] - 0s 209ms/step - loss: 0.0017 - acc: 1.0000 - val_loss: 0.0927 - val_acc: 0.9720\n",
            "Epoch 175/500\n",
            "2/2 [==============================] - 0s 205ms/step - loss: 0.0017 - acc: 1.0000 - val_loss: 0.0929 - val_acc: 0.9720\n",
            "Epoch 176/500\n",
            "2/2 [==============================] - 0s 208ms/step - loss: 0.0016 - acc: 1.0000 - val_loss: 0.0925 - val_acc: 0.9720\n",
            "Epoch 177/500\n",
            "2/2 [==============================] - 0s 207ms/step - loss: 0.0014 - acc: 1.0000 - val_loss: 0.0934 - val_acc: 0.9720\n",
            "Epoch 178/500\n",
            "2/2 [==============================] - 0s 211ms/step - loss: 0.0015 - acc: 1.0000 - val_loss: 0.0927 - val_acc: 0.9720\n",
            "Epoch 179/500\n",
            "2/2 [==============================] - 0s 204ms/step - loss: 0.0015 - acc: 1.0000 - val_loss: 0.0941 - val_acc: 0.9720\n",
            "Epoch 180/500\n",
            "2/2 [==============================] - 0s 209ms/step - loss: 0.0015 - acc: 1.0000 - val_loss: 0.0931 - val_acc: 0.9720\n",
            "Epoch 181/500\n",
            "2/2 [==============================] - 0s 214ms/step - loss: 0.0012 - acc: 1.0000 - val_loss: 0.0932 - val_acc: 0.9720\n",
            "Epoch 182/500\n",
            "2/2 [==============================] - 0s 209ms/step - loss: 0.0013 - acc: 1.0000 - val_loss: 0.0944 - val_acc: 0.9720\n",
            "Epoch 183/500\n",
            "2/2 [==============================] - 0s 207ms/step - loss: 0.0013 - acc: 1.0000 - val_loss: 0.0939 - val_acc: 0.9720\n",
            "Epoch 184/500\n",
            "2/2 [==============================] - 0s 213ms/step - loss: 0.0012 - acc: 1.0000 - val_loss: 0.0946 - val_acc: 0.9720\n",
            "Epoch 185/500\n",
            "2/2 [==============================] - 0s 207ms/step - loss: 0.0012 - acc: 1.0000 - val_loss: 0.0950 - val_acc: 0.9720\n",
            "Epoch 186/500\n",
            "2/2 [==============================] - 0s 205ms/step - loss: 0.0011 - acc: 1.0000 - val_loss: 0.0951 - val_acc: 0.9720\n",
            "Epoch 187/500\n",
            "2/2 [==============================] - 0s 206ms/step - loss: 0.0011 - acc: 1.0000 - val_loss: 0.0949 - val_acc: 0.9720\n",
            "Epoch 188/500\n",
            "2/2 [==============================] - 0s 210ms/step - loss: 0.0011 - acc: 1.0000 - val_loss: 0.0951 - val_acc: 0.9720\n",
            "Epoch 189/500\n",
            "2/2 [==============================] - 0s 210ms/step - loss: 0.0011 - acc: 1.0000 - val_loss: 0.0965 - val_acc: 0.9720\n",
            "Epoch 190/500\n",
            "2/2 [==============================] - 0s 211ms/step - loss: 0.0010 - acc: 1.0000 - val_loss: 0.0961 - val_acc: 0.9720\n",
            "Epoch 191/500\n",
            "2/2 [==============================] - 0s 204ms/step - loss: 9.2929e-04 - acc: 1.0000 - val_loss: 0.0961 - val_acc: 0.9720\n",
            "Epoch 192/500\n",
            "2/2 [==============================] - 0s 212ms/step - loss: 9.3632e-04 - acc: 1.0000 - val_loss: 0.0962 - val_acc: 0.9720\n",
            "Epoch 193/500\n",
            "2/2 [==============================] - 0s 207ms/step - loss: 8.9223e-04 - acc: 1.0000 - val_loss: 0.0969 - val_acc: 0.9720\n",
            "Epoch 194/500\n",
            "2/2 [==============================] - 0s 209ms/step - loss: 8.2664e-04 - acc: 1.0000 - val_loss: 0.0965 - val_acc: 0.9720\n",
            "Epoch 195/500\n",
            "2/2 [==============================] - 0s 214ms/step - loss: 9.2356e-04 - acc: 1.0000 - val_loss: 0.0970 - val_acc: 0.9720\n",
            "Epoch 196/500\n",
            "2/2 [==============================] - 0s 209ms/step - loss: 7.9966e-04 - acc: 1.0000 - val_loss: 0.0978 - val_acc: 0.9720\n",
            "Epoch 197/500\n",
            "2/2 [==============================] - 0s 205ms/step - loss: 7.8946e-04 - acc: 1.0000 - val_loss: 0.0976 - val_acc: 0.9720\n",
            "Epoch 198/500\n",
            "2/2 [==============================] - 0s 211ms/step - loss: 8.0154e-04 - acc: 1.0000 - val_loss: 0.0975 - val_acc: 0.9720\n",
            "Epoch 199/500\n",
            "2/2 [==============================] - 0s 207ms/step - loss: 7.3830e-04 - acc: 1.0000 - val_loss: 0.0978 - val_acc: 0.9720\n",
            "Epoch 200/500\n",
            "2/2 [==============================] - 0s 210ms/step - loss: 7.3531e-04 - acc: 1.0000 - val_loss: 0.0990 - val_acc: 0.9720\n",
            "Epoch 201/500\n",
            "2/2 [==============================] - 0s 205ms/step - loss: 7.3613e-04 - acc: 1.0000 - val_loss: 0.0991 - val_acc: 0.9720\n",
            "Epoch 202/500\n",
            "2/2 [==============================] - 0s 210ms/step - loss: 6.9612e-04 - acc: 1.0000 - val_loss: 0.0984 - val_acc: 0.9720\n",
            "Epoch 203/500\n",
            "2/2 [==============================] - 0s 205ms/step - loss: 6.9882e-04 - acc: 1.0000 - val_loss: 0.0989 - val_acc: 0.9720\n",
            "Epoch 204/500\n",
            "2/2 [==============================] - 0s 210ms/step - loss: 6.6116e-04 - acc: 1.0000 - val_loss: 0.1000 - val_acc: 0.9720\n",
            "Epoch 205/500\n",
            "2/2 [==============================] - 0s 206ms/step - loss: 6.8901e-04 - acc: 1.0000 - val_loss: 0.1001 - val_acc: 0.9720\n",
            "Epoch 206/500\n",
            "2/2 [==============================] - 0s 207ms/step - loss: 5.9990e-04 - acc: 1.0000 - val_loss: 0.0996 - val_acc: 0.9720\n",
            "Epoch 207/500\n",
            "2/2 [==============================] - 0s 208ms/step - loss: 6.2596e-04 - acc: 1.0000 - val_loss: 0.0999 - val_acc: 0.9720\n",
            "Epoch 208/500\n",
            "2/2 [==============================] - 0s 210ms/step - loss: 6.4298e-04 - acc: 1.0000 - val_loss: 0.1011 - val_acc: 0.9720\n",
            "Epoch 209/500\n",
            "2/2 [==============================] - 0s 205ms/step - loss: 6.3167e-04 - acc: 1.0000 - val_loss: 0.1010 - val_acc: 0.9720\n",
            "Epoch 210/500\n",
            "2/2 [==============================] - 0s 205ms/step - loss: 5.6964e-04 - acc: 1.0000 - val_loss: 0.1006 - val_acc: 0.9720\n",
            "Epoch 211/500\n",
            "2/2 [==============================] - 0s 208ms/step - loss: 5.7500e-04 - acc: 1.0000 - val_loss: 0.1010 - val_acc: 0.9720\n",
            "Epoch 212/500\n",
            "2/2 [==============================] - 0s 210ms/step - loss: 5.5569e-04 - acc: 1.0000 - val_loss: 0.1023 - val_acc: 0.9720\n",
            "Epoch 213/500\n",
            "2/2 [==============================] - 0s 209ms/step - loss: 5.5820e-04 - acc: 1.0000 - val_loss: 0.1025 - val_acc: 0.9720\n",
            "Epoch 214/500\n",
            "2/2 [==============================] - 0s 208ms/step - loss: 5.2948e-04 - acc: 1.0000 - val_loss: 0.1016 - val_acc: 0.9720\n",
            "Epoch 215/500\n",
            "2/2 [==============================] - 0s 208ms/step - loss: 5.0322e-04 - acc: 1.0000 - val_loss: 0.1018 - val_acc: 0.9720\n",
            "Epoch 216/500\n",
            "2/2 [==============================] - 0s 207ms/step - loss: 5.0898e-04 - acc: 1.0000 - val_loss: 0.1031 - val_acc: 0.9720\n",
            "Epoch 217/500\n",
            "2/2 [==============================] - 0s 207ms/step - loss: 5.3907e-04 - acc: 1.0000 - val_loss: 0.1038 - val_acc: 0.9720\n",
            "Epoch 218/500\n",
            "2/2 [==============================] - 0s 204ms/step - loss: 5.3696e-04 - acc: 1.0000 - val_loss: 0.1030 - val_acc: 0.9720\n",
            "Epoch 219/500\n",
            "2/2 [==============================] - 0s 205ms/step - loss: 4.8699e-04 - acc: 1.0000 - val_loss: 0.1030 - val_acc: 0.9720\n",
            "Epoch 220/500\n",
            "2/2 [==============================] - 0s 211ms/step - loss: 4.7155e-04 - acc: 1.0000 - val_loss: 0.1036 - val_acc: 0.9720\n",
            "Epoch 221/500\n",
            "2/2 [==============================] - 0s 207ms/step - loss: 4.4714e-04 - acc: 1.0000 - val_loss: 0.1039 - val_acc: 0.9720\n",
            "Epoch 222/500\n",
            "2/2 [==============================] - 0s 209ms/step - loss: 4.2824e-04 - acc: 1.0000 - val_loss: 0.1040 - val_acc: 0.9720\n",
            "Epoch 223/500\n",
            "2/2 [==============================] - 0s 205ms/step - loss: 4.4828e-04 - acc: 1.0000 - val_loss: 0.1041 - val_acc: 0.9720\n",
            "Epoch 224/500\n",
            "2/2 [==============================] - 0s 206ms/step - loss: 4.0568e-04 - acc: 1.0000 - val_loss: 0.1051 - val_acc: 0.9720\n",
            "Epoch 225/500\n",
            "2/2 [==============================] - 0s 205ms/step - loss: 4.2168e-04 - acc: 1.0000 - val_loss: 0.1061 - val_acc: 0.9720\n",
            "Epoch 226/500\n",
            "2/2 [==============================] - 0s 210ms/step - loss: 4.1907e-04 - acc: 1.0000 - val_loss: 0.1052 - val_acc: 0.9720\n",
            "Epoch 227/500\n",
            "2/2 [==============================] - 0s 208ms/step - loss: 4.1278e-04 - acc: 1.0000 - val_loss: 0.1048 - val_acc: 0.9720\n",
            "Epoch 228/500\n",
            "2/2 [==============================] - 0s 215ms/step - loss: 4.0388e-04 - acc: 1.0000 - val_loss: 0.1061 - val_acc: 0.9720\n",
            "Epoch 229/500\n",
            "2/2 [==============================] - 0s 209ms/step - loss: 3.8603e-04 - acc: 1.0000 - val_loss: 0.1069 - val_acc: 0.9720\n",
            "Epoch 230/500\n",
            "2/2 [==============================] - 0s 210ms/step - loss: 3.6761e-04 - acc: 1.0000 - val_loss: 0.1066 - val_acc: 0.9720\n",
            "Epoch 231/500\n",
            "2/2 [==============================] - 0s 210ms/step - loss: 3.8594e-04 - acc: 1.0000 - val_loss: 0.1063 - val_acc: 0.9720\n",
            "Epoch 232/500\n",
            "2/2 [==============================] - 0s 208ms/step - loss: 3.5036e-04 - acc: 1.0000 - val_loss: 0.1076 - val_acc: 0.9720\n",
            "Epoch 233/500\n",
            "2/2 [==============================] - 0s 210ms/step - loss: 3.5729e-04 - acc: 1.0000 - val_loss: 0.1078 - val_acc: 0.9720\n",
            "Epoch 234/500\n",
            "2/2 [==============================] - 0s 209ms/step - loss: 3.6105e-04 - acc: 1.0000 - val_loss: 0.1079 - val_acc: 0.9720\n",
            "Epoch 235/500\n",
            "2/2 [==============================] - 0s 204ms/step - loss: 3.2577e-04 - acc: 1.0000 - val_loss: 0.1077 - val_acc: 0.9720\n",
            "Epoch 236/500\n",
            "2/2 [==============================] - 0s 211ms/step - loss: 3.6558e-04 - acc: 1.0000 - val_loss: 0.1080 - val_acc: 0.9720\n",
            "Epoch 237/500\n",
            "2/2 [==============================] - 0s 214ms/step - loss: 3.2212e-04 - acc: 1.0000 - val_loss: 0.1088 - val_acc: 0.9720\n",
            "Epoch 238/500\n",
            "2/2 [==============================] - 0s 206ms/step - loss: 3.2528e-04 - acc: 1.0000 - val_loss: 0.1101 - val_acc: 0.9720\n",
            "Epoch 239/500\n",
            "2/2 [==============================] - 0s 212ms/step - loss: 3.2277e-04 - acc: 1.0000 - val_loss: 0.1089 - val_acc: 0.9720\n",
            "Epoch 240/500\n",
            "2/2 [==============================] - 0s 209ms/step - loss: 3.1589e-04 - acc: 1.0000 - val_loss: 0.1087 - val_acc: 0.9720\n",
            "Epoch 241/500\n",
            "2/2 [==============================] - 0s 206ms/step - loss: 2.9025e-04 - acc: 1.0000 - val_loss: 0.1094 - val_acc: 0.9720\n",
            "Epoch 242/500\n",
            "2/2 [==============================] - 0s 207ms/step - loss: 2.8927e-04 - acc: 1.0000 - val_loss: 0.1105 - val_acc: 0.9720\n",
            "Epoch 243/500\n",
            "2/2 [==============================] - 0s 209ms/step - loss: 2.9960e-04 - acc: 1.0000 - val_loss: 0.1101 - val_acc: 0.9720\n",
            "Epoch 244/500\n",
            "2/2 [==============================] - 0s 213ms/step - loss: 2.8623e-04 - acc: 1.0000 - val_loss: 0.1106 - val_acc: 0.9720\n",
            "Epoch 245/500\n",
            "2/2 [==============================] - 0s 212ms/step - loss: 2.8330e-04 - acc: 1.0000 - val_loss: 0.1114 - val_acc: 0.9720\n",
            "Epoch 246/500\n",
            "2/2 [==============================] - 0s 206ms/step - loss: 2.7614e-04 - acc: 1.0000 - val_loss: 0.1106 - val_acc: 0.9720\n",
            "Epoch 247/500\n",
            "2/2 [==============================] - 0s 208ms/step - loss: 2.8462e-04 - acc: 1.0000 - val_loss: 0.1107 - val_acc: 0.9720\n",
            "Epoch 248/500\n",
            "2/2 [==============================] - 0s 206ms/step - loss: 2.6031e-04 - acc: 1.0000 - val_loss: 0.1118 - val_acc: 0.9720\n",
            "Epoch 249/500\n",
            "2/2 [==============================] - 0s 210ms/step - loss: 2.7054e-04 - acc: 1.0000 - val_loss: 0.1125 - val_acc: 0.9720\n",
            "Epoch 250/500\n",
            "2/2 [==============================] - 0s 206ms/step - loss: 2.6241e-04 - acc: 1.0000 - val_loss: 0.1115 - val_acc: 0.9720\n",
            "Epoch 251/500\n",
            "2/2 [==============================] - 0s 209ms/step - loss: 2.7613e-04 - acc: 1.0000 - val_loss: 0.1118 - val_acc: 0.9720\n",
            "Epoch 252/500\n",
            "2/2 [==============================] - 0s 212ms/step - loss: 2.7454e-04 - acc: 1.0000 - val_loss: 0.1137 - val_acc: 0.9720\n",
            "Epoch 253/500\n",
            "2/2 [==============================] - 0s 212ms/step - loss: 2.5597e-04 - acc: 1.0000 - val_loss: 0.1132 - val_acc: 0.9720\n",
            "Epoch 254/500\n",
            "2/2 [==============================] - 0s 208ms/step - loss: 2.5867e-04 - acc: 1.0000 - val_loss: 0.1125 - val_acc: 0.9720\n",
            "Epoch 255/500\n",
            "2/2 [==============================] - 0s 212ms/step - loss: 2.5427e-04 - acc: 1.0000 - val_loss: 0.1136 - val_acc: 0.9720\n",
            "Epoch 256/500\n",
            "2/2 [==============================] - 0s 207ms/step - loss: 2.4411e-04 - acc: 1.0000 - val_loss: 0.1138 - val_acc: 0.9720\n",
            "Epoch 257/500\n",
            "2/2 [==============================] - 0s 214ms/step - loss: 2.3240e-04 - acc: 1.0000 - val_loss: 0.1137 - val_acc: 0.9720\n",
            "Epoch 258/500\n",
            "2/2 [==============================] - 0s 206ms/step - loss: 2.4785e-04 - acc: 1.0000 - val_loss: 0.1142 - val_acc: 0.9720\n",
            "Epoch 259/500\n",
            "2/2 [==============================] - 0s 207ms/step - loss: 2.2431e-04 - acc: 1.0000 - val_loss: 0.1146 - val_acc: 0.9720\n",
            "Epoch 260/500\n",
            "2/2 [==============================] - 0s 214ms/step - loss: 2.2345e-04 - acc: 1.0000 - val_loss: 0.1145 - val_acc: 0.9720\n",
            "Epoch 261/500\n",
            "2/2 [==============================] - 0s 209ms/step - loss: 2.2607e-04 - acc: 1.0000 - val_loss: 0.1146 - val_acc: 0.9720\n",
            "Epoch 262/500\n",
            "2/2 [==============================] - 0s 213ms/step - loss: 2.0687e-04 - acc: 1.0000 - val_loss: 0.1154 - val_acc: 0.9720\n",
            "Epoch 263/500\n",
            "2/2 [==============================] - 0s 206ms/step - loss: 2.3044e-04 - acc: 1.0000 - val_loss: 0.1164 - val_acc: 0.9720\n",
            "Epoch 264/500\n",
            "2/2 [==============================] - 0s 211ms/step - loss: 2.2495e-04 - acc: 1.0000 - val_loss: 0.1157 - val_acc: 0.9720\n",
            "Epoch 265/500\n",
            "2/2 [==============================] - 0s 206ms/step - loss: 2.2331e-04 - acc: 1.0000 - val_loss: 0.1160 - val_acc: 0.9720\n",
            "Epoch 266/500\n",
            "2/2 [==============================] - 0s 212ms/step - loss: 1.9579e-04 - acc: 1.0000 - val_loss: 0.1165 - val_acc: 0.9720\n",
            "Epoch 267/500\n",
            "2/2 [==============================] - 0s 209ms/step - loss: 2.0891e-04 - acc: 1.0000 - val_loss: 0.1163 - val_acc: 0.9720\n",
            "Epoch 268/500\n",
            "2/2 [==============================] - 0s 214ms/step - loss: 2.0330e-04 - acc: 1.0000 - val_loss: 0.1169 - val_acc: 0.9720\n",
            "Epoch 269/500\n",
            "2/2 [==============================] - 0s 211ms/step - loss: 2.1083e-04 - acc: 1.0000 - val_loss: 0.1173 - val_acc: 0.9720\n",
            "Epoch 270/500\n",
            "2/2 [==============================] - 0s 212ms/step - loss: 2.0363e-04 - acc: 1.0000 - val_loss: 0.1175 - val_acc: 0.9720\n",
            "Epoch 271/500\n",
            "2/2 [==============================] - 0s 207ms/step - loss: 1.9311e-04 - acc: 1.0000 - val_loss: 0.1167 - val_acc: 0.9720\n",
            "Epoch 272/500\n",
            "2/2 [==============================] - 0s 211ms/step - loss: 1.9050e-04 - acc: 1.0000 - val_loss: 0.1180 - val_acc: 0.9720\n",
            "Epoch 273/500\n",
            "2/2 [==============================] - 0s 208ms/step - loss: 1.7571e-04 - acc: 1.0000 - val_loss: 0.1193 - val_acc: 0.9720\n",
            "Epoch 274/500\n",
            "2/2 [==============================] - 0s 207ms/step - loss: 1.9520e-04 - acc: 1.0000 - val_loss: 0.1179 - val_acc: 0.9720\n",
            "Epoch 275/500\n",
            "2/2 [==============================] - 0s 212ms/step - loss: 1.8837e-04 - acc: 1.0000 - val_loss: 0.1175 - val_acc: 0.9720\n",
            "Epoch 276/500\n",
            "2/2 [==============================] - 0s 210ms/step - loss: 1.7923e-04 - acc: 1.0000 - val_loss: 0.1187 - val_acc: 0.9720\n",
            "Epoch 277/500\n",
            "2/2 [==============================] - 0s 212ms/step - loss: 1.6938e-04 - acc: 1.0000 - val_loss: 0.1194 - val_acc: 0.9720\n",
            "Epoch 278/500\n",
            "2/2 [==============================] - 0s 207ms/step - loss: 1.7449e-04 - acc: 1.0000 - val_loss: 0.1190 - val_acc: 0.9720\n",
            "Epoch 279/500\n",
            "2/2 [==============================] - 0s 212ms/step - loss: 1.6785e-04 - acc: 1.0000 - val_loss: 0.1187 - val_acc: 0.9720\n",
            "Epoch 280/500\n",
            "2/2 [==============================] - 0s 210ms/step - loss: 1.7226e-04 - acc: 1.0000 - val_loss: 0.1203 - val_acc: 0.9720\n",
            "Epoch 281/500\n",
            "2/2 [==============================] - 0s 215ms/step - loss: 1.6980e-04 - acc: 1.0000 - val_loss: 0.1202 - val_acc: 0.9720\n",
            "Epoch 282/500\n",
            "2/2 [==============================] - 0s 212ms/step - loss: 1.6329e-04 - acc: 1.0000 - val_loss: 0.1202 - val_acc: 0.9720\n",
            "Epoch 283/500\n",
            "2/2 [==============================] - 0s 208ms/step - loss: 1.6797e-04 - acc: 1.0000 - val_loss: 0.1186 - val_acc: 0.9720\n",
            "Epoch 284/500\n",
            "2/2 [==============================] - 0s 207ms/step - loss: 1.8092e-04 - acc: 1.0000 - val_loss: 0.1208 - val_acc: 0.9720\n",
            "Epoch 285/500\n",
            "2/2 [==============================] - 0s 208ms/step - loss: 1.5116e-04 - acc: 1.0000 - val_loss: 0.1219 - val_acc: 0.9720\n",
            "Epoch 286/500\n",
            "2/2 [==============================] - 0s 230ms/step - loss: 1.6109e-04 - acc: 1.0000 - val_loss: 0.1212 - val_acc: 0.9720\n",
            "Epoch 287/500\n",
            "2/2 [==============================] - 0s 207ms/step - loss: 1.5270e-04 - acc: 1.0000 - val_loss: 0.1207 - val_acc: 0.9720\n",
            "Epoch 288/500\n",
            "2/2 [==============================] - 0s 213ms/step - loss: 1.5244e-04 - acc: 1.0000 - val_loss: 0.1209 - val_acc: 0.9720\n",
            "Epoch 289/500\n",
            "2/2 [==============================] - 0s 207ms/step - loss: 1.4800e-04 - acc: 1.0000 - val_loss: 0.1222 - val_acc: 0.9720\n",
            "Epoch 290/500\n",
            "2/2 [==============================] - 0s 210ms/step - loss: 1.4826e-04 - acc: 1.0000 - val_loss: 0.1219 - val_acc: 0.9720\n",
            "Epoch 291/500\n",
            "2/2 [==============================] - 0s 209ms/step - loss: 1.4802e-04 - acc: 1.0000 - val_loss: 0.1219 - val_acc: 0.9720\n",
            "Epoch 292/500\n",
            "2/2 [==============================] - 0s 206ms/step - loss: 1.4871e-04 - acc: 1.0000 - val_loss: 0.1226 - val_acc: 0.9720\n",
            "Epoch 293/500\n",
            "2/2 [==============================] - 0s 218ms/step - loss: 1.4467e-04 - acc: 1.0000 - val_loss: 0.1231 - val_acc: 0.9720\n",
            "Epoch 294/500\n",
            "2/2 [==============================] - 0s 210ms/step - loss: 1.3897e-04 - acc: 1.0000 - val_loss: 0.1220 - val_acc: 0.9720\n",
            "Epoch 295/500\n",
            "2/2 [==============================] - 0s 214ms/step - loss: 1.3972e-04 - acc: 1.0000 - val_loss: 0.1229 - val_acc: 0.9720\n",
            "Epoch 296/500\n",
            "2/2 [==============================] - 0s 209ms/step - loss: 1.3504e-04 - acc: 1.0000 - val_loss: 0.1237 - val_acc: 0.9720\n",
            "Epoch 297/500\n",
            "2/2 [==============================] - 0s 218ms/step - loss: 1.3440e-04 - acc: 1.0000 - val_loss: 0.1237 - val_acc: 0.9720\n",
            "Epoch 298/500\n",
            "2/2 [==============================] - 0s 209ms/step - loss: 1.2384e-04 - acc: 1.0000 - val_loss: 0.1232 - val_acc: 0.9720\n",
            "Epoch 299/500\n",
            "2/2 [==============================] - 0s 207ms/step - loss: 1.3272e-04 - acc: 1.0000 - val_loss: 0.1243 - val_acc: 0.9720\n",
            "Epoch 300/500\n",
            "2/2 [==============================] - 0s 206ms/step - loss: 1.3138e-04 - acc: 1.0000 - val_loss: 0.1244 - val_acc: 0.9720\n",
            "Epoch 301/500\n",
            "2/2 [==============================] - 0s 208ms/step - loss: 1.2960e-04 - acc: 1.0000 - val_loss: 0.1236 - val_acc: 0.9720\n",
            "Epoch 302/500\n",
            "2/2 [==============================] - 0s 207ms/step - loss: 1.1880e-04 - acc: 1.0000 - val_loss: 0.1243 - val_acc: 0.9720\n",
            "Epoch 303/500\n",
            "2/2 [==============================] - 0s 215ms/step - loss: 1.2638e-04 - acc: 1.0000 - val_loss: 0.1255 - val_acc: 0.9720\n",
            "Epoch 304/500\n",
            "2/2 [==============================] - 0s 211ms/step - loss: 1.2756e-04 - acc: 1.0000 - val_loss: 0.1244 - val_acc: 0.9720\n",
            "Epoch 305/500\n",
            "2/2 [==============================] - 0s 210ms/step - loss: 1.2805e-04 - acc: 1.0000 - val_loss: 0.1243 - val_acc: 0.9720\n",
            "Epoch 306/500\n",
            "2/2 [==============================] - 0s 210ms/step - loss: 1.2288e-04 - acc: 1.0000 - val_loss: 0.1255 - val_acc: 0.9720\n",
            "Epoch 307/500\n",
            "2/2 [==============================] - 0s 207ms/step - loss: 1.3143e-04 - acc: 1.0000 - val_loss: 0.1268 - val_acc: 0.9720\n",
            "Epoch 308/500\n",
            "2/2 [==============================] - 0s 213ms/step - loss: 1.2871e-04 - acc: 1.0000 - val_loss: 0.1261 - val_acc: 0.9720\n",
            "Epoch 309/500\n",
            "2/2 [==============================] - 0s 209ms/step - loss: 1.1984e-04 - acc: 1.0000 - val_loss: 0.1249 - val_acc: 0.9720\n",
            "Epoch 310/500\n",
            "2/2 [==============================] - 0s 207ms/step - loss: 1.2408e-04 - acc: 1.0000 - val_loss: 0.1264 - val_acc: 0.9720\n",
            "Epoch 311/500\n",
            "2/2 [==============================] - 0s 206ms/step - loss: 1.1980e-04 - acc: 1.0000 - val_loss: 0.1270 - val_acc: 0.9720\n",
            "Epoch 312/500\n",
            "2/2 [==============================] - 0s 210ms/step - loss: 1.2438e-04 - acc: 1.0000 - val_loss: 0.1263 - val_acc: 0.9720\n",
            "Epoch 313/500\n",
            "2/2 [==============================] - 0s 209ms/step - loss: 1.1192e-04 - acc: 1.0000 - val_loss: 0.1265 - val_acc: 0.9720\n",
            "Epoch 314/500\n",
            "2/2 [==============================] - 0s 212ms/step - loss: 1.1141e-04 - acc: 1.0000 - val_loss: 0.1268 - val_acc: 0.9720\n",
            "Epoch 315/500\n",
            "2/2 [==============================] - 0s 215ms/step - loss: 1.0652e-04 - acc: 1.0000 - val_loss: 0.1275 - val_acc: 0.9720\n",
            "Epoch 316/500\n",
            "2/2 [==============================] - 0s 208ms/step - loss: 1.0491e-04 - acc: 1.0000 - val_loss: 0.1275 - val_acc: 0.9720\n",
            "Epoch 317/500\n",
            "2/2 [==============================] - 0s 205ms/step - loss: 1.1333e-04 - acc: 1.0000 - val_loss: 0.1267 - val_acc: 0.9720\n",
            "Epoch 318/500\n",
            "2/2 [==============================] - 0s 212ms/step - loss: 1.0925e-04 - acc: 1.0000 - val_loss: 0.1278 - val_acc: 0.9720\n",
            "Epoch 319/500\n",
            "2/2 [==============================] - 0s 208ms/step - loss: 1.1154e-04 - acc: 1.0000 - val_loss: 0.1293 - val_acc: 0.9720\n",
            "Epoch 320/500\n",
            "2/2 [==============================] - 0s 210ms/step - loss: 1.0629e-04 - acc: 1.0000 - val_loss: 0.1275 - val_acc: 0.9720\n",
            "Epoch 321/500\n",
            "2/2 [==============================] - 0s 220ms/step - loss: 1.0833e-04 - acc: 1.0000 - val_loss: 0.1272 - val_acc: 0.9720\n",
            "Epoch 322/500\n",
            "2/2 [==============================] - 0s 209ms/step - loss: 1.1005e-04 - acc: 1.0000 - val_loss: 0.1289 - val_acc: 0.9720\n",
            "Epoch 323/500\n",
            "2/2 [==============================] - 0s 218ms/step - loss: 1.0543e-04 - acc: 1.0000 - val_loss: 0.1304 - val_acc: 0.9720\n",
            "Epoch 324/500\n",
            "2/2 [==============================] - 0s 216ms/step - loss: 9.8341e-05 - acc: 1.0000 - val_loss: 0.1294 - val_acc: 0.9720\n",
            "Epoch 325/500\n",
            "2/2 [==============================] - 0s 207ms/step - loss: 1.0448e-04 - acc: 1.0000 - val_loss: 0.1271 - val_acc: 0.9720\n",
            "Epoch 326/500\n",
            "2/2 [==============================] - 0s 213ms/step - loss: 1.0713e-04 - acc: 1.0000 - val_loss: 0.1281 - val_acc: 0.9720\n",
            "Epoch 327/500\n",
            "2/2 [==============================] - 0s 213ms/step - loss: 9.4085e-05 - acc: 1.0000 - val_loss: 0.1305 - val_acc: 0.9720\n",
            "Epoch 328/500\n",
            "2/2 [==============================] - 0s 211ms/step - loss: 9.4772e-05 - acc: 1.0000 - val_loss: 0.1315 - val_acc: 0.9720\n",
            "Epoch 329/500\n",
            "2/2 [==============================] - 0s 206ms/step - loss: 9.5712e-05 - acc: 1.0000 - val_loss: 0.1293 - val_acc: 0.9720\n",
            "Epoch 330/500\n",
            "2/2 [==============================] - 0s 212ms/step - loss: 9.1521e-05 - acc: 1.0000 - val_loss: 0.1288 - val_acc: 0.9720\n",
            "Epoch 331/500\n",
            "2/2 [==============================] - 0s 211ms/step - loss: 9.7600e-05 - acc: 1.0000 - val_loss: 0.1303 - val_acc: 0.9720\n",
            "Epoch 332/500\n",
            "2/2 [==============================] - 0s 209ms/step - loss: 9.7882e-05 - acc: 1.0000 - val_loss: 0.1317 - val_acc: 0.9720\n",
            "Epoch 333/500\n",
            "2/2 [==============================] - 0s 209ms/step - loss: 1.0021e-04 - acc: 1.0000 - val_loss: 0.1311 - val_acc: 0.9720\n",
            "Epoch 334/500\n",
            "2/2 [==============================] - 0s 213ms/step - loss: 9.4352e-05 - acc: 1.0000 - val_loss: 0.1303 - val_acc: 0.9720\n",
            "Epoch 335/500\n",
            "2/2 [==============================] - 0s 209ms/step - loss: 9.5411e-05 - acc: 1.0000 - val_loss: 0.1308 - val_acc: 0.9720\n",
            "Epoch 336/500\n",
            "2/2 [==============================] - 0s 213ms/step - loss: 9.0173e-05 - acc: 1.0000 - val_loss: 0.1313 - val_acc: 0.9720\n",
            "Epoch 337/500\n",
            "2/2 [==============================] - 0s 212ms/step - loss: 9.1951e-05 - acc: 1.0000 - val_loss: 0.1307 - val_acc: 0.9720\n",
            "Epoch 338/500\n",
            "2/2 [==============================] - 0s 207ms/step - loss: 8.4619e-05 - acc: 1.0000 - val_loss: 0.1314 - val_acc: 0.9720\n",
            "Epoch 339/500\n",
            "2/2 [==============================] - 0s 214ms/step - loss: 9.2506e-05 - acc: 1.0000 - val_loss: 0.1323 - val_acc: 0.9720\n",
            "Epoch 340/500\n",
            "2/2 [==============================] - 0s 211ms/step - loss: 9.2229e-05 - acc: 1.0000 - val_loss: 0.1311 - val_acc: 0.9720\n",
            "Epoch 341/500\n",
            "2/2 [==============================] - 0s 216ms/step - loss: 9.2569e-05 - acc: 1.0000 - val_loss: 0.1317 - val_acc: 0.9720\n",
            "Epoch 342/500\n",
            "2/2 [==============================] - 0s 219ms/step - loss: 8.3550e-05 - acc: 1.0000 - val_loss: 0.1328 - val_acc: 0.9720\n",
            "Epoch 343/500\n",
            "2/2 [==============================] - 0s 207ms/step - loss: 8.4591e-05 - acc: 1.0000 - val_loss: 0.1319 - val_acc: 0.9720\n",
            "Epoch 344/500\n",
            "2/2 [==============================] - 0s 206ms/step - loss: 8.0858e-05 - acc: 1.0000 - val_loss: 0.1317 - val_acc: 0.9720\n",
            "Epoch 345/500\n",
            "2/2 [==============================] - 0s 213ms/step - loss: 8.1778e-05 - acc: 1.0000 - val_loss: 0.1328 - val_acc: 0.9720\n",
            "Epoch 346/500\n",
            "2/2 [==============================] - 0s 209ms/step - loss: 8.6059e-05 - acc: 1.0000 - val_loss: 0.1333 - val_acc: 0.9720\n",
            "Epoch 347/500\n",
            "2/2 [==============================] - 0s 214ms/step - loss: 7.6284e-05 - acc: 1.0000 - val_loss: 0.1332 - val_acc: 0.9720\n",
            "Epoch 348/500\n",
            "2/2 [==============================] - 0s 216ms/step - loss: 8.0967e-05 - acc: 1.0000 - val_loss: 0.1331 - val_acc: 0.9720\n",
            "Epoch 349/500\n",
            "2/2 [==============================] - 0s 213ms/step - loss: 8.0159e-05 - acc: 1.0000 - val_loss: 0.1327 - val_acc: 0.9720\n",
            "Epoch 350/500\n",
            "2/2 [==============================] - 0s 206ms/step - loss: 7.9756e-05 - acc: 1.0000 - val_loss: 0.1337 - val_acc: 0.9720\n",
            "Epoch 351/500\n",
            "2/2 [==============================] - 0s 207ms/step - loss: 7.7134e-05 - acc: 1.0000 - val_loss: 0.1343 - val_acc: 0.9720\n",
            "Epoch 352/500\n",
            "2/2 [==============================] - 0s 212ms/step - loss: 7.6509e-05 - acc: 1.0000 - val_loss: 0.1337 - val_acc: 0.9720\n",
            "Epoch 353/500\n",
            "2/2 [==============================] - 0s 215ms/step - loss: 7.6528e-05 - acc: 1.0000 - val_loss: 0.1337 - val_acc: 0.9720\n",
            "Epoch 354/500\n",
            "2/2 [==============================] - 0s 208ms/step - loss: 8.0978e-05 - acc: 1.0000 - val_loss: 0.1346 - val_acc: 0.9720\n",
            "Epoch 355/500\n",
            "2/2 [==============================] - 0s 214ms/step - loss: 7.3499e-05 - acc: 1.0000 - val_loss: 0.1352 - val_acc: 0.9720\n",
            "Epoch 356/500\n",
            "2/2 [==============================] - 0s 208ms/step - loss: 7.2255e-05 - acc: 1.0000 - val_loss: 0.1344 - val_acc: 0.9720\n",
            "Epoch 357/500\n",
            "2/2 [==============================] - 0s 208ms/step - loss: 7.6553e-05 - acc: 1.0000 - val_loss: 0.1341 - val_acc: 0.9720\n",
            "Epoch 358/500\n",
            "2/2 [==============================] - 0s 215ms/step - loss: 7.0972e-05 - acc: 1.0000 - val_loss: 0.1348 - val_acc: 0.9720\n",
            "Epoch 359/500\n",
            "2/2 [==============================] - 0s 207ms/step - loss: 6.9742e-05 - acc: 1.0000 - val_loss: 0.1355 - val_acc: 0.9720\n",
            "Epoch 360/500\n",
            "2/2 [==============================] - 0s 225ms/step - loss: 7.1987e-05 - acc: 1.0000 - val_loss: 0.1349 - val_acc: 0.9720\n",
            "Epoch 361/500\n",
            "2/2 [==============================] - 0s 213ms/step - loss: 6.9561e-05 - acc: 1.0000 - val_loss: 0.1352 - val_acc: 0.9720\n",
            "Epoch 362/500\n",
            "2/2 [==============================] - 0s 212ms/step - loss: 7.2006e-05 - acc: 1.0000 - val_loss: 0.1357 - val_acc: 0.9720\n",
            "Epoch 363/500\n",
            "2/2 [==============================] - 0s 209ms/step - loss: 7.3949e-05 - acc: 1.0000 - val_loss: 0.1362 - val_acc: 0.9720\n",
            "Epoch 364/500\n",
            "2/2 [==============================] - 0s 209ms/step - loss: 6.5610e-05 - acc: 1.0000 - val_loss: 0.1361 - val_acc: 0.9720\n",
            "Epoch 365/500\n",
            "2/2 [==============================] - 0s 209ms/step - loss: 6.6668e-05 - acc: 1.0000 - val_loss: 0.1354 - val_acc: 0.9720\n",
            "Epoch 366/500\n",
            "2/2 [==============================] - 0s 211ms/step - loss: 6.9473e-05 - acc: 1.0000 - val_loss: 0.1355 - val_acc: 0.9720\n",
            "Epoch 367/500\n",
            "2/2 [==============================] - 0s 208ms/step - loss: 6.9176e-05 - acc: 1.0000 - val_loss: 0.1367 - val_acc: 0.9720\n",
            "Epoch 368/500\n",
            "2/2 [==============================] - 0s 213ms/step - loss: 7.1390e-05 - acc: 1.0000 - val_loss: 0.1368 - val_acc: 0.9720\n",
            "Epoch 369/500\n",
            "2/2 [==============================] - 0s 210ms/step - loss: 6.2460e-05 - acc: 1.0000 - val_loss: 0.1369 - val_acc: 0.9720\n",
            "Epoch 370/500\n",
            "2/2 [==============================] - 0s 213ms/step - loss: 6.5651e-05 - acc: 1.0000 - val_loss: 0.1368 - val_acc: 0.9720\n",
            "Epoch 371/500\n",
            "2/2 [==============================] - 0s 208ms/step - loss: 6.3328e-05 - acc: 1.0000 - val_loss: 0.1366 - val_acc: 0.9720\n",
            "Epoch 372/500\n",
            "2/2 [==============================] - 0s 212ms/step - loss: 6.5361e-05 - acc: 1.0000 - val_loss: 0.1370 - val_acc: 0.9720\n",
            "Epoch 373/500\n",
            "2/2 [==============================] - 0s 210ms/step - loss: 6.2714e-05 - acc: 1.0000 - val_loss: 0.1379 - val_acc: 0.9720\n",
            "Epoch 374/500\n",
            "2/2 [==============================] - 0s 212ms/step - loss: 6.3250e-05 - acc: 1.0000 - val_loss: 0.1377 - val_acc: 0.9720\n",
            "Epoch 375/500\n",
            "2/2 [==============================] - 0s 207ms/step - loss: 6.0553e-05 - acc: 1.0000 - val_loss: 0.1373 - val_acc: 0.9720\n",
            "Epoch 376/500\n",
            "2/2 [==============================] - 0s 212ms/step - loss: 6.2496e-05 - acc: 1.0000 - val_loss: 0.1377 - val_acc: 0.9720\n",
            "Epoch 377/500\n",
            "2/2 [==============================] - 0s 214ms/step - loss: 6.3894e-05 - acc: 1.0000 - val_loss: 0.1386 - val_acc: 0.9720\n",
            "Epoch 378/500\n",
            "2/2 [==============================] - 0s 210ms/step - loss: 6.0673e-05 - acc: 1.0000 - val_loss: 0.1387 - val_acc: 0.9720\n",
            "Epoch 379/500\n",
            "2/2 [==============================] - 0s 220ms/step - loss: 6.1708e-05 - acc: 1.0000 - val_loss: 0.1374 - val_acc: 0.9720\n",
            "Epoch 380/500\n",
            "2/2 [==============================] - 0s 211ms/step - loss: 6.0440e-05 - acc: 1.0000 - val_loss: 0.1374 - val_acc: 0.9720\n",
            "Epoch 381/500\n",
            "2/2 [==============================] - 0s 215ms/step - loss: 6.0451e-05 - acc: 1.0000 - val_loss: 0.1393 - val_acc: 0.9720\n",
            "Epoch 382/500\n",
            "2/2 [==============================] - 0s 209ms/step - loss: 5.6585e-05 - acc: 1.0000 - val_loss: 0.1398 - val_acc: 0.9720\n",
            "Epoch 383/500\n",
            "2/2 [==============================] - 0s 210ms/step - loss: 6.1733e-05 - acc: 1.0000 - val_loss: 0.1384 - val_acc: 0.9720\n",
            "Epoch 384/500\n",
            "2/2 [==============================] - 0s 210ms/step - loss: 5.8684e-05 - acc: 1.0000 - val_loss: 0.1384 - val_acc: 0.9720\n",
            "Epoch 385/500\n",
            "2/2 [==============================] - 0s 211ms/step - loss: 6.0320e-05 - acc: 1.0000 - val_loss: 0.1400 - val_acc: 0.9720\n",
            "Epoch 386/500\n",
            "2/2 [==============================] - 0s 214ms/step - loss: 6.0542e-05 - acc: 1.0000 - val_loss: 0.1399 - val_acc: 0.9720\n",
            "Epoch 387/500\n",
            "2/2 [==============================] - 0s 219ms/step - loss: 5.6667e-05 - acc: 1.0000 - val_loss: 0.1397 - val_acc: 0.9720\n",
            "Epoch 388/500\n",
            "2/2 [==============================] - 0s 209ms/step - loss: 5.8837e-05 - acc: 1.0000 - val_loss: 0.1396 - val_acc: 0.9720\n",
            "Epoch 389/500\n",
            "2/2 [==============================] - 0s 210ms/step - loss: 5.4969e-05 - acc: 1.0000 - val_loss: 0.1401 - val_acc: 0.9720\n",
            "Epoch 390/500\n",
            "2/2 [==============================] - 0s 213ms/step - loss: 5.7794e-05 - acc: 1.0000 - val_loss: 0.1403 - val_acc: 0.9720\n",
            "Epoch 391/500\n",
            "2/2 [==============================] - 0s 210ms/step - loss: 5.5337e-05 - acc: 1.0000 - val_loss: 0.1404 - val_acc: 0.9720\n",
            "Epoch 392/500\n",
            "2/2 [==============================] - 0s 213ms/step - loss: 5.2272e-05 - acc: 1.0000 - val_loss: 0.1401 - val_acc: 0.9720\n",
            "Epoch 393/500\n",
            "2/2 [==============================] - 0s 209ms/step - loss: 5.6690e-05 - acc: 1.0000 - val_loss: 0.1403 - val_acc: 0.9720\n",
            "Epoch 394/500\n",
            "2/2 [==============================] - 0s 208ms/step - loss: 5.1534e-05 - acc: 1.0000 - val_loss: 0.1406 - val_acc: 0.9720\n",
            "Epoch 395/500\n",
            "2/2 [==============================] - 0s 218ms/step - loss: 5.7128e-05 - acc: 1.0000 - val_loss: 0.1409 - val_acc: 0.9720\n",
            "Epoch 396/500\n",
            "2/2 [==============================] - 0s 213ms/step - loss: 5.4006e-05 - acc: 1.0000 - val_loss: 0.1410 - val_acc: 0.9720\n",
            "Epoch 397/500\n",
            "2/2 [==============================] - 0s 211ms/step - loss: 5.4212e-05 - acc: 1.0000 - val_loss: 0.1408 - val_acc: 0.9720\n",
            "Epoch 398/500\n",
            "2/2 [==============================] - 0s 207ms/step - loss: 5.4225e-05 - acc: 1.0000 - val_loss: 0.1412 - val_acc: 0.9720\n",
            "Epoch 399/500\n",
            "2/2 [==============================] - 0s 207ms/step - loss: 5.3170e-05 - acc: 1.0000 - val_loss: 0.1416 - val_acc: 0.9720\n",
            "Epoch 400/500\n",
            "2/2 [==============================] - 0s 220ms/step - loss: 5.2435e-05 - acc: 1.0000 - val_loss: 0.1415 - val_acc: 0.9720\n",
            "Epoch 401/500\n",
            "2/2 [==============================] - 0s 216ms/step - loss: 5.1674e-05 - acc: 1.0000 - val_loss: 0.1417 - val_acc: 0.9720\n",
            "Epoch 402/500\n",
            "2/2 [==============================] - 0s 215ms/step - loss: 5.1233e-05 - acc: 1.0000 - val_loss: 0.1419 - val_acc: 0.9720\n",
            "Epoch 403/500\n",
            "2/2 [==============================] - 0s 211ms/step - loss: 5.0168e-05 - acc: 1.0000 - val_loss: 0.1419 - val_acc: 0.9720\n",
            "Epoch 404/500\n",
            "2/2 [==============================] - 0s 210ms/step - loss: 5.2208e-05 - acc: 1.0000 - val_loss: 0.1416 - val_acc: 0.9720\n",
            "Epoch 405/500\n",
            "2/2 [==============================] - 0s 220ms/step - loss: 5.2341e-05 - acc: 1.0000 - val_loss: 0.1424 - val_acc: 0.9720\n",
            "Epoch 406/500\n",
            "2/2 [==============================] - 0s 211ms/step - loss: 4.8049e-05 - acc: 1.0000 - val_loss: 0.1432 - val_acc: 0.9720\n",
            "Epoch 407/500\n",
            "2/2 [==============================] - 0s 208ms/step - loss: 4.8777e-05 - acc: 1.0000 - val_loss: 0.1425 - val_acc: 0.9720\n",
            "Epoch 408/500\n",
            "2/2 [==============================] - 0s 212ms/step - loss: 4.9282e-05 - acc: 1.0000 - val_loss: 0.1422 - val_acc: 0.9720\n",
            "Epoch 409/500\n",
            "2/2 [==============================] - 0s 206ms/step - loss: 4.9393e-05 - acc: 1.0000 - val_loss: 0.1429 - val_acc: 0.9720\n",
            "Epoch 410/500\n",
            "2/2 [==============================] - 0s 210ms/step - loss: 5.0117e-05 - acc: 1.0000 - val_loss: 0.1432 - val_acc: 0.9720\n",
            "Epoch 411/500\n",
            "2/2 [==============================] - 0s 216ms/step - loss: 4.7651e-05 - acc: 1.0000 - val_loss: 0.1431 - val_acc: 0.9720\n",
            "Epoch 412/500\n",
            "2/2 [==============================] - 0s 216ms/step - loss: 4.8929e-05 - acc: 1.0000 - val_loss: 0.1430 - val_acc: 0.9720\n",
            "Epoch 413/500\n",
            "2/2 [==============================] - 0s 210ms/step - loss: 4.4919e-05 - acc: 1.0000 - val_loss: 0.1437 - val_acc: 0.9720\n",
            "Epoch 414/500\n",
            "2/2 [==============================] - 0s 207ms/step - loss: 4.6074e-05 - acc: 1.0000 - val_loss: 0.1441 - val_acc: 0.9720\n",
            "Epoch 415/500\n",
            "2/2 [==============================] - 0s 217ms/step - loss: 4.7781e-05 - acc: 1.0000 - val_loss: 0.1435 - val_acc: 0.9720\n",
            "Epoch 416/500\n",
            "2/2 [==============================] - 0s 214ms/step - loss: 4.6748e-05 - acc: 1.0000 - val_loss: 0.1432 - val_acc: 0.9720\n",
            "Epoch 417/500\n",
            "2/2 [==============================] - 0s 213ms/step - loss: 4.5116e-05 - acc: 1.0000 - val_loss: 0.1439 - val_acc: 0.9720\n",
            "Epoch 418/500\n",
            "2/2 [==============================] - 0s 212ms/step - loss: 4.4357e-05 - acc: 1.0000 - val_loss: 0.1444 - val_acc: 0.9720\n",
            "Epoch 419/500\n",
            "2/2 [==============================] - 0s 218ms/step - loss: 4.5521e-05 - acc: 1.0000 - val_loss: 0.1443 - val_acc: 0.9720\n",
            "Epoch 420/500\n",
            "2/2 [==============================] - 0s 210ms/step - loss: 4.3468e-05 - acc: 1.0000 - val_loss: 0.1438 - val_acc: 0.9720\n",
            "Epoch 421/500\n",
            "2/2 [==============================] - 0s 217ms/step - loss: 4.4508e-05 - acc: 1.0000 - val_loss: 0.1441 - val_acc: 0.9720\n",
            "Epoch 422/500\n",
            "2/2 [==============================] - 0s 212ms/step - loss: 4.6305e-05 - acc: 1.0000 - val_loss: 0.1452 - val_acc: 0.9720\n",
            "Epoch 423/500\n",
            "2/2 [==============================] - 0s 208ms/step - loss: 4.3649e-05 - acc: 1.0000 - val_loss: 0.1450 - val_acc: 0.9720\n",
            "Epoch 424/500\n",
            "2/2 [==============================] - 0s 212ms/step - loss: 4.2012e-05 - acc: 1.0000 - val_loss: 0.1444 - val_acc: 0.9720\n",
            "Epoch 425/500\n",
            "2/2 [==============================] - 0s 208ms/step - loss: 4.1256e-05 - acc: 1.0000 - val_loss: 0.1448 - val_acc: 0.9720\n",
            "Epoch 426/500\n",
            "2/2 [==============================] - 0s 211ms/step - loss: 4.3952e-05 - acc: 1.0000 - val_loss: 0.1453 - val_acc: 0.9720\n",
            "Epoch 427/500\n",
            "2/2 [==============================] - 0s 214ms/step - loss: 4.2644e-05 - acc: 1.0000 - val_loss: 0.1458 - val_acc: 0.9720\n",
            "Epoch 428/500\n",
            "2/2 [==============================] - 0s 209ms/step - loss: 4.3581e-05 - acc: 1.0000 - val_loss: 0.1450 - val_acc: 0.9720\n",
            "Epoch 429/500\n",
            "2/2 [==============================] - 0s 212ms/step - loss: 4.2498e-05 - acc: 1.0000 - val_loss: 0.1454 - val_acc: 0.9720\n",
            "Epoch 430/500\n",
            "2/2 [==============================] - 0s 211ms/step - loss: 4.2540e-05 - acc: 1.0000 - val_loss: 0.1460 - val_acc: 0.9720\n",
            "Epoch 431/500\n",
            "2/2 [==============================] - 0s 217ms/step - loss: 4.1681e-05 - acc: 1.0000 - val_loss: 0.1459 - val_acc: 0.9720\n",
            "Epoch 432/500\n",
            "2/2 [==============================] - 0s 213ms/step - loss: 4.1959e-05 - acc: 1.0000 - val_loss: 0.1457 - val_acc: 0.9720\n",
            "Epoch 433/500\n",
            "2/2 [==============================] - 0s 216ms/step - loss: 4.3286e-05 - acc: 1.0000 - val_loss: 0.1461 - val_acc: 0.9720\n",
            "Epoch 434/500\n",
            "2/2 [==============================] - 0s 207ms/step - loss: 4.0353e-05 - acc: 1.0000 - val_loss: 0.1464 - val_acc: 0.9720\n",
            "Epoch 435/500\n",
            "2/2 [==============================] - 0s 207ms/step - loss: 3.9560e-05 - acc: 1.0000 - val_loss: 0.1463 - val_acc: 0.9720\n",
            "Epoch 436/500\n",
            "2/2 [==============================] - 0s 212ms/step - loss: 3.8817e-05 - acc: 1.0000 - val_loss: 0.1464 - val_acc: 0.9720\n",
            "Epoch 437/500\n",
            "2/2 [==============================] - 0s 209ms/step - loss: 4.1125e-05 - acc: 1.0000 - val_loss: 0.1464 - val_acc: 0.9720\n",
            "Epoch 438/500\n",
            "2/2 [==============================] - 0s 209ms/step - loss: 3.8648e-05 - acc: 1.0000 - val_loss: 0.1471 - val_acc: 0.9720\n",
            "Epoch 439/500\n",
            "2/2 [==============================] - 0s 213ms/step - loss: 3.9982e-05 - acc: 1.0000 - val_loss: 0.1472 - val_acc: 0.9720\n",
            "Epoch 440/500\n",
            "2/2 [==============================] - 0s 208ms/step - loss: 3.9360e-05 - acc: 1.0000 - val_loss: 0.1470 - val_acc: 0.9720\n",
            "Epoch 441/500\n",
            "2/2 [==============================] - 0s 207ms/step - loss: 4.0259e-05 - acc: 1.0000 - val_loss: 0.1472 - val_acc: 0.9720\n",
            "Epoch 442/500\n",
            "2/2 [==============================] - 0s 211ms/step - loss: 3.9476e-05 - acc: 1.0000 - val_loss: 0.1474 - val_acc: 0.9720\n",
            "Epoch 443/500\n",
            "2/2 [==============================] - 0s 223ms/step - loss: 3.6543e-05 - acc: 1.0000 - val_loss: 0.1473 - val_acc: 0.9720\n",
            "Epoch 444/500\n",
            "2/2 [==============================] - 0s 212ms/step - loss: 3.7257e-05 - acc: 1.0000 - val_loss: 0.1477 - val_acc: 0.9720\n",
            "Epoch 445/500\n",
            "2/2 [==============================] - 0s 213ms/step - loss: 3.6279e-05 - acc: 1.0000 - val_loss: 0.1477 - val_acc: 0.9720\n",
            "Epoch 446/500\n",
            "2/2 [==============================] - 0s 214ms/step - loss: 3.8542e-05 - acc: 1.0000 - val_loss: 0.1479 - val_acc: 0.9720\n",
            "Epoch 447/500\n",
            "2/2 [==============================] - 0s 213ms/step - loss: 3.7571e-05 - acc: 1.0000 - val_loss: 0.1480 - val_acc: 0.9720\n",
            "Epoch 448/500\n",
            "2/2 [==============================] - 0s 209ms/step - loss: 3.9585e-05 - acc: 1.0000 - val_loss: 0.1477 - val_acc: 0.9720\n",
            "Epoch 449/500\n",
            "2/2 [==============================] - 0s 214ms/step - loss: 3.7532e-05 - acc: 1.0000 - val_loss: 0.1487 - val_acc: 0.9720\n",
            "Epoch 450/500\n",
            "2/2 [==============================] - 0s 214ms/step - loss: 3.6333e-05 - acc: 1.0000 - val_loss: 0.1485 - val_acc: 0.9720\n",
            "Epoch 451/500\n",
            "2/2 [==============================] - 0s 208ms/step - loss: 3.6918e-05 - acc: 1.0000 - val_loss: 0.1481 - val_acc: 0.9720\n",
            "Epoch 452/500\n",
            "2/2 [==============================] - 0s 211ms/step - loss: 3.5776e-05 - acc: 1.0000 - val_loss: 0.1486 - val_acc: 0.9720\n",
            "Epoch 453/500\n",
            "2/2 [==============================] - 0s 213ms/step - loss: 3.4691e-05 - acc: 1.0000 - val_loss: 0.1491 - val_acc: 0.9720\n",
            "Epoch 454/500\n",
            "2/2 [==============================] - 0s 210ms/step - loss: 3.5855e-05 - acc: 1.0000 - val_loss: 0.1490 - val_acc: 0.9720\n",
            "Epoch 455/500\n",
            "2/2 [==============================] - 0s 217ms/step - loss: 3.4962e-05 - acc: 1.0000 - val_loss: 0.1486 - val_acc: 0.9720\n",
            "Epoch 456/500\n",
            "2/2 [==============================] - 0s 209ms/step - loss: 3.5783e-05 - acc: 1.0000 - val_loss: 0.1488 - val_acc: 0.9720\n",
            "Epoch 457/500\n",
            "2/2 [==============================] - 0s 210ms/step - loss: 3.5388e-05 - acc: 1.0000 - val_loss: 0.1496 - val_acc: 0.9720\n",
            "Epoch 458/500\n",
            "2/2 [==============================] - 0s 209ms/step - loss: 3.2755e-05 - acc: 1.0000 - val_loss: 0.1490 - val_acc: 0.9720\n",
            "Epoch 459/500\n",
            "2/2 [==============================] - 0s 210ms/step - loss: 3.4793e-05 - acc: 1.0000 - val_loss: 0.1488 - val_acc: 0.9720\n",
            "Epoch 460/500\n",
            "2/2 [==============================] - 0s 210ms/step - loss: 3.4205e-05 - acc: 1.0000 - val_loss: 0.1498 - val_acc: 0.9720\n",
            "Epoch 461/500\n",
            "2/2 [==============================] - 0s 214ms/step - loss: 3.4798e-05 - acc: 1.0000 - val_loss: 0.1504 - val_acc: 0.9720\n",
            "Epoch 462/500\n",
            "2/2 [==============================] - 0s 209ms/step - loss: 3.3239e-05 - acc: 1.0000 - val_loss: 0.1498 - val_acc: 0.9720\n",
            "Epoch 463/500\n",
            "2/2 [==============================] - 0s 220ms/step - loss: 3.2160e-05 - acc: 1.0000 - val_loss: 0.1496 - val_acc: 0.9720\n",
            "Epoch 464/500\n",
            "2/2 [==============================] - 0s 219ms/step - loss: 3.5237e-05 - acc: 1.0000 - val_loss: 0.1502 - val_acc: 0.9720\n",
            "Epoch 465/500\n",
            "2/2 [==============================] - 0s 219ms/step - loss: 3.2301e-05 - acc: 1.0000 - val_loss: 0.1503 - val_acc: 0.9720\n",
            "Epoch 466/500\n",
            "2/2 [==============================] - 0s 209ms/step - loss: 3.2653e-05 - acc: 1.0000 - val_loss: 0.1503 - val_acc: 0.9720\n",
            "Epoch 467/500\n",
            "2/2 [==============================] - 0s 209ms/step - loss: 3.4183e-05 - acc: 1.0000 - val_loss: 0.1500 - val_acc: 0.9720\n",
            "Epoch 468/500\n",
            "2/2 [==============================] - 0s 210ms/step - loss: 3.2450e-05 - acc: 1.0000 - val_loss: 0.1504 - val_acc: 0.9720\n",
            "Epoch 469/500\n",
            "2/2 [==============================] - 0s 217ms/step - loss: 3.1478e-05 - acc: 1.0000 - val_loss: 0.1514 - val_acc: 0.9720\n",
            "Epoch 470/500\n",
            "2/2 [==============================] - 0s 212ms/step - loss: 3.1430e-05 - acc: 1.0000 - val_loss: 0.1505 - val_acc: 0.9720\n",
            "Epoch 471/500\n",
            "2/2 [==============================] - 0s 216ms/step - loss: 3.3971e-05 - acc: 1.0000 - val_loss: 0.1502 - val_acc: 0.9720\n",
            "Epoch 472/500\n",
            "2/2 [==============================] - 0s 210ms/step - loss: 2.9802e-05 - acc: 1.0000 - val_loss: 0.1508 - val_acc: 0.9720\n",
            "Epoch 473/500\n",
            "2/2 [==============================] - 0s 219ms/step - loss: 3.2476e-05 - acc: 1.0000 - val_loss: 0.1518 - val_acc: 0.9720\n",
            "Epoch 474/500\n",
            "2/2 [==============================] - 0s 212ms/step - loss: 3.1615e-05 - acc: 1.0000 - val_loss: 0.1519 - val_acc: 0.9720\n",
            "Epoch 475/500\n",
            "2/2 [==============================] - 0s 214ms/step - loss: 3.2674e-05 - acc: 1.0000 - val_loss: 0.1506 - val_acc: 0.9720\n",
            "Epoch 476/500\n",
            "2/2 [==============================] - 0s 210ms/step - loss: 3.0115e-05 - acc: 1.0000 - val_loss: 0.1512 - val_acc: 0.9720\n",
            "Epoch 477/500\n",
            "2/2 [==============================] - 0s 211ms/step - loss: 3.0666e-05 - acc: 1.0000 - val_loss: 0.1517 - val_acc: 0.9720\n",
            "Epoch 478/500\n",
            "2/2 [==============================] - 0s 216ms/step - loss: 3.1202e-05 - acc: 1.0000 - val_loss: 0.1514 - val_acc: 0.9720\n",
            "Epoch 479/500\n",
            "2/2 [==============================] - 0s 215ms/step - loss: 2.9264e-05 - acc: 1.0000 - val_loss: 0.1521 - val_acc: 0.9720\n",
            "Epoch 480/500\n",
            "2/2 [==============================] - 0s 221ms/step - loss: 2.9392e-05 - acc: 1.0000 - val_loss: 0.1527 - val_acc: 0.9720\n",
            "Epoch 481/500\n",
            "2/2 [==============================] - 0s 220ms/step - loss: 3.0586e-05 - acc: 1.0000 - val_loss: 0.1514 - val_acc: 0.9720\n",
            "Epoch 482/500\n",
            "2/2 [==============================] - 0s 220ms/step - loss: 3.0108e-05 - acc: 1.0000 - val_loss: 0.1519 - val_acc: 0.9720\n",
            "Epoch 483/500\n",
            "2/2 [==============================] - 0s 214ms/step - loss: 2.9064e-05 - acc: 1.0000 - val_loss: 0.1524 - val_acc: 0.9720\n",
            "Epoch 484/500\n",
            "2/2 [==============================] - 0s 225ms/step - loss: 3.0154e-05 - acc: 1.0000 - val_loss: 0.1531 - val_acc: 0.9720\n",
            "Epoch 485/500\n",
            "2/2 [==============================] - 0s 213ms/step - loss: 2.8911e-05 - acc: 1.0000 - val_loss: 0.1524 - val_acc: 0.9720\n",
            "Epoch 486/500\n",
            "2/2 [==============================] - 0s 216ms/step - loss: 2.9496e-05 - acc: 1.0000 - val_loss: 0.1524 - val_acc: 0.9720\n",
            "Epoch 487/500\n",
            "2/2 [==============================] - 0s 210ms/step - loss: 3.0119e-05 - acc: 1.0000 - val_loss: 0.1531 - val_acc: 0.9720\n",
            "Epoch 488/500\n",
            "2/2 [==============================] - 0s 219ms/step - loss: 2.7029e-05 - acc: 1.0000 - val_loss: 0.1531 - val_acc: 0.9720\n",
            "Epoch 489/500\n",
            "2/2 [==============================] - 0s 213ms/step - loss: 2.9749e-05 - acc: 1.0000 - val_loss: 0.1528 - val_acc: 0.9720\n",
            "Epoch 490/500\n",
            "2/2 [==============================] - 0s 208ms/step - loss: 2.7298e-05 - acc: 1.0000 - val_loss: 0.1530 - val_acc: 0.9720\n",
            "Epoch 491/500\n",
            "2/2 [==============================] - 0s 219ms/step - loss: 2.8360e-05 - acc: 1.0000 - val_loss: 0.1534 - val_acc: 0.9720\n",
            "Epoch 492/500\n",
            "2/2 [==============================] - 0s 215ms/step - loss: 2.7116e-05 - acc: 1.0000 - val_loss: 0.1540 - val_acc: 0.9720\n",
            "Epoch 493/500\n",
            "2/2 [==============================] - 0s 209ms/step - loss: 2.9086e-05 - acc: 1.0000 - val_loss: 0.1531 - val_acc: 0.9720\n",
            "Epoch 494/500\n",
            "2/2 [==============================] - 0s 221ms/step - loss: 2.8502e-05 - acc: 1.0000 - val_loss: 0.1534 - val_acc: 0.9720\n",
            "Epoch 495/500\n",
            "2/2 [==============================] - 0s 207ms/step - loss: 2.8991e-05 - acc: 1.0000 - val_loss: 0.1534 - val_acc: 0.9720\n",
            "Epoch 496/500\n",
            "2/2 [==============================] - 0s 211ms/step - loss: 2.8383e-05 - acc: 1.0000 - val_loss: 0.1543 - val_acc: 0.9720\n",
            "Epoch 497/500\n",
            "2/2 [==============================] - 0s 211ms/step - loss: 2.9591e-05 - acc: 1.0000 - val_loss: 0.1540 - val_acc: 0.9720\n",
            "Epoch 498/500\n",
            "2/2 [==============================] - 0s 215ms/step - loss: 2.5267e-05 - acc: 1.0000 - val_loss: 0.1540 - val_acc: 0.9720\n",
            "Epoch 499/500\n",
            "2/2 [==============================] - 0s 215ms/step - loss: 2.7483e-05 - acc: 1.0000 - val_loss: 0.1544 - val_acc: 0.9720\n",
            "Epoch 500/500\n",
            "2/2 [==============================] - 0s 213ms/step - loss: 2.8154e-05 - acc: 1.0000 - val_loss: 0.1545 - val_acc: 0.9720\n"
          ],
          "name": "stdout"
        }
      ]
    },
    {
      "cell_type": "code",
      "metadata": {
        "id": "x2qzK4SJB5y9",
        "colab": {
          "base_uri": "https://localhost:8080/",
          "height": 241
        },
        "outputId": "204ec970-9ee2-4145-afeb-ce00ec065d8d"
      },
      "source": [
        "plt.figure(figsize =(5,3))\n",
        "plt.plot(history.history['acc'], marker='.', label='tune')\n",
        "plt.plot(history.history['val_acc'], marker='.', label='test')\n",
        "plt.title('Accuracy')\n",
        "plt.grid(True)\n",
        "plt.xlabel('epoch')\n",
        "plt.ylabel('accuracy')\n",
        "plt.legend(loc='best')\n",
        "plt.show()"
      ],
      "execution_count": 46,
      "outputs": [
        {
          "output_type": "display_data",
          "data": {
            "image/png": "[encoded data removed]",
            "text/plain": [
              "<Figure size 360x216 with 1 Axes>"
            ]
          },
          "metadata": {
            "tags": [],
            "needs_background": "light"
          }
        }
      ]
    }
  ]
}