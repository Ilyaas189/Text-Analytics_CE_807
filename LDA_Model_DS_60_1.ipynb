{
  "nbformat": 4,
  "nbformat_minor": 0,
  "metadata": {
    "colab": {
      "name": "LDA Model_DS_60_1.ipynb",
      "provenance": [],
      "collapsed_sections": [],
      "include_colab_link": true
    },
    "kernelspec": {
      "name": "python3",
      "display_name": "Python 3"
    },
    "language_info": {
      "name": "python"
    },
    "accelerator": "GPU"
  },
  "cells": [
    {
      "cell_type": "markdown",
      "metadata": {
        "id": "view-in-github",
        "colab_type": "text"
      },
      "source": [
        "<a href=\"https://colab.research.google.com/github/Ilyaas189/Text-Analytics_CE_807/blob/main/LDA_Model_DS_60_1.ipynb\" target=\"_parent\"><img src=\"https://colab.research.google.com/assets/colab-badge.svg\" alt=\"Open In Colab\"/></a>"
      ]
    },
    {
      "cell_type": "code",
      "metadata": {
        "colab": {
          "resources": {
            "http://localhost:8080/nbextensions/google.colab/files.js": {
              "data": "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",
              "ok": true,
              "headers": [
                [
                  "content-type",
                  "application/javascript"
                ]
              ],
              "status": 200,
              "status_text": ""
            }
          },
          "base_uri": "https://localhost:8080/",
          "height": 37
        },
        "id": "h48neXM-ANwE",
        "outputId": "b9e9787c-b301-446c-9816-a153fe2c9831"
      },
      "source": [
        "import pandas as pd\n",
        "import numpy as np\n",
        "import matplotlib.pyplot as plt\n",
        "import warnings\n",
        "from google.colab import files\n",
        "from sklearn.naive_bayes import MultinomialNB\n",
        "from sklearn.naive_bayes import BernoulliNB\n",
        "from sklearn.pipeline import Pipeline\n",
        "from sklearn.feature_extraction.text import TfidfVectorizer\n",
        "from sklearn.feature_extraction.text import TfidfTransformer\n",
        "from sklearn.linear_model import SGDClassifier\n",
        "from sklearn.linear_model import LogisticRegression\n",
        "from nltk.stem.snowball import SnowballStemmer\n",
        "from sklearn.neighbors import KNeighborsClassifier\n",
        "from sklearn.ensemble import RandomForestClassifier\n",
        "import numpy as np\n",
        "import re\n",
        "\n",
        "\n",
        "import matplotlib.pyplot as plt\n",
        "%matplotlib inline\n",
        "\n",
        "import nltk\n",
        "import random\n",
        "uploaded = files.upload()\n",
        "files = list(uploaded.keys())\n"
      ],
      "execution_count": 47,
      "outputs": [
        {
          "output_type": "display_data",
          "data": {
            "text/html": [
              "\n",
              "     <input type=\"file\" id=\"files-b5490a51-1d6e-48bf-9ff4-7bf957ae8bab\" name=\"files[]\" multiple disabled\n",
              "        style=\"border:none\" />\n",
              "     <output id=\"result-b5490a51-1d6e-48bf-9ff4-7bf957ae8bab\">\n",
              "      Upload widget is only available when the cell has been executed in the\n",
              "      current browser session. Please rerun this cell to enable.\n",
              "      </output>\n",
              "      <script src=\"/nbextensions/google.colab/files.js\"></script> "
            ],
            "text/plain": [
              "<IPython.core.display.HTML object>"
            ]
          },
          "metadata": {
            "tags": []
          }
        }
      ]
    },
    {
      "cell_type": "code",
      "metadata": {
        "colab": {
          "base_uri": "https://localhost:8080/"
        },
        "id": "qcrJU_pzAhOm",
        "outputId": "8c1dd4fc-f930-4658-ac45-6ec1b2e5e551"
      },
      "source": [
        "# Import Dataset\n",
        "data = pd.read_json('https://raw.githubusercontent.com/selva86/datasets/master/newsgroups.json')\n",
        "print(data.target_names.unique())"
      ],
      "execution_count": 48,
      "outputs": [
        {
          "output_type": "stream",
          "text": [
            "['rec.autos' 'comp.sys.mac.hardware' 'comp.graphics' 'sci.space'\n",
            " 'talk.politics.guns' 'sci.med' 'comp.sys.ibm.pc.hardware'\n",
            " 'comp.os.ms-windows.misc' 'rec.motorcycles' 'talk.religion.misc'\n",
            " 'misc.forsale' 'alt.atheism' 'sci.electronics' 'comp.windows.x'\n",
            " 'rec.sport.hockey' 'rec.sport.baseball' 'soc.religion.christian'\n",
            " 'talk.politics.mideast' 'talk.politics.misc' 'sci.crypt']\n"
          ],
          "name": "stdout"
        }
      ]
    },
    {
      "cell_type": "code",
      "metadata": {
        "colab": {
          "base_uri": "https://localhost:8080/",
          "height": 648
        },
        "id": "SnGiNUYGAtLQ",
        "outputId": "f79ce332-49a1-4140-a962-eab6330b53ca"
      },
      "source": [
        "data.head(20)"
      ],
      "execution_count": 49,
      "outputs": [
        {
          "output_type": "execute_result",
          "data": {
            "text/html": [
              "<div>\n",
              "<style scoped>\n",
              "    .dataframe tbody tr th:only-of-type {\n",
              "        vertical-align: middle;\n",
              "    }\n",
              "\n",
              "    .dataframe tbody tr th {\n",
              "        vertical-align: top;\n",
              "    }\n",
              "\n",
              "    .dataframe thead th {\n",
              "        text-align: right;\n",
              "    }\n",
              "</style>\n",
              "<table border=\"1\" class=\"dataframe\">\n",
              "  <thead>\n",
              "    <tr style=\"text-align: right;\">\n",
              "      <th></th>\n",
              "      <th>content</th>\n",
              "      <th>target</th>\n",
              "      <th>target_names</th>\n",
              "    </tr>\n",
              "  </thead>\n",
              "  <tbody>\n",
              "    <tr>\n",
              "      <th>0</th>\n",
              "      <td>From: lerxst@wam.umd.edu (where's my thing)\\nS...</td>\n",
              "      <td>7</td>\n",
              "      <td>rec.autos</td>\n",
              "    </tr>\n",
              "    <tr>\n",
              "      <th>1</th>\n",
              "      <td>From: guykuo@carson.u.washington.edu (Guy Kuo)...</td>\n",
              "      <td>4</td>\n",
              "      <td>comp.sys.mac.hardware</td>\n",
              "    </tr>\n",
              "    <tr>\n",
              "      <th>2</th>\n",
              "      <td>From: twillis@ec.ecn.purdue.edu (Thomas E Will...</td>\n",
              "      <td>4</td>\n",
              "      <td>comp.sys.mac.hardware</td>\n",
              "    </tr>\n",
              "    <tr>\n",
              "      <th>3</th>\n",
              "      <td>From: jgreen@amber (Joe Green)\\nSubject: Re: W...</td>\n",
              "      <td>1</td>\n",
              "      <td>comp.graphics</td>\n",
              "    </tr>\n",
              "    <tr>\n",
              "      <th>4</th>\n",
              "      <td>From: jcm@head-cfa.harvard.edu (Jonathan McDow...</td>\n",
              "      <td>14</td>\n",
              "      <td>sci.space</td>\n",
              "    </tr>\n",
              "    <tr>\n",
              "      <th>5</th>\n",
              "      <td>From: dfo@vttoulu.tko.vtt.fi (Foxvog Douglas)\\...</td>\n",
              "      <td>16</td>\n",
              "      <td>talk.politics.guns</td>\n",
              "    </tr>\n",
              "    <tr>\n",
              "      <th>6</th>\n",
              "      <td>From: bmdelane@quads.uchicago.edu (brian manni...</td>\n",
              "      <td>13</td>\n",
              "      <td>sci.med</td>\n",
              "    </tr>\n",
              "    <tr>\n",
              "      <th>7</th>\n",
              "      <td>From: bgrubb@dante.nmsu.edu (GRUBB)\\nSubject: ...</td>\n",
              "      <td>3</td>\n",
              "      <td>comp.sys.ibm.pc.hardware</td>\n",
              "    </tr>\n",
              "    <tr>\n",
              "      <th>8</th>\n",
              "      <td>From: holmes7000@iscsvax.uni.edu\\nSubject: WIn...</td>\n",
              "      <td>2</td>\n",
              "      <td>comp.os.ms-windows.misc</td>\n",
              "    </tr>\n",
              "    <tr>\n",
              "      <th>9</th>\n",
              "      <td>From: kerr@ux1.cso.uiuc.edu (Stan Kerr)\\nSubje...</td>\n",
              "      <td>4</td>\n",
              "      <td>comp.sys.mac.hardware</td>\n",
              "    </tr>\n",
              "    <tr>\n",
              "      <th>10</th>\n",
              "      <td>From: irwin@cmptrc.lonestar.org (Irwin Arnstei...</td>\n",
              "      <td>8</td>\n",
              "      <td>rec.motorcycles</td>\n",
              "    </tr>\n",
              "    <tr>\n",
              "      <th>11</th>\n",
              "      <td>From: david@terminus.ericsson.se (David Bold)\\...</td>\n",
              "      <td>19</td>\n",
              "      <td>talk.religion.misc</td>\n",
              "    </tr>\n",
              "    <tr>\n",
              "      <th>12</th>\n",
              "      <td>From: rodc@fc.hp.com (Rod Cerkoney)\\nSubject: ...</td>\n",
              "      <td>4</td>\n",
              "      <td>comp.sys.mac.hardware</td>\n",
              "    </tr>\n",
              "    <tr>\n",
              "      <th>13</th>\n",
              "      <td>From: dbm0000@tm0006.lerc.nasa.gov (David B. M...</td>\n",
              "      <td>14</td>\n",
              "      <td>sci.space</td>\n",
              "    </tr>\n",
              "    <tr>\n",
              "      <th>14</th>\n",
              "      <td>From: jllee@acsu.buffalo.edu (Johnny L Lee)\\nS...</td>\n",
              "      <td>6</td>\n",
              "      <td>misc.forsale</td>\n",
              "    </tr>\n",
              "    <tr>\n",
              "      <th>15</th>\n",
              "      <td>From: mathew &lt;mathew@mantis.co.uk&gt;\\nSubject: R...</td>\n",
              "      <td>0</td>\n",
              "      <td>alt.atheism</td>\n",
              "    </tr>\n",
              "    <tr>\n",
              "      <th>16</th>\n",
              "      <td>From: ab@nova.cc.purdue.edu (Allen B)\\nSubject...</td>\n",
              "      <td>1</td>\n",
              "      <td>comp.graphics</td>\n",
              "    </tr>\n",
              "    <tr>\n",
              "      <th>17</th>\n",
              "      <td>From: CPKJP@vm.cc.latech.edu (Kevin Parker)\\nS...</td>\n",
              "      <td>7</td>\n",
              "      <td>rec.autos</td>\n",
              "    </tr>\n",
              "    <tr>\n",
              "      <th>18</th>\n",
              "      <td>From: ritley@uimrl7.mrl.uiuc.edu ()\\nSubject: ...</td>\n",
              "      <td>12</td>\n",
              "      <td>sci.electronics</td>\n",
              "    </tr>\n",
              "    <tr>\n",
              "      <th>19</th>\n",
              "      <td>From: abarden@tybse1.uucp (Ann Marie Barden)\\n...</td>\n",
              "      <td>5</td>\n",
              "      <td>comp.windows.x</td>\n",
              "    </tr>\n",
              "  </tbody>\n",
              "</table>\n",
              "</div>"
            ],
            "text/plain": [
              "                                              content  ...              target_names\n",
              "0   From: lerxst@wam.umd.edu (where's my thing)\\nS...  ...                 rec.autos\n",
              "1   From: guykuo@carson.u.washington.edu (Guy Kuo)...  ...     comp.sys.mac.hardware\n",
              "2   From: twillis@ec.ecn.purdue.edu (Thomas E Will...  ...     comp.sys.mac.hardware\n",
              "3   From: jgreen@amber (Joe Green)\\nSubject: Re: W...  ...             comp.graphics\n",
              "4   From: jcm@head-cfa.harvard.edu (Jonathan McDow...  ...                 sci.space\n",
              "5   From: dfo@vttoulu.tko.vtt.fi (Foxvog Douglas)\\...  ...        talk.politics.guns\n",
              "6   From: bmdelane@quads.uchicago.edu (brian manni...  ...                   sci.med\n",
              "7   From: bgrubb@dante.nmsu.edu (GRUBB)\\nSubject: ...  ...  comp.sys.ibm.pc.hardware\n",
              "8   From: holmes7000@iscsvax.uni.edu\\nSubject: WIn...  ...   comp.os.ms-windows.misc\n",
              "9   From: kerr@ux1.cso.uiuc.edu (Stan Kerr)\\nSubje...  ...     comp.sys.mac.hardware\n",
              "10  From: irwin@cmptrc.lonestar.org (Irwin Arnstei...  ...           rec.motorcycles\n",
              "11  From: david@terminus.ericsson.se (David Bold)\\...  ...        talk.religion.misc\n",
              "12  From: rodc@fc.hp.com (Rod Cerkoney)\\nSubject: ...  ...     comp.sys.mac.hardware\n",
              "13  From: dbm0000@tm0006.lerc.nasa.gov (David B. M...  ...                 sci.space\n",
              "14  From: jllee@acsu.buffalo.edu (Johnny L Lee)\\nS...  ...              misc.forsale\n",
              "15  From: mathew <mathew@mantis.co.uk>\\nSubject: R...  ...               alt.atheism\n",
              "16  From: ab@nova.cc.purdue.edu (Allen B)\\nSubject...  ...             comp.graphics\n",
              "17  From: CPKJP@vm.cc.latech.edu (Kevin Parker)\\nS...  ...                 rec.autos\n",
              "18  From: ritley@uimrl7.mrl.uiuc.edu ()\\nSubject: ...  ...           sci.electronics\n",
              "19  From: abarden@tybse1.uucp (Ann Marie Barden)\\n...  ...            comp.windows.x\n",
              "\n",
              "[20 rows x 3 columns]"
            ]
          },
          "metadata": {
            "tags": []
          },
          "execution_count": 49
        }
      ]
    },
    {
      "cell_type": "code",
      "metadata": {
        "colab": {
          "base_uri": "https://localhost:8080/"
        },
        "id": "i1t4Hd65BKo4",
        "outputId": "6fdeea13-0e4f-4361-cfa1-1d09379aa879"
      },
      "source": [
        "data_clusterization = data[['content', 'target_names']]\n",
        "data_clusterization.dropna(inplace=True)"
      ],
      "execution_count": 50,
      "outputs": [
        {
          "output_type": "stream",
          "text": [
            "/usr/local/lib/python3.7/dist-packages/ipykernel_launcher.py:2: SettingWithCopyWarning: \n",
            "A value is trying to be set on a copy of a slice from a DataFrame\n",
            "\n",
            "See the caveats in the documentation: https://pandas.pydata.org/pandas-docs/stable/user_guide/indexing.html#returning-a-view-versus-a-copy\n",
            "  \n"
          ],
          "name": "stderr"
        }
      ]
    },
    {
      "cell_type": "code",
      "metadata": {
        "colab": {
          "base_uri": "https://localhost:8080/",
          "height": 108
        },
        "id": "0xRJ8_03Bd1W",
        "outputId": "8e97c885-b53b-4de1-c603-e0ca9dbf4550"
      },
      "source": [
        "data_clusterization.head(2)\n"
      ],
      "execution_count": 51,
      "outputs": [
        {
          "output_type": "execute_result",
          "data": {
            "text/html": [
              "<div>\n",
              "<style scoped>\n",
              "    .dataframe tbody tr th:only-of-type {\n",
              "        vertical-align: middle;\n",
              "    }\n",
              "\n",
              "    .dataframe tbody tr th {\n",
              "        vertical-align: top;\n",
              "    }\n",
              "\n",
              "    .dataframe thead th {\n",
              "        text-align: right;\n",
              "    }\n",
              "</style>\n",
              "<table border=\"1\" class=\"dataframe\">\n",
              "  <thead>\n",
              "    <tr style=\"text-align: right;\">\n",
              "      <th></th>\n",
              "      <th>content</th>\n",
              "      <th>target_names</th>\n",
              "    </tr>\n",
              "  </thead>\n",
              "  <tbody>\n",
              "    <tr>\n",
              "      <th>0</th>\n",
              "      <td>From: lerxst@wam.umd.edu (where's my thing)\\nS...</td>\n",
              "      <td>rec.autos</td>\n",
              "    </tr>\n",
              "    <tr>\n",
              "      <th>1</th>\n",
              "      <td>From: guykuo@carson.u.washington.edu (Guy Kuo)...</td>\n",
              "      <td>comp.sys.mac.hardware</td>\n",
              "    </tr>\n",
              "  </tbody>\n",
              "</table>\n",
              "</div>"
            ],
            "text/plain": [
              "                                             content           target_names\n",
              "0  From: lerxst@wam.umd.edu (where's my thing)\\nS...              rec.autos\n",
              "1  From: guykuo@carson.u.washington.edu (Guy Kuo)...  comp.sys.mac.hardware"
            ]
          },
          "metadata": {
            "tags": []
          },
          "execution_count": 51
        }
      ]
    },
    {
      "cell_type": "code",
      "metadata": {
        "colab": {
          "base_uri": "https://localhost:8080/"
        },
        "id": "0iUh1DoLBmXP",
        "outputId": "9c29bd6f-a8dc-4c66-da46-997dd8a13039"
      },
      "source": [
        "import gensim\n",
        "from gensim.utils import simple_preprocess\n",
        "from gensim.parsing.preprocessing import STOPWORDS\n",
        "from nltk.stem import WordNetLemmatizer, SnowballStemmer\n",
        "from nltk.stem.porter import *\n",
        "import numpy as np\n",
        "np.random.seed(2018)\n",
        "import nltk\n",
        "nltk.download('wordnet')"
      ],
      "execution_count": 52,
      "outputs": [
        {
          "output_type": "stream",
          "text": [
            "[nltk_data] Downloading package wordnet to /root/nltk_data...\n",
            "[nltk_data]   Package wordnet is already up-to-date!\n"
          ],
          "name": "stdout"
        },
        {
          "output_type": "execute_result",
          "data": {
            "text/plain": [
              "True"
            ]
          },
          "metadata": {
            "tags": []
          },
          "execution_count": 52
        }
      ]
    },
    {
      "cell_type": "code",
      "metadata": {
        "id": "s7hwfWd1Bw8S"
      },
      "source": [
        "def lemmatize_stemming(text):\n",
        " stemmer = SnowballStemmer(language='english')\n",
        " return stemmer.stem(WordNetLemmatizer().lemmatize(text, pos='v'))\n",
        "def preprocess(text):\n",
        " result = []\n",
        " for token in gensim.utils.simple_preprocess(text):\n",
        "   if token not in gensim.parsing.preprocessing.STOPWORDS and len(token) > 3:\n",
        "     result.append(lemmatize_stemming(token))\n",
        " return result"
      ],
      "execution_count": 53,
      "outputs": []
    },
    {
      "cell_type": "code",
      "metadata": {
        "id": "iJfVX8biB_Sa"
      },
      "source": [
        "processed_docs = data_clusterization['content'].map(preprocess)\n",
        "data_processed = processed_docs.to_frame()\n",
        "data_processed['content'] = data_processed.content.apply(lambda x: ' '.join(x))\n"
      ],
      "execution_count": 54,
      "outputs": []
    },
    {
      "cell_type": "code",
      "metadata": {
        "colab": {
          "base_uri": "https://localhost:8080/"
        },
        "id": "gCHPTBYJClMy",
        "outputId": "39166518-2b5a-43cc-acdc-8065d1d6b019"
      },
      "source": [
        "!pip install tokenize_uk\n",
        "from collections import Counter\n",
        "from tokenize_uk.tokenize_uk import tokenize_words"
      ],
      "execution_count": 55,
      "outputs": [
        {
          "output_type": "stream",
          "text": [
            "Requirement already satisfied: tokenize_uk in /usr/local/lib/python3.7/dist-packages (0.2.0)\n",
            "Requirement already satisfied: six in /usr/local/lib/python3.7/dist-packages (from tokenize_uk) (1.15.0)\n"
          ],
          "name": "stdout"
        }
      ]
    },
    {
      "cell_type": "code",
      "metadata": {
        "colab": {
          "base_uri": "https://localhost:8080/",
          "height": 363
        },
        "id": "94mq8WUoCqHq",
        "outputId": "25c76a35-7009-47c5-8cf6-46caf0ef0212"
      },
      "source": [
        "def display_words(data, title, ax):\n",
        " count = Counter(sum(map(lambda text: tokenize_words(text), data), []))\n",
        " popular = np.array(sorted(count.items(), key=lambda x: x[1], reverse=True)[:20])\n",
        " plt.sca(ax)\n",
        " plt.title(title)\n",
        " plt.bar(popular[:,0], np.int32(popular[:,1]))\n",
        " plt.xticks(rotation=\"vertical\")\n",
        "fig, ax = plt.subplots(figsize=(16, 5))\n",
        "display_words(data_processed.sample(1000).content, \"The most popular words]\", ax)"
      ],
      "execution_count": 56,
      "outputs": [
        {
          "output_type": "display_data",
          "data": {
            "image/png": "[encoded data removed]",
            "text/plain": [
              "<Figure size 1152x360 with 1 Axes>"
            ]
          },
          "metadata": {
            "tags": [],
            "needs_background": "light"
          }
        }
      ]
    },
    {
      "cell_type": "code",
      "metadata": {
        "id": "UCM4qevNC5Ty"
      },
      "source": [
        "from sklearn.feature_extraction.text import CountVectorizer"
      ],
      "execution_count": 57,
      "outputs": []
    },
    {
      "cell_type": "code",
      "metadata": {
        "colab": {
          "base_uri": "https://localhost:8080/"
        },
        "id": "NMnRgz3aC8f5",
        "outputId": "732807f2-4d35-409a-a2c7-37451166a6f9"
      },
      "source": [
        "count_vectorizer = CountVectorizer()\n",
        "count_data = count_vectorizer.fit_transform(data_processed['content'])\n",
        "count_data"
      ],
      "execution_count": 58,
      "outputs": [
        {
          "output_type": "execute_result",
          "data": {
            "text/plain": [
              "<11314x61410 sparse matrix of type '<class 'numpy.int64'>'\n",
              "\twith 934270 stored elements in Compressed Sparse Row format>"
            ]
          },
          "metadata": {
            "tags": []
          },
          "execution_count": 58
        }
      ]
    },
    {
      "cell_type": "code",
      "metadata": {
        "id": "6TmSX73jDEJS"
      },
      "source": [
        "likelihood = []\n",
        "n_clusters = []"
      ],
      "execution_count": 59,
      "outputs": []
    },
    {
      "cell_type": "code",
      "metadata": {
        "id": "z9uTcUJlDHT0"
      },
      "source": [
        "import seaborn as sns\n",
        "from sklearn.decomposition import LatentDirichletAllocation as LDA"
      ],
      "execution_count": 60,
      "outputs": []
    },
    {
      "cell_type": "code",
      "metadata": {
        "id": "Hki6oWR0DLwb"
      },
      "source": [
        "def estimate_number_clusters(data, nclusters):\n",
        " for n in nclusters:\n",
        "   likelihood.append(LDA(n_components=n, n_jobs=-1).fit(data).score(data))\n",
        " n_clusters.append(n)\n",
        " print(\"Sccesfully estimated \", n)\n",
        " fig, ax = plt.subplots(figsize=(15, 5))\n",
        " sns.lineplot(x=n_clusters, y=likelihood, ax=ax)\n",
        " ax.set_title('Elbow method for choosing n, likelihood')\n",
        " ax.set_ylabel('Likelihood')\n",
        " ax.set_xlabel('n')\n",
        "\n",
        "\n"
      ],
      "execution_count": 61,
      "outputs": []
    },
    {
      "cell_type": "code",
      "metadata": {
        "id": "_CBG_y1fJszZ"
      },
      "source": [
        "# estimate_number_clusters(count_data, [10, 15, 20, 50])\n",
        " \n",
        " "
      ],
      "execution_count": 62,
      "outputs": []
    },
    {
      "cell_type": "code",
      "metadata": {
        "id": "_XNMixjQJuYE"
      },
      "source": [
        "def print_topics(model, count_vectorizer, n_top_words):\n",
        "  words = count_vectorizer.get_feature_names()\n",
        "  for topic_idx, topic in enumerate(model.components_):\n",
        "    print(\"\\nTopic #%d:\" % topic_idx)\n",
        "    print(\" \".join([words[i]\n",
        "  for i in topic.argsort()[:-n_top_words - 1:-1]]))"
      ],
      "execution_count": 63,
      "outputs": []
    },
    {
      "cell_type": "code",
      "metadata": {
        "id": "Ugizp_hhFpzm"
      },
      "source": [
        "from sklearn.decomposition import LatentDirichletAllocation as LDA\n"
      ],
      "execution_count": 64,
      "outputs": []
    },
    {
      "cell_type": "code",
      "metadata": {
        "colab": {
          "base_uri": "https://localhost:8080/"
        },
        "id": "oWtTkYX1Ftia",
        "outputId": "04c3948e-f3a0-4f17-d294-60a23160185c"
      },
      "source": [
        "number_topics = 60\n",
        "number_words = 10\n",
        "# Create and fit the LDA model\n",
        "lda = LDA(n_components=number_topics, n_jobs=-1)\n",
        "lda.fit(count_data)\n",
        "# Print the topics found by the LDA model\n",
        "print(\"Topics found via LDA:\")\n",
        "print_topics(lda, count_vectorizer, number_words)"
      ],
      "execution_count": 65,
      "outputs": [
        {
          "output_type": "stream",
          "text": [
            "Topics found via LDA:\n",
            "\n",
            "Topic #0:\n",
            "uiuc austin write line utexa subject organ texa articl illinoi\n",
            "\n",
            "Topic #1:\n",
            "moral cwru write subject post object cleveland line organ keith\n",
            "\n",
            "Topic #2:\n",
            "andrew pitt bank subject organ line gordon pittsburgh write articl\n",
            "\n",
            "Topic #3:\n",
            "access digex line post subject organ write host nntp audio\n",
            "\n",
            "Topic #4:\n",
            "netcom line organ subject communic write phone clipper brad servic\n",
            "\n",
            "Topic #5:\n",
            "line subject organ engin write softwar nasa like post nntp\n",
            "\n",
            "Topic #6:\n",
            "line organ subject univers pitch articl ball write year john\n",
            "\n",
            "Topic #7:\n",
            "sale line subject organ columbia univers post sell host nntp\n",
            "\n",
            "Topic #8:\n",
            "state ohio write articl magnus line subject organ univers princeton\n",
            "\n",
            "Topic #9:\n",
            "bike wire like line subject good time organ drive look\n",
            "\n",
            "Topic #10:\n",
            "line subject organ nasa post articl larc write david nntp\n",
            "\n",
            "Topic #11:\n",
            "write armenia armenian line henrik articl organ subject mormon say\n",
            "\n",
            "Topic #12:\n",
            "european south time american world nuclear rockefel island franci british\n",
            "\n",
            "Topic #13:\n",
            "imag file format graphic jpeg color convert program keyboard display\n",
            "\n",
            "Topic #14:\n",
            "encrypt chip secur clipper key govern escrow privaci public technolog\n",
            "\n",
            "Topic #15:\n",
            "navi subject organ line center articl research write cancer oasi\n",
            "\n",
            "Topic #16:\n",
            "israel isra say arab peopl jew go know come think\n",
            "\n",
            "Topic #17:\n",
            "card port line subject modem organ driver board univers serial\n",
            "\n",
            "Topic #18:\n",
            "militia right organ peopl write articl second subject arm amend\n",
            "\n",
            "Topic #19:\n",
            "univers nation institut center research inform confer studi april organ\n",
            "\n",
            "Topic #20:\n",
            "line subject organ articl write freenet carleton post washington nntp\n",
            "\n",
            "Topic #21:\n",
            "write articl subject organ line know food post like year\n",
            "\n",
            "Topic #22:\n",
            "flyer mike clarkson rochest john line lindro michael zone play\n",
            "\n",
            "Topic #23:\n",
            "jake boni master marriag marri slave write subject opinion jumper\n",
            "\n",
            "Topic #24:\n",
            "appl sandvik kent write organ line articl subject monash newton\n",
            "\n",
            "Topic #25:\n",
            "avail mail includ user server data list inform program file\n",
            "\n",
            "Topic #26:\n",
            "line write organ subject think post harri right articl host\n",
            "\n",
            "Topic #27:\n",
            "peopl right govern state think countri like want person polit\n",
            "\n",
            "Topic #28:\n",
            "period play power king sweden second goal scorer shot line\n",
            "\n",
            "Topic #29:\n",
            "articl write organ subject toronto henri line cramer optilink clayton\n",
            "\n",
            "Topic #30:\n",
            "window subject line organ post buffalo nntp host write captain\n",
            "\n",
            "Topic #31:\n",
            "game team play player hockey season year line score leagu\n",
            "\n",
            "Topic #32:\n",
            "stratus write koresh articl start line subject organ compound batf\n",
            "\n",
            "Topic #33:\n",
            "vote contact mail send version hiram post type avail univers\n",
            "\n",
            "Topic #34:\n",
            "oracl dresden amherst andr line wagon organ beck eliot subject\n",
            "\n",
            "Topic #35:\n",
            "colorado gatech prism subject line organ write boulder georgia articl\n",
            "\n",
            "Topic #36:\n",
            "virginia line organ subject univers arizona water food smoke write\n",
            "\n",
            "Topic #37:\n",
            "armenian turkish turk greek turkey argic serdar genocid armenia peopl\n",
            "\n",
            "Topic #38:\n",
            "write articl organ helmet line subject like ingr behanna post\n",
            "\n",
            "Topic #39:\n",
            "line organ subject mcgill write hawk articl adob post nntp\n",
            "\n",
            "Topic #40:\n",
            "diseas doctor medic patient treatment pain organ problem time caus\n",
            "\n",
            "Topic #41:\n",
            "jesus christian christ come say know write church peopl bibl\n",
            "\n",
            "Topic #42:\n",
            "gun firearm weapon crime crimin control handgun polic like file\n",
            "\n",
            "Topic #43:\n",
            "write subject line organ articl post know think nntp host\n",
            "\n",
            "Topic #44:\n",
            "drive scsi disk control hard problem line floppi subject organ\n",
            "\n",
            "Topic #45:\n",
            "atheism atheist post subject exist write line organ pope articl\n",
            "\n",
            "Topic #46:\n",
            "subject line articl organ write year child children stein post\n",
            "\n",
            "Topic #47:\n",
            "nrhj wwiz link alloc subject harvard unit gizw bhjn organ\n",
            "\n",
            "Topic #48:\n",
            "islam muslim jaeger rushdi gregg byte line bit buphi organ\n",
            "\n",
            "Topic #49:\n",
            "christian believ peopl think question exist know reason write claim\n",
            "\n",
            "Topic #50:\n",
            "line subject organ point govern libertarian steve write thor univers\n",
            "\n",
            "Topic #51:\n",
            "window line subject organ post problem thank host nntp univers\n",
            "\n",
            "Topic #52:\n",
            "drug tobacco health legal report articl state cigarett like smokeless\n",
            "\n",
            "Topic #53:\n",
            "organ line subject anti write bellcor say francisco muenchen semit\n",
            "\n",
            "Topic #54:\n",
            "year line organ subject like articl think write univers know\n",
            "\n",
            "Topic #55:\n",
            "subject problem line organ water motif lose post host nntp\n",
            "\n",
            "Topic #56:\n",
            "line write subject organ insur need articl nore post batf\n",
            "\n",
            "Topic #57:\n",
            "presid stephanopoulo go say know work think time clinton job\n",
            "\n",
            "Topic #58:\n",
            "file window program entri output line widget return write applic\n",
            "\n",
            "Topic #59:\n",
            "space nasa orbit launch earth satellit moon mission lunar year\n"
          ],
          "name": "stdout"
        }
      ]
    },
    {
      "cell_type": "code",
      "metadata": {
        "colab": {
          "base_uri": "https://localhost:8080/",
          "height": 198
        },
        "id": "LrPaQEiuGRt3",
        "outputId": "ec5e49ae-9fec-424c-f95f-3fc73753c98f"
      },
      "source": [
        "cluster_probabilities = lda.transform(count_data)\n",
        "data_processed['target'] = np.argmax(cluster_probabilities, axis=1)\n",
        "data_processed.head()"
      ],
      "execution_count": 66,
      "outputs": [
        {
          "output_type": "execute_result",
          "data": {
            "text/html": [
              "<div>\n",
              "<style scoped>\n",
              "    .dataframe tbody tr th:only-of-type {\n",
              "        vertical-align: middle;\n",
              "    }\n",
              "\n",
              "    .dataframe tbody tr th {\n",
              "        vertical-align: top;\n",
              "    }\n",
              "\n",
              "    .dataframe thead th {\n",
              "        text-align: right;\n",
              "    }\n",
              "</style>\n",
              "<table border=\"1\" class=\"dataframe\">\n",
              "  <thead>\n",
              "    <tr style=\"text-align: right;\">\n",
              "      <th></th>\n",
              "      <th>content</th>\n",
              "      <th>target</th>\n",
              "    </tr>\n",
              "  </thead>\n",
              "  <tbody>\n",
              "    <tr>\n",
              "      <th>0</th>\n",
              "      <td>lerxst thing subject nntp post host organ univ...</td>\n",
              "      <td>21</td>\n",
              "    </tr>\n",
              "    <tr>\n",
              "      <th>1</th>\n",
              "      <td>guykuo carson washington subject clock poll fi...</td>\n",
              "      <td>18</td>\n",
              "    </tr>\n",
              "    <tr>\n",
              "      <th>2</th>\n",
              "      <td>twilli purdu thoma willi subject question orga...</td>\n",
              "      <td>51</td>\n",
              "    </tr>\n",
              "    <tr>\n",
              "      <th>3</th>\n",
              "      <td>jgreen amber green subject weitek organ harri ...</td>\n",
              "      <td>5</td>\n",
              "    </tr>\n",
              "    <tr>\n",
              "      <th>4</th>\n",
              "      <td>head harvard jonathan mcdowel subject shuttl l...</td>\n",
              "      <td>5</td>\n",
              "    </tr>\n",
              "  </tbody>\n",
              "</table>\n",
              "</div>"
            ],
            "text/plain": [
              "                                             content  target\n",
              "0  lerxst thing subject nntp post host organ univ...      21\n",
              "1  guykuo carson washington subject clock poll fi...      18\n",
              "2  twilli purdu thoma willi subject question orga...      51\n",
              "3  jgreen amber green subject weitek organ harri ...       5\n",
              "4  head harvard jonathan mcdowel subject shuttl l...       5"
            ]
          },
          "metadata": {
            "tags": []
          },
          "execution_count": 66
        }
      ]
    },
    {
      "cell_type": "code",
      "metadata": {
        "id": "oJNJOHB9GkKP"
      },
      "source": [
        "import seaborn as sns\n"
      ],
      "execution_count": 67,
      "outputs": []
    },
    {
      "cell_type": "code",
      "metadata": {
        "colab": {
          "base_uri": "https://localhost:8080/",
          "height": 593
        },
        "id": "At3W9AMVGnga",
        "outputId": "55e6ccb5-ca9f-4c77-d540-f4ee5370c61e"
      },
      "source": [
        "fig, ax = plt.subplots(figsize=(20, 10))\n",
        "sns.countplot(x=data_processed.target);\n",
        "ax.set_title(\"Number of articles that correspond to the topic\");\n"
      ],
      "execution_count": 68,
      "outputs": [
        {
          "output_type": "display_data",
          "data": {
            "image/png": "[encoded data removed]",
            "text/plain": [
              "<Figure size 1440x720 with 1 Axes>"
            ]
          },
          "metadata": {
            "tags": [],
            "needs_background": "light"
          }
        }
      ]
    },
    {
      "cell_type": "code",
      "metadata": {
        "id": "kJ07JMrCRAYx"
      },
      "source": [
        "#Loading the data set - training data.\n",
        "from sklearn.datasets import fetch_20newsgroups\n",
        "mydata_train = fetch_20newsgroups(subset='train', shuffle=True, remove = ('headers', 'footers', 'quotes'))"
      ],
      "execution_count": 69,
      "outputs": []
    },
    {
      "cell_type": "code",
      "metadata": {
        "colab": {
          "base_uri": "https://localhost:8080/"
        },
        "id": "Bpyae_wBRHIU",
        "outputId": "4f659e0f-b7b8-494b-963a-ef5c12d7ccd4"
      },
      "source": [
        "list(mydata_train)\n"
      ],
      "execution_count": 70,
      "outputs": [
        {
          "output_type": "execute_result",
          "data": {
            "text/plain": [
              "['data', 'filenames', 'target_names', 'target', 'DESCR']"
            ]
          },
          "metadata": {
            "tags": []
          },
          "execution_count": 70
        }
      ]
    },
    {
      "cell_type": "code",
      "metadata": {
        "colab": {
          "base_uri": "https://localhost:8080/"
        },
        "id": "WsmrhUPeRJ9l",
        "outputId": "23f1235b-9547-4906-ebf5-ac05caa2f97a"
      },
      "source": [
        "print('Training data size:', len(mydata_train['data']))\n"
      ],
      "execution_count": 71,
      "outputs": [
        {
          "output_type": "stream",
          "text": [
            "Training data size: 11314\n"
          ],
          "name": "stdout"
        }
      ]
    },
    {
      "cell_type": "code",
      "metadata": {
        "colab": {
          "base_uri": "https://localhost:8080/"
        },
        "id": "Nv1WrOdSRONT",
        "outputId": "5afd40c1-3cfd-4ab9-acea-ac7403bb625c"
      },
      "source": [
        "# Printing all the categories\n",
        "mydata_train.target_names"
      ],
      "execution_count": 72,
      "outputs": [
        {
          "output_type": "execute_result",
          "data": {
            "text/plain": [
              "['alt.atheism',\n",
              " 'comp.graphics',\n",
              " 'comp.os.ms-windows.misc',\n",
              " 'comp.sys.ibm.pc.hardware',\n",
              " 'comp.sys.mac.hardware',\n",
              " 'comp.windows.x',\n",
              " 'misc.forsale',\n",
              " 'rec.autos',\n",
              " 'rec.motorcycles',\n",
              " 'rec.sport.baseball',\n",
              " 'rec.sport.hockey',\n",
              " 'sci.crypt',\n",
              " 'sci.electronics',\n",
              " 'sci.med',\n",
              " 'sci.space',\n",
              " 'soc.religion.christian',\n",
              " 'talk.politics.guns',\n",
              " 'talk.politics.mideast',\n",
              " 'talk.politics.misc',\n",
              " 'talk.religion.misc']"
            ]
          },
          "metadata": {
            "tags": []
          },
          "execution_count": 72
        }
      ]
    },
    {
      "cell_type": "code",
      "metadata": {
        "colab": {
          "base_uri": "https://localhost:8080/"
        },
        "id": "krZedPVlRRxL",
        "outputId": "82b0bd50-a9fd-4257-a594-ba4ac131525e"
      },
      "source": [
        "\n",
        "# Finding frequency of each category\n",
        "targets, frequency = np.unique(mydata_train.target, return_counts=True)\n",
        "targets, frequency"
      ],
      "execution_count": 73,
      "outputs": [
        {
          "output_type": "execute_result",
          "data": {
            "text/plain": [
              "(array([ 0,  1,  2,  3,  4,  5,  6,  7,  8,  9, 10, 11, 12, 13, 14, 15, 16,\n",
              "        17, 18, 19]),\n",
              " array([480, 584, 591, 590, 578, 593, 585, 594, 598, 597, 600, 595, 591,\n",
              "        594, 593, 599, 546, 564, 465, 377]))"
            ]
          },
          "metadata": {
            "tags": []
          },
          "execution_count": 73
        }
      ]
    },
    {
      "cell_type": "code",
      "metadata": {
        "colab": {
          "base_uri": "https://localhost:8080/"
        },
        "id": "lSr8qhRVRWTb",
        "outputId": "93283a55-75fc-476e-a86b-47373fcb5281"
      },
      "source": [
        "targets_str = np.array(mydata_train.target_names)\n",
        "print(list(zip(targets_str, frequency)))"
      ],
      "execution_count": 74,
      "outputs": [
        {
          "output_type": "stream",
          "text": [
            "[('alt.atheism', 480), ('comp.graphics', 584), ('comp.os.ms-windows.misc', 591), ('comp.sys.ibm.pc.hardware', 590), ('comp.sys.mac.hardware', 578), ('comp.windows.x', 593), ('misc.forsale', 585), ('rec.autos', 594), ('rec.motorcycles', 598), ('rec.sport.baseball', 597), ('rec.sport.hockey', 600), ('sci.crypt', 595), ('sci.electronics', 591), ('sci.med', 594), ('sci.space', 593), ('soc.religion.christian', 599), ('talk.politics.guns', 546), ('talk.politics.mideast', 564), ('talk.politics.misc', 465), ('talk.religion.misc', 377)]\n"
          ],
          "name": "stdout"
        }
      ]
    },
    {
      "cell_type": "code",
      "metadata": {
        "id": "1pZ_KnVPRZSm"
      },
      "source": [
        "mydata_test = fetch_20newsgroups(subset='test', shuffle=True, remove = ('headers', 'footers', 'quotes'))\n"
      ],
      "execution_count": 75,
      "outputs": []
    },
    {
      "cell_type": "code",
      "metadata": {
        "colab": {
          "base_uri": "https://localhost:8080/"
        },
        "id": "IEcSYoJmRcUc",
        "outputId": "eb8ae887-89f2-4348-bdf3-1a9f00f75a4b"
      },
      "source": [
        "print('Testing data size:', len(mydata_test['data']))\n"
      ],
      "execution_count": 76,
      "outputs": [
        {
          "output_type": "stream",
          "text": [
            "Testing data size: 7532\n"
          ],
          "name": "stdout"
        }
      ]
    },
    {
      "cell_type": "code",
      "metadata": {
        "colab": {
          "base_uri": "https://localhost:8080/",
          "height": 198
        },
        "id": "_aSKch0QRf_o",
        "outputId": "a346d192-1bd8-43a1-adff-8f75816cf440"
      },
      "source": [
        "mydata_train_df = pd.DataFrame({'data': mydata_train.data, 'target': mydata_train.target})\n",
        "mydata_train_df.head()"
      ],
      "execution_count": 77,
      "outputs": [
        {
          "output_type": "execute_result",
          "data": {
            "text/html": [
              "<div>\n",
              "<style scoped>\n",
              "    .dataframe tbody tr th:only-of-type {\n",
              "        vertical-align: middle;\n",
              "    }\n",
              "\n",
              "    .dataframe tbody tr th {\n",
              "        vertical-align: top;\n",
              "    }\n",
              "\n",
              "    .dataframe thead th {\n",
              "        text-align: right;\n",
              "    }\n",
              "</style>\n",
              "<table border=\"1\" class=\"dataframe\">\n",
              "  <thead>\n",
              "    <tr style=\"text-align: right;\">\n",
              "      <th></th>\n",
              "      <th>data</th>\n",
              "      <th>target</th>\n",
              "    </tr>\n",
              "  </thead>\n",
              "  <tbody>\n",
              "    <tr>\n",
              "      <th>0</th>\n",
              "      <td>I was wondering if anyone out there could enli...</td>\n",
              "      <td>7</td>\n",
              "    </tr>\n",
              "    <tr>\n",
              "      <th>1</th>\n",
              "      <td>A fair number of brave souls who upgraded thei...</td>\n",
              "      <td>4</td>\n",
              "    </tr>\n",
              "    <tr>\n",
              "      <th>2</th>\n",
              "      <td>well folks, my mac plus finally gave up the gh...</td>\n",
              "      <td>4</td>\n",
              "    </tr>\n",
              "    <tr>\n",
              "      <th>3</th>\n",
              "      <td>\\nDo you have Weitek's address/phone number?  ...</td>\n",
              "      <td>1</td>\n",
              "    </tr>\n",
              "    <tr>\n",
              "      <th>4</th>\n",
              "      <td>From article &lt;C5owCB.n3p@world.std.com&gt;, by to...</td>\n",
              "      <td>14</td>\n",
              "    </tr>\n",
              "  </tbody>\n",
              "</table>\n",
              "</div>"
            ],
            "text/plain": [
              "                                                data  target\n",
              "0  I was wondering if anyone out there could enli...       7\n",
              "1  A fair number of brave souls who upgraded thei...       4\n",
              "2  well folks, my mac plus finally gave up the gh...       4\n",
              "3  \\nDo you have Weitek's address/phone number?  ...       1\n",
              "4  From article <C5owCB.n3p@world.std.com>, by to...      14"
            ]
          },
          "metadata": {
            "tags": []
          },
          "execution_count": 77
        }
      ]
    },
    {
      "cell_type": "code",
      "metadata": {
        "colab": {
          "base_uri": "https://localhost:8080/",
          "height": 198
        },
        "id": "ttru-cT7Rj9K",
        "outputId": "cf57ede4-29b9-4415-e0fe-2daa73153fc6"
      },
      "source": [
        "# Text preprocessing steps - remove numbers, captial letters and punctuation\n",
        "import re\n",
        "import string\n",
        "\n",
        "alphanumeric = lambda x: re.sub(r\"\"\"\\w*\\d\\w*\"\"\", ' ', x)\n",
        "punc_lower = lambda x: re.sub('[%s]' % re.escape(string.punctuation), ' ', x.lower())\n",
        "\n",
        "mydata_train_df['data'] = mydata_train_df.data.map(alphanumeric).map(punc_lower)\n",
        "mydata_train_df.head()"
      ],
      "execution_count": 78,
      "outputs": [
        {
          "output_type": "execute_result",
          "data": {
            "text/html": [
              "<div>\n",
              "<style scoped>\n",
              "    .dataframe tbody tr th:only-of-type {\n",
              "        vertical-align: middle;\n",
              "    }\n",
              "\n",
              "    .dataframe tbody tr th {\n",
              "        vertical-align: top;\n",
              "    }\n",
              "\n",
              "    .dataframe thead th {\n",
              "        text-align: right;\n",
              "    }\n",
              "</style>\n",
              "<table border=\"1\" class=\"dataframe\">\n",
              "  <thead>\n",
              "    <tr style=\"text-align: right;\">\n",
              "      <th></th>\n",
              "      <th>data</th>\n",
              "      <th>target</th>\n",
              "    </tr>\n",
              "  </thead>\n",
              "  <tbody>\n",
              "    <tr>\n",
              "      <th>0</th>\n",
              "      <td>i was wondering if anyone out there could enli...</td>\n",
              "      <td>7</td>\n",
              "    </tr>\n",
              "    <tr>\n",
              "      <th>1</th>\n",
              "      <td>a fair number of brave souls who upgraded thei...</td>\n",
              "      <td>4</td>\n",
              "    </tr>\n",
              "    <tr>\n",
              "      <th>2</th>\n",
              "      <td>well folks  my mac plus finally gave up the gh...</td>\n",
              "      <td>4</td>\n",
              "    </tr>\n",
              "    <tr>\n",
              "      <th>3</th>\n",
              "      <td>\\ndo you have weitek s address phone number   ...</td>\n",
              "      <td>1</td>\n",
              "    </tr>\n",
              "    <tr>\n",
              "      <th>4</th>\n",
              "      <td>from article      world std com   by tombaker ...</td>\n",
              "      <td>14</td>\n",
              "    </tr>\n",
              "  </tbody>\n",
              "</table>\n",
              "</div>"
            ],
            "text/plain": [
              "                                                data  target\n",
              "0  i was wondering if anyone out there could enli...       7\n",
              "1  a fair number of brave souls who upgraded thei...       4\n",
              "2  well folks  my mac plus finally gave up the gh...       4\n",
              "3  \\ndo you have weitek s address phone number   ...       1\n",
              "4  from article      world std com   by tombaker ...      14"
            ]
          },
          "metadata": {
            "tags": []
          },
          "execution_count": 78
        }
      ]
    },
    {
      "cell_type": "code",
      "metadata": {
        "colab": {
          "base_uri": "https://localhost:8080/",
          "height": 198
        },
        "id": "8f6jlH07RoBH",
        "outputId": "f3f44bc4-e0f0-4220-9e41-cbf0238f7610"
      },
      "source": [
        "mydata_test_df = pd.DataFrame({'data': mydata_test.data, 'target': mydata_test.target})\n",
        "mydata_test_df.head()"
      ],
      "execution_count": 79,
      "outputs": [
        {
          "output_type": "execute_result",
          "data": {
            "text/html": [
              "<div>\n",
              "<style scoped>\n",
              "    .dataframe tbody tr th:only-of-type {\n",
              "        vertical-align: middle;\n",
              "    }\n",
              "\n",
              "    .dataframe tbody tr th {\n",
              "        vertical-align: top;\n",
              "    }\n",
              "\n",
              "    .dataframe thead th {\n",
              "        text-align: right;\n",
              "    }\n",
              "</style>\n",
              "<table border=\"1\" class=\"dataframe\">\n",
              "  <thead>\n",
              "    <tr style=\"text-align: right;\">\n",
              "      <th></th>\n",
              "      <th>data</th>\n",
              "      <th>target</th>\n",
              "    </tr>\n",
              "  </thead>\n",
              "  <tbody>\n",
              "    <tr>\n",
              "      <th>0</th>\n",
              "      <td>I am a little confused on all of the models of...</td>\n",
              "      <td>7</td>\n",
              "    </tr>\n",
              "    <tr>\n",
              "      <th>1</th>\n",
              "      <td>I'm not familiar at all with the format of the...</td>\n",
              "      <td>5</td>\n",
              "    </tr>\n",
              "    <tr>\n",
              "      <th>2</th>\n",
              "      <td>\\nIn a word, yes.\\n</td>\n",
              "      <td>0</td>\n",
              "    </tr>\n",
              "    <tr>\n",
              "      <th>3</th>\n",
              "      <td>\\nThey were attacking the Iraqis to drive them...</td>\n",
              "      <td>17</td>\n",
              "    </tr>\n",
              "    <tr>\n",
              "      <th>4</th>\n",
              "      <td>\\nI've just spent two solid months arguing tha...</td>\n",
              "      <td>19</td>\n",
              "    </tr>\n",
              "  </tbody>\n",
              "</table>\n",
              "</div>"
            ],
            "text/plain": [
              "                                                data  target\n",
              "0  I am a little confused on all of the models of...       7\n",
              "1  I'm not familiar at all with the format of the...       5\n",
              "2                                \\nIn a word, yes.\\n       0\n",
              "3  \\nThey were attacking the Iraqis to drive them...      17\n",
              "4  \\nI've just spent two solid months arguing tha...      19"
            ]
          },
          "metadata": {
            "tags": []
          },
          "execution_count": 79
        }
      ]
    },
    {
      "cell_type": "code",
      "metadata": {
        "colab": {
          "base_uri": "https://localhost:8080/",
          "height": 198
        },
        "id": "tUjU5KP5RrlP",
        "outputId": "ed836eac-d111-460f-cbeb-6144ae2a4a6c"
      },
      "source": [
        "# Text preprocessing steps - remove numbers, captial letters and punctuation\n",
        "alphanumeric = lambda x: re.sub(r\"\"\"\\w*\\d\\w*\"\"\", ' ', x)\n",
        "punc_lower = lambda x: re.sub('[%s]' % re.escape(string.punctuation), ' ', x.lower())\n",
        "\n",
        "mydata_test_df['data'] = mydata_test_df.data.map(alphanumeric).map(punc_lower)\n",
        "mydata_test_df.head()"
      ],
      "execution_count": 80,
      "outputs": [
        {
          "output_type": "execute_result",
          "data": {
            "text/html": [
              "<div>\n",
              "<style scoped>\n",
              "    .dataframe tbody tr th:only-of-type {\n",
              "        vertical-align: middle;\n",
              "    }\n",
              "\n",
              "    .dataframe tbody tr th {\n",
              "        vertical-align: top;\n",
              "    }\n",
              "\n",
              "    .dataframe thead th {\n",
              "        text-align: right;\n",
              "    }\n",
              "</style>\n",
              "<table border=\"1\" class=\"dataframe\">\n",
              "  <thead>\n",
              "    <tr style=\"text-align: right;\">\n",
              "      <th></th>\n",
              "      <th>data</th>\n",
              "      <th>target</th>\n",
              "    </tr>\n",
              "  </thead>\n",
              "  <tbody>\n",
              "    <tr>\n",
              "      <th>0</th>\n",
              "      <td>i am a little confused on all of the models of...</td>\n",
              "      <td>7</td>\n",
              "    </tr>\n",
              "    <tr>\n",
              "      <th>1</th>\n",
              "      <td>i m not familiar at all with the format of the...</td>\n",
              "      <td>5</td>\n",
              "    </tr>\n",
              "    <tr>\n",
              "      <th>2</th>\n",
              "      <td>\\nin a word  yes \\n</td>\n",
              "      <td>0</td>\n",
              "    </tr>\n",
              "    <tr>\n",
              "      <th>3</th>\n",
              "      <td>\\nthey were attacking the iraqis to drive them...</td>\n",
              "      <td>17</td>\n",
              "    </tr>\n",
              "    <tr>\n",
              "      <th>4</th>\n",
              "      <td>\\ni ve just spent two solid months arguing tha...</td>\n",
              "      <td>19</td>\n",
              "    </tr>\n",
              "  </tbody>\n",
              "</table>\n",
              "</div>"
            ],
            "text/plain": [
              "                                                data  target\n",
              "0  i am a little confused on all of the models of...       7\n",
              "1  i m not familiar at all with the format of the...       5\n",
              "2                                \\nin a word  yes \\n       0\n",
              "3  \\nthey were attacking the iraqis to drive them...      17\n",
              "4  \\ni ve just spent two solid months arguing tha...      19"
            ]
          },
          "metadata": {
            "tags": []
          },
          "execution_count": 80
        }
      ]
    },
    {
      "cell_type": "code",
      "metadata": {
        "colab": {
          "base_uri": "https://localhost:8080/"
        },
        "id": "yUELDX2-bNNg",
        "outputId": "23df6c54-88fa-4bce-e635-48e49461f8d5"
      },
      "source": [
        "# Extracting features from text files\n",
        "from sklearn.feature_extraction.text import CountVectorizer\n",
        "count_vect = CountVectorizer(stop_words='english')\n",
        "X_train_cv = count_vect.fit_transform(mydata_train_df.data) # fit_transform learns the\n",
        "X_test_cv = count_vect.transform(mydata_test_df.data) # transform uses the same vocab an\n",
        "print(X_train_cv.shape)\n",
        "print(type(X_train_cv))"
      ],
      "execution_count": 81,
      "outputs": [
        {
          "output_type": "stream",
          "text": [
            "(11314, 67822)\n",
            "<class 'scipy.sparse.csr.csr_matrix'>\n"
          ],
          "name": "stdout"
        }
      ]
    },
    {
      "cell_type": "code",
      "metadata": {
        "id": "cRUtZ9-VAkiY"
      },
      "source": [
        "import numpy as np\n",
        "\n",
        "from tqdm import tqdm\n",
        "\n",
        "from sklearn.datasets import fetch_20newsgroups\n",
        "\n",
        "from keras.preprocessing.text import Tokenizer\n",
        "from keras.preprocessing.sequence import pad_sequences\n",
        "from keras.utils.np_utils import to_categorical\n",
        "from keras.layers import Dense, Input, Flatten\n",
        "from keras.layers import Conv1D, MaxPooling1D, Embedding, Dropout\n",
        "from keras.models import Model"
      ],
      "execution_count": 82,
      "outputs": []
    },
    {
      "cell_type": "code",
      "metadata": {
        "colab": {
          "base_uri": "https://localhost:8080/"
        },
        "id": "4Oz3FjnHAqOw",
        "outputId": "109c18ca-81cc-4584-f30f-1ad8c30203db"
      },
      "source": [
        "categories = ['alt.atheism', 'soc.religion.christian'] \n",
        "\n",
        "newsgroups_train = fetch_20newsgroups(subset='train', shuffle=True, \n",
        "                                      categories=categories,)\n",
        "\n",
        "print (newsgroups_train.target_names)\n",
        "print (len(newsgroups_train.data))\n",
        "\n",
        "#print (newsgroups_train.data[1])\n",
        "print(\"\\n\".join(newsgroups_train.data[0].split(\"\\n\")[10:15]))"
      ],
      "execution_count": 83,
      "outputs": [
        {
          "output_type": "stream",
          "text": [
            "['alt.atheism', 'soc.religion.christian']\n",
            "1079\n",
            "   WASHINGTON, April 19  -- A symposium on the Dead Sea \n",
            "Scrolls will be held at the Library of Congress on Wednesday,\n",
            "April 21, and Thursday, April 22.  The two-day program, cosponsored\n",
            "by the library and Baltimore Hebrew University, with additional\n",
            "support from the Project Judaica Foundation, will be held in the\n"
          ],
          "name": "stdout"
        }
      ]
    },
    {
      "cell_type": "code",
      "metadata": {
        "colab": {
          "base_uri": "https://localhost:8080/"
        },
        "id": "I9VVEyQWAu6m",
        "outputId": "8f34c852-84f0-498d-e99c-e7a851d87e90"
      },
      "source": [
        "%%time\n",
        "\n",
        "texts = []\n",
        "\n",
        "labels=newsgroups_train.target\n",
        "texts = newsgroups_train.data\n",
        "\n",
        "MAX_SEQUENCE_LENGTH = 1000\n",
        "MAX_NB_WORDS = 20000\n",
        "\n",
        "tokenizer = Tokenizer(num_words=MAX_NB_WORDS)\n",
        "tokenizer.fit_on_texts(texts)\n",
        "\n",
        "sequences = tokenizer.texts_to_sequences(texts)\n",
        "\n",
        "print (sequences[0][:10])"
      ],
      "execution_count": 84,
      "outputs": [
        {
          "output_type": "stream",
          "text": [
            "[19, 8762, 3621, 11894, 58, 8762, 3621, 43, 1472, 2]\n",
            "CPU times: user 447 ms, sys: 3.34 ms, total: 450 ms\n",
            "Wall time: 450 ms\n"
          ],
          "name": "stdout"
        }
      ]
    },
    {
      "cell_type": "code",
      "metadata": {
        "colab": {
          "base_uri": "https://localhost:8080/"
        },
        "id": "8C-jZJV1Ay0E",
        "outputId": "fe68ba48-2030-478f-d080-69fbc43740f1"
      },
      "source": [
        "word_index = tokenizer.word_index\n",
        "\n",
        "print('Found %s unique tokens.' % len(word_index))"
      ],
      "execution_count": 85,
      "outputs": [
        {
          "output_type": "stream",
          "text": [
            "Found 20030 unique tokens.\n"
          ],
          "name": "stdout"
        }
      ]
    },
    {
      "cell_type": "code",
      "metadata": {
        "colab": {
          "base_uri": "https://localhost:8080/"
        },
        "id": "I3leeqbJA1-q",
        "outputId": "1be5391a-7030-4537-e11d-87f547f40f39"
      },
      "source": [
        "data = pad_sequences(sequences, maxlen=MAX_SEQUENCE_LENGTH)\n",
        "\n",
        "print (data.shape)\n",
        "print (data[0][200:250])"
      ],
      "execution_count": 86,
      "outputs": [
        {
          "output_type": "stream",
          "text": [
            "(1079, 1000)\n",
            "[    0     0     0     0     0     0     0     0     0     0     0     0\n",
            "     0     0     0     0     0     0     0     0     0     0     0     0\n",
            "     0     0     0     0     0    19  8762  3621 11894    58  8762  3621\n",
            "    43  1472     2  2130     3   189   450  1001  3622  2980  1682   476\n",
            "   627    50]\n"
          ],
          "name": "stdout"
        }
      ]
    },
    {
      "cell_type": "code",
      "metadata": {
        "colab": {
          "base_uri": "https://localhost:8080/"
        },
        "id": "TATKrjgmA6lK",
        "outputId": "b1d6d93e-bdb6-4feb-c665-9d00570003ce"
      },
      "source": [
        "labels = to_categorical(np.array(labels))\n",
        "\n",
        "print('Shape of data tensor:', data.shape)\n",
        "print('Shape of label tensor:', labels.shape)"
      ],
      "execution_count": 87,
      "outputs": [
        {
          "output_type": "stream",
          "text": [
            "Shape of data tensor: (1079, 1000)\n",
            "Shape of label tensor: (1079, 2)\n"
          ],
          "name": "stdout"
        }
      ]
    },
    {
      "cell_type": "code",
      "metadata": {
        "colab": {
          "base_uri": "https://localhost:8080/"
        },
        "id": "tKD1nppNA_cG",
        "outputId": "f8c161f7-242d-4eb2-faa2-4f4fe531ccf7"
      },
      "source": [
        "VALIDATION_SPLIT = 0.1\n",
        "\n",
        "indices = np.arange(data.shape[0])\n",
        "np.random.shuffle(indices) \n",
        "data = data[indices] \n",
        "labels = labels[indices] \n",
        "nb_validation_samples = int(VALIDATION_SPLIT * data.shape[0])\n",
        "\n",
        "x_train = data[:-nb_validation_samples] \n",
        "y_train = labels[:-nb_validation_samples] \n",
        "x_val = data[-nb_validation_samples:] \n",
        "y_val = labels[-nb_validation_samples:] \n",
        "\n",
        "print (x_train.shape)\n",
        "print (y_train.shape)\n",
        "\n",
        "print('Number of positive and negative reviews in traing and validation set ') \n",
        "print (y_train.sum(axis=0))\n",
        "print (y_val.sum(axis=0))\n"
      ],
      "execution_count": 88,
      "outputs": [
        {
          "output_type": "stream",
          "text": [
            "(972, 1000)\n",
            "(972, 2)\n",
            "Number of positive and negative reviews in traing and validation set \n",
            "[434. 538.]\n",
            "[46. 61.]\n"
          ],
          "name": "stdout"
        }
      ]
    },
    {
      "cell_type": "code",
      "metadata": {
        "colab": {
          "base_uri": "https://localhost:8080/",
          "height": 244
        },
        "id": "1jN7GicoBSkh",
        "outputId": "300e07b1-ab48-4fe3-a9d0-289283834a82"
      },
      "source": [
        "EMBEDDING_DIM = 100\n",
        "\n",
        "embedding_matrix = np.random.random((len(word_index) + 1, EMBEDDING_DIM))\n",
        "\n",
        "for word, i in word_index.items():\n",
        "  embedding_vector = embeddings_index.get(word)\n",
        "  if embedding_vector is not None:\n",
        "    # words not found in embedding index will be all-zeros.\n",
        "    embedding_matrix[i] = embedding_vector\n",
        "\n",
        "print (embedding_matrix.shape)\n",
        "\n",
        "print (embedding_matrix[0][:10])"
      ],
      "execution_count": 89,
      "outputs": [
        {
          "output_type": "error",
          "ename": "NameError",
          "evalue": "ignored",
          "traceback": [
            "\u001b[0;31m---------------------------------------------------------------------------\u001b[0m",
            "\u001b[0;31mNameError\u001b[0m                                 Traceback (most recent call last)",
            "\u001b[0;32m<ipython-input-89-6fb53264530f>\u001b[0m in \u001b[0;36m<module>\u001b[0;34m()\u001b[0m\n\u001b[1;32m      4\u001b[0m \u001b[0;34m\u001b[0m\u001b[0m\n\u001b[1;32m      5\u001b[0m \u001b[0;32mfor\u001b[0m \u001b[0mword\u001b[0m\u001b[0;34m,\u001b[0m \u001b[0mi\u001b[0m \u001b[0;32min\u001b[0m \u001b[0mword_index\u001b[0m\u001b[0;34m.\u001b[0m\u001b[0mitems\u001b[0m\u001b[0;34m(\u001b[0m\u001b[0;34m)\u001b[0m\u001b[0;34m:\u001b[0m\u001b[0;34m\u001b[0m\u001b[0;34m\u001b[0m\u001b[0m\n\u001b[0;32m----> 6\u001b[0;31m   \u001b[0membedding_vector\u001b[0m \u001b[0;34m=\u001b[0m \u001b[0membeddings_index\u001b[0m\u001b[0;34m.\u001b[0m\u001b[0mget\u001b[0m\u001b[0;34m(\u001b[0m\u001b[0mword\u001b[0m\u001b[0;34m)\u001b[0m\u001b[0;34m\u001b[0m\u001b[0;34m\u001b[0m\u001b[0m\n\u001b[0m\u001b[1;32m      7\u001b[0m   \u001b[0;32mif\u001b[0m \u001b[0membedding_vector\u001b[0m \u001b[0;32mis\u001b[0m \u001b[0;32mnot\u001b[0m \u001b[0;32mNone\u001b[0m\u001b[0;34m:\u001b[0m\u001b[0;34m\u001b[0m\u001b[0;34m\u001b[0m\u001b[0m\n\u001b[1;32m      8\u001b[0m     \u001b[0;31m# words not found in embedding index will be all-zeros.\u001b[0m\u001b[0;34m\u001b[0m\u001b[0;34m\u001b[0m\u001b[0;34m\u001b[0m\u001b[0m\n",
            "\u001b[0;31mNameError\u001b[0m: name 'embeddings_index' is not defined"
          ]
        }
      ]
    },
    {
      "cell_type": "code",
      "metadata": {
        "colab": {
          "base_uri": "https://localhost:8080/"
        },
        "id": "StT4yPYaBUgr",
        "outputId": "d47e96f4-f0d1-4542-d969-0935d99a2185"
      },
      "source": [
        "embedding_layer = Embedding(len(word_index) + 1, EMBEDDING_DIM,\n",
        "                            weights=[embedding_matrix], \n",
        "                            input_length=MAX_SEQUENCE_LENGTH, \n",
        "                            trainable=False)\n",
        "\n",
        "sequence_input = Input(shape=(MAX_SEQUENCE_LENGTH,), dtype='int32') \n",
        "embedded_sequences = embedding_layer(sequence_input) \n",
        "l_cov1= Conv1D(128, 5, activation='relu')(embedded_sequences) \n",
        "l_pool1 = MaxPooling1D(5)(l_cov1) \n",
        "l_cov2 = Conv1D(128, 5, activation='relu')(l_pool1) \n",
        "l_pool2 = MaxPooling1D(5)(l_cov2) \n",
        "l_cov3 = Conv1D(128, 5, activation='relu')(l_pool2) \n",
        "l_pool3 = MaxPooling1D(35)(l_cov3)  # global max pooling\n",
        "\n",
        "l_flat = Flatten()(l_pool3) \n",
        "l_dense = Dense(128, activation='relu')(l_flat) \n",
        "preds = Dense(2, activation='softmax')(l_dense)\n",
        "\n",
        "model = Model(sequence_input, preds)\n",
        "\n",
        "model.summary()"
      ],
      "execution_count": 90,
      "outputs": [
        {
          "output_type": "stream",
          "text": [
            "Model: \"model_1\"\n",
            "_________________________________________________________________\n",
            "Layer (type)                 Output Shape              Param #   \n",
            "=================================================================\n",
            "input_2 (InputLayer)         [(None, 1000)]            0         \n",
            "_________________________________________________________________\n",
            "embedding_1 (Embedding)      (None, 1000, 100)         2003100   \n",
            "_________________________________________________________________\n",
            "conv1d_3 (Conv1D)            (None, 996, 128)          64128     \n",
            "_________________________________________________________________\n",
            "max_pooling1d_3 (MaxPooling1 (None, 199, 128)          0         \n",
            "_________________________________________________________________\n",
            "conv1d_4 (Conv1D)            (None, 195, 128)          82048     \n",
            "_________________________________________________________________\n",
            "max_pooling1d_4 (MaxPooling1 (None, 39, 128)           0         \n",
            "_________________________________________________________________\n",
            "conv1d_5 (Conv1D)            (None, 35, 128)           82048     \n",
            "_________________________________________________________________\n",
            "max_pooling1d_5 (MaxPooling1 (None, 1, 128)            0         \n",
            "_________________________________________________________________\n",
            "flatten_1 (Flatten)          (None, 128)               0         \n",
            "_________________________________________________________________\n",
            "dense_2 (Dense)              (None, 128)               16512     \n",
            "_________________________________________________________________\n",
            "dense_3 (Dense)              (None, 2)                 258       \n",
            "=================================================================\n",
            "Total params: 2,248,094\n",
            "Trainable params: 244,994\n",
            "Non-trainable params: 2,003,100\n",
            "_________________________________________________________________\n"
          ],
          "name": "stdout"
        }
      ]
    },
    {
      "cell_type": "code",
      "metadata": {
        "colab": {
          "base_uri": "https://localhost:8080/"
        },
        "id": "ohWKe6xrBfGj",
        "outputId": "7c983083-d5e9-4b21-92ac-dd45805261d6"
      },
      "source": [
        "model.compile(loss='categorical_crossentropy', optimizer='adam',metrics=['acc'])\n",
        "\n",
        "history = model.fit(x_train, y_train, validation_data=(x_val, y_val),\n",
        "                    epochs=500, batch_size=512)   "
      ],
      "execution_count": 91,
      "outputs": [
        {
          "output_type": "stream",
          "text": [
            "Epoch 1/500\n",
            "2/2 [==============================] - 1s 341ms/step - loss: 0.8750 - acc: 0.5505 - val_loss: 0.6877 - val_acc: 0.5701\n",
            "Epoch 2/500\n",
            "2/2 [==============================] - 0s 160ms/step - loss: 0.6995 - acc: 0.5223 - val_loss: 0.6823 - val_acc: 0.5701\n",
            "Epoch 3/500\n",
            "2/2 [==============================] - 0s 166ms/step - loss: 0.6876 - acc: 0.5539 - val_loss: 0.6831 - val_acc: 0.5701\n",
            "Epoch 4/500\n",
            "2/2 [==============================] - 0s 159ms/step - loss: 0.6825 - acc: 0.5645 - val_loss: 0.6867 - val_acc: 0.5607\n",
            "Epoch 5/500\n",
            "2/2 [==============================] - 0s 167ms/step - loss: 0.6848 - acc: 0.5533 - val_loss: 0.6843 - val_acc: 0.5701\n",
            "Epoch 6/500\n",
            "2/2 [==============================] - 0s 160ms/step - loss: 0.6819 - acc: 0.5630 - val_loss: 0.6929 - val_acc: 0.5234\n",
            "Epoch 7/500\n",
            "2/2 [==============================] - 0s 161ms/step - loss: 0.6881 - acc: 0.5678 - val_loss: 0.6816 - val_acc: 0.5701\n",
            "Epoch 8/500\n",
            "2/2 [==============================] - 0s 163ms/step - loss: 0.6812 - acc: 0.5545 - val_loss: 0.6799 - val_acc: 0.5701\n",
            "Epoch 9/500\n",
            "2/2 [==============================] - 0s 163ms/step - loss: 0.6809 - acc: 0.5663 - val_loss: 0.6830 - val_acc: 0.5701\n",
            "Epoch 10/500\n",
            "2/2 [==============================] - 0s 162ms/step - loss: 0.6795 - acc: 0.5966 - val_loss: 0.6758 - val_acc: 0.5701\n",
            "Epoch 11/500\n",
            "2/2 [==============================] - 0s 161ms/step - loss: 0.6758 - acc: 0.5567 - val_loss: 0.6760 - val_acc: 0.5794\n",
            "Epoch 12/500\n",
            "2/2 [==============================] - 0s 167ms/step - loss: 0.6727 - acc: 0.5832 - val_loss: 0.6733 - val_acc: 0.5794\n",
            "Epoch 13/500\n",
            "2/2 [==============================] - 0s 160ms/step - loss: 0.6721 - acc: 0.6178 - val_loss: 0.6703 - val_acc: 0.5701\n",
            "Epoch 14/500\n",
            "2/2 [==============================] - 0s 160ms/step - loss: 0.6687 - acc: 0.5600 - val_loss: 0.6678 - val_acc: 0.5701\n",
            "Epoch 15/500\n",
            "2/2 [==============================] - 0s 166ms/step - loss: 0.6620 - acc: 0.6025 - val_loss: 0.6683 - val_acc: 0.6075\n",
            "Epoch 16/500\n",
            "2/2 [==============================] - 0s 162ms/step - loss: 0.6611 - acc: 0.6261 - val_loss: 0.6621 - val_acc: 0.5888\n",
            "Epoch 17/500\n",
            "2/2 [==============================] - 0s 164ms/step - loss: 0.6568 - acc: 0.6552 - val_loss: 0.6581 - val_acc: 0.5888\n",
            "Epoch 18/500\n",
            "2/2 [==============================] - 0s 160ms/step - loss: 0.6507 - acc: 0.5774 - val_loss: 0.6578 - val_acc: 0.6916\n",
            "Epoch 19/500\n",
            "2/2 [==============================] - 0s 165ms/step - loss: 0.6436 - acc: 0.7644 - val_loss: 0.6483 - val_acc: 0.5981\n",
            "Epoch 20/500\n",
            "2/2 [==============================] - 0s 162ms/step - loss: 0.6356 - acc: 0.6310 - val_loss: 0.6438 - val_acc: 0.7009\n",
            "Epoch 21/500\n",
            "2/2 [==============================] - 0s 160ms/step - loss: 0.6266 - acc: 0.7529 - val_loss: 0.6330 - val_acc: 0.6449\n",
            "Epoch 22/500\n",
            "2/2 [==============================] - 0s 163ms/step - loss: 0.6145 - acc: 0.6849 - val_loss: 0.6403 - val_acc: 0.7009\n",
            "Epoch 23/500\n",
            "2/2 [==============================] - 0s 160ms/step - loss: 0.6124 - acc: 0.7154 - val_loss: 0.6115 - val_acc: 0.7477\n",
            "Epoch 24/500\n",
            "2/2 [==============================] - 0s 163ms/step - loss: 0.5898 - acc: 0.8345 - val_loss: 0.6146 - val_acc: 0.5888\n",
            "Epoch 25/500\n",
            "2/2 [==============================] - 0s 161ms/step - loss: 0.5859 - acc: 0.6352 - val_loss: 0.5858 - val_acc: 0.7009\n",
            "Epoch 26/500\n",
            "2/2 [==============================] - 0s 163ms/step - loss: 0.5617 - acc: 0.7654 - val_loss: 0.5663 - val_acc: 0.7477\n",
            "Epoch 27/500\n",
            "2/2 [==============================] - 0s 161ms/step - loss: 0.5380 - acc: 0.8033 - val_loss: 0.5750 - val_acc: 0.6822\n",
            "Epoch 28/500\n",
            "2/2 [==============================] - 0s 159ms/step - loss: 0.5841 - acc: 0.5826 - val_loss: 0.6262 - val_acc: 0.5981\n",
            "Epoch 29/500\n",
            "2/2 [==============================] - 0s 159ms/step - loss: 0.5682 - acc: 0.6414 - val_loss: 0.6691 - val_acc: 0.4673\n",
            "Epoch 30/500\n",
            "2/2 [==============================] - 0s 162ms/step - loss: 0.5729 - acc: 0.6352 - val_loss: 0.6278 - val_acc: 0.6168\n",
            "Epoch 31/500\n",
            "2/2 [==============================] - 0s 168ms/step - loss: 0.5753 - acc: 0.6377 - val_loss: 0.5630 - val_acc: 0.6355\n",
            "Epoch 32/500\n",
            "2/2 [==============================] - 0s 159ms/step - loss: 0.5286 - acc: 0.6750 - val_loss: 0.4974 - val_acc: 0.8411\n",
            "Epoch 33/500\n",
            "2/2 [==============================] - 0s 165ms/step - loss: 0.4780 - acc: 0.8056 - val_loss: 0.5106 - val_acc: 0.7477\n",
            "Epoch 34/500\n",
            "2/2 [==============================] - 0s 161ms/step - loss: 0.4686 - acc: 0.8102 - val_loss: 0.5341 - val_acc: 0.7570\n",
            "Epoch 35/500\n",
            "2/2 [==============================] - 0s 161ms/step - loss: 0.4566 - acc: 0.8605 - val_loss: 0.4860 - val_acc: 0.7757\n",
            "Epoch 36/500\n",
            "2/2 [==============================] - 0s 163ms/step - loss: 0.4445 - acc: 0.7869 - val_loss: 0.4458 - val_acc: 0.8692\n",
            "Epoch 37/500\n",
            "2/2 [==============================] - 0s 163ms/step - loss: 0.3993 - acc: 0.9245 - val_loss: 0.4441 - val_acc: 0.8692\n",
            "Epoch 38/500\n",
            "2/2 [==============================] - 0s 169ms/step - loss: 0.3808 - acc: 0.9328 - val_loss: 0.4265 - val_acc: 0.8037\n",
            "Epoch 39/500\n",
            "2/2 [==============================] - 0s 162ms/step - loss: 0.3593 - acc: 0.8750 - val_loss: 0.4244 - val_acc: 0.8598\n",
            "Epoch 40/500\n",
            "2/2 [==============================] - 0s 161ms/step - loss: 0.3422 - acc: 0.9400 - val_loss: 0.3904 - val_acc: 0.8318\n",
            "Epoch 41/500\n",
            "2/2 [==============================] - 0s 164ms/step - loss: 0.3159 - acc: 0.8768 - val_loss: 0.4053 - val_acc: 0.8598\n",
            "Epoch 42/500\n",
            "2/2 [==============================] - 0s 169ms/step - loss: 0.3078 - acc: 0.9241 - val_loss: 0.3606 - val_acc: 0.8411\n",
            "Epoch 43/500\n",
            "2/2 [==============================] - 0s 164ms/step - loss: 0.3002 - acc: 0.8748 - val_loss: 0.3164 - val_acc: 0.9065\n",
            "Epoch 44/500\n",
            "2/2 [==============================] - 0s 162ms/step - loss: 0.2353 - acc: 0.9539 - val_loss: 0.2904 - val_acc: 0.8785\n",
            "Epoch 45/500\n",
            "2/2 [==============================] - 0s 167ms/step - loss: 0.2251 - acc: 0.9443 - val_loss: 0.2725 - val_acc: 0.8972\n",
            "Epoch 46/500\n",
            "2/2 [==============================] - 0s 167ms/step - loss: 0.2003 - acc: 0.9295 - val_loss: 0.3312 - val_acc: 0.8785\n",
            "Epoch 47/500\n",
            "2/2 [==============================] - 0s 159ms/step - loss: 0.2151 - acc: 0.9522 - val_loss: 0.2931 - val_acc: 0.8505\n",
            "Epoch 48/500\n",
            "2/2 [==============================] - 0s 160ms/step - loss: 0.1985 - acc: 0.9229 - val_loss: 0.2672 - val_acc: 0.8879\n",
            "Epoch 49/500\n",
            "2/2 [==============================] - 0s 168ms/step - loss: 0.1679 - acc: 0.9687 - val_loss: 0.2400 - val_acc: 0.8972\n",
            "Epoch 50/500\n",
            "2/2 [==============================] - 0s 163ms/step - loss: 0.1510 - acc: 0.9531 - val_loss: 0.2220 - val_acc: 0.9252\n",
            "Epoch 51/500\n",
            "2/2 [==============================] - 0s 163ms/step - loss: 0.1302 - acc: 0.9647 - val_loss: 0.2122 - val_acc: 0.9252\n",
            "Epoch 52/500\n",
            "2/2 [==============================] - 0s 165ms/step - loss: 0.1259 - acc: 0.9636 - val_loss: 0.2205 - val_acc: 0.8972\n",
            "Epoch 53/500\n",
            "2/2 [==============================] - 0s 161ms/step - loss: 0.1211 - acc: 0.9512 - val_loss: 0.2532 - val_acc: 0.8785\n",
            "Epoch 54/500\n",
            "2/2 [==============================] - 0s 177ms/step - loss: 0.1258 - acc: 0.9751 - val_loss: 0.2645 - val_acc: 0.8785\n",
            "Epoch 55/500\n",
            "2/2 [==============================] - 0s 160ms/step - loss: 0.1320 - acc: 0.9455 - val_loss: 0.2265 - val_acc: 0.8972\n",
            "Epoch 56/500\n",
            "2/2 [==============================] - 0s 165ms/step - loss: 0.1134 - acc: 0.9810 - val_loss: 0.2486 - val_acc: 0.8879\n",
            "Epoch 57/500\n",
            "2/2 [==============================] - 0s 161ms/step - loss: 0.1261 - acc: 0.9427 - val_loss: 0.1896 - val_acc: 0.9252\n",
            "Epoch 58/500\n",
            "2/2 [==============================] - 0s 162ms/step - loss: 0.1021 - acc: 0.9729 - val_loss: 0.1856 - val_acc: 0.9346\n",
            "Epoch 59/500\n",
            "2/2 [==============================] - 0s 163ms/step - loss: 0.0886 - acc: 0.9635 - val_loss: 0.2116 - val_acc: 0.8879\n",
            "Epoch 60/500\n",
            "2/2 [==============================] - 0s 160ms/step - loss: 0.0834 - acc: 0.9752 - val_loss: 0.2303 - val_acc: 0.8785\n",
            "Epoch 61/500\n",
            "2/2 [==============================] - 0s 164ms/step - loss: 0.0833 - acc: 0.9832 - val_loss: 0.2167 - val_acc: 0.8879\n",
            "Epoch 62/500\n",
            "2/2 [==============================] - 0s 160ms/step - loss: 0.0818 - acc: 0.9636 - val_loss: 0.1753 - val_acc: 0.9346\n",
            "Epoch 63/500\n",
            "2/2 [==============================] - 0s 170ms/step - loss: 0.0653 - acc: 0.9866 - val_loss: 0.1850 - val_acc: 0.9439\n",
            "Epoch 64/500\n",
            "2/2 [==============================] - 0s 161ms/step - loss: 0.0588 - acc: 0.9912 - val_loss: 0.2096 - val_acc: 0.8972\n",
            "Epoch 65/500\n",
            "2/2 [==============================] - 0s 162ms/step - loss: 0.0625 - acc: 0.9744 - val_loss: 0.1744 - val_acc: 0.9252\n",
            "Epoch 66/500\n",
            "2/2 [==============================] - 0s 163ms/step - loss: 0.0515 - acc: 0.9966 - val_loss: 0.1755 - val_acc: 0.9346\n",
            "Epoch 67/500\n",
            "2/2 [==============================] - 0s 170ms/step - loss: 0.0461 - acc: 0.9932 - val_loss: 0.1849 - val_acc: 0.9252\n",
            "Epoch 68/500\n",
            "2/2 [==============================] - 0s 163ms/step - loss: 0.0471 - acc: 0.9845 - val_loss: 0.1686 - val_acc: 0.9346\n",
            "Epoch 69/500\n",
            "2/2 [==============================] - 0s 168ms/step - loss: 0.0422 - acc: 0.9947 - val_loss: 0.1698 - val_acc: 0.9439\n",
            "Epoch 70/500\n",
            "2/2 [==============================] - 0s 161ms/step - loss: 0.0408 - acc: 0.9939 - val_loss: 0.1782 - val_acc: 0.9252\n",
            "Epoch 71/500\n",
            "2/2 [==============================] - 0s 160ms/step - loss: 0.0389 - acc: 0.9873 - val_loss: 0.1688 - val_acc: 0.9439\n",
            "Epoch 72/500\n",
            "2/2 [==============================] - 0s 165ms/step - loss: 0.0332 - acc: 0.9993 - val_loss: 0.1659 - val_acc: 0.9346\n",
            "Epoch 73/500\n",
            "2/2 [==============================] - 0s 162ms/step - loss: 0.0311 - acc: 0.9966 - val_loss: 0.1698 - val_acc: 0.9159\n",
            "Epoch 74/500\n",
            "2/2 [==============================] - 0s 166ms/step - loss: 0.0321 - acc: 0.9946 - val_loss: 0.1640 - val_acc: 0.9346\n",
            "Epoch 75/500\n",
            "2/2 [==============================] - 0s 163ms/step - loss: 0.0288 - acc: 0.9987 - val_loss: 0.1649 - val_acc: 0.9346\n",
            "Epoch 76/500\n",
            "2/2 [==============================] - 0s 163ms/step - loss: 0.0271 - acc: 0.9986 - val_loss: 0.1664 - val_acc: 0.9159\n",
            "Epoch 77/500\n",
            "2/2 [==============================] - 0s 163ms/step - loss: 0.0243 - acc: 0.9980 - val_loss: 0.1611 - val_acc: 0.9439\n",
            "Epoch 78/500\n",
            "2/2 [==============================] - 0s 170ms/step - loss: 0.0250 - acc: 0.9987 - val_loss: 0.1615 - val_acc: 0.9252\n",
            "Epoch 79/500\n",
            "2/2 [==============================] - 0s 162ms/step - loss: 0.0217 - acc: 0.9993 - val_loss: 0.1660 - val_acc: 0.9159\n",
            "Epoch 80/500\n",
            "2/2 [==============================] - 0s 159ms/step - loss: 0.0213 - acc: 0.9973 - val_loss: 0.1622 - val_acc: 0.9439\n",
            "Epoch 81/500\n",
            "2/2 [==============================] - 0s 167ms/step - loss: 0.0207 - acc: 0.9987 - val_loss: 0.1629 - val_acc: 0.9346\n",
            "Epoch 82/500\n",
            "2/2 [==============================] - 0s 163ms/step - loss: 0.0195 - acc: 0.9993 - val_loss: 0.1672 - val_acc: 0.9159\n",
            "Epoch 83/500\n",
            "2/2 [==============================] - 0s 162ms/step - loss: 0.0178 - acc: 0.9987 - val_loss: 0.1624 - val_acc: 0.9346\n",
            "Epoch 84/500\n",
            "2/2 [==============================] - 0s 163ms/step - loss: 0.0164 - acc: 1.0000 - val_loss: 0.1627 - val_acc: 0.9252\n",
            "Epoch 85/500\n",
            "2/2 [==============================] - 0s 164ms/step - loss: 0.0152 - acc: 1.0000 - val_loss: 0.1624 - val_acc: 0.9346\n",
            "Epoch 86/500\n",
            "2/2 [==============================] - 0s 165ms/step - loss: 0.0153 - acc: 1.0000 - val_loss: 0.1638 - val_acc: 0.9252\n",
            "Epoch 87/500\n",
            "2/2 [==============================] - 0s 169ms/step - loss: 0.0156 - acc: 1.0000 - val_loss: 0.1670 - val_acc: 0.9252\n",
            "Epoch 88/500\n",
            "2/2 [==============================] - 0s 167ms/step - loss: 0.0132 - acc: 1.0000 - val_loss: 0.1698 - val_acc: 0.9252\n",
            "Epoch 89/500\n",
            "2/2 [==============================] - 0s 162ms/step - loss: 0.0119 - acc: 1.0000 - val_loss: 0.1636 - val_acc: 0.9439\n",
            "Epoch 90/500\n",
            "2/2 [==============================] - 0s 162ms/step - loss: 0.0123 - acc: 1.0000 - val_loss: 0.1656 - val_acc: 0.9252\n",
            "Epoch 91/500\n",
            "2/2 [==============================] - 0s 161ms/step - loss: 0.0117 - acc: 1.0000 - val_loss: 0.1646 - val_acc: 0.9346\n",
            "Epoch 92/500\n",
            "2/2 [==============================] - 0s 167ms/step - loss: 0.0105 - acc: 1.0000 - val_loss: 0.1695 - val_acc: 0.9252\n",
            "Epoch 93/500\n",
            "2/2 [==============================] - 0s 164ms/step - loss: 0.0096 - acc: 1.0000 - val_loss: 0.1663 - val_acc: 0.9252\n",
            "Epoch 94/500\n",
            "2/2 [==============================] - 0s 162ms/step - loss: 0.0095 - acc: 1.0000 - val_loss: 0.1662 - val_acc: 0.9346\n",
            "Epoch 95/500\n",
            "2/2 [==============================] - 0s 168ms/step - loss: 0.0090 - acc: 1.0000 - val_loss: 0.1722 - val_acc: 0.9252\n",
            "Epoch 96/500\n",
            "2/2 [==============================] - 0s 162ms/step - loss: 0.0092 - acc: 1.0000 - val_loss: 0.1725 - val_acc: 0.9252\n",
            "Epoch 97/500\n",
            "2/2 [==============================] - 0s 167ms/step - loss: 0.0078 - acc: 1.0000 - val_loss: 0.1698 - val_acc: 0.9252\n",
            "Epoch 98/500\n",
            "2/2 [==============================] - 0s 161ms/step - loss: 0.0081 - acc: 1.0000 - val_loss: 0.1690 - val_acc: 0.9252\n",
            "Epoch 99/500\n",
            "2/2 [==============================] - 0s 163ms/step - loss: 0.0074 - acc: 1.0000 - val_loss: 0.1710 - val_acc: 0.9252\n",
            "Epoch 100/500\n",
            "2/2 [==============================] - 0s 165ms/step - loss: 0.0070 - acc: 1.0000 - val_loss: 0.1711 - val_acc: 0.9252\n",
            "Epoch 101/500\n",
            "2/2 [==============================] - 0s 165ms/step - loss: 0.0068 - acc: 1.0000 - val_loss: 0.1712 - val_acc: 0.9252\n",
            "Epoch 102/500\n",
            "2/2 [==============================] - 0s 163ms/step - loss: 0.0063 - acc: 1.0000 - val_loss: 0.1738 - val_acc: 0.9252\n",
            "Epoch 103/500\n",
            "2/2 [==============================] - 0s 166ms/step - loss: 0.0059 - acc: 1.0000 - val_loss: 0.1721 - val_acc: 0.9252\n",
            "Epoch 104/500\n",
            "2/2 [==============================] - 0s 162ms/step - loss: 0.0057 - acc: 1.0000 - val_loss: 0.1742 - val_acc: 0.9252\n",
            "Epoch 105/500\n",
            "2/2 [==============================] - 0s 165ms/step - loss: 0.0055 - acc: 1.0000 - val_loss: 0.1741 - val_acc: 0.9252\n",
            "Epoch 106/500\n",
            "2/2 [==============================] - 0s 160ms/step - loss: 0.0051 - acc: 1.0000 - val_loss: 0.1754 - val_acc: 0.9252\n",
            "Epoch 107/500\n",
            "2/2 [==============================] - 0s 163ms/step - loss: 0.0051 - acc: 1.0000 - val_loss: 0.1718 - val_acc: 0.9346\n",
            "Epoch 108/500\n",
            "2/2 [==============================] - 0s 162ms/step - loss: 0.0050 - acc: 1.0000 - val_loss: 0.1794 - val_acc: 0.9252\n",
            "Epoch 109/500\n",
            "2/2 [==============================] - 0s 161ms/step - loss: 0.0047 - acc: 1.0000 - val_loss: 0.1756 - val_acc: 0.9252\n",
            "Epoch 110/500\n",
            "2/2 [==============================] - 0s 165ms/step - loss: 0.0041 - acc: 1.0000 - val_loss: 0.1812 - val_acc: 0.9252\n",
            "Epoch 111/500\n",
            "2/2 [==============================] - 0s 163ms/step - loss: 0.0042 - acc: 1.0000 - val_loss: 0.1807 - val_acc: 0.9252\n",
            "Epoch 112/500\n",
            "2/2 [==============================] - 0s 162ms/step - loss: 0.0038 - acc: 1.0000 - val_loss: 0.1766 - val_acc: 0.9252\n",
            "Epoch 113/500\n",
            "2/2 [==============================] - 0s 165ms/step - loss: 0.0036 - acc: 1.0000 - val_loss: 0.1807 - val_acc: 0.9252\n",
            "Epoch 114/500\n",
            "2/2 [==============================] - 0s 162ms/step - loss: 0.0036 - acc: 1.0000 - val_loss: 0.1833 - val_acc: 0.9252\n",
            "Epoch 115/500\n",
            "2/2 [==============================] - 0s 165ms/step - loss: 0.0035 - acc: 1.0000 - val_loss: 0.1808 - val_acc: 0.9252\n",
            "Epoch 116/500\n",
            "2/2 [==============================] - 0s 159ms/step - loss: 0.0031 - acc: 1.0000 - val_loss: 0.1829 - val_acc: 0.9252\n",
            "Epoch 117/500\n",
            "2/2 [==============================] - 0s 164ms/step - loss: 0.0030 - acc: 1.0000 - val_loss: 0.1829 - val_acc: 0.9252\n",
            "Epoch 118/500\n",
            "2/2 [==============================] - 0s 162ms/step - loss: 0.0029 - acc: 1.0000 - val_loss: 0.1818 - val_acc: 0.9252\n",
            "Epoch 119/500\n",
            "2/2 [==============================] - 0s 163ms/step - loss: 0.0029 - acc: 1.0000 - val_loss: 0.1834 - val_acc: 0.9252\n",
            "Epoch 120/500\n",
            "2/2 [==============================] - 0s 165ms/step - loss: 0.0026 - acc: 1.0000 - val_loss: 0.1915 - val_acc: 0.9252\n",
            "Epoch 121/500\n",
            "2/2 [==============================] - 0s 164ms/step - loss: 0.0027 - acc: 1.0000 - val_loss: 0.1855 - val_acc: 0.9252\n",
            "Epoch 122/500\n",
            "2/2 [==============================] - 0s 173ms/step - loss: 0.0026 - acc: 1.0000 - val_loss: 0.1871 - val_acc: 0.9252\n",
            "Epoch 123/500\n",
            "2/2 [==============================] - 0s 164ms/step - loss: 0.0024 - acc: 1.0000 - val_loss: 0.1859 - val_acc: 0.9252\n",
            "Epoch 124/500\n",
            "2/2 [==============================] - 0s 164ms/step - loss: 0.0022 - acc: 1.0000 - val_loss: 0.1853 - val_acc: 0.9252\n",
            "Epoch 125/500\n",
            "2/2 [==============================] - 0s 161ms/step - loss: 0.0023 - acc: 1.0000 - val_loss: 0.1888 - val_acc: 0.9252\n",
            "Epoch 126/500\n",
            "2/2 [==============================] - 0s 163ms/step - loss: 0.0022 - acc: 1.0000 - val_loss: 0.1930 - val_acc: 0.9252\n",
            "Epoch 127/500\n",
            "2/2 [==============================] - 0s 162ms/step - loss: 0.0020 - acc: 1.0000 - val_loss: 0.1914 - val_acc: 0.9252\n",
            "Epoch 128/500\n",
            "2/2 [==============================] - 0s 167ms/step - loss: 0.0019 - acc: 1.0000 - val_loss: 0.1861 - val_acc: 0.9346\n",
            "Epoch 129/500\n",
            "2/2 [==============================] - 0s 164ms/step - loss: 0.0018 - acc: 1.0000 - val_loss: 0.1911 - val_acc: 0.9252\n",
            "Epoch 130/500\n",
            "2/2 [==============================] - 0s 172ms/step - loss: 0.0018 - acc: 1.0000 - val_loss: 0.1931 - val_acc: 0.9252\n",
            "Epoch 131/500\n",
            "2/2 [==============================] - 0s 162ms/step - loss: 0.0017 - acc: 1.0000 - val_loss: 0.1898 - val_acc: 0.9252\n",
            "Epoch 132/500\n",
            "2/2 [==============================] - 0s 166ms/step - loss: 0.0016 - acc: 1.0000 - val_loss: 0.1933 - val_acc: 0.9252\n",
            "Epoch 133/500\n",
            "2/2 [==============================] - 0s 163ms/step - loss: 0.0017 - acc: 1.0000 - val_loss: 0.1952 - val_acc: 0.9252\n",
            "Epoch 134/500\n",
            "2/2 [==============================] - 0s 163ms/step - loss: 0.0016 - acc: 1.0000 - val_loss: 0.1950 - val_acc: 0.9252\n",
            "Epoch 135/500\n",
            "2/2 [==============================] - 0s 161ms/step - loss: 0.0015 - acc: 1.0000 - val_loss: 0.1940 - val_acc: 0.9252\n",
            "Epoch 136/500\n",
            "2/2 [==============================] - 0s 165ms/step - loss: 0.0014 - acc: 1.0000 - val_loss: 0.1959 - val_acc: 0.9252\n",
            "Epoch 137/500\n",
            "2/2 [==============================] - 0s 166ms/step - loss: 0.0015 - acc: 1.0000 - val_loss: 0.1959 - val_acc: 0.9252\n",
            "Epoch 138/500\n",
            "2/2 [==============================] - 0s 163ms/step - loss: 0.0014 - acc: 1.0000 - val_loss: 0.1972 - val_acc: 0.9252\n",
            "Epoch 139/500\n",
            "2/2 [==============================] - 0s 166ms/step - loss: 0.0013 - acc: 1.0000 - val_loss: 0.2001 - val_acc: 0.9252\n",
            "Epoch 140/500\n",
            "2/2 [==============================] - 0s 166ms/step - loss: 0.0013 - acc: 1.0000 - val_loss: 0.1973 - val_acc: 0.9252\n",
            "Epoch 141/500\n",
            "2/2 [==============================] - 0s 165ms/step - loss: 0.0013 - acc: 1.0000 - val_loss: 0.1961 - val_acc: 0.9252\n",
            "Epoch 142/500\n",
            "2/2 [==============================] - 0s 164ms/step - loss: 0.0012 - acc: 1.0000 - val_loss: 0.2018 - val_acc: 0.9252\n",
            "Epoch 143/500\n",
            "2/2 [==============================] - 0s 162ms/step - loss: 0.0012 - acc: 1.0000 - val_loss: 0.1997 - val_acc: 0.9252\n",
            "Epoch 144/500\n",
            "2/2 [==============================] - 0s 163ms/step - loss: 0.0012 - acc: 1.0000 - val_loss: 0.1973 - val_acc: 0.9346\n",
            "Epoch 145/500\n",
            "2/2 [==============================] - 0s 166ms/step - loss: 0.0012 - acc: 1.0000 - val_loss: 0.2002 - val_acc: 0.9252\n",
            "Epoch 146/500\n",
            "2/2 [==============================] - 0s 163ms/step - loss: 0.0011 - acc: 1.0000 - val_loss: 0.2046 - val_acc: 0.9252\n",
            "Epoch 147/500\n",
            "2/2 [==============================] - 0s 161ms/step - loss: 0.0010 - acc: 1.0000 - val_loss: 0.2009 - val_acc: 0.9252\n",
            "Epoch 148/500\n",
            "2/2 [==============================] - 0s 166ms/step - loss: 0.0010 - acc: 1.0000 - val_loss: 0.1995 - val_acc: 0.9346\n",
            "Epoch 149/500\n",
            "2/2 [==============================] - 0s 166ms/step - loss: 9.8919e-04 - acc: 1.0000 - val_loss: 0.2074 - val_acc: 0.9252\n",
            "Epoch 150/500\n",
            "2/2 [==============================] - 0s 169ms/step - loss: 9.5554e-04 - acc: 1.0000 - val_loss: 0.2068 - val_acc: 0.9252\n",
            "Epoch 151/500\n",
            "2/2 [==============================] - 0s 164ms/step - loss: 8.9650e-04 - acc: 1.0000 - val_loss: 0.2031 - val_acc: 0.9252\n",
            "Epoch 152/500\n",
            "2/2 [==============================] - 0s 161ms/step - loss: 9.0810e-04 - acc: 1.0000 - val_loss: 0.2023 - val_acc: 0.9346\n",
            "Epoch 153/500\n",
            "2/2 [==============================] - 0s 165ms/step - loss: 8.9830e-04 - acc: 1.0000 - val_loss: 0.2084 - val_acc: 0.9252\n",
            "Epoch 154/500\n",
            "2/2 [==============================] - 0s 169ms/step - loss: 9.1302e-04 - acc: 1.0000 - val_loss: 0.2121 - val_acc: 0.9252\n",
            "Epoch 155/500\n",
            "2/2 [==============================] - 0s 164ms/step - loss: 9.0436e-04 - acc: 1.0000 - val_loss: 0.2074 - val_acc: 0.9252\n",
            "Epoch 156/500\n",
            "2/2 [==============================] - 0s 169ms/step - loss: 8.4073e-04 - acc: 1.0000 - val_loss: 0.2036 - val_acc: 0.9346\n",
            "Epoch 157/500\n",
            "2/2 [==============================] - 0s 173ms/step - loss: 7.7965e-04 - acc: 1.0000 - val_loss: 0.2068 - val_acc: 0.9252\n",
            "Epoch 158/500\n",
            "2/2 [==============================] - 0s 164ms/step - loss: 7.8182e-04 - acc: 1.0000 - val_loss: 0.2119 - val_acc: 0.9252\n",
            "Epoch 159/500\n",
            "2/2 [==============================] - 0s 163ms/step - loss: 7.9356e-04 - acc: 1.0000 - val_loss: 0.2104 - val_acc: 0.9252\n",
            "Epoch 160/500\n",
            "2/2 [==============================] - 0s 164ms/step - loss: 8.0163e-04 - acc: 1.0000 - val_loss: 0.2061 - val_acc: 0.9346\n",
            "Epoch 161/500\n",
            "2/2 [==============================] - 0s 164ms/step - loss: 6.7733e-04 - acc: 1.0000 - val_loss: 0.2106 - val_acc: 0.9252\n",
            "Epoch 162/500\n",
            "2/2 [==============================] - 0s 161ms/step - loss: 6.8981e-04 - acc: 1.0000 - val_loss: 0.2125 - val_acc: 0.9252\n",
            "Epoch 163/500\n",
            "2/2 [==============================] - 0s 163ms/step - loss: 6.9426e-04 - acc: 1.0000 - val_loss: 0.2115 - val_acc: 0.9252\n",
            "Epoch 164/500\n",
            "2/2 [==============================] - 0s 167ms/step - loss: 6.6419e-04 - acc: 1.0000 - val_loss: 0.2110 - val_acc: 0.9252\n",
            "Epoch 165/500\n",
            "2/2 [==============================] - 0s 165ms/step - loss: 6.4918e-04 - acc: 1.0000 - val_loss: 0.2138 - val_acc: 0.9252\n",
            "Epoch 166/500\n",
            "2/2 [==============================] - 0s 164ms/step - loss: 6.4307e-04 - acc: 1.0000 - val_loss: 0.2139 - val_acc: 0.9252\n",
            "Epoch 167/500\n",
            "2/2 [==============================] - 0s 164ms/step - loss: 6.5855e-04 - acc: 1.0000 - val_loss: 0.2136 - val_acc: 0.9252\n",
            "Epoch 168/500\n",
            "2/2 [==============================] - 0s 163ms/step - loss: 6.0962e-04 - acc: 1.0000 - val_loss: 0.2126 - val_acc: 0.9252\n",
            "Epoch 169/500\n",
            "2/2 [==============================] - 0s 163ms/step - loss: 6.0471e-04 - acc: 1.0000 - val_loss: 0.2125 - val_acc: 0.9252\n",
            "Epoch 170/500\n",
            "2/2 [==============================] - 0s 166ms/step - loss: 5.7567e-04 - acc: 1.0000 - val_loss: 0.2154 - val_acc: 0.9252\n",
            "Epoch 171/500\n",
            "2/2 [==============================] - 0s 174ms/step - loss: 5.2878e-04 - acc: 1.0000 - val_loss: 0.2184 - val_acc: 0.9252\n",
            "Epoch 172/500\n",
            "2/2 [==============================] - 0s 163ms/step - loss: 5.6213e-04 - acc: 1.0000 - val_loss: 0.2161 - val_acc: 0.9252\n",
            "Epoch 173/500\n",
            "2/2 [==============================] - 0s 165ms/step - loss: 5.4936e-04 - acc: 1.0000 - val_loss: 0.2147 - val_acc: 0.9252\n",
            "Epoch 174/500\n",
            "2/2 [==============================] - 0s 162ms/step - loss: 5.1411e-04 - acc: 1.0000 - val_loss: 0.2167 - val_acc: 0.9252\n",
            "Epoch 175/500\n",
            "2/2 [==============================] - 0s 163ms/step - loss: 5.3396e-04 - acc: 1.0000 - val_loss: 0.2168 - val_acc: 0.9252\n",
            "Epoch 176/500\n",
            "2/2 [==============================] - 0s 165ms/step - loss: 5.0105e-04 - acc: 1.0000 - val_loss: 0.2178 - val_acc: 0.9252\n",
            "Epoch 177/500\n",
            "2/2 [==============================] - 0s 163ms/step - loss: 4.9233e-04 - acc: 1.0000 - val_loss: 0.2192 - val_acc: 0.9252\n",
            "Epoch 178/500\n",
            "2/2 [==============================] - 0s 171ms/step - loss: 5.0359e-04 - acc: 1.0000 - val_loss: 0.2193 - val_acc: 0.9252\n",
            "Epoch 179/500\n",
            "2/2 [==============================] - 0s 166ms/step - loss: 5.0082e-04 - acc: 1.0000 - val_loss: 0.2177 - val_acc: 0.9252\n",
            "Epoch 180/500\n",
            "2/2 [==============================] - 0s 165ms/step - loss: 4.7088e-04 - acc: 1.0000 - val_loss: 0.2206 - val_acc: 0.9252\n",
            "Epoch 181/500\n",
            "2/2 [==============================] - 0s 164ms/step - loss: 4.8078e-04 - acc: 1.0000 - val_loss: 0.2189 - val_acc: 0.9252\n",
            "Epoch 182/500\n",
            "2/2 [==============================] - 0s 161ms/step - loss: 4.6053e-04 - acc: 1.0000 - val_loss: 0.2191 - val_acc: 0.9252\n",
            "Epoch 183/500\n",
            "2/2 [==============================] - 0s 169ms/step - loss: 4.1469e-04 - acc: 1.0000 - val_loss: 0.2216 - val_acc: 0.9252\n",
            "Epoch 184/500\n",
            "2/2 [==============================] - 0s 164ms/step - loss: 4.2750e-04 - acc: 1.0000 - val_loss: 0.2239 - val_acc: 0.9252\n",
            "Epoch 185/500\n",
            "2/2 [==============================] - 0s 168ms/step - loss: 3.8888e-04 - acc: 1.0000 - val_loss: 0.2216 - val_acc: 0.9252\n",
            "Epoch 186/500\n",
            "2/2 [==============================] - 0s 166ms/step - loss: 4.1727e-04 - acc: 1.0000 - val_loss: 0.2184 - val_acc: 0.9346\n",
            "Epoch 187/500\n",
            "2/2 [==============================] - 0s 161ms/step - loss: 4.2150e-04 - acc: 1.0000 - val_loss: 0.2206 - val_acc: 0.9346\n",
            "Epoch 188/500\n",
            "2/2 [==============================] - 0s 163ms/step - loss: 3.9230e-04 - acc: 1.0000 - val_loss: 0.2251 - val_acc: 0.9252\n",
            "Epoch 189/500\n",
            "2/2 [==============================] - 0s 164ms/step - loss: 3.9925e-04 - acc: 1.0000 - val_loss: 0.2259 - val_acc: 0.9252\n",
            "Epoch 190/500\n",
            "2/2 [==============================] - 0s 166ms/step - loss: 3.7300e-04 - acc: 1.0000 - val_loss: 0.2248 - val_acc: 0.9252\n",
            "Epoch 191/500\n",
            "2/2 [==============================] - 0s 160ms/step - loss: 3.8758e-04 - acc: 1.0000 - val_loss: 0.2218 - val_acc: 0.9346\n",
            "Epoch 192/500\n",
            "2/2 [==============================] - 0s 165ms/step - loss: 3.9418e-04 - acc: 1.0000 - val_loss: 0.2231 - val_acc: 0.9346\n",
            "Epoch 193/500\n",
            "2/2 [==============================] - 0s 161ms/step - loss: 3.6064e-04 - acc: 1.0000 - val_loss: 0.2255 - val_acc: 0.9252\n",
            "Epoch 194/500\n",
            "2/2 [==============================] - 0s 168ms/step - loss: 3.4630e-04 - acc: 1.0000 - val_loss: 0.2271 - val_acc: 0.9252\n",
            "Epoch 195/500\n",
            "2/2 [==============================] - 0s 163ms/step - loss: 3.6039e-04 - acc: 1.0000 - val_loss: 0.2258 - val_acc: 0.9252\n",
            "Epoch 196/500\n",
            "2/2 [==============================] - 0s 164ms/step - loss: 3.5983e-04 - acc: 1.0000 - val_loss: 0.2245 - val_acc: 0.9346\n",
            "Epoch 197/500\n",
            "2/2 [==============================] - 0s 169ms/step - loss: 3.4843e-04 - acc: 1.0000 - val_loss: 0.2270 - val_acc: 0.9252\n",
            "Epoch 198/500\n",
            "2/2 [==============================] - 0s 166ms/step - loss: 3.2819e-04 - acc: 1.0000 - val_loss: 0.2269 - val_acc: 0.9252\n",
            "Epoch 199/500\n",
            "2/2 [==============================] - 0s 164ms/step - loss: 3.2454e-04 - acc: 1.0000 - val_loss: 0.2273 - val_acc: 0.9252\n",
            "Epoch 200/500\n",
            "2/2 [==============================] - 0s 165ms/step - loss: 3.3266e-04 - acc: 1.0000 - val_loss: 0.2276 - val_acc: 0.9252\n",
            "Epoch 201/500\n",
            "2/2 [==============================] - 0s 167ms/step - loss: 3.0767e-04 - acc: 1.0000 - val_loss: 0.2278 - val_acc: 0.9252\n",
            "Epoch 202/500\n",
            "2/2 [==============================] - 0s 163ms/step - loss: 3.0679e-04 - acc: 1.0000 - val_loss: 0.2281 - val_acc: 0.9346\n",
            "Epoch 203/500\n",
            "2/2 [==============================] - 0s 173ms/step - loss: 2.8257e-04 - acc: 1.0000 - val_loss: 0.2288 - val_acc: 0.9252\n",
            "Epoch 204/500\n",
            "2/2 [==============================] - 0s 164ms/step - loss: 3.1430e-04 - acc: 1.0000 - val_loss: 0.2285 - val_acc: 0.9346\n",
            "Epoch 205/500\n",
            "2/2 [==============================] - 0s 168ms/step - loss: 2.8495e-04 - acc: 1.0000 - val_loss: 0.2300 - val_acc: 0.9252\n",
            "Epoch 206/500\n",
            "2/2 [==============================] - 0s 172ms/step - loss: 2.7876e-04 - acc: 1.0000 - val_loss: 0.2298 - val_acc: 0.9346\n",
            "Epoch 207/500\n",
            "2/2 [==============================] - 0s 164ms/step - loss: 2.9308e-04 - acc: 1.0000 - val_loss: 0.2288 - val_acc: 0.9346\n",
            "Epoch 208/500\n",
            "2/2 [==============================] - 0s 162ms/step - loss: 2.7180e-04 - acc: 1.0000 - val_loss: 0.2301 - val_acc: 0.9346\n",
            "Epoch 209/500\n",
            "2/2 [==============================] - 0s 172ms/step - loss: 2.7096e-04 - acc: 1.0000 - val_loss: 0.2317 - val_acc: 0.9252\n",
            "Epoch 210/500\n",
            "2/2 [==============================] - 0s 163ms/step - loss: 2.7506e-04 - acc: 1.0000 - val_loss: 0.2336 - val_acc: 0.9252\n",
            "Epoch 211/500\n",
            "2/2 [==============================] - 0s 164ms/step - loss: 2.9165e-04 - acc: 1.0000 - val_loss: 0.2317 - val_acc: 0.9346\n",
            "Epoch 212/500\n",
            "2/2 [==============================] - 0s 164ms/step - loss: 2.6094e-04 - acc: 1.0000 - val_loss: 0.2316 - val_acc: 0.9346\n",
            "Epoch 213/500\n",
            "2/2 [==============================] - 0s 163ms/step - loss: 2.6475e-04 - acc: 1.0000 - val_loss: 0.2319 - val_acc: 0.9346\n",
            "Epoch 214/500\n",
            "2/2 [==============================] - 0s 164ms/step - loss: 2.4618e-04 - acc: 1.0000 - val_loss: 0.2336 - val_acc: 0.9252\n",
            "Epoch 215/500\n",
            "2/2 [==============================] - 0s 164ms/step - loss: 2.4906e-04 - acc: 1.0000 - val_loss: 0.2343 - val_acc: 0.9252\n",
            "Epoch 216/500\n",
            "2/2 [==============================] - 0s 173ms/step - loss: 2.5651e-04 - acc: 1.0000 - val_loss: 0.2341 - val_acc: 0.9252\n",
            "Epoch 217/500\n",
            "2/2 [==============================] - 0s 167ms/step - loss: 2.4164e-04 - acc: 1.0000 - val_loss: 0.2326 - val_acc: 0.9346\n",
            "Epoch 218/500\n",
            "2/2 [==============================] - 0s 165ms/step - loss: 2.4230e-04 - acc: 1.0000 - val_loss: 0.2325 - val_acc: 0.9346\n",
            "Epoch 219/500\n",
            "2/2 [==============================] - 0s 166ms/step - loss: 2.4452e-04 - acc: 1.0000 - val_loss: 0.2345 - val_acc: 0.9346\n",
            "Epoch 220/500\n",
            "2/2 [==============================] - 0s 163ms/step - loss: 2.3720e-04 - acc: 1.0000 - val_loss: 0.2355 - val_acc: 0.9252\n",
            "Epoch 221/500\n",
            "2/2 [==============================] - 0s 163ms/step - loss: 2.4134e-04 - acc: 1.0000 - val_loss: 0.2351 - val_acc: 0.9346\n",
            "Epoch 222/500\n",
            "2/2 [==============================] - 0s 163ms/step - loss: 2.4130e-04 - acc: 1.0000 - val_loss: 0.2360 - val_acc: 0.9346\n",
            "Epoch 223/500\n",
            "2/2 [==============================] - 0s 166ms/step - loss: 2.1564e-04 - acc: 1.0000 - val_loss: 0.2379 - val_acc: 0.9252\n",
            "Epoch 224/500\n",
            "2/2 [==============================] - 0s 165ms/step - loss: 2.0761e-04 - acc: 1.0000 - val_loss: 0.2369 - val_acc: 0.9252\n",
            "Epoch 225/500\n",
            "2/2 [==============================] - 0s 169ms/step - loss: 2.2527e-04 - acc: 1.0000 - val_loss: 0.2347 - val_acc: 0.9346\n",
            "Epoch 226/500\n",
            "2/2 [==============================] - 0s 167ms/step - loss: 2.2162e-04 - acc: 1.0000 - val_loss: 0.2353 - val_acc: 0.9346\n",
            "Epoch 227/500\n",
            "2/2 [==============================] - 0s 164ms/step - loss: 2.1032e-04 - acc: 1.0000 - val_loss: 0.2387 - val_acc: 0.9252\n",
            "Epoch 228/500\n",
            "2/2 [==============================] - 0s 171ms/step - loss: 2.0199e-04 - acc: 1.0000 - val_loss: 0.2387 - val_acc: 0.9252\n",
            "Epoch 229/500\n",
            "2/2 [==============================] - 0s 166ms/step - loss: 2.0646e-04 - acc: 1.0000 - val_loss: 0.2379 - val_acc: 0.9346\n",
            "Epoch 230/500\n",
            "2/2 [==============================] - 0s 163ms/step - loss: 2.0592e-04 - acc: 1.0000 - val_loss: 0.2388 - val_acc: 0.9346\n",
            "Epoch 231/500\n",
            "2/2 [==============================] - 0s 163ms/step - loss: 1.9663e-04 - acc: 1.0000 - val_loss: 0.2394 - val_acc: 0.9346\n",
            "Epoch 232/500\n",
            "2/2 [==============================] - 0s 163ms/step - loss: 2.1609e-04 - acc: 1.0000 - val_loss: 0.2390 - val_acc: 0.9346\n",
            "Epoch 233/500\n",
            "2/2 [==============================] - 0s 165ms/step - loss: 1.8848e-04 - acc: 1.0000 - val_loss: 0.2398 - val_acc: 0.9346\n",
            "Epoch 234/500\n",
            "2/2 [==============================] - 0s 174ms/step - loss: 1.8124e-04 - acc: 1.0000 - val_loss: 0.2398 - val_acc: 0.9346\n",
            "Epoch 235/500\n",
            "2/2 [==============================] - 0s 168ms/step - loss: 1.8895e-04 - acc: 1.0000 - val_loss: 0.2407 - val_acc: 0.9346\n",
            "Epoch 236/500\n",
            "2/2 [==============================] - 0s 165ms/step - loss: 1.9029e-04 - acc: 1.0000 - val_loss: 0.2410 - val_acc: 0.9346\n",
            "Epoch 237/500\n",
            "2/2 [==============================] - 0s 164ms/step - loss: 1.8388e-04 - acc: 1.0000 - val_loss: 0.2412 - val_acc: 0.9346\n",
            "Epoch 238/500\n",
            "2/2 [==============================] - 0s 167ms/step - loss: 1.9009e-04 - acc: 1.0000 - val_loss: 0.2408 - val_acc: 0.9346\n",
            "Epoch 239/500\n",
            "2/2 [==============================] - 0s 170ms/step - loss: 1.8816e-04 - acc: 1.0000 - val_loss: 0.2412 - val_acc: 0.9346\n",
            "Epoch 240/500\n",
            "2/2 [==============================] - 0s 166ms/step - loss: 1.8428e-04 - acc: 1.0000 - val_loss: 0.2429 - val_acc: 0.9252\n",
            "Epoch 241/500\n",
            "2/2 [==============================] - 0s 172ms/step - loss: 1.6899e-04 - acc: 1.0000 - val_loss: 0.2433 - val_acc: 0.9252\n",
            "Epoch 242/500\n",
            "2/2 [==============================] - 0s 166ms/step - loss: 1.7269e-04 - acc: 1.0000 - val_loss: 0.2431 - val_acc: 0.9346\n",
            "Epoch 243/500\n",
            "2/2 [==============================] - 0s 163ms/step - loss: 1.7845e-04 - acc: 1.0000 - val_loss: 0.2423 - val_acc: 0.9346\n",
            "Epoch 244/500\n",
            "2/2 [==============================] - 0s 163ms/step - loss: 1.6748e-04 - acc: 1.0000 - val_loss: 0.2431 - val_acc: 0.9346\n",
            "Epoch 245/500\n",
            "2/2 [==============================] - 0s 174ms/step - loss: 1.6412e-04 - acc: 1.0000 - val_loss: 0.2437 - val_acc: 0.9346\n",
            "Epoch 246/500\n",
            "2/2 [==============================] - 0s 171ms/step - loss: 1.7908e-04 - acc: 1.0000 - val_loss: 0.2431 - val_acc: 0.9346\n",
            "Epoch 247/500\n",
            "2/2 [==============================] - 0s 166ms/step - loss: 1.5708e-04 - acc: 1.0000 - val_loss: 0.2439 - val_acc: 0.9346\n",
            "Epoch 248/500\n",
            "2/2 [==============================] - 0s 167ms/step - loss: 1.6261e-04 - acc: 1.0000 - val_loss: 0.2452 - val_acc: 0.9346\n",
            "Epoch 249/500\n",
            "2/2 [==============================] - 0s 165ms/step - loss: 1.4881e-04 - acc: 1.0000 - val_loss: 0.2457 - val_acc: 0.9346\n",
            "Epoch 250/500\n",
            "2/2 [==============================] - 0s 172ms/step - loss: 1.6029e-04 - acc: 1.0000 - val_loss: 0.2443 - val_acc: 0.9346\n",
            "Epoch 251/500\n",
            "2/2 [==============================] - 0s 166ms/step - loss: 1.5926e-04 - acc: 1.0000 - val_loss: 0.2437 - val_acc: 0.9346\n",
            "Epoch 252/500\n",
            "2/2 [==============================] - 0s 162ms/step - loss: 1.5293e-04 - acc: 1.0000 - val_loss: 0.2448 - val_acc: 0.9346\n",
            "Epoch 253/500\n",
            "2/2 [==============================] - 0s 171ms/step - loss: 1.4034e-04 - acc: 1.0000 - val_loss: 0.2461 - val_acc: 0.9346\n",
            "Epoch 254/500\n",
            "2/2 [==============================] - 0s 166ms/step - loss: 1.4923e-04 - acc: 1.0000 - val_loss: 0.2477 - val_acc: 0.9252\n",
            "Epoch 255/500\n",
            "2/2 [==============================] - 0s 168ms/step - loss: 1.4430e-04 - acc: 1.0000 - val_loss: 0.2471 - val_acc: 0.9346\n",
            "Epoch 256/500\n",
            "2/2 [==============================] - 0s 164ms/step - loss: 1.4281e-04 - acc: 1.0000 - val_loss: 0.2455 - val_acc: 0.9346\n",
            "Epoch 257/500\n",
            "2/2 [==============================] - 0s 164ms/step - loss: 1.3847e-04 - acc: 1.0000 - val_loss: 0.2454 - val_acc: 0.9346\n",
            "Epoch 258/500\n",
            "2/2 [==============================] - 0s 167ms/step - loss: 1.5009e-04 - acc: 1.0000 - val_loss: 0.2456 - val_acc: 0.9346\n",
            "Epoch 259/500\n",
            "2/2 [==============================] - 0s 169ms/step - loss: 1.4699e-04 - acc: 1.0000 - val_loss: 0.2481 - val_acc: 0.9346\n",
            "Epoch 260/500\n",
            "2/2 [==============================] - 0s 166ms/step - loss: 1.5204e-04 - acc: 1.0000 - val_loss: 0.2490 - val_acc: 0.9346\n",
            "Epoch 261/500\n",
            "2/2 [==============================] - 0s 165ms/step - loss: 1.4243e-04 - acc: 1.0000 - val_loss: 0.2488 - val_acc: 0.9346\n",
            "Epoch 262/500\n",
            "2/2 [==============================] - 0s 168ms/step - loss: 1.3910e-04 - acc: 1.0000 - val_loss: 0.2484 - val_acc: 0.9346\n",
            "Epoch 263/500\n",
            "2/2 [==============================] - 0s 166ms/step - loss: 1.3334e-04 - acc: 1.0000 - val_loss: 0.2476 - val_acc: 0.9346\n",
            "Epoch 264/500\n",
            "2/2 [==============================] - 0s 178ms/step - loss: 1.2645e-04 - acc: 1.0000 - val_loss: 0.2480 - val_acc: 0.9346\n",
            "Epoch 265/500\n",
            "2/2 [==============================] - 0s 167ms/step - loss: 1.3712e-04 - acc: 1.0000 - val_loss: 0.2483 - val_acc: 0.9346\n",
            "Epoch 266/500\n",
            "2/2 [==============================] - 0s 172ms/step - loss: 1.3165e-04 - acc: 1.0000 - val_loss: 0.2509 - val_acc: 0.9346\n",
            "Epoch 267/500\n",
            "2/2 [==============================] - 0s 172ms/step - loss: 1.3344e-04 - acc: 1.0000 - val_loss: 0.2511 - val_acc: 0.9346\n",
            "Epoch 268/500\n",
            "2/2 [==============================] - 0s 175ms/step - loss: 1.3052e-04 - acc: 1.0000 - val_loss: 0.2517 - val_acc: 0.9346\n",
            "Epoch 269/500\n",
            "2/2 [==============================] - 0s 171ms/step - loss: 1.2643e-04 - acc: 1.0000 - val_loss: 0.2503 - val_acc: 0.9346\n",
            "Epoch 270/500\n",
            "2/2 [==============================] - 0s 176ms/step - loss: 1.2327e-04 - acc: 1.0000 - val_loss: 0.2492 - val_acc: 0.9346\n",
            "Epoch 271/500\n",
            "2/2 [==============================] - 0s 171ms/step - loss: 1.1851e-04 - acc: 1.0000 - val_loss: 0.2500 - val_acc: 0.9346\n",
            "Epoch 272/500\n",
            "2/2 [==============================] - 0s 167ms/step - loss: 1.2316e-04 - acc: 1.0000 - val_loss: 0.2512 - val_acc: 0.9346\n",
            "Epoch 273/500\n",
            "2/2 [==============================] - 0s 167ms/step - loss: 1.1667e-04 - acc: 1.0000 - val_loss: 0.2526 - val_acc: 0.9346\n",
            "Epoch 274/500\n",
            "2/2 [==============================] - 0s 169ms/step - loss: 1.1768e-04 - acc: 1.0000 - val_loss: 0.2524 - val_acc: 0.9346\n",
            "Epoch 275/500\n",
            "2/2 [==============================] - 0s 169ms/step - loss: 1.1667e-04 - acc: 1.0000 - val_loss: 0.2531 - val_acc: 0.9346\n",
            "Epoch 276/500\n",
            "2/2 [==============================] - 0s 165ms/step - loss: 1.1399e-04 - acc: 1.0000 - val_loss: 0.2517 - val_acc: 0.9346\n",
            "Epoch 277/500\n",
            "2/2 [==============================] - 0s 166ms/step - loss: 1.2435e-04 - acc: 1.0000 - val_loss: 0.2509 - val_acc: 0.9346\n",
            "Epoch 278/500\n",
            "2/2 [==============================] - 0s 175ms/step - loss: 1.1776e-04 - acc: 1.0000 - val_loss: 0.2519 - val_acc: 0.9346\n",
            "Epoch 279/500\n",
            "2/2 [==============================] - 0s 166ms/step - loss: 1.1464e-04 - acc: 1.0000 - val_loss: 0.2529 - val_acc: 0.9346\n",
            "Epoch 280/500\n",
            "2/2 [==============================] - 0s 171ms/step - loss: 1.1084e-04 - acc: 1.0000 - val_loss: 0.2532 - val_acc: 0.9346\n",
            "Epoch 281/500\n",
            "2/2 [==============================] - 0s 175ms/step - loss: 1.0768e-04 - acc: 1.0000 - val_loss: 0.2532 - val_acc: 0.9346\n",
            "Epoch 282/500\n",
            "2/2 [==============================] - 0s 168ms/step - loss: 1.0331e-04 - acc: 1.0000 - val_loss: 0.2548 - val_acc: 0.9346\n",
            "Epoch 283/500\n",
            "2/2 [==============================] - 0s 170ms/step - loss: 1.1010e-04 - acc: 1.0000 - val_loss: 0.2546 - val_acc: 0.9346\n",
            "Epoch 284/500\n",
            "2/2 [==============================] - 0s 168ms/step - loss: 1.0798e-04 - acc: 1.0000 - val_loss: 0.2534 - val_acc: 0.9346\n",
            "Epoch 285/500\n",
            "2/2 [==============================] - 0s 169ms/step - loss: 1.0600e-04 - acc: 1.0000 - val_loss: 0.2535 - val_acc: 0.9346\n",
            "Epoch 286/500\n",
            "2/2 [==============================] - 0s 167ms/step - loss: 1.0060e-04 - acc: 1.0000 - val_loss: 0.2539 - val_acc: 0.9346\n",
            "Epoch 287/500\n",
            "2/2 [==============================] - 0s 165ms/step - loss: 1.0525e-04 - acc: 1.0000 - val_loss: 0.2544 - val_acc: 0.9346\n",
            "Epoch 288/500\n",
            "2/2 [==============================] - 0s 172ms/step - loss: 1.0079e-04 - acc: 1.0000 - val_loss: 0.2555 - val_acc: 0.9346\n",
            "Epoch 289/500\n",
            "2/2 [==============================] - 0s 167ms/step - loss: 9.9743e-05 - acc: 1.0000 - val_loss: 0.2557 - val_acc: 0.9346\n",
            "Epoch 290/500\n",
            "2/2 [==============================] - 0s 169ms/step - loss: 1.0062e-04 - acc: 1.0000 - val_loss: 0.2563 - val_acc: 0.9346\n",
            "Epoch 291/500\n",
            "2/2 [==============================] - 0s 167ms/step - loss: 1.0317e-04 - acc: 1.0000 - val_loss: 0.2551 - val_acc: 0.9346\n",
            "Epoch 292/500\n",
            "2/2 [==============================] - 0s 166ms/step - loss: 9.5404e-05 - acc: 1.0000 - val_loss: 0.2557 - val_acc: 0.9346\n",
            "Epoch 293/500\n",
            "2/2 [==============================] - 0s 165ms/step - loss: 1.0313e-04 - acc: 1.0000 - val_loss: 0.2560 - val_acc: 0.9346\n",
            "Epoch 294/500\n",
            "2/2 [==============================] - 0s 169ms/step - loss: 9.8792e-05 - acc: 1.0000 - val_loss: 0.2560 - val_acc: 0.9346\n",
            "Epoch 295/500\n",
            "2/2 [==============================] - 0s 174ms/step - loss: 9.1245e-05 - acc: 1.0000 - val_loss: 0.2568 - val_acc: 0.9346\n",
            "Epoch 296/500\n",
            "2/2 [==============================] - 0s 168ms/step - loss: 9.7930e-05 - acc: 1.0000 - val_loss: 0.2570 - val_acc: 0.9346\n",
            "Epoch 297/500\n",
            "2/2 [==============================] - 0s 167ms/step - loss: 9.1820e-05 - acc: 1.0000 - val_loss: 0.2572 - val_acc: 0.9346\n",
            "Epoch 298/500\n",
            "2/2 [==============================] - 0s 170ms/step - loss: 8.9944e-05 - acc: 1.0000 - val_loss: 0.2574 - val_acc: 0.9346\n",
            "Epoch 299/500\n",
            "2/2 [==============================] - 0s 166ms/step - loss: 9.2208e-05 - acc: 1.0000 - val_loss: 0.2582 - val_acc: 0.9346\n",
            "Epoch 300/500\n",
            "2/2 [==============================] - 0s 169ms/step - loss: 9.6123e-05 - acc: 1.0000 - val_loss: 0.2571 - val_acc: 0.9346\n",
            "Epoch 301/500\n",
            "2/2 [==============================] - 0s 168ms/step - loss: 9.1862e-05 - acc: 1.0000 - val_loss: 0.2577 - val_acc: 0.9346\n",
            "Epoch 302/500\n",
            "2/2 [==============================] - 0s 167ms/step - loss: 8.8804e-05 - acc: 1.0000 - val_loss: 0.2580 - val_acc: 0.9346\n",
            "Epoch 303/500\n",
            "2/2 [==============================] - 0s 170ms/step - loss: 8.5040e-05 - acc: 1.0000 - val_loss: 0.2591 - val_acc: 0.9346\n",
            "Epoch 304/500\n",
            "2/2 [==============================] - 0s 164ms/step - loss: 8.8368e-05 - acc: 1.0000 - val_loss: 0.2593 - val_acc: 0.9346\n",
            "Epoch 305/500\n",
            "2/2 [==============================] - 0s 169ms/step - loss: 8.1507e-05 - acc: 1.0000 - val_loss: 0.2601 - val_acc: 0.9346\n",
            "Epoch 306/500\n",
            "2/2 [==============================] - 0s 164ms/step - loss: 8.6927e-05 - acc: 1.0000 - val_loss: 0.2592 - val_acc: 0.9346\n",
            "Epoch 307/500\n",
            "2/2 [==============================] - 0s 166ms/step - loss: 8.7420e-05 - acc: 1.0000 - val_loss: 0.2583 - val_acc: 0.9346\n",
            "Epoch 308/500\n",
            "2/2 [==============================] - 0s 171ms/step - loss: 8.4054e-05 - acc: 1.0000 - val_loss: 0.2586 - val_acc: 0.9346\n",
            "Epoch 309/500\n",
            "2/2 [==============================] - 0s 167ms/step - loss: 8.7729e-05 - acc: 1.0000 - val_loss: 0.2596 - val_acc: 0.9346\n",
            "Epoch 310/500\n",
            "2/2 [==============================] - 0s 167ms/step - loss: 8.2637e-05 - acc: 1.0000 - val_loss: 0.2613 - val_acc: 0.9346\n",
            "Epoch 311/500\n",
            "2/2 [==============================] - 0s 164ms/step - loss: 8.0764e-05 - acc: 1.0000 - val_loss: 0.2611 - val_acc: 0.9346\n",
            "Epoch 312/500\n",
            "2/2 [==============================] - 0s 169ms/step - loss: 8.5484e-05 - acc: 1.0000 - val_loss: 0.2611 - val_acc: 0.9346\n",
            "Epoch 313/500\n",
            "2/2 [==============================] - 0s 166ms/step - loss: 7.6281e-05 - acc: 1.0000 - val_loss: 0.2608 - val_acc: 0.9346\n",
            "Epoch 314/500\n",
            "2/2 [==============================] - 0s 172ms/step - loss: 7.4291e-05 - acc: 1.0000 - val_loss: 0.2606 - val_acc: 0.9346\n",
            "Epoch 315/500\n",
            "2/2 [==============================] - 0s 177ms/step - loss: 8.1082e-05 - acc: 1.0000 - val_loss: 0.2595 - val_acc: 0.9346\n",
            "Epoch 316/500\n",
            "2/2 [==============================] - 0s 168ms/step - loss: 8.1950e-05 - acc: 1.0000 - val_loss: 0.2606 - val_acc: 0.9346\n",
            "Epoch 317/500\n",
            "2/2 [==============================] - 0s 167ms/step - loss: 7.4789e-05 - acc: 1.0000 - val_loss: 0.2615 - val_acc: 0.9346\n",
            "Epoch 318/500\n",
            "2/2 [==============================] - 0s 166ms/step - loss: 7.3735e-05 - acc: 1.0000 - val_loss: 0.2621 - val_acc: 0.9346\n",
            "Epoch 319/500\n",
            "2/2 [==============================] - 0s 166ms/step - loss: 8.1878e-05 - acc: 1.0000 - val_loss: 0.2625 - val_acc: 0.9346\n",
            "Epoch 320/500\n",
            "2/2 [==============================] - 0s 165ms/step - loss: 7.3950e-05 - acc: 1.0000 - val_loss: 0.2635 - val_acc: 0.9346\n",
            "Epoch 321/500\n",
            "2/2 [==============================] - 0s 167ms/step - loss: 7.2708e-05 - acc: 1.0000 - val_loss: 0.2635 - val_acc: 0.9346\n",
            "Epoch 322/500\n",
            "2/2 [==============================] - 0s 172ms/step - loss: 7.5161e-05 - acc: 1.0000 - val_loss: 0.2623 - val_acc: 0.9346\n",
            "Epoch 323/500\n",
            "2/2 [==============================] - 0s 172ms/step - loss: 7.0159e-05 - acc: 1.0000 - val_loss: 0.2614 - val_acc: 0.9346\n",
            "Epoch 324/500\n",
            "2/2 [==============================] - 0s 170ms/step - loss: 7.3939e-05 - acc: 1.0000 - val_loss: 0.2616 - val_acc: 0.9346\n",
            "Epoch 325/500\n",
            "2/2 [==============================] - 0s 167ms/step - loss: 7.1826e-05 - acc: 1.0000 - val_loss: 0.2629 - val_acc: 0.9346\n",
            "Epoch 326/500\n",
            "2/2 [==============================] - 0s 165ms/step - loss: 7.2419e-05 - acc: 1.0000 - val_loss: 0.2642 - val_acc: 0.9346\n",
            "Epoch 327/500\n",
            "2/2 [==============================] - 0s 167ms/step - loss: 7.1325e-05 - acc: 1.0000 - val_loss: 0.2644 - val_acc: 0.9346\n",
            "Epoch 328/500\n",
            "2/2 [==============================] - 0s 166ms/step - loss: 7.0490e-05 - acc: 1.0000 - val_loss: 0.2639 - val_acc: 0.9346\n",
            "Epoch 329/500\n",
            "2/2 [==============================] - 0s 165ms/step - loss: 6.7804e-05 - acc: 1.0000 - val_loss: 0.2642 - val_acc: 0.9346\n",
            "Epoch 330/500\n",
            "2/2 [==============================] - 0s 168ms/step - loss: 7.0384e-05 - acc: 1.0000 - val_loss: 0.2648 - val_acc: 0.9346\n",
            "Epoch 331/500\n",
            "2/2 [==============================] - 0s 165ms/step - loss: 6.7168e-05 - acc: 1.0000 - val_loss: 0.2640 - val_acc: 0.9346\n",
            "Epoch 332/500\n",
            "2/2 [==============================] - 0s 175ms/step - loss: 7.2756e-05 - acc: 1.0000 - val_loss: 0.2642 - val_acc: 0.9346\n",
            "Epoch 333/500\n",
            "2/2 [==============================] - 0s 167ms/step - loss: 6.5041e-05 - acc: 1.0000 - val_loss: 0.2648 - val_acc: 0.9346\n",
            "Epoch 334/500\n",
            "2/2 [==============================] - 0s 166ms/step - loss: 6.2461e-05 - acc: 1.0000 - val_loss: 0.2659 - val_acc: 0.9346\n",
            "Epoch 335/500\n",
            "2/2 [==============================] - 0s 172ms/step - loss: 6.3082e-05 - acc: 1.0000 - val_loss: 0.2657 - val_acc: 0.9346\n",
            "Epoch 336/500\n",
            "2/2 [==============================] - 0s 165ms/step - loss: 6.5059e-05 - acc: 1.0000 - val_loss: 0.2658 - val_acc: 0.9346\n",
            "Epoch 337/500\n",
            "2/2 [==============================] - 0s 166ms/step - loss: 6.0214e-05 - acc: 1.0000 - val_loss: 0.2657 - val_acc: 0.9346\n",
            "Epoch 338/500\n",
            "2/2 [==============================] - 0s 169ms/step - loss: 6.5191e-05 - acc: 1.0000 - val_loss: 0.2656 - val_acc: 0.9346\n",
            "Epoch 339/500\n",
            "2/2 [==============================] - 0s 176ms/step - loss: 6.1692e-05 - acc: 1.0000 - val_loss: 0.2653 - val_acc: 0.9346\n",
            "Epoch 340/500\n",
            "2/2 [==============================] - 0s 166ms/step - loss: 6.7672e-05 - acc: 1.0000 - val_loss: 0.2662 - val_acc: 0.9346\n",
            "Epoch 341/500\n",
            "2/2 [==============================] - 0s 167ms/step - loss: 6.3532e-05 - acc: 1.0000 - val_loss: 0.2667 - val_acc: 0.9346\n",
            "Epoch 342/500\n",
            "2/2 [==============================] - 0s 176ms/step - loss: 6.2659e-05 - acc: 1.0000 - val_loss: 0.2677 - val_acc: 0.9346\n",
            "Epoch 343/500\n",
            "2/2 [==============================] - 0s 173ms/step - loss: 5.9887e-05 - acc: 1.0000 - val_loss: 0.2678 - val_acc: 0.9346\n",
            "Epoch 344/500\n",
            "2/2 [==============================] - 0s 165ms/step - loss: 6.1820e-05 - acc: 1.0000 - val_loss: 0.2675 - val_acc: 0.9346\n",
            "Epoch 345/500\n",
            "2/2 [==============================] - 0s 168ms/step - loss: 6.5656e-05 - acc: 1.0000 - val_loss: 0.2668 - val_acc: 0.9346\n",
            "Epoch 346/500\n",
            "2/2 [==============================] - 0s 165ms/step - loss: 5.6477e-05 - acc: 1.0000 - val_loss: 0.2674 - val_acc: 0.9346\n",
            "Epoch 347/500\n",
            "2/2 [==============================] - 0s 169ms/step - loss: 5.4133e-05 - acc: 1.0000 - val_loss: 0.2677 - val_acc: 0.9346\n",
            "Epoch 348/500\n",
            "2/2 [==============================] - 0s 167ms/step - loss: 6.3919e-05 - acc: 1.0000 - val_loss: 0.2682 - val_acc: 0.9346\n",
            "Epoch 349/500\n",
            "2/2 [==============================] - 0s 168ms/step - loss: 6.1022e-05 - acc: 1.0000 - val_loss: 0.2679 - val_acc: 0.9346\n",
            "Epoch 350/500\n",
            "2/2 [==============================] - 0s 169ms/step - loss: 5.8281e-05 - acc: 1.0000 - val_loss: 0.2687 - val_acc: 0.9346\n",
            "Epoch 351/500\n",
            "2/2 [==============================] - 0s 167ms/step - loss: 5.6765e-05 - acc: 1.0000 - val_loss: 0.2690 - val_acc: 0.9346\n",
            "Epoch 352/500\n",
            "2/2 [==============================] - 0s 166ms/step - loss: 5.7902e-05 - acc: 1.0000 - val_loss: 0.2686 - val_acc: 0.9346\n",
            "Epoch 353/500\n",
            "2/2 [==============================] - 0s 170ms/step - loss: 5.7837e-05 - acc: 1.0000 - val_loss: 0.2690 - val_acc: 0.9346\n",
            "Epoch 354/500\n",
            "2/2 [==============================] - 0s 167ms/step - loss: 5.7860e-05 - acc: 1.0000 - val_loss: 0.2693 - val_acc: 0.9346\n",
            "Epoch 355/500\n",
            "2/2 [==============================] - 0s 170ms/step - loss: 5.6043e-05 - acc: 1.0000 - val_loss: 0.2689 - val_acc: 0.9346\n",
            "Epoch 356/500\n",
            "2/2 [==============================] - 0s 173ms/step - loss: 5.8350e-05 - acc: 1.0000 - val_loss: 0.2686 - val_acc: 0.9346\n",
            "Epoch 357/500\n",
            "2/2 [==============================] - 0s 176ms/step - loss: 5.7237e-05 - acc: 1.0000 - val_loss: 0.2691 - val_acc: 0.9346\n",
            "Epoch 358/500\n",
            "2/2 [==============================] - 0s 166ms/step - loss: 5.4972e-05 - acc: 1.0000 - val_loss: 0.2696 - val_acc: 0.9346\n",
            "Epoch 359/500\n",
            "2/2 [==============================] - 0s 168ms/step - loss: 5.2208e-05 - acc: 1.0000 - val_loss: 0.2706 - val_acc: 0.9346\n",
            "Epoch 360/500\n",
            "2/2 [==============================] - 0s 170ms/step - loss: 5.8957e-05 - acc: 1.0000 - val_loss: 0.2710 - val_acc: 0.9346\n",
            "Epoch 361/500\n",
            "2/2 [==============================] - 0s 172ms/step - loss: 5.7844e-05 - acc: 1.0000 - val_loss: 0.2707 - val_acc: 0.9346\n",
            "Epoch 362/500\n",
            "2/2 [==============================] - 0s 169ms/step - loss: 5.3557e-05 - acc: 1.0000 - val_loss: 0.2708 - val_acc: 0.9346\n",
            "Epoch 363/500\n",
            "2/2 [==============================] - 0s 173ms/step - loss: 5.5686e-05 - acc: 1.0000 - val_loss: 0.2700 - val_acc: 0.9346\n",
            "Epoch 364/500\n",
            "2/2 [==============================] - 0s 165ms/step - loss: 5.3048e-05 - acc: 1.0000 - val_loss: 0.2695 - val_acc: 0.9346\n",
            "Epoch 365/500\n",
            "2/2 [==============================] - 0s 171ms/step - loss: 5.3438e-05 - acc: 1.0000 - val_loss: 0.2705 - val_acc: 0.9346\n",
            "Epoch 366/500\n",
            "2/2 [==============================] - 0s 174ms/step - loss: 4.8268e-05 - acc: 1.0000 - val_loss: 0.2712 - val_acc: 0.9346\n",
            "Epoch 367/500\n",
            "2/2 [==============================] - 0s 166ms/step - loss: 5.0295e-05 - acc: 1.0000 - val_loss: 0.2716 - val_acc: 0.9346\n",
            "Epoch 368/500\n",
            "2/2 [==============================] - 0s 170ms/step - loss: 5.0908e-05 - acc: 1.0000 - val_loss: 0.2718 - val_acc: 0.9346\n",
            "Epoch 369/500\n",
            "2/2 [==============================] - 0s 170ms/step - loss: 5.2460e-05 - acc: 1.0000 - val_loss: 0.2716 - val_acc: 0.9346\n",
            "Epoch 370/500\n",
            "2/2 [==============================] - 0s 165ms/step - loss: 5.0352e-05 - acc: 1.0000 - val_loss: 0.2721 - val_acc: 0.9346\n",
            "Epoch 371/500\n",
            "2/2 [==============================] - 0s 164ms/step - loss: 5.0951e-05 - acc: 1.0000 - val_loss: 0.2715 - val_acc: 0.9346\n",
            "Epoch 372/500\n",
            "2/2 [==============================] - 0s 172ms/step - loss: 4.8376e-05 - acc: 1.0000 - val_loss: 0.2713 - val_acc: 0.9346\n",
            "Epoch 373/500\n",
            "2/2 [==============================] - 0s 166ms/step - loss: 4.9218e-05 - acc: 1.0000 - val_loss: 0.2713 - val_acc: 0.9346\n",
            "Epoch 374/500\n",
            "2/2 [==============================] - 0s 173ms/step - loss: 4.8433e-05 - acc: 1.0000 - val_loss: 0.2718 - val_acc: 0.9346\n",
            "Epoch 375/500\n",
            "2/2 [==============================] - 0s 176ms/step - loss: 4.6803e-05 - acc: 1.0000 - val_loss: 0.2727 - val_acc: 0.9346\n",
            "Epoch 376/500\n",
            "2/2 [==============================] - 0s 170ms/step - loss: 4.7135e-05 - acc: 1.0000 - val_loss: 0.2735 - val_acc: 0.9346\n",
            "Epoch 377/500\n",
            "2/2 [==============================] - 0s 169ms/step - loss: 4.7902e-05 - acc: 1.0000 - val_loss: 0.2740 - val_acc: 0.9346\n",
            "Epoch 378/500\n",
            "2/2 [==============================] - 0s 175ms/step - loss: 4.7462e-05 - acc: 1.0000 - val_loss: 0.2739 - val_acc: 0.9346\n",
            "Epoch 379/500\n",
            "2/2 [==============================] - 0s 172ms/step - loss: 4.7159e-05 - acc: 1.0000 - val_loss: 0.2736 - val_acc: 0.9346\n",
            "Epoch 380/500\n",
            "2/2 [==============================] - 0s 170ms/step - loss: 4.7414e-05 - acc: 1.0000 - val_loss: 0.2734 - val_acc: 0.9346\n",
            "Epoch 381/500\n",
            "2/2 [==============================] - 0s 169ms/step - loss: 4.5506e-05 - acc: 1.0000 - val_loss: 0.2738 - val_acc: 0.9346\n",
            "Epoch 382/500\n",
            "2/2 [==============================] - 0s 176ms/step - loss: 4.7653e-05 - acc: 1.0000 - val_loss: 0.2743 - val_acc: 0.9346\n",
            "Epoch 383/500\n",
            "2/2 [==============================] - 0s 167ms/step - loss: 4.7147e-05 - acc: 1.0000 - val_loss: 0.2746 - val_acc: 0.9346\n",
            "Epoch 384/500\n",
            "2/2 [==============================] - 0s 169ms/step - loss: 4.4165e-05 - acc: 1.0000 - val_loss: 0.2749 - val_acc: 0.9346\n",
            "Epoch 385/500\n",
            "2/2 [==============================] - 0s 171ms/step - loss: 4.6451e-05 - acc: 1.0000 - val_loss: 0.2745 - val_acc: 0.9346\n",
            "Epoch 386/500\n",
            "2/2 [==============================] - 0s 169ms/step - loss: 4.5760e-05 - acc: 1.0000 - val_loss: 0.2741 - val_acc: 0.9346\n",
            "Epoch 387/500\n",
            "2/2 [==============================] - 0s 167ms/step - loss: 4.3715e-05 - acc: 1.0000 - val_loss: 0.2747 - val_acc: 0.9346\n",
            "Epoch 388/500\n",
            "2/2 [==============================] - 0s 168ms/step - loss: 4.5684e-05 - acc: 1.0000 - val_loss: 0.2745 - val_acc: 0.9346\n",
            "Epoch 389/500\n",
            "2/2 [==============================] - 0s 172ms/step - loss: 4.1563e-05 - acc: 1.0000 - val_loss: 0.2757 - val_acc: 0.9346\n",
            "Epoch 390/500\n",
            "2/2 [==============================] - 0s 169ms/step - loss: 4.6759e-05 - acc: 1.0000 - val_loss: 0.2760 - val_acc: 0.9346\n",
            "Epoch 391/500\n",
            "2/2 [==============================] - 0s 167ms/step - loss: 4.6780e-05 - acc: 1.0000 - val_loss: 0.2766 - val_acc: 0.9346\n",
            "Epoch 392/500\n",
            "2/2 [==============================] - 0s 171ms/step - loss: 4.2790e-05 - acc: 1.0000 - val_loss: 0.2769 - val_acc: 0.9346\n",
            "Epoch 393/500\n",
            "2/2 [==============================] - 0s 168ms/step - loss: 4.4492e-05 - acc: 1.0000 - val_loss: 0.2760 - val_acc: 0.9346\n",
            "Epoch 394/500\n",
            "2/2 [==============================] - 0s 168ms/step - loss: 4.2247e-05 - acc: 1.0000 - val_loss: 0.2758 - val_acc: 0.9346\n",
            "Epoch 395/500\n",
            "2/2 [==============================] - 0s 168ms/step - loss: 4.4058e-05 - acc: 1.0000 - val_loss: 0.2753 - val_acc: 0.9346\n",
            "Epoch 396/500\n",
            "2/2 [==============================] - 0s 166ms/step - loss: 4.1666e-05 - acc: 1.0000 - val_loss: 0.2758 - val_acc: 0.9346\n",
            "Epoch 397/500\n",
            "2/2 [==============================] - 0s 167ms/step - loss: 4.2676e-05 - acc: 1.0000 - val_loss: 0.2769 - val_acc: 0.9346\n",
            "Epoch 398/500\n",
            "2/2 [==============================] - 0s 172ms/step - loss: 4.1197e-05 - acc: 1.0000 - val_loss: 0.2773 - val_acc: 0.9346\n",
            "Epoch 399/500\n",
            "2/2 [==============================] - 0s 167ms/step - loss: 4.0114e-05 - acc: 1.0000 - val_loss: 0.2773 - val_acc: 0.9346\n",
            "Epoch 400/500\n",
            "2/2 [==============================] - 0s 176ms/step - loss: 4.1868e-05 - acc: 1.0000 - val_loss: 0.2772 - val_acc: 0.9346\n",
            "Epoch 401/500\n",
            "2/2 [==============================] - 0s 171ms/step - loss: 4.0217e-05 - acc: 1.0000 - val_loss: 0.2771 - val_acc: 0.9346\n",
            "Epoch 402/500\n",
            "2/2 [==============================] - 0s 168ms/step - loss: 4.1155e-05 - acc: 1.0000 - val_loss: 0.2771 - val_acc: 0.9346\n",
            "Epoch 403/500\n",
            "2/2 [==============================] - 0s 169ms/step - loss: 3.9200e-05 - acc: 1.0000 - val_loss: 0.2775 - val_acc: 0.9346\n",
            "Epoch 404/500\n",
            "2/2 [==============================] - 0s 174ms/step - loss: 3.7545e-05 - acc: 1.0000 - val_loss: 0.2779 - val_acc: 0.9346\n",
            "Epoch 405/500\n",
            "2/2 [==============================] - 0s 173ms/step - loss: 4.1169e-05 - acc: 1.0000 - val_loss: 0.2782 - val_acc: 0.9346\n",
            "Epoch 406/500\n",
            "2/2 [==============================] - 0s 168ms/step - loss: 3.8117e-05 - acc: 1.0000 - val_loss: 0.2783 - val_acc: 0.9346\n",
            "Epoch 407/500\n",
            "2/2 [==============================] - 0s 167ms/step - loss: 4.2368e-05 - acc: 1.0000 - val_loss: 0.2780 - val_acc: 0.9346\n",
            "Epoch 408/500\n",
            "2/2 [==============================] - 0s 169ms/step - loss: 3.8604e-05 - acc: 1.0000 - val_loss: 0.2786 - val_acc: 0.9346\n",
            "Epoch 409/500\n",
            "2/2 [==============================] - 0s 168ms/step - loss: 3.6835e-05 - acc: 1.0000 - val_loss: 0.2794 - val_acc: 0.9346\n",
            "Epoch 410/500\n",
            "2/2 [==============================] - 0s 171ms/step - loss: 3.9477e-05 - acc: 1.0000 - val_loss: 0.2786 - val_acc: 0.9346\n",
            "Epoch 411/500\n",
            "2/2 [==============================] - 0s 171ms/step - loss: 3.7431e-05 - acc: 1.0000 - val_loss: 0.2783 - val_acc: 0.9346\n",
            "Epoch 412/500\n",
            "2/2 [==============================] - 0s 172ms/step - loss: 3.8366e-05 - acc: 1.0000 - val_loss: 0.2791 - val_acc: 0.9346\n",
            "Epoch 413/500\n",
            "2/2 [==============================] - 0s 172ms/step - loss: 3.7946e-05 - acc: 1.0000 - val_loss: 0.2796 - val_acc: 0.9346\n",
            "Epoch 414/500\n",
            "2/2 [==============================] - 0s 166ms/step - loss: 3.5711e-05 - acc: 1.0000 - val_loss: 0.2798 - val_acc: 0.9346\n",
            "Epoch 415/500\n",
            "2/2 [==============================] - 0s 172ms/step - loss: 3.5188e-05 - acc: 1.0000 - val_loss: 0.2798 - val_acc: 0.9346\n",
            "Epoch 416/500\n",
            "2/2 [==============================] - 0s 170ms/step - loss: 3.8017e-05 - acc: 1.0000 - val_loss: 0.2796 - val_acc: 0.9346\n",
            "Epoch 417/500\n",
            "2/2 [==============================] - 0s 167ms/step - loss: 3.8250e-05 - acc: 1.0000 - val_loss: 0.2797 - val_acc: 0.9346\n",
            "Epoch 418/500\n",
            "2/2 [==============================] - 0s 170ms/step - loss: 3.5503e-05 - acc: 1.0000 - val_loss: 0.2801 - val_acc: 0.9346\n",
            "Epoch 419/500\n",
            "2/2 [==============================] - 0s 176ms/step - loss: 3.5563e-05 - acc: 1.0000 - val_loss: 0.2808 - val_acc: 0.9346\n",
            "Epoch 420/500\n",
            "2/2 [==============================] - 0s 169ms/step - loss: 3.7674e-05 - acc: 1.0000 - val_loss: 0.2810 - val_acc: 0.9346\n",
            "Epoch 421/500\n",
            "2/2 [==============================] - 0s 169ms/step - loss: 3.3906e-05 - acc: 1.0000 - val_loss: 0.2811 - val_acc: 0.9346\n",
            "Epoch 422/500\n",
            "2/2 [==============================] - 0s 168ms/step - loss: 3.7283e-05 - acc: 1.0000 - val_loss: 0.2807 - val_acc: 0.9346\n",
            "Epoch 423/500\n",
            "2/2 [==============================] - 0s 171ms/step - loss: 3.5039e-05 - acc: 1.0000 - val_loss: 0.2804 - val_acc: 0.9346\n",
            "Epoch 424/500\n",
            "2/2 [==============================] - 0s 166ms/step - loss: 3.6680e-05 - acc: 1.0000 - val_loss: 0.2806 - val_acc: 0.9346\n",
            "Epoch 425/500\n",
            "2/2 [==============================] - 0s 170ms/step - loss: 3.3965e-05 - acc: 1.0000 - val_loss: 0.2813 - val_acc: 0.9346\n",
            "Epoch 426/500\n",
            "2/2 [==============================] - 0s 171ms/step - loss: 3.5598e-05 - acc: 1.0000 - val_loss: 0.2815 - val_acc: 0.9346\n",
            "Epoch 427/500\n",
            "2/2 [==============================] - 0s 174ms/step - loss: 3.3976e-05 - acc: 1.0000 - val_loss: 0.2815 - val_acc: 0.9346\n",
            "Epoch 428/500\n",
            "2/2 [==============================] - 0s 170ms/step - loss: 3.5032e-05 - acc: 1.0000 - val_loss: 0.2817 - val_acc: 0.9346\n",
            "Epoch 429/500\n",
            "2/2 [==============================] - 0s 170ms/step - loss: 3.3976e-05 - acc: 1.0000 - val_loss: 0.2823 - val_acc: 0.9346\n",
            "Epoch 430/500\n",
            "2/2 [==============================] - 0s 171ms/step - loss: 3.2614e-05 - acc: 1.0000 - val_loss: 0.2823 - val_acc: 0.9346\n",
            "Epoch 431/500\n",
            "2/2 [==============================] - 0s 168ms/step - loss: 3.1130e-05 - acc: 1.0000 - val_loss: 0.2822 - val_acc: 0.9346\n",
            "Epoch 432/500\n",
            "2/2 [==============================] - 0s 172ms/step - loss: 3.5259e-05 - acc: 1.0000 - val_loss: 0.2818 - val_acc: 0.9346\n",
            "Epoch 433/500\n",
            "2/2 [==============================] - 0s 174ms/step - loss: 3.3812e-05 - acc: 1.0000 - val_loss: 0.2821 - val_acc: 0.9346\n",
            "Epoch 434/500\n",
            "2/2 [==============================] - 0s 181ms/step - loss: 3.2075e-05 - acc: 1.0000 - val_loss: 0.2829 - val_acc: 0.9346\n",
            "Epoch 435/500\n",
            "2/2 [==============================] - 0s 169ms/step - loss: 3.4227e-05 - acc: 1.0000 - val_loss: 0.2828 - val_acc: 0.9346\n",
            "Epoch 436/500\n",
            "2/2 [==============================] - 0s 173ms/step - loss: 3.2705e-05 - acc: 1.0000 - val_loss: 0.2827 - val_acc: 0.9346\n",
            "Epoch 437/500\n",
            "2/2 [==============================] - 0s 178ms/step - loss: 3.2154e-05 - acc: 1.0000 - val_loss: 0.2830 - val_acc: 0.9346\n",
            "Epoch 438/500\n",
            "2/2 [==============================] - 0s 166ms/step - loss: 3.0598e-05 - acc: 1.0000 - val_loss: 0.2833 - val_acc: 0.9346\n",
            "Epoch 439/500\n",
            "2/2 [==============================] - 0s 172ms/step - loss: 2.9823e-05 - acc: 1.0000 - val_loss: 0.2833 - val_acc: 0.9346\n",
            "Epoch 440/500\n",
            "2/2 [==============================] - 0s 178ms/step - loss: 3.2081e-05 - acc: 1.0000 - val_loss: 0.2833 - val_acc: 0.9346\n",
            "Epoch 441/500\n",
            "2/2 [==============================] - 0s 171ms/step - loss: 3.2734e-05 - acc: 1.0000 - val_loss: 0.2834 - val_acc: 0.9346\n",
            "Epoch 442/500\n",
            "2/2 [==============================] - 0s 177ms/step - loss: 3.1409e-05 - acc: 1.0000 - val_loss: 0.2837 - val_acc: 0.9346\n",
            "Epoch 443/500\n",
            "2/2 [==============================] - 0s 171ms/step - loss: 3.2574e-05 - acc: 1.0000 - val_loss: 0.2835 - val_acc: 0.9346\n",
            "Epoch 444/500\n",
            "2/2 [==============================] - 0s 167ms/step - loss: 2.8726e-05 - acc: 1.0000 - val_loss: 0.2838 - val_acc: 0.9346\n",
            "Epoch 445/500\n",
            "2/2 [==============================] - 0s 168ms/step - loss: 3.0710e-05 - acc: 1.0000 - val_loss: 0.2841 - val_acc: 0.9346\n",
            "Epoch 446/500\n",
            "2/2 [==============================] - 0s 167ms/step - loss: 3.0389e-05 - acc: 1.0000 - val_loss: 0.2845 - val_acc: 0.9346\n",
            "Epoch 447/500\n",
            "2/2 [==============================] - 0s 169ms/step - loss: 3.0276e-05 - acc: 1.0000 - val_loss: 0.2845 - val_acc: 0.9346\n",
            "Epoch 448/500\n",
            "2/2 [==============================] - 0s 166ms/step - loss: 2.9245e-05 - acc: 1.0000 - val_loss: 0.2847 - val_acc: 0.9346\n",
            "Epoch 449/500\n",
            "2/2 [==============================] - 0s 168ms/step - loss: 2.9999e-05 - acc: 1.0000 - val_loss: 0.2843 - val_acc: 0.9346\n",
            "Epoch 450/500\n",
            "2/2 [==============================] - 0s 175ms/step - loss: 2.9249e-05 - acc: 1.0000 - val_loss: 0.2847 - val_acc: 0.9346\n",
            "Epoch 451/500\n",
            "2/2 [==============================] - 0s 168ms/step - loss: 3.0561e-05 - acc: 1.0000 - val_loss: 0.2849 - val_acc: 0.9346\n",
            "Epoch 452/500\n",
            "2/2 [==============================] - 0s 169ms/step - loss: 2.8642e-05 - acc: 1.0000 - val_loss: 0.2853 - val_acc: 0.9346\n",
            "Epoch 453/500\n",
            "2/2 [==============================] - 0s 166ms/step - loss: 2.9398e-05 - acc: 1.0000 - val_loss: 0.2853 - val_acc: 0.9346\n",
            "Epoch 454/500\n",
            "2/2 [==============================] - 0s 167ms/step - loss: 2.8677e-05 - acc: 1.0000 - val_loss: 0.2860 - val_acc: 0.9346\n",
            "Epoch 455/500\n",
            "2/2 [==============================] - 0s 170ms/step - loss: 3.1857e-05 - acc: 1.0000 - val_loss: 0.2859 - val_acc: 0.9346\n",
            "Epoch 456/500\n",
            "2/2 [==============================] - 0s 168ms/step - loss: 2.9543e-05 - acc: 1.0000 - val_loss: 0.2861 - val_acc: 0.9346\n",
            "Epoch 457/500\n",
            "2/2 [==============================] - 0s 169ms/step - loss: 2.8109e-05 - acc: 1.0000 - val_loss: 0.2864 - val_acc: 0.9346\n",
            "Epoch 458/500\n",
            "2/2 [==============================] - 0s 168ms/step - loss: 2.9664e-05 - acc: 1.0000 - val_loss: 0.2860 - val_acc: 0.9346\n",
            "Epoch 459/500\n",
            "2/2 [==============================] - 0s 168ms/step - loss: 2.8515e-05 - acc: 1.0000 - val_loss: 0.2861 - val_acc: 0.9346\n",
            "Epoch 460/500\n",
            "2/2 [==============================] - 0s 179ms/step - loss: 2.7893e-05 - acc: 1.0000 - val_loss: 0.2858 - val_acc: 0.9346\n",
            "Epoch 461/500\n",
            "2/2 [==============================] - 0s 166ms/step - loss: 2.8178e-05 - acc: 1.0000 - val_loss: 0.2864 - val_acc: 0.9346\n",
            "Epoch 462/500\n",
            "2/2 [==============================] - 0s 169ms/step - loss: 2.7895e-05 - acc: 1.0000 - val_loss: 0.2868 - val_acc: 0.9346\n",
            "Epoch 463/500\n",
            "2/2 [==============================] - 0s 167ms/step - loss: 2.9127e-05 - acc: 1.0000 - val_loss: 0.2872 - val_acc: 0.9346\n",
            "Epoch 464/500\n",
            "2/2 [==============================] - 0s 171ms/step - loss: 2.6466e-05 - acc: 1.0000 - val_loss: 0.2874 - val_acc: 0.9346\n",
            "Epoch 465/500\n",
            "2/2 [==============================] - 0s 169ms/step - loss: 2.8919e-05 - acc: 1.0000 - val_loss: 0.2872 - val_acc: 0.9346\n",
            "Epoch 466/500\n",
            "2/2 [==============================] - 0s 172ms/step - loss: 2.7375e-05 - acc: 1.0000 - val_loss: 0.2872 - val_acc: 0.9346\n",
            "Epoch 467/500\n",
            "2/2 [==============================] - 0s 171ms/step - loss: 2.7340e-05 - acc: 1.0000 - val_loss: 0.2867 - val_acc: 0.9346\n",
            "Epoch 468/500\n",
            "2/2 [==============================] - 0s 170ms/step - loss: 2.7203e-05 - acc: 1.0000 - val_loss: 0.2872 - val_acc: 0.9346\n",
            "Epoch 469/500\n",
            "2/2 [==============================] - 0s 168ms/step - loss: 2.6243e-05 - acc: 1.0000 - val_loss: 0.2872 - val_acc: 0.9346\n",
            "Epoch 470/500\n",
            "2/2 [==============================] - 0s 167ms/step - loss: 2.5329e-05 - acc: 1.0000 - val_loss: 0.2881 - val_acc: 0.9346\n",
            "Epoch 471/500\n",
            "2/2 [==============================] - 0s 170ms/step - loss: 2.8256e-05 - acc: 1.0000 - val_loss: 0.2882 - val_acc: 0.9346\n",
            "Epoch 472/500\n",
            "2/2 [==============================] - 0s 170ms/step - loss: 2.6497e-05 - acc: 1.0000 - val_loss: 0.2882 - val_acc: 0.9346\n",
            "Epoch 473/500\n",
            "2/2 [==============================] - 0s 171ms/step - loss: 2.5932e-05 - acc: 1.0000 - val_loss: 0.2882 - val_acc: 0.9346\n",
            "Epoch 474/500\n",
            "2/2 [==============================] - 0s 171ms/step - loss: 2.7775e-05 - acc: 1.0000 - val_loss: 0.2883 - val_acc: 0.9346\n",
            "Epoch 475/500\n",
            "2/2 [==============================] - 0s 169ms/step - loss: 2.7054e-05 - acc: 1.0000 - val_loss: 0.2886 - val_acc: 0.9346\n",
            "Epoch 476/500\n",
            "2/2 [==============================] - 0s 170ms/step - loss: 2.6208e-05 - acc: 1.0000 - val_loss: 0.2889 - val_acc: 0.9346\n",
            "Epoch 477/500\n",
            "2/2 [==============================] - 0s 173ms/step - loss: 2.6919e-05 - acc: 1.0000 - val_loss: 0.2894 - val_acc: 0.9346\n",
            "Epoch 478/500\n",
            "2/2 [==============================] - 0s 171ms/step - loss: 2.6597e-05 - acc: 1.0000 - val_loss: 0.2892 - val_acc: 0.9346\n",
            "Epoch 479/500\n",
            "2/2 [==============================] - 0s 169ms/step - loss: 2.5228e-05 - acc: 1.0000 - val_loss: 0.2889 - val_acc: 0.9346\n",
            "Epoch 480/500\n",
            "2/2 [==============================] - 0s 173ms/step - loss: 2.4434e-05 - acc: 1.0000 - val_loss: 0.2889 - val_acc: 0.9346\n",
            "Epoch 481/500\n",
            "2/2 [==============================] - 0s 170ms/step - loss: 2.5783e-05 - acc: 1.0000 - val_loss: 0.2889 - val_acc: 0.9346\n",
            "Epoch 482/500\n",
            "2/2 [==============================] - 0s 172ms/step - loss: 2.5743e-05 - acc: 1.0000 - val_loss: 0.2893 - val_acc: 0.9346\n",
            "Epoch 483/500\n",
            "2/2 [==============================] - 0s 172ms/step - loss: 2.5225e-05 - acc: 1.0000 - val_loss: 0.2894 - val_acc: 0.9346\n",
            "Epoch 484/500\n",
            "2/2 [==============================] - 0s 169ms/step - loss: 2.5817e-05 - acc: 1.0000 - val_loss: 0.2900 - val_acc: 0.9346\n",
            "Epoch 485/500\n",
            "2/2 [==============================] - 0s 170ms/step - loss: 2.5288e-05 - acc: 1.0000 - val_loss: 0.2900 - val_acc: 0.9346\n",
            "Epoch 486/500\n",
            "2/2 [==============================] - 0s 173ms/step - loss: 2.4729e-05 - acc: 1.0000 - val_loss: 0.2901 - val_acc: 0.9346\n",
            "Epoch 487/500\n",
            "2/2 [==============================] - 0s 176ms/step - loss: 2.3809e-05 - acc: 1.0000 - val_loss: 0.2904 - val_acc: 0.9346\n",
            "Epoch 488/500\n",
            "2/2 [==============================] - 0s 172ms/step - loss: 2.4513e-05 - acc: 1.0000 - val_loss: 0.2899 - val_acc: 0.9346\n",
            "Epoch 489/500\n",
            "2/2 [==============================] - 0s 175ms/step - loss: 2.4029e-05 - acc: 1.0000 - val_loss: 0.2899 - val_acc: 0.9346\n",
            "Epoch 490/500\n",
            "2/2 [==============================] - 0s 169ms/step - loss: 2.4573e-05 - acc: 1.0000 - val_loss: 0.2900 - val_acc: 0.9346\n",
            "Epoch 491/500\n",
            "2/2 [==============================] - 0s 172ms/step - loss: 2.5568e-05 - acc: 1.0000 - val_loss: 0.2908 - val_acc: 0.9346\n",
            "Epoch 492/500\n",
            "2/2 [==============================] - 0s 171ms/step - loss: 2.3781e-05 - acc: 1.0000 - val_loss: 0.2911 - val_acc: 0.9346\n",
            "Epoch 493/500\n",
            "2/2 [==============================] - 0s 175ms/step - loss: 2.3072e-05 - acc: 1.0000 - val_loss: 0.2911 - val_acc: 0.9346\n",
            "Epoch 494/500\n",
            "2/2 [==============================] - 0s 173ms/step - loss: 2.3718e-05 - acc: 1.0000 - val_loss: 0.2913 - val_acc: 0.9346\n",
            "Epoch 495/500\n",
            "2/2 [==============================] - 0s 179ms/step - loss: 2.1068e-05 - acc: 1.0000 - val_loss: 0.2907 - val_acc: 0.9346\n",
            "Epoch 496/500\n",
            "2/2 [==============================] - 0s 171ms/step - loss: 2.2405e-05 - acc: 1.0000 - val_loss: 0.2909 - val_acc: 0.9346\n",
            "Epoch 497/500\n",
            "2/2 [==============================] - 0s 170ms/step - loss: 2.4483e-05 - acc: 1.0000 - val_loss: 0.2913 - val_acc: 0.9346\n",
            "Epoch 498/500\n",
            "2/2 [==============================] - 0s 173ms/step - loss: 2.3777e-05 - acc: 1.0000 - val_loss: 0.2910 - val_acc: 0.9346\n",
            "Epoch 499/500\n",
            "2/2 [==============================] - 0s 168ms/step - loss: 2.3564e-05 - acc: 1.0000 - val_loss: 0.2916 - val_acc: 0.9346\n",
            "Epoch 500/500\n",
            "2/2 [==============================] - 0s 166ms/step - loss: 2.2621e-05 - acc: 1.0000 - val_loss: 0.2923 - val_acc: 0.9346\n"
          ],
          "name": "stdout"
        }
      ]
    },
    {
      "cell_type": "code",
      "metadata": {
        "id": "x2qzK4SJB5y9",
        "colab": {
          "base_uri": "https://localhost:8080/",
          "height": 241
        },
        "outputId": "37868ab5-7d39-44f6-9b40-d3cb86f59c90"
      },
      "source": [
        "plt.figure(figsize =(5,3))\n",
        "plt.plot(history.history['acc'], marker='.', label='tune')\n",
        "plt.plot(history.history['val_acc'], marker='.', label='test')\n",
        "plt.title('Accuracy')\n",
        "plt.grid(True)\n",
        "plt.xlabel('epoch')\n",
        "plt.ylabel('accuracy')\n",
        "plt.legend(loc='best')\n",
        "plt.show()"
      ],
      "execution_count": 92,
      "outputs": [
        {
          "output_type": "display_data",
          "data": {
            "image/png": "[encoded data removed]",
            "text/plain": [
              "<Figure size 360x216 with 1 Axes>"
            ]
          },
          "metadata": {
            "tags": [],
            "needs_background": "light"
          }
        }
      ]
    },
    {
      "cell_type": "code",
      "metadata": {
        "id": "9oGBi22ZGy38"
      },
      "source": [
        ""
      ],
      "execution_count": null,
      "outputs": []
    }
  ]
}