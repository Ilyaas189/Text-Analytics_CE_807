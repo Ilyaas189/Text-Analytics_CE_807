{
  "nbformat": 4,
  "nbformat_minor": 0,
  "metadata": {
    "kernelspec": {
      "display_name": "Python 3",
      "language": "python",
      "name": "python3"
    },
    "language_info": {
      "codemirror_mode": {
        "name": "ipython",
        "version": 3
      },
      "file_extension": ".py",
      "mimetype": "text/x-python",
      "name": "python",
      "nbconvert_exporter": "python",
      "pygments_lexer": "ipython3",
      "version": "3.7.3"
    },
    "colab": {
      "name": "topic_modeling_iteration_Two_30_to_200.ipynb",
      "provenance": [],
      "collapsed_sections": [],
      "include_colab_link": true
    },
    "accelerator": "GPU"
  },
  "cells": [
    {
      "cell_type": "markdown",
      "metadata": {
        "id": "view-in-github",
        "colab_type": "text"
      },
      "source": [
        "<a href=\"https://colab.research.google.com/github/Ilyaas189/Text-Analytics_CE_807/blob/main/topic_modeling_iteration_Two_30_to_200.ipynb\" target=\"_parent\"><img src=\"https://colab.research.google.com/assets/colab-badge.svg\" alt=\"Open In Colab\"/></a>"
      ]
    },
    {
      "cell_type": "markdown",
      "metadata": {
        "id": "AYZxRd3GxOk0"
      },
      "source": [
        "### Import Libraries"
      ]
    },
    {
      "cell_type": "code",
      "metadata": {
        "id": "7PsViNw_xOlH"
      },
      "source": [
        "# import libraries\n",
        "import re\n",
        "import gensim\n",
        "import numpy as np\n",
        "from gensim import models\n",
        "from gensim import corpora\n",
        "from string import punctuation\n",
        "from nltk import RegexpTokenizer\n",
        "from nltk.corpus import stopwords\n",
        "from collections import defaultdict\n",
        "from gensim.corpora import Dictionary\n",
        "from nltk.stem.porter import PorterStemmer\n",
        "from sklearn.datasets import fetch_20newsgroups\n",
        "\n",
        "import matplotlib.pyplot as plt\n",
        "from sklearn import preprocessing\n",
        "from gensim.models import CoherenceModel\n",
        "from sklearn.metrics import accuracy_score\n",
        "from sklearn.linear_model import LogisticRegression\n",
        "from sklearn.model_selection import train_test_split\n",
        "from sklearn.model_selection import cross_val_score\n",
        "from sklearn.model_selection import cross_validate\n",
        "from sklearn.model_selection import StratifiedKFold\n",
        "\n",
        "import warnings\n",
        "warnings.filterwarnings('ignore')"
      ],
      "execution_count": null,
      "outputs": []
    },
    {
      "cell_type": "markdown",
      "metadata": {
        "id": "9ma9zObfxOlK"
      },
      "source": [
        "### Data Pre-Processing"
      ]
    },
    {
      "cell_type": "code",
      "metadata": {
        "id": "OGrTdWlPPwM-",
        "colab": {
          "base_uri": "https://localhost:8080/"
        },
        "outputId": "d282c2e7-f0b9-4b0e-82ba-68e786af3c52"
      },
      "source": [
        "# extract 20newsgroup dataset\n",
        "newsgroups = fetch_20newsgroups()"
      ],
      "execution_count": null,
      "outputs": [
        {
          "output_type": "stream",
          "text": [
            "Downloading 20news dataset. This may take a few minutes.\n",
            "Downloading dataset from https://ndownloader.figshare.com/files/5975967 (14 MB)\n"
          ],
          "name": "stderr"
        }
      ]
    },
    {
      "cell_type": "code",
      "metadata": {
        "colab": {
          "base_uri": "https://localhost:8080/"
        },
        "id": "EVvgTeTdxOlL",
        "outputId": "3ef25a0b-4f6d-4da9-db3f-c22e4416e9e2"
      },
      "source": [
        "print(\"All attributes in dataset:.......\"    ,len(newsgroups.keys()))\n",
        "print(\"-----------------------------------\\n\")\n",
        "print(\"All attributes names in dataset:.......\", (newsgroups.keys()))\n",
        "print(\"-----------------------------------\\n\")\n",
        "print(\"Total number of classes:.........\",len(np.unique(newsgroups['target_names'])))\n",
        "print(\"-----------------------------------\\n\")\n",
        "print(\"All unique classes:.......\",np.unique(newsgroups['target_names']))\n",
        "print(\"-----------------------------------\\n\")\n",
        "print(\"Total number of instances in daataset:.........\", len(newsgroups['data']))\n",
        "print(\"-----------------------------------\\n\")\n",
        "\n"
      ],
      "execution_count": null,
      "outputs": [
        {
          "output_type": "stream",
          "text": [
            "All attributes in dataset:....... 5\n",
            "-----------------------------------\n",
            "\n",
            "All attributes names in dataset:....... dict_keys(['data', 'filenames', 'target_names', 'target', 'DESCR'])\n",
            "-----------------------------------\n",
            "\n",
            "Total number of classes:......... 20\n",
            "-----------------------------------\n",
            "\n",
            "All unique classes:....... ['alt.atheism' 'comp.graphics' 'comp.os.ms-windows.misc'\n",
            " 'comp.sys.ibm.pc.hardware' 'comp.sys.mac.hardware' 'comp.windows.x'\n",
            " 'misc.forsale' 'rec.autos' 'rec.motorcycles' 'rec.sport.baseball'\n",
            " 'rec.sport.hockey' 'sci.crypt' 'sci.electronics' 'sci.med' 'sci.space'\n",
            " 'soc.religion.christian' 'talk.politics.guns' 'talk.politics.mideast'\n",
            " 'talk.politics.misc' 'talk.religion.misc']\n",
            "-----------------------------------\n",
            "\n",
            "Total number of instances in daataset:......... 11314\n",
            "-----------------------------------\n",
            "\n"
          ],
          "name": "stdout"
        }
      ]
    },
    {
      "cell_type": "code",
      "metadata": {
        "colab": {
          "base_uri": "https://localhost:8080/"
        },
        "id": "p_hmpDurxtiB",
        "outputId": "87568e7b-1355-4e5a-ff5f-f97eb20ba025"
      },
      "source": [
        "import nltk\n",
        "nltk.download('stopwords')\n",
        "  "
      ],
      "execution_count": null,
      "outputs": [
        {
          "output_type": "stream",
          "text": [
            "[nltk_data] Downloading package stopwords to /root/nltk_data...\n",
            "[nltk_data]   Unzipping corpora/stopwords.zip.\n"
          ],
          "name": "stdout"
        },
        {
          "output_type": "execute_result",
          "data": {
            "text/plain": [
              "True"
            ]
          },
          "metadata": {
            "tags": []
          },
          "execution_count": 4
        }
      ]
    },
    {
      "cell_type": "code",
      "metadata": {
        "colab": {
          "base_uri": "https://localhost:8080/"
        },
        "id": "QMTKQAozxOlO",
        "outputId": "c749cdb9-c80e-4f41-bb1e-56fc4ef211b5"
      },
      "source": [
        "\n",
        "# initialize a list of standard nltk stopwords for english language\n",
        "eng_stopwords = stopwords.words('english')\n",
        "# extend stopwords list to add more words that are in our dataset\n",
        "eng_stopwords.extend(['from', 'subject', 're', 'edu', 'use'])\n",
        "# initialize tokenizer\n",
        "tokenizer = RegexpTokenizer(r'\\s+', gaps=True)\n",
        "# initialize porter stemmer\n",
        "stemmer = PorterStemmer()\n",
        "# initialize all english punctuation marks\n",
        "translate_tab = {ord(p): u\" \" for p in punctuation}\n",
        "\n",
        "# make a method to clean data\n",
        "def text2tokens(raw_text):\n",
        "    \"\"\"Split the raw_text string into a list of stemmed tokens.\"\"\"\n",
        "    # remove email ids\n",
        "    clean_text = re.sub('\\S*@\\S*\\s?', '', raw_text)\n",
        "    # remove single quotes\n",
        "    clean_text = re.sub(\"\\'\", \"\", clean_text)\n",
        "    # lowercase letters and remove punctuations\n",
        "    clean_text = clean_text.lower().translate(translate_tab)\n",
        "    # tokenize data and remove extra spaces\n",
        "    tokens = [token.strip() for token in tokenizer.tokenize(clean_text)]\n",
        "    # remove stopwords\n",
        "    tokens = [token for token in tokens if token not in eng_stopwords]\n",
        "    # perform stemming on data\n",
        "    stemmed_tokens = [stemmer.stem(token) for token in tokens]\n",
        "    # skip short tokens\n",
        "    return [token for token in stemmed_tokens if len(token) > 2] \n",
        "\n",
        "# convert all documents in dataset to list of tokens\n",
        "dataset = [text2tokens(txt) for txt in newsgroups['data']]  \n",
        "print(\"Data Pre-Processing Done.....!\")"
      ],
      "execution_count": null,
      "outputs": [
        {
          "output_type": "stream",
          "text": [
            "Data Pre-Processing Done.....!\n"
          ],
          "name": "stdout"
        }
      ]
    },
    {
      "cell_type": "markdown",
      "metadata": {
        "id": "PbG-V9GhxOlQ"
      },
      "source": [
        "### Build Dictionary"
      ]
    },
    {
      "cell_type": "code",
      "metadata": {
        "colab": {
          "base_uri": "https://localhost:8080/"
        },
        "id": "3mItOFWkxOlR",
        "outputId": "a1b5602a-4015-436e-a5ed-1512c1b68c8e"
      },
      "source": [
        "# make dictionary of complete dataset\n",
        "dictionary = Dictionary(documents=dataset, prune_at=None)\n",
        "# use Dictionary to remove un-relevant tokens\n",
        "dictionary.filter_extremes(no_below=5, no_above=0.3, keep_n=None)  \n",
        "dictionary.compactify()\n",
        "# make unigrams\n",
        "d2b_dataset = [dictionary.doc2bow(doc) for doc in dataset]\n",
        "print(\"Build Dcitionary Done....!\")"
      ],
      "execution_count": null,
      "outputs": [
        {
          "output_type": "stream",
          "text": [
            "Build Dcitionary Done....!\n"
          ],
          "name": "stdout"
        }
      ]
    },
    {
      "cell_type": "markdown",
      "metadata": {
        "id": "k5R2dr7lxOlT"
      },
      "source": [
        "### Find optimal value of alpha and beta"
      ]
    },
    {
      "cell_type": "code",
      "metadata": {
        "id": "hxRoYFbZxOlU"
      },
      "source": [
        "# list of number of topics\n",
        "topics = [30,40,50,60,70,80,90,100,110,120,130,140,150,160,170]\n",
        "# Alpha parameter\n",
        "alpha = [0.001,0.1]\n",
        "alpha.append('symmetric')\n",
        "alpha.append('asymmetric')\n",
        "# Beta parameter\n",
        "beta = [0.1,1.0,10.0]\n",
        "\n",
        "model_results = {'Topics': [],\n",
        "                 'Alpha': [],\n",
        "                 'Beta': [],\n",
        "                 'Coherence': []\n",
        "                }\n",
        "\n",
        "for topic_num in topics:\n",
        "    # iterate through alpha values\n",
        "    for a in alpha:\n",
        "        # iterare through beta values\n",
        "        for b in beta:\n",
        "            # get the coherence score for the given parameters\n",
        "            lda_model = models.LdaModel(corpus=d2b_dataset,\n",
        "                                           id2word=dictionary,\n",
        "                                           num_topics=topic_num, \n",
        "                                           random_state=100,\n",
        "                                           chunksize=500,\n",
        "                                           passes=2,\n",
        "                                           alpha=a,\n",
        "                                           eta=b)\n",
        "    \n",
        "            coherence_model_lda = CoherenceModel(model=lda_model, texts=dataset, dictionary=dictionary, coherence='c_v')\n",
        "            coherence_score = coherence_model_lda.get_coherence()\n",
        "            \n",
        "            \n",
        "            model_results['Topics'].append(topic_num)\n",
        "            model_results['Alpha'].append(a)\n",
        "            model_results['Beta'].append(b)\n",
        "            model_results['Coherence'].append(coherence_score)"
      ],
      "execution_count": null,
      "outputs": []
    },
    {
      "cell_type": "markdown",
      "metadata": {
        "id": "zMtPqQ4gT9Da"
      },
      "source": [
        "### Train - Test split with 80:20 ratio\n",
        "### Further 10% from train data will be used for tuning. We will be using kfold cross validation where 10 number of splits will be created and at each step one part of data will be used for tuning and other will be for training\n"
      ]
    },
    {
      "cell_type": "markdown",
      "metadata": {
        "id": "vqC-AmLwxOlV"
      },
      "source": [
        "### Make object of classification model"
      ]
    },
    {
      "cell_type": "code",
      "metadata": {
        "id": "M6zEojevxOlW"
      },
      "source": [
        "# make model object\n",
        "lr = LogisticRegression(class_weight= 'balanced',solver='newton-cg',fit_intercept=True)"
      ],
      "execution_count": null,
      "outputs": []
    },
    {
      "cell_type": "markdown",
      "metadata": {
        "id": "SsbYgq8YxOlW"
      },
      "source": [
        "### Find optimal number of topics using classification"
      ]
    },
    {
      "cell_type": "code",
      "metadata": {
        "id": "aYi2Y4r-xOlW",
        "colab": {
          "base_uri": "https://localhost:8080/"
        },
        "outputId": "f962e972-75cc-4cbf-f336-ad722e7f3d91"
      },
      "source": [
        "# list of number of topics\n",
        "topics = [30,40,50,60,70,80,90,100,110,120,130,140,150,160,170,180,190,200]\n",
        "acc_list_train = []\n",
        "acc_list_valid = []\n",
        "acc_list_test = []\n",
        "\n",
        "# iterate over all number of topics\n",
        "for topic_num in topics:\n",
        "    # build and fit lda model on dataset\n",
        "    lda_model = models.LdaModel(d2b_dataset, num_topics=topic_num, id2word=dictionary,chunksize=500, passes=2, alpha=[0.01]*topic_num, eta=[1.0]*len(dictionary.keys()))\n",
        "    train_vecs = []\n",
        "    # make feature vectors of topics extracted from lda model\n",
        "    for i in range(len(d2b_dataset)):\n",
        "        # make sure all values are present also keep te values having 0 probability\n",
        "        top_topics = lda_model.get_document_topics(d2b_dataset[i], minimum_probability=0.0)\n",
        "        # retrieve all present topics\n",
        "        topic_vec = [top_topics[x][1] for x in range(topic_num)]\n",
        "        train_vecs.append(topic_vec)\n",
        "    # convert input data feature vectors into array\n",
        "    x_scaled = np.array(train_vecs)\n",
        "    y = newsgroups['target']\n",
        "    x_train, x_test, y_train, y_test = train_test_split(x_scaled, y, test_size=0.2, random_state=42)\n",
        "\n",
        "    \n",
        "    # perform cross validation where number of folds = 10\n",
        "    # shuffle and split dataset into 5 folds\n",
        "    CV = list(StratifiedKFold(n_splits=10, shuffle=True, random_state=0).split(x_train, y_train))\n",
        "    # evaluate model using accuracy and f1 measure on held-out dataset\n",
        "    scores_list_train = []\n",
        "    scores_list_valid = []\n",
        "    for train,valid in CV:\n",
        "        # fit model on train data\n",
        "        clf = lr.fit(x_train[train],y_train[train])\n",
        "        # make predictions on validation data\n",
        "        pred_train = clf.predict(x_train[train])\n",
        "        pred_valid = clf.predict(x_train[valid])\n",
        "        # calculate accuracy\n",
        "        scores_list_train.append(accuracy_score(y_train[train], pred_train))\n",
        "        scores_list_valid.append(accuracy_score(y_train[valid], pred_valid))\n",
        "        \n",
        "    pred_test = clf.predict(x_test)\n",
        "        # calculate accuracy\n",
        "    acc_list_test.append(accuracy_score(y_test, pred_test))\n",
        "    acc_list_train.append(np.array(scores_list_train).mean())\n",
        "    acc_list_valid.append(np.array(scores_list_valid).mean())\n",
        "print(\"Training and Testing Done....\")\n"
      ],
      "execution_count": null,
      "outputs": [
        {
          "output_type": "stream",
          "text": [
            "Training and Testing Done....\n"
          ],
          "name": "stdout"
        }
      ]
    },
    {
      "cell_type": "code",
      "metadata": {
        "colab": {
          "base_uri": "https://localhost:8080/",
          "height": 588
        },
        "id": "Q2M-gBLzxOlY",
        "outputId": "8d4d4ad1-6805-4e6c-f1cb-1eee4ca5ba04"
      },
      "source": [
        "import pandas as pd\n",
        "topic_num = pd.DataFrame(topics)\n",
        "train_accuracy = pd.DataFrame(acc_list_train)\n",
        "tune_accuracy = pd.DataFrame(acc_list_valid)\n",
        "train_res = pd.concat([topic_num, train_accuracy],axis = 1)\n",
        "tune_res = pd.concat([topic_num, tune_accuracy],axis = 1)\n",
        "train_res.columns=['No. of Topics','Train Accuracy']\n",
        "tune_res.columns=['No. of Topics','Tune Accuracy']\n",
        "train_res"
      ],
      "execution_count": null,
      "outputs": [
        {
          "output_type": "execute_result",
          "data": {
            "text/html": [
              "<div>\n",
              "<style scoped>\n",
              "    .dataframe tbody tr th:only-of-type {\n",
              "        vertical-align: middle;\n",
              "    }\n",
              "\n",
              "    .dataframe tbody tr th {\n",
              "        vertical-align: top;\n",
              "    }\n",
              "\n",
              "    .dataframe thead th {\n",
              "        text-align: right;\n",
              "    }\n",
              "</style>\n",
              "<table border=\"1\" class=\"dataframe\">\n",
              "  <thead>\n",
              "    <tr style=\"text-align: right;\">\n",
              "      <th></th>\n",
              "      <th>No. of Topics</th>\n",
              "      <th>Train Accuracy</th>\n",
              "    </tr>\n",
              "  </thead>\n",
              "  <tbody>\n",
              "    <tr>\n",
              "      <th>0</th>\n",
              "      <td>30</td>\n",
              "      <td>0.569722</td>\n",
              "    </tr>\n",
              "    <tr>\n",
              "      <th>1</th>\n",
              "      <td>40</td>\n",
              "      <td>0.621613</td>\n",
              "    </tr>\n",
              "    <tr>\n",
              "      <th>2</th>\n",
              "      <td>50</td>\n",
              "      <td>0.650069</td>\n",
              "    </tr>\n",
              "    <tr>\n",
              "      <th>3</th>\n",
              "      <td>60</td>\n",
              "      <td>0.684565</td>\n",
              "    </tr>\n",
              "    <tr>\n",
              "      <th>4</th>\n",
              "      <td>70</td>\n",
              "      <td>0.548337</td>\n",
              "    </tr>\n",
              "    <tr>\n",
              "      <th>5</th>\n",
              "      <td>80</td>\n",
              "      <td>0.656134</td>\n",
              "    </tr>\n",
              "    <tr>\n",
              "      <th>6</th>\n",
              "      <td>90</td>\n",
              "      <td>0.640899</td>\n",
              "    </tr>\n",
              "    <tr>\n",
              "      <th>7</th>\n",
              "      <td>100</td>\n",
              "      <td>0.668275</td>\n",
              "    </tr>\n",
              "    <tr>\n",
              "      <th>8</th>\n",
              "      <td>110</td>\n",
              "      <td>0.682552</td>\n",
              "    </tr>\n",
              "    <tr>\n",
              "      <th>9</th>\n",
              "      <td>120</td>\n",
              "      <td>0.605348</td>\n",
              "    </tr>\n",
              "    <tr>\n",
              "      <th>10</th>\n",
              "      <td>130</td>\n",
              "      <td>0.674032</td>\n",
              "    </tr>\n",
              "    <tr>\n",
              "      <th>11</th>\n",
              "      <td>140</td>\n",
              "      <td>0.629568</td>\n",
              "    </tr>\n",
              "    <tr>\n",
              "      <th>12</th>\n",
              "      <td>150</td>\n",
              "      <td>0.618336</td>\n",
              "    </tr>\n",
              "    <tr>\n",
              "      <th>13</th>\n",
              "      <td>160</td>\n",
              "      <td>0.655115</td>\n",
              "    </tr>\n",
              "    <tr>\n",
              "      <th>14</th>\n",
              "      <td>170</td>\n",
              "      <td>0.676758</td>\n",
              "    </tr>\n",
              "    <tr>\n",
              "      <th>15</th>\n",
              "      <td>180</td>\n",
              "      <td>0.621429</td>\n",
              "    </tr>\n",
              "    <tr>\n",
              "      <th>16</th>\n",
              "      <td>190</td>\n",
              "      <td>0.652144</td>\n",
              "    </tr>\n",
              "    <tr>\n",
              "      <th>17</th>\n",
              "      <td>200</td>\n",
              "      <td>0.620079</td>\n",
              "    </tr>\n",
              "  </tbody>\n",
              "</table>\n",
              "</div>"
            ],
            "text/plain": [
              "    No. of Topics  Train Accuracy\n",
              "0              30        0.569722\n",
              "1              40        0.621613\n",
              "2              50        0.650069\n",
              "3              60        0.684565\n",
              "4              70        0.548337\n",
              "5              80        0.656134\n",
              "6              90        0.640899\n",
              "7             100        0.668275\n",
              "8             110        0.682552\n",
              "9             120        0.605348\n",
              "10            130        0.674032\n",
              "11            140        0.629568\n",
              "12            150        0.618336\n",
              "13            160        0.655115\n",
              "14            170        0.676758\n",
              "15            180        0.621429\n",
              "16            190        0.652144\n",
              "17            200        0.620079"
            ]
          },
          "metadata": {
            "tags": []
          },
          "execution_count": 24
        }
      ]
    },
    {
      "cell_type": "code",
      "metadata": {
        "colab": {
          "base_uri": "https://localhost:8080/",
          "height": 588
        },
        "id": "-T9OafCoG0G9",
        "outputId": "a5eb44e8-16f9-49ac-9195-2e75e07c41b8"
      },
      "source": [
        "tune_res"
      ],
      "execution_count": null,
      "outputs": [
        {
          "output_type": "execute_result",
          "data": {
            "text/html": [
              "<div>\n",
              "<style scoped>\n",
              "    .dataframe tbody tr th:only-of-type {\n",
              "        vertical-align: middle;\n",
              "    }\n",
              "\n",
              "    .dataframe tbody tr th {\n",
              "        vertical-align: top;\n",
              "    }\n",
              "\n",
              "    .dataframe thead th {\n",
              "        text-align: right;\n",
              "    }\n",
              "</style>\n",
              "<table border=\"1\" class=\"dataframe\">\n",
              "  <thead>\n",
              "    <tr style=\"text-align: right;\">\n",
              "      <th></th>\n",
              "      <th>No. of Topics</th>\n",
              "      <th>Tune Accuracy</th>\n",
              "    </tr>\n",
              "  </thead>\n",
              "  <tbody>\n",
              "    <tr>\n",
              "      <th>0</th>\n",
              "      <td>30</td>\n",
              "      <td>0.575959</td>\n",
              "    </tr>\n",
              "    <tr>\n",
              "      <th>1</th>\n",
              "      <td>40</td>\n",
              "      <td>0.582586</td>\n",
              "    </tr>\n",
              "    <tr>\n",
              "      <th>2</th>\n",
              "      <td>50</td>\n",
              "      <td>0.604130</td>\n",
              "    </tr>\n",
              "    <tr>\n",
              "      <th>3</th>\n",
              "      <td>60</td>\n",
              "      <td>0.624685</td>\n",
              "    </tr>\n",
              "    <tr>\n",
              "      <th>4</th>\n",
              "      <td>70</td>\n",
              "      <td>0.627775</td>\n",
              "    </tr>\n",
              "    <tr>\n",
              "      <th>5</th>\n",
              "      <td>80</td>\n",
              "      <td>0.615845</td>\n",
              "    </tr>\n",
              "    <tr>\n",
              "      <th>6</th>\n",
              "      <td>90</td>\n",
              "      <td>0.648547</td>\n",
              "    </tr>\n",
              "    <tr>\n",
              "      <th>7</th>\n",
              "      <td>100</td>\n",
              "      <td>0.649208</td>\n",
              "    </tr>\n",
              "    <tr>\n",
              "      <th>8</th>\n",
              "      <td>110</td>\n",
              "      <td>0.646557</td>\n",
              "    </tr>\n",
              "    <tr>\n",
              "      <th>9</th>\n",
              "      <td>120</td>\n",
              "      <td>0.644898</td>\n",
              "    </tr>\n",
              "    <tr>\n",
              "      <th>10</th>\n",
              "      <td>130</td>\n",
              "      <td>0.635839</td>\n",
              "    </tr>\n",
              "    <tr>\n",
              "      <th>11</th>\n",
              "      <td>140</td>\n",
              "      <td>0.648548</td>\n",
              "    </tr>\n",
              "    <tr>\n",
              "      <th>12</th>\n",
              "      <td>150</td>\n",
              "      <td>0.667772</td>\n",
              "    </tr>\n",
              "    <tr>\n",
              "      <th>13</th>\n",
              "      <td>160</td>\n",
              "      <td>0.662351</td>\n",
              "    </tr>\n",
              "    <tr>\n",
              "      <th>14</th>\n",
              "      <td>170</td>\n",
              "      <td>0.659372</td>\n",
              "    </tr>\n",
              "    <tr>\n",
              "      <th>15</th>\n",
              "      <td>180</td>\n",
              "      <td>0.654916</td>\n",
              "    </tr>\n",
              "    <tr>\n",
              "      <th>16</th>\n",
              "      <td>190</td>\n",
              "      <td>0.650711</td>\n",
              "    </tr>\n",
              "    <tr>\n",
              "      <th>17</th>\n",
              "      <td>200</td>\n",
              "      <td>0.637390</td>\n",
              "    </tr>\n",
              "  </tbody>\n",
              "</table>\n",
              "</div>"
            ],
            "text/plain": [
              "    No. of Topics  Tune Accuracy\n",
              "0              30       0.562812\n",
              "1              40       0.614516\n",
              "2              50       0.645563\n",
              "3              60       0.679373\n",
              "4              70       0.541156\n",
              "5              80       0.650866\n",
              "6              90       0.635400\n",
              "7             100       0.661141\n",
              "8             110       0.677271\n",
              "9             120       0.597947\n",
              "10            130       0.668987\n",
              "11            140       0.619488\n",
              "12            150       0.611425\n",
              "13            160       0.646777\n",
              "14            170       0.670424\n",
              "15            180       0.616174\n",
              "16            190       0.645121\n",
              "17            200       0.613193"
            ]
          },
          "metadata": {
            "tags": []
          },
          "execution_count": 25
        }
      ]
    },
    {
      "cell_type": "code",
      "metadata": {
        "colab": {
          "base_uri": "https://localhost:8080/",
          "height": 588
        },
        "id": "uBAjBeSWGz8k",
        "outputId": "8feda5bf-3e84-436d-fa24-64b4925c31a1"
      },
      "source": [
        "test_accuracy = pd.DataFrame(acc_list_test)\n",
        "test_res = pd.concat([topic_num, test_accuracy],axis = 1)\n",
        "test_res = pd.concat([topic_num, test_accuracy],axis = 1)\n",
        "test_res.columns=['No. of Topics','Test Accuracy']\n",
        "test_res"
      ],
      "execution_count": null,
      "outputs": [
        {
          "output_type": "execute_result",
          "data": {
            "text/html": [
              "<div>\n",
              "<style scoped>\n",
              "    .dataframe tbody tr th:only-of-type {\n",
              "        vertical-align: middle;\n",
              "    }\n",
              "\n",
              "    .dataframe tbody tr th {\n",
              "        vertical-align: top;\n",
              "    }\n",
              "\n",
              "    .dataframe thead th {\n",
              "        text-align: right;\n",
              "    }\n",
              "</style>\n",
              "<table border=\"1\" class=\"dataframe\">\n",
              "  <thead>\n",
              "    <tr style=\"text-align: right;\">\n",
              "      <th></th>\n",
              "      <th>No. of Topics</th>\n",
              "      <th>Test Accuracy</th>\n",
              "    </tr>\n",
              "  </thead>\n",
              "  <tbody>\n",
              "    <tr>\n",
              "      <th>0</th>\n",
              "      <td>30</td>\n",
              "      <td>0.585948</td>\n",
              "    </tr>\n",
              "    <tr>\n",
              "      <th>1</th>\n",
              "      <td>40</td>\n",
              "      <td>0.586832</td>\n",
              "    </tr>\n",
              "    <tr>\n",
              "      <th>2</th>\n",
              "      <td>50</td>\n",
              "      <td>0.600972</td>\n",
              "    </tr>\n",
              "    <tr>\n",
              "      <th>3</th>\n",
              "      <td>60</td>\n",
              "      <td>0.623509</td>\n",
              "    </tr>\n",
              "    <tr>\n",
              "      <th>4</th>\n",
              "      <td>70</td>\n",
              "      <td>0.635882</td>\n",
              "    </tr>\n",
              "    <tr>\n",
              "      <th>5</th>\n",
              "      <td>80</td>\n",
              "      <td>0.637649</td>\n",
              "    </tr>\n",
              "    <tr>\n",
              "      <th>6</th>\n",
              "      <td>90</td>\n",
              "      <td>0.648696</td>\n",
              "    </tr>\n",
              "    <tr>\n",
              "      <th>7</th>\n",
              "      <td>100</td>\n",
              "      <td>0.665488</td>\n",
              "    </tr>\n",
              "    <tr>\n",
              "      <th>8</th>\n",
              "      <td>110</td>\n",
              "      <td>0.669023</td>\n",
              "    </tr>\n",
              "    <tr>\n",
              "      <th>9</th>\n",
              "      <td>120</td>\n",
              "      <td>0.643836</td>\n",
              "    </tr>\n",
              "    <tr>\n",
              "      <th>10</th>\n",
              "      <td>130</td>\n",
              "      <td>0.653557</td>\n",
              "    </tr>\n",
              "    <tr>\n",
              "      <th>11</th>\n",
              "      <td>140</td>\n",
              "      <td>0.652673</td>\n",
              "    </tr>\n",
              "    <tr>\n",
              "      <th>12</th>\n",
              "      <td>150</td>\n",
              "      <td>0.666814</td>\n",
              "    </tr>\n",
              "    <tr>\n",
              "      <th>13</th>\n",
              "      <td>160</td>\n",
              "      <td>0.664118</td>\n",
              "    </tr>\n",
              "    <tr>\n",
              "      <th>14</th>\n",
              "      <td>170</td>\n",
              "      <td>0.661390</td>\n",
              "    </tr>\n",
              "    <tr>\n",
              "      <th>15</th>\n",
              "      <td>180</td>\n",
              "      <td>0.657482</td>\n",
              "    </tr>\n",
              "    <tr>\n",
              "      <th>16</th>\n",
              "      <td>190</td>\n",
              "      <td>0.653187</td>\n",
              "    </tr>\n",
              "    <tr>\n",
              "      <th>17</th>\n",
              "      <td>200</td>\n",
              "      <td>0.639761</td>\n",
              "    </tr>\n",
              "  </tbody>\n",
              "</table>\n",
              "</div>"
            ],
            "text/plain": [
              "    No. of Topics  Test Accuracy\n",
              "0              30       0.572249\n",
              "1              40       0.633230\n",
              "2              50       0.652232\n",
              "3              60       0.696421\n",
              "4              70       0.544852\n",
              "5              80       0.659744\n",
              "6              90       0.632788\n",
              "7             100       0.669023\n",
              "8             110       0.696863\n",
              "9             120       0.619973\n",
              "10            130       0.670791\n",
              "11            140       0.631021\n",
              "12            150       0.627486\n",
              "13            160       0.656209\n",
              "14            170       0.671675\n",
              "15            180       0.639417\n",
              "16            190       0.631463\n",
              "17            200       0.631021"
            ]
          },
          "metadata": {
            "tags": []
          },
          "execution_count": 26
        }
      ]
    },
    {
      "cell_type": "markdown",
      "metadata": {
        "id": "iBitdbYhxOla"
      },
      "source": [
        "### Visulaize Results"
      ]
    },
    {
      "cell_type": "code",
      "metadata": {
        "colab": {
          "base_uri": "https://localhost:8080/",
          "height": 295
        },
        "id": "TjCQtYX7MyqU",
        "outputId": "579177ba-92da-45b7-a89a-f9b0ab736f3e"
      },
      "source": [
        "# plot accuracy scores\n",
        "limit=100; start=30; step=10;\n",
        "#topics = range(start, limit, step)\n",
        "plt.plot(topics, acc_list_train, label='LR-LDA Accuracy')\n",
        "plt.title('Train Accuracy')\n",
        "plt.xlabel('No. of Topics')\n",
        "plt.ylabel('Accuracy')\n",
        "plt.legend()\n",
        "plt.show()\n"
      ],
      "execution_count": null,
      "outputs": [
        {
          "output_type": "display_data",
          "data": {
            "image/png": "[encoded data removed]",
            "text/plain": [
              "<Figure size 432x288 with 1 Axes>"
            ]
          },
          "metadata": {
            "tags": [],
            "needs_background": "light"
          }
        }
      ]
    },
    {
      "cell_type": "code",
      "metadata": {
        "colab": {
          "base_uri": "https://localhost:8080/",
          "height": 295
        },
        "id": "GzxbmMqoxOlb",
        "outputId": "0e531439-8926-4a11-dfe2-ee81bc938678"
      },
      "source": [
        "# plot accuracy scores\n",
        "limit=100; start=30; step=10;\n",
        "#topics = range(start, limit, step)\n",
        "plt.plot(topics, acc_list_valid, label='LR-LDA Accuracy')\n",
        "plt.title('Tune Accuracy')\n",
        "plt.xlabel('No. of Topics')\n",
        "plt.ylabel('Accuracy')\n",
        "plt.legend()\n",
        "plt.show()\n"
      ],
      "execution_count": null,
      "outputs": [
        {
          "output_type": "display_data",
          "data": {
            "image/png": "[encoded data removed]",
            "text/plain": [
              "<Figure size 432x288 with 1 Axes>"
            ]
          },
          "metadata": {
            "tags": [],
            "needs_background": "light"
          }
        }
      ]
    },
    {
      "cell_type": "code",
      "metadata": {
        "id": "Cmlsg50exOld",
        "colab": {
          "base_uri": "https://localhost:8080/",
          "height": 295
        },
        "outputId": "610bd3b8-5a10-447c-b2a4-15daf796d460"
      },
      "source": [
        "# plot accuracy scores\n",
        "limit=100; start=30; step=10;\n",
        "#topics = range(start, limit, step)\n",
        "plt.plot(topics, acc_list_test, label='LR-LDA Accuracy')\n",
        "plt.title('Test Accuracy')\n",
        "plt.xlabel('No. of Topics')\n",
        "plt.ylabel('Accuracy')\n",
        "plt.legend()\n",
        "plt.show()\n"
      ],
      "execution_count": null,
      "outputs": [
        {
          "output_type": "display_data",
          "data": {
            "image/png": "[encoded data removed]",
            "text/plain": [
              "<Figure size 432x288 with 1 Axes>"
            ]
          },
          "metadata": {
            "tags": [],
            "needs_background": "light"
          }
        }
      ]
    },
    {
      "cell_type": "code",
      "metadata": {
        "id": "9RPGLYT-Ez-W"
      },
      "source": [
        ""
      ],
      "execution_count": null,
      "outputs": []
    }
  ]
}