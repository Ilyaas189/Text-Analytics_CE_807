{
  "nbformat": 4,
  "nbformat_minor": 0,
  "metadata": {
    "colab": {
      "name": "LDA Model_DS_80_02.ipynb",
      "provenance": [],
      "collapsed_sections": [],
      "include_colab_link": true
    },
    "kernelspec": {
      "name": "python3",
      "display_name": "Python 3"
    },
    "language_info": {
      "name": "python"
    },
    "accelerator": "GPU"
  },
  "cells": [
    {
      "cell_type": "markdown",
      "metadata": {
        "id": "view-in-github",
        "colab_type": "text"
      },
      "source": [
        "<a href=\"https://colab.research.google.com/github/Ilyaas189/Text-Analytics_CE_807/blob/main/LDA_Model_DS_80_02.ipynb\" target=\"_parent\"><img src=\"https://colab.research.google.com/assets/colab-badge.svg\" alt=\"Open In Colab\"/></a>"
      ]
    },
    {
      "cell_type": "code",
      "metadata": {
        "colab": {
          "resources": {
            "http://localhost:8080/nbextensions/google.colab/files.js": {
              "data": "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",
              "ok": true,
              "headers": [
                [
                  "content-type",
                  "application/javascript"
                ]
              ],
              "status": 200,
              "status_text": ""
            }
          },
          "base_uri": "https://localhost:8080/",
          "height": 37
        },
        "id": "h48neXM-ANwE",
        "outputId": "c93810c8-bb36-4702-99b8-5790b2870ee9"
      },
      "source": [
        "import pandas as pd\n",
        "import numpy as np\n",
        "import matplotlib.pyplot as plt\n",
        "import warnings\n",
        "from google.colab import files\n",
        "from sklearn.naive_bayes import MultinomialNB\n",
        "from sklearn.naive_bayes import BernoulliNB\n",
        "from sklearn.pipeline import Pipeline\n",
        "from sklearn.feature_extraction.text import TfidfVectorizer\n",
        "from sklearn.feature_extraction.text import TfidfTransformer\n",
        "from sklearn.linear_model import SGDClassifier\n",
        "from sklearn.linear_model import LogisticRegression\n",
        "from nltk.stem.snowball import SnowballStemmer\n",
        "from sklearn.neighbors import KNeighborsClassifier\n",
        "from sklearn.ensemble import RandomForestClassifier\n",
        "import numpy as np\n",
        "import re\n",
        "\n",
        "\n",
        "import matplotlib.pyplot as plt\n",
        "%matplotlib inline\n",
        "\n",
        "import nltk\n",
        "import random\n",
        "uploaded = files.upload()\n",
        "files = list(uploaded.keys())\n"
      ],
      "execution_count": 1,
      "outputs": [
        {
          "output_type": "display_data",
          "data": {
            "text/html": [
              "\n",
              "     <input type=\"file\" id=\"files-655d62ed-7979-4a3b-8b49-71fa03767cbc\" name=\"files[]\" multiple disabled\n",
              "        style=\"border:none\" />\n",
              "     <output id=\"result-655d62ed-7979-4a3b-8b49-71fa03767cbc\">\n",
              "      Upload widget is only available when the cell has been executed in the\n",
              "      current browser session. Please rerun this cell to enable.\n",
              "      </output>\n",
              "      <script src=\"/nbextensions/google.colab/files.js\"></script> "
            ],
            "text/plain": [
              "<IPython.core.display.HTML object>"
            ]
          },
          "metadata": {
            "tags": []
          }
        }
      ]
    },
    {
      "cell_type": "code",
      "metadata": {
        "colab": {
          "base_uri": "https://localhost:8080/"
        },
        "id": "qcrJU_pzAhOm",
        "outputId": "b54734fc-f5ef-4b40-8665-3ad71adb69b7"
      },
      "source": [
        "# Import Dataset\n",
        "data = pd.read_json('https://raw.githubusercontent.com/selva86/datasets/master/newsgroups.json')\n",
        "print(data.target_names.unique())"
      ],
      "execution_count": 2,
      "outputs": [
        {
          "output_type": "stream",
          "text": [
            "['rec.autos' 'comp.sys.mac.hardware' 'comp.graphics' 'sci.space'\n",
            " 'talk.politics.guns' 'sci.med' 'comp.sys.ibm.pc.hardware'\n",
            " 'comp.os.ms-windows.misc' 'rec.motorcycles' 'talk.religion.misc'\n",
            " 'misc.forsale' 'alt.atheism' 'sci.electronics' 'comp.windows.x'\n",
            " 'rec.sport.hockey' 'rec.sport.baseball' 'soc.religion.christian'\n",
            " 'talk.politics.mideast' 'talk.politics.misc' 'sci.crypt']\n"
          ],
          "name": "stdout"
        }
      ]
    },
    {
      "cell_type": "code",
      "metadata": {
        "colab": {
          "base_uri": "https://localhost:8080/",
          "height": 648
        },
        "id": "SnGiNUYGAtLQ",
        "outputId": "98d66cc5-ee8a-4910-d2a3-0c0d988ffdb5"
      },
      "source": [
        "data.head(20)"
      ],
      "execution_count": 3,
      "outputs": [
        {
          "output_type": "execute_result",
          "data": {
            "text/html": [
              "<div>\n",
              "<style scoped>\n",
              "    .dataframe tbody tr th:only-of-type {\n",
              "        vertical-align: middle;\n",
              "    }\n",
              "\n",
              "    .dataframe tbody tr th {\n",
              "        vertical-align: top;\n",
              "    }\n",
              "\n",
              "    .dataframe thead th {\n",
              "        text-align: right;\n",
              "    }\n",
              "</style>\n",
              "<table border=\"1\" class=\"dataframe\">\n",
              "  <thead>\n",
              "    <tr style=\"text-align: right;\">\n",
              "      <th></th>\n",
              "      <th>content</th>\n",
              "      <th>target</th>\n",
              "      <th>target_names</th>\n",
              "    </tr>\n",
              "  </thead>\n",
              "  <tbody>\n",
              "    <tr>\n",
              "      <th>0</th>\n",
              "      <td>From: lerxst@wam.umd.edu (where's my thing)\\nS...</td>\n",
              "      <td>7</td>\n",
              "      <td>rec.autos</td>\n",
              "    </tr>\n",
              "    <tr>\n",
              "      <th>1</th>\n",
              "      <td>From: guykuo@carson.u.washington.edu (Guy Kuo)...</td>\n",
              "      <td>4</td>\n",
              "      <td>comp.sys.mac.hardware</td>\n",
              "    </tr>\n",
              "    <tr>\n",
              "      <th>2</th>\n",
              "      <td>From: twillis@ec.ecn.purdue.edu (Thomas E Will...</td>\n",
              "      <td>4</td>\n",
              "      <td>comp.sys.mac.hardware</td>\n",
              "    </tr>\n",
              "    <tr>\n",
              "      <th>3</th>\n",
              "      <td>From: jgreen@amber (Joe Green)\\nSubject: Re: W...</td>\n",
              "      <td>1</td>\n",
              "      <td>comp.graphics</td>\n",
              "    </tr>\n",
              "    <tr>\n",
              "      <th>4</th>\n",
              "      <td>From: jcm@head-cfa.harvard.edu (Jonathan McDow...</td>\n",
              "      <td>14</td>\n",
              "      <td>sci.space</td>\n",
              "    </tr>\n",
              "    <tr>\n",
              "      <th>5</th>\n",
              "      <td>From: dfo@vttoulu.tko.vtt.fi (Foxvog Douglas)\\...</td>\n",
              "      <td>16</td>\n",
              "      <td>talk.politics.guns</td>\n",
              "    </tr>\n",
              "    <tr>\n",
              "      <th>6</th>\n",
              "      <td>From: bmdelane@quads.uchicago.edu (brian manni...</td>\n",
              "      <td>13</td>\n",
              "      <td>sci.med</td>\n",
              "    </tr>\n",
              "    <tr>\n",
              "      <th>7</th>\n",
              "      <td>From: bgrubb@dante.nmsu.edu (GRUBB)\\nSubject: ...</td>\n",
              "      <td>3</td>\n",
              "      <td>comp.sys.ibm.pc.hardware</td>\n",
              "    </tr>\n",
              "    <tr>\n",
              "      <th>8</th>\n",
              "      <td>From: holmes7000@iscsvax.uni.edu\\nSubject: WIn...</td>\n",
              "      <td>2</td>\n",
              "      <td>comp.os.ms-windows.misc</td>\n",
              "    </tr>\n",
              "    <tr>\n",
              "      <th>9</th>\n",
              "      <td>From: kerr@ux1.cso.uiuc.edu (Stan Kerr)\\nSubje...</td>\n",
              "      <td>4</td>\n",
              "      <td>comp.sys.mac.hardware</td>\n",
              "    </tr>\n",
              "    <tr>\n",
              "      <th>10</th>\n",
              "      <td>From: irwin@cmptrc.lonestar.org (Irwin Arnstei...</td>\n",
              "      <td>8</td>\n",
              "      <td>rec.motorcycles</td>\n",
              "    </tr>\n",
              "    <tr>\n",
              "      <th>11</th>\n",
              "      <td>From: david@terminus.ericsson.se (David Bold)\\...</td>\n",
              "      <td>19</td>\n",
              "      <td>talk.religion.misc</td>\n",
              "    </tr>\n",
              "    <tr>\n",
              "      <th>12</th>\n",
              "      <td>From: rodc@fc.hp.com (Rod Cerkoney)\\nSubject: ...</td>\n",
              "      <td>4</td>\n",
              "      <td>comp.sys.mac.hardware</td>\n",
              "    </tr>\n",
              "    <tr>\n",
              "      <th>13</th>\n",
              "      <td>From: dbm0000@tm0006.lerc.nasa.gov (David B. M...</td>\n",
              "      <td>14</td>\n",
              "      <td>sci.space</td>\n",
              "    </tr>\n",
              "    <tr>\n",
              "      <th>14</th>\n",
              "      <td>From: jllee@acsu.buffalo.edu (Johnny L Lee)\\nS...</td>\n",
              "      <td>6</td>\n",
              "      <td>misc.forsale</td>\n",
              "    </tr>\n",
              "    <tr>\n",
              "      <th>15</th>\n",
              "      <td>From: mathew &lt;mathew@mantis.co.uk&gt;\\nSubject: R...</td>\n",
              "      <td>0</td>\n",
              "      <td>alt.atheism</td>\n",
              "    </tr>\n",
              "    <tr>\n",
              "      <th>16</th>\n",
              "      <td>From: ab@nova.cc.purdue.edu (Allen B)\\nSubject...</td>\n",
              "      <td>1</td>\n",
              "      <td>comp.graphics</td>\n",
              "    </tr>\n",
              "    <tr>\n",
              "      <th>17</th>\n",
              "      <td>From: CPKJP@vm.cc.latech.edu (Kevin Parker)\\nS...</td>\n",
              "      <td>7</td>\n",
              "      <td>rec.autos</td>\n",
              "    </tr>\n",
              "    <tr>\n",
              "      <th>18</th>\n",
              "      <td>From: ritley@uimrl7.mrl.uiuc.edu ()\\nSubject: ...</td>\n",
              "      <td>12</td>\n",
              "      <td>sci.electronics</td>\n",
              "    </tr>\n",
              "    <tr>\n",
              "      <th>19</th>\n",
              "      <td>From: abarden@tybse1.uucp (Ann Marie Barden)\\n...</td>\n",
              "      <td>5</td>\n",
              "      <td>comp.windows.x</td>\n",
              "    </tr>\n",
              "  </tbody>\n",
              "</table>\n",
              "</div>"
            ],
            "text/plain": [
              "                                              content  ...              target_names\n",
              "0   From: lerxst@wam.umd.edu (where's my thing)\\nS...  ...                 rec.autos\n",
              "1   From: guykuo@carson.u.washington.edu (Guy Kuo)...  ...     comp.sys.mac.hardware\n",
              "2   From: twillis@ec.ecn.purdue.edu (Thomas E Will...  ...     comp.sys.mac.hardware\n",
              "3   From: jgreen@amber (Joe Green)\\nSubject: Re: W...  ...             comp.graphics\n",
              "4   From: jcm@head-cfa.harvard.edu (Jonathan McDow...  ...                 sci.space\n",
              "5   From: dfo@vttoulu.tko.vtt.fi (Foxvog Douglas)\\...  ...        talk.politics.guns\n",
              "6   From: bmdelane@quads.uchicago.edu (brian manni...  ...                   sci.med\n",
              "7   From: bgrubb@dante.nmsu.edu (GRUBB)\\nSubject: ...  ...  comp.sys.ibm.pc.hardware\n",
              "8   From: holmes7000@iscsvax.uni.edu\\nSubject: WIn...  ...   comp.os.ms-windows.misc\n",
              "9   From: kerr@ux1.cso.uiuc.edu (Stan Kerr)\\nSubje...  ...     comp.sys.mac.hardware\n",
              "10  From: irwin@cmptrc.lonestar.org (Irwin Arnstei...  ...           rec.motorcycles\n",
              "11  From: david@terminus.ericsson.se (David Bold)\\...  ...        talk.religion.misc\n",
              "12  From: rodc@fc.hp.com (Rod Cerkoney)\\nSubject: ...  ...     comp.sys.mac.hardware\n",
              "13  From: dbm0000@tm0006.lerc.nasa.gov (David B. M...  ...                 sci.space\n",
              "14  From: jllee@acsu.buffalo.edu (Johnny L Lee)\\nS...  ...              misc.forsale\n",
              "15  From: mathew <mathew@mantis.co.uk>\\nSubject: R...  ...               alt.atheism\n",
              "16  From: ab@nova.cc.purdue.edu (Allen B)\\nSubject...  ...             comp.graphics\n",
              "17  From: CPKJP@vm.cc.latech.edu (Kevin Parker)\\nS...  ...                 rec.autos\n",
              "18  From: ritley@uimrl7.mrl.uiuc.edu ()\\nSubject: ...  ...           sci.electronics\n",
              "19  From: abarden@tybse1.uucp (Ann Marie Barden)\\n...  ...            comp.windows.x\n",
              "\n",
              "[20 rows x 3 columns]"
            ]
          },
          "metadata": {
            "tags": []
          },
          "execution_count": 3
        }
      ]
    },
    {
      "cell_type": "code",
      "metadata": {
        "colab": {
          "base_uri": "https://localhost:8080/"
        },
        "id": "i1t4Hd65BKo4",
        "outputId": "a110b5fd-24c0-4f17-dac3-4466aa70b3f7"
      },
      "source": [
        "data_clusterization = data[['content', 'target_names']]\n",
        "data_clusterization.dropna(inplace=True)"
      ],
      "execution_count": 4,
      "outputs": [
        {
          "output_type": "stream",
          "text": [
            "/usr/local/lib/python3.7/dist-packages/ipykernel_launcher.py:2: SettingWithCopyWarning: \n",
            "A value is trying to be set on a copy of a slice from a DataFrame\n",
            "\n",
            "See the caveats in the documentation: https://pandas.pydata.org/pandas-docs/stable/user_guide/indexing.html#returning-a-view-versus-a-copy\n",
            "  \n"
          ],
          "name": "stderr"
        }
      ]
    },
    {
      "cell_type": "code",
      "metadata": {
        "colab": {
          "base_uri": "https://localhost:8080/",
          "height": 108
        },
        "id": "0xRJ8_03Bd1W",
        "outputId": "8ccb073e-7ac5-4edf-c402-e0766db1b11d"
      },
      "source": [
        "data_clusterization.head(2)\n"
      ],
      "execution_count": 5,
      "outputs": [
        {
          "output_type": "execute_result",
          "data": {
            "text/html": [
              "<div>\n",
              "<style scoped>\n",
              "    .dataframe tbody tr th:only-of-type {\n",
              "        vertical-align: middle;\n",
              "    }\n",
              "\n",
              "    .dataframe tbody tr th {\n",
              "        vertical-align: top;\n",
              "    }\n",
              "\n",
              "    .dataframe thead th {\n",
              "        text-align: right;\n",
              "    }\n",
              "</style>\n",
              "<table border=\"1\" class=\"dataframe\">\n",
              "  <thead>\n",
              "    <tr style=\"text-align: right;\">\n",
              "      <th></th>\n",
              "      <th>content</th>\n",
              "      <th>target_names</th>\n",
              "    </tr>\n",
              "  </thead>\n",
              "  <tbody>\n",
              "    <tr>\n",
              "      <th>0</th>\n",
              "      <td>From: lerxst@wam.umd.edu (where's my thing)\\nS...</td>\n",
              "      <td>rec.autos</td>\n",
              "    </tr>\n",
              "    <tr>\n",
              "      <th>1</th>\n",
              "      <td>From: guykuo@carson.u.washington.edu (Guy Kuo)...</td>\n",
              "      <td>comp.sys.mac.hardware</td>\n",
              "    </tr>\n",
              "  </tbody>\n",
              "</table>\n",
              "</div>"
            ],
            "text/plain": [
              "                                             content           target_names\n",
              "0  From: lerxst@wam.umd.edu (where's my thing)\\nS...              rec.autos\n",
              "1  From: guykuo@carson.u.washington.edu (Guy Kuo)...  comp.sys.mac.hardware"
            ]
          },
          "metadata": {
            "tags": []
          },
          "execution_count": 5
        }
      ]
    },
    {
      "cell_type": "code",
      "metadata": {
        "colab": {
          "base_uri": "https://localhost:8080/"
        },
        "id": "0iUh1DoLBmXP",
        "outputId": "db5c5aaa-d99f-43c8-e34e-9dd9df955ef7"
      },
      "source": [
        "import gensim\n",
        "from gensim.utils import simple_preprocess\n",
        "from gensim.parsing.preprocessing import STOPWORDS\n",
        "from nltk.stem import WordNetLemmatizer, SnowballStemmer\n",
        "from nltk.stem.porter import *\n",
        "import numpy as np\n",
        "np.random.seed(2018)\n",
        "import nltk\n",
        "nltk.download('wordnet')"
      ],
      "execution_count": 6,
      "outputs": [
        {
          "output_type": "stream",
          "text": [
            "[nltk_data] Downloading package wordnet to /root/nltk_data...\n",
            "[nltk_data]   Unzipping corpora/wordnet.zip.\n"
          ],
          "name": "stdout"
        },
        {
          "output_type": "execute_result",
          "data": {
            "text/plain": [
              "True"
            ]
          },
          "metadata": {
            "tags": []
          },
          "execution_count": 6
        }
      ]
    },
    {
      "cell_type": "code",
      "metadata": {
        "id": "s7hwfWd1Bw8S"
      },
      "source": [
        "def lemmatize_stemming(text):\n",
        " stemmer = SnowballStemmer(language='english')\n",
        " return stemmer.stem(WordNetLemmatizer().lemmatize(text, pos='v'))\n",
        "def preprocess(text):\n",
        " result = []\n",
        " for token in gensim.utils.simple_preprocess(text):\n",
        "   if token not in gensim.parsing.preprocessing.STOPWORDS and len(token) > 3:\n",
        "     result.append(lemmatize_stemming(token))\n",
        " return result"
      ],
      "execution_count": 7,
      "outputs": []
    },
    {
      "cell_type": "code",
      "metadata": {
        "id": "iJfVX8biB_Sa"
      },
      "source": [
        "processed_docs = data_clusterization['content'].map(preprocess)\n",
        "data_processed = processed_docs.to_frame()\n",
        "data_processed['content'] = data_processed.content.apply(lambda x: ' '.join(x))\n"
      ],
      "execution_count": 8,
      "outputs": []
    },
    {
      "cell_type": "code",
      "metadata": {
        "colab": {
          "base_uri": "https://localhost:8080/"
        },
        "id": "gCHPTBYJClMy",
        "outputId": "d1f79e14-4944-4a49-8f40-d6bd1e426a42"
      },
      "source": [
        "!pip install tokenize_uk\n",
        "from collections import Counter\n",
        "from tokenize_uk.tokenize_uk import tokenize_words"
      ],
      "execution_count": 9,
      "outputs": [
        {
          "output_type": "stream",
          "text": [
            "Collecting tokenize_uk\n",
            "  Downloading https://files.pythonhosted.org/packages/ac/21/72abb0304b532e1b2d2473b50d8063ddd0943e3b3fe7e86b366bc4d02aa2/tokenize_uk-0.2.0.tar.gz\n",
            "Requirement already satisfied: six in /usr/local/lib/python3.7/dist-packages (from tokenize_uk) (1.15.0)\n",
            "Building wheels for collected packages: tokenize-uk\n",
            "  Building wheel for tokenize-uk (setup.py) ... \u001b[?25l\u001b[?25hdone\n",
            "  Created wheel for tokenize-uk: filename=tokenize_uk-0.2.0-py2.py3-none-any.whl size=4565 sha256=11be29932a757604faf06f44cc896fd3c658cfb34ba7c308c4efc960f6408bf9\n",
            "  Stored in directory: /root/.cache/pip/wheels/2c/e1/95/fd8af5b40aeebdc4e178974e7f638f5553aa8772117054db9e\n",
            "Successfully built tokenize-uk\n",
            "Installing collected packages: tokenize-uk\n",
            "Successfully installed tokenize-uk-0.2.0\n"
          ],
          "name": "stdout"
        }
      ]
    },
    {
      "cell_type": "code",
      "metadata": {
        "colab": {
          "base_uri": "https://localhost:8080/",
          "height": 363
        },
        "id": "94mq8WUoCqHq",
        "outputId": "01ed3d44-33e7-484d-fa86-6bf851d37d5b"
      },
      "source": [
        "def display_words(data, title, ax):\n",
        " count = Counter(sum(map(lambda text: tokenize_words(text), data), []))\n",
        " popular = np.array(sorted(count.items(), key=lambda x: x[1], reverse=True)[:20])\n",
        " plt.sca(ax)\n",
        " plt.title(title)\n",
        " plt.bar(popular[:,0], np.int32(popular[:,1]))\n",
        " plt.xticks(rotation=\"vertical\")\n",
        "fig, ax = plt.subplots(figsize=(16, 5))\n",
        "display_words(data_processed.sample(1000).content, \"The most popular words]\", ax)"
      ],
      "execution_count": 10,
      "outputs": [
        {
          "output_type": "display_data",
          "data": {
            "image/png": "[encoded data removed]",
            "text/plain": [
              "<Figure size 1152x360 with 1 Axes>"
            ]
          },
          "metadata": {
            "tags": [],
            "needs_background": "light"
          }
        }
      ]
    },
    {
      "cell_type": "code",
      "metadata": {
        "id": "UCM4qevNC5Ty"
      },
      "source": [
        "from sklearn.feature_extraction.text import CountVectorizer"
      ],
      "execution_count": 11,
      "outputs": []
    },
    {
      "cell_type": "code",
      "metadata": {
        "colab": {
          "base_uri": "https://localhost:8080/"
        },
        "id": "NMnRgz3aC8f5",
        "outputId": "c24044e6-00b8-4f83-e549-a9eed5e977b0"
      },
      "source": [
        "count_vectorizer = CountVectorizer()\n",
        "count_data = count_vectorizer.fit_transform(data_processed['content'])\n",
        "count_data"
      ],
      "execution_count": 12,
      "outputs": [
        {
          "output_type": "execute_result",
          "data": {
            "text/plain": [
              "<11314x61410 sparse matrix of type '<class 'numpy.int64'>'\n",
              "\twith 934270 stored elements in Compressed Sparse Row format>"
            ]
          },
          "metadata": {
            "tags": []
          },
          "execution_count": 12
        }
      ]
    },
    {
      "cell_type": "code",
      "metadata": {
        "id": "6TmSX73jDEJS"
      },
      "source": [
        "likelihood = []\n",
        "n_clusters = []"
      ],
      "execution_count": 13,
      "outputs": []
    },
    {
      "cell_type": "code",
      "metadata": {
        "id": "z9uTcUJlDHT0"
      },
      "source": [
        "import seaborn as sns\n",
        "from sklearn.decomposition import LatentDirichletAllocation as LDA"
      ],
      "execution_count": 14,
      "outputs": []
    },
    {
      "cell_type": "code",
      "metadata": {
        "id": "Hki6oWR0DLwb"
      },
      "source": [
        "def estimate_number_clusters(data, nclusters):\n",
        " for n in nclusters:\n",
        "   likelihood.append(LDA(n_components=n, n_jobs=-1).fit(data).score(data))\n",
        " n_clusters.append(n)\n",
        " print(\"Sccesfully estimated \", n)\n",
        " fig, ax = plt.subplots(figsize=(15, 5))\n",
        " sns.lineplot(x=n_clusters, y=likelihood, ax=ax)\n",
        " ax.set_title('Elbow method for choosing n, likelihood')\n",
        " ax.set_ylabel('Likelihood')\n",
        " ax.set_xlabel('n')\n",
        "\n",
        "\n"
      ],
      "execution_count": 15,
      "outputs": []
    },
    {
      "cell_type": "code",
      "metadata": {
        "id": "_CBG_y1fJszZ"
      },
      "source": [
        "# estimate_number_clusters(count_data, [10, 15, 20, 50])\n",
        " \n",
        " "
      ],
      "execution_count": 16,
      "outputs": []
    },
    {
      "cell_type": "code",
      "metadata": {
        "id": "_XNMixjQJuYE"
      },
      "source": [
        "def print_topics(model, count_vectorizer, n_top_words):\n",
        "  words = count_vectorizer.get_feature_names()\n",
        "  for topic_idx, topic in enumerate(model.components_):\n",
        "    print(\"\\nTopic #%d:\" % topic_idx)\n",
        "    print(\" \".join([words[i]\n",
        "  for i in topic.argsort()[:-n_top_words - 1:-1]]))"
      ],
      "execution_count": 17,
      "outputs": []
    },
    {
      "cell_type": "code",
      "metadata": {
        "id": "Ugizp_hhFpzm"
      },
      "source": [
        "from sklearn.decomposition import LatentDirichletAllocation as LDA\n"
      ],
      "execution_count": 18,
      "outputs": []
    },
    {
      "cell_type": "code",
      "metadata": {
        "colab": {
          "base_uri": "https://localhost:8080/"
        },
        "id": "oWtTkYX1Ftia",
        "outputId": "5370c8ce-3e64-4e4f-c08a-9a90577261ec"
      },
      "source": [
        "number_topics = 80\n",
        "number_words = 10\n",
        "# Create and fit the LDA model\n",
        "lda = LDA(n_components=number_topics, n_jobs=-1)\n",
        "lda.fit(count_data)\n",
        "# Print the topics found by the LDA model\n",
        "#print(\"Topics found via LDA:\")\n",
        "#print_topics(lda, count_vectorizer, number_words)"
      ],
      "execution_count": 20,
      "outputs": [
        {
          "output_type": "execute_result",
          "data": {
            "text/plain": [
              "LatentDirichletAllocation(batch_size=128, doc_topic_prior=None,\n",
              "                          evaluate_every=-1, learning_decay=0.7,\n",
              "                          learning_method='batch', learning_offset=10.0,\n",
              "                          max_doc_update_iter=100, max_iter=10,\n",
              "                          mean_change_tol=0.001, n_components=80, n_jobs=-1,\n",
              "                          perp_tol=0.1, random_state=None,\n",
              "                          topic_word_prior=None, total_samples=1000000.0,\n",
              "                          verbose=0)"
            ]
          },
          "metadata": {
            "tags": []
          },
          "execution_count": 20
        }
      ]
    },
    {
      "cell_type": "code",
      "metadata": {
        "colab": {
          "base_uri": "https://localhost:8080/",
          "height": 198
        },
        "id": "LrPaQEiuGRt3",
        "outputId": "a9d1091a-90fe-471c-96b0-ba04db0f9506"
      },
      "source": [
        "cluster_probabilities = lda.transform(count_data)\n",
        "data_processed['target'] = np.argmax(cluster_probabilities, axis=1)\n",
        "data_processed.head()"
      ],
      "execution_count": 21,
      "outputs": [
        {
          "output_type": "execute_result",
          "data": {
            "text/html": [
              "<div>\n",
              "<style scoped>\n",
              "    .dataframe tbody tr th:only-of-type {\n",
              "        vertical-align: middle;\n",
              "    }\n",
              "\n",
              "    .dataframe tbody tr th {\n",
              "        vertical-align: top;\n",
              "    }\n",
              "\n",
              "    .dataframe thead th {\n",
              "        text-align: right;\n",
              "    }\n",
              "</style>\n",
              "<table border=\"1\" class=\"dataframe\">\n",
              "  <thead>\n",
              "    <tr style=\"text-align: right;\">\n",
              "      <th></th>\n",
              "      <th>content</th>\n",
              "      <th>target</th>\n",
              "    </tr>\n",
              "  </thead>\n",
              "  <tbody>\n",
              "    <tr>\n",
              "      <th>0</th>\n",
              "      <td>lerxst thing subject nntp post host organ univ...</td>\n",
              "      <td>0</td>\n",
              "    </tr>\n",
              "    <tr>\n",
              "      <th>1</th>\n",
              "      <td>guykuo carson washington subject clock poll fi...</td>\n",
              "      <td>30</td>\n",
              "    </tr>\n",
              "    <tr>\n",
              "      <th>2</th>\n",
              "      <td>twilli purdu thoma willi subject question orga...</td>\n",
              "      <td>51</td>\n",
              "    </tr>\n",
              "    <tr>\n",
              "      <th>3</th>\n",
              "      <td>jgreen amber green subject weitek organ harri ...</td>\n",
              "      <td>18</td>\n",
              "    </tr>\n",
              "    <tr>\n",
              "      <th>4</th>\n",
              "      <td>head harvard jonathan mcdowel subject shuttl l...</td>\n",
              "      <td>5</td>\n",
              "    </tr>\n",
              "  </tbody>\n",
              "</table>\n",
              "</div>"
            ],
            "text/plain": [
              "                                             content  target\n",
              "0  lerxst thing subject nntp post host organ univ...       0\n",
              "1  guykuo carson washington subject clock poll fi...      30\n",
              "2  twilli purdu thoma willi subject question orga...      51\n",
              "3  jgreen amber green subject weitek organ harri ...      18\n",
              "4  head harvard jonathan mcdowel subject shuttl l...       5"
            ]
          },
          "metadata": {
            "tags": []
          },
          "execution_count": 21
        }
      ]
    },
    {
      "cell_type": "code",
      "metadata": {
        "id": "oJNJOHB9GkKP"
      },
      "source": [
        "import seaborn as sns\n"
      ],
      "execution_count": 22,
      "outputs": []
    },
    {
      "cell_type": "code",
      "metadata": {
        "colab": {
          "base_uri": "https://localhost:8080/",
          "height": 595
        },
        "id": "At3W9AMVGnga",
        "outputId": "c300a427-eab0-42c1-bee6-79d0018623d4"
      },
      "source": [
        "fig, ax = plt.subplots(figsize=(20, 10))\n",
        "sns.countplot(x=data_processed.target);\n",
        "ax.set_title(\"Number of articles that correspond to the topic\");\n"
      ],
      "execution_count": 23,
      "outputs": [
        {
          "output_type": "display_data",
          "data": {
            "image/png": "[encoded data removed]",
            "text/plain": [
              "<Figure size 1440x720 with 1 Axes>"
            ]
          },
          "metadata": {
            "tags": [],
            "needs_background": "light"
          }
        }
      ]
    },
    {
      "cell_type": "code",
      "metadata": {
        "id": "kJ07JMrCRAYx",
        "colab": {
          "base_uri": "https://localhost:8080/"
        },
        "outputId": "96e627f1-ac8c-4b24-a7e9-517a60b420f1"
      },
      "source": [
        "#Loading the data set - training data.\n",
        "from sklearn.datasets import fetch_20newsgroups\n",
        "mydata_train = fetch_20newsgroups(subset='train', shuffle=True, remove = ('headers', 'footers', 'quotes'))"
      ],
      "execution_count": 24,
      "outputs": [
        {
          "output_type": "stream",
          "text": [
            "Downloading 20news dataset. This may take a few minutes.\n",
            "Downloading dataset from https://ndownloader.figshare.com/files/5975967 (14 MB)\n"
          ],
          "name": "stderr"
        }
      ]
    },
    {
      "cell_type": "code",
      "metadata": {
        "colab": {
          "base_uri": "https://localhost:8080/"
        },
        "id": "Bpyae_wBRHIU",
        "outputId": "7680fea0-83b2-4338-b6e0-71791b6c8b00"
      },
      "source": [
        "list(mydata_train)\n"
      ],
      "execution_count": 25,
      "outputs": [
        {
          "output_type": "execute_result",
          "data": {
            "text/plain": [
              "['data', 'filenames', 'target_names', 'target', 'DESCR']"
            ]
          },
          "metadata": {
            "tags": []
          },
          "execution_count": 25
        }
      ]
    },
    {
      "cell_type": "code",
      "metadata": {
        "colab": {
          "base_uri": "https://localhost:8080/"
        },
        "id": "WsmrhUPeRJ9l",
        "outputId": "00884534-f8c2-41b4-a673-06f7ea365604"
      },
      "source": [
        "print('Training data size:', len(mydata_train['data']))\n"
      ],
      "execution_count": 26,
      "outputs": [
        {
          "output_type": "stream",
          "text": [
            "Training data size: 11314\n"
          ],
          "name": "stdout"
        }
      ]
    },
    {
      "cell_type": "code",
      "metadata": {
        "colab": {
          "base_uri": "https://localhost:8080/"
        },
        "id": "Nv1WrOdSRONT",
        "outputId": "93d21556-7d60-4f41-d4ac-dd73192d48a9"
      },
      "source": [
        "# Printing all the categories\n",
        "mydata_train.target_names"
      ],
      "execution_count": 27,
      "outputs": [
        {
          "output_type": "execute_result",
          "data": {
            "text/plain": [
              "['alt.atheism',\n",
              " 'comp.graphics',\n",
              " 'comp.os.ms-windows.misc',\n",
              " 'comp.sys.ibm.pc.hardware',\n",
              " 'comp.sys.mac.hardware',\n",
              " 'comp.windows.x',\n",
              " 'misc.forsale',\n",
              " 'rec.autos',\n",
              " 'rec.motorcycles',\n",
              " 'rec.sport.baseball',\n",
              " 'rec.sport.hockey',\n",
              " 'sci.crypt',\n",
              " 'sci.electronics',\n",
              " 'sci.med',\n",
              " 'sci.space',\n",
              " 'soc.religion.christian',\n",
              " 'talk.politics.guns',\n",
              " 'talk.politics.mideast',\n",
              " 'talk.politics.misc',\n",
              " 'talk.religion.misc']"
            ]
          },
          "metadata": {
            "tags": []
          },
          "execution_count": 27
        }
      ]
    },
    {
      "cell_type": "code",
      "metadata": {
        "colab": {
          "base_uri": "https://localhost:8080/"
        },
        "id": "krZedPVlRRxL",
        "outputId": "275a8a33-5b54-49ae-b592-d9aa4211887f"
      },
      "source": [
        "\n",
        "# Finding frequency of each category\n",
        "targets, frequency = np.unique(mydata_train.target, return_counts=True)\n",
        "targets, frequency"
      ],
      "execution_count": 28,
      "outputs": [
        {
          "output_type": "execute_result",
          "data": {
            "text/plain": [
              "(array([ 0,  1,  2,  3,  4,  5,  6,  7,  8,  9, 10, 11, 12, 13, 14, 15, 16,\n",
              "        17, 18, 19]),\n",
              " array([480, 584, 591, 590, 578, 593, 585, 594, 598, 597, 600, 595, 591,\n",
              "        594, 593, 599, 546, 564, 465, 377]))"
            ]
          },
          "metadata": {
            "tags": []
          },
          "execution_count": 28
        }
      ]
    },
    {
      "cell_type": "code",
      "metadata": {
        "colab": {
          "base_uri": "https://localhost:8080/"
        },
        "id": "lSr8qhRVRWTb",
        "outputId": "2a18b1d8-a106-48de-acba-ecb3821ba2f2"
      },
      "source": [
        "targets_str = np.array(mydata_train.target_names)\n",
        "print(list(zip(targets_str, frequency)))"
      ],
      "execution_count": 29,
      "outputs": [
        {
          "output_type": "stream",
          "text": [
            "[('alt.atheism', 480), ('comp.graphics', 584), ('comp.os.ms-windows.misc', 591), ('comp.sys.ibm.pc.hardware', 590), ('comp.sys.mac.hardware', 578), ('comp.windows.x', 593), ('misc.forsale', 585), ('rec.autos', 594), ('rec.motorcycles', 598), ('rec.sport.baseball', 597), ('rec.sport.hockey', 600), ('sci.crypt', 595), ('sci.electronics', 591), ('sci.med', 594), ('sci.space', 593), ('soc.religion.christian', 599), ('talk.politics.guns', 546), ('talk.politics.mideast', 564), ('talk.politics.misc', 465), ('talk.religion.misc', 377)]\n"
          ],
          "name": "stdout"
        }
      ]
    },
    {
      "cell_type": "code",
      "metadata": {
        "id": "1pZ_KnVPRZSm"
      },
      "source": [
        "mydata_test = fetch_20newsgroups(subset='test', shuffle=True, remove = ('headers', 'footers', 'quotes'))\n"
      ],
      "execution_count": 30,
      "outputs": []
    },
    {
      "cell_type": "code",
      "metadata": {
        "colab": {
          "base_uri": "https://localhost:8080/"
        },
        "id": "IEcSYoJmRcUc",
        "outputId": "11846a44-586f-477a-edcc-b07017ca13c9"
      },
      "source": [
        "print('Testing data size:', len(mydata_test['data']))\n"
      ],
      "execution_count": 31,
      "outputs": [
        {
          "output_type": "stream",
          "text": [
            "Testing data size: 7532\n"
          ],
          "name": "stdout"
        }
      ]
    },
    {
      "cell_type": "code",
      "metadata": {
        "colab": {
          "base_uri": "https://localhost:8080/",
          "height": 198
        },
        "id": "_aSKch0QRf_o",
        "outputId": "8625f6cb-7d83-4cc6-8240-7ff2ffaf42db"
      },
      "source": [
        "mydata_train_df = pd.DataFrame({'data': mydata_train.data, 'target': mydata_train.target})\n",
        "mydata_train_df.head()"
      ],
      "execution_count": 32,
      "outputs": [
        {
          "output_type": "execute_result",
          "data": {
            "text/html": [
              "<div>\n",
              "<style scoped>\n",
              "    .dataframe tbody tr th:only-of-type {\n",
              "        vertical-align: middle;\n",
              "    }\n",
              "\n",
              "    .dataframe tbody tr th {\n",
              "        vertical-align: top;\n",
              "    }\n",
              "\n",
              "    .dataframe thead th {\n",
              "        text-align: right;\n",
              "    }\n",
              "</style>\n",
              "<table border=\"1\" class=\"dataframe\">\n",
              "  <thead>\n",
              "    <tr style=\"text-align: right;\">\n",
              "      <th></th>\n",
              "      <th>data</th>\n",
              "      <th>target</th>\n",
              "    </tr>\n",
              "  </thead>\n",
              "  <tbody>\n",
              "    <tr>\n",
              "      <th>0</th>\n",
              "      <td>I was wondering if anyone out there could enli...</td>\n",
              "      <td>7</td>\n",
              "    </tr>\n",
              "    <tr>\n",
              "      <th>1</th>\n",
              "      <td>A fair number of brave souls who upgraded thei...</td>\n",
              "      <td>4</td>\n",
              "    </tr>\n",
              "    <tr>\n",
              "      <th>2</th>\n",
              "      <td>well folks, my mac plus finally gave up the gh...</td>\n",
              "      <td>4</td>\n",
              "    </tr>\n",
              "    <tr>\n",
              "      <th>3</th>\n",
              "      <td>\\nDo you have Weitek's address/phone number?  ...</td>\n",
              "      <td>1</td>\n",
              "    </tr>\n",
              "    <tr>\n",
              "      <th>4</th>\n",
              "      <td>From article &lt;C5owCB.n3p@world.std.com&gt;, by to...</td>\n",
              "      <td>14</td>\n",
              "    </tr>\n",
              "  </tbody>\n",
              "</table>\n",
              "</div>"
            ],
            "text/plain": [
              "                                                data  target\n",
              "0  I was wondering if anyone out there could enli...       7\n",
              "1  A fair number of brave souls who upgraded thei...       4\n",
              "2  well folks, my mac plus finally gave up the gh...       4\n",
              "3  \\nDo you have Weitek's address/phone number?  ...       1\n",
              "4  From article <C5owCB.n3p@world.std.com>, by to...      14"
            ]
          },
          "metadata": {
            "tags": []
          },
          "execution_count": 32
        }
      ]
    },
    {
      "cell_type": "code",
      "metadata": {
        "colab": {
          "base_uri": "https://localhost:8080/",
          "height": 198
        },
        "id": "ttru-cT7Rj9K",
        "outputId": "fbb51c82-1bf1-4fbf-81ec-eb911369a0fa"
      },
      "source": [
        "# Text preprocessing steps - remove numbers, captial letters and punctuation\n",
        "import re\n",
        "import string\n",
        "\n",
        "alphanumeric = lambda x: re.sub(r\"\"\"\\w*\\d\\w*\"\"\", ' ', x)\n",
        "punc_lower = lambda x: re.sub('[%s]' % re.escape(string.punctuation), ' ', x.lower())\n",
        "\n",
        "mydata_train_df['data'] = mydata_train_df.data.map(alphanumeric).map(punc_lower)\n",
        "mydata_train_df.head()"
      ],
      "execution_count": 33,
      "outputs": [
        {
          "output_type": "execute_result",
          "data": {
            "text/html": [
              "<div>\n",
              "<style scoped>\n",
              "    .dataframe tbody tr th:only-of-type {\n",
              "        vertical-align: middle;\n",
              "    }\n",
              "\n",
              "    .dataframe tbody tr th {\n",
              "        vertical-align: top;\n",
              "    }\n",
              "\n",
              "    .dataframe thead th {\n",
              "        text-align: right;\n",
              "    }\n",
              "</style>\n",
              "<table border=\"1\" class=\"dataframe\">\n",
              "  <thead>\n",
              "    <tr style=\"text-align: right;\">\n",
              "      <th></th>\n",
              "      <th>data</th>\n",
              "      <th>target</th>\n",
              "    </tr>\n",
              "  </thead>\n",
              "  <tbody>\n",
              "    <tr>\n",
              "      <th>0</th>\n",
              "      <td>i was wondering if anyone out there could enli...</td>\n",
              "      <td>7</td>\n",
              "    </tr>\n",
              "    <tr>\n",
              "      <th>1</th>\n",
              "      <td>a fair number of brave souls who upgraded thei...</td>\n",
              "      <td>4</td>\n",
              "    </tr>\n",
              "    <tr>\n",
              "      <th>2</th>\n",
              "      <td>well folks  my mac plus finally gave up the gh...</td>\n",
              "      <td>4</td>\n",
              "    </tr>\n",
              "    <tr>\n",
              "      <th>3</th>\n",
              "      <td>\\ndo you have weitek s address phone number   ...</td>\n",
              "      <td>1</td>\n",
              "    </tr>\n",
              "    <tr>\n",
              "      <th>4</th>\n",
              "      <td>from article      world std com   by tombaker ...</td>\n",
              "      <td>14</td>\n",
              "    </tr>\n",
              "  </tbody>\n",
              "</table>\n",
              "</div>"
            ],
            "text/plain": [
              "                                                data  target\n",
              "0  i was wondering if anyone out there could enli...       7\n",
              "1  a fair number of brave souls who upgraded thei...       4\n",
              "2  well folks  my mac plus finally gave up the gh...       4\n",
              "3  \\ndo you have weitek s address phone number   ...       1\n",
              "4  from article      world std com   by tombaker ...      14"
            ]
          },
          "metadata": {
            "tags": []
          },
          "execution_count": 33
        }
      ]
    },
    {
      "cell_type": "code",
      "metadata": {
        "colab": {
          "base_uri": "https://localhost:8080/",
          "height": 198
        },
        "id": "8f6jlH07RoBH",
        "outputId": "ce66b489-1d35-4e2f-c688-2ffbc5376d0c"
      },
      "source": [
        "mydata_test_df = pd.DataFrame({'data': mydata_test.data, 'target': mydata_test.target})\n",
        "mydata_test_df.head()"
      ],
      "execution_count": 34,
      "outputs": [
        {
          "output_type": "execute_result",
          "data": {
            "text/html": [
              "<div>\n",
              "<style scoped>\n",
              "    .dataframe tbody tr th:only-of-type {\n",
              "        vertical-align: middle;\n",
              "    }\n",
              "\n",
              "    .dataframe tbody tr th {\n",
              "        vertical-align: top;\n",
              "    }\n",
              "\n",
              "    .dataframe thead th {\n",
              "        text-align: right;\n",
              "    }\n",
              "</style>\n",
              "<table border=\"1\" class=\"dataframe\">\n",
              "  <thead>\n",
              "    <tr style=\"text-align: right;\">\n",
              "      <th></th>\n",
              "      <th>data</th>\n",
              "      <th>target</th>\n",
              "    </tr>\n",
              "  </thead>\n",
              "  <tbody>\n",
              "    <tr>\n",
              "      <th>0</th>\n",
              "      <td>I am a little confused on all of the models of...</td>\n",
              "      <td>7</td>\n",
              "    </tr>\n",
              "    <tr>\n",
              "      <th>1</th>\n",
              "      <td>I'm not familiar at all with the format of the...</td>\n",
              "      <td>5</td>\n",
              "    </tr>\n",
              "    <tr>\n",
              "      <th>2</th>\n",
              "      <td>\\nIn a word, yes.\\n</td>\n",
              "      <td>0</td>\n",
              "    </tr>\n",
              "    <tr>\n",
              "      <th>3</th>\n",
              "      <td>\\nThey were attacking the Iraqis to drive them...</td>\n",
              "      <td>17</td>\n",
              "    </tr>\n",
              "    <tr>\n",
              "      <th>4</th>\n",
              "      <td>\\nI've just spent two solid months arguing tha...</td>\n",
              "      <td>19</td>\n",
              "    </tr>\n",
              "  </tbody>\n",
              "</table>\n",
              "</div>"
            ],
            "text/plain": [
              "                                                data  target\n",
              "0  I am a little confused on all of the models of...       7\n",
              "1  I'm not familiar at all with the format of the...       5\n",
              "2                                \\nIn a word, yes.\\n       0\n",
              "3  \\nThey were attacking the Iraqis to drive them...      17\n",
              "4  \\nI've just spent two solid months arguing tha...      19"
            ]
          },
          "metadata": {
            "tags": []
          },
          "execution_count": 34
        }
      ]
    },
    {
      "cell_type": "code",
      "metadata": {
        "colab": {
          "base_uri": "https://localhost:8080/",
          "height": 198
        },
        "id": "tUjU5KP5RrlP",
        "outputId": "03f4be96-1801-4b4b-ec82-22a0b857ee00"
      },
      "source": [
        "# Text preprocessing steps - remove numbers, captial letters and punctuation\n",
        "alphanumeric = lambda x: re.sub(r\"\"\"\\w*\\d\\w*\"\"\", ' ', x)\n",
        "punc_lower = lambda x: re.sub('[%s]' % re.escape(string.punctuation), ' ', x.lower())\n",
        "\n",
        "mydata_test_df['data'] = mydata_test_df.data.map(alphanumeric).map(punc_lower)\n",
        "mydata_test_df.head()"
      ],
      "execution_count": 35,
      "outputs": [
        {
          "output_type": "execute_result",
          "data": {
            "text/html": [
              "<div>\n",
              "<style scoped>\n",
              "    .dataframe tbody tr th:only-of-type {\n",
              "        vertical-align: middle;\n",
              "    }\n",
              "\n",
              "    .dataframe tbody tr th {\n",
              "        vertical-align: top;\n",
              "    }\n",
              "\n",
              "    .dataframe thead th {\n",
              "        text-align: right;\n",
              "    }\n",
              "</style>\n",
              "<table border=\"1\" class=\"dataframe\">\n",
              "  <thead>\n",
              "    <tr style=\"text-align: right;\">\n",
              "      <th></th>\n",
              "      <th>data</th>\n",
              "      <th>target</th>\n",
              "    </tr>\n",
              "  </thead>\n",
              "  <tbody>\n",
              "    <tr>\n",
              "      <th>0</th>\n",
              "      <td>i am a little confused on all of the models of...</td>\n",
              "      <td>7</td>\n",
              "    </tr>\n",
              "    <tr>\n",
              "      <th>1</th>\n",
              "      <td>i m not familiar at all with the format of the...</td>\n",
              "      <td>5</td>\n",
              "    </tr>\n",
              "    <tr>\n",
              "      <th>2</th>\n",
              "      <td>\\nin a word  yes \\n</td>\n",
              "      <td>0</td>\n",
              "    </tr>\n",
              "    <tr>\n",
              "      <th>3</th>\n",
              "      <td>\\nthey were attacking the iraqis to drive them...</td>\n",
              "      <td>17</td>\n",
              "    </tr>\n",
              "    <tr>\n",
              "      <th>4</th>\n",
              "      <td>\\ni ve just spent two solid months arguing tha...</td>\n",
              "      <td>19</td>\n",
              "    </tr>\n",
              "  </tbody>\n",
              "</table>\n",
              "</div>"
            ],
            "text/plain": [
              "                                                data  target\n",
              "0  i am a little confused on all of the models of...       7\n",
              "1  i m not familiar at all with the format of the...       5\n",
              "2                                \\nin a word  yes \\n       0\n",
              "3  \\nthey were attacking the iraqis to drive them...      17\n",
              "4  \\ni ve just spent two solid months arguing tha...      19"
            ]
          },
          "metadata": {
            "tags": []
          },
          "execution_count": 35
        }
      ]
    },
    {
      "cell_type": "code",
      "metadata": {
        "colab": {
          "base_uri": "https://localhost:8080/"
        },
        "id": "yUELDX2-bNNg",
        "outputId": "06fbd3c3-ec70-4129-c6bf-353d2157b262"
      },
      "source": [
        "# Extracting features from text files\n",
        "from sklearn.feature_extraction.text import CountVectorizer\n",
        "count_vect = CountVectorizer(stop_words='english')\n",
        "X_train_cv = count_vect.fit_transform(mydata_train_df.data) # fit_transform learns the\n",
        "X_test_cv = count_vect.transform(mydata_test_df.data) # transform uses the same vocab an\n",
        "print(X_train_cv.shape)\n",
        "print(type(X_train_cv))"
      ],
      "execution_count": 36,
      "outputs": [
        {
          "output_type": "stream",
          "text": [
            "(11314, 67822)\n",
            "<class 'scipy.sparse.csr.csr_matrix'>\n"
          ],
          "name": "stdout"
        }
      ]
    },
    {
      "cell_type": "code",
      "metadata": {
        "id": "cRUtZ9-VAkiY"
      },
      "source": [
        "import numpy as np\n",
        "\n",
        "from tqdm import tqdm\n",
        "\n",
        "from sklearn.datasets import fetch_20newsgroups\n",
        "\n",
        "from keras.preprocessing.text import Tokenizer\n",
        "from keras.preprocessing.sequence import pad_sequences\n",
        "from keras.utils.np_utils import to_categorical\n",
        "from keras.layers import Dense, Input, Flatten\n",
        "from keras.layers import Conv1D, MaxPooling1D, Embedding, Dropout\n",
        "from keras.models import Model"
      ],
      "execution_count": 37,
      "outputs": []
    },
    {
      "cell_type": "code",
      "metadata": {
        "colab": {
          "base_uri": "https://localhost:8080/"
        },
        "id": "4Oz3FjnHAqOw",
        "outputId": "df5bf2a7-440a-41fa-d620-f6abec65f394"
      },
      "source": [
        "categories = ['alt.atheism', 'soc.religion.christian'] \n",
        "\n",
        "newsgroups_train = fetch_20newsgroups(subset='train', shuffle=True, \n",
        "                                      categories=categories,)\n",
        "\n",
        "print (newsgroups_train.target_names)\n",
        "print (len(newsgroups_train.data))\n",
        "\n",
        "#print (newsgroups_train.data[1])\n",
        "print(\"\\n\".join(newsgroups_train.data[0].split(\"\\n\")[10:15]))"
      ],
      "execution_count": 38,
      "outputs": [
        {
          "output_type": "stream",
          "text": [
            "['alt.atheism', 'soc.religion.christian']\n",
            "1079\n",
            "   WASHINGTON, April 19  -- A symposium on the Dead Sea \n",
            "Scrolls will be held at the Library of Congress on Wednesday,\n",
            "April 21, and Thursday, April 22.  The two-day program, cosponsored\n",
            "by the library and Baltimore Hebrew University, with additional\n",
            "support from the Project Judaica Foundation, will be held in the\n"
          ],
          "name": "stdout"
        }
      ]
    },
    {
      "cell_type": "code",
      "metadata": {
        "colab": {
          "base_uri": "https://localhost:8080/"
        },
        "id": "I9VVEyQWAu6m",
        "outputId": "3c29219b-8021-4e41-8a73-6d0fd8b17f41"
      },
      "source": [
        "%%time\n",
        "\n",
        "texts = []\n",
        "\n",
        "labels=newsgroups_train.target\n",
        "texts = newsgroups_train.data\n",
        "\n",
        "MAX_SEQUENCE_LENGTH = 1000\n",
        "MAX_NB_WORDS = 20000\n",
        "\n",
        "tokenizer = Tokenizer(num_words=MAX_NB_WORDS)\n",
        "tokenizer.fit_on_texts(texts)\n",
        "\n",
        "sequences = tokenizer.texts_to_sequences(texts)\n",
        "\n",
        "print (sequences[0][:10])"
      ],
      "execution_count": 39,
      "outputs": [
        {
          "output_type": "stream",
          "text": [
            "[19, 8762, 3621, 11894, 58, 8762, 3621, 43, 1472, 2]\n",
            "CPU times: user 448 ms, sys: 7.02 ms, total: 455 ms\n",
            "Wall time: 456 ms\n"
          ],
          "name": "stdout"
        }
      ]
    },
    {
      "cell_type": "code",
      "metadata": {
        "colab": {
          "base_uri": "https://localhost:8080/"
        },
        "id": "8C-jZJV1Ay0E",
        "outputId": "16568c9e-c3e6-4a9c-b66d-7d120a8500d6"
      },
      "source": [
        "word_index = tokenizer.word_index\n",
        "\n",
        "print('Found %s unique tokens.' % len(word_index))"
      ],
      "execution_count": 40,
      "outputs": [
        {
          "output_type": "stream",
          "text": [
            "Found 20030 unique tokens.\n"
          ],
          "name": "stdout"
        }
      ]
    },
    {
      "cell_type": "code",
      "metadata": {
        "colab": {
          "base_uri": "https://localhost:8080/"
        },
        "id": "I3leeqbJA1-q",
        "outputId": "d0a7e8de-a564-4141-d9df-f0fefc49a687"
      },
      "source": [
        "data = pad_sequences(sequences, maxlen=MAX_SEQUENCE_LENGTH)\n",
        "\n",
        "print (data.shape)\n",
        "print (data[0][200:250])"
      ],
      "execution_count": 41,
      "outputs": [
        {
          "output_type": "stream",
          "text": [
            "(1079, 1000)\n",
            "[    0     0     0     0     0     0     0     0     0     0     0     0\n",
            "     0     0     0     0     0     0     0     0     0     0     0     0\n",
            "     0     0     0     0     0    19  8762  3621 11894    58  8762  3621\n",
            "    43  1472     2  2130     3   189   450  1001  3622  2980  1682   476\n",
            "   627    50]\n"
          ],
          "name": "stdout"
        }
      ]
    },
    {
      "cell_type": "code",
      "metadata": {
        "colab": {
          "base_uri": "https://localhost:8080/"
        },
        "id": "TATKrjgmA6lK",
        "outputId": "526ff8e5-94dd-4e09-cad1-93bcb720f689"
      },
      "source": [
        "labels = to_categorical(np.array(labels))\n",
        "\n",
        "print('Shape of data tensor:', data.shape)\n",
        "print('Shape of label tensor:', labels.shape)"
      ],
      "execution_count": 42,
      "outputs": [
        {
          "output_type": "stream",
          "text": [
            "Shape of data tensor: (1079, 1000)\n",
            "Shape of label tensor: (1079, 2)\n"
          ],
          "name": "stdout"
        }
      ]
    },
    {
      "cell_type": "code",
      "metadata": {
        "colab": {
          "base_uri": "https://localhost:8080/"
        },
        "id": "tKD1nppNA_cG",
        "outputId": "0c01fedd-030a-4d26-999f-0c7dd0f8568a"
      },
      "source": [
        "VALIDATION_SPLIT = 0.1\n",
        "\n",
        "indices = np.arange(data.shape[0])\n",
        "np.random.shuffle(indices) \n",
        "data = data[indices] \n",
        "labels = labels[indices] \n",
        "nb_validation_samples = int(VALIDATION_SPLIT * data.shape[0])\n",
        "\n",
        "x_train = data[:-nb_validation_samples] \n",
        "y_train = labels[:-nb_validation_samples] \n",
        "x_val = data[-nb_validation_samples:] \n",
        "y_val = labels[-nb_validation_samples:] \n",
        "\n",
        "print (x_train.shape)\n",
        "print (y_train.shape)\n",
        "\n",
        "print('Number of positive and negative reviews in traing and validation set ') \n",
        "print (y_train.sum(axis=0))\n",
        "print (y_val.sum(axis=0))\n"
      ],
      "execution_count": 43,
      "outputs": [
        {
          "output_type": "stream",
          "text": [
            "(972, 1000)\n",
            "(972, 2)\n",
            "Number of positive and negative reviews in traing and validation set \n",
            "[438. 534.]\n",
            "[42. 65.]\n"
          ],
          "name": "stdout"
        }
      ]
    },
    {
      "cell_type": "code",
      "metadata": {
        "colab": {
          "base_uri": "https://localhost:8080/",
          "height": 244
        },
        "id": "1jN7GicoBSkh",
        "outputId": "122704fe-d0f3-4362-ff37-bd199d7807b5"
      },
      "source": [
        "EMBEDDING_DIM = 100\n",
        "\n",
        "embedding_matrix = np.random.random((len(word_index) + 1, EMBEDDING_DIM))\n",
        "\n",
        "for word, i in word_index.items():\n",
        "  embedding_vector = embeddings_index.get(word)\n",
        "  if embedding_vector is not None:\n",
        "    # words not found in embedding index will be all-zeros.\n",
        "    embedding_matrix[i] = embedding_vector\n",
        "\n",
        "print (embedding_matrix.shape)\n",
        "\n",
        "print (embedding_matrix[0][:10])"
      ],
      "execution_count": 44,
      "outputs": [
        {
          "output_type": "error",
          "ename": "NameError",
          "evalue": "ignored",
          "traceback": [
            "\u001b[0;31m---------------------------------------------------------------------------\u001b[0m",
            "\u001b[0;31mNameError\u001b[0m                                 Traceback (most recent call last)",
            "\u001b[0;32m<ipython-input-44-6fb53264530f>\u001b[0m in \u001b[0;36m<module>\u001b[0;34m()\u001b[0m\n\u001b[1;32m      4\u001b[0m \u001b[0;34m\u001b[0m\u001b[0m\n\u001b[1;32m      5\u001b[0m \u001b[0;32mfor\u001b[0m \u001b[0mword\u001b[0m\u001b[0;34m,\u001b[0m \u001b[0mi\u001b[0m \u001b[0;32min\u001b[0m \u001b[0mword_index\u001b[0m\u001b[0;34m.\u001b[0m\u001b[0mitems\u001b[0m\u001b[0;34m(\u001b[0m\u001b[0;34m)\u001b[0m\u001b[0;34m:\u001b[0m\u001b[0;34m\u001b[0m\u001b[0;34m\u001b[0m\u001b[0m\n\u001b[0;32m----> 6\u001b[0;31m   \u001b[0membedding_vector\u001b[0m \u001b[0;34m=\u001b[0m \u001b[0membeddings_index\u001b[0m\u001b[0;34m.\u001b[0m\u001b[0mget\u001b[0m\u001b[0;34m(\u001b[0m\u001b[0mword\u001b[0m\u001b[0;34m)\u001b[0m\u001b[0;34m\u001b[0m\u001b[0;34m\u001b[0m\u001b[0m\n\u001b[0m\u001b[1;32m      7\u001b[0m   \u001b[0;32mif\u001b[0m \u001b[0membedding_vector\u001b[0m \u001b[0;32mis\u001b[0m \u001b[0;32mnot\u001b[0m \u001b[0;32mNone\u001b[0m\u001b[0;34m:\u001b[0m\u001b[0;34m\u001b[0m\u001b[0;34m\u001b[0m\u001b[0m\n\u001b[1;32m      8\u001b[0m     \u001b[0;31m# words not found in embedding index will be all-zeros.\u001b[0m\u001b[0;34m\u001b[0m\u001b[0;34m\u001b[0m\u001b[0;34m\u001b[0m\u001b[0m\n",
            "\u001b[0;31mNameError\u001b[0m: name 'embeddings_index' is not defined"
          ]
        }
      ]
    },
    {
      "cell_type": "code",
      "metadata": {
        "id": "StT4yPYaBUgr",
        "colab": {
          "base_uri": "https://localhost:8080/"
        },
        "outputId": "3998a154-9e90-448b-8444-4613105c3e55"
      },
      "source": [
        "embedding_layer = Embedding(len(word_index) + 1, EMBEDDING_DIM,\n",
        "                            weights=[embedding_matrix], \n",
        "                            input_length=MAX_SEQUENCE_LENGTH, \n",
        "                            trainable=False)\n",
        "\n",
        "sequence_input = Input(shape=(MAX_SEQUENCE_LENGTH,), dtype='int32') \n",
        "embedded_sequences = embedding_layer(sequence_input) \n",
        "l_cov1= Conv1D(128, 5, activation='relu')(embedded_sequences) \n",
        "l_pool1 = MaxPooling1D(5)(l_cov1) \n",
        "l_cov2 = Conv1D(128, 5, activation='relu')(l_pool1) \n",
        "l_pool2 = MaxPooling1D(5)(l_cov2) \n",
        "l_cov3 = Conv1D(128, 5, activation='relu')(l_pool2) \n",
        "l_pool3 = MaxPooling1D(35)(l_cov3)  # global max pooling\n",
        "\n",
        "l_flat = Flatten()(l_pool3) \n",
        "l_dense = Dense(128, activation='relu')(l_flat) \n",
        "preds = Dense(2, activation='softmax')(l_dense)\n",
        "\n",
        "model = Model(sequence_input, preds)\n",
        "\n",
        "model.summary()"
      ],
      "execution_count": 45,
      "outputs": [
        {
          "output_type": "stream",
          "text": [
            "Model: \"model\"\n",
            "_________________________________________________________________\n",
            "Layer (type)                 Output Shape              Param #   \n",
            "=================================================================\n",
            "input_1 (InputLayer)         [(None, 1000)]            0         \n",
            "_________________________________________________________________\n",
            "embedding (Embedding)        (None, 1000, 100)         2003100   \n",
            "_________________________________________________________________\n",
            "conv1d (Conv1D)              (None, 996, 128)          64128     \n",
            "_________________________________________________________________\n",
            "max_pooling1d (MaxPooling1D) (None, 199, 128)          0         \n",
            "_________________________________________________________________\n",
            "conv1d_1 (Conv1D)            (None, 195, 128)          82048     \n",
            "_________________________________________________________________\n",
            "max_pooling1d_1 (MaxPooling1 (None, 39, 128)           0         \n",
            "_________________________________________________________________\n",
            "conv1d_2 (Conv1D)            (None, 35, 128)           82048     \n",
            "_________________________________________________________________\n",
            "max_pooling1d_2 (MaxPooling1 (None, 1, 128)            0         \n",
            "_________________________________________________________________\n",
            "flatten (Flatten)            (None, 128)               0         \n",
            "_________________________________________________________________\n",
            "dense (Dense)                (None, 128)               16512     \n",
            "_________________________________________________________________\n",
            "dense_1 (Dense)              (None, 2)                 258       \n",
            "=================================================================\n",
            "Total params: 2,248,094\n",
            "Trainable params: 244,994\n",
            "Non-trainable params: 2,003,100\n",
            "_________________________________________________________________\n"
          ],
          "name": "stdout"
        }
      ]
    },
    {
      "cell_type": "code",
      "metadata": {
        "id": "ohWKe6xrBfGj",
        "colab": {
          "base_uri": "https://localhost:8080/"
        },
        "outputId": "9853c89f-9edc-4611-b753-af9e1f2170d9"
      },
      "source": [
        "model.compile(loss='categorical_crossentropy', optimizer='adam',metrics=['acc'])\n",
        "\n",
        "history = model.fit(x_train, y_train, validation_data=(x_val, y_val),\n",
        "                    epochs=500, batch_size=512)   "
      ],
      "execution_count": 46,
      "outputs": [
        {
          "output_type": "stream",
          "text": [
            "Epoch 1/500\n",
            "2/2 [==============================] - 35s 1s/step - loss: 0.8174 - acc: 0.4789 - val_loss: 0.6723 - val_acc: 0.6075\n",
            "Epoch 2/500\n",
            "2/2 [==============================] - 0s 162ms/step - loss: 0.7102 - acc: 0.5116 - val_loss: 0.7135 - val_acc: 0.3925\n",
            "Epoch 3/500\n",
            "2/2 [==============================] - 0s 164ms/step - loss: 0.7015 - acc: 0.4722 - val_loss: 0.6721 - val_acc: 0.6075\n",
            "Epoch 4/500\n",
            "2/2 [==============================] - 0s 165ms/step - loss: 0.6928 - acc: 0.5531 - val_loss: 0.6788 - val_acc: 0.6075\n",
            "Epoch 5/500\n",
            "2/2 [==============================] - 0s 164ms/step - loss: 0.6928 - acc: 0.4968 - val_loss: 0.6947 - val_acc: 0.4953\n",
            "Epoch 6/500\n",
            "2/2 [==============================] - 0s 163ms/step - loss: 0.6913 - acc: 0.5497 - val_loss: 0.6714 - val_acc: 0.6075\n",
            "Epoch 7/500\n",
            "2/2 [==============================] - 0s 162ms/step - loss: 0.6881 - acc: 0.5596 - val_loss: 0.6705 - val_acc: 0.6075\n",
            "Epoch 8/500\n",
            "2/2 [==============================] - 0s 168ms/step - loss: 0.6903 - acc: 0.5440 - val_loss: 0.6865 - val_acc: 0.6075\n",
            "Epoch 9/500\n",
            "2/2 [==============================] - 0s 164ms/step - loss: 0.6882 - acc: 0.5777 - val_loss: 0.6830 - val_acc: 0.6075\n",
            "Epoch 10/500\n",
            "2/2 [==============================] - 0s 161ms/step - loss: 0.6866 - acc: 0.5440 - val_loss: 0.6720 - val_acc: 0.6075\n",
            "Epoch 11/500\n",
            "2/2 [==============================] - 0s 165ms/step - loss: 0.6859 - acc: 0.5472 - val_loss: 0.6694 - val_acc: 0.6075\n",
            "Epoch 12/500\n",
            "2/2 [==============================] - 0s 162ms/step - loss: 0.6860 - acc: 0.5485 - val_loss: 0.6753 - val_acc: 0.6075\n",
            "Epoch 13/500\n",
            "2/2 [==============================] - 0s 160ms/step - loss: 0.6864 - acc: 0.5434 - val_loss: 0.6805 - val_acc: 0.6075\n",
            "Epoch 14/500\n",
            "2/2 [==============================] - 0s 162ms/step - loss: 0.6836 - acc: 0.5525 - val_loss: 0.6698 - val_acc: 0.6075\n",
            "Epoch 15/500\n",
            "2/2 [==============================] - 0s 170ms/step - loss: 0.6833 - acc: 0.5466 - val_loss: 0.6698 - val_acc: 0.6075\n",
            "Epoch 16/500\n",
            "2/2 [==============================] - 0s 162ms/step - loss: 0.6804 - acc: 0.5518 - val_loss: 0.6744 - val_acc: 0.6075\n",
            "Epoch 17/500\n",
            "2/2 [==============================] - 0s 165ms/step - loss: 0.6804 - acc: 0.5520 - val_loss: 0.6748 - val_acc: 0.6075\n",
            "Epoch 18/500\n",
            "2/2 [==============================] - 0s 164ms/step - loss: 0.6789 - acc: 0.5513 - val_loss: 0.6670 - val_acc: 0.6075\n",
            "Epoch 19/500\n",
            "2/2 [==============================] - 0s 164ms/step - loss: 0.6786 - acc: 0.5440 - val_loss: 0.6662 - val_acc: 0.6075\n",
            "Epoch 20/500\n",
            "2/2 [==============================] - 0s 162ms/step - loss: 0.6768 - acc: 0.5481 - val_loss: 0.6680 - val_acc: 0.6262\n",
            "Epoch 21/500\n",
            "2/2 [==============================] - 0s 163ms/step - loss: 0.6729 - acc: 0.5618 - val_loss: 0.6626 - val_acc: 0.6168\n",
            "Epoch 22/500\n",
            "2/2 [==============================] - 0s 166ms/step - loss: 0.6694 - acc: 0.5578 - val_loss: 0.6650 - val_acc: 0.6542\n",
            "Epoch 23/500\n",
            "2/2 [==============================] - 0s 161ms/step - loss: 0.6672 - acc: 0.6086 - val_loss: 0.6596 - val_acc: 0.6542\n",
            "Epoch 24/500\n",
            "2/2 [==============================] - 0s 166ms/step - loss: 0.6618 - acc: 0.6059 - val_loss: 0.6620 - val_acc: 0.7570\n",
            "Epoch 25/500\n",
            "2/2 [==============================] - 0s 168ms/step - loss: 0.6587 - acc: 0.7682 - val_loss: 0.6413 - val_acc: 0.6168\n",
            "Epoch 26/500\n",
            "2/2 [==============================] - 0s 163ms/step - loss: 0.6537 - acc: 0.5624 - val_loss: 0.6601 - val_acc: 0.6636\n",
            "Epoch 27/500\n",
            "2/2 [==============================] - 0s 163ms/step - loss: 0.6503 - acc: 0.7662 - val_loss: 0.6281 - val_acc: 0.6355\n",
            "Epoch 28/500\n",
            "2/2 [==============================] - 0s 165ms/step - loss: 0.6374 - acc: 0.5958 - val_loss: 0.6382 - val_acc: 0.8224\n",
            "Epoch 29/500\n",
            "2/2 [==============================] - 0s 165ms/step - loss: 0.6263 - acc: 0.8331 - val_loss: 0.6070 - val_acc: 0.6729\n",
            "Epoch 30/500\n",
            "2/2 [==============================] - 0s 164ms/step - loss: 0.6157 - acc: 0.7249 - val_loss: 0.5914 - val_acc: 0.7103\n",
            "Epoch 31/500\n",
            "2/2 [==============================] - 0s 163ms/step - loss: 0.6092 - acc: 0.6713 - val_loss: 0.5966 - val_acc: 0.6355\n",
            "Epoch 32/500\n",
            "2/2 [==============================] - 0s 171ms/step - loss: 0.6031 - acc: 0.6895 - val_loss: 0.6062 - val_acc: 0.6542\n",
            "Epoch 33/500\n",
            "2/2 [==============================] - 0s 165ms/step - loss: 0.5786 - acc: 0.7026 - val_loss: 0.5460 - val_acc: 0.7570\n",
            "Epoch 34/500\n",
            "2/2 [==============================] - 0s 162ms/step - loss: 0.5504 - acc: 0.7661 - val_loss: 0.5277 - val_acc: 0.7570\n",
            "Epoch 35/500\n",
            "2/2 [==============================] - 0s 168ms/step - loss: 0.5269 - acc: 0.7617 - val_loss: 0.5493 - val_acc: 0.7477\n",
            "Epoch 36/500\n",
            "2/2 [==============================] - 0s 171ms/step - loss: 0.5128 - acc: 0.8077 - val_loss: 0.4807 - val_acc: 0.8972\n",
            "Epoch 37/500\n",
            "2/2 [==============================] - 0s 162ms/step - loss: 0.4821 - acc: 0.8536 - val_loss: 0.5526 - val_acc: 0.6636\n",
            "Epoch 38/500\n",
            "2/2 [==============================] - 0s 163ms/step - loss: 0.5730 - acc: 0.6542 - val_loss: 0.4380 - val_acc: 0.8972\n",
            "Epoch 39/500\n",
            "2/2 [==============================] - 0s 165ms/step - loss: 0.4353 - acc: 0.8480 - val_loss: 0.4230 - val_acc: 0.9159\n",
            "Epoch 40/500\n",
            "2/2 [==============================] - 0s 164ms/step - loss: 0.4194 - acc: 0.8939 - val_loss: 0.4216 - val_acc: 0.8037\n",
            "Epoch 41/500\n",
            "2/2 [==============================] - 0s 163ms/step - loss: 0.4091 - acc: 0.8113 - val_loss: 0.5270 - val_acc: 0.6542\n",
            "Epoch 42/500\n",
            "2/2 [==============================] - 0s 166ms/step - loss: 0.4635 - acc: 0.7289 - val_loss: 0.3699 - val_acc: 0.8879\n",
            "Epoch 43/500\n",
            "2/2 [==============================] - 0s 168ms/step - loss: 0.3692 - acc: 0.8737 - val_loss: 0.3571 - val_acc: 0.9439\n",
            "Epoch 44/500\n",
            "2/2 [==============================] - 0s 165ms/step - loss: 0.3419 - acc: 0.8932 - val_loss: 0.3298 - val_acc: 0.9346\n",
            "Epoch 45/500\n",
            "2/2 [==============================] - 0s 165ms/step - loss: 0.3354 - acc: 0.9045 - val_loss: 0.3191 - val_acc: 0.8972\n",
            "Epoch 46/500\n",
            "2/2 [==============================] - 0s 174ms/step - loss: 0.3118 - acc: 0.8788 - val_loss: 0.3516 - val_acc: 0.8972\n",
            "Epoch 47/500\n",
            "2/2 [==============================] - 0s 163ms/step - loss: 0.3112 - acc: 0.9204 - val_loss: 0.2800 - val_acc: 0.9346\n",
            "Epoch 48/500\n",
            "2/2 [==============================] - 0s 161ms/step - loss: 0.2797 - acc: 0.9172 - val_loss: 0.2720 - val_acc: 0.9346\n",
            "Epoch 49/500\n",
            "2/2 [==============================] - 0s 165ms/step - loss: 0.2599 - acc: 0.8996 - val_loss: 0.3769 - val_acc: 0.8411\n",
            "Epoch 50/500\n",
            "2/2 [==============================] - 0s 166ms/step - loss: 0.3159 - acc: 0.8831 - val_loss: 0.2404 - val_acc: 0.9346\n",
            "Epoch 51/500\n",
            "2/2 [==============================] - 0s 163ms/step - loss: 0.2557 - acc: 0.9094 - val_loss: 0.2796 - val_acc: 0.8972\n",
            "Epoch 52/500\n",
            "2/2 [==============================] - 0s 167ms/step - loss: 0.2750 - acc: 0.8638 - val_loss: 0.3736 - val_acc: 0.8224\n",
            "Epoch 53/500\n",
            "2/2 [==============================] - 0s 168ms/step - loss: 0.2716 - acc: 0.9179 - val_loss: 0.2529 - val_acc: 0.9065\n",
            "Epoch 54/500\n",
            "2/2 [==============================] - 0s 167ms/step - loss: 0.2210 - acc: 0.9010 - val_loss: 0.3365 - val_acc: 0.8598\n",
            "Epoch 55/500\n",
            "2/2 [==============================] - 0s 166ms/step - loss: 0.2497 - acc: 0.9238 - val_loss: 0.2244 - val_acc: 0.9346\n",
            "Epoch 56/500\n",
            "2/2 [==============================] - 0s 165ms/step - loss: 0.1953 - acc: 0.9193 - val_loss: 0.2793 - val_acc: 0.8972\n",
            "Epoch 57/500\n",
            "2/2 [==============================] - 0s 167ms/step - loss: 0.1970 - acc: 0.9482 - val_loss: 0.2220 - val_acc: 0.9252\n",
            "Epoch 58/500\n",
            "2/2 [==============================] - 0s 161ms/step - loss: 0.1942 - acc: 0.9159 - val_loss: 0.2519 - val_acc: 0.8972\n",
            "Epoch 59/500\n",
            "2/2 [==============================] - 0s 164ms/step - loss: 0.1766 - acc: 0.9595 - val_loss: 0.1943 - val_acc: 0.9346\n",
            "Epoch 60/500\n",
            "2/2 [==============================] - 0s 166ms/step - loss: 0.1612 - acc: 0.9301 - val_loss: 0.2108 - val_acc: 0.9252\n",
            "Epoch 61/500\n",
            "2/2 [==============================] - 0s 168ms/step - loss: 0.1475 - acc: 0.9642 - val_loss: 0.1773 - val_acc: 0.9439\n",
            "Epoch 62/500\n",
            "2/2 [==============================] - 0s 164ms/step - loss: 0.1347 - acc: 0.9529 - val_loss: 0.1812 - val_acc: 0.9626\n",
            "Epoch 63/500\n",
            "2/2 [==============================] - 0s 164ms/step - loss: 0.1238 - acc: 0.9670 - val_loss: 0.1703 - val_acc: 0.9439\n",
            "Epoch 64/500\n",
            "2/2 [==============================] - 0s 165ms/step - loss: 0.1131 - acc: 0.9575 - val_loss: 0.2025 - val_acc: 0.9252\n",
            "Epoch 65/500\n",
            "2/2 [==============================] - 0s 167ms/step - loss: 0.1268 - acc: 0.9736 - val_loss: 0.1634 - val_acc: 0.9439\n",
            "Epoch 66/500\n",
            "2/2 [==============================] - 0s 166ms/step - loss: 0.1071 - acc: 0.9658 - val_loss: 0.1627 - val_acc: 0.9626\n",
            "Epoch 67/500\n",
            "2/2 [==============================] - 0s 166ms/step - loss: 0.1015 - acc: 0.9709 - val_loss: 0.1698 - val_acc: 0.9626\n",
            "Epoch 68/500\n",
            "2/2 [==============================] - 0s 164ms/step - loss: 0.1007 - acc: 0.9792 - val_loss: 0.1770 - val_acc: 0.9346\n",
            "Epoch 69/500\n",
            "2/2 [==============================] - 0s 168ms/step - loss: 0.1121 - acc: 0.9531 - val_loss: 0.1784 - val_acc: 0.9252\n",
            "Epoch 70/500\n",
            "2/2 [==============================] - 0s 166ms/step - loss: 0.0885 - acc: 0.9899 - val_loss: 0.1780 - val_acc: 0.9346\n",
            "Epoch 71/500\n",
            "2/2 [==============================] - 0s 164ms/step - loss: 0.1015 - acc: 0.9551 - val_loss: 0.2054 - val_acc: 0.9065\n",
            "Epoch 72/500\n",
            "2/2 [==============================] - 0s 165ms/step - loss: 0.0935 - acc: 0.9737 - val_loss: 0.1589 - val_acc: 0.9439\n",
            "Epoch 73/500\n",
            "2/2 [==============================] - 0s 166ms/step - loss: 0.0744 - acc: 0.9779 - val_loss: 0.1645 - val_acc: 0.9439\n",
            "Epoch 74/500\n",
            "2/2 [==============================] - 0s 163ms/step - loss: 0.0679 - acc: 0.9906 - val_loss: 0.1532 - val_acc: 0.9439\n",
            "Epoch 75/500\n",
            "2/2 [==============================] - 0s 165ms/step - loss: 0.0627 - acc: 0.9798 - val_loss: 0.1730 - val_acc: 0.9252\n",
            "Epoch 76/500\n",
            "2/2 [==============================] - 0s 169ms/step - loss: 0.0633 - acc: 0.9906 - val_loss: 0.1603 - val_acc: 0.9439\n",
            "Epoch 77/500\n",
            "2/2 [==============================] - 0s 164ms/step - loss: 0.0672 - acc: 0.9766 - val_loss: 0.1730 - val_acc: 0.9346\n",
            "Epoch 78/500\n",
            "2/2 [==============================] - 0s 164ms/step - loss: 0.0620 - acc: 0.9892 - val_loss: 0.1533 - val_acc: 0.9439\n",
            "Epoch 79/500\n",
            "2/2 [==============================] - 0s 167ms/step - loss: 0.0581 - acc: 0.9846 - val_loss: 0.1618 - val_acc: 0.9252\n",
            "Epoch 80/500\n",
            "2/2 [==============================] - 0s 169ms/step - loss: 0.0537 - acc: 0.9898 - val_loss: 0.1488 - val_acc: 0.9533\n",
            "Epoch 81/500\n",
            "2/2 [==============================] - 0s 166ms/step - loss: 0.0477 - acc: 0.9852 - val_loss: 0.1505 - val_acc: 0.9626\n",
            "Epoch 82/500\n",
            "2/2 [==============================] - 0s 169ms/step - loss: 0.0431 - acc: 0.9932 - val_loss: 0.1414 - val_acc: 0.9533\n",
            "Epoch 83/500\n",
            "2/2 [==============================] - 0s 169ms/step - loss: 0.0399 - acc: 0.9926 - val_loss: 0.1490 - val_acc: 0.9626\n",
            "Epoch 84/500\n",
            "2/2 [==============================] - 0s 179ms/step - loss: 0.0369 - acc: 0.9979 - val_loss: 0.1423 - val_acc: 0.9533\n",
            "Epoch 85/500\n",
            "2/2 [==============================] - 0s 166ms/step - loss: 0.0341 - acc: 0.9899 - val_loss: 0.1560 - val_acc: 0.9346\n",
            "Epoch 86/500\n",
            "2/2 [==============================] - 0s 172ms/step - loss: 0.0347 - acc: 0.9966 - val_loss: 0.1418 - val_acc: 0.9533\n",
            "Epoch 87/500\n",
            "2/2 [==============================] - 0s 164ms/step - loss: 0.0346 - acc: 0.9920 - val_loss: 0.1509 - val_acc: 0.9533\n",
            "Epoch 88/500\n",
            "2/2 [==============================] - 0s 165ms/step - loss: 0.0335 - acc: 0.9973 - val_loss: 0.1482 - val_acc: 0.9533\n",
            "Epoch 89/500\n",
            "2/2 [==============================] - 0s 163ms/step - loss: 0.0292 - acc: 0.9946 - val_loss: 0.1535 - val_acc: 0.9626\n",
            "Epoch 90/500\n",
            "2/2 [==============================] - 0s 164ms/step - loss: 0.0319 - acc: 0.9960 - val_loss: 0.1393 - val_acc: 0.9533\n",
            "Epoch 91/500\n",
            "2/2 [==============================] - 0s 172ms/step - loss: 0.0267 - acc: 0.9939 - val_loss: 0.1503 - val_acc: 0.9533\n",
            "Epoch 92/500\n",
            "2/2 [==============================] - 0s 165ms/step - loss: 0.0264 - acc: 1.0000 - val_loss: 0.1468 - val_acc: 0.9533\n",
            "Epoch 93/500\n",
            "2/2 [==============================] - 0s 167ms/step - loss: 0.0255 - acc: 0.9926 - val_loss: 0.1625 - val_acc: 0.9439\n",
            "Epoch 94/500\n",
            "2/2 [==============================] - 0s 168ms/step - loss: 0.0295 - acc: 0.9980 - val_loss: 0.1708 - val_acc: 0.9439\n",
            "Epoch 95/500\n",
            "2/2 [==============================] - 0s 165ms/step - loss: 0.0354 - acc: 0.9906 - val_loss: 0.1624 - val_acc: 0.9346\n",
            "Epoch 96/500\n",
            "2/2 [==============================] - 0s 164ms/step - loss: 0.0278 - acc: 0.9987 - val_loss: 0.1353 - val_acc: 0.9533\n",
            "Epoch 97/500\n",
            "2/2 [==============================] - 0s 169ms/step - loss: 0.0207 - acc: 0.9932 - val_loss: 0.1332 - val_acc: 0.9626\n",
            "Epoch 98/500\n",
            "2/2 [==============================] - 0s 165ms/step - loss: 0.0205 - acc: 0.9987 - val_loss: 0.1359 - val_acc: 0.9533\n",
            "Epoch 99/500\n",
            "2/2 [==============================] - 0s 167ms/step - loss: 0.0194 - acc: 0.9980 - val_loss: 0.1281 - val_acc: 0.9813\n",
            "Epoch 100/500\n",
            "2/2 [==============================] - 0s 165ms/step - loss: 0.0174 - acc: 0.9987 - val_loss: 0.1260 - val_acc: 0.9813\n",
            "Epoch 101/500\n",
            "2/2 [==============================] - 0s 168ms/step - loss: 0.0157 - acc: 0.9959 - val_loss: 0.1251 - val_acc: 0.9813\n",
            "Epoch 102/500\n",
            "2/2 [==============================] - 0s 169ms/step - loss: 0.0143 - acc: 1.0000 - val_loss: 0.1289 - val_acc: 0.9626\n",
            "Epoch 103/500\n",
            "2/2 [==============================] - 0s 169ms/step - loss: 0.0137 - acc: 0.9993 - val_loss: 0.1382 - val_acc: 0.9533\n",
            "Epoch 104/500\n",
            "2/2 [==============================] - 0s 164ms/step - loss: 0.0154 - acc: 0.9993 - val_loss: 0.1338 - val_acc: 0.9533\n",
            "Epoch 105/500\n",
            "2/2 [==============================] - 0s 164ms/step - loss: 0.0147 - acc: 0.9993 - val_loss: 0.1354 - val_acc: 0.9626\n",
            "Epoch 106/500\n",
            "2/2 [==============================] - 0s 163ms/step - loss: 0.0124 - acc: 0.9993 - val_loss: 0.1300 - val_acc: 0.9626\n",
            "Epoch 107/500\n",
            "2/2 [==============================] - 0s 167ms/step - loss: 0.0112 - acc: 0.9987 - val_loss: 0.1287 - val_acc: 0.9813\n",
            "Epoch 108/500\n",
            "2/2 [==============================] - 0s 170ms/step - loss: 0.0106 - acc: 0.9993 - val_loss: 0.1268 - val_acc: 0.9813\n",
            "Epoch 109/500\n",
            "2/2 [==============================] - 0s 171ms/step - loss: 0.0100 - acc: 0.9987 - val_loss: 0.1273 - val_acc: 0.9626\n",
            "Epoch 110/500\n",
            "2/2 [==============================] - 0s 169ms/step - loss: 0.0099 - acc: 1.0000 - val_loss: 0.1365 - val_acc: 0.9626\n",
            "Epoch 111/500\n",
            "2/2 [==============================] - 0s 163ms/step - loss: 0.0098 - acc: 0.9993 - val_loss: 0.1280 - val_acc: 0.9626\n",
            "Epoch 112/500\n",
            "2/2 [==============================] - 0s 171ms/step - loss: 0.0093 - acc: 1.0000 - val_loss: 0.1292 - val_acc: 0.9813\n",
            "Epoch 113/500\n",
            "2/2 [==============================] - 0s 162ms/step - loss: 0.0092 - acc: 0.9993 - val_loss: 0.1287 - val_acc: 0.9813\n",
            "Epoch 114/500\n",
            "2/2 [==============================] - 0s 167ms/step - loss: 0.0075 - acc: 1.0000 - val_loss: 0.1366 - val_acc: 0.9533\n",
            "Epoch 115/500\n",
            "2/2 [==============================] - 0s 170ms/step - loss: 0.0082 - acc: 1.0000 - val_loss: 0.1374 - val_acc: 0.9626\n",
            "Epoch 116/500\n",
            "2/2 [==============================] - 0s 165ms/step - loss: 0.0082 - acc: 0.9993 - val_loss: 0.1281 - val_acc: 0.9720\n",
            "Epoch 117/500\n",
            "2/2 [==============================] - 0s 166ms/step - loss: 0.0072 - acc: 1.0000 - val_loss: 0.1285 - val_acc: 0.9720\n",
            "Epoch 118/500\n",
            "2/2 [==============================] - 0s 165ms/step - loss: 0.0069 - acc: 0.9993 - val_loss: 0.1394 - val_acc: 0.9626\n",
            "Epoch 119/500\n",
            "2/2 [==============================] - 0s 169ms/step - loss: 0.0065 - acc: 1.0000 - val_loss: 0.1317 - val_acc: 0.9533\n",
            "Epoch 120/500\n",
            "2/2 [==============================] - 0s 163ms/step - loss: 0.0069 - acc: 1.0000 - val_loss: 0.1308 - val_acc: 0.9813\n",
            "Epoch 121/500\n",
            "2/2 [==============================] - 0s 164ms/step - loss: 0.0063 - acc: 0.9987 - val_loss: 0.1314 - val_acc: 0.9813\n",
            "Epoch 122/500\n",
            "2/2 [==============================] - 0s 167ms/step - loss: 0.0050 - acc: 1.0000 - val_loss: 0.1308 - val_acc: 0.9533\n",
            "Epoch 123/500\n",
            "2/2 [==============================] - 0s 163ms/step - loss: 0.0054 - acc: 1.0000 - val_loss: 0.1320 - val_acc: 0.9813\n",
            "Epoch 124/500\n",
            "2/2 [==============================] - 0s 171ms/step - loss: 0.0049 - acc: 1.0000 - val_loss: 0.1315 - val_acc: 0.9813\n",
            "Epoch 125/500\n",
            "2/2 [==============================] - 0s 168ms/step - loss: 0.0046 - acc: 1.0000 - val_loss: 0.1284 - val_acc: 0.9626\n",
            "Epoch 126/500\n",
            "2/2 [==============================] - 0s 163ms/step - loss: 0.0043 - acc: 1.0000 - val_loss: 0.1335 - val_acc: 0.9813\n",
            "Epoch 127/500\n",
            "2/2 [==============================] - 0s 169ms/step - loss: 0.0045 - acc: 1.0000 - val_loss: 0.1300 - val_acc: 0.9813\n",
            "Epoch 128/500\n",
            "2/2 [==============================] - 0s 169ms/step - loss: 0.0039 - acc: 1.0000 - val_loss: 0.1304 - val_acc: 0.9720\n",
            "Epoch 129/500\n",
            "2/2 [==============================] - 0s 167ms/step - loss: 0.0041 - acc: 1.0000 - val_loss: 0.1377 - val_acc: 0.9813\n",
            "Epoch 130/500\n",
            "2/2 [==============================] - 0s 164ms/step - loss: 0.0039 - acc: 1.0000 - val_loss: 0.1327 - val_acc: 0.9813\n",
            "Epoch 131/500\n",
            "2/2 [==============================] - 0s 170ms/step - loss: 0.0033 - acc: 1.0000 - val_loss: 0.1328 - val_acc: 0.9813\n",
            "Epoch 132/500\n",
            "2/2 [==============================] - 0s 164ms/step - loss: 0.0035 - acc: 1.0000 - val_loss: 0.1371 - val_acc: 0.9813\n",
            "Epoch 133/500\n",
            "2/2 [==============================] - 0s 168ms/step - loss: 0.0033 - acc: 1.0000 - val_loss: 0.1341 - val_acc: 0.9813\n",
            "Epoch 134/500\n",
            "2/2 [==============================] - 0s 167ms/step - loss: 0.0029 - acc: 1.0000 - val_loss: 0.1333 - val_acc: 0.9813\n",
            "Epoch 135/500\n",
            "2/2 [==============================] - 0s 164ms/step - loss: 0.0029 - acc: 1.0000 - val_loss: 0.1372 - val_acc: 0.9813\n",
            "Epoch 136/500\n",
            "2/2 [==============================] - 0s 179ms/step - loss: 0.0030 - acc: 1.0000 - val_loss: 0.1354 - val_acc: 0.9813\n",
            "Epoch 137/500\n",
            "2/2 [==============================] - 0s 167ms/step - loss: 0.0027 - acc: 1.0000 - val_loss: 0.1350 - val_acc: 0.9813\n",
            "Epoch 138/500\n",
            "2/2 [==============================] - 0s 167ms/step - loss: 0.0026 - acc: 1.0000 - val_loss: 0.1357 - val_acc: 0.9813\n",
            "Epoch 139/500\n",
            "2/2 [==============================] - 0s 172ms/step - loss: 0.0024 - acc: 1.0000 - val_loss: 0.1382 - val_acc: 0.9813\n",
            "Epoch 140/500\n",
            "2/2 [==============================] - 0s 165ms/step - loss: 0.0026 - acc: 1.0000 - val_loss: 0.1346 - val_acc: 0.9813\n",
            "Epoch 141/500\n",
            "2/2 [==============================] - 0s 166ms/step - loss: 0.0025 - acc: 1.0000 - val_loss: 0.1383 - val_acc: 0.9813\n",
            "Epoch 142/500\n",
            "2/2 [==============================] - 0s 168ms/step - loss: 0.0022 - acc: 1.0000 - val_loss: 0.1378 - val_acc: 0.9813\n",
            "Epoch 143/500\n",
            "2/2 [==============================] - 0s 165ms/step - loss: 0.0024 - acc: 1.0000 - val_loss: 0.1355 - val_acc: 0.9813\n",
            "Epoch 144/500\n",
            "2/2 [==============================] - 0s 165ms/step - loss: 0.0021 - acc: 1.0000 - val_loss: 0.1398 - val_acc: 0.9813\n",
            "Epoch 145/500\n",
            "2/2 [==============================] - 0s 168ms/step - loss: 0.0021 - acc: 1.0000 - val_loss: 0.1365 - val_acc: 0.9813\n",
            "Epoch 146/500\n",
            "2/2 [==============================] - 0s 172ms/step - loss: 0.0020 - acc: 1.0000 - val_loss: 0.1391 - val_acc: 0.9813\n",
            "Epoch 147/500\n",
            "2/2 [==============================] - 0s 165ms/step - loss: 0.0018 - acc: 1.0000 - val_loss: 0.1406 - val_acc: 0.9813\n",
            "Epoch 148/500\n",
            "2/2 [==============================] - 0s 170ms/step - loss: 0.0017 - acc: 1.0000 - val_loss: 0.1370 - val_acc: 0.9813\n",
            "Epoch 149/500\n",
            "2/2 [==============================] - 0s 167ms/step - loss: 0.0018 - acc: 1.0000 - val_loss: 0.1379 - val_acc: 0.9813\n",
            "Epoch 150/500\n",
            "2/2 [==============================] - 0s 171ms/step - loss: 0.0016 - acc: 1.0000 - val_loss: 0.1450 - val_acc: 0.9813\n",
            "Epoch 151/500\n",
            "2/2 [==============================] - 0s 167ms/step - loss: 0.0017 - acc: 1.0000 - val_loss: 0.1417 - val_acc: 0.9813\n",
            "Epoch 152/500\n",
            "2/2 [==============================] - 0s 169ms/step - loss: 0.0015 - acc: 1.0000 - val_loss: 0.1382 - val_acc: 0.9720\n",
            "Epoch 153/500\n",
            "2/2 [==============================] - 0s 172ms/step - loss: 0.0015 - acc: 1.0000 - val_loss: 0.1397 - val_acc: 0.9813\n",
            "Epoch 154/500\n",
            "2/2 [==============================] - 0s 165ms/step - loss: 0.0013 - acc: 1.0000 - val_loss: 0.1435 - val_acc: 0.9813\n",
            "Epoch 155/500\n",
            "2/2 [==============================] - 0s 174ms/step - loss: 0.0014 - acc: 1.0000 - val_loss: 0.1422 - val_acc: 0.9813\n",
            "Epoch 156/500\n",
            "2/2 [==============================] - 0s 171ms/step - loss: 0.0012 - acc: 1.0000 - val_loss: 0.1399 - val_acc: 0.9626\n",
            "Epoch 157/500\n",
            "2/2 [==============================] - 0s 170ms/step - loss: 0.0014 - acc: 1.0000 - val_loss: 0.1441 - val_acc: 0.9813\n",
            "Epoch 158/500\n",
            "2/2 [==============================] - 0s 167ms/step - loss: 0.0012 - acc: 1.0000 - val_loss: 0.1455 - val_acc: 0.9813\n",
            "Epoch 159/500\n",
            "2/2 [==============================] - 0s 170ms/step - loss: 0.0012 - acc: 1.0000 - val_loss: 0.1415 - val_acc: 0.9813\n",
            "Epoch 160/500\n",
            "2/2 [==============================] - 0s 164ms/step - loss: 0.0012 - acc: 1.0000 - val_loss: 0.1424 - val_acc: 0.9813\n",
            "Epoch 161/500\n",
            "2/2 [==============================] - 0s 168ms/step - loss: 0.0011 - acc: 1.0000 - val_loss: 0.1476 - val_acc: 0.9813\n",
            "Epoch 162/500\n",
            "2/2 [==============================] - 0s 168ms/step - loss: 0.0012 - acc: 1.0000 - val_loss: 0.1443 - val_acc: 0.9813\n",
            "Epoch 163/500\n",
            "2/2 [==============================] - 0s 169ms/step - loss: 0.0010 - acc: 1.0000 - val_loss: 0.1436 - val_acc: 0.9813\n",
            "Epoch 164/500\n",
            "2/2 [==============================] - 0s 168ms/step - loss: 0.0010 - acc: 1.0000 - val_loss: 0.1460 - val_acc: 0.9813\n",
            "Epoch 165/500\n",
            "2/2 [==============================] - 0s 169ms/step - loss: 0.0010 - acc: 1.0000 - val_loss: 0.1460 - val_acc: 0.9813\n",
            "Epoch 166/500\n",
            "2/2 [==============================] - 0s 171ms/step - loss: 9.9379e-04 - acc: 1.0000 - val_loss: 0.1442 - val_acc: 0.9813\n",
            "Epoch 167/500\n",
            "2/2 [==============================] - 0s 171ms/step - loss: 8.9700e-04 - acc: 1.0000 - val_loss: 0.1456 - val_acc: 0.9813\n",
            "Epoch 168/500\n",
            "2/2 [==============================] - 0s 169ms/step - loss: 9.1976e-04 - acc: 1.0000 - val_loss: 0.1472 - val_acc: 0.9813\n",
            "Epoch 169/500\n",
            "2/2 [==============================] - 0s 166ms/step - loss: 9.4616e-04 - acc: 1.0000 - val_loss: 0.1466 - val_acc: 0.9813\n",
            "Epoch 170/500\n",
            "2/2 [==============================] - 0s 168ms/step - loss: 8.8234e-04 - acc: 1.0000 - val_loss: 0.1457 - val_acc: 0.9813\n",
            "Epoch 171/500\n",
            "2/2 [==============================] - 0s 171ms/step - loss: 8.6549e-04 - acc: 1.0000 - val_loss: 0.1464 - val_acc: 0.9813\n",
            "Epoch 172/500\n",
            "2/2 [==============================] - 0s 168ms/step - loss: 8.2052e-04 - acc: 1.0000 - val_loss: 0.1482 - val_acc: 0.9813\n",
            "Epoch 173/500\n",
            "2/2 [==============================] - 0s 167ms/step - loss: 8.1623e-04 - acc: 1.0000 - val_loss: 0.1474 - val_acc: 0.9813\n",
            "Epoch 174/500\n",
            "2/2 [==============================] - 0s 166ms/step - loss: 7.7445e-04 - acc: 1.0000 - val_loss: 0.1468 - val_acc: 0.9813\n",
            "Epoch 175/500\n",
            "2/2 [==============================] - 0s 166ms/step - loss: 7.6392e-04 - acc: 1.0000 - val_loss: 0.1473 - val_acc: 0.9813\n",
            "Epoch 176/500\n",
            "2/2 [==============================] - 0s 166ms/step - loss: 7.8341e-04 - acc: 1.0000 - val_loss: 0.1481 - val_acc: 0.9813\n",
            "Epoch 177/500\n",
            "2/2 [==============================] - 0s 169ms/step - loss: 7.0265e-04 - acc: 1.0000 - val_loss: 0.1490 - val_acc: 0.9813\n",
            "Epoch 178/500\n",
            "2/2 [==============================] - 0s 169ms/step - loss: 6.9024e-04 - acc: 1.0000 - val_loss: 0.1481 - val_acc: 0.9813\n",
            "Epoch 179/500\n",
            "2/2 [==============================] - 0s 169ms/step - loss: 6.6699e-04 - acc: 1.0000 - val_loss: 0.1475 - val_acc: 0.9813\n",
            "Epoch 180/500\n",
            "2/2 [==============================] - 0s 172ms/step - loss: 6.9344e-04 - acc: 1.0000 - val_loss: 0.1492 - val_acc: 0.9813\n",
            "Epoch 181/500\n",
            "2/2 [==============================] - 0s 167ms/step - loss: 6.8570e-04 - acc: 1.0000 - val_loss: 0.1504 - val_acc: 0.9813\n",
            "Epoch 182/500\n",
            "2/2 [==============================] - 0s 166ms/step - loss: 6.3780e-04 - acc: 1.0000 - val_loss: 0.1505 - val_acc: 0.9813\n",
            "Epoch 183/500\n",
            "2/2 [==============================] - 0s 174ms/step - loss: 6.0692e-04 - acc: 1.0000 - val_loss: 0.1494 - val_acc: 0.9813\n",
            "Epoch 184/500\n",
            "2/2 [==============================] - 0s 166ms/step - loss: 6.1520e-04 - acc: 1.0000 - val_loss: 0.1499 - val_acc: 0.9813\n",
            "Epoch 185/500\n",
            "2/2 [==============================] - 0s 168ms/step - loss: 5.8443e-04 - acc: 1.0000 - val_loss: 0.1506 - val_acc: 0.9813\n",
            "Epoch 186/500\n",
            "2/2 [==============================] - 0s 166ms/step - loss: 6.1849e-04 - acc: 1.0000 - val_loss: 0.1503 - val_acc: 0.9813\n",
            "Epoch 187/500\n",
            "2/2 [==============================] - 0s 168ms/step - loss: 5.8755e-04 - acc: 1.0000 - val_loss: 0.1501 - val_acc: 0.9813\n",
            "Epoch 188/500\n",
            "2/2 [==============================] - 0s 172ms/step - loss: 5.8237e-04 - acc: 1.0000 - val_loss: 0.1525 - val_acc: 0.9813\n",
            "Epoch 189/500\n",
            "2/2 [==============================] - 0s 172ms/step - loss: 5.3518e-04 - acc: 1.0000 - val_loss: 0.1524 - val_acc: 0.9813\n",
            "Epoch 190/500\n",
            "2/2 [==============================] - 0s 169ms/step - loss: 5.7678e-04 - acc: 1.0000 - val_loss: 0.1508 - val_acc: 0.9813\n",
            "Epoch 191/500\n",
            "2/2 [==============================] - 0s 172ms/step - loss: 5.3238e-04 - acc: 1.0000 - val_loss: 0.1517 - val_acc: 0.9813\n",
            "Epoch 192/500\n",
            "2/2 [==============================] - 0s 165ms/step - loss: 5.2447e-04 - acc: 1.0000 - val_loss: 0.1528 - val_acc: 0.9813\n",
            "Epoch 193/500\n",
            "2/2 [==============================] - 0s 166ms/step - loss: 5.0479e-04 - acc: 1.0000 - val_loss: 0.1530 - val_acc: 0.9813\n",
            "Epoch 194/500\n",
            "2/2 [==============================] - 0s 170ms/step - loss: 4.9367e-04 - acc: 1.0000 - val_loss: 0.1517 - val_acc: 0.9813\n",
            "Epoch 195/500\n",
            "2/2 [==============================] - 0s 170ms/step - loss: 5.1348e-04 - acc: 1.0000 - val_loss: 0.1524 - val_acc: 0.9813\n",
            "Epoch 196/500\n",
            "2/2 [==============================] - 0s 172ms/step - loss: 4.8563e-04 - acc: 1.0000 - val_loss: 0.1542 - val_acc: 0.9813\n",
            "Epoch 197/500\n",
            "2/2 [==============================] - 0s 178ms/step - loss: 4.9808e-04 - acc: 1.0000 - val_loss: 0.1531 - val_acc: 0.9813\n",
            "Epoch 198/500\n",
            "2/2 [==============================] - 0s 174ms/step - loss: 4.3868e-04 - acc: 1.0000 - val_loss: 0.1535 - val_acc: 0.9813\n",
            "Epoch 199/500\n",
            "2/2 [==============================] - 0s 172ms/step - loss: 4.5133e-04 - acc: 1.0000 - val_loss: 0.1536 - val_acc: 0.9813\n",
            "Epoch 200/500\n",
            "2/2 [==============================] - 0s 173ms/step - loss: 4.5369e-04 - acc: 1.0000 - val_loss: 0.1541 - val_acc: 0.9813\n",
            "Epoch 201/500\n",
            "2/2 [==============================] - 0s 167ms/step - loss: 4.3966e-04 - acc: 1.0000 - val_loss: 0.1543 - val_acc: 0.9813\n",
            "Epoch 202/500\n",
            "2/2 [==============================] - 0s 167ms/step - loss: 4.2836e-04 - acc: 1.0000 - val_loss: 0.1545 - val_acc: 0.9813\n",
            "Epoch 203/500\n",
            "2/2 [==============================] - 0s 169ms/step - loss: 4.0471e-04 - acc: 1.0000 - val_loss: 0.1547 - val_acc: 0.9813\n",
            "Epoch 204/500\n",
            "2/2 [==============================] - 0s 169ms/step - loss: 3.8411e-04 - acc: 1.0000 - val_loss: 0.1550 - val_acc: 0.9813\n",
            "Epoch 205/500\n",
            "2/2 [==============================] - 0s 166ms/step - loss: 4.1880e-04 - acc: 1.0000 - val_loss: 0.1550 - val_acc: 0.9813\n",
            "Epoch 206/500\n",
            "2/2 [==============================] - 0s 177ms/step - loss: 4.1285e-04 - acc: 1.0000 - val_loss: 0.1546 - val_acc: 0.9813\n",
            "Epoch 207/500\n",
            "2/2 [==============================] - 0s 171ms/step - loss: 3.8265e-04 - acc: 1.0000 - val_loss: 0.1554 - val_acc: 0.9813\n",
            "Epoch 208/500\n",
            "2/2 [==============================] - 0s 169ms/step - loss: 3.7872e-04 - acc: 1.0000 - val_loss: 0.1565 - val_acc: 0.9813\n",
            "Epoch 209/500\n",
            "2/2 [==============================] - 0s 171ms/step - loss: 3.6179e-04 - acc: 1.0000 - val_loss: 0.1562 - val_acc: 0.9813\n",
            "Epoch 210/500\n",
            "2/2 [==============================] - 0s 172ms/step - loss: 3.7362e-04 - acc: 1.0000 - val_loss: 0.1560 - val_acc: 0.9813\n",
            "Epoch 211/500\n",
            "2/2 [==============================] - 0s 168ms/step - loss: 3.6586e-04 - acc: 1.0000 - val_loss: 0.1561 - val_acc: 0.9813\n",
            "Epoch 212/500\n",
            "2/2 [==============================] - 0s 168ms/step - loss: 3.8354e-04 - acc: 1.0000 - val_loss: 0.1563 - val_acc: 0.9813\n",
            "Epoch 213/500\n",
            "2/2 [==============================] - 0s 169ms/step - loss: 3.3767e-04 - acc: 1.0000 - val_loss: 0.1572 - val_acc: 0.9813\n",
            "Epoch 214/500\n",
            "2/2 [==============================] - 0s 168ms/step - loss: 3.3808e-04 - acc: 1.0000 - val_loss: 0.1577 - val_acc: 0.9813\n",
            "Epoch 215/500\n",
            "2/2 [==============================] - 0s 170ms/step - loss: 3.3420e-04 - acc: 1.0000 - val_loss: 0.1560 - val_acc: 0.9813\n",
            "Epoch 216/500\n",
            "2/2 [==============================] - 0s 169ms/step - loss: 3.3053e-04 - acc: 1.0000 - val_loss: 0.1563 - val_acc: 0.9813\n",
            "Epoch 217/500\n",
            "2/2 [==============================] - 0s 171ms/step - loss: 3.2023e-04 - acc: 1.0000 - val_loss: 0.1591 - val_acc: 0.9813\n",
            "Epoch 218/500\n",
            "2/2 [==============================] - 0s 168ms/step - loss: 3.2329e-04 - acc: 1.0000 - val_loss: 0.1590 - val_acc: 0.9813\n",
            "Epoch 219/500\n",
            "2/2 [==============================] - 0s 167ms/step - loss: 3.2724e-04 - acc: 1.0000 - val_loss: 0.1563 - val_acc: 0.9813\n",
            "Epoch 220/500\n",
            "2/2 [==============================] - 0s 172ms/step - loss: 3.1409e-04 - acc: 1.0000 - val_loss: 0.1567 - val_acc: 0.9813\n",
            "Epoch 221/500\n",
            "2/2 [==============================] - 0s 170ms/step - loss: 2.9287e-04 - acc: 1.0000 - val_loss: 0.1591 - val_acc: 0.9813\n",
            "Epoch 222/500\n",
            "2/2 [==============================] - 0s 174ms/step - loss: 3.0521e-04 - acc: 1.0000 - val_loss: 0.1608 - val_acc: 0.9813\n",
            "Epoch 223/500\n",
            "2/2 [==============================] - 0s 169ms/step - loss: 3.0794e-04 - acc: 1.0000 - val_loss: 0.1591 - val_acc: 0.9813\n",
            "Epoch 224/500\n",
            "2/2 [==============================] - 0s 176ms/step - loss: 2.7971e-04 - acc: 1.0000 - val_loss: 0.1575 - val_acc: 0.9813\n",
            "Epoch 225/500\n",
            "2/2 [==============================] - 0s 170ms/step - loss: 2.7831e-04 - acc: 1.0000 - val_loss: 0.1580 - val_acc: 0.9813\n",
            "Epoch 226/500\n",
            "2/2 [==============================] - 0s 172ms/step - loss: 3.0054e-04 - acc: 1.0000 - val_loss: 0.1601 - val_acc: 0.9813\n",
            "Epoch 227/500\n",
            "2/2 [==============================] - 0s 171ms/step - loss: 2.8775e-04 - acc: 1.0000 - val_loss: 0.1612 - val_acc: 0.9813\n",
            "Epoch 228/500\n",
            "2/2 [==============================] - 0s 173ms/step - loss: 2.7389e-04 - acc: 1.0000 - val_loss: 0.1602 - val_acc: 0.9813\n",
            "Epoch 229/500\n",
            "2/2 [==============================] - 0s 172ms/step - loss: 2.7287e-04 - acc: 1.0000 - val_loss: 0.1588 - val_acc: 0.9813\n",
            "Epoch 230/500\n",
            "2/2 [==============================] - 0s 179ms/step - loss: 2.7385e-04 - acc: 1.0000 - val_loss: 0.1590 - val_acc: 0.9813\n",
            "Epoch 231/500\n",
            "2/2 [==============================] - 0s 168ms/step - loss: 2.7451e-04 - acc: 1.0000 - val_loss: 0.1607 - val_acc: 0.9813\n",
            "Epoch 232/500\n",
            "2/2 [==============================] - 0s 169ms/step - loss: 2.6038e-04 - acc: 1.0000 - val_loss: 0.1617 - val_acc: 0.9813\n",
            "Epoch 233/500\n",
            "2/2 [==============================] - 0s 172ms/step - loss: 2.5354e-04 - acc: 1.0000 - val_loss: 0.1608 - val_acc: 0.9813\n",
            "Epoch 234/500\n",
            "2/2 [==============================] - 0s 168ms/step - loss: 2.5274e-04 - acc: 1.0000 - val_loss: 0.1597 - val_acc: 0.9813\n",
            "Epoch 235/500\n",
            "2/2 [==============================] - 0s 168ms/step - loss: 2.6023e-04 - acc: 1.0000 - val_loss: 0.1603 - val_acc: 0.9813\n",
            "Epoch 236/500\n",
            "2/2 [==============================] - 0s 170ms/step - loss: 2.5164e-04 - acc: 1.0000 - val_loss: 0.1624 - val_acc: 0.9813\n",
            "Epoch 237/500\n",
            "2/2 [==============================] - 0s 171ms/step - loss: 2.4063e-04 - acc: 1.0000 - val_loss: 0.1621 - val_acc: 0.9813\n",
            "Epoch 238/500\n",
            "2/2 [==============================] - 0s 166ms/step - loss: 2.4246e-04 - acc: 1.0000 - val_loss: 0.1615 - val_acc: 0.9813\n",
            "Epoch 239/500\n",
            "2/2 [==============================] - 0s 169ms/step - loss: 2.3103e-04 - acc: 1.0000 - val_loss: 0.1612 - val_acc: 0.9813\n",
            "Epoch 240/500\n",
            "2/2 [==============================] - 0s 169ms/step - loss: 2.3870e-04 - acc: 1.0000 - val_loss: 0.1614 - val_acc: 0.9813\n",
            "Epoch 241/500\n",
            "2/2 [==============================] - 0s 172ms/step - loss: 2.3562e-04 - acc: 1.0000 - val_loss: 0.1623 - val_acc: 0.9813\n",
            "Epoch 242/500\n",
            "2/2 [==============================] - 0s 168ms/step - loss: 2.1854e-04 - acc: 1.0000 - val_loss: 0.1633 - val_acc: 0.9813\n",
            "Epoch 243/500\n",
            "2/2 [==============================] - 0s 166ms/step - loss: 2.3238e-04 - acc: 1.0000 - val_loss: 0.1624 - val_acc: 0.9813\n",
            "Epoch 244/500\n",
            "2/2 [==============================] - 0s 167ms/step - loss: 2.1377e-04 - acc: 1.0000 - val_loss: 0.1620 - val_acc: 0.9813\n",
            "Epoch 245/500\n",
            "2/2 [==============================] - 0s 169ms/step - loss: 2.2441e-04 - acc: 1.0000 - val_loss: 0.1622 - val_acc: 0.9813\n",
            "Epoch 246/500\n",
            "2/2 [==============================] - 0s 169ms/step - loss: 2.0740e-04 - acc: 1.0000 - val_loss: 0.1631 - val_acc: 0.9813\n",
            "Epoch 247/500\n",
            "2/2 [==============================] - 0s 169ms/step - loss: 2.1173e-04 - acc: 1.0000 - val_loss: 0.1637 - val_acc: 0.9813\n",
            "Epoch 248/500\n",
            "2/2 [==============================] - 0s 173ms/step - loss: 2.1100e-04 - acc: 1.0000 - val_loss: 0.1635 - val_acc: 0.9813\n",
            "Epoch 249/500\n",
            "2/2 [==============================] - 0s 169ms/step - loss: 2.0708e-04 - acc: 1.0000 - val_loss: 0.1628 - val_acc: 0.9813\n",
            "Epoch 250/500\n",
            "2/2 [==============================] - 0s 169ms/step - loss: 2.1378e-04 - acc: 1.0000 - val_loss: 0.1634 - val_acc: 0.9813\n",
            "Epoch 251/500\n",
            "2/2 [==============================] - 0s 169ms/step - loss: 2.0590e-04 - acc: 1.0000 - val_loss: 0.1644 - val_acc: 0.9813\n",
            "Epoch 252/500\n",
            "2/2 [==============================] - 0s 170ms/step - loss: 2.0725e-04 - acc: 1.0000 - val_loss: 0.1638 - val_acc: 0.9813\n",
            "Epoch 253/500\n",
            "2/2 [==============================] - 0s 168ms/step - loss: 1.9351e-04 - acc: 1.0000 - val_loss: 0.1641 - val_acc: 0.9813\n",
            "Epoch 254/500\n",
            "2/2 [==============================] - 0s 173ms/step - loss: 1.9483e-04 - acc: 1.0000 - val_loss: 0.1644 - val_acc: 0.9813\n",
            "Epoch 255/500\n",
            "2/2 [==============================] - 0s 167ms/step - loss: 1.9467e-04 - acc: 1.0000 - val_loss: 0.1644 - val_acc: 0.9813\n",
            "Epoch 256/500\n",
            "2/2 [==============================] - 0s 171ms/step - loss: 1.9100e-04 - acc: 1.0000 - val_loss: 0.1647 - val_acc: 0.9813\n",
            "Epoch 257/500\n",
            "2/2 [==============================] - 0s 173ms/step - loss: 1.9503e-04 - acc: 1.0000 - val_loss: 0.1646 - val_acc: 0.9813\n",
            "Epoch 258/500\n",
            "2/2 [==============================] - 0s 169ms/step - loss: 1.7982e-04 - acc: 1.0000 - val_loss: 0.1652 - val_acc: 0.9813\n",
            "Epoch 259/500\n",
            "2/2 [==============================] - 0s 165ms/step - loss: 1.8377e-04 - acc: 1.0000 - val_loss: 0.1648 - val_acc: 0.9813\n",
            "Epoch 260/500\n",
            "2/2 [==============================] - 0s 165ms/step - loss: 1.7786e-04 - acc: 1.0000 - val_loss: 0.1653 - val_acc: 0.9813\n",
            "Epoch 261/500\n",
            "2/2 [==============================] - 0s 167ms/step - loss: 1.7634e-04 - acc: 1.0000 - val_loss: 0.1652 - val_acc: 0.9813\n",
            "Epoch 262/500\n",
            "2/2 [==============================] - 0s 166ms/step - loss: 1.7128e-04 - acc: 1.0000 - val_loss: 0.1652 - val_acc: 0.9813\n",
            "Epoch 263/500\n",
            "2/2 [==============================] - 0s 170ms/step - loss: 1.8177e-04 - acc: 1.0000 - val_loss: 0.1661 - val_acc: 0.9813\n",
            "Epoch 264/500\n",
            "2/2 [==============================] - 0s 165ms/step - loss: 1.7502e-04 - acc: 1.0000 - val_loss: 0.1664 - val_acc: 0.9813\n",
            "Epoch 265/500\n",
            "2/2 [==============================] - 0s 167ms/step - loss: 1.8225e-04 - acc: 1.0000 - val_loss: 0.1653 - val_acc: 0.9813\n",
            "Epoch 266/500\n",
            "2/2 [==============================] - 0s 166ms/step - loss: 1.7489e-04 - acc: 1.0000 - val_loss: 0.1651 - val_acc: 0.9813\n",
            "Epoch 267/500\n",
            "2/2 [==============================] - 0s 167ms/step - loss: 1.6916e-04 - acc: 1.0000 - val_loss: 0.1663 - val_acc: 0.9813\n",
            "Epoch 268/500\n",
            "2/2 [==============================] - 0s 168ms/step - loss: 1.6689e-04 - acc: 1.0000 - val_loss: 0.1677 - val_acc: 0.9813\n",
            "Epoch 269/500\n",
            "2/2 [==============================] - 0s 169ms/step - loss: 1.6097e-04 - acc: 1.0000 - val_loss: 0.1673 - val_acc: 0.9813\n",
            "Epoch 270/500\n",
            "2/2 [==============================] - 0s 167ms/step - loss: 1.6807e-04 - acc: 1.0000 - val_loss: 0.1659 - val_acc: 0.9813\n",
            "Epoch 271/500\n",
            "2/2 [==============================] - 0s 178ms/step - loss: 1.7017e-04 - acc: 1.0000 - val_loss: 0.1658 - val_acc: 0.9813\n",
            "Epoch 272/500\n",
            "2/2 [==============================] - 0s 168ms/step - loss: 1.6514e-04 - acc: 1.0000 - val_loss: 0.1674 - val_acc: 0.9813\n",
            "Epoch 273/500\n",
            "2/2 [==============================] - 0s 168ms/step - loss: 1.5144e-04 - acc: 1.0000 - val_loss: 0.1684 - val_acc: 0.9813\n",
            "Epoch 274/500\n",
            "2/2 [==============================] - 0s 167ms/step - loss: 1.5513e-04 - acc: 1.0000 - val_loss: 0.1678 - val_acc: 0.9813\n",
            "Epoch 275/500\n",
            "2/2 [==============================] - 0s 169ms/step - loss: 1.4682e-04 - acc: 1.0000 - val_loss: 0.1669 - val_acc: 0.9813\n",
            "Epoch 276/500\n",
            "2/2 [==============================] - 0s 166ms/step - loss: 1.5270e-04 - acc: 1.0000 - val_loss: 0.1670 - val_acc: 0.9813\n",
            "Epoch 277/500\n",
            "2/2 [==============================] - 0s 167ms/step - loss: 1.4454e-04 - acc: 1.0000 - val_loss: 0.1679 - val_acc: 0.9813\n",
            "Epoch 278/500\n",
            "2/2 [==============================] - 0s 167ms/step - loss: 1.4122e-04 - acc: 1.0000 - val_loss: 0.1686 - val_acc: 0.9813\n",
            "Epoch 279/500\n",
            "2/2 [==============================] - 0s 163ms/step - loss: 1.4976e-04 - acc: 1.0000 - val_loss: 0.1679 - val_acc: 0.9813\n",
            "Epoch 280/500\n",
            "2/2 [==============================] - 0s 166ms/step - loss: 1.3342e-04 - acc: 1.0000 - val_loss: 0.1675 - val_acc: 0.9813\n",
            "Epoch 281/500\n",
            "2/2 [==============================] - 0s 168ms/step - loss: 1.3573e-04 - acc: 1.0000 - val_loss: 0.1676 - val_acc: 0.9813\n",
            "Epoch 282/500\n",
            "2/2 [==============================] - 0s 167ms/step - loss: 1.4374e-04 - acc: 1.0000 - val_loss: 0.1682 - val_acc: 0.9813\n",
            "Epoch 283/500\n",
            "2/2 [==============================] - 0s 166ms/step - loss: 1.4515e-04 - acc: 1.0000 - val_loss: 0.1695 - val_acc: 0.9813\n",
            "Epoch 284/500\n",
            "2/2 [==============================] - 0s 172ms/step - loss: 1.3323e-04 - acc: 1.0000 - val_loss: 0.1694 - val_acc: 0.9813\n",
            "Epoch 285/500\n",
            "2/2 [==============================] - 0s 169ms/step - loss: 1.3802e-04 - acc: 1.0000 - val_loss: 0.1688 - val_acc: 0.9813\n",
            "Epoch 286/500\n",
            "2/2 [==============================] - 0s 173ms/step - loss: 1.3413e-04 - acc: 1.0000 - val_loss: 0.1683 - val_acc: 0.9813\n",
            "Epoch 287/500\n",
            "2/2 [==============================] - 0s 169ms/step - loss: 1.3231e-04 - acc: 1.0000 - val_loss: 0.1684 - val_acc: 0.9813\n",
            "Epoch 288/500\n",
            "2/2 [==============================] - 0s 170ms/step - loss: 1.2595e-04 - acc: 1.0000 - val_loss: 0.1693 - val_acc: 0.9813\n",
            "Epoch 289/500\n",
            "2/2 [==============================] - 0s 169ms/step - loss: 1.2290e-04 - acc: 1.0000 - val_loss: 0.1698 - val_acc: 0.9813\n",
            "Epoch 290/500\n",
            "2/2 [==============================] - 0s 164ms/step - loss: 1.3091e-04 - acc: 1.0000 - val_loss: 0.1693 - val_acc: 0.9813\n",
            "Epoch 291/500\n",
            "2/2 [==============================] - 0s 167ms/step - loss: 1.2706e-04 - acc: 1.0000 - val_loss: 0.1694 - val_acc: 0.9813\n",
            "Epoch 292/500\n",
            "2/2 [==============================] - 0s 171ms/step - loss: 1.2393e-04 - acc: 1.0000 - val_loss: 0.1698 - val_acc: 0.9813\n",
            "Epoch 293/500\n",
            "2/2 [==============================] - 0s 168ms/step - loss: 1.2526e-04 - acc: 1.0000 - val_loss: 0.1696 - val_acc: 0.9813\n",
            "Epoch 294/500\n",
            "2/2 [==============================] - 0s 173ms/step - loss: 1.2157e-04 - acc: 1.0000 - val_loss: 0.1700 - val_acc: 0.9813\n",
            "Epoch 295/500\n",
            "2/2 [==============================] - 0s 168ms/step - loss: 1.1919e-04 - acc: 1.0000 - val_loss: 0.1703 - val_acc: 0.9813\n",
            "Epoch 296/500\n",
            "2/2 [==============================] - 0s 168ms/step - loss: 1.2029e-04 - acc: 1.0000 - val_loss: 0.1699 - val_acc: 0.9813\n",
            "Epoch 297/500\n",
            "2/2 [==============================] - 0s 166ms/step - loss: 1.1801e-04 - acc: 1.0000 - val_loss: 0.1701 - val_acc: 0.9813\n",
            "Epoch 298/500\n",
            "2/2 [==============================] - 0s 174ms/step - loss: 1.1540e-04 - acc: 1.0000 - val_loss: 0.1707 - val_acc: 0.9813\n",
            "Epoch 299/500\n",
            "2/2 [==============================] - 0s 168ms/step - loss: 1.1935e-04 - acc: 1.0000 - val_loss: 0.1710 - val_acc: 0.9813\n",
            "Epoch 300/500\n",
            "2/2 [==============================] - 0s 173ms/step - loss: 1.1582e-04 - acc: 1.0000 - val_loss: 0.1703 - val_acc: 0.9813\n",
            "Epoch 301/500\n",
            "2/2 [==============================] - 0s 167ms/step - loss: 1.1687e-04 - acc: 1.0000 - val_loss: 0.1706 - val_acc: 0.9813\n",
            "Epoch 302/500\n",
            "2/2 [==============================] - 0s 172ms/step - loss: 1.1829e-04 - acc: 1.0000 - val_loss: 0.1709 - val_acc: 0.9813\n",
            "Epoch 303/500\n",
            "2/2 [==============================] - 0s 169ms/step - loss: 1.1281e-04 - acc: 1.0000 - val_loss: 0.1711 - val_acc: 0.9813\n",
            "Epoch 304/500\n",
            "2/2 [==============================] - 0s 172ms/step - loss: 1.0802e-04 - acc: 1.0000 - val_loss: 0.1712 - val_acc: 0.9813\n",
            "Epoch 305/500\n",
            "2/2 [==============================] - 0s 166ms/step - loss: 1.0188e-04 - acc: 1.0000 - val_loss: 0.1715 - val_acc: 0.9813\n",
            "Epoch 306/500\n",
            "2/2 [==============================] - 0s 168ms/step - loss: 1.0940e-04 - acc: 1.0000 - val_loss: 0.1719 - val_acc: 0.9813\n",
            "Epoch 307/500\n",
            "2/2 [==============================] - 0s 172ms/step - loss: 1.0439e-04 - acc: 1.0000 - val_loss: 0.1719 - val_acc: 0.9813\n",
            "Epoch 308/500\n",
            "2/2 [==============================] - 0s 173ms/step - loss: 1.0733e-04 - acc: 1.0000 - val_loss: 0.1716 - val_acc: 0.9813\n",
            "Epoch 309/500\n",
            "2/2 [==============================] - 0s 172ms/step - loss: 1.0638e-04 - acc: 1.0000 - val_loss: 0.1717 - val_acc: 0.9813\n",
            "Epoch 310/500\n",
            "2/2 [==============================] - 0s 167ms/step - loss: 1.0311e-04 - acc: 1.0000 - val_loss: 0.1715 - val_acc: 0.9813\n",
            "Epoch 311/500\n",
            "2/2 [==============================] - 0s 171ms/step - loss: 1.0342e-04 - acc: 1.0000 - val_loss: 0.1715 - val_acc: 0.9813\n",
            "Epoch 312/500\n",
            "2/2 [==============================] - 0s 170ms/step - loss: 1.0134e-04 - acc: 1.0000 - val_loss: 0.1723 - val_acc: 0.9813\n",
            "Epoch 313/500\n",
            "2/2 [==============================] - 0s 171ms/step - loss: 9.7232e-05 - acc: 1.0000 - val_loss: 0.1728 - val_acc: 0.9813\n",
            "Epoch 314/500\n",
            "2/2 [==============================] - 0s 168ms/step - loss: 1.0449e-04 - acc: 1.0000 - val_loss: 0.1727 - val_acc: 0.9813\n",
            "Epoch 315/500\n",
            "2/2 [==============================] - 0s 169ms/step - loss: 1.0256e-04 - acc: 1.0000 - val_loss: 0.1727 - val_acc: 0.9813\n",
            "Epoch 316/500\n",
            "2/2 [==============================] - 0s 170ms/step - loss: 9.3647e-05 - acc: 1.0000 - val_loss: 0.1727 - val_acc: 0.9813\n",
            "Epoch 317/500\n",
            "2/2 [==============================] - 0s 170ms/step - loss: 1.0054e-04 - acc: 1.0000 - val_loss: 0.1723 - val_acc: 0.9813\n",
            "Epoch 318/500\n",
            "2/2 [==============================] - 0s 174ms/step - loss: 9.8544e-05 - acc: 1.0000 - val_loss: 0.1726 - val_acc: 0.9813\n",
            "Epoch 319/500\n",
            "2/2 [==============================] - 0s 169ms/step - loss: 9.6151e-05 - acc: 1.0000 - val_loss: 0.1729 - val_acc: 0.9813\n",
            "Epoch 320/500\n",
            "2/2 [==============================] - 0s 174ms/step - loss: 9.9091e-05 - acc: 1.0000 - val_loss: 0.1740 - val_acc: 0.9813\n",
            "Epoch 321/500\n",
            "2/2 [==============================] - 0s 171ms/step - loss: 9.1420e-05 - acc: 1.0000 - val_loss: 0.1738 - val_acc: 0.9813\n",
            "Epoch 322/500\n",
            "2/2 [==============================] - 0s 169ms/step - loss: 9.3109e-05 - acc: 1.0000 - val_loss: 0.1733 - val_acc: 0.9813\n",
            "Epoch 323/500\n",
            "2/2 [==============================] - 0s 170ms/step - loss: 9.6185e-05 - acc: 1.0000 - val_loss: 0.1737 - val_acc: 0.9813\n",
            "Epoch 324/500\n",
            "2/2 [==============================] - 0s 168ms/step - loss: 9.5161e-05 - acc: 1.0000 - val_loss: 0.1736 - val_acc: 0.9813\n",
            "Epoch 325/500\n",
            "2/2 [==============================] - 0s 169ms/step - loss: 9.5087e-05 - acc: 1.0000 - val_loss: 0.1737 - val_acc: 0.9813\n",
            "Epoch 326/500\n",
            "2/2 [==============================] - 0s 166ms/step - loss: 8.5522e-05 - acc: 1.0000 - val_loss: 0.1735 - val_acc: 0.9813\n",
            "Epoch 327/500\n",
            "2/2 [==============================] - 0s 169ms/step - loss: 8.7131e-05 - acc: 1.0000 - val_loss: 0.1738 - val_acc: 0.9813\n",
            "Epoch 328/500\n",
            "2/2 [==============================] - 0s 177ms/step - loss: 8.4653e-05 - acc: 1.0000 - val_loss: 0.1746 - val_acc: 0.9813\n",
            "Epoch 329/500\n",
            "2/2 [==============================] - 0s 171ms/step - loss: 8.5402e-05 - acc: 1.0000 - val_loss: 0.1745 - val_acc: 0.9813\n",
            "Epoch 330/500\n",
            "2/2 [==============================] - 0s 169ms/step - loss: 9.0041e-05 - acc: 1.0000 - val_loss: 0.1738 - val_acc: 0.9813\n",
            "Epoch 331/500\n",
            "2/2 [==============================] - 0s 174ms/step - loss: 8.5781e-05 - acc: 1.0000 - val_loss: 0.1734 - val_acc: 0.9813\n",
            "Epoch 332/500\n",
            "2/2 [==============================] - 0s 167ms/step - loss: 8.7694e-05 - acc: 1.0000 - val_loss: 0.1744 - val_acc: 0.9813\n",
            "Epoch 333/500\n",
            "2/2 [==============================] - 0s 179ms/step - loss: 8.7108e-05 - acc: 1.0000 - val_loss: 0.1755 - val_acc: 0.9813\n",
            "Epoch 334/500\n",
            "2/2 [==============================] - 0s 170ms/step - loss: 8.0839e-05 - acc: 1.0000 - val_loss: 0.1758 - val_acc: 0.9813\n",
            "Epoch 335/500\n",
            "2/2 [==============================] - 0s 170ms/step - loss: 8.1943e-05 - acc: 1.0000 - val_loss: 0.1749 - val_acc: 0.9813\n",
            "Epoch 336/500\n",
            "2/2 [==============================] - 0s 170ms/step - loss: 8.4061e-05 - acc: 1.0000 - val_loss: 0.1744 - val_acc: 0.9813\n",
            "Epoch 337/500\n",
            "2/2 [==============================] - 0s 169ms/step - loss: 8.4351e-05 - acc: 1.0000 - val_loss: 0.1749 - val_acc: 0.9813\n",
            "Epoch 338/500\n",
            "2/2 [==============================] - 0s 171ms/step - loss: 7.5490e-05 - acc: 1.0000 - val_loss: 0.1752 - val_acc: 0.9813\n",
            "Epoch 339/500\n",
            "2/2 [==============================] - 0s 168ms/step - loss: 7.7117e-05 - acc: 1.0000 - val_loss: 0.1759 - val_acc: 0.9813\n",
            "Epoch 340/500\n",
            "2/2 [==============================] - 0s 175ms/step - loss: 8.4690e-05 - acc: 1.0000 - val_loss: 0.1756 - val_acc: 0.9813\n",
            "Epoch 341/500\n",
            "2/2 [==============================] - 0s 175ms/step - loss: 7.7957e-05 - acc: 1.0000 - val_loss: 0.1754 - val_acc: 0.9813\n",
            "Epoch 342/500\n",
            "2/2 [==============================] - 0s 170ms/step - loss: 7.6354e-05 - acc: 1.0000 - val_loss: 0.1757 - val_acc: 0.9813\n",
            "Epoch 343/500\n",
            "2/2 [==============================] - 0s 168ms/step - loss: 7.9817e-05 - acc: 1.0000 - val_loss: 0.1757 - val_acc: 0.9813\n",
            "Epoch 344/500\n",
            "2/2 [==============================] - 0s 168ms/step - loss: 7.9863e-05 - acc: 1.0000 - val_loss: 0.1762 - val_acc: 0.9813\n",
            "Epoch 345/500\n",
            "2/2 [==============================] - 0s 168ms/step - loss: 7.9809e-05 - acc: 1.0000 - val_loss: 0.1761 - val_acc: 0.9813\n",
            "Epoch 346/500\n",
            "2/2 [==============================] - 0s 167ms/step - loss: 7.3557e-05 - acc: 1.0000 - val_loss: 0.1763 - val_acc: 0.9813\n",
            "Epoch 347/500\n",
            "2/2 [==============================] - 0s 168ms/step - loss: 7.6854e-05 - acc: 1.0000 - val_loss: 0.1767 - val_acc: 0.9813\n",
            "Epoch 348/500\n",
            "2/2 [==============================] - 0s 165ms/step - loss: 7.4647e-05 - acc: 1.0000 - val_loss: 0.1766 - val_acc: 0.9813\n",
            "Epoch 349/500\n",
            "2/2 [==============================] - 0s 166ms/step - loss: 7.1534e-05 - acc: 1.0000 - val_loss: 0.1766 - val_acc: 0.9813\n",
            "Epoch 350/500\n",
            "2/2 [==============================] - 0s 170ms/step - loss: 7.3807e-05 - acc: 1.0000 - val_loss: 0.1764 - val_acc: 0.9813\n",
            "Epoch 351/500\n",
            "2/2 [==============================] - 0s 177ms/step - loss: 7.4295e-05 - acc: 1.0000 - val_loss: 0.1764 - val_acc: 0.9813\n",
            "Epoch 352/500\n",
            "2/2 [==============================] - 0s 167ms/step - loss: 6.9883e-05 - acc: 1.0000 - val_loss: 0.1768 - val_acc: 0.9813\n",
            "Epoch 353/500\n",
            "2/2 [==============================] - 0s 170ms/step - loss: 7.1859e-05 - acc: 1.0000 - val_loss: 0.1770 - val_acc: 0.9813\n",
            "Epoch 354/500\n",
            "2/2 [==============================] - 0s 175ms/step - loss: 7.0515e-05 - acc: 1.0000 - val_loss: 0.1776 - val_acc: 0.9813\n",
            "Epoch 355/500\n",
            "2/2 [==============================] - 0s 170ms/step - loss: 7.1316e-05 - acc: 1.0000 - val_loss: 0.1773 - val_acc: 0.9813\n",
            "Epoch 356/500\n",
            "2/2 [==============================] - 0s 168ms/step - loss: 7.2209e-05 - acc: 1.0000 - val_loss: 0.1774 - val_acc: 0.9813\n",
            "Epoch 357/500\n",
            "2/2 [==============================] - 0s 168ms/step - loss: 7.0036e-05 - acc: 1.0000 - val_loss: 0.1774 - val_acc: 0.9813\n",
            "Epoch 358/500\n",
            "2/2 [==============================] - 0s 174ms/step - loss: 6.9112e-05 - acc: 1.0000 - val_loss: 0.1773 - val_acc: 0.9813\n",
            "Epoch 359/500\n",
            "2/2 [==============================] - 0s 171ms/step - loss: 6.4845e-05 - acc: 1.0000 - val_loss: 0.1770 - val_acc: 0.9813\n",
            "Epoch 360/500\n",
            "2/2 [==============================] - 0s 169ms/step - loss: 6.6024e-05 - acc: 1.0000 - val_loss: 0.1778 - val_acc: 0.9813\n",
            "Epoch 361/500\n",
            "2/2 [==============================] - 0s 170ms/step - loss: 6.3748e-05 - acc: 1.0000 - val_loss: 0.1785 - val_acc: 0.9813\n",
            "Epoch 362/500\n",
            "2/2 [==============================] - 0s 174ms/step - loss: 6.6446e-05 - acc: 1.0000 - val_loss: 0.1785 - val_acc: 0.9813\n",
            "Epoch 363/500\n",
            "2/2 [==============================] - 0s 170ms/step - loss: 6.6828e-05 - acc: 1.0000 - val_loss: 0.1782 - val_acc: 0.9813\n",
            "Epoch 364/500\n",
            "2/2 [==============================] - 0s 167ms/step - loss: 6.4087e-05 - acc: 1.0000 - val_loss: 0.1781 - val_acc: 0.9813\n",
            "Epoch 365/500\n",
            "2/2 [==============================] - 0s 170ms/step - loss: 6.5442e-05 - acc: 1.0000 - val_loss: 0.1783 - val_acc: 0.9813\n",
            "Epoch 366/500\n",
            "2/2 [==============================] - 0s 173ms/step - loss: 6.4612e-05 - acc: 1.0000 - val_loss: 0.1787 - val_acc: 0.9813\n",
            "Epoch 367/500\n",
            "2/2 [==============================] - 0s 171ms/step - loss: 6.0749e-05 - acc: 1.0000 - val_loss: 0.1790 - val_acc: 0.9813\n",
            "Epoch 368/500\n",
            "2/2 [==============================] - 0s 175ms/step - loss: 6.2378e-05 - acc: 1.0000 - val_loss: 0.1791 - val_acc: 0.9813\n",
            "Epoch 369/500\n",
            "2/2 [==============================] - 0s 166ms/step - loss: 6.1242e-05 - acc: 1.0000 - val_loss: 0.1788 - val_acc: 0.9813\n",
            "Epoch 370/500\n",
            "2/2 [==============================] - 0s 166ms/step - loss: 6.2862e-05 - acc: 1.0000 - val_loss: 0.1784 - val_acc: 0.9813\n",
            "Epoch 371/500\n",
            "2/2 [==============================] - 0s 171ms/step - loss: 6.3877e-05 - acc: 1.0000 - val_loss: 0.1788 - val_acc: 0.9813\n",
            "Epoch 372/500\n",
            "2/2 [==============================] - 0s 170ms/step - loss: 6.1850e-05 - acc: 1.0000 - val_loss: 0.1793 - val_acc: 0.9813\n",
            "Epoch 373/500\n",
            "2/2 [==============================] - 0s 171ms/step - loss: 5.8556e-05 - acc: 1.0000 - val_loss: 0.1800 - val_acc: 0.9813\n",
            "Epoch 374/500\n",
            "2/2 [==============================] - 0s 169ms/step - loss: 6.2647e-05 - acc: 1.0000 - val_loss: 0.1801 - val_acc: 0.9813\n",
            "Epoch 375/500\n",
            "2/2 [==============================] - 0s 168ms/step - loss: 6.0709e-05 - acc: 1.0000 - val_loss: 0.1798 - val_acc: 0.9813\n",
            "Epoch 376/500\n",
            "2/2 [==============================] - 0s 168ms/step - loss: 6.0530e-05 - acc: 1.0000 - val_loss: 0.1792 - val_acc: 0.9813\n",
            "Epoch 377/500\n",
            "2/2 [==============================] - 0s 176ms/step - loss: 5.5932e-05 - acc: 1.0000 - val_loss: 0.1790 - val_acc: 0.9813\n",
            "Epoch 378/500\n",
            "2/2 [==============================] - 0s 168ms/step - loss: 6.0132e-05 - acc: 1.0000 - val_loss: 0.1799 - val_acc: 0.9813\n",
            "Epoch 379/500\n",
            "2/2 [==============================] - 0s 167ms/step - loss: 6.2295e-05 - acc: 1.0000 - val_loss: 0.1805 - val_acc: 0.9813\n",
            "Epoch 380/500\n",
            "2/2 [==============================] - 0s 172ms/step - loss: 5.9248e-05 - acc: 1.0000 - val_loss: 0.1806 - val_acc: 0.9813\n",
            "Epoch 381/500\n",
            "2/2 [==============================] - 0s 169ms/step - loss: 5.4233e-05 - acc: 1.0000 - val_loss: 0.1801 - val_acc: 0.9813\n",
            "Epoch 382/500\n",
            "2/2 [==============================] - 0s 170ms/step - loss: 5.4669e-05 - acc: 1.0000 - val_loss: 0.1798 - val_acc: 0.9813\n",
            "Epoch 383/500\n",
            "2/2 [==============================] - 0s 171ms/step - loss: 5.5986e-05 - acc: 1.0000 - val_loss: 0.1797 - val_acc: 0.9813\n",
            "Epoch 384/500\n",
            "2/2 [==============================] - 0s 166ms/step - loss: 5.3711e-05 - acc: 1.0000 - val_loss: 0.1805 - val_acc: 0.9813\n",
            "Epoch 385/500\n",
            "2/2 [==============================] - 0s 168ms/step - loss: 5.6224e-05 - acc: 1.0000 - val_loss: 0.1813 - val_acc: 0.9813\n",
            "Epoch 386/500\n",
            "2/2 [==============================] - 0s 168ms/step - loss: 5.5244e-05 - acc: 1.0000 - val_loss: 0.1815 - val_acc: 0.9813\n",
            "Epoch 387/500\n",
            "2/2 [==============================] - 0s 166ms/step - loss: 5.6011e-05 - acc: 1.0000 - val_loss: 0.1812 - val_acc: 0.9813\n",
            "Epoch 388/500\n",
            "2/2 [==============================] - 0s 170ms/step - loss: 5.4831e-05 - acc: 1.0000 - val_loss: 0.1807 - val_acc: 0.9813\n",
            "Epoch 389/500\n",
            "2/2 [==============================] - 0s 172ms/step - loss: 5.2594e-05 - acc: 1.0000 - val_loss: 0.1807 - val_acc: 0.9813\n",
            "Epoch 390/500\n",
            "2/2 [==============================] - 0s 169ms/step - loss: 5.6074e-05 - acc: 1.0000 - val_loss: 0.1812 - val_acc: 0.9813\n",
            "Epoch 391/500\n",
            "2/2 [==============================] - 0s 169ms/step - loss: 5.5188e-05 - acc: 1.0000 - val_loss: 0.1813 - val_acc: 0.9813\n",
            "Epoch 392/500\n",
            "2/2 [==============================] - 0s 168ms/step - loss: 5.3974e-05 - acc: 1.0000 - val_loss: 0.1818 - val_acc: 0.9813\n",
            "Epoch 393/500\n",
            "2/2 [==============================] - 0s 173ms/step - loss: 4.9538e-05 - acc: 1.0000 - val_loss: 0.1818 - val_acc: 0.9813\n",
            "Epoch 394/500\n",
            "2/2 [==============================] - 0s 167ms/step - loss: 5.0837e-05 - acc: 1.0000 - val_loss: 0.1816 - val_acc: 0.9813\n",
            "Epoch 395/500\n",
            "2/2 [==============================] - 0s 169ms/step - loss: 5.0195e-05 - acc: 1.0000 - val_loss: 0.1814 - val_acc: 0.9813\n",
            "Epoch 396/500\n",
            "2/2 [==============================] - 0s 169ms/step - loss: 4.9261e-05 - acc: 1.0000 - val_loss: 0.1816 - val_acc: 0.9813\n",
            "Epoch 397/500\n",
            "2/2 [==============================] - 0s 168ms/step - loss: 5.0248e-05 - acc: 1.0000 - val_loss: 0.1819 - val_acc: 0.9813\n",
            "Epoch 398/500\n",
            "2/2 [==============================] - 0s 174ms/step - loss: 5.0736e-05 - acc: 1.0000 - val_loss: 0.1823 - val_acc: 0.9813\n",
            "Epoch 399/500\n",
            "2/2 [==============================] - 0s 169ms/step - loss: 4.9672e-05 - acc: 1.0000 - val_loss: 0.1825 - val_acc: 0.9813\n",
            "Epoch 400/500\n",
            "2/2 [==============================] - 0s 172ms/step - loss: 4.8662e-05 - acc: 1.0000 - val_loss: 0.1824 - val_acc: 0.9813\n",
            "Epoch 401/500\n",
            "2/2 [==============================] - 0s 173ms/step - loss: 5.0520e-05 - acc: 1.0000 - val_loss: 0.1820 - val_acc: 0.9813\n",
            "Epoch 402/500\n",
            "2/2 [==============================] - 0s 167ms/step - loss: 4.6596e-05 - acc: 1.0000 - val_loss: 0.1820 - val_acc: 0.9813\n",
            "Epoch 403/500\n",
            "2/2 [==============================] - 0s 168ms/step - loss: 4.6920e-05 - acc: 1.0000 - val_loss: 0.1825 - val_acc: 0.9813\n",
            "Epoch 404/500\n",
            "2/2 [==============================] - 0s 172ms/step - loss: 4.7858e-05 - acc: 1.0000 - val_loss: 0.1826 - val_acc: 0.9813\n",
            "Epoch 405/500\n",
            "2/2 [==============================] - 0s 168ms/step - loss: 4.6752e-05 - acc: 1.0000 - val_loss: 0.1830 - val_acc: 0.9813\n",
            "Epoch 406/500\n",
            "2/2 [==============================] - 0s 173ms/step - loss: 4.4592e-05 - acc: 1.0000 - val_loss: 0.1828 - val_acc: 0.9813\n",
            "Epoch 407/500\n",
            "2/2 [==============================] - 0s 171ms/step - loss: 4.6667e-05 - acc: 1.0000 - val_loss: 0.1826 - val_acc: 0.9813\n",
            "Epoch 408/500\n",
            "2/2 [==============================] - 0s 174ms/step - loss: 4.5380e-05 - acc: 1.0000 - val_loss: 0.1826 - val_acc: 0.9813\n",
            "Epoch 409/500\n",
            "2/2 [==============================] - 0s 172ms/step - loss: 4.4762e-05 - acc: 1.0000 - val_loss: 0.1828 - val_acc: 0.9813\n",
            "Epoch 410/500\n",
            "2/2 [==============================] - 0s 170ms/step - loss: 4.7489e-05 - acc: 1.0000 - val_loss: 0.1833 - val_acc: 0.9813\n",
            "Epoch 411/500\n",
            "2/2 [==============================] - 0s 169ms/step - loss: 4.8223e-05 - acc: 1.0000 - val_loss: 0.1833 - val_acc: 0.9813\n",
            "Epoch 412/500\n",
            "2/2 [==============================] - 0s 166ms/step - loss: 4.4378e-05 - acc: 1.0000 - val_loss: 0.1833 - val_acc: 0.9813\n",
            "Epoch 413/500\n",
            "2/2 [==============================] - 0s 168ms/step - loss: 4.6225e-05 - acc: 1.0000 - val_loss: 0.1835 - val_acc: 0.9813\n",
            "Epoch 414/500\n",
            "2/2 [==============================] - 0s 174ms/step - loss: 4.5721e-05 - acc: 1.0000 - val_loss: 0.1836 - val_acc: 0.9813\n",
            "Epoch 415/500\n",
            "2/2 [==============================] - 0s 167ms/step - loss: 4.1737e-05 - acc: 1.0000 - val_loss: 0.1836 - val_acc: 0.9813\n",
            "Epoch 416/500\n",
            "2/2 [==============================] - 0s 175ms/step - loss: 4.3789e-05 - acc: 1.0000 - val_loss: 0.1840 - val_acc: 0.9813\n",
            "Epoch 417/500\n",
            "2/2 [==============================] - 0s 172ms/step - loss: 4.3351e-05 - acc: 1.0000 - val_loss: 0.1841 - val_acc: 0.9813\n",
            "Epoch 418/500\n",
            "2/2 [==============================] - 0s 170ms/step - loss: 4.1884e-05 - acc: 1.0000 - val_loss: 0.1837 - val_acc: 0.9813\n",
            "Epoch 419/500\n",
            "2/2 [==============================] - 0s 171ms/step - loss: 4.5511e-05 - acc: 1.0000 - val_loss: 0.1838 - val_acc: 0.9813\n",
            "Epoch 420/500\n",
            "2/2 [==============================] - 0s 168ms/step - loss: 4.1441e-05 - acc: 1.0000 - val_loss: 0.1842 - val_acc: 0.9813\n",
            "Epoch 421/500\n",
            "2/2 [==============================] - 0s 171ms/step - loss: 4.3294e-05 - acc: 1.0000 - val_loss: 0.1841 - val_acc: 0.9813\n",
            "Epoch 422/500\n",
            "2/2 [==============================] - 0s 171ms/step - loss: 4.1797e-05 - acc: 1.0000 - val_loss: 0.1842 - val_acc: 0.9813\n",
            "Epoch 423/500\n",
            "2/2 [==============================] - 0s 172ms/step - loss: 4.0897e-05 - acc: 1.0000 - val_loss: 0.1843 - val_acc: 0.9813\n",
            "Epoch 424/500\n",
            "2/2 [==============================] - 0s 171ms/step - loss: 4.1634e-05 - acc: 1.0000 - val_loss: 0.1841 - val_acc: 0.9813\n",
            "Epoch 425/500\n",
            "2/2 [==============================] - 0s 168ms/step - loss: 4.1678e-05 - acc: 1.0000 - val_loss: 0.1842 - val_acc: 0.9813\n",
            "Epoch 426/500\n",
            "2/2 [==============================] - 0s 176ms/step - loss: 4.2677e-05 - acc: 1.0000 - val_loss: 0.1845 - val_acc: 0.9813\n",
            "Epoch 427/500\n",
            "2/2 [==============================] - 0s 179ms/step - loss: 4.0811e-05 - acc: 1.0000 - val_loss: 0.1847 - val_acc: 0.9813\n",
            "Epoch 428/500\n",
            "2/2 [==============================] - 0s 171ms/step - loss: 4.0488e-05 - acc: 1.0000 - val_loss: 0.1850 - val_acc: 0.9813\n",
            "Epoch 429/500\n",
            "2/2 [==============================] - 0s 170ms/step - loss: 3.8668e-05 - acc: 1.0000 - val_loss: 0.1850 - val_acc: 0.9813\n",
            "Epoch 430/500\n",
            "2/2 [==============================] - 0s 170ms/step - loss: 3.8105e-05 - acc: 1.0000 - val_loss: 0.1847 - val_acc: 0.9813\n",
            "Epoch 431/500\n",
            "2/2 [==============================] - 0s 167ms/step - loss: 4.1110e-05 - acc: 1.0000 - val_loss: 0.1846 - val_acc: 0.9813\n",
            "Epoch 432/500\n",
            "2/2 [==============================] - 0s 169ms/step - loss: 4.0675e-05 - acc: 1.0000 - val_loss: 0.1851 - val_acc: 0.9813\n",
            "Epoch 433/500\n",
            "2/2 [==============================] - 0s 174ms/step - loss: 3.8443e-05 - acc: 1.0000 - val_loss: 0.1854 - val_acc: 0.9813\n",
            "Epoch 434/500\n",
            "2/2 [==============================] - 0s 169ms/step - loss: 4.0491e-05 - acc: 1.0000 - val_loss: 0.1853 - val_acc: 0.9813\n",
            "Epoch 435/500\n",
            "2/2 [==============================] - 0s 171ms/step - loss: 3.8335e-05 - acc: 1.0000 - val_loss: 0.1851 - val_acc: 0.9813\n",
            "Epoch 436/500\n",
            "2/2 [==============================] - 0s 174ms/step - loss: 3.9570e-05 - acc: 1.0000 - val_loss: 0.1850 - val_acc: 0.9813\n",
            "Epoch 437/500\n",
            "2/2 [==============================] - 0s 174ms/step - loss: 3.9930e-05 - acc: 1.0000 - val_loss: 0.1851 - val_acc: 0.9813\n",
            "Epoch 438/500\n",
            "2/2 [==============================] - 0s 169ms/step - loss: 3.7150e-05 - acc: 1.0000 - val_loss: 0.1855 - val_acc: 0.9813\n",
            "Epoch 439/500\n",
            "2/2 [==============================] - 0s 177ms/step - loss: 3.7815e-05 - acc: 1.0000 - val_loss: 0.1854 - val_acc: 0.9813\n",
            "Epoch 440/500\n",
            "2/2 [==============================] - 0s 174ms/step - loss: 3.7751e-05 - acc: 1.0000 - val_loss: 0.1856 - val_acc: 0.9813\n",
            "Epoch 441/500\n",
            "2/2 [==============================] - 0s 172ms/step - loss: 3.6830e-05 - acc: 1.0000 - val_loss: 0.1857 - val_acc: 0.9813\n",
            "Epoch 442/500\n",
            "2/2 [==============================] - 0s 169ms/step - loss: 3.6324e-05 - acc: 1.0000 - val_loss: 0.1859 - val_acc: 0.9813\n",
            "Epoch 443/500\n",
            "2/2 [==============================] - 0s 170ms/step - loss: 3.5953e-05 - acc: 1.0000 - val_loss: 0.1862 - val_acc: 0.9813\n",
            "Epoch 444/500\n",
            "2/2 [==============================] - 0s 174ms/step - loss: 3.8481e-05 - acc: 1.0000 - val_loss: 0.1859 - val_acc: 0.9813\n",
            "Epoch 445/500\n",
            "2/2 [==============================] - 0s 168ms/step - loss: 3.5918e-05 - acc: 1.0000 - val_loss: 0.1858 - val_acc: 0.9813\n",
            "Epoch 446/500\n",
            "2/2 [==============================] - 0s 168ms/step - loss: 3.4373e-05 - acc: 1.0000 - val_loss: 0.1860 - val_acc: 0.9813\n",
            "Epoch 447/500\n",
            "2/2 [==============================] - 0s 169ms/step - loss: 3.4794e-05 - acc: 1.0000 - val_loss: 0.1867 - val_acc: 0.9813\n",
            "Epoch 448/500\n",
            "2/2 [==============================] - 0s 177ms/step - loss: 3.7183e-05 - acc: 1.0000 - val_loss: 0.1867 - val_acc: 0.9813\n",
            "Epoch 449/500\n",
            "2/2 [==============================] - 0s 172ms/step - loss: 3.6501e-05 - acc: 1.0000 - val_loss: 0.1861 - val_acc: 0.9813\n",
            "Epoch 450/500\n",
            "2/2 [==============================] - 0s 170ms/step - loss: 3.6575e-05 - acc: 1.0000 - val_loss: 0.1862 - val_acc: 0.9813\n",
            "Epoch 451/500\n",
            "2/2 [==============================] - 0s 172ms/step - loss: 3.5247e-05 - acc: 1.0000 - val_loss: 0.1868 - val_acc: 0.9813\n",
            "Epoch 452/500\n",
            "2/2 [==============================] - 0s 173ms/step - loss: 3.6139e-05 - acc: 1.0000 - val_loss: 0.1868 - val_acc: 0.9813\n",
            "Epoch 453/500\n",
            "2/2 [==============================] - 0s 170ms/step - loss: 3.4786e-05 - acc: 1.0000 - val_loss: 0.1869 - val_acc: 0.9813\n",
            "Epoch 454/500\n",
            "2/2 [==============================] - 0s 170ms/step - loss: 3.4898e-05 - acc: 1.0000 - val_loss: 0.1867 - val_acc: 0.9813\n",
            "Epoch 455/500\n",
            "2/2 [==============================] - 0s 171ms/step - loss: 3.3023e-05 - acc: 1.0000 - val_loss: 0.1865 - val_acc: 0.9813\n",
            "Epoch 456/500\n",
            "2/2 [==============================] - 0s 174ms/step - loss: 3.2680e-05 - acc: 1.0000 - val_loss: 0.1865 - val_acc: 0.9813\n",
            "Epoch 457/500\n",
            "2/2 [==============================] - 0s 169ms/step - loss: 3.4303e-05 - acc: 1.0000 - val_loss: 0.1867 - val_acc: 0.9813\n",
            "Epoch 458/500\n",
            "2/2 [==============================] - 0s 175ms/step - loss: 3.2348e-05 - acc: 1.0000 - val_loss: 0.1871 - val_acc: 0.9813\n",
            "Epoch 459/500\n",
            "2/2 [==============================] - 0s 173ms/step - loss: 3.3121e-05 - acc: 1.0000 - val_loss: 0.1874 - val_acc: 0.9813\n",
            "Epoch 460/500\n",
            "2/2 [==============================] - 0s 170ms/step - loss: 3.2640e-05 - acc: 1.0000 - val_loss: 0.1875 - val_acc: 0.9813\n",
            "Epoch 461/500\n",
            "2/2 [==============================] - 0s 171ms/step - loss: 3.3865e-05 - acc: 1.0000 - val_loss: 0.1873 - val_acc: 0.9813\n",
            "Epoch 462/500\n",
            "2/2 [==============================] - 0s 178ms/step - loss: 3.2892e-05 - acc: 1.0000 - val_loss: 0.1874 - val_acc: 0.9813\n",
            "Epoch 463/500\n",
            "2/2 [==============================] - 0s 171ms/step - loss: 3.2662e-05 - acc: 1.0000 - val_loss: 0.1876 - val_acc: 0.9813\n",
            "Epoch 464/500\n",
            "2/2 [==============================] - 0s 168ms/step - loss: 3.3274e-05 - acc: 1.0000 - val_loss: 0.1875 - val_acc: 0.9813\n",
            "Epoch 465/500\n",
            "2/2 [==============================] - 0s 171ms/step - loss: 3.1504e-05 - acc: 1.0000 - val_loss: 0.1878 - val_acc: 0.9813\n",
            "Epoch 466/500\n",
            "2/2 [==============================] - 0s 167ms/step - loss: 3.1958e-05 - acc: 1.0000 - val_loss: 0.1880 - val_acc: 0.9813\n",
            "Epoch 467/500\n",
            "2/2 [==============================] - 0s 170ms/step - loss: 3.2231e-05 - acc: 1.0000 - val_loss: 0.1878 - val_acc: 0.9813\n",
            "Epoch 468/500\n",
            "2/2 [==============================] - 0s 178ms/step - loss: 3.1469e-05 - acc: 1.0000 - val_loss: 0.1876 - val_acc: 0.9813\n",
            "Epoch 469/500\n",
            "2/2 [==============================] - 0s 168ms/step - loss: 2.9603e-05 - acc: 1.0000 - val_loss: 0.1876 - val_acc: 0.9813\n",
            "Epoch 470/500\n",
            "2/2 [==============================] - 0s 171ms/step - loss: 3.0374e-05 - acc: 1.0000 - val_loss: 0.1876 - val_acc: 0.9813\n",
            "Epoch 471/500\n",
            "2/2 [==============================] - 0s 173ms/step - loss: 3.0845e-05 - acc: 1.0000 - val_loss: 0.1881 - val_acc: 0.9813\n",
            "Epoch 472/500\n",
            "2/2 [==============================] - 0s 171ms/step - loss: 2.9537e-05 - acc: 1.0000 - val_loss: 0.1884 - val_acc: 0.9813\n",
            "Epoch 473/500\n",
            "2/2 [==============================] - 0s 167ms/step - loss: 3.0697e-05 - acc: 1.0000 - val_loss: 0.1884 - val_acc: 0.9813\n",
            "Epoch 474/500\n",
            "2/2 [==============================] - 0s 170ms/step - loss: 3.0053e-05 - acc: 1.0000 - val_loss: 0.1883 - val_acc: 0.9813\n",
            "Epoch 475/500\n",
            "2/2 [==============================] - 0s 171ms/step - loss: 3.1010e-05 - acc: 1.0000 - val_loss: 0.1884 - val_acc: 0.9813\n",
            "Epoch 476/500\n",
            "2/2 [==============================] - 0s 170ms/step - loss: 3.0533e-05 - acc: 1.0000 - val_loss: 0.1882 - val_acc: 0.9813\n",
            "Epoch 477/500\n",
            "2/2 [==============================] - 0s 173ms/step - loss: 3.1574e-05 - acc: 1.0000 - val_loss: 0.1880 - val_acc: 0.9813\n",
            "Epoch 478/500\n",
            "2/2 [==============================] - 0s 176ms/step - loss: 3.0363e-05 - acc: 1.0000 - val_loss: 0.1885 - val_acc: 0.9813\n",
            "Epoch 479/500\n",
            "2/2 [==============================] - 0s 174ms/step - loss: 2.8073e-05 - acc: 1.0000 - val_loss: 0.1889 - val_acc: 0.9813\n",
            "Epoch 480/500\n",
            "2/2 [==============================] - 0s 168ms/step - loss: 2.9388e-05 - acc: 1.0000 - val_loss: 0.1886 - val_acc: 0.9813\n",
            "Epoch 481/500\n",
            "2/2 [==============================] - 0s 170ms/step - loss: 2.9473e-05 - acc: 1.0000 - val_loss: 0.1889 - val_acc: 0.9813\n",
            "Epoch 482/500\n",
            "2/2 [==============================] - 0s 172ms/step - loss: 2.9580e-05 - acc: 1.0000 - val_loss: 0.1889 - val_acc: 0.9813\n",
            "Epoch 483/500\n",
            "2/2 [==============================] - 0s 172ms/step - loss: 2.9250e-05 - acc: 1.0000 - val_loss: 0.1890 - val_acc: 0.9813\n",
            "Epoch 484/500\n",
            "2/2 [==============================] - 0s 175ms/step - loss: 2.9571e-05 - acc: 1.0000 - val_loss: 0.1891 - val_acc: 0.9813\n",
            "Epoch 485/500\n",
            "2/2 [==============================] - 0s 172ms/step - loss: 2.8307e-05 - acc: 1.0000 - val_loss: 0.1892 - val_acc: 0.9813\n",
            "Epoch 486/500\n",
            "2/2 [==============================] - 0s 172ms/step - loss: 2.7906e-05 - acc: 1.0000 - val_loss: 0.1893 - val_acc: 0.9813\n",
            "Epoch 487/500\n",
            "2/2 [==============================] - 0s 172ms/step - loss: 2.9573e-05 - acc: 1.0000 - val_loss: 0.1891 - val_acc: 0.9813\n",
            "Epoch 488/500\n",
            "2/2 [==============================] - 0s 176ms/step - loss: 2.9346e-05 - acc: 1.0000 - val_loss: 0.1891 - val_acc: 0.9813\n",
            "Epoch 489/500\n",
            "2/2 [==============================] - 0s 173ms/step - loss: 2.7043e-05 - acc: 1.0000 - val_loss: 0.1892 - val_acc: 0.9813\n",
            "Epoch 490/500\n",
            "2/2 [==============================] - 0s 172ms/step - loss: 2.6247e-05 - acc: 1.0000 - val_loss: 0.1892 - val_acc: 0.9813\n",
            "Epoch 491/500\n",
            "2/2 [==============================] - 0s 173ms/step - loss: 2.8686e-05 - acc: 1.0000 - val_loss: 0.1895 - val_acc: 0.9813\n",
            "Epoch 492/500\n",
            "2/2 [==============================] - 0s 172ms/step - loss: 2.7933e-05 - acc: 1.0000 - val_loss: 0.1897 - val_acc: 0.9813\n",
            "Epoch 493/500\n",
            "2/2 [==============================] - 0s 174ms/step - loss: 2.7098e-05 - acc: 1.0000 - val_loss: 0.1895 - val_acc: 0.9813\n",
            "Epoch 494/500\n",
            "2/2 [==============================] - 0s 171ms/step - loss: 2.6624e-05 - acc: 1.0000 - val_loss: 0.1897 - val_acc: 0.9813\n",
            "Epoch 495/500\n",
            "2/2 [==============================] - 0s 172ms/step - loss: 2.6511e-05 - acc: 1.0000 - val_loss: 0.1898 - val_acc: 0.9813\n",
            "Epoch 496/500\n",
            "2/2 [==============================] - 0s 173ms/step - loss: 2.6692e-05 - acc: 1.0000 - val_loss: 0.1897 - val_acc: 0.9813\n",
            "Epoch 497/500\n",
            "2/2 [==============================] - 0s 173ms/step - loss: 2.6141e-05 - acc: 1.0000 - val_loss: 0.1897 - val_acc: 0.9813\n",
            "Epoch 498/500\n",
            "2/2 [==============================] - 0s 171ms/step - loss: 2.6465e-05 - acc: 1.0000 - val_loss: 0.1899 - val_acc: 0.9813\n",
            "Epoch 499/500\n",
            "2/2 [==============================] - 0s 177ms/step - loss: 2.7214e-05 - acc: 1.0000 - val_loss: 0.1896 - val_acc: 0.9813\n",
            "Epoch 500/500\n",
            "2/2 [==============================] - 0s 169ms/step - loss: 2.6193e-05 - acc: 1.0000 - val_loss: 0.1902 - val_acc: 0.9813\n"
          ],
          "name": "stdout"
        }
      ]
    },
    {
      "cell_type": "code",
      "metadata": {
        "id": "x2qzK4SJB5y9",
        "colab": {
          "base_uri": "https://localhost:8080/",
          "height": 241
        },
        "outputId": "f7f53bf4-14d3-4ca9-8f7b-4ab94320e2d0"
      },
      "source": [
        "plt.figure(figsize =(5,3))\n",
        "plt.plot(history.history['acc'], marker='.', label='tune')\n",
        "plt.plot(history.history['val_acc'], marker='.', label='test')\n",
        "plt.title('Accuracy')\n",
        "plt.grid(True)\n",
        "plt.xlabel('epoch')\n",
        "plt.ylabel('accuracy')\n",
        "plt.legend(loc='best')\n",
        "plt.show()"
      ],
      "execution_count": 47,
      "outputs": [
        {
          "output_type": "display_data",
          "data": {
            "image/png": "[encoded data removed]",
            "text/plain": [
              "<Figure size 360x216 with 1 Axes>"
            ]
          },
          "metadata": {
            "tags": [],
            "needs_background": "light"
          }
        }
      ]
    },
    {
      "cell_type": "code",
      "metadata": {
        "id": "9oGBi22ZGy38"
      },
      "source": [
        ""
      ],
      "execution_count": null,
      "outputs": []
    }
  ]
}