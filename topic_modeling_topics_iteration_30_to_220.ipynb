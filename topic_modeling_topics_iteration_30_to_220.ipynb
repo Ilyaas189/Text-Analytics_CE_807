{
  "nbformat": 4,
  "nbformat_minor": 0,
  "metadata": {
    "kernelspec": {
      "display_name": "Python 3",
      "language": "python",
      "name": "python3"
    },
    "language_info": {
      "codemirror_mode": {
        "name": "ipython",
        "version": 3
      },
      "file_extension": ".py",
      "mimetype": "text/x-python",
      "name": "python",
      "nbconvert_exporter": "python",
      "pygments_lexer": "ipython3",
      "version": "3.7.3"
    },
    "colab": {
      "name": "topic_modeling_topics_iteration_30_to_220.ipynb",
      "provenance": [],
      "collapsed_sections": [],
      "include_colab_link": true
    },
    "accelerator": "GPU"
  },
  "cells": [
    {
      "cell_type": "markdown",
      "metadata": {
        "id": "view-in-github",
        "colab_type": "text"
      },
      "source": [
        "<a href=\"https://colab.research.google.com/github/Ilyaas189/Text-Analytics_CE_807/blob/main/topic_modeling_topics_iteration_30_to_220.ipynb\" target=\"_parent\"><img src=\"https://colab.research.google.com/assets/colab-badge.svg\" alt=\"Open In Colab\"/></a>"
      ]
    },
    {
      "cell_type": "markdown",
      "metadata": {
        "id": "AYZxRd3GxOk0"
      },
      "source": [
        "### Import Libraries"
      ]
    },
    {
      "cell_type": "code",
      "metadata": {
        "id": "7PsViNw_xOlH"
      },
      "source": [
        "# import libraries\n",
        "import re\n",
        "import gensim\n",
        "import numpy as np\n",
        "from gensim import models\n",
        "from gensim import corpora\n",
        "from string import punctuation\n",
        "from nltk import RegexpTokenizer\n",
        "from nltk.corpus import stopwords\n",
        "from collections import defaultdict\n",
        "from gensim.corpora import Dictionary\n",
        "from nltk.stem.porter import PorterStemmer\n",
        "from sklearn.datasets import fetch_20newsgroups\n",
        "\n",
        "import matplotlib.pyplot as plt\n",
        "from sklearn import preprocessing\n",
        "from gensim.models import CoherenceModel\n",
        "from sklearn.metrics import accuracy_score\n",
        "from sklearn.linear_model import LogisticRegression\n",
        "from sklearn.model_selection import train_test_split\n",
        "from sklearn.model_selection import cross_val_score\n",
        "from sklearn.model_selection import cross_validate\n",
        "from sklearn.model_selection import StratifiedKFold\n",
        "\n",
        "import warnings\n",
        "warnings.filterwarnings('ignore')"
      ],
      "execution_count": 1,
      "outputs": []
    },
    {
      "cell_type": "markdown",
      "metadata": {
        "id": "9ma9zObfxOlK"
      },
      "source": [
        "### Data Pre-Processing"
      ]
    },
    {
      "cell_type": "code",
      "metadata": {
        "id": "OGrTdWlPPwM-",
        "colab": {
          "base_uri": "https://localhost:8080/"
        },
        "outputId": "d282c2e7-f0b9-4b0e-82ba-68e786af3c52"
      },
      "source": [
        "# extract 20newsgroup dataset\n",
        "newsgroups = fetch_20newsgroups()"
      ],
      "execution_count": 2,
      "outputs": [
        {
          "output_type": "stream",
          "text": [
            "Downloading 20news dataset. This may take a few minutes.\n",
            "Downloading dataset from https://ndownloader.figshare.com/files/5975967 (14 MB)\n"
          ],
          "name": "stderr"
        }
      ]
    },
    {
      "cell_type": "code",
      "metadata": {
        "colab": {
          "base_uri": "https://localhost:8080/"
        },
        "id": "EVvgTeTdxOlL",
        "outputId": "3ef25a0b-4f6d-4da9-db3f-c22e4416e9e2"
      },
      "source": [
        "print(\"All attributes in dataset:.......\"    ,len(newsgroups.keys()))\n",
        "print(\"-----------------------------------\\n\")\n",
        "print(\"All attributes names in dataset:.......\", (newsgroups.keys()))\n",
        "print(\"-----------------------------------\\n\")\n",
        "print(\"Total number of classes:.........\",len(np.unique(newsgroups['target_names'])))\n",
        "print(\"-----------------------------------\\n\")\n",
        "print(\"All unique classes:.......\",np.unique(newsgroups['target_names']))\n",
        "print(\"-----------------------------------\\n\")\n",
        "print(\"Total number of instances in daataset:.........\", len(newsgroups['data']))\n",
        "print(\"-----------------------------------\\n\")\n",
        "\n"
      ],
      "execution_count": 3,
      "outputs": [
        {
          "output_type": "stream",
          "text": [
            "All attributes in dataset:....... 5\n",
            "-----------------------------------\n",
            "\n",
            "All attributes names in dataset:....... dict_keys(['data', 'filenames', 'target_names', 'target', 'DESCR'])\n",
            "-----------------------------------\n",
            "\n",
            "Total number of classes:......... 20\n",
            "-----------------------------------\n",
            "\n",
            "All unique classes:....... ['alt.atheism' 'comp.graphics' 'comp.os.ms-windows.misc'\n",
            " 'comp.sys.ibm.pc.hardware' 'comp.sys.mac.hardware' 'comp.windows.x'\n",
            " 'misc.forsale' 'rec.autos' 'rec.motorcycles' 'rec.sport.baseball'\n",
            " 'rec.sport.hockey' 'sci.crypt' 'sci.electronics' 'sci.med' 'sci.space'\n",
            " 'soc.religion.christian' 'talk.politics.guns' 'talk.politics.mideast'\n",
            " 'talk.politics.misc' 'talk.religion.misc']\n",
            "-----------------------------------\n",
            "\n",
            "Total number of instances in daataset:......... 11314\n",
            "-----------------------------------\n",
            "\n"
          ],
          "name": "stdout"
        }
      ]
    },
    {
      "cell_type": "code",
      "metadata": {
        "colab": {
          "base_uri": "https://localhost:8080/"
        },
        "id": "p_hmpDurxtiB",
        "outputId": "87568e7b-1355-4e5a-ff5f-f97eb20ba025"
      },
      "source": [
        "import nltk\n",
        "nltk.download('stopwords')\n",
        "  "
      ],
      "execution_count": 4,
      "outputs": [
        {
          "output_type": "stream",
          "text": [
            "[nltk_data] Downloading package stopwords to /root/nltk_data...\n",
            "[nltk_data]   Unzipping corpora/stopwords.zip.\n"
          ],
          "name": "stdout"
        },
        {
          "output_type": "execute_result",
          "data": {
            "text/plain": [
              "True"
            ]
          },
          "metadata": {
            "tags": []
          },
          "execution_count": 4
        }
      ]
    },
    {
      "cell_type": "code",
      "metadata": {
        "colab": {
          "base_uri": "https://localhost:8080/"
        },
        "id": "QMTKQAozxOlO",
        "outputId": "c749cdb9-c80e-4f41-bb1e-56fc4ef211b5"
      },
      "source": [
        "\n",
        "# initialize a list of standard nltk stopwords for english language\n",
        "eng_stopwords = stopwords.words('english')\n",
        "# extend stopwords list to add more words that are in our dataset\n",
        "eng_stopwords.extend(['from', 'subject', 're', 'edu', 'use'])\n",
        "# initialize tokenizer\n",
        "tokenizer = RegexpTokenizer(r'\\s+', gaps=True)\n",
        "# initialize porter stemmer\n",
        "stemmer = PorterStemmer()\n",
        "# initialize all english punctuation marks\n",
        "translate_tab = {ord(p): u\" \" for p in punctuation}\n",
        "\n",
        "# make a method to clean data\n",
        "def text2tokens(raw_text):\n",
        "    \"\"\"Split the raw_text string into a list of stemmed tokens.\"\"\"\n",
        "    # remove email ids\n",
        "    clean_text = re.sub('\\S*@\\S*\\s?', '', raw_text)\n",
        "    # remove single quotes\n",
        "    clean_text = re.sub(\"\\'\", \"\", clean_text)\n",
        "    # lowercase letters and remove punctuations\n",
        "    clean_text = clean_text.lower().translate(translate_tab)\n",
        "    # tokenize data and remove extra spaces\n",
        "    tokens = [token.strip() for token in tokenizer.tokenize(clean_text)]\n",
        "    # remove stopwords\n",
        "    tokens = [token for token in tokens if token not in eng_stopwords]\n",
        "    # perform stemming on data\n",
        "    stemmed_tokens = [stemmer.stem(token) for token in tokens]\n",
        "    # skip short tokens\n",
        "    return [token for token in stemmed_tokens if len(token) > 2] \n",
        "\n",
        "# convert all documents in dataset to list of tokens\n",
        "dataset = [text2tokens(txt) for txt in newsgroups['data']]  \n",
        "print(\"Data Pre-Processing Done.....!\")"
      ],
      "execution_count": 5,
      "outputs": [
        {
          "output_type": "stream",
          "text": [
            "Data Pre-Processing Done.....!\n"
          ],
          "name": "stdout"
        }
      ]
    },
    {
      "cell_type": "markdown",
      "metadata": {
        "id": "PbG-V9GhxOlQ"
      },
      "source": [
        "### Build Dictionary"
      ]
    },
    {
      "cell_type": "code",
      "metadata": {
        "colab": {
          "base_uri": "https://localhost:8080/"
        },
        "id": "3mItOFWkxOlR",
        "outputId": "a1b5602a-4015-436e-a5ed-1512c1b68c8e"
      },
      "source": [
        "# make dictionary of complete dataset\n",
        "dictionary = Dictionary(documents=dataset, prune_at=None)\n",
        "# use Dictionary to remove un-relevant tokens\n",
        "dictionary.filter_extremes(no_below=5, no_above=0.3, keep_n=None)  \n",
        "dictionary.compactify()\n",
        "# make unigrams\n",
        "d2b_dataset = [dictionary.doc2bow(doc) for doc in dataset]\n",
        "print(\"Build Dcitionary Done....!\")"
      ],
      "execution_count": 6,
      "outputs": [
        {
          "output_type": "stream",
          "text": [
            "Build Dcitionary Done....!\n"
          ],
          "name": "stdout"
        }
      ]
    },
    {
      "cell_type": "markdown",
      "metadata": {
        "id": "k5R2dr7lxOlT"
      },
      "source": [
        "### Find optimal value of alpha and beta"
      ]
    },
    {
      "cell_type": "code",
      "metadata": {
        "id": "hxRoYFbZxOlU"
      },
      "source": [
        "# list of number of topics\n",
        "topics = [30,40,50,60,70,80,90,100,110,120,130,140,150,160,170]\n",
        "# Alpha parameter\n",
        "alpha = [0.001,0.1]\n",
        "alpha.append('symmetric')\n",
        "alpha.append('asymmetric')\n",
        "# Beta parameter\n",
        "beta = [0.1,1.0,10.0]\n",
        "\n",
        "model_results = {'Topics': [],\n",
        "                 'Alpha': [],\n",
        "                 'Beta': [],\n",
        "                 'Coherence': []\n",
        "                }\n",
        "\n",
        "for topic_num in topics:\n",
        "    # iterate through alpha values\n",
        "    for a in alpha:\n",
        "        # iterare through beta values\n",
        "        for b in beta:\n",
        "            # get the coherence score for the given parameters\n",
        "            lda_model = models.LdaModel(corpus=d2b_dataset,\n",
        "                                           id2word=dictionary,\n",
        "                                           num_topics=topic_num, \n",
        "                                           random_state=100,\n",
        "                                           chunksize=500,\n",
        "                                           passes=2,\n",
        "                                           alpha=a,\n",
        "                                           eta=b)\n",
        "    \n",
        "            coherence_model_lda = CoherenceModel(model=lda_model, texts=dataset, dictionary=dictionary, coherence='c_v')\n",
        "            coherence_score = coherence_model_lda.get_coherence()\n",
        "            \n",
        "            \n",
        "            model_results['Topics'].append(topic_num)\n",
        "            model_results['Alpha'].append(a)\n",
        "            model_results['Beta'].append(b)\n",
        "            model_results['Coherence'].append(coherence_score)"
      ],
      "execution_count": 7,
      "outputs": []
    },
    {
      "cell_type": "markdown",
      "metadata": {
        "id": "zMtPqQ4gT9Da"
      },
      "source": [
        "### Train - Test split with 80:20 ratio\n",
        "### Further 10% from train data will be used for tuning. We will be using kfold cross validation where 10 number of splits will be created and at each step one part of data will be used for tuning and other will be for training\n"
      ]
    },
    {
      "cell_type": "markdown",
      "metadata": {
        "id": "vqC-AmLwxOlV"
      },
      "source": [
        "### Make object of classification model"
      ]
    },
    {
      "cell_type": "code",
      "metadata": {
        "id": "M6zEojevxOlW"
      },
      "source": [
        "# make model object\n",
        "lr = LogisticRegression(class_weight= 'balanced',solver='newton-cg',fit_intercept=True)"
      ],
      "execution_count": 8,
      "outputs": []
    },
    {
      "cell_type": "markdown",
      "metadata": {
        "id": "SsbYgq8YxOlW"
      },
      "source": [
        "### Find optimal number of topics using classification"
      ]
    },
    {
      "cell_type": "code",
      "metadata": {
        "id": "aYi2Y4r-xOlW",
        "colab": {
          "base_uri": "https://localhost:8080/"
        },
        "outputId": "8986c520-3cd2-4237-f46b-e9cb42ebff0c"
      },
      "source": [
        "# list of number of topics\n",
        "topics = [30,40,50,60,70,80,90,100,110,120,130,140,150,160,170,180,190,200,210,220]\n",
        "acc_list_train = []\n",
        "acc_list_valid = []\n",
        "acc_list_test = []\n",
        "\n",
        "# iterate over all number of topics\n",
        "for topic_num in topics:\n",
        "    # build and fit lda model on dataset\n",
        "    lda_model = models.LdaModel(d2b_dataset, num_topics=topic_num, id2word=dictionary,chunksize=500, passes=2, alpha=[0.01]*topic_num, eta=[1.0]*len(dictionary.keys()))\n",
        "    train_vecs = []\n",
        "    # make feature vectors of topics extracted from lda model\n",
        "    for i in range(len(d2b_dataset)):\n",
        "        # make sure all values are present also keep te values having 0 probability\n",
        "        top_topics = lda_model.get_document_topics(d2b_dataset[i], minimum_probability=0.0)\n",
        "        # retrieve all present topics\n",
        "        topic_vec = [top_topics[x][1] for x in range(topic_num)]\n",
        "        train_vecs.append(topic_vec)\n",
        "    # convert input data feature vectors into array\n",
        "    x_scaled = np.array(train_vecs)\n",
        "    y = newsgroups['target']\n",
        "    x_train, x_test, y_train, y_test = train_test_split(x_scaled, y, test_size=0.2, random_state=42)\n",
        "\n",
        "    \n",
        "    # perform cross validation where number of folds = 10\n",
        "    # shuffle and split dataset into 5 folds\n",
        "    CV = list(StratifiedKFold(n_splits=10, shuffle=True, random_state=0).split(x_train, y_train))\n",
        "    # evaluate model using accuracy and f1 measure on held-out dataset\n",
        "    scores_list_train = []\n",
        "    scores_list_valid = []\n",
        "    for train,valid in CV:\n",
        "        # fit model on train data\n",
        "        clf = lr.fit(x_train[train],y_train[train])\n",
        "        # make predictions on validation data\n",
        "        pred_train = clf.predict(x_train[train])\n",
        "        pred_valid = clf.predict(x_train[valid])\n",
        "        # calculate accuracy\n",
        "        scores_list_train.append(accuracy_score(y_train[train], pred_train))\n",
        "        scores_list_valid.append(accuracy_score(y_train[valid], pred_valid))\n",
        "        \n",
        "    pred_test = clf.predict(x_test)\n",
        "        # calculate accuracy\n",
        "    acc_list_test.append(accuracy_score(y_test, pred_test))\n",
        "    acc_list_train.append(np.array(scores_list_train).mean())\n",
        "    acc_list_valid.append(np.array(scores_list_valid).mean())\n",
        "print(\"Training and Testing Done....\")\n"
      ],
      "execution_count": 30,
      "outputs": [
        {
          "output_type": "stream",
          "text": [
            "Training and Testing Done....\n"
          ],
          "name": "stdout"
        }
      ]
    },
    {
      "cell_type": "code",
      "metadata": {
        "colab": {
          "base_uri": "https://localhost:8080/",
          "height": 648
        },
        "id": "Q2M-gBLzxOlY",
        "outputId": "1dae4130-2776-4005-ae52-43d0952384ff"
      },
      "source": [
        "import pandas as pd\n",
        "topic_num = pd.DataFrame(topics)\n",
        "train_accuracy = pd.DataFrame(acc_list_train)\n",
        "tune_accuracy = pd.DataFrame(acc_list_valid)\n",
        "train_res = pd.concat([topic_num, train_accuracy],axis = 1)\n",
        "tune_res = pd.concat([topic_num, tune_accuracy],axis = 1)\n",
        "train_res.columns=['No. of Topics','Train Accuracy']\n",
        "tune_res.columns=['No. of Topics','Tune Accuracy']\n",
        "train_res"
      ],
      "execution_count": 31,
      "outputs": [
        {
          "output_type": "execute_result",
          "data": {
            "text/html": [
              "<div>\n",
              "<style scoped>\n",
              "    .dataframe tbody tr th:only-of-type {\n",
              "        vertical-align: middle;\n",
              "    }\n",
              "\n",
              "    .dataframe tbody tr th {\n",
              "        vertical-align: top;\n",
              "    }\n",
              "\n",
              "    .dataframe thead th {\n",
              "        text-align: right;\n",
              "    }\n",
              "</style>\n",
              "<table border=\"1\" class=\"dataframe\">\n",
              "  <thead>\n",
              "    <tr style=\"text-align: right;\">\n",
              "      <th></th>\n",
              "      <th>No. of Topics</th>\n",
              "      <th>Train Accuracy</th>\n",
              "    </tr>\n",
              "  </thead>\n",
              "  <tbody>\n",
              "    <tr>\n",
              "      <th>0</th>\n",
              "      <td>30</td>\n",
              "      <td>0.599958</td>\n",
              "    </tr>\n",
              "    <tr>\n",
              "      <th>1</th>\n",
              "      <td>40</td>\n",
              "      <td>0.645282</td>\n",
              "    </tr>\n",
              "    <tr>\n",
              "      <th>2</th>\n",
              "      <td>50</td>\n",
              "      <td>0.590015</td>\n",
              "    </tr>\n",
              "    <tr>\n",
              "      <th>3</th>\n",
              "      <td>60</td>\n",
              "      <td>0.632318</td>\n",
              "    </tr>\n",
              "    <tr>\n",
              "      <th>4</th>\n",
              "      <td>70</td>\n",
              "      <td>0.655495</td>\n",
              "    </tr>\n",
              "    <tr>\n",
              "      <th>5</th>\n",
              "      <td>80</td>\n",
              "      <td>0.641132</td>\n",
              "    </tr>\n",
              "    <tr>\n",
              "      <th>6</th>\n",
              "      <td>90</td>\n",
              "      <td>0.622964</td>\n",
              "    </tr>\n",
              "    <tr>\n",
              "      <th>7</th>\n",
              "      <td>100</td>\n",
              "      <td>0.593673</td>\n",
              "    </tr>\n",
              "    <tr>\n",
              "      <th>8</th>\n",
              "      <td>110</td>\n",
              "      <td>0.639119</td>\n",
              "    </tr>\n",
              "    <tr>\n",
              "      <th>9</th>\n",
              "      <td>120</td>\n",
              "      <td>0.649505</td>\n",
              "    </tr>\n",
              "    <tr>\n",
              "      <th>10</th>\n",
              "      <td>130</td>\n",
              "      <td>0.687487</td>\n",
              "    </tr>\n",
              "    <tr>\n",
              "      <th>11</th>\n",
              "      <td>140</td>\n",
              "      <td>0.605200</td>\n",
              "    </tr>\n",
              "    <tr>\n",
              "      <th>12</th>\n",
              "      <td>150</td>\n",
              "      <td>0.632944</td>\n",
              "    </tr>\n",
              "    <tr>\n",
              "      <th>13</th>\n",
              "      <td>160</td>\n",
              "      <td>0.610147</td>\n",
              "    </tr>\n",
              "    <tr>\n",
              "      <th>14</th>\n",
              "      <td>170</td>\n",
              "      <td>0.692140</td>\n",
              "    </tr>\n",
              "    <tr>\n",
              "      <th>15</th>\n",
              "      <td>180</td>\n",
              "      <td>0.660406</td>\n",
              "    </tr>\n",
              "    <tr>\n",
              "      <th>16</th>\n",
              "      <td>190</td>\n",
              "      <td>0.652205</td>\n",
              "    </tr>\n",
              "    <tr>\n",
              "      <th>17</th>\n",
              "      <td>200</td>\n",
              "      <td>0.645859</td>\n",
              "    </tr>\n",
              "    <tr>\n",
              "      <th>18</th>\n",
              "      <td>210</td>\n",
              "      <td>0.621380</td>\n",
              "    </tr>\n",
              "    <tr>\n",
              "      <th>19</th>\n",
              "      <td>220</td>\n",
              "      <td>0.621945</td>\n",
              "    </tr>\n",
              "  </tbody>\n",
              "</table>\n",
              "</div>"
            ],
            "text/plain": [
              "    No. of Topics  Train Accuracy\n",
              "0              30        0.599958\n",
              "1              40        0.645282\n",
              "2              50        0.590015\n",
              "3              60        0.632318\n",
              "4              70        0.655495\n",
              "5              80        0.641132\n",
              "6              90        0.622964\n",
              "7             100        0.593673\n",
              "8             110        0.639119\n",
              "9             120        0.649505\n",
              "10            130        0.687487\n",
              "11            140        0.605200\n",
              "12            150        0.632944\n",
              "13            160        0.610147\n",
              "14            170        0.692140\n",
              "15            180        0.660406\n",
              "16            190        0.652205\n",
              "17            200        0.645859\n",
              "18            210        0.621380\n",
              "19            220        0.621945"
            ]
          },
          "metadata": {
            "tags": []
          },
          "execution_count": 31
        }
      ]
    },
    {
      "cell_type": "code",
      "metadata": {
        "colab": {
          "base_uri": "https://localhost:8080/",
          "height": 648
        },
        "id": "-T9OafCoG0G9",
        "outputId": "6abc22ba-4ce8-461c-fe93-d270081f36a5"
      },
      "source": [
        "tune_res"
      ],
      "execution_count": 32,
      "outputs": [
        {
          "output_type": "execute_result",
          "data": {
            "text/html": [
              "<div>\n",
              "<style scoped>\n",
              "    .dataframe tbody tr th:only-of-type {\n",
              "        vertical-align: middle;\n",
              "    }\n",
              "\n",
              "    .dataframe tbody tr th {\n",
              "        vertical-align: top;\n",
              "    }\n",
              "\n",
              "    .dataframe thead th {\n",
              "        text-align: right;\n",
              "    }\n",
              "</style>\n",
              "<table border=\"1\" class=\"dataframe\">\n",
              "  <thead>\n",
              "    <tr style=\"text-align: right;\">\n",
              "      <th></th>\n",
              "      <th>No. of Topics</th>\n",
              "      <th>Tune Accuracy</th>\n",
              "    </tr>\n",
              "  </thead>\n",
              "  <tbody>\n",
              "    <tr>\n",
              "      <th>0</th>\n",
              "      <td>30</td>\n",
              "      <td>0.593084</td>\n",
              "    </tr>\n",
              "    <tr>\n",
              "      <th>1</th>\n",
              "      <td>40</td>\n",
              "      <td>0.638048</td>\n",
              "    </tr>\n",
              "    <tr>\n",
              "      <th>2</th>\n",
              "      <td>50</td>\n",
              "      <td>0.582365</td>\n",
              "    </tr>\n",
              "    <tr>\n",
              "      <th>3</th>\n",
              "      <td>60</td>\n",
              "      <td>0.623136</td>\n",
              "    </tr>\n",
              "    <tr>\n",
              "      <th>4</th>\n",
              "      <td>70</td>\n",
              "      <td>0.649321</td>\n",
              "    </tr>\n",
              "    <tr>\n",
              "      <th>5</th>\n",
              "      <td>80</td>\n",
              "      <td>0.633300</td>\n",
              "    </tr>\n",
              "    <tr>\n",
              "      <th>6</th>\n",
              "      <td>90</td>\n",
              "      <td>0.615069</td>\n",
              "    </tr>\n",
              "    <tr>\n",
              "      <th>7</th>\n",
              "      <td>100</td>\n",
              "      <td>0.586564</td>\n",
              "    </tr>\n",
              "    <tr>\n",
              "      <th>8</th>\n",
              "      <td>110</td>\n",
              "      <td>0.632967</td>\n",
              "    </tr>\n",
              "    <tr>\n",
              "      <th>9</th>\n",
              "      <td>120</td>\n",
              "      <td>0.642250</td>\n",
              "    </tr>\n",
              "    <tr>\n",
              "      <th>10</th>\n",
              "      <td>130</td>\n",
              "      <td>0.681583</td>\n",
              "    </tr>\n",
              "    <tr>\n",
              "      <th>11</th>\n",
              "      <td>140</td>\n",
              "      <td>0.595292</td>\n",
              "    </tr>\n",
              "    <tr>\n",
              "      <th>12</th>\n",
              "      <td>150</td>\n",
              "      <td>0.625676</td>\n",
              "    </tr>\n",
              "    <tr>\n",
              "      <th>13</th>\n",
              "      <td>160</td>\n",
              "      <td>0.602583</td>\n",
              "    </tr>\n",
              "    <tr>\n",
              "      <th>14</th>\n",
              "      <td>170</td>\n",
              "      <td>0.688322</td>\n",
              "    </tr>\n",
              "    <tr>\n",
              "      <th>15</th>\n",
              "      <td>180</td>\n",
              "      <td>0.654956</td>\n",
              "    </tr>\n",
              "    <tr>\n",
              "      <th>16</th>\n",
              "      <td>190</td>\n",
              "      <td>0.646448</td>\n",
              "    </tr>\n",
              "    <tr>\n",
              "      <th>17</th>\n",
              "      <td>200</td>\n",
              "      <td>0.639710</td>\n",
              "    </tr>\n",
              "    <tr>\n",
              "      <th>18</th>\n",
              "      <td>210</td>\n",
              "      <td>0.615181</td>\n",
              "    </tr>\n",
              "    <tr>\n",
              "      <th>19</th>\n",
              "      <td>220</td>\n",
              "      <td>0.614408</td>\n",
              "    </tr>\n",
              "  </tbody>\n",
              "</table>\n",
              "</div>"
            ],
            "text/plain": [
              "    No. of Topics  Tune Accuracy\n",
              "0              30       0.593084\n",
              "1              40       0.638048\n",
              "2              50       0.582365\n",
              "3              60       0.623136\n",
              "4              70       0.649321\n",
              "5              80       0.633300\n",
              "6              90       0.615069\n",
              "7             100       0.586564\n",
              "8             110       0.632967\n",
              "9             120       0.642250\n",
              "10            130       0.681583\n",
              "11            140       0.595292\n",
              "12            150       0.625676\n",
              "13            160       0.602583\n",
              "14            170       0.688322\n",
              "15            180       0.654956\n",
              "16            190       0.646448\n",
              "17            200       0.639710\n",
              "18            210       0.615181\n",
              "19            220       0.614408"
            ]
          },
          "metadata": {
            "tags": []
          },
          "execution_count": 32
        }
      ]
    },
    {
      "cell_type": "code",
      "metadata": {
        "colab": {
          "base_uri": "https://localhost:8080/",
          "height": 648
        },
        "id": "uBAjBeSWGz8k",
        "outputId": "77c87643-412f-48a6-a86b-ffdee06204fb"
      },
      "source": [
        "test_accuracy = pd.DataFrame(acc_list_test)\n",
        "test_res = pd.concat([topic_num, test_accuracy],axis = 1)\n",
        "test_res = pd.concat([topic_num, test_accuracy],axis = 1)\n",
        "test_res.columns=['No. of Topics','Test Accuracy']\n",
        "test_res"
      ],
      "execution_count": 33,
      "outputs": [
        {
          "output_type": "execute_result",
          "data": {
            "text/html": [
              "<div>\n",
              "<style scoped>\n",
              "    .dataframe tbody tr th:only-of-type {\n",
              "        vertical-align: middle;\n",
              "    }\n",
              "\n",
              "    .dataframe tbody tr th {\n",
              "        vertical-align: top;\n",
              "    }\n",
              "\n",
              "    .dataframe thead th {\n",
              "        text-align: right;\n",
              "    }\n",
              "</style>\n",
              "<table border=\"1\" class=\"dataframe\">\n",
              "  <thead>\n",
              "    <tr style=\"text-align: right;\">\n",
              "      <th></th>\n",
              "      <th>No. of Topics</th>\n",
              "      <th>Test Accuracy</th>\n",
              "    </tr>\n",
              "  </thead>\n",
              "  <tbody>\n",
              "    <tr>\n",
              "      <th>0</th>\n",
              "      <td>30</td>\n",
              "      <td>0.616438</td>\n",
              "    </tr>\n",
              "    <tr>\n",
              "      <th>1</th>\n",
              "      <td>40</td>\n",
              "      <td>0.650022</td>\n",
              "    </tr>\n",
              "    <tr>\n",
              "      <th>2</th>\n",
              "      <td>50</td>\n",
              "      <td>0.581971</td>\n",
              "    </tr>\n",
              "    <tr>\n",
              "      <th>3</th>\n",
              "      <td>60</td>\n",
              "      <td>0.638091</td>\n",
              "    </tr>\n",
              "    <tr>\n",
              "      <th>4</th>\n",
              "      <td>70</td>\n",
              "      <td>0.670349</td>\n",
              "    </tr>\n",
              "    <tr>\n",
              "      <th>5</th>\n",
              "      <td>80</td>\n",
              "      <td>0.648255</td>\n",
              "    </tr>\n",
              "    <tr>\n",
              "      <th>6</th>\n",
              "      <td>90</td>\n",
              "      <td>0.621299</td>\n",
              "    </tr>\n",
              "    <tr>\n",
              "      <th>7</th>\n",
              "      <td>100</td>\n",
              "      <td>0.593018</td>\n",
              "    </tr>\n",
              "    <tr>\n",
              "      <th>8</th>\n",
              "      <td>110</td>\n",
              "      <td>0.645161</td>\n",
              "    </tr>\n",
              "    <tr>\n",
              "      <th>9</th>\n",
              "      <td>120</td>\n",
              "      <td>0.639417</td>\n",
              "    </tr>\n",
              "    <tr>\n",
              "      <th>10</th>\n",
              "      <td>130</td>\n",
              "      <td>0.706142</td>\n",
              "    </tr>\n",
              "    <tr>\n",
              "      <th>11</th>\n",
              "      <td>140</td>\n",
              "      <td>0.607601</td>\n",
              "    </tr>\n",
              "    <tr>\n",
              "      <th>12</th>\n",
              "      <td>150</td>\n",
              "      <td>0.632788</td>\n",
              "    </tr>\n",
              "    <tr>\n",
              "      <th>13</th>\n",
              "      <td>160</td>\n",
              "      <td>0.612461</td>\n",
              "    </tr>\n",
              "    <tr>\n",
              "      <th>14</th>\n",
              "      <td>170</td>\n",
              "      <td>0.691560</td>\n",
              "    </tr>\n",
              "    <tr>\n",
              "      <th>15</th>\n",
              "      <td>180</td>\n",
              "      <td>0.669907</td>\n",
              "    </tr>\n",
              "    <tr>\n",
              "      <th>16</th>\n",
              "      <td>190</td>\n",
              "      <td>0.661953</td>\n",
              "    </tr>\n",
              "    <tr>\n",
              "      <th>17</th>\n",
              "      <td>200</td>\n",
              "      <td>0.639417</td>\n",
              "    </tr>\n",
              "    <tr>\n",
              "      <th>18</th>\n",
              "      <td>210</td>\n",
              "      <td>0.626602</td>\n",
              "    </tr>\n",
              "    <tr>\n",
              "      <th>19</th>\n",
              "      <td>220</td>\n",
              "      <td>0.635882</td>\n",
              "    </tr>\n",
              "  </tbody>\n",
              "</table>\n",
              "</div>"
            ],
            "text/plain": [
              "    No. of Topics  Test Accuracy\n",
              "0              30       0.616438\n",
              "1              40       0.650022\n",
              "2              50       0.581971\n",
              "3              60       0.638091\n",
              "4              70       0.670349\n",
              "5              80       0.648255\n",
              "6              90       0.621299\n",
              "7             100       0.593018\n",
              "8             110       0.645161\n",
              "9             120       0.639417\n",
              "10            130       0.706142\n",
              "11            140       0.607601\n",
              "12            150       0.632788\n",
              "13            160       0.612461\n",
              "14            170       0.691560\n",
              "15            180       0.669907\n",
              "16            190       0.661953\n",
              "17            200       0.639417\n",
              "18            210       0.626602\n",
              "19            220       0.635882"
            ]
          },
          "metadata": {
            "tags": []
          },
          "execution_count": 33
        }
      ]
    },
    {
      "cell_type": "markdown",
      "metadata": {
        "id": "iBitdbYhxOla"
      },
      "source": [
        "### Visulaize Results"
      ]
    },
    {
      "cell_type": "code",
      "metadata": {
        "colab": {
          "base_uri": "https://localhost:8080/",
          "height": 295
        },
        "id": "TjCQtYX7MyqU",
        "outputId": "5efb33ce-cedf-4125-bdc1-060d611313b5"
      },
      "source": [
        "# plot accuracy scores\n",
        "limit=100; start=30; step=10;\n",
        "#topics = range(start, limit, step)\n",
        "plt.plot(topics, acc_list_train, label='LR-LDA Accuracy')\n",
        "plt.title('Train Accuracy')\n",
        "plt.xlabel('No. of Topics')\n",
        "plt.ylabel('Accuracy')\n",
        "plt.legend()\n",
        "plt.show()\n"
      ],
      "execution_count": 35,
      "outputs": [
        {
          "output_type": "display_data",
          "data": {
            "image/png": "[encoded data removed]",
            "text/plain": [
              "<Figure size 432x288 with 1 Axes>"
            ]
          },
          "metadata": {
            "tags": [],
            "needs_background": "light"
          }
        }
      ]
    },
    {
      "cell_type": "code",
      "metadata": {
        "colab": {
          "base_uri": "https://localhost:8080/",
          "height": 295
        },
        "id": "GzxbmMqoxOlb",
        "outputId": "52963fc7-33e6-4931-df6d-5fff0820e31a"
      },
      "source": [
        "# plot accuracy scores\n",
        "limit=100; start=30; step=10;\n",
        "#topics = range(start, limit, step)\n",
        "plt.plot(topics, acc_list_valid, label='LR-LDA Accuracy')\n",
        "plt.title('Tune Accuracy')\n",
        "plt.xlabel('No. of Topics')\n",
        "plt.ylabel('Accuracy')\n",
        "plt.legend()\n",
        "plt.show()\n"
      ],
      "execution_count": 34,
      "outputs": [
        {
          "output_type": "display_data",
          "data": {
            "image/png": "[encoded data removed]",
            "text/plain": [
              "<Figure size 432x288 with 1 Axes>"
            ]
          },
          "metadata": {
            "tags": [],
            "needs_background": "light"
          }
        }
      ]
    },
    {
      "cell_type": "code",
      "metadata": {
        "id": "Cmlsg50exOld",
        "colab": {
          "base_uri": "https://localhost:8080/",
          "height": 295
        },
        "outputId": "868ac9df-b779-41bd-c1d7-be4d24314595"
      },
      "source": [
        "# plot accuracy scores\n",
        "limit=100; start=30; step=10;\n",
        "#topics = range(start, limit, step)\n",
        "plt.plot(topics, acc_list_test, label='LR-LDA Accuracy')\n",
        "plt.title('Test Accuracy')\n",
        "plt.xlabel('No. of Topics')\n",
        "plt.ylabel('Accuracy')\n",
        "plt.legend()\n",
        "plt.show()\n"
      ],
      "execution_count": 36,
      "outputs": [
        {
          "output_type": "display_data",
          "data": {
            "image/png": "[encoded data removed]",
            "text/plain": [
              "<Figure size 432x288 with 1 Axes>"
            ]
          },
          "metadata": {
            "tags": [],
            "needs_background": "light"
          }
        }
      ]
    },
    {
      "cell_type": "code",
      "metadata": {
        "id": "9RPGLYT-Ez-W"
      },
      "source": [
        ""
      ],
      "execution_count": 15,
      "outputs": []
    }
  ]
}