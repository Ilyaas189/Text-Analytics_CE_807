{
  "nbformat": 4,
  "nbformat_minor": 0,
  "metadata": {
    "colab": {
      "name": "LDA Model_DS_40_3.ipynb",
      "provenance": [],
      "collapsed_sections": [],
      "include_colab_link": true
    },
    "kernelspec": {
      "name": "python3",
      "display_name": "Python 3"
    },
    "language_info": {
      "name": "python"
    },
    "accelerator": "GPU"
  },
  "cells": [
    {
      "cell_type": "markdown",
      "metadata": {
        "id": "view-in-github",
        "colab_type": "text"
      },
      "source": [
        "<a href=\"https://colab.research.google.com/github/Ilyaas189/Text-Analytics_CE_807/blob/main/LDA_Model_DS_40_3.ipynb\" target=\"_parent\"><img src=\"https://colab.research.google.com/assets/colab-badge.svg\" alt=\"Open In Colab\"/></a>"
      ]
    },
    {
      "cell_type": "code",
      "metadata": {
        "colab": {
          "resources": {
            "http://localhost:8080/nbextensions/google.colab/files.js": {
              "data": "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",
              "ok": true,
              "headers": [
                [
                  "content-type",
                  "application/javascript"
                ]
              ],
              "status": 200,
              "status_text": ""
            }
          },
          "base_uri": "https://localhost:8080/",
          "height": 37
        },
        "id": "h48neXM-ANwE",
        "outputId": "9ec91a46-a306-4f1f-c211-69935692c852"
      },
      "source": [
        "import pandas as pd\n",
        "import numpy as np\n",
        "import matplotlib.pyplot as plt\n",
        "import warnings\n",
        "from google.colab import files\n",
        "from sklearn.naive_bayes import MultinomialNB\n",
        "from sklearn.naive_bayes import BernoulliNB\n",
        "from sklearn.pipeline import Pipeline\n",
        "from sklearn.feature_extraction.text import TfidfVectorizer\n",
        "from sklearn.feature_extraction.text import TfidfTransformer\n",
        "from sklearn.linear_model import SGDClassifier\n",
        "from sklearn.linear_model import LogisticRegression\n",
        "from nltk.stem.snowball import SnowballStemmer\n",
        "from sklearn.neighbors import KNeighborsClassifier\n",
        "from sklearn.ensemble import RandomForestClassifier\n",
        "import numpy as np\n",
        "import re\n",
        "\n",
        "\n",
        "import matplotlib.pyplot as plt\n",
        "%matplotlib inline\n",
        "\n",
        "import nltk\n",
        "import random\n",
        "uploaded = files.upload()\n",
        "files = list(uploaded.keys())\n"
      ],
      "execution_count": 1,
      "outputs": [
        {
          "output_type": "display_data",
          "data": {
            "text/html": [
              "\n",
              "     <input type=\"file\" id=\"files-143967f7-af5c-4366-bb64-2d517b5cd6d2\" name=\"files[]\" multiple disabled\n",
              "        style=\"border:none\" />\n",
              "     <output id=\"result-143967f7-af5c-4366-bb64-2d517b5cd6d2\">\n",
              "      Upload widget is only available when the cell has been executed in the\n",
              "      current browser session. Please rerun this cell to enable.\n",
              "      </output>\n",
              "      <script src=\"/nbextensions/google.colab/files.js\"></script> "
            ],
            "text/plain": [
              "<IPython.core.display.HTML object>"
            ]
          },
          "metadata": {
            "tags": []
          }
        }
      ]
    },
    {
      "cell_type": "code",
      "metadata": {
        "colab": {
          "base_uri": "https://localhost:8080/"
        },
        "id": "qcrJU_pzAhOm",
        "outputId": "f0370012-3289-4197-e29c-58f60617d28b"
      },
      "source": [
        "# Import Dataset\n",
        "data = pd.read_json('https://raw.githubusercontent.com/selva86/datasets/master/newsgroups.json')\n",
        "print(data.target_names.unique())"
      ],
      "execution_count": 2,
      "outputs": [
        {
          "output_type": "stream",
          "text": [
            "['rec.autos' 'comp.sys.mac.hardware' 'comp.graphics' 'sci.space'\n",
            " 'talk.politics.guns' 'sci.med' 'comp.sys.ibm.pc.hardware'\n",
            " 'comp.os.ms-windows.misc' 'rec.motorcycles' 'talk.religion.misc'\n",
            " 'misc.forsale' 'alt.atheism' 'sci.electronics' 'comp.windows.x'\n",
            " 'rec.sport.hockey' 'rec.sport.baseball' 'soc.religion.christian'\n",
            " 'talk.politics.mideast' 'talk.politics.misc' 'sci.crypt']\n"
          ],
          "name": "stdout"
        }
      ]
    },
    {
      "cell_type": "code",
      "metadata": {
        "colab": {
          "base_uri": "https://localhost:8080/",
          "height": 648
        },
        "id": "SnGiNUYGAtLQ",
        "outputId": "04099697-9d1a-4a72-aeb7-4538c2bb8fbb"
      },
      "source": [
        "data.head(20)"
      ],
      "execution_count": 3,
      "outputs": [
        {
          "output_type": "execute_result",
          "data": {
            "text/html": [
              "<div>\n",
              "<style scoped>\n",
              "    .dataframe tbody tr th:only-of-type {\n",
              "        vertical-align: middle;\n",
              "    }\n",
              "\n",
              "    .dataframe tbody tr th {\n",
              "        vertical-align: top;\n",
              "    }\n",
              "\n",
              "    .dataframe thead th {\n",
              "        text-align: right;\n",
              "    }\n",
              "</style>\n",
              "<table border=\"1\" class=\"dataframe\">\n",
              "  <thead>\n",
              "    <tr style=\"text-align: right;\">\n",
              "      <th></th>\n",
              "      <th>content</th>\n",
              "      <th>target</th>\n",
              "      <th>target_names</th>\n",
              "    </tr>\n",
              "  </thead>\n",
              "  <tbody>\n",
              "    <tr>\n",
              "      <th>0</th>\n",
              "      <td>From: lerxst@wam.umd.edu (where's my thing)\\nS...</td>\n",
              "      <td>7</td>\n",
              "      <td>rec.autos</td>\n",
              "    </tr>\n",
              "    <tr>\n",
              "      <th>1</th>\n",
              "      <td>From: guykuo@carson.u.washington.edu (Guy Kuo)...</td>\n",
              "      <td>4</td>\n",
              "      <td>comp.sys.mac.hardware</td>\n",
              "    </tr>\n",
              "    <tr>\n",
              "      <th>2</th>\n",
              "      <td>From: twillis@ec.ecn.purdue.edu (Thomas E Will...</td>\n",
              "      <td>4</td>\n",
              "      <td>comp.sys.mac.hardware</td>\n",
              "    </tr>\n",
              "    <tr>\n",
              "      <th>3</th>\n",
              "      <td>From: jgreen@amber (Joe Green)\\nSubject: Re: W...</td>\n",
              "      <td>1</td>\n",
              "      <td>comp.graphics</td>\n",
              "    </tr>\n",
              "    <tr>\n",
              "      <th>4</th>\n",
              "      <td>From: jcm@head-cfa.harvard.edu (Jonathan McDow...</td>\n",
              "      <td>14</td>\n",
              "      <td>sci.space</td>\n",
              "    </tr>\n",
              "    <tr>\n",
              "      <th>5</th>\n",
              "      <td>From: dfo@vttoulu.tko.vtt.fi (Foxvog Douglas)\\...</td>\n",
              "      <td>16</td>\n",
              "      <td>talk.politics.guns</td>\n",
              "    </tr>\n",
              "    <tr>\n",
              "      <th>6</th>\n",
              "      <td>From: bmdelane@quads.uchicago.edu (brian manni...</td>\n",
              "      <td>13</td>\n",
              "      <td>sci.med</td>\n",
              "    </tr>\n",
              "    <tr>\n",
              "      <th>7</th>\n",
              "      <td>From: bgrubb@dante.nmsu.edu (GRUBB)\\nSubject: ...</td>\n",
              "      <td>3</td>\n",
              "      <td>comp.sys.ibm.pc.hardware</td>\n",
              "    </tr>\n",
              "    <tr>\n",
              "      <th>8</th>\n",
              "      <td>From: holmes7000@iscsvax.uni.edu\\nSubject: WIn...</td>\n",
              "      <td>2</td>\n",
              "      <td>comp.os.ms-windows.misc</td>\n",
              "    </tr>\n",
              "    <tr>\n",
              "      <th>9</th>\n",
              "      <td>From: kerr@ux1.cso.uiuc.edu (Stan Kerr)\\nSubje...</td>\n",
              "      <td>4</td>\n",
              "      <td>comp.sys.mac.hardware</td>\n",
              "    </tr>\n",
              "    <tr>\n",
              "      <th>10</th>\n",
              "      <td>From: irwin@cmptrc.lonestar.org (Irwin Arnstei...</td>\n",
              "      <td>8</td>\n",
              "      <td>rec.motorcycles</td>\n",
              "    </tr>\n",
              "    <tr>\n",
              "      <th>11</th>\n",
              "      <td>From: david@terminus.ericsson.se (David Bold)\\...</td>\n",
              "      <td>19</td>\n",
              "      <td>talk.religion.misc</td>\n",
              "    </tr>\n",
              "    <tr>\n",
              "      <th>12</th>\n",
              "      <td>From: rodc@fc.hp.com (Rod Cerkoney)\\nSubject: ...</td>\n",
              "      <td>4</td>\n",
              "      <td>comp.sys.mac.hardware</td>\n",
              "    </tr>\n",
              "    <tr>\n",
              "      <th>13</th>\n",
              "      <td>From: dbm0000@tm0006.lerc.nasa.gov (David B. M...</td>\n",
              "      <td>14</td>\n",
              "      <td>sci.space</td>\n",
              "    </tr>\n",
              "    <tr>\n",
              "      <th>14</th>\n",
              "      <td>From: jllee@acsu.buffalo.edu (Johnny L Lee)\\nS...</td>\n",
              "      <td>6</td>\n",
              "      <td>misc.forsale</td>\n",
              "    </tr>\n",
              "    <tr>\n",
              "      <th>15</th>\n",
              "      <td>From: mathew &lt;mathew@mantis.co.uk&gt;\\nSubject: R...</td>\n",
              "      <td>0</td>\n",
              "      <td>alt.atheism</td>\n",
              "    </tr>\n",
              "    <tr>\n",
              "      <th>16</th>\n",
              "      <td>From: ab@nova.cc.purdue.edu (Allen B)\\nSubject...</td>\n",
              "      <td>1</td>\n",
              "      <td>comp.graphics</td>\n",
              "    </tr>\n",
              "    <tr>\n",
              "      <th>17</th>\n",
              "      <td>From: CPKJP@vm.cc.latech.edu (Kevin Parker)\\nS...</td>\n",
              "      <td>7</td>\n",
              "      <td>rec.autos</td>\n",
              "    </tr>\n",
              "    <tr>\n",
              "      <th>18</th>\n",
              "      <td>From: ritley@uimrl7.mrl.uiuc.edu ()\\nSubject: ...</td>\n",
              "      <td>12</td>\n",
              "      <td>sci.electronics</td>\n",
              "    </tr>\n",
              "    <tr>\n",
              "      <th>19</th>\n",
              "      <td>From: abarden@tybse1.uucp (Ann Marie Barden)\\n...</td>\n",
              "      <td>5</td>\n",
              "      <td>comp.windows.x</td>\n",
              "    </tr>\n",
              "  </tbody>\n",
              "</table>\n",
              "</div>"
            ],
            "text/plain": [
              "                                              content  ...              target_names\n",
              "0   From: lerxst@wam.umd.edu (where's my thing)\\nS...  ...                 rec.autos\n",
              "1   From: guykuo@carson.u.washington.edu (Guy Kuo)...  ...     comp.sys.mac.hardware\n",
              "2   From: twillis@ec.ecn.purdue.edu (Thomas E Will...  ...     comp.sys.mac.hardware\n",
              "3   From: jgreen@amber (Joe Green)\\nSubject: Re: W...  ...             comp.graphics\n",
              "4   From: jcm@head-cfa.harvard.edu (Jonathan McDow...  ...                 sci.space\n",
              "5   From: dfo@vttoulu.tko.vtt.fi (Foxvog Douglas)\\...  ...        talk.politics.guns\n",
              "6   From: bmdelane@quads.uchicago.edu (brian manni...  ...                   sci.med\n",
              "7   From: bgrubb@dante.nmsu.edu (GRUBB)\\nSubject: ...  ...  comp.sys.ibm.pc.hardware\n",
              "8   From: holmes7000@iscsvax.uni.edu\\nSubject: WIn...  ...   comp.os.ms-windows.misc\n",
              "9   From: kerr@ux1.cso.uiuc.edu (Stan Kerr)\\nSubje...  ...     comp.sys.mac.hardware\n",
              "10  From: irwin@cmptrc.lonestar.org (Irwin Arnstei...  ...           rec.motorcycles\n",
              "11  From: david@terminus.ericsson.se (David Bold)\\...  ...        talk.religion.misc\n",
              "12  From: rodc@fc.hp.com (Rod Cerkoney)\\nSubject: ...  ...     comp.sys.mac.hardware\n",
              "13  From: dbm0000@tm0006.lerc.nasa.gov (David B. M...  ...                 sci.space\n",
              "14  From: jllee@acsu.buffalo.edu (Johnny L Lee)\\nS...  ...              misc.forsale\n",
              "15  From: mathew <mathew@mantis.co.uk>\\nSubject: R...  ...               alt.atheism\n",
              "16  From: ab@nova.cc.purdue.edu (Allen B)\\nSubject...  ...             comp.graphics\n",
              "17  From: CPKJP@vm.cc.latech.edu (Kevin Parker)\\nS...  ...                 rec.autos\n",
              "18  From: ritley@uimrl7.mrl.uiuc.edu ()\\nSubject: ...  ...           sci.electronics\n",
              "19  From: abarden@tybse1.uucp (Ann Marie Barden)\\n...  ...            comp.windows.x\n",
              "\n",
              "[20 rows x 3 columns]"
            ]
          },
          "metadata": {
            "tags": []
          },
          "execution_count": 3
        }
      ]
    },
    {
      "cell_type": "code",
      "metadata": {
        "colab": {
          "base_uri": "https://localhost:8080/"
        },
        "id": "i1t4Hd65BKo4",
        "outputId": "cce64aa6-a8b5-4e63-8ca1-93d590e2aa1e"
      },
      "source": [
        "data_clusterization = data[['content', 'target_names']]\n",
        "data_clusterization.dropna(inplace=True)"
      ],
      "execution_count": 4,
      "outputs": [
        {
          "output_type": "stream",
          "text": [
            "/usr/local/lib/python3.7/dist-packages/ipykernel_launcher.py:2: SettingWithCopyWarning: \n",
            "A value is trying to be set on a copy of a slice from a DataFrame\n",
            "\n",
            "See the caveats in the documentation: https://pandas.pydata.org/pandas-docs/stable/user_guide/indexing.html#returning-a-view-versus-a-copy\n",
            "  \n"
          ],
          "name": "stderr"
        }
      ]
    },
    {
      "cell_type": "code",
      "metadata": {
        "colab": {
          "base_uri": "https://localhost:8080/",
          "height": 108
        },
        "id": "0xRJ8_03Bd1W",
        "outputId": "4c073fa4-75ee-49aa-8fb0-fa4efac7c5ab"
      },
      "source": [
        "data_clusterization.head(2)\n"
      ],
      "execution_count": 5,
      "outputs": [
        {
          "output_type": "execute_result",
          "data": {
            "text/html": [
              "<div>\n",
              "<style scoped>\n",
              "    .dataframe tbody tr th:only-of-type {\n",
              "        vertical-align: middle;\n",
              "    }\n",
              "\n",
              "    .dataframe tbody tr th {\n",
              "        vertical-align: top;\n",
              "    }\n",
              "\n",
              "    .dataframe thead th {\n",
              "        text-align: right;\n",
              "    }\n",
              "</style>\n",
              "<table border=\"1\" class=\"dataframe\">\n",
              "  <thead>\n",
              "    <tr style=\"text-align: right;\">\n",
              "      <th></th>\n",
              "      <th>content</th>\n",
              "      <th>target_names</th>\n",
              "    </tr>\n",
              "  </thead>\n",
              "  <tbody>\n",
              "    <tr>\n",
              "      <th>0</th>\n",
              "      <td>From: lerxst@wam.umd.edu (where's my thing)\\nS...</td>\n",
              "      <td>rec.autos</td>\n",
              "    </tr>\n",
              "    <tr>\n",
              "      <th>1</th>\n",
              "      <td>From: guykuo@carson.u.washington.edu (Guy Kuo)...</td>\n",
              "      <td>comp.sys.mac.hardware</td>\n",
              "    </tr>\n",
              "  </tbody>\n",
              "</table>\n",
              "</div>"
            ],
            "text/plain": [
              "                                             content           target_names\n",
              "0  From: lerxst@wam.umd.edu (where's my thing)\\nS...              rec.autos\n",
              "1  From: guykuo@carson.u.washington.edu (Guy Kuo)...  comp.sys.mac.hardware"
            ]
          },
          "metadata": {
            "tags": []
          },
          "execution_count": 5
        }
      ]
    },
    {
      "cell_type": "code",
      "metadata": {
        "colab": {
          "base_uri": "https://localhost:8080/"
        },
        "id": "0iUh1DoLBmXP",
        "outputId": "ac76610d-811d-4af1-8834-8996b7c00668"
      },
      "source": [
        "import gensim\n",
        "from gensim.utils import simple_preprocess\n",
        "from gensim.parsing.preprocessing import STOPWORDS\n",
        "from nltk.stem import WordNetLemmatizer, SnowballStemmer\n",
        "from nltk.stem.porter import *\n",
        "import numpy as np\n",
        "np.random.seed(2018)\n",
        "import nltk\n",
        "nltk.download('wordnet')"
      ],
      "execution_count": 6,
      "outputs": [
        {
          "output_type": "stream",
          "text": [
            "[nltk_data] Downloading package wordnet to /root/nltk_data...\n",
            "[nltk_data]   Unzipping corpora/wordnet.zip.\n"
          ],
          "name": "stdout"
        },
        {
          "output_type": "execute_result",
          "data": {
            "text/plain": [
              "True"
            ]
          },
          "metadata": {
            "tags": []
          },
          "execution_count": 6
        }
      ]
    },
    {
      "cell_type": "code",
      "metadata": {
        "id": "s7hwfWd1Bw8S"
      },
      "source": [
        "def lemmatize_stemming(text):\n",
        " stemmer = SnowballStemmer(language='english')\n",
        " return stemmer.stem(WordNetLemmatizer().lemmatize(text, pos='v'))\n",
        "def preprocess(text):\n",
        " result = []\n",
        " for token in gensim.utils.simple_preprocess(text):\n",
        "   if token not in gensim.parsing.preprocessing.STOPWORDS and len(token) > 3:\n",
        "     result.append(lemmatize_stemming(token))\n",
        " return result"
      ],
      "execution_count": 7,
      "outputs": []
    },
    {
      "cell_type": "code",
      "metadata": {
        "id": "iJfVX8biB_Sa"
      },
      "source": [
        "processed_docs = data_clusterization['content'].map(preprocess)\n",
        "data_processed = processed_docs.to_frame()\n",
        "data_processed['content'] = data_processed.content.apply(lambda x: ' '.join(x))\n"
      ],
      "execution_count": 8,
      "outputs": []
    },
    {
      "cell_type": "code",
      "metadata": {
        "colab": {
          "base_uri": "https://localhost:8080/"
        },
        "id": "gCHPTBYJClMy",
        "outputId": "b9edbd2a-f90c-4e46-ec76-eba2c5b4dbfa"
      },
      "source": [
        "!pip install tokenize_uk\n",
        "from collections import Counter\n",
        "from tokenize_uk.tokenize_uk import tokenize_words"
      ],
      "execution_count": 9,
      "outputs": [
        {
          "output_type": "stream",
          "text": [
            "Collecting tokenize_uk\n",
            "  Downloading https://files.pythonhosted.org/packages/ac/21/72abb0304b532e1b2d2473b50d8063ddd0943e3b3fe7e86b366bc4d02aa2/tokenize_uk-0.2.0.tar.gz\n",
            "Requirement already satisfied: six in /usr/local/lib/python3.7/dist-packages (from tokenize_uk) (1.15.0)\n",
            "Building wheels for collected packages: tokenize-uk\n",
            "  Building wheel for tokenize-uk (setup.py) ... \u001b[?25l\u001b[?25hdone\n",
            "  Created wheel for tokenize-uk: filename=tokenize_uk-0.2.0-py2.py3-none-any.whl size=4565 sha256=290d162e38d8a76707d176d87f5396145425da9d4c259a8acd2c8bdcdbb3fa69\n",
            "  Stored in directory: /root/.cache/pip/wheels/2c/e1/95/fd8af5b40aeebdc4e178974e7f638f5553aa8772117054db9e\n",
            "Successfully built tokenize-uk\n",
            "Installing collected packages: tokenize-uk\n",
            "Successfully installed tokenize-uk-0.2.0\n"
          ],
          "name": "stdout"
        }
      ]
    },
    {
      "cell_type": "code",
      "metadata": {
        "colab": {
          "base_uri": "https://localhost:8080/",
          "height": 363
        },
        "id": "94mq8WUoCqHq",
        "outputId": "75ea4276-9742-4a53-e137-2b9f84f70327"
      },
      "source": [
        "def display_words(data, title, ax):\n",
        " count = Counter(sum(map(lambda text: tokenize_words(text), data), []))\n",
        " popular = np.array(sorted(count.items(), key=lambda x: x[1], reverse=True)[:20])\n",
        " plt.sca(ax)\n",
        " plt.title(title)\n",
        " plt.bar(popular[:,0], np.int32(popular[:,1]))\n",
        " plt.xticks(rotation=\"vertical\")\n",
        "fig, ax = plt.subplots(figsize=(16, 5))\n",
        "display_words(data_processed.sample(1000).content, \"The most popular words]\", ax)"
      ],
      "execution_count": 10,
      "outputs": [
        {
          "output_type": "display_data",
          "data": {
            "image/png": "[encoded data removed]",
            "text/plain": [
              "<Figure size 1152x360 with 1 Axes>"
            ]
          },
          "metadata": {
            "tags": [],
            "needs_background": "light"
          }
        }
      ]
    },
    {
      "cell_type": "code",
      "metadata": {
        "id": "UCM4qevNC5Ty"
      },
      "source": [
        "from sklearn.feature_extraction.text import CountVectorizer"
      ],
      "execution_count": 11,
      "outputs": []
    },
    {
      "cell_type": "code",
      "metadata": {
        "colab": {
          "base_uri": "https://localhost:8080/"
        },
        "id": "NMnRgz3aC8f5",
        "outputId": "91792c4f-c3ac-48b9-8988-5497581758c9"
      },
      "source": [
        "count_vectorizer = CountVectorizer()\n",
        "count_data = count_vectorizer.fit_transform(data_processed['content'])\n",
        "count_data"
      ],
      "execution_count": 12,
      "outputs": [
        {
          "output_type": "execute_result",
          "data": {
            "text/plain": [
              "<11314x61410 sparse matrix of type '<class 'numpy.int64'>'\n",
              "\twith 934270 stored elements in Compressed Sparse Row format>"
            ]
          },
          "metadata": {
            "tags": []
          },
          "execution_count": 12
        }
      ]
    },
    {
      "cell_type": "code",
      "metadata": {
        "id": "6TmSX73jDEJS"
      },
      "source": [
        "likelihood = []\n",
        "n_clusters = []"
      ],
      "execution_count": 13,
      "outputs": []
    },
    {
      "cell_type": "code",
      "metadata": {
        "id": "z9uTcUJlDHT0"
      },
      "source": [
        "import seaborn as sns\n",
        "from sklearn.decomposition import LatentDirichletAllocation as LDA"
      ],
      "execution_count": 14,
      "outputs": []
    },
    {
      "cell_type": "code",
      "metadata": {
        "id": "Hki6oWR0DLwb"
      },
      "source": [
        "def estimate_number_clusters(data, nclusters):\n",
        " for n in nclusters:\n",
        "   likelihood.append(LDA(n_components=n, n_jobs=-1).fit(data).score(data))\n",
        " n_clusters.append(n)\n",
        " print(\"Sccesfully estimated \", n)\n",
        " fig, ax = plt.subplots(figsize=(15, 5))\n",
        " sns.lineplot(x=n_clusters, y=likelihood, ax=ax)\n",
        " ax.set_title('Elbow method for choosing n, likelihood')\n",
        " ax.set_ylabel('Likelihood')\n",
        " ax.set_xlabel('n')\n",
        "\n",
        "\n"
      ],
      "execution_count": 15,
      "outputs": []
    },
    {
      "cell_type": "code",
      "metadata": {
        "id": "_CBG_y1fJszZ"
      },
      "source": [
        "# estimate_number_clusters(count_data, [10, 15, 20, 50])\n",
        " \n",
        " "
      ],
      "execution_count": 16,
      "outputs": []
    },
    {
      "cell_type": "code",
      "metadata": {
        "id": "_XNMixjQJuYE"
      },
      "source": [
        "def print_topics(model, count_vectorizer, n_top_words):\n",
        "  words = count_vectorizer.get_feature_names()\n",
        "  for topic_idx, topic in enumerate(model.components_):\n",
        "    print(\"\\nTopic #%d:\" % topic_idx)\n",
        "    print(\" \".join([words[i]\n",
        "  for i in topic.argsort()[:-n_top_words - 1:-1]]))"
      ],
      "execution_count": 17,
      "outputs": []
    },
    {
      "cell_type": "code",
      "metadata": {
        "id": "Ugizp_hhFpzm"
      },
      "source": [
        "from sklearn.decomposition import LatentDirichletAllocation as LDA\n"
      ],
      "execution_count": 18,
      "outputs": []
    },
    {
      "cell_type": "code",
      "metadata": {
        "colab": {
          "base_uri": "https://localhost:8080/"
        },
        "id": "oWtTkYX1Ftia",
        "outputId": "45caf118-a988-4179-a073-7055b7849794"
      },
      "source": [
        "number_topics = 40\n",
        "number_words = 10\n",
        "# Create and fit the LDA model\n",
        "lda = LDA(n_components=number_topics, n_jobs=-1)\n",
        "lda.fit(count_data)\n",
        "# Print the topics found by the LDA model\n",
        "print(\"Topics found via LDA:\")\n",
        "print_topics(lda, count_vectorizer, number_words)"
      ],
      "execution_count": 19,
      "outputs": [
        {
          "output_type": "stream",
          "text": [
            "Topics found via LDA:\n",
            "\n",
            "Topic #0:\n",
            "drive card line subject driver organ control scsi problem work\n",
            "\n",
            "Topic #1:\n",
            "moral write subject line organ post host object caltech cwru\n",
            "\n",
            "Topic #2:\n",
            "line subject organ post write nntp host andrew articl univers\n",
            "\n",
            "Topic #3:\n",
            "access insur digex subject organ line write alaska post articl\n",
            "\n",
            "Topic #4:\n",
            "line organ subject henri launch toronto netcom radar post write\n",
            "\n",
            "Topic #5:\n",
            "line subject organ write post articl host work nntp problem\n",
            "\n",
            "Topic #6:\n",
            "line organ subject post univers nntp host colorado point articl\n",
            "\n",
            "Topic #7:\n",
            "line subject organ sale univers post game columbia host nntp\n",
            "\n",
            "Topic #8:\n",
            "write subject line organ indiana articl freenet carleton monash univers\n",
            "\n",
            "Topic #9:\n",
            "line subject organ like wire power good time write look\n",
            "\n",
            "Topic #10:\n",
            "subject line organ nasa post articl write nntp host david\n",
            "\n",
            "Topic #11:\n",
            "christian jesus know believ peopl bibl think write say come\n",
            "\n",
            "Topic #12:\n",
            "church pope cathol south time rockefel father organ nuclear secret\n",
            "\n",
            "Topic #13:\n",
            "jpeg imag line keyboard subject dseg appear post organ color\n",
            "\n",
            "Topic #14:\n",
            "encrypt chip clipper secur file entri key govern line escrow\n",
            "\n",
            "Topic #15:\n",
            "window subject line file organ problem motif font server applic\n",
            "\n",
            "Topic #16:\n",
            "israel isra say peopl arab go know jew come kill\n",
            "\n",
            "Topic #17:\n",
            "harvard widget visual colormap valu risc david instruct write subject\n",
            "\n",
            "Topic #18:\n",
            "exist peopl question think reason believ write argument evid articl\n",
            "\n",
            "Topic #19:\n",
            "space nasa center univers research scienc program year nation inform\n",
            "\n",
            "Topic #20:\n",
            "scsi line organ subject write post articl oracl host nntp\n",
            "\n",
            "Topic #21:\n",
            "write articl subject organ line pitt know bank like gordon\n",
            "\n",
            "Topic #22:\n",
            "game play season flyer hockey team line year puck goal\n",
            "\n",
            "Topic #23:\n",
            "write subject organ line articl informatik slave absolut ingr hamburg\n",
            "\n",
            "Topic #24:\n",
            "sandvik write christian kent appl line organ subject articl newton\n",
            "\n",
            "Topic #25:\n",
            "file program mail imag data avail softwar includ list user\n",
            "\n",
            "Topic #26:\n",
            "presid state think write know go clinton ohio line articl\n",
            "\n",
            "Topic #27:\n",
            "peopl right state govern think weapon like crime time gun\n",
            "\n",
            "Topic #28:\n",
            "period play ericsson captain power sweden scorer edmonton second hartford\n",
            "\n",
            "Topic #29:\n",
            "articl write organ subject line drug post univers nntp host\n",
            "\n",
            "Topic #30:\n",
            "line subject organ monitor window post color video nntp host\n",
            "\n",
            "Topic #31:\n",
            "team game player play hockey line subject organ think toronto\n",
            "\n",
            "Topic #32:\n",
            "stratus write subject organ articl line post host nntp year\n",
            "\n",
            "Topic #33:\n",
            "orbit earth mission nasa moon probe mar spacecraft baalk kelvin\n",
            "\n",
            "Topic #34:\n",
            "bike motorcycl like organ ride rider line subject helmet post\n",
            "\n",
            "Topic #35:\n",
            "gatech prism subject line organ write georgia post institut technolog\n",
            "\n",
            "Topic #36:\n",
            "water virginia health cancer medic cool public tower nuclear organ\n",
            "\n",
            "Topic #37:\n",
            "armenian turkish turk armenia turkey greek peopl genocid argic serdar\n",
            "\n",
            "Topic #38:\n",
            "write subject like line articl organ post man colorado servic\n",
            "\n",
            "Topic #39:\n",
            "year line write organ subject articl post good buffalo univers\n"
          ],
          "name": "stdout"
        }
      ]
    },
    {
      "cell_type": "code",
      "metadata": {
        "colab": {
          "base_uri": "https://localhost:8080/",
          "height": 198
        },
        "id": "LrPaQEiuGRt3",
        "outputId": "66a0ee88-d7c7-4ace-b300-71a8b4503e87"
      },
      "source": [
        "cluster_probabilities = lda.transform(count_data)\n",
        "data_processed['target'] = np.argmax(cluster_probabilities, axis=1)\n",
        "data_processed.head()"
      ],
      "execution_count": 20,
      "outputs": [
        {
          "output_type": "execute_result",
          "data": {
            "text/html": [
              "<div>\n",
              "<style scoped>\n",
              "    .dataframe tbody tr th:only-of-type {\n",
              "        vertical-align: middle;\n",
              "    }\n",
              "\n",
              "    .dataframe tbody tr th {\n",
              "        vertical-align: top;\n",
              "    }\n",
              "\n",
              "    .dataframe thead th {\n",
              "        text-align: right;\n",
              "    }\n",
              "</style>\n",
              "<table border=\"1\" class=\"dataframe\">\n",
              "  <thead>\n",
              "    <tr style=\"text-align: right;\">\n",
              "      <th></th>\n",
              "      <th>content</th>\n",
              "      <th>target</th>\n",
              "    </tr>\n",
              "  </thead>\n",
              "  <tbody>\n",
              "    <tr>\n",
              "      <th>0</th>\n",
              "      <td>lerxst thing subject nntp post host organ univ...</td>\n",
              "      <td>9</td>\n",
              "    </tr>\n",
              "    <tr>\n",
              "      <th>1</th>\n",
              "      <td>guykuo carson washington subject clock poll fi...</td>\n",
              "      <td>30</td>\n",
              "    </tr>\n",
              "    <tr>\n",
              "      <th>2</th>\n",
              "      <td>twilli purdu thoma willi subject question orga...</td>\n",
              "      <td>9</td>\n",
              "    </tr>\n",
              "    <tr>\n",
              "      <th>3</th>\n",
              "      <td>jgreen amber green subject weitek organ harri ...</td>\n",
              "      <td>15</td>\n",
              "    </tr>\n",
              "    <tr>\n",
              "      <th>4</th>\n",
              "      <td>head harvard jonathan mcdowel subject shuttl l...</td>\n",
              "      <td>10</td>\n",
              "    </tr>\n",
              "  </tbody>\n",
              "</table>\n",
              "</div>"
            ],
            "text/plain": [
              "                                             content  target\n",
              "0  lerxst thing subject nntp post host organ univ...       9\n",
              "1  guykuo carson washington subject clock poll fi...      30\n",
              "2  twilli purdu thoma willi subject question orga...       9\n",
              "3  jgreen amber green subject weitek organ harri ...      15\n",
              "4  head harvard jonathan mcdowel subject shuttl l...      10"
            ]
          },
          "metadata": {
            "tags": []
          },
          "execution_count": 20
        }
      ]
    },
    {
      "cell_type": "code",
      "metadata": {
        "id": "oJNJOHB9GkKP"
      },
      "source": [
        "import seaborn as sns\n"
      ],
      "execution_count": 21,
      "outputs": []
    },
    {
      "cell_type": "code",
      "metadata": {
        "colab": {
          "base_uri": "https://localhost:8080/",
          "height": 595
        },
        "id": "At3W9AMVGnga",
        "outputId": "952ec3bf-86ff-4c8c-df5e-874c103cf3ef"
      },
      "source": [
        "fig, ax = plt.subplots(figsize=(20, 10))\n",
        "sns.countplot(x=data_processed.target);\n",
        "ax.set_title(\"Number of articles that correspond to the topic\");\n"
      ],
      "execution_count": 22,
      "outputs": [
        {
          "output_type": "display_data",
          "data": {
            "image/png": "[encoded data removed]",
            "text/plain": [
              "<Figure size 1440x720 with 1 Axes>"
            ]
          },
          "metadata": {
            "tags": [],
            "needs_background": "light"
          }
        }
      ]
    },
    {
      "cell_type": "code",
      "metadata": {
        "id": "kJ07JMrCRAYx",
        "colab": {
          "base_uri": "https://localhost:8080/"
        },
        "outputId": "e20ecac6-8969-4a1d-a2e5-75d14518cd6d"
      },
      "source": [
        "#Loading the data set - training data.\n",
        "from sklearn.datasets import fetch_20newsgroups\n",
        "mydata_train = fetch_20newsgroups(subset='train', shuffle=True, remove = ('headers', 'footers', 'quotes'))"
      ],
      "execution_count": 23,
      "outputs": [
        {
          "output_type": "stream",
          "text": [
            "Downloading 20news dataset. This may take a few minutes.\n",
            "Downloading dataset from https://ndownloader.figshare.com/files/5975967 (14 MB)\n"
          ],
          "name": "stderr"
        }
      ]
    },
    {
      "cell_type": "code",
      "metadata": {
        "colab": {
          "base_uri": "https://localhost:8080/"
        },
        "id": "Bpyae_wBRHIU",
        "outputId": "82291237-33ad-40ae-dc35-185eb47952c0"
      },
      "source": [
        "list(mydata_train)\n"
      ],
      "execution_count": 24,
      "outputs": [
        {
          "output_type": "execute_result",
          "data": {
            "text/plain": [
              "['data', 'filenames', 'target_names', 'target', 'DESCR']"
            ]
          },
          "metadata": {
            "tags": []
          },
          "execution_count": 24
        }
      ]
    },
    {
      "cell_type": "code",
      "metadata": {
        "colab": {
          "base_uri": "https://localhost:8080/"
        },
        "id": "WsmrhUPeRJ9l",
        "outputId": "a4fc695e-e66b-4e78-9b41-f2db0bd83376"
      },
      "source": [
        "print('Training data size:', len(mydata_train['data']))\n"
      ],
      "execution_count": 25,
      "outputs": [
        {
          "output_type": "stream",
          "text": [
            "Training data size: 11314\n"
          ],
          "name": "stdout"
        }
      ]
    },
    {
      "cell_type": "code",
      "metadata": {
        "colab": {
          "base_uri": "https://localhost:8080/"
        },
        "id": "Nv1WrOdSRONT",
        "outputId": "6f176365-aebb-449c-ed27-9c29cb466725"
      },
      "source": [
        "# Printing all the categories\n",
        "mydata_train.target_names"
      ],
      "execution_count": 26,
      "outputs": [
        {
          "output_type": "execute_result",
          "data": {
            "text/plain": [
              "['alt.atheism',\n",
              " 'comp.graphics',\n",
              " 'comp.os.ms-windows.misc',\n",
              " 'comp.sys.ibm.pc.hardware',\n",
              " 'comp.sys.mac.hardware',\n",
              " 'comp.windows.x',\n",
              " 'misc.forsale',\n",
              " 'rec.autos',\n",
              " 'rec.motorcycles',\n",
              " 'rec.sport.baseball',\n",
              " 'rec.sport.hockey',\n",
              " 'sci.crypt',\n",
              " 'sci.electronics',\n",
              " 'sci.med',\n",
              " 'sci.space',\n",
              " 'soc.religion.christian',\n",
              " 'talk.politics.guns',\n",
              " 'talk.politics.mideast',\n",
              " 'talk.politics.misc',\n",
              " 'talk.religion.misc']"
            ]
          },
          "metadata": {
            "tags": []
          },
          "execution_count": 26
        }
      ]
    },
    {
      "cell_type": "code",
      "metadata": {
        "colab": {
          "base_uri": "https://localhost:8080/"
        },
        "id": "krZedPVlRRxL",
        "outputId": "2ed14a18-f6f7-47d7-af1c-7c8fc011bde2"
      },
      "source": [
        "\n",
        "# Finding frequency of each category\n",
        "targets, frequency = np.unique(mydata_train.target, return_counts=True)\n",
        "targets, frequency"
      ],
      "execution_count": 27,
      "outputs": [
        {
          "output_type": "execute_result",
          "data": {
            "text/plain": [
              "(array([ 0,  1,  2,  3,  4,  5,  6,  7,  8,  9, 10, 11, 12, 13, 14, 15, 16,\n",
              "        17, 18, 19]),\n",
              " array([480, 584, 591, 590, 578, 593, 585, 594, 598, 597, 600, 595, 591,\n",
              "        594, 593, 599, 546, 564, 465, 377]))"
            ]
          },
          "metadata": {
            "tags": []
          },
          "execution_count": 27
        }
      ]
    },
    {
      "cell_type": "code",
      "metadata": {
        "colab": {
          "base_uri": "https://localhost:8080/"
        },
        "id": "lSr8qhRVRWTb",
        "outputId": "6d2cbd28-26b3-495a-d1a5-fab799384bfb"
      },
      "source": [
        "targets_str = np.array(mydata_train.target_names)\n",
        "print(list(zip(targets_str, frequency)))"
      ],
      "execution_count": 28,
      "outputs": [
        {
          "output_type": "stream",
          "text": [
            "[('alt.atheism', 480), ('comp.graphics', 584), ('comp.os.ms-windows.misc', 591), ('comp.sys.ibm.pc.hardware', 590), ('comp.sys.mac.hardware', 578), ('comp.windows.x', 593), ('misc.forsale', 585), ('rec.autos', 594), ('rec.motorcycles', 598), ('rec.sport.baseball', 597), ('rec.sport.hockey', 600), ('sci.crypt', 595), ('sci.electronics', 591), ('sci.med', 594), ('sci.space', 593), ('soc.religion.christian', 599), ('talk.politics.guns', 546), ('talk.politics.mideast', 564), ('talk.politics.misc', 465), ('talk.religion.misc', 377)]\n"
          ],
          "name": "stdout"
        }
      ]
    },
    {
      "cell_type": "code",
      "metadata": {
        "id": "1pZ_KnVPRZSm"
      },
      "source": [
        "mydata_test = fetch_20newsgroups(subset='test', shuffle=True, remove = ('headers', 'footers', 'quotes'))\n"
      ],
      "execution_count": 29,
      "outputs": []
    },
    {
      "cell_type": "code",
      "metadata": {
        "colab": {
          "base_uri": "https://localhost:8080/"
        },
        "id": "IEcSYoJmRcUc",
        "outputId": "65d7c14e-22bd-4044-9cb9-3a5549f5cda6"
      },
      "source": [
        "print('Testing data size:', len(mydata_test['data']))\n"
      ],
      "execution_count": 30,
      "outputs": [
        {
          "output_type": "stream",
          "text": [
            "Testing data size: 7532\n"
          ],
          "name": "stdout"
        }
      ]
    },
    {
      "cell_type": "code",
      "metadata": {
        "colab": {
          "base_uri": "https://localhost:8080/",
          "height": 198
        },
        "id": "_aSKch0QRf_o",
        "outputId": "acb8f693-a5f7-44bc-d010-ff10d04de975"
      },
      "source": [
        "mydata_train_df = pd.DataFrame({'data': mydata_train.data, 'target': mydata_train.target})\n",
        "mydata_train_df.head()"
      ],
      "execution_count": 31,
      "outputs": [
        {
          "output_type": "execute_result",
          "data": {
            "text/html": [
              "<div>\n",
              "<style scoped>\n",
              "    .dataframe tbody tr th:only-of-type {\n",
              "        vertical-align: middle;\n",
              "    }\n",
              "\n",
              "    .dataframe tbody tr th {\n",
              "        vertical-align: top;\n",
              "    }\n",
              "\n",
              "    .dataframe thead th {\n",
              "        text-align: right;\n",
              "    }\n",
              "</style>\n",
              "<table border=\"1\" class=\"dataframe\">\n",
              "  <thead>\n",
              "    <tr style=\"text-align: right;\">\n",
              "      <th></th>\n",
              "      <th>data</th>\n",
              "      <th>target</th>\n",
              "    </tr>\n",
              "  </thead>\n",
              "  <tbody>\n",
              "    <tr>\n",
              "      <th>0</th>\n",
              "      <td>I was wondering if anyone out there could enli...</td>\n",
              "      <td>7</td>\n",
              "    </tr>\n",
              "    <tr>\n",
              "      <th>1</th>\n",
              "      <td>A fair number of brave souls who upgraded thei...</td>\n",
              "      <td>4</td>\n",
              "    </tr>\n",
              "    <tr>\n",
              "      <th>2</th>\n",
              "      <td>well folks, my mac plus finally gave up the gh...</td>\n",
              "      <td>4</td>\n",
              "    </tr>\n",
              "    <tr>\n",
              "      <th>3</th>\n",
              "      <td>\\nDo you have Weitek's address/phone number?  ...</td>\n",
              "      <td>1</td>\n",
              "    </tr>\n",
              "    <tr>\n",
              "      <th>4</th>\n",
              "      <td>From article &lt;C5owCB.n3p@world.std.com&gt;, by to...</td>\n",
              "      <td>14</td>\n",
              "    </tr>\n",
              "  </tbody>\n",
              "</table>\n",
              "</div>"
            ],
            "text/plain": [
              "                                                data  target\n",
              "0  I was wondering if anyone out there could enli...       7\n",
              "1  A fair number of brave souls who upgraded thei...       4\n",
              "2  well folks, my mac plus finally gave up the gh...       4\n",
              "3  \\nDo you have Weitek's address/phone number?  ...       1\n",
              "4  From article <C5owCB.n3p@world.std.com>, by to...      14"
            ]
          },
          "metadata": {
            "tags": []
          },
          "execution_count": 31
        }
      ]
    },
    {
      "cell_type": "code",
      "metadata": {
        "colab": {
          "base_uri": "https://localhost:8080/",
          "height": 198
        },
        "id": "ttru-cT7Rj9K",
        "outputId": "b4035392-437f-4f06-a06b-e31702495e6e"
      },
      "source": [
        "# Text preprocessing steps - remove numbers, captial letters and punctuation\n",
        "import re\n",
        "import string\n",
        "\n",
        "alphanumeric = lambda x: re.sub(r\"\"\"\\w*\\d\\w*\"\"\", ' ', x)\n",
        "punc_lower = lambda x: re.sub('[%s]' % re.escape(string.punctuation), ' ', x.lower())\n",
        "\n",
        "mydata_train_df['data'] = mydata_train_df.data.map(alphanumeric).map(punc_lower)\n",
        "mydata_train_df.head()"
      ],
      "execution_count": 32,
      "outputs": [
        {
          "output_type": "execute_result",
          "data": {
            "text/html": [
              "<div>\n",
              "<style scoped>\n",
              "    .dataframe tbody tr th:only-of-type {\n",
              "        vertical-align: middle;\n",
              "    }\n",
              "\n",
              "    .dataframe tbody tr th {\n",
              "        vertical-align: top;\n",
              "    }\n",
              "\n",
              "    .dataframe thead th {\n",
              "        text-align: right;\n",
              "    }\n",
              "</style>\n",
              "<table border=\"1\" class=\"dataframe\">\n",
              "  <thead>\n",
              "    <tr style=\"text-align: right;\">\n",
              "      <th></th>\n",
              "      <th>data</th>\n",
              "      <th>target</th>\n",
              "    </tr>\n",
              "  </thead>\n",
              "  <tbody>\n",
              "    <tr>\n",
              "      <th>0</th>\n",
              "      <td>i was wondering if anyone out there could enli...</td>\n",
              "      <td>7</td>\n",
              "    </tr>\n",
              "    <tr>\n",
              "      <th>1</th>\n",
              "      <td>a fair number of brave souls who upgraded thei...</td>\n",
              "      <td>4</td>\n",
              "    </tr>\n",
              "    <tr>\n",
              "      <th>2</th>\n",
              "      <td>well folks  my mac plus finally gave up the gh...</td>\n",
              "      <td>4</td>\n",
              "    </tr>\n",
              "    <tr>\n",
              "      <th>3</th>\n",
              "      <td>\\ndo you have weitek s address phone number   ...</td>\n",
              "      <td>1</td>\n",
              "    </tr>\n",
              "    <tr>\n",
              "      <th>4</th>\n",
              "      <td>from article      world std com   by tombaker ...</td>\n",
              "      <td>14</td>\n",
              "    </tr>\n",
              "  </tbody>\n",
              "</table>\n",
              "</div>"
            ],
            "text/plain": [
              "                                                data  target\n",
              "0  i was wondering if anyone out there could enli...       7\n",
              "1  a fair number of brave souls who upgraded thei...       4\n",
              "2  well folks  my mac plus finally gave up the gh...       4\n",
              "3  \\ndo you have weitek s address phone number   ...       1\n",
              "4  from article      world std com   by tombaker ...      14"
            ]
          },
          "metadata": {
            "tags": []
          },
          "execution_count": 32
        }
      ]
    },
    {
      "cell_type": "code",
      "metadata": {
        "colab": {
          "base_uri": "https://localhost:8080/",
          "height": 198
        },
        "id": "8f6jlH07RoBH",
        "outputId": "c39c4ac8-2969-4284-f020-42b2ecce4f45"
      },
      "source": [
        "mydata_test_df = pd.DataFrame({'data': mydata_test.data, 'target': mydata_test.target})\n",
        "mydata_test_df.head()"
      ],
      "execution_count": 33,
      "outputs": [
        {
          "output_type": "execute_result",
          "data": {
            "text/html": [
              "<div>\n",
              "<style scoped>\n",
              "    .dataframe tbody tr th:only-of-type {\n",
              "        vertical-align: middle;\n",
              "    }\n",
              "\n",
              "    .dataframe tbody tr th {\n",
              "        vertical-align: top;\n",
              "    }\n",
              "\n",
              "    .dataframe thead th {\n",
              "        text-align: right;\n",
              "    }\n",
              "</style>\n",
              "<table border=\"1\" class=\"dataframe\">\n",
              "  <thead>\n",
              "    <tr style=\"text-align: right;\">\n",
              "      <th></th>\n",
              "      <th>data</th>\n",
              "      <th>target</th>\n",
              "    </tr>\n",
              "  </thead>\n",
              "  <tbody>\n",
              "    <tr>\n",
              "      <th>0</th>\n",
              "      <td>I am a little confused on all of the models of...</td>\n",
              "      <td>7</td>\n",
              "    </tr>\n",
              "    <tr>\n",
              "      <th>1</th>\n",
              "      <td>I'm not familiar at all with the format of the...</td>\n",
              "      <td>5</td>\n",
              "    </tr>\n",
              "    <tr>\n",
              "      <th>2</th>\n",
              "      <td>\\nIn a word, yes.\\n</td>\n",
              "      <td>0</td>\n",
              "    </tr>\n",
              "    <tr>\n",
              "      <th>3</th>\n",
              "      <td>\\nThey were attacking the Iraqis to drive them...</td>\n",
              "      <td>17</td>\n",
              "    </tr>\n",
              "    <tr>\n",
              "      <th>4</th>\n",
              "      <td>\\nI've just spent two solid months arguing tha...</td>\n",
              "      <td>19</td>\n",
              "    </tr>\n",
              "  </tbody>\n",
              "</table>\n",
              "</div>"
            ],
            "text/plain": [
              "                                                data  target\n",
              "0  I am a little confused on all of the models of...       7\n",
              "1  I'm not familiar at all with the format of the...       5\n",
              "2                                \\nIn a word, yes.\\n       0\n",
              "3  \\nThey were attacking the Iraqis to drive them...      17\n",
              "4  \\nI've just spent two solid months arguing tha...      19"
            ]
          },
          "metadata": {
            "tags": []
          },
          "execution_count": 33
        }
      ]
    },
    {
      "cell_type": "code",
      "metadata": {
        "colab": {
          "base_uri": "https://localhost:8080/",
          "height": 198
        },
        "id": "tUjU5KP5RrlP",
        "outputId": "cd726522-2aa2-4898-f20c-94c80f44e1cc"
      },
      "source": [
        "# Text preprocessing steps - remove numbers, captial letters and punctuation\n",
        "alphanumeric = lambda x: re.sub(r\"\"\"\\w*\\d\\w*\"\"\", ' ', x)\n",
        "punc_lower = lambda x: re.sub('[%s]' % re.escape(string.punctuation), ' ', x.lower())\n",
        "\n",
        "mydata_test_df['data'] = mydata_test_df.data.map(alphanumeric).map(punc_lower)\n",
        "mydata_test_df.head()"
      ],
      "execution_count": 34,
      "outputs": [
        {
          "output_type": "execute_result",
          "data": {
            "text/html": [
              "<div>\n",
              "<style scoped>\n",
              "    .dataframe tbody tr th:only-of-type {\n",
              "        vertical-align: middle;\n",
              "    }\n",
              "\n",
              "    .dataframe tbody tr th {\n",
              "        vertical-align: top;\n",
              "    }\n",
              "\n",
              "    .dataframe thead th {\n",
              "        text-align: right;\n",
              "    }\n",
              "</style>\n",
              "<table border=\"1\" class=\"dataframe\">\n",
              "  <thead>\n",
              "    <tr style=\"text-align: right;\">\n",
              "      <th></th>\n",
              "      <th>data</th>\n",
              "      <th>target</th>\n",
              "    </tr>\n",
              "  </thead>\n",
              "  <tbody>\n",
              "    <tr>\n",
              "      <th>0</th>\n",
              "      <td>i am a little confused on all of the models of...</td>\n",
              "      <td>7</td>\n",
              "    </tr>\n",
              "    <tr>\n",
              "      <th>1</th>\n",
              "      <td>i m not familiar at all with the format of the...</td>\n",
              "      <td>5</td>\n",
              "    </tr>\n",
              "    <tr>\n",
              "      <th>2</th>\n",
              "      <td>\\nin a word  yes \\n</td>\n",
              "      <td>0</td>\n",
              "    </tr>\n",
              "    <tr>\n",
              "      <th>3</th>\n",
              "      <td>\\nthey were attacking the iraqis to drive them...</td>\n",
              "      <td>17</td>\n",
              "    </tr>\n",
              "    <tr>\n",
              "      <th>4</th>\n",
              "      <td>\\ni ve just spent two solid months arguing tha...</td>\n",
              "      <td>19</td>\n",
              "    </tr>\n",
              "  </tbody>\n",
              "</table>\n",
              "</div>"
            ],
            "text/plain": [
              "                                                data  target\n",
              "0  i am a little confused on all of the models of...       7\n",
              "1  i m not familiar at all with the format of the...       5\n",
              "2                                \\nin a word  yes \\n       0\n",
              "3  \\nthey were attacking the iraqis to drive them...      17\n",
              "4  \\ni ve just spent two solid months arguing tha...      19"
            ]
          },
          "metadata": {
            "tags": []
          },
          "execution_count": 34
        }
      ]
    },
    {
      "cell_type": "code",
      "metadata": {
        "colab": {
          "base_uri": "https://localhost:8080/"
        },
        "id": "yUELDX2-bNNg",
        "outputId": "8272714a-7011-4505-dd1f-45ba0a2b71a3"
      },
      "source": [
        "# Extracting features from text files\n",
        "from sklearn.feature_extraction.text import CountVectorizer\n",
        "count_vect = CountVectorizer(stop_words='english')\n",
        "X_train_cv = count_vect.fit_transform(mydata_train_df.data) # fit_transform learns the\n",
        "X_test_cv = count_vect.transform(mydata_test_df.data) # transform uses the same vocab an\n",
        "print(X_train_cv.shape)\n",
        "print(type(X_train_cv))"
      ],
      "execution_count": 35,
      "outputs": [
        {
          "output_type": "stream",
          "text": [
            "(11314, 67822)\n",
            "<class 'scipy.sparse.csr.csr_matrix'>\n"
          ],
          "name": "stdout"
        }
      ]
    },
    {
      "cell_type": "code",
      "metadata": {
        "id": "cRUtZ9-VAkiY"
      },
      "source": [
        "import numpy as np\n",
        "\n",
        "from tqdm import tqdm\n",
        "\n",
        "from sklearn.datasets import fetch_20newsgroups\n",
        "\n",
        "from keras.preprocessing.text import Tokenizer\n",
        "from keras.preprocessing.sequence import pad_sequences\n",
        "from keras.utils.np_utils import to_categorical\n",
        "from keras.layers import Dense, Input, Flatten\n",
        "from keras.layers import Conv1D, MaxPooling1D, Embedding, Dropout\n",
        "from keras.models import Model"
      ],
      "execution_count": 36,
      "outputs": []
    },
    {
      "cell_type": "code",
      "metadata": {
        "colab": {
          "base_uri": "https://localhost:8080/"
        },
        "id": "4Oz3FjnHAqOw",
        "outputId": "f8785c38-25a5-4191-f201-5e81aa6c9638"
      },
      "source": [
        "categories = ['alt.atheism', 'soc.religion.christian'] \n",
        "\n",
        "newsgroups_train = fetch_20newsgroups(subset='train', shuffle=True, \n",
        "                                      categories=categories,)\n",
        "\n",
        "print (newsgroups_train.target_names)\n",
        "print (len(newsgroups_train.data))\n",
        "\n",
        "#print (newsgroups_train.data[1])\n",
        "print(\"\\n\".join(newsgroups_train.data[0].split(\"\\n\")[10:15]))"
      ],
      "execution_count": 37,
      "outputs": [
        {
          "output_type": "stream",
          "text": [
            "['alt.atheism', 'soc.religion.christian']\n",
            "1079\n",
            "   WASHINGTON, April 19  -- A symposium on the Dead Sea \n",
            "Scrolls will be held at the Library of Congress on Wednesday,\n",
            "April 21, and Thursday, April 22.  The two-day program, cosponsored\n",
            "by the library and Baltimore Hebrew University, with additional\n",
            "support from the Project Judaica Foundation, will be held in the\n"
          ],
          "name": "stdout"
        }
      ]
    },
    {
      "cell_type": "code",
      "metadata": {
        "colab": {
          "base_uri": "https://localhost:8080/"
        },
        "id": "I9VVEyQWAu6m",
        "outputId": "3f8bc49f-514d-4446-8d08-102da4cc7ea6"
      },
      "source": [
        "%%time\n",
        "\n",
        "texts = []\n",
        "\n",
        "labels=newsgroups_train.target\n",
        "texts = newsgroups_train.data\n",
        "\n",
        "MAX_SEQUENCE_LENGTH = 1000\n",
        "MAX_NB_WORDS = 20000\n",
        "\n",
        "tokenizer = Tokenizer(num_words=MAX_NB_WORDS)\n",
        "tokenizer.fit_on_texts(texts)\n",
        "\n",
        "sequences = tokenizer.texts_to_sequences(texts)\n",
        "\n",
        "print (sequences[0][:10])"
      ],
      "execution_count": 38,
      "outputs": [
        {
          "output_type": "stream",
          "text": [
            "[19, 8762, 3621, 11894, 58, 8762, 3621, 43, 1472, 2]\n",
            "CPU times: user 442 ms, sys: 9.09 ms, total: 451 ms\n",
            "Wall time: 452 ms\n"
          ],
          "name": "stdout"
        }
      ]
    },
    {
      "cell_type": "code",
      "metadata": {
        "colab": {
          "base_uri": "https://localhost:8080/"
        },
        "id": "8C-jZJV1Ay0E",
        "outputId": "c242e458-d59b-4a19-9193-619787d83b30"
      },
      "source": [
        "word_index = tokenizer.word_index\n",
        "\n",
        "print('Found %s unique tokens.' % len(word_index))"
      ],
      "execution_count": 39,
      "outputs": [
        {
          "output_type": "stream",
          "text": [
            "Found 20030 unique tokens.\n"
          ],
          "name": "stdout"
        }
      ]
    },
    {
      "cell_type": "code",
      "metadata": {
        "colab": {
          "base_uri": "https://localhost:8080/"
        },
        "id": "I3leeqbJA1-q",
        "outputId": "13faea3a-133e-439f-97bb-f642ed11e97f"
      },
      "source": [
        "data = pad_sequences(sequences, maxlen=MAX_SEQUENCE_LENGTH)\n",
        "\n",
        "print (data.shape)\n",
        "print (data[0][200:250])"
      ],
      "execution_count": 40,
      "outputs": [
        {
          "output_type": "stream",
          "text": [
            "(1079, 1000)\n",
            "[    0     0     0     0     0     0     0     0     0     0     0     0\n",
            "     0     0     0     0     0     0     0     0     0     0     0     0\n",
            "     0     0     0     0     0    19  8762  3621 11894    58  8762  3621\n",
            "    43  1472     2  2130     3   189   450  1001  3622  2980  1682   476\n",
            "   627    50]\n"
          ],
          "name": "stdout"
        }
      ]
    },
    {
      "cell_type": "code",
      "metadata": {
        "colab": {
          "base_uri": "https://localhost:8080/"
        },
        "id": "TATKrjgmA6lK",
        "outputId": "e2c60328-04af-4144-82aa-2328d874d83b"
      },
      "source": [
        "labels = to_categorical(np.array(labels))\n",
        "\n",
        "print('Shape of data tensor:', data.shape)\n",
        "print('Shape of label tensor:', labels.shape)"
      ],
      "execution_count": 41,
      "outputs": [
        {
          "output_type": "stream",
          "text": [
            "Shape of data tensor: (1079, 1000)\n",
            "Shape of label tensor: (1079, 2)\n"
          ],
          "name": "stdout"
        }
      ]
    },
    {
      "cell_type": "code",
      "metadata": {
        "colab": {
          "base_uri": "https://localhost:8080/"
        },
        "id": "tKD1nppNA_cG",
        "outputId": "0b9f886a-9bf0-4393-cfee-536a690578c3"
      },
      "source": [
        "VALIDATION_SPLIT = 0.1\n",
        "\n",
        "indices = np.arange(data.shape[0])\n",
        "np.random.shuffle(indices) \n",
        "data = data[indices] \n",
        "labels = labels[indices] \n",
        "nb_validation_samples = int(VALIDATION_SPLIT * data.shape[0])\n",
        "\n",
        "x_train = data[:-nb_validation_samples] \n",
        "y_train = labels[:-nb_validation_samples] \n",
        "x_val = data[-nb_validation_samples:] \n",
        "y_val = labels[-nb_validation_samples:] \n",
        "\n",
        "print (x_train.shape)\n",
        "print (y_train.shape)\n",
        "\n",
        "print('Number of positive and negative reviews in traing and validation set ') \n",
        "print (y_train.sum(axis=0))\n",
        "print (y_val.sum(axis=0))\n"
      ],
      "execution_count": 42,
      "outputs": [
        {
          "output_type": "stream",
          "text": [
            "(972, 1000)\n",
            "(972, 2)\n",
            "Number of positive and negative reviews in traing and validation set \n",
            "[436. 536.]\n",
            "[44. 63.]\n"
          ],
          "name": "stdout"
        }
      ]
    },
    {
      "cell_type": "code",
      "metadata": {
        "colab": {
          "base_uri": "https://localhost:8080/",
          "height": 244
        },
        "id": "1jN7GicoBSkh",
        "outputId": "c3a4c1f9-bfc7-4cc3-c431-24be38b66544"
      },
      "source": [
        "EMBEDDING_DIM = 100\n",
        "\n",
        "embedding_matrix = np.random.random((len(word_index) + 1, EMBEDDING_DIM))\n",
        "\n",
        "for word, i in word_index.items():\n",
        "  embedding_vector = embeddings_index.get(word)\n",
        "  if embedding_vector is not None:\n",
        "    # words not found in embedding index will be all-zeros.\n",
        "    embedding_matrix[i] = embedding_vector\n",
        "\n",
        "print (embedding_matrix.shape)\n",
        "\n",
        "print (embedding_matrix[0][:10])"
      ],
      "execution_count": 43,
      "outputs": [
        {
          "output_type": "error",
          "ename": "NameError",
          "evalue": "ignored",
          "traceback": [
            "\u001b[0;31m---------------------------------------------------------------------------\u001b[0m",
            "\u001b[0;31mNameError\u001b[0m                                 Traceback (most recent call last)",
            "\u001b[0;32m<ipython-input-43-6fb53264530f>\u001b[0m in \u001b[0;36m<module>\u001b[0;34m()\u001b[0m\n\u001b[1;32m      4\u001b[0m \u001b[0;34m\u001b[0m\u001b[0m\n\u001b[1;32m      5\u001b[0m \u001b[0;32mfor\u001b[0m \u001b[0mword\u001b[0m\u001b[0;34m,\u001b[0m \u001b[0mi\u001b[0m \u001b[0;32min\u001b[0m \u001b[0mword_index\u001b[0m\u001b[0;34m.\u001b[0m\u001b[0mitems\u001b[0m\u001b[0;34m(\u001b[0m\u001b[0;34m)\u001b[0m\u001b[0;34m:\u001b[0m\u001b[0;34m\u001b[0m\u001b[0;34m\u001b[0m\u001b[0m\n\u001b[0;32m----> 6\u001b[0;31m   \u001b[0membedding_vector\u001b[0m \u001b[0;34m=\u001b[0m \u001b[0membeddings_index\u001b[0m\u001b[0;34m.\u001b[0m\u001b[0mget\u001b[0m\u001b[0;34m(\u001b[0m\u001b[0mword\u001b[0m\u001b[0;34m)\u001b[0m\u001b[0;34m\u001b[0m\u001b[0;34m\u001b[0m\u001b[0m\n\u001b[0m\u001b[1;32m      7\u001b[0m   \u001b[0;32mif\u001b[0m \u001b[0membedding_vector\u001b[0m \u001b[0;32mis\u001b[0m \u001b[0;32mnot\u001b[0m \u001b[0;32mNone\u001b[0m\u001b[0;34m:\u001b[0m\u001b[0;34m\u001b[0m\u001b[0;34m\u001b[0m\u001b[0m\n\u001b[1;32m      8\u001b[0m     \u001b[0;31m# words not found in embedding index will be all-zeros.\u001b[0m\u001b[0;34m\u001b[0m\u001b[0;34m\u001b[0m\u001b[0;34m\u001b[0m\u001b[0m\n",
            "\u001b[0;31mNameError\u001b[0m: name 'embeddings_index' is not defined"
          ]
        }
      ]
    },
    {
      "cell_type": "code",
      "metadata": {
        "colab": {
          "base_uri": "https://localhost:8080/"
        },
        "id": "StT4yPYaBUgr",
        "outputId": "967e4091-bc8f-40d2-b02d-2574cdb1d652"
      },
      "source": [
        "embedding_layer = Embedding(len(word_index) + 1, EMBEDDING_DIM,\n",
        "                            weights=[embedding_matrix], \n",
        "                            input_length=MAX_SEQUENCE_LENGTH, \n",
        "                            trainable=False)\n",
        "\n",
        "sequence_input = Input(shape=(MAX_SEQUENCE_LENGTH,), dtype='int32') \n",
        "embedded_sequences = embedding_layer(sequence_input) \n",
        "l_cov1= Conv1D(128, 5, activation='relu')(embedded_sequences) \n",
        "l_pool1 = MaxPooling1D(5)(l_cov1) \n",
        "l_cov2 = Conv1D(128, 5, activation='relu')(l_pool1) \n",
        "l_pool2 = MaxPooling1D(5)(l_cov2) \n",
        "l_cov3 = Conv1D(128, 5, activation='relu')(l_pool2) \n",
        "l_pool3 = MaxPooling1D(35)(l_cov3)  # global max pooling\n",
        "\n",
        "l_flat = Flatten()(l_pool3) \n",
        "l_dense = Dense(128, activation='relu')(l_flat) \n",
        "preds = Dense(2, activation='softmax')(l_dense)\n",
        "\n",
        "model = Model(sequence_input, preds)\n",
        "\n",
        "model.summary()"
      ],
      "execution_count": 44,
      "outputs": [
        {
          "output_type": "stream",
          "text": [
            "Model: \"model\"\n",
            "_________________________________________________________________\n",
            "Layer (type)                 Output Shape              Param #   \n",
            "=================================================================\n",
            "input_1 (InputLayer)         [(None, 1000)]            0         \n",
            "_________________________________________________________________\n",
            "embedding (Embedding)        (None, 1000, 100)         2003100   \n",
            "_________________________________________________________________\n",
            "conv1d (Conv1D)              (None, 996, 128)          64128     \n",
            "_________________________________________________________________\n",
            "max_pooling1d (MaxPooling1D) (None, 199, 128)          0         \n",
            "_________________________________________________________________\n",
            "conv1d_1 (Conv1D)            (None, 195, 128)          82048     \n",
            "_________________________________________________________________\n",
            "max_pooling1d_1 (MaxPooling1 (None, 39, 128)           0         \n",
            "_________________________________________________________________\n",
            "conv1d_2 (Conv1D)            (None, 35, 128)           82048     \n",
            "_________________________________________________________________\n",
            "max_pooling1d_2 (MaxPooling1 (None, 1, 128)            0         \n",
            "_________________________________________________________________\n",
            "flatten (Flatten)            (None, 128)               0         \n",
            "_________________________________________________________________\n",
            "dense (Dense)                (None, 128)               16512     \n",
            "_________________________________________________________________\n",
            "dense_1 (Dense)              (None, 2)                 258       \n",
            "=================================================================\n",
            "Total params: 2,248,094\n",
            "Trainable params: 244,994\n",
            "Non-trainable params: 2,003,100\n",
            "_________________________________________________________________\n"
          ],
          "name": "stdout"
        }
      ]
    },
    {
      "cell_type": "code",
      "metadata": {
        "colab": {
          "base_uri": "https://localhost:8080/"
        },
        "id": "ohWKe6xrBfGj",
        "outputId": "be5019bd-b37f-49e2-ddbe-64bfb22404a2"
      },
      "source": [
        "model.compile(loss='categorical_crossentropy', optimizer='adam',metrics=['acc'])\n",
        "\n",
        "history = model.fit(x_train, y_train, validation_data=(x_val, y_val),\n",
        "                    epochs=500, batch_size=512)   "
      ],
      "execution_count": 45,
      "outputs": [
        {
          "output_type": "stream",
          "text": [
            "Epoch 1/500\n",
            "2/2 [==============================] - 35s 1s/step - loss: 0.8565 - acc: 0.5367 - val_loss: 0.6876 - val_acc: 0.5888\n",
            "Epoch 2/500\n",
            "2/2 [==============================] - 0s 173ms/step - loss: 0.7284 - acc: 0.5304 - val_loss: 0.7275 - val_acc: 0.4112\n",
            "Epoch 3/500\n",
            "2/2 [==============================] - 0s 163ms/step - loss: 0.7008 - acc: 0.5019 - val_loss: 0.6895 - val_acc: 0.5888\n",
            "Epoch 4/500\n",
            "2/2 [==============================] - 0s 166ms/step - loss: 0.7089 - acc: 0.5499 - val_loss: 0.6785 - val_acc: 0.5888\n",
            "Epoch 5/500\n",
            "2/2 [==============================] - 0s 170ms/step - loss: 0.6885 - acc: 0.5629 - val_loss: 0.6950 - val_acc: 0.4299\n",
            "Epoch 6/500\n",
            "2/2 [==============================] - 0s 165ms/step - loss: 0.6921 - acc: 0.4870 - val_loss: 0.6811 - val_acc: 0.5888\n",
            "Epoch 7/500\n",
            "2/2 [==============================] - 0s 164ms/step - loss: 0.6866 - acc: 0.5629 - val_loss: 0.6774 - val_acc: 0.5888\n",
            "Epoch 8/500\n",
            "2/2 [==============================] - 0s 165ms/step - loss: 0.6841 - acc: 0.5649 - val_loss: 0.6781 - val_acc: 0.5888\n",
            "Epoch 9/500\n",
            "2/2 [==============================] - 0s 163ms/step - loss: 0.6866 - acc: 0.5486 - val_loss: 0.6857 - val_acc: 0.5888\n",
            "Epoch 10/500\n",
            "2/2 [==============================] - 0s 167ms/step - loss: 0.6879 - acc: 0.5528 - val_loss: 0.6851 - val_acc: 0.5888\n",
            "Epoch 11/500\n",
            "2/2 [==============================] - 0s 165ms/step - loss: 0.6858 - acc: 0.5532 - val_loss: 0.6775 - val_acc: 0.5888\n",
            "Epoch 12/500\n",
            "2/2 [==============================] - 0s 172ms/step - loss: 0.6851 - acc: 0.5499 - val_loss: 0.6762 - val_acc: 0.5888\n",
            "Epoch 13/500\n",
            "2/2 [==============================] - 0s 168ms/step - loss: 0.6862 - acc: 0.5467 - val_loss: 0.6776 - val_acc: 0.5888\n",
            "Epoch 14/500\n",
            "2/2 [==============================] - 0s 166ms/step - loss: 0.6845 - acc: 0.5467 - val_loss: 0.6812 - val_acc: 0.5888\n",
            "Epoch 15/500\n",
            "2/2 [==============================] - 0s 167ms/step - loss: 0.6857 - acc: 0.5465 - val_loss: 0.6807 - val_acc: 0.5888\n",
            "Epoch 16/500\n",
            "2/2 [==============================] - 0s 163ms/step - loss: 0.6815 - acc: 0.5532 - val_loss: 0.6754 - val_acc: 0.5888\n",
            "Epoch 17/500\n",
            "2/2 [==============================] - 0s 171ms/step - loss: 0.6830 - acc: 0.5434 - val_loss: 0.6753 - val_acc: 0.5888\n",
            "Epoch 18/500\n",
            "2/2 [==============================] - 0s 167ms/step - loss: 0.6807 - acc: 0.5480 - val_loss: 0.6771 - val_acc: 0.5888\n",
            "Epoch 19/500\n",
            "2/2 [==============================] - 0s 175ms/step - loss: 0.6781 - acc: 0.5512 - val_loss: 0.6778 - val_acc: 0.5888\n",
            "Epoch 20/500\n",
            "2/2 [==============================] - 0s 164ms/step - loss: 0.6767 - acc: 0.5551 - val_loss: 0.6751 - val_acc: 0.5888\n",
            "Epoch 21/500\n",
            "2/2 [==============================] - 0s 164ms/step - loss: 0.6740 - acc: 0.5590 - val_loss: 0.6741 - val_acc: 0.5888\n",
            "Epoch 22/500\n",
            "2/2 [==============================] - 0s 165ms/step - loss: 0.6778 - acc: 0.5586 - val_loss: 0.6770 - val_acc: 0.5888\n",
            "Epoch 23/500\n",
            "2/2 [==============================] - 0s 167ms/step - loss: 0.6720 - acc: 0.5898 - val_loss: 0.6707 - val_acc: 0.5888\n",
            "Epoch 24/500\n",
            "2/2 [==============================] - 0s 167ms/step - loss: 0.6706 - acc: 0.5487 - val_loss: 0.6719 - val_acc: 0.5888\n",
            "Epoch 25/500\n",
            "2/2 [==============================] - 0s 163ms/step - loss: 0.6664 - acc: 0.5936 - val_loss: 0.6710 - val_acc: 0.6168\n",
            "Epoch 26/500\n",
            "2/2 [==============================] - 0s 166ms/step - loss: 0.6635 - acc: 0.5995 - val_loss: 0.6662 - val_acc: 0.5888\n",
            "Epoch 27/500\n",
            "2/2 [==============================] - 0s 164ms/step - loss: 0.6594 - acc: 0.5903 - val_loss: 0.6653 - val_acc: 0.6262\n",
            "Epoch 28/500\n",
            "2/2 [==============================] - 0s 166ms/step - loss: 0.6540 - acc: 0.6474 - val_loss: 0.6582 - val_acc: 0.6262\n",
            "Epoch 29/500\n",
            "2/2 [==============================] - 0s 171ms/step - loss: 0.6483 - acc: 0.6325 - val_loss: 0.6508 - val_acc: 0.6262\n",
            "Epoch 30/500\n",
            "2/2 [==============================] - 0s 166ms/step - loss: 0.6391 - acc: 0.6541 - val_loss: 0.6432 - val_acc: 0.6636\n",
            "Epoch 31/500\n",
            "2/2 [==============================] - 0s 165ms/step - loss: 0.6331 - acc: 0.7363 - val_loss: 0.6408 - val_acc: 0.5888\n",
            "Epoch 32/500\n",
            "2/2 [==============================] - 0s 163ms/step - loss: 0.6236 - acc: 0.6201 - val_loss: 0.6763 - val_acc: 0.4486\n",
            "Epoch 33/500\n",
            "2/2 [==============================] - 0s 167ms/step - loss: 0.6337 - acc: 0.5316 - val_loss: 0.6198 - val_acc: 0.6168\n",
            "Epoch 34/500\n",
            "2/2 [==============================] - 0s 165ms/step - loss: 0.5965 - acc: 0.7171 - val_loss: 0.6377 - val_acc: 0.5514\n",
            "Epoch 35/500\n",
            "2/2 [==============================] - 0s 163ms/step - loss: 0.5813 - acc: 0.7135 - val_loss: 0.6257 - val_acc: 0.6168\n",
            "Epoch 36/500\n",
            "2/2 [==============================] - 0s 167ms/step - loss: 0.5967 - acc: 0.6842 - val_loss: 0.6143 - val_acc: 0.5607\n",
            "Epoch 37/500\n",
            "2/2 [==============================] - 0s 167ms/step - loss: 0.5745 - acc: 0.6668 - val_loss: 0.5593 - val_acc: 0.6916\n",
            "Epoch 38/500\n",
            "2/2 [==============================] - 0s 169ms/step - loss: 0.5269 - acc: 0.7882 - val_loss: 0.5515 - val_acc: 0.8879\n",
            "Epoch 39/500\n",
            "2/2 [==============================] - 0s 165ms/step - loss: 0.5056 - acc: 0.8597 - val_loss: 0.5196 - val_acc: 0.7850\n",
            "Epoch 40/500\n",
            "2/2 [==============================] - 0s 172ms/step - loss: 0.4813 - acc: 0.8629 - val_loss: 0.4931 - val_acc: 0.8505\n",
            "Epoch 41/500\n",
            "2/2 [==============================] - 0s 165ms/step - loss: 0.4515 - acc: 0.8644 - val_loss: 0.4856 - val_acc: 0.8692\n",
            "Epoch 42/500\n",
            "2/2 [==============================] - 0s 163ms/step - loss: 0.4247 - acc: 0.8994 - val_loss: 0.4343 - val_acc: 0.8598\n",
            "Epoch 43/500\n",
            "2/2 [==============================] - 0s 175ms/step - loss: 0.3829 - acc: 0.9091 - val_loss: 0.4734 - val_acc: 0.7664\n",
            "Epoch 44/500\n",
            "2/2 [==============================] - 0s 163ms/step - loss: 0.5067 - acc: 0.6862 - val_loss: 0.6606 - val_acc: 0.6542\n",
            "Epoch 45/500\n",
            "2/2 [==============================] - 0s 165ms/step - loss: 0.5964 - acc: 0.6699 - val_loss: 0.4060 - val_acc: 0.9159\n",
            "Epoch 46/500\n",
            "2/2 [==============================] - 0s 165ms/step - loss: 0.4327 - acc: 0.7846 - val_loss: 0.3998 - val_acc: 0.8879\n",
            "Epoch 47/500\n",
            "2/2 [==============================] - 0s 167ms/step - loss: 0.3882 - acc: 0.8683 - val_loss: 0.5377 - val_acc: 0.6916\n",
            "Epoch 48/500\n",
            "2/2 [==============================] - 0s 162ms/step - loss: 0.4431 - acc: 0.7734 - val_loss: 0.4353 - val_acc: 0.9159\n",
            "Epoch 49/500\n",
            "2/2 [==============================] - 0s 164ms/step - loss: 0.4001 - acc: 0.8828 - val_loss: 0.4305 - val_acc: 0.8972\n",
            "Epoch 50/500\n",
            "2/2 [==============================] - 0s 165ms/step - loss: 0.3572 - acc: 0.9096 - val_loss: 0.4320 - val_acc: 0.7944\n",
            "Epoch 51/500\n",
            "2/2 [==============================] - 0s 167ms/step - loss: 0.3679 - acc: 0.8451 - val_loss: 0.3668 - val_acc: 0.8785\n",
            "Epoch 52/500\n",
            "2/2 [==============================] - 0s 166ms/step - loss: 0.3069 - acc: 0.9271 - val_loss: 0.3730 - val_acc: 0.9346\n",
            "Epoch 53/500\n",
            "2/2 [==============================] - 0s 162ms/step - loss: 0.3100 - acc: 0.9150 - val_loss: 0.3514 - val_acc: 0.8505\n",
            "Epoch 54/500\n",
            "2/2 [==============================] - 0s 171ms/step - loss: 0.2898 - acc: 0.8918 - val_loss: 0.3192 - val_acc: 0.9159\n",
            "Epoch 55/500\n",
            "2/2 [==============================] - 0s 160ms/step - loss: 0.2628 - acc: 0.9320 - val_loss: 0.2974 - val_acc: 0.8972\n",
            "Epoch 56/500\n",
            "2/2 [==============================] - 0s 166ms/step - loss: 0.2433 - acc: 0.9171 - val_loss: 0.2854 - val_acc: 0.8972\n",
            "Epoch 57/500\n",
            "2/2 [==============================] - 0s 166ms/step - loss: 0.2331 - acc: 0.9246 - val_loss: 0.2766 - val_acc: 0.9252\n",
            "Epoch 58/500\n",
            "2/2 [==============================] - 0s 163ms/step - loss: 0.2179 - acc: 0.9332 - val_loss: 0.2673 - val_acc: 0.8879\n",
            "Epoch 59/500\n",
            "2/2 [==============================] - 0s 167ms/step - loss: 0.2064 - acc: 0.9267 - val_loss: 0.2545 - val_acc: 0.9439\n",
            "Epoch 60/500\n",
            "2/2 [==============================] - 0s 167ms/step - loss: 0.1912 - acc: 0.9399 - val_loss: 0.2378 - val_acc: 0.9159\n",
            "Epoch 61/500\n",
            "2/2 [==============================] - 0s 172ms/step - loss: 0.1750 - acc: 0.9475 - val_loss: 0.2275 - val_acc: 0.9252\n",
            "Epoch 62/500\n",
            "2/2 [==============================] - 0s 162ms/step - loss: 0.1631 - acc: 0.9407 - val_loss: 0.2207 - val_acc: 0.9439\n",
            "Epoch 63/500\n",
            "2/2 [==============================] - 0s 164ms/step - loss: 0.1468 - acc: 0.9560 - val_loss: 0.2138 - val_acc: 0.9439\n",
            "Epoch 64/500\n",
            "2/2 [==============================] - 0s 171ms/step - loss: 0.1419 - acc: 0.9555 - val_loss: 0.2049 - val_acc: 0.9439\n",
            "Epoch 65/500\n",
            "2/2 [==============================] - 0s 164ms/step - loss: 0.1460 - acc: 0.9564 - val_loss: 0.2697 - val_acc: 0.8879\n",
            "Epoch 66/500\n",
            "2/2 [==============================] - 0s 169ms/step - loss: 0.1569 - acc: 0.9381 - val_loss: 0.3911 - val_acc: 0.8505\n",
            "Epoch 67/500\n",
            "2/2 [==============================] - 0s 162ms/step - loss: 0.2952 - acc: 0.8723 - val_loss: 0.2872 - val_acc: 0.8879\n",
            "Epoch 68/500\n",
            "2/2 [==============================] - 0s 166ms/step - loss: 0.1811 - acc: 0.9286 - val_loss: 0.2039 - val_acc: 0.9439\n",
            "Epoch 69/500\n",
            "2/2 [==============================] - 0s 168ms/step - loss: 0.1218 - acc: 0.9642 - val_loss: 0.2391 - val_acc: 0.8879\n",
            "Epoch 70/500\n",
            "2/2 [==============================] - 0s 164ms/step - loss: 0.1459 - acc: 0.9349 - val_loss: 0.2261 - val_acc: 0.9252\n",
            "Epoch 71/500\n",
            "2/2 [==============================] - 0s 168ms/step - loss: 0.1281 - acc: 0.9737 - val_loss: 0.1885 - val_acc: 0.9439\n",
            "Epoch 72/500\n",
            "2/2 [==============================] - 0s 161ms/step - loss: 0.1090 - acc: 0.9608 - val_loss: 0.1911 - val_acc: 0.9346\n",
            "Epoch 73/500\n",
            "2/2 [==============================] - 0s 165ms/step - loss: 0.1033 - acc: 0.9671 - val_loss: 0.2088 - val_acc: 0.9252\n",
            "Epoch 74/500\n",
            "2/2 [==============================] - 0s 168ms/step - loss: 0.1032 - acc: 0.9757 - val_loss: 0.1802 - val_acc: 0.9346\n",
            "Epoch 75/500\n",
            "2/2 [==============================] - 0s 166ms/step - loss: 0.0923 - acc: 0.9636 - val_loss: 0.1718 - val_acc: 0.9533\n",
            "Epoch 76/500\n",
            "2/2 [==============================] - 0s 166ms/step - loss: 0.0831 - acc: 0.9758 - val_loss: 0.1796 - val_acc: 0.9439\n",
            "Epoch 77/500\n",
            "2/2 [==============================] - 0s 168ms/step - loss: 0.0820 - acc: 0.9818 - val_loss: 0.1669 - val_acc: 0.9439\n",
            "Epoch 78/500\n",
            "2/2 [==============================] - 0s 169ms/step - loss: 0.0757 - acc: 0.9750 - val_loss: 0.1615 - val_acc: 0.9533\n",
            "Epoch 79/500\n",
            "2/2 [==============================] - 0s 164ms/step - loss: 0.0709 - acc: 0.9825 - val_loss: 0.1676 - val_acc: 0.9439\n",
            "Epoch 80/500\n",
            "2/2 [==============================] - 0s 171ms/step - loss: 0.0668 - acc: 0.9865 - val_loss: 0.1616 - val_acc: 0.9439\n",
            "Epoch 81/500\n",
            "2/2 [==============================] - 0s 166ms/step - loss: 0.0608 - acc: 0.9785 - val_loss: 0.1573 - val_acc: 0.9439\n",
            "Epoch 82/500\n",
            "2/2 [==============================] - 0s 169ms/step - loss: 0.0602 - acc: 0.9846 - val_loss: 0.1557 - val_acc: 0.9439\n",
            "Epoch 83/500\n",
            "2/2 [==============================] - 0s 163ms/step - loss: 0.0541 - acc: 0.9866 - val_loss: 0.1579 - val_acc: 0.9439\n",
            "Epoch 84/500\n",
            "2/2 [==============================] - 0s 165ms/step - loss: 0.0514 - acc: 0.9839 - val_loss: 0.1533 - val_acc: 0.9439\n",
            "Epoch 85/500\n",
            "2/2 [==============================] - 0s 169ms/step - loss: 0.0447 - acc: 0.9953 - val_loss: 0.1508 - val_acc: 0.9533\n",
            "Epoch 86/500\n",
            "2/2 [==============================] - 0s 165ms/step - loss: 0.0432 - acc: 0.9919 - val_loss: 0.1506 - val_acc: 0.9533\n",
            "Epoch 87/500\n",
            "2/2 [==============================] - 0s 165ms/step - loss: 0.0395 - acc: 0.9953 - val_loss: 0.1494 - val_acc: 0.9439\n",
            "Epoch 88/500\n",
            "2/2 [==============================] - 0s 170ms/step - loss: 0.0372 - acc: 0.9959 - val_loss: 0.1511 - val_acc: 0.9533\n",
            "Epoch 89/500\n",
            "2/2 [==============================] - 0s 162ms/step - loss: 0.0350 - acc: 0.9933 - val_loss: 0.1468 - val_acc: 0.9533\n",
            "Epoch 90/500\n",
            "2/2 [==============================] - 0s 166ms/step - loss: 0.0347 - acc: 0.9953 - val_loss: 0.1479 - val_acc: 0.9533\n",
            "Epoch 91/500\n",
            "2/2 [==============================] - 0s 162ms/step - loss: 0.0333 - acc: 0.9946 - val_loss: 0.1477 - val_acc: 0.9533\n",
            "Epoch 92/500\n",
            "2/2 [==============================] - 0s 167ms/step - loss: 0.0284 - acc: 0.9966 - val_loss: 0.1452 - val_acc: 0.9533\n",
            "Epoch 93/500\n",
            "2/2 [==============================] - 0s 166ms/step - loss: 0.0283 - acc: 0.9966 - val_loss: 0.1475 - val_acc: 0.9533\n",
            "Epoch 94/500\n",
            "2/2 [==============================] - 0s 165ms/step - loss: 0.0254 - acc: 0.9966 - val_loss: 0.1475 - val_acc: 0.9533\n",
            "Epoch 95/500\n",
            "2/2 [==============================] - 0s 171ms/step - loss: 0.0233 - acc: 0.9973 - val_loss: 0.1440 - val_acc: 0.9533\n",
            "Epoch 96/500\n",
            "2/2 [==============================] - 0s 162ms/step - loss: 0.0229 - acc: 0.9973 - val_loss: 0.1505 - val_acc: 0.9533\n",
            "Epoch 97/500\n",
            "2/2 [==============================] - 0s 165ms/step - loss: 0.0216 - acc: 0.9960 - val_loss: 0.1448 - val_acc: 0.9533\n",
            "Epoch 98/500\n",
            "2/2 [==============================] - 0s 164ms/step - loss: 0.0193 - acc: 0.9980 - val_loss: 0.1449 - val_acc: 0.9533\n",
            "Epoch 99/500\n",
            "2/2 [==============================] - 0s 167ms/step - loss: 0.0178 - acc: 0.9986 - val_loss: 0.1512 - val_acc: 0.9533\n",
            "Epoch 100/500\n",
            "2/2 [==============================] - 0s 170ms/step - loss: 0.0163 - acc: 0.9980 - val_loss: 0.1439 - val_acc: 0.9533\n",
            "Epoch 101/500\n",
            "2/2 [==============================] - 0s 169ms/step - loss: 0.0165 - acc: 0.9986 - val_loss: 0.1507 - val_acc: 0.9533\n",
            "Epoch 102/500\n",
            "2/2 [==============================] - 0s 169ms/step - loss: 0.0139 - acc: 0.9986 - val_loss: 0.1446 - val_acc: 0.9533\n",
            "Epoch 103/500\n",
            "2/2 [==============================] - 0s 163ms/step - loss: 0.0147 - acc: 1.0000 - val_loss: 0.1570 - val_acc: 0.9439\n",
            "Epoch 104/500\n",
            "2/2 [==============================] - 0s 170ms/step - loss: 0.0141 - acc: 0.9973 - val_loss: 0.1524 - val_acc: 0.9533\n",
            "Epoch 105/500\n",
            "2/2 [==============================] - 0s 164ms/step - loss: 0.0120 - acc: 1.0000 - val_loss: 0.1464 - val_acc: 0.9533\n",
            "Epoch 106/500\n",
            "2/2 [==============================] - 0s 171ms/step - loss: 0.0119 - acc: 0.9993 - val_loss: 0.1653 - val_acc: 0.9346\n",
            "Epoch 107/500\n",
            "2/2 [==============================] - 0s 167ms/step - loss: 0.0117 - acc: 0.9987 - val_loss: 0.1463 - val_acc: 0.9533\n",
            "Epoch 108/500\n",
            "2/2 [==============================] - 0s 168ms/step - loss: 0.0101 - acc: 1.0000 - val_loss: 0.1638 - val_acc: 0.9346\n",
            "Epoch 109/500\n",
            "2/2 [==============================] - 0s 170ms/step - loss: 0.0093 - acc: 1.0000 - val_loss: 0.1549 - val_acc: 0.9533\n",
            "Epoch 110/500\n",
            "2/2 [==============================] - 0s 164ms/step - loss: 0.0087 - acc: 1.0000 - val_loss: 0.1501 - val_acc: 0.9533\n",
            "Epoch 111/500\n",
            "2/2 [==============================] - 0s 166ms/step - loss: 0.0080 - acc: 1.0000 - val_loss: 0.1696 - val_acc: 0.9346\n",
            "Epoch 112/500\n",
            "2/2 [==============================] - 0s 170ms/step - loss: 0.0084 - acc: 1.0000 - val_loss: 0.1515 - val_acc: 0.9533\n",
            "Epoch 113/500\n",
            "2/2 [==============================] - 0s 165ms/step - loss: 0.0068 - acc: 1.0000 - val_loss: 0.1646 - val_acc: 0.9533\n",
            "Epoch 114/500\n",
            "2/2 [==============================] - 0s 178ms/step - loss: 0.0064 - acc: 1.0000 - val_loss: 0.1638 - val_acc: 0.9533\n",
            "Epoch 115/500\n",
            "2/2 [==============================] - 0s 167ms/step - loss: 0.0058 - acc: 1.0000 - val_loss: 0.1532 - val_acc: 0.9533\n",
            "Epoch 116/500\n",
            "2/2 [==============================] - 0s 164ms/step - loss: 0.0053 - acc: 1.0000 - val_loss: 0.1727 - val_acc: 0.9346\n",
            "Epoch 117/500\n",
            "2/2 [==============================] - 0s 166ms/step - loss: 0.0054 - acc: 1.0000 - val_loss: 0.1646 - val_acc: 0.9533\n",
            "Epoch 118/500\n",
            "2/2 [==============================] - 0s 167ms/step - loss: 0.0047 - acc: 1.0000 - val_loss: 0.1593 - val_acc: 0.9533\n",
            "Epoch 119/500\n",
            "2/2 [==============================] - 0s 166ms/step - loss: 0.0044 - acc: 1.0000 - val_loss: 0.1649 - val_acc: 0.9533\n",
            "Epoch 120/500\n",
            "2/2 [==============================] - 0s 168ms/step - loss: 0.0043 - acc: 1.0000 - val_loss: 0.1716 - val_acc: 0.9533\n",
            "Epoch 121/500\n",
            "2/2 [==============================] - 0s 167ms/step - loss: 0.0042 - acc: 1.0000 - val_loss: 0.1595 - val_acc: 0.9533\n",
            "Epoch 122/500\n",
            "2/2 [==============================] - 0s 167ms/step - loss: 0.0037 - acc: 1.0000 - val_loss: 0.1703 - val_acc: 0.9533\n",
            "Epoch 123/500\n",
            "2/2 [==============================] - 0s 168ms/step - loss: 0.0036 - acc: 1.0000 - val_loss: 0.1730 - val_acc: 0.9533\n",
            "Epoch 124/500\n",
            "2/2 [==============================] - 0s 170ms/step - loss: 0.0034 - acc: 1.0000 - val_loss: 0.1615 - val_acc: 0.9533\n",
            "Epoch 125/500\n",
            "2/2 [==============================] - 0s 166ms/step - loss: 0.0032 - acc: 1.0000 - val_loss: 0.1752 - val_acc: 0.9533\n",
            "Epoch 126/500\n",
            "2/2 [==============================] - 0s 165ms/step - loss: 0.0030 - acc: 1.0000 - val_loss: 0.1784 - val_acc: 0.9533\n",
            "Epoch 127/500\n",
            "2/2 [==============================] - 0s 169ms/step - loss: 0.0028 - acc: 1.0000 - val_loss: 0.1664 - val_acc: 0.9533\n",
            "Epoch 128/500\n",
            "2/2 [==============================] - 0s 167ms/step - loss: 0.0027 - acc: 1.0000 - val_loss: 0.1787 - val_acc: 0.9533\n",
            "Epoch 129/500\n",
            "2/2 [==============================] - 0s 169ms/step - loss: 0.0023 - acc: 1.0000 - val_loss: 0.1765 - val_acc: 0.9533\n",
            "Epoch 130/500\n",
            "2/2 [==============================] - 0s 168ms/step - loss: 0.0021 - acc: 1.0000 - val_loss: 0.1689 - val_acc: 0.9533\n",
            "Epoch 131/500\n",
            "2/2 [==============================] - 0s 168ms/step - loss: 0.0022 - acc: 1.0000 - val_loss: 0.1743 - val_acc: 0.9533\n",
            "Epoch 132/500\n",
            "2/2 [==============================] - 0s 166ms/step - loss: 0.0021 - acc: 1.0000 - val_loss: 0.1887 - val_acc: 0.9346\n",
            "Epoch 133/500\n",
            "2/2 [==============================] - 0s 175ms/step - loss: 0.0019 - acc: 1.0000 - val_loss: 0.1762 - val_acc: 0.9533\n",
            "Epoch 134/500\n",
            "2/2 [==============================] - 0s 169ms/step - loss: 0.0018 - acc: 1.0000 - val_loss: 0.1704 - val_acc: 0.9533\n",
            "Epoch 135/500\n",
            "2/2 [==============================] - 0s 172ms/step - loss: 0.0017 - acc: 1.0000 - val_loss: 0.1905 - val_acc: 0.9439\n",
            "Epoch 136/500\n",
            "2/2 [==============================] - 0s 168ms/step - loss: 0.0016 - acc: 1.0000 - val_loss: 0.1846 - val_acc: 0.9533\n",
            "Epoch 137/500\n",
            "2/2 [==============================] - 0s 166ms/step - loss: 0.0014 - acc: 1.0000 - val_loss: 0.1789 - val_acc: 0.9533\n",
            "Epoch 138/500\n",
            "2/2 [==============================] - 0s 166ms/step - loss: 0.0014 - acc: 1.0000 - val_loss: 0.1887 - val_acc: 0.9533\n",
            "Epoch 139/500\n",
            "2/2 [==============================] - 0s 166ms/step - loss: 0.0013 - acc: 1.0000 - val_loss: 0.1950 - val_acc: 0.9346\n",
            "Epoch 140/500\n",
            "2/2 [==============================] - 0s 168ms/step - loss: 0.0012 - acc: 1.0000 - val_loss: 0.1823 - val_acc: 0.9533\n",
            "Epoch 141/500\n",
            "2/2 [==============================] - 0s 164ms/step - loss: 0.0011 - acc: 1.0000 - val_loss: 0.1826 - val_acc: 0.9533\n",
            "Epoch 142/500\n",
            "2/2 [==============================] - 0s 169ms/step - loss: 0.0011 - acc: 1.0000 - val_loss: 0.1978 - val_acc: 0.9533\n",
            "Epoch 143/500\n",
            "2/2 [==============================] - 0s 166ms/step - loss: 0.0011 - acc: 1.0000 - val_loss: 0.1942 - val_acc: 0.9533\n",
            "Epoch 144/500\n",
            "2/2 [==============================] - 0s 169ms/step - loss: 0.0010 - acc: 1.0000 - val_loss: 0.1835 - val_acc: 0.9533\n",
            "Epoch 145/500\n",
            "2/2 [==============================] - 0s 176ms/step - loss: 9.6321e-04 - acc: 1.0000 - val_loss: 0.1944 - val_acc: 0.9533\n",
            "Epoch 146/500\n",
            "2/2 [==============================] - 0s 168ms/step - loss: 9.7440e-04 - acc: 1.0000 - val_loss: 0.2004 - val_acc: 0.9533\n",
            "Epoch 147/500\n",
            "2/2 [==============================] - 0s 166ms/step - loss: 8.9473e-04 - acc: 1.0000 - val_loss: 0.1949 - val_acc: 0.9533\n",
            "Epoch 148/500\n",
            "2/2 [==============================] - 0s 165ms/step - loss: 8.4410e-04 - acc: 1.0000 - val_loss: 0.1927 - val_acc: 0.9533\n",
            "Epoch 149/500\n",
            "2/2 [==============================] - 0s 171ms/step - loss: 8.4419e-04 - acc: 1.0000 - val_loss: 0.1956 - val_acc: 0.9533\n",
            "Epoch 150/500\n",
            "2/2 [==============================] - 0s 174ms/step - loss: 7.8470e-04 - acc: 1.0000 - val_loss: 0.2024 - val_acc: 0.9533\n",
            "Epoch 151/500\n",
            "2/2 [==============================] - 0s 171ms/step - loss: 7.3482e-04 - acc: 1.0000 - val_loss: 0.2028 - val_acc: 0.9533\n",
            "Epoch 152/500\n",
            "2/2 [==============================] - 0s 172ms/step - loss: 7.1641e-04 - acc: 1.0000 - val_loss: 0.1949 - val_acc: 0.9533\n",
            "Epoch 153/500\n",
            "2/2 [==============================] - 0s 172ms/step - loss: 6.8970e-04 - acc: 1.0000 - val_loss: 0.1971 - val_acc: 0.9533\n",
            "Epoch 154/500\n",
            "2/2 [==============================] - 0s 166ms/step - loss: 6.4315e-04 - acc: 1.0000 - val_loss: 0.2052 - val_acc: 0.9533\n",
            "Epoch 155/500\n",
            "2/2 [==============================] - 0s 169ms/step - loss: 6.5089e-04 - acc: 1.0000 - val_loss: 0.2029 - val_acc: 0.9533\n",
            "Epoch 156/500\n",
            "2/2 [==============================] - 0s 165ms/step - loss: 6.3155e-04 - acc: 1.0000 - val_loss: 0.1984 - val_acc: 0.9533\n",
            "Epoch 157/500\n",
            "2/2 [==============================] - 0s 165ms/step - loss: 5.6982e-04 - acc: 1.0000 - val_loss: 0.2031 - val_acc: 0.9533\n",
            "Epoch 158/500\n",
            "2/2 [==============================] - 0s 166ms/step - loss: 5.6791e-04 - acc: 1.0000 - val_loss: 0.2043 - val_acc: 0.9533\n",
            "Epoch 159/500\n",
            "2/2 [==============================] - 0s 169ms/step - loss: 5.2816e-04 - acc: 1.0000 - val_loss: 0.2084 - val_acc: 0.9533\n",
            "Epoch 160/500\n",
            "2/2 [==============================] - 0s 171ms/step - loss: 5.4858e-04 - acc: 1.0000 - val_loss: 0.2039 - val_acc: 0.9533\n",
            "Epoch 161/500\n",
            "2/2 [==============================] - 0s 165ms/step - loss: 5.0438e-04 - acc: 1.0000 - val_loss: 0.2073 - val_acc: 0.9533\n",
            "Epoch 162/500\n",
            "2/2 [==============================] - 0s 173ms/step - loss: 4.6104e-04 - acc: 1.0000 - val_loss: 0.2115 - val_acc: 0.9533\n",
            "Epoch 163/500\n",
            "2/2 [==============================] - 0s 168ms/step - loss: 4.3825e-04 - acc: 1.0000 - val_loss: 0.2093 - val_acc: 0.9533\n",
            "Epoch 164/500\n",
            "2/2 [==============================] - 0s 169ms/step - loss: 4.6029e-04 - acc: 1.0000 - val_loss: 0.2060 - val_acc: 0.9533\n",
            "Epoch 165/500\n",
            "2/2 [==============================] - 0s 187ms/step - loss: 4.5286e-04 - acc: 1.0000 - val_loss: 0.2086 - val_acc: 0.9533\n",
            "Epoch 166/500\n",
            "2/2 [==============================] - 0s 167ms/step - loss: 4.1327e-04 - acc: 1.0000 - val_loss: 0.2121 - val_acc: 0.9533\n",
            "Epoch 167/500\n",
            "2/2 [==============================] - 0s 166ms/step - loss: 4.2295e-04 - acc: 1.0000 - val_loss: 0.2151 - val_acc: 0.9533\n",
            "Epoch 168/500\n",
            "2/2 [==============================] - 0s 170ms/step - loss: 3.9222e-04 - acc: 1.0000 - val_loss: 0.2119 - val_acc: 0.9533\n",
            "Epoch 169/500\n",
            "2/2 [==============================] - 0s 173ms/step - loss: 3.8554e-04 - acc: 1.0000 - val_loss: 0.2101 - val_acc: 0.9533\n",
            "Epoch 170/500\n",
            "2/2 [==============================] - 0s 169ms/step - loss: 3.5989e-04 - acc: 1.0000 - val_loss: 0.2117 - val_acc: 0.9533\n",
            "Epoch 171/500\n",
            "2/2 [==============================] - 0s 171ms/step - loss: 3.5065e-04 - acc: 1.0000 - val_loss: 0.2152 - val_acc: 0.9533\n",
            "Epoch 172/500\n",
            "2/2 [==============================] - 0s 167ms/step - loss: 3.3597e-04 - acc: 1.0000 - val_loss: 0.2139 - val_acc: 0.9533\n",
            "Epoch 173/500\n",
            "2/2 [==============================] - 0s 166ms/step - loss: 3.4845e-04 - acc: 1.0000 - val_loss: 0.2146 - val_acc: 0.9533\n",
            "Epoch 174/500\n",
            "2/2 [==============================] - 0s 168ms/step - loss: 3.1941e-04 - acc: 1.0000 - val_loss: 0.2157 - val_acc: 0.9533\n",
            "Epoch 175/500\n",
            "2/2 [==============================] - 0s 167ms/step - loss: 3.0989e-04 - acc: 1.0000 - val_loss: 0.2175 - val_acc: 0.9533\n",
            "Epoch 176/500\n",
            "2/2 [==============================] - 0s 169ms/step - loss: 3.1366e-04 - acc: 1.0000 - val_loss: 0.2162 - val_acc: 0.9533\n",
            "Epoch 177/500\n",
            "2/2 [==============================] - 0s 170ms/step - loss: 2.9731e-04 - acc: 1.0000 - val_loss: 0.2196 - val_acc: 0.9533\n",
            "Epoch 178/500\n",
            "2/2 [==============================] - 0s 170ms/step - loss: 3.0624e-04 - acc: 1.0000 - val_loss: 0.2209 - val_acc: 0.9533\n",
            "Epoch 179/500\n",
            "2/2 [==============================] - 0s 169ms/step - loss: 2.8097e-04 - acc: 1.0000 - val_loss: 0.2196 - val_acc: 0.9533\n",
            "Epoch 180/500\n",
            "2/2 [==============================] - 0s 168ms/step - loss: 2.6790e-04 - acc: 1.0000 - val_loss: 0.2176 - val_acc: 0.9533\n",
            "Epoch 181/500\n",
            "2/2 [==============================] - 0s 168ms/step - loss: 2.7148e-04 - acc: 1.0000 - val_loss: 0.2207 - val_acc: 0.9533\n",
            "Epoch 182/500\n",
            "2/2 [==============================] - 0s 171ms/step - loss: 2.6553e-04 - acc: 1.0000 - val_loss: 0.2249 - val_acc: 0.9533\n",
            "Epoch 183/500\n",
            "2/2 [==============================] - 0s 168ms/step - loss: 2.6284e-04 - acc: 1.0000 - val_loss: 0.2232 - val_acc: 0.9533\n",
            "Epoch 184/500\n",
            "2/2 [==============================] - 0s 172ms/step - loss: 2.4054e-04 - acc: 1.0000 - val_loss: 0.2208 - val_acc: 0.9533\n",
            "Epoch 185/500\n",
            "2/2 [==============================] - 0s 170ms/step - loss: 2.4743e-04 - acc: 1.0000 - val_loss: 0.2224 - val_acc: 0.9533\n",
            "Epoch 186/500\n",
            "2/2 [==============================] - 0s 173ms/step - loss: 2.4254e-04 - acc: 1.0000 - val_loss: 0.2220 - val_acc: 0.9533\n",
            "Epoch 187/500\n",
            "2/2 [==============================] - 0s 171ms/step - loss: 2.2519e-04 - acc: 1.0000 - val_loss: 0.2255 - val_acc: 0.9533\n",
            "Epoch 188/500\n",
            "2/2 [==============================] - 0s 171ms/step - loss: 2.2515e-04 - acc: 1.0000 - val_loss: 0.2283 - val_acc: 0.9533\n",
            "Epoch 189/500\n",
            "2/2 [==============================] - 0s 173ms/step - loss: 2.0840e-04 - acc: 1.0000 - val_loss: 0.2276 - val_acc: 0.9533\n",
            "Epoch 190/500\n",
            "2/2 [==============================] - 0s 164ms/step - loss: 2.2200e-04 - acc: 1.0000 - val_loss: 0.2240 - val_acc: 0.9533\n",
            "Epoch 191/500\n",
            "2/2 [==============================] - 0s 172ms/step - loss: 2.2020e-04 - acc: 1.0000 - val_loss: 0.2248 - val_acc: 0.9533\n",
            "Epoch 192/500\n",
            "2/2 [==============================] - 0s 168ms/step - loss: 1.9835e-04 - acc: 1.0000 - val_loss: 0.2278 - val_acc: 0.9533\n",
            "Epoch 193/500\n",
            "2/2 [==============================] - 0s 170ms/step - loss: 1.9429e-04 - acc: 1.0000 - val_loss: 0.2289 - val_acc: 0.9533\n",
            "Epoch 194/500\n",
            "2/2 [==============================] - 0s 170ms/step - loss: 2.0404e-04 - acc: 1.0000 - val_loss: 0.2285 - val_acc: 0.9533\n",
            "Epoch 195/500\n",
            "2/2 [==============================] - 0s 166ms/step - loss: 1.8885e-04 - acc: 1.0000 - val_loss: 0.2288 - val_acc: 0.9533\n",
            "Epoch 196/500\n",
            "2/2 [==============================] - 0s 167ms/step - loss: 1.9075e-04 - acc: 1.0000 - val_loss: 0.2289 - val_acc: 0.9533\n",
            "Epoch 197/500\n",
            "2/2 [==============================] - 0s 165ms/step - loss: 1.8309e-04 - acc: 1.0000 - val_loss: 0.2303 - val_acc: 0.9533\n",
            "Epoch 198/500\n",
            "2/2 [==============================] - 0s 167ms/step - loss: 1.8542e-04 - acc: 1.0000 - val_loss: 0.2316 - val_acc: 0.9533\n",
            "Epoch 199/500\n",
            "2/2 [==============================] - 0s 169ms/step - loss: 1.7740e-04 - acc: 1.0000 - val_loss: 0.2307 - val_acc: 0.9533\n",
            "Epoch 200/500\n",
            "2/2 [==============================] - 0s 165ms/step - loss: 1.7452e-04 - acc: 1.0000 - val_loss: 0.2314 - val_acc: 0.9533\n",
            "Epoch 201/500\n",
            "2/2 [==============================] - 0s 173ms/step - loss: 1.7339e-04 - acc: 1.0000 - val_loss: 0.2321 - val_acc: 0.9533\n",
            "Epoch 202/500\n",
            "2/2 [==============================] - 0s 169ms/step - loss: 1.6544e-04 - acc: 1.0000 - val_loss: 0.2326 - val_acc: 0.9533\n",
            "Epoch 203/500\n",
            "2/2 [==============================] - 0s 168ms/step - loss: 1.5612e-04 - acc: 1.0000 - val_loss: 0.2322 - val_acc: 0.9533\n",
            "Epoch 204/500\n",
            "2/2 [==============================] - 0s 170ms/step - loss: 1.5866e-04 - acc: 1.0000 - val_loss: 0.2336 - val_acc: 0.9533\n",
            "Epoch 205/500\n",
            "2/2 [==============================] - 0s 167ms/step - loss: 1.5887e-04 - acc: 1.0000 - val_loss: 0.2349 - val_acc: 0.9533\n",
            "Epoch 206/500\n",
            "2/2 [==============================] - 0s 167ms/step - loss: 1.5110e-04 - acc: 1.0000 - val_loss: 0.2353 - val_acc: 0.9533\n",
            "Epoch 207/500\n",
            "2/2 [==============================] - 0s 168ms/step - loss: 1.4896e-04 - acc: 1.0000 - val_loss: 0.2352 - val_acc: 0.9533\n",
            "Epoch 208/500\n",
            "2/2 [==============================] - 0s 169ms/step - loss: 1.4567e-04 - acc: 1.0000 - val_loss: 0.2345 - val_acc: 0.9533\n",
            "Epoch 209/500\n",
            "2/2 [==============================] - 0s 174ms/step - loss: 1.4617e-04 - acc: 1.0000 - val_loss: 0.2356 - val_acc: 0.9533\n",
            "Epoch 210/500\n",
            "2/2 [==============================] - 0s 175ms/step - loss: 1.4472e-04 - acc: 1.0000 - val_loss: 0.2382 - val_acc: 0.9533\n",
            "Epoch 211/500\n",
            "2/2 [==============================] - 0s 170ms/step - loss: 1.3553e-04 - acc: 1.0000 - val_loss: 0.2402 - val_acc: 0.9533\n",
            "Epoch 212/500\n",
            "2/2 [==============================] - 0s 167ms/step - loss: 1.3985e-04 - acc: 1.0000 - val_loss: 0.2364 - val_acc: 0.9533\n",
            "Epoch 213/500\n",
            "2/2 [==============================] - 0s 168ms/step - loss: 1.3457e-04 - acc: 1.0000 - val_loss: 0.2357 - val_acc: 0.9533\n",
            "Epoch 214/500\n",
            "2/2 [==============================] - 0s 166ms/step - loss: 1.3587e-04 - acc: 1.0000 - val_loss: 0.2384 - val_acc: 0.9533\n",
            "Epoch 215/500\n",
            "2/2 [==============================] - 0s 165ms/step - loss: 1.3445e-04 - acc: 1.0000 - val_loss: 0.2392 - val_acc: 0.9533\n",
            "Epoch 216/500\n",
            "2/2 [==============================] - 0s 168ms/step - loss: 1.2331e-04 - acc: 1.0000 - val_loss: 0.2407 - val_acc: 0.9533\n",
            "Epoch 217/500\n",
            "2/2 [==============================] - 0s 171ms/step - loss: 1.2132e-04 - acc: 1.0000 - val_loss: 0.2406 - val_acc: 0.9533\n",
            "Epoch 218/500\n",
            "2/2 [==============================] - 0s 175ms/step - loss: 1.2247e-04 - acc: 1.0000 - val_loss: 0.2405 - val_acc: 0.9533\n",
            "Epoch 219/500\n",
            "2/2 [==============================] - 0s 174ms/step - loss: 1.1891e-04 - acc: 1.0000 - val_loss: 0.2398 - val_acc: 0.9533\n",
            "Epoch 220/500\n",
            "2/2 [==============================] - 0s 169ms/step - loss: 1.2488e-04 - acc: 1.0000 - val_loss: 0.2409 - val_acc: 0.9533\n",
            "Epoch 221/500\n",
            "2/2 [==============================] - 0s 173ms/step - loss: 1.1404e-04 - acc: 1.0000 - val_loss: 0.2428 - val_acc: 0.9533\n",
            "Epoch 222/500\n",
            "2/2 [==============================] - 0s 173ms/step - loss: 1.1091e-04 - acc: 1.0000 - val_loss: 0.2443 - val_acc: 0.9533\n",
            "Epoch 223/500\n",
            "2/2 [==============================] - 0s 172ms/step - loss: 1.1423e-04 - acc: 1.0000 - val_loss: 0.2424 - val_acc: 0.9533\n",
            "Epoch 224/500\n",
            "2/2 [==============================] - 0s 171ms/step - loss: 1.0725e-04 - acc: 1.0000 - val_loss: 0.2403 - val_acc: 0.9533\n",
            "Epoch 225/500\n",
            "2/2 [==============================] - 0s 171ms/step - loss: 1.1001e-04 - acc: 1.0000 - val_loss: 0.2400 - val_acc: 0.9533\n",
            "Epoch 226/500\n",
            "2/2 [==============================] - 0s 167ms/step - loss: 1.0963e-04 - acc: 1.0000 - val_loss: 0.2431 - val_acc: 0.9533\n",
            "Epoch 227/500\n",
            "2/2 [==============================] - 0s 168ms/step - loss: 1.0261e-04 - acc: 1.0000 - val_loss: 0.2465 - val_acc: 0.9533\n",
            "Epoch 228/500\n",
            "2/2 [==============================] - 0s 173ms/step - loss: 9.8061e-05 - acc: 1.0000 - val_loss: 0.2481 - val_acc: 0.9533\n",
            "Epoch 229/500\n",
            "2/2 [==============================] - 0s 172ms/step - loss: 1.0303e-04 - acc: 1.0000 - val_loss: 0.2449 - val_acc: 0.9533\n",
            "Epoch 230/500\n",
            "2/2 [==============================] - 0s 171ms/step - loss: 9.9093e-05 - acc: 1.0000 - val_loss: 0.2425 - val_acc: 0.9533\n",
            "Epoch 231/500\n",
            "2/2 [==============================] - 0s 177ms/step - loss: 9.8581e-05 - acc: 1.0000 - val_loss: 0.2426 - val_acc: 0.9533\n",
            "Epoch 232/500\n",
            "2/2 [==============================] - 0s 175ms/step - loss: 1.0400e-04 - acc: 1.0000 - val_loss: 0.2461 - val_acc: 0.9533\n",
            "Epoch 233/500\n",
            "2/2 [==============================] - 0s 168ms/step - loss: 9.5656e-05 - acc: 1.0000 - val_loss: 0.2481 - val_acc: 0.9533\n",
            "Epoch 234/500\n",
            "2/2 [==============================] - 0s 168ms/step - loss: 9.1828e-05 - acc: 1.0000 - val_loss: 0.2499 - val_acc: 0.9533\n",
            "Epoch 235/500\n",
            "2/2 [==============================] - 0s 175ms/step - loss: 9.4222e-05 - acc: 1.0000 - val_loss: 0.2481 - val_acc: 0.9533\n",
            "Epoch 236/500\n",
            "2/2 [==============================] - 0s 171ms/step - loss: 9.3550e-05 - acc: 1.0000 - val_loss: 0.2470 - val_acc: 0.9533\n",
            "Epoch 237/500\n",
            "2/2 [==============================] - 0s 167ms/step - loss: 9.1007e-05 - acc: 1.0000 - val_loss: 0.2471 - val_acc: 0.9533\n",
            "Epoch 238/500\n",
            "2/2 [==============================] - 0s 170ms/step - loss: 8.4746e-05 - acc: 1.0000 - val_loss: 0.2469 - val_acc: 0.9533\n",
            "Epoch 239/500\n",
            "2/2 [==============================] - 0s 169ms/step - loss: 8.8476e-05 - acc: 1.0000 - val_loss: 0.2483 - val_acc: 0.9533\n",
            "Epoch 240/500\n",
            "2/2 [==============================] - 0s 172ms/step - loss: 8.7351e-05 - acc: 1.0000 - val_loss: 0.2504 - val_acc: 0.9533\n",
            "Epoch 241/500\n",
            "2/2 [==============================] - 0s 178ms/step - loss: 8.8357e-05 - acc: 1.0000 - val_loss: 0.2506 - val_acc: 0.9533\n",
            "Epoch 242/500\n",
            "2/2 [==============================] - 0s 167ms/step - loss: 8.2710e-05 - acc: 1.0000 - val_loss: 0.2508 - val_acc: 0.9533\n",
            "Epoch 243/500\n",
            "2/2 [==============================] - 0s 177ms/step - loss: 7.7660e-05 - acc: 1.0000 - val_loss: 0.2512 - val_acc: 0.9533\n",
            "Epoch 244/500\n",
            "2/2 [==============================] - 0s 166ms/step - loss: 7.9465e-05 - acc: 1.0000 - val_loss: 0.2496 - val_acc: 0.9533\n",
            "Epoch 245/500\n",
            "2/2 [==============================] - 0s 180ms/step - loss: 8.1593e-05 - acc: 1.0000 - val_loss: 0.2497 - val_acc: 0.9533\n",
            "Epoch 246/500\n",
            "2/2 [==============================] - 0s 171ms/step - loss: 7.9680e-05 - acc: 1.0000 - val_loss: 0.2517 - val_acc: 0.9533\n",
            "Epoch 247/500\n",
            "2/2 [==============================] - 0s 174ms/step - loss: 7.8434e-05 - acc: 1.0000 - val_loss: 0.2525 - val_acc: 0.9533\n",
            "Epoch 248/500\n",
            "2/2 [==============================] - 0s 171ms/step - loss: 7.0476e-05 - acc: 1.0000 - val_loss: 0.2542 - val_acc: 0.9533\n",
            "Epoch 249/500\n",
            "2/2 [==============================] - 0s 171ms/step - loss: 7.4325e-05 - acc: 1.0000 - val_loss: 0.2527 - val_acc: 0.9533\n",
            "Epoch 250/500\n",
            "2/2 [==============================] - 0s 171ms/step - loss: 7.2121e-05 - acc: 1.0000 - val_loss: 0.2526 - val_acc: 0.9533\n",
            "Epoch 251/500\n",
            "2/2 [==============================] - 0s 171ms/step - loss: 7.5857e-05 - acc: 1.0000 - val_loss: 0.2516 - val_acc: 0.9533\n",
            "Epoch 252/500\n",
            "2/2 [==============================] - 0s 172ms/step - loss: 7.1056e-05 - acc: 1.0000 - val_loss: 0.2520 - val_acc: 0.9533\n",
            "Epoch 253/500\n",
            "2/2 [==============================] - 0s 173ms/step - loss: 7.3584e-05 - acc: 1.0000 - val_loss: 0.2540 - val_acc: 0.9533\n",
            "Epoch 254/500\n",
            "2/2 [==============================] - 0s 172ms/step - loss: 6.6782e-05 - acc: 1.0000 - val_loss: 0.2565 - val_acc: 0.9533\n",
            "Epoch 255/500\n",
            "2/2 [==============================] - 0s 168ms/step - loss: 6.5534e-05 - acc: 1.0000 - val_loss: 0.2574 - val_acc: 0.9533\n",
            "Epoch 256/500\n",
            "2/2 [==============================] - 0s 171ms/step - loss: 7.0114e-05 - acc: 1.0000 - val_loss: 0.2550 - val_acc: 0.9533\n",
            "Epoch 257/500\n",
            "2/2 [==============================] - 0s 167ms/step - loss: 6.8919e-05 - acc: 1.0000 - val_loss: 0.2528 - val_acc: 0.9533\n",
            "Epoch 258/500\n",
            "2/2 [==============================] - 0s 176ms/step - loss: 6.6673e-05 - acc: 1.0000 - val_loss: 0.2547 - val_acc: 0.9533\n",
            "Epoch 259/500\n",
            "2/2 [==============================] - 0s 174ms/step - loss: 6.6727e-05 - acc: 1.0000 - val_loss: 0.2561 - val_acc: 0.9533\n",
            "Epoch 260/500\n",
            "2/2 [==============================] - 0s 169ms/step - loss: 6.2362e-05 - acc: 1.0000 - val_loss: 0.2576 - val_acc: 0.9533\n",
            "Epoch 261/500\n",
            "2/2 [==============================] - 0s 176ms/step - loss: 6.2169e-05 - acc: 1.0000 - val_loss: 0.2576 - val_acc: 0.9533\n",
            "Epoch 262/500\n",
            "2/2 [==============================] - 0s 170ms/step - loss: 6.3523e-05 - acc: 1.0000 - val_loss: 0.2572 - val_acc: 0.9533\n",
            "Epoch 263/500\n",
            "2/2 [==============================] - 0s 168ms/step - loss: 5.9789e-05 - acc: 1.0000 - val_loss: 0.2558 - val_acc: 0.9533\n",
            "Epoch 264/500\n",
            "2/2 [==============================] - 0s 167ms/step - loss: 6.0279e-05 - acc: 1.0000 - val_loss: 0.2564 - val_acc: 0.9533\n",
            "Epoch 265/500\n",
            "2/2 [==============================] - 0s 173ms/step - loss: 6.0999e-05 - acc: 1.0000 - val_loss: 0.2571 - val_acc: 0.9533\n",
            "Epoch 266/500\n",
            "2/2 [==============================] - 0s 170ms/step - loss: 6.0398e-05 - acc: 1.0000 - val_loss: 0.2590 - val_acc: 0.9533\n",
            "Epoch 267/500\n",
            "2/2 [==============================] - 0s 171ms/step - loss: 5.5264e-05 - acc: 1.0000 - val_loss: 0.2605 - val_acc: 0.9533\n",
            "Epoch 268/500\n",
            "2/2 [==============================] - 0s 179ms/step - loss: 5.8778e-05 - acc: 1.0000 - val_loss: 0.2589 - val_acc: 0.9533\n",
            "Epoch 269/500\n",
            "2/2 [==============================] - 0s 169ms/step - loss: 5.3272e-05 - acc: 1.0000 - val_loss: 0.2589 - val_acc: 0.9533\n",
            "Epoch 270/500\n",
            "2/2 [==============================] - 0s 170ms/step - loss: 5.6201e-05 - acc: 1.0000 - val_loss: 0.2578 - val_acc: 0.9533\n",
            "Epoch 271/500\n",
            "2/2 [==============================] - 0s 172ms/step - loss: 5.5861e-05 - acc: 1.0000 - val_loss: 0.2588 - val_acc: 0.9533\n",
            "Epoch 272/500\n",
            "2/2 [==============================] - 0s 171ms/step - loss: 5.5959e-05 - acc: 1.0000 - val_loss: 0.2602 - val_acc: 0.9533\n",
            "Epoch 273/500\n",
            "2/2 [==============================] - 0s 172ms/step - loss: 5.1729e-05 - acc: 1.0000 - val_loss: 0.2612 - val_acc: 0.9533\n",
            "Epoch 274/500\n",
            "2/2 [==============================] - 0s 170ms/step - loss: 5.5207e-05 - acc: 1.0000 - val_loss: 0.2610 - val_acc: 0.9533\n",
            "Epoch 275/500\n",
            "2/2 [==============================] - 0s 171ms/step - loss: 5.0575e-05 - acc: 1.0000 - val_loss: 0.2607 - val_acc: 0.9533\n",
            "Epoch 276/500\n",
            "2/2 [==============================] - 0s 174ms/step - loss: 5.2516e-05 - acc: 1.0000 - val_loss: 0.2603 - val_acc: 0.9533\n",
            "Epoch 277/500\n",
            "2/2 [==============================] - 0s 170ms/step - loss: 5.1545e-05 - acc: 1.0000 - val_loss: 0.2607 - val_acc: 0.9533\n",
            "Epoch 278/500\n",
            "2/2 [==============================] - 0s 172ms/step - loss: 5.0126e-05 - acc: 1.0000 - val_loss: 0.2615 - val_acc: 0.9533\n",
            "Epoch 279/500\n",
            "2/2 [==============================] - 0s 171ms/step - loss: 5.0180e-05 - acc: 1.0000 - val_loss: 0.2623 - val_acc: 0.9533\n",
            "Epoch 280/500\n",
            "2/2 [==============================] - 0s 171ms/step - loss: 4.8134e-05 - acc: 1.0000 - val_loss: 0.2633 - val_acc: 0.9533\n",
            "Epoch 281/500\n",
            "2/2 [==============================] - 0s 174ms/step - loss: 4.9139e-05 - acc: 1.0000 - val_loss: 0.2627 - val_acc: 0.9533\n",
            "Epoch 282/500\n",
            "2/2 [==============================] - 0s 172ms/step - loss: 5.1205e-05 - acc: 1.0000 - val_loss: 0.2619 - val_acc: 0.9533\n",
            "Epoch 283/500\n",
            "2/2 [==============================] - 0s 172ms/step - loss: 4.6782e-05 - acc: 1.0000 - val_loss: 0.2621 - val_acc: 0.9533\n",
            "Epoch 284/500\n",
            "2/2 [==============================] - 0s 176ms/step - loss: 4.7543e-05 - acc: 1.0000 - val_loss: 0.2631 - val_acc: 0.9533\n",
            "Epoch 285/500\n",
            "2/2 [==============================] - 0s 177ms/step - loss: 4.9598e-05 - acc: 1.0000 - val_loss: 0.2644 - val_acc: 0.9533\n",
            "Epoch 286/500\n",
            "2/2 [==============================] - 0s 188ms/step - loss: 4.8218e-05 - acc: 1.0000 - val_loss: 0.2654 - val_acc: 0.9533\n",
            "Epoch 287/500\n",
            "2/2 [==============================] - 0s 176ms/step - loss: 4.5908e-05 - acc: 1.0000 - val_loss: 0.2652 - val_acc: 0.9533\n",
            "Epoch 288/500\n",
            "2/2 [==============================] - 0s 170ms/step - loss: 4.5303e-05 - acc: 1.0000 - val_loss: 0.2656 - val_acc: 0.9533\n",
            "Epoch 289/500\n",
            "2/2 [==============================] - 0s 175ms/step - loss: 4.4271e-05 - acc: 1.0000 - val_loss: 0.2644 - val_acc: 0.9533\n",
            "Epoch 290/500\n",
            "2/2 [==============================] - 0s 171ms/step - loss: 4.6273e-05 - acc: 1.0000 - val_loss: 0.2643 - val_acc: 0.9533\n",
            "Epoch 291/500\n",
            "2/2 [==============================] - 0s 176ms/step - loss: 4.5568e-05 - acc: 1.0000 - val_loss: 0.2654 - val_acc: 0.9533\n",
            "Epoch 292/500\n",
            "2/2 [==============================] - 0s 171ms/step - loss: 4.5519e-05 - acc: 1.0000 - val_loss: 0.2663 - val_acc: 0.9533\n",
            "Epoch 293/500\n",
            "2/2 [==============================] - 0s 176ms/step - loss: 4.4604e-05 - acc: 1.0000 - val_loss: 0.2668 - val_acc: 0.9533\n",
            "Epoch 294/500\n",
            "2/2 [==============================] - 0s 170ms/step - loss: 4.3845e-05 - acc: 1.0000 - val_loss: 0.2667 - val_acc: 0.9533\n",
            "Epoch 295/500\n",
            "2/2 [==============================] - 0s 171ms/step - loss: 4.5090e-05 - acc: 1.0000 - val_loss: 0.2670 - val_acc: 0.9533\n",
            "Epoch 296/500\n",
            "2/2 [==============================] - 0s 172ms/step - loss: 4.1354e-05 - acc: 1.0000 - val_loss: 0.2677 - val_acc: 0.9533\n",
            "Epoch 297/500\n",
            "2/2 [==============================] - 0s 177ms/step - loss: 4.2581e-05 - acc: 1.0000 - val_loss: 0.2675 - val_acc: 0.9533\n",
            "Epoch 298/500\n",
            "2/2 [==============================] - 0s 176ms/step - loss: 4.0209e-05 - acc: 1.0000 - val_loss: 0.2668 - val_acc: 0.9533\n",
            "Epoch 299/500\n",
            "2/2 [==============================] - 0s 173ms/step - loss: 4.1732e-05 - acc: 1.0000 - val_loss: 0.2670 - val_acc: 0.9533\n",
            "Epoch 300/500\n",
            "2/2 [==============================] - 0s 180ms/step - loss: 4.0337e-05 - acc: 1.0000 - val_loss: 0.2671 - val_acc: 0.9533\n",
            "Epoch 301/500\n",
            "2/2 [==============================] - 0s 171ms/step - loss: 4.0670e-05 - acc: 1.0000 - val_loss: 0.2687 - val_acc: 0.9533\n",
            "Epoch 302/500\n",
            "2/2 [==============================] - 0s 173ms/step - loss: 3.9968e-05 - acc: 1.0000 - val_loss: 0.2703 - val_acc: 0.9533\n",
            "Epoch 303/500\n",
            "2/2 [==============================] - 0s 179ms/step - loss: 3.7086e-05 - acc: 1.0000 - val_loss: 0.2706 - val_acc: 0.9533\n",
            "Epoch 304/500\n",
            "2/2 [==============================] - 0s 180ms/step - loss: 3.8097e-05 - acc: 1.0000 - val_loss: 0.2691 - val_acc: 0.9533\n",
            "Epoch 305/500\n",
            "2/2 [==============================] - 0s 168ms/step - loss: 3.9445e-05 - acc: 1.0000 - val_loss: 0.2685 - val_acc: 0.9533\n",
            "Epoch 306/500\n",
            "2/2 [==============================] - 0s 175ms/step - loss: 3.8982e-05 - acc: 1.0000 - val_loss: 0.2673 - val_acc: 0.9533\n",
            "Epoch 307/500\n",
            "2/2 [==============================] - 0s 172ms/step - loss: 3.6057e-05 - acc: 1.0000 - val_loss: 0.2686 - val_acc: 0.9533\n",
            "Epoch 308/500\n",
            "2/2 [==============================] - 0s 169ms/step - loss: 3.7972e-05 - acc: 1.0000 - val_loss: 0.2705 - val_acc: 0.9533\n",
            "Epoch 309/500\n",
            "2/2 [==============================] - 0s 174ms/step - loss: 3.5860e-05 - acc: 1.0000 - val_loss: 0.2717 - val_acc: 0.9533\n",
            "Epoch 310/500\n",
            "2/2 [==============================] - 0s 171ms/step - loss: 3.4959e-05 - acc: 1.0000 - val_loss: 0.2722 - val_acc: 0.9533\n",
            "Epoch 311/500\n",
            "2/2 [==============================] - 0s 171ms/step - loss: 3.4995e-05 - acc: 1.0000 - val_loss: 0.2714 - val_acc: 0.9533\n",
            "Epoch 312/500\n",
            "2/2 [==============================] - 0s 171ms/step - loss: 3.4294e-05 - acc: 1.0000 - val_loss: 0.2712 - val_acc: 0.9533\n",
            "Epoch 313/500\n",
            "2/2 [==============================] - 0s 171ms/step - loss: 3.4449e-05 - acc: 1.0000 - val_loss: 0.2702 - val_acc: 0.9533\n",
            "Epoch 314/500\n",
            "2/2 [==============================] - 0s 176ms/step - loss: 3.6125e-05 - acc: 1.0000 - val_loss: 0.2703 - val_acc: 0.9533\n",
            "Epoch 315/500\n",
            "2/2 [==============================] - 0s 173ms/step - loss: 3.5778e-05 - acc: 1.0000 - val_loss: 0.2710 - val_acc: 0.9533\n",
            "Epoch 316/500\n",
            "2/2 [==============================] - 0s 169ms/step - loss: 3.5154e-05 - acc: 1.0000 - val_loss: 0.2725 - val_acc: 0.9533\n",
            "Epoch 317/500\n",
            "2/2 [==============================] - 0s 177ms/step - loss: 3.3096e-05 - acc: 1.0000 - val_loss: 0.2734 - val_acc: 0.9533\n",
            "Epoch 318/500\n",
            "2/2 [==============================] - 0s 174ms/step - loss: 3.3592e-05 - acc: 1.0000 - val_loss: 0.2735 - val_acc: 0.9533\n",
            "Epoch 319/500\n",
            "2/2 [==============================] - 0s 170ms/step - loss: 3.5334e-05 - acc: 1.0000 - val_loss: 0.2727 - val_acc: 0.9533\n",
            "Epoch 320/500\n",
            "2/2 [==============================] - 0s 177ms/step - loss: 3.5199e-05 - acc: 1.0000 - val_loss: 0.2730 - val_acc: 0.9533\n",
            "Epoch 321/500\n",
            "2/2 [==============================] - 0s 174ms/step - loss: 3.3357e-05 - acc: 1.0000 - val_loss: 0.2738 - val_acc: 0.9533\n",
            "Epoch 322/500\n",
            "2/2 [==============================] - 0s 173ms/step - loss: 3.2794e-05 - acc: 1.0000 - val_loss: 0.2741 - val_acc: 0.9533\n",
            "Epoch 323/500\n",
            "2/2 [==============================] - 0s 178ms/step - loss: 3.1836e-05 - acc: 1.0000 - val_loss: 0.2734 - val_acc: 0.9533\n",
            "Epoch 324/500\n",
            "2/2 [==============================] - 0s 170ms/step - loss: 3.2309e-05 - acc: 1.0000 - val_loss: 0.2733 - val_acc: 0.9533\n",
            "Epoch 325/500\n",
            "2/2 [==============================] - 0s 171ms/step - loss: 3.2406e-05 - acc: 1.0000 - val_loss: 0.2739 - val_acc: 0.9533\n",
            "Epoch 326/500\n",
            "2/2 [==============================] - 0s 178ms/step - loss: 3.0708e-05 - acc: 1.0000 - val_loss: 0.2746 - val_acc: 0.9533\n",
            "Epoch 327/500\n",
            "2/2 [==============================] - 0s 175ms/step - loss: 3.1738e-05 - acc: 1.0000 - val_loss: 0.2748 - val_acc: 0.9533\n",
            "Epoch 328/500\n",
            "2/2 [==============================] - 0s 177ms/step - loss: 3.1420e-05 - acc: 1.0000 - val_loss: 0.2754 - val_acc: 0.9533\n",
            "Epoch 329/500\n",
            "2/2 [==============================] - 0s 171ms/step - loss: 3.0333e-05 - acc: 1.0000 - val_loss: 0.2760 - val_acc: 0.9533\n",
            "Epoch 330/500\n",
            "2/2 [==============================] - 0s 172ms/step - loss: 3.0205e-05 - acc: 1.0000 - val_loss: 0.2759 - val_acc: 0.9533\n",
            "Epoch 331/500\n",
            "2/2 [==============================] - 0s 177ms/step - loss: 2.9335e-05 - acc: 1.0000 - val_loss: 0.2757 - val_acc: 0.9533\n",
            "Epoch 332/500\n",
            "2/2 [==============================] - 0s 168ms/step - loss: 2.8842e-05 - acc: 1.0000 - val_loss: 0.2754 - val_acc: 0.9533\n",
            "Epoch 333/500\n",
            "2/2 [==============================] - 0s 180ms/step - loss: 2.9242e-05 - acc: 1.0000 - val_loss: 0.2751 - val_acc: 0.9533\n",
            "Epoch 334/500\n",
            "2/2 [==============================] - 0s 180ms/step - loss: 2.8984e-05 - acc: 1.0000 - val_loss: 0.2755 - val_acc: 0.9533\n",
            "Epoch 335/500\n",
            "2/2 [==============================] - 0s 170ms/step - loss: 2.7741e-05 - acc: 1.0000 - val_loss: 0.2759 - val_acc: 0.9533\n",
            "Epoch 336/500\n",
            "2/2 [==============================] - 0s 172ms/step - loss: 2.9780e-05 - acc: 1.0000 - val_loss: 0.2775 - val_acc: 0.9533\n",
            "Epoch 337/500\n",
            "2/2 [==============================] - 0s 169ms/step - loss: 2.6571e-05 - acc: 1.0000 - val_loss: 0.2782 - val_acc: 0.9533\n",
            "Epoch 338/500\n",
            "2/2 [==============================] - 0s 175ms/step - loss: 2.8184e-05 - acc: 1.0000 - val_loss: 0.2777 - val_acc: 0.9533\n",
            "Epoch 339/500\n",
            "2/2 [==============================] - 0s 176ms/step - loss: 2.7471e-05 - acc: 1.0000 - val_loss: 0.2770 - val_acc: 0.9533\n",
            "Epoch 340/500\n",
            "2/2 [==============================] - 0s 177ms/step - loss: 2.7390e-05 - acc: 1.0000 - val_loss: 0.2764 - val_acc: 0.9533\n",
            "Epoch 341/500\n",
            "2/2 [==============================] - 0s 174ms/step - loss: 2.6236e-05 - acc: 1.0000 - val_loss: 0.2767 - val_acc: 0.9533\n",
            "Epoch 342/500\n",
            "2/2 [==============================] - 0s 176ms/step - loss: 2.7372e-05 - acc: 1.0000 - val_loss: 0.2775 - val_acc: 0.9533\n",
            "Epoch 343/500\n",
            "2/2 [==============================] - 0s 176ms/step - loss: 2.5829e-05 - acc: 1.0000 - val_loss: 0.2785 - val_acc: 0.9533\n",
            "Epoch 344/500\n",
            "2/2 [==============================] - 0s 172ms/step - loss: 2.6377e-05 - acc: 1.0000 - val_loss: 0.2789 - val_acc: 0.9533\n",
            "Epoch 345/500\n",
            "2/2 [==============================] - 0s 171ms/step - loss: 2.7755e-05 - acc: 1.0000 - val_loss: 0.2795 - val_acc: 0.9533\n",
            "Epoch 346/500\n",
            "2/2 [==============================] - 0s 171ms/step - loss: 2.6945e-05 - acc: 1.0000 - val_loss: 0.2795 - val_acc: 0.9533\n",
            "Epoch 347/500\n",
            "2/2 [==============================] - 0s 172ms/step - loss: 2.6032e-05 - acc: 1.0000 - val_loss: 0.2793 - val_acc: 0.9533\n",
            "Epoch 348/500\n",
            "2/2 [==============================] - 0s 171ms/step - loss: 2.5574e-05 - acc: 1.0000 - val_loss: 0.2793 - val_acc: 0.9533\n",
            "Epoch 349/500\n",
            "2/2 [==============================] - 0s 173ms/step - loss: 2.6134e-05 - acc: 1.0000 - val_loss: 0.2797 - val_acc: 0.9533\n",
            "Epoch 350/500\n",
            "2/2 [==============================] - 0s 173ms/step - loss: 2.5477e-05 - acc: 1.0000 - val_loss: 0.2797 - val_acc: 0.9533\n",
            "Epoch 351/500\n",
            "2/2 [==============================] - 0s 170ms/step - loss: 2.4078e-05 - acc: 1.0000 - val_loss: 0.2802 - val_acc: 0.9533\n",
            "Epoch 352/500\n",
            "2/2 [==============================] - 0s 171ms/step - loss: 2.4620e-05 - acc: 1.0000 - val_loss: 0.2809 - val_acc: 0.9533\n",
            "Epoch 353/500\n",
            "2/2 [==============================] - 0s 178ms/step - loss: 2.4105e-05 - acc: 1.0000 - val_loss: 0.2811 - val_acc: 0.9533\n",
            "Epoch 354/500\n",
            "2/2 [==============================] - 0s 173ms/step - loss: 2.2916e-05 - acc: 1.0000 - val_loss: 0.2809 - val_acc: 0.9533\n",
            "Epoch 355/500\n",
            "2/2 [==============================] - 0s 171ms/step - loss: 2.2911e-05 - acc: 1.0000 - val_loss: 0.2806 - val_acc: 0.9533\n",
            "Epoch 356/500\n",
            "2/2 [==============================] - 0s 176ms/step - loss: 2.3450e-05 - acc: 1.0000 - val_loss: 0.2800 - val_acc: 0.9533\n",
            "Epoch 357/500\n",
            "2/2 [==============================] - 0s 179ms/step - loss: 2.5899e-05 - acc: 1.0000 - val_loss: 0.2801 - val_acc: 0.9533\n",
            "Epoch 358/500\n",
            "2/2 [==============================] - 0s 171ms/step - loss: 2.3810e-05 - acc: 1.0000 - val_loss: 0.2807 - val_acc: 0.9533\n",
            "Epoch 359/500\n",
            "2/2 [==============================] - 0s 170ms/step - loss: 2.4922e-05 - acc: 1.0000 - val_loss: 0.2816 - val_acc: 0.9533\n",
            "Epoch 360/500\n",
            "2/2 [==============================] - 0s 174ms/step - loss: 2.2743e-05 - acc: 1.0000 - val_loss: 0.2833 - val_acc: 0.9533\n",
            "Epoch 361/500\n",
            "2/2 [==============================] - 0s 172ms/step - loss: 2.3052e-05 - acc: 1.0000 - val_loss: 0.2831 - val_acc: 0.9533\n",
            "Epoch 362/500\n",
            "2/2 [==============================] - 0s 175ms/step - loss: 2.3562e-05 - acc: 1.0000 - val_loss: 0.2824 - val_acc: 0.9533\n",
            "Epoch 363/500\n",
            "2/2 [==============================] - 0s 172ms/step - loss: 2.2895e-05 - acc: 1.0000 - val_loss: 0.2821 - val_acc: 0.9533\n",
            "Epoch 364/500\n",
            "2/2 [==============================] - 0s 178ms/step - loss: 2.1817e-05 - acc: 1.0000 - val_loss: 0.2818 - val_acc: 0.9533\n",
            "Epoch 365/500\n",
            "2/2 [==============================] - 0s 173ms/step - loss: 2.2346e-05 - acc: 1.0000 - val_loss: 0.2823 - val_acc: 0.9533\n",
            "Epoch 366/500\n",
            "2/2 [==============================] - 0s 173ms/step - loss: 2.3472e-05 - acc: 1.0000 - val_loss: 0.2831 - val_acc: 0.9533\n",
            "Epoch 367/500\n",
            "2/2 [==============================] - 0s 173ms/step - loss: 2.1476e-05 - acc: 1.0000 - val_loss: 0.2844 - val_acc: 0.9533\n",
            "Epoch 368/500\n",
            "2/2 [==============================] - 0s 172ms/step - loss: 2.2853e-05 - acc: 1.0000 - val_loss: 0.2842 - val_acc: 0.9533\n",
            "Epoch 369/500\n",
            "2/2 [==============================] - 0s 185ms/step - loss: 2.0730e-05 - acc: 1.0000 - val_loss: 0.2848 - val_acc: 0.9533\n",
            "Epoch 370/500\n",
            "2/2 [==============================] - 0s 172ms/step - loss: 2.1180e-05 - acc: 1.0000 - val_loss: 0.2835 - val_acc: 0.9533\n",
            "Epoch 371/500\n",
            "2/2 [==============================] - 0s 175ms/step - loss: 2.1073e-05 - acc: 1.0000 - val_loss: 0.2834 - val_acc: 0.9533\n",
            "Epoch 372/500\n",
            "2/2 [==============================] - 0s 176ms/step - loss: 1.9852e-05 - acc: 1.0000 - val_loss: 0.2841 - val_acc: 0.9533\n",
            "Epoch 373/500\n",
            "2/2 [==============================] - 0s 175ms/step - loss: 2.1951e-05 - acc: 1.0000 - val_loss: 0.2841 - val_acc: 0.9533\n",
            "Epoch 374/500\n",
            "2/2 [==============================] - 0s 173ms/step - loss: 2.0643e-05 - acc: 1.0000 - val_loss: 0.2844 - val_acc: 0.9533\n",
            "Epoch 375/500\n",
            "2/2 [==============================] - 0s 179ms/step - loss: 2.1463e-05 - acc: 1.0000 - val_loss: 0.2843 - val_acc: 0.9533\n",
            "Epoch 376/500\n",
            "2/2 [==============================] - 0s 176ms/step - loss: 1.9876e-05 - acc: 1.0000 - val_loss: 0.2844 - val_acc: 0.9533\n",
            "Epoch 377/500\n",
            "2/2 [==============================] - 0s 177ms/step - loss: 2.1060e-05 - acc: 1.0000 - val_loss: 0.2853 - val_acc: 0.9533\n",
            "Epoch 378/500\n",
            "2/2 [==============================] - 0s 174ms/step - loss: 2.1332e-05 - acc: 1.0000 - val_loss: 0.2858 - val_acc: 0.9533\n",
            "Epoch 379/500\n",
            "2/2 [==============================] - 0s 171ms/step - loss: 1.9970e-05 - acc: 1.0000 - val_loss: 0.2865 - val_acc: 0.9533\n",
            "Epoch 380/500\n",
            "2/2 [==============================] - 0s 170ms/step - loss: 2.0842e-05 - acc: 1.0000 - val_loss: 0.2863 - val_acc: 0.9533\n",
            "Epoch 381/500\n",
            "2/2 [==============================] - 0s 173ms/step - loss: 2.0156e-05 - acc: 1.0000 - val_loss: 0.2860 - val_acc: 0.9533\n",
            "Epoch 382/500\n",
            "2/2 [==============================] - 0s 177ms/step - loss: 1.9897e-05 - acc: 1.0000 - val_loss: 0.2859 - val_acc: 0.9533\n",
            "Epoch 383/500\n",
            "2/2 [==============================] - 0s 170ms/step - loss: 1.9828e-05 - acc: 1.0000 - val_loss: 0.2851 - val_acc: 0.9533\n",
            "Epoch 384/500\n",
            "2/2 [==============================] - 0s 168ms/step - loss: 1.9114e-05 - acc: 1.0000 - val_loss: 0.2859 - val_acc: 0.9533\n",
            "Epoch 385/500\n",
            "2/2 [==============================] - 0s 170ms/step - loss: 1.8590e-05 - acc: 1.0000 - val_loss: 0.2867 - val_acc: 0.9533\n",
            "Epoch 386/500\n",
            "2/2 [==============================] - 0s 173ms/step - loss: 1.9238e-05 - acc: 1.0000 - val_loss: 0.2877 - val_acc: 0.9533\n",
            "Epoch 387/500\n",
            "2/2 [==============================] - 0s 174ms/step - loss: 1.9112e-05 - acc: 1.0000 - val_loss: 0.2872 - val_acc: 0.9533\n",
            "Epoch 388/500\n",
            "2/2 [==============================] - 0s 174ms/step - loss: 1.8843e-05 - acc: 1.0000 - val_loss: 0.2871 - val_acc: 0.9533\n",
            "Epoch 389/500\n",
            "2/2 [==============================] - 0s 170ms/step - loss: 1.8060e-05 - acc: 1.0000 - val_loss: 0.2871 - val_acc: 0.9533\n",
            "Epoch 390/500\n",
            "2/2 [==============================] - 0s 170ms/step - loss: 1.8284e-05 - acc: 1.0000 - val_loss: 0.2866 - val_acc: 0.9533\n",
            "Epoch 391/500\n",
            "2/2 [==============================] - 0s 173ms/step - loss: 1.7662e-05 - acc: 1.0000 - val_loss: 0.2874 - val_acc: 0.9533\n",
            "Epoch 392/500\n",
            "2/2 [==============================] - 0s 178ms/step - loss: 1.9156e-05 - acc: 1.0000 - val_loss: 0.2881 - val_acc: 0.9533\n",
            "Epoch 393/500\n",
            "2/2 [==============================] - 0s 171ms/step - loss: 1.9211e-05 - acc: 1.0000 - val_loss: 0.2888 - val_acc: 0.9533\n",
            "Epoch 394/500\n",
            "2/2 [==============================] - 0s 169ms/step - loss: 1.9380e-05 - acc: 1.0000 - val_loss: 0.2892 - val_acc: 0.9533\n",
            "Epoch 395/500\n",
            "2/2 [==============================] - 0s 176ms/step - loss: 1.8185e-05 - acc: 1.0000 - val_loss: 0.2893 - val_acc: 0.9533\n",
            "Epoch 396/500\n",
            "2/2 [==============================] - 0s 175ms/step - loss: 1.8108e-05 - acc: 1.0000 - val_loss: 0.2892 - val_acc: 0.9533\n",
            "Epoch 397/500\n",
            "2/2 [==============================] - 0s 177ms/step - loss: 1.6705e-05 - acc: 1.0000 - val_loss: 0.2898 - val_acc: 0.9533\n",
            "Epoch 398/500\n",
            "2/2 [==============================] - 0s 173ms/step - loss: 1.7702e-05 - acc: 1.0000 - val_loss: 0.2893 - val_acc: 0.9533\n",
            "Epoch 399/500\n",
            "2/2 [==============================] - 0s 175ms/step - loss: 1.7542e-05 - acc: 1.0000 - val_loss: 0.2891 - val_acc: 0.9533\n",
            "Epoch 400/500\n",
            "2/2 [==============================] - 0s 169ms/step - loss: 1.7681e-05 - acc: 1.0000 - val_loss: 0.2886 - val_acc: 0.9533\n",
            "Epoch 401/500\n",
            "2/2 [==============================] - 0s 175ms/step - loss: 1.7091e-05 - acc: 1.0000 - val_loss: 0.2892 - val_acc: 0.9533\n",
            "Epoch 402/500\n",
            "2/2 [==============================] - 0s 172ms/step - loss: 1.6257e-05 - acc: 1.0000 - val_loss: 0.2897 - val_acc: 0.9533\n",
            "Epoch 403/500\n",
            "2/2 [==============================] - 0s 170ms/step - loss: 1.6022e-05 - acc: 1.0000 - val_loss: 0.2901 - val_acc: 0.9533\n",
            "Epoch 404/500\n",
            "2/2 [==============================] - 0s 176ms/step - loss: 1.6670e-05 - acc: 1.0000 - val_loss: 0.2899 - val_acc: 0.9533\n",
            "Epoch 405/500\n",
            "2/2 [==============================] - 0s 177ms/step - loss: 1.7944e-05 - acc: 1.0000 - val_loss: 0.2900 - val_acc: 0.9533\n",
            "Epoch 406/500\n",
            "2/2 [==============================] - 0s 170ms/step - loss: 1.7146e-05 - acc: 1.0000 - val_loss: 0.2896 - val_acc: 0.9533\n",
            "Epoch 407/500\n",
            "2/2 [==============================] - 0s 171ms/step - loss: 1.6891e-05 - acc: 1.0000 - val_loss: 0.2900 - val_acc: 0.9533\n",
            "Epoch 408/500\n",
            "2/2 [==============================] - 0s 175ms/step - loss: 1.6893e-05 - acc: 1.0000 - val_loss: 0.2910 - val_acc: 0.9533\n",
            "Epoch 409/500\n",
            "2/2 [==============================] - 0s 169ms/step - loss: 1.5528e-05 - acc: 1.0000 - val_loss: 0.2915 - val_acc: 0.9533\n",
            "Epoch 410/500\n",
            "2/2 [==============================] - 0s 176ms/step - loss: 1.5999e-05 - acc: 1.0000 - val_loss: 0.2918 - val_acc: 0.9533\n",
            "Epoch 411/500\n",
            "2/2 [==============================] - 0s 175ms/step - loss: 1.6834e-05 - acc: 1.0000 - val_loss: 0.2916 - val_acc: 0.9533\n",
            "Epoch 412/500\n",
            "2/2 [==============================] - 0s 177ms/step - loss: 1.6161e-05 - acc: 1.0000 - val_loss: 0.2912 - val_acc: 0.9533\n",
            "Epoch 413/500\n",
            "2/2 [==============================] - 0s 173ms/step - loss: 1.5688e-05 - acc: 1.0000 - val_loss: 0.2914 - val_acc: 0.9533\n",
            "Epoch 414/500\n",
            "2/2 [==============================] - 0s 173ms/step - loss: 1.6029e-05 - acc: 1.0000 - val_loss: 0.2920 - val_acc: 0.9533\n",
            "Epoch 415/500\n",
            "2/2 [==============================] - 0s 174ms/step - loss: 1.4286e-05 - acc: 1.0000 - val_loss: 0.2921 - val_acc: 0.9533\n",
            "Epoch 416/500\n",
            "2/2 [==============================] - 0s 179ms/step - loss: 1.6607e-05 - acc: 1.0000 - val_loss: 0.2921 - val_acc: 0.9533\n",
            "Epoch 417/500\n",
            "2/2 [==============================] - 0s 172ms/step - loss: 1.4484e-05 - acc: 1.0000 - val_loss: 0.2928 - val_acc: 0.9533\n",
            "Epoch 418/500\n",
            "2/2 [==============================] - 0s 171ms/step - loss: 1.4814e-05 - acc: 1.0000 - val_loss: 0.2928 - val_acc: 0.9533\n",
            "Epoch 419/500\n",
            "2/2 [==============================] - 0s 170ms/step - loss: 1.5771e-05 - acc: 1.0000 - val_loss: 0.2930 - val_acc: 0.9533\n",
            "Epoch 420/500\n",
            "2/2 [==============================] - 0s 170ms/step - loss: 1.5632e-05 - acc: 1.0000 - val_loss: 0.2928 - val_acc: 0.9533\n",
            "Epoch 421/500\n",
            "2/2 [==============================] - 0s 183ms/step - loss: 1.5059e-05 - acc: 1.0000 - val_loss: 0.2927 - val_acc: 0.9533\n",
            "Epoch 422/500\n",
            "2/2 [==============================] - 0s 176ms/step - loss: 1.4388e-05 - acc: 1.0000 - val_loss: 0.2932 - val_acc: 0.9533\n",
            "Epoch 423/500\n",
            "2/2 [==============================] - 0s 176ms/step - loss: 1.4410e-05 - acc: 1.0000 - val_loss: 0.2939 - val_acc: 0.9533\n",
            "Epoch 424/500\n",
            "2/2 [==============================] - 0s 168ms/step - loss: 1.4852e-05 - acc: 1.0000 - val_loss: 0.2935 - val_acc: 0.9533\n",
            "Epoch 425/500\n",
            "2/2 [==============================] - 0s 169ms/step - loss: 1.5149e-05 - acc: 1.0000 - val_loss: 0.2936 - val_acc: 0.9533\n",
            "Epoch 426/500\n",
            "2/2 [==============================] - 0s 172ms/step - loss: 1.4486e-05 - acc: 1.0000 - val_loss: 0.2942 - val_acc: 0.9533\n",
            "Epoch 427/500\n",
            "2/2 [==============================] - 0s 171ms/step - loss: 1.3493e-05 - acc: 1.0000 - val_loss: 0.2950 - val_acc: 0.9533\n",
            "Epoch 428/500\n",
            "2/2 [==============================] - 0s 175ms/step - loss: 1.4216e-05 - acc: 1.0000 - val_loss: 0.2944 - val_acc: 0.9533\n",
            "Epoch 429/500\n",
            "2/2 [==============================] - 0s 175ms/step - loss: 1.4003e-05 - acc: 1.0000 - val_loss: 0.2942 - val_acc: 0.9533\n",
            "Epoch 430/500\n",
            "2/2 [==============================] - 0s 175ms/step - loss: 1.3413e-05 - acc: 1.0000 - val_loss: 0.2944 - val_acc: 0.9533\n",
            "Epoch 431/500\n",
            "2/2 [==============================] - 0s 178ms/step - loss: 1.4157e-05 - acc: 1.0000 - val_loss: 0.2949 - val_acc: 0.9533\n",
            "Epoch 432/500\n",
            "2/2 [==============================] - 0s 174ms/step - loss: 1.4507e-05 - acc: 1.0000 - val_loss: 0.2950 - val_acc: 0.9533\n",
            "Epoch 433/500\n",
            "2/2 [==============================] - 0s 175ms/step - loss: 1.3694e-05 - acc: 1.0000 - val_loss: 0.2948 - val_acc: 0.9533\n",
            "Epoch 434/500\n",
            "2/2 [==============================] - 0s 177ms/step - loss: 1.3335e-05 - acc: 1.0000 - val_loss: 0.2952 - val_acc: 0.9533\n",
            "Epoch 435/500\n",
            "2/2 [==============================] - 0s 175ms/step - loss: 1.3296e-05 - acc: 1.0000 - val_loss: 0.2952 - val_acc: 0.9533\n",
            "Epoch 436/500\n",
            "2/2 [==============================] - 0s 177ms/step - loss: 1.3084e-05 - acc: 1.0000 - val_loss: 0.2956 - val_acc: 0.9533\n",
            "Epoch 437/500\n",
            "2/2 [==============================] - 0s 179ms/step - loss: 1.3409e-05 - acc: 1.0000 - val_loss: 0.2954 - val_acc: 0.9533\n",
            "Epoch 438/500\n",
            "2/2 [==============================] - 0s 174ms/step - loss: 1.4135e-05 - acc: 1.0000 - val_loss: 0.2955 - val_acc: 0.9533\n",
            "Epoch 439/500\n",
            "2/2 [==============================] - 0s 172ms/step - loss: 1.3584e-05 - acc: 1.0000 - val_loss: 0.2963 - val_acc: 0.9533\n",
            "Epoch 440/500\n",
            "2/2 [==============================] - 0s 174ms/step - loss: 1.3187e-05 - acc: 1.0000 - val_loss: 0.2974 - val_acc: 0.9533\n",
            "Epoch 441/500\n",
            "2/2 [==============================] - 0s 176ms/step - loss: 1.2911e-05 - acc: 1.0000 - val_loss: 0.2973 - val_acc: 0.9533\n",
            "Epoch 442/500\n",
            "2/2 [==============================] - 0s 173ms/step - loss: 1.3253e-05 - acc: 1.0000 - val_loss: 0.2972 - val_acc: 0.9533\n",
            "Epoch 443/500\n",
            "2/2 [==============================] - 0s 173ms/step - loss: 1.2993e-05 - acc: 1.0000 - val_loss: 0.2966 - val_acc: 0.9533\n",
            "Epoch 444/500\n",
            "2/2 [==============================] - 0s 173ms/step - loss: 1.3418e-05 - acc: 1.0000 - val_loss: 0.2967 - val_acc: 0.9533\n",
            "Epoch 445/500\n",
            "2/2 [==============================] - 0s 173ms/step - loss: 1.3438e-05 - acc: 1.0000 - val_loss: 0.2971 - val_acc: 0.9533\n",
            "Epoch 446/500\n",
            "2/2 [==============================] - 0s 172ms/step - loss: 1.2672e-05 - acc: 1.0000 - val_loss: 0.2977 - val_acc: 0.9533\n",
            "Epoch 447/500\n",
            "2/2 [==============================] - 0s 171ms/step - loss: 1.3166e-05 - acc: 1.0000 - val_loss: 0.2984 - val_acc: 0.9533\n",
            "Epoch 448/500\n",
            "2/2 [==============================] - 0s 175ms/step - loss: 1.2519e-05 - acc: 1.0000 - val_loss: 0.2986 - val_acc: 0.9533\n",
            "Epoch 449/500\n",
            "2/2 [==============================] - 0s 179ms/step - loss: 1.2749e-05 - acc: 1.0000 - val_loss: 0.2984 - val_acc: 0.9533\n",
            "Epoch 450/500\n",
            "2/2 [==============================] - 0s 179ms/step - loss: 1.2129e-05 - acc: 1.0000 - val_loss: 0.2980 - val_acc: 0.9533\n",
            "Epoch 451/500\n",
            "2/2 [==============================] - 0s 179ms/step - loss: 1.3047e-05 - acc: 1.0000 - val_loss: 0.2982 - val_acc: 0.9533\n",
            "Epoch 452/500\n",
            "2/2 [==============================] - 0s 181ms/step - loss: 1.2782e-05 - acc: 1.0000 - val_loss: 0.2982 - val_acc: 0.9533\n",
            "Epoch 453/500\n",
            "2/2 [==============================] - 0s 176ms/step - loss: 1.1528e-05 - acc: 1.0000 - val_loss: 0.2981 - val_acc: 0.9533\n",
            "Epoch 454/500\n",
            "2/2 [==============================] - 0s 171ms/step - loss: 1.3019e-05 - acc: 1.0000 - val_loss: 0.2983 - val_acc: 0.9533\n",
            "Epoch 455/500\n",
            "2/2 [==============================] - 0s 176ms/step - loss: 1.2373e-05 - acc: 1.0000 - val_loss: 0.2988 - val_acc: 0.9533\n",
            "Epoch 456/500\n",
            "2/2 [==============================] - 0s 175ms/step - loss: 1.1782e-05 - acc: 1.0000 - val_loss: 0.2992 - val_acc: 0.9533\n",
            "Epoch 457/500\n",
            "2/2 [==============================] - 0s 173ms/step - loss: 1.1806e-05 - acc: 1.0000 - val_loss: 0.2991 - val_acc: 0.9533\n",
            "Epoch 458/500\n",
            "2/2 [==============================] - 0s 178ms/step - loss: 1.2517e-05 - acc: 1.0000 - val_loss: 0.2984 - val_acc: 0.9533\n",
            "Epoch 459/500\n",
            "2/2 [==============================] - 0s 173ms/step - loss: 1.1691e-05 - acc: 1.0000 - val_loss: 0.2990 - val_acc: 0.9533\n",
            "Epoch 460/500\n",
            "2/2 [==============================] - 0s 172ms/step - loss: 1.2377e-05 - acc: 1.0000 - val_loss: 0.2995 - val_acc: 0.9533\n",
            "Epoch 461/500\n",
            "2/2 [==============================] - 0s 173ms/step - loss: 1.1876e-05 - acc: 1.0000 - val_loss: 0.2999 - val_acc: 0.9533\n",
            "Epoch 462/500\n",
            "2/2 [==============================] - 0s 178ms/step - loss: 1.2040e-05 - acc: 1.0000 - val_loss: 0.3007 - val_acc: 0.9533\n",
            "Epoch 463/500\n",
            "2/2 [==============================] - 0s 174ms/step - loss: 1.1143e-05 - acc: 1.0000 - val_loss: 0.3003 - val_acc: 0.9533\n",
            "Epoch 464/500\n",
            "2/2 [==============================] - 0s 182ms/step - loss: 1.1372e-05 - acc: 1.0000 - val_loss: 0.3005 - val_acc: 0.9533\n",
            "Epoch 465/500\n",
            "2/2 [==============================] - 0s 175ms/step - loss: 1.1654e-05 - acc: 1.0000 - val_loss: 0.3008 - val_acc: 0.9533\n",
            "Epoch 466/500\n",
            "2/2 [==============================] - 0s 170ms/step - loss: 1.1019e-05 - acc: 1.0000 - val_loss: 0.3004 - val_acc: 0.9533\n",
            "Epoch 467/500\n",
            "2/2 [==============================] - 0s 178ms/step - loss: 1.1150e-05 - acc: 1.0000 - val_loss: 0.3008 - val_acc: 0.9533\n",
            "Epoch 468/500\n",
            "2/2 [==============================] - 0s 172ms/step - loss: 1.1514e-05 - acc: 1.0000 - val_loss: 0.3008 - val_acc: 0.9533\n",
            "Epoch 469/500\n",
            "2/2 [==============================] - 0s 174ms/step - loss: 1.1148e-05 - acc: 1.0000 - val_loss: 0.3009 - val_acc: 0.9533\n",
            "Epoch 470/500\n",
            "2/2 [==============================] - 0s 174ms/step - loss: 1.0946e-05 - acc: 1.0000 - val_loss: 0.3013 - val_acc: 0.9533\n",
            "Epoch 471/500\n",
            "2/2 [==============================] - 0s 176ms/step - loss: 1.0957e-05 - acc: 1.0000 - val_loss: 0.3010 - val_acc: 0.9533\n",
            "Epoch 472/500\n",
            "2/2 [==============================] - 0s 177ms/step - loss: 1.0853e-05 - acc: 1.0000 - val_loss: 0.3008 - val_acc: 0.9533\n",
            "Epoch 473/500\n",
            "2/2 [==============================] - 0s 173ms/step - loss: 1.1264e-05 - acc: 1.0000 - val_loss: 0.3011 - val_acc: 0.9533\n",
            "Epoch 474/500\n",
            "2/2 [==============================] - 0s 177ms/step - loss: 1.1165e-05 - acc: 1.0000 - val_loss: 0.3014 - val_acc: 0.9533\n",
            "Epoch 475/500\n",
            "2/2 [==============================] - 0s 174ms/step - loss: 1.0841e-05 - acc: 1.0000 - val_loss: 0.3021 - val_acc: 0.9533\n",
            "Epoch 476/500\n",
            "2/2 [==============================] - 0s 173ms/step - loss: 1.0452e-05 - acc: 1.0000 - val_loss: 0.3028 - val_acc: 0.9533\n",
            "Epoch 477/500\n",
            "2/2 [==============================] - 0s 178ms/step - loss: 1.0820e-05 - acc: 1.0000 - val_loss: 0.3026 - val_acc: 0.9533\n",
            "Epoch 478/500\n",
            "2/2 [==============================] - 0s 179ms/step - loss: 1.0489e-05 - acc: 1.0000 - val_loss: 0.3026 - val_acc: 0.9533\n",
            "Epoch 479/500\n",
            "2/2 [==============================] - 0s 175ms/step - loss: 1.1031e-05 - acc: 1.0000 - val_loss: 0.3019 - val_acc: 0.9533\n",
            "Epoch 480/500\n",
            "2/2 [==============================] - 0s 170ms/step - loss: 1.0417e-05 - acc: 1.0000 - val_loss: 0.3023 - val_acc: 0.9533\n",
            "Epoch 481/500\n",
            "2/2 [==============================] - 0s 172ms/step - loss: 1.0700e-05 - acc: 1.0000 - val_loss: 0.3025 - val_acc: 0.9533\n",
            "Epoch 482/500\n",
            "2/2 [==============================] - 0s 177ms/step - loss: 1.1081e-05 - acc: 1.0000 - val_loss: 0.3025 - val_acc: 0.9533\n",
            "Epoch 483/500\n",
            "2/2 [==============================] - 0s 176ms/step - loss: 1.0361e-05 - acc: 1.0000 - val_loss: 0.3029 - val_acc: 0.9533\n",
            "Epoch 484/500\n",
            "2/2 [==============================] - 0s 177ms/step - loss: 9.9477e-06 - acc: 1.0000 - val_loss: 0.3029 - val_acc: 0.9533\n",
            "Epoch 485/500\n",
            "2/2 [==============================] - 0s 172ms/step - loss: 9.7487e-06 - acc: 1.0000 - val_loss: 0.3038 - val_acc: 0.9533\n",
            "Epoch 486/500\n",
            "2/2 [==============================] - 0s 177ms/step - loss: 1.0169e-05 - acc: 1.0000 - val_loss: 0.3034 - val_acc: 0.9533\n",
            "Epoch 487/500\n",
            "2/2 [==============================] - 0s 175ms/step - loss: 1.0262e-05 - acc: 1.0000 - val_loss: 0.3032 - val_acc: 0.9533\n",
            "Epoch 488/500\n",
            "2/2 [==============================] - 0s 173ms/step - loss: 1.0410e-05 - acc: 1.0000 - val_loss: 0.3035 - val_acc: 0.9533\n",
            "Epoch 489/500\n",
            "2/2 [==============================] - 0s 172ms/step - loss: 9.7365e-06 - acc: 1.0000 - val_loss: 0.3039 - val_acc: 0.9533\n",
            "Epoch 490/500\n",
            "2/2 [==============================] - 0s 177ms/step - loss: 9.8142e-06 - acc: 1.0000 - val_loss: 0.3038 - val_acc: 0.9533\n",
            "Epoch 491/500\n",
            "2/2 [==============================] - 0s 174ms/step - loss: 9.3171e-06 - acc: 1.0000 - val_loss: 0.3044 - val_acc: 0.9533\n",
            "Epoch 492/500\n",
            "2/2 [==============================] - 0s 175ms/step - loss: 9.8698e-06 - acc: 1.0000 - val_loss: 0.3048 - val_acc: 0.9533\n",
            "Epoch 493/500\n",
            "2/2 [==============================] - 0s 173ms/step - loss: 9.5384e-06 - acc: 1.0000 - val_loss: 0.3051 - val_acc: 0.9533\n",
            "Epoch 494/500\n",
            "2/2 [==============================] - 0s 178ms/step - loss: 9.8504e-06 - acc: 1.0000 - val_loss: 0.3049 - val_acc: 0.9533\n",
            "Epoch 495/500\n",
            "2/2 [==============================] - 0s 175ms/step - loss: 1.0107e-05 - acc: 1.0000 - val_loss: 0.3044 - val_acc: 0.9533\n",
            "Epoch 496/500\n",
            "2/2 [==============================] - 0s 170ms/step - loss: 9.8993e-06 - acc: 1.0000 - val_loss: 0.3042 - val_acc: 0.9533\n",
            "Epoch 497/500\n",
            "2/2 [==============================] - 0s 178ms/step - loss: 1.0243e-05 - acc: 1.0000 - val_loss: 0.3045 - val_acc: 0.9533\n",
            "Epoch 498/500\n",
            "2/2 [==============================] - 0s 183ms/step - loss: 9.7488e-06 - acc: 1.0000 - val_loss: 0.3048 - val_acc: 0.9533\n",
            "Epoch 499/500\n",
            "2/2 [==============================] - 0s 172ms/step - loss: 9.7079e-06 - acc: 1.0000 - val_loss: 0.3049 - val_acc: 0.9533\n",
            "Epoch 500/500\n",
            "2/2 [==============================] - 0s 172ms/step - loss: 9.4035e-06 - acc: 1.0000 - val_loss: 0.3052 - val_acc: 0.9533\n"
          ],
          "name": "stdout"
        }
      ]
    },
    {
      "cell_type": "code",
      "metadata": {
        "id": "x2qzK4SJB5y9",
        "colab": {
          "base_uri": "https://localhost:8080/",
          "height": 241
        },
        "outputId": "010bca6d-a1f4-47f0-f357-c72625f33ca9"
      },
      "source": [
        "plt.figure(figsize =(5,3))\n",
        "plt.plot(history.history['acc'], marker='.', label='tune')\n",
        "plt.plot(history.history['val_acc'], marker='.', label='test')\n",
        "plt.title('Accuracy')\n",
        "plt.grid(True)\n",
        "plt.xlabel('epoch')\n",
        "plt.ylabel('accuracy')\n",
        "plt.legend(loc='best')\n",
        "plt.show()"
      ],
      "execution_count": 46,
      "outputs": [
        {
          "output_type": "display_data",
          "data": {
            "image/png": "[encoded data removed]",
            "text/plain": [
              "<Figure size 360x216 with 1 Axes>"
            ]
          },
          "metadata": {
            "tags": [],
            "needs_background": "light"
          }
        }
      ]
    }
  ]
}