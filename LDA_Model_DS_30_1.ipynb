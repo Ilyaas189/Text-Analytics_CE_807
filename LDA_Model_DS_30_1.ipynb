{
  "nbformat": 4,
  "nbformat_minor": 0,
  "metadata": {
    "colab": {
      "name": "LDA Model_DS_30_1.ipynb",
      "provenance": [],
      "collapsed_sections": [],
      "include_colab_link": true
    },
    "kernelspec": {
      "name": "python3",
      "display_name": "Python 3"
    },
    "language_info": {
      "name": "python"
    },
    "accelerator": "GPU"
  },
  "cells": [
    {
      "cell_type": "markdown",
      "metadata": {
        "id": "view-in-github",
        "colab_type": "text"
      },
      "source": [
        "<a href=\"https://colab.research.google.com/github/Ilyaas189/Text-Analytics_CE_807/blob/main/LDA_Model_DS_30_1.ipynb\" target=\"_parent\"><img src=\"https://colab.research.google.com/assets/colab-badge.svg\" alt=\"Open In Colab\"/></a>"
      ]
    },
    {
      "cell_type": "code",
      "metadata": {
        "colab": {
          "resources": {
            "http://localhost:8080/nbextensions/google.colab/files.js": {
              "data": "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",
              "ok": true,
              "headers": [
                [
                  "content-type",
                  "application/javascript"
                ]
              ],
              "status": 200,
              "status_text": ""
            }
          },
          "base_uri": "https://localhost:8080/",
          "height": 37
        },
        "id": "h48neXM-ANwE",
        "outputId": "daa2211f-58ac-40a8-9327-92b0f1237dc6"
      },
      "source": [
        "import pandas as pd\n",
        "import numpy as np\n",
        "import matplotlib.pyplot as plt\n",
        "import warnings\n",
        "from google.colab import files\n",
        "from sklearn.naive_bayes import MultinomialNB\n",
        "from sklearn.naive_bayes import BernoulliNB\n",
        "from sklearn.pipeline import Pipeline\n",
        "from sklearn.feature_extraction.text import TfidfVectorizer\n",
        "from sklearn.feature_extraction.text import TfidfTransformer\n",
        "from sklearn.linear_model import SGDClassifier\n",
        "from sklearn.linear_model import LogisticRegression\n",
        "from nltk.stem.snowball import SnowballStemmer\n",
        "from sklearn.neighbors import KNeighborsClassifier\n",
        "from sklearn.ensemble import RandomForestClassifier\n",
        "import numpy as np\n",
        "import re\n",
        "\n",
        "\n",
        "import matplotlib.pyplot as plt\n",
        "%matplotlib inline\n",
        "\n",
        "import nltk\n",
        "import random\n",
        "uploaded = files.upload()\n",
        "files = list(uploaded.keys())\n"
      ],
      "execution_count": 1,
      "outputs": [
        {
          "output_type": "display_data",
          "data": {
            "text/html": [
              "\n",
              "     <input type=\"file\" id=\"files-8510c090-8881-4aac-bcc0-1792d2351e95\" name=\"files[]\" multiple disabled\n",
              "        style=\"border:none\" />\n",
              "     <output id=\"result-8510c090-8881-4aac-bcc0-1792d2351e95\">\n",
              "      Upload widget is only available when the cell has been executed in the\n",
              "      current browser session. Please rerun this cell to enable.\n",
              "      </output>\n",
              "      <script src=\"/nbextensions/google.colab/files.js\"></script> "
            ],
            "text/plain": [
              "<IPython.core.display.HTML object>"
            ]
          },
          "metadata": {
            "tags": []
          }
        }
      ]
    },
    {
      "cell_type": "code",
      "metadata": {
        "colab": {
          "base_uri": "https://localhost:8080/"
        },
        "id": "qcrJU_pzAhOm",
        "outputId": "b49f53c6-3369-4d3e-958c-18f10c96648a"
      },
      "source": [
        "# Import Dataset\n",
        "data = pd.read_json('https://raw.githubusercontent.com/selva86/datasets/master/newsgroups.json')\n",
        "print(data.target_names.unique())"
      ],
      "execution_count": 2,
      "outputs": [
        {
          "output_type": "stream",
          "text": [
            "['rec.autos' 'comp.sys.mac.hardware' 'comp.graphics' 'sci.space'\n",
            " 'talk.politics.guns' 'sci.med' 'comp.sys.ibm.pc.hardware'\n",
            " 'comp.os.ms-windows.misc' 'rec.motorcycles' 'talk.religion.misc'\n",
            " 'misc.forsale' 'alt.atheism' 'sci.electronics' 'comp.windows.x'\n",
            " 'rec.sport.hockey' 'rec.sport.baseball' 'soc.religion.christian'\n",
            " 'talk.politics.mideast' 'talk.politics.misc' 'sci.crypt']\n"
          ],
          "name": "stdout"
        }
      ]
    },
    {
      "cell_type": "code",
      "metadata": {
        "colab": {
          "base_uri": "https://localhost:8080/",
          "height": 648
        },
        "id": "SnGiNUYGAtLQ",
        "outputId": "c32b4ddc-e8dd-42e2-89a4-741aa747e33e"
      },
      "source": [
        "data.head(20)"
      ],
      "execution_count": 3,
      "outputs": [
        {
          "output_type": "execute_result",
          "data": {
            "text/html": [
              "<div>\n",
              "<style scoped>\n",
              "    .dataframe tbody tr th:only-of-type {\n",
              "        vertical-align: middle;\n",
              "    }\n",
              "\n",
              "    .dataframe tbody tr th {\n",
              "        vertical-align: top;\n",
              "    }\n",
              "\n",
              "    .dataframe thead th {\n",
              "        text-align: right;\n",
              "    }\n",
              "</style>\n",
              "<table border=\"1\" class=\"dataframe\">\n",
              "  <thead>\n",
              "    <tr style=\"text-align: right;\">\n",
              "      <th></th>\n",
              "      <th>content</th>\n",
              "      <th>target</th>\n",
              "      <th>target_names</th>\n",
              "    </tr>\n",
              "  </thead>\n",
              "  <tbody>\n",
              "    <tr>\n",
              "      <th>0</th>\n",
              "      <td>From: lerxst@wam.umd.edu (where's my thing)\\nS...</td>\n",
              "      <td>7</td>\n",
              "      <td>rec.autos</td>\n",
              "    </tr>\n",
              "    <tr>\n",
              "      <th>1</th>\n",
              "      <td>From: guykuo@carson.u.washington.edu (Guy Kuo)...</td>\n",
              "      <td>4</td>\n",
              "      <td>comp.sys.mac.hardware</td>\n",
              "    </tr>\n",
              "    <tr>\n",
              "      <th>2</th>\n",
              "      <td>From: twillis@ec.ecn.purdue.edu (Thomas E Will...</td>\n",
              "      <td>4</td>\n",
              "      <td>comp.sys.mac.hardware</td>\n",
              "    </tr>\n",
              "    <tr>\n",
              "      <th>3</th>\n",
              "      <td>From: jgreen@amber (Joe Green)\\nSubject: Re: W...</td>\n",
              "      <td>1</td>\n",
              "      <td>comp.graphics</td>\n",
              "    </tr>\n",
              "    <tr>\n",
              "      <th>4</th>\n",
              "      <td>From: jcm@head-cfa.harvard.edu (Jonathan McDow...</td>\n",
              "      <td>14</td>\n",
              "      <td>sci.space</td>\n",
              "    </tr>\n",
              "    <tr>\n",
              "      <th>5</th>\n",
              "      <td>From: dfo@vttoulu.tko.vtt.fi (Foxvog Douglas)\\...</td>\n",
              "      <td>16</td>\n",
              "      <td>talk.politics.guns</td>\n",
              "    </tr>\n",
              "    <tr>\n",
              "      <th>6</th>\n",
              "      <td>From: bmdelane@quads.uchicago.edu (brian manni...</td>\n",
              "      <td>13</td>\n",
              "      <td>sci.med</td>\n",
              "    </tr>\n",
              "    <tr>\n",
              "      <th>7</th>\n",
              "      <td>From: bgrubb@dante.nmsu.edu (GRUBB)\\nSubject: ...</td>\n",
              "      <td>3</td>\n",
              "      <td>comp.sys.ibm.pc.hardware</td>\n",
              "    </tr>\n",
              "    <tr>\n",
              "      <th>8</th>\n",
              "      <td>From: holmes7000@iscsvax.uni.edu\\nSubject: WIn...</td>\n",
              "      <td>2</td>\n",
              "      <td>comp.os.ms-windows.misc</td>\n",
              "    </tr>\n",
              "    <tr>\n",
              "      <th>9</th>\n",
              "      <td>From: kerr@ux1.cso.uiuc.edu (Stan Kerr)\\nSubje...</td>\n",
              "      <td>4</td>\n",
              "      <td>comp.sys.mac.hardware</td>\n",
              "    </tr>\n",
              "    <tr>\n",
              "      <th>10</th>\n",
              "      <td>From: irwin@cmptrc.lonestar.org (Irwin Arnstei...</td>\n",
              "      <td>8</td>\n",
              "      <td>rec.motorcycles</td>\n",
              "    </tr>\n",
              "    <tr>\n",
              "      <th>11</th>\n",
              "      <td>From: david@terminus.ericsson.se (David Bold)\\...</td>\n",
              "      <td>19</td>\n",
              "      <td>talk.religion.misc</td>\n",
              "    </tr>\n",
              "    <tr>\n",
              "      <th>12</th>\n",
              "      <td>From: rodc@fc.hp.com (Rod Cerkoney)\\nSubject: ...</td>\n",
              "      <td>4</td>\n",
              "      <td>comp.sys.mac.hardware</td>\n",
              "    </tr>\n",
              "    <tr>\n",
              "      <th>13</th>\n",
              "      <td>From: dbm0000@tm0006.lerc.nasa.gov (David B. M...</td>\n",
              "      <td>14</td>\n",
              "      <td>sci.space</td>\n",
              "    </tr>\n",
              "    <tr>\n",
              "      <th>14</th>\n",
              "      <td>From: jllee@acsu.buffalo.edu (Johnny L Lee)\\nS...</td>\n",
              "      <td>6</td>\n",
              "      <td>misc.forsale</td>\n",
              "    </tr>\n",
              "    <tr>\n",
              "      <th>15</th>\n",
              "      <td>From: mathew &lt;mathew@mantis.co.uk&gt;\\nSubject: R...</td>\n",
              "      <td>0</td>\n",
              "      <td>alt.atheism</td>\n",
              "    </tr>\n",
              "    <tr>\n",
              "      <th>16</th>\n",
              "      <td>From: ab@nova.cc.purdue.edu (Allen B)\\nSubject...</td>\n",
              "      <td>1</td>\n",
              "      <td>comp.graphics</td>\n",
              "    </tr>\n",
              "    <tr>\n",
              "      <th>17</th>\n",
              "      <td>From: CPKJP@vm.cc.latech.edu (Kevin Parker)\\nS...</td>\n",
              "      <td>7</td>\n",
              "      <td>rec.autos</td>\n",
              "    </tr>\n",
              "    <tr>\n",
              "      <th>18</th>\n",
              "      <td>From: ritley@uimrl7.mrl.uiuc.edu ()\\nSubject: ...</td>\n",
              "      <td>12</td>\n",
              "      <td>sci.electronics</td>\n",
              "    </tr>\n",
              "    <tr>\n",
              "      <th>19</th>\n",
              "      <td>From: abarden@tybse1.uucp (Ann Marie Barden)\\n...</td>\n",
              "      <td>5</td>\n",
              "      <td>comp.windows.x</td>\n",
              "    </tr>\n",
              "  </tbody>\n",
              "</table>\n",
              "</div>"
            ],
            "text/plain": [
              "                                              content  ...              target_names\n",
              "0   From: lerxst@wam.umd.edu (where's my thing)\\nS...  ...                 rec.autos\n",
              "1   From: guykuo@carson.u.washington.edu (Guy Kuo)...  ...     comp.sys.mac.hardware\n",
              "2   From: twillis@ec.ecn.purdue.edu (Thomas E Will...  ...     comp.sys.mac.hardware\n",
              "3   From: jgreen@amber (Joe Green)\\nSubject: Re: W...  ...             comp.graphics\n",
              "4   From: jcm@head-cfa.harvard.edu (Jonathan McDow...  ...                 sci.space\n",
              "5   From: dfo@vttoulu.tko.vtt.fi (Foxvog Douglas)\\...  ...        talk.politics.guns\n",
              "6   From: bmdelane@quads.uchicago.edu (brian manni...  ...                   sci.med\n",
              "7   From: bgrubb@dante.nmsu.edu (GRUBB)\\nSubject: ...  ...  comp.sys.ibm.pc.hardware\n",
              "8   From: holmes7000@iscsvax.uni.edu\\nSubject: WIn...  ...   comp.os.ms-windows.misc\n",
              "9   From: kerr@ux1.cso.uiuc.edu (Stan Kerr)\\nSubje...  ...     comp.sys.mac.hardware\n",
              "10  From: irwin@cmptrc.lonestar.org (Irwin Arnstei...  ...           rec.motorcycles\n",
              "11  From: david@terminus.ericsson.se (David Bold)\\...  ...        talk.religion.misc\n",
              "12  From: rodc@fc.hp.com (Rod Cerkoney)\\nSubject: ...  ...     comp.sys.mac.hardware\n",
              "13  From: dbm0000@tm0006.lerc.nasa.gov (David B. M...  ...                 sci.space\n",
              "14  From: jllee@acsu.buffalo.edu (Johnny L Lee)\\nS...  ...              misc.forsale\n",
              "15  From: mathew <mathew@mantis.co.uk>\\nSubject: R...  ...               alt.atheism\n",
              "16  From: ab@nova.cc.purdue.edu (Allen B)\\nSubject...  ...             comp.graphics\n",
              "17  From: CPKJP@vm.cc.latech.edu (Kevin Parker)\\nS...  ...                 rec.autos\n",
              "18  From: ritley@uimrl7.mrl.uiuc.edu ()\\nSubject: ...  ...           sci.electronics\n",
              "19  From: abarden@tybse1.uucp (Ann Marie Barden)\\n...  ...            comp.windows.x\n",
              "\n",
              "[20 rows x 3 columns]"
            ]
          },
          "metadata": {
            "tags": []
          },
          "execution_count": 3
        }
      ]
    },
    {
      "cell_type": "code",
      "metadata": {
        "colab": {
          "base_uri": "https://localhost:8080/"
        },
        "id": "i1t4Hd65BKo4",
        "outputId": "b12c982f-7ae4-4f44-d0ba-4a992cbfd2c1"
      },
      "source": [
        "data_clusterization = data[['content', 'target_names']]\n",
        "data_clusterization.dropna(inplace=True)"
      ],
      "execution_count": 4,
      "outputs": [
        {
          "output_type": "stream",
          "text": [
            "/usr/local/lib/python3.7/dist-packages/ipykernel_launcher.py:2: SettingWithCopyWarning: \n",
            "A value is trying to be set on a copy of a slice from a DataFrame\n",
            "\n",
            "See the caveats in the documentation: https://pandas.pydata.org/pandas-docs/stable/user_guide/indexing.html#returning-a-view-versus-a-copy\n",
            "  \n"
          ],
          "name": "stderr"
        }
      ]
    },
    {
      "cell_type": "code",
      "metadata": {
        "colab": {
          "base_uri": "https://localhost:8080/",
          "height": 108
        },
        "id": "0xRJ8_03Bd1W",
        "outputId": "47e70e1b-e51b-4d5f-aa49-98d90b3724dc"
      },
      "source": [
        "data_clusterization.head(2)\n"
      ],
      "execution_count": 5,
      "outputs": [
        {
          "output_type": "execute_result",
          "data": {
            "text/html": [
              "<div>\n",
              "<style scoped>\n",
              "    .dataframe tbody tr th:only-of-type {\n",
              "        vertical-align: middle;\n",
              "    }\n",
              "\n",
              "    .dataframe tbody tr th {\n",
              "        vertical-align: top;\n",
              "    }\n",
              "\n",
              "    .dataframe thead th {\n",
              "        text-align: right;\n",
              "    }\n",
              "</style>\n",
              "<table border=\"1\" class=\"dataframe\">\n",
              "  <thead>\n",
              "    <tr style=\"text-align: right;\">\n",
              "      <th></th>\n",
              "      <th>content</th>\n",
              "      <th>target_names</th>\n",
              "    </tr>\n",
              "  </thead>\n",
              "  <tbody>\n",
              "    <tr>\n",
              "      <th>0</th>\n",
              "      <td>From: lerxst@wam.umd.edu (where's my thing)\\nS...</td>\n",
              "      <td>rec.autos</td>\n",
              "    </tr>\n",
              "    <tr>\n",
              "      <th>1</th>\n",
              "      <td>From: guykuo@carson.u.washington.edu (Guy Kuo)...</td>\n",
              "      <td>comp.sys.mac.hardware</td>\n",
              "    </tr>\n",
              "  </tbody>\n",
              "</table>\n",
              "</div>"
            ],
            "text/plain": [
              "                                             content           target_names\n",
              "0  From: lerxst@wam.umd.edu (where's my thing)\\nS...              rec.autos\n",
              "1  From: guykuo@carson.u.washington.edu (Guy Kuo)...  comp.sys.mac.hardware"
            ]
          },
          "metadata": {
            "tags": []
          },
          "execution_count": 5
        }
      ]
    },
    {
      "cell_type": "code",
      "metadata": {
        "colab": {
          "base_uri": "https://localhost:8080/"
        },
        "id": "0iUh1DoLBmXP",
        "outputId": "f99e9113-0ef0-4d8a-efa4-a39b3a48153b"
      },
      "source": [
        "import gensim\n",
        "from gensim.utils import simple_preprocess\n",
        "from gensim.parsing.preprocessing import STOPWORDS\n",
        "from nltk.stem import WordNetLemmatizer, SnowballStemmer\n",
        "from nltk.stem.porter import *\n",
        "import numpy as np\n",
        "np.random.seed(2018)\n",
        "import nltk\n",
        "nltk.download('wordnet')"
      ],
      "execution_count": 6,
      "outputs": [
        {
          "output_type": "stream",
          "text": [
            "[nltk_data] Downloading package wordnet to /root/nltk_data...\n",
            "[nltk_data]   Unzipping corpora/wordnet.zip.\n"
          ],
          "name": "stdout"
        },
        {
          "output_type": "execute_result",
          "data": {
            "text/plain": [
              "True"
            ]
          },
          "metadata": {
            "tags": []
          },
          "execution_count": 6
        }
      ]
    },
    {
      "cell_type": "code",
      "metadata": {
        "id": "s7hwfWd1Bw8S"
      },
      "source": [
        "def lemmatize_stemming(text):\n",
        " stemmer = SnowballStemmer(language='english')\n",
        " return stemmer.stem(WordNetLemmatizer().lemmatize(text, pos='v'))\n",
        "def preprocess(text):\n",
        " result = []\n",
        " for token in gensim.utils.simple_preprocess(text):\n",
        "   if token not in gensim.parsing.preprocessing.STOPWORDS and len(token) > 3:\n",
        "     result.append(lemmatize_stemming(token))\n",
        " return result"
      ],
      "execution_count": 7,
      "outputs": []
    },
    {
      "cell_type": "code",
      "metadata": {
        "id": "iJfVX8biB_Sa"
      },
      "source": [
        "processed_docs = data_clusterization['content'].map(preprocess)\n",
        "data_processed = processed_docs.to_frame()\n",
        "data_processed['content'] = data_processed.content.apply(lambda x: ' '.join(x))\n"
      ],
      "execution_count": 8,
      "outputs": []
    },
    {
      "cell_type": "code",
      "metadata": {
        "colab": {
          "base_uri": "https://localhost:8080/"
        },
        "id": "gCHPTBYJClMy",
        "outputId": "69814470-c817-4723-b57b-211aaaee94ca"
      },
      "source": [
        "!pip install tokenize_uk\n",
        "from collections import Counter\n",
        "from tokenize_uk.tokenize_uk import tokenize_words"
      ],
      "execution_count": 9,
      "outputs": [
        {
          "output_type": "stream",
          "text": [
            "Collecting tokenize_uk\n",
            "  Downloading https://files.pythonhosted.org/packages/ac/21/72abb0304b532e1b2d2473b50d8063ddd0943e3b3fe7e86b366bc4d02aa2/tokenize_uk-0.2.0.tar.gz\n",
            "Requirement already satisfied: six in /usr/local/lib/python3.7/dist-packages (from tokenize_uk) (1.15.0)\n",
            "Building wheels for collected packages: tokenize-uk\n",
            "  Building wheel for tokenize-uk (setup.py) ... \u001b[?25l\u001b[?25hdone\n",
            "  Created wheel for tokenize-uk: filename=tokenize_uk-0.2.0-py2.py3-none-any.whl size=4565 sha256=741387612d37e814f782b51cc97acaf8d560796433fb4d9efa0bfeb46071e1e0\n",
            "  Stored in directory: /root/.cache/pip/wheels/2c/e1/95/fd8af5b40aeebdc4e178974e7f638f5553aa8772117054db9e\n",
            "Successfully built tokenize-uk\n",
            "Installing collected packages: tokenize-uk\n",
            "Successfully installed tokenize-uk-0.2.0\n"
          ],
          "name": "stdout"
        }
      ]
    },
    {
      "cell_type": "code",
      "metadata": {
        "colab": {
          "base_uri": "https://localhost:8080/",
          "height": 363
        },
        "id": "94mq8WUoCqHq",
        "outputId": "50f3ea79-e243-4b56-98f7-0557d11680bc"
      },
      "source": [
        "def display_words(data, title, ax):\n",
        " count = Counter(sum(map(lambda text: tokenize_words(text), data), []))\n",
        " popular = np.array(sorted(count.items(), key=lambda x: x[1], reverse=True)[:20])\n",
        " plt.sca(ax)\n",
        " plt.title(title)\n",
        " plt.bar(popular[:,0], np.int32(popular[:,1]))\n",
        " plt.xticks(rotation=\"vertical\")\n",
        "fig, ax = plt.subplots(figsize=(16, 5))\n",
        "display_words(data_processed.sample(1000).content, \"The most popular words]\", ax)"
      ],
      "execution_count": 10,
      "outputs": [
        {
          "output_type": "display_data",
          "data": {
            "image/png": "[encoded data removed]",
            "text/plain": [
              "<Figure size 1152x360 with 1 Axes>"
            ]
          },
          "metadata": {
            "tags": [],
            "needs_background": "light"
          }
        }
      ]
    },
    {
      "cell_type": "code",
      "metadata": {
        "id": "UCM4qevNC5Ty"
      },
      "source": [
        "from sklearn.feature_extraction.text import CountVectorizer"
      ],
      "execution_count": 11,
      "outputs": []
    },
    {
      "cell_type": "code",
      "metadata": {
        "colab": {
          "base_uri": "https://localhost:8080/"
        },
        "id": "NMnRgz3aC8f5",
        "outputId": "9e504aac-507e-4fad-f74c-f363b40d1ecf"
      },
      "source": [
        "count_vectorizer = CountVectorizer()\n",
        "count_data = count_vectorizer.fit_transform(data_processed['content'])\n",
        "count_data"
      ],
      "execution_count": 12,
      "outputs": [
        {
          "output_type": "execute_result",
          "data": {
            "text/plain": [
              "<11314x61410 sparse matrix of type '<class 'numpy.int64'>'\n",
              "\twith 934270 stored elements in Compressed Sparse Row format>"
            ]
          },
          "metadata": {
            "tags": []
          },
          "execution_count": 12
        }
      ]
    },
    {
      "cell_type": "code",
      "metadata": {
        "id": "6TmSX73jDEJS"
      },
      "source": [
        "likelihood = []\n",
        "n_clusters = []"
      ],
      "execution_count": 13,
      "outputs": []
    },
    {
      "cell_type": "code",
      "metadata": {
        "id": "z9uTcUJlDHT0"
      },
      "source": [
        "import seaborn as sns\n",
        "from sklearn.decomposition import LatentDirichletAllocation as LDA"
      ],
      "execution_count": 14,
      "outputs": []
    },
    {
      "cell_type": "code",
      "metadata": {
        "id": "Hki6oWR0DLwb"
      },
      "source": [
        "def estimate_number_clusters(data, nclusters):\n",
        " for n in nclusters:\n",
        "   likelihood.append(LDA(n_components=n, n_jobs=-1).fit(data).score(data))\n",
        " n_clusters.append(n)\n",
        " print(\"Sccesfully estimated \", n)\n",
        " fig, ax = plt.subplots(figsize=(15, 5))\n",
        " sns.lineplot(x=n_clusters, y=likelihood, ax=ax)\n",
        " ax.set_title('Elbow method for choosing n, likelihood')\n",
        " ax.set_ylabel('Likelihood')\n",
        " ax.set_xlabel('n')\n",
        "\n",
        "\n"
      ],
      "execution_count": 15,
      "outputs": []
    },
    {
      "cell_type": "code",
      "metadata": {
        "id": "_CBG_y1fJszZ"
      },
      "source": [
        "# estimate_number_clusters(count_data, [10, 15, 20, 50])\n",
        " \n",
        " "
      ],
      "execution_count": 16,
      "outputs": []
    },
    {
      "cell_type": "code",
      "metadata": {
        "id": "_XNMixjQJuYE"
      },
      "source": [
        "def print_topics(model, count_vectorizer, n_top_words):\n",
        "  words = count_vectorizer.get_feature_names()\n",
        "  for topic_idx, topic in enumerate(model.components_):\n",
        "    print(\"\\nTopic #%d:\" % topic_idx)\n",
        "    print(\" \".join([words[i]\n",
        "  for i in topic.argsort()[:-n_top_words - 1:-1]]))"
      ],
      "execution_count": 17,
      "outputs": []
    },
    {
      "cell_type": "code",
      "metadata": {
        "id": "Ugizp_hhFpzm"
      },
      "source": [
        "from sklearn.decomposition import LatentDirichletAllocation as LDA\n"
      ],
      "execution_count": 18,
      "outputs": []
    },
    {
      "cell_type": "code",
      "metadata": {
        "colab": {
          "base_uri": "https://localhost:8080/"
        },
        "id": "oWtTkYX1Ftia",
        "outputId": "cfb758be-6b13-422c-ed07-fb00eccfc106"
      },
      "source": [
        "number_topics = 30\n",
        "number_words = 10\n",
        "# Create and fit the LDA model\n",
        "lda = LDA(n_components=number_topics, n_jobs=-1)\n",
        "lda.fit(count_data)\n",
        "# Print the topics found by the LDA model\n",
        "print(\"Topics found via LDA:\")\n",
        "print_topics(lda, count_vectorizer, number_words)"
      ],
      "execution_count": 19,
      "outputs": [
        {
          "output_type": "stream",
          "text": [
            "Topics found via LDA:\n",
            "\n",
            "Topic #0:\n",
            "card driver line subject organ video write mode post work\n",
            "\n",
            "Topic #1:\n",
            "write moral subject line organ think articl object post caltech\n",
            "\n",
            "Topic #2:\n",
            "organ line write subject pitt articl bank gordon post nntp\n",
            "\n",
            "Topic #3:\n",
            "access digex subject line organ post write nntp host insur\n",
            "\n",
            "Topic #4:\n",
            "line organ subject henri toronto post radar write detector netcom\n",
            "\n",
            "Topic #5:\n",
            "line subject organ know work problem drive write scsi appl\n",
            "\n",
            "Topic #6:\n",
            "game team year player line play think organ subject season\n",
            "\n",
            "Topic #7:\n",
            "line subject organ sale univers post host nntp columbia mail\n",
            "\n",
            "Topic #8:\n",
            "ohio cleveland cwru state subject organ line articl freenet write\n",
            "\n",
            "Topic #9:\n",
            "line subject organ like write bike articl drive good look\n",
            "\n",
            "Topic #10:\n",
            "organ subject line post articl write nntp david host know\n",
            "\n",
            "Topic #11:\n",
            "write know believ subject line bibl say think organ truth\n",
            "\n",
            "Topic #12:\n",
            "church cathol time pope american european organ south like think\n",
            "\n",
            "Topic #13:\n",
            "jpeg line subject imag organ post mark write articl berkeley\n",
            "\n",
            "Topic #14:\n",
            "encrypt chip secur clipper file key entri govern line escrow\n",
            "\n",
            "Topic #15:\n",
            "window line subject organ host mous problem univers font post\n",
            "\n",
            "Topic #16:\n",
            "israel isra say peopl arab jew know go think come\n",
            "\n",
            "Topic #17:\n",
            "widget line colormap valu visual color subject point applic organ\n",
            "\n",
            "Topic #18:\n",
            "exist question peopl reason think subject organ mean argument evid\n",
            "\n",
            "Topic #19:\n",
            "space nasa orbit launch satellit year center program earth moon\n",
            "\n",
            "Topic #20:\n",
            "line subject organ andrew post scsi host nntp univers write\n",
            "\n",
            "Topic #21:\n",
            "write organ subject post line articl like know peopl food\n",
            "\n",
            "Topic #22:\n",
            "line subject univers organ gatech georgia uchicago michael prism write\n",
            "\n",
            "Topic #23:\n",
            "write articl cramer optilink organ subject line clayton informatik opinion\n",
            "\n",
            "Topic #24:\n",
            "christian jesus peopl write religion think believ say know christ\n",
            "\n",
            "Topic #25:\n",
            "file program window mail imag avail disk version softwar data\n",
            "\n",
            "Topic #26:\n",
            "write line organ subject articl post clinton think nntp host\n",
            "\n",
            "Topic #27:\n",
            "peopl armenian state govern right turkish say think time weapon\n",
            "\n",
            "Topic #28:\n",
            "play team goal period hockey game score power player pittsburgh\n",
            "\n",
            "Topic #29:\n",
            "articl write organ subject line post drug nntp host good\n"
          ],
          "name": "stdout"
        }
      ]
    },
    {
      "cell_type": "code",
      "metadata": {
        "colab": {
          "base_uri": "https://localhost:8080/",
          "height": 198
        },
        "id": "LrPaQEiuGRt3",
        "outputId": "3d48a81b-5c7c-43a7-ced0-16cad039c594"
      },
      "source": [
        "cluster_probabilities = lda.transform(count_data)\n",
        "data_processed['target'] = np.argmax(cluster_probabilities, axis=1)\n",
        "data_processed.head()"
      ],
      "execution_count": 20,
      "outputs": [
        {
          "output_type": "execute_result",
          "data": {
            "text/html": [
              "<div>\n",
              "<style scoped>\n",
              "    .dataframe tbody tr th:only-of-type {\n",
              "        vertical-align: middle;\n",
              "    }\n",
              "\n",
              "    .dataframe tbody tr th {\n",
              "        vertical-align: top;\n",
              "    }\n",
              "\n",
              "    .dataframe thead th {\n",
              "        text-align: right;\n",
              "    }\n",
              "</style>\n",
              "<table border=\"1\" class=\"dataframe\">\n",
              "  <thead>\n",
              "    <tr style=\"text-align: right;\">\n",
              "      <th></th>\n",
              "      <th>content</th>\n",
              "      <th>target</th>\n",
              "    </tr>\n",
              "  </thead>\n",
              "  <tbody>\n",
              "    <tr>\n",
              "      <th>0</th>\n",
              "      <td>lerxst thing subject nntp post host organ univ...</td>\n",
              "      <td>15</td>\n",
              "    </tr>\n",
              "    <tr>\n",
              "      <th>1</th>\n",
              "      <td>guykuo carson washington subject clock poll fi...</td>\n",
              "      <td>5</td>\n",
              "    </tr>\n",
              "    <tr>\n",
              "      <th>2</th>\n",
              "      <td>twilli purdu thoma willi subject question orga...</td>\n",
              "      <td>5</td>\n",
              "    </tr>\n",
              "    <tr>\n",
              "      <th>3</th>\n",
              "      <td>jgreen amber green subject weitek organ harri ...</td>\n",
              "      <td>26</td>\n",
              "    </tr>\n",
              "    <tr>\n",
              "      <th>4</th>\n",
              "      <td>head harvard jonathan mcdowel subject shuttl l...</td>\n",
              "      <td>10</td>\n",
              "    </tr>\n",
              "  </tbody>\n",
              "</table>\n",
              "</div>"
            ],
            "text/plain": [
              "                                             content  target\n",
              "0  lerxst thing subject nntp post host organ univ...      15\n",
              "1  guykuo carson washington subject clock poll fi...       5\n",
              "2  twilli purdu thoma willi subject question orga...       5\n",
              "3  jgreen amber green subject weitek organ harri ...      26\n",
              "4  head harvard jonathan mcdowel subject shuttl l...      10"
            ]
          },
          "metadata": {
            "tags": []
          },
          "execution_count": 20
        }
      ]
    },
    {
      "cell_type": "code",
      "metadata": {
        "id": "oJNJOHB9GkKP"
      },
      "source": [
        "import seaborn as sns\n"
      ],
      "execution_count": 21,
      "outputs": []
    },
    {
      "cell_type": "code",
      "metadata": {
        "colab": {
          "base_uri": "https://localhost:8080/",
          "height": 593
        },
        "id": "At3W9AMVGnga",
        "outputId": "f7067c0d-7ffa-422b-e426-59a2c9bcb5af"
      },
      "source": [
        "fig, ax = plt.subplots(figsize=(20, 10))\n",
        "sns.countplot(x=data_processed.target);\n",
        "ax.set_title(\"Number of articles that correspond to the topic\");\n"
      ],
      "execution_count": 22,
      "outputs": [
        {
          "output_type": "display_data",
          "data": {
            "image/png": "[encoded data removed]",
            "text/plain": [
              "<Figure size 1440x720 with 1 Axes>"
            ]
          },
          "metadata": {
            "tags": [],
            "needs_background": "light"
          }
        }
      ]
    },
    {
      "cell_type": "code",
      "metadata": {
        "id": "kJ07JMrCRAYx",
        "colab": {
          "base_uri": "https://localhost:8080/"
        },
        "outputId": "36577d84-bc54-43b7-8cc3-b3d0c552a78f"
      },
      "source": [
        "#Loading the data set - training data.\n",
        "from sklearn.datasets import fetch_20newsgroups\n",
        "mydata_train = fetch_20newsgroups(subset='train', shuffle=True, remove = ('headers', 'footers', 'quotes'))"
      ],
      "execution_count": 23,
      "outputs": [
        {
          "output_type": "stream",
          "text": [
            "Downloading 20news dataset. This may take a few minutes.\n",
            "Downloading dataset from https://ndownloader.figshare.com/files/5975967 (14 MB)\n"
          ],
          "name": "stderr"
        }
      ]
    },
    {
      "cell_type": "code",
      "metadata": {
        "colab": {
          "base_uri": "https://localhost:8080/"
        },
        "id": "Bpyae_wBRHIU",
        "outputId": "32e29a84-e5ca-4f75-c6d8-1de32d492d31"
      },
      "source": [
        "list(mydata_train)\n"
      ],
      "execution_count": 24,
      "outputs": [
        {
          "output_type": "execute_result",
          "data": {
            "text/plain": [
              "['data', 'filenames', 'target_names', 'target', 'DESCR']"
            ]
          },
          "metadata": {
            "tags": []
          },
          "execution_count": 24
        }
      ]
    },
    {
      "cell_type": "code",
      "metadata": {
        "colab": {
          "base_uri": "https://localhost:8080/"
        },
        "id": "WsmrhUPeRJ9l",
        "outputId": "a24c0cf0-1c3c-4c8f-dcf2-a94106da7c65"
      },
      "source": [
        "print('Training data size:', len(mydata_train['data']))\n"
      ],
      "execution_count": 25,
      "outputs": [
        {
          "output_type": "stream",
          "text": [
            "Training data size: 11314\n"
          ],
          "name": "stdout"
        }
      ]
    },
    {
      "cell_type": "code",
      "metadata": {
        "colab": {
          "base_uri": "https://localhost:8080/"
        },
        "id": "Nv1WrOdSRONT",
        "outputId": "21024e15-57de-4c5d-896e-461e6decfeaf"
      },
      "source": [
        "# Printing all the categories\n",
        "mydata_train.target_names"
      ],
      "execution_count": 26,
      "outputs": [
        {
          "output_type": "execute_result",
          "data": {
            "text/plain": [
              "['alt.atheism',\n",
              " 'comp.graphics',\n",
              " 'comp.os.ms-windows.misc',\n",
              " 'comp.sys.ibm.pc.hardware',\n",
              " 'comp.sys.mac.hardware',\n",
              " 'comp.windows.x',\n",
              " 'misc.forsale',\n",
              " 'rec.autos',\n",
              " 'rec.motorcycles',\n",
              " 'rec.sport.baseball',\n",
              " 'rec.sport.hockey',\n",
              " 'sci.crypt',\n",
              " 'sci.electronics',\n",
              " 'sci.med',\n",
              " 'sci.space',\n",
              " 'soc.religion.christian',\n",
              " 'talk.politics.guns',\n",
              " 'talk.politics.mideast',\n",
              " 'talk.politics.misc',\n",
              " 'talk.religion.misc']"
            ]
          },
          "metadata": {
            "tags": []
          },
          "execution_count": 26
        }
      ]
    },
    {
      "cell_type": "code",
      "metadata": {
        "colab": {
          "base_uri": "https://localhost:8080/"
        },
        "id": "krZedPVlRRxL",
        "outputId": "38828e62-b3ac-47b9-a0e8-5b3d78efdc57"
      },
      "source": [
        "\n",
        "# Finding frequency of each category\n",
        "targets, frequency = np.unique(mydata_train.target, return_counts=True)\n",
        "targets, frequency"
      ],
      "execution_count": 27,
      "outputs": [
        {
          "output_type": "execute_result",
          "data": {
            "text/plain": [
              "(array([ 0,  1,  2,  3,  4,  5,  6,  7,  8,  9, 10, 11, 12, 13, 14, 15, 16,\n",
              "        17, 18, 19]),\n",
              " array([480, 584, 591, 590, 578, 593, 585, 594, 598, 597, 600, 595, 591,\n",
              "        594, 593, 599, 546, 564, 465, 377]))"
            ]
          },
          "metadata": {
            "tags": []
          },
          "execution_count": 27
        }
      ]
    },
    {
      "cell_type": "code",
      "metadata": {
        "colab": {
          "base_uri": "https://localhost:8080/"
        },
        "id": "lSr8qhRVRWTb",
        "outputId": "cc852f30-978a-4c78-f1ff-622e60dd3bb7"
      },
      "source": [
        "targets_str = np.array(mydata_train.target_names)\n",
        "print(list(zip(targets_str, frequency)))"
      ],
      "execution_count": 28,
      "outputs": [
        {
          "output_type": "stream",
          "text": [
            "[('alt.atheism', 480), ('comp.graphics', 584), ('comp.os.ms-windows.misc', 591), ('comp.sys.ibm.pc.hardware', 590), ('comp.sys.mac.hardware', 578), ('comp.windows.x', 593), ('misc.forsale', 585), ('rec.autos', 594), ('rec.motorcycles', 598), ('rec.sport.baseball', 597), ('rec.sport.hockey', 600), ('sci.crypt', 595), ('sci.electronics', 591), ('sci.med', 594), ('sci.space', 593), ('soc.religion.christian', 599), ('talk.politics.guns', 546), ('talk.politics.mideast', 564), ('talk.politics.misc', 465), ('talk.religion.misc', 377)]\n"
          ],
          "name": "stdout"
        }
      ]
    },
    {
      "cell_type": "code",
      "metadata": {
        "id": "1pZ_KnVPRZSm"
      },
      "source": [
        "mydata_test = fetch_20newsgroups(subset='test', shuffle=True, remove = ('headers', 'footers', 'quotes'))\n"
      ],
      "execution_count": 29,
      "outputs": []
    },
    {
      "cell_type": "code",
      "metadata": {
        "colab": {
          "base_uri": "https://localhost:8080/"
        },
        "id": "IEcSYoJmRcUc",
        "outputId": "8db8a57a-a833-498b-e254-2fcfc1fd37ae"
      },
      "source": [
        "print('Testing data size:', len(mydata_test['data']))\n"
      ],
      "execution_count": 30,
      "outputs": [
        {
          "output_type": "stream",
          "text": [
            "Testing data size: 7532\n"
          ],
          "name": "stdout"
        }
      ]
    },
    {
      "cell_type": "code",
      "metadata": {
        "colab": {
          "base_uri": "https://localhost:8080/",
          "height": 198
        },
        "id": "_aSKch0QRf_o",
        "outputId": "bb381ee2-2d6a-4418-8d92-fb9a60057855"
      },
      "source": [
        "mydata_train_df = pd.DataFrame({'data': mydata_train.data, 'target': mydata_train.target})\n",
        "mydata_train_df.head()"
      ],
      "execution_count": 31,
      "outputs": [
        {
          "output_type": "execute_result",
          "data": {
            "text/html": [
              "<div>\n",
              "<style scoped>\n",
              "    .dataframe tbody tr th:only-of-type {\n",
              "        vertical-align: middle;\n",
              "    }\n",
              "\n",
              "    .dataframe tbody tr th {\n",
              "        vertical-align: top;\n",
              "    }\n",
              "\n",
              "    .dataframe thead th {\n",
              "        text-align: right;\n",
              "    }\n",
              "</style>\n",
              "<table border=\"1\" class=\"dataframe\">\n",
              "  <thead>\n",
              "    <tr style=\"text-align: right;\">\n",
              "      <th></th>\n",
              "      <th>data</th>\n",
              "      <th>target</th>\n",
              "    </tr>\n",
              "  </thead>\n",
              "  <tbody>\n",
              "    <tr>\n",
              "      <th>0</th>\n",
              "      <td>I was wondering if anyone out there could enli...</td>\n",
              "      <td>7</td>\n",
              "    </tr>\n",
              "    <tr>\n",
              "      <th>1</th>\n",
              "      <td>A fair number of brave souls who upgraded thei...</td>\n",
              "      <td>4</td>\n",
              "    </tr>\n",
              "    <tr>\n",
              "      <th>2</th>\n",
              "      <td>well folks, my mac plus finally gave up the gh...</td>\n",
              "      <td>4</td>\n",
              "    </tr>\n",
              "    <tr>\n",
              "      <th>3</th>\n",
              "      <td>\\nDo you have Weitek's address/phone number?  ...</td>\n",
              "      <td>1</td>\n",
              "    </tr>\n",
              "    <tr>\n",
              "      <th>4</th>\n",
              "      <td>From article &lt;C5owCB.n3p@world.std.com&gt;, by to...</td>\n",
              "      <td>14</td>\n",
              "    </tr>\n",
              "  </tbody>\n",
              "</table>\n",
              "</div>"
            ],
            "text/plain": [
              "                                                data  target\n",
              "0  I was wondering if anyone out there could enli...       7\n",
              "1  A fair number of brave souls who upgraded thei...       4\n",
              "2  well folks, my mac plus finally gave up the gh...       4\n",
              "3  \\nDo you have Weitek's address/phone number?  ...       1\n",
              "4  From article <C5owCB.n3p@world.std.com>, by to...      14"
            ]
          },
          "metadata": {
            "tags": []
          },
          "execution_count": 31
        }
      ]
    },
    {
      "cell_type": "code",
      "metadata": {
        "colab": {
          "base_uri": "https://localhost:8080/",
          "height": 198
        },
        "id": "ttru-cT7Rj9K",
        "outputId": "ec016816-b3a4-4b63-f5aa-d42b1a9b82e8"
      },
      "source": [
        "# Text preprocessing steps - remove numbers, captial letters and punctuation\n",
        "import re\n",
        "import string\n",
        "\n",
        "alphanumeric = lambda x: re.sub(r\"\"\"\\w*\\d\\w*\"\"\", ' ', x)\n",
        "punc_lower = lambda x: re.sub('[%s]' % re.escape(string.punctuation), ' ', x.lower())\n",
        "\n",
        "mydata_train_df['data'] = mydata_train_df.data.map(alphanumeric).map(punc_lower)\n",
        "mydata_train_df.head()"
      ],
      "execution_count": 32,
      "outputs": [
        {
          "output_type": "execute_result",
          "data": {
            "text/html": [
              "<div>\n",
              "<style scoped>\n",
              "    .dataframe tbody tr th:only-of-type {\n",
              "        vertical-align: middle;\n",
              "    }\n",
              "\n",
              "    .dataframe tbody tr th {\n",
              "        vertical-align: top;\n",
              "    }\n",
              "\n",
              "    .dataframe thead th {\n",
              "        text-align: right;\n",
              "    }\n",
              "</style>\n",
              "<table border=\"1\" class=\"dataframe\">\n",
              "  <thead>\n",
              "    <tr style=\"text-align: right;\">\n",
              "      <th></th>\n",
              "      <th>data</th>\n",
              "      <th>target</th>\n",
              "    </tr>\n",
              "  </thead>\n",
              "  <tbody>\n",
              "    <tr>\n",
              "      <th>0</th>\n",
              "      <td>i was wondering if anyone out there could enli...</td>\n",
              "      <td>7</td>\n",
              "    </tr>\n",
              "    <tr>\n",
              "      <th>1</th>\n",
              "      <td>a fair number of brave souls who upgraded thei...</td>\n",
              "      <td>4</td>\n",
              "    </tr>\n",
              "    <tr>\n",
              "      <th>2</th>\n",
              "      <td>well folks  my mac plus finally gave up the gh...</td>\n",
              "      <td>4</td>\n",
              "    </tr>\n",
              "    <tr>\n",
              "      <th>3</th>\n",
              "      <td>\\ndo you have weitek s address phone number   ...</td>\n",
              "      <td>1</td>\n",
              "    </tr>\n",
              "    <tr>\n",
              "      <th>4</th>\n",
              "      <td>from article      world std com   by tombaker ...</td>\n",
              "      <td>14</td>\n",
              "    </tr>\n",
              "  </tbody>\n",
              "</table>\n",
              "</div>"
            ],
            "text/plain": [
              "                                                data  target\n",
              "0  i was wondering if anyone out there could enli...       7\n",
              "1  a fair number of brave souls who upgraded thei...       4\n",
              "2  well folks  my mac plus finally gave up the gh...       4\n",
              "3  \\ndo you have weitek s address phone number   ...       1\n",
              "4  from article      world std com   by tombaker ...      14"
            ]
          },
          "metadata": {
            "tags": []
          },
          "execution_count": 32
        }
      ]
    },
    {
      "cell_type": "code",
      "metadata": {
        "colab": {
          "base_uri": "https://localhost:8080/",
          "height": 198
        },
        "id": "8f6jlH07RoBH",
        "outputId": "08cd15ee-6f53-45c1-f921-0d76e5103ad1"
      },
      "source": [
        "mydata_test_df = pd.DataFrame({'data': mydata_test.data, 'target': mydata_test.target})\n",
        "mydata_test_df.head()"
      ],
      "execution_count": 33,
      "outputs": [
        {
          "output_type": "execute_result",
          "data": {
            "text/html": [
              "<div>\n",
              "<style scoped>\n",
              "    .dataframe tbody tr th:only-of-type {\n",
              "        vertical-align: middle;\n",
              "    }\n",
              "\n",
              "    .dataframe tbody tr th {\n",
              "        vertical-align: top;\n",
              "    }\n",
              "\n",
              "    .dataframe thead th {\n",
              "        text-align: right;\n",
              "    }\n",
              "</style>\n",
              "<table border=\"1\" class=\"dataframe\">\n",
              "  <thead>\n",
              "    <tr style=\"text-align: right;\">\n",
              "      <th></th>\n",
              "      <th>data</th>\n",
              "      <th>target</th>\n",
              "    </tr>\n",
              "  </thead>\n",
              "  <tbody>\n",
              "    <tr>\n",
              "      <th>0</th>\n",
              "      <td>I am a little confused on all of the models of...</td>\n",
              "      <td>7</td>\n",
              "    </tr>\n",
              "    <tr>\n",
              "      <th>1</th>\n",
              "      <td>I'm not familiar at all with the format of the...</td>\n",
              "      <td>5</td>\n",
              "    </tr>\n",
              "    <tr>\n",
              "      <th>2</th>\n",
              "      <td>\\nIn a word, yes.\\n</td>\n",
              "      <td>0</td>\n",
              "    </tr>\n",
              "    <tr>\n",
              "      <th>3</th>\n",
              "      <td>\\nThey were attacking the Iraqis to drive them...</td>\n",
              "      <td>17</td>\n",
              "    </tr>\n",
              "    <tr>\n",
              "      <th>4</th>\n",
              "      <td>\\nI've just spent two solid months arguing tha...</td>\n",
              "      <td>19</td>\n",
              "    </tr>\n",
              "  </tbody>\n",
              "</table>\n",
              "</div>"
            ],
            "text/plain": [
              "                                                data  target\n",
              "0  I am a little confused on all of the models of...       7\n",
              "1  I'm not familiar at all with the format of the...       5\n",
              "2                                \\nIn a word, yes.\\n       0\n",
              "3  \\nThey were attacking the Iraqis to drive them...      17\n",
              "4  \\nI've just spent two solid months arguing tha...      19"
            ]
          },
          "metadata": {
            "tags": []
          },
          "execution_count": 33
        }
      ]
    },
    {
      "cell_type": "code",
      "metadata": {
        "colab": {
          "base_uri": "https://localhost:8080/",
          "height": 198
        },
        "id": "tUjU5KP5RrlP",
        "outputId": "b3bbf574-295b-4b46-bfbb-becaa7cae0fb"
      },
      "source": [
        "# Text preprocessing steps - remove numbers, captial letters and punctuation\n",
        "alphanumeric = lambda x: re.sub(r\"\"\"\\w*\\d\\w*\"\"\", ' ', x)\n",
        "punc_lower = lambda x: re.sub('[%s]' % re.escape(string.punctuation), ' ', x.lower())\n",
        "\n",
        "mydata_test_df['data'] = mydata_test_df.data.map(alphanumeric).map(punc_lower)\n",
        "mydata_test_df.head()"
      ],
      "execution_count": 34,
      "outputs": [
        {
          "output_type": "execute_result",
          "data": {
            "text/html": [
              "<div>\n",
              "<style scoped>\n",
              "    .dataframe tbody tr th:only-of-type {\n",
              "        vertical-align: middle;\n",
              "    }\n",
              "\n",
              "    .dataframe tbody tr th {\n",
              "        vertical-align: top;\n",
              "    }\n",
              "\n",
              "    .dataframe thead th {\n",
              "        text-align: right;\n",
              "    }\n",
              "</style>\n",
              "<table border=\"1\" class=\"dataframe\">\n",
              "  <thead>\n",
              "    <tr style=\"text-align: right;\">\n",
              "      <th></th>\n",
              "      <th>data</th>\n",
              "      <th>target</th>\n",
              "    </tr>\n",
              "  </thead>\n",
              "  <tbody>\n",
              "    <tr>\n",
              "      <th>0</th>\n",
              "      <td>i am a little confused on all of the models of...</td>\n",
              "      <td>7</td>\n",
              "    </tr>\n",
              "    <tr>\n",
              "      <th>1</th>\n",
              "      <td>i m not familiar at all with the format of the...</td>\n",
              "      <td>5</td>\n",
              "    </tr>\n",
              "    <tr>\n",
              "      <th>2</th>\n",
              "      <td>\\nin a word  yes \\n</td>\n",
              "      <td>0</td>\n",
              "    </tr>\n",
              "    <tr>\n",
              "      <th>3</th>\n",
              "      <td>\\nthey were attacking the iraqis to drive them...</td>\n",
              "      <td>17</td>\n",
              "    </tr>\n",
              "    <tr>\n",
              "      <th>4</th>\n",
              "      <td>\\ni ve just spent two solid months arguing tha...</td>\n",
              "      <td>19</td>\n",
              "    </tr>\n",
              "  </tbody>\n",
              "</table>\n",
              "</div>"
            ],
            "text/plain": [
              "                                                data  target\n",
              "0  i am a little confused on all of the models of...       7\n",
              "1  i m not familiar at all with the format of the...       5\n",
              "2                                \\nin a word  yes \\n       0\n",
              "3  \\nthey were attacking the iraqis to drive them...      17\n",
              "4  \\ni ve just spent two solid months arguing tha...      19"
            ]
          },
          "metadata": {
            "tags": []
          },
          "execution_count": 34
        }
      ]
    },
    {
      "cell_type": "code",
      "metadata": {
        "colab": {
          "base_uri": "https://localhost:8080/"
        },
        "id": "yUELDX2-bNNg",
        "outputId": "77b28f3f-34a5-4b91-84e9-7f39d8b099c6"
      },
      "source": [
        "# Extracting features from text files\n",
        "from sklearn.feature_extraction.text import CountVectorizer\n",
        "count_vect = CountVectorizer(stop_words='english')\n",
        "X_train_cv = count_vect.fit_transform(mydata_train_df.data) # fit_transform learns the\n",
        "X_test_cv = count_vect.transform(mydata_test_df.data) # transform uses the same vocab an\n",
        "print(X_train_cv.shape)\n",
        "print(type(X_train_cv))"
      ],
      "execution_count": 35,
      "outputs": [
        {
          "output_type": "stream",
          "text": [
            "(11314, 67822)\n",
            "<class 'scipy.sparse.csr.csr_matrix'>\n"
          ],
          "name": "stdout"
        }
      ]
    },
    {
      "cell_type": "code",
      "metadata": {
        "id": "cRUtZ9-VAkiY"
      },
      "source": [
        "import numpy as np\n",
        "\n",
        "from tqdm import tqdm\n",
        "\n",
        "from sklearn.datasets import fetch_20newsgroups\n",
        "\n",
        "from keras.preprocessing.text import Tokenizer\n",
        "from keras.preprocessing.sequence import pad_sequences\n",
        "from keras.utils.np_utils import to_categorical\n",
        "from keras.layers import Dense, Input, Flatten\n",
        "from keras.layers import Conv1D, MaxPooling1D, Embedding, Dropout\n",
        "from keras.models import Model"
      ],
      "execution_count": 36,
      "outputs": []
    },
    {
      "cell_type": "code",
      "metadata": {
        "colab": {
          "base_uri": "https://localhost:8080/"
        },
        "id": "4Oz3FjnHAqOw",
        "outputId": "26dfe924-58ad-4584-9ff5-20dfcdf49cec"
      },
      "source": [
        "categories = ['alt.atheism', 'soc.religion.christian'] \n",
        "\n",
        "newsgroups_train = fetch_20newsgroups(subset='train', shuffle=True, \n",
        "                                      categories=categories,)\n",
        "\n",
        "print (newsgroups_train.target_names)\n",
        "print (len(newsgroups_train.data))\n",
        "\n",
        "#print (newsgroups_train.data[1])\n",
        "print(\"\\n\".join(newsgroups_train.data[0].split(\"\\n\")[10:15]))"
      ],
      "execution_count": 37,
      "outputs": [
        {
          "output_type": "stream",
          "text": [
            "['alt.atheism', 'soc.religion.christian']\n",
            "1079\n",
            "   WASHINGTON, April 19  -- A symposium on the Dead Sea \n",
            "Scrolls will be held at the Library of Congress on Wednesday,\n",
            "April 21, and Thursday, April 22.  The two-day program, cosponsored\n",
            "by the library and Baltimore Hebrew University, with additional\n",
            "support from the Project Judaica Foundation, will be held in the\n"
          ],
          "name": "stdout"
        }
      ]
    },
    {
      "cell_type": "code",
      "metadata": {
        "colab": {
          "base_uri": "https://localhost:8080/"
        },
        "id": "I9VVEyQWAu6m",
        "outputId": "d0bb2c83-e53f-477f-b4d7-98d1b6d091e3"
      },
      "source": [
        "%%time\n",
        "\n",
        "texts = []\n",
        "\n",
        "labels=newsgroups_train.target\n",
        "texts = newsgroups_train.data\n",
        "\n",
        "MAX_SEQUENCE_LENGTH = 1000\n",
        "MAX_NB_WORDS = 20000\n",
        "\n",
        "tokenizer = Tokenizer(num_words=MAX_NB_WORDS)\n",
        "tokenizer.fit_on_texts(texts)\n",
        "\n",
        "sequences = tokenizer.texts_to_sequences(texts)\n",
        "\n",
        "print (sequences[0][:10])"
      ],
      "execution_count": 38,
      "outputs": [
        {
          "output_type": "stream",
          "text": [
            "[19, 8762, 3621, 11894, 58, 8762, 3621, 43, 1472, 2]\n",
            "CPU times: user 415 ms, sys: 6.03 ms, total: 421 ms\n",
            "Wall time: 420 ms\n"
          ],
          "name": "stdout"
        }
      ]
    },
    {
      "cell_type": "code",
      "metadata": {
        "colab": {
          "base_uri": "https://localhost:8080/"
        },
        "id": "8C-jZJV1Ay0E",
        "outputId": "857fd4a0-05d0-494a-b252-d31d271e8e03"
      },
      "source": [
        "word_index = tokenizer.word_index\n",
        "\n",
        "print('Found %s unique tokens.' % len(word_index))"
      ],
      "execution_count": 39,
      "outputs": [
        {
          "output_type": "stream",
          "text": [
            "Found 20030 unique tokens.\n"
          ],
          "name": "stdout"
        }
      ]
    },
    {
      "cell_type": "code",
      "metadata": {
        "colab": {
          "base_uri": "https://localhost:8080/"
        },
        "id": "I3leeqbJA1-q",
        "outputId": "79f432ee-4cef-47c6-e470-71504b4ac29f"
      },
      "source": [
        "data = pad_sequences(sequences, maxlen=MAX_SEQUENCE_LENGTH)\n",
        "\n",
        "print (data.shape)\n",
        "print (data[0][200:250])"
      ],
      "execution_count": 40,
      "outputs": [
        {
          "output_type": "stream",
          "text": [
            "(1079, 1000)\n",
            "[    0     0     0     0     0     0     0     0     0     0     0     0\n",
            "     0     0     0     0     0     0     0     0     0     0     0     0\n",
            "     0     0     0     0     0    19  8762  3621 11894    58  8762  3621\n",
            "    43  1472     2  2130     3   189   450  1001  3622  2980  1682   476\n",
            "   627    50]\n"
          ],
          "name": "stdout"
        }
      ]
    },
    {
      "cell_type": "code",
      "metadata": {
        "colab": {
          "base_uri": "https://localhost:8080/"
        },
        "id": "TATKrjgmA6lK",
        "outputId": "62e60045-72c3-4554-aa1d-dab1de8b1af5"
      },
      "source": [
        "labels = to_categorical(np.array(labels))\n",
        "\n",
        "print('Shape of data tensor:', data.shape)\n",
        "print('Shape of label tensor:', labels.shape)"
      ],
      "execution_count": 41,
      "outputs": [
        {
          "output_type": "stream",
          "text": [
            "Shape of data tensor: (1079, 1000)\n",
            "Shape of label tensor: (1079, 2)\n"
          ],
          "name": "stdout"
        }
      ]
    },
    {
      "cell_type": "code",
      "metadata": {
        "colab": {
          "base_uri": "https://localhost:8080/"
        },
        "id": "tKD1nppNA_cG",
        "outputId": "91c61d7f-6a3d-4494-86a7-311fcec77cdd"
      },
      "source": [
        "VALIDATION_SPLIT = 0.1\n",
        "\n",
        "indices = np.arange(data.shape[0])\n",
        "np.random.shuffle(indices) \n",
        "data = data[indices] \n",
        "labels = labels[indices] \n",
        "nb_validation_samples = int(VALIDATION_SPLIT * data.shape[0])\n",
        "\n",
        "x_train = data[:-nb_validation_samples] \n",
        "y_train = labels[:-nb_validation_samples] \n",
        "x_val = data[-nb_validation_samples:] \n",
        "y_val = labels[-nb_validation_samples:] \n",
        "\n",
        "print (x_train.shape)\n",
        "print (y_train.shape)\n",
        "\n",
        "print('Number of positive and negative reviews in traing and validation set ') \n",
        "print (y_train.sum(axis=0))\n",
        "print (y_val.sum(axis=0))\n"
      ],
      "execution_count": 42,
      "outputs": [
        {
          "output_type": "stream",
          "text": [
            "(972, 1000)\n",
            "(972, 2)\n",
            "Number of positive and negative reviews in traing and validation set \n",
            "[434. 538.]\n",
            "[46. 61.]\n"
          ],
          "name": "stdout"
        }
      ]
    },
    {
      "cell_type": "code",
      "metadata": {
        "colab": {
          "base_uri": "https://localhost:8080/",
          "height": 244
        },
        "id": "1jN7GicoBSkh",
        "outputId": "576a092a-b793-4920-b6ac-2b730b53a03d"
      },
      "source": [
        "EMBEDDING_DIM = 100\n",
        "\n",
        "embedding_matrix = np.random.random((len(word_index) + 1, EMBEDDING_DIM))\n",
        "\n",
        "for word, i in word_index.items():\n",
        "  embedding_vector = embeddings_index.get(word)\n",
        "  if embedding_vector is not None:\n",
        "    # words not found in embedding index will be all-zeros.\n",
        "    embedding_matrix[i] = embedding_vector\n",
        "\n",
        "print (embedding_matrix.shape)\n",
        "\n",
        "print (embedding_matrix[0][:10])"
      ],
      "execution_count": 43,
      "outputs": [
        {
          "output_type": "error",
          "ename": "NameError",
          "evalue": "ignored",
          "traceback": [
            "\u001b[0;31m---------------------------------------------------------------------------\u001b[0m",
            "\u001b[0;31mNameError\u001b[0m                                 Traceback (most recent call last)",
            "\u001b[0;32m<ipython-input-43-6fb53264530f>\u001b[0m in \u001b[0;36m<module>\u001b[0;34m()\u001b[0m\n\u001b[1;32m      4\u001b[0m \u001b[0;34m\u001b[0m\u001b[0m\n\u001b[1;32m      5\u001b[0m \u001b[0;32mfor\u001b[0m \u001b[0mword\u001b[0m\u001b[0;34m,\u001b[0m \u001b[0mi\u001b[0m \u001b[0;32min\u001b[0m \u001b[0mword_index\u001b[0m\u001b[0;34m.\u001b[0m\u001b[0mitems\u001b[0m\u001b[0;34m(\u001b[0m\u001b[0;34m)\u001b[0m\u001b[0;34m:\u001b[0m\u001b[0;34m\u001b[0m\u001b[0;34m\u001b[0m\u001b[0m\n\u001b[0;32m----> 6\u001b[0;31m   \u001b[0membedding_vector\u001b[0m \u001b[0;34m=\u001b[0m \u001b[0membeddings_index\u001b[0m\u001b[0;34m.\u001b[0m\u001b[0mget\u001b[0m\u001b[0;34m(\u001b[0m\u001b[0mword\u001b[0m\u001b[0;34m)\u001b[0m\u001b[0;34m\u001b[0m\u001b[0;34m\u001b[0m\u001b[0m\n\u001b[0m\u001b[1;32m      7\u001b[0m   \u001b[0;32mif\u001b[0m \u001b[0membedding_vector\u001b[0m \u001b[0;32mis\u001b[0m \u001b[0;32mnot\u001b[0m \u001b[0;32mNone\u001b[0m\u001b[0;34m:\u001b[0m\u001b[0;34m\u001b[0m\u001b[0;34m\u001b[0m\u001b[0m\n\u001b[1;32m      8\u001b[0m     \u001b[0;31m# words not found in embedding index will be all-zeros.\u001b[0m\u001b[0;34m\u001b[0m\u001b[0;34m\u001b[0m\u001b[0;34m\u001b[0m\u001b[0m\n",
            "\u001b[0;31mNameError\u001b[0m: name 'embeddings_index' is not defined"
          ]
        }
      ]
    },
    {
      "cell_type": "code",
      "metadata": {
        "colab": {
          "base_uri": "https://localhost:8080/"
        },
        "id": "StT4yPYaBUgr",
        "outputId": "35ed824e-af6c-4fd4-cb42-ceab2db2e6b4"
      },
      "source": [
        "embedding_layer = Embedding(len(word_index) + 1, EMBEDDING_DIM,\n",
        "                            weights=[embedding_matrix], \n",
        "                            input_length=MAX_SEQUENCE_LENGTH, \n",
        "                            trainable=False)\n",
        "\n",
        "sequence_input = Input(shape=(MAX_SEQUENCE_LENGTH,), dtype='int32') \n",
        "embedded_sequences = embedding_layer(sequence_input) \n",
        "l_cov1= Conv1D(128, 5, activation='relu')(embedded_sequences) \n",
        "l_pool1 = MaxPooling1D(5)(l_cov1) \n",
        "l_cov2 = Conv1D(128, 5, activation='relu')(l_pool1) \n",
        "l_pool2 = MaxPooling1D(5)(l_cov2) \n",
        "l_cov3 = Conv1D(128, 5, activation='relu')(l_pool2) \n",
        "l_pool3 = MaxPooling1D(35)(l_cov3)  # global max pooling\n",
        "\n",
        "l_flat = Flatten()(l_pool3) \n",
        "l_dense = Dense(128, activation='relu')(l_flat) \n",
        "preds = Dense(2, activation='softmax')(l_dense)\n",
        "\n",
        "model = Model(sequence_input, preds)\n",
        "\n",
        "model.summary()"
      ],
      "execution_count": 44,
      "outputs": [
        {
          "output_type": "stream",
          "text": [
            "Model: \"model\"\n",
            "_________________________________________________________________\n",
            "Layer (type)                 Output Shape              Param #   \n",
            "=================================================================\n",
            "input_1 (InputLayer)         [(None, 1000)]            0         \n",
            "_________________________________________________________________\n",
            "embedding (Embedding)        (None, 1000, 100)         2003100   \n",
            "_________________________________________________________________\n",
            "conv1d (Conv1D)              (None, 996, 128)          64128     \n",
            "_________________________________________________________________\n",
            "max_pooling1d (MaxPooling1D) (None, 199, 128)          0         \n",
            "_________________________________________________________________\n",
            "conv1d_1 (Conv1D)            (None, 195, 128)          82048     \n",
            "_________________________________________________________________\n",
            "max_pooling1d_1 (MaxPooling1 (None, 39, 128)           0         \n",
            "_________________________________________________________________\n",
            "conv1d_2 (Conv1D)            (None, 35, 128)           82048     \n",
            "_________________________________________________________________\n",
            "max_pooling1d_2 (MaxPooling1 (None, 1, 128)            0         \n",
            "_________________________________________________________________\n",
            "flatten (Flatten)            (None, 128)               0         \n",
            "_________________________________________________________________\n",
            "dense (Dense)                (None, 128)               16512     \n",
            "_________________________________________________________________\n",
            "dense_1 (Dense)              (None, 2)                 258       \n",
            "=================================================================\n",
            "Total params: 2,248,094\n",
            "Trainable params: 244,994\n",
            "Non-trainable params: 2,003,100\n",
            "_________________________________________________________________\n"
          ],
          "name": "stdout"
        }
      ]
    },
    {
      "cell_type": "code",
      "metadata": {
        "colab": {
          "base_uri": "https://localhost:8080/"
        },
        "id": "ohWKe6xrBfGj",
        "outputId": "b2ef2c3d-16e1-4040-8d51-a378c489bf47"
      },
      "source": [
        "model.compile(loss='categorical_crossentropy', optimizer='adam',metrics=['acc'])\n",
        "\n",
        "history = model.fit(x_train, y_train, validation_data=(x_val, y_val),\n",
        "                    epochs=500, batch_size=512)   "
      ],
      "execution_count": 45,
      "outputs": [
        {
          "output_type": "stream",
          "text": [
            "Epoch 1/500\n",
            "2/2 [==============================] - 35s 1s/step - loss: 0.6890 - acc: 0.5311 - val_loss: 0.8172 - val_acc: 0.5701\n",
            "Epoch 2/500\n",
            "2/2 [==============================] - 0s 162ms/step - loss: 0.7910 - acc: 0.5565 - val_loss: 0.7129 - val_acc: 0.4299\n",
            "Epoch 3/500\n",
            "2/2 [==============================] - 0s 161ms/step - loss: 0.7044 - acc: 0.4539 - val_loss: 0.6809 - val_acc: 0.5701\n",
            "Epoch 4/500\n",
            "2/2 [==============================] - 0s 167ms/step - loss: 0.6867 - acc: 0.5474 - val_loss: 0.6826 - val_acc: 0.5701\n",
            "Epoch 5/500\n",
            "2/2 [==============================] - 0s 161ms/step - loss: 0.6880 - acc: 0.5519 - val_loss: 0.6859 - val_acc: 0.5607\n",
            "Epoch 6/500\n",
            "2/2 [==============================] - 0s 162ms/step - loss: 0.6854 - acc: 0.5758 - val_loss: 0.6792 - val_acc: 0.5701\n",
            "Epoch 7/500\n",
            "2/2 [==============================] - 0s 160ms/step - loss: 0.6821 - acc: 0.5519 - val_loss: 0.6781 - val_acc: 0.5701\n",
            "Epoch 8/500\n",
            "2/2 [==============================] - 0s 163ms/step - loss: 0.6836 - acc: 0.5488 - val_loss: 0.6779 - val_acc: 0.5701\n",
            "Epoch 9/500\n",
            "2/2 [==============================] - 0s 162ms/step - loss: 0.6801 - acc: 0.5604 - val_loss: 0.6755 - val_acc: 0.5701\n",
            "Epoch 10/500\n",
            "2/2 [==============================] - 0s 161ms/step - loss: 0.6826 - acc: 0.5791 - val_loss: 0.6799 - val_acc: 0.6262\n",
            "Epoch 11/500\n",
            "2/2 [==============================] - 0s 163ms/step - loss: 0.6762 - acc: 0.6027 - val_loss: 0.6724 - val_acc: 0.5701\n",
            "Epoch 12/500\n",
            "2/2 [==============================] - 0s 161ms/step - loss: 0.6741 - acc: 0.5526 - val_loss: 0.6694 - val_acc: 0.5701\n",
            "Epoch 13/500\n",
            "2/2 [==============================] - 0s 161ms/step - loss: 0.6726 - acc: 0.6126 - val_loss: 0.6695 - val_acc: 0.6636\n",
            "Epoch 14/500\n",
            "2/2 [==============================] - 0s 166ms/step - loss: 0.6680 - acc: 0.6272 - val_loss: 0.6620 - val_acc: 0.5701\n",
            "Epoch 15/500\n",
            "2/2 [==============================] - 0s 161ms/step - loss: 0.6561 - acc: 0.5729 - val_loss: 0.6672 - val_acc: 0.7850\n",
            "Epoch 16/500\n",
            "2/2 [==============================] - 0s 162ms/step - loss: 0.6565 - acc: 0.8007 - val_loss: 0.6519 - val_acc: 0.5701\n",
            "Epoch 17/500\n",
            "2/2 [==============================] - 0s 163ms/step - loss: 0.6461 - acc: 0.5694 - val_loss: 0.6473 - val_acc: 0.7477\n",
            "Epoch 18/500\n",
            "2/2 [==============================] - 0s 166ms/step - loss: 0.6394 - acc: 0.7560 - val_loss: 0.6360 - val_acc: 0.5981\n",
            "Epoch 19/500\n",
            "2/2 [==============================] - 0s 162ms/step - loss: 0.6256 - acc: 0.5857 - val_loss: 0.6299 - val_acc: 0.8131\n",
            "Epoch 20/500\n",
            "2/2 [==============================] - 0s 164ms/step - loss: 0.6137 - acc: 0.8369 - val_loss: 0.6199 - val_acc: 0.5888\n",
            "Epoch 21/500\n",
            "2/2 [==============================] - 0s 164ms/step - loss: 0.6035 - acc: 0.6034 - val_loss: 0.6548 - val_acc: 0.4673\n",
            "Epoch 22/500\n",
            "2/2 [==============================] - 0s 164ms/step - loss: 0.6023 - acc: 0.6257 - val_loss: 0.6048 - val_acc: 0.6075\n",
            "Epoch 23/500\n",
            "2/2 [==============================] - 0s 163ms/step - loss: 0.5898 - acc: 0.6655 - val_loss: 0.5969 - val_acc: 0.6729\n",
            "Epoch 24/500\n",
            "2/2 [==============================] - 0s 160ms/step - loss: 0.5531 - acc: 0.7911 - val_loss: 0.5422 - val_acc: 0.7757\n",
            "Epoch 25/500\n",
            "2/2 [==============================] - 0s 161ms/step - loss: 0.5094 - acc: 0.8194 - val_loss: 0.5387 - val_acc: 0.8598\n",
            "Epoch 26/500\n",
            "2/2 [==============================] - 0s 162ms/step - loss: 0.5056 - acc: 0.8578 - val_loss: 0.5152 - val_acc: 0.8879\n",
            "Epoch 27/500\n",
            "2/2 [==============================] - 0s 165ms/step - loss: 0.4595 - acc: 0.9148 - val_loss: 0.4643 - val_acc: 0.8505\n",
            "Epoch 28/500\n",
            "2/2 [==============================] - 0s 165ms/step - loss: 0.4193 - acc: 0.8843 - val_loss: 0.4342 - val_acc: 0.8505\n",
            "Epoch 29/500\n",
            "2/2 [==============================] - 0s 162ms/step - loss: 0.3895 - acc: 0.8913 - val_loss: 0.4154 - val_acc: 0.8318\n",
            "Epoch 30/500\n",
            "2/2 [==============================] - 0s 163ms/step - loss: 0.4192 - acc: 0.7796 - val_loss: 0.5571 - val_acc: 0.7103\n",
            "Epoch 31/500\n",
            "2/2 [==============================] - 0s 163ms/step - loss: 0.4821 - acc: 0.7541 - val_loss: 0.7686 - val_acc: 0.4299\n",
            "Epoch 32/500\n",
            "2/2 [==============================] - 0s 162ms/step - loss: 0.5326 - acc: 0.6196 - val_loss: 0.4973 - val_acc: 0.7383\n",
            "Epoch 33/500\n",
            "2/2 [==============================] - 0s 165ms/step - loss: 0.4575 - acc: 0.7582 - val_loss: 0.4002 - val_acc: 0.8972\n",
            "Epoch 34/500\n",
            "2/2 [==============================] - 0s 165ms/step - loss: 0.3619 - acc: 0.8920 - val_loss: 0.3863 - val_acc: 0.9159\n",
            "Epoch 35/500\n",
            "2/2 [==============================] - 0s 168ms/step - loss: 0.3231 - acc: 0.9173 - val_loss: 0.3827 - val_acc: 0.8318\n",
            "Epoch 36/500\n",
            "2/2 [==============================] - 0s 173ms/step - loss: 0.3437 - acc: 0.8353 - val_loss: 0.3830 - val_acc: 0.9065\n",
            "Epoch 37/500\n",
            "2/2 [==============================] - 0s 161ms/step - loss: 0.3148 - acc: 0.9394 - val_loss: 0.3170 - val_acc: 0.8879\n",
            "Epoch 38/500\n",
            "2/2 [==============================] - 0s 162ms/step - loss: 0.2705 - acc: 0.9108 - val_loss: 0.3057 - val_acc: 0.8879\n",
            "Epoch 39/500\n",
            "2/2 [==============================] - 0s 166ms/step - loss: 0.2385 - acc: 0.9205 - val_loss: 0.3768 - val_acc: 0.8505\n",
            "Epoch 40/500\n",
            "2/2 [==============================] - 0s 166ms/step - loss: 0.2605 - acc: 0.9427 - val_loss: 0.2923 - val_acc: 0.8879\n",
            "Epoch 41/500\n",
            "2/2 [==============================] - 0s 166ms/step - loss: 0.2341 - acc: 0.9010 - val_loss: 0.2944 - val_acc: 0.9159\n",
            "Epoch 42/500\n",
            "2/2 [==============================] - 0s 163ms/step - loss: 0.2140 - acc: 0.9488 - val_loss: 0.2671 - val_acc: 0.8972\n",
            "Epoch 43/500\n",
            "2/2 [==============================] - 0s 166ms/step - loss: 0.2099 - acc: 0.9054 - val_loss: 0.2643 - val_acc: 0.9252\n",
            "Epoch 44/500\n",
            "2/2 [==============================] - 0s 164ms/step - loss: 0.1833 - acc: 0.9500 - val_loss: 0.2580 - val_acc: 0.9346\n",
            "Epoch 45/500\n",
            "2/2 [==============================] - 0s 163ms/step - loss: 0.1729 - acc: 0.9419 - val_loss: 0.2467 - val_acc: 0.9065\n",
            "Epoch 46/500\n",
            "2/2 [==============================] - 0s 164ms/step - loss: 0.1636 - acc: 0.9483 - val_loss: 0.2621 - val_acc: 0.9252\n",
            "Epoch 47/500\n",
            "2/2 [==============================] - 0s 164ms/step - loss: 0.1565 - acc: 0.9533 - val_loss: 0.2325 - val_acc: 0.9159\n",
            "Epoch 48/500\n",
            "2/2 [==============================] - 0s 165ms/step - loss: 0.1431 - acc: 0.9496 - val_loss: 0.2576 - val_acc: 0.9346\n",
            "Epoch 49/500\n",
            "2/2 [==============================] - 0s 161ms/step - loss: 0.1381 - acc: 0.9716 - val_loss: 0.2214 - val_acc: 0.9252\n",
            "Epoch 50/500\n",
            "2/2 [==============================] - 0s 169ms/step - loss: 0.1297 - acc: 0.9510 - val_loss: 0.2275 - val_acc: 0.9439\n",
            "Epoch 51/500\n",
            "2/2 [==============================] - 0s 162ms/step - loss: 0.1196 - acc: 0.9730 - val_loss: 0.2049 - val_acc: 0.9533\n",
            "Epoch 52/500\n",
            "2/2 [==============================] - 0s 165ms/step - loss: 0.1031 - acc: 0.9716 - val_loss: 0.2171 - val_acc: 0.9439\n",
            "Epoch 53/500\n",
            "2/2 [==============================] - 0s 161ms/step - loss: 0.1056 - acc: 0.9791 - val_loss: 0.1937 - val_acc: 0.9626\n",
            "Epoch 54/500\n",
            "2/2 [==============================] - 0s 169ms/step - loss: 0.0936 - acc: 0.9757 - val_loss: 0.1985 - val_acc: 0.9533\n",
            "Epoch 55/500\n",
            "2/2 [==============================] - 0s 166ms/step - loss: 0.0894 - acc: 0.9818 - val_loss: 0.1867 - val_acc: 0.9533\n",
            "Epoch 56/500\n",
            "2/2 [==============================] - 0s 166ms/step - loss: 0.0833 - acc: 0.9852 - val_loss: 0.1820 - val_acc: 0.9533\n",
            "Epoch 57/500\n",
            "2/2 [==============================] - 0s 167ms/step - loss: 0.0782 - acc: 0.9791 - val_loss: 0.1782 - val_acc: 0.9533\n",
            "Epoch 58/500\n",
            "2/2 [==============================] - 0s 164ms/step - loss: 0.0716 - acc: 0.9885 - val_loss: 0.1746 - val_acc: 0.9533\n",
            "Epoch 59/500\n",
            "2/2 [==============================] - 0s 162ms/step - loss: 0.0690 - acc: 0.9832 - val_loss: 0.1743 - val_acc: 0.9533\n",
            "Epoch 60/500\n",
            "2/2 [==============================] - 0s 161ms/step - loss: 0.0648 - acc: 0.9906 - val_loss: 0.1698 - val_acc: 0.9533\n",
            "Epoch 61/500\n",
            "2/2 [==============================] - 0s 163ms/step - loss: 0.0589 - acc: 0.9878 - val_loss: 0.1681 - val_acc: 0.9533\n",
            "Epoch 62/500\n",
            "2/2 [==============================] - 0s 164ms/step - loss: 0.0521 - acc: 0.9912 - val_loss: 0.1688 - val_acc: 0.9533\n",
            "Epoch 63/500\n",
            "2/2 [==============================] - 0s 164ms/step - loss: 0.0509 - acc: 0.9926 - val_loss: 0.1669 - val_acc: 0.9626\n",
            "Epoch 64/500\n",
            "2/2 [==============================] - 0s 168ms/step - loss: 0.0484 - acc: 0.9912 - val_loss: 0.1690 - val_acc: 0.9533\n",
            "Epoch 65/500\n",
            "2/2 [==============================] - 0s 161ms/step - loss: 0.0459 - acc: 0.9926 - val_loss: 0.1725 - val_acc: 0.9533\n",
            "Epoch 66/500\n",
            "2/2 [==============================] - 0s 165ms/step - loss: 0.0464 - acc: 0.9879 - val_loss: 0.1713 - val_acc: 0.9533\n",
            "Epoch 67/500\n",
            "2/2 [==============================] - 0s 164ms/step - loss: 0.0419 - acc: 0.9980 - val_loss: 0.1648 - val_acc: 0.9626\n",
            "Epoch 68/500\n",
            "2/2 [==============================] - 0s 167ms/step - loss: 0.0380 - acc: 0.9899 - val_loss: 0.1630 - val_acc: 0.9533\n",
            "Epoch 69/500\n",
            "2/2 [==============================] - 0s 163ms/step - loss: 0.0371 - acc: 0.9980 - val_loss: 0.1667 - val_acc: 0.9533\n",
            "Epoch 70/500\n",
            "2/2 [==============================] - 0s 168ms/step - loss: 0.0396 - acc: 0.9913 - val_loss: 0.1590 - val_acc: 0.9533\n",
            "Epoch 71/500\n",
            "2/2 [==============================] - 0s 166ms/step - loss: 0.0327 - acc: 0.9980 - val_loss: 0.1568 - val_acc: 0.9533\n",
            "Epoch 72/500\n",
            "2/2 [==============================] - 0s 169ms/step - loss: 0.0296 - acc: 0.9960 - val_loss: 0.1553 - val_acc: 0.9533\n",
            "Epoch 73/500\n",
            "2/2 [==============================] - 0s 166ms/step - loss: 0.0288 - acc: 0.9966 - val_loss: 0.1551 - val_acc: 0.9533\n",
            "Epoch 74/500\n",
            "2/2 [==============================] - 0s 164ms/step - loss: 0.0293 - acc: 0.9973 - val_loss: 0.1640 - val_acc: 0.9626\n",
            "Epoch 75/500\n",
            "2/2 [==============================] - 0s 163ms/step - loss: 0.0269 - acc: 0.9953 - val_loss: 0.1561 - val_acc: 0.9533\n",
            "Epoch 76/500\n",
            "2/2 [==============================] - 0s 165ms/step - loss: 0.0253 - acc: 0.9980 - val_loss: 0.1564 - val_acc: 0.9533\n",
            "Epoch 77/500\n",
            "2/2 [==============================] - 0s 167ms/step - loss: 0.0240 - acc: 0.9966 - val_loss: 0.1558 - val_acc: 0.9626\n",
            "Epoch 78/500\n",
            "2/2 [==============================] - 0s 167ms/step - loss: 0.0226 - acc: 0.9980 - val_loss: 0.1529 - val_acc: 0.9533\n",
            "Epoch 79/500\n",
            "2/2 [==============================] - 0s 167ms/step - loss: 0.0202 - acc: 0.9986 - val_loss: 0.1596 - val_acc: 0.9626\n",
            "Epoch 80/500\n",
            "2/2 [==============================] - 0s 165ms/step - loss: 0.0226 - acc: 0.9973 - val_loss: 0.1517 - val_acc: 0.9533\n",
            "Epoch 81/500\n",
            "2/2 [==============================] - 0s 162ms/step - loss: 0.0218 - acc: 0.9987 - val_loss: 0.1536 - val_acc: 0.9533\n",
            "Epoch 82/500\n",
            "2/2 [==============================] - 0s 168ms/step - loss: 0.0190 - acc: 0.9980 - val_loss: 0.1500 - val_acc: 0.9533\n",
            "Epoch 83/500\n",
            "2/2 [==============================] - 0s 164ms/step - loss: 0.0192 - acc: 0.9987 - val_loss: 0.1556 - val_acc: 0.9626\n",
            "Epoch 84/500\n",
            "2/2 [==============================] - 0s 162ms/step - loss: 0.0182 - acc: 0.9973 - val_loss: 0.1518 - val_acc: 0.9533\n",
            "Epoch 85/500\n",
            "2/2 [==============================] - 0s 171ms/step - loss: 0.0160 - acc: 0.9987 - val_loss: 0.1509 - val_acc: 0.9533\n",
            "Epoch 86/500\n",
            "2/2 [==============================] - 0s 164ms/step - loss: 0.0149 - acc: 0.9993 - val_loss: 0.1578 - val_acc: 0.9626\n",
            "Epoch 87/500\n",
            "2/2 [==============================] - 0s 166ms/step - loss: 0.0138 - acc: 0.9993 - val_loss: 0.1516 - val_acc: 0.9533\n",
            "Epoch 88/500\n",
            "2/2 [==============================] - 0s 163ms/step - loss: 0.0132 - acc: 0.9993 - val_loss: 0.1513 - val_acc: 0.9533\n",
            "Epoch 89/500\n",
            "2/2 [==============================] - 0s 168ms/step - loss: 0.0120 - acc: 0.9993 - val_loss: 0.1520 - val_acc: 0.9533\n",
            "Epoch 90/500\n",
            "2/2 [==============================] - 0s 166ms/step - loss: 0.0113 - acc: 0.9993 - val_loss: 0.1478 - val_acc: 0.9533\n",
            "Epoch 91/500\n",
            "2/2 [==============================] - 0s 163ms/step - loss: 0.0111 - acc: 0.9993 - val_loss: 0.1479 - val_acc: 0.9533\n",
            "Epoch 92/500\n",
            "2/2 [==============================] - 0s 171ms/step - loss: 0.0108 - acc: 0.9993 - val_loss: 0.1487 - val_acc: 0.9533\n",
            "Epoch 93/500\n",
            "2/2 [==============================] - 0s 165ms/step - loss: 0.0104 - acc: 0.9993 - val_loss: 0.1458 - val_acc: 0.9533\n",
            "Epoch 94/500\n",
            "2/2 [==============================] - 0s 167ms/step - loss: 0.0124 - acc: 0.9987 - val_loss: 0.1516 - val_acc: 0.9626\n",
            "Epoch 95/500\n",
            "2/2 [==============================] - 0s 166ms/step - loss: 0.0114 - acc: 0.9987 - val_loss: 0.1482 - val_acc: 0.9533\n",
            "Epoch 96/500\n",
            "2/2 [==============================] - 0s 162ms/step - loss: 0.0090 - acc: 0.9993 - val_loss: 0.1457 - val_acc: 0.9533\n",
            "Epoch 97/500\n",
            "2/2 [==============================] - 0s 167ms/step - loss: 0.0084 - acc: 0.9993 - val_loss: 0.1582 - val_acc: 0.9626\n",
            "Epoch 98/500\n",
            "2/2 [==============================] - 0s 165ms/step - loss: 0.0085 - acc: 0.9993 - val_loss: 0.1459 - val_acc: 0.9439\n",
            "Epoch 99/500\n",
            "2/2 [==============================] - 0s 168ms/step - loss: 0.0093 - acc: 0.9987 - val_loss: 0.1481 - val_acc: 0.9533\n",
            "Epoch 100/500\n",
            "2/2 [==============================] - 0s 165ms/step - loss: 0.0085 - acc: 0.9987 - val_loss: 0.1451 - val_acc: 0.9533\n",
            "Epoch 101/500\n",
            "2/2 [==============================] - 0s 167ms/step - loss: 0.0084 - acc: 0.9987 - val_loss: 0.1448 - val_acc: 0.9533\n",
            "Epoch 102/500\n",
            "2/2 [==============================] - 0s 165ms/step - loss: 0.0077 - acc: 0.9987 - val_loss: 0.1560 - val_acc: 0.9626\n",
            "Epoch 103/500\n",
            "2/2 [==============================] - 0s 164ms/step - loss: 0.0069 - acc: 0.9993 - val_loss: 0.1459 - val_acc: 0.9439\n",
            "Epoch 104/500\n",
            "2/2 [==============================] - 0s 167ms/step - loss: 0.0068 - acc: 0.9993 - val_loss: 0.1490 - val_acc: 0.9533\n",
            "Epoch 105/500\n",
            "2/2 [==============================] - 0s 167ms/step - loss: 0.0067 - acc: 0.9987 - val_loss: 0.1560 - val_acc: 0.9626\n",
            "Epoch 106/500\n",
            "2/2 [==============================] - 0s 168ms/step - loss: 0.0060 - acc: 0.9993 - val_loss: 0.1480 - val_acc: 0.9439\n",
            "Epoch 107/500\n",
            "2/2 [==============================] - 0s 167ms/step - loss: 0.0067 - acc: 0.9987 - val_loss: 0.1514 - val_acc: 0.9533\n",
            "Epoch 108/500\n",
            "2/2 [==============================] - 0s 164ms/step - loss: 0.0059 - acc: 0.9987 - val_loss: 0.1527 - val_acc: 0.9533\n",
            "Epoch 109/500\n",
            "2/2 [==============================] - 0s 164ms/step - loss: 0.0050 - acc: 0.9993 - val_loss: 0.1476 - val_acc: 0.9439\n",
            "Epoch 110/500\n",
            "2/2 [==============================] - 0s 165ms/step - loss: 0.0052 - acc: 0.9987 - val_loss: 0.1555 - val_acc: 0.9626\n",
            "Epoch 111/500\n",
            "2/2 [==============================] - 0s 164ms/step - loss: 0.0046 - acc: 0.9993 - val_loss: 0.1486 - val_acc: 0.9439\n",
            "Epoch 112/500\n",
            "2/2 [==============================] - 0s 165ms/step - loss: 0.0042 - acc: 1.0000 - val_loss: 0.1487 - val_acc: 0.9439\n",
            "Epoch 113/500\n",
            "2/2 [==============================] - 0s 167ms/step - loss: 0.0046 - acc: 1.0000 - val_loss: 0.1595 - val_acc: 0.9626\n",
            "Epoch 114/500\n",
            "2/2 [==============================] - 0s 167ms/step - loss: 0.0043 - acc: 0.9987 - val_loss: 0.1487 - val_acc: 0.9439\n",
            "Epoch 115/500\n",
            "2/2 [==============================] - 0s 167ms/step - loss: 0.0041 - acc: 1.0000 - val_loss: 0.1495 - val_acc: 0.9439\n",
            "Epoch 116/500\n",
            "2/2 [==============================] - 0s 166ms/step - loss: 0.0035 - acc: 1.0000 - val_loss: 0.1596 - val_acc: 0.9626\n",
            "Epoch 117/500\n",
            "2/2 [==============================] - 0s 163ms/step - loss: 0.0032 - acc: 1.0000 - val_loss: 0.1507 - val_acc: 0.9439\n",
            "Epoch 118/500\n",
            "2/2 [==============================] - 0s 166ms/step - loss: 0.0030 - acc: 1.0000 - val_loss: 0.1517 - val_acc: 0.9439\n",
            "Epoch 119/500\n",
            "2/2 [==============================] - 0s 166ms/step - loss: 0.0031 - acc: 1.0000 - val_loss: 0.1582 - val_acc: 0.9533\n",
            "Epoch 120/500\n",
            "2/2 [==============================] - 0s 165ms/step - loss: 0.0031 - acc: 1.0000 - val_loss: 0.1537 - val_acc: 0.9533\n",
            "Epoch 121/500\n",
            "2/2 [==============================] - 0s 169ms/step - loss: 0.0026 - acc: 1.0000 - val_loss: 0.1516 - val_acc: 0.9439\n",
            "Epoch 122/500\n",
            "2/2 [==============================] - 0s 169ms/step - loss: 0.0026 - acc: 1.0000 - val_loss: 0.1570 - val_acc: 0.9533\n",
            "Epoch 123/500\n",
            "2/2 [==============================] - 0s 169ms/step - loss: 0.0024 - acc: 1.0000 - val_loss: 0.1575 - val_acc: 0.9533\n",
            "Epoch 124/500\n",
            "2/2 [==============================] - 0s 165ms/step - loss: 0.0026 - acc: 1.0000 - val_loss: 0.1540 - val_acc: 0.9439\n",
            "Epoch 125/500\n",
            "2/2 [==============================] - 0s 164ms/step - loss: 0.0023 - acc: 1.0000 - val_loss: 0.1613 - val_acc: 0.9533\n",
            "Epoch 126/500\n",
            "2/2 [==============================] - 0s 168ms/step - loss: 0.0023 - acc: 1.0000 - val_loss: 0.1603 - val_acc: 0.9533\n",
            "Epoch 127/500\n",
            "2/2 [==============================] - 0s 167ms/step - loss: 0.0021 - acc: 1.0000 - val_loss: 0.1572 - val_acc: 0.9439\n",
            "Epoch 128/500\n",
            "2/2 [==============================] - 0s 163ms/step - loss: 0.0021 - acc: 1.0000 - val_loss: 0.1628 - val_acc: 0.9533\n",
            "Epoch 129/500\n",
            "2/2 [==============================] - 0s 163ms/step - loss: 0.0020 - acc: 1.0000 - val_loss: 0.1647 - val_acc: 0.9533\n",
            "Epoch 130/500\n",
            "2/2 [==============================] - 0s 169ms/step - loss: 0.0018 - acc: 1.0000 - val_loss: 0.1591 - val_acc: 0.9439\n",
            "Epoch 131/500\n",
            "2/2 [==============================] - 0s 167ms/step - loss: 0.0017 - acc: 1.0000 - val_loss: 0.1620 - val_acc: 0.9533\n",
            "Epoch 132/500\n",
            "2/2 [==============================] - 0s 163ms/step - loss: 0.0017 - acc: 1.0000 - val_loss: 0.1675 - val_acc: 0.9533\n",
            "Epoch 133/500\n",
            "2/2 [==============================] - 0s 166ms/step - loss: 0.0017 - acc: 1.0000 - val_loss: 0.1624 - val_acc: 0.9439\n",
            "Epoch 134/500\n",
            "2/2 [==============================] - 0s 165ms/step - loss: 0.0014 - acc: 1.0000 - val_loss: 0.1633 - val_acc: 0.9439\n",
            "Epoch 135/500\n",
            "2/2 [==============================] - 0s 166ms/step - loss: 0.0014 - acc: 1.0000 - val_loss: 0.1670 - val_acc: 0.9533\n",
            "Epoch 136/500\n",
            "2/2 [==============================] - 0s 163ms/step - loss: 0.0013 - acc: 1.0000 - val_loss: 0.1640 - val_acc: 0.9439\n",
            "Epoch 137/500\n",
            "2/2 [==============================] - 0s 164ms/step - loss: 0.0015 - acc: 1.0000 - val_loss: 0.1638 - val_acc: 0.9439\n",
            "Epoch 138/500\n",
            "2/2 [==============================] - 0s 164ms/step - loss: 0.0013 - acc: 1.0000 - val_loss: 0.1695 - val_acc: 0.9533\n",
            "Epoch 139/500\n",
            "2/2 [==============================] - 0s 172ms/step - loss: 0.0013 - acc: 1.0000 - val_loss: 0.1691 - val_acc: 0.9533\n",
            "Epoch 140/500\n",
            "2/2 [==============================] - 0s 162ms/step - loss: 0.0013 - acc: 1.0000 - val_loss: 0.1651 - val_acc: 0.9439\n",
            "Epoch 141/500\n",
            "2/2 [==============================] - 0s 169ms/step - loss: 0.0012 - acc: 1.0000 - val_loss: 0.1702 - val_acc: 0.9533\n",
            "Epoch 142/500\n",
            "2/2 [==============================] - 0s 165ms/step - loss: 0.0012 - acc: 1.0000 - val_loss: 0.1716 - val_acc: 0.9533\n",
            "Epoch 143/500\n",
            "2/2 [==============================] - 0s 169ms/step - loss: 0.0012 - acc: 1.0000 - val_loss: 0.1673 - val_acc: 0.9439\n",
            "Epoch 144/500\n",
            "2/2 [==============================] - 0s 166ms/step - loss: 0.0011 - acc: 1.0000 - val_loss: 0.1718 - val_acc: 0.9533\n",
            "Epoch 145/500\n",
            "2/2 [==============================] - 0s 169ms/step - loss: 0.0010 - acc: 1.0000 - val_loss: 0.1718 - val_acc: 0.9533\n",
            "Epoch 146/500\n",
            "2/2 [==============================] - 0s 165ms/step - loss: 9.7119e-04 - acc: 1.0000 - val_loss: 0.1704 - val_acc: 0.9439\n",
            "Epoch 147/500\n",
            "2/2 [==============================] - 0s 171ms/step - loss: 9.0322e-04 - acc: 1.0000 - val_loss: 0.1724 - val_acc: 0.9439\n",
            "Epoch 148/500\n",
            "2/2 [==============================] - 0s 167ms/step - loss: 8.7130e-04 - acc: 1.0000 - val_loss: 0.1747 - val_acc: 0.9533\n",
            "Epoch 149/500\n",
            "2/2 [==============================] - 0s 171ms/step - loss: 8.6325e-04 - acc: 1.0000 - val_loss: 0.1739 - val_acc: 0.9439\n",
            "Epoch 150/500\n",
            "2/2 [==============================] - 0s 167ms/step - loss: 8.3766e-04 - acc: 1.0000 - val_loss: 0.1739 - val_acc: 0.9439\n",
            "Epoch 151/500\n",
            "2/2 [==============================] - 0s 167ms/step - loss: 8.4468e-04 - acc: 1.0000 - val_loss: 0.1741 - val_acc: 0.9439\n",
            "Epoch 152/500\n",
            "2/2 [==============================] - 0s 165ms/step - loss: 8.3763e-04 - acc: 1.0000 - val_loss: 0.1788 - val_acc: 0.9533\n",
            "Epoch 153/500\n",
            "2/2 [==============================] - 0s 171ms/step - loss: 7.7376e-04 - acc: 1.0000 - val_loss: 0.1763 - val_acc: 0.9439\n",
            "Epoch 154/500\n",
            "2/2 [==============================] - 0s 171ms/step - loss: 7.8743e-04 - acc: 1.0000 - val_loss: 0.1740 - val_acc: 0.9439\n",
            "Epoch 155/500\n",
            "2/2 [==============================] - 0s 168ms/step - loss: 7.2220e-04 - acc: 1.0000 - val_loss: 0.1777 - val_acc: 0.9439\n",
            "Epoch 156/500\n",
            "2/2 [==============================] - 0s 170ms/step - loss: 7.0657e-04 - acc: 1.0000 - val_loss: 0.1797 - val_acc: 0.9533\n",
            "Epoch 157/500\n",
            "2/2 [==============================] - 0s 169ms/step - loss: 6.6111e-04 - acc: 1.0000 - val_loss: 0.1774 - val_acc: 0.9439\n",
            "Epoch 158/500\n",
            "2/2 [==============================] - 0s 168ms/step - loss: 6.6841e-04 - acc: 1.0000 - val_loss: 0.1773 - val_acc: 0.9439\n",
            "Epoch 159/500\n",
            "2/2 [==============================] - 0s 170ms/step - loss: 6.5156e-04 - acc: 1.0000 - val_loss: 0.1815 - val_acc: 0.9533\n",
            "Epoch 160/500\n",
            "2/2 [==============================] - 0s 164ms/step - loss: 6.2500e-04 - acc: 1.0000 - val_loss: 0.1812 - val_acc: 0.9439\n",
            "Epoch 161/500\n",
            "2/2 [==============================] - 0s 168ms/step - loss: 6.1228e-04 - acc: 1.0000 - val_loss: 0.1781 - val_acc: 0.9439\n",
            "Epoch 162/500\n",
            "2/2 [==============================] - 0s 166ms/step - loss: 6.1776e-04 - acc: 1.0000 - val_loss: 0.1798 - val_acc: 0.9439\n",
            "Epoch 163/500\n",
            "2/2 [==============================] - 0s 170ms/step - loss: 5.5438e-04 - acc: 1.0000 - val_loss: 0.1851 - val_acc: 0.9533\n",
            "Epoch 164/500\n",
            "2/2 [==============================] - 0s 172ms/step - loss: 5.6187e-04 - acc: 1.0000 - val_loss: 0.1831 - val_acc: 0.9439\n",
            "Epoch 165/500\n",
            "2/2 [==============================] - 0s 170ms/step - loss: 5.2771e-04 - acc: 1.0000 - val_loss: 0.1802 - val_acc: 0.9439\n",
            "Epoch 166/500\n",
            "2/2 [==============================] - 0s 166ms/step - loss: 5.6284e-04 - acc: 1.0000 - val_loss: 0.1823 - val_acc: 0.9439\n",
            "Epoch 167/500\n",
            "2/2 [==============================] - 0s 167ms/step - loss: 5.1548e-04 - acc: 1.0000 - val_loss: 0.1867 - val_acc: 0.9533\n",
            "Epoch 168/500\n",
            "2/2 [==============================] - 0s 169ms/step - loss: 5.1602e-04 - acc: 1.0000 - val_loss: 0.1852 - val_acc: 0.9439\n",
            "Epoch 169/500\n",
            "2/2 [==============================] - 0s 165ms/step - loss: 4.7821e-04 - acc: 1.0000 - val_loss: 0.1835 - val_acc: 0.9439\n",
            "Epoch 170/500\n",
            "2/2 [==============================] - 0s 172ms/step - loss: 4.9277e-04 - acc: 1.0000 - val_loss: 0.1842 - val_acc: 0.9439\n",
            "Epoch 171/500\n",
            "2/2 [==============================] - 0s 167ms/step - loss: 4.6950e-04 - acc: 1.0000 - val_loss: 0.1865 - val_acc: 0.9439\n",
            "Epoch 172/500\n",
            "2/2 [==============================] - 0s 167ms/step - loss: 4.5380e-04 - acc: 1.0000 - val_loss: 0.1867 - val_acc: 0.9439\n",
            "Epoch 173/500\n",
            "2/2 [==============================] - 0s 167ms/step - loss: 4.5354e-04 - acc: 1.0000 - val_loss: 0.1863 - val_acc: 0.9439\n",
            "Epoch 174/500\n",
            "2/2 [==============================] - 0s 168ms/step - loss: 4.4468e-04 - acc: 1.0000 - val_loss: 0.1869 - val_acc: 0.9439\n",
            "Epoch 175/500\n",
            "2/2 [==============================] - 0s 165ms/step - loss: 4.1904e-04 - acc: 1.0000 - val_loss: 0.1881 - val_acc: 0.9439\n",
            "Epoch 176/500\n",
            "2/2 [==============================] - 0s 165ms/step - loss: 4.1638e-04 - acc: 1.0000 - val_loss: 0.1882 - val_acc: 0.9439\n",
            "Epoch 177/500\n",
            "2/2 [==============================] - 0s 169ms/step - loss: 4.1045e-04 - acc: 1.0000 - val_loss: 0.1881 - val_acc: 0.9439\n",
            "Epoch 178/500\n",
            "2/2 [==============================] - 0s 170ms/step - loss: 4.0756e-04 - acc: 1.0000 - val_loss: 0.1897 - val_acc: 0.9439\n",
            "Epoch 179/500\n",
            "2/2 [==============================] - 0s 165ms/step - loss: 4.0050e-04 - acc: 1.0000 - val_loss: 0.1904 - val_acc: 0.9439\n",
            "Epoch 180/500\n",
            "2/2 [==============================] - 0s 169ms/step - loss: 3.7434e-04 - acc: 1.0000 - val_loss: 0.1882 - val_acc: 0.9439\n",
            "Epoch 181/500\n",
            "2/2 [==============================] - 0s 168ms/step - loss: 3.6771e-04 - acc: 1.0000 - val_loss: 0.1895 - val_acc: 0.9439\n",
            "Epoch 182/500\n",
            "2/2 [==============================] - 0s 166ms/step - loss: 3.6181e-04 - acc: 1.0000 - val_loss: 0.1915 - val_acc: 0.9439\n",
            "Epoch 183/500\n",
            "2/2 [==============================] - 0s 166ms/step - loss: 3.7647e-04 - acc: 1.0000 - val_loss: 0.1922 - val_acc: 0.9439\n",
            "Epoch 184/500\n",
            "2/2 [==============================] - 0s 166ms/step - loss: 3.5255e-04 - acc: 1.0000 - val_loss: 0.1909 - val_acc: 0.9439\n",
            "Epoch 185/500\n",
            "2/2 [==============================] - 0s 167ms/step - loss: 3.5823e-04 - acc: 1.0000 - val_loss: 0.1906 - val_acc: 0.9439\n",
            "Epoch 186/500\n",
            "2/2 [==============================] - 0s 169ms/step - loss: 3.4984e-04 - acc: 1.0000 - val_loss: 0.1924 - val_acc: 0.9439\n",
            "Epoch 187/500\n",
            "2/2 [==============================] - 0s 171ms/step - loss: 3.3522e-04 - acc: 1.0000 - val_loss: 0.1934 - val_acc: 0.9439\n",
            "Epoch 188/500\n",
            "2/2 [==============================] - 0s 170ms/step - loss: 3.3787e-04 - acc: 1.0000 - val_loss: 0.1938 - val_acc: 0.9439\n",
            "Epoch 189/500\n",
            "2/2 [==============================] - 0s 169ms/step - loss: 3.1770e-04 - acc: 1.0000 - val_loss: 0.1937 - val_acc: 0.9439\n",
            "Epoch 190/500\n",
            "2/2 [==============================] - 0s 170ms/step - loss: 3.1813e-04 - acc: 1.0000 - val_loss: 0.1935 - val_acc: 0.9439\n",
            "Epoch 191/500\n",
            "2/2 [==============================] - 0s 167ms/step - loss: 3.0715e-04 - acc: 1.0000 - val_loss: 0.1944 - val_acc: 0.9439\n",
            "Epoch 192/500\n",
            "2/2 [==============================] - 0s 170ms/step - loss: 2.8725e-04 - acc: 1.0000 - val_loss: 0.1951 - val_acc: 0.9439\n",
            "Epoch 193/500\n",
            "2/2 [==============================] - 0s 171ms/step - loss: 2.7779e-04 - acc: 1.0000 - val_loss: 0.1953 - val_acc: 0.9439\n",
            "Epoch 194/500\n",
            "2/2 [==============================] - 0s 169ms/step - loss: 2.7751e-04 - acc: 1.0000 - val_loss: 0.1950 - val_acc: 0.9439\n",
            "Epoch 195/500\n",
            "2/2 [==============================] - 0s 173ms/step - loss: 2.8789e-04 - acc: 1.0000 - val_loss: 0.1958 - val_acc: 0.9439\n",
            "Epoch 196/500\n",
            "2/2 [==============================] - 0s 170ms/step - loss: 2.9078e-04 - acc: 1.0000 - val_loss: 0.1960 - val_acc: 0.9439\n",
            "Epoch 197/500\n",
            "2/2 [==============================] - 0s 169ms/step - loss: 2.8924e-04 - acc: 1.0000 - val_loss: 0.1976 - val_acc: 0.9439\n",
            "Epoch 198/500\n",
            "2/2 [==============================] - 0s 172ms/step - loss: 2.6440e-04 - acc: 1.0000 - val_loss: 0.1971 - val_acc: 0.9439\n",
            "Epoch 199/500\n",
            "2/2 [==============================] - 0s 170ms/step - loss: 2.5847e-04 - acc: 1.0000 - val_loss: 0.1971 - val_acc: 0.9439\n",
            "Epoch 200/500\n",
            "2/2 [==============================] - 0s 169ms/step - loss: 2.5779e-04 - acc: 1.0000 - val_loss: 0.1969 - val_acc: 0.9439\n",
            "Epoch 201/500\n",
            "2/2 [==============================] - 0s 169ms/step - loss: 2.4593e-04 - acc: 1.0000 - val_loss: 0.1985 - val_acc: 0.9439\n",
            "Epoch 202/500\n",
            "2/2 [==============================] - 0s 169ms/step - loss: 2.5173e-04 - acc: 1.0000 - val_loss: 0.1991 - val_acc: 0.9439\n",
            "Epoch 203/500\n",
            "2/2 [==============================] - 0s 169ms/step - loss: 2.3942e-04 - acc: 1.0000 - val_loss: 0.1985 - val_acc: 0.9439\n",
            "Epoch 204/500\n",
            "2/2 [==============================] - 0s 171ms/step - loss: 2.4493e-04 - acc: 1.0000 - val_loss: 0.1985 - val_acc: 0.9439\n",
            "Epoch 205/500\n",
            "2/2 [==============================] - 0s 171ms/step - loss: 2.4098e-04 - acc: 1.0000 - val_loss: 0.1998 - val_acc: 0.9439\n",
            "Epoch 206/500\n",
            "2/2 [==============================] - 0s 168ms/step - loss: 2.3717e-04 - acc: 1.0000 - val_loss: 0.2006 - val_acc: 0.9439\n",
            "Epoch 207/500\n",
            "2/2 [==============================] - 0s 167ms/step - loss: 2.4003e-04 - acc: 1.0000 - val_loss: 0.2004 - val_acc: 0.9439\n",
            "Epoch 208/500\n",
            "2/2 [==============================] - 0s 170ms/step - loss: 2.1976e-04 - acc: 1.0000 - val_loss: 0.2009 - val_acc: 0.9439\n",
            "Epoch 209/500\n",
            "2/2 [==============================] - 0s 166ms/step - loss: 2.2835e-04 - acc: 1.0000 - val_loss: 0.2014 - val_acc: 0.9439\n",
            "Epoch 210/500\n",
            "2/2 [==============================] - 0s 169ms/step - loss: 2.2174e-04 - acc: 1.0000 - val_loss: 0.2012 - val_acc: 0.9439\n",
            "Epoch 211/500\n",
            "2/2 [==============================] - 0s 173ms/step - loss: 2.2006e-04 - acc: 1.0000 - val_loss: 0.2019 - val_acc: 0.9439\n",
            "Epoch 212/500\n",
            "2/2 [==============================] - 0s 166ms/step - loss: 2.0448e-04 - acc: 1.0000 - val_loss: 0.2024 - val_acc: 0.9439\n",
            "Epoch 213/500\n",
            "2/2 [==============================] - 0s 171ms/step - loss: 1.9591e-04 - acc: 1.0000 - val_loss: 0.2024 - val_acc: 0.9439\n",
            "Epoch 214/500\n",
            "2/2 [==============================] - 0s 173ms/step - loss: 2.0396e-04 - acc: 1.0000 - val_loss: 0.2023 - val_acc: 0.9439\n",
            "Epoch 215/500\n",
            "2/2 [==============================] - 0s 173ms/step - loss: 2.0227e-04 - acc: 1.0000 - val_loss: 0.2028 - val_acc: 0.9439\n",
            "Epoch 216/500\n",
            "2/2 [==============================] - 0s 167ms/step - loss: 2.0552e-04 - acc: 1.0000 - val_loss: 0.2040 - val_acc: 0.9439\n",
            "Epoch 217/500\n",
            "2/2 [==============================] - 0s 170ms/step - loss: 1.9738e-04 - acc: 1.0000 - val_loss: 0.2042 - val_acc: 0.9439\n",
            "Epoch 218/500\n",
            "2/2 [==============================] - 0s 169ms/step - loss: 1.9907e-04 - acc: 1.0000 - val_loss: 0.2035 - val_acc: 0.9439\n",
            "Epoch 219/500\n",
            "2/2 [==============================] - 0s 180ms/step - loss: 1.9166e-04 - acc: 1.0000 - val_loss: 0.2044 - val_acc: 0.9439\n",
            "Epoch 220/500\n",
            "2/2 [==============================] - 0s 167ms/step - loss: 1.9096e-04 - acc: 1.0000 - val_loss: 0.2052 - val_acc: 0.9439\n",
            "Epoch 221/500\n",
            "2/2 [==============================] - 0s 170ms/step - loss: 1.8540e-04 - acc: 1.0000 - val_loss: 0.2053 - val_acc: 0.9439\n",
            "Epoch 222/500\n",
            "2/2 [==============================] - 0s 172ms/step - loss: 1.8508e-04 - acc: 1.0000 - val_loss: 0.2052 - val_acc: 0.9439\n",
            "Epoch 223/500\n",
            "2/2 [==============================] - 0s 167ms/step - loss: 1.6951e-04 - acc: 1.0000 - val_loss: 0.2055 - val_acc: 0.9439\n",
            "Epoch 224/500\n",
            "2/2 [==============================] - 0s 165ms/step - loss: 1.8291e-04 - acc: 1.0000 - val_loss: 0.2059 - val_acc: 0.9439\n",
            "Epoch 225/500\n",
            "2/2 [==============================] - 0s 172ms/step - loss: 1.7953e-04 - acc: 1.0000 - val_loss: 0.2066 - val_acc: 0.9439\n",
            "Epoch 226/500\n",
            "2/2 [==============================] - 0s 167ms/step - loss: 1.7154e-04 - acc: 1.0000 - val_loss: 0.2063 - val_acc: 0.9439\n",
            "Epoch 227/500\n",
            "2/2 [==============================] - 0s 175ms/step - loss: 1.7778e-04 - acc: 1.0000 - val_loss: 0.2067 - val_acc: 0.9439\n",
            "Epoch 228/500\n",
            "2/2 [==============================] - 0s 167ms/step - loss: 1.6297e-04 - acc: 1.0000 - val_loss: 0.2077 - val_acc: 0.9439\n",
            "Epoch 229/500\n",
            "2/2 [==============================] - 0s 170ms/step - loss: 1.6792e-04 - acc: 1.0000 - val_loss: 0.2078 - val_acc: 0.9439\n",
            "Epoch 230/500\n",
            "2/2 [==============================] - 0s 173ms/step - loss: 1.4955e-04 - acc: 1.0000 - val_loss: 0.2075 - val_acc: 0.9439\n",
            "Epoch 231/500\n",
            "2/2 [==============================] - 0s 172ms/step - loss: 1.5674e-04 - acc: 1.0000 - val_loss: 0.2083 - val_acc: 0.9439\n",
            "Epoch 232/500\n",
            "2/2 [==============================] - 0s 172ms/step - loss: 1.5065e-04 - acc: 1.0000 - val_loss: 0.2089 - val_acc: 0.9439\n",
            "Epoch 233/500\n",
            "2/2 [==============================] - 0s 172ms/step - loss: 1.4670e-04 - acc: 1.0000 - val_loss: 0.2085 - val_acc: 0.9439\n",
            "Epoch 234/500\n",
            "2/2 [==============================] - 0s 169ms/step - loss: 1.5486e-04 - acc: 1.0000 - val_loss: 0.2091 - val_acc: 0.9439\n",
            "Epoch 235/500\n",
            "2/2 [==============================] - 0s 175ms/step - loss: 1.5264e-04 - acc: 1.0000 - val_loss: 0.2096 - val_acc: 0.9439\n",
            "Epoch 236/500\n",
            "2/2 [==============================] - 0s 172ms/step - loss: 1.5001e-04 - acc: 1.0000 - val_loss: 0.2101 - val_acc: 0.9439\n",
            "Epoch 237/500\n",
            "2/2 [==============================] - 0s 168ms/step - loss: 1.5442e-04 - acc: 1.0000 - val_loss: 0.2097 - val_acc: 0.9439\n",
            "Epoch 238/500\n",
            "2/2 [==============================] - 0s 175ms/step - loss: 1.5205e-04 - acc: 1.0000 - val_loss: 0.2101 - val_acc: 0.9439\n",
            "Epoch 239/500\n",
            "2/2 [==============================] - 0s 172ms/step - loss: 1.4742e-04 - acc: 1.0000 - val_loss: 0.2106 - val_acc: 0.9439\n",
            "Epoch 240/500\n",
            "2/2 [==============================] - 0s 173ms/step - loss: 1.3674e-04 - acc: 1.0000 - val_loss: 0.2117 - val_acc: 0.9439\n",
            "Epoch 241/500\n",
            "2/2 [==============================] - 0s 172ms/step - loss: 1.3384e-04 - acc: 1.0000 - val_loss: 0.2117 - val_acc: 0.9439\n",
            "Epoch 242/500\n",
            "2/2 [==============================] - 0s 172ms/step - loss: 1.4094e-04 - acc: 1.0000 - val_loss: 0.2111 - val_acc: 0.9439\n",
            "Epoch 243/500\n",
            "2/2 [==============================] - 0s 170ms/step - loss: 1.4162e-04 - acc: 1.0000 - val_loss: 0.2110 - val_acc: 0.9439\n",
            "Epoch 244/500\n",
            "2/2 [==============================] - 0s 172ms/step - loss: 1.2869e-04 - acc: 1.0000 - val_loss: 0.2124 - val_acc: 0.9439\n",
            "Epoch 245/500\n",
            "2/2 [==============================] - 0s 183ms/step - loss: 1.3623e-04 - acc: 1.0000 - val_loss: 0.2129 - val_acc: 0.9439\n",
            "Epoch 246/500\n",
            "2/2 [==============================] - 0s 172ms/step - loss: 1.2529e-04 - acc: 1.0000 - val_loss: 0.2127 - val_acc: 0.9439\n",
            "Epoch 247/500\n",
            "2/2 [==============================] - 0s 173ms/step - loss: 1.2526e-04 - acc: 1.0000 - val_loss: 0.2124 - val_acc: 0.9439\n",
            "Epoch 248/500\n",
            "2/2 [==============================] - 0s 169ms/step - loss: 1.2042e-04 - acc: 1.0000 - val_loss: 0.2127 - val_acc: 0.9439\n",
            "Epoch 249/500\n",
            "2/2 [==============================] - 0s 174ms/step - loss: 1.2607e-04 - acc: 1.0000 - val_loss: 0.2137 - val_acc: 0.9439\n",
            "Epoch 250/500\n",
            "2/2 [==============================] - 0s 168ms/step - loss: 1.1758e-04 - acc: 1.0000 - val_loss: 0.2143 - val_acc: 0.9439\n",
            "Epoch 251/500\n",
            "2/2 [==============================] - 0s 172ms/step - loss: 1.1427e-04 - acc: 1.0000 - val_loss: 0.2140 - val_acc: 0.9439\n",
            "Epoch 252/500\n",
            "2/2 [==============================] - 0s 175ms/step - loss: 1.2163e-04 - acc: 1.0000 - val_loss: 0.2133 - val_acc: 0.9439\n",
            "Epoch 253/500\n",
            "2/2 [==============================] - 0s 172ms/step - loss: 1.1992e-04 - acc: 1.0000 - val_loss: 0.2142 - val_acc: 0.9439\n",
            "Epoch 254/500\n",
            "2/2 [==============================] - 0s 172ms/step - loss: 1.1649e-04 - acc: 1.0000 - val_loss: 0.2145 - val_acc: 0.9439\n",
            "Epoch 255/500\n",
            "2/2 [==============================] - 0s 177ms/step - loss: 1.1873e-04 - acc: 1.0000 - val_loss: 0.2150 - val_acc: 0.9439\n",
            "Epoch 256/500\n",
            "2/2 [==============================] - 0s 172ms/step - loss: 1.1449e-04 - acc: 1.0000 - val_loss: 0.2155 - val_acc: 0.9439\n",
            "Epoch 257/500\n",
            "2/2 [==============================] - 0s 175ms/step - loss: 1.2021e-04 - acc: 1.0000 - val_loss: 0.2152 - val_acc: 0.9439\n",
            "Epoch 258/500\n",
            "2/2 [==============================] - 0s 174ms/step - loss: 1.1161e-04 - acc: 1.0000 - val_loss: 0.2158 - val_acc: 0.9439\n",
            "Epoch 259/500\n",
            "2/2 [==============================] - 0s 171ms/step - loss: 1.1632e-04 - acc: 1.0000 - val_loss: 0.2159 - val_acc: 0.9439\n",
            "Epoch 260/500\n",
            "2/2 [==============================] - 0s 170ms/step - loss: 1.1020e-04 - acc: 1.0000 - val_loss: 0.2165 - val_acc: 0.9439\n",
            "Epoch 261/500\n",
            "2/2 [==============================] - 0s 174ms/step - loss: 1.0237e-04 - acc: 1.0000 - val_loss: 0.2171 - val_acc: 0.9439\n",
            "Epoch 262/500\n",
            "2/2 [==============================] - 0s 179ms/step - loss: 1.1104e-04 - acc: 1.0000 - val_loss: 0.2166 - val_acc: 0.9439\n",
            "Epoch 263/500\n",
            "2/2 [==============================] - 0s 173ms/step - loss: 1.0279e-04 - acc: 1.0000 - val_loss: 0.2163 - val_acc: 0.9439\n",
            "Epoch 264/500\n",
            "2/2 [==============================] - 0s 178ms/step - loss: 1.0509e-04 - acc: 1.0000 - val_loss: 0.2170 - val_acc: 0.9439\n",
            "Epoch 265/500\n",
            "2/2 [==============================] - 0s 170ms/step - loss: 1.0222e-04 - acc: 1.0000 - val_loss: 0.2174 - val_acc: 0.9439\n",
            "Epoch 266/500\n",
            "2/2 [==============================] - 0s 172ms/step - loss: 9.9546e-05 - acc: 1.0000 - val_loss: 0.2178 - val_acc: 0.9439\n",
            "Epoch 267/500\n",
            "2/2 [==============================] - 0s 176ms/step - loss: 1.0244e-04 - acc: 1.0000 - val_loss: 0.2179 - val_acc: 0.9439\n",
            "Epoch 268/500\n",
            "2/2 [==============================] - 0s 171ms/step - loss: 1.0053e-04 - acc: 1.0000 - val_loss: 0.2184 - val_acc: 0.9439\n",
            "Epoch 269/500\n",
            "2/2 [==============================] - 0s 172ms/step - loss: 1.0091e-04 - acc: 1.0000 - val_loss: 0.2182 - val_acc: 0.9439\n",
            "Epoch 270/500\n",
            "2/2 [==============================] - 0s 174ms/step - loss: 9.4425e-05 - acc: 1.0000 - val_loss: 0.2190 - val_acc: 0.9439\n",
            "Epoch 271/500\n",
            "2/2 [==============================] - 0s 174ms/step - loss: 9.7181e-05 - acc: 1.0000 - val_loss: 0.2187 - val_acc: 0.9439\n",
            "Epoch 272/500\n",
            "2/2 [==============================] - 0s 172ms/step - loss: 9.3557e-05 - acc: 1.0000 - val_loss: 0.2189 - val_acc: 0.9439\n",
            "Epoch 273/500\n",
            "2/2 [==============================] - 0s 170ms/step - loss: 9.6362e-05 - acc: 1.0000 - val_loss: 0.2194 - val_acc: 0.9439\n",
            "Epoch 274/500\n",
            "2/2 [==============================] - 0s 177ms/step - loss: 9.4747e-05 - acc: 1.0000 - val_loss: 0.2199 - val_acc: 0.9439\n",
            "Epoch 275/500\n",
            "2/2 [==============================] - 0s 172ms/step - loss: 8.6332e-05 - acc: 1.0000 - val_loss: 0.2201 - val_acc: 0.9439\n",
            "Epoch 276/500\n",
            "2/2 [==============================] - 0s 173ms/step - loss: 9.3594e-05 - acc: 1.0000 - val_loss: 0.2201 - val_acc: 0.9439\n",
            "Epoch 277/500\n",
            "2/2 [==============================] - 0s 168ms/step - loss: 8.9182e-05 - acc: 1.0000 - val_loss: 0.2203 - val_acc: 0.9439\n",
            "Epoch 278/500\n",
            "2/2 [==============================] - 0s 174ms/step - loss: 8.6666e-05 - acc: 1.0000 - val_loss: 0.2206 - val_acc: 0.9439\n",
            "Epoch 279/500\n",
            "2/2 [==============================] - 0s 178ms/step - loss: 8.5245e-05 - acc: 1.0000 - val_loss: 0.2210 - val_acc: 0.9439\n",
            "Epoch 280/500\n",
            "2/2 [==============================] - 0s 178ms/step - loss: 8.3574e-05 - acc: 1.0000 - val_loss: 0.2209 - val_acc: 0.9439\n",
            "Epoch 281/500\n",
            "2/2 [==============================] - 0s 171ms/step - loss: 8.7704e-05 - acc: 1.0000 - val_loss: 0.2212 - val_acc: 0.9439\n",
            "Epoch 282/500\n",
            "2/2 [==============================] - 0s 174ms/step - loss: 8.3948e-05 - acc: 1.0000 - val_loss: 0.2217 - val_acc: 0.9439\n",
            "Epoch 283/500\n",
            "2/2 [==============================] - 0s 175ms/step - loss: 8.3802e-05 - acc: 1.0000 - val_loss: 0.2219 - val_acc: 0.9439\n",
            "Epoch 284/500\n",
            "2/2 [==============================] - 0s 178ms/step - loss: 8.3117e-05 - acc: 1.0000 - val_loss: 0.2223 - val_acc: 0.9439\n",
            "Epoch 285/500\n",
            "2/2 [==============================] - 0s 177ms/step - loss: 7.9277e-05 - acc: 1.0000 - val_loss: 0.2225 - val_acc: 0.9439\n",
            "Epoch 286/500\n",
            "2/2 [==============================] - 0s 176ms/step - loss: 8.1839e-05 - acc: 1.0000 - val_loss: 0.2224 - val_acc: 0.9439\n",
            "Epoch 287/500\n",
            "2/2 [==============================] - 0s 176ms/step - loss: 8.0362e-05 - acc: 1.0000 - val_loss: 0.2225 - val_acc: 0.9439\n",
            "Epoch 288/500\n",
            "2/2 [==============================] - 0s 177ms/step - loss: 7.6245e-05 - acc: 1.0000 - val_loss: 0.2230 - val_acc: 0.9439\n",
            "Epoch 289/500\n",
            "2/2 [==============================] - 0s 176ms/step - loss: 7.8200e-05 - acc: 1.0000 - val_loss: 0.2234 - val_acc: 0.9439\n",
            "Epoch 290/500\n",
            "2/2 [==============================] - 0s 178ms/step - loss: 7.7252e-05 - acc: 1.0000 - val_loss: 0.2234 - val_acc: 0.9439\n",
            "Epoch 291/500\n",
            "2/2 [==============================] - 0s 169ms/step - loss: 7.7396e-05 - acc: 1.0000 - val_loss: 0.2236 - val_acc: 0.9439\n",
            "Epoch 292/500\n",
            "2/2 [==============================] - 0s 175ms/step - loss: 7.5397e-05 - acc: 1.0000 - val_loss: 0.2239 - val_acc: 0.9439\n",
            "Epoch 293/500\n",
            "2/2 [==============================] - 0s 172ms/step - loss: 7.6105e-05 - acc: 1.0000 - val_loss: 0.2242 - val_acc: 0.9439\n",
            "Epoch 294/500\n",
            "2/2 [==============================] - 0s 175ms/step - loss: 7.8654e-05 - acc: 1.0000 - val_loss: 0.2245 - val_acc: 0.9439\n",
            "Epoch 295/500\n",
            "2/2 [==============================] - 0s 171ms/step - loss: 7.1856e-05 - acc: 1.0000 - val_loss: 0.2249 - val_acc: 0.9439\n",
            "Epoch 296/500\n",
            "2/2 [==============================] - 0s 174ms/step - loss: 7.4192e-05 - acc: 1.0000 - val_loss: 0.2247 - val_acc: 0.9439\n",
            "Epoch 297/500\n",
            "2/2 [==============================] - 0s 172ms/step - loss: 7.7208e-05 - acc: 1.0000 - val_loss: 0.2248 - val_acc: 0.9439\n",
            "Epoch 298/500\n",
            "2/2 [==============================] - 0s 175ms/step - loss: 7.5175e-05 - acc: 1.0000 - val_loss: 0.2251 - val_acc: 0.9439\n",
            "Epoch 299/500\n",
            "2/2 [==============================] - 0s 176ms/step - loss: 7.3130e-05 - acc: 1.0000 - val_loss: 0.2255 - val_acc: 0.9439\n",
            "Epoch 300/500\n",
            "2/2 [==============================] - 0s 173ms/step - loss: 7.1449e-05 - acc: 1.0000 - val_loss: 0.2258 - val_acc: 0.9439\n",
            "Epoch 301/500\n",
            "2/2 [==============================] - 0s 174ms/step - loss: 6.8847e-05 - acc: 1.0000 - val_loss: 0.2259 - val_acc: 0.9439\n",
            "Epoch 302/500\n",
            "2/2 [==============================] - 0s 171ms/step - loss: 6.6099e-05 - acc: 1.0000 - val_loss: 0.2258 - val_acc: 0.9439\n",
            "Epoch 303/500\n",
            "2/2 [==============================] - 0s 170ms/step - loss: 7.0199e-05 - acc: 1.0000 - val_loss: 0.2259 - val_acc: 0.9439\n",
            "Epoch 304/500\n",
            "2/2 [==============================] - 0s 173ms/step - loss: 6.7105e-05 - acc: 1.0000 - val_loss: 0.2263 - val_acc: 0.9439\n",
            "Epoch 305/500\n",
            "2/2 [==============================] - 0s 171ms/step - loss: 6.6870e-05 - acc: 1.0000 - val_loss: 0.2268 - val_acc: 0.9439\n",
            "Epoch 306/500\n",
            "2/2 [==============================] - 0s 176ms/step - loss: 6.9813e-05 - acc: 1.0000 - val_loss: 0.2269 - val_acc: 0.9439\n",
            "Epoch 307/500\n",
            "2/2 [==============================] - 0s 174ms/step - loss: 6.8546e-05 - acc: 1.0000 - val_loss: 0.2269 - val_acc: 0.9439\n",
            "Epoch 308/500\n",
            "2/2 [==============================] - 0s 181ms/step - loss: 6.3739e-05 - acc: 1.0000 - val_loss: 0.2273 - val_acc: 0.9439\n",
            "Epoch 309/500\n",
            "2/2 [==============================] - 0s 176ms/step - loss: 6.7019e-05 - acc: 1.0000 - val_loss: 0.2274 - val_acc: 0.9439\n",
            "Epoch 310/500\n",
            "2/2 [==============================] - 0s 173ms/step - loss: 6.4306e-05 - acc: 1.0000 - val_loss: 0.2278 - val_acc: 0.9439\n",
            "Epoch 311/500\n",
            "2/2 [==============================] - 0s 175ms/step - loss: 6.4240e-05 - acc: 1.0000 - val_loss: 0.2280 - val_acc: 0.9439\n",
            "Epoch 312/500\n",
            "2/2 [==============================] - 0s 176ms/step - loss: 6.3354e-05 - acc: 1.0000 - val_loss: 0.2279 - val_acc: 0.9439\n",
            "Epoch 313/500\n",
            "2/2 [==============================] - 0s 169ms/step - loss: 6.1378e-05 - acc: 1.0000 - val_loss: 0.2278 - val_acc: 0.9439\n",
            "Epoch 314/500\n",
            "2/2 [==============================] - 0s 175ms/step - loss: 6.4703e-05 - acc: 1.0000 - val_loss: 0.2283 - val_acc: 0.9439\n",
            "Epoch 315/500\n",
            "2/2 [==============================] - 0s 169ms/step - loss: 5.9190e-05 - acc: 1.0000 - val_loss: 0.2290 - val_acc: 0.9439\n",
            "Epoch 316/500\n",
            "2/2 [==============================] - 0s 174ms/step - loss: 6.5105e-05 - acc: 1.0000 - val_loss: 0.2294 - val_acc: 0.9439\n",
            "Epoch 317/500\n",
            "2/2 [==============================] - 0s 181ms/step - loss: 5.9282e-05 - acc: 1.0000 - val_loss: 0.2292 - val_acc: 0.9439\n",
            "Epoch 318/500\n",
            "2/2 [==============================] - 0s 173ms/step - loss: 6.1333e-05 - acc: 1.0000 - val_loss: 0.2289 - val_acc: 0.9439\n",
            "Epoch 319/500\n",
            "2/2 [==============================] - 0s 173ms/step - loss: 5.9844e-05 - acc: 1.0000 - val_loss: 0.2290 - val_acc: 0.9439\n",
            "Epoch 320/500\n",
            "2/2 [==============================] - 0s 175ms/step - loss: 6.1733e-05 - acc: 1.0000 - val_loss: 0.2295 - val_acc: 0.9439\n",
            "Epoch 321/500\n",
            "2/2 [==============================] - 0s 173ms/step - loss: 5.9874e-05 - acc: 1.0000 - val_loss: 0.2301 - val_acc: 0.9439\n",
            "Epoch 322/500\n",
            "2/2 [==============================] - 0s 174ms/step - loss: 5.9217e-05 - acc: 1.0000 - val_loss: 0.2305 - val_acc: 0.9439\n",
            "Epoch 323/500\n",
            "2/2 [==============================] - 0s 174ms/step - loss: 5.8101e-05 - acc: 1.0000 - val_loss: 0.2305 - val_acc: 0.9439\n",
            "Epoch 324/500\n",
            "2/2 [==============================] - 0s 172ms/step - loss: 5.4083e-05 - acc: 1.0000 - val_loss: 0.2302 - val_acc: 0.9439\n",
            "Epoch 325/500\n",
            "2/2 [==============================] - 0s 171ms/step - loss: 5.7046e-05 - acc: 1.0000 - val_loss: 0.2299 - val_acc: 0.9439\n",
            "Epoch 326/500\n",
            "2/2 [==============================] - 0s 177ms/step - loss: 5.5479e-05 - acc: 1.0000 - val_loss: 0.2304 - val_acc: 0.9439\n",
            "Epoch 327/500\n",
            "2/2 [==============================] - 0s 170ms/step - loss: 5.4129e-05 - acc: 1.0000 - val_loss: 0.2313 - val_acc: 0.9439\n",
            "Epoch 328/500\n",
            "2/2 [==============================] - 0s 174ms/step - loss: 5.4355e-05 - acc: 1.0000 - val_loss: 0.2318 - val_acc: 0.9439\n",
            "Epoch 329/500\n",
            "2/2 [==============================] - 0s 170ms/step - loss: 5.6949e-05 - acc: 1.0000 - val_loss: 0.2313 - val_acc: 0.9439\n",
            "Epoch 330/500\n",
            "2/2 [==============================] - 0s 176ms/step - loss: 5.1238e-05 - acc: 1.0000 - val_loss: 0.2309 - val_acc: 0.9439\n",
            "Epoch 331/500\n",
            "2/2 [==============================] - 0s 172ms/step - loss: 5.3656e-05 - acc: 1.0000 - val_loss: 0.2313 - val_acc: 0.9439\n",
            "Epoch 332/500\n",
            "2/2 [==============================] - 0s 173ms/step - loss: 5.2420e-05 - acc: 1.0000 - val_loss: 0.2319 - val_acc: 0.9439\n",
            "Epoch 333/500\n",
            "2/2 [==============================] - 0s 174ms/step - loss: 5.3508e-05 - acc: 1.0000 - val_loss: 0.2326 - val_acc: 0.9439\n",
            "Epoch 334/500\n",
            "2/2 [==============================] - 0s 170ms/step - loss: 5.4770e-05 - acc: 1.0000 - val_loss: 0.2326 - val_acc: 0.9439\n",
            "Epoch 335/500\n",
            "2/2 [==============================] - 0s 174ms/step - loss: 5.3122e-05 - acc: 1.0000 - val_loss: 0.2323 - val_acc: 0.9439\n",
            "Epoch 336/500\n",
            "2/2 [==============================] - 0s 170ms/step - loss: 5.3561e-05 - acc: 1.0000 - val_loss: 0.2322 - val_acc: 0.9439\n",
            "Epoch 337/500\n",
            "2/2 [==============================] - 0s 171ms/step - loss: 4.8319e-05 - acc: 1.0000 - val_loss: 0.2326 - val_acc: 0.9439\n",
            "Epoch 338/500\n",
            "2/2 [==============================] - 0s 173ms/step - loss: 5.1071e-05 - acc: 1.0000 - val_loss: 0.2329 - val_acc: 0.9439\n",
            "Epoch 339/500\n",
            "2/2 [==============================] - 0s 173ms/step - loss: 5.0259e-05 - acc: 1.0000 - val_loss: 0.2332 - val_acc: 0.9439\n",
            "Epoch 340/500\n",
            "2/2 [==============================] - 0s 167ms/step - loss: 5.1643e-05 - acc: 1.0000 - val_loss: 0.2332 - val_acc: 0.9439\n",
            "Epoch 341/500\n",
            "2/2 [==============================] - 0s 171ms/step - loss: 4.9538e-05 - acc: 1.0000 - val_loss: 0.2332 - val_acc: 0.9439\n",
            "Epoch 342/500\n",
            "2/2 [==============================] - 0s 172ms/step - loss: 4.8121e-05 - acc: 1.0000 - val_loss: 0.2336 - val_acc: 0.9439\n",
            "Epoch 343/500\n",
            "2/2 [==============================] - 0s 170ms/step - loss: 4.8640e-05 - acc: 1.0000 - val_loss: 0.2340 - val_acc: 0.9439\n",
            "Epoch 344/500\n",
            "2/2 [==============================] - 0s 175ms/step - loss: 4.9533e-05 - acc: 1.0000 - val_loss: 0.2343 - val_acc: 0.9439\n",
            "Epoch 345/500\n",
            "2/2 [==============================] - 0s 176ms/step - loss: 4.8624e-05 - acc: 1.0000 - val_loss: 0.2345 - val_acc: 0.9439\n",
            "Epoch 346/500\n",
            "2/2 [==============================] - 0s 172ms/step - loss: 4.6788e-05 - acc: 1.0000 - val_loss: 0.2345 - val_acc: 0.9439\n",
            "Epoch 347/500\n",
            "2/2 [==============================] - 0s 178ms/step - loss: 4.7026e-05 - acc: 1.0000 - val_loss: 0.2342 - val_acc: 0.9439\n",
            "Epoch 348/500\n",
            "2/2 [==============================] - 0s 171ms/step - loss: 4.8011e-05 - acc: 1.0000 - val_loss: 0.2343 - val_acc: 0.9439\n",
            "Epoch 349/500\n",
            "2/2 [==============================] - 0s 182ms/step - loss: 4.8904e-05 - acc: 1.0000 - val_loss: 0.2346 - val_acc: 0.9439\n",
            "Epoch 350/500\n",
            "2/2 [==============================] - 0s 178ms/step - loss: 4.6189e-05 - acc: 1.0000 - val_loss: 0.2352 - val_acc: 0.9439\n",
            "Epoch 351/500\n",
            "2/2 [==============================] - 0s 175ms/step - loss: 4.8274e-05 - acc: 1.0000 - val_loss: 0.2357 - val_acc: 0.9439\n",
            "Epoch 352/500\n",
            "2/2 [==============================] - 0s 174ms/step - loss: 4.5318e-05 - acc: 1.0000 - val_loss: 0.2361 - val_acc: 0.9439\n",
            "Epoch 353/500\n",
            "2/2 [==============================] - 0s 170ms/step - loss: 4.7091e-05 - acc: 1.0000 - val_loss: 0.2358 - val_acc: 0.9439\n",
            "Epoch 354/500\n",
            "2/2 [==============================] - 0s 176ms/step - loss: 4.6630e-05 - acc: 1.0000 - val_loss: 0.2357 - val_acc: 0.9439\n",
            "Epoch 355/500\n",
            "2/2 [==============================] - 0s 174ms/step - loss: 4.2403e-05 - acc: 1.0000 - val_loss: 0.2358 - val_acc: 0.9439\n",
            "Epoch 356/500\n",
            "2/2 [==============================] - 0s 171ms/step - loss: 4.2208e-05 - acc: 1.0000 - val_loss: 0.2359 - val_acc: 0.9439\n",
            "Epoch 357/500\n",
            "2/2 [==============================] - 0s 172ms/step - loss: 4.4424e-05 - acc: 1.0000 - val_loss: 0.2360 - val_acc: 0.9439\n",
            "Epoch 358/500\n",
            "2/2 [==============================] - 0s 172ms/step - loss: 4.4187e-05 - acc: 1.0000 - val_loss: 0.2367 - val_acc: 0.9439\n",
            "Epoch 359/500\n",
            "2/2 [==============================] - 0s 177ms/step - loss: 4.3624e-05 - acc: 1.0000 - val_loss: 0.2371 - val_acc: 0.9439\n",
            "Epoch 360/500\n",
            "2/2 [==============================] - 0s 179ms/step - loss: 4.4237e-05 - acc: 1.0000 - val_loss: 0.2371 - val_acc: 0.9439\n",
            "Epoch 361/500\n",
            "2/2 [==============================] - 0s 174ms/step - loss: 4.1122e-05 - acc: 1.0000 - val_loss: 0.2370 - val_acc: 0.9439\n",
            "Epoch 362/500\n",
            "2/2 [==============================] - 0s 177ms/step - loss: 4.2162e-05 - acc: 1.0000 - val_loss: 0.2368 - val_acc: 0.9439\n",
            "Epoch 363/500\n",
            "2/2 [==============================] - 0s 172ms/step - loss: 4.1472e-05 - acc: 1.0000 - val_loss: 0.2373 - val_acc: 0.9439\n",
            "Epoch 364/500\n",
            "2/2 [==============================] - 0s 171ms/step - loss: 3.9796e-05 - acc: 1.0000 - val_loss: 0.2377 - val_acc: 0.9439\n",
            "Epoch 365/500\n",
            "2/2 [==============================] - 0s 172ms/step - loss: 3.9460e-05 - acc: 1.0000 - val_loss: 0.2378 - val_acc: 0.9439\n",
            "Epoch 366/500\n",
            "2/2 [==============================] - 0s 169ms/step - loss: 4.2084e-05 - acc: 1.0000 - val_loss: 0.2379 - val_acc: 0.9439\n",
            "Epoch 367/500\n",
            "2/2 [==============================] - 0s 172ms/step - loss: 4.3143e-05 - acc: 1.0000 - val_loss: 0.2380 - val_acc: 0.9439\n",
            "Epoch 368/500\n",
            "2/2 [==============================] - 0s 172ms/step - loss: 4.0098e-05 - acc: 1.0000 - val_loss: 0.2383 - val_acc: 0.9439\n",
            "Epoch 369/500\n",
            "2/2 [==============================] - 0s 171ms/step - loss: 3.9964e-05 - acc: 1.0000 - val_loss: 0.2389 - val_acc: 0.9439\n",
            "Epoch 370/500\n",
            "2/2 [==============================] - 0s 178ms/step - loss: 3.9683e-05 - acc: 1.0000 - val_loss: 0.2387 - val_acc: 0.9439\n",
            "Epoch 371/500\n",
            "2/2 [==============================] - 0s 173ms/step - loss: 3.9180e-05 - acc: 1.0000 - val_loss: 0.2383 - val_acc: 0.9439\n",
            "Epoch 372/500\n",
            "2/2 [==============================] - 0s 171ms/step - loss: 3.7854e-05 - acc: 1.0000 - val_loss: 0.2383 - val_acc: 0.9439\n",
            "Epoch 373/500\n",
            "2/2 [==============================] - 0s 176ms/step - loss: 3.8928e-05 - acc: 1.0000 - val_loss: 0.2388 - val_acc: 0.9439\n",
            "Epoch 374/500\n",
            "2/2 [==============================] - 0s 174ms/step - loss: 3.8065e-05 - acc: 1.0000 - val_loss: 0.2396 - val_acc: 0.9439\n",
            "Epoch 375/500\n",
            "2/2 [==============================] - 0s 174ms/step - loss: 3.6527e-05 - acc: 1.0000 - val_loss: 0.2400 - val_acc: 0.9439\n",
            "Epoch 376/500\n",
            "2/2 [==============================] - 0s 185ms/step - loss: 3.7251e-05 - acc: 1.0000 - val_loss: 0.2398 - val_acc: 0.9439\n",
            "Epoch 377/500\n",
            "2/2 [==============================] - 0s 184ms/step - loss: 3.7586e-05 - acc: 1.0000 - val_loss: 0.2393 - val_acc: 0.9439\n",
            "Epoch 378/500\n",
            "2/2 [==============================] - 0s 175ms/step - loss: 3.5445e-05 - acc: 1.0000 - val_loss: 0.2393 - val_acc: 0.9439\n",
            "Epoch 379/500\n",
            "2/2 [==============================] - 0s 175ms/step - loss: 3.5983e-05 - acc: 1.0000 - val_loss: 0.2399 - val_acc: 0.9439\n",
            "Epoch 380/500\n",
            "2/2 [==============================] - 0s 174ms/step - loss: 3.7375e-05 - acc: 1.0000 - val_loss: 0.2401 - val_acc: 0.9439\n",
            "Epoch 381/500\n",
            "2/2 [==============================] - 0s 171ms/step - loss: 3.7511e-05 - acc: 1.0000 - val_loss: 0.2403 - val_acc: 0.9439\n",
            "Epoch 382/500\n",
            "2/2 [==============================] - 0s 179ms/step - loss: 3.6177e-05 - acc: 1.0000 - val_loss: 0.2406 - val_acc: 0.9439\n",
            "Epoch 383/500\n",
            "2/2 [==============================] - 0s 178ms/step - loss: 3.6659e-05 - acc: 1.0000 - val_loss: 0.2406 - val_acc: 0.9439\n",
            "Epoch 384/500\n",
            "2/2 [==============================] - 0s 183ms/step - loss: 3.7364e-05 - acc: 1.0000 - val_loss: 0.2407 - val_acc: 0.9439\n",
            "Epoch 385/500\n",
            "2/2 [==============================] - 0s 174ms/step - loss: 3.6073e-05 - acc: 1.0000 - val_loss: 0.2409 - val_acc: 0.9439\n",
            "Epoch 386/500\n",
            "2/2 [==============================] - 0s 175ms/step - loss: 3.3481e-05 - acc: 1.0000 - val_loss: 0.2411 - val_acc: 0.9439\n",
            "Epoch 387/500\n",
            "2/2 [==============================] - 0s 172ms/step - loss: 3.4683e-05 - acc: 1.0000 - val_loss: 0.2411 - val_acc: 0.9439\n",
            "Epoch 388/500\n",
            "2/2 [==============================] - 0s 169ms/step - loss: 3.5264e-05 - acc: 1.0000 - val_loss: 0.2411 - val_acc: 0.9439\n",
            "Epoch 389/500\n",
            "2/2 [==============================] - 0s 169ms/step - loss: 3.4418e-05 - acc: 1.0000 - val_loss: 0.2413 - val_acc: 0.9439\n",
            "Epoch 390/500\n",
            "2/2 [==============================] - 0s 172ms/step - loss: 3.2992e-05 - acc: 1.0000 - val_loss: 0.2419 - val_acc: 0.9439\n",
            "Epoch 391/500\n",
            "2/2 [==============================] - 0s 171ms/step - loss: 3.3649e-05 - acc: 1.0000 - val_loss: 0.2422 - val_acc: 0.9439\n",
            "Epoch 392/500\n",
            "2/2 [==============================] - 0s 169ms/step - loss: 3.2345e-05 - acc: 1.0000 - val_loss: 0.2421 - val_acc: 0.9439\n",
            "Epoch 393/500\n",
            "2/2 [==============================] - 0s 174ms/step - loss: 3.3513e-05 - acc: 1.0000 - val_loss: 0.2420 - val_acc: 0.9439\n",
            "Epoch 394/500\n",
            "2/2 [==============================] - 0s 172ms/step - loss: 3.2219e-05 - acc: 1.0000 - val_loss: 0.2421 - val_acc: 0.9439\n",
            "Epoch 395/500\n",
            "2/2 [==============================] - 0s 168ms/step - loss: 3.2808e-05 - acc: 1.0000 - val_loss: 0.2421 - val_acc: 0.9439\n",
            "Epoch 396/500\n",
            "2/2 [==============================] - 0s 170ms/step - loss: 3.3190e-05 - acc: 1.0000 - val_loss: 0.2424 - val_acc: 0.9439\n",
            "Epoch 397/500\n",
            "2/2 [==============================] - 0s 178ms/step - loss: 3.3236e-05 - acc: 1.0000 - val_loss: 0.2427 - val_acc: 0.9439\n",
            "Epoch 398/500\n",
            "2/2 [==============================] - 0s 175ms/step - loss: 3.1738e-05 - acc: 1.0000 - val_loss: 0.2429 - val_acc: 0.9439\n",
            "Epoch 399/500\n",
            "2/2 [==============================] - 0s 170ms/step - loss: 3.2244e-05 - acc: 1.0000 - val_loss: 0.2429 - val_acc: 0.9439\n",
            "Epoch 400/500\n",
            "2/2 [==============================] - 0s 176ms/step - loss: 3.1821e-05 - acc: 1.0000 - val_loss: 0.2431 - val_acc: 0.9439\n",
            "Epoch 401/500\n",
            "2/2 [==============================] - 0s 172ms/step - loss: 3.2884e-05 - acc: 1.0000 - val_loss: 0.2433 - val_acc: 0.9439\n",
            "Epoch 402/500\n",
            "2/2 [==============================] - 0s 168ms/step - loss: 3.1148e-05 - acc: 1.0000 - val_loss: 0.2436 - val_acc: 0.9439\n",
            "Epoch 403/500\n",
            "2/2 [==============================] - 0s 179ms/step - loss: 2.9684e-05 - acc: 1.0000 - val_loss: 0.2439 - val_acc: 0.9439\n",
            "Epoch 404/500\n",
            "2/2 [==============================] - 0s 175ms/step - loss: 3.2271e-05 - acc: 1.0000 - val_loss: 0.2439 - val_acc: 0.9439\n",
            "Epoch 405/500\n",
            "2/2 [==============================] - 0s 175ms/step - loss: 3.2356e-05 - acc: 1.0000 - val_loss: 0.2437 - val_acc: 0.9439\n",
            "Epoch 406/500\n",
            "2/2 [==============================] - 0s 171ms/step - loss: 3.0422e-05 - acc: 1.0000 - val_loss: 0.2439 - val_acc: 0.9439\n",
            "Epoch 407/500\n",
            "2/2 [==============================] - 0s 172ms/step - loss: 2.9813e-05 - acc: 1.0000 - val_loss: 0.2441 - val_acc: 0.9439\n",
            "Epoch 408/500\n",
            "2/2 [==============================] - 0s 171ms/step - loss: 3.0918e-05 - acc: 1.0000 - val_loss: 0.2445 - val_acc: 0.9439\n",
            "Epoch 409/500\n",
            "2/2 [==============================] - 0s 172ms/step - loss: 3.1725e-05 - acc: 1.0000 - val_loss: 0.2442 - val_acc: 0.9439\n",
            "Epoch 410/500\n",
            "2/2 [==============================] - 0s 176ms/step - loss: 2.8907e-05 - acc: 1.0000 - val_loss: 0.2443 - val_acc: 0.9439\n",
            "Epoch 411/500\n",
            "2/2 [==============================] - 0s 170ms/step - loss: 2.9836e-05 - acc: 1.0000 - val_loss: 0.2449 - val_acc: 0.9439\n",
            "Epoch 412/500\n",
            "2/2 [==============================] - 0s 169ms/step - loss: 3.0709e-05 - acc: 1.0000 - val_loss: 0.2451 - val_acc: 0.9439\n",
            "Epoch 413/500\n",
            "2/2 [==============================] - 0s 173ms/step - loss: 2.8934e-05 - acc: 1.0000 - val_loss: 0.2453 - val_acc: 0.9439\n",
            "Epoch 414/500\n",
            "2/2 [==============================] - 0s 169ms/step - loss: 2.9317e-05 - acc: 1.0000 - val_loss: 0.2453 - val_acc: 0.9439\n",
            "Epoch 415/500\n",
            "2/2 [==============================] - 0s 168ms/step - loss: 2.8161e-05 - acc: 1.0000 - val_loss: 0.2452 - val_acc: 0.9439\n",
            "Epoch 416/500\n",
            "2/2 [==============================] - 0s 173ms/step - loss: 2.9838e-05 - acc: 1.0000 - val_loss: 0.2453 - val_acc: 0.9439\n",
            "Epoch 417/500\n",
            "2/2 [==============================] - 0s 172ms/step - loss: 2.7381e-05 - acc: 1.0000 - val_loss: 0.2455 - val_acc: 0.9439\n",
            "Epoch 418/500\n",
            "2/2 [==============================] - 0s 174ms/step - loss: 2.9647e-05 - acc: 1.0000 - val_loss: 0.2456 - val_acc: 0.9439\n",
            "Epoch 419/500\n",
            "2/2 [==============================] - 0s 174ms/step - loss: 2.9280e-05 - acc: 1.0000 - val_loss: 0.2460 - val_acc: 0.9439\n",
            "Epoch 420/500\n",
            "2/2 [==============================] - 0s 174ms/step - loss: 2.8026e-05 - acc: 1.0000 - val_loss: 0.2464 - val_acc: 0.9439\n",
            "Epoch 421/500\n",
            "2/2 [==============================] - 0s 171ms/step - loss: 2.8211e-05 - acc: 1.0000 - val_loss: 0.2461 - val_acc: 0.9439\n",
            "Epoch 422/500\n",
            "2/2 [==============================] - 0s 173ms/step - loss: 2.7996e-05 - acc: 1.0000 - val_loss: 0.2459 - val_acc: 0.9439\n",
            "Epoch 423/500\n",
            "2/2 [==============================] - 0s 175ms/step - loss: 2.7015e-05 - acc: 1.0000 - val_loss: 0.2461 - val_acc: 0.9439\n",
            "Epoch 424/500\n",
            "2/2 [==============================] - 0s 175ms/step - loss: 2.7568e-05 - acc: 1.0000 - val_loss: 0.2467 - val_acc: 0.9439\n",
            "Epoch 425/500\n",
            "2/2 [==============================] - 0s 172ms/step - loss: 2.7028e-05 - acc: 1.0000 - val_loss: 0.2471 - val_acc: 0.9439\n",
            "Epoch 426/500\n",
            "2/2 [==============================] - 0s 173ms/step - loss: 2.7228e-05 - acc: 1.0000 - val_loss: 0.2472 - val_acc: 0.9439\n",
            "Epoch 427/500\n",
            "2/2 [==============================] - 0s 175ms/step - loss: 2.6397e-05 - acc: 1.0000 - val_loss: 0.2469 - val_acc: 0.9439\n",
            "Epoch 428/500\n",
            "2/2 [==============================] - 0s 167ms/step - loss: 2.7069e-05 - acc: 1.0000 - val_loss: 0.2469 - val_acc: 0.9439\n",
            "Epoch 429/500\n",
            "2/2 [==============================] - 0s 168ms/step - loss: 2.6538e-05 - acc: 1.0000 - val_loss: 0.2469 - val_acc: 0.9439\n",
            "Epoch 430/500\n",
            "2/2 [==============================] - 0s 173ms/step - loss: 2.6763e-05 - acc: 1.0000 - val_loss: 0.2473 - val_acc: 0.9439\n",
            "Epoch 431/500\n",
            "2/2 [==============================] - 0s 173ms/step - loss: 2.6278e-05 - acc: 1.0000 - val_loss: 0.2477 - val_acc: 0.9439\n",
            "Epoch 432/500\n",
            "2/2 [==============================] - 0s 170ms/step - loss: 2.5681e-05 - acc: 1.0000 - val_loss: 0.2481 - val_acc: 0.9439\n",
            "Epoch 433/500\n",
            "2/2 [==============================] - 0s 172ms/step - loss: 2.4492e-05 - acc: 1.0000 - val_loss: 0.2480 - val_acc: 0.9439\n",
            "Epoch 434/500\n",
            "2/2 [==============================] - 0s 173ms/step - loss: 2.6563e-05 - acc: 1.0000 - val_loss: 0.2480 - val_acc: 0.9439\n",
            "Epoch 435/500\n",
            "2/2 [==============================] - 0s 168ms/step - loss: 2.4039e-05 - acc: 1.0000 - val_loss: 0.2482 - val_acc: 0.9439\n",
            "Epoch 436/500\n",
            "2/2 [==============================] - 0s 174ms/step - loss: 2.6019e-05 - acc: 1.0000 - val_loss: 0.2479 - val_acc: 0.9439\n",
            "Epoch 437/500\n",
            "2/2 [==============================] - 0s 177ms/step - loss: 2.4823e-05 - acc: 1.0000 - val_loss: 0.2483 - val_acc: 0.9439\n",
            "Epoch 438/500\n",
            "2/2 [==============================] - 0s 177ms/step - loss: 2.5676e-05 - acc: 1.0000 - val_loss: 0.2486 - val_acc: 0.9439\n",
            "Epoch 439/500\n",
            "2/2 [==============================] - 0s 172ms/step - loss: 2.5222e-05 - acc: 1.0000 - val_loss: 0.2490 - val_acc: 0.9439\n",
            "Epoch 440/500\n",
            "2/2 [==============================] - 0s 167ms/step - loss: 2.3957e-05 - acc: 1.0000 - val_loss: 0.2491 - val_acc: 0.9439\n",
            "Epoch 441/500\n",
            "2/2 [==============================] - 0s 172ms/step - loss: 2.6629e-05 - acc: 1.0000 - val_loss: 0.2488 - val_acc: 0.9439\n",
            "Epoch 442/500\n",
            "2/2 [==============================] - 0s 171ms/step - loss: 2.5447e-05 - acc: 1.0000 - val_loss: 0.2491 - val_acc: 0.9439\n",
            "Epoch 443/500\n",
            "2/2 [==============================] - 0s 172ms/step - loss: 2.4471e-05 - acc: 1.0000 - val_loss: 0.2494 - val_acc: 0.9439\n",
            "Epoch 444/500\n",
            "2/2 [==============================] - 0s 171ms/step - loss: 2.4844e-05 - acc: 1.0000 - val_loss: 0.2495 - val_acc: 0.9439\n",
            "Epoch 445/500\n",
            "2/2 [==============================] - 0s 170ms/step - loss: 2.4419e-05 - acc: 1.0000 - val_loss: 0.2494 - val_acc: 0.9439\n",
            "Epoch 446/500\n",
            "2/2 [==============================] - 0s 179ms/step - loss: 2.5057e-05 - acc: 1.0000 - val_loss: 0.2494 - val_acc: 0.9439\n",
            "Epoch 447/500\n",
            "2/2 [==============================] - 0s 172ms/step - loss: 2.4796e-05 - acc: 1.0000 - val_loss: 0.2497 - val_acc: 0.9439\n",
            "Epoch 448/500\n",
            "2/2 [==============================] - 0s 170ms/step - loss: 2.4752e-05 - acc: 1.0000 - val_loss: 0.2502 - val_acc: 0.9439\n",
            "Epoch 449/500\n",
            "2/2 [==============================] - 0s 184ms/step - loss: 2.3325e-05 - acc: 1.0000 - val_loss: 0.2502 - val_acc: 0.9439\n",
            "Epoch 450/500\n",
            "2/2 [==============================] - 0s 171ms/step - loss: 2.3277e-05 - acc: 1.0000 - val_loss: 0.2502 - val_acc: 0.9439\n",
            "Epoch 451/500\n",
            "2/2 [==============================] - 0s 171ms/step - loss: 2.5218e-05 - acc: 1.0000 - val_loss: 0.2501 - val_acc: 0.9439\n",
            "Epoch 452/500\n",
            "2/2 [==============================] - 0s 172ms/step - loss: 2.2167e-05 - acc: 1.0000 - val_loss: 0.2503 - val_acc: 0.9439\n",
            "Epoch 453/500\n",
            "2/2 [==============================] - 0s 173ms/step - loss: 2.3017e-05 - acc: 1.0000 - val_loss: 0.2505 - val_acc: 0.9439\n",
            "Epoch 454/500\n",
            "2/2 [==============================] - 0s 171ms/step - loss: 2.2129e-05 - acc: 1.0000 - val_loss: 0.2508 - val_acc: 0.9439\n",
            "Epoch 455/500\n",
            "2/2 [==============================] - 0s 172ms/step - loss: 2.1307e-05 - acc: 1.0000 - val_loss: 0.2511 - val_acc: 0.9439\n",
            "Epoch 456/500\n",
            "2/2 [==============================] - 0s 172ms/step - loss: 2.2050e-05 - acc: 1.0000 - val_loss: 0.2510 - val_acc: 0.9439\n",
            "Epoch 457/500\n",
            "2/2 [==============================] - 0s 170ms/step - loss: 2.2768e-05 - acc: 1.0000 - val_loss: 0.2509 - val_acc: 0.9439\n",
            "Epoch 458/500\n",
            "2/2 [==============================] - 0s 169ms/step - loss: 2.2728e-05 - acc: 1.0000 - val_loss: 0.2511 - val_acc: 0.9439\n",
            "Epoch 459/500\n",
            "2/2 [==============================] - 0s 175ms/step - loss: 2.3287e-05 - acc: 1.0000 - val_loss: 0.2513 - val_acc: 0.9439\n",
            "Epoch 460/500\n",
            "2/2 [==============================] - 0s 169ms/step - loss: 2.2803e-05 - acc: 1.0000 - val_loss: 0.2516 - val_acc: 0.9439\n",
            "Epoch 461/500\n",
            "2/2 [==============================] - 0s 178ms/step - loss: 2.2705e-05 - acc: 1.0000 - val_loss: 0.2518 - val_acc: 0.9439\n",
            "Epoch 462/500\n",
            "2/2 [==============================] - 0s 172ms/step - loss: 2.3504e-05 - acc: 1.0000 - val_loss: 0.2520 - val_acc: 0.9439\n",
            "Epoch 463/500\n",
            "2/2 [==============================] - 0s 176ms/step - loss: 2.1098e-05 - acc: 1.0000 - val_loss: 0.2521 - val_acc: 0.9439\n",
            "Epoch 464/500\n",
            "2/2 [==============================] - 0s 169ms/step - loss: 2.1733e-05 - acc: 1.0000 - val_loss: 0.2522 - val_acc: 0.9439\n",
            "Epoch 465/500\n",
            "2/2 [==============================] - 0s 173ms/step - loss: 2.2113e-05 - acc: 1.0000 - val_loss: 0.2522 - val_acc: 0.9439\n",
            "Epoch 466/500\n",
            "2/2 [==============================] - 0s 173ms/step - loss: 2.2280e-05 - acc: 1.0000 - val_loss: 0.2522 - val_acc: 0.9439\n",
            "Epoch 467/500\n",
            "2/2 [==============================] - 0s 176ms/step - loss: 2.2608e-05 - acc: 1.0000 - val_loss: 0.2525 - val_acc: 0.9439\n",
            "Epoch 468/500\n",
            "2/2 [==============================] - 0s 175ms/step - loss: 2.1840e-05 - acc: 1.0000 - val_loss: 0.2527 - val_acc: 0.9439\n",
            "Epoch 469/500\n",
            "2/2 [==============================] - 0s 177ms/step - loss: 2.1045e-05 - acc: 1.0000 - val_loss: 0.2529 - val_acc: 0.9439\n",
            "Epoch 470/500\n",
            "2/2 [==============================] - 0s 172ms/step - loss: 2.2166e-05 - acc: 1.0000 - val_loss: 0.2528 - val_acc: 0.9439\n",
            "Epoch 471/500\n",
            "2/2 [==============================] - 0s 172ms/step - loss: 2.1995e-05 - acc: 1.0000 - val_loss: 0.2529 - val_acc: 0.9439\n",
            "Epoch 472/500\n",
            "2/2 [==============================] - 0s 174ms/step - loss: 2.1877e-05 - acc: 1.0000 - val_loss: 0.2533 - val_acc: 0.9439\n",
            "Epoch 473/500\n",
            "2/2 [==============================] - 0s 173ms/step - loss: 2.1225e-05 - acc: 1.0000 - val_loss: 0.2534 - val_acc: 0.9439\n",
            "Epoch 474/500\n",
            "2/2 [==============================] - 0s 179ms/step - loss: 2.1211e-05 - acc: 1.0000 - val_loss: 0.2535 - val_acc: 0.9439\n",
            "Epoch 475/500\n",
            "2/2 [==============================] - 0s 173ms/step - loss: 2.0100e-05 - acc: 1.0000 - val_loss: 0.2537 - val_acc: 0.9439\n",
            "Epoch 476/500\n",
            "2/2 [==============================] - 0s 183ms/step - loss: 2.0013e-05 - acc: 1.0000 - val_loss: 0.2538 - val_acc: 0.9439\n",
            "Epoch 477/500\n",
            "2/2 [==============================] - 0s 174ms/step - loss: 2.0389e-05 - acc: 1.0000 - val_loss: 0.2537 - val_acc: 0.9439\n",
            "Epoch 478/500\n",
            "2/2 [==============================] - 0s 172ms/step - loss: 1.9820e-05 - acc: 1.0000 - val_loss: 0.2536 - val_acc: 0.9439\n",
            "Epoch 479/500\n",
            "2/2 [==============================] - 0s 173ms/step - loss: 2.0067e-05 - acc: 1.0000 - val_loss: 0.2538 - val_acc: 0.9439\n",
            "Epoch 480/500\n",
            "2/2 [==============================] - 0s 172ms/step - loss: 1.9570e-05 - acc: 1.0000 - val_loss: 0.2540 - val_acc: 0.9439\n",
            "Epoch 481/500\n",
            "2/2 [==============================] - 0s 168ms/step - loss: 2.0461e-05 - acc: 1.0000 - val_loss: 0.2543 - val_acc: 0.9439\n",
            "Epoch 482/500\n",
            "2/2 [==============================] - 0s 168ms/step - loss: 1.8474e-05 - acc: 1.0000 - val_loss: 0.2547 - val_acc: 0.9439\n",
            "Epoch 483/500\n",
            "2/2 [==============================] - 0s 169ms/step - loss: 2.0564e-05 - acc: 1.0000 - val_loss: 0.2545 - val_acc: 0.9439\n",
            "Epoch 484/500\n",
            "2/2 [==============================] - 0s 172ms/step - loss: 1.9240e-05 - acc: 1.0000 - val_loss: 0.2545 - val_acc: 0.9439\n",
            "Epoch 485/500\n",
            "2/2 [==============================] - 0s 171ms/step - loss: 1.9113e-05 - acc: 1.0000 - val_loss: 0.2547 - val_acc: 0.9439\n",
            "Epoch 486/500\n",
            "2/2 [==============================] - 0s 170ms/step - loss: 1.9150e-05 - acc: 1.0000 - val_loss: 0.2550 - val_acc: 0.9439\n",
            "Epoch 487/500\n",
            "2/2 [==============================] - 0s 172ms/step - loss: 1.9164e-05 - acc: 1.0000 - val_loss: 0.2550 - val_acc: 0.9439\n",
            "Epoch 488/500\n",
            "2/2 [==============================] - 0s 174ms/step - loss: 1.9053e-05 - acc: 1.0000 - val_loss: 0.2550 - val_acc: 0.9439\n",
            "Epoch 489/500\n",
            "2/2 [==============================] - 0s 172ms/step - loss: 1.8289e-05 - acc: 1.0000 - val_loss: 0.2554 - val_acc: 0.9439\n",
            "Epoch 490/500\n",
            "2/2 [==============================] - 0s 171ms/step - loss: 1.9267e-05 - acc: 1.0000 - val_loss: 0.2555 - val_acc: 0.9439\n",
            "Epoch 491/500\n",
            "2/2 [==============================] - 0s 173ms/step - loss: 1.8779e-05 - acc: 1.0000 - val_loss: 0.2553 - val_acc: 0.9439\n",
            "Epoch 492/500\n",
            "2/2 [==============================] - 0s 172ms/step - loss: 1.8408e-05 - acc: 1.0000 - val_loss: 0.2554 - val_acc: 0.9439\n",
            "Epoch 493/500\n",
            "2/2 [==============================] - 0s 173ms/step - loss: 1.8498e-05 - acc: 1.0000 - val_loss: 0.2556 - val_acc: 0.9439\n",
            "Epoch 494/500\n",
            "2/2 [==============================] - 0s 177ms/step - loss: 1.8318e-05 - acc: 1.0000 - val_loss: 0.2559 - val_acc: 0.9439\n",
            "Epoch 495/500\n",
            "2/2 [==============================] - 0s 174ms/step - loss: 1.8574e-05 - acc: 1.0000 - val_loss: 0.2561 - val_acc: 0.9439\n",
            "Epoch 496/500\n",
            "2/2 [==============================] - 0s 173ms/step - loss: 1.8926e-05 - acc: 1.0000 - val_loss: 0.2562 - val_acc: 0.9439\n",
            "Epoch 497/500\n",
            "2/2 [==============================] - 0s 172ms/step - loss: 1.8524e-05 - acc: 1.0000 - val_loss: 0.2560 - val_acc: 0.9439\n",
            "Epoch 498/500\n",
            "2/2 [==============================] - 0s 178ms/step - loss: 1.7808e-05 - acc: 1.0000 - val_loss: 0.2562 - val_acc: 0.9439\n",
            "Epoch 499/500\n",
            "2/2 [==============================] - 0s 175ms/step - loss: 1.7456e-05 - acc: 1.0000 - val_loss: 0.2563 - val_acc: 0.9439\n",
            "Epoch 500/500\n",
            "2/2 [==============================] - 0s 172ms/step - loss: 1.8163e-05 - acc: 1.0000 - val_loss: 0.2566 - val_acc: 0.9439\n"
          ],
          "name": "stdout"
        }
      ]
    },
    {
      "cell_type": "code",
      "metadata": {
        "id": "x2qzK4SJB5y9",
        "colab": {
          "base_uri": "https://localhost:8080/",
          "height": 241
        },
        "outputId": "ec9bcb89-cd64-44b5-b650-0c32756b82ff"
      },
      "source": [
        "plt.figure(figsize =(5,3))\n",
        "plt.plot(history.history['acc'], marker='.', label='tune')\n",
        "plt.plot(history.history['val_acc'], marker='.', label='test')\n",
        "plt.title('Accuracy')\n",
        "plt.grid(True)\n",
        "plt.xlabel('epoch')\n",
        "plt.ylabel('accuracy')\n",
        "plt.legend(loc='best')\n",
        "plt.show()"
      ],
      "execution_count": 46,
      "outputs": [
        {
          "output_type": "display_data",
          "data": {
            "image/png": "[encoded data removed]",
            "text/plain": [
              "<Figure size 360x216 with 1 Axes>"
            ]
          },
          "metadata": {
            "tags": [],
            "needs_background": "light"
          }
        }
      ]
    }
  ]
}