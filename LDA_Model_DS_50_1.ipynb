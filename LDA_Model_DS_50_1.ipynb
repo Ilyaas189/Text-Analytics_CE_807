{
  "nbformat": 4,
  "nbformat_minor": 0,
  "metadata": {
    "colab": {
      "name": "LDA Model_DS_50_1.ipynb",
      "provenance": [],
      "collapsed_sections": [],
      "include_colab_link": true
    },
    "kernelspec": {
      "name": "python3",
      "display_name": "Python 3"
    },
    "language_info": {
      "name": "python"
    },
    "accelerator": "GPU"
  },
  "cells": [
    {
      "cell_type": "markdown",
      "metadata": {
        "id": "view-in-github",
        "colab_type": "text"
      },
      "source": [
        "<a href=\"https://colab.research.google.com/github/Ilyaas189/Text-Analytics_CE_807/blob/main/LDA_Model_DS_50_1.ipynb\" target=\"_parent\"><img src=\"https://colab.research.google.com/assets/colab-badge.svg\" alt=\"Open In Colab\"/></a>"
      ]
    },
    {
      "cell_type": "code",
      "metadata": {
        "colab": {
          "resources": {
            "http://localhost:8080/nbextensions/google.colab/files.js": {
              "data": "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",
              "ok": true,
              "headers": [
                [
                  "content-type",
                  "application/javascript"
                ]
              ],
              "status": 200,
              "status_text": ""
            }
          },
          "base_uri": "https://localhost:8080/",
          "height": 37
        },
        "id": "h48neXM-ANwE",
        "outputId": "ce96cc30-db76-44ab-9d3a-41fd98408402"
      },
      "source": [
        "import pandas as pd\n",
        "import numpy as np\n",
        "import matplotlib.pyplot as plt\n",
        "import warnings\n",
        "from google.colab import files\n",
        "from sklearn.naive_bayes import MultinomialNB\n",
        "from sklearn.naive_bayes import BernoulliNB\n",
        "from sklearn.pipeline import Pipeline\n",
        "from sklearn.feature_extraction.text import TfidfVectorizer\n",
        "from sklearn.feature_extraction.text import TfidfTransformer\n",
        "from sklearn.linear_model import SGDClassifier\n",
        "from sklearn.linear_model import LogisticRegression\n",
        "from nltk.stem.snowball import SnowballStemmer\n",
        "from sklearn.neighbors import KNeighborsClassifier\n",
        "from sklearn.ensemble import RandomForestClassifier\n",
        "import numpy as np\n",
        "import re\n",
        "\n",
        "\n",
        "import matplotlib.pyplot as plt\n",
        "%matplotlib inline\n",
        "\n",
        "import nltk\n",
        "import random\n",
        "uploaded = files.upload()\n",
        "files = list(uploaded.keys())\n"
      ],
      "execution_count": 1,
      "outputs": [
        {
          "output_type": "display_data",
          "data": {
            "text/html": [
              "\n",
              "     <input type=\"file\" id=\"files-7cd9c13b-8c56-4d56-87ce-20cc3afee552\" name=\"files[]\" multiple disabled\n",
              "        style=\"border:none\" />\n",
              "     <output id=\"result-7cd9c13b-8c56-4d56-87ce-20cc3afee552\">\n",
              "      Upload widget is only available when the cell has been executed in the\n",
              "      current browser session. Please rerun this cell to enable.\n",
              "      </output>\n",
              "      <script src=\"/nbextensions/google.colab/files.js\"></script> "
            ],
            "text/plain": [
              "<IPython.core.display.HTML object>"
            ]
          },
          "metadata": {
            "tags": []
          }
        }
      ]
    },
    {
      "cell_type": "code",
      "metadata": {
        "colab": {
          "base_uri": "https://localhost:8080/"
        },
        "id": "qcrJU_pzAhOm",
        "outputId": "27a40ff1-8afd-4e56-9c1f-b8c4a53f0ab8"
      },
      "source": [
        "# Import Dataset\n",
        "data = pd.read_json('https://raw.githubusercontent.com/selva86/datasets/master/newsgroups.json')\n",
        "print(data.target_names.unique())"
      ],
      "execution_count": 2,
      "outputs": [
        {
          "output_type": "stream",
          "text": [
            "['rec.autos' 'comp.sys.mac.hardware' 'comp.graphics' 'sci.space'\n",
            " 'talk.politics.guns' 'sci.med' 'comp.sys.ibm.pc.hardware'\n",
            " 'comp.os.ms-windows.misc' 'rec.motorcycles' 'talk.religion.misc'\n",
            " 'misc.forsale' 'alt.atheism' 'sci.electronics' 'comp.windows.x'\n",
            " 'rec.sport.hockey' 'rec.sport.baseball' 'soc.religion.christian'\n",
            " 'talk.politics.mideast' 'talk.politics.misc' 'sci.crypt']\n"
          ],
          "name": "stdout"
        }
      ]
    },
    {
      "cell_type": "code",
      "metadata": {
        "colab": {
          "base_uri": "https://localhost:8080/",
          "height": 648
        },
        "id": "SnGiNUYGAtLQ",
        "outputId": "f4704d18-cbfb-4bc1-fc99-52f64c231efe"
      },
      "source": [
        "data.head(20)"
      ],
      "execution_count": 3,
      "outputs": [
        {
          "output_type": "execute_result",
          "data": {
            "text/html": [
              "<div>\n",
              "<style scoped>\n",
              "    .dataframe tbody tr th:only-of-type {\n",
              "        vertical-align: middle;\n",
              "    }\n",
              "\n",
              "    .dataframe tbody tr th {\n",
              "        vertical-align: top;\n",
              "    }\n",
              "\n",
              "    .dataframe thead th {\n",
              "        text-align: right;\n",
              "    }\n",
              "</style>\n",
              "<table border=\"1\" class=\"dataframe\">\n",
              "  <thead>\n",
              "    <tr style=\"text-align: right;\">\n",
              "      <th></th>\n",
              "      <th>content</th>\n",
              "      <th>target</th>\n",
              "      <th>target_names</th>\n",
              "    </tr>\n",
              "  </thead>\n",
              "  <tbody>\n",
              "    <tr>\n",
              "      <th>0</th>\n",
              "      <td>From: lerxst@wam.umd.edu (where's my thing)\\nS...</td>\n",
              "      <td>7</td>\n",
              "      <td>rec.autos</td>\n",
              "    </tr>\n",
              "    <tr>\n",
              "      <th>1</th>\n",
              "      <td>From: guykuo@carson.u.washington.edu (Guy Kuo)...</td>\n",
              "      <td>4</td>\n",
              "      <td>comp.sys.mac.hardware</td>\n",
              "    </tr>\n",
              "    <tr>\n",
              "      <th>2</th>\n",
              "      <td>From: twillis@ec.ecn.purdue.edu (Thomas E Will...</td>\n",
              "      <td>4</td>\n",
              "      <td>comp.sys.mac.hardware</td>\n",
              "    </tr>\n",
              "    <tr>\n",
              "      <th>3</th>\n",
              "      <td>From: jgreen@amber (Joe Green)\\nSubject: Re: W...</td>\n",
              "      <td>1</td>\n",
              "      <td>comp.graphics</td>\n",
              "    </tr>\n",
              "    <tr>\n",
              "      <th>4</th>\n",
              "      <td>From: jcm@head-cfa.harvard.edu (Jonathan McDow...</td>\n",
              "      <td>14</td>\n",
              "      <td>sci.space</td>\n",
              "    </tr>\n",
              "    <tr>\n",
              "      <th>5</th>\n",
              "      <td>From: dfo@vttoulu.tko.vtt.fi (Foxvog Douglas)\\...</td>\n",
              "      <td>16</td>\n",
              "      <td>talk.politics.guns</td>\n",
              "    </tr>\n",
              "    <tr>\n",
              "      <th>6</th>\n",
              "      <td>From: bmdelane@quads.uchicago.edu (brian manni...</td>\n",
              "      <td>13</td>\n",
              "      <td>sci.med</td>\n",
              "    </tr>\n",
              "    <tr>\n",
              "      <th>7</th>\n",
              "      <td>From: bgrubb@dante.nmsu.edu (GRUBB)\\nSubject: ...</td>\n",
              "      <td>3</td>\n",
              "      <td>comp.sys.ibm.pc.hardware</td>\n",
              "    </tr>\n",
              "    <tr>\n",
              "      <th>8</th>\n",
              "      <td>From: holmes7000@iscsvax.uni.edu\\nSubject: WIn...</td>\n",
              "      <td>2</td>\n",
              "      <td>comp.os.ms-windows.misc</td>\n",
              "    </tr>\n",
              "    <tr>\n",
              "      <th>9</th>\n",
              "      <td>From: kerr@ux1.cso.uiuc.edu (Stan Kerr)\\nSubje...</td>\n",
              "      <td>4</td>\n",
              "      <td>comp.sys.mac.hardware</td>\n",
              "    </tr>\n",
              "    <tr>\n",
              "      <th>10</th>\n",
              "      <td>From: irwin@cmptrc.lonestar.org (Irwin Arnstei...</td>\n",
              "      <td>8</td>\n",
              "      <td>rec.motorcycles</td>\n",
              "    </tr>\n",
              "    <tr>\n",
              "      <th>11</th>\n",
              "      <td>From: david@terminus.ericsson.se (David Bold)\\...</td>\n",
              "      <td>19</td>\n",
              "      <td>talk.religion.misc</td>\n",
              "    </tr>\n",
              "    <tr>\n",
              "      <th>12</th>\n",
              "      <td>From: rodc@fc.hp.com (Rod Cerkoney)\\nSubject: ...</td>\n",
              "      <td>4</td>\n",
              "      <td>comp.sys.mac.hardware</td>\n",
              "    </tr>\n",
              "    <tr>\n",
              "      <th>13</th>\n",
              "      <td>From: dbm0000@tm0006.lerc.nasa.gov (David B. M...</td>\n",
              "      <td>14</td>\n",
              "      <td>sci.space</td>\n",
              "    </tr>\n",
              "    <tr>\n",
              "      <th>14</th>\n",
              "      <td>From: jllee@acsu.buffalo.edu (Johnny L Lee)\\nS...</td>\n",
              "      <td>6</td>\n",
              "      <td>misc.forsale</td>\n",
              "    </tr>\n",
              "    <tr>\n",
              "      <th>15</th>\n",
              "      <td>From: mathew &lt;mathew@mantis.co.uk&gt;\\nSubject: R...</td>\n",
              "      <td>0</td>\n",
              "      <td>alt.atheism</td>\n",
              "    </tr>\n",
              "    <tr>\n",
              "      <th>16</th>\n",
              "      <td>From: ab@nova.cc.purdue.edu (Allen B)\\nSubject...</td>\n",
              "      <td>1</td>\n",
              "      <td>comp.graphics</td>\n",
              "    </tr>\n",
              "    <tr>\n",
              "      <th>17</th>\n",
              "      <td>From: CPKJP@vm.cc.latech.edu (Kevin Parker)\\nS...</td>\n",
              "      <td>7</td>\n",
              "      <td>rec.autos</td>\n",
              "    </tr>\n",
              "    <tr>\n",
              "      <th>18</th>\n",
              "      <td>From: ritley@uimrl7.mrl.uiuc.edu ()\\nSubject: ...</td>\n",
              "      <td>12</td>\n",
              "      <td>sci.electronics</td>\n",
              "    </tr>\n",
              "    <tr>\n",
              "      <th>19</th>\n",
              "      <td>From: abarden@tybse1.uucp (Ann Marie Barden)\\n...</td>\n",
              "      <td>5</td>\n",
              "      <td>comp.windows.x</td>\n",
              "    </tr>\n",
              "  </tbody>\n",
              "</table>\n",
              "</div>"
            ],
            "text/plain": [
              "                                              content  ...              target_names\n",
              "0   From: lerxst@wam.umd.edu (where's my thing)\\nS...  ...                 rec.autos\n",
              "1   From: guykuo@carson.u.washington.edu (Guy Kuo)...  ...     comp.sys.mac.hardware\n",
              "2   From: twillis@ec.ecn.purdue.edu (Thomas E Will...  ...     comp.sys.mac.hardware\n",
              "3   From: jgreen@amber (Joe Green)\\nSubject: Re: W...  ...             comp.graphics\n",
              "4   From: jcm@head-cfa.harvard.edu (Jonathan McDow...  ...                 sci.space\n",
              "5   From: dfo@vttoulu.tko.vtt.fi (Foxvog Douglas)\\...  ...        talk.politics.guns\n",
              "6   From: bmdelane@quads.uchicago.edu (brian manni...  ...                   sci.med\n",
              "7   From: bgrubb@dante.nmsu.edu (GRUBB)\\nSubject: ...  ...  comp.sys.ibm.pc.hardware\n",
              "8   From: holmes7000@iscsvax.uni.edu\\nSubject: WIn...  ...   comp.os.ms-windows.misc\n",
              "9   From: kerr@ux1.cso.uiuc.edu (Stan Kerr)\\nSubje...  ...     comp.sys.mac.hardware\n",
              "10  From: irwin@cmptrc.lonestar.org (Irwin Arnstei...  ...           rec.motorcycles\n",
              "11  From: david@terminus.ericsson.se (David Bold)\\...  ...        talk.religion.misc\n",
              "12  From: rodc@fc.hp.com (Rod Cerkoney)\\nSubject: ...  ...     comp.sys.mac.hardware\n",
              "13  From: dbm0000@tm0006.lerc.nasa.gov (David B. M...  ...                 sci.space\n",
              "14  From: jllee@acsu.buffalo.edu (Johnny L Lee)\\nS...  ...              misc.forsale\n",
              "15  From: mathew <mathew@mantis.co.uk>\\nSubject: R...  ...               alt.atheism\n",
              "16  From: ab@nova.cc.purdue.edu (Allen B)\\nSubject...  ...             comp.graphics\n",
              "17  From: CPKJP@vm.cc.latech.edu (Kevin Parker)\\nS...  ...                 rec.autos\n",
              "18  From: ritley@uimrl7.mrl.uiuc.edu ()\\nSubject: ...  ...           sci.electronics\n",
              "19  From: abarden@tybse1.uucp (Ann Marie Barden)\\n...  ...            comp.windows.x\n",
              "\n",
              "[20 rows x 3 columns]"
            ]
          },
          "metadata": {
            "tags": []
          },
          "execution_count": 3
        }
      ]
    },
    {
      "cell_type": "code",
      "metadata": {
        "colab": {
          "base_uri": "https://localhost:8080/"
        },
        "id": "i1t4Hd65BKo4",
        "outputId": "6fd81ecd-00b2-49c0-be80-077d9796a07c"
      },
      "source": [
        "data_clusterization = data[['content', 'target_names']]\n",
        "data_clusterization.dropna(inplace=True)"
      ],
      "execution_count": 4,
      "outputs": [
        {
          "output_type": "stream",
          "text": [
            "/usr/local/lib/python3.7/dist-packages/ipykernel_launcher.py:2: SettingWithCopyWarning: \n",
            "A value is trying to be set on a copy of a slice from a DataFrame\n",
            "\n",
            "See the caveats in the documentation: https://pandas.pydata.org/pandas-docs/stable/user_guide/indexing.html#returning-a-view-versus-a-copy\n",
            "  \n"
          ],
          "name": "stderr"
        }
      ]
    },
    {
      "cell_type": "code",
      "metadata": {
        "colab": {
          "base_uri": "https://localhost:8080/",
          "height": 108
        },
        "id": "0xRJ8_03Bd1W",
        "outputId": "fd2c2b6e-41bb-493d-abc1-479db6b3be4d"
      },
      "source": [
        "data_clusterization.head(2)\n"
      ],
      "execution_count": 5,
      "outputs": [
        {
          "output_type": "execute_result",
          "data": {
            "text/html": [
              "<div>\n",
              "<style scoped>\n",
              "    .dataframe tbody tr th:only-of-type {\n",
              "        vertical-align: middle;\n",
              "    }\n",
              "\n",
              "    .dataframe tbody tr th {\n",
              "        vertical-align: top;\n",
              "    }\n",
              "\n",
              "    .dataframe thead th {\n",
              "        text-align: right;\n",
              "    }\n",
              "</style>\n",
              "<table border=\"1\" class=\"dataframe\">\n",
              "  <thead>\n",
              "    <tr style=\"text-align: right;\">\n",
              "      <th></th>\n",
              "      <th>content</th>\n",
              "      <th>target_names</th>\n",
              "    </tr>\n",
              "  </thead>\n",
              "  <tbody>\n",
              "    <tr>\n",
              "      <th>0</th>\n",
              "      <td>From: lerxst@wam.umd.edu (where's my thing)\\nS...</td>\n",
              "      <td>rec.autos</td>\n",
              "    </tr>\n",
              "    <tr>\n",
              "      <th>1</th>\n",
              "      <td>From: guykuo@carson.u.washington.edu (Guy Kuo)...</td>\n",
              "      <td>comp.sys.mac.hardware</td>\n",
              "    </tr>\n",
              "  </tbody>\n",
              "</table>\n",
              "</div>"
            ],
            "text/plain": [
              "                                             content           target_names\n",
              "0  From: lerxst@wam.umd.edu (where's my thing)\\nS...              rec.autos\n",
              "1  From: guykuo@carson.u.washington.edu (Guy Kuo)...  comp.sys.mac.hardware"
            ]
          },
          "metadata": {
            "tags": []
          },
          "execution_count": 5
        }
      ]
    },
    {
      "cell_type": "code",
      "metadata": {
        "colab": {
          "base_uri": "https://localhost:8080/"
        },
        "id": "0iUh1DoLBmXP",
        "outputId": "b8d88817-c565-4ff2-8529-47a18015d3cb"
      },
      "source": [
        "import gensim\n",
        "from gensim.utils import simple_preprocess\n",
        "from gensim.parsing.preprocessing import STOPWORDS\n",
        "from nltk.stem import WordNetLemmatizer, SnowballStemmer\n",
        "from nltk.stem.porter import *\n",
        "import numpy as np\n",
        "np.random.seed(2018)\n",
        "import nltk\n",
        "nltk.download('wordnet')"
      ],
      "execution_count": 6,
      "outputs": [
        {
          "output_type": "stream",
          "text": [
            "[nltk_data] Downloading package wordnet to /root/nltk_data...\n",
            "[nltk_data]   Unzipping corpora/wordnet.zip.\n"
          ],
          "name": "stdout"
        },
        {
          "output_type": "execute_result",
          "data": {
            "text/plain": [
              "True"
            ]
          },
          "metadata": {
            "tags": []
          },
          "execution_count": 6
        }
      ]
    },
    {
      "cell_type": "code",
      "metadata": {
        "id": "s7hwfWd1Bw8S"
      },
      "source": [
        "def lemmatize_stemming(text):\n",
        " stemmer = SnowballStemmer(language='english')\n",
        " return stemmer.stem(WordNetLemmatizer().lemmatize(text, pos='v'))\n",
        "def preprocess(text):\n",
        " result = []\n",
        " for token in gensim.utils.simple_preprocess(text):\n",
        "   if token not in gensim.parsing.preprocessing.STOPWORDS and len(token) > 3:\n",
        "     result.append(lemmatize_stemming(token))\n",
        " return result"
      ],
      "execution_count": 7,
      "outputs": []
    },
    {
      "cell_type": "code",
      "metadata": {
        "id": "iJfVX8biB_Sa"
      },
      "source": [
        "processed_docs = data_clusterization['content'].map(preprocess)\n",
        "data_processed = processed_docs.to_frame()\n",
        "data_processed['content'] = data_processed.content.apply(lambda x: ' '.join(x))\n"
      ],
      "execution_count": 8,
      "outputs": []
    },
    {
      "cell_type": "code",
      "metadata": {
        "colab": {
          "base_uri": "https://localhost:8080/"
        },
        "id": "gCHPTBYJClMy",
        "outputId": "6a06686b-0770-47a5-acc9-fc0694c33a33"
      },
      "source": [
        "!pip install tokenize_uk\n",
        "from collections import Counter\n",
        "from tokenize_uk.tokenize_uk import tokenize_words"
      ],
      "execution_count": 9,
      "outputs": [
        {
          "output_type": "stream",
          "text": [
            "Collecting tokenize_uk\n",
            "  Downloading https://files.pythonhosted.org/packages/ac/21/72abb0304b532e1b2d2473b50d8063ddd0943e3b3fe7e86b366bc4d02aa2/tokenize_uk-0.2.0.tar.gz\n",
            "Requirement already satisfied: six in /usr/local/lib/python3.7/dist-packages (from tokenize_uk) (1.15.0)\n",
            "Building wheels for collected packages: tokenize-uk\n",
            "  Building wheel for tokenize-uk (setup.py) ... \u001b[?25l\u001b[?25hdone\n",
            "  Created wheel for tokenize-uk: filename=tokenize_uk-0.2.0-py2.py3-none-any.whl size=4565 sha256=987b627a8cf894e2806e746b5166f1b45e20c86849b9fda7ec29157dc5b58e88\n",
            "  Stored in directory: /root/.cache/pip/wheels/2c/e1/95/fd8af5b40aeebdc4e178974e7f638f5553aa8772117054db9e\n",
            "Successfully built tokenize-uk\n",
            "Installing collected packages: tokenize-uk\n",
            "Successfully installed tokenize-uk-0.2.0\n"
          ],
          "name": "stdout"
        }
      ]
    },
    {
      "cell_type": "code",
      "metadata": {
        "colab": {
          "base_uri": "https://localhost:8080/",
          "height": 363
        },
        "id": "94mq8WUoCqHq",
        "outputId": "291415c1-b069-4419-ae5c-3af8eba23b88"
      },
      "source": [
        "def display_words(data, title, ax):\n",
        " count = Counter(sum(map(lambda text: tokenize_words(text), data), []))\n",
        " popular = np.array(sorted(count.items(), key=lambda x: x[1], reverse=True)[:20])\n",
        " plt.sca(ax)\n",
        " plt.title(title)\n",
        " plt.bar(popular[:,0], np.int32(popular[:,1]))\n",
        " plt.xticks(rotation=\"vertical\")\n",
        "fig, ax = plt.subplots(figsize=(16, 5))\n",
        "display_words(data_processed.sample(1000).content, \"The most popular words]\", ax)"
      ],
      "execution_count": 10,
      "outputs": [
        {
          "output_type": "display_data",
          "data": {
            "image/png": "[encoded data removed]",
            "text/plain": [
              "<Figure size 1152x360 with 1 Axes>"
            ]
          },
          "metadata": {
            "tags": [],
            "needs_background": "light"
          }
        }
      ]
    },
    {
      "cell_type": "code",
      "metadata": {
        "id": "UCM4qevNC5Ty"
      },
      "source": [
        "from sklearn.feature_extraction.text import CountVectorizer"
      ],
      "execution_count": 11,
      "outputs": []
    },
    {
      "cell_type": "code",
      "metadata": {
        "colab": {
          "base_uri": "https://localhost:8080/"
        },
        "id": "NMnRgz3aC8f5",
        "outputId": "67697e65-850f-4827-be96-d795b9ebf211"
      },
      "source": [
        "count_vectorizer = CountVectorizer()\n",
        "count_data = count_vectorizer.fit_transform(data_processed['content'])\n",
        "count_data"
      ],
      "execution_count": 12,
      "outputs": [
        {
          "output_type": "execute_result",
          "data": {
            "text/plain": [
              "<11314x61410 sparse matrix of type '<class 'numpy.int64'>'\n",
              "\twith 934270 stored elements in Compressed Sparse Row format>"
            ]
          },
          "metadata": {
            "tags": []
          },
          "execution_count": 12
        }
      ]
    },
    {
      "cell_type": "code",
      "metadata": {
        "id": "6TmSX73jDEJS"
      },
      "source": [
        "likelihood = []\n",
        "n_clusters = []"
      ],
      "execution_count": 13,
      "outputs": []
    },
    {
      "cell_type": "code",
      "metadata": {
        "id": "z9uTcUJlDHT0"
      },
      "source": [
        "import seaborn as sns\n",
        "from sklearn.decomposition import LatentDirichletAllocation as LDA"
      ],
      "execution_count": 14,
      "outputs": []
    },
    {
      "cell_type": "code",
      "metadata": {
        "id": "Hki6oWR0DLwb"
      },
      "source": [
        "def estimate_number_clusters(data, nclusters):\n",
        " for n in nclusters:\n",
        "   likelihood.append(LDA(n_components=n, n_jobs=-1).fit(data).score(data))\n",
        " n_clusters.append(n)\n",
        " print(\"Sccesfully estimated \", n)\n",
        " fig, ax = plt.subplots(figsize=(15, 5))\n",
        " sns.lineplot(x=n_clusters, y=likelihood, ax=ax)\n",
        " ax.set_title('Elbow method for choosing n, likelihood')\n",
        " ax.set_ylabel('Likelihood')\n",
        " ax.set_xlabel('n')\n",
        "\n",
        "\n"
      ],
      "execution_count": 15,
      "outputs": []
    },
    {
      "cell_type": "code",
      "metadata": {
        "id": "_CBG_y1fJszZ"
      },
      "source": [
        "# estimate_number_clusters(count_data, [10, 15, 20, 50])\n",
        " \n",
        " "
      ],
      "execution_count": 16,
      "outputs": []
    },
    {
      "cell_type": "code",
      "metadata": {
        "id": "_XNMixjQJuYE"
      },
      "source": [
        "def print_topics(model, count_vectorizer, n_top_words):\n",
        "  words = count_vectorizer.get_feature_names()\n",
        "  for topic_idx, topic in enumerate(model.components_):\n",
        "    print(\"\\nTopic #%d:\" % topic_idx)\n",
        "    print(\" \".join([words[i]\n",
        "  for i in topic.argsort()[:-n_top_words - 1:-1]]))"
      ],
      "execution_count": 17,
      "outputs": []
    },
    {
      "cell_type": "code",
      "metadata": {
        "id": "Ugizp_hhFpzm"
      },
      "source": [
        "from sklearn.decomposition import LatentDirichletAllocation as LDA\n"
      ],
      "execution_count": 18,
      "outputs": []
    },
    {
      "cell_type": "code",
      "metadata": {
        "colab": {
          "base_uri": "https://localhost:8080/"
        },
        "id": "oWtTkYX1Ftia",
        "outputId": "16cd824d-c13e-4040-caf4-6210e6506a3e"
      },
      "source": [
        "number_topics = 50\n",
        "number_words = 10\n",
        "# Create and fit the LDA model\n",
        "lda = LDA(n_components=number_topics, n_jobs=-1)\n",
        "lda.fit(count_data)\n",
        "# Print the topics found by the LDA model\n",
        "print(\"Topics found via LDA:\")\n",
        "print_topics(lda, count_vectorizer, number_words)"
      ],
      "execution_count": 19,
      "outputs": [
        {
          "output_type": "stream",
          "text": [
            "Topics found via LDA:\n",
            "\n",
            "Topic #0:\n",
            "card line subject organ thank driver univers window problem video\n",
            "\n",
            "Topic #1:\n",
            "moral write uiuc keith caltech object subject line organ think\n",
            "\n",
            "Topic #2:\n",
            "wire subject line organ post need write like printer articl\n",
            "\n",
            "Topic #3:\n",
            "access digex insur subject post line organ host nntp write\n",
            "\n",
            "Topic #4:\n",
            "encrypt chip clipper secur govern key escrow privaci phone line\n",
            "\n",
            "Topic #5:\n",
            "line organ subject engin write cost like window softwar program\n",
            "\n",
            "Topic #6:\n",
            "year game line organ subject team player basebal good pitch\n",
            "\n",
            "Topic #7:\n",
            "sale line subject organ univers post columbia host nntp sell\n",
            "\n",
            "Topic #8:\n",
            "subject line organ write univers articl indiana post hang jewish\n",
            "\n",
            "Topic #9:\n",
            "line bike organ subject like write articl good drive look\n",
            "\n",
            "Topic #10:\n",
            "line organ subject post write david nntp host articl know\n",
            "\n",
            "Topic #11:\n",
            "armenian armenia write know henrik azerbaijan subject say articl line\n",
            "\n",
            "Topic #12:\n",
            "european father spirit time line subject organ monash american franci\n",
            "\n",
            "Topic #13:\n",
            "jpeg imag berkeley keyboard mark appear post line color subject\n",
            "\n",
            "Topic #14:\n",
            "entri file output program line number section stream build char\n",
            "\n",
            "Topic #15:\n",
            "window subject henri line toronto xterm work organ font articl\n",
            "\n",
            "Topic #16:\n",
            "israel isra say arab peopl jew go know come tell\n",
            "\n",
            "Topic #17:\n",
            "widget applic display resourc window valu visual point colormap string\n",
            "\n",
            "Topic #18:\n",
            "right militia organ line peopl colorado write state subject articl\n",
            "\n",
            "Topic #19:\n",
            "space nasa center univers research inform april satellit nation technolog\n",
            "\n",
            "Topic #20:\n",
            "andrew line organ subject virginia post univers nntp host mellon\n",
            "\n",
            "Topic #21:\n",
            "pitt write articl bank organ subject line gordon scienc know\n",
            "\n",
            "Topic #22:\n",
            "uchicago univers midway line subject purdu organ flyer chicago church\n",
            "\n",
            "Topic #23:\n",
            "write articl cramer optilink subject organ homosexu line slave clayton\n",
            "\n",
            "Topic #24:\n",
            "write islam articl line sandvik organ subject kent appl muslim\n",
            "\n",
            "Topic #25:\n",
            "file window program imag mail avail softwar graphic user includ\n",
            "\n",
            "Topic #26:\n",
            "write line organ articl subject post batf udel koresh right\n",
            "\n",
            "Topic #27:\n",
            "peopl think govern right go time know say presid like\n",
            "\n",
            "Topic #28:\n",
            "period play power sweden ericsson second shot finland scorer goal\n",
            "\n",
            "Topic #29:\n",
            "articl write organ line subject post uoknor rise callison jam\n",
            "\n",
            "Topic #30:\n",
            "window subject line cwru organ cleveland post freenet host nntp\n",
            "\n",
            "Topic #31:\n",
            "team game hockey play player line year season subject organ\n",
            "\n",
            "Topic #32:\n",
            "stratus write organ articl subject line post host nntp irvin\n",
            "\n",
            "Topic #33:\n",
            "orbit space nasa earth moon launch mission lunar rocket probe\n",
            "\n",
            "Topic #34:\n",
            "dresden motorcycl revolv semi organ navi auto mask beck oasi\n",
            "\n",
            "Topic #35:\n",
            "gatech prism organ line subject georgia technolog write institut articl\n",
            "\n",
            "Topic #36:\n",
            "water health cancer arizona medic research center number dept report\n",
            "\n",
            "Topic #37:\n",
            "armenian turkish turk greek turkey argic serdar genocid armenia peopl\n",
            "\n",
            "Topic #38:\n",
            "write articl subject organ line post cornel like thor steve\n",
            "\n",
            "Topic #39:\n",
            "line grind subject organ wire write ingr post circuit articl\n",
            "\n",
            "Topic #40:\n",
            "diseas doctor patient organ subject line medic pain post caus\n",
            "\n",
            "Topic #41:\n",
            "jesus christian christ come peopl say write know bibl church\n",
            "\n",
            "Topic #42:\n",
            "weapon gun firearm crime state file polic control crimin like\n",
            "\n",
            "Topic #43:\n",
            "write line subject organ articl post know stanford appl like\n",
            "\n",
            "Topic #44:\n",
            "drive scsi disk control hard problem power line time work\n",
            "\n",
            "Topic #45:\n",
            "atheist exist religion atheism believ subject post religi belief write\n",
            "\n",
            "Topic #46:\n",
            "ohio state articl write line organ subject magnus post netcom\n",
            "\n",
            "Topic #47:\n",
            "cryptographi crypt cipher attack plaintext organ cryptosystem lopez ciphertext public\n",
            "\n",
            "Topic #48:\n",
            "nrhj bit wwiz byte gizw bhjn hiram bxom pnei nriz\n",
            "\n",
            "Topic #49:\n",
            "christian think question believ know write truth reason claim evid\n"
          ],
          "name": "stdout"
        }
      ]
    },
    {
      "cell_type": "code",
      "metadata": {
        "colab": {
          "base_uri": "https://localhost:8080/",
          "height": 198
        },
        "id": "LrPaQEiuGRt3",
        "outputId": "d0872c76-ee58-45eb-f52c-a60d43ec8db3"
      },
      "source": [
        "cluster_probabilities = lda.transform(count_data)\n",
        "data_processed['target'] = np.argmax(cluster_probabilities, axis=1)\n",
        "data_processed.head()"
      ],
      "execution_count": 20,
      "outputs": [
        {
          "output_type": "execute_result",
          "data": {
            "text/html": [
              "<div>\n",
              "<style scoped>\n",
              "    .dataframe tbody tr th:only-of-type {\n",
              "        vertical-align: middle;\n",
              "    }\n",
              "\n",
              "    .dataframe tbody tr th {\n",
              "        vertical-align: top;\n",
              "    }\n",
              "\n",
              "    .dataframe thead th {\n",
              "        text-align: right;\n",
              "    }\n",
              "</style>\n",
              "<table border=\"1\" class=\"dataframe\">\n",
              "  <thead>\n",
              "    <tr style=\"text-align: right;\">\n",
              "      <th></th>\n",
              "      <th>content</th>\n",
              "      <th>target</th>\n",
              "    </tr>\n",
              "  </thead>\n",
              "  <tbody>\n",
              "    <tr>\n",
              "      <th>0</th>\n",
              "      <td>lerxst thing subject nntp post host organ univ...</td>\n",
              "      <td>9</td>\n",
              "    </tr>\n",
              "    <tr>\n",
              "      <th>1</th>\n",
              "      <td>guykuo carson washington subject clock poll fi...</td>\n",
              "      <td>44</td>\n",
              "    </tr>\n",
              "    <tr>\n",
              "      <th>2</th>\n",
              "      <td>twilli purdu thoma willi subject question orga...</td>\n",
              "      <td>9</td>\n",
              "    </tr>\n",
              "    <tr>\n",
              "      <th>3</th>\n",
              "      <td>jgreen amber green subject weitek organ harri ...</td>\n",
              "      <td>26</td>\n",
              "    </tr>\n",
              "    <tr>\n",
              "      <th>4</th>\n",
              "      <td>head harvard jonathan mcdowel subject shuttl l...</td>\n",
              "      <td>5</td>\n",
              "    </tr>\n",
              "  </tbody>\n",
              "</table>\n",
              "</div>"
            ],
            "text/plain": [
              "                                             content  target\n",
              "0  lerxst thing subject nntp post host organ univ...       9\n",
              "1  guykuo carson washington subject clock poll fi...      44\n",
              "2  twilli purdu thoma willi subject question orga...       9\n",
              "3  jgreen amber green subject weitek organ harri ...      26\n",
              "4  head harvard jonathan mcdowel subject shuttl l...       5"
            ]
          },
          "metadata": {
            "tags": []
          },
          "execution_count": 20
        }
      ]
    },
    {
      "cell_type": "code",
      "metadata": {
        "id": "oJNJOHB9GkKP"
      },
      "source": [
        "import seaborn as sns\n"
      ],
      "execution_count": 21,
      "outputs": []
    },
    {
      "cell_type": "code",
      "metadata": {
        "colab": {
          "base_uri": "https://localhost:8080/",
          "height": 595
        },
        "id": "At3W9AMVGnga",
        "outputId": "0cbede5e-36d9-411c-9b44-c68782955ade"
      },
      "source": [
        "fig, ax = plt.subplots(figsize=(20, 10))\n",
        "sns.countplot(x=data_processed.target);\n",
        "ax.set_title(\"Number of articles that correspond to the topic\");\n"
      ],
      "execution_count": 22,
      "outputs": [
        {
          "output_type": "display_data",
          "data": {
            "image/png": "[encoded data removed]",
            "text/plain": [
              "<Figure size 1440x720 with 1 Axes>"
            ]
          },
          "metadata": {
            "tags": [],
            "needs_background": "light"
          }
        }
      ]
    },
    {
      "cell_type": "code",
      "metadata": {
        "id": "kJ07JMrCRAYx",
        "colab": {
          "base_uri": "https://localhost:8080/"
        },
        "outputId": "6db0cb9d-2246-4956-d328-3e15dab1e9b4"
      },
      "source": [
        "#Loading the data set - training data.\n",
        "from sklearn.datasets import fetch_20newsgroups\n",
        "mydata_train = fetch_20newsgroups(subset='train', shuffle=True, remove = ('headers', 'footers', 'quotes'))"
      ],
      "execution_count": 23,
      "outputs": [
        {
          "output_type": "stream",
          "text": [
            "Downloading 20news dataset. This may take a few minutes.\n",
            "Downloading dataset from https://ndownloader.figshare.com/files/5975967 (14 MB)\n"
          ],
          "name": "stderr"
        }
      ]
    },
    {
      "cell_type": "code",
      "metadata": {
        "colab": {
          "base_uri": "https://localhost:8080/"
        },
        "id": "Bpyae_wBRHIU",
        "outputId": "8a42c739-7f17-4d39-9dcc-4396a118f22d"
      },
      "source": [
        "list(mydata_train)\n"
      ],
      "execution_count": 24,
      "outputs": [
        {
          "output_type": "execute_result",
          "data": {
            "text/plain": [
              "['data', 'filenames', 'target_names', 'target', 'DESCR']"
            ]
          },
          "metadata": {
            "tags": []
          },
          "execution_count": 24
        }
      ]
    },
    {
      "cell_type": "code",
      "metadata": {
        "colab": {
          "base_uri": "https://localhost:8080/"
        },
        "id": "WsmrhUPeRJ9l",
        "outputId": "3df6bc2b-756c-43f4-8df6-ab7f0e816d26"
      },
      "source": [
        "print('Training data size:', len(mydata_train['data']))\n"
      ],
      "execution_count": 25,
      "outputs": [
        {
          "output_type": "stream",
          "text": [
            "Training data size: 11314\n"
          ],
          "name": "stdout"
        }
      ]
    },
    {
      "cell_type": "code",
      "metadata": {
        "colab": {
          "base_uri": "https://localhost:8080/"
        },
        "id": "Nv1WrOdSRONT",
        "outputId": "44080083-92e8-4693-e37d-29ea2420a213"
      },
      "source": [
        "# Printing all the categories\n",
        "mydata_train.target_names"
      ],
      "execution_count": 26,
      "outputs": [
        {
          "output_type": "execute_result",
          "data": {
            "text/plain": [
              "['alt.atheism',\n",
              " 'comp.graphics',\n",
              " 'comp.os.ms-windows.misc',\n",
              " 'comp.sys.ibm.pc.hardware',\n",
              " 'comp.sys.mac.hardware',\n",
              " 'comp.windows.x',\n",
              " 'misc.forsale',\n",
              " 'rec.autos',\n",
              " 'rec.motorcycles',\n",
              " 'rec.sport.baseball',\n",
              " 'rec.sport.hockey',\n",
              " 'sci.crypt',\n",
              " 'sci.electronics',\n",
              " 'sci.med',\n",
              " 'sci.space',\n",
              " 'soc.religion.christian',\n",
              " 'talk.politics.guns',\n",
              " 'talk.politics.mideast',\n",
              " 'talk.politics.misc',\n",
              " 'talk.religion.misc']"
            ]
          },
          "metadata": {
            "tags": []
          },
          "execution_count": 26
        }
      ]
    },
    {
      "cell_type": "code",
      "metadata": {
        "colab": {
          "base_uri": "https://localhost:8080/"
        },
        "id": "krZedPVlRRxL",
        "outputId": "025b180a-beb8-41cf-c368-4e470c6117e5"
      },
      "source": [
        "\n",
        "# Finding frequency of each category\n",
        "targets, frequency = np.unique(mydata_train.target, return_counts=True)\n",
        "targets, frequency"
      ],
      "execution_count": 27,
      "outputs": [
        {
          "output_type": "execute_result",
          "data": {
            "text/plain": [
              "(array([ 0,  1,  2,  3,  4,  5,  6,  7,  8,  9, 10, 11, 12, 13, 14, 15, 16,\n",
              "        17, 18, 19]),\n",
              " array([480, 584, 591, 590, 578, 593, 585, 594, 598, 597, 600, 595, 591,\n",
              "        594, 593, 599, 546, 564, 465, 377]))"
            ]
          },
          "metadata": {
            "tags": []
          },
          "execution_count": 27
        }
      ]
    },
    {
      "cell_type": "code",
      "metadata": {
        "colab": {
          "base_uri": "https://localhost:8080/"
        },
        "id": "lSr8qhRVRWTb",
        "outputId": "c714cac8-62e0-41b4-98d5-03b896ccd51b"
      },
      "source": [
        "targets_str = np.array(mydata_train.target_names)\n",
        "print(list(zip(targets_str, frequency)))"
      ],
      "execution_count": 28,
      "outputs": [
        {
          "output_type": "stream",
          "text": [
            "[('alt.atheism', 480), ('comp.graphics', 584), ('comp.os.ms-windows.misc', 591), ('comp.sys.ibm.pc.hardware', 590), ('comp.sys.mac.hardware', 578), ('comp.windows.x', 593), ('misc.forsale', 585), ('rec.autos', 594), ('rec.motorcycles', 598), ('rec.sport.baseball', 597), ('rec.sport.hockey', 600), ('sci.crypt', 595), ('sci.electronics', 591), ('sci.med', 594), ('sci.space', 593), ('soc.religion.christian', 599), ('talk.politics.guns', 546), ('talk.politics.mideast', 564), ('talk.politics.misc', 465), ('talk.religion.misc', 377)]\n"
          ],
          "name": "stdout"
        }
      ]
    },
    {
      "cell_type": "code",
      "metadata": {
        "id": "1pZ_KnVPRZSm"
      },
      "source": [
        "mydata_test = fetch_20newsgroups(subset='test', shuffle=True, remove = ('headers', 'footers', 'quotes'))\n"
      ],
      "execution_count": 29,
      "outputs": []
    },
    {
      "cell_type": "code",
      "metadata": {
        "colab": {
          "base_uri": "https://localhost:8080/"
        },
        "id": "IEcSYoJmRcUc",
        "outputId": "e287d3b2-3f37-4e46-c86b-a24410003c2e"
      },
      "source": [
        "print('Testing data size:', len(mydata_test['data']))\n"
      ],
      "execution_count": 30,
      "outputs": [
        {
          "output_type": "stream",
          "text": [
            "Testing data size: 7532\n"
          ],
          "name": "stdout"
        }
      ]
    },
    {
      "cell_type": "code",
      "metadata": {
        "colab": {
          "base_uri": "https://localhost:8080/",
          "height": 198
        },
        "id": "_aSKch0QRf_o",
        "outputId": "25534e1c-2178-4462-b6ec-ab4c374462e3"
      },
      "source": [
        "mydata_train_df = pd.DataFrame({'data': mydata_train.data, 'target': mydata_train.target})\n",
        "mydata_train_df.head()"
      ],
      "execution_count": 31,
      "outputs": [
        {
          "output_type": "execute_result",
          "data": {
            "text/html": [
              "<div>\n",
              "<style scoped>\n",
              "    .dataframe tbody tr th:only-of-type {\n",
              "        vertical-align: middle;\n",
              "    }\n",
              "\n",
              "    .dataframe tbody tr th {\n",
              "        vertical-align: top;\n",
              "    }\n",
              "\n",
              "    .dataframe thead th {\n",
              "        text-align: right;\n",
              "    }\n",
              "</style>\n",
              "<table border=\"1\" class=\"dataframe\">\n",
              "  <thead>\n",
              "    <tr style=\"text-align: right;\">\n",
              "      <th></th>\n",
              "      <th>data</th>\n",
              "      <th>target</th>\n",
              "    </tr>\n",
              "  </thead>\n",
              "  <tbody>\n",
              "    <tr>\n",
              "      <th>0</th>\n",
              "      <td>I was wondering if anyone out there could enli...</td>\n",
              "      <td>7</td>\n",
              "    </tr>\n",
              "    <tr>\n",
              "      <th>1</th>\n",
              "      <td>A fair number of brave souls who upgraded thei...</td>\n",
              "      <td>4</td>\n",
              "    </tr>\n",
              "    <tr>\n",
              "      <th>2</th>\n",
              "      <td>well folks, my mac plus finally gave up the gh...</td>\n",
              "      <td>4</td>\n",
              "    </tr>\n",
              "    <tr>\n",
              "      <th>3</th>\n",
              "      <td>\\nDo you have Weitek's address/phone number?  ...</td>\n",
              "      <td>1</td>\n",
              "    </tr>\n",
              "    <tr>\n",
              "      <th>4</th>\n",
              "      <td>From article &lt;C5owCB.n3p@world.std.com&gt;, by to...</td>\n",
              "      <td>14</td>\n",
              "    </tr>\n",
              "  </tbody>\n",
              "</table>\n",
              "</div>"
            ],
            "text/plain": [
              "                                                data  target\n",
              "0  I was wondering if anyone out there could enli...       7\n",
              "1  A fair number of brave souls who upgraded thei...       4\n",
              "2  well folks, my mac plus finally gave up the gh...       4\n",
              "3  \\nDo you have Weitek's address/phone number?  ...       1\n",
              "4  From article <C5owCB.n3p@world.std.com>, by to...      14"
            ]
          },
          "metadata": {
            "tags": []
          },
          "execution_count": 31
        }
      ]
    },
    {
      "cell_type": "code",
      "metadata": {
        "colab": {
          "base_uri": "https://localhost:8080/",
          "height": 198
        },
        "id": "ttru-cT7Rj9K",
        "outputId": "ca6373da-8493-48c0-8b9a-50835ef66f7e"
      },
      "source": [
        "# Text preprocessing steps - remove numbers, captial letters and punctuation\n",
        "import re\n",
        "import string\n",
        "\n",
        "alphanumeric = lambda x: re.sub(r\"\"\"\\w*\\d\\w*\"\"\", ' ', x)\n",
        "punc_lower = lambda x: re.sub('[%s]' % re.escape(string.punctuation), ' ', x.lower())\n",
        "\n",
        "mydata_train_df['data'] = mydata_train_df.data.map(alphanumeric).map(punc_lower)\n",
        "mydata_train_df.head()"
      ],
      "execution_count": 32,
      "outputs": [
        {
          "output_type": "execute_result",
          "data": {
            "text/html": [
              "<div>\n",
              "<style scoped>\n",
              "    .dataframe tbody tr th:only-of-type {\n",
              "        vertical-align: middle;\n",
              "    }\n",
              "\n",
              "    .dataframe tbody tr th {\n",
              "        vertical-align: top;\n",
              "    }\n",
              "\n",
              "    .dataframe thead th {\n",
              "        text-align: right;\n",
              "    }\n",
              "</style>\n",
              "<table border=\"1\" class=\"dataframe\">\n",
              "  <thead>\n",
              "    <tr style=\"text-align: right;\">\n",
              "      <th></th>\n",
              "      <th>data</th>\n",
              "      <th>target</th>\n",
              "    </tr>\n",
              "  </thead>\n",
              "  <tbody>\n",
              "    <tr>\n",
              "      <th>0</th>\n",
              "      <td>i was wondering if anyone out there could enli...</td>\n",
              "      <td>7</td>\n",
              "    </tr>\n",
              "    <tr>\n",
              "      <th>1</th>\n",
              "      <td>a fair number of brave souls who upgraded thei...</td>\n",
              "      <td>4</td>\n",
              "    </tr>\n",
              "    <tr>\n",
              "      <th>2</th>\n",
              "      <td>well folks  my mac plus finally gave up the gh...</td>\n",
              "      <td>4</td>\n",
              "    </tr>\n",
              "    <tr>\n",
              "      <th>3</th>\n",
              "      <td>\\ndo you have weitek s address phone number   ...</td>\n",
              "      <td>1</td>\n",
              "    </tr>\n",
              "    <tr>\n",
              "      <th>4</th>\n",
              "      <td>from article      world std com   by tombaker ...</td>\n",
              "      <td>14</td>\n",
              "    </tr>\n",
              "  </tbody>\n",
              "</table>\n",
              "</div>"
            ],
            "text/plain": [
              "                                                data  target\n",
              "0  i was wondering if anyone out there could enli...       7\n",
              "1  a fair number of brave souls who upgraded thei...       4\n",
              "2  well folks  my mac plus finally gave up the gh...       4\n",
              "3  \\ndo you have weitek s address phone number   ...       1\n",
              "4  from article      world std com   by tombaker ...      14"
            ]
          },
          "metadata": {
            "tags": []
          },
          "execution_count": 32
        }
      ]
    },
    {
      "cell_type": "code",
      "metadata": {
        "colab": {
          "base_uri": "https://localhost:8080/",
          "height": 198
        },
        "id": "8f6jlH07RoBH",
        "outputId": "f54e0ee1-ba26-4d38-c489-d0173b4c020c"
      },
      "source": [
        "mydata_test_df = pd.DataFrame({'data': mydata_test.data, 'target': mydata_test.target})\n",
        "mydata_test_df.head()"
      ],
      "execution_count": 33,
      "outputs": [
        {
          "output_type": "execute_result",
          "data": {
            "text/html": [
              "<div>\n",
              "<style scoped>\n",
              "    .dataframe tbody tr th:only-of-type {\n",
              "        vertical-align: middle;\n",
              "    }\n",
              "\n",
              "    .dataframe tbody tr th {\n",
              "        vertical-align: top;\n",
              "    }\n",
              "\n",
              "    .dataframe thead th {\n",
              "        text-align: right;\n",
              "    }\n",
              "</style>\n",
              "<table border=\"1\" class=\"dataframe\">\n",
              "  <thead>\n",
              "    <tr style=\"text-align: right;\">\n",
              "      <th></th>\n",
              "      <th>data</th>\n",
              "      <th>target</th>\n",
              "    </tr>\n",
              "  </thead>\n",
              "  <tbody>\n",
              "    <tr>\n",
              "      <th>0</th>\n",
              "      <td>I am a little confused on all of the models of...</td>\n",
              "      <td>7</td>\n",
              "    </tr>\n",
              "    <tr>\n",
              "      <th>1</th>\n",
              "      <td>I'm not familiar at all with the format of the...</td>\n",
              "      <td>5</td>\n",
              "    </tr>\n",
              "    <tr>\n",
              "      <th>2</th>\n",
              "      <td>\\nIn a word, yes.\\n</td>\n",
              "      <td>0</td>\n",
              "    </tr>\n",
              "    <tr>\n",
              "      <th>3</th>\n",
              "      <td>\\nThey were attacking the Iraqis to drive them...</td>\n",
              "      <td>17</td>\n",
              "    </tr>\n",
              "    <tr>\n",
              "      <th>4</th>\n",
              "      <td>\\nI've just spent two solid months arguing tha...</td>\n",
              "      <td>19</td>\n",
              "    </tr>\n",
              "  </tbody>\n",
              "</table>\n",
              "</div>"
            ],
            "text/plain": [
              "                                                data  target\n",
              "0  I am a little confused on all of the models of...       7\n",
              "1  I'm not familiar at all with the format of the...       5\n",
              "2                                \\nIn a word, yes.\\n       0\n",
              "3  \\nThey were attacking the Iraqis to drive them...      17\n",
              "4  \\nI've just spent two solid months arguing tha...      19"
            ]
          },
          "metadata": {
            "tags": []
          },
          "execution_count": 33
        }
      ]
    },
    {
      "cell_type": "code",
      "metadata": {
        "colab": {
          "base_uri": "https://localhost:8080/",
          "height": 198
        },
        "id": "tUjU5KP5RrlP",
        "outputId": "62cbafc4-d65a-4ae9-9212-c822ae755639"
      },
      "source": [
        "# Text preprocessing steps - remove numbers, captial letters and punctuation\n",
        "alphanumeric = lambda x: re.sub(r\"\"\"\\w*\\d\\w*\"\"\", ' ', x)\n",
        "punc_lower = lambda x: re.sub('[%s]' % re.escape(string.punctuation), ' ', x.lower())\n",
        "\n",
        "mydata_test_df['data'] = mydata_test_df.data.map(alphanumeric).map(punc_lower)\n",
        "mydata_test_df.head()"
      ],
      "execution_count": 34,
      "outputs": [
        {
          "output_type": "execute_result",
          "data": {
            "text/html": [
              "<div>\n",
              "<style scoped>\n",
              "    .dataframe tbody tr th:only-of-type {\n",
              "        vertical-align: middle;\n",
              "    }\n",
              "\n",
              "    .dataframe tbody tr th {\n",
              "        vertical-align: top;\n",
              "    }\n",
              "\n",
              "    .dataframe thead th {\n",
              "        text-align: right;\n",
              "    }\n",
              "</style>\n",
              "<table border=\"1\" class=\"dataframe\">\n",
              "  <thead>\n",
              "    <tr style=\"text-align: right;\">\n",
              "      <th></th>\n",
              "      <th>data</th>\n",
              "      <th>target</th>\n",
              "    </tr>\n",
              "  </thead>\n",
              "  <tbody>\n",
              "    <tr>\n",
              "      <th>0</th>\n",
              "      <td>i am a little confused on all of the models of...</td>\n",
              "      <td>7</td>\n",
              "    </tr>\n",
              "    <tr>\n",
              "      <th>1</th>\n",
              "      <td>i m not familiar at all with the format of the...</td>\n",
              "      <td>5</td>\n",
              "    </tr>\n",
              "    <tr>\n",
              "      <th>2</th>\n",
              "      <td>\\nin a word  yes \\n</td>\n",
              "      <td>0</td>\n",
              "    </tr>\n",
              "    <tr>\n",
              "      <th>3</th>\n",
              "      <td>\\nthey were attacking the iraqis to drive them...</td>\n",
              "      <td>17</td>\n",
              "    </tr>\n",
              "    <tr>\n",
              "      <th>4</th>\n",
              "      <td>\\ni ve just spent two solid months arguing tha...</td>\n",
              "      <td>19</td>\n",
              "    </tr>\n",
              "  </tbody>\n",
              "</table>\n",
              "</div>"
            ],
            "text/plain": [
              "                                                data  target\n",
              "0  i am a little confused on all of the models of...       7\n",
              "1  i m not familiar at all with the format of the...       5\n",
              "2                                \\nin a word  yes \\n       0\n",
              "3  \\nthey were attacking the iraqis to drive them...      17\n",
              "4  \\ni ve just spent two solid months arguing tha...      19"
            ]
          },
          "metadata": {
            "tags": []
          },
          "execution_count": 34
        }
      ]
    },
    {
      "cell_type": "code",
      "metadata": {
        "colab": {
          "base_uri": "https://localhost:8080/"
        },
        "id": "yUELDX2-bNNg",
        "outputId": "08ecb454-d176-46fe-e637-4695e563c6b2"
      },
      "source": [
        "# Extracting features from text files\n",
        "from sklearn.feature_extraction.text import CountVectorizer\n",
        "count_vect = CountVectorizer(stop_words='english')\n",
        "X_train_cv = count_vect.fit_transform(mydata_train_df.data) # fit_transform learns the\n",
        "X_test_cv = count_vect.transform(mydata_test_df.data) # transform uses the same vocab an\n",
        "print(X_train_cv.shape)\n",
        "print(type(X_train_cv))"
      ],
      "execution_count": 35,
      "outputs": [
        {
          "output_type": "stream",
          "text": [
            "(11314, 67822)\n",
            "<class 'scipy.sparse.csr.csr_matrix'>\n"
          ],
          "name": "stdout"
        }
      ]
    },
    {
      "cell_type": "code",
      "metadata": {
        "id": "cRUtZ9-VAkiY"
      },
      "source": [
        "import numpy as np\n",
        "\n",
        "from tqdm import tqdm\n",
        "\n",
        "from sklearn.datasets import fetch_20newsgroups\n",
        "\n",
        "from keras.preprocessing.text import Tokenizer\n",
        "from keras.preprocessing.sequence import pad_sequences\n",
        "from keras.utils.np_utils import to_categorical\n",
        "from keras.layers import Dense, Input, Flatten\n",
        "from keras.layers import Conv1D, MaxPooling1D, Embedding, Dropout\n",
        "from keras.models import Model"
      ],
      "execution_count": 36,
      "outputs": []
    },
    {
      "cell_type": "code",
      "metadata": {
        "colab": {
          "base_uri": "https://localhost:8080/"
        },
        "id": "4Oz3FjnHAqOw",
        "outputId": "f08579e8-090a-4b9a-fe19-6e8483da78a3"
      },
      "source": [
        "categories = ['alt.atheism', 'soc.religion.christian'] \n",
        "\n",
        "newsgroups_train = fetch_20newsgroups(subset='train', shuffle=True, \n",
        "                                      categories=categories,)\n",
        "\n",
        "print (newsgroups_train.target_names)\n",
        "print (len(newsgroups_train.data))\n",
        "\n",
        "#print (newsgroups_train.data[1])\n",
        "print(\"\\n\".join(newsgroups_train.data[0].split(\"\\n\")[10:15]))"
      ],
      "execution_count": 37,
      "outputs": [
        {
          "output_type": "stream",
          "text": [
            "['alt.atheism', 'soc.religion.christian']\n",
            "1079\n",
            "   WASHINGTON, April 19  -- A symposium on the Dead Sea \n",
            "Scrolls will be held at the Library of Congress on Wednesday,\n",
            "April 21, and Thursday, April 22.  The two-day program, cosponsored\n",
            "by the library and Baltimore Hebrew University, with additional\n",
            "support from the Project Judaica Foundation, will be held in the\n"
          ],
          "name": "stdout"
        }
      ]
    },
    {
      "cell_type": "code",
      "metadata": {
        "colab": {
          "base_uri": "https://localhost:8080/"
        },
        "id": "I9VVEyQWAu6m",
        "outputId": "aa281b6c-1672-4230-8654-081807a4c453"
      },
      "source": [
        "%%time\n",
        "\n",
        "texts = []\n",
        "\n",
        "labels=newsgroups_train.target\n",
        "texts = newsgroups_train.data\n",
        "\n",
        "MAX_SEQUENCE_LENGTH = 1000\n",
        "MAX_NB_WORDS = 20000\n",
        "\n",
        "tokenizer = Tokenizer(num_words=MAX_NB_WORDS)\n",
        "tokenizer.fit_on_texts(texts)\n",
        "\n",
        "sequences = tokenizer.texts_to_sequences(texts)\n",
        "\n",
        "print (sequences[0][:10])"
      ],
      "execution_count": 38,
      "outputs": [
        {
          "output_type": "stream",
          "text": [
            "[19, 8762, 3621, 11894, 58, 8762, 3621, 43, 1472, 2]\n",
            "CPU times: user 435 ms, sys: 3.82 ms, total: 438 ms\n",
            "Wall time: 444 ms\n"
          ],
          "name": "stdout"
        }
      ]
    },
    {
      "cell_type": "code",
      "metadata": {
        "colab": {
          "base_uri": "https://localhost:8080/"
        },
        "id": "8C-jZJV1Ay0E",
        "outputId": "be70effa-625d-4e62-8ede-631b52589b5f"
      },
      "source": [
        "word_index = tokenizer.word_index\n",
        "\n",
        "print('Found %s unique tokens.' % len(word_index))"
      ],
      "execution_count": 39,
      "outputs": [
        {
          "output_type": "stream",
          "text": [
            "Found 20030 unique tokens.\n"
          ],
          "name": "stdout"
        }
      ]
    },
    {
      "cell_type": "code",
      "metadata": {
        "colab": {
          "base_uri": "https://localhost:8080/"
        },
        "id": "I3leeqbJA1-q",
        "outputId": "86e58abf-c661-4357-f61e-ebfc807a346d"
      },
      "source": [
        "data = pad_sequences(sequences, maxlen=MAX_SEQUENCE_LENGTH)\n",
        "\n",
        "print (data.shape)\n",
        "print (data[0][200:250])"
      ],
      "execution_count": 40,
      "outputs": [
        {
          "output_type": "stream",
          "text": [
            "(1079, 1000)\n",
            "[    0     0     0     0     0     0     0     0     0     0     0     0\n",
            "     0     0     0     0     0     0     0     0     0     0     0     0\n",
            "     0     0     0     0     0    19  8762  3621 11894    58  8762  3621\n",
            "    43  1472     2  2130     3   189   450  1001  3622  2980  1682   476\n",
            "   627    50]\n"
          ],
          "name": "stdout"
        }
      ]
    },
    {
      "cell_type": "code",
      "metadata": {
        "colab": {
          "base_uri": "https://localhost:8080/"
        },
        "id": "TATKrjgmA6lK",
        "outputId": "a4fdea08-1400-42d5-9dcc-d0e6541282df"
      },
      "source": [
        "labels = to_categorical(np.array(labels))\n",
        "\n",
        "print('Shape of data tensor:', data.shape)\n",
        "print('Shape of label tensor:', labels.shape)"
      ],
      "execution_count": 41,
      "outputs": [
        {
          "output_type": "stream",
          "text": [
            "Shape of data tensor: (1079, 1000)\n",
            "Shape of label tensor: (1079, 2)\n"
          ],
          "name": "stdout"
        }
      ]
    },
    {
      "cell_type": "code",
      "metadata": {
        "colab": {
          "base_uri": "https://localhost:8080/"
        },
        "id": "tKD1nppNA_cG",
        "outputId": "72c86f34-b4d0-4ca7-e484-dd02fd387279"
      },
      "source": [
        "VALIDATION_SPLIT = 0.1\n",
        "\n",
        "indices = np.arange(data.shape[0])\n",
        "np.random.shuffle(indices) \n",
        "data = data[indices] \n",
        "labels = labels[indices] \n",
        "nb_validation_samples = int(VALIDATION_SPLIT * data.shape[0])\n",
        "\n",
        "x_train = data[:-nb_validation_samples] \n",
        "y_train = labels[:-nb_validation_samples] \n",
        "x_val = data[-nb_validation_samples:] \n",
        "y_val = labels[-nb_validation_samples:] \n",
        "\n",
        "print (x_train.shape)\n",
        "print (y_train.shape)\n",
        "\n",
        "print('Number of positive and negative reviews in traing and validation set ') \n",
        "print (y_train.sum(axis=0))\n",
        "print (y_val.sum(axis=0))\n"
      ],
      "execution_count": 42,
      "outputs": [
        {
          "output_type": "stream",
          "text": [
            "(972, 1000)\n",
            "(972, 2)\n",
            "Number of positive and negative reviews in traing and validation set \n",
            "[439. 533.]\n",
            "[41. 66.]\n"
          ],
          "name": "stdout"
        }
      ]
    },
    {
      "cell_type": "code",
      "metadata": {
        "colab": {
          "base_uri": "https://localhost:8080/",
          "height": 244
        },
        "id": "1jN7GicoBSkh",
        "outputId": "3928739a-688b-4d30-a6c8-0961dd983faf"
      },
      "source": [
        "EMBEDDING_DIM = 100\n",
        "\n",
        "embedding_matrix = np.random.random((len(word_index) + 1, EMBEDDING_DIM))\n",
        "\n",
        "for word, i in word_index.items():\n",
        "  embedding_vector = embeddings_index.get(word)\n",
        "  if embedding_vector is not None:\n",
        "    # words not found in embedding index will be all-zeros.\n",
        "    embedding_matrix[i] = embedding_vector\n",
        "\n",
        "print (embedding_matrix.shape)\n",
        "\n",
        "print (embedding_matrix[0][:10])"
      ],
      "execution_count": 43,
      "outputs": [
        {
          "output_type": "error",
          "ename": "NameError",
          "evalue": "ignored",
          "traceback": [
            "\u001b[0;31m---------------------------------------------------------------------------\u001b[0m",
            "\u001b[0;31mNameError\u001b[0m                                 Traceback (most recent call last)",
            "\u001b[0;32m<ipython-input-43-6fb53264530f>\u001b[0m in \u001b[0;36m<module>\u001b[0;34m()\u001b[0m\n\u001b[1;32m      4\u001b[0m \u001b[0;34m\u001b[0m\u001b[0m\n\u001b[1;32m      5\u001b[0m \u001b[0;32mfor\u001b[0m \u001b[0mword\u001b[0m\u001b[0;34m,\u001b[0m \u001b[0mi\u001b[0m \u001b[0;32min\u001b[0m \u001b[0mword_index\u001b[0m\u001b[0;34m.\u001b[0m\u001b[0mitems\u001b[0m\u001b[0;34m(\u001b[0m\u001b[0;34m)\u001b[0m\u001b[0;34m:\u001b[0m\u001b[0;34m\u001b[0m\u001b[0;34m\u001b[0m\u001b[0m\n\u001b[0;32m----> 6\u001b[0;31m   \u001b[0membedding_vector\u001b[0m \u001b[0;34m=\u001b[0m \u001b[0membeddings_index\u001b[0m\u001b[0;34m.\u001b[0m\u001b[0mget\u001b[0m\u001b[0;34m(\u001b[0m\u001b[0mword\u001b[0m\u001b[0;34m)\u001b[0m\u001b[0;34m\u001b[0m\u001b[0;34m\u001b[0m\u001b[0m\n\u001b[0m\u001b[1;32m      7\u001b[0m   \u001b[0;32mif\u001b[0m \u001b[0membedding_vector\u001b[0m \u001b[0;32mis\u001b[0m \u001b[0;32mnot\u001b[0m \u001b[0;32mNone\u001b[0m\u001b[0;34m:\u001b[0m\u001b[0;34m\u001b[0m\u001b[0;34m\u001b[0m\u001b[0m\n\u001b[1;32m      8\u001b[0m     \u001b[0;31m# words not found in embedding index will be all-zeros.\u001b[0m\u001b[0;34m\u001b[0m\u001b[0;34m\u001b[0m\u001b[0;34m\u001b[0m\u001b[0m\n",
            "\u001b[0;31mNameError\u001b[0m: name 'embeddings_index' is not defined"
          ]
        }
      ]
    },
    {
      "cell_type": "code",
      "metadata": {
        "colab": {
          "base_uri": "https://localhost:8080/"
        },
        "id": "StT4yPYaBUgr",
        "outputId": "07899651-fc96-4af4-f531-a4b8f5c88818"
      },
      "source": [
        "embedding_layer = Embedding(len(word_index) + 1, EMBEDDING_DIM,\n",
        "                            weights=[embedding_matrix], \n",
        "                            input_length=MAX_SEQUENCE_LENGTH, \n",
        "                            trainable=False)\n",
        "\n",
        "sequence_input = Input(shape=(MAX_SEQUENCE_LENGTH,), dtype='int32') \n",
        "embedded_sequences = embedding_layer(sequence_input) \n",
        "l_cov1= Conv1D(128, 5, activation='relu')(embedded_sequences) \n",
        "l_pool1 = MaxPooling1D(5)(l_cov1) \n",
        "l_cov2 = Conv1D(128, 5, activation='relu')(l_pool1) \n",
        "l_pool2 = MaxPooling1D(5)(l_cov2) \n",
        "l_cov3 = Conv1D(128, 5, activation='relu')(l_pool2) \n",
        "l_pool3 = MaxPooling1D(35)(l_cov3)  # global max pooling\n",
        "\n",
        "l_flat = Flatten()(l_pool3) \n",
        "l_dense = Dense(128, activation='relu')(l_flat) \n",
        "preds = Dense(2, activation='softmax')(l_dense)\n",
        "\n",
        "model = Model(sequence_input, preds)\n",
        "\n",
        "model.summary()"
      ],
      "execution_count": 44,
      "outputs": [
        {
          "output_type": "stream",
          "text": [
            "Model: \"model\"\n",
            "_________________________________________________________________\n",
            "Layer (type)                 Output Shape              Param #   \n",
            "=================================================================\n",
            "input_1 (InputLayer)         [(None, 1000)]            0         \n",
            "_________________________________________________________________\n",
            "embedding (Embedding)        (None, 1000, 100)         2003100   \n",
            "_________________________________________________________________\n",
            "conv1d (Conv1D)              (None, 996, 128)          64128     \n",
            "_________________________________________________________________\n",
            "max_pooling1d (MaxPooling1D) (None, 199, 128)          0         \n",
            "_________________________________________________________________\n",
            "conv1d_1 (Conv1D)            (None, 195, 128)          82048     \n",
            "_________________________________________________________________\n",
            "max_pooling1d_1 (MaxPooling1 (None, 39, 128)           0         \n",
            "_________________________________________________________________\n",
            "conv1d_2 (Conv1D)            (None, 35, 128)           82048     \n",
            "_________________________________________________________________\n",
            "max_pooling1d_2 (MaxPooling1 (None, 1, 128)            0         \n",
            "_________________________________________________________________\n",
            "flatten (Flatten)            (None, 128)               0         \n",
            "_________________________________________________________________\n",
            "dense (Dense)                (None, 128)               16512     \n",
            "_________________________________________________________________\n",
            "dense_1 (Dense)              (None, 2)                 258       \n",
            "=================================================================\n",
            "Total params: 2,248,094\n",
            "Trainable params: 244,994\n",
            "Non-trainable params: 2,003,100\n",
            "_________________________________________________________________\n"
          ],
          "name": "stdout"
        }
      ]
    },
    {
      "cell_type": "code",
      "metadata": {
        "colab": {
          "base_uri": "https://localhost:8080/"
        },
        "id": "ohWKe6xrBfGj",
        "outputId": "90c501d6-37d9-4e43-d6be-816d6629d8f6"
      },
      "source": [
        "model.compile(loss='categorical_crossentropy', optimizer='adam',metrics=['acc'])\n",
        "\n",
        "history = model.fit(x_train, y_train, validation_data=(x_val, y_val),\n",
        "                    epochs=500, batch_size=512)   "
      ],
      "execution_count": 45,
      "outputs": [
        {
          "output_type": "stream",
          "text": [
            "Epoch 1/500\n",
            "2/2 [==============================] - 35s 1s/step - loss: 0.8411 - acc: 0.4580 - val_loss: 0.6679 - val_acc: 0.6168\n",
            "Epoch 2/500\n",
            "2/2 [==============================] - 0s 160ms/step - loss: 0.7293 - acc: 0.4880 - val_loss: 0.7175 - val_acc: 0.3832\n",
            "Epoch 3/500\n",
            "2/2 [==============================] - 0s 166ms/step - loss: 0.7005 - acc: 0.4736 - val_loss: 0.6705 - val_acc: 0.6168\n",
            "Epoch 4/500\n",
            "2/2 [==============================] - 0s 160ms/step - loss: 0.6898 - acc: 0.5453 - val_loss: 0.6697 - val_acc: 0.6168\n",
            "Epoch 5/500\n",
            "2/2 [==============================] - 0s 160ms/step - loss: 0.6863 - acc: 0.5524 - val_loss: 0.6805 - val_acc: 0.6168\n",
            "Epoch 6/500\n",
            "2/2 [==============================] - 0s 163ms/step - loss: 0.6876 - acc: 0.5511 - val_loss: 0.6748 - val_acc: 0.6168\n",
            "Epoch 7/500\n",
            "2/2 [==============================] - 0s 162ms/step - loss: 0.6864 - acc: 0.5492 - val_loss: 0.6730 - val_acc: 0.6168\n",
            "Epoch 8/500\n",
            "2/2 [==============================] - 0s 163ms/step - loss: 0.6864 - acc: 0.5459 - val_loss: 0.6766 - val_acc: 0.6168\n",
            "Epoch 9/500\n",
            "2/2 [==============================] - 0s 159ms/step - loss: 0.6853 - acc: 0.5446 - val_loss: 0.6697 - val_acc: 0.6168\n",
            "Epoch 10/500\n",
            "2/2 [==============================] - 0s 162ms/step - loss: 0.6853 - acc: 0.5466 - val_loss: 0.6777 - val_acc: 0.6168\n",
            "Epoch 11/500\n",
            "2/2 [==============================] - 0s 159ms/step - loss: 0.6834 - acc: 0.5550 - val_loss: 0.6769 - val_acc: 0.6168\n",
            "Epoch 12/500\n",
            "2/2 [==============================] - 0s 168ms/step - loss: 0.6825 - acc: 0.5505 - val_loss: 0.6746 - val_acc: 0.6168\n",
            "Epoch 13/500\n",
            "2/2 [==============================] - 0s 162ms/step - loss: 0.6815 - acc: 0.5498 - val_loss: 0.6729 - val_acc: 0.6168\n",
            "Epoch 14/500\n",
            "2/2 [==============================] - 0s 158ms/step - loss: 0.6806 - acc: 0.5554 - val_loss: 0.6722 - val_acc: 0.6262\n",
            "Epoch 15/500\n",
            "2/2 [==============================] - 0s 161ms/step - loss: 0.6787 - acc: 0.5527 - val_loss: 0.6688 - val_acc: 0.6168\n",
            "Epoch 16/500\n",
            "2/2 [==============================] - 0s 159ms/step - loss: 0.6756 - acc: 0.5628 - val_loss: 0.6822 - val_acc: 0.5888\n",
            "Epoch 17/500\n",
            "2/2 [==============================] - 0s 157ms/step - loss: 0.6770 - acc: 0.5919 - val_loss: 0.6710 - val_acc: 0.6075\n",
            "Epoch 18/500\n",
            "2/2 [==============================] - 0s 157ms/step - loss: 0.6715 - acc: 0.6078 - val_loss: 0.6641 - val_acc: 0.6262\n",
            "Epoch 19/500\n",
            "2/2 [==============================] - 0s 165ms/step - loss: 0.6720 - acc: 0.5650 - val_loss: 0.7016 - val_acc: 0.4019\n",
            "Epoch 20/500\n",
            "2/2 [==============================] - 0s 160ms/step - loss: 0.6816 - acc: 0.5112 - val_loss: 0.6607 - val_acc: 0.6168\n",
            "Epoch 21/500\n",
            "2/2 [==============================] - 0s 158ms/step - loss: 0.6691 - acc: 0.5577 - val_loss: 0.6741 - val_acc: 0.6075\n",
            "Epoch 22/500\n",
            "2/2 [==============================] - 0s 161ms/step - loss: 0.6629 - acc: 0.6515 - val_loss: 0.6758 - val_acc: 0.5794\n",
            "Epoch 23/500\n",
            "2/2 [==============================] - 0s 161ms/step - loss: 0.6614 - acc: 0.6552 - val_loss: 0.6601 - val_acc: 0.6355\n",
            "Epoch 24/500\n",
            "2/2 [==============================] - 0s 162ms/step - loss: 0.6581 - acc: 0.6304 - val_loss: 0.6667 - val_acc: 0.5888\n",
            "Epoch 25/500\n",
            "2/2 [==============================] - 0s 164ms/step - loss: 0.6537 - acc: 0.6212 - val_loss: 0.6578 - val_acc: 0.6262\n",
            "Epoch 26/500\n",
            "2/2 [==============================] - 0s 163ms/step - loss: 0.6483 - acc: 0.6533 - val_loss: 0.6576 - val_acc: 0.6542\n",
            "Epoch 27/500\n",
            "2/2 [==============================] - 0s 160ms/step - loss: 0.6449 - acc: 0.6716 - val_loss: 0.6426 - val_acc: 0.6262\n",
            "Epoch 28/500\n",
            "2/2 [==============================] - 0s 167ms/step - loss: 0.6436 - acc: 0.6194 - val_loss: 0.6743 - val_acc: 0.6075\n",
            "Epoch 29/500\n",
            "2/2 [==============================] - 0s 162ms/step - loss: 0.6443 - acc: 0.7432 - val_loss: 0.6525 - val_acc: 0.6822\n",
            "Epoch 30/500\n",
            "2/2 [==============================] - 0s 159ms/step - loss: 0.6311 - acc: 0.6930 - val_loss: 0.6318 - val_acc: 0.6262\n",
            "Epoch 31/500\n",
            "2/2 [==============================] - 0s 159ms/step - loss: 0.6338 - acc: 0.5928 - val_loss: 0.6938 - val_acc: 0.4019\n",
            "Epoch 32/500\n",
            "2/2 [==============================] - 0s 163ms/step - loss: 0.6306 - acc: 0.5662 - val_loss: 0.6156 - val_acc: 0.6636\n",
            "Epoch 33/500\n",
            "2/2 [==============================] - 0s 162ms/step - loss: 0.6098 - acc: 0.6913 - val_loss: 0.6581 - val_acc: 0.5607\n",
            "Epoch 34/500\n",
            "2/2 [==============================] - 0s 162ms/step - loss: 0.6289 - acc: 0.6921 - val_loss: 0.6212 - val_acc: 0.7570\n",
            "Epoch 35/500\n",
            "2/2 [==============================] - 0s 160ms/step - loss: 0.5890 - acc: 0.7986 - val_loss: 0.5928 - val_acc: 0.7757\n",
            "Epoch 36/500\n",
            "2/2 [==============================] - 0s 161ms/step - loss: 0.5791 - acc: 0.7032 - val_loss: 0.6191 - val_acc: 0.7290\n",
            "Epoch 37/500\n",
            "2/2 [==============================] - 0s 163ms/step - loss: 0.5669 - acc: 0.8693 - val_loss: 0.5652 - val_acc: 0.7944\n",
            "Epoch 38/500\n",
            "2/2 [==============================] - 0s 161ms/step - loss: 0.5508 - acc: 0.7616 - val_loss: 0.6121 - val_acc: 0.6542\n",
            "Epoch 39/500\n",
            "2/2 [==============================] - 0s 160ms/step - loss: 0.5414 - acc: 0.8072 - val_loss: 0.5395 - val_acc: 0.8505\n",
            "Epoch 40/500\n",
            "2/2 [==============================] - 0s 162ms/step - loss: 0.5155 - acc: 0.8457 - val_loss: 0.5369 - val_acc: 0.7009\n",
            "Epoch 41/500\n",
            "2/2 [==============================] - 0s 166ms/step - loss: 0.5750 - acc: 0.6204 - val_loss: 0.4947 - val_acc: 0.8131\n",
            "Epoch 42/500\n",
            "2/2 [==============================] - 0s 161ms/step - loss: 0.4921 - acc: 0.7619 - val_loss: 0.6280 - val_acc: 0.4579\n",
            "Epoch 43/500\n",
            "2/2 [==============================] - 0s 162ms/step - loss: 0.5186 - acc: 0.6983 - val_loss: 0.4637 - val_acc: 0.8224\n",
            "Epoch 44/500\n",
            "2/2 [==============================] - 0s 162ms/step - loss: 0.4607 - acc: 0.8307 - val_loss: 0.4541 - val_acc: 0.9159\n",
            "Epoch 45/500\n",
            "2/2 [==============================] - 0s 162ms/step - loss: 0.4230 - acc: 0.8791 - val_loss: 0.4664 - val_acc: 0.8598\n",
            "Epoch 46/500\n",
            "2/2 [==============================] - 0s 160ms/step - loss: 0.4049 - acc: 0.9211 - val_loss: 0.4004 - val_acc: 0.9159\n",
            "Epoch 47/500\n",
            "2/2 [==============================] - 0s 159ms/step - loss: 0.3862 - acc: 0.8910 - val_loss: 0.4163 - val_acc: 0.7944\n",
            "Epoch 48/500\n",
            "2/2 [==============================] - 0s 164ms/step - loss: 0.4257 - acc: 0.7787 - val_loss: 0.3578 - val_acc: 0.9159\n",
            "Epoch 49/500\n",
            "2/2 [==============================] - 0s 160ms/step - loss: 0.3490 - acc: 0.8892 - val_loss: 0.3849 - val_acc: 0.8879\n",
            "Epoch 50/500\n",
            "2/2 [==============================] - 0s 159ms/step - loss: 0.3276 - acc: 0.9222 - val_loss: 0.4217 - val_acc: 0.8318\n",
            "Epoch 51/500\n",
            "2/2 [==============================] - 0s 165ms/step - loss: 0.3464 - acc: 0.8962 - val_loss: 0.4871 - val_acc: 0.7290\n",
            "Epoch 52/500\n",
            "2/2 [==============================] - 0s 161ms/step - loss: 0.3428 - acc: 0.8667 - val_loss: 0.2912 - val_acc: 0.9346\n",
            "Epoch 53/500\n",
            "2/2 [==============================] - 0s 160ms/step - loss: 0.2817 - acc: 0.9166 - val_loss: 0.2844 - val_acc: 0.9159\n",
            "Epoch 54/500\n",
            "2/2 [==============================] - 0s 159ms/step - loss: 0.2728 - acc: 0.8976 - val_loss: 0.5907 - val_acc: 0.5794\n",
            "Epoch 55/500\n",
            "2/2 [==============================] - 0s 161ms/step - loss: 0.4713 - acc: 0.7392 - val_loss: 0.2984 - val_acc: 0.8692\n",
            "Epoch 56/500\n",
            "2/2 [==============================] - 0s 168ms/step - loss: 0.4160 - acc: 0.7504 - val_loss: 0.2668 - val_acc: 0.9346\n",
            "Epoch 57/500\n",
            "2/2 [==============================] - 0s 159ms/step - loss: 0.2957 - acc: 0.8942 - val_loss: 0.2840 - val_acc: 0.8785\n",
            "Epoch 58/500\n",
            "2/2 [==============================] - 0s 161ms/step - loss: 0.3027 - acc: 0.8906 - val_loss: 0.4799 - val_acc: 0.7477\n",
            "Epoch 59/500\n",
            "2/2 [==============================] - 0s 160ms/step - loss: 0.3122 - acc: 0.8947 - val_loss: 0.2900 - val_acc: 0.8785\n",
            "Epoch 60/500\n",
            "2/2 [==============================] - 0s 161ms/step - loss: 0.3148 - acc: 0.8660 - val_loss: 0.2786 - val_acc: 0.9533\n",
            "Epoch 61/500\n",
            "2/2 [==============================] - 0s 159ms/step - loss: 0.2708 - acc: 0.9282 - val_loss: 0.2891 - val_acc: 0.9439\n",
            "Epoch 62/500\n",
            "2/2 [==============================] - 0s 161ms/step - loss: 0.2397 - acc: 0.9369 - val_loss: 0.2508 - val_acc: 0.9252\n",
            "Epoch 63/500\n",
            "2/2 [==============================] - 0s 164ms/step - loss: 0.2553 - acc: 0.8993 - val_loss: 0.3699 - val_acc: 0.7944\n",
            "Epoch 64/500\n",
            "2/2 [==============================] - 0s 160ms/step - loss: 0.2399 - acc: 0.9328 - val_loss: 0.2229 - val_acc: 0.9346\n",
            "Epoch 65/500\n",
            "2/2 [==============================] - 0s 170ms/step - loss: 0.2154 - acc: 0.9218 - val_loss: 0.2209 - val_acc: 0.9439\n",
            "Epoch 66/500\n",
            "2/2 [==============================] - 0s 159ms/step - loss: 0.1849 - acc: 0.9549 - val_loss: 0.3033 - val_acc: 0.9252\n",
            "Epoch 67/500\n",
            "2/2 [==============================] - 0s 159ms/step - loss: 0.1922 - acc: 0.9548 - val_loss: 0.2079 - val_acc: 0.9346\n",
            "Epoch 68/500\n",
            "2/2 [==============================] - 0s 162ms/step - loss: 0.1790 - acc: 0.9386 - val_loss: 0.2653 - val_acc: 0.9439\n",
            "Epoch 69/500\n",
            "2/2 [==============================] - 0s 167ms/step - loss: 0.1726 - acc: 0.9642 - val_loss: 0.1952 - val_acc: 0.9439\n",
            "Epoch 70/500\n",
            "2/2 [==============================] - 0s 160ms/step - loss: 0.1643 - acc: 0.9433 - val_loss: 0.1975 - val_acc: 0.9626\n",
            "Epoch 71/500\n",
            "2/2 [==============================] - 0s 163ms/step - loss: 0.1539 - acc: 0.9576 - val_loss: 0.2012 - val_acc: 0.9626\n",
            "Epoch 72/500\n",
            "2/2 [==============================] - 0s 159ms/step - loss: 0.1450 - acc: 0.9562 - val_loss: 0.1769 - val_acc: 0.9439\n",
            "Epoch 73/500\n",
            "2/2 [==============================] - 0s 165ms/step - loss: 0.1439 - acc: 0.9577 - val_loss: 0.2266 - val_acc: 0.9439\n",
            "Epoch 74/500\n",
            "2/2 [==============================] - 0s 160ms/step - loss: 0.1277 - acc: 0.9676 - val_loss: 0.1687 - val_acc: 0.9533\n",
            "Epoch 75/500\n",
            "2/2 [==============================] - 0s 159ms/step - loss: 0.1397 - acc: 0.9537 - val_loss: 0.1814 - val_acc: 0.9626\n",
            "Epoch 76/500\n",
            "2/2 [==============================] - 0s 163ms/step - loss: 0.1102 - acc: 0.9669 - val_loss: 0.1778 - val_acc: 0.9626\n",
            "Epoch 77/500\n",
            "2/2 [==============================] - 0s 164ms/step - loss: 0.1000 - acc: 0.9716 - val_loss: 0.1780 - val_acc: 0.9533\n",
            "Epoch 78/500\n",
            "2/2 [==============================] - 0s 163ms/step - loss: 0.1004 - acc: 0.9677 - val_loss: 0.1597 - val_acc: 0.9626\n",
            "Epoch 79/500\n",
            "2/2 [==============================] - 0s 160ms/step - loss: 0.0866 - acc: 0.9709 - val_loss: 0.2430 - val_acc: 0.9439\n",
            "Epoch 80/500\n",
            "2/2 [==============================] - 0s 163ms/step - loss: 0.1116 - acc: 0.9750 - val_loss: 0.1508 - val_acc: 0.9626\n",
            "Epoch 81/500\n",
            "2/2 [==============================] - 0s 161ms/step - loss: 0.0897 - acc: 0.9725 - val_loss: 0.1507 - val_acc: 0.9626\n",
            "Epoch 82/500\n",
            "2/2 [==============================] - 0s 162ms/step - loss: 0.0813 - acc: 0.9690 - val_loss: 0.1642 - val_acc: 0.9533\n",
            "Epoch 83/500\n",
            "2/2 [==============================] - 0s 163ms/step - loss: 0.0732 - acc: 0.9798 - val_loss: 0.1481 - val_acc: 0.9626\n",
            "Epoch 84/500\n",
            "2/2 [==============================] - 0s 163ms/step - loss: 0.0702 - acc: 0.9738 - val_loss: 0.1536 - val_acc: 0.9626\n",
            "Epoch 85/500\n",
            "2/2 [==============================] - 0s 160ms/step - loss: 0.0631 - acc: 0.9832 - val_loss: 0.1458 - val_acc: 0.9626\n",
            "Epoch 86/500\n",
            "2/2 [==============================] - 0s 161ms/step - loss: 0.0574 - acc: 0.9845 - val_loss: 0.1507 - val_acc: 0.9533\n",
            "Epoch 87/500\n",
            "2/2 [==============================] - 0s 160ms/step - loss: 0.0512 - acc: 0.9871 - val_loss: 0.1881 - val_acc: 0.9533\n",
            "Epoch 88/500\n",
            "2/2 [==============================] - 0s 164ms/step - loss: 0.0587 - acc: 0.9891 - val_loss: 0.1453 - val_acc: 0.9626\n",
            "Epoch 89/500\n",
            "2/2 [==============================] - 0s 161ms/step - loss: 0.0540 - acc: 0.9893 - val_loss: 0.1477 - val_acc: 0.9626\n",
            "Epoch 90/500\n",
            "2/2 [==============================] - 0s 164ms/step - loss: 0.0565 - acc: 0.9771 - val_loss: 0.2286 - val_acc: 0.9439\n",
            "Epoch 91/500\n",
            "2/2 [==============================] - 0s 162ms/step - loss: 0.0660 - acc: 0.9884 - val_loss: 0.1441 - val_acc: 0.9626\n",
            "Epoch 92/500\n",
            "2/2 [==============================] - 0s 161ms/step - loss: 0.0751 - acc: 0.9703 - val_loss: 0.1933 - val_acc: 0.9439\n",
            "Epoch 93/500\n",
            "2/2 [==============================] - 0s 167ms/step - loss: 0.1094 - acc: 0.9517 - val_loss: 0.3626 - val_acc: 0.8224\n",
            "Epoch 94/500\n",
            "2/2 [==============================] - 0s 166ms/step - loss: 0.1164 - acc: 0.9676 - val_loss: 0.1812 - val_acc: 0.9626\n",
            "Epoch 95/500\n",
            "2/2 [==============================] - 0s 162ms/step - loss: 0.0713 - acc: 0.9712 - val_loss: 0.5139 - val_acc: 0.7196\n",
            "Epoch 96/500\n",
            "2/2 [==============================] - 0s 160ms/step - loss: 0.2193 - acc: 0.8949 - val_loss: 0.2859 - val_acc: 0.9065\n",
            "Epoch 97/500\n",
            "2/2 [==============================] - 0s 160ms/step - loss: 0.1848 - acc: 0.9285 - val_loss: 1.0595 - val_acc: 0.5047\n",
            "Epoch 98/500\n",
            "2/2 [==============================] - 0s 164ms/step - loss: 0.4741 - acc: 0.7468 - val_loss: 0.7554 - val_acc: 0.7757\n",
            "Epoch 99/500\n",
            "2/2 [==============================] - 0s 166ms/step - loss: 0.7009 - acc: 0.7613 - val_loss: 0.1568 - val_acc: 0.9626\n",
            "Epoch 100/500\n",
            "2/2 [==============================] - 0s 162ms/step - loss: 0.2319 - acc: 0.8811 - val_loss: 0.3195 - val_acc: 0.8318\n",
            "Epoch 101/500\n",
            "2/2 [==============================] - 0s 163ms/step - loss: 0.1444 - acc: 0.9588 - val_loss: 0.2054 - val_acc: 0.9159\n",
            "Epoch 102/500\n",
            "2/2 [==============================] - 0s 163ms/step - loss: 0.2537 - acc: 0.8846 - val_loss: 0.1596 - val_acc: 0.9439\n",
            "Epoch 103/500\n",
            "2/2 [==============================] - 0s 163ms/step - loss: 0.1366 - acc: 0.9523 - val_loss: 0.3240 - val_acc: 0.8505\n",
            "Epoch 104/500\n",
            "2/2 [==============================] - 0s 166ms/step - loss: 0.1829 - acc: 0.9602 - val_loss: 0.2047 - val_acc: 0.9439\n",
            "Epoch 105/500\n",
            "2/2 [==============================] - 0s 167ms/step - loss: 0.1079 - acc: 0.9743 - val_loss: 0.1570 - val_acc: 0.9626\n",
            "Epoch 106/500\n",
            "2/2 [==============================] - 0s 166ms/step - loss: 0.1189 - acc: 0.9602 - val_loss: 0.1669 - val_acc: 0.9533\n",
            "Epoch 107/500\n",
            "2/2 [==============================] - 0s 163ms/step - loss: 0.0998 - acc: 0.9690 - val_loss: 0.2292 - val_acc: 0.9439\n",
            "Epoch 108/500\n",
            "2/2 [==============================] - 0s 164ms/step - loss: 0.1060 - acc: 0.9758 - val_loss: 0.1718 - val_acc: 0.9533\n",
            "Epoch 109/500\n",
            "2/2 [==============================] - 0s 164ms/step - loss: 0.0859 - acc: 0.9723 - val_loss: 0.1595 - val_acc: 0.9439\n",
            "Epoch 110/500\n",
            "2/2 [==============================] - 0s 161ms/step - loss: 0.0771 - acc: 0.9731 - val_loss: 0.1928 - val_acc: 0.9439\n",
            "Epoch 111/500\n",
            "2/2 [==============================] - 0s 167ms/step - loss: 0.0720 - acc: 0.9879 - val_loss: 0.1697 - val_acc: 0.9533\n",
            "Epoch 112/500\n",
            "2/2 [==============================] - 0s 162ms/step - loss: 0.0603 - acc: 0.9844 - val_loss: 0.1560 - val_acc: 0.9439\n",
            "Epoch 113/500\n",
            "2/2 [==============================] - 0s 163ms/step - loss: 0.0604 - acc: 0.9785 - val_loss: 0.1680 - val_acc: 0.9533\n",
            "Epoch 114/500\n",
            "2/2 [==============================] - 0s 159ms/step - loss: 0.0540 - acc: 0.9899 - val_loss: 0.1752 - val_acc: 0.9533\n",
            "Epoch 115/500\n",
            "2/2 [==============================] - 0s 162ms/step - loss: 0.0476 - acc: 0.9926 - val_loss: 0.1536 - val_acc: 0.9533\n",
            "Epoch 116/500\n",
            "2/2 [==============================] - 0s 162ms/step - loss: 0.0485 - acc: 0.9805 - val_loss: 0.1594 - val_acc: 0.9533\n",
            "Epoch 117/500\n",
            "2/2 [==============================] - 0s 164ms/step - loss: 0.0378 - acc: 0.9919 - val_loss: 0.1825 - val_acc: 0.9533\n",
            "Epoch 118/500\n",
            "2/2 [==============================] - 0s 167ms/step - loss: 0.0370 - acc: 0.9973 - val_loss: 0.1689 - val_acc: 0.9533\n",
            "Epoch 119/500\n",
            "2/2 [==============================] - 0s 164ms/step - loss: 0.0339 - acc: 0.9926 - val_loss: 0.1658 - val_acc: 0.9533\n",
            "Epoch 120/500\n",
            "2/2 [==============================] - 0s 163ms/step - loss: 0.0293 - acc: 0.9960 - val_loss: 0.1805 - val_acc: 0.9533\n",
            "Epoch 121/500\n",
            "2/2 [==============================] - 0s 164ms/step - loss: 0.0283 - acc: 0.9986 - val_loss: 0.1707 - val_acc: 0.9533\n",
            "Epoch 122/500\n",
            "2/2 [==============================] - 0s 164ms/step - loss: 0.0265 - acc: 0.9973 - val_loss: 0.1700 - val_acc: 0.9533\n",
            "Epoch 123/500\n",
            "2/2 [==============================] - 0s 166ms/step - loss: 0.0247 - acc: 0.9980 - val_loss: 0.1788 - val_acc: 0.9533\n",
            "Epoch 124/500\n",
            "2/2 [==============================] - 0s 163ms/step - loss: 0.0222 - acc: 0.9980 - val_loss: 0.1718 - val_acc: 0.9533\n",
            "Epoch 125/500\n",
            "2/2 [==============================] - 0s 163ms/step - loss: 0.0208 - acc: 0.9980 - val_loss: 0.1763 - val_acc: 0.9533\n",
            "Epoch 126/500\n",
            "2/2 [==============================] - 0s 164ms/step - loss: 0.0183 - acc: 0.9993 - val_loss: 0.1800 - val_acc: 0.9533\n",
            "Epoch 127/500\n",
            "2/2 [==============================] - 0s 169ms/step - loss: 0.0194 - acc: 0.9987 - val_loss: 0.1773 - val_acc: 0.9533\n",
            "Epoch 128/500\n",
            "2/2 [==============================] - 0s 163ms/step - loss: 0.0171 - acc: 0.9986 - val_loss: 0.1806 - val_acc: 0.9533\n",
            "Epoch 129/500\n",
            "2/2 [==============================] - 0s 166ms/step - loss: 0.0174 - acc: 0.9987 - val_loss: 0.1819 - val_acc: 0.9533\n",
            "Epoch 130/500\n",
            "2/2 [==============================] - 0s 162ms/step - loss: 0.0158 - acc: 0.9986 - val_loss: 0.1746 - val_acc: 0.9533\n",
            "Epoch 131/500\n",
            "2/2 [==============================] - 0s 162ms/step - loss: 0.0146 - acc: 0.9993 - val_loss: 0.1873 - val_acc: 0.9626\n",
            "Epoch 132/500\n",
            "2/2 [==============================] - 0s 162ms/step - loss: 0.0150 - acc: 0.9993 - val_loss: 0.1757 - val_acc: 0.9533\n",
            "Epoch 133/500\n",
            "2/2 [==============================] - 0s 165ms/step - loss: 0.0134 - acc: 0.9980 - val_loss: 0.1843 - val_acc: 0.9533\n",
            "Epoch 134/500\n",
            "2/2 [==============================] - 0s 166ms/step - loss: 0.0124 - acc: 1.0000 - val_loss: 0.1897 - val_acc: 0.9533\n",
            "Epoch 135/500\n",
            "2/2 [==============================] - 0s 165ms/step - loss: 0.0117 - acc: 1.0000 - val_loss: 0.1811 - val_acc: 0.9533\n",
            "Epoch 136/500\n",
            "2/2 [==============================] - 0s 164ms/step - loss: 0.0114 - acc: 1.0000 - val_loss: 0.1964 - val_acc: 0.9626\n",
            "Epoch 137/500\n",
            "2/2 [==============================] - 0s 166ms/step - loss: 0.0113 - acc: 1.0000 - val_loss: 0.1833 - val_acc: 0.9533\n",
            "Epoch 138/500\n",
            "2/2 [==============================] - 0s 165ms/step - loss: 0.0088 - acc: 1.0000 - val_loss: 0.1826 - val_acc: 0.9533\n",
            "Epoch 139/500\n",
            "2/2 [==============================] - 0s 167ms/step - loss: 0.0093 - acc: 1.0000 - val_loss: 0.1963 - val_acc: 0.9533\n",
            "Epoch 140/500\n",
            "2/2 [==============================] - 0s 164ms/step - loss: 0.0087 - acc: 1.0000 - val_loss: 0.1906 - val_acc: 0.9533\n",
            "Epoch 141/500\n",
            "2/2 [==============================] - 0s 161ms/step - loss: 0.0077 - acc: 1.0000 - val_loss: 0.1915 - val_acc: 0.9533\n",
            "Epoch 142/500\n",
            "2/2 [==============================] - 0s 169ms/step - loss: 0.0074 - acc: 1.0000 - val_loss: 0.2013 - val_acc: 0.9533\n",
            "Epoch 143/500\n",
            "2/2 [==============================] - 0s 165ms/step - loss: 0.0071 - acc: 1.0000 - val_loss: 0.1918 - val_acc: 0.9533\n",
            "Epoch 144/500\n",
            "2/2 [==============================] - 0s 163ms/step - loss: 0.0066 - acc: 1.0000 - val_loss: 0.1952 - val_acc: 0.9533\n",
            "Epoch 145/500\n",
            "2/2 [==============================] - 0s 166ms/step - loss: 0.0056 - acc: 1.0000 - val_loss: 0.1996 - val_acc: 0.9533\n",
            "Epoch 146/500\n",
            "2/2 [==============================] - 0s 162ms/step - loss: 0.0056 - acc: 1.0000 - val_loss: 0.1972 - val_acc: 0.9533\n",
            "Epoch 147/500\n",
            "2/2 [==============================] - 0s 162ms/step - loss: 0.0053 - acc: 1.0000 - val_loss: 0.2000 - val_acc: 0.9533\n",
            "Epoch 148/500\n",
            "2/2 [==============================] - 0s 160ms/step - loss: 0.0051 - acc: 1.0000 - val_loss: 0.2066 - val_acc: 0.9533\n",
            "Epoch 149/500\n",
            "2/2 [==============================] - 0s 162ms/step - loss: 0.0045 - acc: 1.0000 - val_loss: 0.1991 - val_acc: 0.9533\n",
            "Epoch 150/500\n",
            "2/2 [==============================] - 0s 162ms/step - loss: 0.0047 - acc: 1.0000 - val_loss: 0.2009 - val_acc: 0.9533\n",
            "Epoch 151/500\n",
            "2/2 [==============================] - 0s 166ms/step - loss: 0.0041 - acc: 1.0000 - val_loss: 0.2088 - val_acc: 0.9533\n",
            "Epoch 152/500\n",
            "2/2 [==============================] - 0s 162ms/step - loss: 0.0044 - acc: 1.0000 - val_loss: 0.2029 - val_acc: 0.9533\n",
            "Epoch 153/500\n",
            "2/2 [==============================] - 0s 164ms/step - loss: 0.0039 - acc: 1.0000 - val_loss: 0.2055 - val_acc: 0.9533\n",
            "Epoch 154/500\n",
            "2/2 [==============================] - 0s 172ms/step - loss: 0.0033 - acc: 1.0000 - val_loss: 0.2114 - val_acc: 0.9533\n",
            "Epoch 155/500\n",
            "2/2 [==============================] - 0s 167ms/step - loss: 0.0033 - acc: 1.0000 - val_loss: 0.2094 - val_acc: 0.9533\n",
            "Epoch 156/500\n",
            "2/2 [==============================] - 0s 167ms/step - loss: 0.0031 - acc: 1.0000 - val_loss: 0.2109 - val_acc: 0.9533\n",
            "Epoch 157/500\n",
            "2/2 [==============================] - 0s 163ms/step - loss: 0.0028 - acc: 1.0000 - val_loss: 0.2135 - val_acc: 0.9533\n",
            "Epoch 158/500\n",
            "2/2 [==============================] - 0s 163ms/step - loss: 0.0026 - acc: 1.0000 - val_loss: 0.2136 - val_acc: 0.9533\n",
            "Epoch 159/500\n",
            "2/2 [==============================] - 0s 165ms/step - loss: 0.0026 - acc: 1.0000 - val_loss: 0.2140 - val_acc: 0.9533\n",
            "Epoch 160/500\n",
            "2/2 [==============================] - 0s 166ms/step - loss: 0.0024 - acc: 1.0000 - val_loss: 0.2156 - val_acc: 0.9533\n",
            "Epoch 161/500\n",
            "2/2 [==============================] - 0s 165ms/step - loss: 0.0025 - acc: 1.0000 - val_loss: 0.2179 - val_acc: 0.9533\n",
            "Epoch 162/500\n",
            "2/2 [==============================] - 0s 166ms/step - loss: 0.0024 - acc: 1.0000 - val_loss: 0.2179 - val_acc: 0.9533\n",
            "Epoch 163/500\n",
            "2/2 [==============================] - 0s 167ms/step - loss: 0.0020 - acc: 1.0000 - val_loss: 0.2194 - val_acc: 0.9533\n",
            "Epoch 164/500\n",
            "2/2 [==============================] - 0s 166ms/step - loss: 0.0019 - acc: 1.0000 - val_loss: 0.2221 - val_acc: 0.9533\n",
            "Epoch 165/500\n",
            "2/2 [==============================] - 0s 164ms/step - loss: 0.0020 - acc: 1.0000 - val_loss: 0.2216 - val_acc: 0.9533\n",
            "Epoch 166/500\n",
            "2/2 [==============================] - 0s 162ms/step - loss: 0.0018 - acc: 1.0000 - val_loss: 0.2226 - val_acc: 0.9533\n",
            "Epoch 167/500\n",
            "2/2 [==============================] - 0s 173ms/step - loss: 0.0018 - acc: 1.0000 - val_loss: 0.2243 - val_acc: 0.9533\n",
            "Epoch 168/500\n",
            "2/2 [==============================] - 0s 163ms/step - loss: 0.0016 - acc: 1.0000 - val_loss: 0.2247 - val_acc: 0.9533\n",
            "Epoch 169/500\n",
            "2/2 [==============================] - 0s 162ms/step - loss: 0.0015 - acc: 1.0000 - val_loss: 0.2258 - val_acc: 0.9533\n",
            "Epoch 170/500\n",
            "2/2 [==============================] - 0s 165ms/step - loss: 0.0016 - acc: 1.0000 - val_loss: 0.2270 - val_acc: 0.9533\n",
            "Epoch 171/500\n",
            "2/2 [==============================] - 0s 164ms/step - loss: 0.0014 - acc: 1.0000 - val_loss: 0.2279 - val_acc: 0.9533\n",
            "Epoch 172/500\n",
            "2/2 [==============================] - 0s 166ms/step - loss: 0.0015 - acc: 1.0000 - val_loss: 0.2291 - val_acc: 0.9533\n",
            "Epoch 173/500\n",
            "2/2 [==============================] - 0s 165ms/step - loss: 0.0013 - acc: 1.0000 - val_loss: 0.2304 - val_acc: 0.9533\n",
            "Epoch 174/500\n",
            "2/2 [==============================] - 0s 172ms/step - loss: 0.0012 - acc: 1.0000 - val_loss: 0.2315 - val_acc: 0.9533\n",
            "Epoch 175/500\n",
            "2/2 [==============================] - 0s 165ms/step - loss: 0.0013 - acc: 1.0000 - val_loss: 0.2324 - val_acc: 0.9533\n",
            "Epoch 176/500\n",
            "2/2 [==============================] - 0s 167ms/step - loss: 0.0012 - acc: 1.0000 - val_loss: 0.2334 - val_acc: 0.9533\n",
            "Epoch 177/500\n",
            "2/2 [==============================] - 0s 173ms/step - loss: 0.0012 - acc: 1.0000 - val_loss: 0.2343 - val_acc: 0.9533\n",
            "Epoch 178/500\n",
            "2/2 [==============================] - 0s 168ms/step - loss: 0.0011 - acc: 1.0000 - val_loss: 0.2353 - val_acc: 0.9533\n",
            "Epoch 179/500\n",
            "2/2 [==============================] - 0s 164ms/step - loss: 0.0011 - acc: 1.0000 - val_loss: 0.2363 - val_acc: 0.9533\n",
            "Epoch 180/500\n",
            "2/2 [==============================] - 0s 167ms/step - loss: 0.0010 - acc: 1.0000 - val_loss: 0.2373 - val_acc: 0.9533\n",
            "Epoch 181/500\n",
            "2/2 [==============================] - 0s 167ms/step - loss: 0.0010 - acc: 1.0000 - val_loss: 0.2380 - val_acc: 0.9533\n",
            "Epoch 182/500\n",
            "2/2 [==============================] - 0s 166ms/step - loss: 9.8537e-04 - acc: 1.0000 - val_loss: 0.2391 - val_acc: 0.9533\n",
            "Epoch 183/500\n",
            "2/2 [==============================] - 0s 163ms/step - loss: 9.5819e-04 - acc: 1.0000 - val_loss: 0.2401 - val_acc: 0.9533\n",
            "Epoch 184/500\n",
            "2/2 [==============================] - 0s 169ms/step - loss: 8.6760e-04 - acc: 1.0000 - val_loss: 0.2412 - val_acc: 0.9533\n",
            "Epoch 185/500\n",
            "2/2 [==============================] - 0s 164ms/step - loss: 9.3113e-04 - acc: 1.0000 - val_loss: 0.2420 - val_acc: 0.9533\n",
            "Epoch 186/500\n",
            "2/2 [==============================] - 0s 166ms/step - loss: 8.6186e-04 - acc: 1.0000 - val_loss: 0.2428 - val_acc: 0.9533\n",
            "Epoch 187/500\n",
            "2/2 [==============================] - 0s 164ms/step - loss: 8.3437e-04 - acc: 1.0000 - val_loss: 0.2433 - val_acc: 0.9533\n",
            "Epoch 188/500\n",
            "2/2 [==============================] - 0s 164ms/step - loss: 8.1435e-04 - acc: 1.0000 - val_loss: 0.2436 - val_acc: 0.9533\n",
            "Epoch 189/500\n",
            "2/2 [==============================] - 0s 167ms/step - loss: 7.5623e-04 - acc: 1.0000 - val_loss: 0.2443 - val_acc: 0.9533\n",
            "Epoch 190/500\n",
            "2/2 [==============================] - 0s 163ms/step - loss: 7.0542e-04 - acc: 1.0000 - val_loss: 0.2449 - val_acc: 0.9533\n",
            "Epoch 191/500\n",
            "2/2 [==============================] - 0s 165ms/step - loss: 7.2155e-04 - acc: 1.0000 - val_loss: 0.2455 - val_acc: 0.9533\n",
            "Epoch 192/500\n",
            "2/2 [==============================] - 0s 165ms/step - loss: 6.7456e-04 - acc: 1.0000 - val_loss: 0.2463 - val_acc: 0.9533\n",
            "Epoch 193/500\n",
            "2/2 [==============================] - 0s 168ms/step - loss: 7.0497e-04 - acc: 1.0000 - val_loss: 0.2473 - val_acc: 0.9533\n",
            "Epoch 194/500\n",
            "2/2 [==============================] - 0s 164ms/step - loss: 6.4077e-04 - acc: 1.0000 - val_loss: 0.2477 - val_acc: 0.9533\n",
            "Epoch 195/500\n",
            "2/2 [==============================] - 0s 164ms/step - loss: 6.3241e-04 - acc: 1.0000 - val_loss: 0.2484 - val_acc: 0.9533\n",
            "Epoch 196/500\n",
            "2/2 [==============================] - 0s 166ms/step - loss: 6.0722e-04 - acc: 1.0000 - val_loss: 0.2495 - val_acc: 0.9533\n",
            "Epoch 197/500\n",
            "2/2 [==============================] - 0s 173ms/step - loss: 5.8388e-04 - acc: 1.0000 - val_loss: 0.2505 - val_acc: 0.9533\n",
            "Epoch 198/500\n",
            "2/2 [==============================] - 0s 165ms/step - loss: 5.7334e-04 - acc: 1.0000 - val_loss: 0.2509 - val_acc: 0.9533\n",
            "Epoch 199/500\n",
            "2/2 [==============================] - 0s 164ms/step - loss: 5.6685e-04 - acc: 1.0000 - val_loss: 0.2517 - val_acc: 0.9533\n",
            "Epoch 200/500\n",
            "2/2 [==============================] - 0s 169ms/step - loss: 5.5207e-04 - acc: 1.0000 - val_loss: 0.2525 - val_acc: 0.9533\n",
            "Epoch 201/500\n",
            "2/2 [==============================] - 0s 167ms/step - loss: 5.5396e-04 - acc: 1.0000 - val_loss: 0.2531 - val_acc: 0.9533\n",
            "Epoch 202/500\n",
            "2/2 [==============================] - 0s 164ms/step - loss: 5.0821e-04 - acc: 1.0000 - val_loss: 0.2537 - val_acc: 0.9533\n",
            "Epoch 203/500\n",
            "2/2 [==============================] - 0s 170ms/step - loss: 5.1178e-04 - acc: 1.0000 - val_loss: 0.2542 - val_acc: 0.9533\n",
            "Epoch 204/500\n",
            "2/2 [==============================] - 0s 167ms/step - loss: 4.9309e-04 - acc: 1.0000 - val_loss: 0.2550 - val_acc: 0.9533\n",
            "Epoch 205/500\n",
            "2/2 [==============================] - 0s 171ms/step - loss: 4.6631e-04 - acc: 1.0000 - val_loss: 0.2556 - val_acc: 0.9533\n",
            "Epoch 206/500\n",
            "2/2 [==============================] - 0s 171ms/step - loss: 4.6540e-04 - acc: 1.0000 - val_loss: 0.2561 - val_acc: 0.9533\n",
            "Epoch 207/500\n",
            "2/2 [==============================] - 0s 165ms/step - loss: 4.3944e-04 - acc: 1.0000 - val_loss: 0.2567 - val_acc: 0.9533\n",
            "Epoch 208/500\n",
            "2/2 [==============================] - 0s 170ms/step - loss: 4.5647e-04 - acc: 1.0000 - val_loss: 0.2574 - val_acc: 0.9533\n",
            "Epoch 209/500\n",
            "2/2 [==============================] - 0s 168ms/step - loss: 4.5673e-04 - acc: 1.0000 - val_loss: 0.2580 - val_acc: 0.9533\n",
            "Epoch 210/500\n",
            "2/2 [==============================] - 0s 164ms/step - loss: 4.4935e-04 - acc: 1.0000 - val_loss: 0.2585 - val_acc: 0.9533\n",
            "Epoch 211/500\n",
            "2/2 [==============================] - 0s 165ms/step - loss: 4.0660e-04 - acc: 1.0000 - val_loss: 0.2591 - val_acc: 0.9533\n",
            "Epoch 212/500\n",
            "2/2 [==============================] - 0s 167ms/step - loss: 4.0958e-04 - acc: 1.0000 - val_loss: 0.2597 - val_acc: 0.9533\n",
            "Epoch 213/500\n",
            "2/2 [==============================] - 0s 166ms/step - loss: 3.8768e-04 - acc: 1.0000 - val_loss: 0.2603 - val_acc: 0.9533\n",
            "Epoch 214/500\n",
            "2/2 [==============================] - 0s 163ms/step - loss: 3.7904e-04 - acc: 1.0000 - val_loss: 0.2606 - val_acc: 0.9533\n",
            "Epoch 215/500\n",
            "2/2 [==============================] - 0s 164ms/step - loss: 3.9247e-04 - acc: 1.0000 - val_loss: 0.2613 - val_acc: 0.9533\n",
            "Epoch 216/500\n",
            "2/2 [==============================] - 0s 165ms/step - loss: 3.6241e-04 - acc: 1.0000 - val_loss: 0.2617 - val_acc: 0.9533\n",
            "Epoch 217/500\n",
            "2/2 [==============================] - 0s 170ms/step - loss: 3.6252e-04 - acc: 1.0000 - val_loss: 0.2623 - val_acc: 0.9533\n",
            "Epoch 218/500\n",
            "2/2 [==============================] - 0s 161ms/step - loss: 3.6218e-04 - acc: 1.0000 - val_loss: 0.2629 - val_acc: 0.9533\n",
            "Epoch 219/500\n",
            "2/2 [==============================] - 0s 169ms/step - loss: 3.5684e-04 - acc: 1.0000 - val_loss: 0.2635 - val_acc: 0.9533\n",
            "Epoch 220/500\n",
            "2/2 [==============================] - 0s 165ms/step - loss: 3.3965e-04 - acc: 1.0000 - val_loss: 0.2636 - val_acc: 0.9533\n",
            "Epoch 221/500\n",
            "2/2 [==============================] - 0s 166ms/step - loss: 3.2908e-04 - acc: 1.0000 - val_loss: 0.2642 - val_acc: 0.9533\n",
            "Epoch 222/500\n",
            "2/2 [==============================] - 0s 164ms/step - loss: 3.4629e-04 - acc: 1.0000 - val_loss: 0.2652 - val_acc: 0.9533\n",
            "Epoch 223/500\n",
            "2/2 [==============================] - 0s 164ms/step - loss: 3.2192e-04 - acc: 1.0000 - val_loss: 0.2657 - val_acc: 0.9533\n",
            "Epoch 224/500\n",
            "2/2 [==============================] - 0s 169ms/step - loss: 3.1357e-04 - acc: 1.0000 - val_loss: 0.2657 - val_acc: 0.9533\n",
            "Epoch 225/500\n",
            "2/2 [==============================] - 0s 168ms/step - loss: 3.0751e-04 - acc: 1.0000 - val_loss: 0.2658 - val_acc: 0.9533\n",
            "Epoch 226/500\n",
            "2/2 [==============================] - 0s 164ms/step - loss: 3.0481e-04 - acc: 1.0000 - val_loss: 0.2667 - val_acc: 0.9533\n",
            "Epoch 227/500\n",
            "2/2 [==============================] - 0s 165ms/step - loss: 3.0704e-04 - acc: 1.0000 - val_loss: 0.2677 - val_acc: 0.9533\n",
            "Epoch 228/500\n",
            "2/2 [==============================] - 0s 170ms/step - loss: 2.9785e-04 - acc: 1.0000 - val_loss: 0.2679 - val_acc: 0.9533\n",
            "Epoch 229/500\n",
            "2/2 [==============================] - 0s 168ms/step - loss: 2.9837e-04 - acc: 1.0000 - val_loss: 0.2677 - val_acc: 0.9533\n",
            "Epoch 230/500\n",
            "2/2 [==============================] - 0s 169ms/step - loss: 2.9199e-04 - acc: 1.0000 - val_loss: 0.2683 - val_acc: 0.9533\n",
            "Epoch 231/500\n",
            "2/2 [==============================] - 0s 165ms/step - loss: 2.8688e-04 - acc: 1.0000 - val_loss: 0.2693 - val_acc: 0.9533\n",
            "Epoch 232/500\n",
            "2/2 [==============================] - 0s 179ms/step - loss: 2.8980e-04 - acc: 1.0000 - val_loss: 0.2699 - val_acc: 0.9533\n",
            "Epoch 233/500\n",
            "2/2 [==============================] - 0s 161ms/step - loss: 2.8172e-04 - acc: 1.0000 - val_loss: 0.2701 - val_acc: 0.9533\n",
            "Epoch 234/500\n",
            "2/2 [==============================] - 0s 168ms/step - loss: 2.6344e-04 - acc: 1.0000 - val_loss: 0.2705 - val_acc: 0.9533\n",
            "Epoch 235/500\n",
            "2/2 [==============================] - 0s 166ms/step - loss: 2.5846e-04 - acc: 1.0000 - val_loss: 0.2708 - val_acc: 0.9533\n",
            "Epoch 236/500\n",
            "2/2 [==============================] - 0s 168ms/step - loss: 2.5290e-04 - acc: 1.0000 - val_loss: 0.2713 - val_acc: 0.9533\n",
            "Epoch 237/500\n",
            "2/2 [==============================] - 0s 163ms/step - loss: 2.5280e-04 - acc: 1.0000 - val_loss: 0.2720 - val_acc: 0.9533\n",
            "Epoch 238/500\n",
            "2/2 [==============================] - 0s 165ms/step - loss: 2.4597e-04 - acc: 1.0000 - val_loss: 0.2727 - val_acc: 0.9533\n",
            "Epoch 239/500\n",
            "2/2 [==============================] - 0s 169ms/step - loss: 2.4346e-04 - acc: 1.0000 - val_loss: 0.2728 - val_acc: 0.9533\n",
            "Epoch 240/500\n",
            "2/2 [==============================] - 0s 167ms/step - loss: 2.3011e-04 - acc: 1.0000 - val_loss: 0.2728 - val_acc: 0.9533\n",
            "Epoch 241/500\n",
            "2/2 [==============================] - 0s 165ms/step - loss: 2.5519e-04 - acc: 1.0000 - val_loss: 0.2733 - val_acc: 0.9533\n",
            "Epoch 242/500\n",
            "2/2 [==============================] - 0s 166ms/step - loss: 2.3466e-04 - acc: 1.0000 - val_loss: 0.2744 - val_acc: 0.9533\n",
            "Epoch 243/500\n",
            "2/2 [==============================] - 0s 170ms/step - loss: 2.2338e-04 - acc: 1.0000 - val_loss: 0.2748 - val_acc: 0.9533\n",
            "Epoch 244/500\n",
            "2/2 [==============================] - 0s 163ms/step - loss: 2.2423e-04 - acc: 1.0000 - val_loss: 0.2749 - val_acc: 0.9533\n",
            "Epoch 245/500\n",
            "2/2 [==============================] - 0s 167ms/step - loss: 2.1610e-04 - acc: 1.0000 - val_loss: 0.2749 - val_acc: 0.9533\n",
            "Epoch 246/500\n",
            "2/2 [==============================] - 0s 163ms/step - loss: 2.1026e-04 - acc: 1.0000 - val_loss: 0.2755 - val_acc: 0.9533\n",
            "Epoch 247/500\n",
            "2/2 [==============================] - 0s 174ms/step - loss: 2.2010e-04 - acc: 1.0000 - val_loss: 0.2763 - val_acc: 0.9533\n",
            "Epoch 248/500\n",
            "2/2 [==============================] - 0s 165ms/step - loss: 2.1041e-04 - acc: 1.0000 - val_loss: 0.2770 - val_acc: 0.9533\n",
            "Epoch 249/500\n",
            "2/2 [==============================] - 0s 170ms/step - loss: 2.2820e-04 - acc: 1.0000 - val_loss: 0.2770 - val_acc: 0.9533\n",
            "Epoch 250/500\n",
            "2/2 [==============================] - 0s 165ms/step - loss: 2.0318e-04 - acc: 1.0000 - val_loss: 0.2775 - val_acc: 0.9533\n",
            "Epoch 251/500\n",
            "2/2 [==============================] - 0s 167ms/step - loss: 2.0011e-04 - acc: 1.0000 - val_loss: 0.2777 - val_acc: 0.9533\n",
            "Epoch 252/500\n",
            "2/2 [==============================] - 0s 166ms/step - loss: 2.0790e-04 - acc: 1.0000 - val_loss: 0.2782 - val_acc: 0.9533\n",
            "Epoch 253/500\n",
            "2/2 [==============================] - 0s 172ms/step - loss: 1.9463e-04 - acc: 1.0000 - val_loss: 0.2789 - val_acc: 0.9533\n",
            "Epoch 254/500\n",
            "2/2 [==============================] - 0s 164ms/step - loss: 1.8959e-04 - acc: 1.0000 - val_loss: 0.2794 - val_acc: 0.9533\n",
            "Epoch 255/500\n",
            "2/2 [==============================] - 0s 164ms/step - loss: 1.9103e-04 - acc: 1.0000 - val_loss: 0.2794 - val_acc: 0.9533\n",
            "Epoch 256/500\n",
            "2/2 [==============================] - 0s 168ms/step - loss: 1.9466e-04 - acc: 1.0000 - val_loss: 0.2795 - val_acc: 0.9533\n",
            "Epoch 257/500\n",
            "2/2 [==============================] - 0s 168ms/step - loss: 1.7652e-04 - acc: 1.0000 - val_loss: 0.2802 - val_acc: 0.9533\n",
            "Epoch 258/500\n",
            "2/2 [==============================] - 0s 169ms/step - loss: 1.9034e-04 - acc: 1.0000 - val_loss: 0.2813 - val_acc: 0.9533\n",
            "Epoch 259/500\n",
            "2/2 [==============================] - 0s 166ms/step - loss: 1.7521e-04 - acc: 1.0000 - val_loss: 0.2816 - val_acc: 0.9533\n",
            "Epoch 260/500\n",
            "2/2 [==============================] - 0s 166ms/step - loss: 1.8237e-04 - acc: 1.0000 - val_loss: 0.2809 - val_acc: 0.9533\n",
            "Epoch 261/500\n",
            "2/2 [==============================] - 0s 165ms/step - loss: 1.7816e-04 - acc: 1.0000 - val_loss: 0.2812 - val_acc: 0.9533\n",
            "Epoch 262/500\n",
            "2/2 [==============================] - 0s 167ms/step - loss: 1.6852e-04 - acc: 1.0000 - val_loss: 0.2821 - val_acc: 0.9533\n",
            "Epoch 263/500\n",
            "2/2 [==============================] - 0s 164ms/step - loss: 1.7914e-04 - acc: 1.0000 - val_loss: 0.2831 - val_acc: 0.9533\n",
            "Epoch 264/500\n",
            "2/2 [==============================] - 0s 168ms/step - loss: 1.6375e-04 - acc: 1.0000 - val_loss: 0.2836 - val_acc: 0.9533\n",
            "Epoch 265/500\n",
            "2/2 [==============================] - 0s 168ms/step - loss: 1.6957e-04 - acc: 1.0000 - val_loss: 0.2832 - val_acc: 0.9533\n",
            "Epoch 266/500\n",
            "2/2 [==============================] - 0s 166ms/step - loss: 1.6316e-04 - acc: 1.0000 - val_loss: 0.2832 - val_acc: 0.9533\n",
            "Epoch 267/500\n",
            "2/2 [==============================] - 0s 170ms/step - loss: 1.6286e-04 - acc: 1.0000 - val_loss: 0.2838 - val_acc: 0.9533\n",
            "Epoch 268/500\n",
            "2/2 [==============================] - 0s 165ms/step - loss: 1.6164e-04 - acc: 1.0000 - val_loss: 0.2847 - val_acc: 0.9533\n",
            "Epoch 269/500\n",
            "2/2 [==============================] - 0s 163ms/step - loss: 1.5822e-04 - acc: 1.0000 - val_loss: 0.2850 - val_acc: 0.9533\n",
            "Epoch 270/500\n",
            "2/2 [==============================] - 0s 169ms/step - loss: 1.5753e-04 - acc: 1.0000 - val_loss: 0.2851 - val_acc: 0.9533\n",
            "Epoch 271/500\n",
            "2/2 [==============================] - 0s 167ms/step - loss: 1.4613e-04 - acc: 1.0000 - val_loss: 0.2852 - val_acc: 0.9533\n",
            "Epoch 272/500\n",
            "2/2 [==============================] - 0s 165ms/step - loss: 1.5105e-04 - acc: 1.0000 - val_loss: 0.2859 - val_acc: 0.9533\n",
            "Epoch 273/500\n",
            "2/2 [==============================] - 0s 165ms/step - loss: 1.5345e-04 - acc: 1.0000 - val_loss: 0.2864 - val_acc: 0.9533\n",
            "Epoch 274/500\n",
            "2/2 [==============================] - 0s 165ms/step - loss: 1.4587e-04 - acc: 1.0000 - val_loss: 0.2868 - val_acc: 0.9533\n",
            "Epoch 275/500\n",
            "2/2 [==============================] - 0s 168ms/step - loss: 1.4442e-04 - acc: 1.0000 - val_loss: 0.2869 - val_acc: 0.9533\n",
            "Epoch 276/500\n",
            "2/2 [==============================] - 0s 170ms/step - loss: 1.3424e-04 - acc: 1.0000 - val_loss: 0.2870 - val_acc: 0.9533\n",
            "Epoch 277/500\n",
            "2/2 [==============================] - 0s 176ms/step - loss: 1.3936e-04 - acc: 1.0000 - val_loss: 0.2877 - val_acc: 0.9533\n",
            "Epoch 278/500\n",
            "2/2 [==============================] - 0s 167ms/step - loss: 1.4260e-04 - acc: 1.0000 - val_loss: 0.2883 - val_acc: 0.9533\n",
            "Epoch 279/500\n",
            "2/2 [==============================] - 0s 168ms/step - loss: 1.3689e-04 - acc: 1.0000 - val_loss: 0.2886 - val_acc: 0.9533\n",
            "Epoch 280/500\n",
            "2/2 [==============================] - 0s 170ms/step - loss: 1.4017e-04 - acc: 1.0000 - val_loss: 0.2887 - val_acc: 0.9533\n",
            "Epoch 281/500\n",
            "2/2 [==============================] - 0s 170ms/step - loss: 1.4404e-04 - acc: 1.0000 - val_loss: 0.2887 - val_acc: 0.9533\n",
            "Epoch 282/500\n",
            "2/2 [==============================] - 0s 164ms/step - loss: 1.4004e-04 - acc: 1.0000 - val_loss: 0.2894 - val_acc: 0.9533\n",
            "Epoch 283/500\n",
            "2/2 [==============================] - 0s 171ms/step - loss: 1.3490e-04 - acc: 1.0000 - val_loss: 0.2903 - val_acc: 0.9533\n",
            "Epoch 284/500\n",
            "2/2 [==============================] - 0s 165ms/step - loss: 1.3532e-04 - acc: 1.0000 - val_loss: 0.2904 - val_acc: 0.9533\n",
            "Epoch 285/500\n",
            "2/2 [==============================] - 0s 168ms/step - loss: 1.3689e-04 - acc: 1.0000 - val_loss: 0.2900 - val_acc: 0.9533\n",
            "Epoch 286/500\n",
            "2/2 [==============================] - 0s 164ms/step - loss: 1.2614e-04 - acc: 1.0000 - val_loss: 0.2902 - val_acc: 0.9533\n",
            "Epoch 287/500\n",
            "2/2 [==============================] - 0s 172ms/step - loss: 1.3101e-04 - acc: 1.0000 - val_loss: 0.2910 - val_acc: 0.9533\n",
            "Epoch 288/500\n",
            "2/2 [==============================] - 0s 171ms/step - loss: 1.2932e-04 - acc: 1.0000 - val_loss: 0.2919 - val_acc: 0.9533\n",
            "Epoch 289/500\n",
            "2/2 [==============================] - 0s 167ms/step - loss: 1.2358e-04 - acc: 1.0000 - val_loss: 0.2922 - val_acc: 0.9533\n",
            "Epoch 290/500\n",
            "2/2 [==============================] - 0s 168ms/step - loss: 1.2052e-04 - acc: 1.0000 - val_loss: 0.2921 - val_acc: 0.9533\n",
            "Epoch 291/500\n",
            "2/2 [==============================] - 0s 173ms/step - loss: 1.2065e-04 - acc: 1.0000 - val_loss: 0.2922 - val_acc: 0.9533\n",
            "Epoch 292/500\n",
            "2/2 [==============================] - 0s 165ms/step - loss: 1.2050e-04 - acc: 1.0000 - val_loss: 0.2927 - val_acc: 0.9533\n",
            "Epoch 293/500\n",
            "2/2 [==============================] - 0s 170ms/step - loss: 1.1539e-04 - acc: 1.0000 - val_loss: 0.2930 - val_acc: 0.9533\n",
            "Epoch 294/500\n",
            "2/2 [==============================] - 0s 173ms/step - loss: 1.1728e-04 - acc: 1.0000 - val_loss: 0.2934 - val_acc: 0.9533\n",
            "Epoch 295/500\n",
            "2/2 [==============================] - 0s 169ms/step - loss: 1.0895e-04 - acc: 1.0000 - val_loss: 0.2937 - val_acc: 0.9533\n",
            "Epoch 296/500\n",
            "2/2 [==============================] - 0s 170ms/step - loss: 1.1075e-04 - acc: 1.0000 - val_loss: 0.2940 - val_acc: 0.9533\n",
            "Epoch 297/500\n",
            "2/2 [==============================] - 0s 174ms/step - loss: 1.1251e-04 - acc: 1.0000 - val_loss: 0.2941 - val_acc: 0.9533\n",
            "Epoch 298/500\n",
            "2/2 [==============================] - 0s 174ms/step - loss: 1.1467e-04 - acc: 1.0000 - val_loss: 0.2944 - val_acc: 0.9533\n",
            "Epoch 299/500\n",
            "2/2 [==============================] - 0s 166ms/step - loss: 1.1312e-04 - acc: 1.0000 - val_loss: 0.2949 - val_acc: 0.9533\n",
            "Epoch 300/500\n",
            "2/2 [==============================] - 0s 166ms/step - loss: 1.1015e-04 - acc: 1.0000 - val_loss: 0.2954 - val_acc: 0.9533\n",
            "Epoch 301/500\n",
            "2/2 [==============================] - 0s 167ms/step - loss: 1.1005e-04 - acc: 1.0000 - val_loss: 0.2956 - val_acc: 0.9533\n",
            "Epoch 302/500\n",
            "2/2 [==============================] - 0s 170ms/step - loss: 1.0919e-04 - acc: 1.0000 - val_loss: 0.2957 - val_acc: 0.9533\n",
            "Epoch 303/500\n",
            "2/2 [==============================] - 0s 166ms/step - loss: 1.0503e-04 - acc: 1.0000 - val_loss: 0.2957 - val_acc: 0.9533\n",
            "Epoch 304/500\n",
            "2/2 [==============================] - 0s 171ms/step - loss: 1.0799e-04 - acc: 1.0000 - val_loss: 0.2963 - val_acc: 0.9533\n",
            "Epoch 305/500\n",
            "2/2 [==============================] - 0s 168ms/step - loss: 1.0659e-04 - acc: 1.0000 - val_loss: 0.2967 - val_acc: 0.9533\n",
            "Epoch 306/500\n",
            "2/2 [==============================] - 0s 171ms/step - loss: 1.0782e-04 - acc: 1.0000 - val_loss: 0.2972 - val_acc: 0.9533\n",
            "Epoch 307/500\n",
            "2/2 [==============================] - 0s 180ms/step - loss: 1.0779e-04 - acc: 1.0000 - val_loss: 0.2998 - val_acc: 0.9533\n",
            "Epoch 308/500\n",
            "2/2 [==============================] - 0s 168ms/step - loss: 9.9767e-05 - acc: 1.0000 - val_loss: 0.3011 - val_acc: 0.9533\n",
            "Epoch 309/500\n",
            "2/2 [==============================] - 0s 169ms/step - loss: 1.0095e-04 - acc: 1.0000 - val_loss: 0.2993 - val_acc: 0.9533\n",
            "Epoch 310/500\n",
            "2/2 [==============================] - 0s 169ms/step - loss: 9.7836e-05 - acc: 1.0000 - val_loss: 0.3014 - val_acc: 0.9533\n",
            "Epoch 311/500\n",
            "2/2 [==============================] - 0s 169ms/step - loss: 9.7810e-05 - acc: 1.0000 - val_loss: 0.3029 - val_acc: 0.9533\n",
            "Epoch 312/500\n",
            "2/2 [==============================] - 0s 169ms/step - loss: 9.4833e-05 - acc: 1.0000 - val_loss: 0.3040 - val_acc: 0.9533\n",
            "Epoch 313/500\n",
            "2/2 [==============================] - 0s 172ms/step - loss: 9.2831e-05 - acc: 1.0000 - val_loss: 0.3037 - val_acc: 0.9533\n",
            "Epoch 314/500\n",
            "2/2 [==============================] - 0s 168ms/step - loss: 8.9653e-05 - acc: 1.0000 - val_loss: 0.3038 - val_acc: 0.9533\n",
            "Epoch 315/500\n",
            "2/2 [==============================] - 0s 172ms/step - loss: 9.8264e-05 - acc: 1.0000 - val_loss: 0.3049 - val_acc: 0.9533\n",
            "Epoch 316/500\n",
            "2/2 [==============================] - 0s 166ms/step - loss: 9.1875e-05 - acc: 1.0000 - val_loss: 0.3059 - val_acc: 0.9533\n",
            "Epoch 317/500\n",
            "2/2 [==============================] - 0s 167ms/step - loss: 8.5880e-05 - acc: 1.0000 - val_loss: 0.3073 - val_acc: 0.9533\n",
            "Epoch 318/500\n",
            "2/2 [==============================] - 0s 168ms/step - loss: 8.6723e-05 - acc: 1.0000 - val_loss: 0.3074 - val_acc: 0.9533\n",
            "Epoch 319/500\n",
            "2/2 [==============================] - 0s 167ms/step - loss: 9.0357e-05 - acc: 1.0000 - val_loss: 0.3079 - val_acc: 0.9533\n",
            "Epoch 320/500\n",
            "2/2 [==============================] - 0s 170ms/step - loss: 8.6085e-05 - acc: 1.0000 - val_loss: 0.3094 - val_acc: 0.9533\n",
            "Epoch 321/500\n",
            "2/2 [==============================] - 0s 170ms/step - loss: 8.2853e-05 - acc: 1.0000 - val_loss: 0.3102 - val_acc: 0.9533\n",
            "Epoch 322/500\n",
            "2/2 [==============================] - 0s 172ms/step - loss: 7.7663e-05 - acc: 1.0000 - val_loss: 0.3102 - val_acc: 0.9533\n",
            "Epoch 323/500\n",
            "2/2 [==============================] - 0s 169ms/step - loss: 8.5988e-05 - acc: 1.0000 - val_loss: 0.3107 - val_acc: 0.9533\n",
            "Epoch 324/500\n",
            "2/2 [==============================] - 0s 169ms/step - loss: 8.1592e-05 - acc: 1.0000 - val_loss: 0.3139 - val_acc: 0.9533\n",
            "Epoch 325/500\n",
            "2/2 [==============================] - 0s 166ms/step - loss: 7.8724e-05 - acc: 1.0000 - val_loss: 0.3132 - val_acc: 0.9533\n",
            "Epoch 326/500\n",
            "2/2 [==============================] - 0s 165ms/step - loss: 7.4046e-05 - acc: 1.0000 - val_loss: 0.3122 - val_acc: 0.9533\n",
            "Epoch 327/500\n",
            "2/2 [==============================] - 0s 167ms/step - loss: 7.8793e-05 - acc: 1.0000 - val_loss: 0.3136 - val_acc: 0.9533\n",
            "Epoch 328/500\n",
            "2/2 [==============================] - 0s 166ms/step - loss: 7.6735e-05 - acc: 1.0000 - val_loss: 0.3161 - val_acc: 0.9533\n",
            "Epoch 329/500\n",
            "2/2 [==============================] - 0s 166ms/step - loss: 7.1843e-05 - acc: 1.0000 - val_loss: 0.3162 - val_acc: 0.9533\n",
            "Epoch 330/500\n",
            "2/2 [==============================] - 0s 171ms/step - loss: 7.2438e-05 - acc: 1.0000 - val_loss: 0.3148 - val_acc: 0.9533\n",
            "Epoch 331/500\n",
            "2/2 [==============================] - 0s 167ms/step - loss: 6.8852e-05 - acc: 1.0000 - val_loss: 0.3171 - val_acc: 0.9533\n",
            "Epoch 332/500\n",
            "2/2 [==============================] - 0s 168ms/step - loss: 7.5450e-05 - acc: 1.0000 - val_loss: 0.3194 - val_acc: 0.9533\n",
            "Epoch 333/500\n",
            "2/2 [==============================] - 0s 167ms/step - loss: 7.1585e-05 - acc: 1.0000 - val_loss: 0.3188 - val_acc: 0.9533\n",
            "Epoch 334/500\n",
            "2/2 [==============================] - 0s 170ms/step - loss: 6.8533e-05 - acc: 1.0000 - val_loss: 0.3184 - val_acc: 0.9533\n",
            "Epoch 335/500\n",
            "2/2 [==============================] - 0s 173ms/step - loss: 6.9968e-05 - acc: 1.0000 - val_loss: 0.3208 - val_acc: 0.9533\n",
            "Epoch 336/500\n",
            "2/2 [==============================] - 0s 176ms/step - loss: 6.1473e-05 - acc: 1.0000 - val_loss: 0.3227 - val_acc: 0.9533\n",
            "Epoch 337/500\n",
            "2/2 [==============================] - 0s 170ms/step - loss: 7.1209e-05 - acc: 1.0000 - val_loss: 0.3216 - val_acc: 0.9533\n",
            "Epoch 338/500\n",
            "2/2 [==============================] - 0s 168ms/step - loss: 6.2751e-05 - acc: 1.0000 - val_loss: 0.3231 - val_acc: 0.9533\n",
            "Epoch 339/500\n",
            "2/2 [==============================] - 0s 169ms/step - loss: 6.5511e-05 - acc: 1.0000 - val_loss: 0.3243 - val_acc: 0.9533\n",
            "Epoch 340/500\n",
            "2/2 [==============================] - 0s 169ms/step - loss: 6.1197e-05 - acc: 1.0000 - val_loss: 0.3236 - val_acc: 0.9533\n",
            "Epoch 341/500\n",
            "2/2 [==============================] - 0s 171ms/step - loss: 6.2832e-05 - acc: 1.0000 - val_loss: 0.3236 - val_acc: 0.9533\n",
            "Epoch 342/500\n",
            "2/2 [==============================] - 0s 173ms/step - loss: 6.4752e-05 - acc: 1.0000 - val_loss: 0.3267 - val_acc: 0.9533\n",
            "Epoch 343/500\n",
            "2/2 [==============================] - 0s 168ms/step - loss: 6.2613e-05 - acc: 1.0000 - val_loss: 0.3272 - val_acc: 0.9533\n",
            "Epoch 344/500\n",
            "2/2 [==============================] - 0s 168ms/step - loss: 6.1929e-05 - acc: 1.0000 - val_loss: 0.3252 - val_acc: 0.9533\n",
            "Epoch 345/500\n",
            "2/2 [==============================] - 0s 172ms/step - loss: 6.1159e-05 - acc: 1.0000 - val_loss: 0.3269 - val_acc: 0.9533\n",
            "Epoch 346/500\n",
            "2/2 [==============================] - 0s 171ms/step - loss: 6.1941e-05 - acc: 1.0000 - val_loss: 0.3293 - val_acc: 0.9533\n",
            "Epoch 347/500\n",
            "2/2 [==============================] - 0s 172ms/step - loss: 5.9454e-05 - acc: 1.0000 - val_loss: 0.3295 - val_acc: 0.9533\n",
            "Epoch 348/500\n",
            "2/2 [==============================] - 0s 167ms/step - loss: 5.5004e-05 - acc: 1.0000 - val_loss: 0.3280 - val_acc: 0.9533\n",
            "Epoch 349/500\n",
            "2/2 [==============================] - 0s 166ms/step - loss: 5.7596e-05 - acc: 1.0000 - val_loss: 0.3298 - val_acc: 0.9533\n",
            "Epoch 350/500\n",
            "2/2 [==============================] - 0s 171ms/step - loss: 5.3036e-05 - acc: 1.0000 - val_loss: 0.3320 - val_acc: 0.9533\n",
            "Epoch 351/500\n",
            "2/2 [==============================] - 0s 168ms/step - loss: 5.6226e-05 - acc: 1.0000 - val_loss: 0.3318 - val_acc: 0.9533\n",
            "Epoch 352/500\n",
            "2/2 [==============================] - 0s 170ms/step - loss: 5.5437e-05 - acc: 1.0000 - val_loss: 0.3308 - val_acc: 0.9533\n",
            "Epoch 353/500\n",
            "2/2 [==============================] - 0s 169ms/step - loss: 5.2654e-05 - acc: 1.0000 - val_loss: 0.3328 - val_acc: 0.9533\n",
            "Epoch 354/500\n",
            "2/2 [==============================] - 0s 177ms/step - loss: 5.4755e-05 - acc: 1.0000 - val_loss: 0.3347 - val_acc: 0.9533\n",
            "Epoch 355/500\n",
            "2/2 [==============================] - 0s 168ms/step - loss: 5.0096e-05 - acc: 1.0000 - val_loss: 0.3338 - val_acc: 0.9533\n",
            "Epoch 356/500\n",
            "2/2 [==============================] - 0s 165ms/step - loss: 5.1663e-05 - acc: 1.0000 - val_loss: 0.3334 - val_acc: 0.9533\n",
            "Epoch 357/500\n",
            "2/2 [==============================] - 0s 174ms/step - loss: 4.9558e-05 - acc: 1.0000 - val_loss: 0.3366 - val_acc: 0.9533\n",
            "Epoch 358/500\n",
            "2/2 [==============================] - 0s 172ms/step - loss: 5.1315e-05 - acc: 1.0000 - val_loss: 0.3372 - val_acc: 0.9533\n",
            "Epoch 359/500\n",
            "2/2 [==============================] - 0s 172ms/step - loss: 4.7099e-05 - acc: 1.0000 - val_loss: 0.3348 - val_acc: 0.9533\n",
            "Epoch 360/500\n",
            "2/2 [==============================] - 0s 168ms/step - loss: 4.9408e-05 - acc: 1.0000 - val_loss: 0.3367 - val_acc: 0.9533\n",
            "Epoch 361/500\n",
            "2/2 [==============================] - 0s 170ms/step - loss: 4.8182e-05 - acc: 1.0000 - val_loss: 0.3389 - val_acc: 0.9533\n",
            "Epoch 362/500\n",
            "2/2 [==============================] - 0s 172ms/step - loss: 4.7694e-05 - acc: 1.0000 - val_loss: 0.3382 - val_acc: 0.9533\n",
            "Epoch 363/500\n",
            "2/2 [==============================] - 0s 170ms/step - loss: 4.5597e-05 - acc: 1.0000 - val_loss: 0.3382 - val_acc: 0.9533\n",
            "Epoch 364/500\n",
            "2/2 [==============================] - 0s 174ms/step - loss: 4.8370e-05 - acc: 1.0000 - val_loss: 0.3391 - val_acc: 0.9533\n",
            "Epoch 365/500\n",
            "2/2 [==============================] - 0s 175ms/step - loss: 4.4968e-05 - acc: 1.0000 - val_loss: 0.3411 - val_acc: 0.9533\n",
            "Epoch 366/500\n",
            "2/2 [==============================] - 0s 170ms/step - loss: 4.2851e-05 - acc: 1.0000 - val_loss: 0.3404 - val_acc: 0.9533\n",
            "Epoch 367/500\n",
            "2/2 [==============================] - 0s 171ms/step - loss: 4.2846e-05 - acc: 1.0000 - val_loss: 0.3395 - val_acc: 0.9533\n",
            "Epoch 368/500\n",
            "2/2 [==============================] - 0s 174ms/step - loss: 4.4776e-05 - acc: 1.0000 - val_loss: 0.3417 - val_acc: 0.9533\n",
            "Epoch 369/500\n",
            "2/2 [==============================] - 0s 171ms/step - loss: 4.0962e-05 - acc: 1.0000 - val_loss: 0.3418 - val_acc: 0.9533\n",
            "Epoch 370/500\n",
            "2/2 [==============================] - 0s 173ms/step - loss: 4.2646e-05 - acc: 1.0000 - val_loss: 0.3421 - val_acc: 0.9533\n",
            "Epoch 371/500\n",
            "2/2 [==============================] - 0s 167ms/step - loss: 4.2246e-05 - acc: 1.0000 - val_loss: 0.3438 - val_acc: 0.9533\n",
            "Epoch 372/500\n",
            "2/2 [==============================] - 0s 169ms/step - loss: 4.0404e-05 - acc: 1.0000 - val_loss: 0.3447 - val_acc: 0.9533\n",
            "Epoch 373/500\n",
            "2/2 [==============================] - 0s 172ms/step - loss: 4.1220e-05 - acc: 1.0000 - val_loss: 0.3442 - val_acc: 0.9533\n",
            "Epoch 374/500\n",
            "2/2 [==============================] - 0s 171ms/step - loss: 4.1424e-05 - acc: 1.0000 - val_loss: 0.3438 - val_acc: 0.9533\n",
            "Epoch 375/500\n",
            "2/2 [==============================] - 0s 167ms/step - loss: 3.9516e-05 - acc: 1.0000 - val_loss: 0.3463 - val_acc: 0.9533\n",
            "Epoch 376/500\n",
            "2/2 [==============================] - 0s 171ms/step - loss: 4.0665e-05 - acc: 1.0000 - val_loss: 0.3462 - val_acc: 0.9533\n",
            "Epoch 377/500\n",
            "2/2 [==============================] - 0s 172ms/step - loss: 3.9296e-05 - acc: 1.0000 - val_loss: 0.3451 - val_acc: 0.9533\n",
            "Epoch 378/500\n",
            "2/2 [==============================] - 0s 172ms/step - loss: 3.9395e-05 - acc: 1.0000 - val_loss: 0.3462 - val_acc: 0.9533\n",
            "Epoch 379/500\n",
            "2/2 [==============================] - 0s 172ms/step - loss: 4.0483e-05 - acc: 1.0000 - val_loss: 0.3481 - val_acc: 0.9533\n",
            "Epoch 380/500\n",
            "2/2 [==============================] - 0s 171ms/step - loss: 4.0588e-05 - acc: 1.0000 - val_loss: 0.3468 - val_acc: 0.9533\n",
            "Epoch 381/500\n",
            "2/2 [==============================] - 0s 169ms/step - loss: 3.8051e-05 - acc: 1.0000 - val_loss: 0.3470 - val_acc: 0.9533\n",
            "Epoch 382/500\n",
            "2/2 [==============================] - 0s 172ms/step - loss: 3.7180e-05 - acc: 1.0000 - val_loss: 0.3493 - val_acc: 0.9533\n",
            "Epoch 383/500\n",
            "2/2 [==============================] - 0s 177ms/step - loss: 3.6861e-05 - acc: 1.0000 - val_loss: 0.3490 - val_acc: 0.9533\n",
            "Epoch 384/500\n",
            "2/2 [==============================] - 0s 172ms/step - loss: 3.3357e-05 - acc: 1.0000 - val_loss: 0.3484 - val_acc: 0.9533\n",
            "Epoch 385/500\n",
            "2/2 [==============================] - 0s 169ms/step - loss: 3.6508e-05 - acc: 1.0000 - val_loss: 0.3493 - val_acc: 0.9533\n",
            "Epoch 386/500\n",
            "2/2 [==============================] - 0s 170ms/step - loss: 3.7163e-05 - acc: 1.0000 - val_loss: 0.3494 - val_acc: 0.9533\n",
            "Epoch 387/500\n",
            "2/2 [==============================] - 0s 172ms/step - loss: 3.1962e-05 - acc: 1.0000 - val_loss: 0.3501 - val_acc: 0.9533\n",
            "Epoch 388/500\n",
            "2/2 [==============================] - 0s 169ms/step - loss: 3.5299e-05 - acc: 1.0000 - val_loss: 0.3506 - val_acc: 0.9533\n",
            "Epoch 389/500\n",
            "2/2 [==============================] - 0s 175ms/step - loss: 3.3309e-05 - acc: 1.0000 - val_loss: 0.3500 - val_acc: 0.9533\n",
            "Epoch 390/500\n",
            "2/2 [==============================] - 0s 168ms/step - loss: 3.3973e-05 - acc: 1.0000 - val_loss: 0.3507 - val_acc: 0.9533\n",
            "Epoch 391/500\n",
            "2/2 [==============================] - 0s 176ms/step - loss: 3.2176e-05 - acc: 1.0000 - val_loss: 0.3513 - val_acc: 0.9533\n",
            "Epoch 392/500\n",
            "2/2 [==============================] - 0s 174ms/step - loss: 3.0228e-05 - acc: 1.0000 - val_loss: 0.3509 - val_acc: 0.9533\n",
            "Epoch 393/500\n",
            "2/2 [==============================] - 0s 173ms/step - loss: 3.2560e-05 - acc: 1.0000 - val_loss: 0.3512 - val_acc: 0.9533\n",
            "Epoch 394/500\n",
            "2/2 [==============================] - 0s 173ms/step - loss: 3.2440e-05 - acc: 1.0000 - val_loss: 0.3527 - val_acc: 0.9533\n",
            "Epoch 395/500\n",
            "2/2 [==============================] - 0s 171ms/step - loss: 2.9889e-05 - acc: 1.0000 - val_loss: 0.3517 - val_acc: 0.9533\n",
            "Epoch 396/500\n",
            "2/2 [==============================] - 0s 168ms/step - loss: 3.0441e-05 - acc: 1.0000 - val_loss: 0.3521 - val_acc: 0.9533\n",
            "Epoch 397/500\n",
            "2/2 [==============================] - 0s 169ms/step - loss: 3.2096e-05 - acc: 1.0000 - val_loss: 0.3537 - val_acc: 0.9533\n",
            "Epoch 398/500\n",
            "2/2 [==============================] - 0s 175ms/step - loss: 3.0556e-05 - acc: 1.0000 - val_loss: 0.3541 - val_acc: 0.9533\n",
            "Epoch 399/500\n",
            "2/2 [==============================] - 0s 168ms/step - loss: 2.9711e-05 - acc: 1.0000 - val_loss: 0.3537 - val_acc: 0.9533\n",
            "Epoch 400/500\n",
            "2/2 [==============================] - 0s 169ms/step - loss: 2.8128e-05 - acc: 1.0000 - val_loss: 0.3539 - val_acc: 0.9533\n",
            "Epoch 401/500\n",
            "2/2 [==============================] - 0s 170ms/step - loss: 3.0128e-05 - acc: 1.0000 - val_loss: 0.3548 - val_acc: 0.9533\n",
            "Epoch 402/500\n",
            "2/2 [==============================] - 0s 166ms/step - loss: 2.9091e-05 - acc: 1.0000 - val_loss: 0.3562 - val_acc: 0.9533\n",
            "Epoch 403/500\n",
            "2/2 [==============================] - 0s 169ms/step - loss: 2.9953e-05 - acc: 1.0000 - val_loss: 0.3555 - val_acc: 0.9533\n",
            "Epoch 404/500\n",
            "2/2 [==============================] - 0s 172ms/step - loss: 2.9970e-05 - acc: 1.0000 - val_loss: 0.3557 - val_acc: 0.9533\n",
            "Epoch 405/500\n",
            "2/2 [==============================] - 0s 171ms/step - loss: 2.7809e-05 - acc: 1.0000 - val_loss: 0.3571 - val_acc: 0.9533\n",
            "Epoch 406/500\n",
            "2/2 [==============================] - 0s 167ms/step - loss: 2.8862e-05 - acc: 1.0000 - val_loss: 0.3573 - val_acc: 0.9533\n",
            "Epoch 407/500\n",
            "2/2 [==============================] - 0s 170ms/step - loss: 2.9140e-05 - acc: 1.0000 - val_loss: 0.3550 - val_acc: 0.9533\n",
            "Epoch 408/500\n",
            "2/2 [==============================] - 0s 176ms/step - loss: 2.9089e-05 - acc: 1.0000 - val_loss: 0.3571 - val_acc: 0.9533\n",
            "Epoch 409/500\n",
            "2/2 [==============================] - 0s 168ms/step - loss: 2.8166e-05 - acc: 1.0000 - val_loss: 0.3595 - val_acc: 0.9533\n",
            "Epoch 410/500\n",
            "2/2 [==============================] - 0s 169ms/step - loss: 2.9370e-05 - acc: 1.0000 - val_loss: 0.3567 - val_acc: 0.9533\n",
            "Epoch 411/500\n",
            "2/2 [==============================] - 0s 184ms/step - loss: 2.7443e-05 - acc: 1.0000 - val_loss: 0.3571 - val_acc: 0.9533\n",
            "Epoch 412/500\n",
            "2/2 [==============================] - 0s 166ms/step - loss: 2.6478e-05 - acc: 1.0000 - val_loss: 0.3600 - val_acc: 0.9533\n",
            "Epoch 413/500\n",
            "2/2 [==============================] - 0s 167ms/step - loss: 2.6123e-05 - acc: 1.0000 - val_loss: 0.3597 - val_acc: 0.9533\n",
            "Epoch 414/500\n",
            "2/2 [==============================] - 0s 186ms/step - loss: 2.4997e-05 - acc: 1.0000 - val_loss: 0.3585 - val_acc: 0.9533\n",
            "Epoch 415/500\n",
            "2/2 [==============================] - 0s 174ms/step - loss: 2.6642e-05 - acc: 1.0000 - val_loss: 0.3591 - val_acc: 0.9533\n",
            "Epoch 416/500\n",
            "2/2 [==============================] - 0s 170ms/step - loss: 2.5161e-05 - acc: 1.0000 - val_loss: 0.3621 - val_acc: 0.9533\n",
            "Epoch 417/500\n",
            "2/2 [==============================] - 0s 170ms/step - loss: 2.6670e-05 - acc: 1.0000 - val_loss: 0.3621 - val_acc: 0.9533\n",
            "Epoch 418/500\n",
            "2/2 [==============================] - 0s 172ms/step - loss: 2.5904e-05 - acc: 1.0000 - val_loss: 0.3602 - val_acc: 0.9533\n",
            "Epoch 419/500\n",
            "2/2 [==============================] - 0s 170ms/step - loss: 2.5924e-05 - acc: 1.0000 - val_loss: 0.3614 - val_acc: 0.9533\n",
            "Epoch 420/500\n",
            "2/2 [==============================] - 0s 169ms/step - loss: 2.5574e-05 - acc: 1.0000 - val_loss: 0.3642 - val_acc: 0.9533\n",
            "Epoch 421/500\n",
            "2/2 [==============================] - 0s 169ms/step - loss: 2.3009e-05 - acc: 1.0000 - val_loss: 0.3634 - val_acc: 0.9533\n",
            "Epoch 422/500\n",
            "2/2 [==============================] - 0s 167ms/step - loss: 2.4477e-05 - acc: 1.0000 - val_loss: 0.3617 - val_acc: 0.9533\n",
            "Epoch 423/500\n",
            "2/2 [==============================] - 0s 167ms/step - loss: 2.4650e-05 - acc: 1.0000 - val_loss: 0.3633 - val_acc: 0.9533\n",
            "Epoch 424/500\n",
            "2/2 [==============================] - 0s 168ms/step - loss: 2.3759e-05 - acc: 1.0000 - val_loss: 0.3665 - val_acc: 0.9533\n",
            "Epoch 425/500\n",
            "2/2 [==============================] - 0s 181ms/step - loss: 2.6454e-05 - acc: 1.0000 - val_loss: 0.3646 - val_acc: 0.9533\n",
            "Epoch 426/500\n",
            "2/2 [==============================] - 0s 174ms/step - loss: 2.1629e-05 - acc: 1.0000 - val_loss: 0.3636 - val_acc: 0.9533\n",
            "Epoch 427/500\n",
            "2/2 [==============================] - 0s 171ms/step - loss: 2.2620e-05 - acc: 1.0000 - val_loss: 0.3651 - val_acc: 0.9533\n",
            "Epoch 428/500\n",
            "2/2 [==============================] - 0s 169ms/step - loss: 2.3429e-05 - acc: 1.0000 - val_loss: 0.3666 - val_acc: 0.9533\n",
            "Epoch 429/500\n",
            "2/2 [==============================] - 0s 174ms/step - loss: 2.3069e-05 - acc: 1.0000 - val_loss: 0.3658 - val_acc: 0.9533\n",
            "Epoch 430/500\n",
            "2/2 [==============================] - 0s 167ms/step - loss: 2.2587e-05 - acc: 1.0000 - val_loss: 0.3659 - val_acc: 0.9533\n",
            "Epoch 431/500\n",
            "2/2 [==============================] - 0s 173ms/step - loss: 2.1942e-05 - acc: 1.0000 - val_loss: 0.3668 - val_acc: 0.9533\n",
            "Epoch 432/500\n",
            "2/2 [==============================] - 0s 175ms/step - loss: 2.1756e-05 - acc: 1.0000 - val_loss: 0.3679 - val_acc: 0.9533\n",
            "Epoch 433/500\n",
            "2/2 [==============================] - 0s 173ms/step - loss: 2.2741e-05 - acc: 1.0000 - val_loss: 0.3673 - val_acc: 0.9533\n",
            "Epoch 434/500\n",
            "2/2 [==============================] - 0s 173ms/step - loss: 2.1194e-05 - acc: 1.0000 - val_loss: 0.3679 - val_acc: 0.9533\n",
            "Epoch 435/500\n",
            "2/2 [==============================] - 0s 173ms/step - loss: 2.1510e-05 - acc: 1.0000 - val_loss: 0.3690 - val_acc: 0.9533\n",
            "Epoch 436/500\n",
            "2/2 [==============================] - 0s 172ms/step - loss: 2.0402e-05 - acc: 1.0000 - val_loss: 0.3687 - val_acc: 0.9533\n",
            "Epoch 437/500\n",
            "2/2 [==============================] - 0s 171ms/step - loss: 1.9341e-05 - acc: 1.0000 - val_loss: 0.3687 - val_acc: 0.9533\n",
            "Epoch 438/500\n",
            "2/2 [==============================] - 0s 169ms/step - loss: 2.0115e-05 - acc: 1.0000 - val_loss: 0.3701 - val_acc: 0.9533\n",
            "Epoch 439/500\n",
            "2/2 [==============================] - 0s 172ms/step - loss: 2.1559e-05 - acc: 1.0000 - val_loss: 0.3704 - val_acc: 0.9533\n",
            "Epoch 440/500\n",
            "2/2 [==============================] - 0s 173ms/step - loss: 2.0357e-05 - acc: 1.0000 - val_loss: 0.3698 - val_acc: 0.9533\n",
            "Epoch 441/500\n",
            "2/2 [==============================] - 0s 173ms/step - loss: 2.0783e-05 - acc: 1.0000 - val_loss: 0.3713 - val_acc: 0.9533\n",
            "Epoch 442/500\n",
            "2/2 [==============================] - 0s 177ms/step - loss: 2.0715e-05 - acc: 1.0000 - val_loss: 0.3720 - val_acc: 0.9533\n",
            "Epoch 443/500\n",
            "2/2 [==============================] - 0s 171ms/step - loss: 1.9580e-05 - acc: 1.0000 - val_loss: 0.3715 - val_acc: 0.9533\n",
            "Epoch 444/500\n",
            "2/2 [==============================] - 0s 172ms/step - loss: 2.0071e-05 - acc: 1.0000 - val_loss: 0.3720 - val_acc: 0.9533\n",
            "Epoch 445/500\n",
            "2/2 [==============================] - 0s 174ms/step - loss: 2.0692e-05 - acc: 1.0000 - val_loss: 0.3732 - val_acc: 0.9533\n",
            "Epoch 446/500\n",
            "2/2 [==============================] - 0s 172ms/step - loss: 1.9924e-05 - acc: 1.0000 - val_loss: 0.3730 - val_acc: 0.9533\n",
            "Epoch 447/500\n",
            "2/2 [==============================] - 0s 169ms/step - loss: 1.8462e-05 - acc: 1.0000 - val_loss: 0.3738 - val_acc: 0.9533\n",
            "Epoch 448/500\n",
            "2/2 [==============================] - 0s 170ms/step - loss: 1.9527e-05 - acc: 1.0000 - val_loss: 0.3737 - val_acc: 0.9533\n",
            "Epoch 449/500\n",
            "2/2 [==============================] - 0s 173ms/step - loss: 1.8625e-05 - acc: 1.0000 - val_loss: 0.3748 - val_acc: 0.9533\n",
            "Epoch 450/500\n",
            "2/2 [==============================] - 0s 172ms/step - loss: 1.8436e-05 - acc: 1.0000 - val_loss: 0.3743 - val_acc: 0.9533\n",
            "Epoch 451/500\n",
            "2/2 [==============================] - 0s 175ms/step - loss: 1.7663e-05 - acc: 1.0000 - val_loss: 0.3750 - val_acc: 0.9533\n",
            "Epoch 452/500\n",
            "2/2 [==============================] - 0s 174ms/step - loss: 1.9714e-05 - acc: 1.0000 - val_loss: 0.3758 - val_acc: 0.9533\n",
            "Epoch 453/500\n",
            "2/2 [==============================] - 0s 170ms/step - loss: 1.8913e-05 - acc: 1.0000 - val_loss: 0.3757 - val_acc: 0.9533\n",
            "Epoch 454/500\n",
            "2/2 [==============================] - 0s 174ms/step - loss: 1.8498e-05 - acc: 1.0000 - val_loss: 0.3757 - val_acc: 0.9533\n",
            "Epoch 455/500\n",
            "2/2 [==============================] - 0s 172ms/step - loss: 1.8155e-05 - acc: 1.0000 - val_loss: 0.3770 - val_acc: 0.9533\n",
            "Epoch 456/500\n",
            "2/2 [==============================] - 0s 170ms/step - loss: 1.9155e-05 - acc: 1.0000 - val_loss: 0.3783 - val_acc: 0.9533\n",
            "Epoch 457/500\n",
            "2/2 [==============================] - 0s 169ms/step - loss: 1.7767e-05 - acc: 1.0000 - val_loss: 0.3779 - val_acc: 0.9533\n",
            "Epoch 458/500\n",
            "2/2 [==============================] - 0s 174ms/step - loss: 1.7612e-05 - acc: 1.0000 - val_loss: 0.3769 - val_acc: 0.9533\n",
            "Epoch 459/500\n",
            "2/2 [==============================] - 0s 172ms/step - loss: 1.7757e-05 - acc: 1.0000 - val_loss: 0.3781 - val_acc: 0.9533\n",
            "Epoch 460/500\n",
            "2/2 [==============================] - 0s 173ms/step - loss: 1.6929e-05 - acc: 1.0000 - val_loss: 0.3792 - val_acc: 0.9533\n",
            "Epoch 461/500\n",
            "2/2 [==============================] - 0s 174ms/step - loss: 1.7823e-05 - acc: 1.0000 - val_loss: 0.3794 - val_acc: 0.9533\n",
            "Epoch 462/500\n",
            "2/2 [==============================] - 0s 168ms/step - loss: 1.7002e-05 - acc: 1.0000 - val_loss: 0.3797 - val_acc: 0.9533\n",
            "Epoch 463/500\n",
            "2/2 [==============================] - 0s 168ms/step - loss: 1.7480e-05 - acc: 1.0000 - val_loss: 0.3801 - val_acc: 0.9533\n",
            "Epoch 464/500\n",
            "2/2 [==============================] - 0s 178ms/step - loss: 1.6809e-05 - acc: 1.0000 - val_loss: 0.3806 - val_acc: 0.9533\n",
            "Epoch 465/500\n",
            "2/2 [==============================] - 0s 173ms/step - loss: 1.6588e-05 - acc: 1.0000 - val_loss: 0.3802 - val_acc: 0.9533\n",
            "Epoch 466/500\n",
            "2/2 [==============================] - 0s 171ms/step - loss: 1.7333e-05 - acc: 1.0000 - val_loss: 0.3813 - val_acc: 0.9533\n",
            "Epoch 467/500\n",
            "2/2 [==============================] - 0s 169ms/step - loss: 1.7369e-05 - acc: 1.0000 - val_loss: 0.3821 - val_acc: 0.9533\n",
            "Epoch 468/500\n",
            "2/2 [==============================] - 0s 171ms/step - loss: 1.6485e-05 - acc: 1.0000 - val_loss: 0.3821 - val_acc: 0.9533\n",
            "Epoch 469/500\n",
            "2/2 [==============================] - 0s 169ms/step - loss: 1.6194e-05 - acc: 1.0000 - val_loss: 0.3817 - val_acc: 0.9533\n",
            "Epoch 470/500\n",
            "2/2 [==============================] - 0s 169ms/step - loss: 1.6065e-05 - acc: 1.0000 - val_loss: 0.3824 - val_acc: 0.9533\n",
            "Epoch 471/500\n",
            "2/2 [==============================] - 0s 176ms/step - loss: 1.6530e-05 - acc: 1.0000 - val_loss: 0.3835 - val_acc: 0.9533\n",
            "Epoch 472/500\n",
            "2/2 [==============================] - 0s 170ms/step - loss: 1.5362e-05 - acc: 1.0000 - val_loss: 0.3833 - val_acc: 0.9533\n",
            "Epoch 473/500\n",
            "2/2 [==============================] - 0s 174ms/step - loss: 1.5476e-05 - acc: 1.0000 - val_loss: 0.3833 - val_acc: 0.9533\n",
            "Epoch 474/500\n",
            "2/2 [==============================] - 0s 177ms/step - loss: 1.6389e-05 - acc: 1.0000 - val_loss: 0.3840 - val_acc: 0.9533\n",
            "Epoch 475/500\n",
            "2/2 [==============================] - 0s 177ms/step - loss: 1.5853e-05 - acc: 1.0000 - val_loss: 0.3846 - val_acc: 0.9533\n",
            "Epoch 476/500\n",
            "2/2 [==============================] - 0s 176ms/step - loss: 1.5628e-05 - acc: 1.0000 - val_loss: 0.3851 - val_acc: 0.9533\n",
            "Epoch 477/500\n",
            "2/2 [==============================] - 0s 173ms/step - loss: 1.5495e-05 - acc: 1.0000 - val_loss: 0.3854 - val_acc: 0.9533\n",
            "Epoch 478/500\n",
            "2/2 [==============================] - 0s 177ms/step - loss: 1.5691e-05 - acc: 1.0000 - val_loss: 0.3851 - val_acc: 0.9533\n",
            "Epoch 479/500\n",
            "2/2 [==============================] - 0s 173ms/step - loss: 1.5241e-05 - acc: 1.0000 - val_loss: 0.3857 - val_acc: 0.9533\n",
            "Epoch 480/500\n",
            "2/2 [==============================] - 0s 178ms/step - loss: 1.4610e-05 - acc: 1.0000 - val_loss: 0.3862 - val_acc: 0.9533\n",
            "Epoch 481/500\n",
            "2/2 [==============================] - 0s 175ms/step - loss: 1.5934e-05 - acc: 1.0000 - val_loss: 0.3870 - val_acc: 0.9533\n",
            "Epoch 482/500\n",
            "2/2 [==============================] - 0s 172ms/step - loss: 1.4918e-05 - acc: 1.0000 - val_loss: 0.3870 - val_acc: 0.9533\n",
            "Epoch 483/500\n",
            "2/2 [==============================] - 0s 173ms/step - loss: 1.4871e-05 - acc: 1.0000 - val_loss: 0.3870 - val_acc: 0.9533\n",
            "Epoch 484/500\n",
            "2/2 [==============================] - 0s 178ms/step - loss: 1.4730e-05 - acc: 1.0000 - val_loss: 0.3879 - val_acc: 0.9533\n",
            "Epoch 485/500\n",
            "2/2 [==============================] - 0s 173ms/step - loss: 1.4152e-05 - acc: 1.0000 - val_loss: 0.3880 - val_acc: 0.9533\n",
            "Epoch 486/500\n",
            "2/2 [==============================] - 0s 170ms/step - loss: 1.4366e-05 - acc: 1.0000 - val_loss: 0.3877 - val_acc: 0.9533\n",
            "Epoch 487/500\n",
            "2/2 [==============================] - 0s 170ms/step - loss: 1.4362e-05 - acc: 1.0000 - val_loss: 0.3888 - val_acc: 0.9533\n",
            "Epoch 488/500\n",
            "2/2 [==============================] - 0s 177ms/step - loss: 1.3072e-05 - acc: 1.0000 - val_loss: 0.3898 - val_acc: 0.9533\n",
            "Epoch 489/500\n",
            "2/2 [==============================] - 0s 174ms/step - loss: 1.3276e-05 - acc: 1.0000 - val_loss: 0.3898 - val_acc: 0.9533\n",
            "Epoch 490/500\n",
            "2/2 [==============================] - 0s 172ms/step - loss: 1.3886e-05 - acc: 1.0000 - val_loss: 0.3894 - val_acc: 0.9533\n",
            "Epoch 491/500\n",
            "2/2 [==============================] - 0s 177ms/step - loss: 1.4580e-05 - acc: 1.0000 - val_loss: 0.3907 - val_acc: 0.9533\n",
            "Epoch 492/500\n",
            "2/2 [==============================] - 0s 171ms/step - loss: 1.4495e-05 - acc: 1.0000 - val_loss: 0.3915 - val_acc: 0.9533\n",
            "Epoch 493/500\n",
            "2/2 [==============================] - 0s 174ms/step - loss: 1.3253e-05 - acc: 1.0000 - val_loss: 0.3909 - val_acc: 0.9533\n",
            "Epoch 494/500\n",
            "2/2 [==============================] - 0s 167ms/step - loss: 1.3456e-05 - acc: 1.0000 - val_loss: 0.3908 - val_acc: 0.9533\n",
            "Epoch 495/500\n",
            "2/2 [==============================] - 0s 167ms/step - loss: 1.3381e-05 - acc: 1.0000 - val_loss: 0.3922 - val_acc: 0.9533\n",
            "Epoch 496/500\n",
            "2/2 [==============================] - 0s 172ms/step - loss: 1.3252e-05 - acc: 1.0000 - val_loss: 0.3930 - val_acc: 0.9533\n",
            "Epoch 497/500\n",
            "2/2 [==============================] - 0s 171ms/step - loss: 1.3358e-05 - acc: 1.0000 - val_loss: 0.3925 - val_acc: 0.9533\n",
            "Epoch 498/500\n",
            "2/2 [==============================] - 0s 176ms/step - loss: 1.3291e-05 - acc: 1.0000 - val_loss: 0.3922 - val_acc: 0.9533\n",
            "Epoch 499/500\n",
            "2/2 [==============================] - 0s 171ms/step - loss: 1.2711e-05 - acc: 1.0000 - val_loss: 0.3935 - val_acc: 0.9533\n",
            "Epoch 500/500\n",
            "2/2 [==============================] - 0s 168ms/step - loss: 1.2749e-05 - acc: 1.0000 - val_loss: 0.3940 - val_acc: 0.9533\n"
          ],
          "name": "stdout"
        }
      ]
    },
    {
      "cell_type": "code",
      "metadata": {
        "id": "x2qzK4SJB5y9",
        "colab": {
          "base_uri": "https://localhost:8080/",
          "height": 241
        },
        "outputId": "2668f117-cb8b-41e8-c3f6-929582225ac1"
      },
      "source": [
        "plt.figure(figsize =(5,3))\n",
        "plt.plot(history.history['acc'], marker='.', label='tune')\n",
        "plt.plot(history.history['val_acc'], marker='.', label='test')\n",
        "plt.title('Accuracy')\n",
        "plt.grid(True)\n",
        "plt.xlabel('epoch')\n",
        "plt.ylabel('accuracy')\n",
        "plt.legend(loc='best')\n",
        "plt.show()"
      ],
      "execution_count": 46,
      "outputs": [
        {
          "output_type": "display_data",
          "data": {
            "image/png": "[encoded data removed]",
            "text/plain": [
              "<Figure size 360x216 with 1 Axes>"
            ]
          },
          "metadata": {
            "tags": [],
            "needs_background": "light"
          }
        }
      ]
    }
  ]
}