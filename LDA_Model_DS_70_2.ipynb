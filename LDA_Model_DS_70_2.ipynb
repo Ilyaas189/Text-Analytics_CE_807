{
  "nbformat": 4,
  "nbformat_minor": 0,
  "metadata": {
    "colab": {
      "name": "LDA Model_DS_70_2.ipynb",
      "provenance": [],
      "collapsed_sections": [],
      "include_colab_link": true
    },
    "kernelspec": {
      "name": "python3",
      "display_name": "Python 3"
    },
    "language_info": {
      "name": "python"
    },
    "accelerator": "GPU"
  },
  "cells": [
    {
      "cell_type": "markdown",
      "metadata": {
        "id": "view-in-github",
        "colab_type": "text"
      },
      "source": [
        "<a href=\"https://colab.research.google.com/github/Ilyaas189/Text-Analytics_CE_807/blob/main/LDA_Model_DS_70_2.ipynb\" target=\"_parent\"><img src=\"https://colab.research.google.com/assets/colab-badge.svg\" alt=\"Open In Colab\"/></a>"
      ]
    },
    {
      "cell_type": "code",
      "metadata": {
        "colab": {
          "resources": {
            "http://localhost:8080/nbextensions/google.colab/files.js": {
              "data": "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",
              "ok": true,
              "headers": [
                [
                  "content-type",
                  "application/javascript"
                ]
              ],
              "status": 200,
              "status_text": ""
            }
          },
          "base_uri": "https://localhost:8080/",
          "height": 37
        },
        "id": "h48neXM-ANwE",
        "outputId": "06eb86aa-d4ee-4e86-bef0-94e550f10530"
      },
      "source": [
        "import pandas as pd\n",
        "import numpy as np\n",
        "import matplotlib.pyplot as plt\n",
        "import warnings\n",
        "from google.colab import files\n",
        "from sklearn.naive_bayes import MultinomialNB\n",
        "from sklearn.naive_bayes import BernoulliNB\n",
        "from sklearn.pipeline import Pipeline\n",
        "from sklearn.feature_extraction.text import TfidfVectorizer\n",
        "from sklearn.feature_extraction.text import TfidfTransformer\n",
        "from sklearn.linear_model import SGDClassifier\n",
        "from sklearn.linear_model import LogisticRegression\n",
        "from nltk.stem.snowball import SnowballStemmer\n",
        "from sklearn.neighbors import KNeighborsClassifier\n",
        "from sklearn.ensemble import RandomForestClassifier\n",
        "import numpy as np\n",
        "import re\n",
        "\n",
        "\n",
        "import matplotlib.pyplot as plt\n",
        "%matplotlib inline\n",
        "\n",
        "import nltk\n",
        "import random\n",
        "uploaded = files.upload()\n",
        "files = list(uploaded.keys())\n"
      ],
      "execution_count": 1,
      "outputs": [
        {
          "output_type": "display_data",
          "data": {
            "text/html": [
              "\n",
              "     <input type=\"file\" id=\"files-dd93eca7-6ae0-4635-94d4-4dc6a93b7161\" name=\"files[]\" multiple disabled\n",
              "        style=\"border:none\" />\n",
              "     <output id=\"result-dd93eca7-6ae0-4635-94d4-4dc6a93b7161\">\n",
              "      Upload widget is only available when the cell has been executed in the\n",
              "      current browser session. Please rerun this cell to enable.\n",
              "      </output>\n",
              "      <script src=\"/nbextensions/google.colab/files.js\"></script> "
            ],
            "text/plain": [
              "<IPython.core.display.HTML object>"
            ]
          },
          "metadata": {
            "tags": []
          }
        }
      ]
    },
    {
      "cell_type": "code",
      "metadata": {
        "colab": {
          "base_uri": "https://localhost:8080/"
        },
        "id": "qcrJU_pzAhOm",
        "outputId": "a1ed0d54-4472-48ca-d80e-25552e51e650"
      },
      "source": [
        "# Import Dataset\n",
        "data = pd.read_json('https://raw.githubusercontent.com/selva86/datasets/master/newsgroups.json')\n",
        "print(data.target_names.unique())"
      ],
      "execution_count": 2,
      "outputs": [
        {
          "output_type": "stream",
          "text": [
            "['rec.autos' 'comp.sys.mac.hardware' 'comp.graphics' 'sci.space'\n",
            " 'talk.politics.guns' 'sci.med' 'comp.sys.ibm.pc.hardware'\n",
            " 'comp.os.ms-windows.misc' 'rec.motorcycles' 'talk.religion.misc'\n",
            " 'misc.forsale' 'alt.atheism' 'sci.electronics' 'comp.windows.x'\n",
            " 'rec.sport.hockey' 'rec.sport.baseball' 'soc.religion.christian'\n",
            " 'talk.politics.mideast' 'talk.politics.misc' 'sci.crypt']\n"
          ],
          "name": "stdout"
        }
      ]
    },
    {
      "cell_type": "code",
      "metadata": {
        "colab": {
          "base_uri": "https://localhost:8080/",
          "height": 648
        },
        "id": "SnGiNUYGAtLQ",
        "outputId": "df826a58-42f0-4b84-cad1-226e1a9c74a1"
      },
      "source": [
        "data.head(20)"
      ],
      "execution_count": 3,
      "outputs": [
        {
          "output_type": "execute_result",
          "data": {
            "text/html": [
              "<div>\n",
              "<style scoped>\n",
              "    .dataframe tbody tr th:only-of-type {\n",
              "        vertical-align: middle;\n",
              "    }\n",
              "\n",
              "    .dataframe tbody tr th {\n",
              "        vertical-align: top;\n",
              "    }\n",
              "\n",
              "    .dataframe thead th {\n",
              "        text-align: right;\n",
              "    }\n",
              "</style>\n",
              "<table border=\"1\" class=\"dataframe\">\n",
              "  <thead>\n",
              "    <tr style=\"text-align: right;\">\n",
              "      <th></th>\n",
              "      <th>content</th>\n",
              "      <th>target</th>\n",
              "      <th>target_names</th>\n",
              "    </tr>\n",
              "  </thead>\n",
              "  <tbody>\n",
              "    <tr>\n",
              "      <th>0</th>\n",
              "      <td>From: lerxst@wam.umd.edu (where's my thing)\\nS...</td>\n",
              "      <td>7</td>\n",
              "      <td>rec.autos</td>\n",
              "    </tr>\n",
              "    <tr>\n",
              "      <th>1</th>\n",
              "      <td>From: guykuo@carson.u.washington.edu (Guy Kuo)...</td>\n",
              "      <td>4</td>\n",
              "      <td>comp.sys.mac.hardware</td>\n",
              "    </tr>\n",
              "    <tr>\n",
              "      <th>2</th>\n",
              "      <td>From: twillis@ec.ecn.purdue.edu (Thomas E Will...</td>\n",
              "      <td>4</td>\n",
              "      <td>comp.sys.mac.hardware</td>\n",
              "    </tr>\n",
              "    <tr>\n",
              "      <th>3</th>\n",
              "      <td>From: jgreen@amber (Joe Green)\\nSubject: Re: W...</td>\n",
              "      <td>1</td>\n",
              "      <td>comp.graphics</td>\n",
              "    </tr>\n",
              "    <tr>\n",
              "      <th>4</th>\n",
              "      <td>From: jcm@head-cfa.harvard.edu (Jonathan McDow...</td>\n",
              "      <td>14</td>\n",
              "      <td>sci.space</td>\n",
              "    </tr>\n",
              "    <tr>\n",
              "      <th>5</th>\n",
              "      <td>From: dfo@vttoulu.tko.vtt.fi (Foxvog Douglas)\\...</td>\n",
              "      <td>16</td>\n",
              "      <td>talk.politics.guns</td>\n",
              "    </tr>\n",
              "    <tr>\n",
              "      <th>6</th>\n",
              "      <td>From: bmdelane@quads.uchicago.edu (brian manni...</td>\n",
              "      <td>13</td>\n",
              "      <td>sci.med</td>\n",
              "    </tr>\n",
              "    <tr>\n",
              "      <th>7</th>\n",
              "      <td>From: bgrubb@dante.nmsu.edu (GRUBB)\\nSubject: ...</td>\n",
              "      <td>3</td>\n",
              "      <td>comp.sys.ibm.pc.hardware</td>\n",
              "    </tr>\n",
              "    <tr>\n",
              "      <th>8</th>\n",
              "      <td>From: holmes7000@iscsvax.uni.edu\\nSubject: WIn...</td>\n",
              "      <td>2</td>\n",
              "      <td>comp.os.ms-windows.misc</td>\n",
              "    </tr>\n",
              "    <tr>\n",
              "      <th>9</th>\n",
              "      <td>From: kerr@ux1.cso.uiuc.edu (Stan Kerr)\\nSubje...</td>\n",
              "      <td>4</td>\n",
              "      <td>comp.sys.mac.hardware</td>\n",
              "    </tr>\n",
              "    <tr>\n",
              "      <th>10</th>\n",
              "      <td>From: irwin@cmptrc.lonestar.org (Irwin Arnstei...</td>\n",
              "      <td>8</td>\n",
              "      <td>rec.motorcycles</td>\n",
              "    </tr>\n",
              "    <tr>\n",
              "      <th>11</th>\n",
              "      <td>From: david@terminus.ericsson.se (David Bold)\\...</td>\n",
              "      <td>19</td>\n",
              "      <td>talk.religion.misc</td>\n",
              "    </tr>\n",
              "    <tr>\n",
              "      <th>12</th>\n",
              "      <td>From: rodc@fc.hp.com (Rod Cerkoney)\\nSubject: ...</td>\n",
              "      <td>4</td>\n",
              "      <td>comp.sys.mac.hardware</td>\n",
              "    </tr>\n",
              "    <tr>\n",
              "      <th>13</th>\n",
              "      <td>From: dbm0000@tm0006.lerc.nasa.gov (David B. M...</td>\n",
              "      <td>14</td>\n",
              "      <td>sci.space</td>\n",
              "    </tr>\n",
              "    <tr>\n",
              "      <th>14</th>\n",
              "      <td>From: jllee@acsu.buffalo.edu (Johnny L Lee)\\nS...</td>\n",
              "      <td>6</td>\n",
              "      <td>misc.forsale</td>\n",
              "    </tr>\n",
              "    <tr>\n",
              "      <th>15</th>\n",
              "      <td>From: mathew &lt;mathew@mantis.co.uk&gt;\\nSubject: R...</td>\n",
              "      <td>0</td>\n",
              "      <td>alt.atheism</td>\n",
              "    </tr>\n",
              "    <tr>\n",
              "      <th>16</th>\n",
              "      <td>From: ab@nova.cc.purdue.edu (Allen B)\\nSubject...</td>\n",
              "      <td>1</td>\n",
              "      <td>comp.graphics</td>\n",
              "    </tr>\n",
              "    <tr>\n",
              "      <th>17</th>\n",
              "      <td>From: CPKJP@vm.cc.latech.edu (Kevin Parker)\\nS...</td>\n",
              "      <td>7</td>\n",
              "      <td>rec.autos</td>\n",
              "    </tr>\n",
              "    <tr>\n",
              "      <th>18</th>\n",
              "      <td>From: ritley@uimrl7.mrl.uiuc.edu ()\\nSubject: ...</td>\n",
              "      <td>12</td>\n",
              "      <td>sci.electronics</td>\n",
              "    </tr>\n",
              "    <tr>\n",
              "      <th>19</th>\n",
              "      <td>From: abarden@tybse1.uucp (Ann Marie Barden)\\n...</td>\n",
              "      <td>5</td>\n",
              "      <td>comp.windows.x</td>\n",
              "    </tr>\n",
              "  </tbody>\n",
              "</table>\n",
              "</div>"
            ],
            "text/plain": [
              "                                              content  ...              target_names\n",
              "0   From: lerxst@wam.umd.edu (where's my thing)\\nS...  ...                 rec.autos\n",
              "1   From: guykuo@carson.u.washington.edu (Guy Kuo)...  ...     comp.sys.mac.hardware\n",
              "2   From: twillis@ec.ecn.purdue.edu (Thomas E Will...  ...     comp.sys.mac.hardware\n",
              "3   From: jgreen@amber (Joe Green)\\nSubject: Re: W...  ...             comp.graphics\n",
              "4   From: jcm@head-cfa.harvard.edu (Jonathan McDow...  ...                 sci.space\n",
              "5   From: dfo@vttoulu.tko.vtt.fi (Foxvog Douglas)\\...  ...        talk.politics.guns\n",
              "6   From: bmdelane@quads.uchicago.edu (brian manni...  ...                   sci.med\n",
              "7   From: bgrubb@dante.nmsu.edu (GRUBB)\\nSubject: ...  ...  comp.sys.ibm.pc.hardware\n",
              "8   From: holmes7000@iscsvax.uni.edu\\nSubject: WIn...  ...   comp.os.ms-windows.misc\n",
              "9   From: kerr@ux1.cso.uiuc.edu (Stan Kerr)\\nSubje...  ...     comp.sys.mac.hardware\n",
              "10  From: irwin@cmptrc.lonestar.org (Irwin Arnstei...  ...           rec.motorcycles\n",
              "11  From: david@terminus.ericsson.se (David Bold)\\...  ...        talk.religion.misc\n",
              "12  From: rodc@fc.hp.com (Rod Cerkoney)\\nSubject: ...  ...     comp.sys.mac.hardware\n",
              "13  From: dbm0000@tm0006.lerc.nasa.gov (David B. M...  ...                 sci.space\n",
              "14  From: jllee@acsu.buffalo.edu (Johnny L Lee)\\nS...  ...              misc.forsale\n",
              "15  From: mathew <mathew@mantis.co.uk>\\nSubject: R...  ...               alt.atheism\n",
              "16  From: ab@nova.cc.purdue.edu (Allen B)\\nSubject...  ...             comp.graphics\n",
              "17  From: CPKJP@vm.cc.latech.edu (Kevin Parker)\\nS...  ...                 rec.autos\n",
              "18  From: ritley@uimrl7.mrl.uiuc.edu ()\\nSubject: ...  ...           sci.electronics\n",
              "19  From: abarden@tybse1.uucp (Ann Marie Barden)\\n...  ...            comp.windows.x\n",
              "\n",
              "[20 rows x 3 columns]"
            ]
          },
          "metadata": {
            "tags": []
          },
          "execution_count": 3
        }
      ]
    },
    {
      "cell_type": "code",
      "metadata": {
        "colab": {
          "base_uri": "https://localhost:8080/"
        },
        "id": "i1t4Hd65BKo4",
        "outputId": "2a478a9d-92a2-4517-ab10-5f86e8695b30"
      },
      "source": [
        "data_clusterization = data[['content', 'target_names']]\n",
        "data_clusterization.dropna(inplace=True)"
      ],
      "execution_count": 4,
      "outputs": [
        {
          "output_type": "stream",
          "text": [
            "/usr/local/lib/python3.7/dist-packages/ipykernel_launcher.py:2: SettingWithCopyWarning: \n",
            "A value is trying to be set on a copy of a slice from a DataFrame\n",
            "\n",
            "See the caveats in the documentation: https://pandas.pydata.org/pandas-docs/stable/user_guide/indexing.html#returning-a-view-versus-a-copy\n",
            "  \n"
          ],
          "name": "stderr"
        }
      ]
    },
    {
      "cell_type": "code",
      "metadata": {
        "colab": {
          "base_uri": "https://localhost:8080/",
          "height": 108
        },
        "id": "0xRJ8_03Bd1W",
        "outputId": "7c173149-8a82-4ee2-be93-ba90a1f975e6"
      },
      "source": [
        "data_clusterization.head(2)\n"
      ],
      "execution_count": 5,
      "outputs": [
        {
          "output_type": "execute_result",
          "data": {
            "text/html": [
              "<div>\n",
              "<style scoped>\n",
              "    .dataframe tbody tr th:only-of-type {\n",
              "        vertical-align: middle;\n",
              "    }\n",
              "\n",
              "    .dataframe tbody tr th {\n",
              "        vertical-align: top;\n",
              "    }\n",
              "\n",
              "    .dataframe thead th {\n",
              "        text-align: right;\n",
              "    }\n",
              "</style>\n",
              "<table border=\"1\" class=\"dataframe\">\n",
              "  <thead>\n",
              "    <tr style=\"text-align: right;\">\n",
              "      <th></th>\n",
              "      <th>content</th>\n",
              "      <th>target_names</th>\n",
              "    </tr>\n",
              "  </thead>\n",
              "  <tbody>\n",
              "    <tr>\n",
              "      <th>0</th>\n",
              "      <td>From: lerxst@wam.umd.edu (where's my thing)\\nS...</td>\n",
              "      <td>rec.autos</td>\n",
              "    </tr>\n",
              "    <tr>\n",
              "      <th>1</th>\n",
              "      <td>From: guykuo@carson.u.washington.edu (Guy Kuo)...</td>\n",
              "      <td>comp.sys.mac.hardware</td>\n",
              "    </tr>\n",
              "  </tbody>\n",
              "</table>\n",
              "</div>"
            ],
            "text/plain": [
              "                                             content           target_names\n",
              "0  From: lerxst@wam.umd.edu (where's my thing)\\nS...              rec.autos\n",
              "1  From: guykuo@carson.u.washington.edu (Guy Kuo)...  comp.sys.mac.hardware"
            ]
          },
          "metadata": {
            "tags": []
          },
          "execution_count": 5
        }
      ]
    },
    {
      "cell_type": "code",
      "metadata": {
        "colab": {
          "base_uri": "https://localhost:8080/"
        },
        "id": "0iUh1DoLBmXP",
        "outputId": "6ea87fbd-14e0-40de-f812-46d64ef20400"
      },
      "source": [
        "import gensim\n",
        "from gensim.utils import simple_preprocess\n",
        "from gensim.parsing.preprocessing import STOPWORDS\n",
        "from nltk.stem import WordNetLemmatizer, SnowballStemmer\n",
        "from nltk.stem.porter import *\n",
        "import numpy as np\n",
        "np.random.seed(2018)\n",
        "import nltk\n",
        "nltk.download('wordnet')"
      ],
      "execution_count": 6,
      "outputs": [
        {
          "output_type": "stream",
          "text": [
            "[nltk_data] Downloading package wordnet to /root/nltk_data...\n",
            "[nltk_data]   Unzipping corpora/wordnet.zip.\n"
          ],
          "name": "stdout"
        },
        {
          "output_type": "execute_result",
          "data": {
            "text/plain": [
              "True"
            ]
          },
          "metadata": {
            "tags": []
          },
          "execution_count": 6
        }
      ]
    },
    {
      "cell_type": "code",
      "metadata": {
        "id": "s7hwfWd1Bw8S"
      },
      "source": [
        "def lemmatize_stemming(text):\n",
        " stemmer = SnowballStemmer(language='english')\n",
        " return stemmer.stem(WordNetLemmatizer().lemmatize(text, pos='v'))\n",
        "def preprocess(text):\n",
        " result = []\n",
        " for token in gensim.utils.simple_preprocess(text):\n",
        "   if token not in gensim.parsing.preprocessing.STOPWORDS and len(token) > 3:\n",
        "     result.append(lemmatize_stemming(token))\n",
        " return result"
      ],
      "execution_count": 7,
      "outputs": []
    },
    {
      "cell_type": "code",
      "metadata": {
        "id": "iJfVX8biB_Sa"
      },
      "source": [
        "processed_docs = data_clusterization['content'].map(preprocess)\n",
        "data_processed = processed_docs.to_frame()\n",
        "data_processed['content'] = data_processed.content.apply(lambda x: ' '.join(x))\n"
      ],
      "execution_count": 8,
      "outputs": []
    },
    {
      "cell_type": "code",
      "metadata": {
        "colab": {
          "base_uri": "https://localhost:8080/"
        },
        "id": "gCHPTBYJClMy",
        "outputId": "245d543c-548b-4ef8-f9f6-b39cccf8fd43"
      },
      "source": [
        "!pip install tokenize_uk\n",
        "from collections import Counter\n",
        "from tokenize_uk.tokenize_uk import tokenize_words"
      ],
      "execution_count": 9,
      "outputs": [
        {
          "output_type": "stream",
          "text": [
            "Collecting tokenize_uk\n",
            "  Downloading https://files.pythonhosted.org/packages/ac/21/72abb0304b532e1b2d2473b50d8063ddd0943e3b3fe7e86b366bc4d02aa2/tokenize_uk-0.2.0.tar.gz\n",
            "Requirement already satisfied: six in /usr/local/lib/python3.7/dist-packages (from tokenize_uk) (1.15.0)\n",
            "Building wheels for collected packages: tokenize-uk\n",
            "  Building wheel for tokenize-uk (setup.py) ... \u001b[?25l\u001b[?25hdone\n",
            "  Created wheel for tokenize-uk: filename=tokenize_uk-0.2.0-py2.py3-none-any.whl size=4565 sha256=8481e0432514f519524c883283f5170500ec3a08082ead7cc049dad27060be0a\n",
            "  Stored in directory: /root/.cache/pip/wheels/2c/e1/95/fd8af5b40aeebdc4e178974e7f638f5553aa8772117054db9e\n",
            "Successfully built tokenize-uk\n",
            "Installing collected packages: tokenize-uk\n",
            "Successfully installed tokenize-uk-0.2.0\n"
          ],
          "name": "stdout"
        }
      ]
    },
    {
      "cell_type": "code",
      "metadata": {
        "colab": {
          "base_uri": "https://localhost:8080/",
          "height": 363
        },
        "id": "94mq8WUoCqHq",
        "outputId": "48180cff-d51c-4342-dcb8-6f756bbc3353"
      },
      "source": [
        "def display_words(data, title, ax):\n",
        " count = Counter(sum(map(lambda text: tokenize_words(text), data), []))\n",
        " popular = np.array(sorted(count.items(), key=lambda x: x[1], reverse=True)[:20])\n",
        " plt.sca(ax)\n",
        " plt.title(title)\n",
        " plt.bar(popular[:,0], np.int32(popular[:,1]))\n",
        " plt.xticks(rotation=\"vertical\")\n",
        "fig, ax = plt.subplots(figsize=(16, 5))\n",
        "display_words(data_processed.sample(1000).content, \"The most popular words]\", ax)"
      ],
      "execution_count": 10,
      "outputs": [
        {
          "output_type": "display_data",
          "data": {
            "image/png": "[encoded data removed]",
            "text/plain": [
              "<Figure size 1152x360 with 1 Axes>"
            ]
          },
          "metadata": {
            "tags": [],
            "needs_background": "light"
          }
        }
      ]
    },
    {
      "cell_type": "code",
      "metadata": {
        "id": "UCM4qevNC5Ty"
      },
      "source": [
        "from sklearn.feature_extraction.text import CountVectorizer"
      ],
      "execution_count": 11,
      "outputs": []
    },
    {
      "cell_type": "code",
      "metadata": {
        "colab": {
          "base_uri": "https://localhost:8080/"
        },
        "id": "NMnRgz3aC8f5",
        "outputId": "4feadad7-9b04-47e7-a754-afa386616ceb"
      },
      "source": [
        "count_vectorizer = CountVectorizer()\n",
        "count_data = count_vectorizer.fit_transform(data_processed['content'])\n",
        "count_data"
      ],
      "execution_count": 12,
      "outputs": [
        {
          "output_type": "execute_result",
          "data": {
            "text/plain": [
              "<11314x61410 sparse matrix of type '<class 'numpy.int64'>'\n",
              "\twith 934270 stored elements in Compressed Sparse Row format>"
            ]
          },
          "metadata": {
            "tags": []
          },
          "execution_count": 12
        }
      ]
    },
    {
      "cell_type": "code",
      "metadata": {
        "id": "6TmSX73jDEJS"
      },
      "source": [
        "likelihood = []\n",
        "n_clusters = []"
      ],
      "execution_count": 13,
      "outputs": []
    },
    {
      "cell_type": "code",
      "metadata": {
        "id": "z9uTcUJlDHT0"
      },
      "source": [
        "import seaborn as sns\n",
        "from sklearn.decomposition import LatentDirichletAllocation as LDA"
      ],
      "execution_count": 14,
      "outputs": []
    },
    {
      "cell_type": "code",
      "metadata": {
        "id": "Hki6oWR0DLwb"
      },
      "source": [
        "def estimate_number_clusters(data, nclusters):\n",
        " for n in nclusters:\n",
        "   likelihood.append(LDA(n_components=n, n_jobs=-1).fit(data).score(data))\n",
        " n_clusters.append(n)\n",
        " print(\"Sccesfully estimated \", n)\n",
        " fig, ax = plt.subplots(figsize=(15, 5))\n",
        " sns.lineplot(x=n_clusters, y=likelihood, ax=ax)\n",
        " ax.set_title('Elbow method for choosing n, likelihood')\n",
        " ax.set_ylabel('Likelihood')\n",
        " ax.set_xlabel('n')\n",
        "\n",
        "\n"
      ],
      "execution_count": 15,
      "outputs": []
    },
    {
      "cell_type": "code",
      "metadata": {
        "id": "_CBG_y1fJszZ"
      },
      "source": [
        "# estimate_number_clusters(count_data, [10, 15, 20, 50])\n",
        " \n",
        " "
      ],
      "execution_count": 16,
      "outputs": []
    },
    {
      "cell_type": "code",
      "metadata": {
        "id": "_XNMixjQJuYE"
      },
      "source": [
        "def print_topics(model, count_vectorizer, n_top_words):\n",
        "  words = count_vectorizer.get_feature_names()\n",
        "  for topic_idx, topic in enumerate(model.components_):\n",
        "    print(\"\\nTopic #%d:\" % topic_idx)\n",
        "    print(\" \".join([words[i]\n",
        "  for i in topic.argsort()[:-n_top_words - 1:-1]]))"
      ],
      "execution_count": 17,
      "outputs": []
    },
    {
      "cell_type": "code",
      "metadata": {
        "id": "Ugizp_hhFpzm"
      },
      "source": [
        "from sklearn.decomposition import LatentDirichletAllocation as LDA\n"
      ],
      "execution_count": 18,
      "outputs": []
    },
    {
      "cell_type": "code",
      "metadata": {
        "colab": {
          "base_uri": "https://localhost:8080/"
        },
        "id": "oWtTkYX1Ftia",
        "outputId": "a0730bc8-4dd6-466d-95e6-ce6be183ffc8"
      },
      "source": [
        "number_topics = 70\n",
        "number_words = 10\n",
        "# Create and fit the LDA model\n",
        "lda = LDA(n_components=number_topics, n_jobs=-1)\n",
        "lda.fit(count_data)\n",
        "# Print the topics found by the LDA model\n",
        "print(\"Topics found via LDA:\")\n",
        "print_topics(lda, count_vectorizer, number_words)"
      ],
      "execution_count": 19,
      "outputs": [
        {
          "output_type": "stream",
          "text": [
            "Topics found via LDA:\n",
            "\n",
            "Topic #0:\n",
            "card line subject organ modem driver know port thank post\n",
            "\n",
            "Topic #1:\n",
            "moral uiuc write object subject line think organ articl univers\n",
            "\n",
            "Topic #2:\n",
            "pitt bank gordon articl write organ subject line pittsburgh repli\n",
            "\n",
            "Topic #3:\n",
            "access digex line subject organ alaska write host post nntp\n",
            "\n",
            "Topic #4:\n",
            "chip encrypt clipper secur govern escrow key phone technolog enforc\n",
            "\n",
            "Topic #5:\n",
            "netcom line organ subject write engin softwar know communic servic\n",
            "\n",
            "Topic #6:\n",
            "player year leagu organ line stanford subject univers season team\n",
            "\n",
            "Topic #7:\n",
            "columbia subject line organ univers post game host nntp sale\n",
            "\n",
            "Topic #8:\n",
            "write iastat mcgill line univers organ subject articl monash mcrcim\n",
            "\n",
            "Topic #9:\n",
            "line subject wire bike organ like power good need drive\n",
            "\n",
            "Topic #10:\n",
            "line organ subject post navi write articl nntp host robert\n",
            "\n",
            "Topic #11:\n",
            "write articl buffalo henrik line organ subject armenia say robert\n",
            "\n",
            "Topic #12:\n",
            "organ subject line louisvill articl write church main arromde creed\n",
            "\n",
            "Topic #13:\n",
            "imag file graphic format program jpeg color convert display keyboard\n",
            "\n",
            "Topic #14:\n",
            "entri program file rule section line info need build compil\n",
            "\n",
            "Topic #15:\n",
            "cwru cleveland freenet univers subject line western host organ reserv\n",
            "\n",
            "Topic #16:\n",
            "israel isra arab jew palestinian attack state kill jewish write\n",
            "\n",
            "Topic #17:\n",
            "david len busi world line graphit rchz organ subject plant\n",
            "\n",
            "Topic #18:\n",
            "right organ militia articl line write state subject peopl amend\n",
            "\n",
            "Topic #19:\n",
            "space univers cramer optilink homosexu nation research program inform april\n",
            "\n",
            "Topic #20:\n",
            "line organ subject freenet clarkson carleton hell gene wright rochest\n",
            "\n",
            "Topic #21:\n",
            "write subject articl line organ know post like dyer harvard\n",
            "\n",
            "Topic #22:\n",
            "gatech georgia michael prism flyer line subject univers organ technolog\n",
            "\n",
            "Topic #23:\n",
            "ingr absolut jake write boni opinion marri subject articl line\n",
            "\n",
            "Topic #24:\n",
            "appl sandvik caltech write kent organ line subject articl livesey\n",
            "\n",
            "Topic #25:\n",
            "mail data user list anonym includ inform internet softwar file\n",
            "\n",
            "Topic #26:\n",
            "state ohio write magnus line organ subject articl post univers\n",
            "\n",
            "Topic #27:\n",
            "peopl right govern think state countri like person want time\n",
            "\n",
            "Topic #28:\n",
            "play period power team ericsson sweden king goal edmonton philadelphia\n",
            "\n",
            "Topic #29:\n",
            "articl write line organ subject rise post uoknor hulman callison\n",
            "\n",
            "Topic #30:\n",
            "subject line organ monitor post washington nntp host univers window\n",
            "\n",
            "Topic #31:\n",
            "hockey team game play player line playoff subject organ leaf\n",
            "\n",
            "Topic #32:\n",
            "bellcor write iran line subject organ articl fist program fractal\n",
            "\n",
            "Topic #33:\n",
            "vote version contact type machin math compass andrew comment kadi\n",
            "\n",
            "Topic #34:\n",
            "motorcycl bike rider ride hydro levin jodi denizen rid cx_s\n",
            "\n",
            "Topic #35:\n",
            "subject line organ mathew file watson write world brandei keith\n",
            "\n",
            "Topic #36:\n",
            "food virginia cancer water center univers research cell organ tast\n",
            "\n",
            "Topic #37:\n",
            "write netcom articl ripem line organ subject david public code\n",
            "\n",
            "Topic #38:\n",
            "write articl cornel subject organ line libertarian post like thor\n",
            "\n",
            "Topic #39:\n",
            "line subject organ write post like nntp host articl know\n",
            "\n",
            "Topic #40:\n",
            "diseas doctor medic patient pain caus treatment organ subject problem\n",
            "\n",
            "Topic #41:\n",
            "jesus christian christ come church write say bibl paul lord\n",
            "\n",
            "Topic #42:\n",
            "gun weapon firearm crime polic like control crimin handgun state\n",
            "\n",
            "Topic #43:\n",
            "write line subject organ articl post udel like know nntp\n",
            "\n",
            "Topic #44:\n",
            "scsi cool line radar write tower subject organ water articl\n",
            "\n",
            "Topic #45:\n",
            "atheist atheism exist post subject east pope write articl cathol\n",
            "\n",
            "Topic #46:\n",
            "request line subject year report write increas organ state send\n",
            "\n",
            "Topic #47:\n",
            "encrypt cipher crypt cryptographi random attack secur public unit number\n",
            "\n",
            "Topic #48:\n",
            "andrew line arizona subject organ post baalk bit kelvin carnegi\n",
            "\n",
            "Topic #49:\n",
            "christian believ think peopl know question exist reason mean thing\n",
            "\n",
            "Topic #50:\n",
            "line subject organ duke univers point post host nntp write\n",
            "\n",
            "Topic #51:\n",
            "line subject organ post appl nntp host simm write printer\n",
            "\n",
            "Topic #52:\n",
            "drug legal tobacco health state report cigarett articl smokeless beckman\n",
            "\n",
            "Topic #53:\n",
            "nrhj wwiz gizw bhjn line bxom organ subject pnei nriz\n",
            "\n",
            "Topic #54:\n",
            "say go know come peopl like think tell time look\n",
            "\n",
            "Topic #55:\n",
            "window widget server motif applic subject display problem program file\n",
            "\n",
            "Topic #56:\n",
            "stratus write batf line subject waco organ rocket compound articl\n",
            "\n",
            "Topic #57:\n",
            "launch myer satellit koresh juda hang time greek claim persian\n",
            "\n",
            "Topic #58:\n",
            "file output program window line char write printf entri onam\n",
            "\n",
            "Topic #59:\n",
            "insur probe health radar privat launch satellit radio cost care\n",
            "\n",
            "Topic #60:\n",
            "space nasa orbit henri earth launch line organ shuttl subject\n",
            "\n",
            "Topic #61:\n",
            "game year team play season score pitch think run player\n",
            "\n",
            "Topic #62:\n",
            "presid clinton stephanopoulo go know think work say job senat\n",
            "\n",
            "Topic #63:\n",
            "font purdu organ line subject blah write articl hiram sale\n",
            "\n",
            "Topic #64:\n",
            "window organ subject line write articl jewish come post expos\n",
            "\n",
            "Topic #65:\n",
            "armenian turkish turk greek turkey argic serdar armenia genocid peopl\n",
            "\n",
            "Topic #66:\n",
            "write organ subject line articl harri good year post trade\n",
            "\n",
            "Topic #67:\n",
            "drive disk problem hard card control work driver memori floppi\n",
            "\n",
            "Topic #68:\n",
            "islam muslim book copi write line good organ subject cover\n",
            "\n",
            "Topic #69:\n",
            "colorado line subject organ post host nntp write articl univers\n"
          ],
          "name": "stdout"
        }
      ]
    },
    {
      "cell_type": "code",
      "metadata": {
        "colab": {
          "base_uri": "https://localhost:8080/",
          "height": 198
        },
        "id": "LrPaQEiuGRt3",
        "outputId": "399e9cf3-426e-4be3-87e2-90199baa63a7"
      },
      "source": [
        "cluster_probabilities = lda.transform(count_data)\n",
        "data_processed['target'] = np.argmax(cluster_probabilities, axis=1)\n",
        "data_processed.head()"
      ],
      "execution_count": 20,
      "outputs": [
        {
          "output_type": "execute_result",
          "data": {
            "text/html": [
              "<div>\n",
              "<style scoped>\n",
              "    .dataframe tbody tr th:only-of-type {\n",
              "        vertical-align: middle;\n",
              "    }\n",
              "\n",
              "    .dataframe tbody tr th {\n",
              "        vertical-align: top;\n",
              "    }\n",
              "\n",
              "    .dataframe thead th {\n",
              "        text-align: right;\n",
              "    }\n",
              "</style>\n",
              "<table border=\"1\" class=\"dataframe\">\n",
              "  <thead>\n",
              "    <tr style=\"text-align: right;\">\n",
              "      <th></th>\n",
              "      <th>content</th>\n",
              "      <th>target</th>\n",
              "    </tr>\n",
              "  </thead>\n",
              "  <tbody>\n",
              "    <tr>\n",
              "      <th>0</th>\n",
              "      <td>lerxst thing subject nntp post host organ univ...</td>\n",
              "      <td>21</td>\n",
              "    </tr>\n",
              "    <tr>\n",
              "      <th>1</th>\n",
              "      <td>guykuo carson washington subject clock poll fi...</td>\n",
              "      <td>30</td>\n",
              "    </tr>\n",
              "    <tr>\n",
              "      <th>2</th>\n",
              "      <td>twilli purdu thoma willi subject question orga...</td>\n",
              "      <td>51</td>\n",
              "    </tr>\n",
              "    <tr>\n",
              "      <th>3</th>\n",
              "      <td>jgreen amber green subject weitek organ harri ...</td>\n",
              "      <td>26</td>\n",
              "    </tr>\n",
              "    <tr>\n",
              "      <th>4</th>\n",
              "      <td>head harvard jonathan mcdowel subject shuttl l...</td>\n",
              "      <td>69</td>\n",
              "    </tr>\n",
              "  </tbody>\n",
              "</table>\n",
              "</div>"
            ],
            "text/plain": [
              "                                             content  target\n",
              "0  lerxst thing subject nntp post host organ univ...      21\n",
              "1  guykuo carson washington subject clock poll fi...      30\n",
              "2  twilli purdu thoma willi subject question orga...      51\n",
              "3  jgreen amber green subject weitek organ harri ...      26\n",
              "4  head harvard jonathan mcdowel subject shuttl l...      69"
            ]
          },
          "metadata": {
            "tags": []
          },
          "execution_count": 20
        }
      ]
    },
    {
      "cell_type": "code",
      "metadata": {
        "id": "oJNJOHB9GkKP"
      },
      "source": [
        "import seaborn as sns\n"
      ],
      "execution_count": 21,
      "outputs": []
    },
    {
      "cell_type": "code",
      "metadata": {
        "colab": {
          "base_uri": "https://localhost:8080/",
          "height": 595
        },
        "id": "At3W9AMVGnga",
        "outputId": "51d71cef-9461-41d6-caab-e6245ade7455"
      },
      "source": [
        "fig, ax = plt.subplots(figsize=(20, 10))\n",
        "sns.countplot(x=data_processed.target);\n",
        "ax.set_title(\"Number of articles that correspond to the topic\");\n"
      ],
      "execution_count": 22,
      "outputs": [
        {
          "output_type": "display_data",
          "data": {
            "image/png": "[encoded data removed]",
            "text/plain": [
              "<Figure size 1440x720 with 1 Axes>"
            ]
          },
          "metadata": {
            "tags": [],
            "needs_background": "light"
          }
        }
      ]
    },
    {
      "cell_type": "code",
      "metadata": {
        "id": "kJ07JMrCRAYx",
        "colab": {
          "base_uri": "https://localhost:8080/"
        },
        "outputId": "420caf83-ccd5-4920-87d2-12ba9eed4fb0"
      },
      "source": [
        "#Loading the data set - training data.\n",
        "from sklearn.datasets import fetch_20newsgroups\n",
        "mydata_train = fetch_20newsgroups(subset='train', shuffle=True, remove = ('headers', 'footers', 'quotes'))"
      ],
      "execution_count": 23,
      "outputs": [
        {
          "output_type": "stream",
          "text": [
            "Downloading 20news dataset. This may take a few minutes.\n",
            "Downloading dataset from https://ndownloader.figshare.com/files/5975967 (14 MB)\n"
          ],
          "name": "stderr"
        }
      ]
    },
    {
      "cell_type": "code",
      "metadata": {
        "colab": {
          "base_uri": "https://localhost:8080/"
        },
        "id": "Bpyae_wBRHIU",
        "outputId": "8b5bf738-ad75-4990-889b-cf1abdc3a6c6"
      },
      "source": [
        "list(mydata_train)\n"
      ],
      "execution_count": 24,
      "outputs": [
        {
          "output_type": "execute_result",
          "data": {
            "text/plain": [
              "['data', 'filenames', 'target_names', 'target', 'DESCR']"
            ]
          },
          "metadata": {
            "tags": []
          },
          "execution_count": 24
        }
      ]
    },
    {
      "cell_type": "code",
      "metadata": {
        "colab": {
          "base_uri": "https://localhost:8080/"
        },
        "id": "WsmrhUPeRJ9l",
        "outputId": "6b04654f-15e0-4d11-ace9-d5e2152898ba"
      },
      "source": [
        "print('Training data size:', len(mydata_train['data']))\n"
      ],
      "execution_count": 25,
      "outputs": [
        {
          "output_type": "stream",
          "text": [
            "Training data size: 11314\n"
          ],
          "name": "stdout"
        }
      ]
    },
    {
      "cell_type": "code",
      "metadata": {
        "colab": {
          "base_uri": "https://localhost:8080/"
        },
        "id": "Nv1WrOdSRONT",
        "outputId": "da9e5ef2-567b-4978-e394-4b175925c569"
      },
      "source": [
        "# Printing all the categories\n",
        "mydata_train.target_names"
      ],
      "execution_count": 26,
      "outputs": [
        {
          "output_type": "execute_result",
          "data": {
            "text/plain": [
              "['alt.atheism',\n",
              " 'comp.graphics',\n",
              " 'comp.os.ms-windows.misc',\n",
              " 'comp.sys.ibm.pc.hardware',\n",
              " 'comp.sys.mac.hardware',\n",
              " 'comp.windows.x',\n",
              " 'misc.forsale',\n",
              " 'rec.autos',\n",
              " 'rec.motorcycles',\n",
              " 'rec.sport.baseball',\n",
              " 'rec.sport.hockey',\n",
              " 'sci.crypt',\n",
              " 'sci.electronics',\n",
              " 'sci.med',\n",
              " 'sci.space',\n",
              " 'soc.religion.christian',\n",
              " 'talk.politics.guns',\n",
              " 'talk.politics.mideast',\n",
              " 'talk.politics.misc',\n",
              " 'talk.religion.misc']"
            ]
          },
          "metadata": {
            "tags": []
          },
          "execution_count": 26
        }
      ]
    },
    {
      "cell_type": "code",
      "metadata": {
        "colab": {
          "base_uri": "https://localhost:8080/"
        },
        "id": "krZedPVlRRxL",
        "outputId": "ee106a02-af8e-41ec-da29-183dd3930fc6"
      },
      "source": [
        "\n",
        "# Finding frequency of each category\n",
        "targets, frequency = np.unique(mydata_train.target, return_counts=True)\n",
        "targets, frequency"
      ],
      "execution_count": 27,
      "outputs": [
        {
          "output_type": "execute_result",
          "data": {
            "text/plain": [
              "(array([ 0,  1,  2,  3,  4,  5,  6,  7,  8,  9, 10, 11, 12, 13, 14, 15, 16,\n",
              "        17, 18, 19]),\n",
              " array([480, 584, 591, 590, 578, 593, 585, 594, 598, 597, 600, 595, 591,\n",
              "        594, 593, 599, 546, 564, 465, 377]))"
            ]
          },
          "metadata": {
            "tags": []
          },
          "execution_count": 27
        }
      ]
    },
    {
      "cell_type": "code",
      "metadata": {
        "colab": {
          "base_uri": "https://localhost:8080/"
        },
        "id": "lSr8qhRVRWTb",
        "outputId": "6ac0064b-5be9-4db4-fe89-a84bd8cc36f9"
      },
      "source": [
        "targets_str = np.array(mydata_train.target_names)\n",
        "print(list(zip(targets_str, frequency)))"
      ],
      "execution_count": 28,
      "outputs": [
        {
          "output_type": "stream",
          "text": [
            "[('alt.atheism', 480), ('comp.graphics', 584), ('comp.os.ms-windows.misc', 591), ('comp.sys.ibm.pc.hardware', 590), ('comp.sys.mac.hardware', 578), ('comp.windows.x', 593), ('misc.forsale', 585), ('rec.autos', 594), ('rec.motorcycles', 598), ('rec.sport.baseball', 597), ('rec.sport.hockey', 600), ('sci.crypt', 595), ('sci.electronics', 591), ('sci.med', 594), ('sci.space', 593), ('soc.religion.christian', 599), ('talk.politics.guns', 546), ('talk.politics.mideast', 564), ('talk.politics.misc', 465), ('talk.religion.misc', 377)]\n"
          ],
          "name": "stdout"
        }
      ]
    },
    {
      "cell_type": "code",
      "metadata": {
        "id": "1pZ_KnVPRZSm"
      },
      "source": [
        "mydata_test = fetch_20newsgroups(subset='test', shuffle=True, remove = ('headers', 'footers', 'quotes'))\n"
      ],
      "execution_count": 29,
      "outputs": []
    },
    {
      "cell_type": "code",
      "metadata": {
        "colab": {
          "base_uri": "https://localhost:8080/"
        },
        "id": "IEcSYoJmRcUc",
        "outputId": "c5997b48-88d0-4f4d-9617-8b77a38fecdc"
      },
      "source": [
        "print('Testing data size:', len(mydata_test['data']))\n"
      ],
      "execution_count": 30,
      "outputs": [
        {
          "output_type": "stream",
          "text": [
            "Testing data size: 7532\n"
          ],
          "name": "stdout"
        }
      ]
    },
    {
      "cell_type": "code",
      "metadata": {
        "colab": {
          "base_uri": "https://localhost:8080/",
          "height": 198
        },
        "id": "_aSKch0QRf_o",
        "outputId": "ddf005a6-ecd6-4e56-864f-feeb8ef2dbc2"
      },
      "source": [
        "mydata_train_df = pd.DataFrame({'data': mydata_train.data, 'target': mydata_train.target})\n",
        "mydata_train_df.head()"
      ],
      "execution_count": 31,
      "outputs": [
        {
          "output_type": "execute_result",
          "data": {
            "text/html": [
              "<div>\n",
              "<style scoped>\n",
              "    .dataframe tbody tr th:only-of-type {\n",
              "        vertical-align: middle;\n",
              "    }\n",
              "\n",
              "    .dataframe tbody tr th {\n",
              "        vertical-align: top;\n",
              "    }\n",
              "\n",
              "    .dataframe thead th {\n",
              "        text-align: right;\n",
              "    }\n",
              "</style>\n",
              "<table border=\"1\" class=\"dataframe\">\n",
              "  <thead>\n",
              "    <tr style=\"text-align: right;\">\n",
              "      <th></th>\n",
              "      <th>data</th>\n",
              "      <th>target</th>\n",
              "    </tr>\n",
              "  </thead>\n",
              "  <tbody>\n",
              "    <tr>\n",
              "      <th>0</th>\n",
              "      <td>I was wondering if anyone out there could enli...</td>\n",
              "      <td>7</td>\n",
              "    </tr>\n",
              "    <tr>\n",
              "      <th>1</th>\n",
              "      <td>A fair number of brave souls who upgraded thei...</td>\n",
              "      <td>4</td>\n",
              "    </tr>\n",
              "    <tr>\n",
              "      <th>2</th>\n",
              "      <td>well folks, my mac plus finally gave up the gh...</td>\n",
              "      <td>4</td>\n",
              "    </tr>\n",
              "    <tr>\n",
              "      <th>3</th>\n",
              "      <td>\\nDo you have Weitek's address/phone number?  ...</td>\n",
              "      <td>1</td>\n",
              "    </tr>\n",
              "    <tr>\n",
              "      <th>4</th>\n",
              "      <td>From article &lt;C5owCB.n3p@world.std.com&gt;, by to...</td>\n",
              "      <td>14</td>\n",
              "    </tr>\n",
              "  </tbody>\n",
              "</table>\n",
              "</div>"
            ],
            "text/plain": [
              "                                                data  target\n",
              "0  I was wondering if anyone out there could enli...       7\n",
              "1  A fair number of brave souls who upgraded thei...       4\n",
              "2  well folks, my mac plus finally gave up the gh...       4\n",
              "3  \\nDo you have Weitek's address/phone number?  ...       1\n",
              "4  From article <C5owCB.n3p@world.std.com>, by to...      14"
            ]
          },
          "metadata": {
            "tags": []
          },
          "execution_count": 31
        }
      ]
    },
    {
      "cell_type": "code",
      "metadata": {
        "colab": {
          "base_uri": "https://localhost:8080/",
          "height": 198
        },
        "id": "ttru-cT7Rj9K",
        "outputId": "4393a7f5-780d-4a56-9a3d-a20b745eac7f"
      },
      "source": [
        "# Text preprocessing steps - remove numbers, captial letters and punctuation\n",
        "import re\n",
        "import string\n",
        "\n",
        "alphanumeric = lambda x: re.sub(r\"\"\"\\w*\\d\\w*\"\"\", ' ', x)\n",
        "punc_lower = lambda x: re.sub('[%s]' % re.escape(string.punctuation), ' ', x.lower())\n",
        "\n",
        "mydata_train_df['data'] = mydata_train_df.data.map(alphanumeric).map(punc_lower)\n",
        "mydata_train_df.head()"
      ],
      "execution_count": 32,
      "outputs": [
        {
          "output_type": "execute_result",
          "data": {
            "text/html": [
              "<div>\n",
              "<style scoped>\n",
              "    .dataframe tbody tr th:only-of-type {\n",
              "        vertical-align: middle;\n",
              "    }\n",
              "\n",
              "    .dataframe tbody tr th {\n",
              "        vertical-align: top;\n",
              "    }\n",
              "\n",
              "    .dataframe thead th {\n",
              "        text-align: right;\n",
              "    }\n",
              "</style>\n",
              "<table border=\"1\" class=\"dataframe\">\n",
              "  <thead>\n",
              "    <tr style=\"text-align: right;\">\n",
              "      <th></th>\n",
              "      <th>data</th>\n",
              "      <th>target</th>\n",
              "    </tr>\n",
              "  </thead>\n",
              "  <tbody>\n",
              "    <tr>\n",
              "      <th>0</th>\n",
              "      <td>i was wondering if anyone out there could enli...</td>\n",
              "      <td>7</td>\n",
              "    </tr>\n",
              "    <tr>\n",
              "      <th>1</th>\n",
              "      <td>a fair number of brave souls who upgraded thei...</td>\n",
              "      <td>4</td>\n",
              "    </tr>\n",
              "    <tr>\n",
              "      <th>2</th>\n",
              "      <td>well folks  my mac plus finally gave up the gh...</td>\n",
              "      <td>4</td>\n",
              "    </tr>\n",
              "    <tr>\n",
              "      <th>3</th>\n",
              "      <td>\\ndo you have weitek s address phone number   ...</td>\n",
              "      <td>1</td>\n",
              "    </tr>\n",
              "    <tr>\n",
              "      <th>4</th>\n",
              "      <td>from article      world std com   by tombaker ...</td>\n",
              "      <td>14</td>\n",
              "    </tr>\n",
              "  </tbody>\n",
              "</table>\n",
              "</div>"
            ],
            "text/plain": [
              "                                                data  target\n",
              "0  i was wondering if anyone out there could enli...       7\n",
              "1  a fair number of brave souls who upgraded thei...       4\n",
              "2  well folks  my mac plus finally gave up the gh...       4\n",
              "3  \\ndo you have weitek s address phone number   ...       1\n",
              "4  from article      world std com   by tombaker ...      14"
            ]
          },
          "metadata": {
            "tags": []
          },
          "execution_count": 32
        }
      ]
    },
    {
      "cell_type": "code",
      "metadata": {
        "colab": {
          "base_uri": "https://localhost:8080/",
          "height": 198
        },
        "id": "8f6jlH07RoBH",
        "outputId": "c3ad125c-17bf-4dcc-d28a-7b018f893fb3"
      },
      "source": [
        "mydata_test_df = pd.DataFrame({'data': mydata_test.data, 'target': mydata_test.target})\n",
        "mydata_test_df.head()"
      ],
      "execution_count": 33,
      "outputs": [
        {
          "output_type": "execute_result",
          "data": {
            "text/html": [
              "<div>\n",
              "<style scoped>\n",
              "    .dataframe tbody tr th:only-of-type {\n",
              "        vertical-align: middle;\n",
              "    }\n",
              "\n",
              "    .dataframe tbody tr th {\n",
              "        vertical-align: top;\n",
              "    }\n",
              "\n",
              "    .dataframe thead th {\n",
              "        text-align: right;\n",
              "    }\n",
              "</style>\n",
              "<table border=\"1\" class=\"dataframe\">\n",
              "  <thead>\n",
              "    <tr style=\"text-align: right;\">\n",
              "      <th></th>\n",
              "      <th>data</th>\n",
              "      <th>target</th>\n",
              "    </tr>\n",
              "  </thead>\n",
              "  <tbody>\n",
              "    <tr>\n",
              "      <th>0</th>\n",
              "      <td>I am a little confused on all of the models of...</td>\n",
              "      <td>7</td>\n",
              "    </tr>\n",
              "    <tr>\n",
              "      <th>1</th>\n",
              "      <td>I'm not familiar at all with the format of the...</td>\n",
              "      <td>5</td>\n",
              "    </tr>\n",
              "    <tr>\n",
              "      <th>2</th>\n",
              "      <td>\\nIn a word, yes.\\n</td>\n",
              "      <td>0</td>\n",
              "    </tr>\n",
              "    <tr>\n",
              "      <th>3</th>\n",
              "      <td>\\nThey were attacking the Iraqis to drive them...</td>\n",
              "      <td>17</td>\n",
              "    </tr>\n",
              "    <tr>\n",
              "      <th>4</th>\n",
              "      <td>\\nI've just spent two solid months arguing tha...</td>\n",
              "      <td>19</td>\n",
              "    </tr>\n",
              "  </tbody>\n",
              "</table>\n",
              "</div>"
            ],
            "text/plain": [
              "                                                data  target\n",
              "0  I am a little confused on all of the models of...       7\n",
              "1  I'm not familiar at all with the format of the...       5\n",
              "2                                \\nIn a word, yes.\\n       0\n",
              "3  \\nThey were attacking the Iraqis to drive them...      17\n",
              "4  \\nI've just spent two solid months arguing tha...      19"
            ]
          },
          "metadata": {
            "tags": []
          },
          "execution_count": 33
        }
      ]
    },
    {
      "cell_type": "code",
      "metadata": {
        "colab": {
          "base_uri": "https://localhost:8080/",
          "height": 198
        },
        "id": "tUjU5KP5RrlP",
        "outputId": "7d5e4a86-d728-4041-9d60-975584334a26"
      },
      "source": [
        "# Text preprocessing steps - remove numbers, captial letters and punctuation\n",
        "alphanumeric = lambda x: re.sub(r\"\"\"\\w*\\d\\w*\"\"\", ' ', x)\n",
        "punc_lower = lambda x: re.sub('[%s]' % re.escape(string.punctuation), ' ', x.lower())\n",
        "\n",
        "mydata_test_df['data'] = mydata_test_df.data.map(alphanumeric).map(punc_lower)\n",
        "mydata_test_df.head()"
      ],
      "execution_count": 34,
      "outputs": [
        {
          "output_type": "execute_result",
          "data": {
            "text/html": [
              "<div>\n",
              "<style scoped>\n",
              "    .dataframe tbody tr th:only-of-type {\n",
              "        vertical-align: middle;\n",
              "    }\n",
              "\n",
              "    .dataframe tbody tr th {\n",
              "        vertical-align: top;\n",
              "    }\n",
              "\n",
              "    .dataframe thead th {\n",
              "        text-align: right;\n",
              "    }\n",
              "</style>\n",
              "<table border=\"1\" class=\"dataframe\">\n",
              "  <thead>\n",
              "    <tr style=\"text-align: right;\">\n",
              "      <th></th>\n",
              "      <th>data</th>\n",
              "      <th>target</th>\n",
              "    </tr>\n",
              "  </thead>\n",
              "  <tbody>\n",
              "    <tr>\n",
              "      <th>0</th>\n",
              "      <td>i am a little confused on all of the models of...</td>\n",
              "      <td>7</td>\n",
              "    </tr>\n",
              "    <tr>\n",
              "      <th>1</th>\n",
              "      <td>i m not familiar at all with the format of the...</td>\n",
              "      <td>5</td>\n",
              "    </tr>\n",
              "    <tr>\n",
              "      <th>2</th>\n",
              "      <td>\\nin a word  yes \\n</td>\n",
              "      <td>0</td>\n",
              "    </tr>\n",
              "    <tr>\n",
              "      <th>3</th>\n",
              "      <td>\\nthey were attacking the iraqis to drive them...</td>\n",
              "      <td>17</td>\n",
              "    </tr>\n",
              "    <tr>\n",
              "      <th>4</th>\n",
              "      <td>\\ni ve just spent two solid months arguing tha...</td>\n",
              "      <td>19</td>\n",
              "    </tr>\n",
              "  </tbody>\n",
              "</table>\n",
              "</div>"
            ],
            "text/plain": [
              "                                                data  target\n",
              "0  i am a little confused on all of the models of...       7\n",
              "1  i m not familiar at all with the format of the...       5\n",
              "2                                \\nin a word  yes \\n       0\n",
              "3  \\nthey were attacking the iraqis to drive them...      17\n",
              "4  \\ni ve just spent two solid months arguing tha...      19"
            ]
          },
          "metadata": {
            "tags": []
          },
          "execution_count": 34
        }
      ]
    },
    {
      "cell_type": "code",
      "metadata": {
        "colab": {
          "base_uri": "https://localhost:8080/"
        },
        "id": "yUELDX2-bNNg",
        "outputId": "3ae10975-f4d4-4724-febe-da778d4c60f2"
      },
      "source": [
        "# Extracting features from text files\n",
        "from sklearn.feature_extraction.text import CountVectorizer\n",
        "count_vect = CountVectorizer(stop_words='english')\n",
        "X_train_cv = count_vect.fit_transform(mydata_train_df.data) # fit_transform learns the\n",
        "X_test_cv = count_vect.transform(mydata_test_df.data) # transform uses the same vocab an\n",
        "print(X_train_cv.shape)\n",
        "print(type(X_train_cv))"
      ],
      "execution_count": 35,
      "outputs": [
        {
          "output_type": "stream",
          "text": [
            "(11314, 67822)\n",
            "<class 'scipy.sparse.csr.csr_matrix'>\n"
          ],
          "name": "stdout"
        }
      ]
    },
    {
      "cell_type": "code",
      "metadata": {
        "id": "cRUtZ9-VAkiY"
      },
      "source": [
        "import numpy as np\n",
        "\n",
        "from tqdm import tqdm\n",
        "\n",
        "from sklearn.datasets import fetch_20newsgroups\n",
        "\n",
        "from keras.preprocessing.text import Tokenizer\n",
        "from keras.preprocessing.sequence import pad_sequences\n",
        "from keras.utils.np_utils import to_categorical\n",
        "from keras.layers import Dense, Input, Flatten\n",
        "from keras.layers import Conv1D, MaxPooling1D, Embedding, Dropout\n",
        "from keras.models import Model"
      ],
      "execution_count": 36,
      "outputs": []
    },
    {
      "cell_type": "code",
      "metadata": {
        "colab": {
          "base_uri": "https://localhost:8080/"
        },
        "id": "4Oz3FjnHAqOw",
        "outputId": "7a240363-1b41-4325-f08b-b8e639e52b59"
      },
      "source": [
        "categories = ['alt.atheism', 'soc.religion.christian'] \n",
        "\n",
        "newsgroups_train = fetch_20newsgroups(subset='train', shuffle=True, \n",
        "                                      categories=categories,)\n",
        "\n",
        "print (newsgroups_train.target_names)\n",
        "print (len(newsgroups_train.data))\n",
        "\n",
        "#print (newsgroups_train.data[1])\n",
        "print(\"\\n\".join(newsgroups_train.data[0].split(\"\\n\")[10:15]))"
      ],
      "execution_count": 37,
      "outputs": [
        {
          "output_type": "stream",
          "text": [
            "['alt.atheism', 'soc.religion.christian']\n",
            "1079\n",
            "   WASHINGTON, April 19  -- A symposium on the Dead Sea \n",
            "Scrolls will be held at the Library of Congress on Wednesday,\n",
            "April 21, and Thursday, April 22.  The two-day program, cosponsored\n",
            "by the library and Baltimore Hebrew University, with additional\n",
            "support from the Project Judaica Foundation, will be held in the\n"
          ],
          "name": "stdout"
        }
      ]
    },
    {
      "cell_type": "code",
      "metadata": {
        "colab": {
          "base_uri": "https://localhost:8080/"
        },
        "id": "I9VVEyQWAu6m",
        "outputId": "670d00d8-ae21-4abb-df74-f8c5879d8c08"
      },
      "source": [
        "%%time\n",
        "\n",
        "texts = []\n",
        "\n",
        "labels=newsgroups_train.target\n",
        "texts = newsgroups_train.data\n",
        "\n",
        "MAX_SEQUENCE_LENGTH = 1000\n",
        "MAX_NB_WORDS = 20000\n",
        "\n",
        "tokenizer = Tokenizer(num_words=MAX_NB_WORDS)\n",
        "tokenizer.fit_on_texts(texts)\n",
        "\n",
        "sequences = tokenizer.texts_to_sequences(texts)\n",
        "\n",
        "print (sequences[0][:10])"
      ],
      "execution_count": 38,
      "outputs": [
        {
          "output_type": "stream",
          "text": [
            "[19, 8762, 3621, 11894, 58, 8762, 3621, 43, 1472, 2]\n",
            "CPU times: user 435 ms, sys: 3.71 ms, total: 438 ms\n",
            "Wall time: 439 ms\n"
          ],
          "name": "stdout"
        }
      ]
    },
    {
      "cell_type": "code",
      "metadata": {
        "colab": {
          "base_uri": "https://localhost:8080/"
        },
        "id": "8C-jZJV1Ay0E",
        "outputId": "ce725a9c-4f2d-4662-aba9-25a112a1a1e9"
      },
      "source": [
        "word_index = tokenizer.word_index\n",
        "\n",
        "print('Found %s unique tokens.' % len(word_index))"
      ],
      "execution_count": 39,
      "outputs": [
        {
          "output_type": "stream",
          "text": [
            "Found 20030 unique tokens.\n"
          ],
          "name": "stdout"
        }
      ]
    },
    {
      "cell_type": "code",
      "metadata": {
        "colab": {
          "base_uri": "https://localhost:8080/"
        },
        "id": "I3leeqbJA1-q",
        "outputId": "c3f7c907-53d3-4836-98ec-4e7efe9ecead"
      },
      "source": [
        "data = pad_sequences(sequences, maxlen=MAX_SEQUENCE_LENGTH)\n",
        "\n",
        "print (data.shape)\n",
        "print (data[0][200:250])"
      ],
      "execution_count": 40,
      "outputs": [
        {
          "output_type": "stream",
          "text": [
            "(1079, 1000)\n",
            "[    0     0     0     0     0     0     0     0     0     0     0     0\n",
            "     0     0     0     0     0     0     0     0     0     0     0     0\n",
            "     0     0     0     0     0    19  8762  3621 11894    58  8762  3621\n",
            "    43  1472     2  2130     3   189   450  1001  3622  2980  1682   476\n",
            "   627    50]\n"
          ],
          "name": "stdout"
        }
      ]
    },
    {
      "cell_type": "code",
      "metadata": {
        "colab": {
          "base_uri": "https://localhost:8080/"
        },
        "id": "TATKrjgmA6lK",
        "outputId": "e6adbdd0-ca4b-4e06-ce71-d569cf81af52"
      },
      "source": [
        "labels = to_categorical(np.array(labels))\n",
        "\n",
        "print('Shape of data tensor:', data.shape)\n",
        "print('Shape of label tensor:', labels.shape)"
      ],
      "execution_count": 41,
      "outputs": [
        {
          "output_type": "stream",
          "text": [
            "Shape of data tensor: (1079, 1000)\n",
            "Shape of label tensor: (1079, 2)\n"
          ],
          "name": "stdout"
        }
      ]
    },
    {
      "cell_type": "code",
      "metadata": {
        "colab": {
          "base_uri": "https://localhost:8080/"
        },
        "id": "tKD1nppNA_cG",
        "outputId": "354b3557-bcf1-474f-c7d2-1189f6c4b1fc"
      },
      "source": [
        "VALIDATION_SPLIT = 0.1\n",
        "\n",
        "indices = np.arange(data.shape[0])\n",
        "np.random.shuffle(indices) \n",
        "data = data[indices] \n",
        "labels = labels[indices] \n",
        "nb_validation_samples = int(VALIDATION_SPLIT * data.shape[0])\n",
        "\n",
        "x_train = data[:-nb_validation_samples] \n",
        "y_train = labels[:-nb_validation_samples] \n",
        "x_val = data[-nb_validation_samples:] \n",
        "y_val = labels[-nb_validation_samples:] \n",
        "\n",
        "print (x_train.shape)\n",
        "print (y_train.shape)\n",
        "\n",
        "print('Number of positive and negative reviews in traing and validation set ') \n",
        "print (y_train.sum(axis=0))\n",
        "print (y_val.sum(axis=0))\n"
      ],
      "execution_count": 42,
      "outputs": [
        {
          "output_type": "stream",
          "text": [
            "(972, 1000)\n",
            "(972, 2)\n",
            "Number of positive and negative reviews in traing and validation set \n",
            "[442. 530.]\n",
            "[38. 69.]\n"
          ],
          "name": "stdout"
        }
      ]
    },
    {
      "cell_type": "code",
      "metadata": {
        "colab": {
          "base_uri": "https://localhost:8080/",
          "height": 244
        },
        "id": "1jN7GicoBSkh",
        "outputId": "900de1b3-9d63-42ff-a1c4-1990227bca21"
      },
      "source": [
        "EMBEDDING_DIM = 100\n",
        "\n",
        "embedding_matrix = np.random.random((len(word_index) + 1, EMBEDDING_DIM))\n",
        "\n",
        "for word, i in word_index.items():\n",
        "  embedding_vector = embeddings_index.get(word)\n",
        "  if embedding_vector is not None:\n",
        "    # words not found in embedding index will be all-zeros.\n",
        "    embedding_matrix[i] = embedding_vector\n",
        "\n",
        "print (embedding_matrix.shape)\n",
        "\n",
        "print (embedding_matrix[0][:10])"
      ],
      "execution_count": 43,
      "outputs": [
        {
          "output_type": "error",
          "ename": "NameError",
          "evalue": "ignored",
          "traceback": [
            "\u001b[0;31m---------------------------------------------------------------------------\u001b[0m",
            "\u001b[0;31mNameError\u001b[0m                                 Traceback (most recent call last)",
            "\u001b[0;32m<ipython-input-43-6fb53264530f>\u001b[0m in \u001b[0;36m<module>\u001b[0;34m()\u001b[0m\n\u001b[1;32m      4\u001b[0m \u001b[0;34m\u001b[0m\u001b[0m\n\u001b[1;32m      5\u001b[0m \u001b[0;32mfor\u001b[0m \u001b[0mword\u001b[0m\u001b[0;34m,\u001b[0m \u001b[0mi\u001b[0m \u001b[0;32min\u001b[0m \u001b[0mword_index\u001b[0m\u001b[0;34m.\u001b[0m\u001b[0mitems\u001b[0m\u001b[0;34m(\u001b[0m\u001b[0;34m)\u001b[0m\u001b[0;34m:\u001b[0m\u001b[0;34m\u001b[0m\u001b[0;34m\u001b[0m\u001b[0m\n\u001b[0;32m----> 6\u001b[0;31m   \u001b[0membedding_vector\u001b[0m \u001b[0;34m=\u001b[0m \u001b[0membeddings_index\u001b[0m\u001b[0;34m.\u001b[0m\u001b[0mget\u001b[0m\u001b[0;34m(\u001b[0m\u001b[0mword\u001b[0m\u001b[0;34m)\u001b[0m\u001b[0;34m\u001b[0m\u001b[0;34m\u001b[0m\u001b[0m\n\u001b[0m\u001b[1;32m      7\u001b[0m   \u001b[0;32mif\u001b[0m \u001b[0membedding_vector\u001b[0m \u001b[0;32mis\u001b[0m \u001b[0;32mnot\u001b[0m \u001b[0;32mNone\u001b[0m\u001b[0;34m:\u001b[0m\u001b[0;34m\u001b[0m\u001b[0;34m\u001b[0m\u001b[0m\n\u001b[1;32m      8\u001b[0m     \u001b[0;31m# words not found in embedding index will be all-zeros.\u001b[0m\u001b[0;34m\u001b[0m\u001b[0;34m\u001b[0m\u001b[0;34m\u001b[0m\u001b[0m\n",
            "\u001b[0;31mNameError\u001b[0m: name 'embeddings_index' is not defined"
          ]
        }
      ]
    },
    {
      "cell_type": "code",
      "metadata": {
        "colab": {
          "base_uri": "https://localhost:8080/"
        },
        "id": "StT4yPYaBUgr",
        "outputId": "3081ed19-8fc6-4c2d-f79d-590b60d13b39"
      },
      "source": [
        "embedding_layer = Embedding(len(word_index) + 1, EMBEDDING_DIM,\n",
        "                            weights=[embedding_matrix], \n",
        "                            input_length=MAX_SEQUENCE_LENGTH, \n",
        "                            trainable=False)\n",
        "\n",
        "sequence_input = Input(shape=(MAX_SEQUENCE_LENGTH,), dtype='int32') \n",
        "embedded_sequences = embedding_layer(sequence_input) \n",
        "l_cov1= Conv1D(128, 5, activation='relu')(embedded_sequences) \n",
        "l_pool1 = MaxPooling1D(5)(l_cov1) \n",
        "l_cov2 = Conv1D(128, 5, activation='relu')(l_pool1) \n",
        "l_pool2 = MaxPooling1D(5)(l_cov2) \n",
        "l_cov3 = Conv1D(128, 5, activation='relu')(l_pool2) \n",
        "l_pool3 = MaxPooling1D(35)(l_cov3)  # global max pooling\n",
        "\n",
        "l_flat = Flatten()(l_pool3) \n",
        "l_dense = Dense(128, activation='relu')(l_flat) \n",
        "preds = Dense(2, activation='softmax')(l_dense)\n",
        "\n",
        "model = Model(sequence_input, preds)\n",
        "\n",
        "model.summary()"
      ],
      "execution_count": 44,
      "outputs": [
        {
          "output_type": "stream",
          "text": [
            "Model: \"model\"\n",
            "_________________________________________________________________\n",
            "Layer (type)                 Output Shape              Param #   \n",
            "=================================================================\n",
            "input_1 (InputLayer)         [(None, 1000)]            0         \n",
            "_________________________________________________________________\n",
            "embedding (Embedding)        (None, 1000, 100)         2003100   \n",
            "_________________________________________________________________\n",
            "conv1d (Conv1D)              (None, 996, 128)          64128     \n",
            "_________________________________________________________________\n",
            "max_pooling1d (MaxPooling1D) (None, 199, 128)          0         \n",
            "_________________________________________________________________\n",
            "conv1d_1 (Conv1D)            (None, 195, 128)          82048     \n",
            "_________________________________________________________________\n",
            "max_pooling1d_1 (MaxPooling1 (None, 39, 128)           0         \n",
            "_________________________________________________________________\n",
            "conv1d_2 (Conv1D)            (None, 35, 128)           82048     \n",
            "_________________________________________________________________\n",
            "max_pooling1d_2 (MaxPooling1 (None, 1, 128)            0         \n",
            "_________________________________________________________________\n",
            "flatten (Flatten)            (None, 128)               0         \n",
            "_________________________________________________________________\n",
            "dense (Dense)                (None, 128)               16512     \n",
            "_________________________________________________________________\n",
            "dense_1 (Dense)              (None, 2)                 258       \n",
            "=================================================================\n",
            "Total params: 2,248,094\n",
            "Trainable params: 244,994\n",
            "Non-trainable params: 2,003,100\n",
            "_________________________________________________________________\n"
          ],
          "name": "stdout"
        }
      ]
    },
    {
      "cell_type": "code",
      "metadata": {
        "colab": {
          "base_uri": "https://localhost:8080/"
        },
        "id": "ohWKe6xrBfGj",
        "outputId": "e54873b8-7b36-4e43-d7aa-5328a679266c"
      },
      "source": [
        "model.compile(loss='categorical_crossentropy', optimizer='adam',metrics=['acc'])\n",
        "\n",
        "history = model.fit(x_train, y_train, validation_data=(x_val, y_val),\n",
        "                    epochs=500, batch_size=512)   "
      ],
      "execution_count": 45,
      "outputs": [
        {
          "output_type": "stream",
          "text": [
            "Epoch 1/500\n",
            "2/2 [==============================] - 35s 1s/step - loss: 0.7997 - acc: 0.4912 - val_loss: 0.6567 - val_acc: 0.6449\n",
            "Epoch 2/500\n",
            "2/2 [==============================] - 0s 160ms/step - loss: 0.7185 - acc: 0.4941 - val_loss: 0.7149 - val_acc: 0.3551\n",
            "Epoch 3/500\n",
            "2/2 [==============================] - 0s 161ms/step - loss: 0.7005 - acc: 0.4675 - val_loss: 0.6556 - val_acc: 0.6449\n",
            "Epoch 4/500\n",
            "2/2 [==============================] - 0s 164ms/step - loss: 0.6939 - acc: 0.5465 - val_loss: 0.6761 - val_acc: 0.6449\n",
            "Epoch 5/500\n",
            "2/2 [==============================] - 0s 157ms/step - loss: 0.6903 - acc: 0.5348 - val_loss: 0.6877 - val_acc: 0.6075\n",
            "Epoch 6/500\n",
            "2/2 [==============================] - 0s 164ms/step - loss: 0.6897 - acc: 0.5564 - val_loss: 0.6625 - val_acc: 0.6449\n",
            "Epoch 7/500\n",
            "2/2 [==============================] - 0s 163ms/step - loss: 0.6891 - acc: 0.5425 - val_loss: 0.6654 - val_acc: 0.6449\n",
            "Epoch 8/500\n",
            "2/2 [==============================] - 0s 163ms/step - loss: 0.6852 - acc: 0.5543 - val_loss: 0.6752 - val_acc: 0.6449\n",
            "Epoch 9/500\n",
            "2/2 [==============================] - 0s 158ms/step - loss: 0.6858 - acc: 0.5510 - val_loss: 0.6796 - val_acc: 0.6449\n",
            "Epoch 10/500\n",
            "2/2 [==============================] - 0s 161ms/step - loss: 0.6867 - acc: 0.5432 - val_loss: 0.6701 - val_acc: 0.6449\n",
            "Epoch 11/500\n",
            "2/2 [==============================] - 0s 163ms/step - loss: 0.6852 - acc: 0.5452 - val_loss: 0.6628 - val_acc: 0.6449\n",
            "Epoch 12/500\n",
            "2/2 [==============================] - 0s 160ms/step - loss: 0.6849 - acc: 0.5471 - val_loss: 0.6724 - val_acc: 0.6449\n",
            "Epoch 13/500\n",
            "2/2 [==============================] - 0s 167ms/step - loss: 0.6835 - acc: 0.5471 - val_loss: 0.6772 - val_acc: 0.6449\n",
            "Epoch 14/500\n",
            "2/2 [==============================] - 0s 163ms/step - loss: 0.6835 - acc: 0.5552 - val_loss: 0.6652 - val_acc: 0.6449\n",
            "Epoch 15/500\n",
            "2/2 [==============================] - 0s 162ms/step - loss: 0.6818 - acc: 0.5432 - val_loss: 0.6660 - val_acc: 0.6449\n",
            "Epoch 16/500\n",
            "2/2 [==============================] - 0s 159ms/step - loss: 0.6827 - acc: 0.5469 - val_loss: 0.6717 - val_acc: 0.6449\n",
            "Epoch 17/500\n",
            "2/2 [==============================] - 0s 162ms/step - loss: 0.6794 - acc: 0.5492 - val_loss: 0.6613 - val_acc: 0.6449\n",
            "Epoch 18/500\n",
            "2/2 [==============================] - 0s 162ms/step - loss: 0.6794 - acc: 0.5440 - val_loss: 0.6719 - val_acc: 0.6636\n",
            "Epoch 19/500\n",
            "2/2 [==============================] - 0s 159ms/step - loss: 0.6765 - acc: 0.5810 - val_loss: 0.6641 - val_acc: 0.6449\n",
            "Epoch 20/500\n",
            "2/2 [==============================] - 0s 170ms/step - loss: 0.6740 - acc: 0.5471 - val_loss: 0.6674 - val_acc: 0.6542\n",
            "Epoch 21/500\n",
            "2/2 [==============================] - 0s 164ms/step - loss: 0.6750 - acc: 0.6277 - val_loss: 0.6646 - val_acc: 0.6636\n",
            "Epoch 22/500\n",
            "2/2 [==============================] - 0s 158ms/step - loss: 0.6709 - acc: 0.5652 - val_loss: 0.6555 - val_acc: 0.6449\n",
            "Epoch 23/500\n",
            "2/2 [==============================] - 0s 160ms/step - loss: 0.6686 - acc: 0.5761 - val_loss: 0.6762 - val_acc: 0.6355\n",
            "Epoch 24/500\n",
            "2/2 [==============================] - 0s 167ms/step - loss: 0.6659 - acc: 0.6554 - val_loss: 0.6530 - val_acc: 0.6449\n",
            "Epoch 25/500\n",
            "2/2 [==============================] - 0s 162ms/step - loss: 0.6615 - acc: 0.5957 - val_loss: 0.6672 - val_acc: 0.6355\n",
            "Epoch 26/500\n",
            "2/2 [==============================] - 0s 159ms/step - loss: 0.6581 - acc: 0.6350 - val_loss: 0.6522 - val_acc: 0.6729\n",
            "Epoch 27/500\n",
            "2/2 [==============================] - 0s 158ms/step - loss: 0.6508 - acc: 0.6549 - val_loss: 0.6510 - val_acc: 0.6262\n",
            "Epoch 28/500\n",
            "2/2 [==============================] - 0s 161ms/step - loss: 0.6466 - acc: 0.7013 - val_loss: 0.6329 - val_acc: 0.6449\n",
            "Epoch 29/500\n",
            "2/2 [==============================] - 0s 159ms/step - loss: 0.6546 - acc: 0.5846 - val_loss: 0.7721 - val_acc: 0.3645\n",
            "Epoch 30/500\n",
            "2/2 [==============================] - 0s 163ms/step - loss: 0.6935 - acc: 0.4820 - val_loss: 0.6235 - val_acc: 0.6449\n",
            "Epoch 31/500\n",
            "2/2 [==============================] - 0s 162ms/step - loss: 0.6425 - acc: 0.5806 - val_loss: 0.6837 - val_acc: 0.4393\n",
            "Epoch 32/500\n",
            "2/2 [==============================] - 0s 161ms/step - loss: 0.6376 - acc: 0.6292 - val_loss: 0.6222 - val_acc: 0.6822\n",
            "Epoch 33/500\n",
            "2/2 [==============================] - 0s 160ms/step - loss: 0.6175 - acc: 0.6648 - val_loss: 0.6138 - val_acc: 0.7009\n",
            "Epoch 34/500\n",
            "2/2 [==============================] - 0s 163ms/step - loss: 0.6091 - acc: 0.7403 - val_loss: 0.6346 - val_acc: 0.8224\n",
            "Epoch 35/500\n",
            "2/2 [==============================] - 0s 159ms/step - loss: 0.6010 - acc: 0.8127 - val_loss: 0.5962 - val_acc: 0.7383\n",
            "Epoch 36/500\n",
            "2/2 [==============================] - 0s 163ms/step - loss: 0.5913 - acc: 0.7585 - val_loss: 0.5864 - val_acc: 0.7477\n",
            "Epoch 37/500\n",
            "2/2 [==============================] - 0s 160ms/step - loss: 0.5703 - acc: 0.7770 - val_loss: 0.5714 - val_acc: 0.7570\n",
            "Epoch 38/500\n",
            "2/2 [==============================] - 0s 166ms/step - loss: 0.5628 - acc: 0.7915 - val_loss: 0.5560 - val_acc: 0.6916\n",
            "Epoch 39/500\n",
            "2/2 [==============================] - 0s 161ms/step - loss: 0.5695 - acc: 0.7090 - val_loss: 0.5630 - val_acc: 0.8411\n",
            "Epoch 40/500\n",
            "2/2 [==============================] - 0s 159ms/step - loss: 0.5109 - acc: 0.8807 - val_loss: 0.5173 - val_acc: 0.8037\n",
            "Epoch 41/500\n",
            "2/2 [==============================] - 0s 160ms/step - loss: 0.5029 - acc: 0.8304 - val_loss: 0.5051 - val_acc: 0.7383\n",
            "Epoch 42/500\n",
            "2/2 [==============================] - 0s 163ms/step - loss: 0.5411 - acc: 0.6851 - val_loss: 0.4819 - val_acc: 0.7757\n",
            "Epoch 43/500\n",
            "2/2 [==============================] - 0s 162ms/step - loss: 0.4678 - acc: 0.7792 - val_loss: 0.6230 - val_acc: 0.4673\n",
            "Epoch 44/500\n",
            "2/2 [==============================] - 0s 162ms/step - loss: 0.5025 - acc: 0.7008 - val_loss: 0.4440 - val_acc: 0.8131\n",
            "Epoch 45/500\n",
            "2/2 [==============================] - 0s 167ms/step - loss: 0.4521 - acc: 0.8051 - val_loss: 0.4253 - val_acc: 0.8598\n",
            "Epoch 46/500\n",
            "2/2 [==============================] - 0s 161ms/step - loss: 0.4065 - acc: 0.8370 - val_loss: 0.4588 - val_acc: 0.9065\n",
            "Epoch 47/500\n",
            "2/2 [==============================] - 0s 163ms/step - loss: 0.3814 - acc: 0.9260 - val_loss: 0.3905 - val_acc: 0.8598\n",
            "Epoch 48/500\n",
            "2/2 [==============================] - 0s 161ms/step - loss: 0.3845 - acc: 0.8474 - val_loss: 0.3667 - val_acc: 0.8785\n",
            "Epoch 49/500\n",
            "2/2 [==============================] - 0s 165ms/step - loss: 0.3336 - acc: 0.8774 - val_loss: 0.4674 - val_acc: 0.8037\n",
            "Epoch 50/500\n",
            "2/2 [==============================] - 0s 163ms/step - loss: 0.3625 - acc: 0.8770 - val_loss: 0.3490 - val_acc: 0.9252\n",
            "Epoch 51/500\n",
            "2/2 [==============================] - 0s 165ms/step - loss: 0.2840 - acc: 0.9434 - val_loss: 0.3102 - val_acc: 0.8972\n",
            "Epoch 52/500\n",
            "2/2 [==============================] - 0s 163ms/step - loss: 0.2618 - acc: 0.9199 - val_loss: 0.2992 - val_acc: 0.9159\n",
            "Epoch 53/500\n",
            "2/2 [==============================] - 0s 158ms/step - loss: 0.2421 - acc: 0.9333 - val_loss: 0.2964 - val_acc: 0.9533\n",
            "Epoch 54/500\n",
            "2/2 [==============================] - 0s 160ms/step - loss: 0.2311 - acc: 0.9384 - val_loss: 0.3512 - val_acc: 0.8598\n",
            "Epoch 55/500\n",
            "2/2 [==============================] - 0s 164ms/step - loss: 0.3317 - acc: 0.8811 - val_loss: 0.7925 - val_acc: 0.4579\n",
            "Epoch 56/500\n",
            "2/2 [==============================] - 0s 161ms/step - loss: 0.4700 - acc: 0.6938 - val_loss: 0.3306 - val_acc: 0.8598\n",
            "Epoch 57/500\n",
            "2/2 [==============================] - 0s 160ms/step - loss: 0.2944 - acc: 0.8791 - val_loss: 0.3751 - val_acc: 0.8692\n",
            "Epoch 58/500\n",
            "2/2 [==============================] - 0s 161ms/step - loss: 0.2481 - acc: 0.9216 - val_loss: 0.3200 - val_acc: 0.8785\n",
            "Epoch 59/500\n",
            "2/2 [==============================] - 0s 161ms/step - loss: 0.2639 - acc: 0.8906 - val_loss: 0.4548 - val_acc: 0.7290\n",
            "Epoch 60/500\n",
            "2/2 [==============================] - 0s 159ms/step - loss: 0.2883 - acc: 0.8853 - val_loss: 0.2796 - val_acc: 0.8785\n",
            "Epoch 61/500\n",
            "2/2 [==============================] - 0s 160ms/step - loss: 0.2385 - acc: 0.8935 - val_loss: 0.2652 - val_acc: 0.9533\n",
            "Epoch 62/500\n",
            "2/2 [==============================] - 0s 165ms/step - loss: 0.2028 - acc: 0.9453 - val_loss: 0.2241 - val_acc: 0.9439\n",
            "Epoch 63/500\n",
            "2/2 [==============================] - 0s 160ms/step - loss: 0.1821 - acc: 0.9385 - val_loss: 0.2254 - val_acc: 0.8879\n",
            "Epoch 64/500\n",
            "2/2 [==============================] - 0s 162ms/step - loss: 0.1820 - acc: 0.9275 - val_loss: 0.2783 - val_acc: 0.9439\n",
            "Epoch 65/500\n",
            "2/2 [==============================] - 0s 162ms/step - loss: 0.1809 - acc: 0.9596 - val_loss: 0.2139 - val_acc: 0.8972\n",
            "Epoch 66/500\n",
            "2/2 [==============================] - 0s 161ms/step - loss: 0.1694 - acc: 0.9238 - val_loss: 0.2090 - val_acc: 0.9720\n",
            "Epoch 67/500\n",
            "2/2 [==============================] - 0s 162ms/step - loss: 0.1621 - acc: 0.9561 - val_loss: 0.1927 - val_acc: 0.9533\n",
            "Epoch 68/500\n",
            "2/2 [==============================] - 0s 164ms/step - loss: 0.1439 - acc: 0.9465 - val_loss: 0.1941 - val_acc: 0.9252\n",
            "Epoch 69/500\n",
            "2/2 [==============================] - 0s 159ms/step - loss: 0.1282 - acc: 0.9590 - val_loss: 0.2406 - val_acc: 0.9439\n",
            "Epoch 70/500\n",
            "2/2 [==============================] - 0s 165ms/step - loss: 0.1406 - acc: 0.9730 - val_loss: 0.1938 - val_acc: 0.9065\n",
            "Epoch 71/500\n",
            "2/2 [==============================] - 0s 161ms/step - loss: 0.1352 - acc: 0.9395 - val_loss: 0.1899 - val_acc: 0.9626\n",
            "Epoch 72/500\n",
            "2/2 [==============================] - 0s 160ms/step - loss: 0.1171 - acc: 0.9785 - val_loss: 0.1687 - val_acc: 0.9439\n",
            "Epoch 73/500\n",
            "2/2 [==============================] - 0s 159ms/step - loss: 0.1100 - acc: 0.9588 - val_loss: 0.1654 - val_acc: 0.9533\n",
            "Epoch 74/500\n",
            "2/2 [==============================] - 0s 161ms/step - loss: 0.1053 - acc: 0.9724 - val_loss: 0.1623 - val_acc: 0.9720\n",
            "Epoch 75/500\n",
            "2/2 [==============================] - 0s 160ms/step - loss: 0.0993 - acc: 0.9676 - val_loss: 0.1570 - val_acc: 0.9439\n",
            "Epoch 76/500\n",
            "2/2 [==============================] - 0s 167ms/step - loss: 0.0947 - acc: 0.9732 - val_loss: 0.1742 - val_acc: 0.9626\n",
            "Epoch 77/500\n",
            "2/2 [==============================] - 0s 166ms/step - loss: 0.0916 - acc: 0.9878 - val_loss: 0.1619 - val_acc: 0.9346\n",
            "Epoch 78/500\n",
            "2/2 [==============================] - 0s 161ms/step - loss: 0.0899 - acc: 0.9637 - val_loss: 0.1661 - val_acc: 0.9626\n",
            "Epoch 79/500\n",
            "2/2 [==============================] - 0s 159ms/step - loss: 0.0874 - acc: 0.9885 - val_loss: 0.1450 - val_acc: 0.9439\n",
            "Epoch 80/500\n",
            "2/2 [==============================] - 0s 163ms/step - loss: 0.0799 - acc: 0.9710 - val_loss: 0.1387 - val_acc: 0.9720\n",
            "Epoch 81/500\n",
            "2/2 [==============================] - 0s 171ms/step - loss: 0.0721 - acc: 0.9892 - val_loss: 0.1330 - val_acc: 0.9720\n",
            "Epoch 82/500\n",
            "2/2 [==============================] - 0s 161ms/step - loss: 0.0659 - acc: 0.9830 - val_loss: 0.1300 - val_acc: 0.9626\n",
            "Epoch 83/500\n",
            "2/2 [==============================] - 0s 161ms/step - loss: 0.0680 - acc: 0.9879 - val_loss: 0.1285 - val_acc: 0.9813\n",
            "Epoch 84/500\n",
            "2/2 [==============================] - 0s 160ms/step - loss: 0.0579 - acc: 0.9884 - val_loss: 0.1262 - val_acc: 0.9533\n",
            "Epoch 85/500\n",
            "2/2 [==============================] - 0s 162ms/step - loss: 0.0574 - acc: 0.9919 - val_loss: 0.1246 - val_acc: 0.9720\n",
            "Epoch 86/500\n",
            "2/2 [==============================] - 0s 164ms/step - loss: 0.0524 - acc: 0.9912 - val_loss: 0.1198 - val_acc: 0.9720\n",
            "Epoch 87/500\n",
            "2/2 [==============================] - 0s 159ms/step - loss: 0.0545 - acc: 0.9913 - val_loss: 0.1197 - val_acc: 0.9720\n",
            "Epoch 88/500\n",
            "2/2 [==============================] - 0s 164ms/step - loss: 0.0467 - acc: 0.9940 - val_loss: 0.1234 - val_acc: 0.9439\n",
            "Epoch 89/500\n",
            "2/2 [==============================] - 0s 160ms/step - loss: 0.0467 - acc: 0.9933 - val_loss: 0.1215 - val_acc: 0.9626\n",
            "Epoch 90/500\n",
            "2/2 [==============================] - 0s 165ms/step - loss: 0.0429 - acc: 0.9980 - val_loss: 0.1158 - val_acc: 0.9533\n",
            "Epoch 91/500\n",
            "2/2 [==============================] - 0s 163ms/step - loss: 0.0443 - acc: 0.9920 - val_loss: 0.1103 - val_acc: 0.9720\n",
            "Epoch 92/500\n",
            "2/2 [==============================] - 0s 159ms/step - loss: 0.0388 - acc: 0.9966 - val_loss: 0.1113 - val_acc: 0.9533\n",
            "Epoch 93/500\n",
            "2/2 [==============================] - 0s 163ms/step - loss: 0.0381 - acc: 0.9933 - val_loss: 0.1044 - val_acc: 0.9720\n",
            "Epoch 94/500\n",
            "2/2 [==============================] - 0s 161ms/step - loss: 0.0329 - acc: 0.9960 - val_loss: 0.1046 - val_acc: 0.9626\n",
            "Epoch 95/500\n",
            "2/2 [==============================] - 0s 161ms/step - loss: 0.0348 - acc: 0.9960 - val_loss: 0.1002 - val_acc: 0.9813\n",
            "Epoch 96/500\n",
            "2/2 [==============================] - 0s 161ms/step - loss: 0.0299 - acc: 0.9953 - val_loss: 0.0979 - val_acc: 0.9813\n",
            "Epoch 97/500\n",
            "2/2 [==============================] - 0s 160ms/step - loss: 0.0294 - acc: 0.9987 - val_loss: 0.0979 - val_acc: 0.9813\n",
            "Epoch 98/500\n",
            "2/2 [==============================] - 0s 161ms/step - loss: 0.0264 - acc: 0.9966 - val_loss: 0.0943 - val_acc: 0.9813\n",
            "Epoch 99/500\n",
            "2/2 [==============================] - 0s 161ms/step - loss: 0.0258 - acc: 0.9987 - val_loss: 0.0938 - val_acc: 0.9813\n",
            "Epoch 100/500\n",
            "2/2 [==============================] - 0s 164ms/step - loss: 0.0239 - acc: 0.9980 - val_loss: 0.0909 - val_acc: 0.9813\n",
            "Epoch 101/500\n",
            "2/2 [==============================] - 0s 161ms/step - loss: 0.0216 - acc: 0.9993 - val_loss: 0.0907 - val_acc: 0.9813\n",
            "Epoch 102/500\n",
            "2/2 [==============================] - 0s 165ms/step - loss: 0.0210 - acc: 0.9993 - val_loss: 0.0926 - val_acc: 0.9813\n",
            "Epoch 103/500\n",
            "2/2 [==============================] - 0s 166ms/step - loss: 0.0191 - acc: 0.9980 - val_loss: 0.0886 - val_acc: 0.9720\n",
            "Epoch 104/500\n",
            "2/2 [==============================] - 0s 161ms/step - loss: 0.0180 - acc: 1.0000 - val_loss: 0.0886 - val_acc: 0.9813\n",
            "Epoch 105/500\n",
            "2/2 [==============================] - 0s 163ms/step - loss: 0.0174 - acc: 1.0000 - val_loss: 0.0902 - val_acc: 0.9626\n",
            "Epoch 106/500\n",
            "2/2 [==============================] - 0s 158ms/step - loss: 0.0179 - acc: 1.0000 - val_loss: 0.0915 - val_acc: 0.9626\n",
            "Epoch 107/500\n",
            "2/2 [==============================] - 0s 166ms/step - loss: 0.0159 - acc: 0.9987 - val_loss: 0.0853 - val_acc: 0.9720\n",
            "Epoch 108/500\n",
            "2/2 [==============================] - 0s 161ms/step - loss: 0.0161 - acc: 1.0000 - val_loss: 0.0805 - val_acc: 0.9813\n",
            "Epoch 109/500\n",
            "2/2 [==============================] - 0s 170ms/step - loss: 0.0133 - acc: 1.0000 - val_loss: 0.0836 - val_acc: 0.9813\n",
            "Epoch 110/500\n",
            "2/2 [==============================] - 0s 160ms/step - loss: 0.0127 - acc: 1.0000 - val_loss: 0.0814 - val_acc: 0.9720\n",
            "Epoch 111/500\n",
            "2/2 [==============================] - 0s 160ms/step - loss: 0.0138 - acc: 1.0000 - val_loss: 0.0878 - val_acc: 0.9626\n",
            "Epoch 112/500\n",
            "2/2 [==============================] - 0s 168ms/step - loss: 0.0121 - acc: 1.0000 - val_loss: 0.0850 - val_acc: 0.9626\n",
            "Epoch 113/500\n",
            "2/2 [==============================] - 0s 161ms/step - loss: 0.0126 - acc: 1.0000 - val_loss: 0.0944 - val_acc: 0.9439\n",
            "Epoch 114/500\n",
            "2/2 [==============================] - 0s 162ms/step - loss: 0.0132 - acc: 1.0000 - val_loss: 0.0772 - val_acc: 0.9720\n",
            "Epoch 115/500\n",
            "2/2 [==============================] - 0s 160ms/step - loss: 0.0112 - acc: 1.0000 - val_loss: 0.0857 - val_acc: 0.9626\n",
            "Epoch 116/500\n",
            "2/2 [==============================] - 0s 166ms/step - loss: 0.0136 - acc: 1.0000 - val_loss: 0.0734 - val_acc: 0.9907\n",
            "Epoch 117/500\n",
            "2/2 [==============================] - 0s 163ms/step - loss: 0.0106 - acc: 1.0000 - val_loss: 0.0748 - val_acc: 0.9720\n",
            "Epoch 118/500\n",
            "2/2 [==============================] - 0s 162ms/step - loss: 0.0104 - acc: 1.0000 - val_loss: 0.0814 - val_acc: 0.9813\n",
            "Epoch 119/500\n",
            "2/2 [==============================] - 0s 162ms/step - loss: 0.0096 - acc: 1.0000 - val_loss: 0.0713 - val_acc: 0.9907\n",
            "Epoch 120/500\n",
            "2/2 [==============================] - 0s 169ms/step - loss: 0.0075 - acc: 1.0000 - val_loss: 0.0691 - val_acc: 0.9813\n",
            "Epoch 121/500\n",
            "2/2 [==============================] - 0s 166ms/step - loss: 0.0074 - acc: 1.0000 - val_loss: 0.0686 - val_acc: 0.9813\n",
            "Epoch 122/500\n",
            "2/2 [==============================] - 0s 165ms/step - loss: 0.0078 - acc: 1.0000 - val_loss: 0.0762 - val_acc: 0.9813\n",
            "Epoch 123/500\n",
            "2/2 [==============================] - 0s 169ms/step - loss: 0.0078 - acc: 1.0000 - val_loss: 0.0814 - val_acc: 0.9439\n",
            "Epoch 124/500\n",
            "2/2 [==============================] - 0s 162ms/step - loss: 0.0088 - acc: 1.0000 - val_loss: 0.1031 - val_acc: 0.9346\n",
            "Epoch 125/500\n",
            "2/2 [==============================] - 0s 161ms/step - loss: 0.0097 - acc: 1.0000 - val_loss: 0.0732 - val_acc: 0.9626\n",
            "Epoch 126/500\n",
            "2/2 [==============================] - 0s 161ms/step - loss: 0.0073 - acc: 1.0000 - val_loss: 0.0922 - val_acc: 0.9533\n",
            "Epoch 127/500\n",
            "2/2 [==============================] - 0s 168ms/step - loss: 0.0079 - acc: 1.0000 - val_loss: 0.0680 - val_acc: 0.9720\n",
            "Epoch 128/500\n",
            "2/2 [==============================] - 0s 161ms/step - loss: 0.0068 - acc: 1.0000 - val_loss: 0.0678 - val_acc: 0.9813\n",
            "Epoch 129/500\n",
            "2/2 [==============================] - 0s 160ms/step - loss: 0.0059 - acc: 1.0000 - val_loss: 0.0634 - val_acc: 0.9907\n",
            "Epoch 130/500\n",
            "2/2 [==============================] - 0s 161ms/step - loss: 0.0049 - acc: 1.0000 - val_loss: 0.0631 - val_acc: 0.9907\n",
            "Epoch 131/500\n",
            "2/2 [==============================] - 0s 161ms/step - loss: 0.0051 - acc: 1.0000 - val_loss: 0.0697 - val_acc: 0.9813\n",
            "Epoch 132/500\n",
            "2/2 [==============================] - 0s 161ms/step - loss: 0.0051 - acc: 1.0000 - val_loss: 0.0636 - val_acc: 0.9813\n",
            "Epoch 133/500\n",
            "2/2 [==============================] - 0s 162ms/step - loss: 0.0048 - acc: 1.0000 - val_loss: 0.0806 - val_acc: 0.9626\n",
            "Epoch 134/500\n",
            "2/2 [==============================] - 0s 165ms/step - loss: 0.0045 - acc: 1.0000 - val_loss: 0.0736 - val_acc: 0.9533\n",
            "Epoch 135/500\n",
            "2/2 [==============================] - 0s 161ms/step - loss: 0.0059 - acc: 1.0000 - val_loss: 0.0851 - val_acc: 0.9533\n",
            "Epoch 136/500\n",
            "2/2 [==============================] - 0s 163ms/step - loss: 0.0059 - acc: 1.0000 - val_loss: 0.0667 - val_acc: 0.9720\n",
            "Epoch 137/500\n",
            "2/2 [==============================] - 0s 163ms/step - loss: 0.0056 - acc: 1.0000 - val_loss: 0.0642 - val_acc: 0.9907\n",
            "Epoch 138/500\n",
            "2/2 [==============================] - 0s 161ms/step - loss: 0.0046 - acc: 1.0000 - val_loss: 0.0653 - val_acc: 0.9813\n",
            "Epoch 139/500\n",
            "2/2 [==============================] - 0s 161ms/step - loss: 0.0035 - acc: 1.0000 - val_loss: 0.0634 - val_acc: 0.9720\n",
            "Epoch 140/500\n",
            "2/2 [==============================] - 0s 162ms/step - loss: 0.0037 - acc: 1.0000 - val_loss: 0.0757 - val_acc: 0.9720\n",
            "Epoch 141/500\n",
            "2/2 [==============================] - 0s 162ms/step - loss: 0.0038 - acc: 1.0000 - val_loss: 0.0587 - val_acc: 0.9907\n",
            "Epoch 142/500\n",
            "2/2 [==============================] - 0s 164ms/step - loss: 0.0035 - acc: 1.0000 - val_loss: 0.0634 - val_acc: 0.9813\n",
            "Epoch 143/500\n",
            "2/2 [==============================] - 0s 163ms/step - loss: 0.0036 - acc: 1.0000 - val_loss: 0.0584 - val_acc: 0.9907\n",
            "Epoch 144/500\n",
            "2/2 [==============================] - 0s 161ms/step - loss: 0.0032 - acc: 1.0000 - val_loss: 0.0582 - val_acc: 0.9907\n",
            "Epoch 145/500\n",
            "2/2 [==============================] - 0s 165ms/step - loss: 0.0028 - acc: 1.0000 - val_loss: 0.0808 - val_acc: 0.9533\n",
            "Epoch 146/500\n",
            "2/2 [==============================] - 0s 161ms/step - loss: 0.0040 - acc: 1.0000 - val_loss: 0.0653 - val_acc: 0.9626\n",
            "Epoch 147/500\n",
            "2/2 [==============================] - 0s 160ms/step - loss: 0.0034 - acc: 1.0000 - val_loss: 0.0705 - val_acc: 0.9813\n",
            "Epoch 148/500\n",
            "2/2 [==============================] - 0s 167ms/step - loss: 0.0031 - acc: 1.0000 - val_loss: 0.0566 - val_acc: 0.9907\n",
            "Epoch 149/500\n",
            "2/2 [==============================] - 0s 167ms/step - loss: 0.0027 - acc: 1.0000 - val_loss: 0.0557 - val_acc: 0.9907\n",
            "Epoch 150/500\n",
            "2/2 [==============================] - 0s 162ms/step - loss: 0.0024 - acc: 1.0000 - val_loss: 0.0769 - val_acc: 0.9720\n",
            "Epoch 151/500\n",
            "2/2 [==============================] - 0s 162ms/step - loss: 0.0027 - acc: 1.0000 - val_loss: 0.0554 - val_acc: 0.9907\n",
            "Epoch 152/500\n",
            "2/2 [==============================] - 0s 165ms/step - loss: 0.0026 - acc: 1.0000 - val_loss: 0.0558 - val_acc: 0.9907\n",
            "Epoch 153/500\n",
            "2/2 [==============================] - 0s 162ms/step - loss: 0.0022 - acc: 1.0000 - val_loss: 0.0655 - val_acc: 0.9813\n",
            "Epoch 154/500\n",
            "2/2 [==============================] - 0s 166ms/step - loss: 0.0022 - acc: 1.0000 - val_loss: 0.0544 - val_acc: 0.9907\n",
            "Epoch 155/500\n",
            "2/2 [==============================] - 0s 162ms/step - loss: 0.0022 - acc: 1.0000 - val_loss: 0.0582 - val_acc: 0.9813\n",
            "Epoch 156/500\n",
            "2/2 [==============================] - 0s 163ms/step - loss: 0.0019 - acc: 1.0000 - val_loss: 0.0557 - val_acc: 0.9907\n",
            "Epoch 157/500\n",
            "2/2 [==============================] - 0s 162ms/step - loss: 0.0018 - acc: 1.0000 - val_loss: 0.0535 - val_acc: 0.9907\n",
            "Epoch 158/500\n",
            "2/2 [==============================] - 0s 166ms/step - loss: 0.0017 - acc: 1.0000 - val_loss: 0.0553 - val_acc: 0.9907\n",
            "Epoch 159/500\n",
            "2/2 [==============================] - 0s 164ms/step - loss: 0.0017 - acc: 1.0000 - val_loss: 0.0549 - val_acc: 0.9813\n",
            "Epoch 160/500\n",
            "2/2 [==============================] - 0s 168ms/step - loss: 0.0016 - acc: 1.0000 - val_loss: 0.0537 - val_acc: 0.9907\n",
            "Epoch 161/500\n",
            "2/2 [==============================] - 0s 163ms/step - loss: 0.0016 - acc: 1.0000 - val_loss: 0.0536 - val_acc: 0.9907\n",
            "Epoch 162/500\n",
            "2/2 [==============================] - 0s 165ms/step - loss: 0.0017 - acc: 1.0000 - val_loss: 0.0540 - val_acc: 0.9907\n",
            "Epoch 163/500\n",
            "2/2 [==============================] - 0s 165ms/step - loss: 0.0014 - acc: 1.0000 - val_loss: 0.0551 - val_acc: 0.9813\n",
            "Epoch 164/500\n",
            "2/2 [==============================] - 0s 162ms/step - loss: 0.0015 - acc: 1.0000 - val_loss: 0.0536 - val_acc: 0.9907\n",
            "Epoch 165/500\n",
            "2/2 [==============================] - 0s 163ms/step - loss: 0.0014 - acc: 1.0000 - val_loss: 0.0535 - val_acc: 0.9907\n",
            "Epoch 166/500\n",
            "2/2 [==============================] - 0s 163ms/step - loss: 0.0015 - acc: 1.0000 - val_loss: 0.0543 - val_acc: 0.9813\n",
            "Epoch 167/500\n",
            "2/2 [==============================] - 0s 165ms/step - loss: 0.0014 - acc: 1.0000 - val_loss: 0.0524 - val_acc: 0.9907\n",
            "Epoch 168/500\n",
            "2/2 [==============================] - 0s 161ms/step - loss: 0.0014 - acc: 1.0000 - val_loss: 0.0523 - val_acc: 0.9907\n",
            "Epoch 169/500\n",
            "2/2 [==============================] - 0s 168ms/step - loss: 0.0014 - acc: 1.0000 - val_loss: 0.0501 - val_acc: 0.9907\n",
            "Epoch 170/500\n",
            "2/2 [==============================] - 0s 165ms/step - loss: 0.0013 - acc: 1.0000 - val_loss: 0.0559 - val_acc: 0.9813\n",
            "Epoch 171/500\n",
            "2/2 [==============================] - 0s 163ms/step - loss: 0.0014 - acc: 1.0000 - val_loss: 0.0525 - val_acc: 0.9907\n",
            "Epoch 172/500\n",
            "2/2 [==============================] - 0s 161ms/step - loss: 0.0012 - acc: 1.0000 - val_loss: 0.0510 - val_acc: 0.9907\n",
            "Epoch 173/500\n",
            "2/2 [==============================] - 0s 164ms/step - loss: 0.0012 - acc: 1.0000 - val_loss: 0.0513 - val_acc: 0.9907\n",
            "Epoch 174/500\n",
            "2/2 [==============================] - 0s 166ms/step - loss: 0.0012 - acc: 1.0000 - val_loss: 0.0532 - val_acc: 0.9813\n",
            "Epoch 175/500\n",
            "2/2 [==============================] - 0s 163ms/step - loss: 0.0012 - acc: 1.0000 - val_loss: 0.0496 - val_acc: 0.9907\n",
            "Epoch 176/500\n",
            "2/2 [==============================] - 0s 164ms/step - loss: 0.0011 - acc: 1.0000 - val_loss: 0.0532 - val_acc: 0.9813\n",
            "Epoch 177/500\n",
            "2/2 [==============================] - 0s 163ms/step - loss: 0.0012 - acc: 1.0000 - val_loss: 0.0509 - val_acc: 0.9907\n",
            "Epoch 178/500\n",
            "2/2 [==============================] - 0s 160ms/step - loss: 0.0010 - acc: 1.0000 - val_loss: 0.0495 - val_acc: 0.9907\n",
            "Epoch 179/500\n",
            "2/2 [==============================] - 0s 163ms/step - loss: 0.0010 - acc: 1.0000 - val_loss: 0.0527 - val_acc: 0.9813\n",
            "Epoch 180/500\n",
            "2/2 [==============================] - 0s 166ms/step - loss: 0.0010 - acc: 1.0000 - val_loss: 0.0500 - val_acc: 0.9907\n",
            "Epoch 181/500\n",
            "2/2 [==============================] - 0s 163ms/step - loss: 0.0010 - acc: 1.0000 - val_loss: 0.0499 - val_acc: 0.9907\n",
            "Epoch 182/500\n",
            "2/2 [==============================] - 0s 162ms/step - loss: 9.8362e-04 - acc: 1.0000 - val_loss: 0.0494 - val_acc: 0.9907\n",
            "Epoch 183/500\n",
            "2/2 [==============================] - 0s 164ms/step - loss: 9.4802e-04 - acc: 1.0000 - val_loss: 0.0498 - val_acc: 0.9907\n",
            "Epoch 184/500\n",
            "2/2 [==============================] - 0s 163ms/step - loss: 9.7489e-04 - acc: 1.0000 - val_loss: 0.0491 - val_acc: 0.9907\n",
            "Epoch 185/500\n",
            "2/2 [==============================] - 0s 166ms/step - loss: 9.1865e-04 - acc: 1.0000 - val_loss: 0.0530 - val_acc: 0.9813\n",
            "Epoch 186/500\n",
            "2/2 [==============================] - 0s 168ms/step - loss: 9.5690e-04 - acc: 1.0000 - val_loss: 0.0482 - val_acc: 0.9907\n",
            "Epoch 187/500\n",
            "2/2 [==============================] - 0s 164ms/step - loss: 9.4525e-04 - acc: 1.0000 - val_loss: 0.0489 - val_acc: 0.9907\n",
            "Epoch 188/500\n",
            "2/2 [==============================] - 0s 162ms/step - loss: 8.6915e-04 - acc: 1.0000 - val_loss: 0.0514 - val_acc: 0.9907\n",
            "Epoch 189/500\n",
            "2/2 [==============================] - 0s 163ms/step - loss: 8.8414e-04 - acc: 1.0000 - val_loss: 0.0473 - val_acc: 0.9907\n",
            "Epoch 190/500\n",
            "2/2 [==============================] - 0s 164ms/step - loss: 8.3548e-04 - acc: 1.0000 - val_loss: 0.0496 - val_acc: 0.9907\n",
            "Epoch 191/500\n",
            "2/2 [==============================] - 0s 163ms/step - loss: 8.0009e-04 - acc: 1.0000 - val_loss: 0.0501 - val_acc: 0.9907\n",
            "Epoch 192/500\n",
            "2/2 [==============================] - 0s 161ms/step - loss: 7.6108e-04 - acc: 1.0000 - val_loss: 0.0466 - val_acc: 0.9907\n",
            "Epoch 193/500\n",
            "2/2 [==============================] - 0s 165ms/step - loss: 8.3461e-04 - acc: 1.0000 - val_loss: 0.0481 - val_acc: 0.9907\n",
            "Epoch 194/500\n",
            "2/2 [==============================] - 0s 175ms/step - loss: 7.5843e-04 - acc: 1.0000 - val_loss: 0.0534 - val_acc: 0.9813\n",
            "Epoch 195/500\n",
            "2/2 [==============================] - 0s 166ms/step - loss: 8.3820e-04 - acc: 1.0000 - val_loss: 0.0467 - val_acc: 0.9907\n",
            "Epoch 196/500\n",
            "2/2 [==============================] - 0s 165ms/step - loss: 7.8815e-04 - acc: 1.0000 - val_loss: 0.0476 - val_acc: 0.9907\n",
            "Epoch 197/500\n",
            "2/2 [==============================] - 0s 164ms/step - loss: 7.5033e-04 - acc: 1.0000 - val_loss: 0.0520 - val_acc: 0.9813\n",
            "Epoch 198/500\n",
            "2/2 [==============================] - 0s 170ms/step - loss: 7.8484e-04 - acc: 1.0000 - val_loss: 0.0463 - val_acc: 0.9907\n",
            "Epoch 199/500\n",
            "2/2 [==============================] - 0s 166ms/step - loss: 7.0320e-04 - acc: 1.0000 - val_loss: 0.0483 - val_acc: 0.9907\n",
            "Epoch 200/500\n",
            "2/2 [==============================] - 0s 167ms/step - loss: 6.4533e-04 - acc: 1.0000 - val_loss: 0.0507 - val_acc: 0.9907\n",
            "Epoch 201/500\n",
            "2/2 [==============================] - 0s 167ms/step - loss: 6.6129e-04 - acc: 1.0000 - val_loss: 0.0457 - val_acc: 0.9907\n",
            "Epoch 202/500\n",
            "2/2 [==============================] - 0s 168ms/step - loss: 6.8917e-04 - acc: 1.0000 - val_loss: 0.0461 - val_acc: 0.9907\n",
            "Epoch 203/500\n",
            "2/2 [==============================] - 0s 163ms/step - loss: 6.6711e-04 - acc: 1.0000 - val_loss: 0.0525 - val_acc: 0.9813\n",
            "Epoch 204/500\n",
            "2/2 [==============================] - 0s 169ms/step - loss: 7.3155e-04 - acc: 1.0000 - val_loss: 0.0452 - val_acc: 0.9907\n",
            "Epoch 205/500\n",
            "2/2 [==============================] - 0s 164ms/step - loss: 6.5362e-04 - acc: 1.0000 - val_loss: 0.0464 - val_acc: 0.9907\n",
            "Epoch 206/500\n",
            "2/2 [==============================] - 0s 169ms/step - loss: 6.0694e-04 - acc: 1.0000 - val_loss: 0.0503 - val_acc: 0.9907\n",
            "Epoch 207/500\n",
            "2/2 [==============================] - 0s 171ms/step - loss: 5.8304e-04 - acc: 1.0000 - val_loss: 0.0455 - val_acc: 0.9907\n",
            "Epoch 208/500\n",
            "2/2 [==============================] - 0s 163ms/step - loss: 6.0960e-04 - acc: 1.0000 - val_loss: 0.0447 - val_acc: 0.9907\n",
            "Epoch 209/500\n",
            "2/2 [==============================] - 0s 162ms/step - loss: 5.9758e-04 - acc: 1.0000 - val_loss: 0.0498 - val_acc: 0.9907\n",
            "Epoch 210/500\n",
            "2/2 [==============================] - 0s 166ms/step - loss: 6.2665e-04 - acc: 1.0000 - val_loss: 0.0454 - val_acc: 0.9907\n",
            "Epoch 211/500\n",
            "2/2 [==============================] - 0s 164ms/step - loss: 5.6799e-04 - acc: 1.0000 - val_loss: 0.0449 - val_acc: 0.9907\n",
            "Epoch 212/500\n",
            "2/2 [==============================] - 0s 165ms/step - loss: 5.8836e-04 - acc: 1.0000 - val_loss: 0.0472 - val_acc: 0.9907\n",
            "Epoch 213/500\n",
            "2/2 [==============================] - 0s 167ms/step - loss: 5.5060e-04 - acc: 1.0000 - val_loss: 0.0475 - val_acc: 0.9907\n",
            "Epoch 214/500\n",
            "2/2 [==============================] - 0s 166ms/step - loss: 5.7802e-04 - acc: 1.0000 - val_loss: 0.0444 - val_acc: 0.9907\n",
            "Epoch 215/500\n",
            "2/2 [==============================] - 0s 174ms/step - loss: 5.3606e-04 - acc: 1.0000 - val_loss: 0.0465 - val_acc: 0.9907\n",
            "Epoch 216/500\n",
            "2/2 [==============================] - 0s 165ms/step - loss: 5.2322e-04 - acc: 1.0000 - val_loss: 0.0480 - val_acc: 0.9907\n",
            "Epoch 217/500\n",
            "2/2 [==============================] - 0s 162ms/step - loss: 5.0998e-04 - acc: 1.0000 - val_loss: 0.0443 - val_acc: 0.9907\n",
            "Epoch 218/500\n",
            "2/2 [==============================] - 0s 165ms/step - loss: 5.6912e-04 - acc: 1.0000 - val_loss: 0.0438 - val_acc: 0.9907\n",
            "Epoch 219/500\n",
            "2/2 [==============================] - 0s 167ms/step - loss: 5.1554e-04 - acc: 1.0000 - val_loss: 0.0512 - val_acc: 0.9813\n",
            "Epoch 220/500\n",
            "2/2 [==============================] - 0s 163ms/step - loss: 5.1153e-04 - acc: 1.0000 - val_loss: 0.0451 - val_acc: 0.9907\n",
            "Epoch 221/500\n",
            "2/2 [==============================] - 0s 167ms/step - loss: 5.0656e-04 - acc: 1.0000 - val_loss: 0.0428 - val_acc: 0.9907\n",
            "Epoch 222/500\n",
            "2/2 [==============================] - 0s 163ms/step - loss: 5.0525e-04 - acc: 1.0000 - val_loss: 0.0490 - val_acc: 0.9907\n",
            "Epoch 223/500\n",
            "2/2 [==============================] - 0s 164ms/step - loss: 4.9202e-04 - acc: 1.0000 - val_loss: 0.0472 - val_acc: 0.9907\n",
            "Epoch 224/500\n",
            "2/2 [==============================] - 0s 170ms/step - loss: 4.5545e-04 - acc: 1.0000 - val_loss: 0.0429 - val_acc: 0.9907\n",
            "Epoch 225/500\n",
            "2/2 [==============================] - 0s 170ms/step - loss: 4.9542e-04 - acc: 1.0000 - val_loss: 0.0450 - val_acc: 0.9907\n",
            "Epoch 226/500\n",
            "2/2 [==============================] - 0s 165ms/step - loss: 4.4107e-04 - acc: 1.0000 - val_loss: 0.0460 - val_acc: 0.9907\n",
            "Epoch 227/500\n",
            "2/2 [==============================] - 0s 164ms/step - loss: 4.3910e-04 - acc: 1.0000 - val_loss: 0.0439 - val_acc: 0.9907\n",
            "Epoch 228/500\n",
            "2/2 [==============================] - 0s 164ms/step - loss: 4.4837e-04 - acc: 1.0000 - val_loss: 0.0429 - val_acc: 0.9907\n",
            "Epoch 229/500\n",
            "2/2 [==============================] - 0s 164ms/step - loss: 4.2958e-04 - acc: 1.0000 - val_loss: 0.0451 - val_acc: 0.9907\n",
            "Epoch 230/500\n",
            "2/2 [==============================] - 0s 165ms/step - loss: 4.5628e-04 - acc: 1.0000 - val_loss: 0.0444 - val_acc: 0.9907\n",
            "Epoch 231/500\n",
            "2/2 [==============================] - 0s 170ms/step - loss: 4.2057e-04 - acc: 1.0000 - val_loss: 0.0431 - val_acc: 0.9907\n",
            "Epoch 232/500\n",
            "2/2 [==============================] - 0s 165ms/step - loss: 4.2337e-04 - acc: 1.0000 - val_loss: 0.0447 - val_acc: 0.9907\n",
            "Epoch 233/500\n",
            "2/2 [==============================] - 0s 163ms/step - loss: 3.9028e-04 - acc: 1.0000 - val_loss: 0.0441 - val_acc: 0.9907\n",
            "Epoch 234/500\n",
            "2/2 [==============================] - 0s 170ms/step - loss: 3.9463e-04 - acc: 1.0000 - val_loss: 0.0431 - val_acc: 0.9907\n",
            "Epoch 235/500\n",
            "2/2 [==============================] - 0s 169ms/step - loss: 4.1347e-04 - acc: 1.0000 - val_loss: 0.0439 - val_acc: 0.9907\n",
            "Epoch 236/500\n",
            "2/2 [==============================] - 0s 167ms/step - loss: 3.9293e-04 - acc: 1.0000 - val_loss: 0.0438 - val_acc: 0.9907\n",
            "Epoch 237/500\n",
            "2/2 [==============================] - 0s 165ms/step - loss: 3.7635e-04 - acc: 1.0000 - val_loss: 0.0433 - val_acc: 0.9907\n",
            "Epoch 238/500\n",
            "2/2 [==============================] - 0s 166ms/step - loss: 3.9659e-04 - acc: 1.0000 - val_loss: 0.0431 - val_acc: 0.9907\n",
            "Epoch 239/500\n",
            "2/2 [==============================] - 0s 166ms/step - loss: 3.6812e-04 - acc: 1.0000 - val_loss: 0.0441 - val_acc: 0.9907\n",
            "Epoch 240/500\n",
            "2/2 [==============================] - 0s 166ms/step - loss: 3.7807e-04 - acc: 1.0000 - val_loss: 0.0431 - val_acc: 0.9907\n",
            "Epoch 241/500\n",
            "2/2 [==============================] - 0s 162ms/step - loss: 3.6970e-04 - acc: 1.0000 - val_loss: 0.0424 - val_acc: 0.9907\n",
            "Epoch 242/500\n",
            "2/2 [==============================] - 0s 164ms/step - loss: 3.7757e-04 - acc: 1.0000 - val_loss: 0.0439 - val_acc: 0.9907\n",
            "Epoch 243/500\n",
            "2/2 [==============================] - 0s 164ms/step - loss: 3.8036e-04 - acc: 1.0000 - val_loss: 0.0420 - val_acc: 0.9907\n",
            "Epoch 244/500\n",
            "2/2 [==============================] - 0s 166ms/step - loss: 3.6465e-04 - acc: 1.0000 - val_loss: 0.0434 - val_acc: 0.9907\n",
            "Epoch 245/500\n",
            "2/2 [==============================] - 0s 168ms/step - loss: 3.4745e-04 - acc: 1.0000 - val_loss: 0.0439 - val_acc: 0.9907\n",
            "Epoch 246/500\n",
            "2/2 [==============================] - 0s 164ms/step - loss: 3.5641e-04 - acc: 1.0000 - val_loss: 0.0416 - val_acc: 0.9907\n",
            "Epoch 247/500\n",
            "2/2 [==============================] - 0s 167ms/step - loss: 3.5526e-04 - acc: 1.0000 - val_loss: 0.0431 - val_acc: 0.9907\n",
            "Epoch 248/500\n",
            "2/2 [==============================] - 0s 167ms/step - loss: 3.4447e-04 - acc: 1.0000 - val_loss: 0.0437 - val_acc: 0.9907\n",
            "Epoch 249/500\n",
            "2/2 [==============================] - 0s 166ms/step - loss: 3.1917e-04 - acc: 1.0000 - val_loss: 0.0419 - val_acc: 0.9907\n",
            "Epoch 250/500\n",
            "2/2 [==============================] - 0s 168ms/step - loss: 3.1859e-04 - acc: 1.0000 - val_loss: 0.0410 - val_acc: 0.9907\n",
            "Epoch 251/500\n",
            "2/2 [==============================] - 0s 163ms/step - loss: 2.9982e-04 - acc: 1.0000 - val_loss: 0.0433 - val_acc: 0.9907\n",
            "Epoch 252/500\n",
            "2/2 [==============================] - 0s 168ms/step - loss: 3.3328e-04 - acc: 1.0000 - val_loss: 0.0417 - val_acc: 0.9907\n",
            "Epoch 253/500\n",
            "2/2 [==============================] - 0s 170ms/step - loss: 3.0314e-04 - acc: 1.0000 - val_loss: 0.0425 - val_acc: 0.9907\n",
            "Epoch 254/500\n",
            "2/2 [==============================] - 0s 167ms/step - loss: 3.0963e-04 - acc: 1.0000 - val_loss: 0.0426 - val_acc: 0.9907\n",
            "Epoch 255/500\n",
            "2/2 [==============================] - 0s 165ms/step - loss: 2.9316e-04 - acc: 1.0000 - val_loss: 0.0405 - val_acc: 0.9907\n",
            "Epoch 256/500\n",
            "2/2 [==============================] - 0s 165ms/step - loss: 3.0904e-04 - acc: 1.0000 - val_loss: 0.0418 - val_acc: 0.9907\n",
            "Epoch 257/500\n",
            "2/2 [==============================] - 0s 171ms/step - loss: 2.9361e-04 - acc: 1.0000 - val_loss: 0.0432 - val_acc: 0.9907\n",
            "Epoch 258/500\n",
            "2/2 [==============================] - 0s 166ms/step - loss: 2.9896e-04 - acc: 1.0000 - val_loss: 0.0405 - val_acc: 0.9907\n",
            "Epoch 259/500\n",
            "2/2 [==============================] - 0s 172ms/step - loss: 3.1542e-04 - acc: 1.0000 - val_loss: 0.0411 - val_acc: 0.9907\n",
            "Epoch 260/500\n",
            "2/2 [==============================] - 0s 163ms/step - loss: 2.8006e-04 - acc: 1.0000 - val_loss: 0.0421 - val_acc: 0.9907\n",
            "Epoch 261/500\n",
            "2/2 [==============================] - 0s 171ms/step - loss: 2.7869e-04 - acc: 1.0000 - val_loss: 0.0421 - val_acc: 0.9907\n",
            "Epoch 262/500\n",
            "2/2 [==============================] - 0s 166ms/step - loss: 2.7266e-04 - acc: 1.0000 - val_loss: 0.0399 - val_acc: 0.9907\n",
            "Epoch 263/500\n",
            "2/2 [==============================] - 0s 167ms/step - loss: 3.0165e-04 - acc: 1.0000 - val_loss: 0.0414 - val_acc: 0.9907\n",
            "Epoch 264/500\n",
            "2/2 [==============================] - 0s 168ms/step - loss: 2.6589e-04 - acc: 1.0000 - val_loss: 0.0420 - val_acc: 0.9907\n",
            "Epoch 265/500\n",
            "2/2 [==============================] - 0s 169ms/step - loss: 2.8521e-04 - acc: 1.0000 - val_loss: 0.0406 - val_acc: 0.9907\n",
            "Epoch 266/500\n",
            "2/2 [==============================] - 0s 165ms/step - loss: 2.6431e-04 - acc: 1.0000 - val_loss: 0.0408 - val_acc: 0.9907\n",
            "Epoch 267/500\n",
            "2/2 [==============================] - 0s 165ms/step - loss: 2.6870e-04 - acc: 1.0000 - val_loss: 0.0430 - val_acc: 0.9907\n",
            "Epoch 268/500\n",
            "2/2 [==============================] - 0s 164ms/step - loss: 2.4768e-04 - acc: 1.0000 - val_loss: 0.0401 - val_acc: 0.9907\n",
            "Epoch 269/500\n",
            "2/2 [==============================] - 0s 167ms/step - loss: 2.6366e-04 - acc: 1.0000 - val_loss: 0.0390 - val_acc: 0.9907\n",
            "Epoch 270/500\n",
            "2/2 [==============================] - 0s 164ms/step - loss: 2.6242e-04 - acc: 1.0000 - val_loss: 0.0433 - val_acc: 0.9907\n",
            "Epoch 271/500\n",
            "2/2 [==============================] - 0s 169ms/step - loss: 2.6474e-04 - acc: 1.0000 - val_loss: 0.0432 - val_acc: 0.9907\n",
            "Epoch 272/500\n",
            "2/2 [==============================] - 0s 166ms/step - loss: 2.6713e-04 - acc: 1.0000 - val_loss: 0.0390 - val_acc: 0.9907\n",
            "Epoch 273/500\n",
            "2/2 [==============================] - 0s 173ms/step - loss: 2.5233e-04 - acc: 1.0000 - val_loss: 0.0392 - val_acc: 0.9907\n",
            "Epoch 274/500\n",
            "2/2 [==============================] - 0s 165ms/step - loss: 2.4832e-04 - acc: 1.0000 - val_loss: 0.0427 - val_acc: 0.9907\n",
            "Epoch 275/500\n",
            "2/2 [==============================] - 0s 165ms/step - loss: 2.3553e-04 - acc: 1.0000 - val_loss: 0.0408 - val_acc: 0.9907\n",
            "Epoch 276/500\n",
            "2/2 [==============================] - 0s 171ms/step - loss: 2.2750e-04 - acc: 1.0000 - val_loss: 0.0394 - val_acc: 0.9907\n",
            "Epoch 277/500\n",
            "2/2 [==============================] - 0s 167ms/step - loss: 2.4191e-04 - acc: 1.0000 - val_loss: 0.0392 - val_acc: 0.9907\n",
            "Epoch 278/500\n",
            "2/2 [==============================] - 0s 168ms/step - loss: 2.4224e-04 - acc: 1.0000 - val_loss: 0.0415 - val_acc: 0.9907\n",
            "Epoch 279/500\n",
            "2/2 [==============================] - 0s 169ms/step - loss: 2.3356e-04 - acc: 1.0000 - val_loss: 0.0413 - val_acc: 0.9907\n",
            "Epoch 280/500\n",
            "2/2 [==============================] - 0s 166ms/step - loss: 2.2952e-04 - acc: 1.0000 - val_loss: 0.0399 - val_acc: 0.9907\n",
            "Epoch 281/500\n",
            "2/2 [==============================] - 0s 171ms/step - loss: 2.3405e-04 - acc: 1.0000 - val_loss: 0.0387 - val_acc: 0.9907\n",
            "Epoch 282/500\n",
            "2/2 [==============================] - 0s 167ms/step - loss: 2.3467e-04 - acc: 1.0000 - val_loss: 0.0411 - val_acc: 0.9907\n",
            "Epoch 283/500\n",
            "2/2 [==============================] - 0s 169ms/step - loss: 2.2479e-04 - acc: 1.0000 - val_loss: 0.0407 - val_acc: 0.9907\n",
            "Epoch 284/500\n",
            "2/2 [==============================] - 0s 166ms/step - loss: 2.2285e-04 - acc: 1.0000 - val_loss: 0.0402 - val_acc: 0.9907\n",
            "Epoch 285/500\n",
            "2/2 [==============================] - 0s 168ms/step - loss: 2.1240e-04 - acc: 1.0000 - val_loss: 0.0392 - val_acc: 0.9907\n",
            "Epoch 286/500\n",
            "2/2 [==============================] - 0s 175ms/step - loss: 2.1762e-04 - acc: 1.0000 - val_loss: 0.0388 - val_acc: 0.9907\n",
            "Epoch 287/500\n",
            "2/2 [==============================] - 0s 164ms/step - loss: 2.2773e-04 - acc: 1.0000 - val_loss: 0.0398 - val_acc: 0.9907\n",
            "Epoch 288/500\n",
            "2/2 [==============================] - 0s 169ms/step - loss: 2.0677e-04 - acc: 1.0000 - val_loss: 0.0400 - val_acc: 0.9907\n",
            "Epoch 289/500\n",
            "2/2 [==============================] - 0s 165ms/step - loss: 2.2180e-04 - acc: 1.0000 - val_loss: 0.0389 - val_acc: 0.9907\n",
            "Epoch 290/500\n",
            "2/2 [==============================] - 0s 166ms/step - loss: 1.9755e-04 - acc: 1.0000 - val_loss: 0.0396 - val_acc: 0.9907\n",
            "Epoch 291/500\n",
            "2/2 [==============================] - 0s 167ms/step - loss: 2.0420e-04 - acc: 1.0000 - val_loss: 0.0397 - val_acc: 0.9907\n",
            "Epoch 292/500\n",
            "2/2 [==============================] - 0s 169ms/step - loss: 2.1015e-04 - acc: 1.0000 - val_loss: 0.0386 - val_acc: 0.9907\n",
            "Epoch 293/500\n",
            "2/2 [==============================] - 0s 168ms/step - loss: 1.8569e-04 - acc: 1.0000 - val_loss: 0.0399 - val_acc: 0.9907\n",
            "Epoch 294/500\n",
            "2/2 [==============================] - 0s 166ms/step - loss: 2.0158e-04 - acc: 1.0000 - val_loss: 0.0412 - val_acc: 0.9907\n",
            "Epoch 295/500\n",
            "2/2 [==============================] - 0s 167ms/step - loss: 2.0363e-04 - acc: 1.0000 - val_loss: 0.0387 - val_acc: 0.9907\n",
            "Epoch 296/500\n",
            "2/2 [==============================] - 0s 166ms/step - loss: 2.0703e-04 - acc: 1.0000 - val_loss: 0.0378 - val_acc: 0.9907\n",
            "Epoch 297/500\n",
            "2/2 [==============================] - 0s 165ms/step - loss: 1.9273e-04 - acc: 1.0000 - val_loss: 0.0403 - val_acc: 0.9907\n",
            "Epoch 298/500\n",
            "2/2 [==============================] - 0s 170ms/step - loss: 1.9734e-04 - acc: 1.0000 - val_loss: 0.0408 - val_acc: 0.9907\n",
            "Epoch 299/500\n",
            "2/2 [==============================] - 0s 167ms/step - loss: 2.0504e-04 - acc: 1.0000 - val_loss: 0.0373 - val_acc: 0.9907\n",
            "Epoch 300/500\n",
            "2/2 [==============================] - 0s 168ms/step - loss: 1.9222e-04 - acc: 1.0000 - val_loss: 0.0387 - val_acc: 0.9907\n",
            "Epoch 301/500\n",
            "2/2 [==============================] - 0s 167ms/step - loss: 1.8833e-04 - acc: 1.0000 - val_loss: 0.0420 - val_acc: 0.9907\n",
            "Epoch 302/500\n",
            "2/2 [==============================] - 0s 171ms/step - loss: 1.8409e-04 - acc: 1.0000 - val_loss: 0.0405 - val_acc: 0.9907\n",
            "Epoch 303/500\n",
            "2/2 [==============================] - 0s 166ms/step - loss: 1.8692e-04 - acc: 1.0000 - val_loss: 0.0370 - val_acc: 0.9907\n",
            "Epoch 304/500\n",
            "2/2 [==============================] - 0s 168ms/step - loss: 1.7998e-04 - acc: 1.0000 - val_loss: 0.0377 - val_acc: 0.9907\n",
            "Epoch 305/500\n",
            "2/2 [==============================] - 0s 165ms/step - loss: 1.7734e-04 - acc: 1.0000 - val_loss: 0.0423 - val_acc: 0.9907\n",
            "Epoch 306/500\n",
            "2/2 [==============================] - 0s 172ms/step - loss: 1.7613e-04 - acc: 1.0000 - val_loss: 0.0392 - val_acc: 0.9907\n",
            "Epoch 307/500\n",
            "2/2 [==============================] - 0s 166ms/step - loss: 1.7389e-04 - acc: 1.0000 - val_loss: 0.0368 - val_acc: 0.9907\n",
            "Epoch 308/500\n",
            "2/2 [==============================] - 0s 171ms/step - loss: 1.6992e-04 - acc: 1.0000 - val_loss: 0.0387 - val_acc: 0.9907\n",
            "Epoch 309/500\n",
            "2/2 [==============================] - 0s 166ms/step - loss: 1.6726e-04 - acc: 1.0000 - val_loss: 0.0408 - val_acc: 0.9907\n",
            "Epoch 310/500\n",
            "2/2 [==============================] - 0s 167ms/step - loss: 1.7540e-04 - acc: 1.0000 - val_loss: 0.0376 - val_acc: 0.9907\n",
            "Epoch 311/500\n",
            "2/2 [==============================] - 0s 173ms/step - loss: 1.7737e-04 - acc: 1.0000 - val_loss: 0.0376 - val_acc: 0.9907\n",
            "Epoch 312/500\n",
            "2/2 [==============================] - 0s 167ms/step - loss: 1.6781e-04 - acc: 1.0000 - val_loss: 0.0405 - val_acc: 0.9907\n",
            "Epoch 313/500\n",
            "2/2 [==============================] - 0s 179ms/step - loss: 1.6993e-04 - acc: 1.0000 - val_loss: 0.0387 - val_acc: 0.9907\n",
            "Epoch 314/500\n",
            "2/2 [==============================] - 0s 167ms/step - loss: 1.6172e-04 - acc: 1.0000 - val_loss: 0.0379 - val_acc: 0.9907\n",
            "Epoch 315/500\n",
            "2/2 [==============================] - 0s 167ms/step - loss: 1.6079e-04 - acc: 1.0000 - val_loss: 0.0383 - val_acc: 0.9907\n",
            "Epoch 316/500\n",
            "2/2 [==============================] - 0s 170ms/step - loss: 1.6501e-04 - acc: 1.0000 - val_loss: 0.0387 - val_acc: 0.9907\n",
            "Epoch 317/500\n",
            "2/2 [==============================] - 0s 174ms/step - loss: 1.5396e-04 - acc: 1.0000 - val_loss: 0.0385 - val_acc: 0.9907\n",
            "Epoch 318/500\n",
            "2/2 [==============================] - 0s 172ms/step - loss: 1.6850e-04 - acc: 1.0000 - val_loss: 0.0375 - val_acc: 0.9907\n",
            "Epoch 319/500\n",
            "2/2 [==============================] - 0s 168ms/step - loss: 1.6477e-04 - acc: 1.0000 - val_loss: 0.0377 - val_acc: 0.9907\n",
            "Epoch 320/500\n",
            "2/2 [==============================] - 0s 168ms/step - loss: 1.4370e-04 - acc: 1.0000 - val_loss: 0.0386 - val_acc: 0.9907\n",
            "Epoch 321/500\n",
            "2/2 [==============================] - 0s 179ms/step - loss: 1.5759e-04 - acc: 1.0000 - val_loss: 0.0383 - val_acc: 0.9907\n",
            "Epoch 322/500\n",
            "2/2 [==============================] - 0s 166ms/step - loss: 1.5786e-04 - acc: 1.0000 - val_loss: 0.0378 - val_acc: 0.9907\n",
            "Epoch 323/500\n",
            "2/2 [==============================] - 0s 171ms/step - loss: 1.5246e-04 - acc: 1.0000 - val_loss: 0.0374 - val_acc: 0.9907\n",
            "Epoch 324/500\n",
            "2/2 [==============================] - 0s 172ms/step - loss: 1.4933e-04 - acc: 1.0000 - val_loss: 0.0380 - val_acc: 0.9907\n",
            "Epoch 325/500\n",
            "2/2 [==============================] - 0s 172ms/step - loss: 1.5347e-04 - acc: 1.0000 - val_loss: 0.0386 - val_acc: 0.9907\n",
            "Epoch 326/500\n",
            "2/2 [==============================] - 0s 170ms/step - loss: 1.4902e-04 - acc: 1.0000 - val_loss: 0.0378 - val_acc: 0.9907\n",
            "Epoch 327/500\n",
            "2/2 [==============================] - 0s 169ms/step - loss: 1.4744e-04 - acc: 1.0000 - val_loss: 0.0373 - val_acc: 0.9907\n",
            "Epoch 328/500\n",
            "2/2 [==============================] - 0s 171ms/step - loss: 1.4238e-04 - acc: 1.0000 - val_loss: 0.0386 - val_acc: 0.9907\n",
            "Epoch 329/500\n",
            "2/2 [==============================] - 0s 173ms/step - loss: 1.4437e-04 - acc: 1.0000 - val_loss: 0.0387 - val_acc: 0.9907\n",
            "Epoch 330/500\n",
            "2/2 [==============================] - 0s 166ms/step - loss: 1.4005e-04 - acc: 1.0000 - val_loss: 0.0372 - val_acc: 0.9907\n",
            "Epoch 331/500\n",
            "2/2 [==============================] - 0s 167ms/step - loss: 1.5135e-04 - acc: 1.0000 - val_loss: 0.0365 - val_acc: 0.9907\n",
            "Epoch 332/500\n",
            "2/2 [==============================] - 0s 167ms/step - loss: 1.4320e-04 - acc: 1.0000 - val_loss: 0.0379 - val_acc: 0.9907\n",
            "Epoch 333/500\n",
            "2/2 [==============================] - 0s 176ms/step - loss: 1.3498e-04 - acc: 1.0000 - val_loss: 0.0397 - val_acc: 0.9907\n",
            "Epoch 334/500\n",
            "2/2 [==============================] - 0s 171ms/step - loss: 1.3396e-04 - acc: 1.0000 - val_loss: 0.0367 - val_acc: 0.9907\n",
            "Epoch 335/500\n",
            "2/2 [==============================] - 0s 168ms/step - loss: 1.4331e-04 - acc: 1.0000 - val_loss: 0.0372 - val_acc: 0.9907\n",
            "Epoch 336/500\n",
            "2/2 [==============================] - 0s 180ms/step - loss: 1.3691e-04 - acc: 1.0000 - val_loss: 0.0386 - val_acc: 0.9907\n",
            "Epoch 337/500\n",
            "2/2 [==============================] - 0s 173ms/step - loss: 1.3839e-04 - acc: 1.0000 - val_loss: 0.0381 - val_acc: 0.9907\n",
            "Epoch 338/500\n",
            "2/2 [==============================] - 0s 169ms/step - loss: 1.4063e-04 - acc: 1.0000 - val_loss: 0.0378 - val_acc: 0.9907\n",
            "Epoch 339/500\n",
            "2/2 [==============================] - 0s 169ms/step - loss: 1.3454e-04 - acc: 1.0000 - val_loss: 0.0379 - val_acc: 0.9907\n",
            "Epoch 340/500\n",
            "2/2 [==============================] - 0s 174ms/step - loss: 1.2914e-04 - acc: 1.0000 - val_loss: 0.0371 - val_acc: 0.9907\n",
            "Epoch 341/500\n",
            "2/2 [==============================] - 0s 170ms/step - loss: 1.3019e-04 - acc: 1.0000 - val_loss: 0.0367 - val_acc: 0.9907\n",
            "Epoch 342/500\n",
            "2/2 [==============================] - 0s 167ms/step - loss: 1.3728e-04 - acc: 1.0000 - val_loss: 0.0377 - val_acc: 0.9907\n",
            "Epoch 343/500\n",
            "2/2 [==============================] - 0s 171ms/step - loss: 1.3036e-04 - acc: 1.0000 - val_loss: 0.0384 - val_acc: 0.9907\n",
            "Epoch 344/500\n",
            "2/2 [==============================] - 0s 168ms/step - loss: 1.2834e-04 - acc: 1.0000 - val_loss: 0.0373 - val_acc: 0.9907\n",
            "Epoch 345/500\n",
            "2/2 [==============================] - 0s 169ms/step - loss: 1.2973e-04 - acc: 1.0000 - val_loss: 0.0361 - val_acc: 0.9907\n",
            "Epoch 346/500\n",
            "2/2 [==============================] - 0s 171ms/step - loss: 1.2369e-04 - acc: 1.0000 - val_loss: 0.0368 - val_acc: 0.9907\n",
            "Epoch 347/500\n",
            "2/2 [==============================] - 0s 173ms/step - loss: 1.3342e-04 - acc: 1.0000 - val_loss: 0.0381 - val_acc: 0.9907\n",
            "Epoch 348/500\n",
            "2/2 [==============================] - 0s 172ms/step - loss: 1.3506e-04 - acc: 1.0000 - val_loss: 0.0372 - val_acc: 0.9907\n",
            "Epoch 349/500\n",
            "2/2 [==============================] - 0s 172ms/step - loss: 1.2123e-04 - acc: 1.0000 - val_loss: 0.0372 - val_acc: 0.9907\n",
            "Epoch 350/500\n",
            "2/2 [==============================] - 0s 172ms/step - loss: 1.1423e-04 - acc: 1.0000 - val_loss: 0.0371 - val_acc: 0.9907\n",
            "Epoch 351/500\n",
            "2/2 [==============================] - 0s 168ms/step - loss: 1.1771e-04 - acc: 1.0000 - val_loss: 0.0367 - val_acc: 0.9907\n",
            "Epoch 352/500\n",
            "2/2 [==============================] - 0s 168ms/step - loss: 1.2028e-04 - acc: 1.0000 - val_loss: 0.0371 - val_acc: 0.9907\n",
            "Epoch 353/500\n",
            "2/2 [==============================] - 0s 172ms/step - loss: 1.1908e-04 - acc: 1.0000 - val_loss: 0.0372 - val_acc: 0.9907\n",
            "Epoch 354/500\n",
            "2/2 [==============================] - 0s 168ms/step - loss: 1.2362e-04 - acc: 1.0000 - val_loss: 0.0363 - val_acc: 0.9907\n",
            "Epoch 355/500\n",
            "2/2 [==============================] - 0s 173ms/step - loss: 1.1328e-04 - acc: 1.0000 - val_loss: 0.0374 - val_acc: 0.9907\n",
            "Epoch 356/500\n",
            "2/2 [==============================] - 0s 174ms/step - loss: 1.2080e-04 - acc: 1.0000 - val_loss: 0.0374 - val_acc: 0.9907\n",
            "Epoch 357/500\n",
            "2/2 [==============================] - 0s 177ms/step - loss: 1.1679e-04 - acc: 1.0000 - val_loss: 0.0371 - val_acc: 0.9907\n",
            "Epoch 358/500\n",
            "2/2 [==============================] - 0s 170ms/step - loss: 1.1183e-04 - acc: 1.0000 - val_loss: 0.0363 - val_acc: 0.9907\n",
            "Epoch 359/500\n",
            "2/2 [==============================] - 0s 171ms/step - loss: 1.1287e-04 - acc: 1.0000 - val_loss: 0.0370 - val_acc: 0.9907\n",
            "Epoch 360/500\n",
            "2/2 [==============================] - 0s 169ms/step - loss: 1.1659e-04 - acc: 1.0000 - val_loss: 0.0371 - val_acc: 0.9907\n",
            "Epoch 361/500\n",
            "2/2 [==============================] - 0s 172ms/step - loss: 1.1211e-04 - acc: 1.0000 - val_loss: 0.0373 - val_acc: 0.9907\n",
            "Epoch 362/500\n",
            "2/2 [==============================] - 0s 169ms/step - loss: 1.0767e-04 - acc: 1.0000 - val_loss: 0.0361 - val_acc: 0.9907\n",
            "Epoch 363/500\n",
            "2/2 [==============================] - 0s 177ms/step - loss: 1.1186e-04 - acc: 1.0000 - val_loss: 0.0365 - val_acc: 0.9907\n",
            "Epoch 364/500\n",
            "2/2 [==============================] - 0s 169ms/step - loss: 1.1066e-04 - acc: 1.0000 - val_loss: 0.0368 - val_acc: 0.9907\n",
            "Epoch 365/500\n",
            "2/2 [==============================] - 0s 174ms/step - loss: 1.0671e-04 - acc: 1.0000 - val_loss: 0.0372 - val_acc: 0.9907\n",
            "Epoch 366/500\n",
            "2/2 [==============================] - 0s 171ms/step - loss: 9.9874e-05 - acc: 1.0000 - val_loss: 0.0357 - val_acc: 0.9907\n",
            "Epoch 367/500\n",
            "2/2 [==============================] - 0s 172ms/step - loss: 1.0679e-04 - acc: 1.0000 - val_loss: 0.0368 - val_acc: 0.9907\n",
            "Epoch 368/500\n",
            "2/2 [==============================] - 0s 167ms/step - loss: 1.0498e-04 - acc: 1.0000 - val_loss: 0.0370 - val_acc: 0.9907\n",
            "Epoch 369/500\n",
            "2/2 [==============================] - 0s 170ms/step - loss: 1.0915e-04 - acc: 1.0000 - val_loss: 0.0357 - val_acc: 0.9907\n",
            "Epoch 370/500\n",
            "2/2 [==============================] - 0s 167ms/step - loss: 1.0542e-04 - acc: 1.0000 - val_loss: 0.0360 - val_acc: 0.9907\n",
            "Epoch 371/500\n",
            "2/2 [==============================] - 0s 176ms/step - loss: 9.7702e-05 - acc: 1.0000 - val_loss: 0.0363 - val_acc: 0.9907\n",
            "Epoch 372/500\n",
            "2/2 [==============================] - 0s 172ms/step - loss: 1.0394e-04 - acc: 1.0000 - val_loss: 0.0368 - val_acc: 0.9907\n",
            "Epoch 373/500\n",
            "2/2 [==============================] - 0s 167ms/step - loss: 9.4587e-05 - acc: 1.0000 - val_loss: 0.0369 - val_acc: 0.9907\n",
            "Epoch 374/500\n",
            "2/2 [==============================] - 0s 173ms/step - loss: 1.0188e-04 - acc: 1.0000 - val_loss: 0.0352 - val_acc: 0.9907\n",
            "Epoch 375/500\n",
            "2/2 [==============================] - 0s 171ms/step - loss: 1.0009e-04 - acc: 1.0000 - val_loss: 0.0364 - val_acc: 0.9907\n",
            "Epoch 376/500\n",
            "2/2 [==============================] - 0s 170ms/step - loss: 1.0113e-04 - acc: 1.0000 - val_loss: 0.0367 - val_acc: 0.9907\n",
            "Epoch 377/500\n",
            "2/2 [==============================] - 0s 175ms/step - loss: 1.0325e-04 - acc: 1.0000 - val_loss: 0.0364 - val_acc: 0.9907\n",
            "Epoch 378/500\n",
            "2/2 [==============================] - 0s 170ms/step - loss: 1.0334e-04 - acc: 1.0000 - val_loss: 0.0366 - val_acc: 0.9907\n",
            "Epoch 379/500\n",
            "2/2 [==============================] - 0s 175ms/step - loss: 9.6738e-05 - acc: 1.0000 - val_loss: 0.0362 - val_acc: 0.9907\n",
            "Epoch 380/500\n",
            "2/2 [==============================] - 0s 170ms/step - loss: 9.4572e-05 - acc: 1.0000 - val_loss: 0.0364 - val_acc: 0.9907\n",
            "Epoch 381/500\n",
            "2/2 [==============================] - 0s 173ms/step - loss: 9.5669e-05 - acc: 1.0000 - val_loss: 0.0368 - val_acc: 0.9907\n",
            "Epoch 382/500\n",
            "2/2 [==============================] - 0s 179ms/step - loss: 9.2384e-05 - acc: 1.0000 - val_loss: 0.0349 - val_acc: 0.9907\n",
            "Epoch 383/500\n",
            "2/2 [==============================] - 0s 170ms/step - loss: 9.7085e-05 - acc: 1.0000 - val_loss: 0.0358 - val_acc: 0.9907\n",
            "Epoch 384/500\n",
            "2/2 [==============================] - 0s 176ms/step - loss: 9.4317e-05 - acc: 1.0000 - val_loss: 0.0364 - val_acc: 0.9907\n",
            "Epoch 385/500\n",
            "2/2 [==============================] - 0s 170ms/step - loss: 9.4520e-05 - acc: 1.0000 - val_loss: 0.0366 - val_acc: 0.9907\n",
            "Epoch 386/500\n",
            "2/2 [==============================] - 0s 171ms/step - loss: 9.4873e-05 - acc: 1.0000 - val_loss: 0.0351 - val_acc: 0.9907\n",
            "Epoch 387/500\n",
            "2/2 [==============================] - 0s 177ms/step - loss: 9.3201e-05 - acc: 1.0000 - val_loss: 0.0364 - val_acc: 0.9907\n",
            "Epoch 388/500\n",
            "2/2 [==============================] - 0s 175ms/step - loss: 8.6831e-05 - acc: 1.0000 - val_loss: 0.0361 - val_acc: 0.9907\n",
            "Epoch 389/500\n",
            "2/2 [==============================] - 0s 172ms/step - loss: 8.8516e-05 - acc: 1.0000 - val_loss: 0.0353 - val_acc: 0.9907\n",
            "Epoch 390/500\n",
            "2/2 [==============================] - 0s 172ms/step - loss: 9.2341e-05 - acc: 1.0000 - val_loss: 0.0355 - val_acc: 0.9907\n",
            "Epoch 391/500\n",
            "2/2 [==============================] - 0s 174ms/step - loss: 8.7733e-05 - acc: 1.0000 - val_loss: 0.0352 - val_acc: 0.9907\n",
            "Epoch 392/500\n",
            "2/2 [==============================] - 0s 173ms/step - loss: 8.5693e-05 - acc: 1.0000 - val_loss: 0.0358 - val_acc: 0.9907\n",
            "Epoch 393/500\n",
            "2/2 [==============================] - 0s 175ms/step - loss: 8.4182e-05 - acc: 1.0000 - val_loss: 0.0353 - val_acc: 0.9907\n",
            "Epoch 394/500\n",
            "2/2 [==============================] - 0s 177ms/step - loss: 8.7194e-05 - acc: 1.0000 - val_loss: 0.0356 - val_acc: 0.9907\n",
            "Epoch 395/500\n",
            "2/2 [==============================] - 0s 172ms/step - loss: 8.7880e-05 - acc: 1.0000 - val_loss: 0.0352 - val_acc: 0.9907\n",
            "Epoch 396/500\n",
            "2/2 [==============================] - 0s 179ms/step - loss: 8.5914e-05 - acc: 1.0000 - val_loss: 0.0358 - val_acc: 0.9907\n",
            "Epoch 397/500\n",
            "2/2 [==============================] - 0s 176ms/step - loss: 8.7220e-05 - acc: 1.0000 - val_loss: 0.0362 - val_acc: 0.9907\n",
            "Epoch 398/500\n",
            "2/2 [==============================] - 0s 169ms/step - loss: 8.9201e-05 - acc: 1.0000 - val_loss: 0.0365 - val_acc: 0.9907\n",
            "Epoch 399/500\n",
            "2/2 [==============================] - 0s 171ms/step - loss: 8.1624e-05 - acc: 1.0000 - val_loss: 0.0351 - val_acc: 0.9907\n",
            "Epoch 400/500\n",
            "2/2 [==============================] - 0s 176ms/step - loss: 8.6253e-05 - acc: 1.0000 - val_loss: 0.0350 - val_acc: 0.9907\n",
            "Epoch 401/500\n",
            "2/2 [==============================] - 0s 170ms/step - loss: 8.3506e-05 - acc: 1.0000 - val_loss: 0.0362 - val_acc: 0.9907\n",
            "Epoch 402/500\n",
            "2/2 [==============================] - 0s 169ms/step - loss: 8.6949e-05 - acc: 1.0000 - val_loss: 0.0354 - val_acc: 0.9907\n",
            "Epoch 403/500\n",
            "2/2 [==============================] - 0s 174ms/step - loss: 7.8505e-05 - acc: 1.0000 - val_loss: 0.0348 - val_acc: 0.9907\n",
            "Epoch 404/500\n",
            "2/2 [==============================] - 0s 175ms/step - loss: 8.3220e-05 - acc: 1.0000 - val_loss: 0.0352 - val_acc: 0.9907\n",
            "Epoch 405/500\n",
            "2/2 [==============================] - 0s 176ms/step - loss: 8.2783e-05 - acc: 1.0000 - val_loss: 0.0351 - val_acc: 0.9907\n",
            "Epoch 406/500\n",
            "2/2 [==============================] - 0s 170ms/step - loss: 8.0996e-05 - acc: 1.0000 - val_loss: 0.0353 - val_acc: 0.9907\n",
            "Epoch 407/500\n",
            "2/2 [==============================] - 0s 171ms/step - loss: 8.0239e-05 - acc: 1.0000 - val_loss: 0.0352 - val_acc: 0.9907\n",
            "Epoch 408/500\n",
            "2/2 [==============================] - 0s 171ms/step - loss: 8.0897e-05 - acc: 1.0000 - val_loss: 0.0354 - val_acc: 0.9907\n",
            "Epoch 409/500\n",
            "2/2 [==============================] - 0s 172ms/step - loss: 8.2386e-05 - acc: 1.0000 - val_loss: 0.0355 - val_acc: 0.9907\n",
            "Epoch 410/500\n",
            "2/2 [==============================] - 0s 178ms/step - loss: 8.0285e-05 - acc: 1.0000 - val_loss: 0.0356 - val_acc: 0.9907\n",
            "Epoch 411/500\n",
            "2/2 [==============================] - 0s 172ms/step - loss: 8.1931e-05 - acc: 1.0000 - val_loss: 0.0350 - val_acc: 0.9907\n",
            "Epoch 412/500\n",
            "2/2 [==============================] - 0s 178ms/step - loss: 8.2327e-05 - acc: 1.0000 - val_loss: 0.0351 - val_acc: 0.9907\n",
            "Epoch 413/500\n",
            "2/2 [==============================] - 0s 177ms/step - loss: 7.6883e-05 - acc: 1.0000 - val_loss: 0.0356 - val_acc: 0.9907\n",
            "Epoch 414/500\n",
            "2/2 [==============================] - 0s 172ms/step - loss: 7.8022e-05 - acc: 1.0000 - val_loss: 0.0349 - val_acc: 0.9907\n",
            "Epoch 415/500\n",
            "2/2 [==============================] - 0s 178ms/step - loss: 7.5238e-05 - acc: 1.0000 - val_loss: 0.0352 - val_acc: 0.9907\n",
            "Epoch 416/500\n",
            "2/2 [==============================] - 0s 172ms/step - loss: 7.6964e-05 - acc: 1.0000 - val_loss: 0.0351 - val_acc: 0.9907\n",
            "Epoch 417/500\n",
            "2/2 [==============================] - 0s 179ms/step - loss: 7.3959e-05 - acc: 1.0000 - val_loss: 0.0347 - val_acc: 0.9907\n",
            "Epoch 418/500\n",
            "2/2 [==============================] - 0s 169ms/step - loss: 7.4379e-05 - acc: 1.0000 - val_loss: 0.0341 - val_acc: 0.9907\n",
            "Epoch 419/500\n",
            "2/2 [==============================] - 0s 173ms/step - loss: 7.4965e-05 - acc: 1.0000 - val_loss: 0.0352 - val_acc: 0.9907\n",
            "Epoch 420/500\n",
            "2/2 [==============================] - 0s 174ms/step - loss: 7.3092e-05 - acc: 1.0000 - val_loss: 0.0359 - val_acc: 0.9907\n",
            "Epoch 421/500\n",
            "2/2 [==============================] - 0s 168ms/step - loss: 7.4172e-05 - acc: 1.0000 - val_loss: 0.0354 - val_acc: 0.9907\n",
            "Epoch 422/500\n",
            "2/2 [==============================] - 0s 169ms/step - loss: 7.1821e-05 - acc: 1.0000 - val_loss: 0.0335 - val_acc: 0.9907\n",
            "Epoch 423/500\n",
            "2/2 [==============================] - 0s 172ms/step - loss: 7.1423e-05 - acc: 1.0000 - val_loss: 0.0354 - val_acc: 0.9907\n",
            "Epoch 424/500\n",
            "2/2 [==============================] - 0s 172ms/step - loss: 7.1225e-05 - acc: 1.0000 - val_loss: 0.0358 - val_acc: 0.9907\n",
            "Epoch 425/500\n",
            "2/2 [==============================] - 0s 173ms/step - loss: 7.2968e-05 - acc: 1.0000 - val_loss: 0.0346 - val_acc: 0.9907\n",
            "Epoch 426/500\n",
            "2/2 [==============================] - 0s 175ms/step - loss: 7.1056e-05 - acc: 1.0000 - val_loss: 0.0355 - val_acc: 0.9907\n",
            "Epoch 427/500\n",
            "2/2 [==============================] - 0s 176ms/step - loss: 7.0700e-05 - acc: 1.0000 - val_loss: 0.0351 - val_acc: 0.9907\n",
            "Epoch 428/500\n",
            "2/2 [==============================] - 0s 175ms/step - loss: 6.9916e-05 - acc: 1.0000 - val_loss: 0.0344 - val_acc: 0.9907\n",
            "Epoch 429/500\n",
            "2/2 [==============================] - 0s 168ms/step - loss: 7.0925e-05 - acc: 1.0000 - val_loss: 0.0358 - val_acc: 0.9907\n",
            "Epoch 430/500\n",
            "2/2 [==============================] - 0s 172ms/step - loss: 7.1096e-05 - acc: 1.0000 - val_loss: 0.0348 - val_acc: 0.9907\n",
            "Epoch 431/500\n",
            "2/2 [==============================] - 0s 174ms/step - loss: 7.0066e-05 - acc: 1.0000 - val_loss: 0.0350 - val_acc: 0.9907\n",
            "Epoch 432/500\n",
            "2/2 [==============================] - 0s 170ms/step - loss: 6.6851e-05 - acc: 1.0000 - val_loss: 0.0349 - val_acc: 0.9907\n",
            "Epoch 433/500\n",
            "2/2 [==============================] - 0s 173ms/step - loss: 6.5760e-05 - acc: 1.0000 - val_loss: 0.0347 - val_acc: 0.9907\n",
            "Epoch 434/500\n",
            "2/2 [==============================] - 0s 171ms/step - loss: 6.7413e-05 - acc: 1.0000 - val_loss: 0.0343 - val_acc: 0.9907\n",
            "Epoch 435/500\n",
            "2/2 [==============================] - 0s 172ms/step - loss: 6.6752e-05 - acc: 1.0000 - val_loss: 0.0341 - val_acc: 0.9907\n",
            "Epoch 436/500\n",
            "2/2 [==============================] - 0s 170ms/step - loss: 6.6063e-05 - acc: 1.0000 - val_loss: 0.0354 - val_acc: 0.9907\n",
            "Epoch 437/500\n",
            "2/2 [==============================] - 0s 174ms/step - loss: 6.5553e-05 - acc: 1.0000 - val_loss: 0.0347 - val_acc: 0.9907\n",
            "Epoch 438/500\n",
            "2/2 [==============================] - 0s 175ms/step - loss: 6.6412e-05 - acc: 1.0000 - val_loss: 0.0339 - val_acc: 0.9907\n",
            "Epoch 439/500\n",
            "2/2 [==============================] - 0s 181ms/step - loss: 6.4374e-05 - acc: 1.0000 - val_loss: 0.0345 - val_acc: 0.9907\n",
            "Epoch 440/500\n",
            "2/2 [==============================] - 0s 175ms/step - loss: 6.6116e-05 - acc: 1.0000 - val_loss: 0.0350 - val_acc: 0.9907\n",
            "Epoch 441/500\n",
            "2/2 [==============================] - 0s 171ms/step - loss: 6.0321e-05 - acc: 1.0000 - val_loss: 0.0351 - val_acc: 0.9907\n",
            "Epoch 442/500\n",
            "2/2 [==============================] - 0s 176ms/step - loss: 6.1052e-05 - acc: 1.0000 - val_loss: 0.0338 - val_acc: 0.9907\n",
            "Epoch 443/500\n",
            "2/2 [==============================] - 0s 174ms/step - loss: 6.6602e-05 - acc: 1.0000 - val_loss: 0.0335 - val_acc: 0.9907\n",
            "Epoch 444/500\n",
            "2/2 [==============================] - 0s 171ms/step - loss: 6.0065e-05 - acc: 1.0000 - val_loss: 0.0353 - val_acc: 0.9907\n",
            "Epoch 445/500\n",
            "2/2 [==============================] - 0s 174ms/step - loss: 6.5026e-05 - acc: 1.0000 - val_loss: 0.0350 - val_acc: 0.9907\n",
            "Epoch 446/500\n",
            "2/2 [==============================] - 0s 173ms/step - loss: 6.1378e-05 - acc: 1.0000 - val_loss: 0.0341 - val_acc: 0.9907\n",
            "Epoch 447/500\n",
            "2/2 [==============================] - 0s 176ms/step - loss: 6.3248e-05 - acc: 1.0000 - val_loss: 0.0340 - val_acc: 0.9907\n",
            "Epoch 448/500\n",
            "2/2 [==============================] - 0s 173ms/step - loss: 6.4274e-05 - acc: 1.0000 - val_loss: 0.0350 - val_acc: 0.9907\n",
            "Epoch 449/500\n",
            "2/2 [==============================] - 0s 170ms/step - loss: 6.4082e-05 - acc: 1.0000 - val_loss: 0.0348 - val_acc: 0.9907\n",
            "Epoch 450/500\n",
            "2/2 [==============================] - 0s 173ms/step - loss: 6.4341e-05 - acc: 1.0000 - val_loss: 0.0334 - val_acc: 0.9907\n",
            "Epoch 451/500\n",
            "2/2 [==============================] - 0s 173ms/step - loss: 6.1094e-05 - acc: 1.0000 - val_loss: 0.0335 - val_acc: 0.9907\n",
            "Epoch 452/500\n",
            "2/2 [==============================] - 0s 173ms/step - loss: 5.8961e-05 - acc: 1.0000 - val_loss: 0.0350 - val_acc: 0.9907\n",
            "Epoch 453/500\n",
            "2/2 [==============================] - 0s 176ms/step - loss: 6.1138e-05 - acc: 1.0000 - val_loss: 0.0356 - val_acc: 0.9907\n",
            "Epoch 454/500\n",
            "2/2 [==============================] - 0s 189ms/step - loss: 5.9993e-05 - acc: 1.0000 - val_loss: 0.0344 - val_acc: 0.9907\n",
            "Epoch 455/500\n",
            "2/2 [==============================] - 0s 171ms/step - loss: 5.8763e-05 - acc: 1.0000 - val_loss: 0.0335 - val_acc: 0.9907\n",
            "Epoch 456/500\n",
            "2/2 [==============================] - 0s 170ms/step - loss: 5.7833e-05 - acc: 1.0000 - val_loss: 0.0331 - val_acc: 0.9907\n",
            "Epoch 457/500\n",
            "2/2 [==============================] - 0s 170ms/step - loss: 6.0506e-05 - acc: 1.0000 - val_loss: 0.0343 - val_acc: 0.9907\n",
            "Epoch 458/500\n",
            "2/2 [==============================] - 0s 174ms/step - loss: 5.5817e-05 - acc: 1.0000 - val_loss: 0.0350 - val_acc: 0.9907\n",
            "Epoch 459/500\n",
            "2/2 [==============================] - 0s 172ms/step - loss: 5.7911e-05 - acc: 1.0000 - val_loss: 0.0344 - val_acc: 0.9907\n",
            "Epoch 460/500\n",
            "2/2 [==============================] - 0s 174ms/step - loss: 5.5583e-05 - acc: 1.0000 - val_loss: 0.0341 - val_acc: 0.9907\n",
            "Epoch 461/500\n",
            "2/2 [==============================] - 0s 173ms/step - loss: 5.9886e-05 - acc: 1.0000 - val_loss: 0.0332 - val_acc: 0.9907\n",
            "Epoch 462/500\n",
            "2/2 [==============================] - 0s 170ms/step - loss: 5.6370e-05 - acc: 1.0000 - val_loss: 0.0342 - val_acc: 0.9907\n",
            "Epoch 463/500\n",
            "2/2 [==============================] - 0s 179ms/step - loss: 5.7583e-05 - acc: 1.0000 - val_loss: 0.0352 - val_acc: 0.9907\n",
            "Epoch 464/500\n",
            "2/2 [==============================] - 0s 180ms/step - loss: 5.5551e-05 - acc: 1.0000 - val_loss: 0.0353 - val_acc: 0.9907\n",
            "Epoch 465/500\n",
            "2/2 [==============================] - 0s 175ms/step - loss: 5.6855e-05 - acc: 1.0000 - val_loss: 0.0335 - val_acc: 0.9907\n",
            "Epoch 466/500\n",
            "2/2 [==============================] - 0s 172ms/step - loss: 5.6412e-05 - acc: 1.0000 - val_loss: 0.0328 - val_acc: 0.9907\n",
            "Epoch 467/500\n",
            "2/2 [==============================] - 0s 171ms/step - loss: 5.6718e-05 - acc: 1.0000 - val_loss: 0.0341 - val_acc: 0.9907\n",
            "Epoch 468/500\n",
            "2/2 [==============================] - 0s 172ms/step - loss: 5.6510e-05 - acc: 1.0000 - val_loss: 0.0361 - val_acc: 0.9907\n",
            "Epoch 469/500\n",
            "2/2 [==============================] - 0s 173ms/step - loss: 5.7259e-05 - acc: 1.0000 - val_loss: 0.0350 - val_acc: 0.9907\n",
            "Epoch 470/500\n",
            "2/2 [==============================] - 0s 179ms/step - loss: 5.2464e-05 - acc: 1.0000 - val_loss: 0.0325 - val_acc: 0.9907\n",
            "Epoch 471/500\n",
            "2/2 [==============================] - 0s 181ms/step - loss: 5.5531e-05 - acc: 1.0000 - val_loss: 0.0330 - val_acc: 0.9907\n",
            "Epoch 472/500\n",
            "2/2 [==============================] - 0s 172ms/step - loss: 5.4233e-05 - acc: 1.0000 - val_loss: 0.0350 - val_acc: 0.9907\n",
            "Epoch 473/500\n",
            "2/2 [==============================] - 0s 173ms/step - loss: 5.2336e-05 - acc: 1.0000 - val_loss: 0.0343 - val_acc: 0.9907\n",
            "Epoch 474/500\n",
            "2/2 [==============================] - 0s 177ms/step - loss: 5.3427e-05 - acc: 1.0000 - val_loss: 0.0335 - val_acc: 0.9907\n",
            "Epoch 475/500\n",
            "2/2 [==============================] - 0s 183ms/step - loss: 5.1681e-05 - acc: 1.0000 - val_loss: 0.0337 - val_acc: 0.9907\n",
            "Epoch 476/500\n",
            "2/2 [==============================] - 0s 184ms/step - loss: 5.5189e-05 - acc: 1.0000 - val_loss: 0.0336 - val_acc: 0.9907\n",
            "Epoch 477/500\n",
            "2/2 [==============================] - 0s 176ms/step - loss: 5.3748e-05 - acc: 1.0000 - val_loss: 0.0342 - val_acc: 0.9907\n",
            "Epoch 478/500\n",
            "2/2 [==============================] - 0s 177ms/step - loss: 4.9965e-05 - acc: 1.0000 - val_loss: 0.0347 - val_acc: 0.9907\n",
            "Epoch 479/500\n",
            "2/2 [==============================] - 0s 179ms/step - loss: 5.2968e-05 - acc: 1.0000 - val_loss: 0.0340 - val_acc: 0.9907\n",
            "Epoch 480/500\n",
            "2/2 [==============================] - 0s 175ms/step - loss: 5.0559e-05 - acc: 1.0000 - val_loss: 0.0332 - val_acc: 0.9907\n",
            "Epoch 481/500\n",
            "2/2 [==============================] - 0s 179ms/step - loss: 5.3848e-05 - acc: 1.0000 - val_loss: 0.0342 - val_acc: 0.9907\n",
            "Epoch 482/500\n",
            "2/2 [==============================] - 0s 176ms/step - loss: 5.2621e-05 - acc: 1.0000 - val_loss: 0.0335 - val_acc: 0.9907\n",
            "Epoch 483/500\n",
            "2/2 [==============================] - 0s 185ms/step - loss: 5.2127e-05 - acc: 1.0000 - val_loss: 0.0348 - val_acc: 0.9907\n",
            "Epoch 484/500\n",
            "2/2 [==============================] - 0s 179ms/step - loss: 5.3589e-05 - acc: 1.0000 - val_loss: 0.0339 - val_acc: 0.9907\n",
            "Epoch 485/500\n",
            "2/2 [==============================] - 0s 178ms/step - loss: 4.8401e-05 - acc: 1.0000 - val_loss: 0.0341 - val_acc: 0.9907\n",
            "Epoch 486/500\n",
            "2/2 [==============================] - 0s 179ms/step - loss: 5.0804e-05 - acc: 1.0000 - val_loss: 0.0333 - val_acc: 0.9907\n",
            "Epoch 487/500\n",
            "2/2 [==============================] - 0s 176ms/step - loss: 5.3063e-05 - acc: 1.0000 - val_loss: 0.0336 - val_acc: 0.9907\n",
            "Epoch 488/500\n",
            "2/2 [==============================] - 0s 174ms/step - loss: 4.7913e-05 - acc: 1.0000 - val_loss: 0.0344 - val_acc: 0.9907\n",
            "Epoch 489/500\n",
            "2/2 [==============================] - 0s 183ms/step - loss: 4.9868e-05 - acc: 1.0000 - val_loss: 0.0345 - val_acc: 0.9907\n",
            "Epoch 490/500\n",
            "2/2 [==============================] - 0s 173ms/step - loss: 4.7807e-05 - acc: 1.0000 - val_loss: 0.0332 - val_acc: 0.9907\n",
            "Epoch 491/500\n",
            "2/2 [==============================] - 0s 175ms/step - loss: 5.2538e-05 - acc: 1.0000 - val_loss: 0.0323 - val_acc: 0.9907\n",
            "Epoch 492/500\n",
            "2/2 [==============================] - 0s 176ms/step - loss: 4.8838e-05 - acc: 1.0000 - val_loss: 0.0335 - val_acc: 0.9907\n",
            "Epoch 493/500\n",
            "2/2 [==============================] - 0s 182ms/step - loss: 4.9952e-05 - acc: 1.0000 - val_loss: 0.0355 - val_acc: 0.9907\n",
            "Epoch 494/500\n",
            "2/2 [==============================] - 0s 176ms/step - loss: 4.9242e-05 - acc: 1.0000 - val_loss: 0.0337 - val_acc: 0.9907\n",
            "Epoch 495/500\n",
            "2/2 [==============================] - 0s 181ms/step - loss: 4.6613e-05 - acc: 1.0000 - val_loss: 0.0329 - val_acc: 0.9907\n",
            "Epoch 496/500\n",
            "2/2 [==============================] - 0s 174ms/step - loss: 4.5373e-05 - acc: 1.0000 - val_loss: 0.0328 - val_acc: 0.9907\n",
            "Epoch 497/500\n",
            "2/2 [==============================] - 0s 179ms/step - loss: 4.7350e-05 - acc: 1.0000 - val_loss: 0.0337 - val_acc: 0.9907\n",
            "Epoch 498/500\n",
            "2/2 [==============================] - 0s 175ms/step - loss: 4.4310e-05 - acc: 1.0000 - val_loss: 0.0347 - val_acc: 0.9907\n",
            "Epoch 499/500\n",
            "2/2 [==============================] - 0s 178ms/step - loss: 4.5560e-05 - acc: 1.0000 - val_loss: 0.0339 - val_acc: 0.9907\n",
            "Epoch 500/500\n",
            "2/2 [==============================] - 0s 173ms/step - loss: 4.4697e-05 - acc: 1.0000 - val_loss: 0.0331 - val_acc: 0.9907\n"
          ],
          "name": "stdout"
        }
      ]
    },
    {
      "cell_type": "code",
      "metadata": {
        "id": "x2qzK4SJB5y9",
        "colab": {
          "base_uri": "https://localhost:8080/",
          "height": 241
        },
        "outputId": "a632eb58-4f9c-496b-d61c-2dbc77dde7a6"
      },
      "source": [
        "plt.figure(figsize =(5,3))\n",
        "plt.plot(history.history['acc'], marker='.', label='tune')\n",
        "plt.plot(history.history['val_acc'], marker='.', label='test')\n",
        "plt.title('Accuracy')\n",
        "plt.grid(True)\n",
        "plt.xlabel('epoch')\n",
        "plt.ylabel('accuracy')\n",
        "plt.legend(loc='best')\n",
        "plt.show()"
      ],
      "execution_count": 46,
      "outputs": [
        {
          "output_type": "display_data",
          "data": {
            "image/png": "[encoded data removed]",
            "text/plain": [
              "<Figure size 360x216 with 1 Axes>"
            ]
          },
          "metadata": {
            "tags": [],
            "needs_background": "light"
          }
        }
      ]
    },
    {
      "cell_type": "code",
      "metadata": {
        "id": "9oGBi22ZGy38"
      },
      "source": [
        ""
      ],
      "execution_count": null,
      "outputs": []
    }
  ]
}